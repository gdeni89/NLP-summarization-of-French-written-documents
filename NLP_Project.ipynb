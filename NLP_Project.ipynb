{
  "nbformat": 4,
  "nbformat_minor": 0,
  "metadata": {
    "colab": {
      "name": "NLP_Project.ipynb",
      "provenance": [],
      "collapsed_sections": [
        "s3hKJ3w-MUgc"
      ],
      "toc_visible": true
    },
    "kernelspec": {
      "name": "python3",
      "display_name": "Python 3"
    },
    "language_info": {
      "name": "python"
    },
    "widgets": {
      "application/vnd.jupyter.widget-state+json": {
        "72596a18a38441f5a10cdddc37e11026": {
          "model_module": "@jupyter-widgets/controls",
          "model_name": "HBoxModel",
          "model_module_version": "1.5.0",
          "state": {
            "_dom_classes": [],
            "_model_module": "@jupyter-widgets/controls",
            "_model_module_version": "1.5.0",
            "_model_name": "HBoxModel",
            "_view_count": null,
            "_view_module": "@jupyter-widgets/controls",
            "_view_module_version": "1.5.0",
            "_view_name": "HBoxView",
            "box_style": "",
            "children": [
              "IPY_MODEL_487632794e614f5885e78e1181413c80",
              "IPY_MODEL_52416aebe6724fa59a824658268a20d9",
              "IPY_MODEL_9afa58f097bb4a228467ad5bf665266e"
            ],
            "layout": "IPY_MODEL_13484771d70e49479918fb76be9277bf"
          }
        },
        "487632794e614f5885e78e1181413c80": {
          "model_module": "@jupyter-widgets/controls",
          "model_name": "HTMLModel",
          "model_module_version": "1.5.0",
          "state": {
            "_dom_classes": [],
            "_model_module": "@jupyter-widgets/controls",
            "_model_module_version": "1.5.0",
            "_model_name": "HTMLModel",
            "_view_count": null,
            "_view_module": "@jupyter-widgets/controls",
            "_view_module_version": "1.5.0",
            "_view_name": "HTMLView",
            "description": "",
            "description_tooltip": null,
            "layout": "IPY_MODEL_444a1bb874a24f0d9eb7cdcbd3314cce",
            "placeholder": "​",
            "style": "IPY_MODEL_2f39b88a510848fc90845865f65b822a",
            "value": "Downloading: 100%"
          }
        },
        "52416aebe6724fa59a824658268a20d9": {
          "model_module": "@jupyter-widgets/controls",
          "model_name": "FloatProgressModel",
          "model_module_version": "1.5.0",
          "state": {
            "_dom_classes": [],
            "_model_module": "@jupyter-widgets/controls",
            "_model_module_version": "1.5.0",
            "_model_name": "FloatProgressModel",
            "_view_count": null,
            "_view_module": "@jupyter-widgets/controls",
            "_view_module_version": "1.5.0",
            "_view_name": "ProgressView",
            "bar_style": "success",
            "description": "",
            "description_tooltip": null,
            "layout": "IPY_MODEL_8ceac9e1c41c43f4b21dccef6d6d58d7",
            "max": 492,
            "min": 0,
            "orientation": "horizontal",
            "style": "IPY_MODEL_e56c5a35125144a7a5c6fd5ffbfa350f",
            "value": 492
          }
        },
        "9afa58f097bb4a228467ad5bf665266e": {
          "model_module": "@jupyter-widgets/controls",
          "model_name": "HTMLModel",
          "model_module_version": "1.5.0",
          "state": {
            "_dom_classes": [],
            "_model_module": "@jupyter-widgets/controls",
            "_model_module_version": "1.5.0",
            "_model_name": "HTMLModel",
            "_view_count": null,
            "_view_module": "@jupyter-widgets/controls",
            "_view_module_version": "1.5.0",
            "_view_name": "HTMLView",
            "description": "",
            "description_tooltip": null,
            "layout": "IPY_MODEL_66b8dbdea7ba45cc8d4a96ad46c2b17e",
            "placeholder": "​",
            "style": "IPY_MODEL_2f8aa58096024636a21f5d02e9759dcb",
            "value": " 492/492 [00:00&lt;00:00, 3.44kB/s]"
          }
        },
        "13484771d70e49479918fb76be9277bf": {
          "model_module": "@jupyter-widgets/base",
          "model_name": "LayoutModel",
          "model_module_version": "1.2.0",
          "state": {
            "_model_module": "@jupyter-widgets/base",
            "_model_module_version": "1.2.0",
            "_model_name": "LayoutModel",
            "_view_count": null,
            "_view_module": "@jupyter-widgets/base",
            "_view_module_version": "1.2.0",
            "_view_name": "LayoutView",
            "align_content": null,
            "align_items": null,
            "align_self": null,
            "border": null,
            "bottom": null,
            "display": null,
            "flex": null,
            "flex_flow": null,
            "grid_area": null,
            "grid_auto_columns": null,
            "grid_auto_flow": null,
            "grid_auto_rows": null,
            "grid_column": null,
            "grid_gap": null,
            "grid_row": null,
            "grid_template_areas": null,
            "grid_template_columns": null,
            "grid_template_rows": null,
            "height": null,
            "justify_content": null,
            "justify_items": null,
            "left": null,
            "margin": null,
            "max_height": null,
            "max_width": null,
            "min_height": null,
            "min_width": null,
            "object_fit": null,
            "object_position": null,
            "order": null,
            "overflow": null,
            "overflow_x": null,
            "overflow_y": null,
            "padding": null,
            "right": null,
            "top": null,
            "visibility": null,
            "width": null
          }
        },
        "444a1bb874a24f0d9eb7cdcbd3314cce": {
          "model_module": "@jupyter-widgets/base",
          "model_name": "LayoutModel",
          "model_module_version": "1.2.0",
          "state": {
            "_model_module": "@jupyter-widgets/base",
            "_model_module_version": "1.2.0",
            "_model_name": "LayoutModel",
            "_view_count": null,
            "_view_module": "@jupyter-widgets/base",
            "_view_module_version": "1.2.0",
            "_view_name": "LayoutView",
            "align_content": null,
            "align_items": null,
            "align_self": null,
            "border": null,
            "bottom": null,
            "display": null,
            "flex": null,
            "flex_flow": null,
            "grid_area": null,
            "grid_auto_columns": null,
            "grid_auto_flow": null,
            "grid_auto_rows": null,
            "grid_column": null,
            "grid_gap": null,
            "grid_row": null,
            "grid_template_areas": null,
            "grid_template_columns": null,
            "grid_template_rows": null,
            "height": null,
            "justify_content": null,
            "justify_items": null,
            "left": null,
            "margin": null,
            "max_height": null,
            "max_width": null,
            "min_height": null,
            "min_width": null,
            "object_fit": null,
            "object_position": null,
            "order": null,
            "overflow": null,
            "overflow_x": null,
            "overflow_y": null,
            "padding": null,
            "right": null,
            "top": null,
            "visibility": null,
            "width": null
          }
        },
        "2f39b88a510848fc90845865f65b822a": {
          "model_module": "@jupyter-widgets/controls",
          "model_name": "DescriptionStyleModel",
          "model_module_version": "1.5.0",
          "state": {
            "_model_module": "@jupyter-widgets/controls",
            "_model_module_version": "1.5.0",
            "_model_name": "DescriptionStyleModel",
            "_view_count": null,
            "_view_module": "@jupyter-widgets/base",
            "_view_module_version": "1.2.0",
            "_view_name": "StyleView",
            "description_width": ""
          }
        },
        "8ceac9e1c41c43f4b21dccef6d6d58d7": {
          "model_module": "@jupyter-widgets/base",
          "model_name": "LayoutModel",
          "model_module_version": "1.2.0",
          "state": {
            "_model_module": "@jupyter-widgets/base",
            "_model_module_version": "1.2.0",
            "_model_name": "LayoutModel",
            "_view_count": null,
            "_view_module": "@jupyter-widgets/base",
            "_view_module_version": "1.2.0",
            "_view_name": "LayoutView",
            "align_content": null,
            "align_items": null,
            "align_self": null,
            "border": null,
            "bottom": null,
            "display": null,
            "flex": null,
            "flex_flow": null,
            "grid_area": null,
            "grid_auto_columns": null,
            "grid_auto_flow": null,
            "grid_auto_rows": null,
            "grid_column": null,
            "grid_gap": null,
            "grid_row": null,
            "grid_template_areas": null,
            "grid_template_columns": null,
            "grid_template_rows": null,
            "height": null,
            "justify_content": null,
            "justify_items": null,
            "left": null,
            "margin": null,
            "max_height": null,
            "max_width": null,
            "min_height": null,
            "min_width": null,
            "object_fit": null,
            "object_position": null,
            "order": null,
            "overflow": null,
            "overflow_x": null,
            "overflow_y": null,
            "padding": null,
            "right": null,
            "top": null,
            "visibility": null,
            "width": null
          }
        },
        "e56c5a35125144a7a5c6fd5ffbfa350f": {
          "model_module": "@jupyter-widgets/controls",
          "model_name": "ProgressStyleModel",
          "model_module_version": "1.5.0",
          "state": {
            "_model_module": "@jupyter-widgets/controls",
            "_model_module_version": "1.5.0",
            "_model_name": "ProgressStyleModel",
            "_view_count": null,
            "_view_module": "@jupyter-widgets/base",
            "_view_module_version": "1.2.0",
            "_view_name": "StyleView",
            "bar_color": null,
            "description_width": ""
          }
        },
        "66b8dbdea7ba45cc8d4a96ad46c2b17e": {
          "model_module": "@jupyter-widgets/base",
          "model_name": "LayoutModel",
          "model_module_version": "1.2.0",
          "state": {
            "_model_module": "@jupyter-widgets/base",
            "_model_module_version": "1.2.0",
            "_model_name": "LayoutModel",
            "_view_count": null,
            "_view_module": "@jupyter-widgets/base",
            "_view_module_version": "1.2.0",
            "_view_name": "LayoutView",
            "align_content": null,
            "align_items": null,
            "align_self": null,
            "border": null,
            "bottom": null,
            "display": null,
            "flex": null,
            "flex_flow": null,
            "grid_area": null,
            "grid_auto_columns": null,
            "grid_auto_flow": null,
            "grid_auto_rows": null,
            "grid_column": null,
            "grid_gap": null,
            "grid_row": null,
            "grid_template_areas": null,
            "grid_template_columns": null,
            "grid_template_rows": null,
            "height": null,
            "justify_content": null,
            "justify_items": null,
            "left": null,
            "margin": null,
            "max_height": null,
            "max_width": null,
            "min_height": null,
            "min_width": null,
            "object_fit": null,
            "object_position": null,
            "order": null,
            "overflow": null,
            "overflow_x": null,
            "overflow_y": null,
            "padding": null,
            "right": null,
            "top": null,
            "visibility": null,
            "width": null
          }
        },
        "2f8aa58096024636a21f5d02e9759dcb": {
          "model_module": "@jupyter-widgets/controls",
          "model_name": "DescriptionStyleModel",
          "model_module_version": "1.5.0",
          "state": {
            "_model_module": "@jupyter-widgets/controls",
            "_model_module_version": "1.5.0",
            "_model_name": "DescriptionStyleModel",
            "_view_count": null,
            "_view_module": "@jupyter-widgets/base",
            "_view_module_version": "1.2.0",
            "_view_name": "StyleView",
            "description_width": ""
          }
        },
        "6ab4346d461742e19251200ce95fe781": {
          "model_module": "@jupyter-widgets/controls",
          "model_name": "HBoxModel",
          "model_module_version": "1.5.0",
          "state": {
            "_dom_classes": [],
            "_model_module": "@jupyter-widgets/controls",
            "_model_module_version": "1.5.0",
            "_model_name": "HBoxModel",
            "_view_count": null,
            "_view_module": "@jupyter-widgets/controls",
            "_view_module_version": "1.5.0",
            "_view_name": "HBoxView",
            "box_style": "",
            "children": [
              "IPY_MODEL_522f70fcfdef490cab337b93b2b93255",
              "IPY_MODEL_ca119915107f43d59ae989b4503c3796",
              "IPY_MODEL_81b902eb896e4508b764cdfa3afc8601"
            ],
            "layout": "IPY_MODEL_f359103edb634542a0ed8b4d9318a1df"
          }
        },
        "522f70fcfdef490cab337b93b2b93255": {
          "model_module": "@jupyter-widgets/controls",
          "model_name": "HTMLModel",
          "model_module_version": "1.5.0",
          "state": {
            "_dom_classes": [],
            "_model_module": "@jupyter-widgets/controls",
            "_model_module_version": "1.5.0",
            "_model_name": "HTMLModel",
            "_view_count": null,
            "_view_module": "@jupyter-widgets/controls",
            "_view_module_version": "1.5.0",
            "_view_name": "HTMLView",
            "description": "",
            "description_tooltip": null,
            "layout": "IPY_MODEL_8caa488c76bb4a59a4e4ce79001d5db2",
            "placeholder": "​",
            "style": "IPY_MODEL_b5d6687f978a41cc941c389e442e252e",
            "value": "Downloading: 100%"
          }
        },
        "ca119915107f43d59ae989b4503c3796": {
          "model_module": "@jupyter-widgets/controls",
          "model_name": "FloatProgressModel",
          "model_module_version": "1.5.0",
          "state": {
            "_dom_classes": [],
            "_model_module": "@jupyter-widgets/controls",
            "_model_module_version": "1.5.0",
            "_model_name": "FloatProgressModel",
            "_view_count": null,
            "_view_module": "@jupyter-widgets/controls",
            "_view_module_version": "1.5.0",
            "_view_name": "ProgressView",
            "bar_style": "success",
            "description": "",
            "description_tooltip": null,
            "layout": "IPY_MODEL_e106247261514f7bba17bf27fdb12865",
            "max": 1312831,
            "min": 0,
            "orientation": "horizontal",
            "style": "IPY_MODEL_2645d1120b274822a7716b437a8ca255",
            "value": 1312831
          }
        },
        "81b902eb896e4508b764cdfa3afc8601": {
          "model_module": "@jupyter-widgets/controls",
          "model_name": "HTMLModel",
          "model_module_version": "1.5.0",
          "state": {
            "_dom_classes": [],
            "_model_module": "@jupyter-widgets/controls",
            "_model_module_version": "1.5.0",
            "_model_name": "HTMLModel",
            "_view_count": null,
            "_view_module": "@jupyter-widgets/controls",
            "_view_module_version": "1.5.0",
            "_view_name": "HTMLView",
            "description": "",
            "description_tooltip": null,
            "layout": "IPY_MODEL_12ce10520df0443499b08e9b1fd8ebaf",
            "placeholder": "​",
            "style": "IPY_MODEL_d7c996a8f5164d8fafeddf5c7fee454d",
            "value": " 1.25M/1.25M [00:00&lt;00:00, 3.64MB/s]"
          }
        },
        "f359103edb634542a0ed8b4d9318a1df": {
          "model_module": "@jupyter-widgets/base",
          "model_name": "LayoutModel",
          "model_module_version": "1.2.0",
          "state": {
            "_model_module": "@jupyter-widgets/base",
            "_model_module_version": "1.2.0",
            "_model_name": "LayoutModel",
            "_view_count": null,
            "_view_module": "@jupyter-widgets/base",
            "_view_module_version": "1.2.0",
            "_view_name": "LayoutView",
            "align_content": null,
            "align_items": null,
            "align_self": null,
            "border": null,
            "bottom": null,
            "display": null,
            "flex": null,
            "flex_flow": null,
            "grid_area": null,
            "grid_auto_columns": null,
            "grid_auto_flow": null,
            "grid_auto_rows": null,
            "grid_column": null,
            "grid_gap": null,
            "grid_row": null,
            "grid_template_areas": null,
            "grid_template_columns": null,
            "grid_template_rows": null,
            "height": null,
            "justify_content": null,
            "justify_items": null,
            "left": null,
            "margin": null,
            "max_height": null,
            "max_width": null,
            "min_height": null,
            "min_width": null,
            "object_fit": null,
            "object_position": null,
            "order": null,
            "overflow": null,
            "overflow_x": null,
            "overflow_y": null,
            "padding": null,
            "right": null,
            "top": null,
            "visibility": null,
            "width": null
          }
        },
        "8caa488c76bb4a59a4e4ce79001d5db2": {
          "model_module": "@jupyter-widgets/base",
          "model_name": "LayoutModel",
          "model_module_version": "1.2.0",
          "state": {
            "_model_module": "@jupyter-widgets/base",
            "_model_module_version": "1.2.0",
            "_model_name": "LayoutModel",
            "_view_count": null,
            "_view_module": "@jupyter-widgets/base",
            "_view_module_version": "1.2.0",
            "_view_name": "LayoutView",
            "align_content": null,
            "align_items": null,
            "align_self": null,
            "border": null,
            "bottom": null,
            "display": null,
            "flex": null,
            "flex_flow": null,
            "grid_area": null,
            "grid_auto_columns": null,
            "grid_auto_flow": null,
            "grid_auto_rows": null,
            "grid_column": null,
            "grid_gap": null,
            "grid_row": null,
            "grid_template_areas": null,
            "grid_template_columns": null,
            "grid_template_rows": null,
            "height": null,
            "justify_content": null,
            "justify_items": null,
            "left": null,
            "margin": null,
            "max_height": null,
            "max_width": null,
            "min_height": null,
            "min_width": null,
            "object_fit": null,
            "object_position": null,
            "order": null,
            "overflow": null,
            "overflow_x": null,
            "overflow_y": null,
            "padding": null,
            "right": null,
            "top": null,
            "visibility": null,
            "width": null
          }
        },
        "b5d6687f978a41cc941c389e442e252e": {
          "model_module": "@jupyter-widgets/controls",
          "model_name": "DescriptionStyleModel",
          "model_module_version": "1.5.0",
          "state": {
            "_model_module": "@jupyter-widgets/controls",
            "_model_module_version": "1.5.0",
            "_model_name": "DescriptionStyleModel",
            "_view_count": null,
            "_view_module": "@jupyter-widgets/base",
            "_view_module_version": "1.2.0",
            "_view_name": "StyleView",
            "description_width": ""
          }
        },
        "e106247261514f7bba17bf27fdb12865": {
          "model_module": "@jupyter-widgets/base",
          "model_name": "LayoutModel",
          "model_module_version": "1.2.0",
          "state": {
            "_model_module": "@jupyter-widgets/base",
            "_model_module_version": "1.2.0",
            "_model_name": "LayoutModel",
            "_view_count": null,
            "_view_module": "@jupyter-widgets/base",
            "_view_module_version": "1.2.0",
            "_view_name": "LayoutView",
            "align_content": null,
            "align_items": null,
            "align_self": null,
            "border": null,
            "bottom": null,
            "display": null,
            "flex": null,
            "flex_flow": null,
            "grid_area": null,
            "grid_auto_columns": null,
            "grid_auto_flow": null,
            "grid_auto_rows": null,
            "grid_column": null,
            "grid_gap": null,
            "grid_row": null,
            "grid_template_areas": null,
            "grid_template_columns": null,
            "grid_template_rows": null,
            "height": null,
            "justify_content": null,
            "justify_items": null,
            "left": null,
            "margin": null,
            "max_height": null,
            "max_width": null,
            "min_height": null,
            "min_width": null,
            "object_fit": null,
            "object_position": null,
            "order": null,
            "overflow": null,
            "overflow_x": null,
            "overflow_y": null,
            "padding": null,
            "right": null,
            "top": null,
            "visibility": null,
            "width": null
          }
        },
        "2645d1120b274822a7716b437a8ca255": {
          "model_module": "@jupyter-widgets/controls",
          "model_name": "ProgressStyleModel",
          "model_module_version": "1.5.0",
          "state": {
            "_model_module": "@jupyter-widgets/controls",
            "_model_module_version": "1.5.0",
            "_model_name": "ProgressStyleModel",
            "_view_count": null,
            "_view_module": "@jupyter-widgets/base",
            "_view_module_version": "1.2.0",
            "_view_name": "StyleView",
            "bar_color": null,
            "description_width": ""
          }
        },
        "12ce10520df0443499b08e9b1fd8ebaf": {
          "model_module": "@jupyter-widgets/base",
          "model_name": "LayoutModel",
          "model_module_version": "1.2.0",
          "state": {
            "_model_module": "@jupyter-widgets/base",
            "_model_module_version": "1.2.0",
            "_model_name": "LayoutModel",
            "_view_count": null,
            "_view_module": "@jupyter-widgets/base",
            "_view_module_version": "1.2.0",
            "_view_name": "LayoutView",
            "align_content": null,
            "align_items": null,
            "align_self": null,
            "border": null,
            "bottom": null,
            "display": null,
            "flex": null,
            "flex_flow": null,
            "grid_area": null,
            "grid_auto_columns": null,
            "grid_auto_flow": null,
            "grid_auto_rows": null,
            "grid_column": null,
            "grid_gap": null,
            "grid_row": null,
            "grid_template_areas": null,
            "grid_template_columns": null,
            "grid_template_rows": null,
            "height": null,
            "justify_content": null,
            "justify_items": null,
            "left": null,
            "margin": null,
            "max_height": null,
            "max_width": null,
            "min_height": null,
            "min_width": null,
            "object_fit": null,
            "object_position": null,
            "order": null,
            "overflow": null,
            "overflow_x": null,
            "overflow_y": null,
            "padding": null,
            "right": null,
            "top": null,
            "visibility": null,
            "width": null
          }
        },
        "d7c996a8f5164d8fafeddf5c7fee454d": {
          "model_module": "@jupyter-widgets/controls",
          "model_name": "DescriptionStyleModel",
          "model_module_version": "1.5.0",
          "state": {
            "_model_module": "@jupyter-widgets/controls",
            "_model_module_version": "1.5.0",
            "_model_name": "DescriptionStyleModel",
            "_view_count": null,
            "_view_module": "@jupyter-widgets/base",
            "_view_module_version": "1.2.0",
            "_view_name": "StyleView",
            "description_width": ""
          }
        },
        "53001caa529041409f26476480a3a098": {
          "model_module": "@jupyter-widgets/controls",
          "model_name": "HBoxModel",
          "model_module_version": "1.5.0",
          "state": {
            "_dom_classes": [],
            "_model_module": "@jupyter-widgets/controls",
            "_model_module_version": "1.5.0",
            "_model_name": "HBoxModel",
            "_view_count": null,
            "_view_module": "@jupyter-widgets/controls",
            "_view_module_version": "1.5.0",
            "_view_name": "HBoxView",
            "box_style": "",
            "children": [
              "IPY_MODEL_9c592784a031447e9e1347ae29f35f0f",
              "IPY_MODEL_68bcf9e825934691943574f9957a3ac4",
              "IPY_MODEL_88c46c7f1be84e158ae74defc3440cf6"
            ],
            "layout": "IPY_MODEL_e7b3e40667cb420db84605c45cec219d"
          }
        },
        "9c592784a031447e9e1347ae29f35f0f": {
          "model_module": "@jupyter-widgets/controls",
          "model_name": "HTMLModel",
          "model_module_version": "1.5.0",
          "state": {
            "_dom_classes": [],
            "_model_module": "@jupyter-widgets/controls",
            "_model_module_version": "1.5.0",
            "_model_name": "HTMLModel",
            "_view_count": null,
            "_view_module": "@jupyter-widgets/controls",
            "_view_module_version": "1.5.0",
            "_view_name": "HTMLView",
            "description": "",
            "description_tooltip": null,
            "layout": "IPY_MODEL_7b3008b9a5ed4e8684d54dc246ab3485",
            "placeholder": "​",
            "style": "IPY_MODEL_9742ee6ab40842f2a3dc56bade69af51",
            "value": "Downloading: 100%"
          }
        },
        "68bcf9e825934691943574f9957a3ac4": {
          "model_module": "@jupyter-widgets/controls",
          "model_name": "FloatProgressModel",
          "model_module_version": "1.5.0",
          "state": {
            "_dom_classes": [],
            "_model_module": "@jupyter-widgets/controls",
            "_model_module_version": "1.5.0",
            "_model_name": "FloatProgressModel",
            "_view_count": null,
            "_view_module": "@jupyter-widgets/controls",
            "_view_module_version": "1.5.0",
            "_view_name": "ProgressView",
            "bar_style": "success",
            "description": "",
            "description_tooltip": null,
            "layout": "IPY_MODEL_316aeaf0b65f4d7697f7d9efbb753329",
            "max": 574298,
            "min": 0,
            "orientation": "horizontal",
            "style": "IPY_MODEL_e33b629b202442718e593e30ac48e937",
            "value": 574298
          }
        },
        "88c46c7f1be84e158ae74defc3440cf6": {
          "model_module": "@jupyter-widgets/controls",
          "model_name": "HTMLModel",
          "model_module_version": "1.5.0",
          "state": {
            "_dom_classes": [],
            "_model_module": "@jupyter-widgets/controls",
            "_model_module_version": "1.5.0",
            "_model_name": "HTMLModel",
            "_view_count": null,
            "_view_module": "@jupyter-widgets/controls",
            "_view_module_version": "1.5.0",
            "_view_name": "HTMLView",
            "description": "",
            "description_tooltip": null,
            "layout": "IPY_MODEL_966a52f207054d04a002c12898f9ce52",
            "placeholder": "​",
            "style": "IPY_MODEL_da14f65051dd493cbfc2cbfb946b9a2d",
            "value": " 561k/561k [00:00&lt;00:00, 968kB/s]"
          }
        },
        "e7b3e40667cb420db84605c45cec219d": {
          "model_module": "@jupyter-widgets/base",
          "model_name": "LayoutModel",
          "model_module_version": "1.2.0",
          "state": {
            "_model_module": "@jupyter-widgets/base",
            "_model_module_version": "1.2.0",
            "_model_name": "LayoutModel",
            "_view_count": null,
            "_view_module": "@jupyter-widgets/base",
            "_view_module_version": "1.2.0",
            "_view_name": "LayoutView",
            "align_content": null,
            "align_items": null,
            "align_self": null,
            "border": null,
            "bottom": null,
            "display": null,
            "flex": null,
            "flex_flow": null,
            "grid_area": null,
            "grid_auto_columns": null,
            "grid_auto_flow": null,
            "grid_auto_rows": null,
            "grid_column": null,
            "grid_gap": null,
            "grid_row": null,
            "grid_template_areas": null,
            "grid_template_columns": null,
            "grid_template_rows": null,
            "height": null,
            "justify_content": null,
            "justify_items": null,
            "left": null,
            "margin": null,
            "max_height": null,
            "max_width": null,
            "min_height": null,
            "min_width": null,
            "object_fit": null,
            "object_position": null,
            "order": null,
            "overflow": null,
            "overflow_x": null,
            "overflow_y": null,
            "padding": null,
            "right": null,
            "top": null,
            "visibility": null,
            "width": null
          }
        },
        "7b3008b9a5ed4e8684d54dc246ab3485": {
          "model_module": "@jupyter-widgets/base",
          "model_name": "LayoutModel",
          "model_module_version": "1.2.0",
          "state": {
            "_model_module": "@jupyter-widgets/base",
            "_model_module_version": "1.2.0",
            "_model_name": "LayoutModel",
            "_view_count": null,
            "_view_module": "@jupyter-widgets/base",
            "_view_module_version": "1.2.0",
            "_view_name": "LayoutView",
            "align_content": null,
            "align_items": null,
            "align_self": null,
            "border": null,
            "bottom": null,
            "display": null,
            "flex": null,
            "flex_flow": null,
            "grid_area": null,
            "grid_auto_columns": null,
            "grid_auto_flow": null,
            "grid_auto_rows": null,
            "grid_column": null,
            "grid_gap": null,
            "grid_row": null,
            "grid_template_areas": null,
            "grid_template_columns": null,
            "grid_template_rows": null,
            "height": null,
            "justify_content": null,
            "justify_items": null,
            "left": null,
            "margin": null,
            "max_height": null,
            "max_width": null,
            "min_height": null,
            "min_width": null,
            "object_fit": null,
            "object_position": null,
            "order": null,
            "overflow": null,
            "overflow_x": null,
            "overflow_y": null,
            "padding": null,
            "right": null,
            "top": null,
            "visibility": null,
            "width": null
          }
        },
        "9742ee6ab40842f2a3dc56bade69af51": {
          "model_module": "@jupyter-widgets/controls",
          "model_name": "DescriptionStyleModel",
          "model_module_version": "1.5.0",
          "state": {
            "_model_module": "@jupyter-widgets/controls",
            "_model_module_version": "1.5.0",
            "_model_name": "DescriptionStyleModel",
            "_view_count": null,
            "_view_module": "@jupyter-widgets/base",
            "_view_module_version": "1.2.0",
            "_view_name": "StyleView",
            "description_width": ""
          }
        },
        "316aeaf0b65f4d7697f7d9efbb753329": {
          "model_module": "@jupyter-widgets/base",
          "model_name": "LayoutModel",
          "model_module_version": "1.2.0",
          "state": {
            "_model_module": "@jupyter-widgets/base",
            "_model_module_version": "1.2.0",
            "_model_name": "LayoutModel",
            "_view_count": null,
            "_view_module": "@jupyter-widgets/base",
            "_view_module_version": "1.2.0",
            "_view_name": "LayoutView",
            "align_content": null,
            "align_items": null,
            "align_self": null,
            "border": null,
            "bottom": null,
            "display": null,
            "flex": null,
            "flex_flow": null,
            "grid_area": null,
            "grid_auto_columns": null,
            "grid_auto_flow": null,
            "grid_auto_rows": null,
            "grid_column": null,
            "grid_gap": null,
            "grid_row": null,
            "grid_template_areas": null,
            "grid_template_columns": null,
            "grid_template_rows": null,
            "height": null,
            "justify_content": null,
            "justify_items": null,
            "left": null,
            "margin": null,
            "max_height": null,
            "max_width": null,
            "min_height": null,
            "min_width": null,
            "object_fit": null,
            "object_position": null,
            "order": null,
            "overflow": null,
            "overflow_x": null,
            "overflow_y": null,
            "padding": null,
            "right": null,
            "top": null,
            "visibility": null,
            "width": null
          }
        },
        "e33b629b202442718e593e30ac48e937": {
          "model_module": "@jupyter-widgets/controls",
          "model_name": "ProgressStyleModel",
          "model_module_version": "1.5.0",
          "state": {
            "_model_module": "@jupyter-widgets/controls",
            "_model_module_version": "1.5.0",
            "_model_name": "ProgressStyleModel",
            "_view_count": null,
            "_view_module": "@jupyter-widgets/base",
            "_view_module_version": "1.2.0",
            "_view_name": "StyleView",
            "bar_color": null,
            "description_width": ""
          }
        },
        "966a52f207054d04a002c12898f9ce52": {
          "model_module": "@jupyter-widgets/base",
          "model_name": "LayoutModel",
          "model_module_version": "1.2.0",
          "state": {
            "_model_module": "@jupyter-widgets/base",
            "_model_module_version": "1.2.0",
            "_model_name": "LayoutModel",
            "_view_count": null,
            "_view_module": "@jupyter-widgets/base",
            "_view_module_version": "1.2.0",
            "_view_name": "LayoutView",
            "align_content": null,
            "align_items": null,
            "align_self": null,
            "border": null,
            "bottom": null,
            "display": null,
            "flex": null,
            "flex_flow": null,
            "grid_area": null,
            "grid_auto_columns": null,
            "grid_auto_flow": null,
            "grid_auto_rows": null,
            "grid_column": null,
            "grid_gap": null,
            "grid_row": null,
            "grid_template_areas": null,
            "grid_template_columns": null,
            "grid_template_rows": null,
            "height": null,
            "justify_content": null,
            "justify_items": null,
            "left": null,
            "margin": null,
            "max_height": null,
            "max_width": null,
            "min_height": null,
            "min_width": null,
            "object_fit": null,
            "object_position": null,
            "order": null,
            "overflow": null,
            "overflow_x": null,
            "overflow_y": null,
            "padding": null,
            "right": null,
            "top": null,
            "visibility": null,
            "width": null
          }
        },
        "da14f65051dd493cbfc2cbfb946b9a2d": {
          "model_module": "@jupyter-widgets/controls",
          "model_name": "DescriptionStyleModel",
          "model_module_version": "1.5.0",
          "state": {
            "_model_module": "@jupyter-widgets/controls",
            "_model_module_version": "1.5.0",
            "_model_name": "DescriptionStyleModel",
            "_view_count": null,
            "_view_module": "@jupyter-widgets/base",
            "_view_module_version": "1.2.0",
            "_view_name": "StyleView",
            "description_width": ""
          }
        },
        "ca74a47e723447deadd9776b48a63ba8": {
          "model_module": "@jupyter-widgets/controls",
          "model_name": "HBoxModel",
          "model_module_version": "1.5.0",
          "state": {
            "_dom_classes": [],
            "_model_module": "@jupyter-widgets/controls",
            "_model_module_version": "1.5.0",
            "_model_name": "HBoxModel",
            "_view_count": null,
            "_view_module": "@jupyter-widgets/controls",
            "_view_module_version": "1.5.0",
            "_view_name": "HBoxView",
            "box_style": "",
            "children": [
              "IPY_MODEL_897aff3ce564460181cf398615adfd9f",
              "IPY_MODEL_bbf757f012bc443dabcd808a8e632858",
              "IPY_MODEL_386d7d2a64fd4e1c95ac9124a85f0a70"
            ],
            "layout": "IPY_MODEL_4ea79219fa88416ab05a5d6dfc5f5d0a"
          }
        },
        "897aff3ce564460181cf398615adfd9f": {
          "model_module": "@jupyter-widgets/controls",
          "model_name": "HTMLModel",
          "model_module_version": "1.5.0",
          "state": {
            "_dom_classes": [],
            "_model_module": "@jupyter-widgets/controls",
            "_model_module_version": "1.5.0",
            "_model_name": "HTMLModel",
            "_view_count": null,
            "_view_module": "@jupyter-widgets/controls",
            "_view_module_version": "1.5.0",
            "_view_name": "HTMLView",
            "description": "",
            "description_tooltip": null,
            "layout": "IPY_MODEL_f40b3d451029410ab8fd27e45bfd7d42",
            "placeholder": "​",
            "style": "IPY_MODEL_9dc05e084db24a0fb85a3751b1d33efb",
            "value": "Downloading: 100%"
          }
        },
        "bbf757f012bc443dabcd808a8e632858": {
          "model_module": "@jupyter-widgets/controls",
          "model_name": "FloatProgressModel",
          "model_module_version": "1.5.0",
          "state": {
            "_dom_classes": [],
            "_model_module": "@jupyter-widgets/controls",
            "_model_module_version": "1.5.0",
            "_model_name": "FloatProgressModel",
            "_view_count": null,
            "_view_module": "@jupyter-widgets/controls",
            "_view_module_version": "1.5.0",
            "_view_name": "ProgressView",
            "bar_style": "success",
            "description": "",
            "description_tooltip": null,
            "layout": "IPY_MODEL_96a8aa4aa361449fad5b3a2b52adef75",
            "max": 305,
            "min": 0,
            "orientation": "horizontal",
            "style": "IPY_MODEL_017632aa6a95405897366c6b8796aa11",
            "value": 305
          }
        },
        "386d7d2a64fd4e1c95ac9124a85f0a70": {
          "model_module": "@jupyter-widgets/controls",
          "model_name": "HTMLModel",
          "model_module_version": "1.5.0",
          "state": {
            "_dom_classes": [],
            "_model_module": "@jupyter-widgets/controls",
            "_model_module_version": "1.5.0",
            "_model_name": "HTMLModel",
            "_view_count": null,
            "_view_module": "@jupyter-widgets/controls",
            "_view_module_version": "1.5.0",
            "_view_name": "HTMLView",
            "description": "",
            "description_tooltip": null,
            "layout": "IPY_MODEL_c3c8181d77bd4d6fab67bc2c742ae2c7",
            "placeholder": "​",
            "style": "IPY_MODEL_d06bdc68c48447c78822f6036fd5bb2d",
            "value": " 305/305 [00:00&lt;00:00, 2.30kB/s]"
          }
        },
        "4ea79219fa88416ab05a5d6dfc5f5d0a": {
          "model_module": "@jupyter-widgets/base",
          "model_name": "LayoutModel",
          "model_module_version": "1.2.0",
          "state": {
            "_model_module": "@jupyter-widgets/base",
            "_model_module_version": "1.2.0",
            "_model_name": "LayoutModel",
            "_view_count": null,
            "_view_module": "@jupyter-widgets/base",
            "_view_module_version": "1.2.0",
            "_view_name": "LayoutView",
            "align_content": null,
            "align_items": null,
            "align_self": null,
            "border": null,
            "bottom": null,
            "display": null,
            "flex": null,
            "flex_flow": null,
            "grid_area": null,
            "grid_auto_columns": null,
            "grid_auto_flow": null,
            "grid_auto_rows": null,
            "grid_column": null,
            "grid_gap": null,
            "grid_row": null,
            "grid_template_areas": null,
            "grid_template_columns": null,
            "grid_template_rows": null,
            "height": null,
            "justify_content": null,
            "justify_items": null,
            "left": null,
            "margin": null,
            "max_height": null,
            "max_width": null,
            "min_height": null,
            "min_width": null,
            "object_fit": null,
            "object_position": null,
            "order": null,
            "overflow": null,
            "overflow_x": null,
            "overflow_y": null,
            "padding": null,
            "right": null,
            "top": null,
            "visibility": null,
            "width": null
          }
        },
        "f40b3d451029410ab8fd27e45bfd7d42": {
          "model_module": "@jupyter-widgets/base",
          "model_name": "LayoutModel",
          "model_module_version": "1.2.0",
          "state": {
            "_model_module": "@jupyter-widgets/base",
            "_model_module_version": "1.2.0",
            "_model_name": "LayoutModel",
            "_view_count": null,
            "_view_module": "@jupyter-widgets/base",
            "_view_module_version": "1.2.0",
            "_view_name": "LayoutView",
            "align_content": null,
            "align_items": null,
            "align_self": null,
            "border": null,
            "bottom": null,
            "display": null,
            "flex": null,
            "flex_flow": null,
            "grid_area": null,
            "grid_auto_columns": null,
            "grid_auto_flow": null,
            "grid_auto_rows": null,
            "grid_column": null,
            "grid_gap": null,
            "grid_row": null,
            "grid_template_areas": null,
            "grid_template_columns": null,
            "grid_template_rows": null,
            "height": null,
            "justify_content": null,
            "justify_items": null,
            "left": null,
            "margin": null,
            "max_height": null,
            "max_width": null,
            "min_height": null,
            "min_width": null,
            "object_fit": null,
            "object_position": null,
            "order": null,
            "overflow": null,
            "overflow_x": null,
            "overflow_y": null,
            "padding": null,
            "right": null,
            "top": null,
            "visibility": null,
            "width": null
          }
        },
        "9dc05e084db24a0fb85a3751b1d33efb": {
          "model_module": "@jupyter-widgets/controls",
          "model_name": "DescriptionStyleModel",
          "model_module_version": "1.5.0",
          "state": {
            "_model_module": "@jupyter-widgets/controls",
            "_model_module_version": "1.5.0",
            "_model_name": "DescriptionStyleModel",
            "_view_count": null,
            "_view_module": "@jupyter-widgets/base",
            "_view_module_version": "1.2.0",
            "_view_name": "StyleView",
            "description_width": ""
          }
        },
        "96a8aa4aa361449fad5b3a2b52adef75": {
          "model_module": "@jupyter-widgets/base",
          "model_name": "LayoutModel",
          "model_module_version": "1.2.0",
          "state": {
            "_model_module": "@jupyter-widgets/base",
            "_model_module_version": "1.2.0",
            "_model_name": "LayoutModel",
            "_view_count": null,
            "_view_module": "@jupyter-widgets/base",
            "_view_module_version": "1.2.0",
            "_view_name": "LayoutView",
            "align_content": null,
            "align_items": null,
            "align_self": null,
            "border": null,
            "bottom": null,
            "display": null,
            "flex": null,
            "flex_flow": null,
            "grid_area": null,
            "grid_auto_columns": null,
            "grid_auto_flow": null,
            "grid_auto_rows": null,
            "grid_column": null,
            "grid_gap": null,
            "grid_row": null,
            "grid_template_areas": null,
            "grid_template_columns": null,
            "grid_template_rows": null,
            "height": null,
            "justify_content": null,
            "justify_items": null,
            "left": null,
            "margin": null,
            "max_height": null,
            "max_width": null,
            "min_height": null,
            "min_width": null,
            "object_fit": null,
            "object_position": null,
            "order": null,
            "overflow": null,
            "overflow_x": null,
            "overflow_y": null,
            "padding": null,
            "right": null,
            "top": null,
            "visibility": null,
            "width": null
          }
        },
        "017632aa6a95405897366c6b8796aa11": {
          "model_module": "@jupyter-widgets/controls",
          "model_name": "ProgressStyleModel",
          "model_module_version": "1.5.0",
          "state": {
            "_model_module": "@jupyter-widgets/controls",
            "_model_module_version": "1.5.0",
            "_model_name": "ProgressStyleModel",
            "_view_count": null,
            "_view_module": "@jupyter-widgets/base",
            "_view_module_version": "1.2.0",
            "_view_name": "StyleView",
            "bar_color": null,
            "description_width": ""
          }
        },
        "c3c8181d77bd4d6fab67bc2c742ae2c7": {
          "model_module": "@jupyter-widgets/base",
          "model_name": "LayoutModel",
          "model_module_version": "1.2.0",
          "state": {
            "_model_module": "@jupyter-widgets/base",
            "_model_module_version": "1.2.0",
            "_model_name": "LayoutModel",
            "_view_count": null,
            "_view_module": "@jupyter-widgets/base",
            "_view_module_version": "1.2.0",
            "_view_name": "LayoutView",
            "align_content": null,
            "align_items": null,
            "align_self": null,
            "border": null,
            "bottom": null,
            "display": null,
            "flex": null,
            "flex_flow": null,
            "grid_area": null,
            "grid_auto_columns": null,
            "grid_auto_flow": null,
            "grid_auto_rows": null,
            "grid_column": null,
            "grid_gap": null,
            "grid_row": null,
            "grid_template_areas": null,
            "grid_template_columns": null,
            "grid_template_rows": null,
            "height": null,
            "justify_content": null,
            "justify_items": null,
            "left": null,
            "margin": null,
            "max_height": null,
            "max_width": null,
            "min_height": null,
            "min_width": null,
            "object_fit": null,
            "object_position": null,
            "order": null,
            "overflow": null,
            "overflow_x": null,
            "overflow_y": null,
            "padding": null,
            "right": null,
            "top": null,
            "visibility": null,
            "width": null
          }
        },
        "d06bdc68c48447c78822f6036fd5bb2d": {
          "model_module": "@jupyter-widgets/controls",
          "model_name": "DescriptionStyleModel",
          "model_module_version": "1.5.0",
          "state": {
            "_model_module": "@jupyter-widgets/controls",
            "_model_module_version": "1.5.0",
            "_model_name": "DescriptionStyleModel",
            "_view_count": null,
            "_view_module": "@jupyter-widgets/base",
            "_view_module_version": "1.2.0",
            "_view_name": "StyleView",
            "description_width": ""
          }
        },
        "001b264ec92247949e35250936a39752": {
          "model_module": "@jupyter-widgets/controls",
          "model_name": "HBoxModel",
          "model_module_version": "1.5.0",
          "state": {
            "_dom_classes": [],
            "_model_module": "@jupyter-widgets/controls",
            "_model_module_version": "1.5.0",
            "_model_name": "HBoxModel",
            "_view_count": null,
            "_view_module": "@jupyter-widgets/controls",
            "_view_module_version": "1.5.0",
            "_view_name": "HBoxView",
            "box_style": "",
            "children": [
              "IPY_MODEL_2c76a2272af0431cb9b1adf34badeea6",
              "IPY_MODEL_302079c2b53540cf9e1ca602486138b2",
              "IPY_MODEL_97339008a6864b8e88eb7d656a433492"
            ],
            "layout": "IPY_MODEL_31f58c663d594ca6a70a7cf92b614108"
          }
        },
        "2c76a2272af0431cb9b1adf34badeea6": {
          "model_module": "@jupyter-widgets/controls",
          "model_name": "HTMLModel",
          "model_module_version": "1.5.0",
          "state": {
            "_dom_classes": [],
            "_model_module": "@jupyter-widgets/controls",
            "_model_module_version": "1.5.0",
            "_model_name": "HTMLModel",
            "_view_count": null,
            "_view_module": "@jupyter-widgets/controls",
            "_view_module_version": "1.5.0",
            "_view_name": "HTMLView",
            "description": "",
            "description_tooltip": null,
            "layout": "IPY_MODEL_b117227ee767425184edf4fec991b9c2",
            "placeholder": "​",
            "style": "IPY_MODEL_5e91ca10774646adb339c4b82d3958b1",
            "value": "Downloading: 100%"
          }
        },
        "302079c2b53540cf9e1ca602486138b2": {
          "model_module": "@jupyter-widgets/controls",
          "model_name": "FloatProgressModel",
          "model_module_version": "1.5.0",
          "state": {
            "_dom_classes": [],
            "_model_module": "@jupyter-widgets/controls",
            "_model_module_version": "1.5.0",
            "_model_name": "FloatProgressModel",
            "_view_count": null,
            "_view_module": "@jupyter-widgets/controls",
            "_view_module_version": "1.5.0",
            "_view_name": "ProgressView",
            "bar_style": "success",
            "description": "",
            "description_tooltip": null,
            "layout": "IPY_MODEL_66a0b8e5b1df4ef08378570ac5dd3b2a",
            "max": 2038,
            "min": 0,
            "orientation": "horizontal",
            "style": "IPY_MODEL_6daf3f3c815543a6827c507b784983f3",
            "value": 2038
          }
        },
        "97339008a6864b8e88eb7d656a433492": {
          "model_module": "@jupyter-widgets/controls",
          "model_name": "HTMLModel",
          "model_module_version": "1.5.0",
          "state": {
            "_dom_classes": [],
            "_model_module": "@jupyter-widgets/controls",
            "_model_module_version": "1.5.0",
            "_model_name": "HTMLModel",
            "_view_count": null,
            "_view_module": "@jupyter-widgets/controls",
            "_view_module_version": "1.5.0",
            "_view_name": "HTMLView",
            "description": "",
            "description_tooltip": null,
            "layout": "IPY_MODEL_ef80355b68444119854e09bf6c1d4a30",
            "placeholder": "​",
            "style": "IPY_MODEL_64837af530244c6da030bedb3468d139",
            "value": " 1.99k/1.99k [00:00&lt;00:00, 6.54kB/s]"
          }
        },
        "31f58c663d594ca6a70a7cf92b614108": {
          "model_module": "@jupyter-widgets/base",
          "model_name": "LayoutModel",
          "model_module_version": "1.2.0",
          "state": {
            "_model_module": "@jupyter-widgets/base",
            "_model_module_version": "1.2.0",
            "_model_name": "LayoutModel",
            "_view_count": null,
            "_view_module": "@jupyter-widgets/base",
            "_view_module_version": "1.2.0",
            "_view_name": "LayoutView",
            "align_content": null,
            "align_items": null,
            "align_self": null,
            "border": null,
            "bottom": null,
            "display": null,
            "flex": null,
            "flex_flow": null,
            "grid_area": null,
            "grid_auto_columns": null,
            "grid_auto_flow": null,
            "grid_auto_rows": null,
            "grid_column": null,
            "grid_gap": null,
            "grid_row": null,
            "grid_template_areas": null,
            "grid_template_columns": null,
            "grid_template_rows": null,
            "height": null,
            "justify_content": null,
            "justify_items": null,
            "left": null,
            "margin": null,
            "max_height": null,
            "max_width": null,
            "min_height": null,
            "min_width": null,
            "object_fit": null,
            "object_position": null,
            "order": null,
            "overflow": null,
            "overflow_x": null,
            "overflow_y": null,
            "padding": null,
            "right": null,
            "top": null,
            "visibility": null,
            "width": null
          }
        },
        "b117227ee767425184edf4fec991b9c2": {
          "model_module": "@jupyter-widgets/base",
          "model_name": "LayoutModel",
          "model_module_version": "1.2.0",
          "state": {
            "_model_module": "@jupyter-widgets/base",
            "_model_module_version": "1.2.0",
            "_model_name": "LayoutModel",
            "_view_count": null,
            "_view_module": "@jupyter-widgets/base",
            "_view_module_version": "1.2.0",
            "_view_name": "LayoutView",
            "align_content": null,
            "align_items": null,
            "align_self": null,
            "border": null,
            "bottom": null,
            "display": null,
            "flex": null,
            "flex_flow": null,
            "grid_area": null,
            "grid_auto_columns": null,
            "grid_auto_flow": null,
            "grid_auto_rows": null,
            "grid_column": null,
            "grid_gap": null,
            "grid_row": null,
            "grid_template_areas": null,
            "grid_template_columns": null,
            "grid_template_rows": null,
            "height": null,
            "justify_content": null,
            "justify_items": null,
            "left": null,
            "margin": null,
            "max_height": null,
            "max_width": null,
            "min_height": null,
            "min_width": null,
            "object_fit": null,
            "object_position": null,
            "order": null,
            "overflow": null,
            "overflow_x": null,
            "overflow_y": null,
            "padding": null,
            "right": null,
            "top": null,
            "visibility": null,
            "width": null
          }
        },
        "5e91ca10774646adb339c4b82d3958b1": {
          "model_module": "@jupyter-widgets/controls",
          "model_name": "DescriptionStyleModel",
          "model_module_version": "1.5.0",
          "state": {
            "_model_module": "@jupyter-widgets/controls",
            "_model_module_version": "1.5.0",
            "_model_name": "DescriptionStyleModel",
            "_view_count": null,
            "_view_module": "@jupyter-widgets/base",
            "_view_module_version": "1.2.0",
            "_view_name": "StyleView",
            "description_width": ""
          }
        },
        "66a0b8e5b1df4ef08378570ac5dd3b2a": {
          "model_module": "@jupyter-widgets/base",
          "model_name": "LayoutModel",
          "model_module_version": "1.2.0",
          "state": {
            "_model_module": "@jupyter-widgets/base",
            "_model_module_version": "1.2.0",
            "_model_name": "LayoutModel",
            "_view_count": null,
            "_view_module": "@jupyter-widgets/base",
            "_view_module_version": "1.2.0",
            "_view_name": "LayoutView",
            "align_content": null,
            "align_items": null,
            "align_self": null,
            "border": null,
            "bottom": null,
            "display": null,
            "flex": null,
            "flex_flow": null,
            "grid_area": null,
            "grid_auto_columns": null,
            "grid_auto_flow": null,
            "grid_auto_rows": null,
            "grid_column": null,
            "grid_gap": null,
            "grid_row": null,
            "grid_template_areas": null,
            "grid_template_columns": null,
            "grid_template_rows": null,
            "height": null,
            "justify_content": null,
            "justify_items": null,
            "left": null,
            "margin": null,
            "max_height": null,
            "max_width": null,
            "min_height": null,
            "min_width": null,
            "object_fit": null,
            "object_position": null,
            "order": null,
            "overflow": null,
            "overflow_x": null,
            "overflow_y": null,
            "padding": null,
            "right": null,
            "top": null,
            "visibility": null,
            "width": null
          }
        },
        "6daf3f3c815543a6827c507b784983f3": {
          "model_module": "@jupyter-widgets/controls",
          "model_name": "ProgressStyleModel",
          "model_module_version": "1.5.0",
          "state": {
            "_model_module": "@jupyter-widgets/controls",
            "_model_module_version": "1.5.0",
            "_model_name": "ProgressStyleModel",
            "_view_count": null,
            "_view_module": "@jupyter-widgets/base",
            "_view_module_version": "1.2.0",
            "_view_name": "StyleView",
            "bar_color": null,
            "description_width": ""
          }
        },
        "ef80355b68444119854e09bf6c1d4a30": {
          "model_module": "@jupyter-widgets/base",
          "model_name": "LayoutModel",
          "model_module_version": "1.2.0",
          "state": {
            "_model_module": "@jupyter-widgets/base",
            "_model_module_version": "1.2.0",
            "_model_name": "LayoutModel",
            "_view_count": null,
            "_view_module": "@jupyter-widgets/base",
            "_view_module_version": "1.2.0",
            "_view_name": "LayoutView",
            "align_content": null,
            "align_items": null,
            "align_self": null,
            "border": null,
            "bottom": null,
            "display": null,
            "flex": null,
            "flex_flow": null,
            "grid_area": null,
            "grid_auto_columns": null,
            "grid_auto_flow": null,
            "grid_auto_rows": null,
            "grid_column": null,
            "grid_gap": null,
            "grid_row": null,
            "grid_template_areas": null,
            "grid_template_columns": null,
            "grid_template_rows": null,
            "height": null,
            "justify_content": null,
            "justify_items": null,
            "left": null,
            "margin": null,
            "max_height": null,
            "max_width": null,
            "min_height": null,
            "min_width": null,
            "object_fit": null,
            "object_position": null,
            "order": null,
            "overflow": null,
            "overflow_x": null,
            "overflow_y": null,
            "padding": null,
            "right": null,
            "top": null,
            "visibility": null,
            "width": null
          }
        },
        "64837af530244c6da030bedb3468d139": {
          "model_module": "@jupyter-widgets/controls",
          "model_name": "DescriptionStyleModel",
          "model_module_version": "1.5.0",
          "state": {
            "_model_module": "@jupyter-widgets/controls",
            "_model_module_version": "1.5.0",
            "_model_name": "DescriptionStyleModel",
            "_view_count": null,
            "_view_module": "@jupyter-widgets/base",
            "_view_module_version": "1.2.0",
            "_view_name": "StyleView",
            "description_width": ""
          }
        },
        "86b3062d5ec04059a3585b0edcb9c134": {
          "model_module": "@jupyter-widgets/controls",
          "model_name": "HBoxModel",
          "model_module_version": "1.5.0",
          "state": {
            "_dom_classes": [],
            "_model_module": "@jupyter-widgets/controls",
            "_model_module_version": "1.5.0",
            "_model_name": "HBoxModel",
            "_view_count": null,
            "_view_module": "@jupyter-widgets/controls",
            "_view_module_version": "1.5.0",
            "_view_name": "HBoxView",
            "box_style": "",
            "children": [
              "IPY_MODEL_92f316e6e160450080d640cef451b571",
              "IPY_MODEL_4e0f8a5e3ff944a2b07e5a441fe064f2",
              "IPY_MODEL_03e92978c3a84da8878904595b395bb3"
            ],
            "layout": "IPY_MODEL_98038abb788f48429c4a90ded5e65ad9"
          }
        },
        "92f316e6e160450080d640cef451b571": {
          "model_module": "@jupyter-widgets/controls",
          "model_name": "HTMLModel",
          "model_module_version": "1.5.0",
          "state": {
            "_dom_classes": [],
            "_model_module": "@jupyter-widgets/controls",
            "_model_module_version": "1.5.0",
            "_model_name": "HTMLModel",
            "_view_count": null,
            "_view_module": "@jupyter-widgets/controls",
            "_view_module_version": "1.5.0",
            "_view_name": "HTMLView",
            "description": "",
            "description_tooltip": null,
            "layout": "IPY_MODEL_af891f442d4e440e871804ea3e3103b6",
            "placeholder": "​",
            "style": "IPY_MODEL_04cda20618844efe898e6c1d77e9fe38",
            "value": "Downloading: 100%"
          }
        },
        "4e0f8a5e3ff944a2b07e5a441fe064f2": {
          "model_module": "@jupyter-widgets/controls",
          "model_name": "FloatProgressModel",
          "model_module_version": "1.5.0",
          "state": {
            "_dom_classes": [],
            "_model_module": "@jupyter-widgets/controls",
            "_model_module_version": "1.5.0",
            "_model_name": "FloatProgressModel",
            "_view_count": null,
            "_view_module": "@jupyter-widgets/controls",
            "_view_module_version": "1.5.0",
            "_view_name": "ProgressView",
            "bar_style": "success",
            "description": "",
            "description_tooltip": null,
            "layout": "IPY_MODEL_09fe157713eb49c8b571f4bd8d789e83",
            "max": 553030261,
            "min": 0,
            "orientation": "horizontal",
            "style": "IPY_MODEL_35daea571bff4419acacb671fcbeb14b",
            "value": 553030261
          }
        },
        "03e92978c3a84da8878904595b395bb3": {
          "model_module": "@jupyter-widgets/controls",
          "model_name": "HTMLModel",
          "model_module_version": "1.5.0",
          "state": {
            "_dom_classes": [],
            "_model_module": "@jupyter-widgets/controls",
            "_model_module_version": "1.5.0",
            "_model_name": "HTMLModel",
            "_view_count": null,
            "_view_module": "@jupyter-widgets/controls",
            "_view_module_version": "1.5.0",
            "_view_name": "HTMLView",
            "description": "",
            "description_tooltip": null,
            "layout": "IPY_MODEL_96b3fb0bb35849aa9d5fca050f1cf738",
            "placeholder": "​",
            "style": "IPY_MODEL_75fb6b7b3368442f921e225f59a490c0",
            "value": " 527M/527M [00:32&lt;00:00, 23.2MB/s]"
          }
        },
        "98038abb788f48429c4a90ded5e65ad9": {
          "model_module": "@jupyter-widgets/base",
          "model_name": "LayoutModel",
          "model_module_version": "1.2.0",
          "state": {
            "_model_module": "@jupyter-widgets/base",
            "_model_module_version": "1.2.0",
            "_model_name": "LayoutModel",
            "_view_count": null,
            "_view_module": "@jupyter-widgets/base",
            "_view_module_version": "1.2.0",
            "_view_name": "LayoutView",
            "align_content": null,
            "align_items": null,
            "align_self": null,
            "border": null,
            "bottom": null,
            "display": null,
            "flex": null,
            "flex_flow": null,
            "grid_area": null,
            "grid_auto_columns": null,
            "grid_auto_flow": null,
            "grid_auto_rows": null,
            "grid_column": null,
            "grid_gap": null,
            "grid_row": null,
            "grid_template_areas": null,
            "grid_template_columns": null,
            "grid_template_rows": null,
            "height": null,
            "justify_content": null,
            "justify_items": null,
            "left": null,
            "margin": null,
            "max_height": null,
            "max_width": null,
            "min_height": null,
            "min_width": null,
            "object_fit": null,
            "object_position": null,
            "order": null,
            "overflow": null,
            "overflow_x": null,
            "overflow_y": null,
            "padding": null,
            "right": null,
            "top": null,
            "visibility": null,
            "width": null
          }
        },
        "af891f442d4e440e871804ea3e3103b6": {
          "model_module": "@jupyter-widgets/base",
          "model_name": "LayoutModel",
          "model_module_version": "1.2.0",
          "state": {
            "_model_module": "@jupyter-widgets/base",
            "_model_module_version": "1.2.0",
            "_model_name": "LayoutModel",
            "_view_count": null,
            "_view_module": "@jupyter-widgets/base",
            "_view_module_version": "1.2.0",
            "_view_name": "LayoutView",
            "align_content": null,
            "align_items": null,
            "align_self": null,
            "border": null,
            "bottom": null,
            "display": null,
            "flex": null,
            "flex_flow": null,
            "grid_area": null,
            "grid_auto_columns": null,
            "grid_auto_flow": null,
            "grid_auto_rows": null,
            "grid_column": null,
            "grid_gap": null,
            "grid_row": null,
            "grid_template_areas": null,
            "grid_template_columns": null,
            "grid_template_rows": null,
            "height": null,
            "justify_content": null,
            "justify_items": null,
            "left": null,
            "margin": null,
            "max_height": null,
            "max_width": null,
            "min_height": null,
            "min_width": null,
            "object_fit": null,
            "object_position": null,
            "order": null,
            "overflow": null,
            "overflow_x": null,
            "overflow_y": null,
            "padding": null,
            "right": null,
            "top": null,
            "visibility": null,
            "width": null
          }
        },
        "04cda20618844efe898e6c1d77e9fe38": {
          "model_module": "@jupyter-widgets/controls",
          "model_name": "DescriptionStyleModel",
          "model_module_version": "1.5.0",
          "state": {
            "_model_module": "@jupyter-widgets/controls",
            "_model_module_version": "1.5.0",
            "_model_name": "DescriptionStyleModel",
            "_view_count": null,
            "_view_module": "@jupyter-widgets/base",
            "_view_module_version": "1.2.0",
            "_view_name": "StyleView",
            "description_width": ""
          }
        },
        "09fe157713eb49c8b571f4bd8d789e83": {
          "model_module": "@jupyter-widgets/base",
          "model_name": "LayoutModel",
          "model_module_version": "1.2.0",
          "state": {
            "_model_module": "@jupyter-widgets/base",
            "_model_module_version": "1.2.0",
            "_model_name": "LayoutModel",
            "_view_count": null,
            "_view_module": "@jupyter-widgets/base",
            "_view_module_version": "1.2.0",
            "_view_name": "LayoutView",
            "align_content": null,
            "align_items": null,
            "align_self": null,
            "border": null,
            "bottom": null,
            "display": null,
            "flex": null,
            "flex_flow": null,
            "grid_area": null,
            "grid_auto_columns": null,
            "grid_auto_flow": null,
            "grid_auto_rows": null,
            "grid_column": null,
            "grid_gap": null,
            "grid_row": null,
            "grid_template_areas": null,
            "grid_template_columns": null,
            "grid_template_rows": null,
            "height": null,
            "justify_content": null,
            "justify_items": null,
            "left": null,
            "margin": null,
            "max_height": null,
            "max_width": null,
            "min_height": null,
            "min_width": null,
            "object_fit": null,
            "object_position": null,
            "order": null,
            "overflow": null,
            "overflow_x": null,
            "overflow_y": null,
            "padding": null,
            "right": null,
            "top": null,
            "visibility": null,
            "width": null
          }
        },
        "35daea571bff4419acacb671fcbeb14b": {
          "model_module": "@jupyter-widgets/controls",
          "model_name": "ProgressStyleModel",
          "model_module_version": "1.5.0",
          "state": {
            "_model_module": "@jupyter-widgets/controls",
            "_model_module_version": "1.5.0",
            "_model_name": "ProgressStyleModel",
            "_view_count": null,
            "_view_module": "@jupyter-widgets/base",
            "_view_module_version": "1.2.0",
            "_view_name": "StyleView",
            "bar_color": null,
            "description_width": ""
          }
        },
        "96b3fb0bb35849aa9d5fca050f1cf738": {
          "model_module": "@jupyter-widgets/base",
          "model_name": "LayoutModel",
          "model_module_version": "1.2.0",
          "state": {
            "_model_module": "@jupyter-widgets/base",
            "_model_module_version": "1.2.0",
            "_model_name": "LayoutModel",
            "_view_count": null,
            "_view_module": "@jupyter-widgets/base",
            "_view_module_version": "1.2.0",
            "_view_name": "LayoutView",
            "align_content": null,
            "align_items": null,
            "align_self": null,
            "border": null,
            "bottom": null,
            "display": null,
            "flex": null,
            "flex_flow": null,
            "grid_area": null,
            "grid_auto_columns": null,
            "grid_auto_flow": null,
            "grid_auto_rows": null,
            "grid_column": null,
            "grid_gap": null,
            "grid_row": null,
            "grid_template_areas": null,
            "grid_template_columns": null,
            "grid_template_rows": null,
            "height": null,
            "justify_content": null,
            "justify_items": null,
            "left": null,
            "margin": null,
            "max_height": null,
            "max_width": null,
            "min_height": null,
            "min_width": null,
            "object_fit": null,
            "object_position": null,
            "order": null,
            "overflow": null,
            "overflow_x": null,
            "overflow_y": null,
            "padding": null,
            "right": null,
            "top": null,
            "visibility": null,
            "width": null
          }
        },
        "75fb6b7b3368442f921e225f59a490c0": {
          "model_module": "@jupyter-widgets/controls",
          "model_name": "DescriptionStyleModel",
          "model_module_version": "1.5.0",
          "state": {
            "_model_module": "@jupyter-widgets/controls",
            "_model_module_version": "1.5.0",
            "_model_name": "DescriptionStyleModel",
            "_view_count": null,
            "_view_module": "@jupyter-widgets/base",
            "_view_module_version": "1.2.0",
            "_view_name": "StyleView",
            "description_width": ""
          }
        },
        "9884ad5f7b154008aeaa0ae1e096c638": {
          "model_module": "@jupyter-widgets/controls",
          "model_name": "HBoxModel",
          "model_module_version": "1.5.0",
          "state": {
            "_dom_classes": [],
            "_model_module": "@jupyter-widgets/controls",
            "_model_module_version": "1.5.0",
            "_model_name": "HBoxModel",
            "_view_count": null,
            "_view_module": "@jupyter-widgets/controls",
            "_view_module_version": "1.5.0",
            "_view_name": "HBoxView",
            "box_style": "",
            "children": [
              "IPY_MODEL_386a85bce4bb43398a7b2a13105fa682",
              "IPY_MODEL_b6685978a7ce44c9ac02a5979d01ad21",
              "IPY_MODEL_d94cdf7aef054cdfb4296bfa4efd1cac"
            ],
            "layout": "IPY_MODEL_2968422ba277471b9d396e94f6e6c57e"
          }
        },
        "386a85bce4bb43398a7b2a13105fa682": {
          "model_module": "@jupyter-widgets/controls",
          "model_name": "HTMLModel",
          "model_module_version": "1.5.0",
          "state": {
            "_dom_classes": [],
            "_model_module": "@jupyter-widgets/controls",
            "_model_module_version": "1.5.0",
            "_model_name": "HTMLModel",
            "_view_count": null,
            "_view_module": "@jupyter-widgets/controls",
            "_view_module_version": "1.5.0",
            "_view_name": "HTMLView",
            "description": "",
            "description_tooltip": null,
            "layout": "IPY_MODEL_b33d1286b194479aa0d1b7c0a236de44",
            "placeholder": "​",
            "style": "IPY_MODEL_bea207821d374666b34e71f4e6f9959b",
            "value": "100%"
          }
        },
        "b6685978a7ce44c9ac02a5979d01ad21": {
          "model_module": "@jupyter-widgets/controls",
          "model_name": "FloatProgressModel",
          "model_module_version": "1.5.0",
          "state": {
            "_dom_classes": [],
            "_model_module": "@jupyter-widgets/controls",
            "_model_module_version": "1.5.0",
            "_model_name": "FloatProgressModel",
            "_view_count": null,
            "_view_module": "@jupyter-widgets/controls",
            "_view_module_version": "1.5.0",
            "_view_name": "ProgressView",
            "bar_style": "success",
            "description": "",
            "description_tooltip": null,
            "layout": "IPY_MODEL_71940165b0fe4d84a857fff127b96cba",
            "max": 21401,
            "min": 0,
            "orientation": "horizontal",
            "style": "IPY_MODEL_d9cfd0aae9be4bc7a6bee97594d00cc7",
            "value": 21401
          }
        },
        "d94cdf7aef054cdfb4296bfa4efd1cac": {
          "model_module": "@jupyter-widgets/controls",
          "model_name": "HTMLModel",
          "model_module_version": "1.5.0",
          "state": {
            "_dom_classes": [],
            "_model_module": "@jupyter-widgets/controls",
            "_model_module_version": "1.5.0",
            "_model_name": "HTMLModel",
            "_view_count": null,
            "_view_module": "@jupyter-widgets/controls",
            "_view_module_version": "1.5.0",
            "_view_name": "HTMLView",
            "description": "",
            "description_tooltip": null,
            "layout": "IPY_MODEL_693849ae045b4fa8b347096381d01cbc",
            "placeholder": "​",
            "style": "IPY_MODEL_483c573b7e2345ecacba6ad56014364e",
            "value": " 21401/21401 [00:13&lt;00:00, 1639.89it/s]"
          }
        },
        "2968422ba277471b9d396e94f6e6c57e": {
          "model_module": "@jupyter-widgets/base",
          "model_name": "LayoutModel",
          "model_module_version": "1.2.0",
          "state": {
            "_model_module": "@jupyter-widgets/base",
            "_model_module_version": "1.2.0",
            "_model_name": "LayoutModel",
            "_view_count": null,
            "_view_module": "@jupyter-widgets/base",
            "_view_module_version": "1.2.0",
            "_view_name": "LayoutView",
            "align_content": null,
            "align_items": null,
            "align_self": null,
            "border": null,
            "bottom": null,
            "display": null,
            "flex": null,
            "flex_flow": null,
            "grid_area": null,
            "grid_auto_columns": null,
            "grid_auto_flow": null,
            "grid_auto_rows": null,
            "grid_column": null,
            "grid_gap": null,
            "grid_row": null,
            "grid_template_areas": null,
            "grid_template_columns": null,
            "grid_template_rows": null,
            "height": null,
            "justify_content": null,
            "justify_items": null,
            "left": null,
            "margin": null,
            "max_height": null,
            "max_width": null,
            "min_height": null,
            "min_width": null,
            "object_fit": null,
            "object_position": null,
            "order": null,
            "overflow": null,
            "overflow_x": null,
            "overflow_y": null,
            "padding": null,
            "right": null,
            "top": null,
            "visibility": null,
            "width": null
          }
        },
        "b33d1286b194479aa0d1b7c0a236de44": {
          "model_module": "@jupyter-widgets/base",
          "model_name": "LayoutModel",
          "model_module_version": "1.2.0",
          "state": {
            "_model_module": "@jupyter-widgets/base",
            "_model_module_version": "1.2.0",
            "_model_name": "LayoutModel",
            "_view_count": null,
            "_view_module": "@jupyter-widgets/base",
            "_view_module_version": "1.2.0",
            "_view_name": "LayoutView",
            "align_content": null,
            "align_items": null,
            "align_self": null,
            "border": null,
            "bottom": null,
            "display": null,
            "flex": null,
            "flex_flow": null,
            "grid_area": null,
            "grid_auto_columns": null,
            "grid_auto_flow": null,
            "grid_auto_rows": null,
            "grid_column": null,
            "grid_gap": null,
            "grid_row": null,
            "grid_template_areas": null,
            "grid_template_columns": null,
            "grid_template_rows": null,
            "height": null,
            "justify_content": null,
            "justify_items": null,
            "left": null,
            "margin": null,
            "max_height": null,
            "max_width": null,
            "min_height": null,
            "min_width": null,
            "object_fit": null,
            "object_position": null,
            "order": null,
            "overflow": null,
            "overflow_x": null,
            "overflow_y": null,
            "padding": null,
            "right": null,
            "top": null,
            "visibility": null,
            "width": null
          }
        },
        "bea207821d374666b34e71f4e6f9959b": {
          "model_module": "@jupyter-widgets/controls",
          "model_name": "DescriptionStyleModel",
          "model_module_version": "1.5.0",
          "state": {
            "_model_module": "@jupyter-widgets/controls",
            "_model_module_version": "1.5.0",
            "_model_name": "DescriptionStyleModel",
            "_view_count": null,
            "_view_module": "@jupyter-widgets/base",
            "_view_module_version": "1.2.0",
            "_view_name": "StyleView",
            "description_width": ""
          }
        },
        "71940165b0fe4d84a857fff127b96cba": {
          "model_module": "@jupyter-widgets/base",
          "model_name": "LayoutModel",
          "model_module_version": "1.2.0",
          "state": {
            "_model_module": "@jupyter-widgets/base",
            "_model_module_version": "1.2.0",
            "_model_name": "LayoutModel",
            "_view_count": null,
            "_view_module": "@jupyter-widgets/base",
            "_view_module_version": "1.2.0",
            "_view_name": "LayoutView",
            "align_content": null,
            "align_items": null,
            "align_self": null,
            "border": null,
            "bottom": null,
            "display": null,
            "flex": null,
            "flex_flow": null,
            "grid_area": null,
            "grid_auto_columns": null,
            "grid_auto_flow": null,
            "grid_auto_rows": null,
            "grid_column": null,
            "grid_gap": null,
            "grid_row": null,
            "grid_template_areas": null,
            "grid_template_columns": null,
            "grid_template_rows": null,
            "height": null,
            "justify_content": null,
            "justify_items": null,
            "left": null,
            "margin": null,
            "max_height": null,
            "max_width": null,
            "min_height": null,
            "min_width": null,
            "object_fit": null,
            "object_position": null,
            "order": null,
            "overflow": null,
            "overflow_x": null,
            "overflow_y": null,
            "padding": null,
            "right": null,
            "top": null,
            "visibility": null,
            "width": null
          }
        },
        "d9cfd0aae9be4bc7a6bee97594d00cc7": {
          "model_module": "@jupyter-widgets/controls",
          "model_name": "ProgressStyleModel",
          "model_module_version": "1.5.0",
          "state": {
            "_model_module": "@jupyter-widgets/controls",
            "_model_module_version": "1.5.0",
            "_model_name": "ProgressStyleModel",
            "_view_count": null,
            "_view_module": "@jupyter-widgets/base",
            "_view_module_version": "1.2.0",
            "_view_name": "StyleView",
            "bar_color": null,
            "description_width": ""
          }
        },
        "693849ae045b4fa8b347096381d01cbc": {
          "model_module": "@jupyter-widgets/base",
          "model_name": "LayoutModel",
          "model_module_version": "1.2.0",
          "state": {
            "_model_module": "@jupyter-widgets/base",
            "_model_module_version": "1.2.0",
            "_model_name": "LayoutModel",
            "_view_count": null,
            "_view_module": "@jupyter-widgets/base",
            "_view_module_version": "1.2.0",
            "_view_name": "LayoutView",
            "align_content": null,
            "align_items": null,
            "align_self": null,
            "border": null,
            "bottom": null,
            "display": null,
            "flex": null,
            "flex_flow": null,
            "grid_area": null,
            "grid_auto_columns": null,
            "grid_auto_flow": null,
            "grid_auto_rows": null,
            "grid_column": null,
            "grid_gap": null,
            "grid_row": null,
            "grid_template_areas": null,
            "grid_template_columns": null,
            "grid_template_rows": null,
            "height": null,
            "justify_content": null,
            "justify_items": null,
            "left": null,
            "margin": null,
            "max_height": null,
            "max_width": null,
            "min_height": null,
            "min_width": null,
            "object_fit": null,
            "object_position": null,
            "order": null,
            "overflow": null,
            "overflow_x": null,
            "overflow_y": null,
            "padding": null,
            "right": null,
            "top": null,
            "visibility": null,
            "width": null
          }
        },
        "483c573b7e2345ecacba6ad56014364e": {
          "model_module": "@jupyter-widgets/controls",
          "model_name": "DescriptionStyleModel",
          "model_module_version": "1.5.0",
          "state": {
            "_model_module": "@jupyter-widgets/controls",
            "_model_module_version": "1.5.0",
            "_model_name": "DescriptionStyleModel",
            "_view_count": null,
            "_view_module": "@jupyter-widgets/base",
            "_view_module_version": "1.2.0",
            "_view_name": "StyleView",
            "description_width": ""
          }
        },
        "671249f759054da7b4951306f00e1933": {
          "model_module": "@jupyter-widgets/controls",
          "model_name": "HBoxModel",
          "model_module_version": "1.5.0",
          "state": {
            "_dom_classes": [],
            "_model_module": "@jupyter-widgets/controls",
            "_model_module_version": "1.5.0",
            "_model_name": "HBoxModel",
            "_view_count": null,
            "_view_module": "@jupyter-widgets/controls",
            "_view_module_version": "1.5.0",
            "_view_name": "HBoxView",
            "box_style": "",
            "children": [
              "IPY_MODEL_842209efea8842e0a65ac34953073ba2",
              "IPY_MODEL_d84584c465a947c4b8f700072bf0b9f8",
              "IPY_MODEL_3deb323460844ac0a7929894dc893a00"
            ],
            "layout": "IPY_MODEL_06b0b5b4dde640f1b577e796f66ba105"
          }
        },
        "842209efea8842e0a65ac34953073ba2": {
          "model_module": "@jupyter-widgets/controls",
          "model_name": "HTMLModel",
          "model_module_version": "1.5.0",
          "state": {
            "_dom_classes": [],
            "_model_module": "@jupyter-widgets/controls",
            "_model_module_version": "1.5.0",
            "_model_name": "HTMLModel",
            "_view_count": null,
            "_view_module": "@jupyter-widgets/controls",
            "_view_module_version": "1.5.0",
            "_view_name": "HTMLView",
            "description": "",
            "description_tooltip": null,
            "layout": "IPY_MODEL_493f9eb71e3b45f39087cc2404a56eb5",
            "placeholder": "​",
            "style": "IPY_MODEL_f91e95885b6143f48226a0b74dbaf19e",
            "value": "100%"
          }
        },
        "d84584c465a947c4b8f700072bf0b9f8": {
          "model_module": "@jupyter-widgets/controls",
          "model_name": "FloatProgressModel",
          "model_module_version": "1.5.0",
          "state": {
            "_dom_classes": [],
            "_model_module": "@jupyter-widgets/controls",
            "_model_module_version": "1.5.0",
            "_model_name": "FloatProgressModel",
            "_view_count": null,
            "_view_module": "@jupyter-widgets/controls",
            "_view_module_version": "1.5.0",
            "_view_name": "ProgressView",
            "bar_style": "success",
            "description": "",
            "description_tooltip": null,
            "layout": "IPY_MODEL_b8615d55ecd94627a5119c28983596d8",
            "max": 22,
            "min": 0,
            "orientation": "horizontal",
            "style": "IPY_MODEL_4ed43e6a45274f569feb72c0db7d5d1e",
            "value": 22
          }
        },
        "3deb323460844ac0a7929894dc893a00": {
          "model_module": "@jupyter-widgets/controls",
          "model_name": "HTMLModel",
          "model_module_version": "1.5.0",
          "state": {
            "_dom_classes": [],
            "_model_module": "@jupyter-widgets/controls",
            "_model_module_version": "1.5.0",
            "_model_name": "HTMLModel",
            "_view_count": null,
            "_view_module": "@jupyter-widgets/controls",
            "_view_module_version": "1.5.0",
            "_view_name": "HTMLView",
            "description": "",
            "description_tooltip": null,
            "layout": "IPY_MODEL_c308afb2b71c461e986e18915e41e931",
            "placeholder": "​",
            "style": "IPY_MODEL_74ee51c8fbc349c0875c4bf521b16344",
            "value": " 22/22 [01:29&lt;00:00,  3.31s/ba]"
          }
        },
        "06b0b5b4dde640f1b577e796f66ba105": {
          "model_module": "@jupyter-widgets/base",
          "model_name": "LayoutModel",
          "model_module_version": "1.2.0",
          "state": {
            "_model_module": "@jupyter-widgets/base",
            "_model_module_version": "1.2.0",
            "_model_name": "LayoutModel",
            "_view_count": null,
            "_view_module": "@jupyter-widgets/base",
            "_view_module_version": "1.2.0",
            "_view_name": "LayoutView",
            "align_content": null,
            "align_items": null,
            "align_self": null,
            "border": null,
            "bottom": null,
            "display": null,
            "flex": null,
            "flex_flow": null,
            "grid_area": null,
            "grid_auto_columns": null,
            "grid_auto_flow": null,
            "grid_auto_rows": null,
            "grid_column": null,
            "grid_gap": null,
            "grid_row": null,
            "grid_template_areas": null,
            "grid_template_columns": null,
            "grid_template_rows": null,
            "height": null,
            "justify_content": null,
            "justify_items": null,
            "left": null,
            "margin": null,
            "max_height": null,
            "max_width": null,
            "min_height": null,
            "min_width": null,
            "object_fit": null,
            "object_position": null,
            "order": null,
            "overflow": null,
            "overflow_x": null,
            "overflow_y": null,
            "padding": null,
            "right": null,
            "top": null,
            "visibility": null,
            "width": null
          }
        },
        "493f9eb71e3b45f39087cc2404a56eb5": {
          "model_module": "@jupyter-widgets/base",
          "model_name": "LayoutModel",
          "model_module_version": "1.2.0",
          "state": {
            "_model_module": "@jupyter-widgets/base",
            "_model_module_version": "1.2.0",
            "_model_name": "LayoutModel",
            "_view_count": null,
            "_view_module": "@jupyter-widgets/base",
            "_view_module_version": "1.2.0",
            "_view_name": "LayoutView",
            "align_content": null,
            "align_items": null,
            "align_self": null,
            "border": null,
            "bottom": null,
            "display": null,
            "flex": null,
            "flex_flow": null,
            "grid_area": null,
            "grid_auto_columns": null,
            "grid_auto_flow": null,
            "grid_auto_rows": null,
            "grid_column": null,
            "grid_gap": null,
            "grid_row": null,
            "grid_template_areas": null,
            "grid_template_columns": null,
            "grid_template_rows": null,
            "height": null,
            "justify_content": null,
            "justify_items": null,
            "left": null,
            "margin": null,
            "max_height": null,
            "max_width": null,
            "min_height": null,
            "min_width": null,
            "object_fit": null,
            "object_position": null,
            "order": null,
            "overflow": null,
            "overflow_x": null,
            "overflow_y": null,
            "padding": null,
            "right": null,
            "top": null,
            "visibility": null,
            "width": null
          }
        },
        "f91e95885b6143f48226a0b74dbaf19e": {
          "model_module": "@jupyter-widgets/controls",
          "model_name": "DescriptionStyleModel",
          "model_module_version": "1.5.0",
          "state": {
            "_model_module": "@jupyter-widgets/controls",
            "_model_module_version": "1.5.0",
            "_model_name": "DescriptionStyleModel",
            "_view_count": null,
            "_view_module": "@jupyter-widgets/base",
            "_view_module_version": "1.2.0",
            "_view_name": "StyleView",
            "description_width": ""
          }
        },
        "b8615d55ecd94627a5119c28983596d8": {
          "model_module": "@jupyter-widgets/base",
          "model_name": "LayoutModel",
          "model_module_version": "1.2.0",
          "state": {
            "_model_module": "@jupyter-widgets/base",
            "_model_module_version": "1.2.0",
            "_model_name": "LayoutModel",
            "_view_count": null,
            "_view_module": "@jupyter-widgets/base",
            "_view_module_version": "1.2.0",
            "_view_name": "LayoutView",
            "align_content": null,
            "align_items": null,
            "align_self": null,
            "border": null,
            "bottom": null,
            "display": null,
            "flex": null,
            "flex_flow": null,
            "grid_area": null,
            "grid_auto_columns": null,
            "grid_auto_flow": null,
            "grid_auto_rows": null,
            "grid_column": null,
            "grid_gap": null,
            "grid_row": null,
            "grid_template_areas": null,
            "grid_template_columns": null,
            "grid_template_rows": null,
            "height": null,
            "justify_content": null,
            "justify_items": null,
            "left": null,
            "margin": null,
            "max_height": null,
            "max_width": null,
            "min_height": null,
            "min_width": null,
            "object_fit": null,
            "object_position": null,
            "order": null,
            "overflow": null,
            "overflow_x": null,
            "overflow_y": null,
            "padding": null,
            "right": null,
            "top": null,
            "visibility": null,
            "width": null
          }
        },
        "4ed43e6a45274f569feb72c0db7d5d1e": {
          "model_module": "@jupyter-widgets/controls",
          "model_name": "ProgressStyleModel",
          "model_module_version": "1.5.0",
          "state": {
            "_model_module": "@jupyter-widgets/controls",
            "_model_module_version": "1.5.0",
            "_model_name": "ProgressStyleModel",
            "_view_count": null,
            "_view_module": "@jupyter-widgets/base",
            "_view_module_version": "1.2.0",
            "_view_name": "StyleView",
            "bar_color": null,
            "description_width": ""
          }
        },
        "c308afb2b71c461e986e18915e41e931": {
          "model_module": "@jupyter-widgets/base",
          "model_name": "LayoutModel",
          "model_module_version": "1.2.0",
          "state": {
            "_model_module": "@jupyter-widgets/base",
            "_model_module_version": "1.2.0",
            "_model_name": "LayoutModel",
            "_view_count": null,
            "_view_module": "@jupyter-widgets/base",
            "_view_module_version": "1.2.0",
            "_view_name": "LayoutView",
            "align_content": null,
            "align_items": null,
            "align_self": null,
            "border": null,
            "bottom": null,
            "display": null,
            "flex": null,
            "flex_flow": null,
            "grid_area": null,
            "grid_auto_columns": null,
            "grid_auto_flow": null,
            "grid_auto_rows": null,
            "grid_column": null,
            "grid_gap": null,
            "grid_row": null,
            "grid_template_areas": null,
            "grid_template_columns": null,
            "grid_template_rows": null,
            "height": null,
            "justify_content": null,
            "justify_items": null,
            "left": null,
            "margin": null,
            "max_height": null,
            "max_width": null,
            "min_height": null,
            "min_width": null,
            "object_fit": null,
            "object_position": null,
            "order": null,
            "overflow": null,
            "overflow_x": null,
            "overflow_y": null,
            "padding": null,
            "right": null,
            "top": null,
            "visibility": null,
            "width": null
          }
        },
        "74ee51c8fbc349c0875c4bf521b16344": {
          "model_module": "@jupyter-widgets/controls",
          "model_name": "DescriptionStyleModel",
          "model_module_version": "1.5.0",
          "state": {
            "_model_module": "@jupyter-widgets/controls",
            "_model_module_version": "1.5.0",
            "_model_name": "DescriptionStyleModel",
            "_view_count": null,
            "_view_module": "@jupyter-widgets/base",
            "_view_module_version": "1.2.0",
            "_view_name": "StyleView",
            "description_width": ""
          }
        },
        "9d420f92b3fc44ec96e3a5345c4ec447": {
          "model_module": "@jupyter-widgets/controls",
          "model_name": "HBoxModel",
          "model_module_version": "1.5.0",
          "state": {
            "_dom_classes": [],
            "_model_module": "@jupyter-widgets/controls",
            "_model_module_version": "1.5.0",
            "_model_name": "HBoxModel",
            "_view_count": null,
            "_view_module": "@jupyter-widgets/controls",
            "_view_module_version": "1.5.0",
            "_view_name": "HBoxView",
            "box_style": "",
            "children": [
              "IPY_MODEL_f04cdf39cc2548ca91cdf0b4e32d4682",
              "IPY_MODEL_7d51f8070a634630be3054095f3fac03",
              "IPY_MODEL_36e0f3153c4b47cdbe3fc2f82fb9df5a"
            ],
            "layout": "IPY_MODEL_ad4619561fc5411bb99b5f5297fd9a6e"
          }
        },
        "f04cdf39cc2548ca91cdf0b4e32d4682": {
          "model_module": "@jupyter-widgets/controls",
          "model_name": "HTMLModel",
          "model_module_version": "1.5.0",
          "state": {
            "_dom_classes": [],
            "_model_module": "@jupyter-widgets/controls",
            "_model_module_version": "1.5.0",
            "_model_name": "HTMLModel",
            "_view_count": null,
            "_view_module": "@jupyter-widgets/controls",
            "_view_module_version": "1.5.0",
            "_view_name": "HTMLView",
            "description": "",
            "description_tooltip": null,
            "layout": "IPY_MODEL_bb41ffd63cbc4380837b92e5e3eb8519",
            "placeholder": "​",
            "style": "IPY_MODEL_fd766cfdfaa843e0b42d177a56e1dc40",
            "value": "100%"
          }
        },
        "7d51f8070a634630be3054095f3fac03": {
          "model_module": "@jupyter-widgets/controls",
          "model_name": "FloatProgressModel",
          "model_module_version": "1.5.0",
          "state": {
            "_dom_classes": [],
            "_model_module": "@jupyter-widgets/controls",
            "_model_module_version": "1.5.0",
            "_model_name": "FloatProgressModel",
            "_view_count": null,
            "_view_module": "@jupyter-widgets/controls",
            "_view_module_version": "1.5.0",
            "_view_name": "ProgressView",
            "bar_style": "success",
            "description": "",
            "description_tooltip": null,
            "layout": "IPY_MODEL_bd04f874467849ccb05e20d8816f2179",
            "max": 2,
            "min": 0,
            "orientation": "horizontal",
            "style": "IPY_MODEL_a79ca45be79d461cbf787edf6e93e7b7",
            "value": 2
          }
        },
        "36e0f3153c4b47cdbe3fc2f82fb9df5a": {
          "model_module": "@jupyter-widgets/controls",
          "model_name": "HTMLModel",
          "model_module_version": "1.5.0",
          "state": {
            "_dom_classes": [],
            "_model_module": "@jupyter-widgets/controls",
            "_model_module_version": "1.5.0",
            "_model_name": "HTMLModel",
            "_view_count": null,
            "_view_module": "@jupyter-widgets/controls",
            "_view_module_version": "1.5.0",
            "_view_name": "HTMLView",
            "description": "",
            "description_tooltip": null,
            "layout": "IPY_MODEL_d8dee6c172254933b30bb4ac17a79ad1",
            "placeholder": "​",
            "style": "IPY_MODEL_d23db09204e648f3bebace63327f01a2",
            "value": " 2/2 [00:06&lt;00:00,  2.87s/ba]"
          }
        },
        "ad4619561fc5411bb99b5f5297fd9a6e": {
          "model_module": "@jupyter-widgets/base",
          "model_name": "LayoutModel",
          "model_module_version": "1.2.0",
          "state": {
            "_model_module": "@jupyter-widgets/base",
            "_model_module_version": "1.2.0",
            "_model_name": "LayoutModel",
            "_view_count": null,
            "_view_module": "@jupyter-widgets/base",
            "_view_module_version": "1.2.0",
            "_view_name": "LayoutView",
            "align_content": null,
            "align_items": null,
            "align_self": null,
            "border": null,
            "bottom": null,
            "display": null,
            "flex": null,
            "flex_flow": null,
            "grid_area": null,
            "grid_auto_columns": null,
            "grid_auto_flow": null,
            "grid_auto_rows": null,
            "grid_column": null,
            "grid_gap": null,
            "grid_row": null,
            "grid_template_areas": null,
            "grid_template_columns": null,
            "grid_template_rows": null,
            "height": null,
            "justify_content": null,
            "justify_items": null,
            "left": null,
            "margin": null,
            "max_height": null,
            "max_width": null,
            "min_height": null,
            "min_width": null,
            "object_fit": null,
            "object_position": null,
            "order": null,
            "overflow": null,
            "overflow_x": null,
            "overflow_y": null,
            "padding": null,
            "right": null,
            "top": null,
            "visibility": null,
            "width": null
          }
        },
        "bb41ffd63cbc4380837b92e5e3eb8519": {
          "model_module": "@jupyter-widgets/base",
          "model_name": "LayoutModel",
          "model_module_version": "1.2.0",
          "state": {
            "_model_module": "@jupyter-widgets/base",
            "_model_module_version": "1.2.0",
            "_model_name": "LayoutModel",
            "_view_count": null,
            "_view_module": "@jupyter-widgets/base",
            "_view_module_version": "1.2.0",
            "_view_name": "LayoutView",
            "align_content": null,
            "align_items": null,
            "align_self": null,
            "border": null,
            "bottom": null,
            "display": null,
            "flex": null,
            "flex_flow": null,
            "grid_area": null,
            "grid_auto_columns": null,
            "grid_auto_flow": null,
            "grid_auto_rows": null,
            "grid_column": null,
            "grid_gap": null,
            "grid_row": null,
            "grid_template_areas": null,
            "grid_template_columns": null,
            "grid_template_rows": null,
            "height": null,
            "justify_content": null,
            "justify_items": null,
            "left": null,
            "margin": null,
            "max_height": null,
            "max_width": null,
            "min_height": null,
            "min_width": null,
            "object_fit": null,
            "object_position": null,
            "order": null,
            "overflow": null,
            "overflow_x": null,
            "overflow_y": null,
            "padding": null,
            "right": null,
            "top": null,
            "visibility": null,
            "width": null
          }
        },
        "fd766cfdfaa843e0b42d177a56e1dc40": {
          "model_module": "@jupyter-widgets/controls",
          "model_name": "DescriptionStyleModel",
          "model_module_version": "1.5.0",
          "state": {
            "_model_module": "@jupyter-widgets/controls",
            "_model_module_version": "1.5.0",
            "_model_name": "DescriptionStyleModel",
            "_view_count": null,
            "_view_module": "@jupyter-widgets/base",
            "_view_module_version": "1.2.0",
            "_view_name": "StyleView",
            "description_width": ""
          }
        },
        "bd04f874467849ccb05e20d8816f2179": {
          "model_module": "@jupyter-widgets/base",
          "model_name": "LayoutModel",
          "model_module_version": "1.2.0",
          "state": {
            "_model_module": "@jupyter-widgets/base",
            "_model_module_version": "1.2.0",
            "_model_name": "LayoutModel",
            "_view_count": null,
            "_view_module": "@jupyter-widgets/base",
            "_view_module_version": "1.2.0",
            "_view_name": "LayoutView",
            "align_content": null,
            "align_items": null,
            "align_self": null,
            "border": null,
            "bottom": null,
            "display": null,
            "flex": null,
            "flex_flow": null,
            "grid_area": null,
            "grid_auto_columns": null,
            "grid_auto_flow": null,
            "grid_auto_rows": null,
            "grid_column": null,
            "grid_gap": null,
            "grid_row": null,
            "grid_template_areas": null,
            "grid_template_columns": null,
            "grid_template_rows": null,
            "height": null,
            "justify_content": null,
            "justify_items": null,
            "left": null,
            "margin": null,
            "max_height": null,
            "max_width": null,
            "min_height": null,
            "min_width": null,
            "object_fit": null,
            "object_position": null,
            "order": null,
            "overflow": null,
            "overflow_x": null,
            "overflow_y": null,
            "padding": null,
            "right": null,
            "top": null,
            "visibility": null,
            "width": null
          }
        },
        "a79ca45be79d461cbf787edf6e93e7b7": {
          "model_module": "@jupyter-widgets/controls",
          "model_name": "ProgressStyleModel",
          "model_module_version": "1.5.0",
          "state": {
            "_model_module": "@jupyter-widgets/controls",
            "_model_module_version": "1.5.0",
            "_model_name": "ProgressStyleModel",
            "_view_count": null,
            "_view_module": "@jupyter-widgets/base",
            "_view_module_version": "1.2.0",
            "_view_name": "StyleView",
            "bar_color": null,
            "description_width": ""
          }
        },
        "d8dee6c172254933b30bb4ac17a79ad1": {
          "model_module": "@jupyter-widgets/base",
          "model_name": "LayoutModel",
          "model_module_version": "1.2.0",
          "state": {
            "_model_module": "@jupyter-widgets/base",
            "_model_module_version": "1.2.0",
            "_model_name": "LayoutModel",
            "_view_count": null,
            "_view_module": "@jupyter-widgets/base",
            "_view_module_version": "1.2.0",
            "_view_name": "LayoutView",
            "align_content": null,
            "align_items": null,
            "align_self": null,
            "border": null,
            "bottom": null,
            "display": null,
            "flex": null,
            "flex_flow": null,
            "grid_area": null,
            "grid_auto_columns": null,
            "grid_auto_flow": null,
            "grid_auto_rows": null,
            "grid_column": null,
            "grid_gap": null,
            "grid_row": null,
            "grid_template_areas": null,
            "grid_template_columns": null,
            "grid_template_rows": null,
            "height": null,
            "justify_content": null,
            "justify_items": null,
            "left": null,
            "margin": null,
            "max_height": null,
            "max_width": null,
            "min_height": null,
            "min_width": null,
            "object_fit": null,
            "object_position": null,
            "order": null,
            "overflow": null,
            "overflow_x": null,
            "overflow_y": null,
            "padding": null,
            "right": null,
            "top": null,
            "visibility": null,
            "width": null
          }
        },
        "d23db09204e648f3bebace63327f01a2": {
          "model_module": "@jupyter-widgets/controls",
          "model_name": "DescriptionStyleModel",
          "model_module_version": "1.5.0",
          "state": {
            "_model_module": "@jupyter-widgets/controls",
            "_model_module_version": "1.5.0",
            "_model_name": "DescriptionStyleModel",
            "_view_count": null,
            "_view_module": "@jupyter-widgets/base",
            "_view_module_version": "1.2.0",
            "_view_name": "StyleView",
            "description_width": ""
          }
        },
        "e60e55e88c284ad9a176fd69dad5f513": {
          "model_module": "@jupyter-widgets/controls",
          "model_name": "HBoxModel",
          "model_module_version": "1.5.0",
          "state": {
            "_dom_classes": [],
            "_model_module": "@jupyter-widgets/controls",
            "_model_module_version": "1.5.0",
            "_model_name": "HBoxModel",
            "_view_count": null,
            "_view_module": "@jupyter-widgets/controls",
            "_view_module_version": "1.5.0",
            "_view_name": "HBoxView",
            "box_style": "",
            "children": [
              "IPY_MODEL_b6b687738f4d4b74869cb1fe379145b6",
              "IPY_MODEL_f9bc0e065b264ea3bff93254938f4246",
              "IPY_MODEL_ffef7266ce824d2b82b3d0d036b6a894"
            ],
            "layout": "IPY_MODEL_f51d20bcb3df4f3490bff8b602eea972"
          }
        },
        "b6b687738f4d4b74869cb1fe379145b6": {
          "model_module": "@jupyter-widgets/controls",
          "model_name": "HTMLModel",
          "model_module_version": "1.5.0",
          "state": {
            "_dom_classes": [],
            "_model_module": "@jupyter-widgets/controls",
            "_model_module_version": "1.5.0",
            "_model_name": "HTMLModel",
            "_view_count": null,
            "_view_module": "@jupyter-widgets/controls",
            "_view_module_version": "1.5.0",
            "_view_name": "HTMLView",
            "description": "",
            "description_tooltip": null,
            "layout": "IPY_MODEL_12845978d6234ea08fca7eb7ea1ab498",
            "placeholder": "​",
            "style": "IPY_MODEL_c1066dc075d04577b9a63f6c74feedbc",
            "value": "100%"
          }
        },
        "f9bc0e065b264ea3bff93254938f4246": {
          "model_module": "@jupyter-widgets/controls",
          "model_name": "FloatProgressModel",
          "model_module_version": "1.5.0",
          "state": {
            "_dom_classes": [],
            "_model_module": "@jupyter-widgets/controls",
            "_model_module_version": "1.5.0",
            "_model_name": "FloatProgressModel",
            "_view_count": null,
            "_view_module": "@jupyter-widgets/controls",
            "_view_module_version": "1.5.0",
            "_view_name": "ProgressView",
            "bar_style": "success",
            "description": "",
            "description_tooltip": null,
            "layout": "IPY_MODEL_8299f22885c2425e9e5b899bcaa682fa",
            "max": 2,
            "min": 0,
            "orientation": "horizontal",
            "style": "IPY_MODEL_b535590cd2d14c3588562ac004cc417d",
            "value": 2
          }
        },
        "ffef7266ce824d2b82b3d0d036b6a894": {
          "model_module": "@jupyter-widgets/controls",
          "model_name": "HTMLModel",
          "model_module_version": "1.5.0",
          "state": {
            "_dom_classes": [],
            "_model_module": "@jupyter-widgets/controls",
            "_model_module_version": "1.5.0",
            "_model_name": "HTMLModel",
            "_view_count": null,
            "_view_module": "@jupyter-widgets/controls",
            "_view_module_version": "1.5.0",
            "_view_name": "HTMLView",
            "description": "",
            "description_tooltip": null,
            "layout": "IPY_MODEL_4f3b25ff1f4e46e88f2d76bb9cd08fa9",
            "placeholder": "​",
            "style": "IPY_MODEL_5eb36ac533ff421196ba3e65b6ba87db",
            "value": " 2/2 [00:06&lt;00:00,  2.91s/ba]"
          }
        },
        "f51d20bcb3df4f3490bff8b602eea972": {
          "model_module": "@jupyter-widgets/base",
          "model_name": "LayoutModel",
          "model_module_version": "1.2.0",
          "state": {
            "_model_module": "@jupyter-widgets/base",
            "_model_module_version": "1.2.0",
            "_model_name": "LayoutModel",
            "_view_count": null,
            "_view_module": "@jupyter-widgets/base",
            "_view_module_version": "1.2.0",
            "_view_name": "LayoutView",
            "align_content": null,
            "align_items": null,
            "align_self": null,
            "border": null,
            "bottom": null,
            "display": null,
            "flex": null,
            "flex_flow": null,
            "grid_area": null,
            "grid_auto_columns": null,
            "grid_auto_flow": null,
            "grid_auto_rows": null,
            "grid_column": null,
            "grid_gap": null,
            "grid_row": null,
            "grid_template_areas": null,
            "grid_template_columns": null,
            "grid_template_rows": null,
            "height": null,
            "justify_content": null,
            "justify_items": null,
            "left": null,
            "margin": null,
            "max_height": null,
            "max_width": null,
            "min_height": null,
            "min_width": null,
            "object_fit": null,
            "object_position": null,
            "order": null,
            "overflow": null,
            "overflow_x": null,
            "overflow_y": null,
            "padding": null,
            "right": null,
            "top": null,
            "visibility": null,
            "width": null
          }
        },
        "12845978d6234ea08fca7eb7ea1ab498": {
          "model_module": "@jupyter-widgets/base",
          "model_name": "LayoutModel",
          "model_module_version": "1.2.0",
          "state": {
            "_model_module": "@jupyter-widgets/base",
            "_model_module_version": "1.2.0",
            "_model_name": "LayoutModel",
            "_view_count": null,
            "_view_module": "@jupyter-widgets/base",
            "_view_module_version": "1.2.0",
            "_view_name": "LayoutView",
            "align_content": null,
            "align_items": null,
            "align_self": null,
            "border": null,
            "bottom": null,
            "display": null,
            "flex": null,
            "flex_flow": null,
            "grid_area": null,
            "grid_auto_columns": null,
            "grid_auto_flow": null,
            "grid_auto_rows": null,
            "grid_column": null,
            "grid_gap": null,
            "grid_row": null,
            "grid_template_areas": null,
            "grid_template_columns": null,
            "grid_template_rows": null,
            "height": null,
            "justify_content": null,
            "justify_items": null,
            "left": null,
            "margin": null,
            "max_height": null,
            "max_width": null,
            "min_height": null,
            "min_width": null,
            "object_fit": null,
            "object_position": null,
            "order": null,
            "overflow": null,
            "overflow_x": null,
            "overflow_y": null,
            "padding": null,
            "right": null,
            "top": null,
            "visibility": null,
            "width": null
          }
        },
        "c1066dc075d04577b9a63f6c74feedbc": {
          "model_module": "@jupyter-widgets/controls",
          "model_name": "DescriptionStyleModel",
          "model_module_version": "1.5.0",
          "state": {
            "_model_module": "@jupyter-widgets/controls",
            "_model_module_version": "1.5.0",
            "_model_name": "DescriptionStyleModel",
            "_view_count": null,
            "_view_module": "@jupyter-widgets/base",
            "_view_module_version": "1.2.0",
            "_view_name": "StyleView",
            "description_width": ""
          }
        },
        "8299f22885c2425e9e5b899bcaa682fa": {
          "model_module": "@jupyter-widgets/base",
          "model_name": "LayoutModel",
          "model_module_version": "1.2.0",
          "state": {
            "_model_module": "@jupyter-widgets/base",
            "_model_module_version": "1.2.0",
            "_model_name": "LayoutModel",
            "_view_count": null,
            "_view_module": "@jupyter-widgets/base",
            "_view_module_version": "1.2.0",
            "_view_name": "LayoutView",
            "align_content": null,
            "align_items": null,
            "align_self": null,
            "border": null,
            "bottom": null,
            "display": null,
            "flex": null,
            "flex_flow": null,
            "grid_area": null,
            "grid_auto_columns": null,
            "grid_auto_flow": null,
            "grid_auto_rows": null,
            "grid_column": null,
            "grid_gap": null,
            "grid_row": null,
            "grid_template_areas": null,
            "grid_template_columns": null,
            "grid_template_rows": null,
            "height": null,
            "justify_content": null,
            "justify_items": null,
            "left": null,
            "margin": null,
            "max_height": null,
            "max_width": null,
            "min_height": null,
            "min_width": null,
            "object_fit": null,
            "object_position": null,
            "order": null,
            "overflow": null,
            "overflow_x": null,
            "overflow_y": null,
            "padding": null,
            "right": null,
            "top": null,
            "visibility": null,
            "width": null
          }
        },
        "b535590cd2d14c3588562ac004cc417d": {
          "model_module": "@jupyter-widgets/controls",
          "model_name": "ProgressStyleModel",
          "model_module_version": "1.5.0",
          "state": {
            "_model_module": "@jupyter-widgets/controls",
            "_model_module_version": "1.5.0",
            "_model_name": "ProgressStyleModel",
            "_view_count": null,
            "_view_module": "@jupyter-widgets/base",
            "_view_module_version": "1.2.0",
            "_view_name": "StyleView",
            "bar_color": null,
            "description_width": ""
          }
        },
        "4f3b25ff1f4e46e88f2d76bb9cd08fa9": {
          "model_module": "@jupyter-widgets/base",
          "model_name": "LayoutModel",
          "model_module_version": "1.2.0",
          "state": {
            "_model_module": "@jupyter-widgets/base",
            "_model_module_version": "1.2.0",
            "_model_name": "LayoutModel",
            "_view_count": null,
            "_view_module": "@jupyter-widgets/base",
            "_view_module_version": "1.2.0",
            "_view_name": "LayoutView",
            "align_content": null,
            "align_items": null,
            "align_self": null,
            "border": null,
            "bottom": null,
            "display": null,
            "flex": null,
            "flex_flow": null,
            "grid_area": null,
            "grid_auto_columns": null,
            "grid_auto_flow": null,
            "grid_auto_rows": null,
            "grid_column": null,
            "grid_gap": null,
            "grid_row": null,
            "grid_template_areas": null,
            "grid_template_columns": null,
            "grid_template_rows": null,
            "height": null,
            "justify_content": null,
            "justify_items": null,
            "left": null,
            "margin": null,
            "max_height": null,
            "max_width": null,
            "min_height": null,
            "min_width": null,
            "object_fit": null,
            "object_position": null,
            "order": null,
            "overflow": null,
            "overflow_x": null,
            "overflow_y": null,
            "padding": null,
            "right": null,
            "top": null,
            "visibility": null,
            "width": null
          }
        },
        "5eb36ac533ff421196ba3e65b6ba87db": {
          "model_module": "@jupyter-widgets/controls",
          "model_name": "DescriptionStyleModel",
          "model_module_version": "1.5.0",
          "state": {
            "_model_module": "@jupyter-widgets/controls",
            "_model_module_version": "1.5.0",
            "_model_name": "DescriptionStyleModel",
            "_view_count": null,
            "_view_module": "@jupyter-widgets/base",
            "_view_module_version": "1.2.0",
            "_view_name": "StyleView",
            "description_width": ""
          }
        },
        "5662fbb9288745eabed1774900b25a10": {
          "model_module": "@jupyter-widgets/controls",
          "model_name": "HBoxModel",
          "model_module_version": "1.5.0",
          "state": {
            "_dom_classes": [],
            "_model_module": "@jupyter-widgets/controls",
            "_model_module_version": "1.5.0",
            "_model_name": "HBoxModel",
            "_view_count": null,
            "_view_module": "@jupyter-widgets/controls",
            "_view_module_version": "1.5.0",
            "_view_name": "HBoxView",
            "box_style": "",
            "children": [
              "IPY_MODEL_e8a750173e664f199069076fa42ea0de",
              "IPY_MODEL_ea714d62f18a4d8ebe010fa34acddcfe",
              "IPY_MODEL_e13c23712abc410699bee709ac4474b5"
            ],
            "layout": "IPY_MODEL_9c2f009c33c04b42800fbc2d26699994"
          }
        },
        "e8a750173e664f199069076fa42ea0de": {
          "model_module": "@jupyter-widgets/controls",
          "model_name": "HTMLModel",
          "model_module_version": "1.5.0",
          "state": {
            "_dom_classes": [],
            "_model_module": "@jupyter-widgets/controls",
            "_model_module_version": "1.5.0",
            "_model_name": "HTMLModel",
            "_view_count": null,
            "_view_module": "@jupyter-widgets/controls",
            "_view_module_version": "1.5.0",
            "_view_name": "HTMLView",
            "description": "",
            "description_tooltip": null,
            "layout": "IPY_MODEL_1bfa4a911268403b83ffa9fdacae3b0b",
            "placeholder": "​",
            "style": "IPY_MODEL_c61e702caff14a24b2861da78545bd8a",
            "value": "Downloading: 100%"
          }
        },
        "ea714d62f18a4d8ebe010fa34acddcfe": {
          "model_module": "@jupyter-widgets/controls",
          "model_name": "FloatProgressModel",
          "model_module_version": "1.5.0",
          "state": {
            "_dom_classes": [],
            "_model_module": "@jupyter-widgets/controls",
            "_model_module_version": "1.5.0",
            "_model_name": "FloatProgressModel",
            "_view_count": null,
            "_view_module": "@jupyter-widgets/controls",
            "_view_module_version": "1.5.0",
            "_view_name": "ProgressView",
            "bar_style": "success",
            "description": "",
            "description_tooltip": null,
            "layout": "IPY_MODEL_d66f478106d74ce4ab5b562ec24ab358",
            "max": 571,
            "min": 0,
            "orientation": "horizontal",
            "style": "IPY_MODEL_bbbcad66e0894c62b526369fe602361a",
            "value": 571
          }
        },
        "e13c23712abc410699bee709ac4474b5": {
          "model_module": "@jupyter-widgets/controls",
          "model_name": "HTMLModel",
          "model_module_version": "1.5.0",
          "state": {
            "_dom_classes": [],
            "_model_module": "@jupyter-widgets/controls",
            "_model_module_version": "1.5.0",
            "_model_name": "HTMLModel",
            "_view_count": null,
            "_view_module": "@jupyter-widgets/controls",
            "_view_module_version": "1.5.0",
            "_view_name": "HTMLView",
            "description": "",
            "description_tooltip": null,
            "layout": "IPY_MODEL_7cee34bd1f1f451fbc09a76ae32dbf08",
            "placeholder": "​",
            "style": "IPY_MODEL_d4f47c3c9efb45628bf69daec9d7cea7",
            "value": " 571/571 [00:00&lt;00:00, 4.41kB/s]"
          }
        },
        "9c2f009c33c04b42800fbc2d26699994": {
          "model_module": "@jupyter-widgets/base",
          "model_name": "LayoutModel",
          "model_module_version": "1.2.0",
          "state": {
            "_model_module": "@jupyter-widgets/base",
            "_model_module_version": "1.2.0",
            "_model_name": "LayoutModel",
            "_view_count": null,
            "_view_module": "@jupyter-widgets/base",
            "_view_module_version": "1.2.0",
            "_view_name": "LayoutView",
            "align_content": null,
            "align_items": null,
            "align_self": null,
            "border": null,
            "bottom": null,
            "display": null,
            "flex": null,
            "flex_flow": null,
            "grid_area": null,
            "grid_auto_columns": null,
            "grid_auto_flow": null,
            "grid_auto_rows": null,
            "grid_column": null,
            "grid_gap": null,
            "grid_row": null,
            "grid_template_areas": null,
            "grid_template_columns": null,
            "grid_template_rows": null,
            "height": null,
            "justify_content": null,
            "justify_items": null,
            "left": null,
            "margin": null,
            "max_height": null,
            "max_width": null,
            "min_height": null,
            "min_width": null,
            "object_fit": null,
            "object_position": null,
            "order": null,
            "overflow": null,
            "overflow_x": null,
            "overflow_y": null,
            "padding": null,
            "right": null,
            "top": null,
            "visibility": null,
            "width": null
          }
        },
        "1bfa4a911268403b83ffa9fdacae3b0b": {
          "model_module": "@jupyter-widgets/base",
          "model_name": "LayoutModel",
          "model_module_version": "1.2.0",
          "state": {
            "_model_module": "@jupyter-widgets/base",
            "_model_module_version": "1.2.0",
            "_model_name": "LayoutModel",
            "_view_count": null,
            "_view_module": "@jupyter-widgets/base",
            "_view_module_version": "1.2.0",
            "_view_name": "LayoutView",
            "align_content": null,
            "align_items": null,
            "align_self": null,
            "border": null,
            "bottom": null,
            "display": null,
            "flex": null,
            "flex_flow": null,
            "grid_area": null,
            "grid_auto_columns": null,
            "grid_auto_flow": null,
            "grid_auto_rows": null,
            "grid_column": null,
            "grid_gap": null,
            "grid_row": null,
            "grid_template_areas": null,
            "grid_template_columns": null,
            "grid_template_rows": null,
            "height": null,
            "justify_content": null,
            "justify_items": null,
            "left": null,
            "margin": null,
            "max_height": null,
            "max_width": null,
            "min_height": null,
            "min_width": null,
            "object_fit": null,
            "object_position": null,
            "order": null,
            "overflow": null,
            "overflow_x": null,
            "overflow_y": null,
            "padding": null,
            "right": null,
            "top": null,
            "visibility": null,
            "width": null
          }
        },
        "c61e702caff14a24b2861da78545bd8a": {
          "model_module": "@jupyter-widgets/controls",
          "model_name": "DescriptionStyleModel",
          "model_module_version": "1.5.0",
          "state": {
            "_model_module": "@jupyter-widgets/controls",
            "_model_module_version": "1.5.0",
            "_model_name": "DescriptionStyleModel",
            "_view_count": null,
            "_view_module": "@jupyter-widgets/base",
            "_view_module_version": "1.2.0",
            "_view_name": "StyleView",
            "description_width": ""
          }
        },
        "d66f478106d74ce4ab5b562ec24ab358": {
          "model_module": "@jupyter-widgets/base",
          "model_name": "LayoutModel",
          "model_module_version": "1.2.0",
          "state": {
            "_model_module": "@jupyter-widgets/base",
            "_model_module_version": "1.2.0",
            "_model_name": "LayoutModel",
            "_view_count": null,
            "_view_module": "@jupyter-widgets/base",
            "_view_module_version": "1.2.0",
            "_view_name": "LayoutView",
            "align_content": null,
            "align_items": null,
            "align_self": null,
            "border": null,
            "bottom": null,
            "display": null,
            "flex": null,
            "flex_flow": null,
            "grid_area": null,
            "grid_auto_columns": null,
            "grid_auto_flow": null,
            "grid_auto_rows": null,
            "grid_column": null,
            "grid_gap": null,
            "grid_row": null,
            "grid_template_areas": null,
            "grid_template_columns": null,
            "grid_template_rows": null,
            "height": null,
            "justify_content": null,
            "justify_items": null,
            "left": null,
            "margin": null,
            "max_height": null,
            "max_width": null,
            "min_height": null,
            "min_width": null,
            "object_fit": null,
            "object_position": null,
            "order": null,
            "overflow": null,
            "overflow_x": null,
            "overflow_y": null,
            "padding": null,
            "right": null,
            "top": null,
            "visibility": null,
            "width": null
          }
        },
        "bbbcad66e0894c62b526369fe602361a": {
          "model_module": "@jupyter-widgets/controls",
          "model_name": "ProgressStyleModel",
          "model_module_version": "1.5.0",
          "state": {
            "_model_module": "@jupyter-widgets/controls",
            "_model_module_version": "1.5.0",
            "_model_name": "ProgressStyleModel",
            "_view_count": null,
            "_view_module": "@jupyter-widgets/base",
            "_view_module_version": "1.2.0",
            "_view_name": "StyleView",
            "bar_color": null,
            "description_width": ""
          }
        },
        "7cee34bd1f1f451fbc09a76ae32dbf08": {
          "model_module": "@jupyter-widgets/base",
          "model_name": "LayoutModel",
          "model_module_version": "1.2.0",
          "state": {
            "_model_module": "@jupyter-widgets/base",
            "_model_module_version": "1.2.0",
            "_model_name": "LayoutModel",
            "_view_count": null,
            "_view_module": "@jupyter-widgets/base",
            "_view_module_version": "1.2.0",
            "_view_name": "LayoutView",
            "align_content": null,
            "align_items": null,
            "align_self": null,
            "border": null,
            "bottom": null,
            "display": null,
            "flex": null,
            "flex_flow": null,
            "grid_area": null,
            "grid_auto_columns": null,
            "grid_auto_flow": null,
            "grid_auto_rows": null,
            "grid_column": null,
            "grid_gap": null,
            "grid_row": null,
            "grid_template_areas": null,
            "grid_template_columns": null,
            "grid_template_rows": null,
            "height": null,
            "justify_content": null,
            "justify_items": null,
            "left": null,
            "margin": null,
            "max_height": null,
            "max_width": null,
            "min_height": null,
            "min_width": null,
            "object_fit": null,
            "object_position": null,
            "order": null,
            "overflow": null,
            "overflow_x": null,
            "overflow_y": null,
            "padding": null,
            "right": null,
            "top": null,
            "visibility": null,
            "width": null
          }
        },
        "d4f47c3c9efb45628bf69daec9d7cea7": {
          "model_module": "@jupyter-widgets/controls",
          "model_name": "DescriptionStyleModel",
          "model_module_version": "1.5.0",
          "state": {
            "_model_module": "@jupyter-widgets/controls",
            "_model_module_version": "1.5.0",
            "_model_name": "DescriptionStyleModel",
            "_view_count": null,
            "_view_module": "@jupyter-widgets/base",
            "_view_module_version": "1.2.0",
            "_view_name": "StyleView",
            "description_width": ""
          }
        },
        "0b2226b0929a4c719d01fec6a4c68cdb": {
          "model_module": "@jupyter-widgets/controls",
          "model_name": "HBoxModel",
          "model_module_version": "1.5.0",
          "state": {
            "_dom_classes": [],
            "_model_module": "@jupyter-widgets/controls",
            "_model_module_version": "1.5.0",
            "_model_name": "HBoxModel",
            "_view_count": null,
            "_view_module": "@jupyter-widgets/controls",
            "_view_module_version": "1.5.0",
            "_view_name": "HBoxView",
            "box_style": "",
            "children": [
              "IPY_MODEL_c18a789fb2be4761b525fa9673f6be5a",
              "IPY_MODEL_ef8e3e9a42d746eba834d741cbd9a910",
              "IPY_MODEL_98c844888dcf4abdae36ab5a47d236dc"
            ],
            "layout": "IPY_MODEL_c983d85b793948469564ffba65448177"
          }
        },
        "c18a789fb2be4761b525fa9673f6be5a": {
          "model_module": "@jupyter-widgets/controls",
          "model_name": "HTMLModel",
          "model_module_version": "1.5.0",
          "state": {
            "_dom_classes": [],
            "_model_module": "@jupyter-widgets/controls",
            "_model_module_version": "1.5.0",
            "_model_name": "HTMLModel",
            "_view_count": null,
            "_view_module": "@jupyter-widgets/controls",
            "_view_module_version": "1.5.0",
            "_view_name": "HTMLView",
            "description": "",
            "description_tooltip": null,
            "layout": "IPY_MODEL_7f930e04c6124e2498caa847a5f2c3ef",
            "placeholder": "​",
            "style": "IPY_MODEL_dd5d1dc1f0f04477933b9ab9c3808124",
            "value": "Downloading: 100%"
          }
        },
        "ef8e3e9a42d746eba834d741cbd9a910": {
          "model_module": "@jupyter-widgets/controls",
          "model_name": "FloatProgressModel",
          "model_module_version": "1.5.0",
          "state": {
            "_dom_classes": [],
            "_model_module": "@jupyter-widgets/controls",
            "_model_module_version": "1.5.0",
            "_model_name": "FloatProgressModel",
            "_view_count": null,
            "_view_module": "@jupyter-widgets/controls",
            "_view_module_version": "1.5.0",
            "_view_name": "ProgressView",
            "bar_style": "success",
            "description": "",
            "description_tooltip": null,
            "layout": "IPY_MODEL_f6adc161ef4944f8bc40375b4ed7fc0e",
            "max": 1344997306,
            "min": 0,
            "orientation": "horizontal",
            "style": "IPY_MODEL_42619a0fa02f495c9f6ff62d7f4c3e4d",
            "value": 1344997306
          }
        },
        "98c844888dcf4abdae36ab5a47d236dc": {
          "model_module": "@jupyter-widgets/controls",
          "model_name": "HTMLModel",
          "model_module_version": "1.5.0",
          "state": {
            "_dom_classes": [],
            "_model_module": "@jupyter-widgets/controls",
            "_model_module_version": "1.5.0",
            "_model_name": "HTMLModel",
            "_view_count": null,
            "_view_module": "@jupyter-widgets/controls",
            "_view_module_version": "1.5.0",
            "_view_name": "HTMLView",
            "description": "",
            "description_tooltip": null,
            "layout": "IPY_MODEL_02088549fc354213b668d2c7d4566636",
            "placeholder": "​",
            "style": "IPY_MODEL_a0b9b1af9937469bb3d7110079a1aa8a",
            "value": " 1.25G/1.25G [01:43&lt;00:00, 32.1MB/s]"
          }
        },
        "c983d85b793948469564ffba65448177": {
          "model_module": "@jupyter-widgets/base",
          "model_name": "LayoutModel",
          "model_module_version": "1.2.0",
          "state": {
            "_model_module": "@jupyter-widgets/base",
            "_model_module_version": "1.2.0",
            "_model_name": "LayoutModel",
            "_view_count": null,
            "_view_module": "@jupyter-widgets/base",
            "_view_module_version": "1.2.0",
            "_view_name": "LayoutView",
            "align_content": null,
            "align_items": null,
            "align_self": null,
            "border": null,
            "bottom": null,
            "display": null,
            "flex": null,
            "flex_flow": null,
            "grid_area": null,
            "grid_auto_columns": null,
            "grid_auto_flow": null,
            "grid_auto_rows": null,
            "grid_column": null,
            "grid_gap": null,
            "grid_row": null,
            "grid_template_areas": null,
            "grid_template_columns": null,
            "grid_template_rows": null,
            "height": null,
            "justify_content": null,
            "justify_items": null,
            "left": null,
            "margin": null,
            "max_height": null,
            "max_width": null,
            "min_height": null,
            "min_width": null,
            "object_fit": null,
            "object_position": null,
            "order": null,
            "overflow": null,
            "overflow_x": null,
            "overflow_y": null,
            "padding": null,
            "right": null,
            "top": null,
            "visibility": null,
            "width": null
          }
        },
        "7f930e04c6124e2498caa847a5f2c3ef": {
          "model_module": "@jupyter-widgets/base",
          "model_name": "LayoutModel",
          "model_module_version": "1.2.0",
          "state": {
            "_model_module": "@jupyter-widgets/base",
            "_model_module_version": "1.2.0",
            "_model_name": "LayoutModel",
            "_view_count": null,
            "_view_module": "@jupyter-widgets/base",
            "_view_module_version": "1.2.0",
            "_view_name": "LayoutView",
            "align_content": null,
            "align_items": null,
            "align_self": null,
            "border": null,
            "bottom": null,
            "display": null,
            "flex": null,
            "flex_flow": null,
            "grid_area": null,
            "grid_auto_columns": null,
            "grid_auto_flow": null,
            "grid_auto_rows": null,
            "grid_column": null,
            "grid_gap": null,
            "grid_row": null,
            "grid_template_areas": null,
            "grid_template_columns": null,
            "grid_template_rows": null,
            "height": null,
            "justify_content": null,
            "justify_items": null,
            "left": null,
            "margin": null,
            "max_height": null,
            "max_width": null,
            "min_height": null,
            "min_width": null,
            "object_fit": null,
            "object_position": null,
            "order": null,
            "overflow": null,
            "overflow_x": null,
            "overflow_y": null,
            "padding": null,
            "right": null,
            "top": null,
            "visibility": null,
            "width": null
          }
        },
        "dd5d1dc1f0f04477933b9ab9c3808124": {
          "model_module": "@jupyter-widgets/controls",
          "model_name": "DescriptionStyleModel",
          "model_module_version": "1.5.0",
          "state": {
            "_model_module": "@jupyter-widgets/controls",
            "_model_module_version": "1.5.0",
            "_model_name": "DescriptionStyleModel",
            "_view_count": null,
            "_view_module": "@jupyter-widgets/base",
            "_view_module_version": "1.2.0",
            "_view_name": "StyleView",
            "description_width": ""
          }
        },
        "f6adc161ef4944f8bc40375b4ed7fc0e": {
          "model_module": "@jupyter-widgets/base",
          "model_name": "LayoutModel",
          "model_module_version": "1.2.0",
          "state": {
            "_model_module": "@jupyter-widgets/base",
            "_model_module_version": "1.2.0",
            "_model_name": "LayoutModel",
            "_view_count": null,
            "_view_module": "@jupyter-widgets/base",
            "_view_module_version": "1.2.0",
            "_view_name": "LayoutView",
            "align_content": null,
            "align_items": null,
            "align_self": null,
            "border": null,
            "bottom": null,
            "display": null,
            "flex": null,
            "flex_flow": null,
            "grid_area": null,
            "grid_auto_columns": null,
            "grid_auto_flow": null,
            "grid_auto_rows": null,
            "grid_column": null,
            "grid_gap": null,
            "grid_row": null,
            "grid_template_areas": null,
            "grid_template_columns": null,
            "grid_template_rows": null,
            "height": null,
            "justify_content": null,
            "justify_items": null,
            "left": null,
            "margin": null,
            "max_height": null,
            "max_width": null,
            "min_height": null,
            "min_width": null,
            "object_fit": null,
            "object_position": null,
            "order": null,
            "overflow": null,
            "overflow_x": null,
            "overflow_y": null,
            "padding": null,
            "right": null,
            "top": null,
            "visibility": null,
            "width": null
          }
        },
        "42619a0fa02f495c9f6ff62d7f4c3e4d": {
          "model_module": "@jupyter-widgets/controls",
          "model_name": "ProgressStyleModel",
          "model_module_version": "1.5.0",
          "state": {
            "_model_module": "@jupyter-widgets/controls",
            "_model_module_version": "1.5.0",
            "_model_name": "ProgressStyleModel",
            "_view_count": null,
            "_view_module": "@jupyter-widgets/base",
            "_view_module_version": "1.2.0",
            "_view_name": "StyleView",
            "bar_color": null,
            "description_width": ""
          }
        },
        "02088549fc354213b668d2c7d4566636": {
          "model_module": "@jupyter-widgets/base",
          "model_name": "LayoutModel",
          "model_module_version": "1.2.0",
          "state": {
            "_model_module": "@jupyter-widgets/base",
            "_model_module_version": "1.2.0",
            "_model_name": "LayoutModel",
            "_view_count": null,
            "_view_module": "@jupyter-widgets/base",
            "_view_module_version": "1.2.0",
            "_view_name": "LayoutView",
            "align_content": null,
            "align_items": null,
            "align_self": null,
            "border": null,
            "bottom": null,
            "display": null,
            "flex": null,
            "flex_flow": null,
            "grid_area": null,
            "grid_auto_columns": null,
            "grid_auto_flow": null,
            "grid_auto_rows": null,
            "grid_column": null,
            "grid_gap": null,
            "grid_row": null,
            "grid_template_areas": null,
            "grid_template_columns": null,
            "grid_template_rows": null,
            "height": null,
            "justify_content": null,
            "justify_items": null,
            "left": null,
            "margin": null,
            "max_height": null,
            "max_width": null,
            "min_height": null,
            "min_width": null,
            "object_fit": null,
            "object_position": null,
            "order": null,
            "overflow": null,
            "overflow_x": null,
            "overflow_y": null,
            "padding": null,
            "right": null,
            "top": null,
            "visibility": null,
            "width": null
          }
        },
        "a0b9b1af9937469bb3d7110079a1aa8a": {
          "model_module": "@jupyter-widgets/controls",
          "model_name": "DescriptionStyleModel",
          "model_module_version": "1.5.0",
          "state": {
            "_model_module": "@jupyter-widgets/controls",
            "_model_module_version": "1.5.0",
            "_model_name": "DescriptionStyleModel",
            "_view_count": null,
            "_view_module": "@jupyter-widgets/base",
            "_view_module_version": "1.2.0",
            "_view_name": "StyleView",
            "description_width": ""
          }
        },
        "52452c42d18d4b7a8bc586ef159649d1": {
          "model_module": "@jupyter-widgets/controls",
          "model_name": "HBoxModel",
          "model_module_version": "1.5.0",
          "state": {
            "_dom_classes": [],
            "_model_module": "@jupyter-widgets/controls",
            "_model_module_version": "1.5.0",
            "_model_name": "HBoxModel",
            "_view_count": null,
            "_view_module": "@jupyter-widgets/controls",
            "_view_module_version": "1.5.0",
            "_view_name": "HBoxView",
            "box_style": "",
            "children": [
              "IPY_MODEL_42f6da0cdcb94fbf9239eefc643ce075",
              "IPY_MODEL_cff4f64f3f354aaca29f55430c2f6103",
              "IPY_MODEL_4f2ae81a603d4a93896ce6c46be318de"
            ],
            "layout": "IPY_MODEL_e33ad0a0351b480bb149de71ca632ad6"
          }
        },
        "42f6da0cdcb94fbf9239eefc643ce075": {
          "model_module": "@jupyter-widgets/controls",
          "model_name": "HTMLModel",
          "model_module_version": "1.5.0",
          "state": {
            "_dom_classes": [],
            "_model_module": "@jupyter-widgets/controls",
            "_model_module_version": "1.5.0",
            "_model_name": "HTMLModel",
            "_view_count": null,
            "_view_module": "@jupyter-widgets/controls",
            "_view_module_version": "1.5.0",
            "_view_name": "HTMLView",
            "description": "",
            "description_tooltip": null,
            "layout": "IPY_MODEL_6b4e8db69fd943f584b19f27a0378405",
            "placeholder": "​",
            "style": "IPY_MODEL_769f0500cec843bca1cfdf8aec312694",
            "value": "Downloading: 100%"
          }
        },
        "cff4f64f3f354aaca29f55430c2f6103": {
          "model_module": "@jupyter-widgets/controls",
          "model_name": "FloatProgressModel",
          "model_module_version": "1.5.0",
          "state": {
            "_dom_classes": [],
            "_model_module": "@jupyter-widgets/controls",
            "_model_module_version": "1.5.0",
            "_model_name": "FloatProgressModel",
            "_view_count": null,
            "_view_module": "@jupyter-widgets/controls",
            "_view_module_version": "1.5.0",
            "_view_name": "ProgressView",
            "bar_style": "success",
            "description": "",
            "description_tooltip": null,
            "layout": "IPY_MODEL_8b5fa1d2172c40f6999a01706febcc46",
            "max": 231508,
            "min": 0,
            "orientation": "horizontal",
            "style": "IPY_MODEL_1cc822585b6144af8101e584304de771",
            "value": 231508
          }
        },
        "4f2ae81a603d4a93896ce6c46be318de": {
          "model_module": "@jupyter-widgets/controls",
          "model_name": "HTMLModel",
          "model_module_version": "1.5.0",
          "state": {
            "_dom_classes": [],
            "_model_module": "@jupyter-widgets/controls",
            "_model_module_version": "1.5.0",
            "_model_name": "HTMLModel",
            "_view_count": null,
            "_view_module": "@jupyter-widgets/controls",
            "_view_module_version": "1.5.0",
            "_view_name": "HTMLView",
            "description": "",
            "description_tooltip": null,
            "layout": "IPY_MODEL_683f3ef27d1c4ccfb84916f57a74ecc3",
            "placeholder": "​",
            "style": "IPY_MODEL_02cade814fd44df9b461880ab7dae945",
            "value": " 226k/226k [00:00&lt;00:00, 1.40MB/s]"
          }
        },
        "e33ad0a0351b480bb149de71ca632ad6": {
          "model_module": "@jupyter-widgets/base",
          "model_name": "LayoutModel",
          "model_module_version": "1.2.0",
          "state": {
            "_model_module": "@jupyter-widgets/base",
            "_model_module_version": "1.2.0",
            "_model_name": "LayoutModel",
            "_view_count": null,
            "_view_module": "@jupyter-widgets/base",
            "_view_module_version": "1.2.0",
            "_view_name": "LayoutView",
            "align_content": null,
            "align_items": null,
            "align_self": null,
            "border": null,
            "bottom": null,
            "display": null,
            "flex": null,
            "flex_flow": null,
            "grid_area": null,
            "grid_auto_columns": null,
            "grid_auto_flow": null,
            "grid_auto_rows": null,
            "grid_column": null,
            "grid_gap": null,
            "grid_row": null,
            "grid_template_areas": null,
            "grid_template_columns": null,
            "grid_template_rows": null,
            "height": null,
            "justify_content": null,
            "justify_items": null,
            "left": null,
            "margin": null,
            "max_height": null,
            "max_width": null,
            "min_height": null,
            "min_width": null,
            "object_fit": null,
            "object_position": null,
            "order": null,
            "overflow": null,
            "overflow_x": null,
            "overflow_y": null,
            "padding": null,
            "right": null,
            "top": null,
            "visibility": null,
            "width": null
          }
        },
        "6b4e8db69fd943f584b19f27a0378405": {
          "model_module": "@jupyter-widgets/base",
          "model_name": "LayoutModel",
          "model_module_version": "1.2.0",
          "state": {
            "_model_module": "@jupyter-widgets/base",
            "_model_module_version": "1.2.0",
            "_model_name": "LayoutModel",
            "_view_count": null,
            "_view_module": "@jupyter-widgets/base",
            "_view_module_version": "1.2.0",
            "_view_name": "LayoutView",
            "align_content": null,
            "align_items": null,
            "align_self": null,
            "border": null,
            "bottom": null,
            "display": null,
            "flex": null,
            "flex_flow": null,
            "grid_area": null,
            "grid_auto_columns": null,
            "grid_auto_flow": null,
            "grid_auto_rows": null,
            "grid_column": null,
            "grid_gap": null,
            "grid_row": null,
            "grid_template_areas": null,
            "grid_template_columns": null,
            "grid_template_rows": null,
            "height": null,
            "justify_content": null,
            "justify_items": null,
            "left": null,
            "margin": null,
            "max_height": null,
            "max_width": null,
            "min_height": null,
            "min_width": null,
            "object_fit": null,
            "object_position": null,
            "order": null,
            "overflow": null,
            "overflow_x": null,
            "overflow_y": null,
            "padding": null,
            "right": null,
            "top": null,
            "visibility": null,
            "width": null
          }
        },
        "769f0500cec843bca1cfdf8aec312694": {
          "model_module": "@jupyter-widgets/controls",
          "model_name": "DescriptionStyleModel",
          "model_module_version": "1.5.0",
          "state": {
            "_model_module": "@jupyter-widgets/controls",
            "_model_module_version": "1.5.0",
            "_model_name": "DescriptionStyleModel",
            "_view_count": null,
            "_view_module": "@jupyter-widgets/base",
            "_view_module_version": "1.2.0",
            "_view_name": "StyleView",
            "description_width": ""
          }
        },
        "8b5fa1d2172c40f6999a01706febcc46": {
          "model_module": "@jupyter-widgets/base",
          "model_name": "LayoutModel",
          "model_module_version": "1.2.0",
          "state": {
            "_model_module": "@jupyter-widgets/base",
            "_model_module_version": "1.2.0",
            "_model_name": "LayoutModel",
            "_view_count": null,
            "_view_module": "@jupyter-widgets/base",
            "_view_module_version": "1.2.0",
            "_view_name": "LayoutView",
            "align_content": null,
            "align_items": null,
            "align_self": null,
            "border": null,
            "bottom": null,
            "display": null,
            "flex": null,
            "flex_flow": null,
            "grid_area": null,
            "grid_auto_columns": null,
            "grid_auto_flow": null,
            "grid_auto_rows": null,
            "grid_column": null,
            "grid_gap": null,
            "grid_row": null,
            "grid_template_areas": null,
            "grid_template_columns": null,
            "grid_template_rows": null,
            "height": null,
            "justify_content": null,
            "justify_items": null,
            "left": null,
            "margin": null,
            "max_height": null,
            "max_width": null,
            "min_height": null,
            "min_width": null,
            "object_fit": null,
            "object_position": null,
            "order": null,
            "overflow": null,
            "overflow_x": null,
            "overflow_y": null,
            "padding": null,
            "right": null,
            "top": null,
            "visibility": null,
            "width": null
          }
        },
        "1cc822585b6144af8101e584304de771": {
          "model_module": "@jupyter-widgets/controls",
          "model_name": "ProgressStyleModel",
          "model_module_version": "1.5.0",
          "state": {
            "_model_module": "@jupyter-widgets/controls",
            "_model_module_version": "1.5.0",
            "_model_name": "ProgressStyleModel",
            "_view_count": null,
            "_view_module": "@jupyter-widgets/base",
            "_view_module_version": "1.2.0",
            "_view_name": "StyleView",
            "bar_color": null,
            "description_width": ""
          }
        },
        "683f3ef27d1c4ccfb84916f57a74ecc3": {
          "model_module": "@jupyter-widgets/base",
          "model_name": "LayoutModel",
          "model_module_version": "1.2.0",
          "state": {
            "_model_module": "@jupyter-widgets/base",
            "_model_module_version": "1.2.0",
            "_model_name": "LayoutModel",
            "_view_count": null,
            "_view_module": "@jupyter-widgets/base",
            "_view_module_version": "1.2.0",
            "_view_name": "LayoutView",
            "align_content": null,
            "align_items": null,
            "align_self": null,
            "border": null,
            "bottom": null,
            "display": null,
            "flex": null,
            "flex_flow": null,
            "grid_area": null,
            "grid_auto_columns": null,
            "grid_auto_flow": null,
            "grid_auto_rows": null,
            "grid_column": null,
            "grid_gap": null,
            "grid_row": null,
            "grid_template_areas": null,
            "grid_template_columns": null,
            "grid_template_rows": null,
            "height": null,
            "justify_content": null,
            "justify_items": null,
            "left": null,
            "margin": null,
            "max_height": null,
            "max_width": null,
            "min_height": null,
            "min_width": null,
            "object_fit": null,
            "object_position": null,
            "order": null,
            "overflow": null,
            "overflow_x": null,
            "overflow_y": null,
            "padding": null,
            "right": null,
            "top": null,
            "visibility": null,
            "width": null
          }
        },
        "02cade814fd44df9b461880ab7dae945": {
          "model_module": "@jupyter-widgets/controls",
          "model_name": "DescriptionStyleModel",
          "model_module_version": "1.5.0",
          "state": {
            "_model_module": "@jupyter-widgets/controls",
            "_model_module_version": "1.5.0",
            "_model_name": "DescriptionStyleModel",
            "_view_count": null,
            "_view_module": "@jupyter-widgets/base",
            "_view_module_version": "1.2.0",
            "_view_name": "StyleView",
            "description_width": ""
          }
        },
        "3756e1589fbd43d38ea31566582571ab": {
          "model_module": "@jupyter-widgets/controls",
          "model_name": "HBoxModel",
          "model_module_version": "1.5.0",
          "state": {
            "_dom_classes": [],
            "_model_module": "@jupyter-widgets/controls",
            "_model_module_version": "1.5.0",
            "_model_name": "HBoxModel",
            "_view_count": null,
            "_view_module": "@jupyter-widgets/controls",
            "_view_module_version": "1.5.0",
            "_view_name": "HBoxView",
            "box_style": "",
            "children": [
              "IPY_MODEL_ea3ca12306704db197c5e7c1a52d7be0",
              "IPY_MODEL_68e38cea8dde4c5fb225d5890ecea49b",
              "IPY_MODEL_22ba716a7a0f4dc79e79297c8368cc56"
            ],
            "layout": "IPY_MODEL_c2a24569840d40118332ef1d95ef1d4d"
          }
        },
        "ea3ca12306704db197c5e7c1a52d7be0": {
          "model_module": "@jupyter-widgets/controls",
          "model_name": "HTMLModel",
          "model_module_version": "1.5.0",
          "state": {
            "_dom_classes": [],
            "_model_module": "@jupyter-widgets/controls",
            "_model_module_version": "1.5.0",
            "_model_name": "HTMLModel",
            "_view_count": null,
            "_view_module": "@jupyter-widgets/controls",
            "_view_module_version": "1.5.0",
            "_view_name": "HTMLView",
            "description": "",
            "description_tooltip": null,
            "layout": "IPY_MODEL_8d8bae6b80a84decbd363eeb75e9c84a",
            "placeholder": "​",
            "style": "IPY_MODEL_927dafee6fc64b3e9ce505e4b83b1adb",
            "value": "Downloading: 100%"
          }
        },
        "68e38cea8dde4c5fb225d5890ecea49b": {
          "model_module": "@jupyter-widgets/controls",
          "model_name": "FloatProgressModel",
          "model_module_version": "1.5.0",
          "state": {
            "_dom_classes": [],
            "_model_module": "@jupyter-widgets/controls",
            "_model_module_version": "1.5.0",
            "_model_name": "FloatProgressModel",
            "_view_count": null,
            "_view_module": "@jupyter-widgets/controls",
            "_view_module_version": "1.5.0",
            "_view_name": "ProgressView",
            "bar_style": "success",
            "description": "",
            "description_tooltip": null,
            "layout": "IPY_MODEL_ab4d84755b314ac4b048b2bb7e58f6ee",
            "max": 28,
            "min": 0,
            "orientation": "horizontal",
            "style": "IPY_MODEL_3fbe36ef698a4d2fbd878d254de8ebe5",
            "value": 28
          }
        },
        "22ba716a7a0f4dc79e79297c8368cc56": {
          "model_module": "@jupyter-widgets/controls",
          "model_name": "HTMLModel",
          "model_module_version": "1.5.0",
          "state": {
            "_dom_classes": [],
            "_model_module": "@jupyter-widgets/controls",
            "_model_module_version": "1.5.0",
            "_model_name": "HTMLModel",
            "_view_count": null,
            "_view_module": "@jupyter-widgets/controls",
            "_view_module_version": "1.5.0",
            "_view_name": "HTMLView",
            "description": "",
            "description_tooltip": null,
            "layout": "IPY_MODEL_54557bed6c764859896378d1b9e7adfa",
            "placeholder": "​",
            "style": "IPY_MODEL_7b3e6b9770694394ac923a33364a2ce1",
            "value": " 28.0/28.0 [00:00&lt;00:00, 278B/s]"
          }
        },
        "c2a24569840d40118332ef1d95ef1d4d": {
          "model_module": "@jupyter-widgets/base",
          "model_name": "LayoutModel",
          "model_module_version": "1.2.0",
          "state": {
            "_model_module": "@jupyter-widgets/base",
            "_model_module_version": "1.2.0",
            "_model_name": "LayoutModel",
            "_view_count": null,
            "_view_module": "@jupyter-widgets/base",
            "_view_module_version": "1.2.0",
            "_view_name": "LayoutView",
            "align_content": null,
            "align_items": null,
            "align_self": null,
            "border": null,
            "bottom": null,
            "display": null,
            "flex": null,
            "flex_flow": null,
            "grid_area": null,
            "grid_auto_columns": null,
            "grid_auto_flow": null,
            "grid_auto_rows": null,
            "grid_column": null,
            "grid_gap": null,
            "grid_row": null,
            "grid_template_areas": null,
            "grid_template_columns": null,
            "grid_template_rows": null,
            "height": null,
            "justify_content": null,
            "justify_items": null,
            "left": null,
            "margin": null,
            "max_height": null,
            "max_width": null,
            "min_height": null,
            "min_width": null,
            "object_fit": null,
            "object_position": null,
            "order": null,
            "overflow": null,
            "overflow_x": null,
            "overflow_y": null,
            "padding": null,
            "right": null,
            "top": null,
            "visibility": null,
            "width": null
          }
        },
        "8d8bae6b80a84decbd363eeb75e9c84a": {
          "model_module": "@jupyter-widgets/base",
          "model_name": "LayoutModel",
          "model_module_version": "1.2.0",
          "state": {
            "_model_module": "@jupyter-widgets/base",
            "_model_module_version": "1.2.0",
            "_model_name": "LayoutModel",
            "_view_count": null,
            "_view_module": "@jupyter-widgets/base",
            "_view_module_version": "1.2.0",
            "_view_name": "LayoutView",
            "align_content": null,
            "align_items": null,
            "align_self": null,
            "border": null,
            "bottom": null,
            "display": null,
            "flex": null,
            "flex_flow": null,
            "grid_area": null,
            "grid_auto_columns": null,
            "grid_auto_flow": null,
            "grid_auto_rows": null,
            "grid_column": null,
            "grid_gap": null,
            "grid_row": null,
            "grid_template_areas": null,
            "grid_template_columns": null,
            "grid_template_rows": null,
            "height": null,
            "justify_content": null,
            "justify_items": null,
            "left": null,
            "margin": null,
            "max_height": null,
            "max_width": null,
            "min_height": null,
            "min_width": null,
            "object_fit": null,
            "object_position": null,
            "order": null,
            "overflow": null,
            "overflow_x": null,
            "overflow_y": null,
            "padding": null,
            "right": null,
            "top": null,
            "visibility": null,
            "width": null
          }
        },
        "927dafee6fc64b3e9ce505e4b83b1adb": {
          "model_module": "@jupyter-widgets/controls",
          "model_name": "DescriptionStyleModel",
          "model_module_version": "1.5.0",
          "state": {
            "_model_module": "@jupyter-widgets/controls",
            "_model_module_version": "1.5.0",
            "_model_name": "DescriptionStyleModel",
            "_view_count": null,
            "_view_module": "@jupyter-widgets/base",
            "_view_module_version": "1.2.0",
            "_view_name": "StyleView",
            "description_width": ""
          }
        },
        "ab4d84755b314ac4b048b2bb7e58f6ee": {
          "model_module": "@jupyter-widgets/base",
          "model_name": "LayoutModel",
          "model_module_version": "1.2.0",
          "state": {
            "_model_module": "@jupyter-widgets/base",
            "_model_module_version": "1.2.0",
            "_model_name": "LayoutModel",
            "_view_count": null,
            "_view_module": "@jupyter-widgets/base",
            "_view_module_version": "1.2.0",
            "_view_name": "LayoutView",
            "align_content": null,
            "align_items": null,
            "align_self": null,
            "border": null,
            "bottom": null,
            "display": null,
            "flex": null,
            "flex_flow": null,
            "grid_area": null,
            "grid_auto_columns": null,
            "grid_auto_flow": null,
            "grid_auto_rows": null,
            "grid_column": null,
            "grid_gap": null,
            "grid_row": null,
            "grid_template_areas": null,
            "grid_template_columns": null,
            "grid_template_rows": null,
            "height": null,
            "justify_content": null,
            "justify_items": null,
            "left": null,
            "margin": null,
            "max_height": null,
            "max_width": null,
            "min_height": null,
            "min_width": null,
            "object_fit": null,
            "object_position": null,
            "order": null,
            "overflow": null,
            "overflow_x": null,
            "overflow_y": null,
            "padding": null,
            "right": null,
            "top": null,
            "visibility": null,
            "width": null
          }
        },
        "3fbe36ef698a4d2fbd878d254de8ebe5": {
          "model_module": "@jupyter-widgets/controls",
          "model_name": "ProgressStyleModel",
          "model_module_version": "1.5.0",
          "state": {
            "_model_module": "@jupyter-widgets/controls",
            "_model_module_version": "1.5.0",
            "_model_name": "ProgressStyleModel",
            "_view_count": null,
            "_view_module": "@jupyter-widgets/base",
            "_view_module_version": "1.2.0",
            "_view_name": "StyleView",
            "bar_color": null,
            "description_width": ""
          }
        },
        "54557bed6c764859896378d1b9e7adfa": {
          "model_module": "@jupyter-widgets/base",
          "model_name": "LayoutModel",
          "model_module_version": "1.2.0",
          "state": {
            "_model_module": "@jupyter-widgets/base",
            "_model_module_version": "1.2.0",
            "_model_name": "LayoutModel",
            "_view_count": null,
            "_view_module": "@jupyter-widgets/base",
            "_view_module_version": "1.2.0",
            "_view_name": "LayoutView",
            "align_content": null,
            "align_items": null,
            "align_self": null,
            "border": null,
            "bottom": null,
            "display": null,
            "flex": null,
            "flex_flow": null,
            "grid_area": null,
            "grid_auto_columns": null,
            "grid_auto_flow": null,
            "grid_auto_rows": null,
            "grid_column": null,
            "grid_gap": null,
            "grid_row": null,
            "grid_template_areas": null,
            "grid_template_columns": null,
            "grid_template_rows": null,
            "height": null,
            "justify_content": null,
            "justify_items": null,
            "left": null,
            "margin": null,
            "max_height": null,
            "max_width": null,
            "min_height": null,
            "min_width": null,
            "object_fit": null,
            "object_position": null,
            "order": null,
            "overflow": null,
            "overflow_x": null,
            "overflow_y": null,
            "padding": null,
            "right": null,
            "top": null,
            "visibility": null,
            "width": null
          }
        },
        "7b3e6b9770694394ac923a33364a2ce1": {
          "model_module": "@jupyter-widgets/controls",
          "model_name": "DescriptionStyleModel",
          "model_module_version": "1.5.0",
          "state": {
            "_model_module": "@jupyter-widgets/controls",
            "_model_module_version": "1.5.0",
            "_model_name": "DescriptionStyleModel",
            "_view_count": null,
            "_view_module": "@jupyter-widgets/base",
            "_view_module_version": "1.2.0",
            "_view_name": "StyleView",
            "description_width": ""
          }
        },
        "79da87435c3a4711aa1ba718a4a77510": {
          "model_module": "@jupyter-widgets/controls",
          "model_name": "HBoxModel",
          "model_module_version": "1.5.0",
          "state": {
            "_dom_classes": [],
            "_model_module": "@jupyter-widgets/controls",
            "_model_module_version": "1.5.0",
            "_model_name": "HBoxModel",
            "_view_count": null,
            "_view_module": "@jupyter-widgets/controls",
            "_view_module_version": "1.5.0",
            "_view_name": "HBoxView",
            "box_style": "",
            "children": [
              "IPY_MODEL_5b1127b48bfe40dabc87139c901b3cb6",
              "IPY_MODEL_56aa6b4ae81f427eb82cb964b88a835b",
              "IPY_MODEL_902e3a82e61543969a9632d655eb7152"
            ],
            "layout": "IPY_MODEL_2720358ee5ba44c5b447f349da786e7e"
          }
        },
        "5b1127b48bfe40dabc87139c901b3cb6": {
          "model_module": "@jupyter-widgets/controls",
          "model_name": "HTMLModel",
          "model_module_version": "1.5.0",
          "state": {
            "_dom_classes": [],
            "_model_module": "@jupyter-widgets/controls",
            "_model_module_version": "1.5.0",
            "_model_name": "HTMLModel",
            "_view_count": null,
            "_view_module": "@jupyter-widgets/controls",
            "_view_module_version": "1.5.0",
            "_view_name": "HTMLView",
            "description": "",
            "description_tooltip": null,
            "layout": "IPY_MODEL_ea9bd8be591346c1b127bc739f264817",
            "placeholder": "​",
            "style": "IPY_MODEL_de2e50e4e9f64ebfa3bc05a93aaff5cb",
            "value": "Downloading builder script: 100%"
          }
        },
        "56aa6b4ae81f427eb82cb964b88a835b": {
          "model_module": "@jupyter-widgets/controls",
          "model_name": "FloatProgressModel",
          "model_module_version": "1.5.0",
          "state": {
            "_dom_classes": [],
            "_model_module": "@jupyter-widgets/controls",
            "_model_module_version": "1.5.0",
            "_model_name": "FloatProgressModel",
            "_view_count": null,
            "_view_module": "@jupyter-widgets/controls",
            "_view_module_version": "1.5.0",
            "_view_name": "ProgressView",
            "bar_style": "success",
            "description": "",
            "description_tooltip": null,
            "layout": "IPY_MODEL_1a7a6cb94b924c2eab884cd75c30a639",
            "max": 5759,
            "min": 0,
            "orientation": "horizontal",
            "style": "IPY_MODEL_c76f79415c92416b9d2ddf9b907bc85a",
            "value": 5759
          }
        },
        "902e3a82e61543969a9632d655eb7152": {
          "model_module": "@jupyter-widgets/controls",
          "model_name": "HTMLModel",
          "model_module_version": "1.5.0",
          "state": {
            "_dom_classes": [],
            "_model_module": "@jupyter-widgets/controls",
            "_model_module_version": "1.5.0",
            "_model_name": "HTMLModel",
            "_view_count": null,
            "_view_module": "@jupyter-widgets/controls",
            "_view_module_version": "1.5.0",
            "_view_name": "HTMLView",
            "description": "",
            "description_tooltip": null,
            "layout": "IPY_MODEL_4a81c8cd2a76467e95a52572327d60e8",
            "placeholder": "​",
            "style": "IPY_MODEL_2d8869af578d4e5c9a2508eb5fc7031f",
            "value": " 5.76k/5.76k [00:00&lt;00:00, 153kB/s]"
          }
        },
        "2720358ee5ba44c5b447f349da786e7e": {
          "model_module": "@jupyter-widgets/base",
          "model_name": "LayoutModel",
          "model_module_version": "1.2.0",
          "state": {
            "_model_module": "@jupyter-widgets/base",
            "_model_module_version": "1.2.0",
            "_model_name": "LayoutModel",
            "_view_count": null,
            "_view_module": "@jupyter-widgets/base",
            "_view_module_version": "1.2.0",
            "_view_name": "LayoutView",
            "align_content": null,
            "align_items": null,
            "align_self": null,
            "border": null,
            "bottom": null,
            "display": null,
            "flex": null,
            "flex_flow": null,
            "grid_area": null,
            "grid_auto_columns": null,
            "grid_auto_flow": null,
            "grid_auto_rows": null,
            "grid_column": null,
            "grid_gap": null,
            "grid_row": null,
            "grid_template_areas": null,
            "grid_template_columns": null,
            "grid_template_rows": null,
            "height": null,
            "justify_content": null,
            "justify_items": null,
            "left": null,
            "margin": null,
            "max_height": null,
            "max_width": null,
            "min_height": null,
            "min_width": null,
            "object_fit": null,
            "object_position": null,
            "order": null,
            "overflow": null,
            "overflow_x": null,
            "overflow_y": null,
            "padding": null,
            "right": null,
            "top": null,
            "visibility": null,
            "width": null
          }
        },
        "ea9bd8be591346c1b127bc739f264817": {
          "model_module": "@jupyter-widgets/base",
          "model_name": "LayoutModel",
          "model_module_version": "1.2.0",
          "state": {
            "_model_module": "@jupyter-widgets/base",
            "_model_module_version": "1.2.0",
            "_model_name": "LayoutModel",
            "_view_count": null,
            "_view_module": "@jupyter-widgets/base",
            "_view_module_version": "1.2.0",
            "_view_name": "LayoutView",
            "align_content": null,
            "align_items": null,
            "align_self": null,
            "border": null,
            "bottom": null,
            "display": null,
            "flex": null,
            "flex_flow": null,
            "grid_area": null,
            "grid_auto_columns": null,
            "grid_auto_flow": null,
            "grid_auto_rows": null,
            "grid_column": null,
            "grid_gap": null,
            "grid_row": null,
            "grid_template_areas": null,
            "grid_template_columns": null,
            "grid_template_rows": null,
            "height": null,
            "justify_content": null,
            "justify_items": null,
            "left": null,
            "margin": null,
            "max_height": null,
            "max_width": null,
            "min_height": null,
            "min_width": null,
            "object_fit": null,
            "object_position": null,
            "order": null,
            "overflow": null,
            "overflow_x": null,
            "overflow_y": null,
            "padding": null,
            "right": null,
            "top": null,
            "visibility": null,
            "width": null
          }
        },
        "de2e50e4e9f64ebfa3bc05a93aaff5cb": {
          "model_module": "@jupyter-widgets/controls",
          "model_name": "DescriptionStyleModel",
          "model_module_version": "1.5.0",
          "state": {
            "_model_module": "@jupyter-widgets/controls",
            "_model_module_version": "1.5.0",
            "_model_name": "DescriptionStyleModel",
            "_view_count": null,
            "_view_module": "@jupyter-widgets/base",
            "_view_module_version": "1.2.0",
            "_view_name": "StyleView",
            "description_width": ""
          }
        },
        "1a7a6cb94b924c2eab884cd75c30a639": {
          "model_module": "@jupyter-widgets/base",
          "model_name": "LayoutModel",
          "model_module_version": "1.2.0",
          "state": {
            "_model_module": "@jupyter-widgets/base",
            "_model_module_version": "1.2.0",
            "_model_name": "LayoutModel",
            "_view_count": null,
            "_view_module": "@jupyter-widgets/base",
            "_view_module_version": "1.2.0",
            "_view_name": "LayoutView",
            "align_content": null,
            "align_items": null,
            "align_self": null,
            "border": null,
            "bottom": null,
            "display": null,
            "flex": null,
            "flex_flow": null,
            "grid_area": null,
            "grid_auto_columns": null,
            "grid_auto_flow": null,
            "grid_auto_rows": null,
            "grid_column": null,
            "grid_gap": null,
            "grid_row": null,
            "grid_template_areas": null,
            "grid_template_columns": null,
            "grid_template_rows": null,
            "height": null,
            "justify_content": null,
            "justify_items": null,
            "left": null,
            "margin": null,
            "max_height": null,
            "max_width": null,
            "min_height": null,
            "min_width": null,
            "object_fit": null,
            "object_position": null,
            "order": null,
            "overflow": null,
            "overflow_x": null,
            "overflow_y": null,
            "padding": null,
            "right": null,
            "top": null,
            "visibility": null,
            "width": null
          }
        },
        "c76f79415c92416b9d2ddf9b907bc85a": {
          "model_module": "@jupyter-widgets/controls",
          "model_name": "ProgressStyleModel",
          "model_module_version": "1.5.0",
          "state": {
            "_model_module": "@jupyter-widgets/controls",
            "_model_module_version": "1.5.0",
            "_model_name": "ProgressStyleModel",
            "_view_count": null,
            "_view_module": "@jupyter-widgets/base",
            "_view_module_version": "1.2.0",
            "_view_name": "StyleView",
            "bar_color": null,
            "description_width": ""
          }
        },
        "4a81c8cd2a76467e95a52572327d60e8": {
          "model_module": "@jupyter-widgets/base",
          "model_name": "LayoutModel",
          "model_module_version": "1.2.0",
          "state": {
            "_model_module": "@jupyter-widgets/base",
            "_model_module_version": "1.2.0",
            "_model_name": "LayoutModel",
            "_view_count": null,
            "_view_module": "@jupyter-widgets/base",
            "_view_module_version": "1.2.0",
            "_view_name": "LayoutView",
            "align_content": null,
            "align_items": null,
            "align_self": null,
            "border": null,
            "bottom": null,
            "display": null,
            "flex": null,
            "flex_flow": null,
            "grid_area": null,
            "grid_auto_columns": null,
            "grid_auto_flow": null,
            "grid_auto_rows": null,
            "grid_column": null,
            "grid_gap": null,
            "grid_row": null,
            "grid_template_areas": null,
            "grid_template_columns": null,
            "grid_template_rows": null,
            "height": null,
            "justify_content": null,
            "justify_items": null,
            "left": null,
            "margin": null,
            "max_height": null,
            "max_width": null,
            "min_height": null,
            "min_width": null,
            "object_fit": null,
            "object_position": null,
            "order": null,
            "overflow": null,
            "overflow_x": null,
            "overflow_y": null,
            "padding": null,
            "right": null,
            "top": null,
            "visibility": null,
            "width": null
          }
        },
        "2d8869af578d4e5c9a2508eb5fc7031f": {
          "model_module": "@jupyter-widgets/controls",
          "model_name": "DescriptionStyleModel",
          "model_module_version": "1.5.0",
          "state": {
            "_model_module": "@jupyter-widgets/controls",
            "_model_module_version": "1.5.0",
            "_model_name": "DescriptionStyleModel",
            "_view_count": null,
            "_view_module": "@jupyter-widgets/base",
            "_view_module_version": "1.2.0",
            "_view_name": "StyleView",
            "description_width": ""
          }
        },
        "7e06047516284966b89052f4fe2c31ca": {
          "model_module": "@jupyter-widgets/controls",
          "model_name": "HBoxModel",
          "model_module_version": "1.5.0",
          "state": {
            "_dom_classes": [],
            "_model_module": "@jupyter-widgets/controls",
            "_model_module_version": "1.5.0",
            "_model_name": "HBoxModel",
            "_view_count": null,
            "_view_module": "@jupyter-widgets/controls",
            "_view_module_version": "1.5.0",
            "_view_name": "HBoxView",
            "box_style": "",
            "children": [
              "IPY_MODEL_cd9902a814eb410f9a89fbbb2abd23ed",
              "IPY_MODEL_e6b24fe99c2842b4ae5b285d84f08a35",
              "IPY_MODEL_85afb765807640d09fe5a4b70eeb6561"
            ],
            "layout": "IPY_MODEL_5f25005281d446c293867c37166e67a7"
          }
        },
        "cd9902a814eb410f9a89fbbb2abd23ed": {
          "model_module": "@jupyter-widgets/controls",
          "model_name": "HTMLModel",
          "model_module_version": "1.5.0",
          "state": {
            "_dom_classes": [],
            "_model_module": "@jupyter-widgets/controls",
            "_model_module_version": "1.5.0",
            "_model_name": "HTMLModel",
            "_view_count": null,
            "_view_module": "@jupyter-widgets/controls",
            "_view_module_version": "1.5.0",
            "_view_name": "HTMLView",
            "description": "",
            "description_tooltip": null,
            "layout": "IPY_MODEL_9ec4d6d20d3d4b87bd1bbe2e61cfa83a",
            "placeholder": "​",
            "style": "IPY_MODEL_8865b808f4654e529c7010fb9095159a",
            "value": "Downloading metadata: 100%"
          }
        },
        "e6b24fe99c2842b4ae5b285d84f08a35": {
          "model_module": "@jupyter-widgets/controls",
          "model_name": "FloatProgressModel",
          "model_module_version": "1.5.0",
          "state": {
            "_dom_classes": [],
            "_model_module": "@jupyter-widgets/controls",
            "_model_module_version": "1.5.0",
            "_model_name": "FloatProgressModel",
            "_view_count": null,
            "_view_module": "@jupyter-widgets/controls",
            "_view_module_version": "1.5.0",
            "_view_name": "ProgressView",
            "bar_style": "success",
            "description": "",
            "description_tooltip": null,
            "layout": "IPY_MODEL_b883cad05d4f43b3a164293664482929",
            "max": 5943,
            "min": 0,
            "orientation": "horizontal",
            "style": "IPY_MODEL_c8e07b3840d6410d9299bb4a0ce4f5a7",
            "value": 5943
          }
        },
        "85afb765807640d09fe5a4b70eeb6561": {
          "model_module": "@jupyter-widgets/controls",
          "model_name": "HTMLModel",
          "model_module_version": "1.5.0",
          "state": {
            "_dom_classes": [],
            "_model_module": "@jupyter-widgets/controls",
            "_model_module_version": "1.5.0",
            "_model_name": "HTMLModel",
            "_view_count": null,
            "_view_module": "@jupyter-widgets/controls",
            "_view_module_version": "1.5.0",
            "_view_name": "HTMLView",
            "description": "",
            "description_tooltip": null,
            "layout": "IPY_MODEL_c8b0a7c6c6e24cf4aac24321e75646bc",
            "placeholder": "​",
            "style": "IPY_MODEL_d3ad0661fc884082b682b3cbffb51221",
            "value": " 5.94k/5.94k [00:00&lt;00:00, 168kB/s]"
          }
        },
        "5f25005281d446c293867c37166e67a7": {
          "model_module": "@jupyter-widgets/base",
          "model_name": "LayoutModel",
          "model_module_version": "1.2.0",
          "state": {
            "_model_module": "@jupyter-widgets/base",
            "_model_module_version": "1.2.0",
            "_model_name": "LayoutModel",
            "_view_count": null,
            "_view_module": "@jupyter-widgets/base",
            "_view_module_version": "1.2.0",
            "_view_name": "LayoutView",
            "align_content": null,
            "align_items": null,
            "align_self": null,
            "border": null,
            "bottom": null,
            "display": null,
            "flex": null,
            "flex_flow": null,
            "grid_area": null,
            "grid_auto_columns": null,
            "grid_auto_flow": null,
            "grid_auto_rows": null,
            "grid_column": null,
            "grid_gap": null,
            "grid_row": null,
            "grid_template_areas": null,
            "grid_template_columns": null,
            "grid_template_rows": null,
            "height": null,
            "justify_content": null,
            "justify_items": null,
            "left": null,
            "margin": null,
            "max_height": null,
            "max_width": null,
            "min_height": null,
            "min_width": null,
            "object_fit": null,
            "object_position": null,
            "order": null,
            "overflow": null,
            "overflow_x": null,
            "overflow_y": null,
            "padding": null,
            "right": null,
            "top": null,
            "visibility": null,
            "width": null
          }
        },
        "9ec4d6d20d3d4b87bd1bbe2e61cfa83a": {
          "model_module": "@jupyter-widgets/base",
          "model_name": "LayoutModel",
          "model_module_version": "1.2.0",
          "state": {
            "_model_module": "@jupyter-widgets/base",
            "_model_module_version": "1.2.0",
            "_model_name": "LayoutModel",
            "_view_count": null,
            "_view_module": "@jupyter-widgets/base",
            "_view_module_version": "1.2.0",
            "_view_name": "LayoutView",
            "align_content": null,
            "align_items": null,
            "align_self": null,
            "border": null,
            "bottom": null,
            "display": null,
            "flex": null,
            "flex_flow": null,
            "grid_area": null,
            "grid_auto_columns": null,
            "grid_auto_flow": null,
            "grid_auto_rows": null,
            "grid_column": null,
            "grid_gap": null,
            "grid_row": null,
            "grid_template_areas": null,
            "grid_template_columns": null,
            "grid_template_rows": null,
            "height": null,
            "justify_content": null,
            "justify_items": null,
            "left": null,
            "margin": null,
            "max_height": null,
            "max_width": null,
            "min_height": null,
            "min_width": null,
            "object_fit": null,
            "object_position": null,
            "order": null,
            "overflow": null,
            "overflow_x": null,
            "overflow_y": null,
            "padding": null,
            "right": null,
            "top": null,
            "visibility": null,
            "width": null
          }
        },
        "8865b808f4654e529c7010fb9095159a": {
          "model_module": "@jupyter-widgets/controls",
          "model_name": "DescriptionStyleModel",
          "model_module_version": "1.5.0",
          "state": {
            "_model_module": "@jupyter-widgets/controls",
            "_model_module_version": "1.5.0",
            "_model_name": "DescriptionStyleModel",
            "_view_count": null,
            "_view_module": "@jupyter-widgets/base",
            "_view_module_version": "1.2.0",
            "_view_name": "StyleView",
            "description_width": ""
          }
        },
        "b883cad05d4f43b3a164293664482929": {
          "model_module": "@jupyter-widgets/base",
          "model_name": "LayoutModel",
          "model_module_version": "1.2.0",
          "state": {
            "_model_module": "@jupyter-widgets/base",
            "_model_module_version": "1.2.0",
            "_model_name": "LayoutModel",
            "_view_count": null,
            "_view_module": "@jupyter-widgets/base",
            "_view_module_version": "1.2.0",
            "_view_name": "LayoutView",
            "align_content": null,
            "align_items": null,
            "align_self": null,
            "border": null,
            "bottom": null,
            "display": null,
            "flex": null,
            "flex_flow": null,
            "grid_area": null,
            "grid_auto_columns": null,
            "grid_auto_flow": null,
            "grid_auto_rows": null,
            "grid_column": null,
            "grid_gap": null,
            "grid_row": null,
            "grid_template_areas": null,
            "grid_template_columns": null,
            "grid_template_rows": null,
            "height": null,
            "justify_content": null,
            "justify_items": null,
            "left": null,
            "margin": null,
            "max_height": null,
            "max_width": null,
            "min_height": null,
            "min_width": null,
            "object_fit": null,
            "object_position": null,
            "order": null,
            "overflow": null,
            "overflow_x": null,
            "overflow_y": null,
            "padding": null,
            "right": null,
            "top": null,
            "visibility": null,
            "width": null
          }
        },
        "c8e07b3840d6410d9299bb4a0ce4f5a7": {
          "model_module": "@jupyter-widgets/controls",
          "model_name": "ProgressStyleModel",
          "model_module_version": "1.5.0",
          "state": {
            "_model_module": "@jupyter-widgets/controls",
            "_model_module_version": "1.5.0",
            "_model_name": "ProgressStyleModel",
            "_view_count": null,
            "_view_module": "@jupyter-widgets/base",
            "_view_module_version": "1.2.0",
            "_view_name": "StyleView",
            "bar_color": null,
            "description_width": ""
          }
        },
        "c8b0a7c6c6e24cf4aac24321e75646bc": {
          "model_module": "@jupyter-widgets/base",
          "model_name": "LayoutModel",
          "model_module_version": "1.2.0",
          "state": {
            "_model_module": "@jupyter-widgets/base",
            "_model_module_version": "1.2.0",
            "_model_name": "LayoutModel",
            "_view_count": null,
            "_view_module": "@jupyter-widgets/base",
            "_view_module_version": "1.2.0",
            "_view_name": "LayoutView",
            "align_content": null,
            "align_items": null,
            "align_self": null,
            "border": null,
            "bottom": null,
            "display": null,
            "flex": null,
            "flex_flow": null,
            "grid_area": null,
            "grid_auto_columns": null,
            "grid_auto_flow": null,
            "grid_auto_rows": null,
            "grid_column": null,
            "grid_gap": null,
            "grid_row": null,
            "grid_template_areas": null,
            "grid_template_columns": null,
            "grid_template_rows": null,
            "height": null,
            "justify_content": null,
            "justify_items": null,
            "left": null,
            "margin": null,
            "max_height": null,
            "max_width": null,
            "min_height": null,
            "min_width": null,
            "object_fit": null,
            "object_position": null,
            "order": null,
            "overflow": null,
            "overflow_x": null,
            "overflow_y": null,
            "padding": null,
            "right": null,
            "top": null,
            "visibility": null,
            "width": null
          }
        },
        "d3ad0661fc884082b682b3cbffb51221": {
          "model_module": "@jupyter-widgets/controls",
          "model_name": "DescriptionStyleModel",
          "model_module_version": "1.5.0",
          "state": {
            "_model_module": "@jupyter-widgets/controls",
            "_model_module_version": "1.5.0",
            "_model_name": "DescriptionStyleModel",
            "_view_count": null,
            "_view_module": "@jupyter-widgets/base",
            "_view_module_version": "1.2.0",
            "_view_name": "StyleView",
            "description_width": ""
          }
        },
        "bb765b0548804218896034e99282dbad": {
          "model_module": "@jupyter-widgets/controls",
          "model_name": "HBoxModel",
          "model_module_version": "1.5.0",
          "state": {
            "_dom_classes": [],
            "_model_module": "@jupyter-widgets/controls",
            "_model_module_version": "1.5.0",
            "_model_name": "HBoxModel",
            "_view_count": null,
            "_view_module": "@jupyter-widgets/controls",
            "_view_module_version": "1.5.0",
            "_view_name": "HBoxView",
            "box_style": "",
            "children": [
              "IPY_MODEL_89a504b290ee4cb4a2904b327db6d225",
              "IPY_MODEL_7b344f996200440db959657e6a87538a",
              "IPY_MODEL_bae6848f4ba24177947809f54321068d"
            ],
            "layout": "IPY_MODEL_7e495ec8be7845fc94c9c968d2bf7cf0"
          }
        },
        "89a504b290ee4cb4a2904b327db6d225": {
          "model_module": "@jupyter-widgets/controls",
          "model_name": "HTMLModel",
          "model_module_version": "1.5.0",
          "state": {
            "_dom_classes": [],
            "_model_module": "@jupyter-widgets/controls",
            "_model_module_version": "1.5.0",
            "_model_name": "HTMLModel",
            "_view_count": null,
            "_view_module": "@jupyter-widgets/controls",
            "_view_module_version": "1.5.0",
            "_view_name": "HTMLView",
            "description": "",
            "description_tooltip": null,
            "layout": "IPY_MODEL_9f10e8969975402683f93ec24af186c1",
            "placeholder": "​",
            "style": "IPY_MODEL_97917c0eea5b43818b07a6af6ee2000d",
            "value": "Downloading data: 100%"
          }
        },
        "7b344f996200440db959657e6a87538a": {
          "model_module": "@jupyter-widgets/controls",
          "model_name": "FloatProgressModel",
          "model_module_version": "1.5.0",
          "state": {
            "_dom_classes": [],
            "_model_module": "@jupyter-widgets/controls",
            "_model_module_version": "1.5.0",
            "_model_name": "FloatProgressModel",
            "_view_count": null,
            "_view_module": "@jupyter-widgets/controls",
            "_view_module_version": "1.5.0",
            "_view_name": "ProgressView",
            "bar_style": "success",
            "description": "",
            "description_tooltip": null,
            "layout": "IPY_MODEL_9035892ecb224f5aa170a14cab21a598",
            "max": 23058350,
            "min": 0,
            "orientation": "horizontal",
            "style": "IPY_MODEL_c0f3a5978e4644ff9274ce302593782f",
            "value": 23058350
          }
        },
        "bae6848f4ba24177947809f54321068d": {
          "model_module": "@jupyter-widgets/controls",
          "model_name": "HTMLModel",
          "model_module_version": "1.5.0",
          "state": {
            "_dom_classes": [],
            "_model_module": "@jupyter-widgets/controls",
            "_model_module_version": "1.5.0",
            "_model_name": "HTMLModel",
            "_view_count": null,
            "_view_module": "@jupyter-widgets/controls",
            "_view_module_version": "1.5.0",
            "_view_name": "HTMLView",
            "description": "",
            "description_tooltip": null,
            "layout": "IPY_MODEL_36bf2ee461b94ff281562a7bdb9b5fa4",
            "placeholder": "​",
            "style": "IPY_MODEL_d26a7f6bc33d478dbbb832d050a2b41b",
            "value": " 23.1M/23.1M [00:00&lt;00:00, 51.0MB/s]"
          }
        },
        "7e495ec8be7845fc94c9c968d2bf7cf0": {
          "model_module": "@jupyter-widgets/base",
          "model_name": "LayoutModel",
          "model_module_version": "1.2.0",
          "state": {
            "_model_module": "@jupyter-widgets/base",
            "_model_module_version": "1.2.0",
            "_model_name": "LayoutModel",
            "_view_count": null,
            "_view_module": "@jupyter-widgets/base",
            "_view_module_version": "1.2.0",
            "_view_name": "LayoutView",
            "align_content": null,
            "align_items": null,
            "align_self": null,
            "border": null,
            "bottom": null,
            "display": null,
            "flex": null,
            "flex_flow": null,
            "grid_area": null,
            "grid_auto_columns": null,
            "grid_auto_flow": null,
            "grid_auto_rows": null,
            "grid_column": null,
            "grid_gap": null,
            "grid_row": null,
            "grid_template_areas": null,
            "grid_template_columns": null,
            "grid_template_rows": null,
            "height": null,
            "justify_content": null,
            "justify_items": null,
            "left": null,
            "margin": null,
            "max_height": null,
            "max_width": null,
            "min_height": null,
            "min_width": null,
            "object_fit": null,
            "object_position": null,
            "order": null,
            "overflow": null,
            "overflow_x": null,
            "overflow_y": null,
            "padding": null,
            "right": null,
            "top": null,
            "visibility": null,
            "width": null
          }
        },
        "9f10e8969975402683f93ec24af186c1": {
          "model_module": "@jupyter-widgets/base",
          "model_name": "LayoutModel",
          "model_module_version": "1.2.0",
          "state": {
            "_model_module": "@jupyter-widgets/base",
            "_model_module_version": "1.2.0",
            "_model_name": "LayoutModel",
            "_view_count": null,
            "_view_module": "@jupyter-widgets/base",
            "_view_module_version": "1.2.0",
            "_view_name": "LayoutView",
            "align_content": null,
            "align_items": null,
            "align_self": null,
            "border": null,
            "bottom": null,
            "display": null,
            "flex": null,
            "flex_flow": null,
            "grid_area": null,
            "grid_auto_columns": null,
            "grid_auto_flow": null,
            "grid_auto_rows": null,
            "grid_column": null,
            "grid_gap": null,
            "grid_row": null,
            "grid_template_areas": null,
            "grid_template_columns": null,
            "grid_template_rows": null,
            "height": null,
            "justify_content": null,
            "justify_items": null,
            "left": null,
            "margin": null,
            "max_height": null,
            "max_width": null,
            "min_height": null,
            "min_width": null,
            "object_fit": null,
            "object_position": null,
            "order": null,
            "overflow": null,
            "overflow_x": null,
            "overflow_y": null,
            "padding": null,
            "right": null,
            "top": null,
            "visibility": null,
            "width": null
          }
        },
        "97917c0eea5b43818b07a6af6ee2000d": {
          "model_module": "@jupyter-widgets/controls",
          "model_name": "DescriptionStyleModel",
          "model_module_version": "1.5.0",
          "state": {
            "_model_module": "@jupyter-widgets/controls",
            "_model_module_version": "1.5.0",
            "_model_name": "DescriptionStyleModel",
            "_view_count": null,
            "_view_module": "@jupyter-widgets/base",
            "_view_module_version": "1.2.0",
            "_view_name": "StyleView",
            "description_width": ""
          }
        },
        "9035892ecb224f5aa170a14cab21a598": {
          "model_module": "@jupyter-widgets/base",
          "model_name": "LayoutModel",
          "model_module_version": "1.2.0",
          "state": {
            "_model_module": "@jupyter-widgets/base",
            "_model_module_version": "1.2.0",
            "_model_name": "LayoutModel",
            "_view_count": null,
            "_view_module": "@jupyter-widgets/base",
            "_view_module_version": "1.2.0",
            "_view_name": "LayoutView",
            "align_content": null,
            "align_items": null,
            "align_self": null,
            "border": null,
            "bottom": null,
            "display": null,
            "flex": null,
            "flex_flow": null,
            "grid_area": null,
            "grid_auto_columns": null,
            "grid_auto_flow": null,
            "grid_auto_rows": null,
            "grid_column": null,
            "grid_gap": null,
            "grid_row": null,
            "grid_template_areas": null,
            "grid_template_columns": null,
            "grid_template_rows": null,
            "height": null,
            "justify_content": null,
            "justify_items": null,
            "left": null,
            "margin": null,
            "max_height": null,
            "max_width": null,
            "min_height": null,
            "min_width": null,
            "object_fit": null,
            "object_position": null,
            "order": null,
            "overflow": null,
            "overflow_x": null,
            "overflow_y": null,
            "padding": null,
            "right": null,
            "top": null,
            "visibility": null,
            "width": null
          }
        },
        "c0f3a5978e4644ff9274ce302593782f": {
          "model_module": "@jupyter-widgets/controls",
          "model_name": "ProgressStyleModel",
          "model_module_version": "1.5.0",
          "state": {
            "_model_module": "@jupyter-widgets/controls",
            "_model_module_version": "1.5.0",
            "_model_name": "ProgressStyleModel",
            "_view_count": null,
            "_view_module": "@jupyter-widgets/base",
            "_view_module_version": "1.2.0",
            "_view_name": "StyleView",
            "bar_color": null,
            "description_width": ""
          }
        },
        "36bf2ee461b94ff281562a7bdb9b5fa4": {
          "model_module": "@jupyter-widgets/base",
          "model_name": "LayoutModel",
          "model_module_version": "1.2.0",
          "state": {
            "_model_module": "@jupyter-widgets/base",
            "_model_module_version": "1.2.0",
            "_model_name": "LayoutModel",
            "_view_count": null,
            "_view_module": "@jupyter-widgets/base",
            "_view_module_version": "1.2.0",
            "_view_name": "LayoutView",
            "align_content": null,
            "align_items": null,
            "align_self": null,
            "border": null,
            "bottom": null,
            "display": null,
            "flex": null,
            "flex_flow": null,
            "grid_area": null,
            "grid_auto_columns": null,
            "grid_auto_flow": null,
            "grid_auto_rows": null,
            "grid_column": null,
            "grid_gap": null,
            "grid_row": null,
            "grid_template_areas": null,
            "grid_template_columns": null,
            "grid_template_rows": null,
            "height": null,
            "justify_content": null,
            "justify_items": null,
            "left": null,
            "margin": null,
            "max_height": null,
            "max_width": null,
            "min_height": null,
            "min_width": null,
            "object_fit": null,
            "object_position": null,
            "order": null,
            "overflow": null,
            "overflow_x": null,
            "overflow_y": null,
            "padding": null,
            "right": null,
            "top": null,
            "visibility": null,
            "width": null
          }
        },
        "d26a7f6bc33d478dbbb832d050a2b41b": {
          "model_module": "@jupyter-widgets/controls",
          "model_name": "DescriptionStyleModel",
          "model_module_version": "1.5.0",
          "state": {
            "_model_module": "@jupyter-widgets/controls",
            "_model_module_version": "1.5.0",
            "_model_name": "DescriptionStyleModel",
            "_view_count": null,
            "_view_module": "@jupyter-widgets/base",
            "_view_module_version": "1.2.0",
            "_view_name": "StyleView",
            "description_width": ""
          }
        },
        "d057bd7843b049e69c4c6014e01dd3bd": {
          "model_module": "@jupyter-widgets/controls",
          "model_name": "HBoxModel",
          "model_module_version": "1.5.0",
          "state": {
            "_dom_classes": [],
            "_model_module": "@jupyter-widgets/controls",
            "_model_module_version": "1.5.0",
            "_model_name": "HBoxModel",
            "_view_count": null,
            "_view_module": "@jupyter-widgets/controls",
            "_view_module_version": "1.5.0",
            "_view_name": "HBoxView",
            "box_style": "",
            "children": [
              "IPY_MODEL_8e7aee0596b241eb896ad3ce4e41ac56",
              "IPY_MODEL_44f55a9e4d934dfdbf8dd5865fa3b971",
              "IPY_MODEL_1b0743c2a7e14047a1d0c3dab6aaa93c"
            ],
            "layout": "IPY_MODEL_c26c62d471fb4ecc8e916a309280bd91"
          }
        },
        "8e7aee0596b241eb896ad3ce4e41ac56": {
          "model_module": "@jupyter-widgets/controls",
          "model_name": "HTMLModel",
          "model_module_version": "1.5.0",
          "state": {
            "_dom_classes": [],
            "_model_module": "@jupyter-widgets/controls",
            "_model_module_version": "1.5.0",
            "_model_name": "HTMLModel",
            "_view_count": null,
            "_view_module": "@jupyter-widgets/controls",
            "_view_module_version": "1.5.0",
            "_view_name": "HTMLView",
            "description": "",
            "description_tooltip": null,
            "layout": "IPY_MODEL_48ed5aac65b34ff1a1aae0752705ba74",
            "placeholder": "​",
            "style": "IPY_MODEL_564f973bcb8243d49ea082e1404f1563",
            "value": "Generating train split:  95%"
          }
        },
        "44f55a9e4d934dfdbf8dd5865fa3b971": {
          "model_module": "@jupyter-widgets/controls",
          "model_name": "FloatProgressModel",
          "model_module_version": "1.5.0",
          "state": {
            "_dom_classes": [],
            "_model_module": "@jupyter-widgets/controls",
            "_model_module_version": "1.5.0",
            "_model_name": "FloatProgressModel",
            "_view_count": null,
            "_view_module": "@jupyter-widgets/controls",
            "_view_module_version": "1.5.0",
            "_view_name": "ProgressView",
            "bar_style": "",
            "description": "",
            "description_tooltip": null,
            "layout": "IPY_MODEL_b8c15591617943eabd3f8cf256960391",
            "max": 21401,
            "min": 0,
            "orientation": "horizontal",
            "style": "IPY_MODEL_620e3a7877f048cdb977db3e71db78e0",
            "value": 21401
          }
        },
        "1b0743c2a7e14047a1d0c3dab6aaa93c": {
          "model_module": "@jupyter-widgets/controls",
          "model_name": "HTMLModel",
          "model_module_version": "1.5.0",
          "state": {
            "_dom_classes": [],
            "_model_module": "@jupyter-widgets/controls",
            "_model_module_version": "1.5.0",
            "_model_name": "HTMLModel",
            "_view_count": null,
            "_view_module": "@jupyter-widgets/controls",
            "_view_module_version": "1.5.0",
            "_view_name": "HTMLView",
            "description": "",
            "description_tooltip": null,
            "layout": "IPY_MODEL_b1690b41afa54b8aad9cf269a4862724",
            "placeholder": "​",
            "style": "IPY_MODEL_b59abbf4b3e341bf98c369e2cea6bf3e",
            "value": " 20360/21401 [00:02&lt;00:00, 6078.33 examples/s]"
          }
        },
        "c26c62d471fb4ecc8e916a309280bd91": {
          "model_module": "@jupyter-widgets/base",
          "model_name": "LayoutModel",
          "model_module_version": "1.2.0",
          "state": {
            "_model_module": "@jupyter-widgets/base",
            "_model_module_version": "1.2.0",
            "_model_name": "LayoutModel",
            "_view_count": null,
            "_view_module": "@jupyter-widgets/base",
            "_view_module_version": "1.2.0",
            "_view_name": "LayoutView",
            "align_content": null,
            "align_items": null,
            "align_self": null,
            "border": null,
            "bottom": null,
            "display": null,
            "flex": null,
            "flex_flow": null,
            "grid_area": null,
            "grid_auto_columns": null,
            "grid_auto_flow": null,
            "grid_auto_rows": null,
            "grid_column": null,
            "grid_gap": null,
            "grid_row": null,
            "grid_template_areas": null,
            "grid_template_columns": null,
            "grid_template_rows": null,
            "height": null,
            "justify_content": null,
            "justify_items": null,
            "left": null,
            "margin": null,
            "max_height": null,
            "max_width": null,
            "min_height": null,
            "min_width": null,
            "object_fit": null,
            "object_position": null,
            "order": null,
            "overflow": null,
            "overflow_x": null,
            "overflow_y": null,
            "padding": null,
            "right": null,
            "top": null,
            "visibility": null,
            "width": null
          }
        },
        "48ed5aac65b34ff1a1aae0752705ba74": {
          "model_module": "@jupyter-widgets/base",
          "model_name": "LayoutModel",
          "model_module_version": "1.2.0",
          "state": {
            "_model_module": "@jupyter-widgets/base",
            "_model_module_version": "1.2.0",
            "_model_name": "LayoutModel",
            "_view_count": null,
            "_view_module": "@jupyter-widgets/base",
            "_view_module_version": "1.2.0",
            "_view_name": "LayoutView",
            "align_content": null,
            "align_items": null,
            "align_self": null,
            "border": null,
            "bottom": null,
            "display": null,
            "flex": null,
            "flex_flow": null,
            "grid_area": null,
            "grid_auto_columns": null,
            "grid_auto_flow": null,
            "grid_auto_rows": null,
            "grid_column": null,
            "grid_gap": null,
            "grid_row": null,
            "grid_template_areas": null,
            "grid_template_columns": null,
            "grid_template_rows": null,
            "height": null,
            "justify_content": null,
            "justify_items": null,
            "left": null,
            "margin": null,
            "max_height": null,
            "max_width": null,
            "min_height": null,
            "min_width": null,
            "object_fit": null,
            "object_position": null,
            "order": null,
            "overflow": null,
            "overflow_x": null,
            "overflow_y": null,
            "padding": null,
            "right": null,
            "top": null,
            "visibility": null,
            "width": null
          }
        },
        "564f973bcb8243d49ea082e1404f1563": {
          "model_module": "@jupyter-widgets/controls",
          "model_name": "DescriptionStyleModel",
          "model_module_version": "1.5.0",
          "state": {
            "_model_module": "@jupyter-widgets/controls",
            "_model_module_version": "1.5.0",
            "_model_name": "DescriptionStyleModel",
            "_view_count": null,
            "_view_module": "@jupyter-widgets/base",
            "_view_module_version": "1.2.0",
            "_view_name": "StyleView",
            "description_width": ""
          }
        },
        "b8c15591617943eabd3f8cf256960391": {
          "model_module": "@jupyter-widgets/base",
          "model_name": "LayoutModel",
          "model_module_version": "1.2.0",
          "state": {
            "_model_module": "@jupyter-widgets/base",
            "_model_module_version": "1.2.0",
            "_model_name": "LayoutModel",
            "_view_count": null,
            "_view_module": "@jupyter-widgets/base",
            "_view_module_version": "1.2.0",
            "_view_name": "LayoutView",
            "align_content": null,
            "align_items": null,
            "align_self": null,
            "border": null,
            "bottom": null,
            "display": null,
            "flex": null,
            "flex_flow": null,
            "grid_area": null,
            "grid_auto_columns": null,
            "grid_auto_flow": null,
            "grid_auto_rows": null,
            "grid_column": null,
            "grid_gap": null,
            "grid_row": null,
            "grid_template_areas": null,
            "grid_template_columns": null,
            "grid_template_rows": null,
            "height": null,
            "justify_content": null,
            "justify_items": null,
            "left": null,
            "margin": null,
            "max_height": null,
            "max_width": null,
            "min_height": null,
            "min_width": null,
            "object_fit": null,
            "object_position": null,
            "order": null,
            "overflow": null,
            "overflow_x": null,
            "overflow_y": null,
            "padding": null,
            "right": null,
            "top": null,
            "visibility": null,
            "width": null
          }
        },
        "620e3a7877f048cdb977db3e71db78e0": {
          "model_module": "@jupyter-widgets/controls",
          "model_name": "ProgressStyleModel",
          "model_module_version": "1.5.0",
          "state": {
            "_model_module": "@jupyter-widgets/controls",
            "_model_module_version": "1.5.0",
            "_model_name": "ProgressStyleModel",
            "_view_count": null,
            "_view_module": "@jupyter-widgets/base",
            "_view_module_version": "1.2.0",
            "_view_name": "StyleView",
            "bar_color": null,
            "description_width": ""
          }
        },
        "b1690b41afa54b8aad9cf269a4862724": {
          "model_module": "@jupyter-widgets/base",
          "model_name": "LayoutModel",
          "model_module_version": "1.2.0",
          "state": {
            "_model_module": "@jupyter-widgets/base",
            "_model_module_version": "1.2.0",
            "_model_name": "LayoutModel",
            "_view_count": null,
            "_view_module": "@jupyter-widgets/base",
            "_view_module_version": "1.2.0",
            "_view_name": "LayoutView",
            "align_content": null,
            "align_items": null,
            "align_self": null,
            "border": null,
            "bottom": null,
            "display": null,
            "flex": null,
            "flex_flow": null,
            "grid_area": null,
            "grid_auto_columns": null,
            "grid_auto_flow": null,
            "grid_auto_rows": null,
            "grid_column": null,
            "grid_gap": null,
            "grid_row": null,
            "grid_template_areas": null,
            "grid_template_columns": null,
            "grid_template_rows": null,
            "height": null,
            "justify_content": null,
            "justify_items": null,
            "left": null,
            "margin": null,
            "max_height": null,
            "max_width": null,
            "min_height": null,
            "min_width": null,
            "object_fit": null,
            "object_position": null,
            "order": null,
            "overflow": null,
            "overflow_x": null,
            "overflow_y": null,
            "padding": null,
            "right": null,
            "top": null,
            "visibility": null,
            "width": null
          }
        },
        "b59abbf4b3e341bf98c369e2cea6bf3e": {
          "model_module": "@jupyter-widgets/controls",
          "model_name": "DescriptionStyleModel",
          "model_module_version": "1.5.0",
          "state": {
            "_model_module": "@jupyter-widgets/controls",
            "_model_module_version": "1.5.0",
            "_model_name": "DescriptionStyleModel",
            "_view_count": null,
            "_view_module": "@jupyter-widgets/base",
            "_view_module_version": "1.2.0",
            "_view_name": "StyleView",
            "description_width": ""
          }
        },
        "6cce0415d7f84693b0bdf37a9d2ae080": {
          "model_module": "@jupyter-widgets/controls",
          "model_name": "HBoxModel",
          "model_module_version": "1.5.0",
          "state": {
            "_dom_classes": [],
            "_model_module": "@jupyter-widgets/controls",
            "_model_module_version": "1.5.0",
            "_model_name": "HBoxModel",
            "_view_count": null,
            "_view_module": "@jupyter-widgets/controls",
            "_view_module_version": "1.5.0",
            "_view_name": "HBoxView",
            "box_style": "",
            "children": [
              "IPY_MODEL_79e0378c26884aa1b964174af45946f0",
              "IPY_MODEL_e959bbf7bf0f47e7b3871a4777cae5ea",
              "IPY_MODEL_4e8379e435bd4ad1a667939752f1b08b"
            ],
            "layout": "IPY_MODEL_ff805d91377b477bbad0b0a177add720"
          }
        },
        "79e0378c26884aa1b964174af45946f0": {
          "model_module": "@jupyter-widgets/controls",
          "model_name": "HTMLModel",
          "model_module_version": "1.5.0",
          "state": {
            "_dom_classes": [],
            "_model_module": "@jupyter-widgets/controls",
            "_model_module_version": "1.5.0",
            "_model_name": "HTMLModel",
            "_view_count": null,
            "_view_module": "@jupyter-widgets/controls",
            "_view_module_version": "1.5.0",
            "_view_name": "HTMLView",
            "description": "",
            "description_tooltip": null,
            "layout": "IPY_MODEL_5fc9ebaaf7004f009303d90a64d4dca7",
            "placeholder": "​",
            "style": "IPY_MODEL_4c31815e5a3b48e8b055efbcabe1bd9c",
            "value": "Generating test split:  85%"
          }
        },
        "e959bbf7bf0f47e7b3871a4777cae5ea": {
          "model_module": "@jupyter-widgets/controls",
          "model_name": "FloatProgressModel",
          "model_module_version": "1.5.0",
          "state": {
            "_dom_classes": [],
            "_model_module": "@jupyter-widgets/controls",
            "_model_module_version": "1.5.0",
            "_model_name": "FloatProgressModel",
            "_view_count": null,
            "_view_module": "@jupyter-widgets/controls",
            "_view_module_version": "1.5.0",
            "_view_name": "ProgressView",
            "bar_style": "",
            "description": "",
            "description_tooltip": null,
            "layout": "IPY_MODEL_175a952317554fefb07291a8284006a9",
            "max": 1500,
            "min": 0,
            "orientation": "horizontal",
            "style": "IPY_MODEL_675d8ab3c5a144459de513e0465c037b",
            "value": 1500
          }
        },
        "4e8379e435bd4ad1a667939752f1b08b": {
          "model_module": "@jupyter-widgets/controls",
          "model_name": "HTMLModel",
          "model_module_version": "1.5.0",
          "state": {
            "_dom_classes": [],
            "_model_module": "@jupyter-widgets/controls",
            "_model_module_version": "1.5.0",
            "_model_name": "HTMLModel",
            "_view_count": null,
            "_view_module": "@jupyter-widgets/controls",
            "_view_module_version": "1.5.0",
            "_view_name": "HTMLView",
            "description": "",
            "description_tooltip": null,
            "layout": "IPY_MODEL_d0441afc9c7648c0a5989253d4929449",
            "placeholder": "​",
            "style": "IPY_MODEL_9a7ac82d4cd34c63aa96ccb5d95873e8",
            "value": " 1271/1500 [00:00&lt;00:00, 3183.76 examples/s]"
          }
        },
        "ff805d91377b477bbad0b0a177add720": {
          "model_module": "@jupyter-widgets/base",
          "model_name": "LayoutModel",
          "model_module_version": "1.2.0",
          "state": {
            "_model_module": "@jupyter-widgets/base",
            "_model_module_version": "1.2.0",
            "_model_name": "LayoutModel",
            "_view_count": null,
            "_view_module": "@jupyter-widgets/base",
            "_view_module_version": "1.2.0",
            "_view_name": "LayoutView",
            "align_content": null,
            "align_items": null,
            "align_self": null,
            "border": null,
            "bottom": null,
            "display": null,
            "flex": null,
            "flex_flow": null,
            "grid_area": null,
            "grid_auto_columns": null,
            "grid_auto_flow": null,
            "grid_auto_rows": null,
            "grid_column": null,
            "grid_gap": null,
            "grid_row": null,
            "grid_template_areas": null,
            "grid_template_columns": null,
            "grid_template_rows": null,
            "height": null,
            "justify_content": null,
            "justify_items": null,
            "left": null,
            "margin": null,
            "max_height": null,
            "max_width": null,
            "min_height": null,
            "min_width": null,
            "object_fit": null,
            "object_position": null,
            "order": null,
            "overflow": null,
            "overflow_x": null,
            "overflow_y": null,
            "padding": null,
            "right": null,
            "top": null,
            "visibility": null,
            "width": null
          }
        },
        "5fc9ebaaf7004f009303d90a64d4dca7": {
          "model_module": "@jupyter-widgets/base",
          "model_name": "LayoutModel",
          "model_module_version": "1.2.0",
          "state": {
            "_model_module": "@jupyter-widgets/base",
            "_model_module_version": "1.2.0",
            "_model_name": "LayoutModel",
            "_view_count": null,
            "_view_module": "@jupyter-widgets/base",
            "_view_module_version": "1.2.0",
            "_view_name": "LayoutView",
            "align_content": null,
            "align_items": null,
            "align_self": null,
            "border": null,
            "bottom": null,
            "display": null,
            "flex": null,
            "flex_flow": null,
            "grid_area": null,
            "grid_auto_columns": null,
            "grid_auto_flow": null,
            "grid_auto_rows": null,
            "grid_column": null,
            "grid_gap": null,
            "grid_row": null,
            "grid_template_areas": null,
            "grid_template_columns": null,
            "grid_template_rows": null,
            "height": null,
            "justify_content": null,
            "justify_items": null,
            "left": null,
            "margin": null,
            "max_height": null,
            "max_width": null,
            "min_height": null,
            "min_width": null,
            "object_fit": null,
            "object_position": null,
            "order": null,
            "overflow": null,
            "overflow_x": null,
            "overflow_y": null,
            "padding": null,
            "right": null,
            "top": null,
            "visibility": null,
            "width": null
          }
        },
        "4c31815e5a3b48e8b055efbcabe1bd9c": {
          "model_module": "@jupyter-widgets/controls",
          "model_name": "DescriptionStyleModel",
          "model_module_version": "1.5.0",
          "state": {
            "_model_module": "@jupyter-widgets/controls",
            "_model_module_version": "1.5.0",
            "_model_name": "DescriptionStyleModel",
            "_view_count": null,
            "_view_module": "@jupyter-widgets/base",
            "_view_module_version": "1.2.0",
            "_view_name": "StyleView",
            "description_width": ""
          }
        },
        "175a952317554fefb07291a8284006a9": {
          "model_module": "@jupyter-widgets/base",
          "model_name": "LayoutModel",
          "model_module_version": "1.2.0",
          "state": {
            "_model_module": "@jupyter-widgets/base",
            "_model_module_version": "1.2.0",
            "_model_name": "LayoutModel",
            "_view_count": null,
            "_view_module": "@jupyter-widgets/base",
            "_view_module_version": "1.2.0",
            "_view_name": "LayoutView",
            "align_content": null,
            "align_items": null,
            "align_self": null,
            "border": null,
            "bottom": null,
            "display": null,
            "flex": null,
            "flex_flow": null,
            "grid_area": null,
            "grid_auto_columns": null,
            "grid_auto_flow": null,
            "grid_auto_rows": null,
            "grid_column": null,
            "grid_gap": null,
            "grid_row": null,
            "grid_template_areas": null,
            "grid_template_columns": null,
            "grid_template_rows": null,
            "height": null,
            "justify_content": null,
            "justify_items": null,
            "left": null,
            "margin": null,
            "max_height": null,
            "max_width": null,
            "min_height": null,
            "min_width": null,
            "object_fit": null,
            "object_position": null,
            "order": null,
            "overflow": null,
            "overflow_x": null,
            "overflow_y": null,
            "padding": null,
            "right": null,
            "top": null,
            "visibility": null,
            "width": null
          }
        },
        "675d8ab3c5a144459de513e0465c037b": {
          "model_module": "@jupyter-widgets/controls",
          "model_name": "ProgressStyleModel",
          "model_module_version": "1.5.0",
          "state": {
            "_model_module": "@jupyter-widgets/controls",
            "_model_module_version": "1.5.0",
            "_model_name": "ProgressStyleModel",
            "_view_count": null,
            "_view_module": "@jupyter-widgets/base",
            "_view_module_version": "1.2.0",
            "_view_name": "StyleView",
            "bar_color": null,
            "description_width": ""
          }
        },
        "d0441afc9c7648c0a5989253d4929449": {
          "model_module": "@jupyter-widgets/base",
          "model_name": "LayoutModel",
          "model_module_version": "1.2.0",
          "state": {
            "_model_module": "@jupyter-widgets/base",
            "_model_module_version": "1.2.0",
            "_model_name": "LayoutModel",
            "_view_count": null,
            "_view_module": "@jupyter-widgets/base",
            "_view_module_version": "1.2.0",
            "_view_name": "LayoutView",
            "align_content": null,
            "align_items": null,
            "align_self": null,
            "border": null,
            "bottom": null,
            "display": null,
            "flex": null,
            "flex_flow": null,
            "grid_area": null,
            "grid_auto_columns": null,
            "grid_auto_flow": null,
            "grid_auto_rows": null,
            "grid_column": null,
            "grid_gap": null,
            "grid_row": null,
            "grid_template_areas": null,
            "grid_template_columns": null,
            "grid_template_rows": null,
            "height": null,
            "justify_content": null,
            "justify_items": null,
            "left": null,
            "margin": null,
            "max_height": null,
            "max_width": null,
            "min_height": null,
            "min_width": null,
            "object_fit": null,
            "object_position": null,
            "order": null,
            "overflow": null,
            "overflow_x": null,
            "overflow_y": null,
            "padding": null,
            "right": null,
            "top": null,
            "visibility": null,
            "width": null
          }
        },
        "9a7ac82d4cd34c63aa96ccb5d95873e8": {
          "model_module": "@jupyter-widgets/controls",
          "model_name": "DescriptionStyleModel",
          "model_module_version": "1.5.0",
          "state": {
            "_model_module": "@jupyter-widgets/controls",
            "_model_module_version": "1.5.0",
            "_model_name": "DescriptionStyleModel",
            "_view_count": null,
            "_view_module": "@jupyter-widgets/base",
            "_view_module_version": "1.2.0",
            "_view_name": "StyleView",
            "description_width": ""
          }
        },
        "42a1e72a57fd466c9f48e5d1edf4838e": {
          "model_module": "@jupyter-widgets/controls",
          "model_name": "HBoxModel",
          "model_module_version": "1.5.0",
          "state": {
            "_dom_classes": [],
            "_model_module": "@jupyter-widgets/controls",
            "_model_module_version": "1.5.0",
            "_model_name": "HBoxModel",
            "_view_count": null,
            "_view_module": "@jupyter-widgets/controls",
            "_view_module_version": "1.5.0",
            "_view_name": "HBoxView",
            "box_style": "",
            "children": [
              "IPY_MODEL_70912c29652e49b38a0cddeaca9b870d",
              "IPY_MODEL_ef4aa6f25c0c476786db76b1112df298",
              "IPY_MODEL_af72869a10b94ce49741041fd55be87d"
            ],
            "layout": "IPY_MODEL_2c4ec103db9044c7bc260e9646bd60c1"
          }
        },
        "70912c29652e49b38a0cddeaca9b870d": {
          "model_module": "@jupyter-widgets/controls",
          "model_name": "HTMLModel",
          "model_module_version": "1.5.0",
          "state": {
            "_dom_classes": [],
            "_model_module": "@jupyter-widgets/controls",
            "_model_module_version": "1.5.0",
            "_model_name": "HTMLModel",
            "_view_count": null,
            "_view_module": "@jupyter-widgets/controls",
            "_view_module_version": "1.5.0",
            "_view_name": "HTMLView",
            "description": "",
            "description_tooltip": null,
            "layout": "IPY_MODEL_29365170751e4e61aa402a00179b980c",
            "placeholder": "​",
            "style": "IPY_MODEL_6789bf9cca3e44878e80ef0c6c1f2d23",
            "value": "Generating validation split:  84%"
          }
        },
        "ef4aa6f25c0c476786db76b1112df298": {
          "model_module": "@jupyter-widgets/controls",
          "model_name": "FloatProgressModel",
          "model_module_version": "1.5.0",
          "state": {
            "_dom_classes": [],
            "_model_module": "@jupyter-widgets/controls",
            "_model_module_version": "1.5.0",
            "_model_name": "FloatProgressModel",
            "_view_count": null,
            "_view_module": "@jupyter-widgets/controls",
            "_view_module_version": "1.5.0",
            "_view_name": "ProgressView",
            "bar_style": "",
            "description": "",
            "description_tooltip": null,
            "layout": "IPY_MODEL_38cc65dca79848499827cd326394754d",
            "max": 1500,
            "min": 0,
            "orientation": "horizontal",
            "style": "IPY_MODEL_183732036aa5437abb34d7e8f9496634",
            "value": 1500
          }
        },
        "af72869a10b94ce49741041fd55be87d": {
          "model_module": "@jupyter-widgets/controls",
          "model_name": "HTMLModel",
          "model_module_version": "1.5.0",
          "state": {
            "_dom_classes": [],
            "_model_module": "@jupyter-widgets/controls",
            "_model_module_version": "1.5.0",
            "_model_name": "HTMLModel",
            "_view_count": null,
            "_view_module": "@jupyter-widgets/controls",
            "_view_module_version": "1.5.0",
            "_view_name": "HTMLView",
            "description": "",
            "description_tooltip": null,
            "layout": "IPY_MODEL_29cb34c39c414a9599226bc21b1b2c48",
            "placeholder": "​",
            "style": "IPY_MODEL_35eb7d0c58974ac7bd5acba31b553f4a",
            "value": " 1265/1500 [00:00&lt;00:00, 3356.46 examples/s]"
          }
        },
        "2c4ec103db9044c7bc260e9646bd60c1": {
          "model_module": "@jupyter-widgets/base",
          "model_name": "LayoutModel",
          "model_module_version": "1.2.0",
          "state": {
            "_model_module": "@jupyter-widgets/base",
            "_model_module_version": "1.2.0",
            "_model_name": "LayoutModel",
            "_view_count": null,
            "_view_module": "@jupyter-widgets/base",
            "_view_module_version": "1.2.0",
            "_view_name": "LayoutView",
            "align_content": null,
            "align_items": null,
            "align_self": null,
            "border": null,
            "bottom": null,
            "display": null,
            "flex": null,
            "flex_flow": null,
            "grid_area": null,
            "grid_auto_columns": null,
            "grid_auto_flow": null,
            "grid_auto_rows": null,
            "grid_column": null,
            "grid_gap": null,
            "grid_row": null,
            "grid_template_areas": null,
            "grid_template_columns": null,
            "grid_template_rows": null,
            "height": null,
            "justify_content": null,
            "justify_items": null,
            "left": null,
            "margin": null,
            "max_height": null,
            "max_width": null,
            "min_height": null,
            "min_width": null,
            "object_fit": null,
            "object_position": null,
            "order": null,
            "overflow": null,
            "overflow_x": null,
            "overflow_y": null,
            "padding": null,
            "right": null,
            "top": null,
            "visibility": null,
            "width": null
          }
        },
        "29365170751e4e61aa402a00179b980c": {
          "model_module": "@jupyter-widgets/base",
          "model_name": "LayoutModel",
          "model_module_version": "1.2.0",
          "state": {
            "_model_module": "@jupyter-widgets/base",
            "_model_module_version": "1.2.0",
            "_model_name": "LayoutModel",
            "_view_count": null,
            "_view_module": "@jupyter-widgets/base",
            "_view_module_version": "1.2.0",
            "_view_name": "LayoutView",
            "align_content": null,
            "align_items": null,
            "align_self": null,
            "border": null,
            "bottom": null,
            "display": null,
            "flex": null,
            "flex_flow": null,
            "grid_area": null,
            "grid_auto_columns": null,
            "grid_auto_flow": null,
            "grid_auto_rows": null,
            "grid_column": null,
            "grid_gap": null,
            "grid_row": null,
            "grid_template_areas": null,
            "grid_template_columns": null,
            "grid_template_rows": null,
            "height": null,
            "justify_content": null,
            "justify_items": null,
            "left": null,
            "margin": null,
            "max_height": null,
            "max_width": null,
            "min_height": null,
            "min_width": null,
            "object_fit": null,
            "object_position": null,
            "order": null,
            "overflow": null,
            "overflow_x": null,
            "overflow_y": null,
            "padding": null,
            "right": null,
            "top": null,
            "visibility": null,
            "width": null
          }
        },
        "6789bf9cca3e44878e80ef0c6c1f2d23": {
          "model_module": "@jupyter-widgets/controls",
          "model_name": "DescriptionStyleModel",
          "model_module_version": "1.5.0",
          "state": {
            "_model_module": "@jupyter-widgets/controls",
            "_model_module_version": "1.5.0",
            "_model_name": "DescriptionStyleModel",
            "_view_count": null,
            "_view_module": "@jupyter-widgets/base",
            "_view_module_version": "1.2.0",
            "_view_name": "StyleView",
            "description_width": ""
          }
        },
        "38cc65dca79848499827cd326394754d": {
          "model_module": "@jupyter-widgets/base",
          "model_name": "LayoutModel",
          "model_module_version": "1.2.0",
          "state": {
            "_model_module": "@jupyter-widgets/base",
            "_model_module_version": "1.2.0",
            "_model_name": "LayoutModel",
            "_view_count": null,
            "_view_module": "@jupyter-widgets/base",
            "_view_module_version": "1.2.0",
            "_view_name": "LayoutView",
            "align_content": null,
            "align_items": null,
            "align_self": null,
            "border": null,
            "bottom": null,
            "display": null,
            "flex": null,
            "flex_flow": null,
            "grid_area": null,
            "grid_auto_columns": null,
            "grid_auto_flow": null,
            "grid_auto_rows": null,
            "grid_column": null,
            "grid_gap": null,
            "grid_row": null,
            "grid_template_areas": null,
            "grid_template_columns": null,
            "grid_template_rows": null,
            "height": null,
            "justify_content": null,
            "justify_items": null,
            "left": null,
            "margin": null,
            "max_height": null,
            "max_width": null,
            "min_height": null,
            "min_width": null,
            "object_fit": null,
            "object_position": null,
            "order": null,
            "overflow": null,
            "overflow_x": null,
            "overflow_y": null,
            "padding": null,
            "right": null,
            "top": null,
            "visibility": null,
            "width": null
          }
        },
        "183732036aa5437abb34d7e8f9496634": {
          "model_module": "@jupyter-widgets/controls",
          "model_name": "ProgressStyleModel",
          "model_module_version": "1.5.0",
          "state": {
            "_model_module": "@jupyter-widgets/controls",
            "_model_module_version": "1.5.0",
            "_model_name": "ProgressStyleModel",
            "_view_count": null,
            "_view_module": "@jupyter-widgets/base",
            "_view_module_version": "1.2.0",
            "_view_name": "StyleView",
            "bar_color": null,
            "description_width": ""
          }
        },
        "29cb34c39c414a9599226bc21b1b2c48": {
          "model_module": "@jupyter-widgets/base",
          "model_name": "LayoutModel",
          "model_module_version": "1.2.0",
          "state": {
            "_model_module": "@jupyter-widgets/base",
            "_model_module_version": "1.2.0",
            "_model_name": "LayoutModel",
            "_view_count": null,
            "_view_module": "@jupyter-widgets/base",
            "_view_module_version": "1.2.0",
            "_view_name": "LayoutView",
            "align_content": null,
            "align_items": null,
            "align_self": null,
            "border": null,
            "bottom": null,
            "display": null,
            "flex": null,
            "flex_flow": null,
            "grid_area": null,
            "grid_auto_columns": null,
            "grid_auto_flow": null,
            "grid_auto_rows": null,
            "grid_column": null,
            "grid_gap": null,
            "grid_row": null,
            "grid_template_areas": null,
            "grid_template_columns": null,
            "grid_template_rows": null,
            "height": null,
            "justify_content": null,
            "justify_items": null,
            "left": null,
            "margin": null,
            "max_height": null,
            "max_width": null,
            "min_height": null,
            "min_width": null,
            "object_fit": null,
            "object_position": null,
            "order": null,
            "overflow": null,
            "overflow_x": null,
            "overflow_y": null,
            "padding": null,
            "right": null,
            "top": null,
            "visibility": null,
            "width": null
          }
        },
        "35eb7d0c58974ac7bd5acba31b553f4a": {
          "model_module": "@jupyter-widgets/controls",
          "model_name": "DescriptionStyleModel",
          "model_module_version": "1.5.0",
          "state": {
            "_model_module": "@jupyter-widgets/controls",
            "_model_module_version": "1.5.0",
            "_model_name": "DescriptionStyleModel",
            "_view_count": null,
            "_view_module": "@jupyter-widgets/base",
            "_view_module_version": "1.2.0",
            "_view_name": "StyleView",
            "description_width": ""
          }
        },
        "d7e442f00a374a53af024f7a9c86c1cb": {
          "model_module": "@jupyter-widgets/controls",
          "model_name": "HBoxModel",
          "model_module_version": "1.5.0",
          "state": {
            "_dom_classes": [],
            "_model_module": "@jupyter-widgets/controls",
            "_model_module_version": "1.5.0",
            "_model_name": "HBoxModel",
            "_view_count": null,
            "_view_module": "@jupyter-widgets/controls",
            "_view_module_version": "1.5.0",
            "_view_name": "HBoxView",
            "box_style": "",
            "children": [
              "IPY_MODEL_d48a6c74beaa4c2893d0c3b8d8185db8",
              "IPY_MODEL_5c699c15ce53461aa5f289aa180fdeaa",
              "IPY_MODEL_034164ef9a3a4662979e0be8b0aedbd2"
            ],
            "layout": "IPY_MODEL_aaff2a1bd1854657a415b8cde56c4111"
          }
        },
        "d48a6c74beaa4c2893d0c3b8d8185db8": {
          "model_module": "@jupyter-widgets/controls",
          "model_name": "HTMLModel",
          "model_module_version": "1.5.0",
          "state": {
            "_dom_classes": [],
            "_model_module": "@jupyter-widgets/controls",
            "_model_module_version": "1.5.0",
            "_model_name": "HTMLModel",
            "_view_count": null,
            "_view_module": "@jupyter-widgets/controls",
            "_view_module_version": "1.5.0",
            "_view_name": "HTMLView",
            "description": "",
            "description_tooltip": null,
            "layout": "IPY_MODEL_61fddf7d0db84a3dad367e9f56d83c62",
            "placeholder": "​",
            "style": "IPY_MODEL_3d3fa5780c1a4176b8709c02beb2b33c",
            "value": "100%"
          }
        },
        "5c699c15ce53461aa5f289aa180fdeaa": {
          "model_module": "@jupyter-widgets/controls",
          "model_name": "FloatProgressModel",
          "model_module_version": "1.5.0",
          "state": {
            "_dom_classes": [],
            "_model_module": "@jupyter-widgets/controls",
            "_model_module_version": "1.5.0",
            "_model_name": "FloatProgressModel",
            "_view_count": null,
            "_view_module": "@jupyter-widgets/controls",
            "_view_module_version": "1.5.0",
            "_view_name": "ProgressView",
            "bar_style": "success",
            "description": "",
            "description_tooltip": null,
            "layout": "IPY_MODEL_150ca8604cd348d591b4ef1736643441",
            "max": 3,
            "min": 0,
            "orientation": "horizontal",
            "style": "IPY_MODEL_0a4c2516bf884ae5ad6cb6a30186d33a",
            "value": 3
          }
        },
        "034164ef9a3a4662979e0be8b0aedbd2": {
          "model_module": "@jupyter-widgets/controls",
          "model_name": "HTMLModel",
          "model_module_version": "1.5.0",
          "state": {
            "_dom_classes": [],
            "_model_module": "@jupyter-widgets/controls",
            "_model_module_version": "1.5.0",
            "_model_name": "HTMLModel",
            "_view_count": null,
            "_view_module": "@jupyter-widgets/controls",
            "_view_module_version": "1.5.0",
            "_view_name": "HTMLView",
            "description": "",
            "description_tooltip": null,
            "layout": "IPY_MODEL_7c0c064bb0fc42429c50a8507fa5c821",
            "placeholder": "​",
            "style": "IPY_MODEL_fd9ac6a473a943cab4427bd7e95ff844",
            "value": " 3/3 [00:00&lt;00:00, 72.75it/s]"
          }
        },
        "aaff2a1bd1854657a415b8cde56c4111": {
          "model_module": "@jupyter-widgets/base",
          "model_name": "LayoutModel",
          "model_module_version": "1.2.0",
          "state": {
            "_model_module": "@jupyter-widgets/base",
            "_model_module_version": "1.2.0",
            "_model_name": "LayoutModel",
            "_view_count": null,
            "_view_module": "@jupyter-widgets/base",
            "_view_module_version": "1.2.0",
            "_view_name": "LayoutView",
            "align_content": null,
            "align_items": null,
            "align_self": null,
            "border": null,
            "bottom": null,
            "display": null,
            "flex": null,
            "flex_flow": null,
            "grid_area": null,
            "grid_auto_columns": null,
            "grid_auto_flow": null,
            "grid_auto_rows": null,
            "grid_column": null,
            "grid_gap": null,
            "grid_row": null,
            "grid_template_areas": null,
            "grid_template_columns": null,
            "grid_template_rows": null,
            "height": null,
            "justify_content": null,
            "justify_items": null,
            "left": null,
            "margin": null,
            "max_height": null,
            "max_width": null,
            "min_height": null,
            "min_width": null,
            "object_fit": null,
            "object_position": null,
            "order": null,
            "overflow": null,
            "overflow_x": null,
            "overflow_y": null,
            "padding": null,
            "right": null,
            "top": null,
            "visibility": null,
            "width": null
          }
        },
        "61fddf7d0db84a3dad367e9f56d83c62": {
          "model_module": "@jupyter-widgets/base",
          "model_name": "LayoutModel",
          "model_module_version": "1.2.0",
          "state": {
            "_model_module": "@jupyter-widgets/base",
            "_model_module_version": "1.2.0",
            "_model_name": "LayoutModel",
            "_view_count": null,
            "_view_module": "@jupyter-widgets/base",
            "_view_module_version": "1.2.0",
            "_view_name": "LayoutView",
            "align_content": null,
            "align_items": null,
            "align_self": null,
            "border": null,
            "bottom": null,
            "display": null,
            "flex": null,
            "flex_flow": null,
            "grid_area": null,
            "grid_auto_columns": null,
            "grid_auto_flow": null,
            "grid_auto_rows": null,
            "grid_column": null,
            "grid_gap": null,
            "grid_row": null,
            "grid_template_areas": null,
            "grid_template_columns": null,
            "grid_template_rows": null,
            "height": null,
            "justify_content": null,
            "justify_items": null,
            "left": null,
            "margin": null,
            "max_height": null,
            "max_width": null,
            "min_height": null,
            "min_width": null,
            "object_fit": null,
            "object_position": null,
            "order": null,
            "overflow": null,
            "overflow_x": null,
            "overflow_y": null,
            "padding": null,
            "right": null,
            "top": null,
            "visibility": null,
            "width": null
          }
        },
        "3d3fa5780c1a4176b8709c02beb2b33c": {
          "model_module": "@jupyter-widgets/controls",
          "model_name": "DescriptionStyleModel",
          "model_module_version": "1.5.0",
          "state": {
            "_model_module": "@jupyter-widgets/controls",
            "_model_module_version": "1.5.0",
            "_model_name": "DescriptionStyleModel",
            "_view_count": null,
            "_view_module": "@jupyter-widgets/base",
            "_view_module_version": "1.2.0",
            "_view_name": "StyleView",
            "description_width": ""
          }
        },
        "150ca8604cd348d591b4ef1736643441": {
          "model_module": "@jupyter-widgets/base",
          "model_name": "LayoutModel",
          "model_module_version": "1.2.0",
          "state": {
            "_model_module": "@jupyter-widgets/base",
            "_model_module_version": "1.2.0",
            "_model_name": "LayoutModel",
            "_view_count": null,
            "_view_module": "@jupyter-widgets/base",
            "_view_module_version": "1.2.0",
            "_view_name": "LayoutView",
            "align_content": null,
            "align_items": null,
            "align_self": null,
            "border": null,
            "bottom": null,
            "display": null,
            "flex": null,
            "flex_flow": null,
            "grid_area": null,
            "grid_auto_columns": null,
            "grid_auto_flow": null,
            "grid_auto_rows": null,
            "grid_column": null,
            "grid_gap": null,
            "grid_row": null,
            "grid_template_areas": null,
            "grid_template_columns": null,
            "grid_template_rows": null,
            "height": null,
            "justify_content": null,
            "justify_items": null,
            "left": null,
            "margin": null,
            "max_height": null,
            "max_width": null,
            "min_height": null,
            "min_width": null,
            "object_fit": null,
            "object_position": null,
            "order": null,
            "overflow": null,
            "overflow_x": null,
            "overflow_y": null,
            "padding": null,
            "right": null,
            "top": null,
            "visibility": null,
            "width": null
          }
        },
        "0a4c2516bf884ae5ad6cb6a30186d33a": {
          "model_module": "@jupyter-widgets/controls",
          "model_name": "ProgressStyleModel",
          "model_module_version": "1.5.0",
          "state": {
            "_model_module": "@jupyter-widgets/controls",
            "_model_module_version": "1.5.0",
            "_model_name": "ProgressStyleModel",
            "_view_count": null,
            "_view_module": "@jupyter-widgets/base",
            "_view_module_version": "1.2.0",
            "_view_name": "StyleView",
            "bar_color": null,
            "description_width": ""
          }
        },
        "7c0c064bb0fc42429c50a8507fa5c821": {
          "model_module": "@jupyter-widgets/base",
          "model_name": "LayoutModel",
          "model_module_version": "1.2.0",
          "state": {
            "_model_module": "@jupyter-widgets/base",
            "_model_module_version": "1.2.0",
            "_model_name": "LayoutModel",
            "_view_count": null,
            "_view_module": "@jupyter-widgets/base",
            "_view_module_version": "1.2.0",
            "_view_name": "LayoutView",
            "align_content": null,
            "align_items": null,
            "align_self": null,
            "border": null,
            "bottom": null,
            "display": null,
            "flex": null,
            "flex_flow": null,
            "grid_area": null,
            "grid_auto_columns": null,
            "grid_auto_flow": null,
            "grid_auto_rows": null,
            "grid_column": null,
            "grid_gap": null,
            "grid_row": null,
            "grid_template_areas": null,
            "grid_template_columns": null,
            "grid_template_rows": null,
            "height": null,
            "justify_content": null,
            "justify_items": null,
            "left": null,
            "margin": null,
            "max_height": null,
            "max_width": null,
            "min_height": null,
            "min_width": null,
            "object_fit": null,
            "object_position": null,
            "order": null,
            "overflow": null,
            "overflow_x": null,
            "overflow_y": null,
            "padding": null,
            "right": null,
            "top": null,
            "visibility": null,
            "width": null
          }
        },
        "fd9ac6a473a943cab4427bd7e95ff844": {
          "model_module": "@jupyter-widgets/controls",
          "model_name": "DescriptionStyleModel",
          "model_module_version": "1.5.0",
          "state": {
            "_model_module": "@jupyter-widgets/controls",
            "_model_module_version": "1.5.0",
            "_model_name": "DescriptionStyleModel",
            "_view_count": null,
            "_view_module": "@jupyter-widgets/base",
            "_view_module_version": "1.2.0",
            "_view_name": "StyleView",
            "description_width": ""
          }
        },
        "33a59f47c2e84129b4823ffcee578848": {
          "model_module": "@jupyter-widgets/controls",
          "model_name": "HBoxModel",
          "model_module_version": "1.5.0",
          "state": {
            "_dom_classes": [],
            "_model_module": "@jupyter-widgets/controls",
            "_model_module_version": "1.5.0",
            "_model_name": "HBoxModel",
            "_view_count": null,
            "_view_module": "@jupyter-widgets/controls",
            "_view_module_version": "1.5.0",
            "_view_name": "HBoxView",
            "box_style": "",
            "children": [
              "IPY_MODEL_6b2fddf11da84978a572a7c4c185ec82",
              "IPY_MODEL_e8fdec1380524aeb8c7a5bd0ee0eb895",
              "IPY_MODEL_65f301c8e2af4aa89ddc40be94381672"
            ],
            "layout": "IPY_MODEL_a2040016929a42b6b91e92b70f2f23b2"
          }
        },
        "6b2fddf11da84978a572a7c4c185ec82": {
          "model_module": "@jupyter-widgets/controls",
          "model_name": "HTMLModel",
          "model_module_version": "1.5.0",
          "state": {
            "_dom_classes": [],
            "_model_module": "@jupyter-widgets/controls",
            "_model_module_version": "1.5.0",
            "_model_name": "HTMLModel",
            "_view_count": null,
            "_view_module": "@jupyter-widgets/controls",
            "_view_module_version": "1.5.0",
            "_view_name": "HTMLView",
            "description": "",
            "description_tooltip": null,
            "layout": "IPY_MODEL_f8d6e986a84043d484eb7caf9294fe81",
            "placeholder": "​",
            "style": "IPY_MODEL_1199bd8e23aa4b34bc957c1565cba542",
            "value": "100%"
          }
        },
        "e8fdec1380524aeb8c7a5bd0ee0eb895": {
          "model_module": "@jupyter-widgets/controls",
          "model_name": "FloatProgressModel",
          "model_module_version": "1.5.0",
          "state": {
            "_dom_classes": [],
            "_model_module": "@jupyter-widgets/controls",
            "_model_module_version": "1.5.0",
            "_model_name": "FloatProgressModel",
            "_view_count": null,
            "_view_module": "@jupyter-widgets/controls",
            "_view_module_version": "1.5.0",
            "_view_name": "ProgressView",
            "bar_style": "success",
            "description": "",
            "description_tooltip": null,
            "layout": "IPY_MODEL_d36dbb92c3f94aab9caf1ebaf1c98fc1",
            "max": 21401,
            "min": 0,
            "orientation": "horizontal",
            "style": "IPY_MODEL_b17627efebe0483292fd6ad3c9b001e4",
            "value": 21401
          }
        },
        "65f301c8e2af4aa89ddc40be94381672": {
          "model_module": "@jupyter-widgets/controls",
          "model_name": "HTMLModel",
          "model_module_version": "1.5.0",
          "state": {
            "_dom_classes": [],
            "_model_module": "@jupyter-widgets/controls",
            "_model_module_version": "1.5.0",
            "_model_name": "HTMLModel",
            "_view_count": null,
            "_view_module": "@jupyter-widgets/controls",
            "_view_module_version": "1.5.0",
            "_view_name": "HTMLView",
            "description": "",
            "description_tooltip": null,
            "layout": "IPY_MODEL_7957fd1997b54dc1b35a85ce26c00f38",
            "placeholder": "​",
            "style": "IPY_MODEL_b187b9cda98647e0866fe01963cd6a8c",
            "value": " 21401/21401 [01:26&lt;00:00, 292.03it/s]"
          }
        },
        "a2040016929a42b6b91e92b70f2f23b2": {
          "model_module": "@jupyter-widgets/base",
          "model_name": "LayoutModel",
          "model_module_version": "1.2.0",
          "state": {
            "_model_module": "@jupyter-widgets/base",
            "_model_module_version": "1.2.0",
            "_model_name": "LayoutModel",
            "_view_count": null,
            "_view_module": "@jupyter-widgets/base",
            "_view_module_version": "1.2.0",
            "_view_name": "LayoutView",
            "align_content": null,
            "align_items": null,
            "align_self": null,
            "border": null,
            "bottom": null,
            "display": null,
            "flex": null,
            "flex_flow": null,
            "grid_area": null,
            "grid_auto_columns": null,
            "grid_auto_flow": null,
            "grid_auto_rows": null,
            "grid_column": null,
            "grid_gap": null,
            "grid_row": null,
            "grid_template_areas": null,
            "grid_template_columns": null,
            "grid_template_rows": null,
            "height": null,
            "justify_content": null,
            "justify_items": null,
            "left": null,
            "margin": null,
            "max_height": null,
            "max_width": null,
            "min_height": null,
            "min_width": null,
            "object_fit": null,
            "object_position": null,
            "order": null,
            "overflow": null,
            "overflow_x": null,
            "overflow_y": null,
            "padding": null,
            "right": null,
            "top": null,
            "visibility": null,
            "width": null
          }
        },
        "f8d6e986a84043d484eb7caf9294fe81": {
          "model_module": "@jupyter-widgets/base",
          "model_name": "LayoutModel",
          "model_module_version": "1.2.0",
          "state": {
            "_model_module": "@jupyter-widgets/base",
            "_model_module_version": "1.2.0",
            "_model_name": "LayoutModel",
            "_view_count": null,
            "_view_module": "@jupyter-widgets/base",
            "_view_module_version": "1.2.0",
            "_view_name": "LayoutView",
            "align_content": null,
            "align_items": null,
            "align_self": null,
            "border": null,
            "bottom": null,
            "display": null,
            "flex": null,
            "flex_flow": null,
            "grid_area": null,
            "grid_auto_columns": null,
            "grid_auto_flow": null,
            "grid_auto_rows": null,
            "grid_column": null,
            "grid_gap": null,
            "grid_row": null,
            "grid_template_areas": null,
            "grid_template_columns": null,
            "grid_template_rows": null,
            "height": null,
            "justify_content": null,
            "justify_items": null,
            "left": null,
            "margin": null,
            "max_height": null,
            "max_width": null,
            "min_height": null,
            "min_width": null,
            "object_fit": null,
            "object_position": null,
            "order": null,
            "overflow": null,
            "overflow_x": null,
            "overflow_y": null,
            "padding": null,
            "right": null,
            "top": null,
            "visibility": null,
            "width": null
          }
        },
        "1199bd8e23aa4b34bc957c1565cba542": {
          "model_module": "@jupyter-widgets/controls",
          "model_name": "DescriptionStyleModel",
          "model_module_version": "1.5.0",
          "state": {
            "_model_module": "@jupyter-widgets/controls",
            "_model_module_version": "1.5.0",
            "_model_name": "DescriptionStyleModel",
            "_view_count": null,
            "_view_module": "@jupyter-widgets/base",
            "_view_module_version": "1.2.0",
            "_view_name": "StyleView",
            "description_width": ""
          }
        },
        "d36dbb92c3f94aab9caf1ebaf1c98fc1": {
          "model_module": "@jupyter-widgets/base",
          "model_name": "LayoutModel",
          "model_module_version": "1.2.0",
          "state": {
            "_model_module": "@jupyter-widgets/base",
            "_model_module_version": "1.2.0",
            "_model_name": "LayoutModel",
            "_view_count": null,
            "_view_module": "@jupyter-widgets/base",
            "_view_module_version": "1.2.0",
            "_view_name": "LayoutView",
            "align_content": null,
            "align_items": null,
            "align_self": null,
            "border": null,
            "bottom": null,
            "display": null,
            "flex": null,
            "flex_flow": null,
            "grid_area": null,
            "grid_auto_columns": null,
            "grid_auto_flow": null,
            "grid_auto_rows": null,
            "grid_column": null,
            "grid_gap": null,
            "grid_row": null,
            "grid_template_areas": null,
            "grid_template_columns": null,
            "grid_template_rows": null,
            "height": null,
            "justify_content": null,
            "justify_items": null,
            "left": null,
            "margin": null,
            "max_height": null,
            "max_width": null,
            "min_height": null,
            "min_width": null,
            "object_fit": null,
            "object_position": null,
            "order": null,
            "overflow": null,
            "overflow_x": null,
            "overflow_y": null,
            "padding": null,
            "right": null,
            "top": null,
            "visibility": null,
            "width": null
          }
        },
        "b17627efebe0483292fd6ad3c9b001e4": {
          "model_module": "@jupyter-widgets/controls",
          "model_name": "ProgressStyleModel",
          "model_module_version": "1.5.0",
          "state": {
            "_model_module": "@jupyter-widgets/controls",
            "_model_module_version": "1.5.0",
            "_model_name": "ProgressStyleModel",
            "_view_count": null,
            "_view_module": "@jupyter-widgets/base",
            "_view_module_version": "1.2.0",
            "_view_name": "StyleView",
            "bar_color": null,
            "description_width": ""
          }
        },
        "7957fd1997b54dc1b35a85ce26c00f38": {
          "model_module": "@jupyter-widgets/base",
          "model_name": "LayoutModel",
          "model_module_version": "1.2.0",
          "state": {
            "_model_module": "@jupyter-widgets/base",
            "_model_module_version": "1.2.0",
            "_model_name": "LayoutModel",
            "_view_count": null,
            "_view_module": "@jupyter-widgets/base",
            "_view_module_version": "1.2.0",
            "_view_name": "LayoutView",
            "align_content": null,
            "align_items": null,
            "align_self": null,
            "border": null,
            "bottom": null,
            "display": null,
            "flex": null,
            "flex_flow": null,
            "grid_area": null,
            "grid_auto_columns": null,
            "grid_auto_flow": null,
            "grid_auto_rows": null,
            "grid_column": null,
            "grid_gap": null,
            "grid_row": null,
            "grid_template_areas": null,
            "grid_template_columns": null,
            "grid_template_rows": null,
            "height": null,
            "justify_content": null,
            "justify_items": null,
            "left": null,
            "margin": null,
            "max_height": null,
            "max_width": null,
            "min_height": null,
            "min_width": null,
            "object_fit": null,
            "object_position": null,
            "order": null,
            "overflow": null,
            "overflow_x": null,
            "overflow_y": null,
            "padding": null,
            "right": null,
            "top": null,
            "visibility": null,
            "width": null
          }
        },
        "b187b9cda98647e0866fe01963cd6a8c": {
          "model_module": "@jupyter-widgets/controls",
          "model_name": "DescriptionStyleModel",
          "model_module_version": "1.5.0",
          "state": {
            "_model_module": "@jupyter-widgets/controls",
            "_model_module_version": "1.5.0",
            "_model_name": "DescriptionStyleModel",
            "_view_count": null,
            "_view_module": "@jupyter-widgets/base",
            "_view_module_version": "1.2.0",
            "_view_name": "StyleView",
            "description_width": ""
          }
        },
        "8169770ff9074fe99025fdc0766143f2": {
          "model_module": "@jupyter-widgets/controls",
          "model_name": "HBoxModel",
          "model_module_version": "1.5.0",
          "state": {
            "_dom_classes": [],
            "_model_module": "@jupyter-widgets/controls",
            "_model_module_version": "1.5.0",
            "_model_name": "HBoxModel",
            "_view_count": null,
            "_view_module": "@jupyter-widgets/controls",
            "_view_module_version": "1.5.0",
            "_view_name": "HBoxView",
            "box_style": "",
            "children": [
              "IPY_MODEL_7e475091cbe54d9ea7e3e04f225c3d0c",
              "IPY_MODEL_6ec8c337167842f5bbb71da6175d5daa",
              "IPY_MODEL_21b0b65108e04d58a77fe23bcac6e79b"
            ],
            "layout": "IPY_MODEL_1a7723a0ca784eefb8ed0144e84394cc"
          }
        },
        "7e475091cbe54d9ea7e3e04f225c3d0c": {
          "model_module": "@jupyter-widgets/controls",
          "model_name": "HTMLModel",
          "model_module_version": "1.5.0",
          "state": {
            "_dom_classes": [],
            "_model_module": "@jupyter-widgets/controls",
            "_model_module_version": "1.5.0",
            "_model_name": "HTMLModel",
            "_view_count": null,
            "_view_module": "@jupyter-widgets/controls",
            "_view_module_version": "1.5.0",
            "_view_name": "HTMLView",
            "description": "",
            "description_tooltip": null,
            "layout": "IPY_MODEL_b4a489f2d154458b83f7f6d8b8dfb750",
            "placeholder": "​",
            "style": "IPY_MODEL_479fe56e3ab144ada1a86d5c76e5d454",
            "value": "100%"
          }
        },
        "6ec8c337167842f5bbb71da6175d5daa": {
          "model_module": "@jupyter-widgets/controls",
          "model_name": "FloatProgressModel",
          "model_module_version": "1.5.0",
          "state": {
            "_dom_classes": [],
            "_model_module": "@jupyter-widgets/controls",
            "_model_module_version": "1.5.0",
            "_model_name": "FloatProgressModel",
            "_view_count": null,
            "_view_module": "@jupyter-widgets/controls",
            "_view_module_version": "1.5.0",
            "_view_name": "ProgressView",
            "bar_style": "success",
            "description": "",
            "description_tooltip": null,
            "layout": "IPY_MODEL_c8360404de5f4ae7af0dc7bb9a19f1d5",
            "max": 21401,
            "min": 0,
            "orientation": "horizontal",
            "style": "IPY_MODEL_325e1de4892442cc9c9118c4fc6a0970",
            "value": 21401
          }
        },
        "21b0b65108e04d58a77fe23bcac6e79b": {
          "model_module": "@jupyter-widgets/controls",
          "model_name": "HTMLModel",
          "model_module_version": "1.5.0",
          "state": {
            "_dom_classes": [],
            "_model_module": "@jupyter-widgets/controls",
            "_model_module_version": "1.5.0",
            "_model_name": "HTMLModel",
            "_view_count": null,
            "_view_module": "@jupyter-widgets/controls",
            "_view_module_version": "1.5.0",
            "_view_name": "HTMLView",
            "description": "",
            "description_tooltip": null,
            "layout": "IPY_MODEL_4ca5f6429eb44fcdb5ba7bd3449f26d6",
            "placeholder": "​",
            "style": "IPY_MODEL_0992937e3b5743b08af2dead78bf5bcf",
            "value": " 21401/21401 [01:23&lt;00:00, 279.50it/s]"
          }
        },
        "1a7723a0ca784eefb8ed0144e84394cc": {
          "model_module": "@jupyter-widgets/base",
          "model_name": "LayoutModel",
          "model_module_version": "1.2.0",
          "state": {
            "_model_module": "@jupyter-widgets/base",
            "_model_module_version": "1.2.0",
            "_model_name": "LayoutModel",
            "_view_count": null,
            "_view_module": "@jupyter-widgets/base",
            "_view_module_version": "1.2.0",
            "_view_name": "LayoutView",
            "align_content": null,
            "align_items": null,
            "align_self": null,
            "border": null,
            "bottom": null,
            "display": null,
            "flex": null,
            "flex_flow": null,
            "grid_area": null,
            "grid_auto_columns": null,
            "grid_auto_flow": null,
            "grid_auto_rows": null,
            "grid_column": null,
            "grid_gap": null,
            "grid_row": null,
            "grid_template_areas": null,
            "grid_template_columns": null,
            "grid_template_rows": null,
            "height": null,
            "justify_content": null,
            "justify_items": null,
            "left": null,
            "margin": null,
            "max_height": null,
            "max_width": null,
            "min_height": null,
            "min_width": null,
            "object_fit": null,
            "object_position": null,
            "order": null,
            "overflow": null,
            "overflow_x": null,
            "overflow_y": null,
            "padding": null,
            "right": null,
            "top": null,
            "visibility": null,
            "width": null
          }
        },
        "b4a489f2d154458b83f7f6d8b8dfb750": {
          "model_module": "@jupyter-widgets/base",
          "model_name": "LayoutModel",
          "model_module_version": "1.2.0",
          "state": {
            "_model_module": "@jupyter-widgets/base",
            "_model_module_version": "1.2.0",
            "_model_name": "LayoutModel",
            "_view_count": null,
            "_view_module": "@jupyter-widgets/base",
            "_view_module_version": "1.2.0",
            "_view_name": "LayoutView",
            "align_content": null,
            "align_items": null,
            "align_self": null,
            "border": null,
            "bottom": null,
            "display": null,
            "flex": null,
            "flex_flow": null,
            "grid_area": null,
            "grid_auto_columns": null,
            "grid_auto_flow": null,
            "grid_auto_rows": null,
            "grid_column": null,
            "grid_gap": null,
            "grid_row": null,
            "grid_template_areas": null,
            "grid_template_columns": null,
            "grid_template_rows": null,
            "height": null,
            "justify_content": null,
            "justify_items": null,
            "left": null,
            "margin": null,
            "max_height": null,
            "max_width": null,
            "min_height": null,
            "min_width": null,
            "object_fit": null,
            "object_position": null,
            "order": null,
            "overflow": null,
            "overflow_x": null,
            "overflow_y": null,
            "padding": null,
            "right": null,
            "top": null,
            "visibility": null,
            "width": null
          }
        },
        "479fe56e3ab144ada1a86d5c76e5d454": {
          "model_module": "@jupyter-widgets/controls",
          "model_name": "DescriptionStyleModel",
          "model_module_version": "1.5.0",
          "state": {
            "_model_module": "@jupyter-widgets/controls",
            "_model_module_version": "1.5.0",
            "_model_name": "DescriptionStyleModel",
            "_view_count": null,
            "_view_module": "@jupyter-widgets/base",
            "_view_module_version": "1.2.0",
            "_view_name": "StyleView",
            "description_width": ""
          }
        },
        "c8360404de5f4ae7af0dc7bb9a19f1d5": {
          "model_module": "@jupyter-widgets/base",
          "model_name": "LayoutModel",
          "model_module_version": "1.2.0",
          "state": {
            "_model_module": "@jupyter-widgets/base",
            "_model_module_version": "1.2.0",
            "_model_name": "LayoutModel",
            "_view_count": null,
            "_view_module": "@jupyter-widgets/base",
            "_view_module_version": "1.2.0",
            "_view_name": "LayoutView",
            "align_content": null,
            "align_items": null,
            "align_self": null,
            "border": null,
            "bottom": null,
            "display": null,
            "flex": null,
            "flex_flow": null,
            "grid_area": null,
            "grid_auto_columns": null,
            "grid_auto_flow": null,
            "grid_auto_rows": null,
            "grid_column": null,
            "grid_gap": null,
            "grid_row": null,
            "grid_template_areas": null,
            "grid_template_columns": null,
            "grid_template_rows": null,
            "height": null,
            "justify_content": null,
            "justify_items": null,
            "left": null,
            "margin": null,
            "max_height": null,
            "max_width": null,
            "min_height": null,
            "min_width": null,
            "object_fit": null,
            "object_position": null,
            "order": null,
            "overflow": null,
            "overflow_x": null,
            "overflow_y": null,
            "padding": null,
            "right": null,
            "top": null,
            "visibility": null,
            "width": null
          }
        },
        "325e1de4892442cc9c9118c4fc6a0970": {
          "model_module": "@jupyter-widgets/controls",
          "model_name": "ProgressStyleModel",
          "model_module_version": "1.5.0",
          "state": {
            "_model_module": "@jupyter-widgets/controls",
            "_model_module_version": "1.5.0",
            "_model_name": "ProgressStyleModel",
            "_view_count": null,
            "_view_module": "@jupyter-widgets/base",
            "_view_module_version": "1.2.0",
            "_view_name": "StyleView",
            "bar_color": null,
            "description_width": ""
          }
        },
        "4ca5f6429eb44fcdb5ba7bd3449f26d6": {
          "model_module": "@jupyter-widgets/base",
          "model_name": "LayoutModel",
          "model_module_version": "1.2.0",
          "state": {
            "_model_module": "@jupyter-widgets/base",
            "_model_module_version": "1.2.0",
            "_model_name": "LayoutModel",
            "_view_count": null,
            "_view_module": "@jupyter-widgets/base",
            "_view_module_version": "1.2.0",
            "_view_name": "LayoutView",
            "align_content": null,
            "align_items": null,
            "align_self": null,
            "border": null,
            "bottom": null,
            "display": null,
            "flex": null,
            "flex_flow": null,
            "grid_area": null,
            "grid_auto_columns": null,
            "grid_auto_flow": null,
            "grid_auto_rows": null,
            "grid_column": null,
            "grid_gap": null,
            "grid_row": null,
            "grid_template_areas": null,
            "grid_template_columns": null,
            "grid_template_rows": null,
            "height": null,
            "justify_content": null,
            "justify_items": null,
            "left": null,
            "margin": null,
            "max_height": null,
            "max_width": null,
            "min_height": null,
            "min_width": null,
            "object_fit": null,
            "object_position": null,
            "order": null,
            "overflow": null,
            "overflow_x": null,
            "overflow_y": null,
            "padding": null,
            "right": null,
            "top": null,
            "visibility": null,
            "width": null
          }
        },
        "0992937e3b5743b08af2dead78bf5bcf": {
          "model_module": "@jupyter-widgets/controls",
          "model_name": "DescriptionStyleModel",
          "model_module_version": "1.5.0",
          "state": {
            "_model_module": "@jupyter-widgets/controls",
            "_model_module_version": "1.5.0",
            "_model_name": "DescriptionStyleModel",
            "_view_count": null,
            "_view_module": "@jupyter-widgets/base",
            "_view_module_version": "1.2.0",
            "_view_name": "StyleView",
            "description_width": ""
          }
        },
        "34e4e8f106fb4aeebc57e4477fd2d9d5": {
          "model_module": "@jupyter-widgets/controls",
          "model_name": "HBoxModel",
          "model_module_version": "1.5.0",
          "state": {
            "_dom_classes": [],
            "_model_module": "@jupyter-widgets/controls",
            "_model_module_version": "1.5.0",
            "_model_name": "HBoxModel",
            "_view_count": null,
            "_view_module": "@jupyter-widgets/controls",
            "_view_module_version": "1.5.0",
            "_view_name": "HBoxView",
            "box_style": "",
            "children": [
              "IPY_MODEL_b48a4e024a72499c8748fb5443cdd772",
              "IPY_MODEL_000c70081363496bbd6f4f4db71b6719",
              "IPY_MODEL_57f4a87503d441b6b0f4eba1492efbdc"
            ],
            "layout": "IPY_MODEL_01c41f16c2e0471c8cb78ec551e89375"
          }
        },
        "b48a4e024a72499c8748fb5443cdd772": {
          "model_module": "@jupyter-widgets/controls",
          "model_name": "HTMLModel",
          "model_module_version": "1.5.0",
          "state": {
            "_dom_classes": [],
            "_model_module": "@jupyter-widgets/controls",
            "_model_module_version": "1.5.0",
            "_model_name": "HTMLModel",
            "_view_count": null,
            "_view_module": "@jupyter-widgets/controls",
            "_view_module_version": "1.5.0",
            "_view_name": "HTMLView",
            "description": "",
            "description_tooltip": null,
            "layout": "IPY_MODEL_43c92056d6dc4f6fb14b6b6ba0d00555",
            "placeholder": "​",
            "style": "IPY_MODEL_4af0d8e5ad7f4acfa9fdac157584dafb",
            "value": "100%"
          }
        },
        "000c70081363496bbd6f4f4db71b6719": {
          "model_module": "@jupyter-widgets/controls",
          "model_name": "FloatProgressModel",
          "model_module_version": "1.5.0",
          "state": {
            "_dom_classes": [],
            "_model_module": "@jupyter-widgets/controls",
            "_model_module_version": "1.5.0",
            "_model_name": "FloatProgressModel",
            "_view_count": null,
            "_view_module": "@jupyter-widgets/controls",
            "_view_module_version": "1.5.0",
            "_view_name": "ProgressView",
            "bar_style": "success",
            "description": "",
            "description_tooltip": null,
            "layout": "IPY_MODEL_f7967b75ee5a4412814a7f22b07c7e5d",
            "max": 21401,
            "min": 0,
            "orientation": "horizontal",
            "style": "IPY_MODEL_83f3971f714e4568ad19d51eb724d3db",
            "value": 21401
          }
        },
        "57f4a87503d441b6b0f4eba1492efbdc": {
          "model_module": "@jupyter-widgets/controls",
          "model_name": "HTMLModel",
          "model_module_version": "1.5.0",
          "state": {
            "_dom_classes": [],
            "_model_module": "@jupyter-widgets/controls",
            "_model_module_version": "1.5.0",
            "_model_name": "HTMLModel",
            "_view_count": null,
            "_view_module": "@jupyter-widgets/controls",
            "_view_module_version": "1.5.0",
            "_view_name": "HTMLView",
            "description": "",
            "description_tooltip": null,
            "layout": "IPY_MODEL_cb88fa16343049afa0db12d27676fe07",
            "placeholder": "​",
            "style": "IPY_MODEL_8901099fffde4826a4304406c514abd1",
            "value": " 21401/21401 [00:11&lt;00:00, 1791.89it/s]"
          }
        },
        "01c41f16c2e0471c8cb78ec551e89375": {
          "model_module": "@jupyter-widgets/base",
          "model_name": "LayoutModel",
          "model_module_version": "1.2.0",
          "state": {
            "_model_module": "@jupyter-widgets/base",
            "_model_module_version": "1.2.0",
            "_model_name": "LayoutModel",
            "_view_count": null,
            "_view_module": "@jupyter-widgets/base",
            "_view_module_version": "1.2.0",
            "_view_name": "LayoutView",
            "align_content": null,
            "align_items": null,
            "align_self": null,
            "border": null,
            "bottom": null,
            "display": null,
            "flex": null,
            "flex_flow": null,
            "grid_area": null,
            "grid_auto_columns": null,
            "grid_auto_flow": null,
            "grid_auto_rows": null,
            "grid_column": null,
            "grid_gap": null,
            "grid_row": null,
            "grid_template_areas": null,
            "grid_template_columns": null,
            "grid_template_rows": null,
            "height": null,
            "justify_content": null,
            "justify_items": null,
            "left": null,
            "margin": null,
            "max_height": null,
            "max_width": null,
            "min_height": null,
            "min_width": null,
            "object_fit": null,
            "object_position": null,
            "order": null,
            "overflow": null,
            "overflow_x": null,
            "overflow_y": null,
            "padding": null,
            "right": null,
            "top": null,
            "visibility": null,
            "width": null
          }
        },
        "43c92056d6dc4f6fb14b6b6ba0d00555": {
          "model_module": "@jupyter-widgets/base",
          "model_name": "LayoutModel",
          "model_module_version": "1.2.0",
          "state": {
            "_model_module": "@jupyter-widgets/base",
            "_model_module_version": "1.2.0",
            "_model_name": "LayoutModel",
            "_view_count": null,
            "_view_module": "@jupyter-widgets/base",
            "_view_module_version": "1.2.0",
            "_view_name": "LayoutView",
            "align_content": null,
            "align_items": null,
            "align_self": null,
            "border": null,
            "bottom": null,
            "display": null,
            "flex": null,
            "flex_flow": null,
            "grid_area": null,
            "grid_auto_columns": null,
            "grid_auto_flow": null,
            "grid_auto_rows": null,
            "grid_column": null,
            "grid_gap": null,
            "grid_row": null,
            "grid_template_areas": null,
            "grid_template_columns": null,
            "grid_template_rows": null,
            "height": null,
            "justify_content": null,
            "justify_items": null,
            "left": null,
            "margin": null,
            "max_height": null,
            "max_width": null,
            "min_height": null,
            "min_width": null,
            "object_fit": null,
            "object_position": null,
            "order": null,
            "overflow": null,
            "overflow_x": null,
            "overflow_y": null,
            "padding": null,
            "right": null,
            "top": null,
            "visibility": null,
            "width": null
          }
        },
        "4af0d8e5ad7f4acfa9fdac157584dafb": {
          "model_module": "@jupyter-widgets/controls",
          "model_name": "DescriptionStyleModel",
          "model_module_version": "1.5.0",
          "state": {
            "_model_module": "@jupyter-widgets/controls",
            "_model_module_version": "1.5.0",
            "_model_name": "DescriptionStyleModel",
            "_view_count": null,
            "_view_module": "@jupyter-widgets/base",
            "_view_module_version": "1.2.0",
            "_view_name": "StyleView",
            "description_width": ""
          }
        },
        "f7967b75ee5a4412814a7f22b07c7e5d": {
          "model_module": "@jupyter-widgets/base",
          "model_name": "LayoutModel",
          "model_module_version": "1.2.0",
          "state": {
            "_model_module": "@jupyter-widgets/base",
            "_model_module_version": "1.2.0",
            "_model_name": "LayoutModel",
            "_view_count": null,
            "_view_module": "@jupyter-widgets/base",
            "_view_module_version": "1.2.0",
            "_view_name": "LayoutView",
            "align_content": null,
            "align_items": null,
            "align_self": null,
            "border": null,
            "bottom": null,
            "display": null,
            "flex": null,
            "flex_flow": null,
            "grid_area": null,
            "grid_auto_columns": null,
            "grid_auto_flow": null,
            "grid_auto_rows": null,
            "grid_column": null,
            "grid_gap": null,
            "grid_row": null,
            "grid_template_areas": null,
            "grid_template_columns": null,
            "grid_template_rows": null,
            "height": null,
            "justify_content": null,
            "justify_items": null,
            "left": null,
            "margin": null,
            "max_height": null,
            "max_width": null,
            "min_height": null,
            "min_width": null,
            "object_fit": null,
            "object_position": null,
            "order": null,
            "overflow": null,
            "overflow_x": null,
            "overflow_y": null,
            "padding": null,
            "right": null,
            "top": null,
            "visibility": null,
            "width": null
          }
        },
        "83f3971f714e4568ad19d51eb724d3db": {
          "model_module": "@jupyter-widgets/controls",
          "model_name": "ProgressStyleModel",
          "model_module_version": "1.5.0",
          "state": {
            "_model_module": "@jupyter-widgets/controls",
            "_model_module_version": "1.5.0",
            "_model_name": "ProgressStyleModel",
            "_view_count": null,
            "_view_module": "@jupyter-widgets/base",
            "_view_module_version": "1.2.0",
            "_view_name": "StyleView",
            "bar_color": null,
            "description_width": ""
          }
        },
        "cb88fa16343049afa0db12d27676fe07": {
          "model_module": "@jupyter-widgets/base",
          "model_name": "LayoutModel",
          "model_module_version": "1.2.0",
          "state": {
            "_model_module": "@jupyter-widgets/base",
            "_model_module_version": "1.2.0",
            "_model_name": "LayoutModel",
            "_view_count": null,
            "_view_module": "@jupyter-widgets/base",
            "_view_module_version": "1.2.0",
            "_view_name": "LayoutView",
            "align_content": null,
            "align_items": null,
            "align_self": null,
            "border": null,
            "bottom": null,
            "display": null,
            "flex": null,
            "flex_flow": null,
            "grid_area": null,
            "grid_auto_columns": null,
            "grid_auto_flow": null,
            "grid_auto_rows": null,
            "grid_column": null,
            "grid_gap": null,
            "grid_row": null,
            "grid_template_areas": null,
            "grid_template_columns": null,
            "grid_template_rows": null,
            "height": null,
            "justify_content": null,
            "justify_items": null,
            "left": null,
            "margin": null,
            "max_height": null,
            "max_width": null,
            "min_height": null,
            "min_width": null,
            "object_fit": null,
            "object_position": null,
            "order": null,
            "overflow": null,
            "overflow_x": null,
            "overflow_y": null,
            "padding": null,
            "right": null,
            "top": null,
            "visibility": null,
            "width": null
          }
        },
        "8901099fffde4826a4304406c514abd1": {
          "model_module": "@jupyter-widgets/controls",
          "model_name": "DescriptionStyleModel",
          "model_module_version": "1.5.0",
          "state": {
            "_model_module": "@jupyter-widgets/controls",
            "_model_module_version": "1.5.0",
            "_model_name": "DescriptionStyleModel",
            "_view_count": null,
            "_view_module": "@jupyter-widgets/base",
            "_view_module_version": "1.2.0",
            "_view_name": "StyleView",
            "description_width": ""
          }
        },
        "2b892da07bd140cf9313745043914185": {
          "model_module": "@jupyter-widgets/controls",
          "model_name": "HBoxModel",
          "model_module_version": "1.5.0",
          "state": {
            "_dom_classes": [],
            "_model_module": "@jupyter-widgets/controls",
            "_model_module_version": "1.5.0",
            "_model_name": "HBoxModel",
            "_view_count": null,
            "_view_module": "@jupyter-widgets/controls",
            "_view_module_version": "1.5.0",
            "_view_name": "HBoxView",
            "box_style": "",
            "children": [
              "IPY_MODEL_e9864a39b3314457b1b3d6b3309a642e",
              "IPY_MODEL_2704e58169984085a8995f066e687152",
              "IPY_MODEL_313717fb53c04749aa444c62f40582a8"
            ],
            "layout": "IPY_MODEL_93db7f4e56734641b2a4a93ad9835c0f"
          }
        },
        "e9864a39b3314457b1b3d6b3309a642e": {
          "model_module": "@jupyter-widgets/controls",
          "model_name": "HTMLModel",
          "model_module_version": "1.5.0",
          "state": {
            "_dom_classes": [],
            "_model_module": "@jupyter-widgets/controls",
            "_model_module_version": "1.5.0",
            "_model_name": "HTMLModel",
            "_view_count": null,
            "_view_module": "@jupyter-widgets/controls",
            "_view_module_version": "1.5.0",
            "_view_name": "HTMLView",
            "description": "",
            "description_tooltip": null,
            "layout": "IPY_MODEL_0b65efffacc24759b4cc0555af6bd0f9",
            "placeholder": "​",
            "style": "IPY_MODEL_2149472796974a36b6a4f74715ebff66",
            "value": "Downloading: 100%"
          }
        },
        "2704e58169984085a8995f066e687152": {
          "model_module": "@jupyter-widgets/controls",
          "model_name": "FloatProgressModel",
          "model_module_version": "1.5.0",
          "state": {
            "_dom_classes": [],
            "_model_module": "@jupyter-widgets/controls",
            "_model_module_version": "1.5.0",
            "_model_name": "FloatProgressModel",
            "_view_count": null,
            "_view_module": "@jupyter-widgets/controls",
            "_view_module_version": "1.5.0",
            "_view_name": "ProgressView",
            "bar_style": "success",
            "description": "",
            "description_tooltip": null,
            "layout": "IPY_MODEL_b7e66bac17e4457e827b50d1b342bde5",
            "max": 1288,
            "min": 0,
            "orientation": "horizontal",
            "style": "IPY_MODEL_8b5d47bc8ab849dfbd7bce6233a6c7e3",
            "value": 1288
          }
        },
        "313717fb53c04749aa444c62f40582a8": {
          "model_module": "@jupyter-widgets/controls",
          "model_name": "HTMLModel",
          "model_module_version": "1.5.0",
          "state": {
            "_dom_classes": [],
            "_model_module": "@jupyter-widgets/controls",
            "_model_module_version": "1.5.0",
            "_model_name": "HTMLModel",
            "_view_count": null,
            "_view_module": "@jupyter-widgets/controls",
            "_view_module_version": "1.5.0",
            "_view_name": "HTMLView",
            "description": "",
            "description_tooltip": null,
            "layout": "IPY_MODEL_33c1eb0bdc344ac9b8275a33be5f3024",
            "placeholder": "​",
            "style": "IPY_MODEL_979e778c865e494d9996667b0f18ef70",
            "value": " 1.26k/1.26k [00:00&lt;00:00, 19.7kB/s]"
          }
        },
        "93db7f4e56734641b2a4a93ad9835c0f": {
          "model_module": "@jupyter-widgets/base",
          "model_name": "LayoutModel",
          "model_module_version": "1.2.0",
          "state": {
            "_model_module": "@jupyter-widgets/base",
            "_model_module_version": "1.2.0",
            "_model_name": "LayoutModel",
            "_view_count": null,
            "_view_module": "@jupyter-widgets/base",
            "_view_module_version": "1.2.0",
            "_view_name": "LayoutView",
            "align_content": null,
            "align_items": null,
            "align_self": null,
            "border": null,
            "bottom": null,
            "display": null,
            "flex": null,
            "flex_flow": null,
            "grid_area": null,
            "grid_auto_columns": null,
            "grid_auto_flow": null,
            "grid_auto_rows": null,
            "grid_column": null,
            "grid_gap": null,
            "grid_row": null,
            "grid_template_areas": null,
            "grid_template_columns": null,
            "grid_template_rows": null,
            "height": null,
            "justify_content": null,
            "justify_items": null,
            "left": null,
            "margin": null,
            "max_height": null,
            "max_width": null,
            "min_height": null,
            "min_width": null,
            "object_fit": null,
            "object_position": null,
            "order": null,
            "overflow": null,
            "overflow_x": null,
            "overflow_y": null,
            "padding": null,
            "right": null,
            "top": null,
            "visibility": null,
            "width": null
          }
        },
        "0b65efffacc24759b4cc0555af6bd0f9": {
          "model_module": "@jupyter-widgets/base",
          "model_name": "LayoutModel",
          "model_module_version": "1.2.0",
          "state": {
            "_model_module": "@jupyter-widgets/base",
            "_model_module_version": "1.2.0",
            "_model_name": "LayoutModel",
            "_view_count": null,
            "_view_module": "@jupyter-widgets/base",
            "_view_module_version": "1.2.0",
            "_view_name": "LayoutView",
            "align_content": null,
            "align_items": null,
            "align_self": null,
            "border": null,
            "bottom": null,
            "display": null,
            "flex": null,
            "flex_flow": null,
            "grid_area": null,
            "grid_auto_columns": null,
            "grid_auto_flow": null,
            "grid_auto_rows": null,
            "grid_column": null,
            "grid_gap": null,
            "grid_row": null,
            "grid_template_areas": null,
            "grid_template_columns": null,
            "grid_template_rows": null,
            "height": null,
            "justify_content": null,
            "justify_items": null,
            "left": null,
            "margin": null,
            "max_height": null,
            "max_width": null,
            "min_height": null,
            "min_width": null,
            "object_fit": null,
            "object_position": null,
            "order": null,
            "overflow": null,
            "overflow_x": null,
            "overflow_y": null,
            "padding": null,
            "right": null,
            "top": null,
            "visibility": null,
            "width": null
          }
        },
        "2149472796974a36b6a4f74715ebff66": {
          "model_module": "@jupyter-widgets/controls",
          "model_name": "DescriptionStyleModel",
          "model_module_version": "1.5.0",
          "state": {
            "_model_module": "@jupyter-widgets/controls",
            "_model_module_version": "1.5.0",
            "_model_name": "DescriptionStyleModel",
            "_view_count": null,
            "_view_module": "@jupyter-widgets/base",
            "_view_module_version": "1.2.0",
            "_view_name": "StyleView",
            "description_width": ""
          }
        },
        "b7e66bac17e4457e827b50d1b342bde5": {
          "model_module": "@jupyter-widgets/base",
          "model_name": "LayoutModel",
          "model_module_version": "1.2.0",
          "state": {
            "_model_module": "@jupyter-widgets/base",
            "_model_module_version": "1.2.0",
            "_model_name": "LayoutModel",
            "_view_count": null,
            "_view_module": "@jupyter-widgets/base",
            "_view_module_version": "1.2.0",
            "_view_name": "LayoutView",
            "align_content": null,
            "align_items": null,
            "align_self": null,
            "border": null,
            "bottom": null,
            "display": null,
            "flex": null,
            "flex_flow": null,
            "grid_area": null,
            "grid_auto_columns": null,
            "grid_auto_flow": null,
            "grid_auto_rows": null,
            "grid_column": null,
            "grid_gap": null,
            "grid_row": null,
            "grid_template_areas": null,
            "grid_template_columns": null,
            "grid_template_rows": null,
            "height": null,
            "justify_content": null,
            "justify_items": null,
            "left": null,
            "margin": null,
            "max_height": null,
            "max_width": null,
            "min_height": null,
            "min_width": null,
            "object_fit": null,
            "object_position": null,
            "order": null,
            "overflow": null,
            "overflow_x": null,
            "overflow_y": null,
            "padding": null,
            "right": null,
            "top": null,
            "visibility": null,
            "width": null
          }
        },
        "8b5d47bc8ab849dfbd7bce6233a6c7e3": {
          "model_module": "@jupyter-widgets/controls",
          "model_name": "ProgressStyleModel",
          "model_module_version": "1.5.0",
          "state": {
            "_model_module": "@jupyter-widgets/controls",
            "_model_module_version": "1.5.0",
            "_model_name": "ProgressStyleModel",
            "_view_count": null,
            "_view_module": "@jupyter-widgets/base",
            "_view_module_version": "1.2.0",
            "_view_name": "StyleView",
            "bar_color": null,
            "description_width": ""
          }
        },
        "33c1eb0bdc344ac9b8275a33be5f3024": {
          "model_module": "@jupyter-widgets/base",
          "model_name": "LayoutModel",
          "model_module_version": "1.2.0",
          "state": {
            "_model_module": "@jupyter-widgets/base",
            "_model_module_version": "1.2.0",
            "_model_name": "LayoutModel",
            "_view_count": null,
            "_view_module": "@jupyter-widgets/base",
            "_view_module_version": "1.2.0",
            "_view_name": "LayoutView",
            "align_content": null,
            "align_items": null,
            "align_self": null,
            "border": null,
            "bottom": null,
            "display": null,
            "flex": null,
            "flex_flow": null,
            "grid_area": null,
            "grid_auto_columns": null,
            "grid_auto_flow": null,
            "grid_auto_rows": null,
            "grid_column": null,
            "grid_gap": null,
            "grid_row": null,
            "grid_template_areas": null,
            "grid_template_columns": null,
            "grid_template_rows": null,
            "height": null,
            "justify_content": null,
            "justify_items": null,
            "left": null,
            "margin": null,
            "max_height": null,
            "max_width": null,
            "min_height": null,
            "min_width": null,
            "object_fit": null,
            "object_position": null,
            "order": null,
            "overflow": null,
            "overflow_x": null,
            "overflow_y": null,
            "padding": null,
            "right": null,
            "top": null,
            "visibility": null,
            "width": null
          }
        },
        "979e778c865e494d9996667b0f18ef70": {
          "model_module": "@jupyter-widgets/controls",
          "model_name": "DescriptionStyleModel",
          "model_module_version": "1.5.0",
          "state": {
            "_model_module": "@jupyter-widgets/controls",
            "_model_module_version": "1.5.0",
            "_model_name": "DescriptionStyleModel",
            "_view_count": null,
            "_view_module": "@jupyter-widgets/base",
            "_view_module_version": "1.2.0",
            "_view_name": "StyleView",
            "description_width": ""
          }
        },
        "6d3a6cac98b24c688748ab74cf43d8e5": {
          "model_module": "@jupyter-widgets/controls",
          "model_name": "HBoxModel",
          "model_module_version": "1.5.0",
          "state": {
            "_dom_classes": [],
            "_model_module": "@jupyter-widgets/controls",
            "_model_module_version": "1.5.0",
            "_model_name": "HBoxModel",
            "_view_count": null,
            "_view_module": "@jupyter-widgets/controls",
            "_view_module_version": "1.5.0",
            "_view_name": "HBoxView",
            "box_style": "",
            "children": [
              "IPY_MODEL_4bdd0035dbca434bbdd6e43389d05d01",
              "IPY_MODEL_37cb1773d5024b65ad09e30da23d2f9d",
              "IPY_MODEL_041775e33dbd431db17d8d43cbf8aaa3"
            ],
            "layout": "IPY_MODEL_e6e7060e0cfe469a86057b5cc8c106dd"
          }
        },
        "4bdd0035dbca434bbdd6e43389d05d01": {
          "model_module": "@jupyter-widgets/controls",
          "model_name": "HTMLModel",
          "model_module_version": "1.5.0",
          "state": {
            "_dom_classes": [],
            "_model_module": "@jupyter-widgets/controls",
            "_model_module_version": "1.5.0",
            "_model_name": "HTMLModel",
            "_view_count": null,
            "_view_module": "@jupyter-widgets/controls",
            "_view_module_version": "1.5.0",
            "_view_name": "HTMLView",
            "description": "",
            "description_tooltip": null,
            "layout": "IPY_MODEL_c5349989e02b422c83053fac33d5c68a",
            "placeholder": "​",
            "style": "IPY_MODEL_3fc054241fd14868aa07f9805071db78",
            "value": "Downloading: 100%"
          }
        },
        "37cb1773d5024b65ad09e30da23d2f9d": {
          "model_module": "@jupyter-widgets/controls",
          "model_name": "FloatProgressModel",
          "model_module_version": "1.5.0",
          "state": {
            "_dom_classes": [],
            "_model_module": "@jupyter-widgets/controls",
            "_model_module_version": "1.5.0",
            "_model_name": "FloatProgressModel",
            "_view_count": null,
            "_view_module": "@jupyter-widgets/controls",
            "_view_module_version": "1.5.0",
            "_view_name": "ProgressView",
            "bar_style": "success",
            "description": "",
            "description_tooltip": null,
            "layout": "IPY_MODEL_326815ed36fe48b1aa070d2ba1b02b13",
            "max": 1115393,
            "min": 0,
            "orientation": "horizontal",
            "style": "IPY_MODEL_817ebde2268f420982a607fd1405d10b",
            "value": 1115393
          }
        },
        "041775e33dbd431db17d8d43cbf8aaa3": {
          "model_module": "@jupyter-widgets/controls",
          "model_name": "HTMLModel",
          "model_module_version": "1.5.0",
          "state": {
            "_dom_classes": [],
            "_model_module": "@jupyter-widgets/controls",
            "_model_module_version": "1.5.0",
            "_model_name": "HTMLModel",
            "_view_count": null,
            "_view_module": "@jupyter-widgets/controls",
            "_view_module_version": "1.5.0",
            "_view_name": "HTMLView",
            "description": "",
            "description_tooltip": null,
            "layout": "IPY_MODEL_46c09838c6ef4ec6885c18b8a03caeff",
            "placeholder": "​",
            "style": "IPY_MODEL_62e79912f7b14ff0be343412c5f76243",
            "value": " 1.06M/1.06M [00:00&lt;00:00, 3.84MB/s]"
          }
        },
        "e6e7060e0cfe469a86057b5cc8c106dd": {
          "model_module": "@jupyter-widgets/base",
          "model_name": "LayoutModel",
          "model_module_version": "1.2.0",
          "state": {
            "_model_module": "@jupyter-widgets/base",
            "_model_module_version": "1.2.0",
            "_model_name": "LayoutModel",
            "_view_count": null,
            "_view_module": "@jupyter-widgets/base",
            "_view_module_version": "1.2.0",
            "_view_name": "LayoutView",
            "align_content": null,
            "align_items": null,
            "align_self": null,
            "border": null,
            "bottom": null,
            "display": null,
            "flex": null,
            "flex_flow": null,
            "grid_area": null,
            "grid_auto_columns": null,
            "grid_auto_flow": null,
            "grid_auto_rows": null,
            "grid_column": null,
            "grid_gap": null,
            "grid_row": null,
            "grid_template_areas": null,
            "grid_template_columns": null,
            "grid_template_rows": null,
            "height": null,
            "justify_content": null,
            "justify_items": null,
            "left": null,
            "margin": null,
            "max_height": null,
            "max_width": null,
            "min_height": null,
            "min_width": null,
            "object_fit": null,
            "object_position": null,
            "order": null,
            "overflow": null,
            "overflow_x": null,
            "overflow_y": null,
            "padding": null,
            "right": null,
            "top": null,
            "visibility": null,
            "width": null
          }
        },
        "c5349989e02b422c83053fac33d5c68a": {
          "model_module": "@jupyter-widgets/base",
          "model_name": "LayoutModel",
          "model_module_version": "1.2.0",
          "state": {
            "_model_module": "@jupyter-widgets/base",
            "_model_module_version": "1.2.0",
            "_model_name": "LayoutModel",
            "_view_count": null,
            "_view_module": "@jupyter-widgets/base",
            "_view_module_version": "1.2.0",
            "_view_name": "LayoutView",
            "align_content": null,
            "align_items": null,
            "align_self": null,
            "border": null,
            "bottom": null,
            "display": null,
            "flex": null,
            "flex_flow": null,
            "grid_area": null,
            "grid_auto_columns": null,
            "grid_auto_flow": null,
            "grid_auto_rows": null,
            "grid_column": null,
            "grid_gap": null,
            "grid_row": null,
            "grid_template_areas": null,
            "grid_template_columns": null,
            "grid_template_rows": null,
            "height": null,
            "justify_content": null,
            "justify_items": null,
            "left": null,
            "margin": null,
            "max_height": null,
            "max_width": null,
            "min_height": null,
            "min_width": null,
            "object_fit": null,
            "object_position": null,
            "order": null,
            "overflow": null,
            "overflow_x": null,
            "overflow_y": null,
            "padding": null,
            "right": null,
            "top": null,
            "visibility": null,
            "width": null
          }
        },
        "3fc054241fd14868aa07f9805071db78": {
          "model_module": "@jupyter-widgets/controls",
          "model_name": "DescriptionStyleModel",
          "model_module_version": "1.5.0",
          "state": {
            "_model_module": "@jupyter-widgets/controls",
            "_model_module_version": "1.5.0",
            "_model_name": "DescriptionStyleModel",
            "_view_count": null,
            "_view_module": "@jupyter-widgets/base",
            "_view_module_version": "1.2.0",
            "_view_name": "StyleView",
            "description_width": ""
          }
        },
        "326815ed36fe48b1aa070d2ba1b02b13": {
          "model_module": "@jupyter-widgets/base",
          "model_name": "LayoutModel",
          "model_module_version": "1.2.0",
          "state": {
            "_model_module": "@jupyter-widgets/base",
            "_model_module_version": "1.2.0",
            "_model_name": "LayoutModel",
            "_view_count": null,
            "_view_module": "@jupyter-widgets/base",
            "_view_module_version": "1.2.0",
            "_view_name": "LayoutView",
            "align_content": null,
            "align_items": null,
            "align_self": null,
            "border": null,
            "bottom": null,
            "display": null,
            "flex": null,
            "flex_flow": null,
            "grid_area": null,
            "grid_auto_columns": null,
            "grid_auto_flow": null,
            "grid_auto_rows": null,
            "grid_column": null,
            "grid_gap": null,
            "grid_row": null,
            "grid_template_areas": null,
            "grid_template_columns": null,
            "grid_template_rows": null,
            "height": null,
            "justify_content": null,
            "justify_items": null,
            "left": null,
            "margin": null,
            "max_height": null,
            "max_width": null,
            "min_height": null,
            "min_width": null,
            "object_fit": null,
            "object_position": null,
            "order": null,
            "overflow": null,
            "overflow_x": null,
            "overflow_y": null,
            "padding": null,
            "right": null,
            "top": null,
            "visibility": null,
            "width": null
          }
        },
        "817ebde2268f420982a607fd1405d10b": {
          "model_module": "@jupyter-widgets/controls",
          "model_name": "ProgressStyleModel",
          "model_module_version": "1.5.0",
          "state": {
            "_model_module": "@jupyter-widgets/controls",
            "_model_module_version": "1.5.0",
            "_model_name": "ProgressStyleModel",
            "_view_count": null,
            "_view_module": "@jupyter-widgets/base",
            "_view_module_version": "1.2.0",
            "_view_name": "StyleView",
            "bar_color": null,
            "description_width": ""
          }
        },
        "46c09838c6ef4ec6885c18b8a03caeff": {
          "model_module": "@jupyter-widgets/base",
          "model_name": "LayoutModel",
          "model_module_version": "1.2.0",
          "state": {
            "_model_module": "@jupyter-widgets/base",
            "_model_module_version": "1.2.0",
            "_model_name": "LayoutModel",
            "_view_count": null,
            "_view_module": "@jupyter-widgets/base",
            "_view_module_version": "1.2.0",
            "_view_name": "LayoutView",
            "align_content": null,
            "align_items": null,
            "align_self": null,
            "border": null,
            "bottom": null,
            "display": null,
            "flex": null,
            "flex_flow": null,
            "grid_area": null,
            "grid_auto_columns": null,
            "grid_auto_flow": null,
            "grid_auto_rows": null,
            "grid_column": null,
            "grid_gap": null,
            "grid_row": null,
            "grid_template_areas": null,
            "grid_template_columns": null,
            "grid_template_rows": null,
            "height": null,
            "justify_content": null,
            "justify_items": null,
            "left": null,
            "margin": null,
            "max_height": null,
            "max_width": null,
            "min_height": null,
            "min_width": null,
            "object_fit": null,
            "object_position": null,
            "order": null,
            "overflow": null,
            "overflow_x": null,
            "overflow_y": null,
            "padding": null,
            "right": null,
            "top": null,
            "visibility": null,
            "width": null
          }
        },
        "62e79912f7b14ff0be343412c5f76243": {
          "model_module": "@jupyter-widgets/controls",
          "model_name": "DescriptionStyleModel",
          "model_module_version": "1.5.0",
          "state": {
            "_model_module": "@jupyter-widgets/controls",
            "_model_module_version": "1.5.0",
            "_model_name": "DescriptionStyleModel",
            "_view_count": null,
            "_view_module": "@jupyter-widgets/base",
            "_view_module_version": "1.2.0",
            "_view_name": "StyleView",
            "description_width": ""
          }
        },
        "570ec4b7323245a4b6b3e7c61a3d42ec": {
          "model_module": "@jupyter-widgets/controls",
          "model_name": "HBoxModel",
          "model_module_version": "1.5.0",
          "state": {
            "_dom_classes": [],
            "_model_module": "@jupyter-widgets/controls",
            "_model_module_version": "1.5.0",
            "_model_name": "HBoxModel",
            "_view_count": null,
            "_view_module": "@jupyter-widgets/controls",
            "_view_module_version": "1.5.0",
            "_view_name": "HBoxView",
            "box_style": "",
            "children": [
              "IPY_MODEL_87d8f5cf973949ae9d314607080bb74a",
              "IPY_MODEL_4bc35c5c425149cd8b4b164247a91ff6",
              "IPY_MODEL_80728c03d7b948d498c44f7e1235033e"
            ],
            "layout": "IPY_MODEL_34b1875744494494926310758e42e825"
          }
        },
        "87d8f5cf973949ae9d314607080bb74a": {
          "model_module": "@jupyter-widgets/controls",
          "model_name": "HTMLModel",
          "model_module_version": "1.5.0",
          "state": {
            "_dom_classes": [],
            "_model_module": "@jupyter-widgets/controls",
            "_model_module_version": "1.5.0",
            "_model_name": "HTMLModel",
            "_view_count": null,
            "_view_module": "@jupyter-widgets/controls",
            "_view_module_version": "1.5.0",
            "_view_name": "HTMLView",
            "description": "",
            "description_tooltip": null,
            "layout": "IPY_MODEL_f2c8be7a2a934dc6be07a1ed0ec95699",
            "placeholder": "​",
            "style": "IPY_MODEL_b9d2d221694140d7accb311b2fcab487",
            "value": "Downloading: 100%"
          }
        },
        "4bc35c5c425149cd8b4b164247a91ff6": {
          "model_module": "@jupyter-widgets/controls",
          "model_name": "FloatProgressModel",
          "model_module_version": "1.5.0",
          "state": {
            "_dom_classes": [],
            "_model_module": "@jupyter-widgets/controls",
            "_model_module_version": "1.5.0",
            "_model_name": "FloatProgressModel",
            "_view_count": null,
            "_view_module": "@jupyter-widgets/controls",
            "_view_module_version": "1.5.0",
            "_view_name": "ProgressView",
            "bar_style": "success",
            "description": "",
            "description_tooltip": null,
            "layout": "IPY_MODEL_9a33daca10ff448e9b9353732a70a108",
            "max": 2630980,
            "min": 0,
            "orientation": "horizontal",
            "style": "IPY_MODEL_7896f37de59947d19de20dfd4c43e560",
            "value": 2630980
          }
        },
        "80728c03d7b948d498c44f7e1235033e": {
          "model_module": "@jupyter-widgets/controls",
          "model_name": "HTMLModel",
          "model_module_version": "1.5.0",
          "state": {
            "_dom_classes": [],
            "_model_module": "@jupyter-widgets/controls",
            "_model_module_version": "1.5.0",
            "_model_name": "HTMLModel",
            "_view_count": null,
            "_view_module": "@jupyter-widgets/controls",
            "_view_module_version": "1.5.0",
            "_view_name": "HTMLView",
            "description": "",
            "description_tooltip": null,
            "layout": "IPY_MODEL_a520df1fd66c4f0fa71246cedb012fc8",
            "placeholder": "​",
            "style": "IPY_MODEL_33ecf947077844e0a514aeda7a5dd550",
            "value": " 2.51M/2.51M [00:00&lt;00:00, 10.4MB/s]"
          }
        },
        "34b1875744494494926310758e42e825": {
          "model_module": "@jupyter-widgets/base",
          "model_name": "LayoutModel",
          "model_module_version": "1.2.0",
          "state": {
            "_model_module": "@jupyter-widgets/base",
            "_model_module_version": "1.2.0",
            "_model_name": "LayoutModel",
            "_view_count": null,
            "_view_module": "@jupyter-widgets/base",
            "_view_module_version": "1.2.0",
            "_view_name": "LayoutView",
            "align_content": null,
            "align_items": null,
            "align_self": null,
            "border": null,
            "bottom": null,
            "display": null,
            "flex": null,
            "flex_flow": null,
            "grid_area": null,
            "grid_auto_columns": null,
            "grid_auto_flow": null,
            "grid_auto_rows": null,
            "grid_column": null,
            "grid_gap": null,
            "grid_row": null,
            "grid_template_areas": null,
            "grid_template_columns": null,
            "grid_template_rows": null,
            "height": null,
            "justify_content": null,
            "justify_items": null,
            "left": null,
            "margin": null,
            "max_height": null,
            "max_width": null,
            "min_height": null,
            "min_width": null,
            "object_fit": null,
            "object_position": null,
            "order": null,
            "overflow": null,
            "overflow_x": null,
            "overflow_y": null,
            "padding": null,
            "right": null,
            "top": null,
            "visibility": null,
            "width": null
          }
        },
        "f2c8be7a2a934dc6be07a1ed0ec95699": {
          "model_module": "@jupyter-widgets/base",
          "model_name": "LayoutModel",
          "model_module_version": "1.2.0",
          "state": {
            "_model_module": "@jupyter-widgets/base",
            "_model_module_version": "1.2.0",
            "_model_name": "LayoutModel",
            "_view_count": null,
            "_view_module": "@jupyter-widgets/base",
            "_view_module_version": "1.2.0",
            "_view_name": "LayoutView",
            "align_content": null,
            "align_items": null,
            "align_self": null,
            "border": null,
            "bottom": null,
            "display": null,
            "flex": null,
            "flex_flow": null,
            "grid_area": null,
            "grid_auto_columns": null,
            "grid_auto_flow": null,
            "grid_auto_rows": null,
            "grid_column": null,
            "grid_gap": null,
            "grid_row": null,
            "grid_template_areas": null,
            "grid_template_columns": null,
            "grid_template_rows": null,
            "height": null,
            "justify_content": null,
            "justify_items": null,
            "left": null,
            "margin": null,
            "max_height": null,
            "max_width": null,
            "min_height": null,
            "min_width": null,
            "object_fit": null,
            "object_position": null,
            "order": null,
            "overflow": null,
            "overflow_x": null,
            "overflow_y": null,
            "padding": null,
            "right": null,
            "top": null,
            "visibility": null,
            "width": null
          }
        },
        "b9d2d221694140d7accb311b2fcab487": {
          "model_module": "@jupyter-widgets/controls",
          "model_name": "DescriptionStyleModel",
          "model_module_version": "1.5.0",
          "state": {
            "_model_module": "@jupyter-widgets/controls",
            "_model_module_version": "1.5.0",
            "_model_name": "DescriptionStyleModel",
            "_view_count": null,
            "_view_module": "@jupyter-widgets/base",
            "_view_module_version": "1.2.0",
            "_view_name": "StyleView",
            "description_width": ""
          }
        },
        "9a33daca10ff448e9b9353732a70a108": {
          "model_module": "@jupyter-widgets/base",
          "model_name": "LayoutModel",
          "model_module_version": "1.2.0",
          "state": {
            "_model_module": "@jupyter-widgets/base",
            "_model_module_version": "1.2.0",
            "_model_name": "LayoutModel",
            "_view_count": null,
            "_view_module": "@jupyter-widgets/base",
            "_view_module_version": "1.2.0",
            "_view_name": "LayoutView",
            "align_content": null,
            "align_items": null,
            "align_self": null,
            "border": null,
            "bottom": null,
            "display": null,
            "flex": null,
            "flex_flow": null,
            "grid_area": null,
            "grid_auto_columns": null,
            "grid_auto_flow": null,
            "grid_auto_rows": null,
            "grid_column": null,
            "grid_gap": null,
            "grid_row": null,
            "grid_template_areas": null,
            "grid_template_columns": null,
            "grid_template_rows": null,
            "height": null,
            "justify_content": null,
            "justify_items": null,
            "left": null,
            "margin": null,
            "max_height": null,
            "max_width": null,
            "min_height": null,
            "min_width": null,
            "object_fit": null,
            "object_position": null,
            "order": null,
            "overflow": null,
            "overflow_x": null,
            "overflow_y": null,
            "padding": null,
            "right": null,
            "top": null,
            "visibility": null,
            "width": null
          }
        },
        "7896f37de59947d19de20dfd4c43e560": {
          "model_module": "@jupyter-widgets/controls",
          "model_name": "ProgressStyleModel",
          "model_module_version": "1.5.0",
          "state": {
            "_model_module": "@jupyter-widgets/controls",
            "_model_module_version": "1.5.0",
            "_model_name": "ProgressStyleModel",
            "_view_count": null,
            "_view_module": "@jupyter-widgets/base",
            "_view_module_version": "1.2.0",
            "_view_name": "StyleView",
            "bar_color": null,
            "description_width": ""
          }
        },
        "a520df1fd66c4f0fa71246cedb012fc8": {
          "model_module": "@jupyter-widgets/base",
          "model_name": "LayoutModel",
          "model_module_version": "1.2.0",
          "state": {
            "_model_module": "@jupyter-widgets/base",
            "_model_module_version": "1.2.0",
            "_model_name": "LayoutModel",
            "_view_count": null,
            "_view_module": "@jupyter-widgets/base",
            "_view_module_version": "1.2.0",
            "_view_name": "LayoutView",
            "align_content": null,
            "align_items": null,
            "align_self": null,
            "border": null,
            "bottom": null,
            "display": null,
            "flex": null,
            "flex_flow": null,
            "grid_area": null,
            "grid_auto_columns": null,
            "grid_auto_flow": null,
            "grid_auto_rows": null,
            "grid_column": null,
            "grid_gap": null,
            "grid_row": null,
            "grid_template_areas": null,
            "grid_template_columns": null,
            "grid_template_rows": null,
            "height": null,
            "justify_content": null,
            "justify_items": null,
            "left": null,
            "margin": null,
            "max_height": null,
            "max_width": null,
            "min_height": null,
            "min_width": null,
            "object_fit": null,
            "object_position": null,
            "order": null,
            "overflow": null,
            "overflow_x": null,
            "overflow_y": null,
            "padding": null,
            "right": null,
            "top": null,
            "visibility": null,
            "width": null
          }
        },
        "33ecf947077844e0a514aeda7a5dd550": {
          "model_module": "@jupyter-widgets/controls",
          "model_name": "DescriptionStyleModel",
          "model_module_version": "1.5.0",
          "state": {
            "_model_module": "@jupyter-widgets/controls",
            "_model_module_version": "1.5.0",
            "_model_name": "DescriptionStyleModel",
            "_view_count": null,
            "_view_module": "@jupyter-widgets/base",
            "_view_module_version": "1.2.0",
            "_view_name": "StyleView",
            "description_width": ""
          }
        },
        "68b38e1df63f43c1889b12698617dee3": {
          "model_module": "@jupyter-widgets/controls",
          "model_name": "HBoxModel",
          "model_module_version": "1.5.0",
          "state": {
            "_dom_classes": [],
            "_model_module": "@jupyter-widgets/controls",
            "_model_module_version": "1.5.0",
            "_model_name": "HBoxModel",
            "_view_count": null,
            "_view_module": "@jupyter-widgets/controls",
            "_view_module_version": "1.5.0",
            "_view_name": "HBoxView",
            "box_style": "",
            "children": [
              "IPY_MODEL_bef20a0fdcfb4aff98c6402bd1f1cad8",
              "IPY_MODEL_c0395fa1b7db40f889196dd31b4c5f58",
              "IPY_MODEL_e9514979aae945778660421ca04abee0"
            ],
            "layout": "IPY_MODEL_e0b95bffa37d4c028f7dd8961f68dcde"
          }
        },
        "bef20a0fdcfb4aff98c6402bd1f1cad8": {
          "model_module": "@jupyter-widgets/controls",
          "model_name": "HTMLModel",
          "model_module_version": "1.5.0",
          "state": {
            "_dom_classes": [],
            "_model_module": "@jupyter-widgets/controls",
            "_model_module_version": "1.5.0",
            "_model_name": "HTMLModel",
            "_view_count": null,
            "_view_module": "@jupyter-widgets/controls",
            "_view_module_version": "1.5.0",
            "_view_name": "HTMLView",
            "description": "",
            "description_tooltip": null,
            "layout": "IPY_MODEL_a75d97edeb0141aeab6a316592201090",
            "placeholder": "​",
            "style": "IPY_MODEL_2d13314a0951478bbd9de343f0990290",
            "value": "Downloading: 100%"
          }
        },
        "c0395fa1b7db40f889196dd31b4c5f58": {
          "model_module": "@jupyter-widgets/controls",
          "model_name": "FloatProgressModel",
          "model_module_version": "1.5.0",
          "state": {
            "_dom_classes": [],
            "_model_module": "@jupyter-widgets/controls",
            "_model_module_version": "1.5.0",
            "_model_name": "FloatProgressModel",
            "_view_count": null,
            "_view_module": "@jupyter-widgets/controls",
            "_view_module_version": "1.5.0",
            "_view_name": "ProgressView",
            "bar_style": "success",
            "description": "",
            "description_tooltip": null,
            "layout": "IPY_MODEL_1e2a75dc086648559c8a007b3fc2d1d5",
            "max": 556983662,
            "min": 0,
            "orientation": "horizontal",
            "style": "IPY_MODEL_0abe70bcb216440d96f7e1baf79c6fd9",
            "value": 556983662
          }
        },
        "e9514979aae945778660421ca04abee0": {
          "model_module": "@jupyter-widgets/controls",
          "model_name": "HTMLModel",
          "model_module_version": "1.5.0",
          "state": {
            "_dom_classes": [],
            "_model_module": "@jupyter-widgets/controls",
            "_model_module_version": "1.5.0",
            "_model_name": "HTMLModel",
            "_view_count": null,
            "_view_module": "@jupyter-widgets/controls",
            "_view_module_version": "1.5.0",
            "_view_name": "HTMLView",
            "description": "",
            "description_tooltip": null,
            "layout": "IPY_MODEL_86fb0656855347d5bf28257bd1c59ccc",
            "placeholder": "​",
            "style": "IPY_MODEL_bfa50795b1b94e759a5d6e068dd14760",
            "value": " 531M/531M [00:18&lt;00:00, 32.8MB/s]"
          }
        },
        "e0b95bffa37d4c028f7dd8961f68dcde": {
          "model_module": "@jupyter-widgets/base",
          "model_name": "LayoutModel",
          "model_module_version": "1.2.0",
          "state": {
            "_model_module": "@jupyter-widgets/base",
            "_model_module_version": "1.2.0",
            "_model_name": "LayoutModel",
            "_view_count": null,
            "_view_module": "@jupyter-widgets/base",
            "_view_module_version": "1.2.0",
            "_view_name": "LayoutView",
            "align_content": null,
            "align_items": null,
            "align_self": null,
            "border": null,
            "bottom": null,
            "display": null,
            "flex": null,
            "flex_flow": null,
            "grid_area": null,
            "grid_auto_columns": null,
            "grid_auto_flow": null,
            "grid_auto_rows": null,
            "grid_column": null,
            "grid_gap": null,
            "grid_row": null,
            "grid_template_areas": null,
            "grid_template_columns": null,
            "grid_template_rows": null,
            "height": null,
            "justify_content": null,
            "justify_items": null,
            "left": null,
            "margin": null,
            "max_height": null,
            "max_width": null,
            "min_height": null,
            "min_width": null,
            "object_fit": null,
            "object_position": null,
            "order": null,
            "overflow": null,
            "overflow_x": null,
            "overflow_y": null,
            "padding": null,
            "right": null,
            "top": null,
            "visibility": null,
            "width": null
          }
        },
        "a75d97edeb0141aeab6a316592201090": {
          "model_module": "@jupyter-widgets/base",
          "model_name": "LayoutModel",
          "model_module_version": "1.2.0",
          "state": {
            "_model_module": "@jupyter-widgets/base",
            "_model_module_version": "1.2.0",
            "_model_name": "LayoutModel",
            "_view_count": null,
            "_view_module": "@jupyter-widgets/base",
            "_view_module_version": "1.2.0",
            "_view_name": "LayoutView",
            "align_content": null,
            "align_items": null,
            "align_self": null,
            "border": null,
            "bottom": null,
            "display": null,
            "flex": null,
            "flex_flow": null,
            "grid_area": null,
            "grid_auto_columns": null,
            "grid_auto_flow": null,
            "grid_auto_rows": null,
            "grid_column": null,
            "grid_gap": null,
            "grid_row": null,
            "grid_template_areas": null,
            "grid_template_columns": null,
            "grid_template_rows": null,
            "height": null,
            "justify_content": null,
            "justify_items": null,
            "left": null,
            "margin": null,
            "max_height": null,
            "max_width": null,
            "min_height": null,
            "min_width": null,
            "object_fit": null,
            "object_position": null,
            "order": null,
            "overflow": null,
            "overflow_x": null,
            "overflow_y": null,
            "padding": null,
            "right": null,
            "top": null,
            "visibility": null,
            "width": null
          }
        },
        "2d13314a0951478bbd9de343f0990290": {
          "model_module": "@jupyter-widgets/controls",
          "model_name": "DescriptionStyleModel",
          "model_module_version": "1.5.0",
          "state": {
            "_model_module": "@jupyter-widgets/controls",
            "_model_module_version": "1.5.0",
            "_model_name": "DescriptionStyleModel",
            "_view_count": null,
            "_view_module": "@jupyter-widgets/base",
            "_view_module_version": "1.2.0",
            "_view_name": "StyleView",
            "description_width": ""
          }
        },
        "1e2a75dc086648559c8a007b3fc2d1d5": {
          "model_module": "@jupyter-widgets/base",
          "model_name": "LayoutModel",
          "model_module_version": "1.2.0",
          "state": {
            "_model_module": "@jupyter-widgets/base",
            "_model_module_version": "1.2.0",
            "_model_name": "LayoutModel",
            "_view_count": null,
            "_view_module": "@jupyter-widgets/base",
            "_view_module_version": "1.2.0",
            "_view_name": "LayoutView",
            "align_content": null,
            "align_items": null,
            "align_self": null,
            "border": null,
            "bottom": null,
            "display": null,
            "flex": null,
            "flex_flow": null,
            "grid_area": null,
            "grid_auto_columns": null,
            "grid_auto_flow": null,
            "grid_auto_rows": null,
            "grid_column": null,
            "grid_gap": null,
            "grid_row": null,
            "grid_template_areas": null,
            "grid_template_columns": null,
            "grid_template_rows": null,
            "height": null,
            "justify_content": null,
            "justify_items": null,
            "left": null,
            "margin": null,
            "max_height": null,
            "max_width": null,
            "min_height": null,
            "min_width": null,
            "object_fit": null,
            "object_position": null,
            "order": null,
            "overflow": null,
            "overflow_x": null,
            "overflow_y": null,
            "padding": null,
            "right": null,
            "top": null,
            "visibility": null,
            "width": null
          }
        },
        "0abe70bcb216440d96f7e1baf79c6fd9": {
          "model_module": "@jupyter-widgets/controls",
          "model_name": "ProgressStyleModel",
          "model_module_version": "1.5.0",
          "state": {
            "_model_module": "@jupyter-widgets/controls",
            "_model_module_version": "1.5.0",
            "_model_name": "ProgressStyleModel",
            "_view_count": null,
            "_view_module": "@jupyter-widgets/base",
            "_view_module_version": "1.2.0",
            "_view_name": "StyleView",
            "bar_color": null,
            "description_width": ""
          }
        },
        "86fb0656855347d5bf28257bd1c59ccc": {
          "model_module": "@jupyter-widgets/base",
          "model_name": "LayoutModel",
          "model_module_version": "1.2.0",
          "state": {
            "_model_module": "@jupyter-widgets/base",
            "_model_module_version": "1.2.0",
            "_model_name": "LayoutModel",
            "_view_count": null,
            "_view_module": "@jupyter-widgets/base",
            "_view_module_version": "1.2.0",
            "_view_name": "LayoutView",
            "align_content": null,
            "align_items": null,
            "align_self": null,
            "border": null,
            "bottom": null,
            "display": null,
            "flex": null,
            "flex_flow": null,
            "grid_area": null,
            "grid_auto_columns": null,
            "grid_auto_flow": null,
            "grid_auto_rows": null,
            "grid_column": null,
            "grid_gap": null,
            "grid_row": null,
            "grid_template_areas": null,
            "grid_template_columns": null,
            "grid_template_rows": null,
            "height": null,
            "justify_content": null,
            "justify_items": null,
            "left": null,
            "margin": null,
            "max_height": null,
            "max_width": null,
            "min_height": null,
            "min_width": null,
            "object_fit": null,
            "object_position": null,
            "order": null,
            "overflow": null,
            "overflow_x": null,
            "overflow_y": null,
            "padding": null,
            "right": null,
            "top": null,
            "visibility": null,
            "width": null
          }
        },
        "bfa50795b1b94e759a5d6e068dd14760": {
          "model_module": "@jupyter-widgets/controls",
          "model_name": "DescriptionStyleModel",
          "model_module_version": "1.5.0",
          "state": {
            "_model_module": "@jupyter-widgets/controls",
            "_model_module_version": "1.5.0",
            "_model_name": "DescriptionStyleModel",
            "_view_count": null,
            "_view_module": "@jupyter-widgets/base",
            "_view_module_version": "1.2.0",
            "_view_name": "StyleView",
            "description_width": ""
          }
        }
      }
    },
    "accelerator": "GPU"
  },
  "cells": [
    {
      "cell_type": "markdown",
      "source": [
        "# NLP Project - Text Summarization applied to French news articles\n",
        "\n",
        "<blockquote>\n",
        "\n",
        "Instructions : https://docs.google.com/document/d/1ijqISks5L_ioZwJi-VIRx5JLxk01Ao8wLYkN7L-R4RE/edit#\n",
        "\n",
        "Lien Latex Report : https://fr.overleaf.com/7163467196bvrhtzpxryyg \n",
        "\n",
        "</blockquote>"
      ],
      "metadata": {
        "id": "-Qb1qquwYRNl"
      }
    },
    {
      "cell_type": "markdown",
      "source": [
        "## Proposal - TO SUPPRESS  \n",
        "\n",
        "<blockquote>\n",
        "\n",
        "Instructions :  \n",
        "\n",
        "Provide details on your project . It should be a paragraph describing your project, what datasets you will be using, what modelling techniques and what evaluation you will be doing\n",
        "</blockquote>"
      ],
      "metadata": {
        "id": "cqv8KC3zYqRj"
      }
    },
    {
      "cell_type": "markdown",
      "source": [
        "* **Possible Datasets in French :** \n",
        " \n",
        "    * [OrangeSum](https://github.com/Tixierae/OrangeSum) or ([link HunggingFace](https://huggingface.co/datasets/GEM/OrangeSum) ): dataset that was proposed for text summarization but in **French** (which is less studied in litterature than English) : articles with summaries, already grouped in categories (political, environment, ...) so we will be able to easily compare the perf of our model on different \"subjects\"\n",
        "\n",
        "    \\+ this dataset was proposed together with \"[BARThez](https://huggingface.co/moussaKam/mbarthez?text=Paris+est+la+%3Cmask%3E+de+la+France.)\", a seq2seq model proposed specifically for French and which is said to be more efficient than BERT-based models for French, above all for generative tasks ([associated article](https://arxiv.org/pdf/2010.12321.pdf))\n",
        "\n",
        "  * [CASS](https://github.com/euranova/CASS-dataset) (summaries of \"procès en cours de cassation\", maybe less interesting and diverse than news articles)\n",
        "\n",
        "  * [MLSum](https://huggingface.co/datasets/mlsum) & [XL-Sum](https://huggingface.co/datasets/csebuetnlp/xlsum) : datasets proposed by HuggingFace and composed of articles with abstracts on different languages, I guess we can concentrate on French subcorpus. It was originally proposed for multilingual text summarization ([see article for XLSum](https://arxiv.org/pdf/2106.13822v1.pdf) or [article for MLSum](https://arxiv.org/pdf/2004.14900v1.pdf))\n",
        "\n",
        "  * [WikiLingual](https://paperswithcode.com/dataset/wikilingua) : article and summary pairs of Wikipedia articles in different languages\n",
        "\n"
      ],
      "metadata": {
        "id": "tJx2dp89Y9wn"
      }
    },
    {
      "cell_type": "markdown",
      "source": [
        "* **Possible Language models for French :**\n",
        "\n",
        "  - [CamemBERT](https://camembert-model.fr/)\n",
        "  - [FlauBERT](https://github.com/getalp/Flaubert)\n",
        "  - [Deepfrench](https://github.com/tchambon/deepfrench) : pre-trained on Wikipedia corpuses, principally proposed for classification tasks\n",
        "  - BARThez "
      ],
      "metadata": {
        "id": "T-we06PDMNMK"
      }
    },
    {
      "cell_type": "markdown",
      "source": [
        "* **Description of the task and approach(es)** :\n",
        "\n",
        "The idea of text summarization is to produce a summary of a text (or corpus of text if we want to extend it). There is two main possible approches :\n",
        "\n",
        "**1. Extractive Approach :**\n",
        "\n",
        "The first (maybe simplest) approach is to form a summary by selecting some sentences of the text (without modifying it at all). To do so, we need to find a way to \"score\" the sentences of the document to extract only the most revelant ones. \n",
        "\n",
        "An example of algorithm that we can try to implement is the TextRank algorithm, which is unsupervised and with few DL. The idea is to compute a similarity matrix between the sentences of our document, which can be done by computing similarities between embeddings of the sentences (with Seq2Vec for instance).\n",
        "\n",
        "[Example of tuto really well detailed for Extractive Approach](https://www.analyticsvidhya.com/blog/2018/11/introduction-text-summarization-textrank-python//)\n",
        "\n",
        "\n",
        "**2. Abstractive Approach :**\n",
        "\n",
        "A more advanced approach is to generate the summary, that is to say to produce a summary with sentences that we have generated and do not exist in the document to summarize. \n",
        "\n",
        "For this task, we may use DL, with models such as Transformers with Attention Mechanism (or Encoder-Decoder to start but it's more limited and should lead to worse perf than Transformers).\n",
        "\n",
        "[Example of tuto really well detailed for Abstractive Approach](https://www.analyticsvidhya.com/blog/2019/06/comprehensive-guide-text-summarization-using-deep-learning-python/)\n",
        "\n"
      ],
      "metadata": {
        "id": "7mUBzP7Ua3fH"
      }
    },
    {
      "cell_type": "markdown",
      "source": [
        "**⇒ Proposal :**\n",
        "\n",
        "Our project will focus on the text summarization task applied to the summarization of French written documents. (We will not cover multi-lingual models and summarization of corpus of documents, which are possible extensions of this task).\n",
        "\n",
        "Formally, our goal will be to implement and compare different approaches to produce a summary from a given text. As a \"baseline\", we will implement the more \"naive\" method to adress this task, which is called \"Extractive Approach\" and is unsupervised : the idea is to choose some embeddings for the sentences of a text, and compute a similarity matrix to form a summary by extracting the most revelant sentences of our text. Then, we will study the more advanced \"Abstractive approach\", where the idea is to leverage deep learning models (Encoder-Decoder or Attention Mechanism of Transformers), to build supervised generative models that will generate new sentences to create a summary.\n",
        "\n",
        "Concerning the datasets, we would like to train our models on news articles with their summaries in French, which can be found in datasets such as MLSum, XLSum or OrangeSum. As we are studying French written texts, we will use and compare some language models specific to French, such as FlauBERT, CamemBERT, DeepFrench or BARTHez. Moreover, to evaluate the performance of our generated summaries, we will use the ROUGE metric, which was specifically designed for this task and used in the litterature. We may also do some experiments by challenging our models on different type of texts, such as the ones available in WikiLingual or CASS."
      ],
      "metadata": {
        "id": "pYt5YcxJ5c7B"
      }
    },
    {
      "cell_type": "markdown",
      "source": [
        "## Imports"
      ],
      "metadata": {
        "id": "s3hKJ3w-MUgc"
      }
    },
    {
      "cell_type": "code",
      "source": [
        "!pip install datasets transformers"
      ],
      "metadata": {
        "colab": {
          "base_uri": "https://localhost:8080/"
        },
        "id": "-2ijvjeKLSL9",
        "outputId": "870551ef-3574-4931-d08d-1f68464ce753"
      },
      "execution_count": 2,
      "outputs": [
        {
          "output_type": "stream",
          "name": "stdout",
          "text": [
            "Collecting datasets\n",
            "  Downloading datasets-2.1.0-py3-none-any.whl (325 kB)\n",
            "\u001b[?25l\r\u001b[K     |█                               | 10 kB 23.4 MB/s eta 0:00:01\r\u001b[K     |██                              | 20 kB 14.9 MB/s eta 0:00:01\r\u001b[K     |███                             | 30 kB 9.5 MB/s eta 0:00:01\r\u001b[K     |████                            | 40 kB 8.0 MB/s eta 0:00:01\r\u001b[K     |█████                           | 51 kB 4.4 MB/s eta 0:00:01\r\u001b[K     |██████                          | 61 kB 5.2 MB/s eta 0:00:01\r\u001b[K     |███████                         | 71 kB 5.3 MB/s eta 0:00:01\r\u001b[K     |████████                        | 81 kB 5.3 MB/s eta 0:00:01\r\u001b[K     |█████████                       | 92 kB 5.9 MB/s eta 0:00:01\r\u001b[K     |██████████                      | 102 kB 5.1 MB/s eta 0:00:01\r\u001b[K     |███████████                     | 112 kB 5.1 MB/s eta 0:00:01\r\u001b[K     |████████████                    | 122 kB 5.1 MB/s eta 0:00:01\r\u001b[K     |█████████████                   | 133 kB 5.1 MB/s eta 0:00:01\r\u001b[K     |██████████████                  | 143 kB 5.1 MB/s eta 0:00:01\r\u001b[K     |███████████████                 | 153 kB 5.1 MB/s eta 0:00:01\r\u001b[K     |████████████████▏               | 163 kB 5.1 MB/s eta 0:00:01\r\u001b[K     |█████████████████▏              | 174 kB 5.1 MB/s eta 0:00:01\r\u001b[K     |██████████████████▏             | 184 kB 5.1 MB/s eta 0:00:01\r\u001b[K     |███████████████████▏            | 194 kB 5.1 MB/s eta 0:00:01\r\u001b[K     |████████████████████▏           | 204 kB 5.1 MB/s eta 0:00:01\r\u001b[K     |█████████████████████▏          | 215 kB 5.1 MB/s eta 0:00:01\r\u001b[K     |██████████████████████▏         | 225 kB 5.1 MB/s eta 0:00:01\r\u001b[K     |███████████████████████▏        | 235 kB 5.1 MB/s eta 0:00:01\r\u001b[K     |████████████████████████▏       | 245 kB 5.1 MB/s eta 0:00:01\r\u001b[K     |█████████████████████████▏      | 256 kB 5.1 MB/s eta 0:00:01\r\u001b[K     |██████████████████████████▏     | 266 kB 5.1 MB/s eta 0:00:01\r\u001b[K     |███████████████████████████▏    | 276 kB 5.1 MB/s eta 0:00:01\r\u001b[K     |████████████████████████████▏   | 286 kB 5.1 MB/s eta 0:00:01\r\u001b[K     |█████████████████████████████▏  | 296 kB 5.1 MB/s eta 0:00:01\r\u001b[K     |██████████████████████████████▏ | 307 kB 5.1 MB/s eta 0:00:01\r\u001b[K     |███████████████████████████████▏| 317 kB 5.1 MB/s eta 0:00:01\r\u001b[K     |████████████████████████████████| 325 kB 5.1 MB/s \n",
            "\u001b[?25hCollecting transformers\n",
            "  Downloading transformers-4.18.0-py3-none-any.whl (4.0 MB)\n",
            "\u001b[K     |████████████████████████████████| 4.0 MB 67.7 MB/s \n",
            "\u001b[?25hRequirement already satisfied: requests>=2.19.0 in /usr/local/lib/python3.7/dist-packages (from datasets) (2.23.0)\n",
            "Collecting aiohttp\n",
            "  Downloading aiohttp-3.8.1-cp37-cp37m-manylinux_2_5_x86_64.manylinux1_x86_64.manylinux_2_12_x86_64.manylinux2010_x86_64.whl (1.1 MB)\n",
            "\u001b[K     |████████████████████████████████| 1.1 MB 50.8 MB/s \n",
            "\u001b[?25hCollecting xxhash\n",
            "  Downloading xxhash-3.0.0-cp37-cp37m-manylinux_2_17_x86_64.manylinux2014_x86_64.whl (212 kB)\n",
            "\u001b[K     |████████████████████████████████| 212 kB 56.7 MB/s \n",
            "\u001b[?25hRequirement already satisfied: pyarrow>=5.0.0 in /usr/local/lib/python3.7/dist-packages (from datasets) (6.0.1)\n",
            "Requirement already satisfied: multiprocess in /usr/local/lib/python3.7/dist-packages (from datasets) (0.70.12.2)\n",
            "Collecting responses<0.19\n",
            "  Downloading responses-0.18.0-py3-none-any.whl (38 kB)\n",
            "Requirement already satisfied: importlib-metadata in /usr/local/lib/python3.7/dist-packages (from datasets) (4.11.3)\n",
            "Collecting fsspec[http]>=2021.05.0\n",
            "  Downloading fsspec-2022.3.0-py3-none-any.whl (136 kB)\n",
            "\u001b[K     |████████████████████████████████| 136 kB 77.1 MB/s \n",
            "\u001b[?25hCollecting huggingface-hub<1.0.0,>=0.1.0\n",
            "  Downloading huggingface_hub-0.5.1-py3-none-any.whl (77 kB)\n",
            "\u001b[K     |████████████████████████████████| 77 kB 8.4 MB/s \n",
            "\u001b[?25hRequirement already satisfied: pandas in /usr/local/lib/python3.7/dist-packages (from datasets) (1.3.5)\n",
            "Requirement already satisfied: numpy>=1.17 in /usr/local/lib/python3.7/dist-packages (from datasets) (1.21.6)\n",
            "Requirement already satisfied: tqdm>=4.62.1 in /usr/local/lib/python3.7/dist-packages (from datasets) (4.64.0)\n",
            "Requirement already satisfied: dill in /usr/local/lib/python3.7/dist-packages (from datasets) (0.3.4)\n",
            "Requirement already satisfied: packaging in /usr/local/lib/python3.7/dist-packages (from datasets) (21.3)\n",
            "Requirement already satisfied: pyyaml in /usr/local/lib/python3.7/dist-packages (from huggingface-hub<1.0.0,>=0.1.0->datasets) (3.13)\n",
            "Requirement already satisfied: filelock in /usr/local/lib/python3.7/dist-packages (from huggingface-hub<1.0.0,>=0.1.0->datasets) (3.6.0)\n",
            "Requirement already satisfied: typing-extensions>=3.7.4.3 in /usr/local/lib/python3.7/dist-packages (from huggingface-hub<1.0.0,>=0.1.0->datasets) (4.1.1)\n",
            "Requirement already satisfied: pyparsing!=3.0.5,>=2.0.2 in /usr/local/lib/python3.7/dist-packages (from packaging->datasets) (3.0.8)\n",
            "Requirement already satisfied: urllib3!=1.25.0,!=1.25.1,<1.26,>=1.21.1 in /usr/local/lib/python3.7/dist-packages (from requests>=2.19.0->datasets) (1.24.3)\n",
            "Requirement already satisfied: chardet<4,>=3.0.2 in /usr/local/lib/python3.7/dist-packages (from requests>=2.19.0->datasets) (3.0.4)\n",
            "Requirement already satisfied: idna<3,>=2.5 in /usr/local/lib/python3.7/dist-packages (from requests>=2.19.0->datasets) (2.10)\n",
            "Requirement already satisfied: certifi>=2017.4.17 in /usr/local/lib/python3.7/dist-packages (from requests>=2.19.0->datasets) (2021.10.8)\n",
            "Collecting urllib3!=1.25.0,!=1.25.1,<1.26,>=1.21.1\n",
            "  Downloading urllib3-1.25.11-py2.py3-none-any.whl (127 kB)\n",
            "\u001b[K     |████████████████████████████████| 127 kB 76.5 MB/s \n",
            "\u001b[?25hRequirement already satisfied: regex!=2019.12.17 in /usr/local/lib/python3.7/dist-packages (from transformers) (2019.12.20)\n",
            "Collecting pyyaml\n",
            "  Downloading PyYAML-6.0-cp37-cp37m-manylinux_2_5_x86_64.manylinux1_x86_64.manylinux_2_12_x86_64.manylinux2010_x86_64.whl (596 kB)\n",
            "\u001b[K     |████████████████████████████████| 596 kB 64.6 MB/s \n",
            "\u001b[?25hCollecting tokenizers!=0.11.3,<0.13,>=0.11.1\n",
            "  Downloading tokenizers-0.12.1-cp37-cp37m-manylinux_2_12_x86_64.manylinux2010_x86_64.whl (6.6 MB)\n",
            "\u001b[K     |████████████████████████████████| 6.6 MB 57.7 MB/s \n",
            "\u001b[?25hCollecting sacremoses\n",
            "  Downloading sacremoses-0.0.49-py3-none-any.whl (895 kB)\n",
            "\u001b[K     |████████████████████████████████| 895 kB 75.8 MB/s \n",
            "\u001b[?25hRequirement already satisfied: charset-normalizer<3.0,>=2.0 in /usr/local/lib/python3.7/dist-packages (from aiohttp->datasets) (2.0.12)\n",
            "Collecting yarl<2.0,>=1.0\n",
            "  Downloading yarl-1.7.2-cp37-cp37m-manylinux_2_5_x86_64.manylinux1_x86_64.manylinux_2_12_x86_64.manylinux2010_x86_64.whl (271 kB)\n",
            "\u001b[K     |████████████████████████████████| 271 kB 74.6 MB/s \n",
            "\u001b[?25hCollecting multidict<7.0,>=4.5\n",
            "  Downloading multidict-6.0.2-cp37-cp37m-manylinux_2_17_x86_64.manylinux2014_x86_64.whl (94 kB)\n",
            "\u001b[K     |████████████████████████████████| 94 kB 4.5 MB/s \n",
            "\u001b[?25hCollecting aiosignal>=1.1.2\n",
            "  Downloading aiosignal-1.2.0-py3-none-any.whl (8.2 kB)\n",
            "Collecting asynctest==0.13.0\n",
            "  Downloading asynctest-0.13.0-py3-none-any.whl (26 kB)\n",
            "Collecting async-timeout<5.0,>=4.0.0a3\n",
            "  Downloading async_timeout-4.0.2-py3-none-any.whl (5.8 kB)\n",
            "Collecting frozenlist>=1.1.1\n",
            "  Downloading frozenlist-1.3.0-cp37-cp37m-manylinux_2_5_x86_64.manylinux1_x86_64.manylinux_2_17_x86_64.manylinux2014_x86_64.whl (144 kB)\n",
            "\u001b[K     |████████████████████████████████| 144 kB 75.5 MB/s \n",
            "\u001b[?25hRequirement already satisfied: attrs>=17.3.0 in /usr/local/lib/python3.7/dist-packages (from aiohttp->datasets) (21.4.0)\n",
            "Requirement already satisfied: zipp>=0.5 in /usr/local/lib/python3.7/dist-packages (from importlib-metadata->datasets) (3.8.0)\n",
            "Requirement already satisfied: python-dateutil>=2.7.3 in /usr/local/lib/python3.7/dist-packages (from pandas->datasets) (2.8.2)\n",
            "Requirement already satisfied: pytz>=2017.3 in /usr/local/lib/python3.7/dist-packages (from pandas->datasets) (2022.1)\n",
            "Requirement already satisfied: six>=1.5 in /usr/local/lib/python3.7/dist-packages (from python-dateutil>=2.7.3->pandas->datasets) (1.15.0)\n",
            "Requirement already satisfied: click in /usr/local/lib/python3.7/dist-packages (from sacremoses->transformers) (7.1.2)\n",
            "Requirement already satisfied: joblib in /usr/local/lib/python3.7/dist-packages (from sacremoses->transformers) (1.1.0)\n",
            "Installing collected packages: multidict, frozenlist, yarl, urllib3, asynctest, async-timeout, aiosignal, pyyaml, fsspec, aiohttp, xxhash, tokenizers, sacremoses, responses, huggingface-hub, transformers, datasets\n",
            "  Attempting uninstall: urllib3\n",
            "    Found existing installation: urllib3 1.24.3\n",
            "    Uninstalling urllib3-1.24.3:\n",
            "      Successfully uninstalled urllib3-1.24.3\n",
            "  Attempting uninstall: pyyaml\n",
            "    Found existing installation: PyYAML 3.13\n",
            "    Uninstalling PyYAML-3.13:\n",
            "      Successfully uninstalled PyYAML-3.13\n",
            "\u001b[31mERROR: pip's dependency resolver does not currently take into account all the packages that are installed. This behaviour is the source of the following dependency conflicts.\n",
            "datascience 0.10.6 requires folium==0.2.1, but you have folium 0.8.3 which is incompatible.\u001b[0m\n",
            "Successfully installed aiohttp-3.8.1 aiosignal-1.2.0 async-timeout-4.0.2 asynctest-0.13.0 datasets-2.1.0 frozenlist-1.3.0 fsspec-2022.3.0 huggingface-hub-0.5.1 multidict-6.0.2 pyyaml-6.0 responses-0.18.0 sacremoses-0.0.49 tokenizers-0.12.1 transformers-4.18.0 urllib3-1.25.11 xxhash-3.0.0 yarl-1.7.2\n"
          ]
        }
      ]
    },
    {
      "cell_type": "code",
      "source": [
        "!pip install rouge"
      ],
      "metadata": {
        "colab": {
          "base_uri": "https://localhost:8080/"
        },
        "id": "BH2rodlzvAOb",
        "outputId": "30cc19cc-754d-467e-8ee1-7ae19bf1a425"
      },
      "execution_count": null,
      "outputs": [
        {
          "output_type": "stream",
          "name": "stdout",
          "text": [
            "Collecting rouge\n",
            "  Downloading rouge-1.0.1-py3-none-any.whl (13 kB)\n",
            "Requirement already satisfied: six in /usr/local/lib/python3.7/dist-packages (from rouge) (1.15.0)\n",
            "Installing collected packages: rouge\n",
            "Successfully installed rouge-1.0.1\n"
          ]
        }
      ]
    },
    {
      "cell_type": "code",
      "source": [
        "import nltk\n",
        "nltk.download('punkt')\n",
        "nltk.download('stopwords')"
      ],
      "metadata": {
        "colab": {
          "base_uri": "https://localhost:8080/"
        },
        "id": "tZaiAEG6-KSf",
        "outputId": "bae4ca80-a900-43cf-adbc-cf1c09335549"
      },
      "execution_count": null,
      "outputs": [
        {
          "output_type": "stream",
          "name": "stdout",
          "text": [
            "[nltk_data] Downloading package punkt to /root/nltk_data...\n",
            "[nltk_data]   Unzipping tokenizers/punkt.zip.\n",
            "[nltk_data] Downloading package stopwords to /root/nltk_data...\n",
            "[nltk_data]   Unzipping corpora/stopwords.zip.\n"
          ]
        },
        {
          "output_type": "execute_result",
          "data": {
            "text/plain": [
              "True"
            ]
          },
          "metadata": {},
          "execution_count": 3
        }
      ]
    },
    {
      "cell_type": "code",
      "source": [
        "import numpy as np \n",
        "import matplotlib.pyplot as plt\n",
        "import seaborn as sns\n",
        "sns.set_style('darkgrid')\n",
        "\n",
        "import pandas as pd\n",
        "from tqdm.auto import tqdm\n",
        "tqdm.pandas()\n",
        "\n",
        "from termcolor import colored\n",
        "\n",
        "# To load datasets :\n",
        "from datasets import load_dataset\n",
        "\n",
        "# To pre-process and tokenize : \n",
        "import re\n",
        "from nltk.tokenize import sent_tokenize, word_tokenize\n",
        "from nltk.corpus import stopwords\n",
        "\n",
        "# To create dataloaders :\n",
        "from torch.utils.data import Dataset, DataLoader\n",
        "\n",
        "# To create our torch models :\n",
        "import torch\n",
        "import torch.nn as nn\n",
        "import torch.nn.functional as F\n",
        "import torch.optim as optim\n",
        "\n",
        "# To compute ROUGE score :\n",
        "from rouge import Rouge"
      ],
      "metadata": {
        "id": "OkI9H-N_t6_h"
      },
      "execution_count": null,
      "outputs": []
    },
    {
      "cell_type": "markdown",
      "source": [
        "## Load Datasets"
      ],
      "metadata": {
        "id": "WeHdMdFHFaU-"
      }
    },
    {
      "cell_type": "markdown",
      "source": [
        "We have identified 3 datasets containing news article written in French : \n",
        "\n",
        "  * [OrangeSum](https://github.com/Tixierae/OrangeSum) or ([link HunggingFace](https://huggingface.co/datasets/GEM/OrangeSum) ) : dataset composed of French articles scrapped from \"Orange Actu\" website. Articles are provided with their title and short summary, and shoul contain articles around 5 main categories : France, world, politics, automotive, and society. \n",
        "\n",
        "  * [MLSum](https://huggingface.co/datasets/mlsum) & [XL-Sum](https://huggingface.co/datasets/csebuetnlp/xlsum) : datasets proposed by HuggingFace and composed of articles with their abstracts on different languages. It was originally proposed for multilingual text summarization, but we can choose to focus on the French subcorpus. Note that the considered articles will be mainly translations of originally English articles.\n",
        "\n",
        "As the OrangeSum articles were originally written in French, we will mainly train our model on this dataset. The two other ones could be used to have a larger training dataset, or to try to apply our OrangeSum-trained model on other types of articles."
      ],
      "metadata": {
        "id": "UcBbKvLVvUs5"
      }
    },
    {
      "cell_type": "code",
      "execution_count": null,
      "metadata": {
        "id": "f6Mbppf0YOXY",
        "colab": {
          "base_uri": "https://localhost:8080/",
          "referenced_widgets": [
            "79da87435c3a4711aa1ba718a4a77510",
            "5b1127b48bfe40dabc87139c901b3cb6",
            "56aa6b4ae81f427eb82cb964b88a835b",
            "902e3a82e61543969a9632d655eb7152",
            "2720358ee5ba44c5b447f349da786e7e",
            "ea9bd8be591346c1b127bc739f264817",
            "de2e50e4e9f64ebfa3bc05a93aaff5cb",
            "1a7a6cb94b924c2eab884cd75c30a639",
            "c76f79415c92416b9d2ddf9b907bc85a",
            "4a81c8cd2a76467e95a52572327d60e8",
            "2d8869af578d4e5c9a2508eb5fc7031f",
            "7e06047516284966b89052f4fe2c31ca",
            "cd9902a814eb410f9a89fbbb2abd23ed",
            "e6b24fe99c2842b4ae5b285d84f08a35",
            "85afb765807640d09fe5a4b70eeb6561",
            "5f25005281d446c293867c37166e67a7",
            "9ec4d6d20d3d4b87bd1bbe2e61cfa83a",
            "8865b808f4654e529c7010fb9095159a",
            "b883cad05d4f43b3a164293664482929",
            "c8e07b3840d6410d9299bb4a0ce4f5a7",
            "c8b0a7c6c6e24cf4aac24321e75646bc",
            "d3ad0661fc884082b682b3cbffb51221",
            "bb765b0548804218896034e99282dbad",
            "89a504b290ee4cb4a2904b327db6d225",
            "7b344f996200440db959657e6a87538a",
            "bae6848f4ba24177947809f54321068d",
            "7e495ec8be7845fc94c9c968d2bf7cf0",
            "9f10e8969975402683f93ec24af186c1",
            "97917c0eea5b43818b07a6af6ee2000d",
            "9035892ecb224f5aa170a14cab21a598",
            "c0f3a5978e4644ff9274ce302593782f",
            "36bf2ee461b94ff281562a7bdb9b5fa4",
            "d26a7f6bc33d478dbbb832d050a2b41b",
            "d057bd7843b049e69c4c6014e01dd3bd",
            "8e7aee0596b241eb896ad3ce4e41ac56",
            "44f55a9e4d934dfdbf8dd5865fa3b971",
            "1b0743c2a7e14047a1d0c3dab6aaa93c",
            "c26c62d471fb4ecc8e916a309280bd91",
            "48ed5aac65b34ff1a1aae0752705ba74",
            "564f973bcb8243d49ea082e1404f1563",
            "b8c15591617943eabd3f8cf256960391",
            "620e3a7877f048cdb977db3e71db78e0",
            "b1690b41afa54b8aad9cf269a4862724",
            "b59abbf4b3e341bf98c369e2cea6bf3e",
            "6cce0415d7f84693b0bdf37a9d2ae080",
            "79e0378c26884aa1b964174af45946f0",
            "e959bbf7bf0f47e7b3871a4777cae5ea",
            "4e8379e435bd4ad1a667939752f1b08b",
            "ff805d91377b477bbad0b0a177add720",
            "5fc9ebaaf7004f009303d90a64d4dca7",
            "4c31815e5a3b48e8b055efbcabe1bd9c",
            "175a952317554fefb07291a8284006a9",
            "675d8ab3c5a144459de513e0465c037b",
            "d0441afc9c7648c0a5989253d4929449",
            "9a7ac82d4cd34c63aa96ccb5d95873e8",
            "42a1e72a57fd466c9f48e5d1edf4838e",
            "70912c29652e49b38a0cddeaca9b870d",
            "ef4aa6f25c0c476786db76b1112df298",
            "af72869a10b94ce49741041fd55be87d",
            "2c4ec103db9044c7bc260e9646bd60c1",
            "29365170751e4e61aa402a00179b980c",
            "6789bf9cca3e44878e80ef0c6c1f2d23",
            "38cc65dca79848499827cd326394754d",
            "183732036aa5437abb34d7e8f9496634",
            "29cb34c39c414a9599226bc21b1b2c48",
            "35eb7d0c58974ac7bd5acba31b553f4a",
            "d7e442f00a374a53af024f7a9c86c1cb",
            "d48a6c74beaa4c2893d0c3b8d8185db8",
            "5c699c15ce53461aa5f289aa180fdeaa",
            "034164ef9a3a4662979e0be8b0aedbd2",
            "aaff2a1bd1854657a415b8cde56c4111",
            "61fddf7d0db84a3dad367e9f56d83c62",
            "3d3fa5780c1a4176b8709c02beb2b33c",
            "150ca8604cd348d591b4ef1736643441",
            "0a4c2516bf884ae5ad6cb6a30186d33a",
            "7c0c064bb0fc42429c50a8507fa5c821",
            "fd9ac6a473a943cab4427bd7e95ff844"
          ],
          "height": 201
        },
        "outputId": "509c7d6f-cbdf-48d2-be53-e66a0028016d"
      },
      "outputs": [
        {
          "output_type": "display_data",
          "data": {
            "text/plain": [
              "Downloading builder script:   0%|          | 0.00/5.76k [00:00<?, ?B/s]"
            ],
            "application/vnd.jupyter.widget-view+json": {
              "version_major": 2,
              "version_minor": 0,
              "model_id": "79da87435c3a4711aa1ba718a4a77510"
            }
          },
          "metadata": {}
        },
        {
          "output_type": "display_data",
          "data": {
            "text/plain": [
              "Downloading metadata:   0%|          | 0.00/5.94k [00:00<?, ?B/s]"
            ],
            "application/vnd.jupyter.widget-view+json": {
              "version_major": 2,
              "version_minor": 0,
              "model_id": "7e06047516284966b89052f4fe2c31ca"
            }
          },
          "metadata": {}
        },
        {
          "output_type": "stream",
          "name": "stdout",
          "text": [
            "Downloading and preparing dataset orange_sum/abstract (download: 21.99 MiB, generated: 58.19 MiB, post-processed: Unknown size, total: 80.18 MiB) to /root/.cache/huggingface/datasets/GEM___orange_sum/abstract/1.1.0/0886904dd6ac7849d4c9fcec77bf8d78622dd651739826ccc8436159b777f910...\n"
          ]
        },
        {
          "output_type": "display_data",
          "data": {
            "text/plain": [
              "Downloading data:   0%|          | 0.00/23.1M [00:00<?, ?B/s]"
            ],
            "application/vnd.jupyter.widget-view+json": {
              "version_major": 2,
              "version_minor": 0,
              "model_id": "bb765b0548804218896034e99282dbad"
            }
          },
          "metadata": {}
        },
        {
          "output_type": "display_data",
          "data": {
            "text/plain": [
              "Generating train split:   0%|          | 0/21401 [00:00<?, ? examples/s]"
            ],
            "application/vnd.jupyter.widget-view+json": {
              "version_major": 2,
              "version_minor": 0,
              "model_id": "d057bd7843b049e69c4c6014e01dd3bd"
            }
          },
          "metadata": {}
        },
        {
          "output_type": "display_data",
          "data": {
            "text/plain": [
              "Generating test split:   0%|          | 0/1500 [00:00<?, ? examples/s]"
            ],
            "application/vnd.jupyter.widget-view+json": {
              "version_major": 2,
              "version_minor": 0,
              "model_id": "6cce0415d7f84693b0bdf37a9d2ae080"
            }
          },
          "metadata": {}
        },
        {
          "output_type": "display_data",
          "data": {
            "text/plain": [
              "Generating validation split:   0%|          | 0/1500 [00:00<?, ? examples/s]"
            ],
            "application/vnd.jupyter.widget-view+json": {
              "version_major": 2,
              "version_minor": 0,
              "model_id": "42a1e72a57fd466c9f48e5d1edf4838e"
            }
          },
          "metadata": {}
        },
        {
          "output_type": "stream",
          "name": "stdout",
          "text": [
            "Dataset orange_sum downloaded and prepared to /root/.cache/huggingface/datasets/GEM___orange_sum/abstract/1.1.0/0886904dd6ac7849d4c9fcec77bf8d78622dd651739826ccc8436159b777f910. Subsequent calls will reuse this data.\n"
          ]
        },
        {
          "output_type": "display_data",
          "data": {
            "text/plain": [
              "  0%|          | 0/3 [00:00<?, ?it/s]"
            ],
            "application/vnd.jupyter.widget-view+json": {
              "version_major": 2,
              "version_minor": 0,
              "model_id": "d7e442f00a374a53af024f7a9c86c1cb"
            }
          },
          "metadata": {}
        }
      ],
      "source": [
        "dataset_orangesum = load_dataset(\"GEM/OrangeSum\", \"abstract\")\n",
        "\n",
        "# dataset_xlsum = load_dataset(\"csebuetnlp/xlsum\", \"french\")\n",
        "# dataset_mlsum = load_dataset(\"mlsum\", \"fr\")"
      ]
    },
    {
      "cell_type": "code",
      "source": [
        "dataset_orangesum"
      ],
      "metadata": {
        "colab": {
          "base_uri": "https://localhost:8080/"
        },
        "id": "AZeH0NBxFdzG",
        "outputId": "18c05f01-3751-4d5e-8a2a-e5f730b314a8"
      },
      "execution_count": null,
      "outputs": [
        {
          "output_type": "execute_result",
          "data": {
            "text/plain": [
              "DatasetDict({\n",
              "    train: Dataset({\n",
              "        features: ['gem_id', 'input', 'target', 'references'],\n",
              "        num_rows: 21401\n",
              "    })\n",
              "    test: Dataset({\n",
              "        features: ['gem_id', 'input', 'target', 'references'],\n",
              "        num_rows: 1500\n",
              "    })\n",
              "    validation: Dataset({\n",
              "        features: ['gem_id', 'input', 'target', 'references'],\n",
              "        num_rows: 1500\n",
              "    })\n",
              "})"
            ]
          },
          "metadata": {},
          "execution_count": 6
        }
      ]
    },
    {
      "cell_type": "code",
      "source": [
        "dataset_orangesum['train'][1]"
      ],
      "metadata": {
        "colab": {
          "base_uri": "https://localhost:8080/"
        },
        "id": "HADZxoBrF1F-",
        "outputId": "5534d578-1362-4506-c853-794bf41ea56c"
      },
      "execution_count": null,
      "outputs": [
        {
          "output_type": "execute_result",
          "data": {
            "text/plain": [
              "{'gem_id': 'OrangeSum_abstract-train-1',\n",
              " 'input': 'C\\'est désormais officiel : Alain Juppé n\\'est plus membre des Républicains. L\\'ex-Premier ministre de Jacques Chirac, cofondateur de l\\'UMP en 2002, ne paie plus sa cotisation auprès du parti de droite. Mercredi 9 janvier, le maire de Bordeaux a dénoncé un glissement qui s\\'opère, selon lui, de la droite vers l\\'extême droite. \"Je me reconnais de moins en moins dans cette famille politique, à laquelle je suis pourtant très attaché (...). C\\'est avec tristesse que je l\\'ai quittée, mais il y a une dérive vers des thèses qui sont celles très proches de l\\'extrême droite, et une ambiguïté sur l\\'Europe\", a-t-il déclaré face aux journalistes, réunis pour assister à ses voeux. \"On assiste à cette espèce de transfusion régulière, et sur les thèmes de fond, il y a des moments où je me demande qui j\\'entends à la radio ? Un membre de LR ou du RN ?\", a insisté le maire de Bordeaux. Le même jour, l\\'ex-député Thierry Mariani annonçait son départ de LR pour rallier une liste du Rassemblement national aux européennes de mai prochain. \"Cela fait deux ans que j\\'ai dit que je prenais mes distances avec Les Républicains. Les choses sont acquises depuis bien longtemps\", a tranché Alain Juppé. L\\'ancien candidat à la primaire de la droite pour la présidentielle de 2017 n\\'a jamais fait mystère de son désaccord avec les positions du président des Républicains, Laurent Wauquiez.\\n',\n",
              " 'references': [\"Le maire de Bordeaux ne fait plus partie des Républicains et il tient à le montrer. Lors de ses voeux à la presse, l'édile a pris ses distances avec sa famille politique historique, qu'il trouve trop proche de Marine Le Pen.\\n\"],\n",
              " 'target': \"Le maire de Bordeaux ne fait plus partie des Républicains et il tient à le montrer. Lors de ses voeux à la presse, l'édile a pris ses distances avec sa famille politique historique, qu'il trouve trop proche de Marine Le Pen.\\n\"}"
            ]
          },
          "metadata": {},
          "execution_count": 7
        }
      ]
    },
    {
      "cell_type": "code",
      "source": [
        "# dataset_xlsum"
      ],
      "metadata": {
        "id": "9WcKexq3G6L0"
      },
      "execution_count": null,
      "outputs": []
    },
    {
      "cell_type": "code",
      "source": [
        "# dataset_xlsum['train'][1]"
      ],
      "metadata": {
        "id": "tAJWNXCwG7hK"
      },
      "execution_count": null,
      "outputs": []
    },
    {
      "cell_type": "code",
      "source": [
        "# dataset_mlsum"
      ],
      "metadata": {
        "id": "x7SyqWi7G-SC"
      },
      "execution_count": null,
      "outputs": []
    },
    {
      "cell_type": "code",
      "source": [
        "# dataset_mlsum['train'][1]"
      ],
      "metadata": {
        "id": "0OiIdwyzHBLa"
      },
      "execution_count": null,
      "outputs": []
    },
    {
      "cell_type": "markdown",
      "source": [
        "## Pre-processing, Tokenization & Embedding"
      ],
      "metadata": {
        "id": "62bDt-vDLKW8"
      }
    },
    {
      "cell_type": "markdown",
      "source": [
        "The first step is to pre-process by cleaning and tokenizing the given datasets, to create our DataLoaders. Here, we are dealing with articles and their summary, so we have the choice between using the sentence-level or the word-level. "
      ],
      "metadata": {
        "id": "42WozM3nyBQQ"
      }
    },
    {
      "cell_type": "code",
      "source": [
        "stop_words = stopwords.words('french')"
      ],
      "metadata": {
        "id": "lzdo7nUNhu9d"
      },
      "execution_count": null,
      "outputs": []
    },
    {
      "cell_type": "code",
      "source": [
        "print('Examples of French stopwords :' , *stop_words[:20])"
      ],
      "metadata": {
        "colab": {
          "base_uri": "https://localhost:8080/"
        },
        "id": "9fParGjD_uet",
        "outputId": "e71ae16f-ced1-4945-92c5-c508220c332f"
      },
      "execution_count": null,
      "outputs": [
        {
          "output_type": "stream",
          "name": "stdout",
          "text": [
            "Examples of French stopwords : au aux avec ce ces dans de des du elle en et eux il ils je la le les leur\n"
          ]
        }
      ]
    },
    {
      "cell_type": "markdown",
      "source": [
        "### Cleaning & Tokenization "
      ],
      "metadata": {
        "id": "wwBdE7A3u2zY"
      }
    },
    {
      "cell_type": "code",
      "source": [
        "def tokenize_clean_text (text, remove_stopwords=True, word_tokenizer = word_tokenize) : \n",
        "    \"\"\"\n",
        "    Tokenize and clean a given text\n",
        "    Input : \n",
        "      text : string containing the text to clean and tokenize\n",
        "      remove_stopwords : bool (default True) \n",
        "      word_tokenizer : tokenizer to use on words after tokenizing sentences\n",
        "    Output : \n",
        "      list of token's list \n",
        "    \"\"\"\n",
        "\n",
        "    # Sentence tokenizer : \n",
        "    sentences = sent_tokenize(text, language='french')\n",
        "\n",
        "    output = []\n",
        "    for sent in sentences : \n",
        "        # Clean of the sentence : removes ponctuation, and lower the sentence\n",
        "        clean_sent = re.sub(r'[^\\w\\s]','', sent.lower())\n",
        "\n",
        "        # Tokenization of the sentence : \n",
        "        tok_clean_sent = word_tokenizer(clean_sent, language='french')\n",
        "\n",
        "        # Removing of the stopwords :\n",
        "        if remove_stopwords :\n",
        "            tok_clean_sent = [w for w in tok_clean_sent if w not in stop_words]\n",
        "\n",
        "        # Append to the output :\n",
        "        output.append(tok_clean_sent)\n",
        "\n",
        "    return output"
      ],
      "metadata": {
        "id": "wCGtPvssTV1p"
      },
      "execution_count": null,
      "outputs": []
    },
    {
      "cell_type": "markdown",
      "source": [
        "### Vocabulary & Embedding"
      ],
      "metadata": {
        "id": "6M-I9xOHusMD"
      }
    },
    {
      "cell_type": "markdown",
      "source": [
        "To model our text, we have to create a vocabulary, with a string-to-int (`stoi`) option. To have a better embedding for words than just using their index in the vocabulary, we can use pre-trained embeddings, which consists in Word-to-Vectors (Word2Vec) models. They assign to each word a vector, and are often pre-trained on a big corpus to try to model the studied language, that is to say to create vectors on which classical operations may have sense.\n",
        "\n",
        "The two following strategies are really similar :    \n",
        "  - in the first one, we build a vocabulary \"from scratch\", with the words that are within our corpus, and we use the pretrained embeddings to create a similarity matrix, by keeping the pre-trained vectors that interest us, that is to say that are in our built vocabulary\n",
        "  - in the second one, we directly use the pre-trained vocabulary of the chosen embeddings, so our words will then be assign to the same index as in the pre-trained vocabulary (and a certain number of words of it may not be used)."
      ],
      "metadata": {
        "id": "gj7oWzOSl0zK"
      }
    },
    {
      "cell_type": "code",
      "source": [
        "UNK_IDX, PAD_IDX, SOS_IDX, EOS_IDX = 0, 1, 2, 3\n",
        "special_symbols = ['<unk>', '<pad>', '<sos>', '<eos>']"
      ],
      "metadata": {
        "id": "kBBmvys4pFDu"
      },
      "execution_count": null,
      "outputs": []
    },
    {
      "cell_type": "markdown",
      "source": [
        "#### Chosen embeddings :"
      ],
      "metadata": {
        "id": "LP7RfPfDn9fp"
      }
    },
    {
      "cell_type": "code",
      "source": [
        "from torchtext.vocab import FastText, vocab"
      ],
      "metadata": {
        "id": "ErN7rPbOoA7m"
      },
      "execution_count": null,
      "outputs": []
    },
    {
      "cell_type": "code",
      "source": [
        "# Load of pretrained embeddings vectors :\n",
        "pretrained_vectors_fasttext = FastText(language='fr')"
      ],
      "metadata": {
        "id": "6gzDG6Nyod8U",
        "colab": {
          "base_uri": "https://localhost:8080/"
        },
        "outputId": "6f82fd70-9180-4267-d503-c5f9eccc43e8"
      },
      "execution_count": null,
      "outputs": [
        {
          "output_type": "stream",
          "name": "stderr",
          "text": [
            ".vector_cache/wiki.fr.vec: 3.03GB [01:36, 31.4MB/s]                            \n",
            "  0%|          | 0/1152449 [00:00<?, ?it/s]Skipping token b'1152449' with 1-dimensional vector [b'300']; likely a header\n",
            "100%|██████████| 1152449/1152449 [02:28<00:00, 7755.56it/s]\n"
          ]
        }
      ]
    },
    {
      "cell_type": "code",
      "source": [
        "print(f'The pre-trained vocabulary contains {pretrained_vectors_fasttext.vectors.shape[0]} words, with embeddings in vectors of size {pretrained_vectors_fasttext.vectors.shape[1]}')"
      ],
      "metadata": {
        "colab": {
          "base_uri": "https://localhost:8080/"
        },
        "id": "kpKYZFYHon72",
        "outputId": "8887afc3-386e-4c2d-c901-e112da39c965"
      },
      "execution_count": null,
      "outputs": [
        {
          "output_type": "stream",
          "name": "stdout",
          "text": [
            "The pre-trained vocabulary contains 1152449 words, with embeddings in vectors of size 300\n"
          ]
        }
      ]
    },
    {
      "cell_type": "code",
      "source": [
        ""
      ],
      "metadata": {
        "id": "tn2WJwH9qthZ"
      },
      "execution_count": null,
      "outputs": []
    },
    {
      "cell_type": "markdown",
      "source": [
        "#### Vocabulary built from scratch & corresponding embedding matrix:"
      ],
      "metadata": {
        "id": "OwW8Uxd5locn"
      }
    },
    {
      "cell_type": "code",
      "source": [
        "def vocab_update (corpus, text_features='input', vocabulary=None, remove_stopwords=True, word_tokenizer = word_tokenize, threshold=5) :\n",
        "    \"\"\"\n",
        "    Update a given vocabulary or Create a new one, with the words of a given corpus of texts\n",
        "    Inputs :\n",
        "      - corpus : Dataset\n",
        "      - text_features : name of the features in the dataset that contains text\n",
        "      - vocabulary : dict or None, containing keys : 'stoi', 'counts' and 'nbwords'\n",
        "      - remove_stopwords : bool\n",
        "      - threshold : if set to an int value, remove from the vocabulary words with counts < threshold\n",
        "\n",
        "    !!! Output a vocabulary is useful for the case of creating a vocabulary, \n",
        "    but the function also directly modify the input vocabulary if given\n",
        "    \"\"\" \n",
        "    if vocabulary is None :\n",
        "        # Create empty vocabulary :\n",
        "        vocabulary = {'stoi': {}, 'counts': {}, 'nbwords': 0}\n",
        "        # Add special symbols : \n",
        "        for t in special_symbols: \n",
        "            vocabulary['stoi'][t] = vocabulary['nbwords']\n",
        "            vocabulary['counts'][t] = 1\n",
        "            vocabulary['nbwords'] += 1\n",
        "\n",
        "    # Update vocabulary :\n",
        "    for document in tqdm(corpus) : \n",
        "        tokens = tokenize_clean_text(document[text_features], remove_stopwords=remove_stopwords, word_tokenizer=word_tokenizer)\n",
        "        for sentence in tokens :\n",
        "            for token in sentence : \n",
        "                if token not in vocabulary['stoi'].keys() :\n",
        "                    vocabulary['stoi'][token] = vocabulary['nbwords']\n",
        "                    vocabulary['nbwords'] += 1\n",
        "                    vocabulary['counts'][token] =1\n",
        "                else : \n",
        "                    vocabulary['counts'][token] +=1\n",
        "\n",
        "    # Remove from vocabulary words with count <= threshold : \n",
        "    if threshold is not None :\n",
        "        vocabulary_cleaned = {'stoi': {}, 'counts': {}, 'nbwords': 0}\n",
        "        for k, v in vocabulary['counts'].items() : \n",
        "            if (k in special_symbols) or (v>threshold) :\n",
        "                vocabulary_cleaned['stoi'][k] = vocabulary_cleaned['nbwords']\n",
        "                vocabulary_cleaned['nbwords'] += 1\n",
        "                vocabulary_cleaned['counts'][k] = vocabulary['counts'][k]\n",
        "        print(f\"Number of words removed due to the threshold : {vocabulary['nbwords']-vocabulary_cleaned['nbwords']}, ie {(vocabulary['nbwords']-vocabulary_cleaned['nbwords'])*100/vocabulary['nbwords']:.2f}% of the initial vocabulary\")\n",
        "        vocabulary = vocabulary_cleaned\n",
        "\n",
        "    # itos creation : \n",
        "    vocabulary['itos'] = {v : k for k,v in vocabulary['stoi'].items()}\n",
        "\n",
        "    return vocabulary"
      ],
      "metadata": {
        "id": "LWX38F21uvy1"
      },
      "execution_count": null,
      "outputs": []
    },
    {
      "cell_type": "code",
      "source": [
        "vocabulary_orangesum = vocab_update(dataset_orangesum['train'], text_features='input', threshold = 4)"
      ],
      "metadata": {
        "colab": {
          "base_uri": "https://localhost:8080/",
          "height": 68,
          "referenced_widgets": [
            "33a59f47c2e84129b4823ffcee578848",
            "6b2fddf11da84978a572a7c4c185ec82",
            "e8fdec1380524aeb8c7a5bd0ee0eb895",
            "65f301c8e2af4aa89ddc40be94381672",
            "a2040016929a42b6b91e92b70f2f23b2",
            "f8d6e986a84043d484eb7caf9294fe81",
            "1199bd8e23aa4b34bc957c1565cba542",
            "d36dbb92c3f94aab9caf1ebaf1c98fc1",
            "b17627efebe0483292fd6ad3c9b001e4",
            "7957fd1997b54dc1b35a85ce26c00f38",
            "b187b9cda98647e0866fe01963cd6a8c"
          ]
        },
        "id": "nTGbg7BEwN24",
        "outputId": "0adb2b80-3b51-4235-b32f-7b39c1775b50"
      },
      "execution_count": null,
      "outputs": [
        {
          "output_type": "display_data",
          "data": {
            "text/plain": [
              "  0%|          | 0/21401 [00:00<?, ?it/s]"
            ],
            "application/vnd.jupyter.widget-view+json": {
              "version_major": 2,
              "version_minor": 0,
              "model_id": "33a59f47c2e84129b4823ffcee578848"
            }
          },
          "metadata": {}
        },
        {
          "output_type": "stream",
          "name": "stdout",
          "text": [
            "Number of words removed due to the threshold : 144500, ie 76.83% of the initial vocabulary\n"
          ]
        }
      ]
    },
    {
      "cell_type": "code",
      "source": [
        "print(f\"Number of words kept in OrangeSum (training-text) vocabulary : {vocabulary_orangesum['nbwords']}\")"
      ],
      "metadata": {
        "colab": {
          "base_uri": "https://localhost:8080/"
        },
        "id": "G9oFwDMYyHlw",
        "outputId": "cd38f851-3b54-4911-822a-02ba53fc864d"
      },
      "execution_count": null,
      "outputs": [
        {
          "output_type": "stream",
          "name": "stdout",
          "text": [
            "Number of words kept in OrangeSum (training-text) vocabulary : 43584\n"
          ]
        }
      ]
    },
    {
      "cell_type": "code",
      "source": [
        "def create_embedding_matrix (vocabulary, pretrained_vectors) : \n",
        "    \"\"\"\n",
        "    Build an embedding matrix (tensor format) from a given vocabulary, using the embedding vectors \n",
        "    contains in pretrained_vectors.\n",
        "    Note that all words present in vocabulary but not in pretrained_vectors will be assigned\n",
        "    a random embedding in Uniform([-1,1]), and their number will be printed at the end of the execution.\n",
        "    \"\"\"\n",
        "    nb_words, embedding_dim = vocabulary['nbwords'], pretrained_vectors.vectors.shape[1]\n",
        "    pretrained_vectors_words = pretrained_vectors.stoi.keys()\n",
        "\n",
        "    # Creation of embedding matrix and counter for missing words :\n",
        "    word_embedding_matrix = torch.zeros((nb_words, embedding_dim))\n",
        "    nb_missing_words = 0\n",
        "\n",
        "    # Completion of embedding matrix :\n",
        "    for word, i in vocabulary['stoi'].items() :\n",
        "        if word in pretrained_vectors_words:\n",
        "            word_index = pretrained_vectors.stoi[word]\n",
        "            word_embedding_matrix[i] = pretrained_vectors.vectors[word_index]\n",
        "        else:\n",
        "            # If word not in pretrained_vectors, create a random embedding :\n",
        "            new_embedding = torch.zeros(embedding_dim).uniform_(-1,1) \n",
        "            word_embedding_matrix[i] = new_embedding\n",
        "            nb_missing_words += 1\n",
        "\n",
        "    print(f'Random new embeddings were created for {nb_missing_words} words, ie {nb_missing_words*100/nb_words:.2f}% of the vocabulary')\n",
        "\n",
        "    return word_embedding_matrix"
      ],
      "metadata": {
        "id": "x2VtLnnbpZd6"
      },
      "execution_count": null,
      "outputs": []
    },
    {
      "cell_type": "code",
      "source": [
        "embedding_matrix_orangesum = create_embedding_matrix(vocabulary_orangesum, pretrained_vectors_fasttext)"
      ],
      "metadata": {
        "colab": {
          "base_uri": "https://localhost:8080/"
        },
        "id": "eW32C9PZuCA8",
        "outputId": "954acab9-1ff3-4983-c90d-c2cf436ecaa9"
      },
      "execution_count": null,
      "outputs": [
        {
          "output_type": "stream",
          "name": "stdout",
          "text": [
            "Random new embeddings were created for 7913 words, ie 18.16% of the vocabulary\n"
          ]
        }
      ]
    },
    {
      "cell_type": "code",
      "source": [
        "embedding_matrix_orangesum.shape"
      ],
      "metadata": {
        "colab": {
          "base_uri": "https://localhost:8080/"
        },
        "id": "lyuJYOeHuXk6",
        "outputId": "87e53a9c-70d7-45ec-81e8-802fef641ebe"
      },
      "execution_count": null,
      "outputs": [
        {
          "output_type": "execute_result",
          "data": {
            "text/plain": [
              "torch.Size([43584, 300])"
            ]
          },
          "metadata": {},
          "execution_count": 24
        }
      ]
    },
    {
      "cell_type": "markdown",
      "source": [
        "#### Pre-trained vocabulary & embeddings : "
      ],
      "metadata": {
        "id": "L-pqnL0UljN7"
      }
    },
    {
      "cell_type": "code",
      "source": [
        "# Creation of the pre-trained vocabulary :\n",
        "pretrained_vocab_fasttext = vocab(pretrained_vectors_fasttext.stoi, min_freq=0)\n",
        "\n",
        "# We add our special symbols : \n",
        "for symbol_index, symbol in enumerate(special_symbols) : \n",
        "    pretrained_vocab_fasttext.insert_token(symbol, symbol_index)\n",
        "pretrained_vocab_fasttext.set_default_index(UNK_IDX)"
      ],
      "metadata": {
        "id": "4nK8glqtpJNd"
      },
      "execution_count": null,
      "outputs": []
    },
    {
      "cell_type": "code",
      "source": [
        "# Store embeddings in a tensor :\n",
        "pretrained_embeddings_fasttext = pretrained_vectors_fasttext.vectors\n",
        "pretrained_embeddings_fasttext = torch.cat((torch.zeros(4,pretrained_embeddings_fasttext.shape[1]),pretrained_embeddings_fasttext))\n",
        "pretrained_embeddings_fasttext.size()"
      ],
      "metadata": {
        "id": "pY9Rrhj2qvVu",
        "colab": {
          "base_uri": "https://localhost:8080/"
        },
        "outputId": "0758c518-5d6d-4290-bc8e-2a9c123eb76b"
      },
      "execution_count": null,
      "outputs": [
        {
          "output_type": "execute_result",
          "data": {
            "text/plain": [
              "torch.Size([1152453, 300])"
            ]
          },
          "metadata": {},
          "execution_count": 31
        }
      ]
    },
    {
      "cell_type": "code",
      "source": [
        ""
      ],
      "metadata": {
        "id": "4HrRp9p4lihd"
      },
      "execution_count": null,
      "outputs": []
    },
    {
      "cell_type": "markdown",
      "source": [
        "### Padding & Numericalization "
      ],
      "metadata": {
        "id": "6ecFdQBKQeWQ"
      }
    },
    {
      "cell_type": "code",
      "source": [
        "# def clean_tokenize_pad_numericalize_sent(text, vocabulary_stoi, max_length=(20,300), remove_stopwords=True, word_tokenizer=word_tokenize) :\n",
        "#     \"\"\"\n",
        "#     Apply the cleanning and tokenizing previously refined function,\n",
        "#     and then numericalize the text, by attributing to each word its indice in \n",
        "#     a given vocabulary. \n",
        "#     With max_length=(text_length, seq_length), we pad the text in text_length sequences of seq_length words.\n",
        "#     \"\"\"\n",
        "\n",
        "#     tokens = tokenize_clean_text(text, remove_stopwords=remove_stopwords, word_tokenizer=word_tokenizer)\n",
        "\n",
        "#     result = []\n",
        "\n",
        "#     text_length, seq_length = max_length\n",
        "    \n",
        "#     # Numericalize and pad sentences :\n",
        "#     for sequence in tokens :\n",
        "#         seq = [vocabulary_stoi['<sos>']] + [ vocabulary_stoi[token] if token in vocabulary_stoi.keys() else vocabulary_stoi['<unk>'] for token in sequence] + [vocabulary_stoi['<eos>']]\n",
        "#         n = len(seq)\n",
        "#         if (seq_length is None) or (n==seq_length) : \n",
        "#             result.append(seq)\n",
        "#         else :\n",
        "#             if n < seq_length : \n",
        "#                 result.append(seq + [ vocabulary_stoi['<pad>'] for i in range(n, seq_length)])\n",
        "#             else : # n > seq_length\n",
        "#                 result.append(seq[:seq_length])\n",
        "\n",
        "#     # Pad text : \n",
        "#     m = len(result)\n",
        "#     if m < text_length : \n",
        "#         empty_seq = [vocabulary_stoi['<pad>'] for i in range(seq_length)]\n",
        "#         for i in range(m, text_length) : \n",
        "#             result.append(empty_seq)\n",
        "#     elif m > text_length : \n",
        "#         result = result[:text_length]\n",
        "\n",
        "#     return result\n"
      ],
      "metadata": {
        "id": "jYArB-Fuurtw"
      },
      "execution_count": null,
      "outputs": []
    },
    {
      "cell_type": "code",
      "source": [
        "def clean_tokenize_pad_numericalize_word(text, vocabulary_stoi, max_length=1000, remove_stopwords=True, word_tokenizer=word_tokenize) :\n",
        "    \"\"\"\n",
        "    Apply the cleanning and tokenizing previously refined function,\n",
        "    and then numericalize the text, by attributing to each word its indice in \n",
        "    a given vocabulary. \n",
        "    With max_length=int, we pad the text in max_length words.\n",
        "    \"\"\"\n",
        "\n",
        "    tokens = tokenize_clean_text(text, remove_stopwords=remove_stopwords, word_tokenizer=word_tokenizer)\n",
        "\n",
        "    result = [vocabulary_stoi['<sos>']]\n",
        "    \n",
        "    # Numericalize and pad words, disregarding sequence structure :\n",
        "    for sequence in tokens :\n",
        "        for token in sequence : \n",
        "            result.append(vocabulary_stoi[token] if token in vocabulary_stoi.keys() else vocabulary_stoi['<unk>'])\n",
        "            if len(result) >= max_length : \n",
        "                break\n",
        "\n",
        "    # Pad text : \n",
        "    m = len(result)\n",
        "    if m < max_length-1 : \n",
        "        for i in range(m, max_length-1) : \n",
        "            result.append(vocabulary_stoi['<pad>'])\n",
        "    elif m > max_length-1 : \n",
        "        result = result[:max_length-1]\n",
        "\n",
        "    # Add eos token : \n",
        "    result.append(vocabulary_stoi['<eos>'])\n",
        "\n",
        "    return result"
      ],
      "metadata": {
        "id": "8KOLhda9RVZz"
      },
      "execution_count": null,
      "outputs": []
    },
    {
      "cell_type": "markdown",
      "source": [
        "### Dataloader's creation"
      ],
      "metadata": {
        "id": "kkWwez8FTKs2"
      }
    },
    {
      "cell_type": "markdown",
      "source": [
        "Here, in our dataloader's creation, we will use two different vocabularies built 'from scratch' :     \n",
        "  - for the texts, we use a vocabulary constructed on the training texts, removing stop words that will not be useful for our encoders, their goal being to understand the most important informations of an article. We limit the text length to $1000$ word, based on descriptive statistics section.\n",
        "  - for the summaries, we use a vocabulary constructed on the training summaries, but keeping stop words, as the goal of our decoders will be to be abble to generate sentences understandables by humans, so all the words should be kept. We limit the text length to $100$ word, based on descriptive statistics section. "
      ],
      "metadata": {
        "id": "NhhgQZgMMpMk"
      }
    },
    {
      "cell_type": "code",
      "source": [
        "def pre_processing_all (entries, vocab_text_stoi, vocab_summary_stoi, text_features='input', summary_features='target', word_tokenizer=word_tokenize) : \n",
        "    \"\"\"\n",
        "    !!! In this function, stopwords are removed only for text column\n",
        "    \"\"\"\n",
        "    pre_processed = {}\n",
        "    pre_processed[text_features] = [clean_tokenize_pad_numericalize_word(entry, vocab_text_stoi, max_length=600, remove_stopwords=True) for entry in entries[text_features]]\n",
        "    pre_processed[summary_features] = [clean_tokenize_pad_numericalize_word(entry, vocab_summary_stoi, max_length=60, remove_stopwords=False) for entry in entries[summary_features]]\n",
        "    return pre_processed"
      ],
      "metadata": {
        "id": "YZV5su1aTKIV"
      },
      "execution_count": null,
      "outputs": []
    },
    {
      "cell_type": "code",
      "source": [
        "# Use a vocabulary different for summaries, keeping stopwords :\n",
        "\n",
        "vocabulary_orangesum_summary = vocab_update(dataset_orangesum['train'], text_features='target', remove_stopwords=False, threshold=1)"
      ],
      "metadata": {
        "colab": {
          "base_uri": "https://localhost:8080/",
          "height": 66,
          "referenced_widgets": [
            "9884ad5f7b154008aeaa0ae1e096c638",
            "386a85bce4bb43398a7b2a13105fa682",
            "b6685978a7ce44c9ac02a5979d01ad21",
            "d94cdf7aef054cdfb4296bfa4efd1cac",
            "2968422ba277471b9d396e94f6e6c57e",
            "b33d1286b194479aa0d1b7c0a236de44",
            "bea207821d374666b34e71f4e6f9959b",
            "71940165b0fe4d84a857fff127b96cba",
            "d9cfd0aae9be4bc7a6bee97594d00cc7",
            "693849ae045b4fa8b347096381d01cbc",
            "483c573b7e2345ecacba6ad56014364e"
          ]
        },
        "id": "IH621KTtWVop",
        "outputId": "1291ac3b-27e2-4e10-f611-b543fa769a5a"
      },
      "execution_count": null,
      "outputs": [
        {
          "output_type": "display_data",
          "data": {
            "text/plain": [
              "  0%|          | 0/21401 [00:00<?, ?it/s]"
            ],
            "application/vnd.jupyter.widget-view+json": {
              "version_major": 2,
              "version_minor": 0,
              "model_id": "9884ad5f7b154008aeaa0ae1e096c638"
            }
          },
          "metadata": {}
        },
        {
          "output_type": "stream",
          "name": "stdout",
          "text": [
            "Number of words removed due to the threshold : 17679, ie 54.15% of the initial vocabulary\n"
          ]
        }
      ]
    },
    {
      "cell_type": "code",
      "source": [
        "# Clean, tokenize, numericalize, pad the dataset :\n",
        "\n",
        "dataset_orangesum_preprocessed = dataset_orangesum.copy()\n",
        "dataset_orangesum_preprocessed['train'] = dataset_orangesum['train'].map(lambda e: pre_processing_all(e, vocab_text_stoi=vocabulary_orangesum['stoi'], vocab_summary_stoi=vocabulary_orangesum_summary['stoi']), batched=True)\n",
        "dataset_orangesum_preprocessed['validation'] = dataset_orangesum['validation'].map(lambda e: pre_processing_all(e, vocab_text_stoi=vocabulary_orangesum['stoi'], vocab_summary_stoi=vocabulary_orangesum_summary['stoi']), batched=True)\n",
        "dataset_orangesum_preprocessed['test'] = dataset_orangesum['test'].map(lambda e: pre_processing_all(e, vocab_text_stoi=vocabulary_orangesum['stoi'], vocab_summary_stoi=vocabulary_orangesum_summary['stoi']), batched=True)"
      ],
      "metadata": {
        "colab": {
          "base_uri": "https://localhost:8080/",
          "height": 113,
          "referenced_widgets": [
            "671249f759054da7b4951306f00e1933",
            "842209efea8842e0a65ac34953073ba2",
            "d84584c465a947c4b8f700072bf0b9f8",
            "3deb323460844ac0a7929894dc893a00",
            "06b0b5b4dde640f1b577e796f66ba105",
            "493f9eb71e3b45f39087cc2404a56eb5",
            "f91e95885b6143f48226a0b74dbaf19e",
            "b8615d55ecd94627a5119c28983596d8",
            "4ed43e6a45274f569feb72c0db7d5d1e",
            "c308afb2b71c461e986e18915e41e931",
            "74ee51c8fbc349c0875c4bf521b16344",
            "9d420f92b3fc44ec96e3a5345c4ec447",
            "f04cdf39cc2548ca91cdf0b4e32d4682",
            "7d51f8070a634630be3054095f3fac03",
            "36e0f3153c4b47cdbe3fc2f82fb9df5a",
            "ad4619561fc5411bb99b5f5297fd9a6e",
            "bb41ffd63cbc4380837b92e5e3eb8519",
            "fd766cfdfaa843e0b42d177a56e1dc40",
            "bd04f874467849ccb05e20d8816f2179",
            "a79ca45be79d461cbf787edf6e93e7b7",
            "d8dee6c172254933b30bb4ac17a79ad1",
            "d23db09204e648f3bebace63327f01a2",
            "e60e55e88c284ad9a176fd69dad5f513",
            "b6b687738f4d4b74869cb1fe379145b6",
            "f9bc0e065b264ea3bff93254938f4246",
            "ffef7266ce824d2b82b3d0d036b6a894",
            "f51d20bcb3df4f3490bff8b602eea972",
            "12845978d6234ea08fca7eb7ea1ab498",
            "c1066dc075d04577b9a63f6c74feedbc",
            "8299f22885c2425e9e5b899bcaa682fa",
            "b535590cd2d14c3588562ac004cc417d",
            "4f3b25ff1f4e46e88f2d76bb9cd08fa9",
            "5eb36ac533ff421196ba3e65b6ba87db"
          ]
        },
        "id": "by6TqjfnV9xA",
        "outputId": "3d5d2463-ad05-4721-c98a-bafd7bfe9554"
      },
      "execution_count": null,
      "outputs": [
        {
          "output_type": "display_data",
          "data": {
            "text/plain": [
              "  0%|          | 0/22 [00:00<?, ?ba/s]"
            ],
            "application/vnd.jupyter.widget-view+json": {
              "version_major": 2,
              "version_minor": 0,
              "model_id": "671249f759054da7b4951306f00e1933"
            }
          },
          "metadata": {}
        },
        {
          "output_type": "display_data",
          "data": {
            "text/plain": [
              "  0%|          | 0/2 [00:00<?, ?ba/s]"
            ],
            "application/vnd.jupyter.widget-view+json": {
              "version_major": 2,
              "version_minor": 0,
              "model_id": "9d420f92b3fc44ec96e3a5345c4ec447"
            }
          },
          "metadata": {}
        },
        {
          "output_type": "display_data",
          "data": {
            "text/plain": [
              "  0%|          | 0/2 [00:00<?, ?ba/s]"
            ],
            "application/vnd.jupyter.widget-view+json": {
              "version_major": 2,
              "version_minor": 0,
              "model_id": "e60e55e88c284ad9a176fd69dad5f513"
            }
          },
          "metadata": {}
        }
      ]
    },
    {
      "cell_type": "code",
      "source": [
        "class NewsDataset(Dataset):\n",
        "    def __init__(self, data, text_features='input', summary_features='target'):\n",
        "      self.text_features = text_features\n",
        "      self.summary_features = summary_features\n",
        "      self.data = data\n",
        "\n",
        "    def __len__(self):\n",
        "      return len(self.data)\n",
        "    \n",
        "    def __getitem__(self, idx):\n",
        "      item = {\n",
        "          \"text\": np.array(self.data[idx][self.text_features]),\n",
        "          \"summary\": np.array(self.data[idx][self.summary_features]) \n",
        "      }\n",
        "      return item"
      ],
      "metadata": {
        "id": "b8duwlK9urym"
      },
      "execution_count": null,
      "outputs": []
    },
    {
      "cell_type": "code",
      "source": [
        "batch_size = 1\n",
        "\n",
        "orangesum_train_loader = DataLoader(NewsDataset(data = dataset_orangesum_preprocessed['train']), batch_size=batch_size, shuffle=True, drop_last=True)\n",
        "orangesum_test_loader = DataLoader(NewsDataset(data = dataset_orangesum_preprocessed['test']), batch_size=batch_size, shuffle=True, drop_last=True)\n",
        "orangesum_validation_loader = DataLoader(NewsDataset(data = dataset_orangesum_preprocessed['validation']), batch_size=batch_size, shuffle=True, drop_last=True)"
      ],
      "metadata": {
        "id": "sKhgcePxZGtE"
      },
      "execution_count": null,
      "outputs": []
    },
    {
      "cell_type": "code",
      "source": [
        "# a = next(iter(orangesum_train_loader))\n",
        "# a['summary'].shape  # --->   torch.Size([batch_size, 60])\n",
        "# a['text'].shape     # --->   torch.Size([batch_size, 600])"
      ],
      "metadata": {
        "id": "1cihTUOoZimV"
      },
      "execution_count": null,
      "outputs": []
    },
    {
      "cell_type": "markdown",
      "source": [
        "## Descriptive Statistics\n"
      ],
      "metadata": {
        "id": "IZ7pL0agJ57J"
      }
    },
    {
      "cell_type": "markdown",
      "source": [
        "In this section, we will try to provide revelant descriptive statistics, mainly of the OrangeSum dataset (our functions can easily be used on other datasets). We will describe the sentence and text lengths, but also their content in terms of vocabulary (word distribution, ...) and topic. \n",
        "\n",
        "Note that **this section is quasi independant** of what was done previously, above all in term of cleaning, tokenization, ect. In this section, we will mainly just use a simple sentence and word tokenizer, using `sent_tokenize` and `word_tokenize` from `nltk.tokenize`."
      ],
      "metadata": {
        "id": "6dBrG3a7ZGwN"
      }
    },
    {
      "cell_type": "code",
      "source": [
        "df_orangesum_train = dataset_orangesum['train'].to_pandas()\n",
        "# df_mlsum_train = dataset_mlsum['train'].to_pandas()\n",
        "# df_xlsum_train = dataset_xlsum['train'].to_pandas()"
      ],
      "metadata": {
        "id": "Oc39NYWbRpkN"
      },
      "execution_count": null,
      "outputs": []
    },
    {
      "cell_type": "code",
      "source": [
        "df_orangesum_train.rename(columns={'input' : 'text', 'target' : 'abstract'}, inplace=True)\n",
        "df_orangesum_train.head()"
      ],
      "metadata": {
        "colab": {
          "base_uri": "https://localhost:8080/",
          "height": 337
        },
        "id": "0JRc55xPST1g",
        "outputId": "887e3ebf-c716-492b-c30c-47fe3b888b50"
      },
      "execution_count": null,
      "outputs": [
        {
          "output_type": "execute_result",
          "data": {
            "text/plain": [
              "                       gem_id  \\\n",
              "0  OrangeSum_abstract-train-0   \n",
              "1  OrangeSum_abstract-train-1   \n",
              "2  OrangeSum_abstract-train-2   \n",
              "3  OrangeSum_abstract-train-3   \n",
              "4  OrangeSum_abstract-train-4   \n",
              "\n",
              "                                                text  \\\n",
              "0  Thierry Mariani sur la liste du Rassemblement ...   \n",
              "1  C'est désormais officiel : Alain Juppé n'est p...   \n",
              "2  La mesure est décriée par les avocats et les m...   \n",
              "3  Dans une interview accordée au Figaro mercredi...   \n",
              "4  Le préjudice est estimé à 2 millions d'euros. ...   \n",
              "\n",
              "                                            abstract  \\\n",
              "0  L'information n'a pas été confirmée par l'inté...   \n",
              "1  Le maire de Bordeaux ne fait plus partie des R...   \n",
              "2  En 2020, les tribunaux d'instance fusionnent a...   \n",
              "3  Les médecins jugés \"gros prescripteurs d'arrêt...   \n",
              "4  Il aura fallu mobiliser 90 gendarmes pour cett...   \n",
              "\n",
              "                                          references  \n",
              "0  [L'information n'a pas été confirmée par l'int...  \n",
              "1  [Le maire de Bordeaux ne fait plus partie des ...  \n",
              "2  [En 2020, les tribunaux d'instance fusionnent ...  \n",
              "3  [Les médecins jugés \"gros prescripteurs d'arrê...  \n",
              "4  [Il aura fallu mobiliser 90 gendarmes pour cet...  "
            ],
            "text/html": [
              "\n",
              "  <div id=\"df-7e295d75-1acc-4413-96eb-9b2aa1317fdf\">\n",
              "    <div class=\"colab-df-container\">\n",
              "      <div>\n",
              "<style scoped>\n",
              "    .dataframe tbody tr th:only-of-type {\n",
              "        vertical-align: middle;\n",
              "    }\n",
              "\n",
              "    .dataframe tbody tr th {\n",
              "        vertical-align: top;\n",
              "    }\n",
              "\n",
              "    .dataframe thead th {\n",
              "        text-align: right;\n",
              "    }\n",
              "</style>\n",
              "<table border=\"1\" class=\"dataframe\">\n",
              "  <thead>\n",
              "    <tr style=\"text-align: right;\">\n",
              "      <th></th>\n",
              "      <th>gem_id</th>\n",
              "      <th>text</th>\n",
              "      <th>abstract</th>\n",
              "      <th>references</th>\n",
              "    </tr>\n",
              "  </thead>\n",
              "  <tbody>\n",
              "    <tr>\n",
              "      <th>0</th>\n",
              "      <td>OrangeSum_abstract-train-0</td>\n",
              "      <td>Thierry Mariani sur la liste du Rassemblement ...</td>\n",
              "      <td>L'information n'a pas été confirmée par l'inté...</td>\n",
              "      <td>[L'information n'a pas été confirmée par l'int...</td>\n",
              "    </tr>\n",
              "    <tr>\n",
              "      <th>1</th>\n",
              "      <td>OrangeSum_abstract-train-1</td>\n",
              "      <td>C'est désormais officiel : Alain Juppé n'est p...</td>\n",
              "      <td>Le maire de Bordeaux ne fait plus partie des R...</td>\n",
              "      <td>[Le maire de Bordeaux ne fait plus partie des ...</td>\n",
              "    </tr>\n",
              "    <tr>\n",
              "      <th>2</th>\n",
              "      <td>OrangeSum_abstract-train-2</td>\n",
              "      <td>La mesure est décriée par les avocats et les m...</td>\n",
              "      <td>En 2020, les tribunaux d'instance fusionnent a...</td>\n",
              "      <td>[En 2020, les tribunaux d'instance fusionnent ...</td>\n",
              "    </tr>\n",
              "    <tr>\n",
              "      <th>3</th>\n",
              "      <td>OrangeSum_abstract-train-3</td>\n",
              "      <td>Dans une interview accordée au Figaro mercredi...</td>\n",
              "      <td>Les médecins jugés \"gros prescripteurs d'arrêt...</td>\n",
              "      <td>[Les médecins jugés \"gros prescripteurs d'arrê...</td>\n",
              "    </tr>\n",
              "    <tr>\n",
              "      <th>4</th>\n",
              "      <td>OrangeSum_abstract-train-4</td>\n",
              "      <td>Le préjudice est estimé à 2 millions d'euros. ...</td>\n",
              "      <td>Il aura fallu mobiliser 90 gendarmes pour cett...</td>\n",
              "      <td>[Il aura fallu mobiliser 90 gendarmes pour cet...</td>\n",
              "    </tr>\n",
              "  </tbody>\n",
              "</table>\n",
              "</div>\n",
              "      <button class=\"colab-df-convert\" onclick=\"convertToInteractive('df-7e295d75-1acc-4413-96eb-9b2aa1317fdf')\"\n",
              "              title=\"Convert this dataframe to an interactive table.\"\n",
              "              style=\"display:none;\">\n",
              "        \n",
              "  <svg xmlns=\"http://www.w3.org/2000/svg\" height=\"24px\"viewBox=\"0 0 24 24\"\n",
              "       width=\"24px\">\n",
              "    <path d=\"M0 0h24v24H0V0z\" fill=\"none\"/>\n",
              "    <path d=\"M18.56 5.44l.94 2.06.94-2.06 2.06-.94-2.06-.94-.94-2.06-.94 2.06-2.06.94zm-11 1L8.5 8.5l.94-2.06 2.06-.94-2.06-.94L8.5 2.5l-.94 2.06-2.06.94zm10 10l.94 2.06.94-2.06 2.06-.94-2.06-.94-.94-2.06-.94 2.06-2.06.94z\"/><path d=\"M17.41 7.96l-1.37-1.37c-.4-.4-.92-.59-1.43-.59-.52 0-1.04.2-1.43.59L10.3 9.45l-7.72 7.72c-.78.78-.78 2.05 0 2.83L4 21.41c.39.39.9.59 1.41.59.51 0 1.02-.2 1.41-.59l7.78-7.78 2.81-2.81c.8-.78.8-2.07 0-2.86zM5.41 20L4 18.59l7.72-7.72 1.47 1.35L5.41 20z\"/>\n",
              "  </svg>\n",
              "      </button>\n",
              "      \n",
              "  <style>\n",
              "    .colab-df-container {\n",
              "      display:flex;\n",
              "      flex-wrap:wrap;\n",
              "      gap: 12px;\n",
              "    }\n",
              "\n",
              "    .colab-df-convert {\n",
              "      background-color: #E8F0FE;\n",
              "      border: none;\n",
              "      border-radius: 50%;\n",
              "      cursor: pointer;\n",
              "      display: none;\n",
              "      fill: #1967D2;\n",
              "      height: 32px;\n",
              "      padding: 0 0 0 0;\n",
              "      width: 32px;\n",
              "    }\n",
              "\n",
              "    .colab-df-convert:hover {\n",
              "      background-color: #E2EBFA;\n",
              "      box-shadow: 0px 1px 2px rgba(60, 64, 67, 0.3), 0px 1px 3px 1px rgba(60, 64, 67, 0.15);\n",
              "      fill: #174EA6;\n",
              "    }\n",
              "\n",
              "    [theme=dark] .colab-df-convert {\n",
              "      background-color: #3B4455;\n",
              "      fill: #D2E3FC;\n",
              "    }\n",
              "\n",
              "    [theme=dark] .colab-df-convert:hover {\n",
              "      background-color: #434B5C;\n",
              "      box-shadow: 0px 1px 3px 1px rgba(0, 0, 0, 0.15);\n",
              "      filter: drop-shadow(0px 1px 2px rgba(0, 0, 0, 0.3));\n",
              "      fill: #FFFFFF;\n",
              "    }\n",
              "  </style>\n",
              "\n",
              "      <script>\n",
              "        const buttonEl =\n",
              "          document.querySelector('#df-7e295d75-1acc-4413-96eb-9b2aa1317fdf button.colab-df-convert');\n",
              "        buttonEl.style.display =\n",
              "          google.colab.kernel.accessAllowed ? 'block' : 'none';\n",
              "\n",
              "        async function convertToInteractive(key) {\n",
              "          const element = document.querySelector('#df-7e295d75-1acc-4413-96eb-9b2aa1317fdf');\n",
              "          const dataTable =\n",
              "            await google.colab.kernel.invokeFunction('convertToInteractive',\n",
              "                                                     [key], {});\n",
              "          if (!dataTable) return;\n",
              "\n",
              "          const docLinkHtml = 'Like what you see? Visit the ' +\n",
              "            '<a target=\"_blank\" href=https://colab.research.google.com/notebooks/data_table.ipynb>data table notebook</a>'\n",
              "            + ' to learn more about interactive tables.';\n",
              "          element.innerHTML = '';\n",
              "          dataTable['output_type'] = 'display_data';\n",
              "          await google.colab.output.renderOutput(dataTable, element);\n",
              "          const docLink = document.createElement('div');\n",
              "          docLink.innerHTML = docLinkHtml;\n",
              "          element.appendChild(docLink);\n",
              "        }\n",
              "      </script>\n",
              "    </div>\n",
              "  </div>\n",
              "  "
            ]
          },
          "metadata": {},
          "execution_count": 13
        }
      ]
    },
    {
      "cell_type": "code",
      "source": [
        "print('Number of articles :', len(df_orangesum_train))"
      ],
      "metadata": {
        "colab": {
          "base_uri": "https://localhost:8080/"
        },
        "id": "L7F8Xe6U-Xdb",
        "outputId": "f27a855b-652a-48bf-b72b-44d28374b847"
      },
      "execution_count": null,
      "outputs": [
        {
          "output_type": "stream",
          "name": "stdout",
          "text": [
            "Number of articles : 21401\n"
          ]
        }
      ]
    },
    {
      "cell_type": "markdown",
      "source": [
        "### Sentence & document structure :"
      ],
      "metadata": {
        "id": "cLznQgJmY0Lw"
      }
    },
    {
      "cell_type": "markdown",
      "source": [
        "Let start by analyzing the structure of our articles : number of sequances, number of words and number of words per sentences."
      ],
      "metadata": {
        "id": "-TyfUCdy4KLB"
      }
    },
    {
      "cell_type": "code",
      "source": [
        "def stats_lengths (df, text_column='text') : \n",
        "    \"\"\"\n",
        "    Function that realizes statistics of length on df[text_column], by plotting \n",
        "    the number of sentences and the number of word per article, \n",
        "    and the number of word per sentence in the entire set\n",
        "    \"\"\" \n",
        "    # create an empty dataframe for our stats to not modify the input\n",
        "    n = len(df)\n",
        "    stats = pd.DataFrame({'idx':np.arange(n)})\n",
        "\n",
        "    # compute number of sentences and words in each text :\n",
        "    stats['nb_sentences'] = df[text_column].apply(lambda x : len(sent_tokenize(x, language='french')))\n",
        "    stats['nb_words'] = df[text_column].apply(lambda x : len(word_tokenize(x, language='french')))\n",
        "\n",
        "    # compute the number of word per sentence and concatenate in an array : \n",
        "    stats['nb_words_per_sentence'] = df[text_column].apply(lambda x : [len(word_tokenize(sent, language='french')) for sent in sent_tokenize(x, language='french')])\n",
        "    nb_words_per_sentence = np.concatenate(stats['nb_words_per_sentence'].to_numpy())\n",
        "\n",
        "    # Plot : \n",
        "    fig, ax = plt.subplots(1,3, figsize=(15,5))\n",
        "    sns.histplot(data=stats, x=\"nb_sentences\", ax=ax[0], stat='density')\n",
        "    ax[0].set_title('Nb of sentences per text')\n",
        "\n",
        "    sns.histplot(data=stats, x=\"nb_words\", ax=ax[1], stat='density')\n",
        "    ax[1].set_title('Nb of words per text')\n",
        "\n",
        "    sns.histplot(nb_words_per_sentence, ax=ax[2], stat='density')\n",
        "    ax[2].set_xlabel('nb_words_per_sentence')\n",
        "    ax[2].set_title('Nb of words per sentences \\n (on all corpus) ')\n",
        "\n",
        "    fig.suptitle(f'Statistics on column {text_column}')"
      ],
      "metadata": {
        "id": "MJQwaLJv9KGE"
      },
      "execution_count": null,
      "outputs": []
    },
    {
      "cell_type": "code",
      "source": [
        "stats_lengths(df_orangesum_train, text_column='text')"
      ],
      "metadata": {
        "colab": {
          "base_uri": "https://localhost:8080/",
          "height": 371
        },
        "id": "IjxY7qDPEhxe",
        "outputId": "24a60f1e-74bf-4215-8ab1-7b666088036e"
      },
      "execution_count": null,
      "outputs": [
        {
          "output_type": "display_data",
          "data": {
            "text/plain": [
              "<Figure size 1080x360 with 3 Axes>"
            ],
            "image/png": "[encoded data removed]"
          },
          "metadata": {}
        }
      ]
    },
    {
      "cell_type": "code",
      "source": [
        "stats_lengths(df_orangesum_train, text_column='abstract')"
      ],
      "metadata": {
        "colab": {
          "base_uri": "https://localhost:8080/",
          "height": 371
        },
        "id": "_EADcDCwETT-",
        "outputId": "78f6e0c0-4cde-4ddd-b6da-d62e56a3c74d"
      },
      "execution_count": null,
      "outputs": [
        {
          "output_type": "display_data",
          "data": {
            "text/plain": [
              "<Figure size 1080x360 with 3 Axes>"
            ],
            "image/png": "[encoded data removed]"
          },
          "metadata": {}
        }
      ]
    },
    {
      "cell_type": "markdown",
      "source": [
        "↪ The articles and summaries are relatively shorts, the summaries mainly containing one or two sentences (first columns)\n",
        "\n",
        "↪ The number of words per text (second column) justifies the choice made in the pre-processing section for the padding : we have chosen to keep 600 words per text and 60 per summary, which seems reasonable regarding these statistics.\n",
        "\n",
        "↪ The number of words per sentence (third column) is similar for both articles and summaries. It can then be reasonable to think that extractive methods can have sense to deal with this corpus, as by extracting sentences from the articles to build our summaries could allow us to obtain a structure similar to the one of the summaries."
      ],
      "metadata": {
        "id": "FfFnBhWr4SyH"
      }
    },
    {
      "cell_type": "code",
      "source": [
        ""
      ],
      "metadata": {
        "id": "gIW_mO4ASdrf"
      },
      "execution_count": null,
      "outputs": []
    },
    {
      "cell_type": "markdown",
      "source": [
        "### Vocabulary & word distributions :"
      ],
      "metadata": {
        "id": "CapUQgp8Zjc4"
      }
    },
    {
      "cell_type": "markdown",
      "source": [
        "**1. Word distribution :**"
      ],
      "metadata": {
        "id": "5b7gWS0YDH7e"
      }
    },
    {
      "cell_type": "markdown",
      "source": [
        "Here are some important numbers concerning the vocabulary in OrangeSum (training dataset), given the fact that stopwords are excluded from all the vocabularies."
      ],
      "metadata": {
        "id": "7KBaBkM6Eb1z"
      }
    },
    {
      "cell_type": "code",
      "source": [
        "threshold = None\n",
        "vocabulary_orangesum_article_ = vocab_update(dataset_orangesum['train'], text_features='input', remove_stopwords=True, threshold=threshold)\n",
        "vocabulary_orangesum_abstract_ = vocab_update(dataset_orangesum['train'], text_features='target', remove_stopwords=True, threshold=threshold)"
      ],
      "metadata": {
        "colab": {
          "base_uri": "https://localhost:8080/",
          "height": 81,
          "referenced_widgets": [
            "8169770ff9074fe99025fdc0766143f2",
            "7e475091cbe54d9ea7e3e04f225c3d0c",
            "6ec8c337167842f5bbb71da6175d5daa",
            "21b0b65108e04d58a77fe23bcac6e79b",
            "1a7723a0ca784eefb8ed0144e84394cc",
            "b4a489f2d154458b83f7f6d8b8dfb750",
            "479fe56e3ab144ada1a86d5c76e5d454",
            "c8360404de5f4ae7af0dc7bb9a19f1d5",
            "325e1de4892442cc9c9118c4fc6a0970",
            "4ca5f6429eb44fcdb5ba7bd3449f26d6",
            "0992937e3b5743b08af2dead78bf5bcf",
            "34e4e8f106fb4aeebc57e4477fd2d9d5",
            "b48a4e024a72499c8748fb5443cdd772",
            "000c70081363496bbd6f4f4db71b6719",
            "57f4a87503d441b6b0f4eba1492efbdc",
            "01c41f16c2e0471c8cb78ec551e89375",
            "43c92056d6dc4f6fb14b6b6ba0d00555",
            "4af0d8e5ad7f4acfa9fdac157584dafb",
            "f7967b75ee5a4412814a7f22b07c7e5d",
            "83f3971f714e4568ad19d51eb724d3db",
            "cb88fa16343049afa0db12d27676fe07",
            "8901099fffde4826a4304406c514abd1"
          ]
        },
        "id": "MEoiErY0Eu4D",
        "outputId": "e7a3646a-3a0f-4158-ebeb-f44ccf8ff408"
      },
      "execution_count": null,
      "outputs": [
        {
          "output_type": "display_data",
          "data": {
            "text/plain": [
              "  0%|          | 0/21401 [00:00<?, ?it/s]"
            ],
            "application/vnd.jupyter.widget-view+json": {
              "version_major": 2,
              "version_minor": 0,
              "model_id": "8169770ff9074fe99025fdc0766143f2"
            }
          },
          "metadata": {}
        },
        {
          "output_type": "display_data",
          "data": {
            "text/plain": [
              "  0%|          | 0/21401 [00:00<?, ?it/s]"
            ],
            "application/vnd.jupyter.widget-view+json": {
              "version_major": 2,
              "version_minor": 0,
              "model_id": "34e4e8f106fb4aeebc57e4477fd2d9d5"
            }
          },
          "metadata": {}
        }
      ]
    },
    {
      "cell_type": "code",
      "source": [
        "nb_words_text, nb_words_abstract = vocabulary_orangesum_article_['nbwords'], vocabulary_orangesum_abstract_['nbwords']\n",
        "print(f\"Number of words in OrangeSum (texts) vocabulary : {nb_words_text}\")\n",
        "print(f\"Number of words in OrangeSum (abstract) vocabulary : {nb_words_abstract} (ie {(nb_words_abstract/nb_words_text)*100:.2f}% of text vocabulary)\")"
      ],
      "metadata": {
        "colab": {
          "base_uri": "https://localhost:8080/"
        },
        "id": "B3m3WZp3PWdS",
        "outputId": "63d58ada-9b3a-46d8-b013-828a3d1a7940"
      },
      "execution_count": null,
      "outputs": [
        {
          "output_type": "stream",
          "name": "stdout",
          "text": [
            "Number of words in OrangeSum (texts) vocabulary : 188084\n",
            "Number of words in OrangeSum (abstract) vocabulary : 38448 (ie 20.44% of text vocabulary)\n"
          ]
        }
      ]
    },
    {
      "cell_type": "code",
      "source": [
        "def word_distribution (vocabulary, print_most_frequents = None, plot_title=None) : \n",
        "    \"\"\"\n",
        "    Plot word distribution within a given vocabulary\n",
        "    If print_most_frequents is an int, also print the print_most_frequents most frequent words\n",
        "    \"\"\"\n",
        "\n",
        "    dist_words = np.fromiter(vocabulary['counts'].values(), dtype='int')\n",
        "    dist_words_df = pd.DataFrame({'counts' : dist_words})\n",
        "    nb_total = dist_words_df['counts'].sum()\n",
        "    dist_words_df['freq'] = dist_words_df['counts'].apply(lambda x: x/nb_total)\n",
        "    dist_words_df = dist_words_df.sort_values('freq', ascending=False)\n",
        "\n",
        "    # Plot word distributions :\n",
        "    fig, ax = plt.subplots(1,1, figsize=(5,5))\n",
        "    ax.set_xscale('log')  # Using log scale\n",
        "    ax.set_yscale('log')\n",
        "    ax.plot(list(range(dist_words_df.shape[0])),dist_words_df['freq'])\n",
        "    ax.set_title('Word distribution' if plot_title is None else plot_title)\n",
        "    ax.set_xlabel('log(rank)')\n",
        "    ax.set_ylabel('log(frequency)')\n",
        "    plt.show()\n",
        "\n",
        "    # Print most frequent words : \n",
        "    if print_most_frequents is not None :\n",
        "        indices = np.argsort(dist_words)[:-print_most_frequents:-1]\n",
        "        most_frequents = np.array(list(vocabulary['stoi'].keys()))[indices]\n",
        "        print('Most frequent words :')\n",
        "        print(most_frequents)\n"
      ],
      "metadata": {
        "id": "im1p0XFMEzMM"
      },
      "execution_count": null,
      "outputs": []
    },
    {
      "cell_type": "code",
      "source": [
        "word_distribution(vocabulary_orangesum_article_, print_most_frequents=40, plot_title='Word distribution of articles') "
      ],
      "metadata": {
        "id": "m6Ah4RgjEVDA",
        "colab": {
          "base_uri": "https://localhost:8080/",
          "height": 462
        },
        "outputId": "6c1ee704-e18c-4530-92ed-21da8d1d3241"
      },
      "execution_count": null,
      "outputs": [
        {
          "output_type": "display_data",
          "data": {
            "text/plain": [
              "<Figure size 360x360 with 1 Axes>"
            ],
            "image/png": "[encoded data removed]"
          },
          "metadata": {}
        },
        {
          "output_type": "stream",
          "name": "stdout",
          "text": [
            "Most frequent words :\n",
            "['a' 'plus' 'cette' 'cest' 'france' 'selon' 'dun' 'ans' 'fait' 'dune'\n",
            " 'deux' 'comme' 'quil' 'depuis' 'après' 'tout' 'être' 'ministre' 'faire'\n",
            " 'personnes' 'très' 'aussi' 'contre' 'si' 'président' 'alors' 'avoir'\n",
            " 'sest' 'dont' 'entre' 'également' 'où' 'avant' 'atil' 'gouvernement'\n",
            " 'sans' 'encore' 'plusieurs' 'paris']\n"
          ]
        }
      ]
    },
    {
      "cell_type": "code",
      "source": [
        "word_distribution(vocabulary_orangesum_abstract_, print_most_frequents=40, plot_title='Word distribution of summaries') "
      ],
      "metadata": {
        "colab": {
          "base_uri": "https://localhost:8080/",
          "height": 462
        },
        "id": "t5fOYB0u8rBj",
        "outputId": "10e67bc4-75dc-4fd9-c250-6dd4d79f1bd7"
      },
      "execution_count": null,
      "outputs": [
        {
          "output_type": "display_data",
          "data": {
            "text/plain": [
              "<Figure size 360x360 with 1 Axes>"
            ],
            "image/png": "[encoded data removed]"
          },
          "metadata": {}
        },
        {
          "output_type": "stream",
          "name": "stdout",
          "text": [
            "Most frequent words :\n",
            "['a' 'france' 'après' 'plus' 'selon' 'dun' 'ans' 'dune' 'ministre' 'lundi'\n",
            " 'deux' 'mardi' 'mercredi' 'jeudi' 'paris' 'depuis' 'vendredi' 'contre'\n",
            " 'fait' 'président' 'dimanche' 'sest' 'samedi' 'coronavirus' 'avoir'\n",
            " 'annoncé' 'cette' 'gouvernement' 'alors' 'premier' 'quil' 'plusieurs'\n",
            " 'macron' 'français' 'comme' 'lors' 'mois' 'personnes' 'être']\n"
          ]
        }
      ]
    },
    {
      "cell_type": "markdown",
      "source": [
        "↪ A first remark is that we do not obtain the Zipf's law as clearly as in lab1 for instance, but the word distributions for summaries and articles seems to be similar, even if the summaries' vocabulary is smaller.\n",
        "\n",
        "↪ A surprising remark is that, in the most frequent words for both summaries and articles, there are still some 'stopwords', maybe due to the `word_tokenize` procedure (there is still words such as \"dun\", \"a\", \"sest\", ...)\n",
        "\n",
        "↪ The more important to notice in these outputs is that, within the most frequent words, the politic's topic is really present, with words such as \"president\", \"gouvernement\", \"ministre\". So we may think that our models, above all abstractive ones, which are trained as supervised methods, should be better in summarizing politics' articles than more factual sport ones for instance. \n",
        "\n",
        "↪ Moreover, within the most frequent words, some specific words such as \"coronavirus\" or \"Macron\" are present, so we can see that our models may be adapted to nowadays' topics, as coronavirus and Macron are actual references, but our models may become obsolet to summarize older or future articles. This is one usual source of hardness in NLP to deal with new words, that's why pre-existing wide vocabularies may be more useful to train our models than the ones built from scratch."
      ],
      "metadata": {
        "id": "QN7D2VRi_EQ4"
      }
    },
    {
      "cell_type": "markdown",
      "source": [
        "**2. Numbers :**"
      ],
      "metadata": {
        "id": "_5vbDUSlDN90"
      }
    },
    {
      "cell_type": "code",
      "source": [
        "import re"
      ],
      "metadata": {
        "id": "UZbUvNlxCbuH"
      },
      "execution_count": null,
      "outputs": []
    },
    {
      "cell_type": "code",
      "source": [
        "def stats_numbers (df, text_column='text') : \n",
        "    \"\"\"\n",
        "    Function that realizes statistics on numbers present in the given text columns.\n",
        "    To simplify, we just concentrate on all numbers (without separating floats, int, ...)\n",
        "    \"\"\" \n",
        "    # create an empty dataframe for our stats to not modify the input\n",
        "    n = len(df)\n",
        "    stats = pd.DataFrame({'idx':np.arange(n)})\n",
        "\n",
        "    # extract numbers of texts :\n",
        "    number_regex = r'[0-9]+[\\.,\\,]?[0-9]+'\n",
        "    stats['numbers'] = df[text_column].apply(lambda x : list(re.findall(number_regex, x)))\n",
        "    stats['nb_numbers'] = stats['numbers'].apply(lambda x : len(x))\n",
        "\n",
        "    # Plot : \n",
        "    fig, ax = plt.subplots(1,1, figsize=(5,5))\n",
        "    sns.histplot(data=stats, x=\"nb_numbers\", ax=ax, stat='density')\n",
        "    ax.set_title(f'Nb of numbers per text in text column {text_column}')\n",
        "    plt.show()"
      ],
      "metadata": {
        "id": "GDNE8qWVBjyW"
      },
      "execution_count": null,
      "outputs": []
    },
    {
      "cell_type": "code",
      "source": [
        "stats_numbers(df_orangesum_train)"
      ],
      "metadata": {
        "colab": {
          "base_uri": "https://localhost:8080/",
          "height": 351
        },
        "id": "7FPY_eV5C4zA",
        "outputId": "d743888a-eff8-4595-81e1-2f8ec3e6d975"
      },
      "execution_count": null,
      "outputs": [
        {
          "output_type": "display_data",
          "data": {
            "text/plain": [
              "<Figure size 360x360 with 1 Axes>"
            ],
            "image/png": "[encoded data removed]"
          },
          "metadata": {}
        }
      ]
    },
    {
      "cell_type": "code",
      "source": [
        "stats_numbers(df_orangesum_train, text_column='abstract')"
      ],
      "metadata": {
        "colab": {
          "base_uri": "https://localhost:8080/",
          "height": 351
        },
        "id": "QokXI61YDAdr",
        "outputId": "e71fa40d-ef18-41b0-c288-8a505019d6ef"
      },
      "execution_count": null,
      "outputs": [
        {
          "output_type": "display_data",
          "data": {
            "text/plain": [
              "<Figure size 360x360 with 1 Axes>"
            ],
            "image/png": "[encoded data removed]"
          },
          "metadata": {}
        }
      ]
    },
    {
      "cell_type": "markdown",
      "source": [
        "↪ The numbers are not that much present in the articles and summaries, regarding the fact that the number of words per article is up to 600 and per summary is up to 60.\n",
        "\n",
        "↪ However, our extractive methods can allow to easily extract numbers to put in the summary, but our abstractive models (at least for our from scratch tests), may have issues to deal with numbers are they are not part of a vocabulary."
      ],
      "metadata": {
        "id": "mhBPshJQDSoK"
      }
    },
    {
      "cell_type": "code",
      "source": [
        ""
      ],
      "metadata": {
        "id": "cg-rNmu5BVFE"
      },
      "execution_count": null,
      "outputs": []
    },
    {
      "cell_type": "code",
      "source": [
        ""
      ],
      "metadata": {
        "id": "nMD-yh4QPWfa"
      },
      "execution_count": null,
      "outputs": []
    },
    {
      "cell_type": "markdown",
      "source": [
        "### Topic description using a pretrained model - TO COMPLETE :"
      ],
      "metadata": {
        "id": "b1QO7xD_ZuHT"
      }
    },
    {
      "cell_type": "markdown",
      "source": [
        "To have an idea of the main topic of the articles of our corpus could be useful, for instance to compare the performance on our summarization model on different type of subjects that may be more or less factual, or to see if the main topic associated to our article is the same than the one associated to our generated summary. \n",
        "\n",
        "We used an already existing model found on Hugging Face : [`flaubert-mlsum-topic-classification`](https://huggingface.co/lincoln/flaubert-mlsum-topic-classification?text=La+bourse+de+paris+en+forte+baisse+apr%C3%A8s+que+des+canards+ont+envahit+le+parlement.). This is a classification model, trained on the french MLSUM dataset, which outputs a topic category within : \"Culture, Economie, Education, Environnement, Justice, Opinion, Politique, Société, Sport, Technologie\". \n",
        "\n",
        "Note that we didn't implement the topic modelization by ourselves as it was not the main purpose of our project, but we could have implemented an unsupervised topic modelling such as LDA ([Latent Dirichlet Allocation ](https://www.jmlr.org/papers/volume3/blei03a/blei03a.pdf)), which consists in finding the ."
      ],
      "metadata": {
        "id": "BzXl2VOet4Mi"
      }
    },
    {
      "cell_type": "markdown",
      "source": [
        "We follow here the instructions given in the [Hugging Face page](https://huggingface.co/lincoln/flaubert-mlsum-topic-classification?text=La+bourse+de+paris+en+forte+baisse+apr%C3%A8s+que+des+canards+ont+envahit+le+parlement.), so we do not have to deal with the pre-processing and tokenization, we re use the one given with the model :"
      ],
      "metadata": {
        "id": "1rjsBbGrwtza"
      }
    },
    {
      "cell_type": "code",
      "source": [
        "from transformers import AutoTokenizer, AutoModelForSequenceClassification\n",
        "from transformers import TextClassificationPipeline"
      ],
      "metadata": {
        "id": "wVWCWpnQwlyV"
      },
      "execution_count": null,
      "outputs": []
    },
    {
      "cell_type": "code",
      "source": [
        "model_name = 'lincoln/flaubert-mlsum-topic-classification'\n",
        "\n",
        "loaded_tokenizer = AutoTokenizer.from_pretrained(model_name)\n",
        "loaded_model = AutoModelForSequenceClassification.from_pretrained(model_name)\n",
        "\n",
        "topic_classifier = TextClassificationPipeline(model=loaded_model, tokenizer=loaded_tokenizer)"
      ],
      "metadata": {
        "colab": {
          "base_uri": "https://localhost:8080/",
          "height": 209,
          "referenced_widgets": [
            "72596a18a38441f5a10cdddc37e11026",
            "487632794e614f5885e78e1181413c80",
            "52416aebe6724fa59a824658268a20d9",
            "9afa58f097bb4a228467ad5bf665266e",
            "13484771d70e49479918fb76be9277bf",
            "444a1bb874a24f0d9eb7cdcbd3314cce",
            "2f39b88a510848fc90845865f65b822a",
            "8ceac9e1c41c43f4b21dccef6d6d58d7",
            "e56c5a35125144a7a5c6fd5ffbfa350f",
            "66b8dbdea7ba45cc8d4a96ad46c2b17e",
            "2f8aa58096024636a21f5d02e9759dcb",
            "6ab4346d461742e19251200ce95fe781",
            "522f70fcfdef490cab337b93b2b93255",
            "ca119915107f43d59ae989b4503c3796",
            "81b902eb896e4508b764cdfa3afc8601",
            "f359103edb634542a0ed8b4d9318a1df",
            "8caa488c76bb4a59a4e4ce79001d5db2",
            "b5d6687f978a41cc941c389e442e252e",
            "e106247261514f7bba17bf27fdb12865",
            "2645d1120b274822a7716b437a8ca255",
            "12ce10520df0443499b08e9b1fd8ebaf",
            "d7c996a8f5164d8fafeddf5c7fee454d",
            "53001caa529041409f26476480a3a098",
            "9c592784a031447e9e1347ae29f35f0f",
            "68bcf9e825934691943574f9957a3ac4",
            "88c46c7f1be84e158ae74defc3440cf6",
            "e7b3e40667cb420db84605c45cec219d",
            "7b3008b9a5ed4e8684d54dc246ab3485",
            "9742ee6ab40842f2a3dc56bade69af51",
            "316aeaf0b65f4d7697f7d9efbb753329",
            "e33b629b202442718e593e30ac48e937",
            "966a52f207054d04a002c12898f9ce52",
            "da14f65051dd493cbfc2cbfb946b9a2d",
            "ca74a47e723447deadd9776b48a63ba8",
            "897aff3ce564460181cf398615adfd9f",
            "bbf757f012bc443dabcd808a8e632858",
            "386d7d2a64fd4e1c95ac9124a85f0a70",
            "4ea79219fa88416ab05a5d6dfc5f5d0a",
            "f40b3d451029410ab8fd27e45bfd7d42",
            "9dc05e084db24a0fb85a3751b1d33efb",
            "96a8aa4aa361449fad5b3a2b52adef75",
            "017632aa6a95405897366c6b8796aa11",
            "c3c8181d77bd4d6fab67bc2c742ae2c7",
            "d06bdc68c48447c78822f6036fd5bb2d",
            "001b264ec92247949e35250936a39752",
            "2c76a2272af0431cb9b1adf34badeea6",
            "302079c2b53540cf9e1ca602486138b2",
            "97339008a6864b8e88eb7d656a433492",
            "31f58c663d594ca6a70a7cf92b614108",
            "b117227ee767425184edf4fec991b9c2",
            "5e91ca10774646adb339c4b82d3958b1",
            "66a0b8e5b1df4ef08378570ac5dd3b2a",
            "6daf3f3c815543a6827c507b784983f3",
            "ef80355b68444119854e09bf6c1d4a30",
            "64837af530244c6da030bedb3468d139",
            "86b3062d5ec04059a3585b0edcb9c134",
            "92f316e6e160450080d640cef451b571",
            "4e0f8a5e3ff944a2b07e5a441fe064f2",
            "03e92978c3a84da8878904595b395bb3",
            "98038abb788f48429c4a90ded5e65ad9",
            "af891f442d4e440e871804ea3e3103b6",
            "04cda20618844efe898e6c1d77e9fe38",
            "09fe157713eb49c8b571f4bd8d789e83",
            "35daea571bff4419acacb671fcbeb14b",
            "96b3fb0bb35849aa9d5fca050f1cf738",
            "75fb6b7b3368442f921e225f59a490c0"
          ]
        },
        "id": "h7GwyEE9whtD",
        "outputId": "36c526cc-e4e4-42de-d0a1-4927664330c4"
      },
      "execution_count": null,
      "outputs": [
        {
          "output_type": "display_data",
          "data": {
            "text/plain": [
              "Downloading:   0%|          | 0.00/492 [00:00<?, ?B/s]"
            ],
            "application/vnd.jupyter.widget-view+json": {
              "version_major": 2,
              "version_minor": 0,
              "model_id": "72596a18a38441f5a10cdddc37e11026"
            }
          },
          "metadata": {}
        },
        {
          "output_type": "display_data",
          "data": {
            "text/plain": [
              "Downloading:   0%|          | 0.00/1.25M [00:00<?, ?B/s]"
            ],
            "application/vnd.jupyter.widget-view+json": {
              "version_major": 2,
              "version_minor": 0,
              "model_id": "6ab4346d461742e19251200ce95fe781"
            }
          },
          "metadata": {}
        },
        {
          "output_type": "display_data",
          "data": {
            "text/plain": [
              "Downloading:   0%|          | 0.00/561k [00:00<?, ?B/s]"
            ],
            "application/vnd.jupyter.widget-view+json": {
              "version_major": 2,
              "version_minor": 0,
              "model_id": "53001caa529041409f26476480a3a098"
            }
          },
          "metadata": {}
        },
        {
          "output_type": "display_data",
          "data": {
            "text/plain": [
              "Downloading:   0%|          | 0.00/305 [00:00<?, ?B/s]"
            ],
            "application/vnd.jupyter.widget-view+json": {
              "version_major": 2,
              "version_minor": 0,
              "model_id": "ca74a47e723447deadd9776b48a63ba8"
            }
          },
          "metadata": {}
        },
        {
          "output_type": "display_data",
          "data": {
            "text/plain": [
              "Downloading:   0%|          | 0.00/1.99k [00:00<?, ?B/s]"
            ],
            "application/vnd.jupyter.widget-view+json": {
              "version_major": 2,
              "version_minor": 0,
              "model_id": "001b264ec92247949e35250936a39752"
            }
          },
          "metadata": {}
        },
        {
          "output_type": "display_data",
          "data": {
            "text/plain": [
              "Downloading:   0%|          | 0.00/527M [00:00<?, ?B/s]"
            ],
            "application/vnd.jupyter.widget-view+json": {
              "version_major": 2,
              "version_minor": 0,
              "model_id": "86b3062d5ec04059a3585b0edcb9c134"
            }
          },
          "metadata": {}
        }
      ]
    },
    {
      "cell_type": "code",
      "source": [
        "def topic_description (df, text_column='text', title_plot=None) : \n",
        "    \"\"\"\n",
        "    Use flaubert-mlsum-topic-classification to assign a main topic to each article in df[text_column],\n",
        "    stored in df[f'main_topic_{text_column}'],\n",
        "    and plot the proportion of each topic in the corpus.\n",
        "\n",
        "    !!! : execution might be really long...\n",
        "    \"\"\"\n",
        "\n",
        "    # Creation of a new column in df to store the main topic : \n",
        "    new_column = 'main_topic_'+text_column\n",
        "    df[new_column] = df[text_column].progress_apply(lambda x : topic_classifier(x, truncation=True)[0]['label'])\n",
        "\n",
        "    # Computation of proportion of each topic in the corpus :\n",
        "    stats_topics = df[[new_column,text_column]].groupby(new_column).count().reset_index()\n",
        "    stats_topics[text_column] = stats_topics[text_column] *100 / stats_topics[text_column].sum() \n",
        "\n",
        "    # Plot in horizontal barplot :\n",
        "    fig,ax = plt.subplots(1,1,figsize=(6,4))\n",
        "    sns.barplot(data=stats_topics, x=text_column, y=new_column, orient='h', ax=ax, palette=\"Set2\")\n",
        "      # Titles :\n",
        "    ax.set_xlabel('Proportion in the corpus (%)')\n",
        "    ax.set_ylabel('Main topic')\n",
        "    if title_plot is None :\n",
        "        fig.suptitle(f'Main topic of column {text_column} in the corpus')\n",
        "    else :\n",
        "        fig.suptitle(title_plot)\n",
        "    # Annotations : \n",
        "    for p in ax.patches:\n",
        "        width = p.get_width()\n",
        "        plt.text(4+p.get_width(), p.get_y()+0.55*p.get_height(),\n",
        "                '{:1.1f}%'.format(width), ha='center', va='center')"
      ],
      "metadata": {
        "id": "Ds_dPuP_Sdy9"
      },
      "execution_count": null,
      "outputs": []
    },
    {
      "cell_type": "markdown",
      "source": [
        "Run on the $500$ first news article of our train set (computation time being very long...) :"
      ],
      "metadata": {
        "id": "u3ZqZkvJxteL"
      }
    },
    {
      "cell_type": "code",
      "source": [
        "# df_orangesum_train_500 = df_orangesum_train.copy()[:500] \n",
        "# topic_description(df_orangesum_train_500) "
      ],
      "metadata": {
        "colab": {
          "base_uri": "https://localhost:8080/",
          "height": 326
        },
        "id": "BbIpCESquEIj",
        "outputId": "f77f549c-8d91-4961-a766-9d8bfcedfddd"
      },
      "execution_count": null,
      "outputs": [
        {
          "output_type": "stream",
          "name": "stderr",
          "text": [
            "100%|██████████| 500/500 [10:52<00:00,  1.30s/it]\n"
          ]
        },
        {
          "output_type": "display_data",
          "data": {
            "text/plain": [
              "<Figure size 432x288 with 1 Axes>"
            ],
            "image/png": "[encoded data removed]"
          },
          "metadata": {}
        }
      ]
    },
    {
      "cell_type": "markdown",
      "source": [
        "$\\hookrightarrow$ It seems that, at least in the first articles of the corpus, the main topics are society and politics, that is to say mainly \"abstractive\" and \"subjective\" subjects. It may be harder for the model to understand the opinion within the articles, it can be something to evaluate on our models. Note that this is in adequation with the observation made on the most frequent words in the previous subsection."
      ],
      "metadata": {
        "id": "qY3Fbgx6jriN"
      }
    },
    {
      "cell_type": "markdown",
      "source": [
        "We can also try to see if the main topic attributed to the articles are the same to the ones attributed to the abstracts :"
      ],
      "metadata": {
        "id": "6ru3OwMHx53a"
      }
    },
    {
      "cell_type": "code",
      "source": [
        "# df_orangesum_train_500['main_topic_abstract'] = df_orangesum_train_500['abstract'].progress_apply(lambda x : topic_classifier(x, truncation=True)[0]['label'])\n",
        "# prop_match = (df_orangesum_train_500['main_topic_text']==df_orangesum_train_500['main_topic_abstract']).mean()*100\n",
        "\n",
        "# print(f'Proportion of article-summary pairs with same main topic in the 500 first articles : {prop_match} %')"
      ],
      "metadata": {
        "colab": {
          "base_uri": "https://localhost:8080/"
        },
        "id": "k_eoPzqRuUB8",
        "outputId": "320755df-9a48-4b36-a7be-950f282acd00"
      },
      "execution_count": null,
      "outputs": [
        {
          "output_type": "stream",
          "name": "stderr",
          "text": [
            "100%|██████████| 500/500 [01:30<00:00,  5.54it/s]"
          ]
        },
        {
          "output_type": "stream",
          "name": "stdout",
          "text": [
            "Proportion of article-summary pairs with same main topic in the 500 first articles : 74.8 %\n"
          ]
        },
        {
          "output_type": "stream",
          "name": "stderr",
          "text": [
            "\n"
          ]
        }
      ]
    },
    {
      "cell_type": "markdown",
      "source": [
        "↪ This is quite satisfying, and may be a possible idea to evaluate our generated summaries in the experiments' section."
      ],
      "metadata": {
        "id": "E1G8QINcERY_"
      }
    },
    {
      "cell_type": "code",
      "source": [
        ""
      ],
      "metadata": {
        "id": "EuJmi2qiwbrL"
      },
      "execution_count": null,
      "outputs": []
    },
    {
      "cell_type": "code",
      "source": [
        ""
      ],
      "metadata": {
        "id": "ZMSLHYR7vPVJ"
      },
      "execution_count": null,
      "outputs": []
    },
    {
      "cell_type": "markdown",
      "source": [
        "## Extractive models :"
      ],
      "metadata": {
        "id": "ModqFBq3SeA2"
      }
    },
    {
      "cell_type": "markdown",
      "source": [
        " ### TextRank algorithm"
      ],
      "metadata": {
        "id": "kT40Ze7_huG6"
      }
    },
    {
      "cell_type": "markdown",
      "source": [
        "The first \"naive\" approach to address the text summarization task is an **extractive** method. It's an unsupervised model, which will try to identify the most revelant sentences in a given document, and will build a summary by extracting them. We will then obtain a summary composed of a \"patchwork\" of sentences from the article, we won't \"generate new sentences\"."
      ],
      "metadata": {
        "id": "oe2nOQcE509p"
      }
    },
    {
      "cell_type": "markdown",
      "source": [
        "\n",
        "\n",
        "**TextRank algorithm :**\n",
        "\n",
        "We have chosen to implement the [TextRank](https://aclanthology.org/W04-3252.pdf) algorithm, which is similar to the PageRank algorithm proposed by Google, but applied here to the scoring of the sentences of a text. Here are the main steps of the algorithm, which will turn our problem into a graph problem :  \n",
        "\n",
        "1. Identify text units that best define the task at hand, that is to say the sentences in our case, and add them as vertices in our graph.\n",
        "2. Compute a similarity matrix between the sentences of our text, which will correspond to the weights given to each edges of our graph. Here are some possibilities for the choice of similarity measure between two sentences $S_i = w^i_1 ... w^i_{N_i}$ and $S_j = w^j_1 ... w^j_{N_j}$ :     \n",
        "  * The similarity measure initially proposed by the TextRank article simply corresponds to the lenght of the overlapping content of both sentences : $$Similarity(S_i,S_j) = \\frac{|\\{w_k : w_k \\in S_i \\& w_k \\in S_j \\}|}{\\log(|S_i|) + \\log(|S_j|)}$$\n",
        "  * If we use embedding techniques to transform our sentences into vectors $s_i, s_j \\in \\mathbb{R}^d$, we can for instance use the cosine similarity, defined by : $$Similarity(s_i,s_j) = \\frac{<s_i,s_j>}{\\|s_i\\|\\|s_j\\|}$$\n",
        "\n",
        "3. Iterate the graph-based ranking algorithm until convergence :\n",
        "  - The score attributed to each sentence $S_i$ according to the weight of its edges defined in the previous step can be summed up into : $$Score(S_i) = (1-\\gamma) + \\gamma * \\sum_{j \\neq i} \\left( \\frac{Similarity(S_i,S_j)}{ \\sum_{k \\neq j} Similarity(S_k,S_j) } \\right) Score(S_j) $$ with $\\gamma \\in (0,1)$ (authors recommand to choose $\\gamma=0.85$). \n",
        "  - The previous score being non explicit, we initialize the scores of every sentence randomly, and apply the previous formula until convergence to obtain the final scores. \n",
        "\n",
        "4. Sort vertices based on their final score. Build then a summary by keeping the $x$ sentences with highest score, $x$ being chosen by the user.\n",
        "\n",
        "---\n",
        "**Pros :**\n",
        "- The summary is only constructed regarding the given article, no additionnal training on an entire dataset is needed.\n",
        "\n",
        "**Cons :**\n",
        "- Sentences extracted from the text, which results in a \"patchwork\" not always coherent (pronouns, ...)\n",
        "- May have issues for text composed of very long sentences.\n",
        "---\n",
        "\n",
        "\n",
        "\n"
      ],
      "metadata": {
        "id": "5ijOxw2TSvAW"
      }
    },
    {
      "cell_type": "markdown",
      "source": [
        "#### Model definition :"
      ],
      "metadata": {
        "id": "hOls7k9R_O0n"
      }
    },
    {
      "cell_type": "code",
      "source": [
        "from gensim.models import Word2Vec\n",
        "from scipy import spatial"
      ],
      "metadata": {
        "id": "eee_8fX0-QXt"
      },
      "execution_count": null,
      "outputs": []
    },
    {
      "cell_type": "code",
      "source": [
        "class TextRank () :\n",
        "\n",
        "    def __init__ (self, gamma=0.85, max_iter=100, tol=1e-16) :\n",
        "        self.gamma = gamma\n",
        "        self.max_iter = max_iter\n",
        "        self.tol = tol\n",
        "\n",
        "\n",
        "    def get_similarity_matrix (self, text) : \n",
        "        \"\"\"\n",
        "        Implementation of the following \"simple\" method : \n",
        "          - use Word2Vec with 1 embedding dimension on each word of each sentence\n",
        "            as a Seq2Vec model\n",
        "          - use cosine similarity on the obtain sequences' vectors\n",
        "        \"\"\"\n",
        "        tok_text = tokenize_clean_text(text)\n",
        "\n",
        "        # Construction of text embeddings :\n",
        "        w2v = Word2Vec(tok_text, size=1, min_count=1, iter=1000)\n",
        "        text_embeddings=[[w2v[word][0] for word in words] for words in tok_text]\n",
        "        max_len=max([len(tokens) for tokens in tok_text])\n",
        "        text_embeddings = [np.pad(embedding,(0,max_len-len(embedding)),'constant') for embedding in text_embeddings]\n",
        "\n",
        "        # Construction of similarity matrix : \n",
        "        nb_sentences = len(tok_text)\n",
        "        similarity_matrix = np.zeros((nb_sentences,nb_sentences))\n",
        "        for i,row_embedding in enumerate(text_embeddings):\n",
        "            for j,column_embedding in enumerate(text_embeddings):\n",
        "                similarity_matrix[i][j]=1-spatial.distance.cosine(row_embedding,column_embedding)\n",
        "\n",
        "        return similarity_matrix\n",
        "\n",
        "\n",
        "    def get_scores (self, similarity_matrix) : \n",
        "        # similarity matrix : SM, symmetric, with SM_{ij} = Similarity(S_i, S_j) and SM_{ii} = 0 (shape n x n)\n",
        "        # output : scores attributed to each sentence (shape n)\n",
        "\n",
        "        n = similarity_matrix.shape[0]\n",
        "        # normalization of the similarity matrix by column :\n",
        "        similarity = similarity_matrix / similarity_matrix.sum(axis=0)\n",
        "\n",
        "        # Initialization of the scores : \n",
        "        scores = np.full(shape=n, fill_value=1/n) \n",
        "        error,iter = self.tol + 1, 0\n",
        "\n",
        "        # Iteration of the algorithm : \n",
        "        while (error > self.tol) and (iter < self.max_iter) : \n",
        "            last_scores = scores.copy()\n",
        "\n",
        "            # Iteration of the score formula :\n",
        "            scores = np.dot(similarity , scores) * self.gamma + (1-self.gamma)\n",
        "\n",
        "            # Computation of the error : \n",
        "            error = np.sum(abs(scores-last_scores))\n",
        "            iter += 1\n",
        "\n",
        "        # Normalization of the final scores :\n",
        "        scores = scores / scores.sum()\n",
        "        return scores\n",
        "\n",
        "    def print_scores (self, text_sentences, scores) : \n",
        "        \"\"\"\n",
        "        Print given text_sentences with colors coresponding to their scores. \n",
        "        \"\"\"\n",
        "        on_colors = ['on_blue', 'on_cyan', 'on_green', 'on_yellow', 'on_magenta', 'on_red']\n",
        "\n",
        "        indices = np.argsort(scores)\n",
        "\n",
        "        # Attribution of colors :\n",
        "        k_update = len(indices) // 6\n",
        "        on_colors_ind = [0 for i in range(len(indices))]\n",
        "        scores_bornes = []\n",
        "        score_inf = 0\n",
        "        on_color_id = 0\n",
        "        k = 0\n",
        "        for i in indices : \n",
        "          on_colors_ind[i] = on_color_id\n",
        "          k += 1 \n",
        "          if k >= k_update : \n",
        "            scores_bornes.append(f\"{score_inf:.5f}-{scores[i]:.5f}\")\n",
        "            score_inf = scores[i]\n",
        "            k = 0\n",
        "            on_color_id +=1\n",
        "\n",
        "        # Prints :\n",
        "        print('Scale of scores :')\n",
        "        print(' '.join( (colored(scores_bornes[k], 'white' , on_color) \n",
        "                        for k, on_color in enumerate(on_colors))))\n",
        "        print('-'*200)\n",
        "        print('\\n'.join( (colored(text_sentences[k], 'white' , on_colors[on_colors_ind])\n",
        "          for k, on_colors_ind in enumerate(on_colors_ind))))\n",
        "\n",
        "\n",
        "    def summarize__ (self, text, nb_summary_seq = 2, print_score=False) : \n",
        "        similarity_matrix = self.get_similarity_matrix(text)\n",
        "        scores = self.get_scores(similarity_matrix) \n",
        "\n",
        "        indices_best = np.argsort(scores)[:-(nb_summary_seq+1):-1]\n",
        "        text_sentences = np.array(sent_tokenize(text))\n",
        "        summary = ''.join(text_sentences[indices_best])\n",
        "\n",
        "        if print_score : \n",
        "            self.print_scores(text_sentences, scores)\n",
        "\n",
        "        return summary\n"
      ],
      "metadata": {
        "id": "4M0Jg2EW6yPw"
      },
      "execution_count": null,
      "outputs": []
    },
    {
      "cell_type": "markdown",
      "source": [
        "#### Example of prediction : "
      ],
      "metadata": {
        "id": "xiZhNL-LiqYE"
      }
    },
    {
      "cell_type": "code",
      "source": [
        "text = dataset_orangesum['train'][2]['input']\n",
        "summary_real = dataset_orangesum['train'][2]['target']"
      ],
      "metadata": {
        "id": "tAWq8oFUixqm"
      },
      "execution_count": null,
      "outputs": []
    },
    {
      "cell_type": "markdown",
      "source": [
        "Generation of the summary  :"
      ],
      "metadata": {
        "id": "GjfRph5qLuka"
      }
    },
    {
      "cell_type": "code",
      "source": [
        "summary_generated = TextRank().summarize__(text)"
      ],
      "metadata": {
        "id": "qztIJ4KG_A3t",
        "colab": {
          "base_uri": "https://localhost:8080/"
        },
        "outputId": "95e2e7a2-c14b-413e-eb8d-f914f4866c8e"
      },
      "execution_count": null,
      "outputs": [
        {
          "output_type": "stream",
          "name": "stderr",
          "text": [
            "/usr/local/lib/python3.7/dist-packages/ipykernel_launcher.py:20: DeprecationWarning: Call to deprecated `__getitem__` (Method will be removed in 4.0.0, use self.wv.__getitem__() instead).\n"
          ]
        }
      ]
    },
    {
      "cell_type": "code",
      "source": [
        "summary_real"
      ],
      "metadata": {
        "colab": {
          "base_uri": "https://localhost:8080/",
          "height": 70
        },
        "id": "vPpp2Vb5muNY",
        "outputId": "c2b5933f-a0b7-4208-d539-5ceca4eeef5a"
      },
      "execution_count": null,
      "outputs": [
        {
          "output_type": "execute_result",
          "data": {
            "text/plain": [
              "'En 2020, les tribunaux d\\'instance fusionnent avec ceux de grande instance pour former un unique \"tribunal judiciaire\". C\\'est la principale mesure de la réforme de la Justice, portée par la garde des sceaux Nicole Belloubet.\\n'"
            ],
            "application/vnd.google.colaboratory.intrinsic+json": {
              "type": "string"
            }
          },
          "metadata": {},
          "execution_count": 47
        }
      ]
    },
    {
      "cell_type": "code",
      "source": [
        "summary_generated"
      ],
      "metadata": {
        "colab": {
          "base_uri": "https://localhost:8080/",
          "height": 105
        },
        "id": "m7UxAudfl_XZ",
        "outputId": "e5a40712-2fe1-452e-dd90-ed343dc4d29d"
      },
      "execution_count": null,
      "outputs": [
        {
          "output_type": "execute_result",
          "data": {
            "text/plain": [
              "'Alors que les particuliers pouvaient se présenter directement au greffe du tribunal d\\'instance pour déposer leur requête, la réforme renforce le recours accru aux procédures dématérialisées et étend la représentation obligatoire par un avocat.Elle ne serait \"pas étonnée\" que le gouvernement ait souhaité \"différer des annonces\" selon les résultats électoraux de La République en marche dans les communes concernées, comme l\\'écrivait Le Canard enchaîné dans une série d\\'articles fin octobre.'"
            ],
            "application/vnd.google.colaboratory.intrinsic+json": {
              "type": "string"
            }
          },
          "metadata": {},
          "execution_count": 48
        }
      ]
    },
    {
      "cell_type": "markdown",
      "source": [
        "ROUGE scores between text and summary :"
      ],
      "metadata": {
        "id": "jlRAcnziLldb"
      }
    },
    {
      "cell_type": "code",
      "source": [
        "Rouge().get_scores(summary_generated, summary_real, avg=True)"
      ],
      "metadata": {
        "id": "KLBIve4FxBEV",
        "colab": {
          "base_uri": "https://localhost:8080/"
        },
        "outputId": "60ce2e2b-9614-45f2-8567-22ffb6a2cdf3"
      },
      "execution_count": null,
      "outputs": [
        {
          "output_type": "execute_result",
          "data": {
            "text/plain": [
              "{'rouge-1': {'f': 0.18749999562717026,\n",
              "  'p': 0.13846153846153847,\n",
              "  'r': 0.2903225806451613},\n",
              " 'rouge-2': {'f': 0.019230764829882663,\n",
              "  'p': 0.014285714285714285,\n",
              "  'r': 0.029411764705882353},\n",
              " 'rouge-l': {'f': 0.18749999562717026,\n",
              "  'p': 0.13846153846153847,\n",
              "  'r': 0.2903225806451613}}"
            ]
          },
          "metadata": {},
          "execution_count": 116
        }
      ]
    },
    {
      "cell_type": "markdown",
      "source": [
        "We can also print the scores attributed to each sentence of the initial text : "
      ],
      "metadata": {
        "id": "vAGaFh5eLoNS"
      }
    },
    {
      "cell_type": "code",
      "source": [
        "summary_generated = TextRank().summarize__(text, print_score=True)"
      ],
      "metadata": {
        "colab": {
          "base_uri": "https://localhost:8080/"
        },
        "id": "8xHGvlEqLtan",
        "outputId": "87f1826a-5bc6-4730-fb9b-b39501d82aab"
      },
      "execution_count": null,
      "outputs": [
        {
          "output_type": "stream",
          "name": "stdout",
          "text": [
            "Scale of scores :\n",
            "\u001b[44m\u001b[37m0.00000-0.03562\u001b[0m \u001b[46m\u001b[37m0.03562-0.04170\u001b[0m \u001b[42m\u001b[37m0.04170-0.04295\u001b[0m \u001b[43m\u001b[37m0.04295-0.04392\u001b[0m \u001b[45m\u001b[37m0.04392-0.04448\u001b[0m \u001b[41m\u001b[37m0.04448-0.04497\u001b[0m\n",
            "--------------------------------------------------------------------------------------------------------------------------------------------------------------------------------------------------------\n",
            "\u001b[44m\u001b[37mLa mesure est décriée par les avocats et les magistrats.\u001b[0m\n",
            "\u001b[45m\u001b[37mJuridictions de proximité par excellence, traitant les litiges du quotidien, les tribunaux d'instance s'apprêtent à fusionner avec les tribunaux de grande instance.\u001b[0m\n",
            "\u001b[43m\u001b[37mCette réorganisation est l'une des principales mesures de la réforme de la justice, promulguée le 23 mars.\u001b[0m\n",
            "\u001b[43m\u001b[37mLes professionnels s'inquiètent d'une dévitalisation de ces petites juridictions et d'un accès plus restreint au juge.\u001b[0m\n",
            "\u001b[46m\u001b[37mRéforme de la justice : pourquoi les avocats, magistrats et greffe sont-ils en colère ?par Le Dauphiné LibéréDepuis 1958, les tribunaux d'instance (TI) et les tribunaux de grande instance (TGI) se partageaient les contentieux civils, selon une répartition essentiellement fondée sur le montant du litige.\u001b[0m\n",
            "\u001b[46m\u001b[37mHéritiers des juges de paix, les juges d'instance - surnommés \"les juges des pauvres\" - tranchaient toutes les affaires pour lesquelles la demande portait sur des sommes inférieures à 10.000 euros, des expulsions locatives aux dettes impayées, en passant par les travaux mal exécutés et les conflits liés aux accidents de la circulation.\u001b[0m\n",
            "\u001b[44m\u001b[37mIls étaient également compétents pour les tutelles.\u001b[0m\n",
            "\u001b[42m\u001b[37mAu 1er janvier, les 285 tribunaux d'instance disparaissent, ainsi que les 164 TGI de France.Recours accru aux procédures dématérialisées Quand un tribunal d'instance est situé dans la même commune qu'un TGI (57 % des TI sont concernés par cette situation), ils fusionnent pour former le \"tribunal judiciaire\".\u001b[0m\n",
            "\u001b[42m\u001b[37mQuand le TI est situé dans une commune différente, comme à Ivry-sur-Seine (Val-de-Marne), Condom (Gers) ou Molsheim (Bas-Rhin), il devient une chambre détachée du tribunal judiciaire et est appelé \"tribunal de proximité\".\u001b[0m\n",
            "\u001b[41m\u001b[37mAlors que les particuliers pouvaient se présenter directement au greffe du tribunal d'instance pour déposer leur requête, la réforme renforce le recours accru aux procédures dématérialisées et étend la représentation obligatoire par un avocat.\u001b[0m\n",
            "\u001b[42m\u001b[37mExit aussi le juge d'instance, qui s'appellera désormais \"juge des contentieux de la protection\".\u001b[0m\n",
            "\u001b[43m\u001b[37mIl restera un magistrat spécialisé dans les affaires liées aux vulnérabilités économiques et sociales, la garde des Sceaux ayant dû renoncer à supprimer cette fonction statutaire devant la bronca des opposants à la réforme.Des compétences ajoutés par décret Quid de leurs compétences ?\u001b[0m\n",
            "\u001b[46m\u001b[37mLes deux principaux syndicats de magistrats dénoncent \"le flou\" autour de la question.\u001b[0m\n",
            "\u001b[41m\u001b[37mLa loi facilite la création de pôles spécialisés dans les départements ayant plusieurs tribunaux de grande instance et permet d'attribuer des compétences supplémentaires aux tribunaux de proximité pour mieux \"s'adapter aux besoins particuliers des territoires\", souligne le ministère de la Justice.\u001b[0m\n",
            "\u001b[45m\u001b[37mCes ajouts de compétences et ces spécialisations seront décidés par décrets après propositions des chefs de cours d'appel, mais \"sans calendrier précis\" relèvent l'Union syndicale des magistrats (USM) et le Syndicat de la magistrature (SM).\u001b[0m\n",
            "\u001b[44m\u001b[37m\"C'est le plus gros bouleversement.\u001b[0m\n",
            "\u001b[46m\u001b[37mEst-ce que beaucoup de cabinets de juges d'instruction vont être supprimés ?\u001b[0m\n",
            "\u001b[44m\u001b[37mDe juges d'application des peines ?\u001b[0m\n",
            "\u001b[43m\u001b[37mOn ne sait pas, on n'a aucune visibilité\", tacle la présidente de l'USM, Céline Parisot.\u001b[0m\n",
            "\u001b[41m\u001b[37mDes calculs électoraux\"Nos collègues ne savent pas ce que les chefs de cour ont proposé à la ministre\", abonde Katia Dubreuil, présidente du SM, déplorant une \"absence de concertation\".\u001b[0m\n",
            "\u001b[41m\u001b[37mElle ne serait \"pas étonnée\" que le gouvernement ait souhaité \"différer des annonces\" selon les résultats électoraux de La République en marche dans les communes concernées, comme l'écrivait Le Canard enchaîné dans une série d'articles fin octobre.\u001b[0m\n",
            "\u001b[42m\u001b[37mEmpêtrée dans cette polémique, la ministre s'est bornée à se défendre de toute partialité.Déplorant une fusion conduite \"à l'aveugle\" et \"dans la précipitation\", les syndicats de magistrats voient une volonté de faire des \"économies d'échelle\", en mutualisant les effectifs de greffes des tribunaux, mais aussi des tribunaux et des conseils de prud'hommes.\u001b[0m\n",
            "\u001b[45m\u001b[37mEt malgré l'insistance de la garde des Sceaux à répéter que tous les sites seront maintenus, les syndicats redoutent que cette réforme soit le prélude à une refonte de la carte judiciaire, où des tribunaux de proximité, vidés de leur substance, finiraient par fermer.\u001b[0m\n",
            "\u001b[45m\u001b[37mDepuis l'annonce de cette fusion il y a près de deux ans, la garde des Sceaux Nicole Belloubet invoque la nécessité de \"simplification\" et de \"lisibilité\", avec \"une porte d'entrée unique à la justice\".\u001b[0m\n"
          ]
        },
        {
          "output_type": "stream",
          "name": "stderr",
          "text": [
            "/usr/local/lib/python3.7/dist-packages/ipykernel_launcher.py:20: DeprecationWarning: Call to deprecated `__getitem__` (Method will be removed in 4.0.0, use self.wv.__getitem__() instead).\n"
          ]
        }
      ]
    },
    {
      "cell_type": "markdown",
      "source": [
        "### Comparaison with a clustering algorithm based on BERT's embeddings: "
      ],
      "metadata": {
        "id": "NQ_9bXNXK6mb"
      }
    },
    {
      "cell_type": "markdown",
      "source": [
        "BERT (Bidirectional Encoder Representations from Transformers) is a transformer presented by researchers at Google AI Language. It is a pre-trained model that is naturally bidirectional and that can be useful in many natural language tasks. We decided to compare our model for summarization to the BERT model which is widely used."
      ],
      "metadata": {
        "id": "u6xKwFkyMK_R"
      }
    },
    {
      "cell_type": "code",
      "source": [
        "pip install bert-extractive-summarizer"
      ],
      "metadata": {
        "id": "9h3Nfb9QMXgk",
        "colab": {
          "base_uri": "https://localhost:8080/"
        },
        "outputId": "a5a01d88-18f9-4912-def8-05d299c69e92"
      },
      "execution_count": null,
      "outputs": [
        {
          "output_type": "stream",
          "name": "stdout",
          "text": [
            "Collecting bert-extractive-summarizer\n",
            "  Downloading bert_extractive_summarizer-0.10.1-py3-none-any.whl (25 kB)\n",
            "Requirement already satisfied: spacy in /usr/local/lib/python3.7/dist-packages (from bert-extractive-summarizer) (2.2.4)\n",
            "Requirement already satisfied: scikit-learn in /usr/local/lib/python3.7/dist-packages (from bert-extractive-summarizer) (1.0.2)\n",
            "Requirement already satisfied: transformers in /usr/local/lib/python3.7/dist-packages (from bert-extractive-summarizer) (4.18.0)\n",
            "Requirement already satisfied: threadpoolctl>=2.0.0 in /usr/local/lib/python3.7/dist-packages (from scikit-learn->bert-extractive-summarizer) (3.1.0)\n",
            "Requirement already satisfied: joblib>=0.11 in /usr/local/lib/python3.7/dist-packages (from scikit-learn->bert-extractive-summarizer) (1.1.0)\n",
            "Requirement already satisfied: scipy>=1.1.0 in /usr/local/lib/python3.7/dist-packages (from scikit-learn->bert-extractive-summarizer) (1.4.1)\n",
            "Requirement already satisfied: numpy>=1.14.6 in /usr/local/lib/python3.7/dist-packages (from scikit-learn->bert-extractive-summarizer) (1.21.6)\n",
            "Requirement already satisfied: catalogue<1.1.0,>=0.0.7 in /usr/local/lib/python3.7/dist-packages (from spacy->bert-extractive-summarizer) (1.0.0)\n",
            "Requirement already satisfied: plac<1.2.0,>=0.9.6 in /usr/local/lib/python3.7/dist-packages (from spacy->bert-extractive-summarizer) (1.1.3)\n",
            "Requirement already satisfied: tqdm<5.0.0,>=4.38.0 in /usr/local/lib/python3.7/dist-packages (from spacy->bert-extractive-summarizer) (4.64.0)\n",
            "Requirement already satisfied: srsly<1.1.0,>=1.0.2 in /usr/local/lib/python3.7/dist-packages (from spacy->bert-extractive-summarizer) (1.0.5)\n",
            "Requirement already satisfied: blis<0.5.0,>=0.4.0 in /usr/local/lib/python3.7/dist-packages (from spacy->bert-extractive-summarizer) (0.4.1)\n",
            "Requirement already satisfied: cymem<2.1.0,>=2.0.2 in /usr/local/lib/python3.7/dist-packages (from spacy->bert-extractive-summarizer) (2.0.6)\n",
            "Requirement already satisfied: setuptools in /usr/local/lib/python3.7/dist-packages (from spacy->bert-extractive-summarizer) (57.4.0)\n",
            "Requirement already satisfied: requests<3.0.0,>=2.13.0 in /usr/local/lib/python3.7/dist-packages (from spacy->bert-extractive-summarizer) (2.23.0)\n",
            "Requirement already satisfied: wasabi<1.1.0,>=0.4.0 in /usr/local/lib/python3.7/dist-packages (from spacy->bert-extractive-summarizer) (0.9.1)\n",
            "Requirement already satisfied: preshed<3.1.0,>=3.0.2 in /usr/local/lib/python3.7/dist-packages (from spacy->bert-extractive-summarizer) (3.0.6)\n",
            "Requirement already satisfied: murmurhash<1.1.0,>=0.28.0 in /usr/local/lib/python3.7/dist-packages (from spacy->bert-extractive-summarizer) (1.0.6)\n",
            "Requirement already satisfied: thinc==7.4.0 in /usr/local/lib/python3.7/dist-packages (from spacy->bert-extractive-summarizer) (7.4.0)\n",
            "Requirement already satisfied: importlib-metadata>=0.20 in /usr/local/lib/python3.7/dist-packages (from catalogue<1.1.0,>=0.0.7->spacy->bert-extractive-summarizer) (4.11.3)\n",
            "Requirement already satisfied: typing-extensions>=3.6.4 in /usr/local/lib/python3.7/dist-packages (from importlib-metadata>=0.20->catalogue<1.1.0,>=0.0.7->spacy->bert-extractive-summarizer) (4.1.1)\n",
            "Requirement already satisfied: zipp>=0.5 in /usr/local/lib/python3.7/dist-packages (from importlib-metadata>=0.20->catalogue<1.1.0,>=0.0.7->spacy->bert-extractive-summarizer) (3.8.0)\n",
            "Requirement already satisfied: certifi>=2017.4.17 in /usr/local/lib/python3.7/dist-packages (from requests<3.0.0,>=2.13.0->spacy->bert-extractive-summarizer) (2021.10.8)\n",
            "Requirement already satisfied: urllib3!=1.25.0,!=1.25.1,<1.26,>=1.21.1 in /usr/local/lib/python3.7/dist-packages (from requests<3.0.0,>=2.13.0->spacy->bert-extractive-summarizer) (1.25.11)\n",
            "Requirement already satisfied: chardet<4,>=3.0.2 in /usr/local/lib/python3.7/dist-packages (from requests<3.0.0,>=2.13.0->spacy->bert-extractive-summarizer) (3.0.4)\n",
            "Requirement already satisfied: idna<3,>=2.5 in /usr/local/lib/python3.7/dist-packages (from requests<3.0.0,>=2.13.0->spacy->bert-extractive-summarizer) (2.10)\n",
            "Requirement already satisfied: packaging>=20.0 in /usr/local/lib/python3.7/dist-packages (from transformers->bert-extractive-summarizer) (21.3)\n",
            "Requirement already satisfied: sacremoses in /usr/local/lib/python3.7/dist-packages (from transformers->bert-extractive-summarizer) (0.0.49)\n",
            "Requirement already satisfied: tokenizers!=0.11.3,<0.13,>=0.11.1 in /usr/local/lib/python3.7/dist-packages (from transformers->bert-extractive-summarizer) (0.12.1)\n",
            "Requirement already satisfied: filelock in /usr/local/lib/python3.7/dist-packages (from transformers->bert-extractive-summarizer) (3.6.0)\n",
            "Requirement already satisfied: huggingface-hub<1.0,>=0.1.0 in /usr/local/lib/python3.7/dist-packages (from transformers->bert-extractive-summarizer) (0.5.1)\n",
            "Requirement already satisfied: pyyaml>=5.1 in /usr/local/lib/python3.7/dist-packages (from transformers->bert-extractive-summarizer) (6.0)\n",
            "Requirement already satisfied: regex!=2019.12.17 in /usr/local/lib/python3.7/dist-packages (from transformers->bert-extractive-summarizer) (2019.12.20)\n",
            "Requirement already satisfied: pyparsing!=3.0.5,>=2.0.2 in /usr/local/lib/python3.7/dist-packages (from packaging>=20.0->transformers->bert-extractive-summarizer) (3.0.8)\n",
            "Requirement already satisfied: six in /usr/local/lib/python3.7/dist-packages (from sacremoses->transformers->bert-extractive-summarizer) (1.15.0)\n",
            "Requirement already satisfied: click in /usr/local/lib/python3.7/dist-packages (from sacremoses->transformers->bert-extractive-summarizer) (7.1.2)\n",
            "Installing collected packages: bert-extractive-summarizer\n",
            "Successfully installed bert-extractive-summarizer-0.10.1\n"
          ]
        }
      ]
    },
    {
      "cell_type": "code",
      "source": [
        "# Library to implement BERT\n",
        "from summarizer import Summarizer"
      ],
      "metadata": {
        "id": "zDH3FIUkLxko"
      },
      "execution_count": null,
      "outputs": []
    },
    {
      "cell_type": "code",
      "source": [
        "bert_model = Summarizer()"
      ],
      "metadata": {
        "id": "uDc99v45ciF3"
      },
      "execution_count": null,
      "outputs": []
    },
    {
      "cell_type": "code",
      "source": [
        "dataset_orangesum['train'][i]['input']"
      ],
      "metadata": {
        "id": "QbEUPX91lS8Q",
        "outputId": "026b333e-e7cf-4601-8e66-eba5f8763e6b",
        "colab": {
          "base_uri": "https://localhost:8080/",
          "height": 295
        }
      },
      "execution_count": null,
      "outputs": [
        {
          "output_type": "execute_result",
          "data": {
            "text/plain": [
              "'Aujourd\\'hui, il rêve de conquérir l\\'Hôtel de ville et n\\'hésite pas à critiquer son actuelle locataire. Pourtant, en 2014, le candidat à l\\'investiture LREM Cédric Villani présidait le comité de soutien d\\'Anne Hidalgo, relève franceinfo mardi 9 juillet.\"En toute objectivité, si l\\'on examine tous les éléments mis à disposition par la candidate : le parcours, la détermination mise en jeu depuis tant d\\'années, le programme coordonné avec succès, l\\'expérience acquise dans des fonctions municipales de haut niveau, le souci de l\\'intérêt public démontré par les actions passées, la clarté du discours... Si l\\'on examine tout cela, tous les indices convergent et le bilan est clair : la meilleure, pour ce job, c\\'est Anne Hidalgo\", déclarait le député LREM de l\\'Essonne en janvier 2014. Mais aujourd\\'hui, le ton a changé. \"Je ne me satisfait pas du bilan\", a-t-il par exemple déclaré le 4 juillet sur BFMTV. Et son entourage va encore plus loin : \"Oui, Cédric Villani a voté pour Anne Hidalgo en 2014, comme des centaines de milliers de Parisiens. Mais Hidalgo a déçu, par son bilan insuffisant et par sa méthode clivante.\"Les candidats à l\\'investiture LREM seront entendus successivement durant une heure et demie : Hugues Renson ouvrira le bal au siège du parti dans le IIe arrondissement de Paris à 14h00, suivi par Benjamin Griveaux à 15h30 et M. Villani à 17h00, selon un tirage au sort. Le verdict pourrait être connu dès mercredi soir, à l\\'issue d\\'un bureau exécutif du parti qui permettra d\\'entériner une nouvelle vague d\\'investitures pour les prochaines élections municipales de mars 2020.\\n'"
            ],
            "application/vnd.google.colaboratory.intrinsic+json": {
              "type": "string"
            }
          },
          "metadata": {},
          "execution_count": 67
        }
      ]
    },
    {
      "cell_type": "code",
      "source": [
        "L,N = dataset_orangesum['train'].shape\n",
        "df1 = pd.DataFrame(columns=['summary_generated','bert_summary'])\n",
        "for i in range(L):\n",
        "  text = dataset_orangesum['train'][i]['input']\n",
        "  summary_generated = TextRank().summarize__(text)\n",
        "  bert_summary = ''.join(bert_model(text, min_length=60))\n",
        "  df_new_row = pd.DataFrame(data=np.array([[summary_generated,bert_summary]]), columns=['summary_generated','bert_summary'])\n",
        "  df1 = pd.concat([df1,df_new_row], ignore_index=True)"
      ],
      "metadata": {
        "colab": {
          "base_uri": "https://localhost:8080/",
          "height": 1000
        },
        "id": "5LBjVUnTcYl4",
        "outputId": "7c29a653-7088-4088-b179-d1dbe5f2eeeb"
      },
      "execution_count": null,
      "outputs": [
        {
          "output_type": "stream",
          "name": "stderr",
          "text": [
            "/usr/local/lib/python3.7/dist-packages/ipykernel_launcher.py:20: DeprecationWarning: Call to deprecated `__getitem__` (Method will be removed in 4.0.0, use self.wv.__getitem__() instead).\n",
            "/usr/local/lib/python3.7/dist-packages/ipykernel_launcher.py:20: DeprecationWarning: Call to deprecated `__getitem__` (Method will be removed in 4.0.0, use self.wv.__getitem__() instead).\n",
            "/usr/local/lib/python3.7/dist-packages/ipykernel_launcher.py:20: DeprecationWarning: Call to deprecated `__getitem__` (Method will be removed in 4.0.0, use self.wv.__getitem__() instead).\n",
            "/usr/local/lib/python3.7/dist-packages/ipykernel_launcher.py:20: DeprecationWarning: Call to deprecated `__getitem__` (Method will be removed in 4.0.0, use self.wv.__getitem__() instead).\n",
            "/usr/local/lib/python3.7/dist-packages/ipykernel_launcher.py:20: DeprecationWarning: Call to deprecated `__getitem__` (Method will be removed in 4.0.0, use self.wv.__getitem__() instead).\n",
            "/usr/local/lib/python3.7/dist-packages/ipykernel_launcher.py:20: DeprecationWarning: Call to deprecated `__getitem__` (Method will be removed in 4.0.0, use self.wv.__getitem__() instead).\n",
            "/usr/local/lib/python3.7/dist-packages/ipykernel_launcher.py:20: DeprecationWarning: Call to deprecated `__getitem__` (Method will be removed in 4.0.0, use self.wv.__getitem__() instead).\n",
            "/usr/local/lib/python3.7/dist-packages/ipykernel_launcher.py:20: DeprecationWarning: Call to deprecated `__getitem__` (Method will be removed in 4.0.0, use self.wv.__getitem__() instead).\n",
            "/usr/local/lib/python3.7/dist-packages/ipykernel_launcher.py:20: DeprecationWarning: Call to deprecated `__getitem__` (Method will be removed in 4.0.0, use self.wv.__getitem__() instead).\n",
            "/usr/local/lib/python3.7/dist-packages/ipykernel_launcher.py:20: DeprecationWarning: Call to deprecated `__getitem__` (Method will be removed in 4.0.0, use self.wv.__getitem__() instead).\n",
            "/usr/local/lib/python3.7/dist-packages/ipykernel_launcher.py:20: DeprecationWarning: Call to deprecated `__getitem__` (Method will be removed in 4.0.0, use self.wv.__getitem__() instead).\n",
            "/usr/local/lib/python3.7/dist-packages/ipykernel_launcher.py:20: DeprecationWarning: Call to deprecated `__getitem__` (Method will be removed in 4.0.0, use self.wv.__getitem__() instead).\n",
            "/usr/local/lib/python3.7/dist-packages/ipykernel_launcher.py:20: DeprecationWarning: Call to deprecated `__getitem__` (Method will be removed in 4.0.0, use self.wv.__getitem__() instead).\n",
            "/usr/local/lib/python3.7/dist-packages/ipykernel_launcher.py:20: DeprecationWarning: Call to deprecated `__getitem__` (Method will be removed in 4.0.0, use self.wv.__getitem__() instead).\n",
            "/usr/local/lib/python3.7/dist-packages/ipykernel_launcher.py:20: DeprecationWarning: Call to deprecated `__getitem__` (Method will be removed in 4.0.0, use self.wv.__getitem__() instead).\n",
            "/usr/local/lib/python3.7/dist-packages/ipykernel_launcher.py:20: DeprecationWarning: Call to deprecated `__getitem__` (Method will be removed in 4.0.0, use self.wv.__getitem__() instead).\n",
            "/usr/local/lib/python3.7/dist-packages/ipykernel_launcher.py:20: DeprecationWarning: Call to deprecated `__getitem__` (Method will be removed in 4.0.0, use self.wv.__getitem__() instead).\n",
            "/usr/local/lib/python3.7/dist-packages/ipykernel_launcher.py:20: DeprecationWarning: Call to deprecated `__getitem__` (Method will be removed in 4.0.0, use self.wv.__getitem__() instead).\n",
            "/usr/local/lib/python3.7/dist-packages/ipykernel_launcher.py:20: DeprecationWarning: Call to deprecated `__getitem__` (Method will be removed in 4.0.0, use self.wv.__getitem__() instead).\n",
            "/usr/local/lib/python3.7/dist-packages/ipykernel_launcher.py:20: DeprecationWarning: Call to deprecated `__getitem__` (Method will be removed in 4.0.0, use self.wv.__getitem__() instead).\n",
            "/usr/local/lib/python3.7/dist-packages/ipykernel_launcher.py:20: DeprecationWarning: Call to deprecated `__getitem__` (Method will be removed in 4.0.0, use self.wv.__getitem__() instead).\n",
            "/usr/local/lib/python3.7/dist-packages/ipykernel_launcher.py:20: DeprecationWarning: Call to deprecated `__getitem__` (Method will be removed in 4.0.0, use self.wv.__getitem__() instead).\n",
            "/usr/local/lib/python3.7/dist-packages/ipykernel_launcher.py:20: DeprecationWarning: Call to deprecated `__getitem__` (Method will be removed in 4.0.0, use self.wv.__getitem__() instead).\n",
            "/usr/local/lib/python3.7/dist-packages/ipykernel_launcher.py:20: DeprecationWarning: Call to deprecated `__getitem__` (Method will be removed in 4.0.0, use self.wv.__getitem__() instead).\n",
            "/usr/local/lib/python3.7/dist-packages/ipykernel_launcher.py:20: DeprecationWarning: Call to deprecated `__getitem__` (Method will be removed in 4.0.0, use self.wv.__getitem__() instead).\n",
            "/usr/local/lib/python3.7/dist-packages/ipykernel_launcher.py:20: DeprecationWarning: Call to deprecated `__getitem__` (Method will be removed in 4.0.0, use self.wv.__getitem__() instead).\n",
            "/usr/local/lib/python3.7/dist-packages/ipykernel_launcher.py:20: DeprecationWarning: Call to deprecated `__getitem__` (Method will be removed in 4.0.0, use self.wv.__getitem__() instead).\n",
            "/usr/local/lib/python3.7/dist-packages/ipykernel_launcher.py:20: DeprecationWarning: Call to deprecated `__getitem__` (Method will be removed in 4.0.0, use self.wv.__getitem__() instead).\n",
            "/usr/local/lib/python3.7/dist-packages/ipykernel_launcher.py:20: DeprecationWarning: Call to deprecated `__getitem__` (Method will be removed in 4.0.0, use self.wv.__getitem__() instead).\n",
            "/usr/local/lib/python3.7/dist-packages/ipykernel_launcher.py:20: DeprecationWarning: Call to deprecated `__getitem__` (Method will be removed in 4.0.0, use self.wv.__getitem__() instead).\n",
            "/usr/local/lib/python3.7/dist-packages/ipykernel_launcher.py:20: DeprecationWarning: Call to deprecated `__getitem__` (Method will be removed in 4.0.0, use self.wv.__getitem__() instead).\n",
            "/usr/local/lib/python3.7/dist-packages/ipykernel_launcher.py:20: DeprecationWarning: Call to deprecated `__getitem__` (Method will be removed in 4.0.0, use self.wv.__getitem__() instead).\n",
            "/usr/local/lib/python3.7/dist-packages/ipykernel_launcher.py:20: DeprecationWarning: Call to deprecated `__getitem__` (Method will be removed in 4.0.0, use self.wv.__getitem__() instead).\n",
            "/usr/local/lib/python3.7/dist-packages/ipykernel_launcher.py:20: DeprecationWarning: Call to deprecated `__getitem__` (Method will be removed in 4.0.0, use self.wv.__getitem__() instead).\n",
            "/usr/local/lib/python3.7/dist-packages/ipykernel_launcher.py:20: DeprecationWarning: Call to deprecated `__getitem__` (Method will be removed in 4.0.0, use self.wv.__getitem__() instead).\n",
            "/usr/local/lib/python3.7/dist-packages/ipykernel_launcher.py:20: DeprecationWarning: Call to deprecated `__getitem__` (Method will be removed in 4.0.0, use self.wv.__getitem__() instead).\n",
            "/usr/local/lib/python3.7/dist-packages/ipykernel_launcher.py:20: DeprecationWarning: Call to deprecated `__getitem__` (Method will be removed in 4.0.0, use self.wv.__getitem__() instead).\n",
            "/usr/local/lib/python3.7/dist-packages/ipykernel_launcher.py:20: DeprecationWarning: Call to deprecated `__getitem__` (Method will be removed in 4.0.0, use self.wv.__getitem__() instead).\n",
            "/usr/local/lib/python3.7/dist-packages/ipykernel_launcher.py:20: DeprecationWarning: Call to deprecated `__getitem__` (Method will be removed in 4.0.0, use self.wv.__getitem__() instead).\n",
            "/usr/local/lib/python3.7/dist-packages/ipykernel_launcher.py:20: DeprecationWarning: Call to deprecated `__getitem__` (Method will be removed in 4.0.0, use self.wv.__getitem__() instead).\n",
            "/usr/local/lib/python3.7/dist-packages/ipykernel_launcher.py:20: DeprecationWarning: Call to deprecated `__getitem__` (Method will be removed in 4.0.0, use self.wv.__getitem__() instead).\n",
            "/usr/local/lib/python3.7/dist-packages/ipykernel_launcher.py:20: DeprecationWarning: Call to deprecated `__getitem__` (Method will be removed in 4.0.0, use self.wv.__getitem__() instead).\n",
            "/usr/local/lib/python3.7/dist-packages/ipykernel_launcher.py:20: DeprecationWarning: Call to deprecated `__getitem__` (Method will be removed in 4.0.0, use self.wv.__getitem__() instead).\n",
            "/usr/local/lib/python3.7/dist-packages/ipykernel_launcher.py:20: DeprecationWarning: Call to deprecated `__getitem__` (Method will be removed in 4.0.0, use self.wv.__getitem__() instead).\n",
            "/usr/local/lib/python3.7/dist-packages/ipykernel_launcher.py:20: DeprecationWarning: Call to deprecated `__getitem__` (Method will be removed in 4.0.0, use self.wv.__getitem__() instead).\n",
            "/usr/local/lib/python3.7/dist-packages/ipykernel_launcher.py:20: DeprecationWarning: Call to deprecated `__getitem__` (Method will be removed in 4.0.0, use self.wv.__getitem__() instead).\n",
            "/usr/local/lib/python3.7/dist-packages/ipykernel_launcher.py:20: DeprecationWarning: Call to deprecated `__getitem__` (Method will be removed in 4.0.0, use self.wv.__getitem__() instead).\n",
            "/usr/local/lib/python3.7/dist-packages/ipykernel_launcher.py:20: DeprecationWarning: Call to deprecated `__getitem__` (Method will be removed in 4.0.0, use self.wv.__getitem__() instead).\n",
            "/usr/local/lib/python3.7/dist-packages/ipykernel_launcher.py:20: DeprecationWarning: Call to deprecated `__getitem__` (Method will be removed in 4.0.0, use self.wv.__getitem__() instead).\n",
            "/usr/local/lib/python3.7/dist-packages/ipykernel_launcher.py:20: DeprecationWarning: Call to deprecated `__getitem__` (Method will be removed in 4.0.0, use self.wv.__getitem__() instead).\n",
            "/usr/local/lib/python3.7/dist-packages/ipykernel_launcher.py:20: DeprecationWarning: Call to deprecated `__getitem__` (Method will be removed in 4.0.0, use self.wv.__getitem__() instead).\n",
            "/usr/local/lib/python3.7/dist-packages/ipykernel_launcher.py:20: DeprecationWarning: Call to deprecated `__getitem__` (Method will be removed in 4.0.0, use self.wv.__getitem__() instead).\n",
            "/usr/local/lib/python3.7/dist-packages/ipykernel_launcher.py:20: DeprecationWarning: Call to deprecated `__getitem__` (Method will be removed in 4.0.0, use self.wv.__getitem__() instead).\n",
            "/usr/local/lib/python3.7/dist-packages/ipykernel_launcher.py:20: DeprecationWarning: Call to deprecated `__getitem__` (Method will be removed in 4.0.0, use self.wv.__getitem__() instead).\n",
            "/usr/local/lib/python3.7/dist-packages/ipykernel_launcher.py:20: DeprecationWarning: Call to deprecated `__getitem__` (Method will be removed in 4.0.0, use self.wv.__getitem__() instead).\n",
            "/usr/local/lib/python3.7/dist-packages/ipykernel_launcher.py:20: DeprecationWarning: Call to deprecated `__getitem__` (Method will be removed in 4.0.0, use self.wv.__getitem__() instead).\n",
            "/usr/local/lib/python3.7/dist-packages/ipykernel_launcher.py:20: DeprecationWarning: Call to deprecated `__getitem__` (Method will be removed in 4.0.0, use self.wv.__getitem__() instead).\n",
            "/usr/local/lib/python3.7/dist-packages/ipykernel_launcher.py:20: DeprecationWarning: Call to deprecated `__getitem__` (Method will be removed in 4.0.0, use self.wv.__getitem__() instead).\n",
            "/usr/local/lib/python3.7/dist-packages/ipykernel_launcher.py:20: DeprecationWarning: Call to deprecated `__getitem__` (Method will be removed in 4.0.0, use self.wv.__getitem__() instead).\n",
            "/usr/local/lib/python3.7/dist-packages/ipykernel_launcher.py:20: DeprecationWarning: Call to deprecated `__getitem__` (Method will be removed in 4.0.0, use self.wv.__getitem__() instead).\n",
            "/usr/local/lib/python3.7/dist-packages/ipykernel_launcher.py:20: DeprecationWarning: Call to deprecated `__getitem__` (Method will be removed in 4.0.0, use self.wv.__getitem__() instead).\n",
            "/usr/local/lib/python3.7/dist-packages/ipykernel_launcher.py:20: DeprecationWarning: Call to deprecated `__getitem__` (Method will be removed in 4.0.0, use self.wv.__getitem__() instead).\n",
            "/usr/local/lib/python3.7/dist-packages/ipykernel_launcher.py:20: DeprecationWarning: Call to deprecated `__getitem__` (Method will be removed in 4.0.0, use self.wv.__getitem__() instead).\n",
            "/usr/local/lib/python3.7/dist-packages/ipykernel_launcher.py:20: DeprecationWarning: Call to deprecated `__getitem__` (Method will be removed in 4.0.0, use self.wv.__getitem__() instead).\n",
            "/usr/local/lib/python3.7/dist-packages/ipykernel_launcher.py:20: DeprecationWarning: Call to deprecated `__getitem__` (Method will be removed in 4.0.0, use self.wv.__getitem__() instead).\n",
            "/usr/local/lib/python3.7/dist-packages/ipykernel_launcher.py:20: DeprecationWarning: Call to deprecated `__getitem__` (Method will be removed in 4.0.0, use self.wv.__getitem__() instead).\n",
            "/usr/local/lib/python3.7/dist-packages/ipykernel_launcher.py:20: DeprecationWarning: Call to deprecated `__getitem__` (Method will be removed in 4.0.0, use self.wv.__getitem__() instead).\n",
            "/usr/local/lib/python3.7/dist-packages/ipykernel_launcher.py:20: DeprecationWarning: Call to deprecated `__getitem__` (Method will be removed in 4.0.0, use self.wv.__getitem__() instead).\n",
            "/usr/local/lib/python3.7/dist-packages/ipykernel_launcher.py:20: DeprecationWarning: Call to deprecated `__getitem__` (Method will be removed in 4.0.0, use self.wv.__getitem__() instead).\n",
            "/usr/local/lib/python3.7/dist-packages/ipykernel_launcher.py:20: DeprecationWarning: Call to deprecated `__getitem__` (Method will be removed in 4.0.0, use self.wv.__getitem__() instead).\n",
            "/usr/local/lib/python3.7/dist-packages/ipykernel_launcher.py:20: DeprecationWarning: Call to deprecated `__getitem__` (Method will be removed in 4.0.0, use self.wv.__getitem__() instead).\n",
            "/usr/local/lib/python3.7/dist-packages/ipykernel_launcher.py:20: DeprecationWarning: Call to deprecated `__getitem__` (Method will be removed in 4.0.0, use self.wv.__getitem__() instead).\n",
            "/usr/local/lib/python3.7/dist-packages/ipykernel_launcher.py:20: DeprecationWarning: Call to deprecated `__getitem__` (Method will be removed in 4.0.0, use self.wv.__getitem__() instead).\n",
            "/usr/local/lib/python3.7/dist-packages/ipykernel_launcher.py:20: DeprecationWarning: Call to deprecated `__getitem__` (Method will be removed in 4.0.0, use self.wv.__getitem__() instead).\n",
            "/usr/local/lib/python3.7/dist-packages/ipykernel_launcher.py:20: DeprecationWarning: Call to deprecated `__getitem__` (Method will be removed in 4.0.0, use self.wv.__getitem__() instead).\n",
            "/usr/local/lib/python3.7/dist-packages/ipykernel_launcher.py:20: DeprecationWarning: Call to deprecated `__getitem__` (Method will be removed in 4.0.0, use self.wv.__getitem__() instead).\n",
            "/usr/local/lib/python3.7/dist-packages/ipykernel_launcher.py:20: DeprecationWarning: Call to deprecated `__getitem__` (Method will be removed in 4.0.0, use self.wv.__getitem__() instead).\n",
            "/usr/local/lib/python3.7/dist-packages/ipykernel_launcher.py:20: DeprecationWarning: Call to deprecated `__getitem__` (Method will be removed in 4.0.0, use self.wv.__getitem__() instead).\n",
            "/usr/local/lib/python3.7/dist-packages/ipykernel_launcher.py:20: DeprecationWarning: Call to deprecated `__getitem__` (Method will be removed in 4.0.0, use self.wv.__getitem__() instead).\n",
            "/usr/local/lib/python3.7/dist-packages/ipykernel_launcher.py:20: DeprecationWarning: Call to deprecated `__getitem__` (Method will be removed in 4.0.0, use self.wv.__getitem__() instead).\n",
            "/usr/local/lib/python3.7/dist-packages/ipykernel_launcher.py:20: DeprecationWarning: Call to deprecated `__getitem__` (Method will be removed in 4.0.0, use self.wv.__getitem__() instead).\n",
            "/usr/local/lib/python3.7/dist-packages/ipykernel_launcher.py:20: DeprecationWarning: Call to deprecated `__getitem__` (Method will be removed in 4.0.0, use self.wv.__getitem__() instead).\n",
            "/usr/local/lib/python3.7/dist-packages/ipykernel_launcher.py:20: DeprecationWarning: Call to deprecated `__getitem__` (Method will be removed in 4.0.0, use self.wv.__getitem__() instead).\n"
          ]
        },
        {
          "output_type": "error",
          "ename": "IndexError",
          "evalue": "ignored",
          "traceback": [
            "\u001b[0;31m---------------------------------------------------------------------------\u001b[0m",
            "\u001b[0;31mIndexError\u001b[0m                                Traceback (most recent call last)",
            "\u001b[0;32m<ipython-input-64-b9bcb3afc671>\u001b[0m in \u001b[0;36m<module>\u001b[0;34m()\u001b[0m\n\u001b[1;32m      3\u001b[0m \u001b[0;32mfor\u001b[0m \u001b[0mi\u001b[0m \u001b[0;32min\u001b[0m \u001b[0mrange\u001b[0m\u001b[0;34m(\u001b[0m\u001b[0mL\u001b[0m\u001b[0;34m)\u001b[0m\u001b[0;34m:\u001b[0m\u001b[0;34m\u001b[0m\u001b[0;34m\u001b[0m\u001b[0m\n\u001b[1;32m      4\u001b[0m   \u001b[0mtext\u001b[0m \u001b[0;34m=\u001b[0m \u001b[0mdataset_orangesum\u001b[0m\u001b[0;34m[\u001b[0m\u001b[0;34m'train'\u001b[0m\u001b[0;34m]\u001b[0m\u001b[0;34m[\u001b[0m\u001b[0mi\u001b[0m\u001b[0;34m]\u001b[0m\u001b[0;34m[\u001b[0m\u001b[0;34m'input'\u001b[0m\u001b[0;34m]\u001b[0m\u001b[0;34m\u001b[0m\u001b[0;34m\u001b[0m\u001b[0m\n\u001b[0;32m----> 5\u001b[0;31m   \u001b[0msummary_generated\u001b[0m \u001b[0;34m=\u001b[0m \u001b[0mTextRank\u001b[0m\u001b[0;34m(\u001b[0m\u001b[0;34m)\u001b[0m\u001b[0;34m.\u001b[0m\u001b[0msummarize__\u001b[0m\u001b[0;34m(\u001b[0m\u001b[0mtext\u001b[0m\u001b[0;34m)\u001b[0m\u001b[0;34m\u001b[0m\u001b[0;34m\u001b[0m\u001b[0m\n\u001b[0m\u001b[1;32m      6\u001b[0m   \u001b[0mbert_summary\u001b[0m \u001b[0;34m=\u001b[0m \u001b[0;34m''\u001b[0m\u001b[0;34m.\u001b[0m\u001b[0mjoin\u001b[0m\u001b[0;34m(\u001b[0m\u001b[0mbert_model\u001b[0m\u001b[0;34m(\u001b[0m\u001b[0mtext\u001b[0m\u001b[0;34m,\u001b[0m \u001b[0mmin_length\u001b[0m\u001b[0;34m=\u001b[0m\u001b[0;36m60\u001b[0m\u001b[0;34m)\u001b[0m\u001b[0;34m)\u001b[0m\u001b[0;34m\u001b[0m\u001b[0;34m\u001b[0m\u001b[0m\n\u001b[1;32m      7\u001b[0m   \u001b[0mdf_new_row\u001b[0m \u001b[0;34m=\u001b[0m \u001b[0mpd\u001b[0m\u001b[0;34m.\u001b[0m\u001b[0mDataFrame\u001b[0m\u001b[0;34m(\u001b[0m\u001b[0mdata\u001b[0m\u001b[0;34m=\u001b[0m\u001b[0mnp\u001b[0m\u001b[0;34m.\u001b[0m\u001b[0marray\u001b[0m\u001b[0;34m(\u001b[0m\u001b[0;34m[\u001b[0m\u001b[0;34m[\u001b[0m\u001b[0msummary_generated\u001b[0m\u001b[0;34m,\u001b[0m\u001b[0mbert_summary\u001b[0m\u001b[0;34m]\u001b[0m\u001b[0;34m]\u001b[0m\u001b[0;34m)\u001b[0m\u001b[0;34m,\u001b[0m \u001b[0mcolumns\u001b[0m\u001b[0;34m=\u001b[0m\u001b[0;34m[\u001b[0m\u001b[0;34m'summary_generated'\u001b[0m\u001b[0;34m,\u001b[0m\u001b[0;34m'bert_summary'\u001b[0m\u001b[0;34m]\u001b[0m\u001b[0;34m)\u001b[0m\u001b[0;34m\u001b[0m\u001b[0;34m\u001b[0m\u001b[0m\n",
            "\u001b[0;32m<ipython-input-13-3069f28f4f21>\u001b[0m in \u001b[0;36msummarize__\u001b[0;34m(self, text, nb_summary_seq, print_score)\u001b[0m\n\u001b[1;32m     98\u001b[0m         \u001b[0mindices_best\u001b[0m \u001b[0;34m=\u001b[0m \u001b[0mnp\u001b[0m\u001b[0;34m.\u001b[0m\u001b[0margsort\u001b[0m\u001b[0;34m(\u001b[0m\u001b[0mscores\u001b[0m\u001b[0;34m)\u001b[0m\u001b[0;34m[\u001b[0m\u001b[0;34m:\u001b[0m\u001b[0;34m-\u001b[0m\u001b[0;34m(\u001b[0m\u001b[0mnb_summary_seq\u001b[0m\u001b[0;34m+\u001b[0m\u001b[0;36m1\u001b[0m\u001b[0;34m)\u001b[0m\u001b[0;34m:\u001b[0m\u001b[0;34m-\u001b[0m\u001b[0;36m1\u001b[0m\u001b[0;34m]\u001b[0m\u001b[0;34m\u001b[0m\u001b[0;34m\u001b[0m\u001b[0m\n\u001b[1;32m     99\u001b[0m         \u001b[0mtext_sentences\u001b[0m \u001b[0;34m=\u001b[0m \u001b[0mnp\u001b[0m\u001b[0;34m.\u001b[0m\u001b[0marray\u001b[0m\u001b[0;34m(\u001b[0m\u001b[0msent_tokenize\u001b[0m\u001b[0;34m(\u001b[0m\u001b[0mtext\u001b[0m\u001b[0;34m)\u001b[0m\u001b[0;34m)\u001b[0m\u001b[0;34m\u001b[0m\u001b[0;34m\u001b[0m\u001b[0m\n\u001b[0;32m--> 100\u001b[0;31m         \u001b[0msummary\u001b[0m \u001b[0;34m=\u001b[0m \u001b[0;34m''\u001b[0m\u001b[0;34m.\u001b[0m\u001b[0mjoin\u001b[0m\u001b[0;34m(\u001b[0m\u001b[0mtext_sentences\u001b[0m\u001b[0;34m[\u001b[0m\u001b[0mindices_best\u001b[0m\u001b[0;34m]\u001b[0m\u001b[0;34m)\u001b[0m\u001b[0;34m\u001b[0m\u001b[0;34m\u001b[0m\u001b[0m\n\u001b[0m\u001b[1;32m    101\u001b[0m \u001b[0;34m\u001b[0m\u001b[0m\n\u001b[1;32m    102\u001b[0m         \u001b[0;32mif\u001b[0m \u001b[0mprint_score\u001b[0m \u001b[0;34m:\u001b[0m\u001b[0;34m\u001b[0m\u001b[0;34m\u001b[0m\u001b[0m\n",
            "\u001b[0;31mIndexError\u001b[0m: index 9 is out of bounds for axis 0 with size 9"
          ]
        }
      ]
    },
    {
      "cell_type": "code",
      "source": [
        "df1"
      ],
      "metadata": {
        "colab": {
          "base_uri": "https://localhost:8080/",
          "height": 407
        },
        "id": "-0in-vBVjEd2",
        "outputId": "227de311-4d00-473e-f3f7-2ce92bd35009"
      },
      "execution_count": null,
      "outputs": [
        {
          "output_type": "execute_result",
          "data": {
            "text/plain": [
              "                                    summary_generated  \\\n",
              "0   C'est ce qu'affirme mardi 11 septembre Chez Po...   \n",
              "1   L'ex-Premier ministre de Jacques Chirac, cofon...   \n",
              "2   Alors que les particuliers pouvaient se présen...   \n",
              "3   En septembre, le Premier ministre Édouard Phil...   \n",
              "4   Arrêté dans le Var, le cerveau présumé du grou...   \n",
              "..                                                ...   \n",
              "77  Il a aussi répété s'attendre à \"800.000 suppre...   \n",
              "78  Appels à continuer à privilégier le télétravai...   \n",
              "79  En cas de retards moins importants et comme to...   \n",
              "80  \"90 pour cent d'entre eux sont Français\", a pr...   \n",
              "81  Si le feu ne progresse plus, 300 sapeurs-pompi...   \n",
              "\n",
              "                                         bert_summary  \n",
              "0   Thierry Mariani sur la liste du Rassemblement ...  \n",
              "1   C'est désormais officiel : Alain Juppé n'est p...  \n",
              "2   Juridictions de proximité par excellence, trai...  \n",
              "3   Dans une interview accordée au Figaro mercredi...  \n",
              "4   Un réseau d'escrocs qui revendaient des voitur...  \n",
              "..                                                ...  \n",
              "77  Au menu toute la semaine, ce projet de loi tab...  \n",
              "78  Appels à continuer à privilégier le télétravai...  \n",
              "79  Depuis vendredi, la SNCF doit faire face aux c...  \n",
              "80  Pour sa 40e édition, le festival qui devait in...  \n",
              "81  D'énormes nuages de fumée masquent le ciel de ...  \n",
              "\n",
              "[82 rows x 2 columns]"
            ],
            "text/html": [
              "\n",
              "  <div id=\"df-d3b025d7-2f8a-4414-accc-71afe93144aa\">\n",
              "    <div class=\"colab-df-container\">\n",
              "      <div>\n",
              "<style scoped>\n",
              "    .dataframe tbody tr th:only-of-type {\n",
              "        vertical-align: middle;\n",
              "    }\n",
              "\n",
              "    .dataframe tbody tr th {\n",
              "        vertical-align: top;\n",
              "    }\n",
              "\n",
              "    .dataframe thead th {\n",
              "        text-align: right;\n",
              "    }\n",
              "</style>\n",
              "<table border=\"1\" class=\"dataframe\">\n",
              "  <thead>\n",
              "    <tr style=\"text-align: right;\">\n",
              "      <th></th>\n",
              "      <th>summary_generated</th>\n",
              "      <th>bert_summary</th>\n",
              "    </tr>\n",
              "  </thead>\n",
              "  <tbody>\n",
              "    <tr>\n",
              "      <th>0</th>\n",
              "      <td>C'est ce qu'affirme mardi 11 septembre Chez Po...</td>\n",
              "      <td>Thierry Mariani sur la liste du Rassemblement ...</td>\n",
              "    </tr>\n",
              "    <tr>\n",
              "      <th>1</th>\n",
              "      <td>L'ex-Premier ministre de Jacques Chirac, cofon...</td>\n",
              "      <td>C'est désormais officiel : Alain Juppé n'est p...</td>\n",
              "    </tr>\n",
              "    <tr>\n",
              "      <th>2</th>\n",
              "      <td>Alors que les particuliers pouvaient se présen...</td>\n",
              "      <td>Juridictions de proximité par excellence, trai...</td>\n",
              "    </tr>\n",
              "    <tr>\n",
              "      <th>3</th>\n",
              "      <td>En septembre, le Premier ministre Édouard Phil...</td>\n",
              "      <td>Dans une interview accordée au Figaro mercredi...</td>\n",
              "    </tr>\n",
              "    <tr>\n",
              "      <th>4</th>\n",
              "      <td>Arrêté dans le Var, le cerveau présumé du grou...</td>\n",
              "      <td>Un réseau d'escrocs qui revendaient des voitur...</td>\n",
              "    </tr>\n",
              "    <tr>\n",
              "      <th>...</th>\n",
              "      <td>...</td>\n",
              "      <td>...</td>\n",
              "    </tr>\n",
              "    <tr>\n",
              "      <th>77</th>\n",
              "      <td>Il a aussi répété s'attendre à \"800.000 suppre...</td>\n",
              "      <td>Au menu toute la semaine, ce projet de loi tab...</td>\n",
              "    </tr>\n",
              "    <tr>\n",
              "      <th>78</th>\n",
              "      <td>Appels à continuer à privilégier le télétravai...</td>\n",
              "      <td>Appels à continuer à privilégier le télétravai...</td>\n",
              "    </tr>\n",
              "    <tr>\n",
              "      <th>79</th>\n",
              "      <td>En cas de retards moins importants et comme to...</td>\n",
              "      <td>Depuis vendredi, la SNCF doit faire face aux c...</td>\n",
              "    </tr>\n",
              "    <tr>\n",
              "      <th>80</th>\n",
              "      <td>\"90 pour cent d'entre eux sont Français\", a pr...</td>\n",
              "      <td>Pour sa 40e édition, le festival qui devait in...</td>\n",
              "    </tr>\n",
              "    <tr>\n",
              "      <th>81</th>\n",
              "      <td>Si le feu ne progresse plus, 300 sapeurs-pompi...</td>\n",
              "      <td>D'énormes nuages de fumée masquent le ciel de ...</td>\n",
              "    </tr>\n",
              "  </tbody>\n",
              "</table>\n",
              "<p>82 rows × 2 columns</p>\n",
              "</div>\n",
              "      <button class=\"colab-df-convert\" onclick=\"convertToInteractive('df-d3b025d7-2f8a-4414-accc-71afe93144aa')\"\n",
              "              title=\"Convert this dataframe to an interactive table.\"\n",
              "              style=\"display:none;\">\n",
              "        \n",
              "  <svg xmlns=\"http://www.w3.org/2000/svg\" height=\"24px\"viewBox=\"0 0 24 24\"\n",
              "       width=\"24px\">\n",
              "    <path d=\"M0 0h24v24H0V0z\" fill=\"none\"/>\n",
              "    <path d=\"M18.56 5.44l.94 2.06.94-2.06 2.06-.94-2.06-.94-.94-2.06-.94 2.06-2.06.94zm-11 1L8.5 8.5l.94-2.06 2.06-.94-2.06-.94L8.5 2.5l-.94 2.06-2.06.94zm10 10l.94 2.06.94-2.06 2.06-.94-2.06-.94-.94-2.06-.94 2.06-2.06.94z\"/><path d=\"M17.41 7.96l-1.37-1.37c-.4-.4-.92-.59-1.43-.59-.52 0-1.04.2-1.43.59L10.3 9.45l-7.72 7.72c-.78.78-.78 2.05 0 2.83L4 21.41c.39.39.9.59 1.41.59.51 0 1.02-.2 1.41-.59l7.78-7.78 2.81-2.81c.8-.78.8-2.07 0-2.86zM5.41 20L4 18.59l7.72-7.72 1.47 1.35L5.41 20z\"/>\n",
              "  </svg>\n",
              "      </button>\n",
              "      \n",
              "  <style>\n",
              "    .colab-df-container {\n",
              "      display:flex;\n",
              "      flex-wrap:wrap;\n",
              "      gap: 12px;\n",
              "    }\n",
              "\n",
              "    .colab-df-convert {\n",
              "      background-color: #E8F0FE;\n",
              "      border: none;\n",
              "      border-radius: 50%;\n",
              "      cursor: pointer;\n",
              "      display: none;\n",
              "      fill: #1967D2;\n",
              "      height: 32px;\n",
              "      padding: 0 0 0 0;\n",
              "      width: 32px;\n",
              "    }\n",
              "\n",
              "    .colab-df-convert:hover {\n",
              "      background-color: #E2EBFA;\n",
              "      box-shadow: 0px 1px 2px rgba(60, 64, 67, 0.3), 0px 1px 3px 1px rgba(60, 64, 67, 0.15);\n",
              "      fill: #174EA6;\n",
              "    }\n",
              "\n",
              "    [theme=dark] .colab-df-convert {\n",
              "      background-color: #3B4455;\n",
              "      fill: #D2E3FC;\n",
              "    }\n",
              "\n",
              "    [theme=dark] .colab-df-convert:hover {\n",
              "      background-color: #434B5C;\n",
              "      box-shadow: 0px 1px 3px 1px rgba(0, 0, 0, 0.15);\n",
              "      filter: drop-shadow(0px 1px 2px rgba(0, 0, 0, 0.3));\n",
              "      fill: #FFFFFF;\n",
              "    }\n",
              "  </style>\n",
              "\n",
              "      <script>\n",
              "        const buttonEl =\n",
              "          document.querySelector('#df-d3b025d7-2f8a-4414-accc-71afe93144aa button.colab-df-convert');\n",
              "        buttonEl.style.display =\n",
              "          google.colab.kernel.accessAllowed ? 'block' : 'none';\n",
              "\n",
              "        async function convertToInteractive(key) {\n",
              "          const element = document.querySelector('#df-d3b025d7-2f8a-4414-accc-71afe93144aa');\n",
              "          const dataTable =\n",
              "            await google.colab.kernel.invokeFunction('convertToInteractive',\n",
              "                                                     [key], {});\n",
              "          if (!dataTable) return;\n",
              "\n",
              "          const docLinkHtml = 'Like what you see? Visit the ' +\n",
              "            '<a target=\"_blank\" href=https://colab.research.google.com/notebooks/data_table.ipynb>data table notebook</a>'\n",
              "            + ' to learn more about interactive tables.';\n",
              "          element.innerHTML = '';\n",
              "          dataTable['output_type'] = 'display_data';\n",
              "          await google.colab.output.renderOutput(dataTable, element);\n",
              "          const docLink = document.createElement('div');\n",
              "          docLink.innerHTML = docLinkHtml;\n",
              "          element.appendChild(docLink);\n",
              "        }\n",
              "      </script>\n",
              "    </div>\n",
              "  </div>\n",
              "  "
            ]
          },
          "metadata": {},
          "execution_count": 65
        }
      ]
    },
    {
      "cell_type": "code",
      "source": [
        "bert_summary = ''.join(bert_model(text, min_length=60))\n",
        "print(bert_summary)"
      ],
      "metadata": {
        "id": "ACx32WoHL859",
        "colab": {
          "base_uri": "https://localhost:8080/",
          "height": 234,
          "referenced_widgets": [
            "5662fbb9288745eabed1774900b25a10",
            "e8a750173e664f199069076fa42ea0de",
            "ea714d62f18a4d8ebe010fa34acddcfe",
            "e13c23712abc410699bee709ac4474b5",
            "9c2f009c33c04b42800fbc2d26699994",
            "1bfa4a911268403b83ffa9fdacae3b0b",
            "c61e702caff14a24b2861da78545bd8a",
            "d66f478106d74ce4ab5b562ec24ab358",
            "bbbcad66e0894c62b526369fe602361a",
            "7cee34bd1f1f451fbc09a76ae32dbf08",
            "d4f47c3c9efb45628bf69daec9d7cea7",
            "0b2226b0929a4c719d01fec6a4c68cdb",
            "c18a789fb2be4761b525fa9673f6be5a",
            "ef8e3e9a42d746eba834d741cbd9a910",
            "98c844888dcf4abdae36ab5a47d236dc",
            "c983d85b793948469564ffba65448177",
            "7f930e04c6124e2498caa847a5f2c3ef",
            "dd5d1dc1f0f04477933b9ab9c3808124",
            "f6adc161ef4944f8bc40375b4ed7fc0e",
            "42619a0fa02f495c9f6ff62d7f4c3e4d",
            "02088549fc354213b668d2c7d4566636",
            "a0b9b1af9937469bb3d7110079a1aa8a",
            "52452c42d18d4b7a8bc586ef159649d1",
            "42f6da0cdcb94fbf9239eefc643ce075",
            "cff4f64f3f354aaca29f55430c2f6103",
            "4f2ae81a603d4a93896ce6c46be318de",
            "e33ad0a0351b480bb149de71ca632ad6",
            "6b4e8db69fd943f584b19f27a0378405",
            "769f0500cec843bca1cfdf8aec312694",
            "8b5fa1d2172c40f6999a01706febcc46",
            "1cc822585b6144af8101e584304de771",
            "683f3ef27d1c4ccfb84916f57a74ecc3",
            "02cade814fd44df9b461880ab7dae945",
            "3756e1589fbd43d38ea31566582571ab",
            "ea3ca12306704db197c5e7c1a52d7be0",
            "68e38cea8dde4c5fb225d5890ecea49b",
            "22ba716a7a0f4dc79e79297c8368cc56",
            "c2a24569840d40118332ef1d95ef1d4d",
            "8d8bae6b80a84decbd363eeb75e9c84a",
            "927dafee6fc64b3e9ce505e4b83b1adb",
            "ab4d84755b314ac4b048b2bb7e58f6ee",
            "3fbe36ef698a4d2fbd878d254de8ebe5",
            "54557bed6c764859896378d1b9e7adfa",
            "7b3e6b9770694394ac923a33364a2ce1"
          ]
        },
        "outputId": "c1fcc7f9-c4f5-4b55-b119-ba514f78c327"
      },
      "execution_count": null,
      "outputs": [
        {
          "output_type": "display_data",
          "data": {
            "text/plain": [
              "Downloading:   0%|          | 0.00/571 [00:00<?, ?B/s]"
            ],
            "application/vnd.jupyter.widget-view+json": {
              "version_major": 2,
              "version_minor": 0,
              "model_id": "5662fbb9288745eabed1774900b25a10"
            }
          },
          "metadata": {}
        },
        {
          "output_type": "display_data",
          "data": {
            "text/plain": [
              "Downloading:   0%|          | 0.00/1.25G [00:00<?, ?B/s]"
            ],
            "application/vnd.jupyter.widget-view+json": {
              "version_major": 2,
              "version_minor": 0,
              "model_id": "0b2226b0929a4c719d01fec6a4c68cdb"
            }
          },
          "metadata": {}
        },
        {
          "output_type": "stream",
          "name": "stderr",
          "text": [
            "Some weights of the model checkpoint at bert-large-uncased were not used when initializing BertModel: ['cls.seq_relationship.bias', 'cls.seq_relationship.weight', 'cls.predictions.transform.LayerNorm.bias', 'cls.predictions.transform.dense.weight', 'cls.predictions.transform.dense.bias', 'cls.predictions.transform.LayerNorm.weight', 'cls.predictions.decoder.weight', 'cls.predictions.bias']\n",
            "- This IS expected if you are initializing BertModel from the checkpoint of a model trained on another task or with another architecture (e.g. initializing a BertForSequenceClassification model from a BertForPreTraining model).\n",
            "- This IS NOT expected if you are initializing BertModel from the checkpoint of a model that you expect to be exactly identical (initializing a BertForSequenceClassification model from a BertForSequenceClassification model).\n"
          ]
        },
        {
          "output_type": "display_data",
          "data": {
            "text/plain": [
              "Downloading:   0%|          | 0.00/226k [00:00<?, ?B/s]"
            ],
            "application/vnd.jupyter.widget-view+json": {
              "version_major": 2,
              "version_minor": 0,
              "model_id": "52452c42d18d4b7a8bc586ef159649d1"
            }
          },
          "metadata": {}
        },
        {
          "output_type": "display_data",
          "data": {
            "text/plain": [
              "Downloading:   0%|          | 0.00/28.0 [00:00<?, ?B/s]"
            ],
            "application/vnd.jupyter.widget-view+json": {
              "version_major": 2,
              "version_minor": 0,
              "model_id": "3756e1589fbd43d38ea31566582571ab"
            }
          },
          "metadata": {}
        },
        {
          "output_type": "stream",
          "name": "stdout",
          "text": [
            "Juridictions de proximité par excellence, traitant les litiges du quotidien, les tribunaux d'instance s'apprêtent à fusionner avec les tribunaux de grande instance. Réforme de la justice : pourquoi les avocats, magistrats et greffe sont-ils en colère ? Des compétences ajoutés par décret Quid de leurs compétences ? La loi facilite la création de pôles spécialisés dans les départements ayant plusieurs tribunaux de grande instance et permet d'attribuer des compétences supplémentaires aux tribunaux de proximité pour mieux \"s'adapter aux besoins particuliers des territoires\", souligne le ministère de la Justice. Elle ne serait \"pas étonnée\" que le gouvernement ait souhaité \"différer des annonces\" selon les résultats électoraux de La République en marche dans les communes concernées, comme l'écrivait Le Canard enchaîné dans une série d'articles fin octobre.\n"
          ]
        }
      ]
    },
    {
      "cell_type": "code",
      "source": [
        "Rouge().get_scores(summary_generated, bert_summary, avg=True)"
      ],
      "metadata": {
        "id": "QjMARkkgPJxx",
        "colab": {
          "base_uri": "https://localhost:8080/"
        },
        "outputId": "2d0f5d31-4031-45ea-c1b4-7f21b86fa34d"
      },
      "execution_count": null,
      "outputs": [
        {
          "output_type": "execute_result",
          "data": {
            "text/plain": [
              "{'rouge-1': {'f': 0.5677419306139438,\n",
              "  'p': 0.676923076923077,\n",
              "  'r': 0.4888888888888889},\n",
              " 'rouge-2': {'f': 0.38709676949936417,\n",
              "  'p': 0.5142857142857142,\n",
              "  'r': 0.3103448275862069},\n",
              " 'rouge-l': {'f': 0.5161290273881375,\n",
              "  'p': 0.6153846153846154,\n",
              "  'r': 0.4444444444444444}}"
            ]
          },
          "metadata": {},
          "execution_count": 52
        }
      ]
    },
    {
      "cell_type": "markdown",
      "source": [
        "## Abstractive models"
      ],
      "metadata": {
        "id": "2yZnJpgFSmBD"
      }
    },
    {
      "cell_type": "markdown",
      "source": [
        "A more advanced approach to address text summarization aims at \"generating\" the summary, that is to say to produce a summary with new generated sentences that do not exist in the text to summarize. \n",
        "\n",
        "For this task, we may use Deep Learning models, with models based on Encoder-Decoder approaches, using RNNs or Transformers for instance. \n"
      ],
      "metadata": {
        "id": "hu8dHwbHQ7jy"
      }
    },
    {
      "cell_type": "code",
      "source": [
        "device = \"cuda\" if torch.cuda.is_available() else 'cpu'\n",
        "print(f'Device : {device}')"
      ],
      "metadata": {
        "colab": {
          "base_uri": "https://localhost:8080/"
        },
        "id": "wpG9E7v_c18u",
        "outputId": "cc236501-5fa6-48c3-847d-e42edce9e1db"
      },
      "execution_count": null,
      "outputs": [
        {
          "output_type": "stream",
          "name": "stdout",
          "text": [
            "Device : cuda\n"
          ]
        }
      ]
    },
    {
      "cell_type": "markdown",
      "source": [
        "### Models from scratch"
      ],
      "metadata": {
        "id": "xPQ6enXSsRvS"
      }
    },
    {
      "cell_type": "markdown",
      "source": [
        "Our first approach was to try to implement from scratch abstractive models, respectively based on LSTM and Transformers. We let our implementations in appendix/draft at the end of this notebook, unfortunately we had to deal with many issues, above all of RAM and GPU RAM saturation... "
      ],
      "metadata": {
        "id": "eYVYgApvsUrp"
      }
    },
    {
      "cell_type": "markdown",
      "source": [
        "### Pre-trained BARTHez"
      ],
      "metadata": {
        "id": "_I8xedbDsnIo"
      }
    },
    {
      "cell_type": "markdown",
      "source": [
        "BARTHez is a encoder-decoder model for French texts which uses the attention mechanism of transformers. It was presented together with OrangeSum dataset in the paper [*BARThez: a Skilled Pretrained French Sequence-to-Sequence Model*](https://arxiv.org/pdf/2010.12321.pdf), and a version pre-trained on a really wide french corpus is available in [HuggingFace](https://huggingface.co/moussaKam/barthez).\n",
        "\n",
        "The main idea of this model is composed of a bidirectional encoder (similar as BART/BERT architectures), and a left-to-right auto-regressive decoder. Both the encoder and the decoder were pre-trained, and contains transformer's attention mechanism. "
      ],
      "metadata": {
        "id": "npGZuzq6sq_y"
      }
    },
    {
      "cell_type": "code",
      "source": [
        "from transformers import AutoTokenizer, AutoModelForSeq2SeqLM"
      ],
      "metadata": {
        "id": "u_4dWyBoC_Er"
      },
      "execution_count": 3,
      "outputs": []
    },
    {
      "cell_type": "code",
      "source": [
        "tokenizer_barthez = AutoTokenizer.from_pretrained(\"moussaKam/barthez\")\n",
        "model_barthez = AutoModelForSeq2SeqLM.from_pretrained(\"moussaKam/barthez\")"
      ],
      "metadata": {
        "id": "4zZ504IhsqYr",
        "colab": {
          "base_uri": "https://localhost:8080/",
          "height": 145,
          "referenced_widgets": [
            "2b892da07bd140cf9313745043914185",
            "e9864a39b3314457b1b3d6b3309a642e",
            "2704e58169984085a8995f066e687152",
            "313717fb53c04749aa444c62f40582a8",
            "93db7f4e56734641b2a4a93ad9835c0f",
            "0b65efffacc24759b4cc0555af6bd0f9",
            "2149472796974a36b6a4f74715ebff66",
            "b7e66bac17e4457e827b50d1b342bde5",
            "8b5d47bc8ab849dfbd7bce6233a6c7e3",
            "33c1eb0bdc344ac9b8275a33be5f3024",
            "979e778c865e494d9996667b0f18ef70",
            "6d3a6cac98b24c688748ab74cf43d8e5",
            "4bdd0035dbca434bbdd6e43389d05d01",
            "37cb1773d5024b65ad09e30da23d2f9d",
            "041775e33dbd431db17d8d43cbf8aaa3",
            "e6e7060e0cfe469a86057b5cc8c106dd",
            "c5349989e02b422c83053fac33d5c68a",
            "3fc054241fd14868aa07f9805071db78",
            "326815ed36fe48b1aa070d2ba1b02b13",
            "817ebde2268f420982a607fd1405d10b",
            "46c09838c6ef4ec6885c18b8a03caeff",
            "62e79912f7b14ff0be343412c5f76243",
            "570ec4b7323245a4b6b3e7c61a3d42ec",
            "87d8f5cf973949ae9d314607080bb74a",
            "4bc35c5c425149cd8b4b164247a91ff6",
            "80728c03d7b948d498c44f7e1235033e",
            "34b1875744494494926310758e42e825",
            "f2c8be7a2a934dc6be07a1ed0ec95699",
            "b9d2d221694140d7accb311b2fcab487",
            "9a33daca10ff448e9b9353732a70a108",
            "7896f37de59947d19de20dfd4c43e560",
            "a520df1fd66c4f0fa71246cedb012fc8",
            "33ecf947077844e0a514aeda7a5dd550",
            "68b38e1df63f43c1889b12698617dee3",
            "bef20a0fdcfb4aff98c6402bd1f1cad8",
            "c0395fa1b7db40f889196dd31b4c5f58",
            "e9514979aae945778660421ca04abee0",
            "e0b95bffa37d4c028f7dd8961f68dcde",
            "a75d97edeb0141aeab6a316592201090",
            "2d13314a0951478bbd9de343f0990290",
            "1e2a75dc086648559c8a007b3fc2d1d5",
            "0abe70bcb216440d96f7e1baf79c6fd9",
            "86fb0656855347d5bf28257bd1c59ccc",
            "bfa50795b1b94e759a5d6e068dd14760"
          ]
        },
        "outputId": "98a4e7e1-4d47-4be5-d283-8325f4209e9e"
      },
      "execution_count": 4,
      "outputs": [
        {
          "output_type": "display_data",
          "data": {
            "text/plain": [
              "Downloading:   0%|          | 0.00/1.26k [00:00<?, ?B/s]"
            ],
            "application/vnd.jupyter.widget-view+json": {
              "version_major": 2,
              "version_minor": 0,
              "model_id": "2b892da07bd140cf9313745043914185"
            }
          },
          "metadata": {}
        },
        {
          "output_type": "display_data",
          "data": {
            "text/plain": [
              "Downloading:   0%|          | 0.00/1.06M [00:00<?, ?B/s]"
            ],
            "application/vnd.jupyter.widget-view+json": {
              "version_major": 2,
              "version_minor": 0,
              "model_id": "6d3a6cac98b24c688748ab74cf43d8e5"
            }
          },
          "metadata": {}
        },
        {
          "output_type": "display_data",
          "data": {
            "text/plain": [
              "Downloading:   0%|          | 0.00/2.51M [00:00<?, ?B/s]"
            ],
            "application/vnd.jupyter.widget-view+json": {
              "version_major": 2,
              "version_minor": 0,
              "model_id": "570ec4b7323245a4b6b3e7c61a3d42ec"
            }
          },
          "metadata": {}
        },
        {
          "output_type": "display_data",
          "data": {
            "text/plain": [
              "Downloading:   0%|          | 0.00/531M [00:00<?, ?B/s]"
            ],
            "application/vnd.jupyter.widget-view+json": {
              "version_major": 2,
              "version_minor": 0,
              "model_id": "68b38e1df63f43c1889b12698617dee3"
            }
          },
          "metadata": {}
        }
      ]
    },
    {
      "cell_type": "markdown",
      "source": [
        "#### Architecture :"
      ],
      "metadata": {
        "id": "8pnwhO5PDv4P"
      }
    },
    {
      "cell_type": "code",
      "source": [
        "print('Architecture of BARTHez model :')\n",
        "print('-'*30)\n",
        "model_barthez"
      ],
      "metadata": {
        "colab": {
          "base_uri": "https://localhost:8080/"
        },
        "id": "8Doki8gyDBn7",
        "outputId": "cdec3d2d-c4c5-4e8c-dbd9-0655ba38514b"
      },
      "execution_count": 8,
      "outputs": [
        {
          "output_type": "stream",
          "name": "stdout",
          "text": [
            "Architecture of BARTHez model :\n",
            "------------------------------\n"
          ]
        },
        {
          "output_type": "execute_result",
          "data": {
            "text/plain": [
              "MBartForConditionalGeneration(\n",
              "  (model): MBartModel(\n",
              "    (shared): Embedding(50002, 768, padding_idx=1)\n",
              "    (encoder): MBartEncoder(\n",
              "      (embed_tokens): Embedding(50002, 768, padding_idx=1)\n",
              "      (embed_positions): MBartLearnedPositionalEmbedding(1026, 768)\n",
              "      (layers): ModuleList(\n",
              "        (0): MBartEncoderLayer(\n",
              "          (self_attn): MBartAttention(\n",
              "            (k_proj): Linear(in_features=768, out_features=768, bias=True)\n",
              "            (v_proj): Linear(in_features=768, out_features=768, bias=True)\n",
              "            (q_proj): Linear(in_features=768, out_features=768, bias=True)\n",
              "            (out_proj): Linear(in_features=768, out_features=768, bias=True)\n",
              "          )\n",
              "          (self_attn_layer_norm): LayerNorm((768,), eps=1e-05, elementwise_affine=True)\n",
              "          (activation_fn): GELUActivation()\n",
              "          (fc1): Linear(in_features=768, out_features=3072, bias=True)\n",
              "          (fc2): Linear(in_features=3072, out_features=768, bias=True)\n",
              "          (final_layer_norm): LayerNorm((768,), eps=1e-05, elementwise_affine=True)\n",
              "        )\n",
              "        (1): MBartEncoderLayer(\n",
              "          (self_attn): MBartAttention(\n",
              "            (k_proj): Linear(in_features=768, out_features=768, bias=True)\n",
              "            (v_proj): Linear(in_features=768, out_features=768, bias=True)\n",
              "            (q_proj): Linear(in_features=768, out_features=768, bias=True)\n",
              "            (out_proj): Linear(in_features=768, out_features=768, bias=True)\n",
              "          )\n",
              "          (self_attn_layer_norm): LayerNorm((768,), eps=1e-05, elementwise_affine=True)\n",
              "          (activation_fn): GELUActivation()\n",
              "          (fc1): Linear(in_features=768, out_features=3072, bias=True)\n",
              "          (fc2): Linear(in_features=3072, out_features=768, bias=True)\n",
              "          (final_layer_norm): LayerNorm((768,), eps=1e-05, elementwise_affine=True)\n",
              "        )\n",
              "        (2): MBartEncoderLayer(\n",
              "          (self_attn): MBartAttention(\n",
              "            (k_proj): Linear(in_features=768, out_features=768, bias=True)\n",
              "            (v_proj): Linear(in_features=768, out_features=768, bias=True)\n",
              "            (q_proj): Linear(in_features=768, out_features=768, bias=True)\n",
              "            (out_proj): Linear(in_features=768, out_features=768, bias=True)\n",
              "          )\n",
              "          (self_attn_layer_norm): LayerNorm((768,), eps=1e-05, elementwise_affine=True)\n",
              "          (activation_fn): GELUActivation()\n",
              "          (fc1): Linear(in_features=768, out_features=3072, bias=True)\n",
              "          (fc2): Linear(in_features=3072, out_features=768, bias=True)\n",
              "          (final_layer_norm): LayerNorm((768,), eps=1e-05, elementwise_affine=True)\n",
              "        )\n",
              "        (3): MBartEncoderLayer(\n",
              "          (self_attn): MBartAttention(\n",
              "            (k_proj): Linear(in_features=768, out_features=768, bias=True)\n",
              "            (v_proj): Linear(in_features=768, out_features=768, bias=True)\n",
              "            (q_proj): Linear(in_features=768, out_features=768, bias=True)\n",
              "            (out_proj): Linear(in_features=768, out_features=768, bias=True)\n",
              "          )\n",
              "          (self_attn_layer_norm): LayerNorm((768,), eps=1e-05, elementwise_affine=True)\n",
              "          (activation_fn): GELUActivation()\n",
              "          (fc1): Linear(in_features=768, out_features=3072, bias=True)\n",
              "          (fc2): Linear(in_features=3072, out_features=768, bias=True)\n",
              "          (final_layer_norm): LayerNorm((768,), eps=1e-05, elementwise_affine=True)\n",
              "        )\n",
              "        (4): MBartEncoderLayer(\n",
              "          (self_attn): MBartAttention(\n",
              "            (k_proj): Linear(in_features=768, out_features=768, bias=True)\n",
              "            (v_proj): Linear(in_features=768, out_features=768, bias=True)\n",
              "            (q_proj): Linear(in_features=768, out_features=768, bias=True)\n",
              "            (out_proj): Linear(in_features=768, out_features=768, bias=True)\n",
              "          )\n",
              "          (self_attn_layer_norm): LayerNorm((768,), eps=1e-05, elementwise_affine=True)\n",
              "          (activation_fn): GELUActivation()\n",
              "          (fc1): Linear(in_features=768, out_features=3072, bias=True)\n",
              "          (fc2): Linear(in_features=3072, out_features=768, bias=True)\n",
              "          (final_layer_norm): LayerNorm((768,), eps=1e-05, elementwise_affine=True)\n",
              "        )\n",
              "        (5): MBartEncoderLayer(\n",
              "          (self_attn): MBartAttention(\n",
              "            (k_proj): Linear(in_features=768, out_features=768, bias=True)\n",
              "            (v_proj): Linear(in_features=768, out_features=768, bias=True)\n",
              "            (q_proj): Linear(in_features=768, out_features=768, bias=True)\n",
              "            (out_proj): Linear(in_features=768, out_features=768, bias=True)\n",
              "          )\n",
              "          (self_attn_layer_norm): LayerNorm((768,), eps=1e-05, elementwise_affine=True)\n",
              "          (activation_fn): GELUActivation()\n",
              "          (fc1): Linear(in_features=768, out_features=3072, bias=True)\n",
              "          (fc2): Linear(in_features=3072, out_features=768, bias=True)\n",
              "          (final_layer_norm): LayerNorm((768,), eps=1e-05, elementwise_affine=True)\n",
              "        )\n",
              "      )\n",
              "      (layernorm_embedding): LayerNorm((768,), eps=1e-05, elementwise_affine=True)\n",
              "      (layer_norm): LayerNorm((768,), eps=1e-05, elementwise_affine=True)\n",
              "    )\n",
              "    (decoder): MBartDecoder(\n",
              "      (embed_tokens): Embedding(50002, 768, padding_idx=1)\n",
              "      (embed_positions): MBartLearnedPositionalEmbedding(1026, 768)\n",
              "      (layers): ModuleList(\n",
              "        (0): MBartDecoderLayer(\n",
              "          (self_attn): MBartAttention(\n",
              "            (k_proj): Linear(in_features=768, out_features=768, bias=True)\n",
              "            (v_proj): Linear(in_features=768, out_features=768, bias=True)\n",
              "            (q_proj): Linear(in_features=768, out_features=768, bias=True)\n",
              "            (out_proj): Linear(in_features=768, out_features=768, bias=True)\n",
              "          )\n",
              "          (activation_fn): GELUActivation()\n",
              "          (self_attn_layer_norm): LayerNorm((768,), eps=1e-05, elementwise_affine=True)\n",
              "          (encoder_attn): MBartAttention(\n",
              "            (k_proj): Linear(in_features=768, out_features=768, bias=True)\n",
              "            (v_proj): Linear(in_features=768, out_features=768, bias=True)\n",
              "            (q_proj): Linear(in_features=768, out_features=768, bias=True)\n",
              "            (out_proj): Linear(in_features=768, out_features=768, bias=True)\n",
              "          )\n",
              "          (encoder_attn_layer_norm): LayerNorm((768,), eps=1e-05, elementwise_affine=True)\n",
              "          (fc1): Linear(in_features=768, out_features=3072, bias=True)\n",
              "          (fc2): Linear(in_features=3072, out_features=768, bias=True)\n",
              "          (final_layer_norm): LayerNorm((768,), eps=1e-05, elementwise_affine=True)\n",
              "        )\n",
              "        (1): MBartDecoderLayer(\n",
              "          (self_attn): MBartAttention(\n",
              "            (k_proj): Linear(in_features=768, out_features=768, bias=True)\n",
              "            (v_proj): Linear(in_features=768, out_features=768, bias=True)\n",
              "            (q_proj): Linear(in_features=768, out_features=768, bias=True)\n",
              "            (out_proj): Linear(in_features=768, out_features=768, bias=True)\n",
              "          )\n",
              "          (activation_fn): GELUActivation()\n",
              "          (self_attn_layer_norm): LayerNorm((768,), eps=1e-05, elementwise_affine=True)\n",
              "          (encoder_attn): MBartAttention(\n",
              "            (k_proj): Linear(in_features=768, out_features=768, bias=True)\n",
              "            (v_proj): Linear(in_features=768, out_features=768, bias=True)\n",
              "            (q_proj): Linear(in_features=768, out_features=768, bias=True)\n",
              "            (out_proj): Linear(in_features=768, out_features=768, bias=True)\n",
              "          )\n",
              "          (encoder_attn_layer_norm): LayerNorm((768,), eps=1e-05, elementwise_affine=True)\n",
              "          (fc1): Linear(in_features=768, out_features=3072, bias=True)\n",
              "          (fc2): Linear(in_features=3072, out_features=768, bias=True)\n",
              "          (final_layer_norm): LayerNorm((768,), eps=1e-05, elementwise_affine=True)\n",
              "        )\n",
              "        (2): MBartDecoderLayer(\n",
              "          (self_attn): MBartAttention(\n",
              "            (k_proj): Linear(in_features=768, out_features=768, bias=True)\n",
              "            (v_proj): Linear(in_features=768, out_features=768, bias=True)\n",
              "            (q_proj): Linear(in_features=768, out_features=768, bias=True)\n",
              "            (out_proj): Linear(in_features=768, out_features=768, bias=True)\n",
              "          )\n",
              "          (activation_fn): GELUActivation()\n",
              "          (self_attn_layer_norm): LayerNorm((768,), eps=1e-05, elementwise_affine=True)\n",
              "          (encoder_attn): MBartAttention(\n",
              "            (k_proj): Linear(in_features=768, out_features=768, bias=True)\n",
              "            (v_proj): Linear(in_features=768, out_features=768, bias=True)\n",
              "            (q_proj): Linear(in_features=768, out_features=768, bias=True)\n",
              "            (out_proj): Linear(in_features=768, out_features=768, bias=True)\n",
              "          )\n",
              "          (encoder_attn_layer_norm): LayerNorm((768,), eps=1e-05, elementwise_affine=True)\n",
              "          (fc1): Linear(in_features=768, out_features=3072, bias=True)\n",
              "          (fc2): Linear(in_features=3072, out_features=768, bias=True)\n",
              "          (final_layer_norm): LayerNorm((768,), eps=1e-05, elementwise_affine=True)\n",
              "        )\n",
              "        (3): MBartDecoderLayer(\n",
              "          (self_attn): MBartAttention(\n",
              "            (k_proj): Linear(in_features=768, out_features=768, bias=True)\n",
              "            (v_proj): Linear(in_features=768, out_features=768, bias=True)\n",
              "            (q_proj): Linear(in_features=768, out_features=768, bias=True)\n",
              "            (out_proj): Linear(in_features=768, out_features=768, bias=True)\n",
              "          )\n",
              "          (activation_fn): GELUActivation()\n",
              "          (self_attn_layer_norm): LayerNorm((768,), eps=1e-05, elementwise_affine=True)\n",
              "          (encoder_attn): MBartAttention(\n",
              "            (k_proj): Linear(in_features=768, out_features=768, bias=True)\n",
              "            (v_proj): Linear(in_features=768, out_features=768, bias=True)\n",
              "            (q_proj): Linear(in_features=768, out_features=768, bias=True)\n",
              "            (out_proj): Linear(in_features=768, out_features=768, bias=True)\n",
              "          )\n",
              "          (encoder_attn_layer_norm): LayerNorm((768,), eps=1e-05, elementwise_affine=True)\n",
              "          (fc1): Linear(in_features=768, out_features=3072, bias=True)\n",
              "          (fc2): Linear(in_features=3072, out_features=768, bias=True)\n",
              "          (final_layer_norm): LayerNorm((768,), eps=1e-05, elementwise_affine=True)\n",
              "        )\n",
              "        (4): MBartDecoderLayer(\n",
              "          (self_attn): MBartAttention(\n",
              "            (k_proj): Linear(in_features=768, out_features=768, bias=True)\n",
              "            (v_proj): Linear(in_features=768, out_features=768, bias=True)\n",
              "            (q_proj): Linear(in_features=768, out_features=768, bias=True)\n",
              "            (out_proj): Linear(in_features=768, out_features=768, bias=True)\n",
              "          )\n",
              "          (activation_fn): GELUActivation()\n",
              "          (self_attn_layer_norm): LayerNorm((768,), eps=1e-05, elementwise_affine=True)\n",
              "          (encoder_attn): MBartAttention(\n",
              "            (k_proj): Linear(in_features=768, out_features=768, bias=True)\n",
              "            (v_proj): Linear(in_features=768, out_features=768, bias=True)\n",
              "            (q_proj): Linear(in_features=768, out_features=768, bias=True)\n",
              "            (out_proj): Linear(in_features=768, out_features=768, bias=True)\n",
              "          )\n",
              "          (encoder_attn_layer_norm): LayerNorm((768,), eps=1e-05, elementwise_affine=True)\n",
              "          (fc1): Linear(in_features=768, out_features=3072, bias=True)\n",
              "          (fc2): Linear(in_features=3072, out_features=768, bias=True)\n",
              "          (final_layer_norm): LayerNorm((768,), eps=1e-05, elementwise_affine=True)\n",
              "        )\n",
              "        (5): MBartDecoderLayer(\n",
              "          (self_attn): MBartAttention(\n",
              "            (k_proj): Linear(in_features=768, out_features=768, bias=True)\n",
              "            (v_proj): Linear(in_features=768, out_features=768, bias=True)\n",
              "            (q_proj): Linear(in_features=768, out_features=768, bias=True)\n",
              "            (out_proj): Linear(in_features=768, out_features=768, bias=True)\n",
              "          )\n",
              "          (activation_fn): GELUActivation()\n",
              "          (self_attn_layer_norm): LayerNorm((768,), eps=1e-05, elementwise_affine=True)\n",
              "          (encoder_attn): MBartAttention(\n",
              "            (k_proj): Linear(in_features=768, out_features=768, bias=True)\n",
              "            (v_proj): Linear(in_features=768, out_features=768, bias=True)\n",
              "            (q_proj): Linear(in_features=768, out_features=768, bias=True)\n",
              "            (out_proj): Linear(in_features=768, out_features=768, bias=True)\n",
              "          )\n",
              "          (encoder_attn_layer_norm): LayerNorm((768,), eps=1e-05, elementwise_affine=True)\n",
              "          (fc1): Linear(in_features=768, out_features=3072, bias=True)\n",
              "          (fc2): Linear(in_features=3072, out_features=768, bias=True)\n",
              "          (final_layer_norm): LayerNorm((768,), eps=1e-05, elementwise_affine=True)\n",
              "        )\n",
              "      )\n",
              "      (layernorm_embedding): LayerNorm((768,), eps=1e-05, elementwise_affine=True)\n",
              "      (layer_norm): LayerNorm((768,), eps=1e-05, elementwise_affine=True)\n",
              "    )\n",
              "  )\n",
              "  (lm_head): Linear(in_features=768, out_features=50002, bias=False)\n",
              ")"
            ]
          },
          "metadata": {},
          "execution_count": 8
        }
      ]
    },
    {
      "cell_type": "markdown",
      "source": [
        "↪ A common embedding is shared for the encoder and the decoder, and contains embeddings of size $768$ for a vocabulary of $50000$ words. Positional embeddings of size $1026$ were also used and learned during the training, padding the texts up to $1026$ tokens.\n",
        "\n",
        "↪ Both encoder and decoder are composed of $6$ blocks, each one containing a self attention block, followed by GeLU activations, intermediate linear layers and finaly a layer norm."
      ],
      "metadata": {
        "id": "ElXvhsFpDshp"
      }
    },
    {
      "cell_type": "code",
      "source": [
        "print_thousands = lambda x : '{:,}'.format(x).replace(',', ' ')\n",
        "\n",
        "print('Number of parameters of BARTHez model : ', print_thousands(sum(p.numel() for p in model_barthez.parameters())))\n",
        "\n",
        "print(' | Number of parameters of the (shared) embeddings : ', print_thousands(sum(p.numel() for p in model_barthez.model.shared.parameters())))\n",
        "print(' | Number of parameters of the encoder (without embeddings) : ', print_thousands(sum(p.numel() for p in model_barthez.model.encoder.parameters())-sum(p.numel() for p in model_barthez.model.shared.parameters())))\n",
        "print(' | Number of parameters of the decoder : (without embeddings) ', print_thousands(sum(p.numel() for p in model_barthez.model.decoder.parameters())-sum(p.numel() for p in model_barthez.model.shared.parameters())))"
      ],
      "metadata": {
        "colab": {
          "base_uri": "https://localhost:8080/"
        },
        "id": "WcyvVnQCDFkR",
        "outputId": "4e1a55a7-1524-4d0a-946c-6433ce5ff64b"
      },
      "execution_count": 25,
      "outputs": [
        {
          "output_type": "stream",
          "name": "stdout",
          "text": [
            "Number of parameters of BARTHez model :  139 221 504\n",
            " | Number of parameters of the (shared) embeddings :  38 401 536\n",
            " | Number of parameters of the encoder (without embeddings) :  43 318 272\n",
            " | Number of parameters of the decoder : (without embeddings)  57 501 696\n"
          ]
        }
      ]
    },
    {
      "cell_type": "markdown",
      "source": [
        "↪ The number of parameters is really high, so, if we want to re-train this model on OrangeSum to try to have better results on this dataset, we may froze a part of the model (like the embeddings for instance)"
      ],
      "metadata": {
        "id": "4wpkP7WPGBYz"
      }
    },
    {
      "cell_type": "markdown",
      "source": [
        "#### Re-training on OrangeSum - TODO :"
      ],
      "metadata": {
        "id": "kMBqDmbsGuDP"
      }
    },
    {
      "cell_type": "markdown",
      "source": [
        "We can try to freeze the embedding parameters of the model, and re-train it on our dataset, to try to obtain better performance on it (even if, BARTHez being pre-trained on a very high corpus, its performances should already been satisfying)."
      ],
      "metadata": {
        "id": "GLHDFkwlGxIY"
      }
    },
    {
      "cell_type": "code",
      "source": [
        "# Freeze the parameters of the embeddings, they will not be updated during the training :\n",
        "for param in model_barthez.model.shared.parameters():\n",
        "    param.requires_grad = False"
      ],
      "metadata": {
        "id": "8arrLCD0Hsdi"
      },
      "execution_count": 26,
      "outputs": []
    },
    {
      "cell_type": "code",
      "source": [
        "print('Number of trainable parameters (encoder+decoder): ', print_thousands(sum(p.numel() for p in model_barthez.parameters() if p.requires_grad)))"
      ],
      "metadata": {
        "colab": {
          "base_uri": "https://localhost:8080/"
        },
        "id": "9AF-nLGcH9jy",
        "outputId": "24786ed1-6d40-48b3-f1c8-2d140db71c4a"
      },
      "execution_count": 29,
      "outputs": [
        {
          "output_type": "stream",
          "name": "stdout",
          "text": [
            "Number of trainable parameters (encoder+decoder):  100 819 968\n"
          ]
        }
      ]
    },
    {
      "cell_type": "code",
      "source": [
        "# Training function & training on OrangeSum : \n",
        "\n",
        "# [...]"
      ],
      "metadata": {
        "id": "dt0322LMIUtD"
      },
      "execution_count": null,
      "outputs": []
    },
    {
      "cell_type": "code",
      "source": [
        ""
      ],
      "metadata": {
        "id": "WDm-vmi4HAGs"
      },
      "execution_count": null,
      "outputs": []
    },
    {
      "cell_type": "code",
      "source": [
        ""
      ],
      "metadata": {
        "id": "BAj7z-82GwYf"
      },
      "execution_count": null,
      "outputs": []
    },
    {
      "cell_type": "markdown",
      "source": [
        "## Tests & Experiments - TODO"
      ],
      "metadata": {
        "id": "ViOoTjOzSoKr"
      }
    },
    {
      "cell_type": "markdown",
      "source": [
        "### Quantitative Experiments"
      ],
      "metadata": {
        "id": "jDja_Xf0s0NS"
      }
    },
    {
      "cell_type": "markdown",
      "source": [
        "For our quantitative experiments, we will mainly use the ROUGE score, presented in the report attached to this notebook, and in the article [*ROUGE: A Package for Automatic Evaluation of summaries*](https://www.researchgate.net/publication/224890821_ROUGE_A_Package_for_Automatic_Evaluation_of_summaries)."
      ],
      "metadata": {
        "id": "zxJi4B-5s2S-"
      }
    },
    {
      "cell_type": "code",
      "source": [
        "# Generate all the predictions on the validation set here, compute ROUGE score then\n",
        "# (see an example of use of ROUGE score in the example given in TextRank subsection)"
      ],
      "metadata": {
        "id": "OTO9Bqc1J0Wr"
      },
      "execution_count": null,
      "outputs": []
    },
    {
      "cell_type": "code",
      "source": [
        ""
      ],
      "metadata": {
        "id": "ZE08pLRNucMR"
      },
      "execution_count": null,
      "outputs": []
    },
    {
      "cell_type": "code",
      "source": [
        ""
      ],
      "metadata": {
        "id": "hPbU9xRzucOC"
      },
      "execution_count": null,
      "outputs": []
    },
    {
      "cell_type": "markdown",
      "source": [
        "### Qualitative Experiments"
      ],
      "metadata": {
        "id": "rRht6n8ssxr8"
      }
    },
    {
      "cell_type": "markdown",
      "source": [
        "<blockquote> \n",
        "\n",
        "What can be done in this section :    \n",
        "\n",
        "\n",
        "1.   compare all generated summaries for one or two articles with interesting examples \n",
        "2.   use the topic classification model used in the stat desc part, to see if the topic attributed to the articles is the same as the one attributed to the generated summaries\n",
        "3.   try to found a completely different type of text, for instance a very impartial/factual one (CASS, WikiLingua), or an article dealing with a completely new topic (fashion, maths, idk), and compare \"visually\" the ability of our model to adapt and produce a revelant summary \n",
        "\n",
        "</blockquote> \n",
        "\n"
      ],
      "metadata": {
        "id": "6TYDfUnqtOrR"
      }
    },
    {
      "cell_type": "code",
      "source": [
        ""
      ],
      "metadata": {
        "id": "TZBJqoOwm5rt"
      },
      "execution_count": null,
      "outputs": []
    },
    {
      "cell_type": "code",
      "source": [
        ""
      ],
      "metadata": {
        "id": "ivZarod7m5to"
      },
      "execution_count": null,
      "outputs": []
    },
    {
      "cell_type": "code",
      "source": [
        ""
      ],
      "metadata": {
        "id": "9ouf_GGsm5v2"
      },
      "execution_count": null,
      "outputs": []
    },
    {
      "cell_type": "markdown",
      "source": [
        "---\n",
        "\n",
        "---"
      ],
      "metadata": {
        "id": "lKe9aZUgJ9L_"
      }
    },
    {
      "cell_type": "markdown",
      "source": [
        "## Appendix/Draft - unsuccessful attempts for abstractive models' implementation from scratch"
      ],
      "metadata": {
        "id": "ieNYdK05mwXB"
      }
    },
    {
      "cell_type": "markdown",
      "source": [
        "### RNN-based model :"
      ],
      "metadata": {
        "id": "llYF_1LE3MMR"
      }
    },
    {
      "cell_type": "markdown",
      "source": [
        "In this part, we try to reuse the encoder-decoder based on RNN implemented in lab5 for translation. We will modify the embedding definition in both the encoder and the decoder, as we would like to use the embeddings vectors computed previously."
      ],
      "metadata": {
        "id": "Plf0DUFSo_2N"
      }
    },
    {
      "cell_type": "markdown",
      "source": [
        "#### Architecture :"
      ],
      "metadata": {
        "id": "bw0ebMX6qv84"
      }
    },
    {
      "cell_type": "code",
      "source": [
        "class EncoderRNN(nn.Module):\n",
        "    def __init__(self, embeddings_vectors, padding_idx=1, device=device):\n",
        "        super(EncoderRNN, self).__init__()\n",
        "\n",
        "        self.embedding_dim = embeddings_vectors.shape[1]\n",
        "        # we use an embedding layer : \n",
        "        self.embedding = nn.Embedding.from_pretrained(embeddings_vectors, freeze=True, padding_idx=padding_idx).to(device)       \n",
        "        # we define a GRU layer (Gated Recurrent Unit), a simpler version of recurrent layer and way simple than LSTM\n",
        "        self.gru = nn.GRU(self.embedding_dim, self.embedding_dim, device=device)\n",
        "\n",
        "    def forward(self, input, hidden):\n",
        "      # apply the embedding layer\n",
        "      embedded = self.embedding(input)\n",
        "      # modify the output shape in order for it to work with a GRU \n",
        "      output = embedded.view(-1,1,self.embedding_dim)\n",
        "      # apply the GRU layer\n",
        "      output, hidden = self.gru(output, hidden)\n",
        "      # return both the output, and the hidden vector\n",
        "      return output, hidden\n",
        "\n",
        "    def initHidden(self):\n",
        "        \"\"\" \n",
        "        method used to customize the hidden vector initialization.\n",
        "        here the vector is initialized as 0 with the correct shape and created directly on the correct device\n",
        "        \"\"\"\n",
        "        return torch.zeros(1, 1, self.embedding_dim, device=device)"
      ],
      "metadata": {
        "id": "f99GI6rcpHPj"
      },
      "execution_count": null,
      "outputs": []
    },
    {
      "cell_type": "code",
      "source": [
        "class DecoderRNN(nn.Module):\n",
        "    def __init__(self, embeddings_vectors, output_size=60, padding_idx=1, device=device):\n",
        "        super(DecoderRNN, self).__init__()\n",
        "\n",
        "        self.embedding_dim = embeddings_vectors.shape[1]\n",
        "        self.output_size = output_size\n",
        "        # we use an embedding layer : \n",
        "        self.embedding = nn.Embedding.from_pretrained(embeddings_vectors, freeze=True, padding_idx=padding_idx).to(device)       \n",
        "        # we define a GRU layer (Gated Recurrent Unit), a simpler version of recurrent layer and way simple than LSTM\n",
        "        self.gru = nn.GRU(self.embedding_dim, self.embedding_dim, device=device)\n",
        "        self.out = nn.Linear(self.embedding_dim, output_size, device=device)\n",
        "        self.softmax = nn.LogSoftmax(dim=1)\n",
        "\n",
        "    def forward(self, input, hidden):\n",
        "\n",
        "        # apply the embedding layer and modify the output shape in order for it to work with a GRU (we use batches of one element)\n",
        "        output = self.embedding(input)\n",
        "        output = output.view(-1,1,self.embedding_dim)\n",
        "\n",
        "        # apply a ReLU non linearization layer\n",
        "        output = F.relu(output)\n",
        "        # apply the GRU layer\n",
        "        output, hidden = self.gru(output, hidden)\n",
        "        # apply a softmax to get probabilities, on the first element of the output vector (batch is equal to one)\n",
        "        output = self.softmax(self.out(output[0]))\n",
        "        # return both the output probabilities and the hidden vector\n",
        "        return output, hidden\n",
        "\n",
        "    def initHidden(self):\n",
        "        \"\"\" \n",
        "        method used to customize the hidden vector initialization.\n",
        "        here the vector is initialized as 0 with the correct shape and created directly on the correct device\n",
        "        \"\"\"\n",
        "        return torch.zeros(1, 1, self.embedding_dim, device=device)"
      ],
      "metadata": {
        "id": "bC4jibqDqFyB"
      },
      "execution_count": null,
      "outputs": []
    },
    {
      "cell_type": "markdown",
      "source": [
        "#### Training functions :"
      ],
      "metadata": {
        "id": "W67bgMzmqzeh"
      }
    },
    {
      "cell_type": "code",
      "source": [
        "import random \n",
        "teacher_forcing_ratio = 0.5"
      ],
      "metadata": {
        "id": "-JZ8FWjkq31D"
      },
      "execution_count": null,
      "outputs": []
    },
    {
      "cell_type": "code",
      "source": [
        "max_length = 20"
      ],
      "metadata": {
        "id": "E--UJAMfrvri"
      },
      "execution_count": null,
      "outputs": []
    },
    {
      "cell_type": "code",
      "source": [
        "def train(input_tensor, target_tensor, encoder, decoder, encoder_optimizer, decoder_optimizer, criterion, max_length=max_length, device=device):\n",
        "    # put both encoder and decoder into trainning mode\n",
        "    encoder.train()\n",
        "    decoder.train()\n",
        "\n",
        "    # use our custom initialization of hidden vector\n",
        "    encoder_hidden = encoder.initHidden()\n",
        "\n",
        "    # remove the gradient to prevent gradient accumulation\n",
        "    encoder_optimizer.zero_grad()\n",
        "    decoder_optimizer.zero_grad()\n",
        "\n",
        "    # adapt the tensor sizes\n",
        "    input_tensor = input_tensor.view(input_tensor.size(1), input_tensor.size(0)) #input_tensor.view(1,1,-1)\n",
        "    target_tensor = target_tensor.view(target_tensor.size(1), target_tensor.size(0)) #target_tensor.view(1,1,-1)\n",
        "\n",
        "    # keep the lengths in memory\n",
        "    input_length = input_tensor.size(1)\n",
        "    target_length = target_tensor.size(1)\n",
        "\n",
        "    # prepare an empty output with the correct size and the correct device\n",
        "    encoder_outputs = torch.zeros(max_length, encoder.embedding_dim, device=device)\n",
        "\n",
        "    # init the loss to 0\n",
        "    loss = 0\n",
        "\n",
        "    # pass each token of the input_tensor to the encoder, then populate the output\n",
        "    for ei in range(input_length):\n",
        "      if ei >= max_length: break\n",
        "      encoder_output, encoder_hidden = encoder(input_tensor[ei], encoder_hidden)\n",
        "      encoder_outputs[ei] = encoder_output[0, 0]\n",
        "\n",
        "    # now we consider the decoder input, which starts only with the SOS token\n",
        "    decoder_input = torch.tensor([[SOS_IDX]], device=device)\n",
        "\n",
        "    # share the hidden vector from encoder to the decoder\n",
        "    decoder_hidden = encoder_hidden\n",
        "\n",
        "    # add a condition to teacher forcing\n",
        "    use_teacher_forcing = True if random.random() < teacher_forcing_ratio else False\n",
        "\n",
        "    if use_teacher_forcing:\n",
        "        # Teacher forcing: Feed the target as the next input\n",
        "        for di in range(target_length):\n",
        "            decoder_output, decoder_hidden = decoder(\n",
        "                decoder_input, decoder_hidden)\n",
        "            # apply the NLL loss\n",
        "            loss += criterion(decoder_output.to(device), target_tensor[di].to(device))\n",
        "            decoder_input = target_tensor[di]  # Teacher forcing\n",
        "\n",
        "    else:\n",
        "      # Without teacher forcing: use its own predictions as the next input\n",
        "      for di in range(target_length):\n",
        "          decoder_output, decoder_hidden = decoder(\n",
        "              decoder_input, decoder_hidden)\n",
        "          topv, topi = decoder_output.topk(1)\n",
        "          decoder_input = topi.squeeze().detach()  # detach from history as input\n",
        "          # compute the loss\n",
        "          loss += criterion(decoder_output, target_tensor[di].to(device))\n",
        "          # stop the iteration if the EOS token is predicted\n",
        "          if decoder_input.item() == EOS_IDX:\n",
        "              break\n",
        "    \n",
        "    # do the back propagation\n",
        "    loss.backward()\n",
        "\n",
        "    # notify each optimizers\n",
        "    encoder_optimizer.step()\n",
        "    decoder_optimizer.step()\n",
        "\n",
        "    # return the average loss\n",
        "    return loss.item() / target_length"
      ],
      "metadata": {
        "id": "A5OLYAn7q1PP"
      },
      "execution_count": null,
      "outputs": []
    },
    {
      "cell_type": "code",
      "source": [
        "def evaluate(encoder, decoder, vocabulary_decoder, input_tensor, target_tensor=None, max_length=max_length, criterion=None, device=device):\n",
        "    \"\"\"\n",
        "    function to evaluate a translation of one sentence\n",
        "    \"\"\"\n",
        "    # we evaluate, so we don't need gradients -> torch.no_grad()\n",
        "    with torch.no_grad():\n",
        "        \n",
        "        if target_tensor is None: target_length = 0\n",
        "        else: target_length = target_tensor.size(0)\n",
        "\n",
        "        encoder_hidden = encoder.initHidden()\n",
        "\n",
        "        decoding_length = target_length\n",
        "        input_length = input_tensor.size(0)\n",
        "\n",
        "        encoder_outputs = torch.zeros(max_length, encoder.embedding_dim, device=device)\n",
        "\n",
        "        # iterate through the input length \n",
        "        for ei in range(input_length):\n",
        "            if ei >= max_length: break\n",
        "            encoder_output, encoder_hidden = encoder(input_tensor[ei], encoder_hidden)\n",
        "            encoder_outputs[ei] += encoder_output[0, 0]\n",
        "\n",
        "        decoder_input = torch.tensor([[SOS_IDX]], device=device)  # SOS\n",
        "\n",
        "        decoder_hidden = encoder_hidden\n",
        "\n",
        "        decoded_words = []\n",
        "        \n",
        "        # init the loss (the loss is important if the cirterion is given - i.e. validation phase)\n",
        "        loss = 0\n",
        "\n",
        "        # iterate through decoding values, feeding the output for the next token until the condition or maximum lenght is reached\n",
        "        for di in range(decoding_length):\n",
        "            decoder_output, decoder_hidden = decoder(decoder_input, decoder_hidden)\n",
        "            print(decoder_output.shape)\n",
        "            topv, topi = decoder_output.data.topk(1)\n",
        "            if topi.item() == EOS_IDX:\n",
        "                decoded_words.append('<eos>')\n",
        "                break\n",
        "            else:\n",
        "                decoded_words.append(vocabulary_decoder['itos'][topi.item()])\n",
        "\n",
        "            decoder_input = topi.squeeze().detach()\n",
        "            # print(decoder_output.shape, decoder_output.max())\n",
        "            # print(target_tensor[di].unsqueeze(0).shape,target_tensor[di].unsqueeze(0).max())\n",
        "            if target_tensor != None and criterion is not None:\n",
        "              loss += criterion(decoder_output.to(device), target_tensor[di].unsqueeze(0).to(device))\n",
        "              if decoder_input.item() == EOS_IDX:\n",
        "                break\n",
        "            # print('ok4')\n",
        "        return decoded_words, loss"
      ],
      "metadata": {
        "id": "61XBYSsW3OAQ"
      },
      "execution_count": null,
      "outputs": []
    },
    {
      "cell_type": "code",
      "source": [
        "def inference(target, loader, encoder, decoder, vocabulary_encoder, vocabulary_decoder, criterion, limit=0, text_column='text', summary_column='summary'):\n",
        "  \"\"\"\n",
        "  fucntion to apply the inference logic over multiple translation and return a score\n",
        "  used for validation\n",
        "  \"\"\"\n",
        "  encoder.eval()\n",
        "  decoder.eval()\n",
        "  loss_it, glue_it = list(), list()\n",
        "  preds, trues = list(), list()\n",
        "\n",
        "  total = loader.__len__()\n",
        "  if limit > 0: total = limit\n",
        "\n",
        "  # iterate through the loader, can be a validation or test loader\n",
        "  for it, batch in tqdm(enumerate(loader), desc=\"%s:\" % (target), total=total):\n",
        "    \n",
        "    if limit > 0 and it >= limit: break\n",
        "\n",
        "    input_tensor = batch[text_column].squeeze().to(device)\n",
        "    target_tensor = batch[summary_column].squeeze().to(device)\n",
        "\n",
        "    # dummy sentence because this function is used for validation, not on-demand test\n",
        "    mock_sentence = \"dummy sentence not used\"\n",
        "\n",
        "    # compute entry and target sentences as \"real text\"\n",
        "    entry = [vocabulary_encoder['itos'][t] for t in input_tensor.tolist()]\n",
        "    entry = ' '.join( [e for e in entry if e not in ['<pad>', '<sos>', '<eos>', '<unk>']] )\n",
        "    true =  [vocabulary_decoder['itos'][t] for t in target_tensor.tolist()]\n",
        "    true = ' '.join( [r for r in true if r not in ['<pad>', '<sos>', '<eos>', '<unk>']] )\n",
        "    trues.append([true])\n",
        "\n",
        "    pred, loss = evaluate(encoder, decoder, vocabulary_decoder, input_tensor=input_tensor, target_tensor=target_tensor, criterion=criterion)\n",
        "    pred = ' '.join( [ h for h in pred if h not in ['<pad>', '<sos>', '<eos>', '<unk>'] ] )\n",
        "    preds.append(pred)\n",
        "    if criterion is not None: \n",
        "      try:\n",
        "        loss_it.append(loss.item())\n",
        "      except: pass\n",
        "    else: loss_it.append(loss)\n",
        "\n",
        "  # ROUGE score :\n",
        "  rouge_scoring = ROUGE()\n",
        "  rouge_scores = rouge.get_scores(preds, trues, avg=True)\n",
        "\n",
        "  loss_it_avg = sum(loss_it)/len(loss_it)\n",
        "\n",
        "  print(\"%s : (%s %s) (%s %s)\" % ( colored(target, 'blue'), colored('loss', 'cyan'), loss_it_avg, colored('rouge', 'cyan'), rouge_scores ))\n",
        "\n",
        "  return trues, preds, loss_it_avg, loss_it, rouge_scores "
      ],
      "metadata": {
        "id": "R3Pejr1xz9r0"
      },
      "execution_count": null,
      "outputs": []
    },
    {
      "cell_type": "code",
      "source": [
        "def run_epochs(train_loader, val_loader, encoder, decoder, vocabulary_encoder, vocabulary_decoder, max_epochs, learning_rate=0.01, limit=0, text_column='text', summary_column='summary', device=device):    \n",
        "    \n",
        "    # define the optimizer for both encoder and decoder separately.\n",
        "    # You can change it later on\n",
        "    encoder_optimizer = optim.SGD(encoder.parameters(), lr=learning_rate)\n",
        "    decoder_optimizer = optim.SGD(decoder.parameters(), lr=learning_rate)\n",
        "    criterion = nn.NLLLoss(ignore_index=PAD_IDX)\n",
        "\n",
        "    epoch_losses = []\n",
        "    val_epoch_losses = []\n",
        "\n",
        "    for ep in range(max_epochs):\n",
        "      \n",
        "      # TRAINING\n",
        "      it_losses = []\n",
        "\n",
        "      total = train_loader.__len__()\n",
        "      # allow to limit the number of random samples per epoch\n",
        "      if limit > 0: total = limit\n",
        "\n",
        "      for iter, batch in tqdm(enumerate(train_loader), desc=\"Epoch %s:\" % (ep), total=total):\n",
        "          # trigger the limit if it is set\n",
        "          if limit > 0 and iter >= limit: \n",
        "              break        \n",
        "\n",
        "          input_tensor = batch[text_column].to(device)\n",
        "          target_tensor = batch[summary_column].to(device)\n",
        "\n",
        "          loss = train(input_tensor, target_tensor, encoder, decoder, encoder_optimizer, decoder_optimizer, criterion)\n",
        "          it_losses.append(loss)\n",
        "\n",
        "      epoch_loss = sum(it_losses)/len(it_losses)\n",
        "      epoch_losses.append(epoch_loss)\n",
        "      print(\"Epoch %s : %s : (%s %s) \" % (colored(str(ep), 'blue'), colored('Training', 'blue'), colored('loss', 'cyan'), epoch_loss  ))\n",
        "\n",
        "      \n",
        "      # VALIDATION\n",
        "      trues, preds, val_loss_it_avg, val_loss_it, rouge_scores = inference(\"validation\", val_loader, encoder, decoder, vocabulary_encoder, vocabulary_decoder, criterion, limit, text_column, summary_column)\n",
        "      val_epoch_losses.append(val_loss_it_avg)\n",
        "\n",
        "      \n",
        "    return epoch_losses, val_epoch_losses"
      ],
      "metadata": {
        "id": "McXPfHTpuECD"
      },
      "execution_count": null,
      "outputs": []
    },
    {
      "cell_type": "markdown",
      "source": [
        "#### Training :"
      ],
      "metadata": {
        "id": "uY7YLFtzwoPx"
      }
    },
    {
      "cell_type": "code",
      "source": [
        "# device='cpu'"
      ],
      "metadata": {
        "id": "h0jsPptZPVbx"
      },
      "execution_count": null,
      "outputs": []
    },
    {
      "cell_type": "code",
      "source": [
        "# epochs = 20\n",
        "\n",
        "# embedding_matrix_orangesum = create_embedding_matrix(vocabulary_orangesum, pretrained_vectors_fasttext)\n",
        "# embedding_matrix_orangesum_summary = create_embedding_matrix(vocabulary_orangesum_summary, pretrained_vectors_fasttext)\n",
        "\n",
        "# # instanciate the encoder\n",
        "# encoder = EncoderRNN(embedding_matrix_orangesum,device='cpu')\n",
        "# # instanciate the decoder\n",
        "# decoder = DecoderRNN(embedding_matrix_orangesum_summary,device='cpu')"
      ],
      "metadata": {
        "id": "WYNvB1iTuSJZ"
      },
      "execution_count": null,
      "outputs": []
    },
    {
      "cell_type": "code",
      "source": [
        "# run_epochs(orangesum_train_loader, orangesum_validation_loader, encoder, decoder, vocabulary_encoder=vocabulary_orangesum, vocabulary_decoder=vocabulary_orangesum_summary , max_epochs=epochs)"
      ],
      "metadata": {
        "id": "RqbiYdEZu6ot"
      },
      "execution_count": null,
      "outputs": []
    },
    {
      "cell_type": "markdown",
      "source": [
        "↪ The training runs correctly, but the evaluation function seems to not be working, we have IndexErrors, like if the vocabularies are not correctly assigned to the encoder and decoder (as we want to use different vocabularies...)"
      ],
      "metadata": {
        "id": "oriXG7cHnk9B"
      }
    },
    {
      "cell_type": "code",
      "source": [
        ""
      ],
      "metadata": {
        "id": "txzPLaNA24hD"
      },
      "execution_count": null,
      "outputs": []
    },
    {
      "cell_type": "markdown",
      "source": [
        "### Transformer-based model :"
      ],
      "metadata": {
        "id": "JwjNhLEdxVzW"
      }
    },
    {
      "cell_type": "markdown",
      "source": [
        "The main idea of this model is to use a transformer architecture for modeling the encoder-decoder part of our model. We will add embeddings layers constructed from the embedding matrices or vector defined in the cleaning section, a classical positional encoding (with sine and cosine computations), and complete our model by adding a final layer to recover the vocabulary length from the output of the decoder.\n",
        "\n",
        "For this implementation, we got inspiration from BARTHez model, but also to some tutorials using keras, such as [this one](https://www.kaggle.com/code/ashishsingh226/text-summarization-with-transformers). "
      ],
      "metadata": {
        "id": "pxIx5P2hlx4D"
      }
    },
    {
      "cell_type": "code",
      "source": [
        "import math"
      ],
      "metadata": {
        "id": "-kR2XOceLEo1"
      },
      "execution_count": null,
      "outputs": []
    },
    {
      "cell_type": "markdown",
      "source": [
        "#### Architecture :"
      ],
      "metadata": {
        "id": "AanbeEnO4KA1"
      }
    },
    {
      "cell_type": "code",
      "source": [
        "# Taken from https://pytorch.org/tutorials/beginner/transformer_tutorial.html :\n",
        "\n",
        "class PositionalEncoding(nn.Module):\n",
        "\n",
        "    def __init__(self, d_model, dropout= 0.1, max_len=1000, device=device):\n",
        "        super().__init__()\n",
        "        self.dropout = nn.Dropout(p=dropout)\n",
        "\n",
        "        position = torch.arange(max_len).unsqueeze(1)\n",
        "        div_term = torch.exp(torch.arange(0, d_model, 2) * (-math.log(10000.0) / d_model))\n",
        "        pe = torch.zeros(max_len, 1, d_model)\n",
        "        pe[:, 0, 0::2] = torch.sin(position * div_term)\n",
        "        pe[:, 0, 1::2] = torch.cos(position * div_term)\n",
        "        self.register_buffer('pe', pe)\n",
        "\n",
        "    def forward(self, x) :\n",
        "        \"\"\"\n",
        "        Args:\n",
        "            x: Tensor, shape [seq_len, batch_size, embedding_dim]\n",
        "        \"\"\"\n",
        "        x = x + self.pe[:x.size(0)].to(device)\n",
        "        return self.dropout(x)"
      ],
      "metadata": {
        "id": "xwPk_VLmSB6u"
      },
      "execution_count": null,
      "outputs": []
    },
    {
      "cell_type": "code",
      "source": [
        "class AbstractiveTransformerModel () : \n",
        "\n",
        "    def __init__(self, embeddings_text_vectors, embeddings_summary_vectors, padding_idx=1,\n",
        "                 num_encoder_layers=6, num_decoder_layers=6, nhead=12, \n",
        "                 dim_feedforward=768, activation=nn.GELU(), device=device) :\n",
        "\n",
        "        super().__init__()\n",
        "\n",
        "        self.embedding_dim = embeddings_text_vectors.shape[1]\n",
        "        self.padding_idx = padding_idx\n",
        "            # Define a function to compute padding masks :\n",
        "        self.padding_mask = lambda text : (text==padding_idx).long()\n",
        "\n",
        "        # Define the architecture of our model : \n",
        "\n",
        "          # Embedding with frozen parameters :\n",
        "        self.embedding_encoder = nn.Embedding.from_pretrained(embeddings_text_vectors, freeze=True, padding_idx=padding_idx).to(device)\n",
        "        self.embedding_decoder = nn.Embedding.from_pretrained(embeddings_summary_vectors, freeze=True, padding_idx=padding_idx).to(device)\n",
        "\n",
        "          # Positionnal encoding : \n",
        "        self.positional_encoding = PositionalEncoding(d_model=self.embedding_dim)\n",
        "\n",
        "          # Transformer using directly torch's implementation :\n",
        "        transformer = nn.Transformer(d_model=self.embedding_dim, nhead=nhead, \n",
        "                                          num_encoder_layers=num_encoder_layers,\n",
        "                                          num_decoder_layers=num_decoder_layers,\n",
        "                                          dim_feedforward=dim_feedforward, \n",
        "                                          activation=activation).to(device)\n",
        "        self.encoder = transformer.encoder\n",
        "        self.decoder = transformer.decoder \n",
        "\n",
        "          # Final layer to obtain back vocabulary_summary_size :\n",
        "        vocab_summary_size = embeddings_summary_vectors.shape[0]\n",
        "        self.last_layer = nn.Linear(in_features=self.embedding_dim, out_features=vocab_summary_size,device=device)\n",
        "\n",
        " \n",
        "    def forward (self, text, target) : \n",
        "        # Encoding :\n",
        "        text_key_padding_mask = self.padding_mask(text) # shape batch_len x max_text_len\n",
        "        text = self.embedding_encoder(text)\n",
        "        text = self.positional_encoding(text.permute(1,0,2)) # Add positional encoding\n",
        "          # text : shape max_text_len x batch_len x embedding_dim\n",
        "        \n",
        "        encoder_output = self.encoder(text, src_key_padding_mask=text_key_padding_mask)\n",
        "        print('encoded')\n",
        "\n",
        "        # Decoding :\n",
        "        target_key_padding_mask = self.padding_mask(target) # shape batch_len x max_text_len\n",
        "        target = self.embedding_decoder(target)\n",
        "        target = self.positional_encoding(target.permute(1,0,2)) # Add positional encoding\n",
        "          # target : shape max_text_len x batch_len x embedding_dim\n",
        "        \n",
        "        decoder_output = self.decoder(tgt=target, memory=encoder_output, tgt_key_padding_mask=target_key_padding_mask)\n",
        "\n",
        "        # Final layer to obtain back the desired dimension :\n",
        "        output = self.last_layer(decoder_output)\n",
        "\n",
        "        return output"
      ],
      "metadata": {
        "id": "m_sA8zPZx0af"
      },
      "execution_count": null,
      "outputs": []
    },
    {
      "cell_type": "code",
      "source": [
        "# Smaller parameters : \n",
        "# (the parameters per default of the model correspond to BART architecture,\n",
        "# but they are really high, so we will change them into smaller ones)\n",
        "num_encoder_layers = 3 \n",
        "num_decoder_layers = 3 \n",
        "nhead = 4\n",
        "dim_feedforward = 512"
      ],
      "metadata": {
        "id": "FJn4ZYordBBK"
      },
      "execution_count": null,
      "outputs": []
    },
    {
      "cell_type": "markdown",
      "source": [
        "---"
      ],
      "metadata": {
        "id": "Wzdntl45dpJc"
      }
    },
    {
      "cell_type": "markdown",
      "source": [
        "Test :"
      ],
      "metadata": {
        "id": "yO0D5jvDlg2r"
      }
    },
    {
      "cell_type": "code",
      "source": [
        "# a = next(iter(orangesum_train_loader))"
      ],
      "metadata": {
        "id": "-HvVZ_a6dYmR"
      },
      "execution_count": null,
      "outputs": []
    },
    {
      "cell_type": "code",
      "source": [
        "# text, target = a['text'].to(device), a['summary'].to(device)"
      ],
      "metadata": {
        "id": "KsS2Mu1zdfBF"
      },
      "execution_count": null,
      "outputs": []
    },
    {
      "cell_type": "code",
      "source": [
        "# a['text'].shape"
      ],
      "metadata": {
        "colab": {
          "base_uri": "https://localhost:8080/"
        },
        "id": "4knT64Vddhdc",
        "outputId": "5fb5f608-f88c-4af1-b7b8-2db16f67480b"
      },
      "execution_count": null,
      "outputs": [
        {
          "output_type": "execute_result",
          "data": {
            "text/plain": [
              "torch.Size([64, 1000])"
            ]
          },
          "metadata": {},
          "execution_count": 56
        }
      ]
    },
    {
      "cell_type": "code",
      "source": [
        "# embedding_matrix_orangesum_summary = create_embedding_matrix(vocabulary_orangesum_summary, pretrained_vectors_fasttext)"
      ],
      "metadata": {
        "colab": {
          "base_uri": "https://localhost:8080/"
        },
        "id": "fvHdDValekDo",
        "outputId": "9c18ec10-6370-4508-8931-8d8f9605f232"
      },
      "execution_count": null,
      "outputs": [
        {
          "output_type": "stream",
          "name": "stdout",
          "text": [
            "Random new embeddings were created for 2869 words, ie 13.74% of the vocabulary\n"
          ]
        }
      ]
    },
    {
      "cell_type": "code",
      "source": [
        "# embedding_matrix_orangesum.shape"
      ],
      "metadata": {
        "colab": {
          "base_uri": "https://localhost:8080/"
        },
        "id": "C0wIQIHelUiY",
        "outputId": "d9e3615d-5338-40b5-e39a-b299f6e4bbe0"
      },
      "execution_count": null,
      "outputs": [
        {
          "output_type": "execute_result",
          "data": {
            "text/plain": [
              "torch.Size([43584, 300])"
            ]
          },
          "metadata": {},
          "execution_count": 63
        }
      ]
    },
    {
      "cell_type": "code",
      "source": [
        "# embedding_matrix_orangesum_summary.shape"
      ],
      "metadata": {
        "colab": {
          "base_uri": "https://localhost:8080/"
        },
        "id": "hpk-uuKFlWoY",
        "outputId": "a11e9fe1-8cbc-498b-fdb2-c28b22329ec4"
      },
      "execution_count": null,
      "outputs": [
        {
          "output_type": "execute_result",
          "data": {
            "text/plain": [
              "torch.Size([20878, 300])"
            ]
          },
          "metadata": {},
          "execution_count": 64
        }
      ]
    },
    {
      "cell_type": "code",
      "source": [
        "# atm = AbstractiveTransformerModel(embeddings_text_vectors=embedding_matrix_orangesum, embeddings_summary_vectors=embedding_matrix_orangesum_summary,\n",
        "                                  num_encoder_layers = 3, num_decoder_layers = 3, nhead = 4, dim_feedforward = 512,\n",
        "                                  device=device)"
      ],
      "metadata": {
        "id": "_R83C6IXdqJi"
      },
      "execution_count": null,
      "outputs": []
    },
    {
      "cell_type": "code",
      "source": [
        "# output = atm.forward(text, target)"
      ],
      "metadata": {
        "id": "CBgt_GbTeIcg"
      },
      "execution_count": null,
      "outputs": []
    },
    {
      "cell_type": "markdown",
      "source": [
        "↪ The RAM (or GPU RAM) explodes when trying to use our model, even with small hyper-parameters for the architecture..."
      ],
      "metadata": {
        "id": "FUiuufBDnJD9"
      }
    },
    {
      "cell_type": "markdown",
      "source": [
        "---"
      ],
      "metadata": {
        "id": "Pf8e-TPM40pl"
      }
    },
    {
      "cell_type": "code",
      "source": [
        ""
      ],
      "metadata": {
        "id": "5Eh0vIjKmGiH"
      },
      "execution_count": null,
      "outputs": []
    }
  ]
}