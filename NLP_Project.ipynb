{
  "nbformat": 4,
  "nbformat_minor": 0,
  "metadata": {
    "colab": {
      "name": "NLP_Project.ipynb",
      "provenance": [],
      "collapsed_sections": [
        "s3hKJ3w-MUgc",
        "WeHdMdFHFaU-",
        "6M-I9xOHusMD",
        "hOls7k9R_O0n"
      ],
      "toc_visible": true
    },
    "kernelspec": {
      "name": "python3",
      "display_name": "Python 3"
    },
    "language_info": {
      "name": "python"
    },
    "widgets": {
      "application/vnd.jupyter.widget-state+json": {
        "8169770ff9074fe99025fdc0766143f2": {
          "model_module": "@jupyter-widgets/controls",
          "model_name": "HBoxModel",
          "model_module_version": "1.5.0",
          "state": {
            "_dom_classes": [],
            "_model_module": "@jupyter-widgets/controls",
            "_model_module_version": "1.5.0",
            "_model_name": "HBoxModel",
            "_view_count": null,
            "_view_module": "@jupyter-widgets/controls",
            "_view_module_version": "1.5.0",
            "_view_name": "HBoxView",
            "box_style": "",
            "children": [
              "IPY_MODEL_7e475091cbe54d9ea7e3e04f225c3d0c",
              "IPY_MODEL_6ec8c337167842f5bbb71da6175d5daa",
              "IPY_MODEL_21b0b65108e04d58a77fe23bcac6e79b"
            ],
            "layout": "IPY_MODEL_1a7723a0ca784eefb8ed0144e84394cc"
          }
        },
        "7e475091cbe54d9ea7e3e04f225c3d0c": {
          "model_module": "@jupyter-widgets/controls",
          "model_name": "HTMLModel",
          "model_module_version": "1.5.0",
          "state": {
            "_dom_classes": [],
            "_model_module": "@jupyter-widgets/controls",
            "_model_module_version": "1.5.0",
            "_model_name": "HTMLModel",
            "_view_count": null,
            "_view_module": "@jupyter-widgets/controls",
            "_view_module_version": "1.5.0",
            "_view_name": "HTMLView",
            "description": "",
            "description_tooltip": null,
            "layout": "IPY_MODEL_b4a489f2d154458b83f7f6d8b8dfb750",
            "placeholder": "​",
            "style": "IPY_MODEL_479fe56e3ab144ada1a86d5c76e5d454",
            "value": "100%"
          }
        },
        "6ec8c337167842f5bbb71da6175d5daa": {
          "model_module": "@jupyter-widgets/controls",
          "model_name": "FloatProgressModel",
          "model_module_version": "1.5.0",
          "state": {
            "_dom_classes": [],
            "_model_module": "@jupyter-widgets/controls",
            "_model_module_version": "1.5.0",
            "_model_name": "FloatProgressModel",
            "_view_count": null,
            "_view_module": "@jupyter-widgets/controls",
            "_view_module_version": "1.5.0",
            "_view_name": "ProgressView",
            "bar_style": "success",
            "description": "",
            "description_tooltip": null,
            "layout": "IPY_MODEL_c8360404de5f4ae7af0dc7bb9a19f1d5",
            "max": 21401,
            "min": 0,
            "orientation": "horizontal",
            "style": "IPY_MODEL_325e1de4892442cc9c9118c4fc6a0970",
            "value": 21401
          }
        },
        "21b0b65108e04d58a77fe23bcac6e79b": {
          "model_module": "@jupyter-widgets/controls",
          "model_name": "HTMLModel",
          "model_module_version": "1.5.0",
          "state": {
            "_dom_classes": [],
            "_model_module": "@jupyter-widgets/controls",
            "_model_module_version": "1.5.0",
            "_model_name": "HTMLModel",
            "_view_count": null,
            "_view_module": "@jupyter-widgets/controls",
            "_view_module_version": "1.5.0",
            "_view_name": "HTMLView",
            "description": "",
            "description_tooltip": null,
            "layout": "IPY_MODEL_4ca5f6429eb44fcdb5ba7bd3449f26d6",
            "placeholder": "​",
            "style": "IPY_MODEL_0992937e3b5743b08af2dead78bf5bcf",
            "value": " 21401/21401 [01:23&lt;00:00, 279.50it/s]"
          }
        },
        "1a7723a0ca784eefb8ed0144e84394cc": {
          "model_module": "@jupyter-widgets/base",
          "model_name": "LayoutModel",
          "model_module_version": "1.2.0",
          "state": {
            "_model_module": "@jupyter-widgets/base",
            "_model_module_version": "1.2.0",
            "_model_name": "LayoutModel",
            "_view_count": null,
            "_view_module": "@jupyter-widgets/base",
            "_view_module_version": "1.2.0",
            "_view_name": "LayoutView",
            "align_content": null,
            "align_items": null,
            "align_self": null,
            "border": null,
            "bottom": null,
            "display": null,
            "flex": null,
            "flex_flow": null,
            "grid_area": null,
            "grid_auto_columns": null,
            "grid_auto_flow": null,
            "grid_auto_rows": null,
            "grid_column": null,
            "grid_gap": null,
            "grid_row": null,
            "grid_template_areas": null,
            "grid_template_columns": null,
            "grid_template_rows": null,
            "height": null,
            "justify_content": null,
            "justify_items": null,
            "left": null,
            "margin": null,
            "max_height": null,
            "max_width": null,
            "min_height": null,
            "min_width": null,
            "object_fit": null,
            "object_position": null,
            "order": null,
            "overflow": null,
            "overflow_x": null,
            "overflow_y": null,
            "padding": null,
            "right": null,
            "top": null,
            "visibility": null,
            "width": null
          }
        },
        "b4a489f2d154458b83f7f6d8b8dfb750": {
          "model_module": "@jupyter-widgets/base",
          "model_name": "LayoutModel",
          "model_module_version": "1.2.0",
          "state": {
            "_model_module": "@jupyter-widgets/base",
            "_model_module_version": "1.2.0",
            "_model_name": "LayoutModel",
            "_view_count": null,
            "_view_module": "@jupyter-widgets/base",
            "_view_module_version": "1.2.0",
            "_view_name": "LayoutView",
            "align_content": null,
            "align_items": null,
            "align_self": null,
            "border": null,
            "bottom": null,
            "display": null,
            "flex": null,
            "flex_flow": null,
            "grid_area": null,
            "grid_auto_columns": null,
            "grid_auto_flow": null,
            "grid_auto_rows": null,
            "grid_column": null,
            "grid_gap": null,
            "grid_row": null,
            "grid_template_areas": null,
            "grid_template_columns": null,
            "grid_template_rows": null,
            "height": null,
            "justify_content": null,
            "justify_items": null,
            "left": null,
            "margin": null,
            "max_height": null,
            "max_width": null,
            "min_height": null,
            "min_width": null,
            "object_fit": null,
            "object_position": null,
            "order": null,
            "overflow": null,
            "overflow_x": null,
            "overflow_y": null,
            "padding": null,
            "right": null,
            "top": null,
            "visibility": null,
            "width": null
          }
        },
        "479fe56e3ab144ada1a86d5c76e5d454": {
          "model_module": "@jupyter-widgets/controls",
          "model_name": "DescriptionStyleModel",
          "model_module_version": "1.5.0",
          "state": {
            "_model_module": "@jupyter-widgets/controls",
            "_model_module_version": "1.5.0",
            "_model_name": "DescriptionStyleModel",
            "_view_count": null,
            "_view_module": "@jupyter-widgets/base",
            "_view_module_version": "1.2.0",
            "_view_name": "StyleView",
            "description_width": ""
          }
        },
        "c8360404de5f4ae7af0dc7bb9a19f1d5": {
          "model_module": "@jupyter-widgets/base",
          "model_name": "LayoutModel",
          "model_module_version": "1.2.0",
          "state": {
            "_model_module": "@jupyter-widgets/base",
            "_model_module_version": "1.2.0",
            "_model_name": "LayoutModel",
            "_view_count": null,
            "_view_module": "@jupyter-widgets/base",
            "_view_module_version": "1.2.0",
            "_view_name": "LayoutView",
            "align_content": null,
            "align_items": null,
            "align_self": null,
            "border": null,
            "bottom": null,
            "display": null,
            "flex": null,
            "flex_flow": null,
            "grid_area": null,
            "grid_auto_columns": null,
            "grid_auto_flow": null,
            "grid_auto_rows": null,
            "grid_column": null,
            "grid_gap": null,
            "grid_row": null,
            "grid_template_areas": null,
            "grid_template_columns": null,
            "grid_template_rows": null,
            "height": null,
            "justify_content": null,
            "justify_items": null,
            "left": null,
            "margin": null,
            "max_height": null,
            "max_width": null,
            "min_height": null,
            "min_width": null,
            "object_fit": null,
            "object_position": null,
            "order": null,
            "overflow": null,
            "overflow_x": null,
            "overflow_y": null,
            "padding": null,
            "right": null,
            "top": null,
            "visibility": null,
            "width": null
          }
        },
        "325e1de4892442cc9c9118c4fc6a0970": {
          "model_module": "@jupyter-widgets/controls",
          "model_name": "ProgressStyleModel",
          "model_module_version": "1.5.0",
          "state": {
            "_model_module": "@jupyter-widgets/controls",
            "_model_module_version": "1.5.0",
            "_model_name": "ProgressStyleModel",
            "_view_count": null,
            "_view_module": "@jupyter-widgets/base",
            "_view_module_version": "1.2.0",
            "_view_name": "StyleView",
            "bar_color": null,
            "description_width": ""
          }
        },
        "4ca5f6429eb44fcdb5ba7bd3449f26d6": {
          "model_module": "@jupyter-widgets/base",
          "model_name": "LayoutModel",
          "model_module_version": "1.2.0",
          "state": {
            "_model_module": "@jupyter-widgets/base",
            "_model_module_version": "1.2.0",
            "_model_name": "LayoutModel",
            "_view_count": null,
            "_view_module": "@jupyter-widgets/base",
            "_view_module_version": "1.2.0",
            "_view_name": "LayoutView",
            "align_content": null,
            "align_items": null,
            "align_self": null,
            "border": null,
            "bottom": null,
            "display": null,
            "flex": null,
            "flex_flow": null,
            "grid_area": null,
            "grid_auto_columns": null,
            "grid_auto_flow": null,
            "grid_auto_rows": null,
            "grid_column": null,
            "grid_gap": null,
            "grid_row": null,
            "grid_template_areas": null,
            "grid_template_columns": null,
            "grid_template_rows": null,
            "height": null,
            "justify_content": null,
            "justify_items": null,
            "left": null,
            "margin": null,
            "max_height": null,
            "max_width": null,
            "min_height": null,
            "min_width": null,
            "object_fit": null,
            "object_position": null,
            "order": null,
            "overflow": null,
            "overflow_x": null,
            "overflow_y": null,
            "padding": null,
            "right": null,
            "top": null,
            "visibility": null,
            "width": null
          }
        },
        "0992937e3b5743b08af2dead78bf5bcf": {
          "model_module": "@jupyter-widgets/controls",
          "model_name": "DescriptionStyleModel",
          "model_module_version": "1.5.0",
          "state": {
            "_model_module": "@jupyter-widgets/controls",
            "_model_module_version": "1.5.0",
            "_model_name": "DescriptionStyleModel",
            "_view_count": null,
            "_view_module": "@jupyter-widgets/base",
            "_view_module_version": "1.2.0",
            "_view_name": "StyleView",
            "description_width": ""
          }
        },
        "34e4e8f106fb4aeebc57e4477fd2d9d5": {
          "model_module": "@jupyter-widgets/controls",
          "model_name": "HBoxModel",
          "model_module_version": "1.5.0",
          "state": {
            "_dom_classes": [],
            "_model_module": "@jupyter-widgets/controls",
            "_model_module_version": "1.5.0",
            "_model_name": "HBoxModel",
            "_view_count": null,
            "_view_module": "@jupyter-widgets/controls",
            "_view_module_version": "1.5.0",
            "_view_name": "HBoxView",
            "box_style": "",
            "children": [
              "IPY_MODEL_b48a4e024a72499c8748fb5443cdd772",
              "IPY_MODEL_000c70081363496bbd6f4f4db71b6719",
              "IPY_MODEL_57f4a87503d441b6b0f4eba1492efbdc"
            ],
            "layout": "IPY_MODEL_01c41f16c2e0471c8cb78ec551e89375"
          }
        },
        "b48a4e024a72499c8748fb5443cdd772": {
          "model_module": "@jupyter-widgets/controls",
          "model_name": "HTMLModel",
          "model_module_version": "1.5.0",
          "state": {
            "_dom_classes": [],
            "_model_module": "@jupyter-widgets/controls",
            "_model_module_version": "1.5.0",
            "_model_name": "HTMLModel",
            "_view_count": null,
            "_view_module": "@jupyter-widgets/controls",
            "_view_module_version": "1.5.0",
            "_view_name": "HTMLView",
            "description": "",
            "description_tooltip": null,
            "layout": "IPY_MODEL_43c92056d6dc4f6fb14b6b6ba0d00555",
            "placeholder": "​",
            "style": "IPY_MODEL_4af0d8e5ad7f4acfa9fdac157584dafb",
            "value": "100%"
          }
        },
        "000c70081363496bbd6f4f4db71b6719": {
          "model_module": "@jupyter-widgets/controls",
          "model_name": "FloatProgressModel",
          "model_module_version": "1.5.0",
          "state": {
            "_dom_classes": [],
            "_model_module": "@jupyter-widgets/controls",
            "_model_module_version": "1.5.0",
            "_model_name": "FloatProgressModel",
            "_view_count": null,
            "_view_module": "@jupyter-widgets/controls",
            "_view_module_version": "1.5.0",
            "_view_name": "ProgressView",
            "bar_style": "success",
            "description": "",
            "description_tooltip": null,
            "layout": "IPY_MODEL_f7967b75ee5a4412814a7f22b07c7e5d",
            "max": 21401,
            "min": 0,
            "orientation": "horizontal",
            "style": "IPY_MODEL_83f3971f714e4568ad19d51eb724d3db",
            "value": 21401
          }
        },
        "57f4a87503d441b6b0f4eba1492efbdc": {
          "model_module": "@jupyter-widgets/controls",
          "model_name": "HTMLModel",
          "model_module_version": "1.5.0",
          "state": {
            "_dom_classes": [],
            "_model_module": "@jupyter-widgets/controls",
            "_model_module_version": "1.5.0",
            "_model_name": "HTMLModel",
            "_view_count": null,
            "_view_module": "@jupyter-widgets/controls",
            "_view_module_version": "1.5.0",
            "_view_name": "HTMLView",
            "description": "",
            "description_tooltip": null,
            "layout": "IPY_MODEL_cb88fa16343049afa0db12d27676fe07",
            "placeholder": "​",
            "style": "IPY_MODEL_8901099fffde4826a4304406c514abd1",
            "value": " 21401/21401 [00:11&lt;00:00, 1791.89it/s]"
          }
        },
        "01c41f16c2e0471c8cb78ec551e89375": {
          "model_module": "@jupyter-widgets/base",
          "model_name": "LayoutModel",
          "model_module_version": "1.2.0",
          "state": {
            "_model_module": "@jupyter-widgets/base",
            "_model_module_version": "1.2.0",
            "_model_name": "LayoutModel",
            "_view_count": null,
            "_view_module": "@jupyter-widgets/base",
            "_view_module_version": "1.2.0",
            "_view_name": "LayoutView",
            "align_content": null,
            "align_items": null,
            "align_self": null,
            "border": null,
            "bottom": null,
            "display": null,
            "flex": null,
            "flex_flow": null,
            "grid_area": null,
            "grid_auto_columns": null,
            "grid_auto_flow": null,
            "grid_auto_rows": null,
            "grid_column": null,
            "grid_gap": null,
            "grid_row": null,
            "grid_template_areas": null,
            "grid_template_columns": null,
            "grid_template_rows": null,
            "height": null,
            "justify_content": null,
            "justify_items": null,
            "left": null,
            "margin": null,
            "max_height": null,
            "max_width": null,
            "min_height": null,
            "min_width": null,
            "object_fit": null,
            "object_position": null,
            "order": null,
            "overflow": null,
            "overflow_x": null,
            "overflow_y": null,
            "padding": null,
            "right": null,
            "top": null,
            "visibility": null,
            "width": null
          }
        },
        "43c92056d6dc4f6fb14b6b6ba0d00555": {
          "model_module": "@jupyter-widgets/base",
          "model_name": "LayoutModel",
          "model_module_version": "1.2.0",
          "state": {
            "_model_module": "@jupyter-widgets/base",
            "_model_module_version": "1.2.0",
            "_model_name": "LayoutModel",
            "_view_count": null,
            "_view_module": "@jupyter-widgets/base",
            "_view_module_version": "1.2.0",
            "_view_name": "LayoutView",
            "align_content": null,
            "align_items": null,
            "align_self": null,
            "border": null,
            "bottom": null,
            "display": null,
            "flex": null,
            "flex_flow": null,
            "grid_area": null,
            "grid_auto_columns": null,
            "grid_auto_flow": null,
            "grid_auto_rows": null,
            "grid_column": null,
            "grid_gap": null,
            "grid_row": null,
            "grid_template_areas": null,
            "grid_template_columns": null,
            "grid_template_rows": null,
            "height": null,
            "justify_content": null,
            "justify_items": null,
            "left": null,
            "margin": null,
            "max_height": null,
            "max_width": null,
            "min_height": null,
            "min_width": null,
            "object_fit": null,
            "object_position": null,
            "order": null,
            "overflow": null,
            "overflow_x": null,
            "overflow_y": null,
            "padding": null,
            "right": null,
            "top": null,
            "visibility": null,
            "width": null
          }
        },
        "4af0d8e5ad7f4acfa9fdac157584dafb": {
          "model_module": "@jupyter-widgets/controls",
          "model_name": "DescriptionStyleModel",
          "model_module_version": "1.5.0",
          "state": {
            "_model_module": "@jupyter-widgets/controls",
            "_model_module_version": "1.5.0",
            "_model_name": "DescriptionStyleModel",
            "_view_count": null,
            "_view_module": "@jupyter-widgets/base",
            "_view_module_version": "1.2.0",
            "_view_name": "StyleView",
            "description_width": ""
          }
        },
        "f7967b75ee5a4412814a7f22b07c7e5d": {
          "model_module": "@jupyter-widgets/base",
          "model_name": "LayoutModel",
          "model_module_version": "1.2.0",
          "state": {
            "_model_module": "@jupyter-widgets/base",
            "_model_module_version": "1.2.0",
            "_model_name": "LayoutModel",
            "_view_count": null,
            "_view_module": "@jupyter-widgets/base",
            "_view_module_version": "1.2.0",
            "_view_name": "LayoutView",
            "align_content": null,
            "align_items": null,
            "align_self": null,
            "border": null,
            "bottom": null,
            "display": null,
            "flex": null,
            "flex_flow": null,
            "grid_area": null,
            "grid_auto_columns": null,
            "grid_auto_flow": null,
            "grid_auto_rows": null,
            "grid_column": null,
            "grid_gap": null,
            "grid_row": null,
            "grid_template_areas": null,
            "grid_template_columns": null,
            "grid_template_rows": null,
            "height": null,
            "justify_content": null,
            "justify_items": null,
            "left": null,
            "margin": null,
            "max_height": null,
            "max_width": null,
            "min_height": null,
            "min_width": null,
            "object_fit": null,
            "object_position": null,
            "order": null,
            "overflow": null,
            "overflow_x": null,
            "overflow_y": null,
            "padding": null,
            "right": null,
            "top": null,
            "visibility": null,
            "width": null
          }
        },
        "83f3971f714e4568ad19d51eb724d3db": {
          "model_module": "@jupyter-widgets/controls",
          "model_name": "ProgressStyleModel",
          "model_module_version": "1.5.0",
          "state": {
            "_model_module": "@jupyter-widgets/controls",
            "_model_module_version": "1.5.0",
            "_model_name": "ProgressStyleModel",
            "_view_count": null,
            "_view_module": "@jupyter-widgets/base",
            "_view_module_version": "1.2.0",
            "_view_name": "StyleView",
            "bar_color": null,
            "description_width": ""
          }
        },
        "cb88fa16343049afa0db12d27676fe07": {
          "model_module": "@jupyter-widgets/base",
          "model_name": "LayoutModel",
          "model_module_version": "1.2.0",
          "state": {
            "_model_module": "@jupyter-widgets/base",
            "_model_module_version": "1.2.0",
            "_model_name": "LayoutModel",
            "_view_count": null,
            "_view_module": "@jupyter-widgets/base",
            "_view_module_version": "1.2.0",
            "_view_name": "LayoutView",
            "align_content": null,
            "align_items": null,
            "align_self": null,
            "border": null,
            "bottom": null,
            "display": null,
            "flex": null,
            "flex_flow": null,
            "grid_area": null,
            "grid_auto_columns": null,
            "grid_auto_flow": null,
            "grid_auto_rows": null,
            "grid_column": null,
            "grid_gap": null,
            "grid_row": null,
            "grid_template_areas": null,
            "grid_template_columns": null,
            "grid_template_rows": null,
            "height": null,
            "justify_content": null,
            "justify_items": null,
            "left": null,
            "margin": null,
            "max_height": null,
            "max_width": null,
            "min_height": null,
            "min_width": null,
            "object_fit": null,
            "object_position": null,
            "order": null,
            "overflow": null,
            "overflow_x": null,
            "overflow_y": null,
            "padding": null,
            "right": null,
            "top": null,
            "visibility": null,
            "width": null
          }
        },
        "8901099fffde4826a4304406c514abd1": {
          "model_module": "@jupyter-widgets/controls",
          "model_name": "DescriptionStyleModel",
          "model_module_version": "1.5.0",
          "state": {
            "_model_module": "@jupyter-widgets/controls",
            "_model_module_version": "1.5.0",
            "_model_name": "DescriptionStyleModel",
            "_view_count": null,
            "_view_module": "@jupyter-widgets/base",
            "_view_module_version": "1.2.0",
            "_view_name": "StyleView",
            "description_width": ""
          }
        },
        "fcaf3663ceef49f18aad323dbc9e8894": {
          "model_module": "@jupyter-widgets/controls",
          "model_name": "HBoxModel",
          "model_module_version": "1.5.0",
          "state": {
            "_dom_classes": [],
            "_model_module": "@jupyter-widgets/controls",
            "_model_module_version": "1.5.0",
            "_model_name": "HBoxModel",
            "_view_count": null,
            "_view_module": "@jupyter-widgets/controls",
            "_view_module_version": "1.5.0",
            "_view_name": "HBoxView",
            "box_style": "",
            "children": [
              "IPY_MODEL_8eeb8f3270c1477495dc389e100d411e",
              "IPY_MODEL_2d0ab02f189a43e69917ffa268f9f379",
              "IPY_MODEL_6fd72ac6329e4c818cc06cde4c42079b"
            ],
            "layout": "IPY_MODEL_65af8b91bdbf4c8abc684bed00e27e3b"
          }
        },
        "8eeb8f3270c1477495dc389e100d411e": {
          "model_module": "@jupyter-widgets/controls",
          "model_name": "HTMLModel",
          "model_module_version": "1.5.0",
          "state": {
            "_dom_classes": [],
            "_model_module": "@jupyter-widgets/controls",
            "_model_module_version": "1.5.0",
            "_model_name": "HTMLModel",
            "_view_count": null,
            "_view_module": "@jupyter-widgets/controls",
            "_view_module_version": "1.5.0",
            "_view_name": "HTMLView",
            "description": "",
            "description_tooltip": null,
            "layout": "IPY_MODEL_b08b0d92dec44818ab5005dc2c78eccc",
            "placeholder": "​",
            "style": "IPY_MODEL_64f3bf55fe2b49adb6254eba7ac636d8",
            "value": "100%"
          }
        },
        "2d0ab02f189a43e69917ffa268f9f379": {
          "model_module": "@jupyter-widgets/controls",
          "model_name": "FloatProgressModel",
          "model_module_version": "1.5.0",
          "state": {
            "_dom_classes": [],
            "_model_module": "@jupyter-widgets/controls",
            "_model_module_version": "1.5.0",
            "_model_name": "FloatProgressModel",
            "_view_count": null,
            "_view_module": "@jupyter-widgets/controls",
            "_view_module_version": "1.5.0",
            "_view_name": "ProgressView",
            "bar_style": "success",
            "description": "",
            "description_tooltip": null,
            "layout": "IPY_MODEL_88312c837b41486eb9e49cee5961382c",
            "max": 21401,
            "min": 0,
            "orientation": "horizontal",
            "style": "IPY_MODEL_2b1c19fbfaf844b7a7879c26ce46a87c",
            "value": 21401
          }
        },
        "6fd72ac6329e4c818cc06cde4c42079b": {
          "model_module": "@jupyter-widgets/controls",
          "model_name": "HTMLModel",
          "model_module_version": "1.5.0",
          "state": {
            "_dom_classes": [],
            "_model_module": "@jupyter-widgets/controls",
            "_model_module_version": "1.5.0",
            "_model_name": "HTMLModel",
            "_view_count": null,
            "_view_module": "@jupyter-widgets/controls",
            "_view_module_version": "1.5.0",
            "_view_name": "HTMLView",
            "description": "",
            "description_tooltip": null,
            "layout": "IPY_MODEL_fe29a45ffb1e48df954d13939f563a38",
            "placeholder": "​",
            "style": "IPY_MODEL_cec78bd01c0f4d0e8166b92cda30927a",
            "value": " 21401/21401 [01:35&lt;00:00, 250.45it/s]"
          }
        },
        "65af8b91bdbf4c8abc684bed00e27e3b": {
          "model_module": "@jupyter-widgets/base",
          "model_name": "LayoutModel",
          "model_module_version": "1.2.0",
          "state": {
            "_model_module": "@jupyter-widgets/base",
            "_model_module_version": "1.2.0",
            "_model_name": "LayoutModel",
            "_view_count": null,
            "_view_module": "@jupyter-widgets/base",
            "_view_module_version": "1.2.0",
            "_view_name": "LayoutView",
            "align_content": null,
            "align_items": null,
            "align_self": null,
            "border": null,
            "bottom": null,
            "display": null,
            "flex": null,
            "flex_flow": null,
            "grid_area": null,
            "grid_auto_columns": null,
            "grid_auto_flow": null,
            "grid_auto_rows": null,
            "grid_column": null,
            "grid_gap": null,
            "grid_row": null,
            "grid_template_areas": null,
            "grid_template_columns": null,
            "grid_template_rows": null,
            "height": null,
            "justify_content": null,
            "justify_items": null,
            "left": null,
            "margin": null,
            "max_height": null,
            "max_width": null,
            "min_height": null,
            "min_width": null,
            "object_fit": null,
            "object_position": null,
            "order": null,
            "overflow": null,
            "overflow_x": null,
            "overflow_y": null,
            "padding": null,
            "right": null,
            "top": null,
            "visibility": null,
            "width": null
          }
        },
        "b08b0d92dec44818ab5005dc2c78eccc": {
          "model_module": "@jupyter-widgets/base",
          "model_name": "LayoutModel",
          "model_module_version": "1.2.0",
          "state": {
            "_model_module": "@jupyter-widgets/base",
            "_model_module_version": "1.2.0",
            "_model_name": "LayoutModel",
            "_view_count": null,
            "_view_module": "@jupyter-widgets/base",
            "_view_module_version": "1.2.0",
            "_view_name": "LayoutView",
            "align_content": null,
            "align_items": null,
            "align_self": null,
            "border": null,
            "bottom": null,
            "display": null,
            "flex": null,
            "flex_flow": null,
            "grid_area": null,
            "grid_auto_columns": null,
            "grid_auto_flow": null,
            "grid_auto_rows": null,
            "grid_column": null,
            "grid_gap": null,
            "grid_row": null,
            "grid_template_areas": null,
            "grid_template_columns": null,
            "grid_template_rows": null,
            "height": null,
            "justify_content": null,
            "justify_items": null,
            "left": null,
            "margin": null,
            "max_height": null,
            "max_width": null,
            "min_height": null,
            "min_width": null,
            "object_fit": null,
            "object_position": null,
            "order": null,
            "overflow": null,
            "overflow_x": null,
            "overflow_y": null,
            "padding": null,
            "right": null,
            "top": null,
            "visibility": null,
            "width": null
          }
        },
        "64f3bf55fe2b49adb6254eba7ac636d8": {
          "model_module": "@jupyter-widgets/controls",
          "model_name": "DescriptionStyleModel",
          "model_module_version": "1.5.0",
          "state": {
            "_model_module": "@jupyter-widgets/controls",
            "_model_module_version": "1.5.0",
            "_model_name": "DescriptionStyleModel",
            "_view_count": null,
            "_view_module": "@jupyter-widgets/base",
            "_view_module_version": "1.2.0",
            "_view_name": "StyleView",
            "description_width": ""
          }
        },
        "88312c837b41486eb9e49cee5961382c": {
          "model_module": "@jupyter-widgets/base",
          "model_name": "LayoutModel",
          "model_module_version": "1.2.0",
          "state": {
            "_model_module": "@jupyter-widgets/base",
            "_model_module_version": "1.2.0",
            "_model_name": "LayoutModel",
            "_view_count": null,
            "_view_module": "@jupyter-widgets/base",
            "_view_module_version": "1.2.0",
            "_view_name": "LayoutView",
            "align_content": null,
            "align_items": null,
            "align_self": null,
            "border": null,
            "bottom": null,
            "display": null,
            "flex": null,
            "flex_flow": null,
            "grid_area": null,
            "grid_auto_columns": null,
            "grid_auto_flow": null,
            "grid_auto_rows": null,
            "grid_column": null,
            "grid_gap": null,
            "grid_row": null,
            "grid_template_areas": null,
            "grid_template_columns": null,
            "grid_template_rows": null,
            "height": null,
            "justify_content": null,
            "justify_items": null,
            "left": null,
            "margin": null,
            "max_height": null,
            "max_width": null,
            "min_height": null,
            "min_width": null,
            "object_fit": null,
            "object_position": null,
            "order": null,
            "overflow": null,
            "overflow_x": null,
            "overflow_y": null,
            "padding": null,
            "right": null,
            "top": null,
            "visibility": null,
            "width": null
          }
        },
        "2b1c19fbfaf844b7a7879c26ce46a87c": {
          "model_module": "@jupyter-widgets/controls",
          "model_name": "ProgressStyleModel",
          "model_module_version": "1.5.0",
          "state": {
            "_model_module": "@jupyter-widgets/controls",
            "_model_module_version": "1.5.0",
            "_model_name": "ProgressStyleModel",
            "_view_count": null,
            "_view_module": "@jupyter-widgets/base",
            "_view_module_version": "1.2.0",
            "_view_name": "StyleView",
            "bar_color": null,
            "description_width": ""
          }
        },
        "fe29a45ffb1e48df954d13939f563a38": {
          "model_module": "@jupyter-widgets/base",
          "model_name": "LayoutModel",
          "model_module_version": "1.2.0",
          "state": {
            "_model_module": "@jupyter-widgets/base",
            "_model_module_version": "1.2.0",
            "_model_name": "LayoutModel",
            "_view_count": null,
            "_view_module": "@jupyter-widgets/base",
            "_view_module_version": "1.2.0",
            "_view_name": "LayoutView",
            "align_content": null,
            "align_items": null,
            "align_self": null,
            "border": null,
            "bottom": null,
            "display": null,
            "flex": null,
            "flex_flow": null,
            "grid_area": null,
            "grid_auto_columns": null,
            "grid_auto_flow": null,
            "grid_auto_rows": null,
            "grid_column": null,
            "grid_gap": null,
            "grid_row": null,
            "grid_template_areas": null,
            "grid_template_columns": null,
            "grid_template_rows": null,
            "height": null,
            "justify_content": null,
            "justify_items": null,
            "left": null,
            "margin": null,
            "max_height": null,
            "max_width": null,
            "min_height": null,
            "min_width": null,
            "object_fit": null,
            "object_position": null,
            "order": null,
            "overflow": null,
            "overflow_x": null,
            "overflow_y": null,
            "padding": null,
            "right": null,
            "top": null,
            "visibility": null,
            "width": null
          }
        },
        "cec78bd01c0f4d0e8166b92cda30927a": {
          "model_module": "@jupyter-widgets/controls",
          "model_name": "DescriptionStyleModel",
          "model_module_version": "1.5.0",
          "state": {
            "_model_module": "@jupyter-widgets/controls",
            "_model_module_version": "1.5.0",
            "_model_name": "DescriptionStyleModel",
            "_view_count": null,
            "_view_module": "@jupyter-widgets/base",
            "_view_module_version": "1.2.0",
            "_view_name": "StyleView",
            "description_width": ""
          }
        },
        "ba917bcc875341fca86b2fc9160e8078": {
          "model_module": "@jupyter-widgets/controls",
          "model_name": "HBoxModel",
          "model_module_version": "1.5.0",
          "state": {
            "_dom_classes": [],
            "_model_module": "@jupyter-widgets/controls",
            "_model_module_version": "1.5.0",
            "_model_name": "HBoxModel",
            "_view_count": null,
            "_view_module": "@jupyter-widgets/controls",
            "_view_module_version": "1.5.0",
            "_view_name": "HBoxView",
            "box_style": "",
            "children": [
              "IPY_MODEL_3d09a8b9ba874ef5bdd8ba6d78b2c92e",
              "IPY_MODEL_23f6dc94a7d444ebb86b6540377d5987",
              "IPY_MODEL_5ad30d5b16994f0f89613daacc564123"
            ],
            "layout": "IPY_MODEL_87de53e251a5442e9b1168f204b44967"
          }
        },
        "3d09a8b9ba874ef5bdd8ba6d78b2c92e": {
          "model_module": "@jupyter-widgets/controls",
          "model_name": "HTMLModel",
          "model_module_version": "1.5.0",
          "state": {
            "_dom_classes": [],
            "_model_module": "@jupyter-widgets/controls",
            "_model_module_version": "1.5.0",
            "_model_name": "HTMLModel",
            "_view_count": null,
            "_view_module": "@jupyter-widgets/controls",
            "_view_module_version": "1.5.0",
            "_view_name": "HTMLView",
            "description": "",
            "description_tooltip": null,
            "layout": "IPY_MODEL_d79fdd48531447148a9a9a916f27ab01",
            "placeholder": "​",
            "style": "IPY_MODEL_e71d5e9f1c6b453ab592c8374a7e6ac3",
            "value": "100%"
          }
        },
        "23f6dc94a7d444ebb86b6540377d5987": {
          "model_module": "@jupyter-widgets/controls",
          "model_name": "FloatProgressModel",
          "model_module_version": "1.5.0",
          "state": {
            "_dom_classes": [],
            "_model_module": "@jupyter-widgets/controls",
            "_model_module_version": "1.5.0",
            "_model_name": "FloatProgressModel",
            "_view_count": null,
            "_view_module": "@jupyter-widgets/controls",
            "_view_module_version": "1.5.0",
            "_view_name": "ProgressView",
            "bar_style": "success",
            "description": "",
            "description_tooltip": null,
            "layout": "IPY_MODEL_81e175d3943e4a079571453cc7faf82c",
            "max": 21401,
            "min": 0,
            "orientation": "horizontal",
            "style": "IPY_MODEL_bd89a4e0e62d469ebaadf4b925d245a9",
            "value": 21401
          }
        },
        "5ad30d5b16994f0f89613daacc564123": {
          "model_module": "@jupyter-widgets/controls",
          "model_name": "HTMLModel",
          "model_module_version": "1.5.0",
          "state": {
            "_dom_classes": [],
            "_model_module": "@jupyter-widgets/controls",
            "_model_module_version": "1.5.0",
            "_model_name": "HTMLModel",
            "_view_count": null,
            "_view_module": "@jupyter-widgets/controls",
            "_view_module_version": "1.5.0",
            "_view_name": "HTMLView",
            "description": "",
            "description_tooltip": null,
            "layout": "IPY_MODEL_fb651af4c23748ffadcbd355fa3ed35c",
            "placeholder": "​",
            "style": "IPY_MODEL_b5b22cac06e74e6eb735c934943c8cae",
            "value": " 21401/21401 [00:14&lt;00:00, 1439.74it/s]"
          }
        },
        "87de53e251a5442e9b1168f204b44967": {
          "model_module": "@jupyter-widgets/base",
          "model_name": "LayoutModel",
          "model_module_version": "1.2.0",
          "state": {
            "_model_module": "@jupyter-widgets/base",
            "_model_module_version": "1.2.0",
            "_model_name": "LayoutModel",
            "_view_count": null,
            "_view_module": "@jupyter-widgets/base",
            "_view_module_version": "1.2.0",
            "_view_name": "LayoutView",
            "align_content": null,
            "align_items": null,
            "align_self": null,
            "border": null,
            "bottom": null,
            "display": null,
            "flex": null,
            "flex_flow": null,
            "grid_area": null,
            "grid_auto_columns": null,
            "grid_auto_flow": null,
            "grid_auto_rows": null,
            "grid_column": null,
            "grid_gap": null,
            "grid_row": null,
            "grid_template_areas": null,
            "grid_template_columns": null,
            "grid_template_rows": null,
            "height": null,
            "justify_content": null,
            "justify_items": null,
            "left": null,
            "margin": null,
            "max_height": null,
            "max_width": null,
            "min_height": null,
            "min_width": null,
            "object_fit": null,
            "object_position": null,
            "order": null,
            "overflow": null,
            "overflow_x": null,
            "overflow_y": null,
            "padding": null,
            "right": null,
            "top": null,
            "visibility": null,
            "width": null
          }
        },
        "d79fdd48531447148a9a9a916f27ab01": {
          "model_module": "@jupyter-widgets/base",
          "model_name": "LayoutModel",
          "model_module_version": "1.2.0",
          "state": {
            "_model_module": "@jupyter-widgets/base",
            "_model_module_version": "1.2.0",
            "_model_name": "LayoutModel",
            "_view_count": null,
            "_view_module": "@jupyter-widgets/base",
            "_view_module_version": "1.2.0",
            "_view_name": "LayoutView",
            "align_content": null,
            "align_items": null,
            "align_self": null,
            "border": null,
            "bottom": null,
            "display": null,
            "flex": null,
            "flex_flow": null,
            "grid_area": null,
            "grid_auto_columns": null,
            "grid_auto_flow": null,
            "grid_auto_rows": null,
            "grid_column": null,
            "grid_gap": null,
            "grid_row": null,
            "grid_template_areas": null,
            "grid_template_columns": null,
            "grid_template_rows": null,
            "height": null,
            "justify_content": null,
            "justify_items": null,
            "left": null,
            "margin": null,
            "max_height": null,
            "max_width": null,
            "min_height": null,
            "min_width": null,
            "object_fit": null,
            "object_position": null,
            "order": null,
            "overflow": null,
            "overflow_x": null,
            "overflow_y": null,
            "padding": null,
            "right": null,
            "top": null,
            "visibility": null,
            "width": null
          }
        },
        "e71d5e9f1c6b453ab592c8374a7e6ac3": {
          "model_module": "@jupyter-widgets/controls",
          "model_name": "DescriptionStyleModel",
          "model_module_version": "1.5.0",
          "state": {
            "_model_module": "@jupyter-widgets/controls",
            "_model_module_version": "1.5.0",
            "_model_name": "DescriptionStyleModel",
            "_view_count": null,
            "_view_module": "@jupyter-widgets/base",
            "_view_module_version": "1.2.0",
            "_view_name": "StyleView",
            "description_width": ""
          }
        },
        "81e175d3943e4a079571453cc7faf82c": {
          "model_module": "@jupyter-widgets/base",
          "model_name": "LayoutModel",
          "model_module_version": "1.2.0",
          "state": {
            "_model_module": "@jupyter-widgets/base",
            "_model_module_version": "1.2.0",
            "_model_name": "LayoutModel",
            "_view_count": null,
            "_view_module": "@jupyter-widgets/base",
            "_view_module_version": "1.2.0",
            "_view_name": "LayoutView",
            "align_content": null,
            "align_items": null,
            "align_self": null,
            "border": null,
            "bottom": null,
            "display": null,
            "flex": null,
            "flex_flow": null,
            "grid_area": null,
            "grid_auto_columns": null,
            "grid_auto_flow": null,
            "grid_auto_rows": null,
            "grid_column": null,
            "grid_gap": null,
            "grid_row": null,
            "grid_template_areas": null,
            "grid_template_columns": null,
            "grid_template_rows": null,
            "height": null,
            "justify_content": null,
            "justify_items": null,
            "left": null,
            "margin": null,
            "max_height": null,
            "max_width": null,
            "min_height": null,
            "min_width": null,
            "object_fit": null,
            "object_position": null,
            "order": null,
            "overflow": null,
            "overflow_x": null,
            "overflow_y": null,
            "padding": null,
            "right": null,
            "top": null,
            "visibility": null,
            "width": null
          }
        },
        "bd89a4e0e62d469ebaadf4b925d245a9": {
          "model_module": "@jupyter-widgets/controls",
          "model_name": "ProgressStyleModel",
          "model_module_version": "1.5.0",
          "state": {
            "_model_module": "@jupyter-widgets/controls",
            "_model_module_version": "1.5.0",
            "_model_name": "ProgressStyleModel",
            "_view_count": null,
            "_view_module": "@jupyter-widgets/base",
            "_view_module_version": "1.2.0",
            "_view_name": "StyleView",
            "bar_color": null,
            "description_width": ""
          }
        },
        "fb651af4c23748ffadcbd355fa3ed35c": {
          "model_module": "@jupyter-widgets/base",
          "model_name": "LayoutModel",
          "model_module_version": "1.2.0",
          "state": {
            "_model_module": "@jupyter-widgets/base",
            "_model_module_version": "1.2.0",
            "_model_name": "LayoutModel",
            "_view_count": null,
            "_view_module": "@jupyter-widgets/base",
            "_view_module_version": "1.2.0",
            "_view_name": "LayoutView",
            "align_content": null,
            "align_items": null,
            "align_self": null,
            "border": null,
            "bottom": null,
            "display": null,
            "flex": null,
            "flex_flow": null,
            "grid_area": null,
            "grid_auto_columns": null,
            "grid_auto_flow": null,
            "grid_auto_rows": null,
            "grid_column": null,
            "grid_gap": null,
            "grid_row": null,
            "grid_template_areas": null,
            "grid_template_columns": null,
            "grid_template_rows": null,
            "height": null,
            "justify_content": null,
            "justify_items": null,
            "left": null,
            "margin": null,
            "max_height": null,
            "max_width": null,
            "min_height": null,
            "min_width": null,
            "object_fit": null,
            "object_position": null,
            "order": null,
            "overflow": null,
            "overflow_x": null,
            "overflow_y": null,
            "padding": null,
            "right": null,
            "top": null,
            "visibility": null,
            "width": null
          }
        },
        "b5b22cac06e74e6eb735c934943c8cae": {
          "model_module": "@jupyter-widgets/controls",
          "model_name": "DescriptionStyleModel",
          "model_module_version": "1.5.0",
          "state": {
            "_model_module": "@jupyter-widgets/controls",
            "_model_module_version": "1.5.0",
            "_model_name": "DescriptionStyleModel",
            "_view_count": null,
            "_view_module": "@jupyter-widgets/base",
            "_view_module_version": "1.2.0",
            "_view_name": "StyleView",
            "description_width": ""
          }
        },
        "70f7819504d14c98a3ea6359985a67de": {
          "model_module": "@jupyter-widgets/controls",
          "model_name": "HBoxModel",
          "model_module_version": "1.5.0",
          "state": {
            "_dom_classes": [],
            "_model_module": "@jupyter-widgets/controls",
            "_model_module_version": "1.5.0",
            "_model_name": "HBoxModel",
            "_view_count": null,
            "_view_module": "@jupyter-widgets/controls",
            "_view_module_version": "1.5.0",
            "_view_name": "HBoxView",
            "box_style": "",
            "children": [
              "IPY_MODEL_0e0eb32533ff4193bc2f38479a43a1f2",
              "IPY_MODEL_37a03e91f8b64c5191a727eb247a8943",
              "IPY_MODEL_0eed37a61ed54a27919ac2482d264600"
            ],
            "layout": "IPY_MODEL_67fddf793c7f427285e66f745abcd50e"
          }
        },
        "0e0eb32533ff4193bc2f38479a43a1f2": {
          "model_module": "@jupyter-widgets/controls",
          "model_name": "HTMLModel",
          "model_module_version": "1.5.0",
          "state": {
            "_dom_classes": [],
            "_model_module": "@jupyter-widgets/controls",
            "_model_module_version": "1.5.0",
            "_model_name": "HTMLModel",
            "_view_count": null,
            "_view_module": "@jupyter-widgets/controls",
            "_view_module_version": "1.5.0",
            "_view_name": "HTMLView",
            "description": "",
            "description_tooltip": null,
            "layout": "IPY_MODEL_e813fdb19c524928990eca6c3ff25602",
            "placeholder": "​",
            "style": "IPY_MODEL_f0e686c45e9c4b018f94101b751615e9",
            "value": "100%"
          }
        },
        "37a03e91f8b64c5191a727eb247a8943": {
          "model_module": "@jupyter-widgets/controls",
          "model_name": "FloatProgressModel",
          "model_module_version": "1.5.0",
          "state": {
            "_dom_classes": [],
            "_model_module": "@jupyter-widgets/controls",
            "_model_module_version": "1.5.0",
            "_model_name": "FloatProgressModel",
            "_view_count": null,
            "_view_module": "@jupyter-widgets/controls",
            "_view_module_version": "1.5.0",
            "_view_name": "ProgressView",
            "bar_style": "success",
            "description": "",
            "description_tooltip": null,
            "layout": "IPY_MODEL_72472591fc9d4fc7b89a68da52ef34be",
            "max": 22,
            "min": 0,
            "orientation": "horizontal",
            "style": "IPY_MODEL_fc6eaac25325430a97cfb2bd7040a5ef",
            "value": 22
          }
        },
        "0eed37a61ed54a27919ac2482d264600": {
          "model_module": "@jupyter-widgets/controls",
          "model_name": "HTMLModel",
          "model_module_version": "1.5.0",
          "state": {
            "_dom_classes": [],
            "_model_module": "@jupyter-widgets/controls",
            "_model_module_version": "1.5.0",
            "_model_name": "HTMLModel",
            "_view_count": null,
            "_view_module": "@jupyter-widgets/controls",
            "_view_module_version": "1.5.0",
            "_view_name": "HTMLView",
            "description": "",
            "description_tooltip": null,
            "layout": "IPY_MODEL_ae0cec64b4854d1b9b50b849d49ea11a",
            "placeholder": "​",
            "style": "IPY_MODEL_e143b3f87b0a4d3696516c9c12a716d6",
            "value": " 22/22 [01:30&lt;00:00,  3.39s/ba]"
          }
        },
        "67fddf793c7f427285e66f745abcd50e": {
          "model_module": "@jupyter-widgets/base",
          "model_name": "LayoutModel",
          "model_module_version": "1.2.0",
          "state": {
            "_model_module": "@jupyter-widgets/base",
            "_model_module_version": "1.2.0",
            "_model_name": "LayoutModel",
            "_view_count": null,
            "_view_module": "@jupyter-widgets/base",
            "_view_module_version": "1.2.0",
            "_view_name": "LayoutView",
            "align_content": null,
            "align_items": null,
            "align_self": null,
            "border": null,
            "bottom": null,
            "display": null,
            "flex": null,
            "flex_flow": null,
            "grid_area": null,
            "grid_auto_columns": null,
            "grid_auto_flow": null,
            "grid_auto_rows": null,
            "grid_column": null,
            "grid_gap": null,
            "grid_row": null,
            "grid_template_areas": null,
            "grid_template_columns": null,
            "grid_template_rows": null,
            "height": null,
            "justify_content": null,
            "justify_items": null,
            "left": null,
            "margin": null,
            "max_height": null,
            "max_width": null,
            "min_height": null,
            "min_width": null,
            "object_fit": null,
            "object_position": null,
            "order": null,
            "overflow": null,
            "overflow_x": null,
            "overflow_y": null,
            "padding": null,
            "right": null,
            "top": null,
            "visibility": null,
            "width": null
          }
        },
        "e813fdb19c524928990eca6c3ff25602": {
          "model_module": "@jupyter-widgets/base",
          "model_name": "LayoutModel",
          "model_module_version": "1.2.0",
          "state": {
            "_model_module": "@jupyter-widgets/base",
            "_model_module_version": "1.2.0",
            "_model_name": "LayoutModel",
            "_view_count": null,
            "_view_module": "@jupyter-widgets/base",
            "_view_module_version": "1.2.0",
            "_view_name": "LayoutView",
            "align_content": null,
            "align_items": null,
            "align_self": null,
            "border": null,
            "bottom": null,
            "display": null,
            "flex": null,
            "flex_flow": null,
            "grid_area": null,
            "grid_auto_columns": null,
            "grid_auto_flow": null,
            "grid_auto_rows": null,
            "grid_column": null,
            "grid_gap": null,
            "grid_row": null,
            "grid_template_areas": null,
            "grid_template_columns": null,
            "grid_template_rows": null,
            "height": null,
            "justify_content": null,
            "justify_items": null,
            "left": null,
            "margin": null,
            "max_height": null,
            "max_width": null,
            "min_height": null,
            "min_width": null,
            "object_fit": null,
            "object_position": null,
            "order": null,
            "overflow": null,
            "overflow_x": null,
            "overflow_y": null,
            "padding": null,
            "right": null,
            "top": null,
            "visibility": null,
            "width": null
          }
        },
        "f0e686c45e9c4b018f94101b751615e9": {
          "model_module": "@jupyter-widgets/controls",
          "model_name": "DescriptionStyleModel",
          "model_module_version": "1.5.0",
          "state": {
            "_model_module": "@jupyter-widgets/controls",
            "_model_module_version": "1.5.0",
            "_model_name": "DescriptionStyleModel",
            "_view_count": null,
            "_view_module": "@jupyter-widgets/base",
            "_view_module_version": "1.2.0",
            "_view_name": "StyleView",
            "description_width": ""
          }
        },
        "72472591fc9d4fc7b89a68da52ef34be": {
          "model_module": "@jupyter-widgets/base",
          "model_name": "LayoutModel",
          "model_module_version": "1.2.0",
          "state": {
            "_model_module": "@jupyter-widgets/base",
            "_model_module_version": "1.2.0",
            "_model_name": "LayoutModel",
            "_view_count": null,
            "_view_module": "@jupyter-widgets/base",
            "_view_module_version": "1.2.0",
            "_view_name": "LayoutView",
            "align_content": null,
            "align_items": null,
            "align_self": null,
            "border": null,
            "bottom": null,
            "display": null,
            "flex": null,
            "flex_flow": null,
            "grid_area": null,
            "grid_auto_columns": null,
            "grid_auto_flow": null,
            "grid_auto_rows": null,
            "grid_column": null,
            "grid_gap": null,
            "grid_row": null,
            "grid_template_areas": null,
            "grid_template_columns": null,
            "grid_template_rows": null,
            "height": null,
            "justify_content": null,
            "justify_items": null,
            "left": null,
            "margin": null,
            "max_height": null,
            "max_width": null,
            "min_height": null,
            "min_width": null,
            "object_fit": null,
            "object_position": null,
            "order": null,
            "overflow": null,
            "overflow_x": null,
            "overflow_y": null,
            "padding": null,
            "right": null,
            "top": null,
            "visibility": null,
            "width": null
          }
        },
        "fc6eaac25325430a97cfb2bd7040a5ef": {
          "model_module": "@jupyter-widgets/controls",
          "model_name": "ProgressStyleModel",
          "model_module_version": "1.5.0",
          "state": {
            "_model_module": "@jupyter-widgets/controls",
            "_model_module_version": "1.5.0",
            "_model_name": "ProgressStyleModel",
            "_view_count": null,
            "_view_module": "@jupyter-widgets/base",
            "_view_module_version": "1.2.0",
            "_view_name": "StyleView",
            "bar_color": null,
            "description_width": ""
          }
        },
        "ae0cec64b4854d1b9b50b849d49ea11a": {
          "model_module": "@jupyter-widgets/base",
          "model_name": "LayoutModel",
          "model_module_version": "1.2.0",
          "state": {
            "_model_module": "@jupyter-widgets/base",
            "_model_module_version": "1.2.0",
            "_model_name": "LayoutModel",
            "_view_count": null,
            "_view_module": "@jupyter-widgets/base",
            "_view_module_version": "1.2.0",
            "_view_name": "LayoutView",
            "align_content": null,
            "align_items": null,
            "align_self": null,
            "border": null,
            "bottom": null,
            "display": null,
            "flex": null,
            "flex_flow": null,
            "grid_area": null,
            "grid_auto_columns": null,
            "grid_auto_flow": null,
            "grid_auto_rows": null,
            "grid_column": null,
            "grid_gap": null,
            "grid_row": null,
            "grid_template_areas": null,
            "grid_template_columns": null,
            "grid_template_rows": null,
            "height": null,
            "justify_content": null,
            "justify_items": null,
            "left": null,
            "margin": null,
            "max_height": null,
            "max_width": null,
            "min_height": null,
            "min_width": null,
            "object_fit": null,
            "object_position": null,
            "order": null,
            "overflow": null,
            "overflow_x": null,
            "overflow_y": null,
            "padding": null,
            "right": null,
            "top": null,
            "visibility": null,
            "width": null
          }
        },
        "e143b3f87b0a4d3696516c9c12a716d6": {
          "model_module": "@jupyter-widgets/controls",
          "model_name": "DescriptionStyleModel",
          "model_module_version": "1.5.0",
          "state": {
            "_model_module": "@jupyter-widgets/controls",
            "_model_module_version": "1.5.0",
            "_model_name": "DescriptionStyleModel",
            "_view_count": null,
            "_view_module": "@jupyter-widgets/base",
            "_view_module_version": "1.2.0",
            "_view_name": "StyleView",
            "description_width": ""
          }
        },
        "5e604677c48b4f7392b753f0132f27c4": {
          "model_module": "@jupyter-widgets/controls",
          "model_name": "HBoxModel",
          "model_module_version": "1.5.0",
          "state": {
            "_dom_classes": [],
            "_model_module": "@jupyter-widgets/controls",
            "_model_module_version": "1.5.0",
            "_model_name": "HBoxModel",
            "_view_count": null,
            "_view_module": "@jupyter-widgets/controls",
            "_view_module_version": "1.5.0",
            "_view_name": "HBoxView",
            "box_style": "",
            "children": [
              "IPY_MODEL_a8e7b69d3ad648b5b7b573d38732ee15",
              "IPY_MODEL_595a45e5bbf74757b1e4b8534687ce93",
              "IPY_MODEL_a29339335a44478a9d7828ed69a90f49"
            ],
            "layout": "IPY_MODEL_e57b549a41db4337bf8807f86b2e76de"
          }
        },
        "a8e7b69d3ad648b5b7b573d38732ee15": {
          "model_module": "@jupyter-widgets/controls",
          "model_name": "HTMLModel",
          "model_module_version": "1.5.0",
          "state": {
            "_dom_classes": [],
            "_model_module": "@jupyter-widgets/controls",
            "_model_module_version": "1.5.0",
            "_model_name": "HTMLModel",
            "_view_count": null,
            "_view_module": "@jupyter-widgets/controls",
            "_view_module_version": "1.5.0",
            "_view_name": "HTMLView",
            "description": "",
            "description_tooltip": null,
            "layout": "IPY_MODEL_2d79e86b5d0c40c38ec8d677823a988e",
            "placeholder": "​",
            "style": "IPY_MODEL_6b5770c725d3413c954838b11c40cc07",
            "value": "100%"
          }
        },
        "595a45e5bbf74757b1e4b8534687ce93": {
          "model_module": "@jupyter-widgets/controls",
          "model_name": "FloatProgressModel",
          "model_module_version": "1.5.0",
          "state": {
            "_dom_classes": [],
            "_model_module": "@jupyter-widgets/controls",
            "_model_module_version": "1.5.0",
            "_model_name": "FloatProgressModel",
            "_view_count": null,
            "_view_module": "@jupyter-widgets/controls",
            "_view_module_version": "1.5.0",
            "_view_name": "ProgressView",
            "bar_style": "success",
            "description": "",
            "description_tooltip": null,
            "layout": "IPY_MODEL_35b01474469c431f8411a2f4ee68142c",
            "max": 2,
            "min": 0,
            "orientation": "horizontal",
            "style": "IPY_MODEL_5a03e7706d4d4b2a805d1648d0ddb63a",
            "value": 2
          }
        },
        "a29339335a44478a9d7828ed69a90f49": {
          "model_module": "@jupyter-widgets/controls",
          "model_name": "HTMLModel",
          "model_module_version": "1.5.0",
          "state": {
            "_dom_classes": [],
            "_model_module": "@jupyter-widgets/controls",
            "_model_module_version": "1.5.0",
            "_model_name": "HTMLModel",
            "_view_count": null,
            "_view_module": "@jupyter-widgets/controls",
            "_view_module_version": "1.5.0",
            "_view_name": "HTMLView",
            "description": "",
            "description_tooltip": null,
            "layout": "IPY_MODEL_2dc16eae492146458d2b38b01a12e569",
            "placeholder": "​",
            "style": "IPY_MODEL_7fa369269953416f9054ba76a761d659",
            "value": " 2/2 [00:06&lt;00:00,  2.88s/ba]"
          }
        },
        "e57b549a41db4337bf8807f86b2e76de": {
          "model_module": "@jupyter-widgets/base",
          "model_name": "LayoutModel",
          "model_module_version": "1.2.0",
          "state": {
            "_model_module": "@jupyter-widgets/base",
            "_model_module_version": "1.2.0",
            "_model_name": "LayoutModel",
            "_view_count": null,
            "_view_module": "@jupyter-widgets/base",
            "_view_module_version": "1.2.0",
            "_view_name": "LayoutView",
            "align_content": null,
            "align_items": null,
            "align_self": null,
            "border": null,
            "bottom": null,
            "display": null,
            "flex": null,
            "flex_flow": null,
            "grid_area": null,
            "grid_auto_columns": null,
            "grid_auto_flow": null,
            "grid_auto_rows": null,
            "grid_column": null,
            "grid_gap": null,
            "grid_row": null,
            "grid_template_areas": null,
            "grid_template_columns": null,
            "grid_template_rows": null,
            "height": null,
            "justify_content": null,
            "justify_items": null,
            "left": null,
            "margin": null,
            "max_height": null,
            "max_width": null,
            "min_height": null,
            "min_width": null,
            "object_fit": null,
            "object_position": null,
            "order": null,
            "overflow": null,
            "overflow_x": null,
            "overflow_y": null,
            "padding": null,
            "right": null,
            "top": null,
            "visibility": null,
            "width": null
          }
        },
        "2d79e86b5d0c40c38ec8d677823a988e": {
          "model_module": "@jupyter-widgets/base",
          "model_name": "LayoutModel",
          "model_module_version": "1.2.0",
          "state": {
            "_model_module": "@jupyter-widgets/base",
            "_model_module_version": "1.2.0",
            "_model_name": "LayoutModel",
            "_view_count": null,
            "_view_module": "@jupyter-widgets/base",
            "_view_module_version": "1.2.0",
            "_view_name": "LayoutView",
            "align_content": null,
            "align_items": null,
            "align_self": null,
            "border": null,
            "bottom": null,
            "display": null,
            "flex": null,
            "flex_flow": null,
            "grid_area": null,
            "grid_auto_columns": null,
            "grid_auto_flow": null,
            "grid_auto_rows": null,
            "grid_column": null,
            "grid_gap": null,
            "grid_row": null,
            "grid_template_areas": null,
            "grid_template_columns": null,
            "grid_template_rows": null,
            "height": null,
            "justify_content": null,
            "justify_items": null,
            "left": null,
            "margin": null,
            "max_height": null,
            "max_width": null,
            "min_height": null,
            "min_width": null,
            "object_fit": null,
            "object_position": null,
            "order": null,
            "overflow": null,
            "overflow_x": null,
            "overflow_y": null,
            "padding": null,
            "right": null,
            "top": null,
            "visibility": null,
            "width": null
          }
        },
        "6b5770c725d3413c954838b11c40cc07": {
          "model_module": "@jupyter-widgets/controls",
          "model_name": "DescriptionStyleModel",
          "model_module_version": "1.5.0",
          "state": {
            "_model_module": "@jupyter-widgets/controls",
            "_model_module_version": "1.5.0",
            "_model_name": "DescriptionStyleModel",
            "_view_count": null,
            "_view_module": "@jupyter-widgets/base",
            "_view_module_version": "1.2.0",
            "_view_name": "StyleView",
            "description_width": ""
          }
        },
        "35b01474469c431f8411a2f4ee68142c": {
          "model_module": "@jupyter-widgets/base",
          "model_name": "LayoutModel",
          "model_module_version": "1.2.0",
          "state": {
            "_model_module": "@jupyter-widgets/base",
            "_model_module_version": "1.2.0",
            "_model_name": "LayoutModel",
            "_view_count": null,
            "_view_module": "@jupyter-widgets/base",
            "_view_module_version": "1.2.0",
            "_view_name": "LayoutView",
            "align_content": null,
            "align_items": null,
            "align_self": null,
            "border": null,
            "bottom": null,
            "display": null,
            "flex": null,
            "flex_flow": null,
            "grid_area": null,
            "grid_auto_columns": null,
            "grid_auto_flow": null,
            "grid_auto_rows": null,
            "grid_column": null,
            "grid_gap": null,
            "grid_row": null,
            "grid_template_areas": null,
            "grid_template_columns": null,
            "grid_template_rows": null,
            "height": null,
            "justify_content": null,
            "justify_items": null,
            "left": null,
            "margin": null,
            "max_height": null,
            "max_width": null,
            "min_height": null,
            "min_width": null,
            "object_fit": null,
            "object_position": null,
            "order": null,
            "overflow": null,
            "overflow_x": null,
            "overflow_y": null,
            "padding": null,
            "right": null,
            "top": null,
            "visibility": null,
            "width": null
          }
        },
        "5a03e7706d4d4b2a805d1648d0ddb63a": {
          "model_module": "@jupyter-widgets/controls",
          "model_name": "ProgressStyleModel",
          "model_module_version": "1.5.0",
          "state": {
            "_model_module": "@jupyter-widgets/controls",
            "_model_module_version": "1.5.0",
            "_model_name": "ProgressStyleModel",
            "_view_count": null,
            "_view_module": "@jupyter-widgets/base",
            "_view_module_version": "1.2.0",
            "_view_name": "StyleView",
            "bar_color": null,
            "description_width": ""
          }
        },
        "2dc16eae492146458d2b38b01a12e569": {
          "model_module": "@jupyter-widgets/base",
          "model_name": "LayoutModel",
          "model_module_version": "1.2.0",
          "state": {
            "_model_module": "@jupyter-widgets/base",
            "_model_module_version": "1.2.0",
            "_model_name": "LayoutModel",
            "_view_count": null,
            "_view_module": "@jupyter-widgets/base",
            "_view_module_version": "1.2.0",
            "_view_name": "LayoutView",
            "align_content": null,
            "align_items": null,
            "align_self": null,
            "border": null,
            "bottom": null,
            "display": null,
            "flex": null,
            "flex_flow": null,
            "grid_area": null,
            "grid_auto_columns": null,
            "grid_auto_flow": null,
            "grid_auto_rows": null,
            "grid_column": null,
            "grid_gap": null,
            "grid_row": null,
            "grid_template_areas": null,
            "grid_template_columns": null,
            "grid_template_rows": null,
            "height": null,
            "justify_content": null,
            "justify_items": null,
            "left": null,
            "margin": null,
            "max_height": null,
            "max_width": null,
            "min_height": null,
            "min_width": null,
            "object_fit": null,
            "object_position": null,
            "order": null,
            "overflow": null,
            "overflow_x": null,
            "overflow_y": null,
            "padding": null,
            "right": null,
            "top": null,
            "visibility": null,
            "width": null
          }
        },
        "7fa369269953416f9054ba76a761d659": {
          "model_module": "@jupyter-widgets/controls",
          "model_name": "DescriptionStyleModel",
          "model_module_version": "1.5.0",
          "state": {
            "_model_module": "@jupyter-widgets/controls",
            "_model_module_version": "1.5.0",
            "_model_name": "DescriptionStyleModel",
            "_view_count": null,
            "_view_module": "@jupyter-widgets/base",
            "_view_module_version": "1.2.0",
            "_view_name": "StyleView",
            "description_width": ""
          }
        },
        "3aca531ecc624849b397efa9c7fe357d": {
          "model_module": "@jupyter-widgets/controls",
          "model_name": "HBoxModel",
          "model_module_version": "1.5.0",
          "state": {
            "_dom_classes": [],
            "_model_module": "@jupyter-widgets/controls",
            "_model_module_version": "1.5.0",
            "_model_name": "HBoxModel",
            "_view_count": null,
            "_view_module": "@jupyter-widgets/controls",
            "_view_module_version": "1.5.0",
            "_view_name": "HBoxView",
            "box_style": "",
            "children": [
              "IPY_MODEL_23052752707b4136b850dd7cadeccbcb",
              "IPY_MODEL_c01a3d3306234fb5889164e688f8b79f",
              "IPY_MODEL_0002a948b5fa4449b21c92b616e4b9fe"
            ],
            "layout": "IPY_MODEL_a6af01691ce2424f885f4b7d5fbc6046"
          }
        },
        "23052752707b4136b850dd7cadeccbcb": {
          "model_module": "@jupyter-widgets/controls",
          "model_name": "HTMLModel",
          "model_module_version": "1.5.0",
          "state": {
            "_dom_classes": [],
            "_model_module": "@jupyter-widgets/controls",
            "_model_module_version": "1.5.0",
            "_model_name": "HTMLModel",
            "_view_count": null,
            "_view_module": "@jupyter-widgets/controls",
            "_view_module_version": "1.5.0",
            "_view_name": "HTMLView",
            "description": "",
            "description_tooltip": null,
            "layout": "IPY_MODEL_696cd30e47044dd4b2fd8f8c94b51d89",
            "placeholder": "​",
            "style": "IPY_MODEL_d8c4edf14d174681806a7f265f070904",
            "value": "100%"
          }
        },
        "c01a3d3306234fb5889164e688f8b79f": {
          "model_module": "@jupyter-widgets/controls",
          "model_name": "FloatProgressModel",
          "model_module_version": "1.5.0",
          "state": {
            "_dom_classes": [],
            "_model_module": "@jupyter-widgets/controls",
            "_model_module_version": "1.5.0",
            "_model_name": "FloatProgressModel",
            "_view_count": null,
            "_view_module": "@jupyter-widgets/controls",
            "_view_module_version": "1.5.0",
            "_view_name": "ProgressView",
            "bar_style": "success",
            "description": "",
            "description_tooltip": null,
            "layout": "IPY_MODEL_59a8bface3ed4399b767891746fe6735",
            "max": 2,
            "min": 0,
            "orientation": "horizontal",
            "style": "IPY_MODEL_94fab587109b42ef856cb8d7f7f3451e",
            "value": 2
          }
        },
        "0002a948b5fa4449b21c92b616e4b9fe": {
          "model_module": "@jupyter-widgets/controls",
          "model_name": "HTMLModel",
          "model_module_version": "1.5.0",
          "state": {
            "_dom_classes": [],
            "_model_module": "@jupyter-widgets/controls",
            "_model_module_version": "1.5.0",
            "_model_name": "HTMLModel",
            "_view_count": null,
            "_view_module": "@jupyter-widgets/controls",
            "_view_module_version": "1.5.0",
            "_view_name": "HTMLView",
            "description": "",
            "description_tooltip": null,
            "layout": "IPY_MODEL_4af65609c0b84c5895d218b160de23a2",
            "placeholder": "​",
            "style": "IPY_MODEL_d6ee4cfdd4fe42919c0013936d226402",
            "value": " 2/2 [00:06&lt;00:00,  3.03s/ba]"
          }
        },
        "a6af01691ce2424f885f4b7d5fbc6046": {
          "model_module": "@jupyter-widgets/base",
          "model_name": "LayoutModel",
          "model_module_version": "1.2.0",
          "state": {
            "_model_module": "@jupyter-widgets/base",
            "_model_module_version": "1.2.0",
            "_model_name": "LayoutModel",
            "_view_count": null,
            "_view_module": "@jupyter-widgets/base",
            "_view_module_version": "1.2.0",
            "_view_name": "LayoutView",
            "align_content": null,
            "align_items": null,
            "align_self": null,
            "border": null,
            "bottom": null,
            "display": null,
            "flex": null,
            "flex_flow": null,
            "grid_area": null,
            "grid_auto_columns": null,
            "grid_auto_flow": null,
            "grid_auto_rows": null,
            "grid_column": null,
            "grid_gap": null,
            "grid_row": null,
            "grid_template_areas": null,
            "grid_template_columns": null,
            "grid_template_rows": null,
            "height": null,
            "justify_content": null,
            "justify_items": null,
            "left": null,
            "margin": null,
            "max_height": null,
            "max_width": null,
            "min_height": null,
            "min_width": null,
            "object_fit": null,
            "object_position": null,
            "order": null,
            "overflow": null,
            "overflow_x": null,
            "overflow_y": null,
            "padding": null,
            "right": null,
            "top": null,
            "visibility": null,
            "width": null
          }
        },
        "696cd30e47044dd4b2fd8f8c94b51d89": {
          "model_module": "@jupyter-widgets/base",
          "model_name": "LayoutModel",
          "model_module_version": "1.2.0",
          "state": {
            "_model_module": "@jupyter-widgets/base",
            "_model_module_version": "1.2.0",
            "_model_name": "LayoutModel",
            "_view_count": null,
            "_view_module": "@jupyter-widgets/base",
            "_view_module_version": "1.2.0",
            "_view_name": "LayoutView",
            "align_content": null,
            "align_items": null,
            "align_self": null,
            "border": null,
            "bottom": null,
            "display": null,
            "flex": null,
            "flex_flow": null,
            "grid_area": null,
            "grid_auto_columns": null,
            "grid_auto_flow": null,
            "grid_auto_rows": null,
            "grid_column": null,
            "grid_gap": null,
            "grid_row": null,
            "grid_template_areas": null,
            "grid_template_columns": null,
            "grid_template_rows": null,
            "height": null,
            "justify_content": null,
            "justify_items": null,
            "left": null,
            "margin": null,
            "max_height": null,
            "max_width": null,
            "min_height": null,
            "min_width": null,
            "object_fit": null,
            "object_position": null,
            "order": null,
            "overflow": null,
            "overflow_x": null,
            "overflow_y": null,
            "padding": null,
            "right": null,
            "top": null,
            "visibility": null,
            "width": null
          }
        },
        "d8c4edf14d174681806a7f265f070904": {
          "model_module": "@jupyter-widgets/controls",
          "model_name": "DescriptionStyleModel",
          "model_module_version": "1.5.0",
          "state": {
            "_model_module": "@jupyter-widgets/controls",
            "_model_module_version": "1.5.0",
            "_model_name": "DescriptionStyleModel",
            "_view_count": null,
            "_view_module": "@jupyter-widgets/base",
            "_view_module_version": "1.2.0",
            "_view_name": "StyleView",
            "description_width": ""
          }
        },
        "59a8bface3ed4399b767891746fe6735": {
          "model_module": "@jupyter-widgets/base",
          "model_name": "LayoutModel",
          "model_module_version": "1.2.0",
          "state": {
            "_model_module": "@jupyter-widgets/base",
            "_model_module_version": "1.2.0",
            "_model_name": "LayoutModel",
            "_view_count": null,
            "_view_module": "@jupyter-widgets/base",
            "_view_module_version": "1.2.0",
            "_view_name": "LayoutView",
            "align_content": null,
            "align_items": null,
            "align_self": null,
            "border": null,
            "bottom": null,
            "display": null,
            "flex": null,
            "flex_flow": null,
            "grid_area": null,
            "grid_auto_columns": null,
            "grid_auto_flow": null,
            "grid_auto_rows": null,
            "grid_column": null,
            "grid_gap": null,
            "grid_row": null,
            "grid_template_areas": null,
            "grid_template_columns": null,
            "grid_template_rows": null,
            "height": null,
            "justify_content": null,
            "justify_items": null,
            "left": null,
            "margin": null,
            "max_height": null,
            "max_width": null,
            "min_height": null,
            "min_width": null,
            "object_fit": null,
            "object_position": null,
            "order": null,
            "overflow": null,
            "overflow_x": null,
            "overflow_y": null,
            "padding": null,
            "right": null,
            "top": null,
            "visibility": null,
            "width": null
          }
        },
        "94fab587109b42ef856cb8d7f7f3451e": {
          "model_module": "@jupyter-widgets/controls",
          "model_name": "ProgressStyleModel",
          "model_module_version": "1.5.0",
          "state": {
            "_model_module": "@jupyter-widgets/controls",
            "_model_module_version": "1.5.0",
            "_model_name": "ProgressStyleModel",
            "_view_count": null,
            "_view_module": "@jupyter-widgets/base",
            "_view_module_version": "1.2.0",
            "_view_name": "StyleView",
            "bar_color": null,
            "description_width": ""
          }
        },
        "4af65609c0b84c5895d218b160de23a2": {
          "model_module": "@jupyter-widgets/base",
          "model_name": "LayoutModel",
          "model_module_version": "1.2.0",
          "state": {
            "_model_module": "@jupyter-widgets/base",
            "_model_module_version": "1.2.0",
            "_model_name": "LayoutModel",
            "_view_count": null,
            "_view_module": "@jupyter-widgets/base",
            "_view_module_version": "1.2.0",
            "_view_name": "LayoutView",
            "align_content": null,
            "align_items": null,
            "align_self": null,
            "border": null,
            "bottom": null,
            "display": null,
            "flex": null,
            "flex_flow": null,
            "grid_area": null,
            "grid_auto_columns": null,
            "grid_auto_flow": null,
            "grid_auto_rows": null,
            "grid_column": null,
            "grid_gap": null,
            "grid_row": null,
            "grid_template_areas": null,
            "grid_template_columns": null,
            "grid_template_rows": null,
            "height": null,
            "justify_content": null,
            "justify_items": null,
            "left": null,
            "margin": null,
            "max_height": null,
            "max_width": null,
            "min_height": null,
            "min_width": null,
            "object_fit": null,
            "object_position": null,
            "order": null,
            "overflow": null,
            "overflow_x": null,
            "overflow_y": null,
            "padding": null,
            "right": null,
            "top": null,
            "visibility": null,
            "width": null
          }
        },
        "d6ee4cfdd4fe42919c0013936d226402": {
          "model_module": "@jupyter-widgets/controls",
          "model_name": "DescriptionStyleModel",
          "model_module_version": "1.5.0",
          "state": {
            "_model_module": "@jupyter-widgets/controls",
            "_model_module_version": "1.5.0",
            "_model_name": "DescriptionStyleModel",
            "_view_count": null,
            "_view_module": "@jupyter-widgets/base",
            "_view_module_version": "1.2.0",
            "_view_name": "StyleView",
            "description_width": ""
          }
        },
        "22c30970593a4d2f97c3ed3bfa614a81": {
          "model_module": "@jupyter-widgets/controls",
          "model_name": "HBoxModel",
          "model_module_version": "1.5.0",
          "state": {
            "_dom_classes": [],
            "_model_module": "@jupyter-widgets/controls",
            "_model_module_version": "1.5.0",
            "_model_name": "HBoxModel",
            "_view_count": null,
            "_view_module": "@jupyter-widgets/controls",
            "_view_module_version": "1.5.0",
            "_view_name": "HBoxView",
            "box_style": "",
            "children": [
              "IPY_MODEL_6d3d8db52b304b348f9a7fc3833f85b1",
              "IPY_MODEL_c0cb3419329a4cd4b614ad773a82f075",
              "IPY_MODEL_4f67a0300528494c98be4d12e261123e"
            ],
            "layout": "IPY_MODEL_5a2bfded81f740328af69f3af2da97db"
          }
        },
        "6d3d8db52b304b348f9a7fc3833f85b1": {
          "model_module": "@jupyter-widgets/controls",
          "model_name": "HTMLModel",
          "model_module_version": "1.5.0",
          "state": {
            "_dom_classes": [],
            "_model_module": "@jupyter-widgets/controls",
            "_model_module_version": "1.5.0",
            "_model_name": "HTMLModel",
            "_view_count": null,
            "_view_module": "@jupyter-widgets/controls",
            "_view_module_version": "1.5.0",
            "_view_name": "HTMLView",
            "description": "",
            "description_tooltip": null,
            "layout": "IPY_MODEL_2faaaf62dffb48f49acf680cddf4ca56",
            "placeholder": "​",
            "style": "IPY_MODEL_53d901a52d9a42568826c8f8a1b99e86",
            "value": "Downloading: 100%"
          }
        },
        "c0cb3419329a4cd4b614ad773a82f075": {
          "model_module": "@jupyter-widgets/controls",
          "model_name": "FloatProgressModel",
          "model_module_version": "1.5.0",
          "state": {
            "_dom_classes": [],
            "_model_module": "@jupyter-widgets/controls",
            "_model_module_version": "1.5.0",
            "_model_name": "FloatProgressModel",
            "_view_count": null,
            "_view_module": "@jupyter-widgets/controls",
            "_view_module_version": "1.5.0",
            "_view_name": "ProgressView",
            "bar_style": "success",
            "description": "",
            "description_tooltip": null,
            "layout": "IPY_MODEL_7094267bcca7415abc59b0cd9a9b93b1",
            "max": 995526,
            "min": 0,
            "orientation": "horizontal",
            "style": "IPY_MODEL_1c43be3884b249d483206250dba602ce",
            "value": 995526
          }
        },
        "4f67a0300528494c98be4d12e261123e": {
          "model_module": "@jupyter-widgets/controls",
          "model_name": "HTMLModel",
          "model_module_version": "1.5.0",
          "state": {
            "_dom_classes": [],
            "_model_module": "@jupyter-widgets/controls",
            "_model_module_version": "1.5.0",
            "_model_name": "HTMLModel",
            "_view_count": null,
            "_view_module": "@jupyter-widgets/controls",
            "_view_module_version": "1.5.0",
            "_view_name": "HTMLView",
            "description": "",
            "description_tooltip": null,
            "layout": "IPY_MODEL_2d29d8a6673a4cfba45b4ea7fa38075b",
            "placeholder": "​",
            "style": "IPY_MODEL_60a981051d724356ab27468f658b3479",
            "value": " 972k/972k [00:00&lt;00:00, 1.64MB/s]"
          }
        },
        "5a2bfded81f740328af69f3af2da97db": {
          "model_module": "@jupyter-widgets/base",
          "model_name": "LayoutModel",
          "model_module_version": "1.2.0",
          "state": {
            "_model_module": "@jupyter-widgets/base",
            "_model_module_version": "1.2.0",
            "_model_name": "LayoutModel",
            "_view_count": null,
            "_view_module": "@jupyter-widgets/base",
            "_view_module_version": "1.2.0",
            "_view_name": "LayoutView",
            "align_content": null,
            "align_items": null,
            "align_self": null,
            "border": null,
            "bottom": null,
            "display": null,
            "flex": null,
            "flex_flow": null,
            "grid_area": null,
            "grid_auto_columns": null,
            "grid_auto_flow": null,
            "grid_auto_rows": null,
            "grid_column": null,
            "grid_gap": null,
            "grid_row": null,
            "grid_template_areas": null,
            "grid_template_columns": null,
            "grid_template_rows": null,
            "height": null,
            "justify_content": null,
            "justify_items": null,
            "left": null,
            "margin": null,
            "max_height": null,
            "max_width": null,
            "min_height": null,
            "min_width": null,
            "object_fit": null,
            "object_position": null,
            "order": null,
            "overflow": null,
            "overflow_x": null,
            "overflow_y": null,
            "padding": null,
            "right": null,
            "top": null,
            "visibility": null,
            "width": null
          }
        },
        "2faaaf62dffb48f49acf680cddf4ca56": {
          "model_module": "@jupyter-widgets/base",
          "model_name": "LayoutModel",
          "model_module_version": "1.2.0",
          "state": {
            "_model_module": "@jupyter-widgets/base",
            "_model_module_version": "1.2.0",
            "_model_name": "LayoutModel",
            "_view_count": null,
            "_view_module": "@jupyter-widgets/base",
            "_view_module_version": "1.2.0",
            "_view_name": "LayoutView",
            "align_content": null,
            "align_items": null,
            "align_self": null,
            "border": null,
            "bottom": null,
            "display": null,
            "flex": null,
            "flex_flow": null,
            "grid_area": null,
            "grid_auto_columns": null,
            "grid_auto_flow": null,
            "grid_auto_rows": null,
            "grid_column": null,
            "grid_gap": null,
            "grid_row": null,
            "grid_template_areas": null,
            "grid_template_columns": null,
            "grid_template_rows": null,
            "height": null,
            "justify_content": null,
            "justify_items": null,
            "left": null,
            "margin": null,
            "max_height": null,
            "max_width": null,
            "min_height": null,
            "min_width": null,
            "object_fit": null,
            "object_position": null,
            "order": null,
            "overflow": null,
            "overflow_x": null,
            "overflow_y": null,
            "padding": null,
            "right": null,
            "top": null,
            "visibility": null,
            "width": null
          }
        },
        "53d901a52d9a42568826c8f8a1b99e86": {
          "model_module": "@jupyter-widgets/controls",
          "model_name": "DescriptionStyleModel",
          "model_module_version": "1.5.0",
          "state": {
            "_model_module": "@jupyter-widgets/controls",
            "_model_module_version": "1.5.0",
            "_model_name": "DescriptionStyleModel",
            "_view_count": null,
            "_view_module": "@jupyter-widgets/base",
            "_view_module_version": "1.2.0",
            "_view_name": "StyleView",
            "description_width": ""
          }
        },
        "7094267bcca7415abc59b0cd9a9b93b1": {
          "model_module": "@jupyter-widgets/base",
          "model_name": "LayoutModel",
          "model_module_version": "1.2.0",
          "state": {
            "_model_module": "@jupyter-widgets/base",
            "_model_module_version": "1.2.0",
            "_model_name": "LayoutModel",
            "_view_count": null,
            "_view_module": "@jupyter-widgets/base",
            "_view_module_version": "1.2.0",
            "_view_name": "LayoutView",
            "align_content": null,
            "align_items": null,
            "align_self": null,
            "border": null,
            "bottom": null,
            "display": null,
            "flex": null,
            "flex_flow": null,
            "grid_area": null,
            "grid_auto_columns": null,
            "grid_auto_flow": null,
            "grid_auto_rows": null,
            "grid_column": null,
            "grid_gap": null,
            "grid_row": null,
            "grid_template_areas": null,
            "grid_template_columns": null,
            "grid_template_rows": null,
            "height": null,
            "justify_content": null,
            "justify_items": null,
            "left": null,
            "margin": null,
            "max_height": null,
            "max_width": null,
            "min_height": null,
            "min_width": null,
            "object_fit": null,
            "object_position": null,
            "order": null,
            "overflow": null,
            "overflow_x": null,
            "overflow_y": null,
            "padding": null,
            "right": null,
            "top": null,
            "visibility": null,
            "width": null
          }
        },
        "1c43be3884b249d483206250dba602ce": {
          "model_module": "@jupyter-widgets/controls",
          "model_name": "ProgressStyleModel",
          "model_module_version": "1.5.0",
          "state": {
            "_model_module": "@jupyter-widgets/controls",
            "_model_module_version": "1.5.0",
            "_model_name": "ProgressStyleModel",
            "_view_count": null,
            "_view_module": "@jupyter-widgets/base",
            "_view_module_version": "1.2.0",
            "_view_name": "StyleView",
            "bar_color": null,
            "description_width": ""
          }
        },
        "2d29d8a6673a4cfba45b4ea7fa38075b": {
          "model_module": "@jupyter-widgets/base",
          "model_name": "LayoutModel",
          "model_module_version": "1.2.0",
          "state": {
            "_model_module": "@jupyter-widgets/base",
            "_model_module_version": "1.2.0",
            "_model_name": "LayoutModel",
            "_view_count": null,
            "_view_module": "@jupyter-widgets/base",
            "_view_module_version": "1.2.0",
            "_view_name": "LayoutView",
            "align_content": null,
            "align_items": null,
            "align_self": null,
            "border": null,
            "bottom": null,
            "display": null,
            "flex": null,
            "flex_flow": null,
            "grid_area": null,
            "grid_auto_columns": null,
            "grid_auto_flow": null,
            "grid_auto_rows": null,
            "grid_column": null,
            "grid_gap": null,
            "grid_row": null,
            "grid_template_areas": null,
            "grid_template_columns": null,
            "grid_template_rows": null,
            "height": null,
            "justify_content": null,
            "justify_items": null,
            "left": null,
            "margin": null,
            "max_height": null,
            "max_width": null,
            "min_height": null,
            "min_width": null,
            "object_fit": null,
            "object_position": null,
            "order": null,
            "overflow": null,
            "overflow_x": null,
            "overflow_y": null,
            "padding": null,
            "right": null,
            "top": null,
            "visibility": null,
            "width": null
          }
        },
        "60a981051d724356ab27468f658b3479": {
          "model_module": "@jupyter-widgets/controls",
          "model_name": "DescriptionStyleModel",
          "model_module_version": "1.5.0",
          "state": {
            "_model_module": "@jupyter-widgets/controls",
            "_model_module_version": "1.5.0",
            "_model_name": "DescriptionStyleModel",
            "_view_count": null,
            "_view_module": "@jupyter-widgets/base",
            "_view_module_version": "1.2.0",
            "_view_name": "StyleView",
            "description_width": ""
          }
        },
        "a09f192db2154a24a1d08fc29bf18e94": {
          "model_module": "@jupyter-widgets/controls",
          "model_name": "HBoxModel",
          "model_module_version": "1.5.0",
          "state": {
            "_dom_classes": [],
            "_model_module": "@jupyter-widgets/controls",
            "_model_module_version": "1.5.0",
            "_model_name": "HBoxModel",
            "_view_count": null,
            "_view_module": "@jupyter-widgets/controls",
            "_view_module_version": "1.5.0",
            "_view_name": "HBoxView",
            "box_style": "",
            "children": [
              "IPY_MODEL_095bd257f01f4d19b5579d38e7bea8fa",
              "IPY_MODEL_4b001c1feb9445a6941c74b670531238",
              "IPY_MODEL_a647f91a735744b19d9b868879b0eacf"
            ],
            "layout": "IPY_MODEL_1acab5c4d0d544d4bda9613942493534"
          }
        },
        "095bd257f01f4d19b5579d38e7bea8fa": {
          "model_module": "@jupyter-widgets/controls",
          "model_name": "HTMLModel",
          "model_module_version": "1.5.0",
          "state": {
            "_dom_classes": [],
            "_model_module": "@jupyter-widgets/controls",
            "_model_module_version": "1.5.0",
            "_model_name": "HTMLModel",
            "_view_count": null,
            "_view_module": "@jupyter-widgets/controls",
            "_view_module_version": "1.5.0",
            "_view_name": "HTMLView",
            "description": "",
            "description_tooltip": null,
            "layout": "IPY_MODEL_1253119c22264eb28f0adecd6a0206bc",
            "placeholder": "​",
            "style": "IPY_MODEL_ee849709200b46aa9a67ac9bd0f95104",
            "value": "Downloading: 100%"
          }
        },
        "4b001c1feb9445a6941c74b670531238": {
          "model_module": "@jupyter-widgets/controls",
          "model_name": "FloatProgressModel",
          "model_module_version": "1.5.0",
          "state": {
            "_dom_classes": [],
            "_model_module": "@jupyter-widgets/controls",
            "_model_module_version": "1.5.0",
            "_model_name": "FloatProgressModel",
            "_view_count": null,
            "_view_module": "@jupyter-widgets/controls",
            "_view_module_version": "1.5.0",
            "_view_name": "ProgressView",
            "bar_style": "success",
            "description": "",
            "description_tooltip": null,
            "layout": "IPY_MODEL_d33756cfd78d4e1c913f92adf8350269",
            "max": 29,
            "min": 0,
            "orientation": "horizontal",
            "style": "IPY_MODEL_78f175f0f4954a7185365e4c02390f55",
            "value": 29
          }
        },
        "a647f91a735744b19d9b868879b0eacf": {
          "model_module": "@jupyter-widgets/controls",
          "model_name": "HTMLModel",
          "model_module_version": "1.5.0",
          "state": {
            "_dom_classes": [],
            "_model_module": "@jupyter-widgets/controls",
            "_model_module_version": "1.5.0",
            "_model_name": "HTMLModel",
            "_view_count": null,
            "_view_module": "@jupyter-widgets/controls",
            "_view_module_version": "1.5.0",
            "_view_name": "HTMLView",
            "description": "",
            "description_tooltip": null,
            "layout": "IPY_MODEL_054edf46fe114e90a7ce9fd0a36cc216",
            "placeholder": "​",
            "style": "IPY_MODEL_6b12ba59c99f4e888102b8d67d189129",
            "value": " 29.0/29.0 [00:00&lt;00:00, 375B/s]"
          }
        },
        "1acab5c4d0d544d4bda9613942493534": {
          "model_module": "@jupyter-widgets/base",
          "model_name": "LayoutModel",
          "model_module_version": "1.2.0",
          "state": {
            "_model_module": "@jupyter-widgets/base",
            "_model_module_version": "1.2.0",
            "_model_name": "LayoutModel",
            "_view_count": null,
            "_view_module": "@jupyter-widgets/base",
            "_view_module_version": "1.2.0",
            "_view_name": "LayoutView",
            "align_content": null,
            "align_items": null,
            "align_self": null,
            "border": null,
            "bottom": null,
            "display": null,
            "flex": null,
            "flex_flow": null,
            "grid_area": null,
            "grid_auto_columns": null,
            "grid_auto_flow": null,
            "grid_auto_rows": null,
            "grid_column": null,
            "grid_gap": null,
            "grid_row": null,
            "grid_template_areas": null,
            "grid_template_columns": null,
            "grid_template_rows": null,
            "height": null,
            "justify_content": null,
            "justify_items": null,
            "left": null,
            "margin": null,
            "max_height": null,
            "max_width": null,
            "min_height": null,
            "min_width": null,
            "object_fit": null,
            "object_position": null,
            "order": null,
            "overflow": null,
            "overflow_x": null,
            "overflow_y": null,
            "padding": null,
            "right": null,
            "top": null,
            "visibility": null,
            "width": null
          }
        },
        "1253119c22264eb28f0adecd6a0206bc": {
          "model_module": "@jupyter-widgets/base",
          "model_name": "LayoutModel",
          "model_module_version": "1.2.0",
          "state": {
            "_model_module": "@jupyter-widgets/base",
            "_model_module_version": "1.2.0",
            "_model_name": "LayoutModel",
            "_view_count": null,
            "_view_module": "@jupyter-widgets/base",
            "_view_module_version": "1.2.0",
            "_view_name": "LayoutView",
            "align_content": null,
            "align_items": null,
            "align_self": null,
            "border": null,
            "bottom": null,
            "display": null,
            "flex": null,
            "flex_flow": null,
            "grid_area": null,
            "grid_auto_columns": null,
            "grid_auto_flow": null,
            "grid_auto_rows": null,
            "grid_column": null,
            "grid_gap": null,
            "grid_row": null,
            "grid_template_areas": null,
            "grid_template_columns": null,
            "grid_template_rows": null,
            "height": null,
            "justify_content": null,
            "justify_items": null,
            "left": null,
            "margin": null,
            "max_height": null,
            "max_width": null,
            "min_height": null,
            "min_width": null,
            "object_fit": null,
            "object_position": null,
            "order": null,
            "overflow": null,
            "overflow_x": null,
            "overflow_y": null,
            "padding": null,
            "right": null,
            "top": null,
            "visibility": null,
            "width": null
          }
        },
        "ee849709200b46aa9a67ac9bd0f95104": {
          "model_module": "@jupyter-widgets/controls",
          "model_name": "DescriptionStyleModel",
          "model_module_version": "1.5.0",
          "state": {
            "_model_module": "@jupyter-widgets/controls",
            "_model_module_version": "1.5.0",
            "_model_name": "DescriptionStyleModel",
            "_view_count": null,
            "_view_module": "@jupyter-widgets/base",
            "_view_module_version": "1.2.0",
            "_view_name": "StyleView",
            "description_width": ""
          }
        },
        "d33756cfd78d4e1c913f92adf8350269": {
          "model_module": "@jupyter-widgets/base",
          "model_name": "LayoutModel",
          "model_module_version": "1.2.0",
          "state": {
            "_model_module": "@jupyter-widgets/base",
            "_model_module_version": "1.2.0",
            "_model_name": "LayoutModel",
            "_view_count": null,
            "_view_module": "@jupyter-widgets/base",
            "_view_module_version": "1.2.0",
            "_view_name": "LayoutView",
            "align_content": null,
            "align_items": null,
            "align_self": null,
            "border": null,
            "bottom": null,
            "display": null,
            "flex": null,
            "flex_flow": null,
            "grid_area": null,
            "grid_auto_columns": null,
            "grid_auto_flow": null,
            "grid_auto_rows": null,
            "grid_column": null,
            "grid_gap": null,
            "grid_row": null,
            "grid_template_areas": null,
            "grid_template_columns": null,
            "grid_template_rows": null,
            "height": null,
            "justify_content": null,
            "justify_items": null,
            "left": null,
            "margin": null,
            "max_height": null,
            "max_width": null,
            "min_height": null,
            "min_width": null,
            "object_fit": null,
            "object_position": null,
            "order": null,
            "overflow": null,
            "overflow_x": null,
            "overflow_y": null,
            "padding": null,
            "right": null,
            "top": null,
            "visibility": null,
            "width": null
          }
        },
        "78f175f0f4954a7185365e4c02390f55": {
          "model_module": "@jupyter-widgets/controls",
          "model_name": "ProgressStyleModel",
          "model_module_version": "1.5.0",
          "state": {
            "_model_module": "@jupyter-widgets/controls",
            "_model_module_version": "1.5.0",
            "_model_name": "ProgressStyleModel",
            "_view_count": null,
            "_view_module": "@jupyter-widgets/base",
            "_view_module_version": "1.2.0",
            "_view_name": "StyleView",
            "bar_color": null,
            "description_width": ""
          }
        },
        "054edf46fe114e90a7ce9fd0a36cc216": {
          "model_module": "@jupyter-widgets/base",
          "model_name": "LayoutModel",
          "model_module_version": "1.2.0",
          "state": {
            "_model_module": "@jupyter-widgets/base",
            "_model_module_version": "1.2.0",
            "_model_name": "LayoutModel",
            "_view_count": null,
            "_view_module": "@jupyter-widgets/base",
            "_view_module_version": "1.2.0",
            "_view_name": "LayoutView",
            "align_content": null,
            "align_items": null,
            "align_self": null,
            "border": null,
            "bottom": null,
            "display": null,
            "flex": null,
            "flex_flow": null,
            "grid_area": null,
            "grid_auto_columns": null,
            "grid_auto_flow": null,
            "grid_auto_rows": null,
            "grid_column": null,
            "grid_gap": null,
            "grid_row": null,
            "grid_template_areas": null,
            "grid_template_columns": null,
            "grid_template_rows": null,
            "height": null,
            "justify_content": null,
            "justify_items": null,
            "left": null,
            "margin": null,
            "max_height": null,
            "max_width": null,
            "min_height": null,
            "min_width": null,
            "object_fit": null,
            "object_position": null,
            "order": null,
            "overflow": null,
            "overflow_x": null,
            "overflow_y": null,
            "padding": null,
            "right": null,
            "top": null,
            "visibility": null,
            "width": null
          }
        },
        "6b12ba59c99f4e888102b8d67d189129": {
          "model_module": "@jupyter-widgets/controls",
          "model_name": "DescriptionStyleModel",
          "model_module_version": "1.5.0",
          "state": {
            "_model_module": "@jupyter-widgets/controls",
            "_model_module_version": "1.5.0",
            "_model_name": "DescriptionStyleModel",
            "_view_count": null,
            "_view_module": "@jupyter-widgets/base",
            "_view_module_version": "1.2.0",
            "_view_name": "StyleView",
            "description_width": ""
          }
        },
        "31411608fc8f40f5b841a0626bdeb03b": {
          "model_module": "@jupyter-widgets/controls",
          "model_name": "HBoxModel",
          "model_module_version": "1.5.0",
          "state": {
            "_dom_classes": [],
            "_model_module": "@jupyter-widgets/controls",
            "_model_module_version": "1.5.0",
            "_model_name": "HBoxModel",
            "_view_count": null,
            "_view_module": "@jupyter-widgets/controls",
            "_view_module_version": "1.5.0",
            "_view_name": "HBoxView",
            "box_style": "",
            "children": [
              "IPY_MODEL_da0421ddaf82483dac9500a7992c4d9d",
              "IPY_MODEL_0097312eaa484b45b9157770220143d8",
              "IPY_MODEL_1c213f4029b840a3b8f21a4e19688c32"
            ],
            "layout": "IPY_MODEL_f41f53a1dded4e8e933b4adaf950ff31"
          }
        },
        "da0421ddaf82483dac9500a7992c4d9d": {
          "model_module": "@jupyter-widgets/controls",
          "model_name": "HTMLModel",
          "model_module_version": "1.5.0",
          "state": {
            "_dom_classes": [],
            "_model_module": "@jupyter-widgets/controls",
            "_model_module_version": "1.5.0",
            "_model_name": "HTMLModel",
            "_view_count": null,
            "_view_module": "@jupyter-widgets/controls",
            "_view_module_version": "1.5.0",
            "_view_name": "HTMLView",
            "description": "",
            "description_tooltip": null,
            "layout": "IPY_MODEL_e8a157059d9f48e4a619318369450d79",
            "placeholder": "​",
            "style": "IPY_MODEL_6536ecada133402d85c448ca71560d2d",
            "value": "Downloading: 100%"
          }
        },
        "0097312eaa484b45b9157770220143d8": {
          "model_module": "@jupyter-widgets/controls",
          "model_name": "FloatProgressModel",
          "model_module_version": "1.5.0",
          "state": {
            "_dom_classes": [],
            "_model_module": "@jupyter-widgets/controls",
            "_model_module_version": "1.5.0",
            "_model_name": "FloatProgressModel",
            "_view_count": null,
            "_view_module": "@jupyter-widgets/controls",
            "_view_module_version": "1.5.0",
            "_view_name": "ProgressView",
            "bar_style": "success",
            "description": "",
            "description_tooltip": null,
            "layout": "IPY_MODEL_f648dbdeebab44fb903e0571e036b5b6",
            "max": 625,
            "min": 0,
            "orientation": "horizontal",
            "style": "IPY_MODEL_8256679ed9fc4c8ea0d8070ca0cde5dc",
            "value": 625
          }
        },
        "1c213f4029b840a3b8f21a4e19688c32": {
          "model_module": "@jupyter-widgets/controls",
          "model_name": "HTMLModel",
          "model_module_version": "1.5.0",
          "state": {
            "_dom_classes": [],
            "_model_module": "@jupyter-widgets/controls",
            "_model_module_version": "1.5.0",
            "_model_name": "HTMLModel",
            "_view_count": null,
            "_view_module": "@jupyter-widgets/controls",
            "_view_module_version": "1.5.0",
            "_view_name": "HTMLView",
            "description": "",
            "description_tooltip": null,
            "layout": "IPY_MODEL_4f016a7f43704bcf99b31cada3ea82b7",
            "placeholder": "​",
            "style": "IPY_MODEL_0c7c55e231e84e15b683eda25a6a1880",
            "value": " 625/625 [00:00&lt;00:00, 6.00kB/s]"
          }
        },
        "f41f53a1dded4e8e933b4adaf950ff31": {
          "model_module": "@jupyter-widgets/base",
          "model_name": "LayoutModel",
          "model_module_version": "1.2.0",
          "state": {
            "_model_module": "@jupyter-widgets/base",
            "_model_module_version": "1.2.0",
            "_model_name": "LayoutModel",
            "_view_count": null,
            "_view_module": "@jupyter-widgets/base",
            "_view_module_version": "1.2.0",
            "_view_name": "LayoutView",
            "align_content": null,
            "align_items": null,
            "align_self": null,
            "border": null,
            "bottom": null,
            "display": null,
            "flex": null,
            "flex_flow": null,
            "grid_area": null,
            "grid_auto_columns": null,
            "grid_auto_flow": null,
            "grid_auto_rows": null,
            "grid_column": null,
            "grid_gap": null,
            "grid_row": null,
            "grid_template_areas": null,
            "grid_template_columns": null,
            "grid_template_rows": null,
            "height": null,
            "justify_content": null,
            "justify_items": null,
            "left": null,
            "margin": null,
            "max_height": null,
            "max_width": null,
            "min_height": null,
            "min_width": null,
            "object_fit": null,
            "object_position": null,
            "order": null,
            "overflow": null,
            "overflow_x": null,
            "overflow_y": null,
            "padding": null,
            "right": null,
            "top": null,
            "visibility": null,
            "width": null
          }
        },
        "e8a157059d9f48e4a619318369450d79": {
          "model_module": "@jupyter-widgets/base",
          "model_name": "LayoutModel",
          "model_module_version": "1.2.0",
          "state": {
            "_model_module": "@jupyter-widgets/base",
            "_model_module_version": "1.2.0",
            "_model_name": "LayoutModel",
            "_view_count": null,
            "_view_module": "@jupyter-widgets/base",
            "_view_module_version": "1.2.0",
            "_view_name": "LayoutView",
            "align_content": null,
            "align_items": null,
            "align_self": null,
            "border": null,
            "bottom": null,
            "display": null,
            "flex": null,
            "flex_flow": null,
            "grid_area": null,
            "grid_auto_columns": null,
            "grid_auto_flow": null,
            "grid_auto_rows": null,
            "grid_column": null,
            "grid_gap": null,
            "grid_row": null,
            "grid_template_areas": null,
            "grid_template_columns": null,
            "grid_template_rows": null,
            "height": null,
            "justify_content": null,
            "justify_items": null,
            "left": null,
            "margin": null,
            "max_height": null,
            "max_width": null,
            "min_height": null,
            "min_width": null,
            "object_fit": null,
            "object_position": null,
            "order": null,
            "overflow": null,
            "overflow_x": null,
            "overflow_y": null,
            "padding": null,
            "right": null,
            "top": null,
            "visibility": null,
            "width": null
          }
        },
        "6536ecada133402d85c448ca71560d2d": {
          "model_module": "@jupyter-widgets/controls",
          "model_name": "DescriptionStyleModel",
          "model_module_version": "1.5.0",
          "state": {
            "_model_module": "@jupyter-widgets/controls",
            "_model_module_version": "1.5.0",
            "_model_name": "DescriptionStyleModel",
            "_view_count": null,
            "_view_module": "@jupyter-widgets/base",
            "_view_module_version": "1.2.0",
            "_view_name": "StyleView",
            "description_width": ""
          }
        },
        "f648dbdeebab44fb903e0571e036b5b6": {
          "model_module": "@jupyter-widgets/base",
          "model_name": "LayoutModel",
          "model_module_version": "1.2.0",
          "state": {
            "_model_module": "@jupyter-widgets/base",
            "_model_module_version": "1.2.0",
            "_model_name": "LayoutModel",
            "_view_count": null,
            "_view_module": "@jupyter-widgets/base",
            "_view_module_version": "1.2.0",
            "_view_name": "LayoutView",
            "align_content": null,
            "align_items": null,
            "align_self": null,
            "border": null,
            "bottom": null,
            "display": null,
            "flex": null,
            "flex_flow": null,
            "grid_area": null,
            "grid_auto_columns": null,
            "grid_auto_flow": null,
            "grid_auto_rows": null,
            "grid_column": null,
            "grid_gap": null,
            "grid_row": null,
            "grid_template_areas": null,
            "grid_template_columns": null,
            "grid_template_rows": null,
            "height": null,
            "justify_content": null,
            "justify_items": null,
            "left": null,
            "margin": null,
            "max_height": null,
            "max_width": null,
            "min_height": null,
            "min_width": null,
            "object_fit": null,
            "object_position": null,
            "order": null,
            "overflow": null,
            "overflow_x": null,
            "overflow_y": null,
            "padding": null,
            "right": null,
            "top": null,
            "visibility": null,
            "width": null
          }
        },
        "8256679ed9fc4c8ea0d8070ca0cde5dc": {
          "model_module": "@jupyter-widgets/controls",
          "model_name": "ProgressStyleModel",
          "model_module_version": "1.5.0",
          "state": {
            "_model_module": "@jupyter-widgets/controls",
            "_model_module_version": "1.5.0",
            "_model_name": "ProgressStyleModel",
            "_view_count": null,
            "_view_module": "@jupyter-widgets/base",
            "_view_module_version": "1.2.0",
            "_view_name": "StyleView",
            "bar_color": null,
            "description_width": ""
          }
        },
        "4f016a7f43704bcf99b31cada3ea82b7": {
          "model_module": "@jupyter-widgets/base",
          "model_name": "LayoutModel",
          "model_module_version": "1.2.0",
          "state": {
            "_model_module": "@jupyter-widgets/base",
            "_model_module_version": "1.2.0",
            "_model_name": "LayoutModel",
            "_view_count": null,
            "_view_module": "@jupyter-widgets/base",
            "_view_module_version": "1.2.0",
            "_view_name": "LayoutView",
            "align_content": null,
            "align_items": null,
            "align_self": null,
            "border": null,
            "bottom": null,
            "display": null,
            "flex": null,
            "flex_flow": null,
            "grid_area": null,
            "grid_auto_columns": null,
            "grid_auto_flow": null,
            "grid_auto_rows": null,
            "grid_column": null,
            "grid_gap": null,
            "grid_row": null,
            "grid_template_areas": null,
            "grid_template_columns": null,
            "grid_template_rows": null,
            "height": null,
            "justify_content": null,
            "justify_items": null,
            "left": null,
            "margin": null,
            "max_height": null,
            "max_width": null,
            "min_height": null,
            "min_width": null,
            "object_fit": null,
            "object_position": null,
            "order": null,
            "overflow": null,
            "overflow_x": null,
            "overflow_y": null,
            "padding": null,
            "right": null,
            "top": null,
            "visibility": null,
            "width": null
          }
        },
        "0c7c55e231e84e15b683eda25a6a1880": {
          "model_module": "@jupyter-widgets/controls",
          "model_name": "DescriptionStyleModel",
          "model_module_version": "1.5.0",
          "state": {
            "_model_module": "@jupyter-widgets/controls",
            "_model_module_version": "1.5.0",
            "_model_name": "DescriptionStyleModel",
            "_view_count": null,
            "_view_module": "@jupyter-widgets/base",
            "_view_module_version": "1.2.0",
            "_view_name": "StyleView",
            "description_width": ""
          }
        },
        "9c283ba01cc84d7b92cc082cb7c97c80": {
          "model_module": "@jupyter-widgets/controls",
          "model_name": "HBoxModel",
          "model_module_version": "1.5.0",
          "state": {
            "_dom_classes": [],
            "_model_module": "@jupyter-widgets/controls",
            "_model_module_version": "1.5.0",
            "_model_name": "HBoxModel",
            "_view_count": null,
            "_view_module": "@jupyter-widgets/controls",
            "_view_module_version": "1.5.0",
            "_view_name": "HBoxView",
            "box_style": "",
            "children": [
              "IPY_MODEL_c0b26402560644ed8f343eba9a3da40f",
              "IPY_MODEL_8460b0e597c94780b8886c3e4e504f13",
              "IPY_MODEL_ba7941f193864989a3a5b962b6e39a8a"
            ],
            "layout": "IPY_MODEL_100615e3272c45dfa0bdb77e83951046"
          }
        },
        "c0b26402560644ed8f343eba9a3da40f": {
          "model_module": "@jupyter-widgets/controls",
          "model_name": "HTMLModel",
          "model_module_version": "1.5.0",
          "state": {
            "_dom_classes": [],
            "_model_module": "@jupyter-widgets/controls",
            "_model_module_version": "1.5.0",
            "_model_name": "HTMLModel",
            "_view_count": null,
            "_view_module": "@jupyter-widgets/controls",
            "_view_module_version": "1.5.0",
            "_view_name": "HTMLView",
            "description": "",
            "description_tooltip": null,
            "layout": "IPY_MODEL_01c1460bf83e41a58225aaaebec0d573",
            "placeholder": "​",
            "style": "IPY_MODEL_64ad8f83cb564a5ebc0d352634747887",
            "value": "Downloading: 100%"
          }
        },
        "8460b0e597c94780b8886c3e4e504f13": {
          "model_module": "@jupyter-widgets/controls",
          "model_name": "FloatProgressModel",
          "model_module_version": "1.5.0",
          "state": {
            "_dom_classes": [],
            "_model_module": "@jupyter-widgets/controls",
            "_model_module_version": "1.5.0",
            "_model_name": "FloatProgressModel",
            "_view_count": null,
            "_view_module": "@jupyter-widgets/controls",
            "_view_module_version": "1.5.0",
            "_view_name": "ProgressView",
            "bar_style": "success",
            "description": "",
            "description_tooltip": null,
            "layout": "IPY_MODEL_ebebc3208756420c931570175f2692e4",
            "max": 714314041,
            "min": 0,
            "orientation": "horizontal",
            "style": "IPY_MODEL_fc3e8c0ca6f24671b38a1dd2183fcfec",
            "value": 714314041
          }
        },
        "ba7941f193864989a3a5b962b6e39a8a": {
          "model_module": "@jupyter-widgets/controls",
          "model_name": "HTMLModel",
          "model_module_version": "1.5.0",
          "state": {
            "_dom_classes": [],
            "_model_module": "@jupyter-widgets/controls",
            "_model_module_version": "1.5.0",
            "_model_name": "HTMLModel",
            "_view_count": null,
            "_view_module": "@jupyter-widgets/controls",
            "_view_module_version": "1.5.0",
            "_view_name": "HTMLView",
            "description": "",
            "description_tooltip": null,
            "layout": "IPY_MODEL_49d824d9f009440e8a63f13855799b46",
            "placeholder": "​",
            "style": "IPY_MODEL_84da65152e954d1da96d1671965f266e",
            "value": " 681M/681M [00:44&lt;00:00, 10.4MB/s]"
          }
        },
        "100615e3272c45dfa0bdb77e83951046": {
          "model_module": "@jupyter-widgets/base",
          "model_name": "LayoutModel",
          "model_module_version": "1.2.0",
          "state": {
            "_model_module": "@jupyter-widgets/base",
            "_model_module_version": "1.2.0",
            "_model_name": "LayoutModel",
            "_view_count": null,
            "_view_module": "@jupyter-widgets/base",
            "_view_module_version": "1.2.0",
            "_view_name": "LayoutView",
            "align_content": null,
            "align_items": null,
            "align_self": null,
            "border": null,
            "bottom": null,
            "display": null,
            "flex": null,
            "flex_flow": null,
            "grid_area": null,
            "grid_auto_columns": null,
            "grid_auto_flow": null,
            "grid_auto_rows": null,
            "grid_column": null,
            "grid_gap": null,
            "grid_row": null,
            "grid_template_areas": null,
            "grid_template_columns": null,
            "grid_template_rows": null,
            "height": null,
            "justify_content": null,
            "justify_items": null,
            "left": null,
            "margin": null,
            "max_height": null,
            "max_width": null,
            "min_height": null,
            "min_width": null,
            "object_fit": null,
            "object_position": null,
            "order": null,
            "overflow": null,
            "overflow_x": null,
            "overflow_y": null,
            "padding": null,
            "right": null,
            "top": null,
            "visibility": null,
            "width": null
          }
        },
        "01c1460bf83e41a58225aaaebec0d573": {
          "model_module": "@jupyter-widgets/base",
          "model_name": "LayoutModel",
          "model_module_version": "1.2.0",
          "state": {
            "_model_module": "@jupyter-widgets/base",
            "_model_module_version": "1.2.0",
            "_model_name": "LayoutModel",
            "_view_count": null,
            "_view_module": "@jupyter-widgets/base",
            "_view_module_version": "1.2.0",
            "_view_name": "LayoutView",
            "align_content": null,
            "align_items": null,
            "align_self": null,
            "border": null,
            "bottom": null,
            "display": null,
            "flex": null,
            "flex_flow": null,
            "grid_area": null,
            "grid_auto_columns": null,
            "grid_auto_flow": null,
            "grid_auto_rows": null,
            "grid_column": null,
            "grid_gap": null,
            "grid_row": null,
            "grid_template_areas": null,
            "grid_template_columns": null,
            "grid_template_rows": null,
            "height": null,
            "justify_content": null,
            "justify_items": null,
            "left": null,
            "margin": null,
            "max_height": null,
            "max_width": null,
            "min_height": null,
            "min_width": null,
            "object_fit": null,
            "object_position": null,
            "order": null,
            "overflow": null,
            "overflow_x": null,
            "overflow_y": null,
            "padding": null,
            "right": null,
            "top": null,
            "visibility": null,
            "width": null
          }
        },
        "64ad8f83cb564a5ebc0d352634747887": {
          "model_module": "@jupyter-widgets/controls",
          "model_name": "DescriptionStyleModel",
          "model_module_version": "1.5.0",
          "state": {
            "_model_module": "@jupyter-widgets/controls",
            "_model_module_version": "1.5.0",
            "_model_name": "DescriptionStyleModel",
            "_view_count": null,
            "_view_module": "@jupyter-widgets/base",
            "_view_module_version": "1.2.0",
            "_view_name": "StyleView",
            "description_width": ""
          }
        },
        "ebebc3208756420c931570175f2692e4": {
          "model_module": "@jupyter-widgets/base",
          "model_name": "LayoutModel",
          "model_module_version": "1.2.0",
          "state": {
            "_model_module": "@jupyter-widgets/base",
            "_model_module_version": "1.2.0",
            "_model_name": "LayoutModel",
            "_view_count": null,
            "_view_module": "@jupyter-widgets/base",
            "_view_module_version": "1.2.0",
            "_view_name": "LayoutView",
            "align_content": null,
            "align_items": null,
            "align_self": null,
            "border": null,
            "bottom": null,
            "display": null,
            "flex": null,
            "flex_flow": null,
            "grid_area": null,
            "grid_auto_columns": null,
            "grid_auto_flow": null,
            "grid_auto_rows": null,
            "grid_column": null,
            "grid_gap": null,
            "grid_row": null,
            "grid_template_areas": null,
            "grid_template_columns": null,
            "grid_template_rows": null,
            "height": null,
            "justify_content": null,
            "justify_items": null,
            "left": null,
            "margin": null,
            "max_height": null,
            "max_width": null,
            "min_height": null,
            "min_width": null,
            "object_fit": null,
            "object_position": null,
            "order": null,
            "overflow": null,
            "overflow_x": null,
            "overflow_y": null,
            "padding": null,
            "right": null,
            "top": null,
            "visibility": null,
            "width": null
          }
        },
        "fc3e8c0ca6f24671b38a1dd2183fcfec": {
          "model_module": "@jupyter-widgets/controls",
          "model_name": "ProgressStyleModel",
          "model_module_version": "1.5.0",
          "state": {
            "_model_module": "@jupyter-widgets/controls",
            "_model_module_version": "1.5.0",
            "_model_name": "ProgressStyleModel",
            "_view_count": null,
            "_view_module": "@jupyter-widgets/base",
            "_view_module_version": "1.2.0",
            "_view_name": "StyleView",
            "bar_color": null,
            "description_width": ""
          }
        },
        "49d824d9f009440e8a63f13855799b46": {
          "model_module": "@jupyter-widgets/base",
          "model_name": "LayoutModel",
          "model_module_version": "1.2.0",
          "state": {
            "_model_module": "@jupyter-widgets/base",
            "_model_module_version": "1.2.0",
            "_model_name": "LayoutModel",
            "_view_count": null,
            "_view_module": "@jupyter-widgets/base",
            "_view_module_version": "1.2.0",
            "_view_name": "LayoutView",
            "align_content": null,
            "align_items": null,
            "align_self": null,
            "border": null,
            "bottom": null,
            "display": null,
            "flex": null,
            "flex_flow": null,
            "grid_area": null,
            "grid_auto_columns": null,
            "grid_auto_flow": null,
            "grid_auto_rows": null,
            "grid_column": null,
            "grid_gap": null,
            "grid_row": null,
            "grid_template_areas": null,
            "grid_template_columns": null,
            "grid_template_rows": null,
            "height": null,
            "justify_content": null,
            "justify_items": null,
            "left": null,
            "margin": null,
            "max_height": null,
            "max_width": null,
            "min_height": null,
            "min_width": null,
            "object_fit": null,
            "object_position": null,
            "order": null,
            "overflow": null,
            "overflow_x": null,
            "overflow_y": null,
            "padding": null,
            "right": null,
            "top": null,
            "visibility": null,
            "width": null
          }
        },
        "84da65152e954d1da96d1671965f266e": {
          "model_module": "@jupyter-widgets/controls",
          "model_name": "DescriptionStyleModel",
          "model_module_version": "1.5.0",
          "state": {
            "_model_module": "@jupyter-widgets/controls",
            "_model_module_version": "1.5.0",
            "_model_name": "DescriptionStyleModel",
            "_view_count": null,
            "_view_module": "@jupyter-widgets/base",
            "_view_module_version": "1.2.0",
            "_view_name": "StyleView",
            "description_width": ""
          }
        },
        "d2f3009f1c9e4a82bbb6726ea85e2410": {
          "model_module": "@jupyter-widgets/controls",
          "model_name": "HBoxModel",
          "model_module_version": "1.5.0",
          "state": {
            "_dom_classes": [],
            "_model_module": "@jupyter-widgets/controls",
            "_model_module_version": "1.5.0",
            "_model_name": "HBoxModel",
            "_view_count": null,
            "_view_module": "@jupyter-widgets/controls",
            "_view_module_version": "1.5.0",
            "_view_name": "HBoxView",
            "box_style": "",
            "children": [
              "IPY_MODEL_758097c7014a4b399751f818f5a5a796",
              "IPY_MODEL_5cde647c13524d23a6ec853f002815ab",
              "IPY_MODEL_3fcf71d08bf046b08a9d3ddb05175e31"
            ],
            "layout": "IPY_MODEL_36e5013e87c44367a2745cb41de0b546"
          }
        },
        "758097c7014a4b399751f818f5a5a796": {
          "model_module": "@jupyter-widgets/controls",
          "model_name": "HTMLModel",
          "model_module_version": "1.5.0",
          "state": {
            "_dom_classes": [],
            "_model_module": "@jupyter-widgets/controls",
            "_model_module_version": "1.5.0",
            "_model_name": "HTMLModel",
            "_view_count": null,
            "_view_module": "@jupyter-widgets/controls",
            "_view_module_version": "1.5.0",
            "_view_name": "HTMLView",
            "description": "",
            "description_tooltip": null,
            "layout": "IPY_MODEL_0d51bc967b6c42d7b8b9ed6261a4d1ca",
            "placeholder": "​",
            "style": "IPY_MODEL_22dbacdc37154f12bfc4c4fc63e8690a",
            "value": "Downloading: 100%"
          }
        },
        "5cde647c13524d23a6ec853f002815ab": {
          "model_module": "@jupyter-widgets/controls",
          "model_name": "FloatProgressModel",
          "model_module_version": "1.5.0",
          "state": {
            "_dom_classes": [],
            "_model_module": "@jupyter-widgets/controls",
            "_model_module_version": "1.5.0",
            "_model_name": "FloatProgressModel",
            "_view_count": null,
            "_view_module": "@jupyter-widgets/controls",
            "_view_module_version": "1.5.0",
            "_view_name": "ProgressView",
            "bar_style": "success",
            "description": "",
            "description_tooltip": null,
            "layout": "IPY_MODEL_f3368dd47b004f9bae459091b66acdf8",
            "max": 1344997306,
            "min": 0,
            "orientation": "horizontal",
            "style": "IPY_MODEL_6747acdcd2b04b91862358d5ef9e3cc9",
            "value": 1344997306
          }
        },
        "3fcf71d08bf046b08a9d3ddb05175e31": {
          "model_module": "@jupyter-widgets/controls",
          "model_name": "HTMLModel",
          "model_module_version": "1.5.0",
          "state": {
            "_dom_classes": [],
            "_model_module": "@jupyter-widgets/controls",
            "_model_module_version": "1.5.0",
            "_model_name": "HTMLModel",
            "_view_count": null,
            "_view_module": "@jupyter-widgets/controls",
            "_view_module_version": "1.5.0",
            "_view_name": "HTMLView",
            "description": "",
            "description_tooltip": null,
            "layout": "IPY_MODEL_c32c0cc947af45f09627e291d90bf788",
            "placeholder": "​",
            "style": "IPY_MODEL_7cf2204d938f42c6be156a236c1df84d",
            "value": " 1.25G/1.25G [00:53&lt;00:00, 34.9MB/s]"
          }
        },
        "36e5013e87c44367a2745cb41de0b546": {
          "model_module": "@jupyter-widgets/base",
          "model_name": "LayoutModel",
          "model_module_version": "1.2.0",
          "state": {
            "_model_module": "@jupyter-widgets/base",
            "_model_module_version": "1.2.0",
            "_model_name": "LayoutModel",
            "_view_count": null,
            "_view_module": "@jupyter-widgets/base",
            "_view_module_version": "1.2.0",
            "_view_name": "LayoutView",
            "align_content": null,
            "align_items": null,
            "align_self": null,
            "border": null,
            "bottom": null,
            "display": null,
            "flex": null,
            "flex_flow": null,
            "grid_area": null,
            "grid_auto_columns": null,
            "grid_auto_flow": null,
            "grid_auto_rows": null,
            "grid_column": null,
            "grid_gap": null,
            "grid_row": null,
            "grid_template_areas": null,
            "grid_template_columns": null,
            "grid_template_rows": null,
            "height": null,
            "justify_content": null,
            "justify_items": null,
            "left": null,
            "margin": null,
            "max_height": null,
            "max_width": null,
            "min_height": null,
            "min_width": null,
            "object_fit": null,
            "object_position": null,
            "order": null,
            "overflow": null,
            "overflow_x": null,
            "overflow_y": null,
            "padding": null,
            "right": null,
            "top": null,
            "visibility": null,
            "width": null
          }
        },
        "0d51bc967b6c42d7b8b9ed6261a4d1ca": {
          "model_module": "@jupyter-widgets/base",
          "model_name": "LayoutModel",
          "model_module_version": "1.2.0",
          "state": {
            "_model_module": "@jupyter-widgets/base",
            "_model_module_version": "1.2.0",
            "_model_name": "LayoutModel",
            "_view_count": null,
            "_view_module": "@jupyter-widgets/base",
            "_view_module_version": "1.2.0",
            "_view_name": "LayoutView",
            "align_content": null,
            "align_items": null,
            "align_self": null,
            "border": null,
            "bottom": null,
            "display": null,
            "flex": null,
            "flex_flow": null,
            "grid_area": null,
            "grid_auto_columns": null,
            "grid_auto_flow": null,
            "grid_auto_rows": null,
            "grid_column": null,
            "grid_gap": null,
            "grid_row": null,
            "grid_template_areas": null,
            "grid_template_columns": null,
            "grid_template_rows": null,
            "height": null,
            "justify_content": null,
            "justify_items": null,
            "left": null,
            "margin": null,
            "max_height": null,
            "max_width": null,
            "min_height": null,
            "min_width": null,
            "object_fit": null,
            "object_position": null,
            "order": null,
            "overflow": null,
            "overflow_x": null,
            "overflow_y": null,
            "padding": null,
            "right": null,
            "top": null,
            "visibility": null,
            "width": null
          }
        },
        "22dbacdc37154f12bfc4c4fc63e8690a": {
          "model_module": "@jupyter-widgets/controls",
          "model_name": "DescriptionStyleModel",
          "model_module_version": "1.5.0",
          "state": {
            "_model_module": "@jupyter-widgets/controls",
            "_model_module_version": "1.5.0",
            "_model_name": "DescriptionStyleModel",
            "_view_count": null,
            "_view_module": "@jupyter-widgets/base",
            "_view_module_version": "1.2.0",
            "_view_name": "StyleView",
            "description_width": ""
          }
        },
        "f3368dd47b004f9bae459091b66acdf8": {
          "model_module": "@jupyter-widgets/base",
          "model_name": "LayoutModel",
          "model_module_version": "1.2.0",
          "state": {
            "_model_module": "@jupyter-widgets/base",
            "_model_module_version": "1.2.0",
            "_model_name": "LayoutModel",
            "_view_count": null,
            "_view_module": "@jupyter-widgets/base",
            "_view_module_version": "1.2.0",
            "_view_name": "LayoutView",
            "align_content": null,
            "align_items": null,
            "align_self": null,
            "border": null,
            "bottom": null,
            "display": null,
            "flex": null,
            "flex_flow": null,
            "grid_area": null,
            "grid_auto_columns": null,
            "grid_auto_flow": null,
            "grid_auto_rows": null,
            "grid_column": null,
            "grid_gap": null,
            "grid_row": null,
            "grid_template_areas": null,
            "grid_template_columns": null,
            "grid_template_rows": null,
            "height": null,
            "justify_content": null,
            "justify_items": null,
            "left": null,
            "margin": null,
            "max_height": null,
            "max_width": null,
            "min_height": null,
            "min_width": null,
            "object_fit": null,
            "object_position": null,
            "order": null,
            "overflow": null,
            "overflow_x": null,
            "overflow_y": null,
            "padding": null,
            "right": null,
            "top": null,
            "visibility": null,
            "width": null
          }
        },
        "6747acdcd2b04b91862358d5ef9e3cc9": {
          "model_module": "@jupyter-widgets/controls",
          "model_name": "ProgressStyleModel",
          "model_module_version": "1.5.0",
          "state": {
            "_model_module": "@jupyter-widgets/controls",
            "_model_module_version": "1.5.0",
            "_model_name": "ProgressStyleModel",
            "_view_count": null,
            "_view_module": "@jupyter-widgets/base",
            "_view_module_version": "1.2.0",
            "_view_name": "StyleView",
            "bar_color": null,
            "description_width": ""
          }
        },
        "c32c0cc947af45f09627e291d90bf788": {
          "model_module": "@jupyter-widgets/base",
          "model_name": "LayoutModel",
          "model_module_version": "1.2.0",
          "state": {
            "_model_module": "@jupyter-widgets/base",
            "_model_module_version": "1.2.0",
            "_model_name": "LayoutModel",
            "_view_count": null,
            "_view_module": "@jupyter-widgets/base",
            "_view_module_version": "1.2.0",
            "_view_name": "LayoutView",
            "align_content": null,
            "align_items": null,
            "align_self": null,
            "border": null,
            "bottom": null,
            "display": null,
            "flex": null,
            "flex_flow": null,
            "grid_area": null,
            "grid_auto_columns": null,
            "grid_auto_flow": null,
            "grid_auto_rows": null,
            "grid_column": null,
            "grid_gap": null,
            "grid_row": null,
            "grid_template_areas": null,
            "grid_template_columns": null,
            "grid_template_rows": null,
            "height": null,
            "justify_content": null,
            "justify_items": null,
            "left": null,
            "margin": null,
            "max_height": null,
            "max_width": null,
            "min_height": null,
            "min_width": null,
            "object_fit": null,
            "object_position": null,
            "order": null,
            "overflow": null,
            "overflow_x": null,
            "overflow_y": null,
            "padding": null,
            "right": null,
            "top": null,
            "visibility": null,
            "width": null
          }
        },
        "7cf2204d938f42c6be156a236c1df84d": {
          "model_module": "@jupyter-widgets/controls",
          "model_name": "DescriptionStyleModel",
          "model_module_version": "1.5.0",
          "state": {
            "_model_module": "@jupyter-widgets/controls",
            "_model_module_version": "1.5.0",
            "_model_name": "DescriptionStyleModel",
            "_view_count": null,
            "_view_module": "@jupyter-widgets/base",
            "_view_module_version": "1.2.0",
            "_view_name": "StyleView",
            "description_width": ""
          }
        },
        "5b904ddba72a40a2bb25480920b39af7": {
          "model_module": "@jupyter-widgets/controls",
          "model_name": "HBoxModel",
          "model_module_version": "1.5.0",
          "state": {
            "_dom_classes": [],
            "_model_module": "@jupyter-widgets/controls",
            "_model_module_version": "1.5.0",
            "_model_name": "HBoxModel",
            "_view_count": null,
            "_view_module": "@jupyter-widgets/controls",
            "_view_module_version": "1.5.0",
            "_view_name": "HBoxView",
            "box_style": "",
            "children": [
              "IPY_MODEL_d0d0d9a27d3f471397f889b08088f372",
              "IPY_MODEL_35585dff815a470593d7903c5fc09702",
              "IPY_MODEL_e28f235106d04be3891a48aa3f5e6d95"
            ],
            "layout": "IPY_MODEL_ad86ecbbf54f46089ed020292fa55980"
          }
        },
        "d0d0d9a27d3f471397f889b08088f372": {
          "model_module": "@jupyter-widgets/controls",
          "model_name": "HTMLModel",
          "model_module_version": "1.5.0",
          "state": {
            "_dom_classes": [],
            "_model_module": "@jupyter-widgets/controls",
            "_model_module_version": "1.5.0",
            "_model_name": "HTMLModel",
            "_view_count": null,
            "_view_module": "@jupyter-widgets/controls",
            "_view_module_version": "1.5.0",
            "_view_name": "HTMLView",
            "description": "",
            "description_tooltip": null,
            "layout": "IPY_MODEL_3c6608b1b0a240ae88c44e332e598a4f",
            "placeholder": "​",
            "style": "IPY_MODEL_e2785816d5974c49b2af9980b55d3f8a",
            "value": "100%"
          }
        },
        "35585dff815a470593d7903c5fc09702": {
          "model_module": "@jupyter-widgets/controls",
          "model_name": "FloatProgressModel",
          "model_module_version": "1.5.0",
          "state": {
            "_dom_classes": [],
            "_model_module": "@jupyter-widgets/controls",
            "_model_module_version": "1.5.0",
            "_model_name": "FloatProgressModel",
            "_view_count": null,
            "_view_module": "@jupyter-widgets/controls",
            "_view_module_version": "1.5.0",
            "_view_name": "ProgressView",
            "bar_style": "success",
            "description": "",
            "description_tooltip": null,
            "layout": "IPY_MODEL_d99ef9c912c74463909cd0ed2f4917ff",
            "max": 100,
            "min": 0,
            "orientation": "horizontal",
            "style": "IPY_MODEL_f6a1c404b98c420a9aa6c69bf9b01e7f",
            "value": 100
          }
        },
        "e28f235106d04be3891a48aa3f5e6d95": {
          "model_module": "@jupyter-widgets/controls",
          "model_name": "HTMLModel",
          "model_module_version": "1.5.0",
          "state": {
            "_dom_classes": [],
            "_model_module": "@jupyter-widgets/controls",
            "_model_module_version": "1.5.0",
            "_model_name": "HTMLModel",
            "_view_count": null,
            "_view_module": "@jupyter-widgets/controls",
            "_view_module_version": "1.5.0",
            "_view_name": "HTMLView",
            "description": "",
            "description_tooltip": null,
            "layout": "IPY_MODEL_bc26facb05404717aa430becc70a28da",
            "placeholder": "​",
            "style": "IPY_MODEL_707a44f4def94179a6e4b92c58b94351",
            "value": " 100/100 [00:47&lt;00:00,  3.08it/s]"
          }
        },
        "ad86ecbbf54f46089ed020292fa55980": {
          "model_module": "@jupyter-widgets/base",
          "model_name": "LayoutModel",
          "model_module_version": "1.2.0",
          "state": {
            "_model_module": "@jupyter-widgets/base",
            "_model_module_version": "1.2.0",
            "_model_name": "LayoutModel",
            "_view_count": null,
            "_view_module": "@jupyter-widgets/base",
            "_view_module_version": "1.2.0",
            "_view_name": "LayoutView",
            "align_content": null,
            "align_items": null,
            "align_self": null,
            "border": null,
            "bottom": null,
            "display": null,
            "flex": null,
            "flex_flow": null,
            "grid_area": null,
            "grid_auto_columns": null,
            "grid_auto_flow": null,
            "grid_auto_rows": null,
            "grid_column": null,
            "grid_gap": null,
            "grid_row": null,
            "grid_template_areas": null,
            "grid_template_columns": null,
            "grid_template_rows": null,
            "height": null,
            "justify_content": null,
            "justify_items": null,
            "left": null,
            "margin": null,
            "max_height": null,
            "max_width": null,
            "min_height": null,
            "min_width": null,
            "object_fit": null,
            "object_position": null,
            "order": null,
            "overflow": null,
            "overflow_x": null,
            "overflow_y": null,
            "padding": null,
            "right": null,
            "top": null,
            "visibility": null,
            "width": null
          }
        },
        "3c6608b1b0a240ae88c44e332e598a4f": {
          "model_module": "@jupyter-widgets/base",
          "model_name": "LayoutModel",
          "model_module_version": "1.2.0",
          "state": {
            "_model_module": "@jupyter-widgets/base",
            "_model_module_version": "1.2.0",
            "_model_name": "LayoutModel",
            "_view_count": null,
            "_view_module": "@jupyter-widgets/base",
            "_view_module_version": "1.2.0",
            "_view_name": "LayoutView",
            "align_content": null,
            "align_items": null,
            "align_self": null,
            "border": null,
            "bottom": null,
            "display": null,
            "flex": null,
            "flex_flow": null,
            "grid_area": null,
            "grid_auto_columns": null,
            "grid_auto_flow": null,
            "grid_auto_rows": null,
            "grid_column": null,
            "grid_gap": null,
            "grid_row": null,
            "grid_template_areas": null,
            "grid_template_columns": null,
            "grid_template_rows": null,
            "height": null,
            "justify_content": null,
            "justify_items": null,
            "left": null,
            "margin": null,
            "max_height": null,
            "max_width": null,
            "min_height": null,
            "min_width": null,
            "object_fit": null,
            "object_position": null,
            "order": null,
            "overflow": null,
            "overflow_x": null,
            "overflow_y": null,
            "padding": null,
            "right": null,
            "top": null,
            "visibility": null,
            "width": null
          }
        },
        "e2785816d5974c49b2af9980b55d3f8a": {
          "model_module": "@jupyter-widgets/controls",
          "model_name": "DescriptionStyleModel",
          "model_module_version": "1.5.0",
          "state": {
            "_model_module": "@jupyter-widgets/controls",
            "_model_module_version": "1.5.0",
            "_model_name": "DescriptionStyleModel",
            "_view_count": null,
            "_view_module": "@jupyter-widgets/base",
            "_view_module_version": "1.2.0",
            "_view_name": "StyleView",
            "description_width": ""
          }
        },
        "d99ef9c912c74463909cd0ed2f4917ff": {
          "model_module": "@jupyter-widgets/base",
          "model_name": "LayoutModel",
          "model_module_version": "1.2.0",
          "state": {
            "_model_module": "@jupyter-widgets/base",
            "_model_module_version": "1.2.0",
            "_model_name": "LayoutModel",
            "_view_count": null,
            "_view_module": "@jupyter-widgets/base",
            "_view_module_version": "1.2.0",
            "_view_name": "LayoutView",
            "align_content": null,
            "align_items": null,
            "align_self": null,
            "border": null,
            "bottom": null,
            "display": null,
            "flex": null,
            "flex_flow": null,
            "grid_area": null,
            "grid_auto_columns": null,
            "grid_auto_flow": null,
            "grid_auto_rows": null,
            "grid_column": null,
            "grid_gap": null,
            "grid_row": null,
            "grid_template_areas": null,
            "grid_template_columns": null,
            "grid_template_rows": null,
            "height": null,
            "justify_content": null,
            "justify_items": null,
            "left": null,
            "margin": null,
            "max_height": null,
            "max_width": null,
            "min_height": null,
            "min_width": null,
            "object_fit": null,
            "object_position": null,
            "order": null,
            "overflow": null,
            "overflow_x": null,
            "overflow_y": null,
            "padding": null,
            "right": null,
            "top": null,
            "visibility": null,
            "width": null
          }
        },
        "f6a1c404b98c420a9aa6c69bf9b01e7f": {
          "model_module": "@jupyter-widgets/controls",
          "model_name": "ProgressStyleModel",
          "model_module_version": "1.5.0",
          "state": {
            "_model_module": "@jupyter-widgets/controls",
            "_model_module_version": "1.5.0",
            "_model_name": "ProgressStyleModel",
            "_view_count": null,
            "_view_module": "@jupyter-widgets/base",
            "_view_module_version": "1.2.0",
            "_view_name": "StyleView",
            "bar_color": null,
            "description_width": ""
          }
        },
        "bc26facb05404717aa430becc70a28da": {
          "model_module": "@jupyter-widgets/base",
          "model_name": "LayoutModel",
          "model_module_version": "1.2.0",
          "state": {
            "_model_module": "@jupyter-widgets/base",
            "_model_module_version": "1.2.0",
            "_model_name": "LayoutModel",
            "_view_count": null,
            "_view_module": "@jupyter-widgets/base",
            "_view_module_version": "1.2.0",
            "_view_name": "LayoutView",
            "align_content": null,
            "align_items": null,
            "align_self": null,
            "border": null,
            "bottom": null,
            "display": null,
            "flex": null,
            "flex_flow": null,
            "grid_area": null,
            "grid_auto_columns": null,
            "grid_auto_flow": null,
            "grid_auto_rows": null,
            "grid_column": null,
            "grid_gap": null,
            "grid_row": null,
            "grid_template_areas": null,
            "grid_template_columns": null,
            "grid_template_rows": null,
            "height": null,
            "justify_content": null,
            "justify_items": null,
            "left": null,
            "margin": null,
            "max_height": null,
            "max_width": null,
            "min_height": null,
            "min_width": null,
            "object_fit": null,
            "object_position": null,
            "order": null,
            "overflow": null,
            "overflow_x": null,
            "overflow_y": null,
            "padding": null,
            "right": null,
            "top": null,
            "visibility": null,
            "width": null
          }
        },
        "707a44f4def94179a6e4b92c58b94351": {
          "model_module": "@jupyter-widgets/controls",
          "model_name": "DescriptionStyleModel",
          "model_module_version": "1.5.0",
          "state": {
            "_model_module": "@jupyter-widgets/controls",
            "_model_module_version": "1.5.0",
            "_model_name": "DescriptionStyleModel",
            "_view_count": null,
            "_view_module": "@jupyter-widgets/base",
            "_view_module_version": "1.2.0",
            "_view_name": "StyleView",
            "description_width": ""
          }
        },
        "e657189c4ebb4f0b812af8a49ac535d4": {
          "model_module": "@jupyter-widgets/controls",
          "model_name": "HBoxModel",
          "model_module_version": "1.5.0",
          "state": {
            "_dom_classes": [],
            "_model_module": "@jupyter-widgets/controls",
            "_model_module_version": "1.5.0",
            "_model_name": "HBoxModel",
            "_view_count": null,
            "_view_module": "@jupyter-widgets/controls",
            "_view_module_version": "1.5.0",
            "_view_name": "HBoxView",
            "box_style": "",
            "children": [
              "IPY_MODEL_a48e5f5722c1435cae4fbfa65a6732d2",
              "IPY_MODEL_7aab2945e73f4d0d8ee4cceca5e1f089",
              "IPY_MODEL_0237eafdac9844f8931d6b057a145e94"
            ],
            "layout": "IPY_MODEL_debc6657766e4b699cdcd3c51774698e"
          }
        },
        "a48e5f5722c1435cae4fbfa65a6732d2": {
          "model_module": "@jupyter-widgets/controls",
          "model_name": "HTMLModel",
          "model_module_version": "1.5.0",
          "state": {
            "_dom_classes": [],
            "_model_module": "@jupyter-widgets/controls",
            "_model_module_version": "1.5.0",
            "_model_name": "HTMLModel",
            "_view_count": null,
            "_view_module": "@jupyter-widgets/controls",
            "_view_module_version": "1.5.0",
            "_view_name": "HTMLView",
            "description": "",
            "description_tooltip": null,
            "layout": "IPY_MODEL_a85597bd97224ce1861447bd3275fa77",
            "placeholder": "​",
            "style": "IPY_MODEL_8ae2ddeda9af494dbaaf3f47fa6250b0",
            "value": "100%"
          }
        },
        "7aab2945e73f4d0d8ee4cceca5e1f089": {
          "model_module": "@jupyter-widgets/controls",
          "model_name": "FloatProgressModel",
          "model_module_version": "1.5.0",
          "state": {
            "_dom_classes": [],
            "_model_module": "@jupyter-widgets/controls",
            "_model_module_version": "1.5.0",
            "_model_name": "FloatProgressModel",
            "_view_count": null,
            "_view_module": "@jupyter-widgets/controls",
            "_view_module_version": "1.5.0",
            "_view_name": "ProgressView",
            "bar_style": "success",
            "description": "",
            "description_tooltip": null,
            "layout": "IPY_MODEL_9e9e82381a7c4262ad96eac153ed4b74",
            "max": 100,
            "min": 0,
            "orientation": "horizontal",
            "style": "IPY_MODEL_4f8dca1e11084b0aabc7e88b03cf9fb4",
            "value": 100
          }
        },
        "0237eafdac9844f8931d6b057a145e94": {
          "model_module": "@jupyter-widgets/controls",
          "model_name": "HTMLModel",
          "model_module_version": "1.5.0",
          "state": {
            "_dom_classes": [],
            "_model_module": "@jupyter-widgets/controls",
            "_model_module_version": "1.5.0",
            "_model_name": "HTMLModel",
            "_view_count": null,
            "_view_module": "@jupyter-widgets/controls",
            "_view_module_version": "1.5.0",
            "_view_name": "HTMLView",
            "description": "",
            "description_tooltip": null,
            "layout": "IPY_MODEL_ecd219d2dbe04259abd5cf240a1ea53c",
            "placeholder": "​",
            "style": "IPY_MODEL_d1be8b6afbca43c689e680505ba4e835",
            "value": " 100/100 [00:45&lt;00:00,  2.21it/s]"
          }
        },
        "debc6657766e4b699cdcd3c51774698e": {
          "model_module": "@jupyter-widgets/base",
          "model_name": "LayoutModel",
          "model_module_version": "1.2.0",
          "state": {
            "_model_module": "@jupyter-widgets/base",
            "_model_module_version": "1.2.0",
            "_model_name": "LayoutModel",
            "_view_count": null,
            "_view_module": "@jupyter-widgets/base",
            "_view_module_version": "1.2.0",
            "_view_name": "LayoutView",
            "align_content": null,
            "align_items": null,
            "align_self": null,
            "border": null,
            "bottom": null,
            "display": null,
            "flex": null,
            "flex_flow": null,
            "grid_area": null,
            "grid_auto_columns": null,
            "grid_auto_flow": null,
            "grid_auto_rows": null,
            "grid_column": null,
            "grid_gap": null,
            "grid_row": null,
            "grid_template_areas": null,
            "grid_template_columns": null,
            "grid_template_rows": null,
            "height": null,
            "justify_content": null,
            "justify_items": null,
            "left": null,
            "margin": null,
            "max_height": null,
            "max_width": null,
            "min_height": null,
            "min_width": null,
            "object_fit": null,
            "object_position": null,
            "order": null,
            "overflow": null,
            "overflow_x": null,
            "overflow_y": null,
            "padding": null,
            "right": null,
            "top": null,
            "visibility": null,
            "width": null
          }
        },
        "a85597bd97224ce1861447bd3275fa77": {
          "model_module": "@jupyter-widgets/base",
          "model_name": "LayoutModel",
          "model_module_version": "1.2.0",
          "state": {
            "_model_module": "@jupyter-widgets/base",
            "_model_module_version": "1.2.0",
            "_model_name": "LayoutModel",
            "_view_count": null,
            "_view_module": "@jupyter-widgets/base",
            "_view_module_version": "1.2.0",
            "_view_name": "LayoutView",
            "align_content": null,
            "align_items": null,
            "align_self": null,
            "border": null,
            "bottom": null,
            "display": null,
            "flex": null,
            "flex_flow": null,
            "grid_area": null,
            "grid_auto_columns": null,
            "grid_auto_flow": null,
            "grid_auto_rows": null,
            "grid_column": null,
            "grid_gap": null,
            "grid_row": null,
            "grid_template_areas": null,
            "grid_template_columns": null,
            "grid_template_rows": null,
            "height": null,
            "justify_content": null,
            "justify_items": null,
            "left": null,
            "margin": null,
            "max_height": null,
            "max_width": null,
            "min_height": null,
            "min_width": null,
            "object_fit": null,
            "object_position": null,
            "order": null,
            "overflow": null,
            "overflow_x": null,
            "overflow_y": null,
            "padding": null,
            "right": null,
            "top": null,
            "visibility": null,
            "width": null
          }
        },
        "8ae2ddeda9af494dbaaf3f47fa6250b0": {
          "model_module": "@jupyter-widgets/controls",
          "model_name": "DescriptionStyleModel",
          "model_module_version": "1.5.0",
          "state": {
            "_model_module": "@jupyter-widgets/controls",
            "_model_module_version": "1.5.0",
            "_model_name": "DescriptionStyleModel",
            "_view_count": null,
            "_view_module": "@jupyter-widgets/base",
            "_view_module_version": "1.2.0",
            "_view_name": "StyleView",
            "description_width": ""
          }
        },
        "9e9e82381a7c4262ad96eac153ed4b74": {
          "model_module": "@jupyter-widgets/base",
          "model_name": "LayoutModel",
          "model_module_version": "1.2.0",
          "state": {
            "_model_module": "@jupyter-widgets/base",
            "_model_module_version": "1.2.0",
            "_model_name": "LayoutModel",
            "_view_count": null,
            "_view_module": "@jupyter-widgets/base",
            "_view_module_version": "1.2.0",
            "_view_name": "LayoutView",
            "align_content": null,
            "align_items": null,
            "align_self": null,
            "border": null,
            "bottom": null,
            "display": null,
            "flex": null,
            "flex_flow": null,
            "grid_area": null,
            "grid_auto_columns": null,
            "grid_auto_flow": null,
            "grid_auto_rows": null,
            "grid_column": null,
            "grid_gap": null,
            "grid_row": null,
            "grid_template_areas": null,
            "grid_template_columns": null,
            "grid_template_rows": null,
            "height": null,
            "justify_content": null,
            "justify_items": null,
            "left": null,
            "margin": null,
            "max_height": null,
            "max_width": null,
            "min_height": null,
            "min_width": null,
            "object_fit": null,
            "object_position": null,
            "order": null,
            "overflow": null,
            "overflow_x": null,
            "overflow_y": null,
            "padding": null,
            "right": null,
            "top": null,
            "visibility": null,
            "width": null
          }
        },
        "4f8dca1e11084b0aabc7e88b03cf9fb4": {
          "model_module": "@jupyter-widgets/controls",
          "model_name": "ProgressStyleModel",
          "model_module_version": "1.5.0",
          "state": {
            "_model_module": "@jupyter-widgets/controls",
            "_model_module_version": "1.5.0",
            "_model_name": "ProgressStyleModel",
            "_view_count": null,
            "_view_module": "@jupyter-widgets/base",
            "_view_module_version": "1.2.0",
            "_view_name": "StyleView",
            "bar_color": null,
            "description_width": ""
          }
        },
        "ecd219d2dbe04259abd5cf240a1ea53c": {
          "model_module": "@jupyter-widgets/base",
          "model_name": "LayoutModel",
          "model_module_version": "1.2.0",
          "state": {
            "_model_module": "@jupyter-widgets/base",
            "_model_module_version": "1.2.0",
            "_model_name": "LayoutModel",
            "_view_count": null,
            "_view_module": "@jupyter-widgets/base",
            "_view_module_version": "1.2.0",
            "_view_name": "LayoutView",
            "align_content": null,
            "align_items": null,
            "align_self": null,
            "border": null,
            "bottom": null,
            "display": null,
            "flex": null,
            "flex_flow": null,
            "grid_area": null,
            "grid_auto_columns": null,
            "grid_auto_flow": null,
            "grid_auto_rows": null,
            "grid_column": null,
            "grid_gap": null,
            "grid_row": null,
            "grid_template_areas": null,
            "grid_template_columns": null,
            "grid_template_rows": null,
            "height": null,
            "justify_content": null,
            "justify_items": null,
            "left": null,
            "margin": null,
            "max_height": null,
            "max_width": null,
            "min_height": null,
            "min_width": null,
            "object_fit": null,
            "object_position": null,
            "order": null,
            "overflow": null,
            "overflow_x": null,
            "overflow_y": null,
            "padding": null,
            "right": null,
            "top": null,
            "visibility": null,
            "width": null
          }
        },
        "d1be8b6afbca43c689e680505ba4e835": {
          "model_module": "@jupyter-widgets/controls",
          "model_name": "DescriptionStyleModel",
          "model_module_version": "1.5.0",
          "state": {
            "_model_module": "@jupyter-widgets/controls",
            "_model_module_version": "1.5.0",
            "_model_name": "DescriptionStyleModel",
            "_view_count": null,
            "_view_module": "@jupyter-widgets/base",
            "_view_module_version": "1.2.0",
            "_view_name": "StyleView",
            "description_width": ""
          }
        },
        "84caec3ec67c40f38ab15aa331a65550": {
          "model_module": "@jupyter-widgets/controls",
          "model_name": "HBoxModel",
          "model_module_version": "1.5.0",
          "state": {
            "_dom_classes": [],
            "_model_module": "@jupyter-widgets/controls",
            "_model_module_version": "1.5.0",
            "_model_name": "HBoxModel",
            "_view_count": null,
            "_view_module": "@jupyter-widgets/controls",
            "_view_module_version": "1.5.0",
            "_view_name": "HBoxView",
            "box_style": "",
            "children": [
              "IPY_MODEL_d566b063a5d441219d319eb8bc62fa6a",
              "IPY_MODEL_cae9fd7858af49349b5fa93b72c50a0d",
              "IPY_MODEL_247ccce5fd9442879f9d1083db5490b1"
            ],
            "layout": "IPY_MODEL_75f5ce1bd3f24da58ed2ed1050b39d41"
          }
        },
        "d566b063a5d441219d319eb8bc62fa6a": {
          "model_module": "@jupyter-widgets/controls",
          "model_name": "HTMLModel",
          "model_module_version": "1.5.0",
          "state": {
            "_dom_classes": [],
            "_model_module": "@jupyter-widgets/controls",
            "_model_module_version": "1.5.0",
            "_model_name": "HTMLModel",
            "_view_count": null,
            "_view_module": "@jupyter-widgets/controls",
            "_view_module_version": "1.5.0",
            "_view_name": "HTMLView",
            "description": "",
            "description_tooltip": null,
            "layout": "IPY_MODEL_9f63fe4887e7440a818a9656eec155a5",
            "placeholder": "​",
            "style": "IPY_MODEL_8f798dea818448e382e4e7f31a90a488",
            "value": "100%"
          }
        },
        "cae9fd7858af49349b5fa93b72c50a0d": {
          "model_module": "@jupyter-widgets/controls",
          "model_name": "FloatProgressModel",
          "model_module_version": "1.5.0",
          "state": {
            "_dom_classes": [],
            "_model_module": "@jupyter-widgets/controls",
            "_model_module_version": "1.5.0",
            "_model_name": "FloatProgressModel",
            "_view_count": null,
            "_view_module": "@jupyter-widgets/controls",
            "_view_module_version": "1.5.0",
            "_view_name": "ProgressView",
            "bar_style": "success",
            "description": "",
            "description_tooltip": null,
            "layout": "IPY_MODEL_0553cfe7d7ed4c66bc01317f57c144f4",
            "max": 3,
            "min": 0,
            "orientation": "horizontal",
            "style": "IPY_MODEL_2cc47718ffa64c698fb0713be2b5f4c4",
            "value": 3
          }
        },
        "247ccce5fd9442879f9d1083db5490b1": {
          "model_module": "@jupyter-widgets/controls",
          "model_name": "HTMLModel",
          "model_module_version": "1.5.0",
          "state": {
            "_dom_classes": [],
            "_model_module": "@jupyter-widgets/controls",
            "_model_module_version": "1.5.0",
            "_model_name": "HTMLModel",
            "_view_count": null,
            "_view_module": "@jupyter-widgets/controls",
            "_view_module_version": "1.5.0",
            "_view_name": "HTMLView",
            "description": "",
            "description_tooltip": null,
            "layout": "IPY_MODEL_c799b08b2bc14e108a762c6ee21f412f",
            "placeholder": "​",
            "style": "IPY_MODEL_9142f3d536f046a58ab065a9089894c1",
            "value": " 3/3 [00:00&lt;00:00,  7.39it/s]"
          }
        },
        "75f5ce1bd3f24da58ed2ed1050b39d41": {
          "model_module": "@jupyter-widgets/base",
          "model_name": "LayoutModel",
          "model_module_version": "1.2.0",
          "state": {
            "_model_module": "@jupyter-widgets/base",
            "_model_module_version": "1.2.0",
            "_model_name": "LayoutModel",
            "_view_count": null,
            "_view_module": "@jupyter-widgets/base",
            "_view_module_version": "1.2.0",
            "_view_name": "LayoutView",
            "align_content": null,
            "align_items": null,
            "align_self": null,
            "border": null,
            "bottom": null,
            "display": null,
            "flex": null,
            "flex_flow": null,
            "grid_area": null,
            "grid_auto_columns": null,
            "grid_auto_flow": null,
            "grid_auto_rows": null,
            "grid_column": null,
            "grid_gap": null,
            "grid_row": null,
            "grid_template_areas": null,
            "grid_template_columns": null,
            "grid_template_rows": null,
            "height": null,
            "justify_content": null,
            "justify_items": null,
            "left": null,
            "margin": null,
            "max_height": null,
            "max_width": null,
            "min_height": null,
            "min_width": null,
            "object_fit": null,
            "object_position": null,
            "order": null,
            "overflow": null,
            "overflow_x": null,
            "overflow_y": null,
            "padding": null,
            "right": null,
            "top": null,
            "visibility": null,
            "width": null
          }
        },
        "9f63fe4887e7440a818a9656eec155a5": {
          "model_module": "@jupyter-widgets/base",
          "model_name": "LayoutModel",
          "model_module_version": "1.2.0",
          "state": {
            "_model_module": "@jupyter-widgets/base",
            "_model_module_version": "1.2.0",
            "_model_name": "LayoutModel",
            "_view_count": null,
            "_view_module": "@jupyter-widgets/base",
            "_view_module_version": "1.2.0",
            "_view_name": "LayoutView",
            "align_content": null,
            "align_items": null,
            "align_self": null,
            "border": null,
            "bottom": null,
            "display": null,
            "flex": null,
            "flex_flow": null,
            "grid_area": null,
            "grid_auto_columns": null,
            "grid_auto_flow": null,
            "grid_auto_rows": null,
            "grid_column": null,
            "grid_gap": null,
            "grid_row": null,
            "grid_template_areas": null,
            "grid_template_columns": null,
            "grid_template_rows": null,
            "height": null,
            "justify_content": null,
            "justify_items": null,
            "left": null,
            "margin": null,
            "max_height": null,
            "max_width": null,
            "min_height": null,
            "min_width": null,
            "object_fit": null,
            "object_position": null,
            "order": null,
            "overflow": null,
            "overflow_x": null,
            "overflow_y": null,
            "padding": null,
            "right": null,
            "top": null,
            "visibility": null,
            "width": null
          }
        },
        "8f798dea818448e382e4e7f31a90a488": {
          "model_module": "@jupyter-widgets/controls",
          "model_name": "DescriptionStyleModel",
          "model_module_version": "1.5.0",
          "state": {
            "_model_module": "@jupyter-widgets/controls",
            "_model_module_version": "1.5.0",
            "_model_name": "DescriptionStyleModel",
            "_view_count": null,
            "_view_module": "@jupyter-widgets/base",
            "_view_module_version": "1.2.0",
            "_view_name": "StyleView",
            "description_width": ""
          }
        },
        "0553cfe7d7ed4c66bc01317f57c144f4": {
          "model_module": "@jupyter-widgets/base",
          "model_name": "LayoutModel",
          "model_module_version": "1.2.0",
          "state": {
            "_model_module": "@jupyter-widgets/base",
            "_model_module_version": "1.2.0",
            "_model_name": "LayoutModel",
            "_view_count": null,
            "_view_module": "@jupyter-widgets/base",
            "_view_module_version": "1.2.0",
            "_view_name": "LayoutView",
            "align_content": null,
            "align_items": null,
            "align_self": null,
            "border": null,
            "bottom": null,
            "display": null,
            "flex": null,
            "flex_flow": null,
            "grid_area": null,
            "grid_auto_columns": null,
            "grid_auto_flow": null,
            "grid_auto_rows": null,
            "grid_column": null,
            "grid_gap": null,
            "grid_row": null,
            "grid_template_areas": null,
            "grid_template_columns": null,
            "grid_template_rows": null,
            "height": null,
            "justify_content": null,
            "justify_items": null,
            "left": null,
            "margin": null,
            "max_height": null,
            "max_width": null,
            "min_height": null,
            "min_width": null,
            "object_fit": null,
            "object_position": null,
            "order": null,
            "overflow": null,
            "overflow_x": null,
            "overflow_y": null,
            "padding": null,
            "right": null,
            "top": null,
            "visibility": null,
            "width": null
          }
        },
        "2cc47718ffa64c698fb0713be2b5f4c4": {
          "model_module": "@jupyter-widgets/controls",
          "model_name": "ProgressStyleModel",
          "model_module_version": "1.5.0",
          "state": {
            "_model_module": "@jupyter-widgets/controls",
            "_model_module_version": "1.5.0",
            "_model_name": "ProgressStyleModel",
            "_view_count": null,
            "_view_module": "@jupyter-widgets/base",
            "_view_module_version": "1.2.0",
            "_view_name": "StyleView",
            "bar_color": null,
            "description_width": ""
          }
        },
        "c799b08b2bc14e108a762c6ee21f412f": {
          "model_module": "@jupyter-widgets/base",
          "model_name": "LayoutModel",
          "model_module_version": "1.2.0",
          "state": {
            "_model_module": "@jupyter-widgets/base",
            "_model_module_version": "1.2.0",
            "_model_name": "LayoutModel",
            "_view_count": null,
            "_view_module": "@jupyter-widgets/base",
            "_view_module_version": "1.2.0",
            "_view_name": "LayoutView",
            "align_content": null,
            "align_items": null,
            "align_self": null,
            "border": null,
            "bottom": null,
            "display": null,
            "flex": null,
            "flex_flow": null,
            "grid_area": null,
            "grid_auto_columns": null,
            "grid_auto_flow": null,
            "grid_auto_rows": null,
            "grid_column": null,
            "grid_gap": null,
            "grid_row": null,
            "grid_template_areas": null,
            "grid_template_columns": null,
            "grid_template_rows": null,
            "height": null,
            "justify_content": null,
            "justify_items": null,
            "left": null,
            "margin": null,
            "max_height": null,
            "max_width": null,
            "min_height": null,
            "min_width": null,
            "object_fit": null,
            "object_position": null,
            "order": null,
            "overflow": null,
            "overflow_x": null,
            "overflow_y": null,
            "padding": null,
            "right": null,
            "top": null,
            "visibility": null,
            "width": null
          }
        },
        "9142f3d536f046a58ab065a9089894c1": {
          "model_module": "@jupyter-widgets/controls",
          "model_name": "DescriptionStyleModel",
          "model_module_version": "1.5.0",
          "state": {
            "_model_module": "@jupyter-widgets/controls",
            "_model_module_version": "1.5.0",
            "_model_name": "DescriptionStyleModel",
            "_view_count": null,
            "_view_module": "@jupyter-widgets/base",
            "_view_module_version": "1.2.0",
            "_view_name": "StyleView",
            "description_width": ""
          }
        },
        "0864aba574134d0a8c0d1731d2f0df62": {
          "model_module": "@jupyter-widgets/controls",
          "model_name": "HBoxModel",
          "model_module_version": "1.5.0",
          "state": {
            "_dom_classes": [],
            "_model_module": "@jupyter-widgets/controls",
            "_model_module_version": "1.5.0",
            "_model_name": "HBoxModel",
            "_view_count": null,
            "_view_module": "@jupyter-widgets/controls",
            "_view_module_version": "1.5.0",
            "_view_name": "HBoxView",
            "box_style": "",
            "children": [
              "IPY_MODEL_5eff2370210a4e21a2d1a31ed634f673",
              "IPY_MODEL_179d52e391574a08942a3401f4f711c5",
              "IPY_MODEL_604145b2564c45b4bafee4643cd85a2d"
            ],
            "layout": "IPY_MODEL_d83f22b04306439db2394ad41725c2a6"
          }
        },
        "5eff2370210a4e21a2d1a31ed634f673": {
          "model_module": "@jupyter-widgets/controls",
          "model_name": "HTMLModel",
          "model_module_version": "1.5.0",
          "state": {
            "_dom_classes": [],
            "_model_module": "@jupyter-widgets/controls",
            "_model_module_version": "1.5.0",
            "_model_name": "HTMLModel",
            "_view_count": null,
            "_view_module": "@jupyter-widgets/controls",
            "_view_module_version": "1.5.0",
            "_view_name": "HTMLView",
            "description": "",
            "description_tooltip": null,
            "layout": "IPY_MODEL_59d1129ea5df467c91a88533f79d9285",
            "placeholder": "​",
            "style": "IPY_MODEL_f75ce1a239114e45a3ffef3c9d57a591",
            "value": "Downloading: 100%"
          }
        },
        "179d52e391574a08942a3401f4f711c5": {
          "model_module": "@jupyter-widgets/controls",
          "model_name": "FloatProgressModel",
          "model_module_version": "1.5.0",
          "state": {
            "_dom_classes": [],
            "_model_module": "@jupyter-widgets/controls",
            "_model_module_version": "1.5.0",
            "_model_name": "FloatProgressModel",
            "_view_count": null,
            "_view_module": "@jupyter-widgets/controls",
            "_view_module_version": "1.5.0",
            "_view_name": "ProgressView",
            "bar_style": "success",
            "description": "",
            "description_tooltip": null,
            "layout": "IPY_MODEL_5df390cf7fee4ca481251ed0dc04d7af",
            "max": 492,
            "min": 0,
            "orientation": "horizontal",
            "style": "IPY_MODEL_c8b1aa8732074ed5aad90d21b23b32c8",
            "value": 492
          }
        },
        "604145b2564c45b4bafee4643cd85a2d": {
          "model_module": "@jupyter-widgets/controls",
          "model_name": "HTMLModel",
          "model_module_version": "1.5.0",
          "state": {
            "_dom_classes": [],
            "_model_module": "@jupyter-widgets/controls",
            "_model_module_version": "1.5.0",
            "_model_name": "HTMLModel",
            "_view_count": null,
            "_view_module": "@jupyter-widgets/controls",
            "_view_module_version": "1.5.0",
            "_view_name": "HTMLView",
            "description": "",
            "description_tooltip": null,
            "layout": "IPY_MODEL_11d09874d84c4f32b989fc8079339c97",
            "placeholder": "​",
            "style": "IPY_MODEL_4577cd90b57f41678698208def66e09c",
            "value": " 492/492 [00:00&lt;00:00, 12.4kB/s]"
          }
        },
        "d83f22b04306439db2394ad41725c2a6": {
          "model_module": "@jupyter-widgets/base",
          "model_name": "LayoutModel",
          "model_module_version": "1.2.0",
          "state": {
            "_model_module": "@jupyter-widgets/base",
            "_model_module_version": "1.2.0",
            "_model_name": "LayoutModel",
            "_view_count": null,
            "_view_module": "@jupyter-widgets/base",
            "_view_module_version": "1.2.0",
            "_view_name": "LayoutView",
            "align_content": null,
            "align_items": null,
            "align_self": null,
            "border": null,
            "bottom": null,
            "display": null,
            "flex": null,
            "flex_flow": null,
            "grid_area": null,
            "grid_auto_columns": null,
            "grid_auto_flow": null,
            "grid_auto_rows": null,
            "grid_column": null,
            "grid_gap": null,
            "grid_row": null,
            "grid_template_areas": null,
            "grid_template_columns": null,
            "grid_template_rows": null,
            "height": null,
            "justify_content": null,
            "justify_items": null,
            "left": null,
            "margin": null,
            "max_height": null,
            "max_width": null,
            "min_height": null,
            "min_width": null,
            "object_fit": null,
            "object_position": null,
            "order": null,
            "overflow": null,
            "overflow_x": null,
            "overflow_y": null,
            "padding": null,
            "right": null,
            "top": null,
            "visibility": null,
            "width": null
          }
        },
        "59d1129ea5df467c91a88533f79d9285": {
          "model_module": "@jupyter-widgets/base",
          "model_name": "LayoutModel",
          "model_module_version": "1.2.0",
          "state": {
            "_model_module": "@jupyter-widgets/base",
            "_model_module_version": "1.2.0",
            "_model_name": "LayoutModel",
            "_view_count": null,
            "_view_module": "@jupyter-widgets/base",
            "_view_module_version": "1.2.0",
            "_view_name": "LayoutView",
            "align_content": null,
            "align_items": null,
            "align_self": null,
            "border": null,
            "bottom": null,
            "display": null,
            "flex": null,
            "flex_flow": null,
            "grid_area": null,
            "grid_auto_columns": null,
            "grid_auto_flow": null,
            "grid_auto_rows": null,
            "grid_column": null,
            "grid_gap": null,
            "grid_row": null,
            "grid_template_areas": null,
            "grid_template_columns": null,
            "grid_template_rows": null,
            "height": null,
            "justify_content": null,
            "justify_items": null,
            "left": null,
            "margin": null,
            "max_height": null,
            "max_width": null,
            "min_height": null,
            "min_width": null,
            "object_fit": null,
            "object_position": null,
            "order": null,
            "overflow": null,
            "overflow_x": null,
            "overflow_y": null,
            "padding": null,
            "right": null,
            "top": null,
            "visibility": null,
            "width": null
          }
        },
        "f75ce1a239114e45a3ffef3c9d57a591": {
          "model_module": "@jupyter-widgets/controls",
          "model_name": "DescriptionStyleModel",
          "model_module_version": "1.5.0",
          "state": {
            "_model_module": "@jupyter-widgets/controls",
            "_model_module_version": "1.5.0",
            "_model_name": "DescriptionStyleModel",
            "_view_count": null,
            "_view_module": "@jupyter-widgets/base",
            "_view_module_version": "1.2.0",
            "_view_name": "StyleView",
            "description_width": ""
          }
        },
        "5df390cf7fee4ca481251ed0dc04d7af": {
          "model_module": "@jupyter-widgets/base",
          "model_name": "LayoutModel",
          "model_module_version": "1.2.0",
          "state": {
            "_model_module": "@jupyter-widgets/base",
            "_model_module_version": "1.2.0",
            "_model_name": "LayoutModel",
            "_view_count": null,
            "_view_module": "@jupyter-widgets/base",
            "_view_module_version": "1.2.0",
            "_view_name": "LayoutView",
            "align_content": null,
            "align_items": null,
            "align_self": null,
            "border": null,
            "bottom": null,
            "display": null,
            "flex": null,
            "flex_flow": null,
            "grid_area": null,
            "grid_auto_columns": null,
            "grid_auto_flow": null,
            "grid_auto_rows": null,
            "grid_column": null,
            "grid_gap": null,
            "grid_row": null,
            "grid_template_areas": null,
            "grid_template_columns": null,
            "grid_template_rows": null,
            "height": null,
            "justify_content": null,
            "justify_items": null,
            "left": null,
            "margin": null,
            "max_height": null,
            "max_width": null,
            "min_height": null,
            "min_width": null,
            "object_fit": null,
            "object_position": null,
            "order": null,
            "overflow": null,
            "overflow_x": null,
            "overflow_y": null,
            "padding": null,
            "right": null,
            "top": null,
            "visibility": null,
            "width": null
          }
        },
        "c8b1aa8732074ed5aad90d21b23b32c8": {
          "model_module": "@jupyter-widgets/controls",
          "model_name": "ProgressStyleModel",
          "model_module_version": "1.5.0",
          "state": {
            "_model_module": "@jupyter-widgets/controls",
            "_model_module_version": "1.5.0",
            "_model_name": "ProgressStyleModel",
            "_view_count": null,
            "_view_module": "@jupyter-widgets/base",
            "_view_module_version": "1.2.0",
            "_view_name": "StyleView",
            "bar_color": null,
            "description_width": ""
          }
        },
        "11d09874d84c4f32b989fc8079339c97": {
          "model_module": "@jupyter-widgets/base",
          "model_name": "LayoutModel",
          "model_module_version": "1.2.0",
          "state": {
            "_model_module": "@jupyter-widgets/base",
            "_model_module_version": "1.2.0",
            "_model_name": "LayoutModel",
            "_view_count": null,
            "_view_module": "@jupyter-widgets/base",
            "_view_module_version": "1.2.0",
            "_view_name": "LayoutView",
            "align_content": null,
            "align_items": null,
            "align_self": null,
            "border": null,
            "bottom": null,
            "display": null,
            "flex": null,
            "flex_flow": null,
            "grid_area": null,
            "grid_auto_columns": null,
            "grid_auto_flow": null,
            "grid_auto_rows": null,
            "grid_column": null,
            "grid_gap": null,
            "grid_row": null,
            "grid_template_areas": null,
            "grid_template_columns": null,
            "grid_template_rows": null,
            "height": null,
            "justify_content": null,
            "justify_items": null,
            "left": null,
            "margin": null,
            "max_height": null,
            "max_width": null,
            "min_height": null,
            "min_width": null,
            "object_fit": null,
            "object_position": null,
            "order": null,
            "overflow": null,
            "overflow_x": null,
            "overflow_y": null,
            "padding": null,
            "right": null,
            "top": null,
            "visibility": null,
            "width": null
          }
        },
        "4577cd90b57f41678698208def66e09c": {
          "model_module": "@jupyter-widgets/controls",
          "model_name": "DescriptionStyleModel",
          "model_module_version": "1.5.0",
          "state": {
            "_model_module": "@jupyter-widgets/controls",
            "_model_module_version": "1.5.0",
            "_model_name": "DescriptionStyleModel",
            "_view_count": null,
            "_view_module": "@jupyter-widgets/base",
            "_view_module_version": "1.2.0",
            "_view_name": "StyleView",
            "description_width": ""
          }
        },
        "d4f6bd5892714fcf80fd02e5de8b8be2": {
          "model_module": "@jupyter-widgets/controls",
          "model_name": "HBoxModel",
          "model_module_version": "1.5.0",
          "state": {
            "_dom_classes": [],
            "_model_module": "@jupyter-widgets/controls",
            "_model_module_version": "1.5.0",
            "_model_name": "HBoxModel",
            "_view_count": null,
            "_view_module": "@jupyter-widgets/controls",
            "_view_module_version": "1.5.0",
            "_view_name": "HBoxView",
            "box_style": "",
            "children": [
              "IPY_MODEL_f033aa94dd134ea8bd5bdf6b96954b48",
              "IPY_MODEL_03a52998169b47358880082f1dc53cec",
              "IPY_MODEL_5844efdbefee4e4b80e419aba4e79d74"
            ],
            "layout": "IPY_MODEL_dd3d9c2002784984a8145dc2fa24b0f6"
          }
        },
        "f033aa94dd134ea8bd5bdf6b96954b48": {
          "model_module": "@jupyter-widgets/controls",
          "model_name": "HTMLModel",
          "model_module_version": "1.5.0",
          "state": {
            "_dom_classes": [],
            "_model_module": "@jupyter-widgets/controls",
            "_model_module_version": "1.5.0",
            "_model_name": "HTMLModel",
            "_view_count": null,
            "_view_module": "@jupyter-widgets/controls",
            "_view_module_version": "1.5.0",
            "_view_name": "HTMLView",
            "description": "",
            "description_tooltip": null,
            "layout": "IPY_MODEL_749dce3820864101b58855861d7685fc",
            "placeholder": "​",
            "style": "IPY_MODEL_9dcd11b1db974f059cacf4d3299a905f",
            "value": "Downloading: 100%"
          }
        },
        "03a52998169b47358880082f1dc53cec": {
          "model_module": "@jupyter-widgets/controls",
          "model_name": "FloatProgressModel",
          "model_module_version": "1.5.0",
          "state": {
            "_dom_classes": [],
            "_model_module": "@jupyter-widgets/controls",
            "_model_module_version": "1.5.0",
            "_model_name": "FloatProgressModel",
            "_view_count": null,
            "_view_module": "@jupyter-widgets/controls",
            "_view_module_version": "1.5.0",
            "_view_name": "ProgressView",
            "bar_style": "success",
            "description": "",
            "description_tooltip": null,
            "layout": "IPY_MODEL_1c51aad0a5764154901e2e71c0253ea4",
            "max": 1312831,
            "min": 0,
            "orientation": "horizontal",
            "style": "IPY_MODEL_343a7a1569f04df8a4bed1a5138034ed",
            "value": 1312831
          }
        },
        "5844efdbefee4e4b80e419aba4e79d74": {
          "model_module": "@jupyter-widgets/controls",
          "model_name": "HTMLModel",
          "model_module_version": "1.5.0",
          "state": {
            "_dom_classes": [],
            "_model_module": "@jupyter-widgets/controls",
            "_model_module_version": "1.5.0",
            "_model_name": "HTMLModel",
            "_view_count": null,
            "_view_module": "@jupyter-widgets/controls",
            "_view_module_version": "1.5.0",
            "_view_name": "HTMLView",
            "description": "",
            "description_tooltip": null,
            "layout": "IPY_MODEL_4b7097dccbc44312bf2eb46e7f68ea6f",
            "placeholder": "​",
            "style": "IPY_MODEL_6fc52b4ddc8a43e486156439fb87a092",
            "value": " 1.25M/1.25M [00:01&lt;00:00, 1.31MB/s]"
          }
        },
        "dd3d9c2002784984a8145dc2fa24b0f6": {
          "model_module": "@jupyter-widgets/base",
          "model_name": "LayoutModel",
          "model_module_version": "1.2.0",
          "state": {
            "_model_module": "@jupyter-widgets/base",
            "_model_module_version": "1.2.0",
            "_model_name": "LayoutModel",
            "_view_count": null,
            "_view_module": "@jupyter-widgets/base",
            "_view_module_version": "1.2.0",
            "_view_name": "LayoutView",
            "align_content": null,
            "align_items": null,
            "align_self": null,
            "border": null,
            "bottom": null,
            "display": null,
            "flex": null,
            "flex_flow": null,
            "grid_area": null,
            "grid_auto_columns": null,
            "grid_auto_flow": null,
            "grid_auto_rows": null,
            "grid_column": null,
            "grid_gap": null,
            "grid_row": null,
            "grid_template_areas": null,
            "grid_template_columns": null,
            "grid_template_rows": null,
            "height": null,
            "justify_content": null,
            "justify_items": null,
            "left": null,
            "margin": null,
            "max_height": null,
            "max_width": null,
            "min_height": null,
            "min_width": null,
            "object_fit": null,
            "object_position": null,
            "order": null,
            "overflow": null,
            "overflow_x": null,
            "overflow_y": null,
            "padding": null,
            "right": null,
            "top": null,
            "visibility": null,
            "width": null
          }
        },
        "749dce3820864101b58855861d7685fc": {
          "model_module": "@jupyter-widgets/base",
          "model_name": "LayoutModel",
          "model_module_version": "1.2.0",
          "state": {
            "_model_module": "@jupyter-widgets/base",
            "_model_module_version": "1.2.0",
            "_model_name": "LayoutModel",
            "_view_count": null,
            "_view_module": "@jupyter-widgets/base",
            "_view_module_version": "1.2.0",
            "_view_name": "LayoutView",
            "align_content": null,
            "align_items": null,
            "align_self": null,
            "border": null,
            "bottom": null,
            "display": null,
            "flex": null,
            "flex_flow": null,
            "grid_area": null,
            "grid_auto_columns": null,
            "grid_auto_flow": null,
            "grid_auto_rows": null,
            "grid_column": null,
            "grid_gap": null,
            "grid_row": null,
            "grid_template_areas": null,
            "grid_template_columns": null,
            "grid_template_rows": null,
            "height": null,
            "justify_content": null,
            "justify_items": null,
            "left": null,
            "margin": null,
            "max_height": null,
            "max_width": null,
            "min_height": null,
            "min_width": null,
            "object_fit": null,
            "object_position": null,
            "order": null,
            "overflow": null,
            "overflow_x": null,
            "overflow_y": null,
            "padding": null,
            "right": null,
            "top": null,
            "visibility": null,
            "width": null
          }
        },
        "9dcd11b1db974f059cacf4d3299a905f": {
          "model_module": "@jupyter-widgets/controls",
          "model_name": "DescriptionStyleModel",
          "model_module_version": "1.5.0",
          "state": {
            "_model_module": "@jupyter-widgets/controls",
            "_model_module_version": "1.5.0",
            "_model_name": "DescriptionStyleModel",
            "_view_count": null,
            "_view_module": "@jupyter-widgets/base",
            "_view_module_version": "1.2.0",
            "_view_name": "StyleView",
            "description_width": ""
          }
        },
        "1c51aad0a5764154901e2e71c0253ea4": {
          "model_module": "@jupyter-widgets/base",
          "model_name": "LayoutModel",
          "model_module_version": "1.2.0",
          "state": {
            "_model_module": "@jupyter-widgets/base",
            "_model_module_version": "1.2.0",
            "_model_name": "LayoutModel",
            "_view_count": null,
            "_view_module": "@jupyter-widgets/base",
            "_view_module_version": "1.2.0",
            "_view_name": "LayoutView",
            "align_content": null,
            "align_items": null,
            "align_self": null,
            "border": null,
            "bottom": null,
            "display": null,
            "flex": null,
            "flex_flow": null,
            "grid_area": null,
            "grid_auto_columns": null,
            "grid_auto_flow": null,
            "grid_auto_rows": null,
            "grid_column": null,
            "grid_gap": null,
            "grid_row": null,
            "grid_template_areas": null,
            "grid_template_columns": null,
            "grid_template_rows": null,
            "height": null,
            "justify_content": null,
            "justify_items": null,
            "left": null,
            "margin": null,
            "max_height": null,
            "max_width": null,
            "min_height": null,
            "min_width": null,
            "object_fit": null,
            "object_position": null,
            "order": null,
            "overflow": null,
            "overflow_x": null,
            "overflow_y": null,
            "padding": null,
            "right": null,
            "top": null,
            "visibility": null,
            "width": null
          }
        },
        "343a7a1569f04df8a4bed1a5138034ed": {
          "model_module": "@jupyter-widgets/controls",
          "model_name": "ProgressStyleModel",
          "model_module_version": "1.5.0",
          "state": {
            "_model_module": "@jupyter-widgets/controls",
            "_model_module_version": "1.5.0",
            "_model_name": "ProgressStyleModel",
            "_view_count": null,
            "_view_module": "@jupyter-widgets/base",
            "_view_module_version": "1.2.0",
            "_view_name": "StyleView",
            "bar_color": null,
            "description_width": ""
          }
        },
        "4b7097dccbc44312bf2eb46e7f68ea6f": {
          "model_module": "@jupyter-widgets/base",
          "model_name": "LayoutModel",
          "model_module_version": "1.2.0",
          "state": {
            "_model_module": "@jupyter-widgets/base",
            "_model_module_version": "1.2.0",
            "_model_name": "LayoutModel",
            "_view_count": null,
            "_view_module": "@jupyter-widgets/base",
            "_view_module_version": "1.2.0",
            "_view_name": "LayoutView",
            "align_content": null,
            "align_items": null,
            "align_self": null,
            "border": null,
            "bottom": null,
            "display": null,
            "flex": null,
            "flex_flow": null,
            "grid_area": null,
            "grid_auto_columns": null,
            "grid_auto_flow": null,
            "grid_auto_rows": null,
            "grid_column": null,
            "grid_gap": null,
            "grid_row": null,
            "grid_template_areas": null,
            "grid_template_columns": null,
            "grid_template_rows": null,
            "height": null,
            "justify_content": null,
            "justify_items": null,
            "left": null,
            "margin": null,
            "max_height": null,
            "max_width": null,
            "min_height": null,
            "min_width": null,
            "object_fit": null,
            "object_position": null,
            "order": null,
            "overflow": null,
            "overflow_x": null,
            "overflow_y": null,
            "padding": null,
            "right": null,
            "top": null,
            "visibility": null,
            "width": null
          }
        },
        "6fc52b4ddc8a43e486156439fb87a092": {
          "model_module": "@jupyter-widgets/controls",
          "model_name": "DescriptionStyleModel",
          "model_module_version": "1.5.0",
          "state": {
            "_model_module": "@jupyter-widgets/controls",
            "_model_module_version": "1.5.0",
            "_model_name": "DescriptionStyleModel",
            "_view_count": null,
            "_view_module": "@jupyter-widgets/base",
            "_view_module_version": "1.2.0",
            "_view_name": "StyleView",
            "description_width": ""
          }
        },
        "e2fb0ff0da5f475c861a8f17f33b16e4": {
          "model_module": "@jupyter-widgets/controls",
          "model_name": "HBoxModel",
          "model_module_version": "1.5.0",
          "state": {
            "_dom_classes": [],
            "_model_module": "@jupyter-widgets/controls",
            "_model_module_version": "1.5.0",
            "_model_name": "HBoxModel",
            "_view_count": null,
            "_view_module": "@jupyter-widgets/controls",
            "_view_module_version": "1.5.0",
            "_view_name": "HBoxView",
            "box_style": "",
            "children": [
              "IPY_MODEL_16aa9354a11a40bab59378fe6f84e54b",
              "IPY_MODEL_baf03b7e8bb84bfdaca032e0f159cae9",
              "IPY_MODEL_d95964594f3e470288dccca88ccbeb2f"
            ],
            "layout": "IPY_MODEL_78982c2abee54907bd5a72e96eace936"
          }
        },
        "16aa9354a11a40bab59378fe6f84e54b": {
          "model_module": "@jupyter-widgets/controls",
          "model_name": "HTMLModel",
          "model_module_version": "1.5.0",
          "state": {
            "_dom_classes": [],
            "_model_module": "@jupyter-widgets/controls",
            "_model_module_version": "1.5.0",
            "_model_name": "HTMLModel",
            "_view_count": null,
            "_view_module": "@jupyter-widgets/controls",
            "_view_module_version": "1.5.0",
            "_view_name": "HTMLView",
            "description": "",
            "description_tooltip": null,
            "layout": "IPY_MODEL_09846adb32264ed6a1fb1470ff729757",
            "placeholder": "​",
            "style": "IPY_MODEL_27fd9486bb6e4379b2c60ca08b9d0843",
            "value": "Downloading: 100%"
          }
        },
        "baf03b7e8bb84bfdaca032e0f159cae9": {
          "model_module": "@jupyter-widgets/controls",
          "model_name": "FloatProgressModel",
          "model_module_version": "1.5.0",
          "state": {
            "_dom_classes": [],
            "_model_module": "@jupyter-widgets/controls",
            "_model_module_version": "1.5.0",
            "_model_name": "FloatProgressModel",
            "_view_count": null,
            "_view_module": "@jupyter-widgets/controls",
            "_view_module_version": "1.5.0",
            "_view_name": "ProgressView",
            "bar_style": "success",
            "description": "",
            "description_tooltip": null,
            "layout": "IPY_MODEL_de5a86d5979f4da7864dfef90704697b",
            "max": 574298,
            "min": 0,
            "orientation": "horizontal",
            "style": "IPY_MODEL_23a42ecaaef84337878f8a79a9c08216",
            "value": 574298
          }
        },
        "d95964594f3e470288dccca88ccbeb2f": {
          "model_module": "@jupyter-widgets/controls",
          "model_name": "HTMLModel",
          "model_module_version": "1.5.0",
          "state": {
            "_dom_classes": [],
            "_model_module": "@jupyter-widgets/controls",
            "_model_module_version": "1.5.0",
            "_model_name": "HTMLModel",
            "_view_count": null,
            "_view_module": "@jupyter-widgets/controls",
            "_view_module_version": "1.5.0",
            "_view_name": "HTMLView",
            "description": "",
            "description_tooltip": null,
            "layout": "IPY_MODEL_5e25fbeb02614523b5a387b2462fe371",
            "placeholder": "​",
            "style": "IPY_MODEL_151f6d8abd7e4aba934f0fde2f8c7349",
            "value": " 561k/561k [00:00&lt;00:00, 636kB/s]"
          }
        },
        "78982c2abee54907bd5a72e96eace936": {
          "model_module": "@jupyter-widgets/base",
          "model_name": "LayoutModel",
          "model_module_version": "1.2.0",
          "state": {
            "_model_module": "@jupyter-widgets/base",
            "_model_module_version": "1.2.0",
            "_model_name": "LayoutModel",
            "_view_count": null,
            "_view_module": "@jupyter-widgets/base",
            "_view_module_version": "1.2.0",
            "_view_name": "LayoutView",
            "align_content": null,
            "align_items": null,
            "align_self": null,
            "border": null,
            "bottom": null,
            "display": null,
            "flex": null,
            "flex_flow": null,
            "grid_area": null,
            "grid_auto_columns": null,
            "grid_auto_flow": null,
            "grid_auto_rows": null,
            "grid_column": null,
            "grid_gap": null,
            "grid_row": null,
            "grid_template_areas": null,
            "grid_template_columns": null,
            "grid_template_rows": null,
            "height": null,
            "justify_content": null,
            "justify_items": null,
            "left": null,
            "margin": null,
            "max_height": null,
            "max_width": null,
            "min_height": null,
            "min_width": null,
            "object_fit": null,
            "object_position": null,
            "order": null,
            "overflow": null,
            "overflow_x": null,
            "overflow_y": null,
            "padding": null,
            "right": null,
            "top": null,
            "visibility": null,
            "width": null
          }
        },
        "09846adb32264ed6a1fb1470ff729757": {
          "model_module": "@jupyter-widgets/base",
          "model_name": "LayoutModel",
          "model_module_version": "1.2.0",
          "state": {
            "_model_module": "@jupyter-widgets/base",
            "_model_module_version": "1.2.0",
            "_model_name": "LayoutModel",
            "_view_count": null,
            "_view_module": "@jupyter-widgets/base",
            "_view_module_version": "1.2.0",
            "_view_name": "LayoutView",
            "align_content": null,
            "align_items": null,
            "align_self": null,
            "border": null,
            "bottom": null,
            "display": null,
            "flex": null,
            "flex_flow": null,
            "grid_area": null,
            "grid_auto_columns": null,
            "grid_auto_flow": null,
            "grid_auto_rows": null,
            "grid_column": null,
            "grid_gap": null,
            "grid_row": null,
            "grid_template_areas": null,
            "grid_template_columns": null,
            "grid_template_rows": null,
            "height": null,
            "justify_content": null,
            "justify_items": null,
            "left": null,
            "margin": null,
            "max_height": null,
            "max_width": null,
            "min_height": null,
            "min_width": null,
            "object_fit": null,
            "object_position": null,
            "order": null,
            "overflow": null,
            "overflow_x": null,
            "overflow_y": null,
            "padding": null,
            "right": null,
            "top": null,
            "visibility": null,
            "width": null
          }
        },
        "27fd9486bb6e4379b2c60ca08b9d0843": {
          "model_module": "@jupyter-widgets/controls",
          "model_name": "DescriptionStyleModel",
          "model_module_version": "1.5.0",
          "state": {
            "_model_module": "@jupyter-widgets/controls",
            "_model_module_version": "1.5.0",
            "_model_name": "DescriptionStyleModel",
            "_view_count": null,
            "_view_module": "@jupyter-widgets/base",
            "_view_module_version": "1.2.0",
            "_view_name": "StyleView",
            "description_width": ""
          }
        },
        "de5a86d5979f4da7864dfef90704697b": {
          "model_module": "@jupyter-widgets/base",
          "model_name": "LayoutModel",
          "model_module_version": "1.2.0",
          "state": {
            "_model_module": "@jupyter-widgets/base",
            "_model_module_version": "1.2.0",
            "_model_name": "LayoutModel",
            "_view_count": null,
            "_view_module": "@jupyter-widgets/base",
            "_view_module_version": "1.2.0",
            "_view_name": "LayoutView",
            "align_content": null,
            "align_items": null,
            "align_self": null,
            "border": null,
            "bottom": null,
            "display": null,
            "flex": null,
            "flex_flow": null,
            "grid_area": null,
            "grid_auto_columns": null,
            "grid_auto_flow": null,
            "grid_auto_rows": null,
            "grid_column": null,
            "grid_gap": null,
            "grid_row": null,
            "grid_template_areas": null,
            "grid_template_columns": null,
            "grid_template_rows": null,
            "height": null,
            "justify_content": null,
            "justify_items": null,
            "left": null,
            "margin": null,
            "max_height": null,
            "max_width": null,
            "min_height": null,
            "min_width": null,
            "object_fit": null,
            "object_position": null,
            "order": null,
            "overflow": null,
            "overflow_x": null,
            "overflow_y": null,
            "padding": null,
            "right": null,
            "top": null,
            "visibility": null,
            "width": null
          }
        },
        "23a42ecaaef84337878f8a79a9c08216": {
          "model_module": "@jupyter-widgets/controls",
          "model_name": "ProgressStyleModel",
          "model_module_version": "1.5.0",
          "state": {
            "_model_module": "@jupyter-widgets/controls",
            "_model_module_version": "1.5.0",
            "_model_name": "ProgressStyleModel",
            "_view_count": null,
            "_view_module": "@jupyter-widgets/base",
            "_view_module_version": "1.2.0",
            "_view_name": "StyleView",
            "bar_color": null,
            "description_width": ""
          }
        },
        "5e25fbeb02614523b5a387b2462fe371": {
          "model_module": "@jupyter-widgets/base",
          "model_name": "LayoutModel",
          "model_module_version": "1.2.0",
          "state": {
            "_model_module": "@jupyter-widgets/base",
            "_model_module_version": "1.2.0",
            "_model_name": "LayoutModel",
            "_view_count": null,
            "_view_module": "@jupyter-widgets/base",
            "_view_module_version": "1.2.0",
            "_view_name": "LayoutView",
            "align_content": null,
            "align_items": null,
            "align_self": null,
            "border": null,
            "bottom": null,
            "display": null,
            "flex": null,
            "flex_flow": null,
            "grid_area": null,
            "grid_auto_columns": null,
            "grid_auto_flow": null,
            "grid_auto_rows": null,
            "grid_column": null,
            "grid_gap": null,
            "grid_row": null,
            "grid_template_areas": null,
            "grid_template_columns": null,
            "grid_template_rows": null,
            "height": null,
            "justify_content": null,
            "justify_items": null,
            "left": null,
            "margin": null,
            "max_height": null,
            "max_width": null,
            "min_height": null,
            "min_width": null,
            "object_fit": null,
            "object_position": null,
            "order": null,
            "overflow": null,
            "overflow_x": null,
            "overflow_y": null,
            "padding": null,
            "right": null,
            "top": null,
            "visibility": null,
            "width": null
          }
        },
        "151f6d8abd7e4aba934f0fde2f8c7349": {
          "model_module": "@jupyter-widgets/controls",
          "model_name": "DescriptionStyleModel",
          "model_module_version": "1.5.0",
          "state": {
            "_model_module": "@jupyter-widgets/controls",
            "_model_module_version": "1.5.0",
            "_model_name": "DescriptionStyleModel",
            "_view_count": null,
            "_view_module": "@jupyter-widgets/base",
            "_view_module_version": "1.2.0",
            "_view_name": "StyleView",
            "description_width": ""
          }
        },
        "3e9a75b32d0a4a9d8f164e353bf100ae": {
          "model_module": "@jupyter-widgets/controls",
          "model_name": "HBoxModel",
          "model_module_version": "1.5.0",
          "state": {
            "_dom_classes": [],
            "_model_module": "@jupyter-widgets/controls",
            "_model_module_version": "1.5.0",
            "_model_name": "HBoxModel",
            "_view_count": null,
            "_view_module": "@jupyter-widgets/controls",
            "_view_module_version": "1.5.0",
            "_view_name": "HBoxView",
            "box_style": "",
            "children": [
              "IPY_MODEL_5f394148c5d648f7a4f5d59d79a1336a",
              "IPY_MODEL_14d7a4a14527488b96b3e7f5f8f9be16",
              "IPY_MODEL_225b768c86704ce8b831f344b874b5ad"
            ],
            "layout": "IPY_MODEL_655123e6dd3a4207a3d3c3da56af963d"
          }
        },
        "5f394148c5d648f7a4f5d59d79a1336a": {
          "model_module": "@jupyter-widgets/controls",
          "model_name": "HTMLModel",
          "model_module_version": "1.5.0",
          "state": {
            "_dom_classes": [],
            "_model_module": "@jupyter-widgets/controls",
            "_model_module_version": "1.5.0",
            "_model_name": "HTMLModel",
            "_view_count": null,
            "_view_module": "@jupyter-widgets/controls",
            "_view_module_version": "1.5.0",
            "_view_name": "HTMLView",
            "description": "",
            "description_tooltip": null,
            "layout": "IPY_MODEL_dcc0421c210d4cfa8fb00cb79fcc67e6",
            "placeholder": "​",
            "style": "IPY_MODEL_f55f3d0d02a84788bd35621753a8dbb8",
            "value": "Downloading: 100%"
          }
        },
        "14d7a4a14527488b96b3e7f5f8f9be16": {
          "model_module": "@jupyter-widgets/controls",
          "model_name": "FloatProgressModel",
          "model_module_version": "1.5.0",
          "state": {
            "_dom_classes": [],
            "_model_module": "@jupyter-widgets/controls",
            "_model_module_version": "1.5.0",
            "_model_name": "FloatProgressModel",
            "_view_count": null,
            "_view_module": "@jupyter-widgets/controls",
            "_view_module_version": "1.5.0",
            "_view_name": "ProgressView",
            "bar_style": "success",
            "description": "",
            "description_tooltip": null,
            "layout": "IPY_MODEL_37ec6e0924c945029922540635c23a41",
            "max": 305,
            "min": 0,
            "orientation": "horizontal",
            "style": "IPY_MODEL_2b02d3e632fe4286bcb7d5efcf7ad691",
            "value": 305
          }
        },
        "225b768c86704ce8b831f344b874b5ad": {
          "model_module": "@jupyter-widgets/controls",
          "model_name": "HTMLModel",
          "model_module_version": "1.5.0",
          "state": {
            "_dom_classes": [],
            "_model_module": "@jupyter-widgets/controls",
            "_model_module_version": "1.5.0",
            "_model_name": "HTMLModel",
            "_view_count": null,
            "_view_module": "@jupyter-widgets/controls",
            "_view_module_version": "1.5.0",
            "_view_name": "HTMLView",
            "description": "",
            "description_tooltip": null,
            "layout": "IPY_MODEL_de20b0b26ef547e4aed1c4d16171b02c",
            "placeholder": "​",
            "style": "IPY_MODEL_332c8dd9ea134a80a53fd6068b10f092",
            "value": " 305/305 [00:00&lt;00:00, 7.39kB/s]"
          }
        },
        "655123e6dd3a4207a3d3c3da56af963d": {
          "model_module": "@jupyter-widgets/base",
          "model_name": "LayoutModel",
          "model_module_version": "1.2.0",
          "state": {
            "_model_module": "@jupyter-widgets/base",
            "_model_module_version": "1.2.0",
            "_model_name": "LayoutModel",
            "_view_count": null,
            "_view_module": "@jupyter-widgets/base",
            "_view_module_version": "1.2.0",
            "_view_name": "LayoutView",
            "align_content": null,
            "align_items": null,
            "align_self": null,
            "border": null,
            "bottom": null,
            "display": null,
            "flex": null,
            "flex_flow": null,
            "grid_area": null,
            "grid_auto_columns": null,
            "grid_auto_flow": null,
            "grid_auto_rows": null,
            "grid_column": null,
            "grid_gap": null,
            "grid_row": null,
            "grid_template_areas": null,
            "grid_template_columns": null,
            "grid_template_rows": null,
            "height": null,
            "justify_content": null,
            "justify_items": null,
            "left": null,
            "margin": null,
            "max_height": null,
            "max_width": null,
            "min_height": null,
            "min_width": null,
            "object_fit": null,
            "object_position": null,
            "order": null,
            "overflow": null,
            "overflow_x": null,
            "overflow_y": null,
            "padding": null,
            "right": null,
            "top": null,
            "visibility": null,
            "width": null
          }
        },
        "dcc0421c210d4cfa8fb00cb79fcc67e6": {
          "model_module": "@jupyter-widgets/base",
          "model_name": "LayoutModel",
          "model_module_version": "1.2.0",
          "state": {
            "_model_module": "@jupyter-widgets/base",
            "_model_module_version": "1.2.0",
            "_model_name": "LayoutModel",
            "_view_count": null,
            "_view_module": "@jupyter-widgets/base",
            "_view_module_version": "1.2.0",
            "_view_name": "LayoutView",
            "align_content": null,
            "align_items": null,
            "align_self": null,
            "border": null,
            "bottom": null,
            "display": null,
            "flex": null,
            "flex_flow": null,
            "grid_area": null,
            "grid_auto_columns": null,
            "grid_auto_flow": null,
            "grid_auto_rows": null,
            "grid_column": null,
            "grid_gap": null,
            "grid_row": null,
            "grid_template_areas": null,
            "grid_template_columns": null,
            "grid_template_rows": null,
            "height": null,
            "justify_content": null,
            "justify_items": null,
            "left": null,
            "margin": null,
            "max_height": null,
            "max_width": null,
            "min_height": null,
            "min_width": null,
            "object_fit": null,
            "object_position": null,
            "order": null,
            "overflow": null,
            "overflow_x": null,
            "overflow_y": null,
            "padding": null,
            "right": null,
            "top": null,
            "visibility": null,
            "width": null
          }
        },
        "f55f3d0d02a84788bd35621753a8dbb8": {
          "model_module": "@jupyter-widgets/controls",
          "model_name": "DescriptionStyleModel",
          "model_module_version": "1.5.0",
          "state": {
            "_model_module": "@jupyter-widgets/controls",
            "_model_module_version": "1.5.0",
            "_model_name": "DescriptionStyleModel",
            "_view_count": null,
            "_view_module": "@jupyter-widgets/base",
            "_view_module_version": "1.2.0",
            "_view_name": "StyleView",
            "description_width": ""
          }
        },
        "37ec6e0924c945029922540635c23a41": {
          "model_module": "@jupyter-widgets/base",
          "model_name": "LayoutModel",
          "model_module_version": "1.2.0",
          "state": {
            "_model_module": "@jupyter-widgets/base",
            "_model_module_version": "1.2.0",
            "_model_name": "LayoutModel",
            "_view_count": null,
            "_view_module": "@jupyter-widgets/base",
            "_view_module_version": "1.2.0",
            "_view_name": "LayoutView",
            "align_content": null,
            "align_items": null,
            "align_self": null,
            "border": null,
            "bottom": null,
            "display": null,
            "flex": null,
            "flex_flow": null,
            "grid_area": null,
            "grid_auto_columns": null,
            "grid_auto_flow": null,
            "grid_auto_rows": null,
            "grid_column": null,
            "grid_gap": null,
            "grid_row": null,
            "grid_template_areas": null,
            "grid_template_columns": null,
            "grid_template_rows": null,
            "height": null,
            "justify_content": null,
            "justify_items": null,
            "left": null,
            "margin": null,
            "max_height": null,
            "max_width": null,
            "min_height": null,
            "min_width": null,
            "object_fit": null,
            "object_position": null,
            "order": null,
            "overflow": null,
            "overflow_x": null,
            "overflow_y": null,
            "padding": null,
            "right": null,
            "top": null,
            "visibility": null,
            "width": null
          }
        },
        "2b02d3e632fe4286bcb7d5efcf7ad691": {
          "model_module": "@jupyter-widgets/controls",
          "model_name": "ProgressStyleModel",
          "model_module_version": "1.5.0",
          "state": {
            "_model_module": "@jupyter-widgets/controls",
            "_model_module_version": "1.5.0",
            "_model_name": "ProgressStyleModel",
            "_view_count": null,
            "_view_module": "@jupyter-widgets/base",
            "_view_module_version": "1.2.0",
            "_view_name": "StyleView",
            "bar_color": null,
            "description_width": ""
          }
        },
        "de20b0b26ef547e4aed1c4d16171b02c": {
          "model_module": "@jupyter-widgets/base",
          "model_name": "LayoutModel",
          "model_module_version": "1.2.0",
          "state": {
            "_model_module": "@jupyter-widgets/base",
            "_model_module_version": "1.2.0",
            "_model_name": "LayoutModel",
            "_view_count": null,
            "_view_module": "@jupyter-widgets/base",
            "_view_module_version": "1.2.0",
            "_view_name": "LayoutView",
            "align_content": null,
            "align_items": null,
            "align_self": null,
            "border": null,
            "bottom": null,
            "display": null,
            "flex": null,
            "flex_flow": null,
            "grid_area": null,
            "grid_auto_columns": null,
            "grid_auto_flow": null,
            "grid_auto_rows": null,
            "grid_column": null,
            "grid_gap": null,
            "grid_row": null,
            "grid_template_areas": null,
            "grid_template_columns": null,
            "grid_template_rows": null,
            "height": null,
            "justify_content": null,
            "justify_items": null,
            "left": null,
            "margin": null,
            "max_height": null,
            "max_width": null,
            "min_height": null,
            "min_width": null,
            "object_fit": null,
            "object_position": null,
            "order": null,
            "overflow": null,
            "overflow_x": null,
            "overflow_y": null,
            "padding": null,
            "right": null,
            "top": null,
            "visibility": null,
            "width": null
          }
        },
        "332c8dd9ea134a80a53fd6068b10f092": {
          "model_module": "@jupyter-widgets/controls",
          "model_name": "DescriptionStyleModel",
          "model_module_version": "1.5.0",
          "state": {
            "_model_module": "@jupyter-widgets/controls",
            "_model_module_version": "1.5.0",
            "_model_name": "DescriptionStyleModel",
            "_view_count": null,
            "_view_module": "@jupyter-widgets/base",
            "_view_module_version": "1.2.0",
            "_view_name": "StyleView",
            "description_width": ""
          }
        },
        "b919ba531ae1400b8202145f5be4b747": {
          "model_module": "@jupyter-widgets/controls",
          "model_name": "HBoxModel",
          "model_module_version": "1.5.0",
          "state": {
            "_dom_classes": [],
            "_model_module": "@jupyter-widgets/controls",
            "_model_module_version": "1.5.0",
            "_model_name": "HBoxModel",
            "_view_count": null,
            "_view_module": "@jupyter-widgets/controls",
            "_view_module_version": "1.5.0",
            "_view_name": "HBoxView",
            "box_style": "",
            "children": [
              "IPY_MODEL_35760b9db185448a9a48060b18f5ab84",
              "IPY_MODEL_f67703ec57d045758241f10daa98ef3c",
              "IPY_MODEL_b323c1d7b778415fa2950514814ad3b4"
            ],
            "layout": "IPY_MODEL_438bc80a9a534f5c82864c3af42e510b"
          }
        },
        "35760b9db185448a9a48060b18f5ab84": {
          "model_module": "@jupyter-widgets/controls",
          "model_name": "HTMLModel",
          "model_module_version": "1.5.0",
          "state": {
            "_dom_classes": [],
            "_model_module": "@jupyter-widgets/controls",
            "_model_module_version": "1.5.0",
            "_model_name": "HTMLModel",
            "_view_count": null,
            "_view_module": "@jupyter-widgets/controls",
            "_view_module_version": "1.5.0",
            "_view_name": "HTMLView",
            "description": "",
            "description_tooltip": null,
            "layout": "IPY_MODEL_293f3727613c42328c6e2dad28a909ab",
            "placeholder": "​",
            "style": "IPY_MODEL_157c4292614b41ae94f42e2d12cd75d1",
            "value": "Downloading: 100%"
          }
        },
        "f67703ec57d045758241f10daa98ef3c": {
          "model_module": "@jupyter-widgets/controls",
          "model_name": "FloatProgressModel",
          "model_module_version": "1.5.0",
          "state": {
            "_dom_classes": [],
            "_model_module": "@jupyter-widgets/controls",
            "_model_module_version": "1.5.0",
            "_model_name": "FloatProgressModel",
            "_view_count": null,
            "_view_module": "@jupyter-widgets/controls",
            "_view_module_version": "1.5.0",
            "_view_name": "ProgressView",
            "bar_style": "success",
            "description": "",
            "description_tooltip": null,
            "layout": "IPY_MODEL_2554e9d6fd8d444490acac7605bd2e3a",
            "max": 2038,
            "min": 0,
            "orientation": "horizontal",
            "style": "IPY_MODEL_9b1d3cbd413143779da6805b2e4e34b0",
            "value": 2038
          }
        },
        "b323c1d7b778415fa2950514814ad3b4": {
          "model_module": "@jupyter-widgets/controls",
          "model_name": "HTMLModel",
          "model_module_version": "1.5.0",
          "state": {
            "_dom_classes": [],
            "_model_module": "@jupyter-widgets/controls",
            "_model_module_version": "1.5.0",
            "_model_name": "HTMLModel",
            "_view_count": null,
            "_view_module": "@jupyter-widgets/controls",
            "_view_module_version": "1.5.0",
            "_view_name": "HTMLView",
            "description": "",
            "description_tooltip": null,
            "layout": "IPY_MODEL_87d5a9f351814e5ca854074c08ad421d",
            "placeholder": "​",
            "style": "IPY_MODEL_57ab1c008cb04ced92b2238de931a219",
            "value": " 1.99k/1.99k [00:00&lt;00:00, 53.0kB/s]"
          }
        },
        "438bc80a9a534f5c82864c3af42e510b": {
          "model_module": "@jupyter-widgets/base",
          "model_name": "LayoutModel",
          "model_module_version": "1.2.0",
          "state": {
            "_model_module": "@jupyter-widgets/base",
            "_model_module_version": "1.2.0",
            "_model_name": "LayoutModel",
            "_view_count": null,
            "_view_module": "@jupyter-widgets/base",
            "_view_module_version": "1.2.0",
            "_view_name": "LayoutView",
            "align_content": null,
            "align_items": null,
            "align_self": null,
            "border": null,
            "bottom": null,
            "display": null,
            "flex": null,
            "flex_flow": null,
            "grid_area": null,
            "grid_auto_columns": null,
            "grid_auto_flow": null,
            "grid_auto_rows": null,
            "grid_column": null,
            "grid_gap": null,
            "grid_row": null,
            "grid_template_areas": null,
            "grid_template_columns": null,
            "grid_template_rows": null,
            "height": null,
            "justify_content": null,
            "justify_items": null,
            "left": null,
            "margin": null,
            "max_height": null,
            "max_width": null,
            "min_height": null,
            "min_width": null,
            "object_fit": null,
            "object_position": null,
            "order": null,
            "overflow": null,
            "overflow_x": null,
            "overflow_y": null,
            "padding": null,
            "right": null,
            "top": null,
            "visibility": null,
            "width": null
          }
        },
        "293f3727613c42328c6e2dad28a909ab": {
          "model_module": "@jupyter-widgets/base",
          "model_name": "LayoutModel",
          "model_module_version": "1.2.0",
          "state": {
            "_model_module": "@jupyter-widgets/base",
            "_model_module_version": "1.2.0",
            "_model_name": "LayoutModel",
            "_view_count": null,
            "_view_module": "@jupyter-widgets/base",
            "_view_module_version": "1.2.0",
            "_view_name": "LayoutView",
            "align_content": null,
            "align_items": null,
            "align_self": null,
            "border": null,
            "bottom": null,
            "display": null,
            "flex": null,
            "flex_flow": null,
            "grid_area": null,
            "grid_auto_columns": null,
            "grid_auto_flow": null,
            "grid_auto_rows": null,
            "grid_column": null,
            "grid_gap": null,
            "grid_row": null,
            "grid_template_areas": null,
            "grid_template_columns": null,
            "grid_template_rows": null,
            "height": null,
            "justify_content": null,
            "justify_items": null,
            "left": null,
            "margin": null,
            "max_height": null,
            "max_width": null,
            "min_height": null,
            "min_width": null,
            "object_fit": null,
            "object_position": null,
            "order": null,
            "overflow": null,
            "overflow_x": null,
            "overflow_y": null,
            "padding": null,
            "right": null,
            "top": null,
            "visibility": null,
            "width": null
          }
        },
        "157c4292614b41ae94f42e2d12cd75d1": {
          "model_module": "@jupyter-widgets/controls",
          "model_name": "DescriptionStyleModel",
          "model_module_version": "1.5.0",
          "state": {
            "_model_module": "@jupyter-widgets/controls",
            "_model_module_version": "1.5.0",
            "_model_name": "DescriptionStyleModel",
            "_view_count": null,
            "_view_module": "@jupyter-widgets/base",
            "_view_module_version": "1.2.0",
            "_view_name": "StyleView",
            "description_width": ""
          }
        },
        "2554e9d6fd8d444490acac7605bd2e3a": {
          "model_module": "@jupyter-widgets/base",
          "model_name": "LayoutModel",
          "model_module_version": "1.2.0",
          "state": {
            "_model_module": "@jupyter-widgets/base",
            "_model_module_version": "1.2.0",
            "_model_name": "LayoutModel",
            "_view_count": null,
            "_view_module": "@jupyter-widgets/base",
            "_view_module_version": "1.2.0",
            "_view_name": "LayoutView",
            "align_content": null,
            "align_items": null,
            "align_self": null,
            "border": null,
            "bottom": null,
            "display": null,
            "flex": null,
            "flex_flow": null,
            "grid_area": null,
            "grid_auto_columns": null,
            "grid_auto_flow": null,
            "grid_auto_rows": null,
            "grid_column": null,
            "grid_gap": null,
            "grid_row": null,
            "grid_template_areas": null,
            "grid_template_columns": null,
            "grid_template_rows": null,
            "height": null,
            "justify_content": null,
            "justify_items": null,
            "left": null,
            "margin": null,
            "max_height": null,
            "max_width": null,
            "min_height": null,
            "min_width": null,
            "object_fit": null,
            "object_position": null,
            "order": null,
            "overflow": null,
            "overflow_x": null,
            "overflow_y": null,
            "padding": null,
            "right": null,
            "top": null,
            "visibility": null,
            "width": null
          }
        },
        "9b1d3cbd413143779da6805b2e4e34b0": {
          "model_module": "@jupyter-widgets/controls",
          "model_name": "ProgressStyleModel",
          "model_module_version": "1.5.0",
          "state": {
            "_model_module": "@jupyter-widgets/controls",
            "_model_module_version": "1.5.0",
            "_model_name": "ProgressStyleModel",
            "_view_count": null,
            "_view_module": "@jupyter-widgets/base",
            "_view_module_version": "1.2.0",
            "_view_name": "StyleView",
            "bar_color": null,
            "description_width": ""
          }
        },
        "87d5a9f351814e5ca854074c08ad421d": {
          "model_module": "@jupyter-widgets/base",
          "model_name": "LayoutModel",
          "model_module_version": "1.2.0",
          "state": {
            "_model_module": "@jupyter-widgets/base",
            "_model_module_version": "1.2.0",
            "_model_name": "LayoutModel",
            "_view_count": null,
            "_view_module": "@jupyter-widgets/base",
            "_view_module_version": "1.2.0",
            "_view_name": "LayoutView",
            "align_content": null,
            "align_items": null,
            "align_self": null,
            "border": null,
            "bottom": null,
            "display": null,
            "flex": null,
            "flex_flow": null,
            "grid_area": null,
            "grid_auto_columns": null,
            "grid_auto_flow": null,
            "grid_auto_rows": null,
            "grid_column": null,
            "grid_gap": null,
            "grid_row": null,
            "grid_template_areas": null,
            "grid_template_columns": null,
            "grid_template_rows": null,
            "height": null,
            "justify_content": null,
            "justify_items": null,
            "left": null,
            "margin": null,
            "max_height": null,
            "max_width": null,
            "min_height": null,
            "min_width": null,
            "object_fit": null,
            "object_position": null,
            "order": null,
            "overflow": null,
            "overflow_x": null,
            "overflow_y": null,
            "padding": null,
            "right": null,
            "top": null,
            "visibility": null,
            "width": null
          }
        },
        "57ab1c008cb04ced92b2238de931a219": {
          "model_module": "@jupyter-widgets/controls",
          "model_name": "DescriptionStyleModel",
          "model_module_version": "1.5.0",
          "state": {
            "_model_module": "@jupyter-widgets/controls",
            "_model_module_version": "1.5.0",
            "_model_name": "DescriptionStyleModel",
            "_view_count": null,
            "_view_module": "@jupyter-widgets/base",
            "_view_module_version": "1.2.0",
            "_view_name": "StyleView",
            "description_width": ""
          }
        },
        "304e4964cd594eca95029294cc35dfe8": {
          "model_module": "@jupyter-widgets/controls",
          "model_name": "HBoxModel",
          "model_module_version": "1.5.0",
          "state": {
            "_dom_classes": [],
            "_model_module": "@jupyter-widgets/controls",
            "_model_module_version": "1.5.0",
            "_model_name": "HBoxModel",
            "_view_count": null,
            "_view_module": "@jupyter-widgets/controls",
            "_view_module_version": "1.5.0",
            "_view_name": "HBoxView",
            "box_style": "",
            "children": [
              "IPY_MODEL_66b6b454528c4461af82841406b523bb",
              "IPY_MODEL_f2fc1fa36cca4e8db8c2317e2c3699cb",
              "IPY_MODEL_a26f2963b1fb4c46b7b345cda2d40daf"
            ],
            "layout": "IPY_MODEL_a88dff5c292c4009b4d481bfa83ab05d"
          }
        },
        "66b6b454528c4461af82841406b523bb": {
          "model_module": "@jupyter-widgets/controls",
          "model_name": "HTMLModel",
          "model_module_version": "1.5.0",
          "state": {
            "_dom_classes": [],
            "_model_module": "@jupyter-widgets/controls",
            "_model_module_version": "1.5.0",
            "_model_name": "HTMLModel",
            "_view_count": null,
            "_view_module": "@jupyter-widgets/controls",
            "_view_module_version": "1.5.0",
            "_view_name": "HTMLView",
            "description": "",
            "description_tooltip": null,
            "layout": "IPY_MODEL_387c62996c904dbbb4c3fe63911efeba",
            "placeholder": "​",
            "style": "IPY_MODEL_a2a28034fd544879aa3918c7fff1663d",
            "value": "Downloading: 100%"
          }
        },
        "f2fc1fa36cca4e8db8c2317e2c3699cb": {
          "model_module": "@jupyter-widgets/controls",
          "model_name": "FloatProgressModel",
          "model_module_version": "1.5.0",
          "state": {
            "_dom_classes": [],
            "_model_module": "@jupyter-widgets/controls",
            "_model_module_version": "1.5.0",
            "_model_name": "FloatProgressModel",
            "_view_count": null,
            "_view_module": "@jupyter-widgets/controls",
            "_view_module_version": "1.5.0",
            "_view_name": "ProgressView",
            "bar_style": "success",
            "description": "",
            "description_tooltip": null,
            "layout": "IPY_MODEL_c058e83d7d764293b9b4c6506fbc8727",
            "max": 553030261,
            "min": 0,
            "orientation": "horizontal",
            "style": "IPY_MODEL_8f7c199aa1534552a04feffd956f857b",
            "value": 553030261
          }
        },
        "a26f2963b1fb4c46b7b345cda2d40daf": {
          "model_module": "@jupyter-widgets/controls",
          "model_name": "HTMLModel",
          "model_module_version": "1.5.0",
          "state": {
            "_dom_classes": [],
            "_model_module": "@jupyter-widgets/controls",
            "_model_module_version": "1.5.0",
            "_model_name": "HTMLModel",
            "_view_count": null,
            "_view_module": "@jupyter-widgets/controls",
            "_view_module_version": "1.5.0",
            "_view_name": "HTMLView",
            "description": "",
            "description_tooltip": null,
            "layout": "IPY_MODEL_a42e6911dc0e46aab36b2f97cd95fee0",
            "placeholder": "​",
            "style": "IPY_MODEL_4a15906ee5954f79a47d3a6292b24d46",
            "value": " 527M/527M [00:34&lt;00:00, 27.4MB/s]"
          }
        },
        "a88dff5c292c4009b4d481bfa83ab05d": {
          "model_module": "@jupyter-widgets/base",
          "model_name": "LayoutModel",
          "model_module_version": "1.2.0",
          "state": {
            "_model_module": "@jupyter-widgets/base",
            "_model_module_version": "1.2.0",
            "_model_name": "LayoutModel",
            "_view_count": null,
            "_view_module": "@jupyter-widgets/base",
            "_view_module_version": "1.2.0",
            "_view_name": "LayoutView",
            "align_content": null,
            "align_items": null,
            "align_self": null,
            "border": null,
            "bottom": null,
            "display": null,
            "flex": null,
            "flex_flow": null,
            "grid_area": null,
            "grid_auto_columns": null,
            "grid_auto_flow": null,
            "grid_auto_rows": null,
            "grid_column": null,
            "grid_gap": null,
            "grid_row": null,
            "grid_template_areas": null,
            "grid_template_columns": null,
            "grid_template_rows": null,
            "height": null,
            "justify_content": null,
            "justify_items": null,
            "left": null,
            "margin": null,
            "max_height": null,
            "max_width": null,
            "min_height": null,
            "min_width": null,
            "object_fit": null,
            "object_position": null,
            "order": null,
            "overflow": null,
            "overflow_x": null,
            "overflow_y": null,
            "padding": null,
            "right": null,
            "top": null,
            "visibility": null,
            "width": null
          }
        },
        "387c62996c904dbbb4c3fe63911efeba": {
          "model_module": "@jupyter-widgets/base",
          "model_name": "LayoutModel",
          "model_module_version": "1.2.0",
          "state": {
            "_model_module": "@jupyter-widgets/base",
            "_model_module_version": "1.2.0",
            "_model_name": "LayoutModel",
            "_view_count": null,
            "_view_module": "@jupyter-widgets/base",
            "_view_module_version": "1.2.0",
            "_view_name": "LayoutView",
            "align_content": null,
            "align_items": null,
            "align_self": null,
            "border": null,
            "bottom": null,
            "display": null,
            "flex": null,
            "flex_flow": null,
            "grid_area": null,
            "grid_auto_columns": null,
            "grid_auto_flow": null,
            "grid_auto_rows": null,
            "grid_column": null,
            "grid_gap": null,
            "grid_row": null,
            "grid_template_areas": null,
            "grid_template_columns": null,
            "grid_template_rows": null,
            "height": null,
            "justify_content": null,
            "justify_items": null,
            "left": null,
            "margin": null,
            "max_height": null,
            "max_width": null,
            "min_height": null,
            "min_width": null,
            "object_fit": null,
            "object_position": null,
            "order": null,
            "overflow": null,
            "overflow_x": null,
            "overflow_y": null,
            "padding": null,
            "right": null,
            "top": null,
            "visibility": null,
            "width": null
          }
        },
        "a2a28034fd544879aa3918c7fff1663d": {
          "model_module": "@jupyter-widgets/controls",
          "model_name": "DescriptionStyleModel",
          "model_module_version": "1.5.0",
          "state": {
            "_model_module": "@jupyter-widgets/controls",
            "_model_module_version": "1.5.0",
            "_model_name": "DescriptionStyleModel",
            "_view_count": null,
            "_view_module": "@jupyter-widgets/base",
            "_view_module_version": "1.2.0",
            "_view_name": "StyleView",
            "description_width": ""
          }
        },
        "c058e83d7d764293b9b4c6506fbc8727": {
          "model_module": "@jupyter-widgets/base",
          "model_name": "LayoutModel",
          "model_module_version": "1.2.0",
          "state": {
            "_model_module": "@jupyter-widgets/base",
            "_model_module_version": "1.2.0",
            "_model_name": "LayoutModel",
            "_view_count": null,
            "_view_module": "@jupyter-widgets/base",
            "_view_module_version": "1.2.0",
            "_view_name": "LayoutView",
            "align_content": null,
            "align_items": null,
            "align_self": null,
            "border": null,
            "bottom": null,
            "display": null,
            "flex": null,
            "flex_flow": null,
            "grid_area": null,
            "grid_auto_columns": null,
            "grid_auto_flow": null,
            "grid_auto_rows": null,
            "grid_column": null,
            "grid_gap": null,
            "grid_row": null,
            "grid_template_areas": null,
            "grid_template_columns": null,
            "grid_template_rows": null,
            "height": null,
            "justify_content": null,
            "justify_items": null,
            "left": null,
            "margin": null,
            "max_height": null,
            "max_width": null,
            "min_height": null,
            "min_width": null,
            "object_fit": null,
            "object_position": null,
            "order": null,
            "overflow": null,
            "overflow_x": null,
            "overflow_y": null,
            "padding": null,
            "right": null,
            "top": null,
            "visibility": null,
            "width": null
          }
        },
        "8f7c199aa1534552a04feffd956f857b": {
          "model_module": "@jupyter-widgets/controls",
          "model_name": "ProgressStyleModel",
          "model_module_version": "1.5.0",
          "state": {
            "_model_module": "@jupyter-widgets/controls",
            "_model_module_version": "1.5.0",
            "_model_name": "ProgressStyleModel",
            "_view_count": null,
            "_view_module": "@jupyter-widgets/base",
            "_view_module_version": "1.2.0",
            "_view_name": "StyleView",
            "bar_color": null,
            "description_width": ""
          }
        },
        "a42e6911dc0e46aab36b2f97cd95fee0": {
          "model_module": "@jupyter-widgets/base",
          "model_name": "LayoutModel",
          "model_module_version": "1.2.0",
          "state": {
            "_model_module": "@jupyter-widgets/base",
            "_model_module_version": "1.2.0",
            "_model_name": "LayoutModel",
            "_view_count": null,
            "_view_module": "@jupyter-widgets/base",
            "_view_module_version": "1.2.0",
            "_view_name": "LayoutView",
            "align_content": null,
            "align_items": null,
            "align_self": null,
            "border": null,
            "bottom": null,
            "display": null,
            "flex": null,
            "flex_flow": null,
            "grid_area": null,
            "grid_auto_columns": null,
            "grid_auto_flow": null,
            "grid_auto_rows": null,
            "grid_column": null,
            "grid_gap": null,
            "grid_row": null,
            "grid_template_areas": null,
            "grid_template_columns": null,
            "grid_template_rows": null,
            "height": null,
            "justify_content": null,
            "justify_items": null,
            "left": null,
            "margin": null,
            "max_height": null,
            "max_width": null,
            "min_height": null,
            "min_width": null,
            "object_fit": null,
            "object_position": null,
            "order": null,
            "overflow": null,
            "overflow_x": null,
            "overflow_y": null,
            "padding": null,
            "right": null,
            "top": null,
            "visibility": null,
            "width": null
          }
        },
        "4a15906ee5954f79a47d3a6292b24d46": {
          "model_module": "@jupyter-widgets/controls",
          "model_name": "DescriptionStyleModel",
          "model_module_version": "1.5.0",
          "state": {
            "_model_module": "@jupyter-widgets/controls",
            "_model_module_version": "1.5.0",
            "_model_name": "DescriptionStyleModel",
            "_view_count": null,
            "_view_module": "@jupyter-widgets/base",
            "_view_module_version": "1.2.0",
            "_view_name": "StyleView",
            "description_width": ""
          }
        },
        "8ddc1f1961ba459d97481630b2036477": {
          "model_module": "@jupyter-widgets/controls",
          "model_name": "HBoxModel",
          "model_module_version": "1.5.0",
          "state": {
            "_dom_classes": [],
            "_model_module": "@jupyter-widgets/controls",
            "_model_module_version": "1.5.0",
            "_model_name": "HBoxModel",
            "_view_count": null,
            "_view_module": "@jupyter-widgets/controls",
            "_view_module_version": "1.5.0",
            "_view_name": "HBoxView",
            "box_style": "",
            "children": [
              "IPY_MODEL_102e959a1ac44f41af8135fec36735a2",
              "IPY_MODEL_50b4fa2f79184c33a959eeeaa7b83647",
              "IPY_MODEL_da8310ce940b4ec8bf2f4917c4870796"
            ],
            "layout": "IPY_MODEL_b112485c852f48d8807e6ec3e5ce9007"
          }
        },
        "102e959a1ac44f41af8135fec36735a2": {
          "model_module": "@jupyter-widgets/controls",
          "model_name": "HTMLModel",
          "model_module_version": "1.5.0",
          "state": {
            "_dom_classes": [],
            "_model_module": "@jupyter-widgets/controls",
            "_model_module_version": "1.5.0",
            "_model_name": "HTMLModel",
            "_view_count": null,
            "_view_module": "@jupyter-widgets/controls",
            "_view_module_version": "1.5.0",
            "_view_name": "HTMLView",
            "description": "",
            "description_tooltip": null,
            "layout": "IPY_MODEL_cf4d500c33344f7db0e759e36bf5065f",
            "placeholder": "​",
            "style": "IPY_MODEL_15de0b77d9b14abbb09945e5293d5ec0",
            "value": "100%"
          }
        },
        "50b4fa2f79184c33a959eeeaa7b83647": {
          "model_module": "@jupyter-widgets/controls",
          "model_name": "FloatProgressModel",
          "model_module_version": "1.5.0",
          "state": {
            "_dom_classes": [],
            "_model_module": "@jupyter-widgets/controls",
            "_model_module_version": "1.5.0",
            "_model_name": "FloatProgressModel",
            "_view_count": null,
            "_view_module": "@jupyter-widgets/controls",
            "_view_module_version": "1.5.0",
            "_view_name": "ProgressView",
            "bar_style": "success",
            "description": "",
            "description_tooltip": null,
            "layout": "IPY_MODEL_97e619cba753424191549ac40b4579a9",
            "max": 200,
            "min": 0,
            "orientation": "horizontal",
            "style": "IPY_MODEL_84cc1d875bbf47748a2256a26539dc3a",
            "value": 200
          }
        },
        "da8310ce940b4ec8bf2f4917c4870796": {
          "model_module": "@jupyter-widgets/controls",
          "model_name": "HTMLModel",
          "model_module_version": "1.5.0",
          "state": {
            "_dom_classes": [],
            "_model_module": "@jupyter-widgets/controls",
            "_model_module_version": "1.5.0",
            "_model_name": "HTMLModel",
            "_view_count": null,
            "_view_module": "@jupyter-widgets/controls",
            "_view_module_version": "1.5.0",
            "_view_name": "HTMLView",
            "description": "",
            "description_tooltip": null,
            "layout": "IPY_MODEL_8969b9b425a745c082f051725ce17fbc",
            "placeholder": "​",
            "style": "IPY_MODEL_dcc3f9cab0c24adf8520f9d2c85378b6",
            "value": " 200/200 [07:16&lt;00:00,  2.53s/it]"
          }
        },
        "b112485c852f48d8807e6ec3e5ce9007": {
          "model_module": "@jupyter-widgets/base",
          "model_name": "LayoutModel",
          "model_module_version": "1.2.0",
          "state": {
            "_model_module": "@jupyter-widgets/base",
            "_model_module_version": "1.2.0",
            "_model_name": "LayoutModel",
            "_view_count": null,
            "_view_module": "@jupyter-widgets/base",
            "_view_module_version": "1.2.0",
            "_view_name": "LayoutView",
            "align_content": null,
            "align_items": null,
            "align_self": null,
            "border": null,
            "bottom": null,
            "display": null,
            "flex": null,
            "flex_flow": null,
            "grid_area": null,
            "grid_auto_columns": null,
            "grid_auto_flow": null,
            "grid_auto_rows": null,
            "grid_column": null,
            "grid_gap": null,
            "grid_row": null,
            "grid_template_areas": null,
            "grid_template_columns": null,
            "grid_template_rows": null,
            "height": null,
            "justify_content": null,
            "justify_items": null,
            "left": null,
            "margin": null,
            "max_height": null,
            "max_width": null,
            "min_height": null,
            "min_width": null,
            "object_fit": null,
            "object_position": null,
            "order": null,
            "overflow": null,
            "overflow_x": null,
            "overflow_y": null,
            "padding": null,
            "right": null,
            "top": null,
            "visibility": null,
            "width": null
          }
        },
        "cf4d500c33344f7db0e759e36bf5065f": {
          "model_module": "@jupyter-widgets/base",
          "model_name": "LayoutModel",
          "model_module_version": "1.2.0",
          "state": {
            "_model_module": "@jupyter-widgets/base",
            "_model_module_version": "1.2.0",
            "_model_name": "LayoutModel",
            "_view_count": null,
            "_view_module": "@jupyter-widgets/base",
            "_view_module_version": "1.2.0",
            "_view_name": "LayoutView",
            "align_content": null,
            "align_items": null,
            "align_self": null,
            "border": null,
            "bottom": null,
            "display": null,
            "flex": null,
            "flex_flow": null,
            "grid_area": null,
            "grid_auto_columns": null,
            "grid_auto_flow": null,
            "grid_auto_rows": null,
            "grid_column": null,
            "grid_gap": null,
            "grid_row": null,
            "grid_template_areas": null,
            "grid_template_columns": null,
            "grid_template_rows": null,
            "height": null,
            "justify_content": null,
            "justify_items": null,
            "left": null,
            "margin": null,
            "max_height": null,
            "max_width": null,
            "min_height": null,
            "min_width": null,
            "object_fit": null,
            "object_position": null,
            "order": null,
            "overflow": null,
            "overflow_x": null,
            "overflow_y": null,
            "padding": null,
            "right": null,
            "top": null,
            "visibility": null,
            "width": null
          }
        },
        "15de0b77d9b14abbb09945e5293d5ec0": {
          "model_module": "@jupyter-widgets/controls",
          "model_name": "DescriptionStyleModel",
          "model_module_version": "1.5.0",
          "state": {
            "_model_module": "@jupyter-widgets/controls",
            "_model_module_version": "1.5.0",
            "_model_name": "DescriptionStyleModel",
            "_view_count": null,
            "_view_module": "@jupyter-widgets/base",
            "_view_module_version": "1.2.0",
            "_view_name": "StyleView",
            "description_width": ""
          }
        },
        "97e619cba753424191549ac40b4579a9": {
          "model_module": "@jupyter-widgets/base",
          "model_name": "LayoutModel",
          "model_module_version": "1.2.0",
          "state": {
            "_model_module": "@jupyter-widgets/base",
            "_model_module_version": "1.2.0",
            "_model_name": "LayoutModel",
            "_view_count": null,
            "_view_module": "@jupyter-widgets/base",
            "_view_module_version": "1.2.0",
            "_view_name": "LayoutView",
            "align_content": null,
            "align_items": null,
            "align_self": null,
            "border": null,
            "bottom": null,
            "display": null,
            "flex": null,
            "flex_flow": null,
            "grid_area": null,
            "grid_auto_columns": null,
            "grid_auto_flow": null,
            "grid_auto_rows": null,
            "grid_column": null,
            "grid_gap": null,
            "grid_row": null,
            "grid_template_areas": null,
            "grid_template_columns": null,
            "grid_template_rows": null,
            "height": null,
            "justify_content": null,
            "justify_items": null,
            "left": null,
            "margin": null,
            "max_height": null,
            "max_width": null,
            "min_height": null,
            "min_width": null,
            "object_fit": null,
            "object_position": null,
            "order": null,
            "overflow": null,
            "overflow_x": null,
            "overflow_y": null,
            "padding": null,
            "right": null,
            "top": null,
            "visibility": null,
            "width": null
          }
        },
        "84cc1d875bbf47748a2256a26539dc3a": {
          "model_module": "@jupyter-widgets/controls",
          "model_name": "ProgressStyleModel",
          "model_module_version": "1.5.0",
          "state": {
            "_model_module": "@jupyter-widgets/controls",
            "_model_module_version": "1.5.0",
            "_model_name": "ProgressStyleModel",
            "_view_count": null,
            "_view_module": "@jupyter-widgets/base",
            "_view_module_version": "1.2.0",
            "_view_name": "StyleView",
            "bar_color": null,
            "description_width": ""
          }
        },
        "8969b9b425a745c082f051725ce17fbc": {
          "model_module": "@jupyter-widgets/base",
          "model_name": "LayoutModel",
          "model_module_version": "1.2.0",
          "state": {
            "_model_module": "@jupyter-widgets/base",
            "_model_module_version": "1.2.0",
            "_model_name": "LayoutModel",
            "_view_count": null,
            "_view_module": "@jupyter-widgets/base",
            "_view_module_version": "1.2.0",
            "_view_name": "LayoutView",
            "align_content": null,
            "align_items": null,
            "align_self": null,
            "border": null,
            "bottom": null,
            "display": null,
            "flex": null,
            "flex_flow": null,
            "grid_area": null,
            "grid_auto_columns": null,
            "grid_auto_flow": null,
            "grid_auto_rows": null,
            "grid_column": null,
            "grid_gap": null,
            "grid_row": null,
            "grid_template_areas": null,
            "grid_template_columns": null,
            "grid_template_rows": null,
            "height": null,
            "justify_content": null,
            "justify_items": null,
            "left": null,
            "margin": null,
            "max_height": null,
            "max_width": null,
            "min_height": null,
            "min_width": null,
            "object_fit": null,
            "object_position": null,
            "order": null,
            "overflow": null,
            "overflow_x": null,
            "overflow_y": null,
            "padding": null,
            "right": null,
            "top": null,
            "visibility": null,
            "width": null
          }
        },
        "dcc3f9cab0c24adf8520f9d2c85378b6": {
          "model_module": "@jupyter-widgets/controls",
          "model_name": "DescriptionStyleModel",
          "model_module_version": "1.5.0",
          "state": {
            "_model_module": "@jupyter-widgets/controls",
            "_model_module_version": "1.5.0",
            "_model_name": "DescriptionStyleModel",
            "_view_count": null,
            "_view_module": "@jupyter-widgets/base",
            "_view_module_version": "1.2.0",
            "_view_name": "StyleView",
            "description_width": ""
          }
        },
        "78216093e47948aeb7ddcecf944cc6c3": {
          "model_module": "@jupyter-widgets/controls",
          "model_name": "HBoxModel",
          "model_module_version": "1.5.0",
          "state": {
            "_dom_classes": [],
            "_model_module": "@jupyter-widgets/controls",
            "_model_module_version": "1.5.0",
            "_model_name": "HBoxModel",
            "_view_count": null,
            "_view_module": "@jupyter-widgets/controls",
            "_view_module_version": "1.5.0",
            "_view_name": "HBoxView",
            "box_style": "",
            "children": [
              "IPY_MODEL_ee5c9ad6a7414a36904bc40a831c9521",
              "IPY_MODEL_099771c450834e31af8bcbf6495e3d37",
              "IPY_MODEL_6afc649e46364daa8edc07e0b7997131"
            ],
            "layout": "IPY_MODEL_75d56d5507124a73ab1c2fc101a0620e"
          }
        },
        "ee5c9ad6a7414a36904bc40a831c9521": {
          "model_module": "@jupyter-widgets/controls",
          "model_name": "HTMLModel",
          "model_module_version": "1.5.0",
          "state": {
            "_dom_classes": [],
            "_model_module": "@jupyter-widgets/controls",
            "_model_module_version": "1.5.0",
            "_model_name": "HTMLModel",
            "_view_count": null,
            "_view_module": "@jupyter-widgets/controls",
            "_view_module_version": "1.5.0",
            "_view_name": "HTMLView",
            "description": "",
            "description_tooltip": null,
            "layout": "IPY_MODEL_e215aa41824142acab1ec39e92474906",
            "placeholder": "​",
            "style": "IPY_MODEL_69525e373d0642e194c359fec3b81211",
            "value": "100%"
          }
        },
        "099771c450834e31af8bcbf6495e3d37": {
          "model_module": "@jupyter-widgets/controls",
          "model_name": "FloatProgressModel",
          "model_module_version": "1.5.0",
          "state": {
            "_dom_classes": [],
            "_model_module": "@jupyter-widgets/controls",
            "_model_module_version": "1.5.0",
            "_model_name": "FloatProgressModel",
            "_view_count": null,
            "_view_module": "@jupyter-widgets/controls",
            "_view_module_version": "1.5.0",
            "_view_name": "ProgressView",
            "bar_style": "success",
            "description": "",
            "description_tooltip": null,
            "layout": "IPY_MODEL_c8536945768a417ab491c2926f058b87",
            "max": 200,
            "min": 0,
            "orientation": "horizontal",
            "style": "IPY_MODEL_fda3f49f96c0440dab3c621a981ee803",
            "value": 200
          }
        },
        "6afc649e46364daa8edc07e0b7997131": {
          "model_module": "@jupyter-widgets/controls",
          "model_name": "HTMLModel",
          "model_module_version": "1.5.0",
          "state": {
            "_dom_classes": [],
            "_model_module": "@jupyter-widgets/controls",
            "_model_module_version": "1.5.0",
            "_model_name": "HTMLModel",
            "_view_count": null,
            "_view_module": "@jupyter-widgets/controls",
            "_view_module_version": "1.5.0",
            "_view_name": "HTMLView",
            "description": "",
            "description_tooltip": null,
            "layout": "IPY_MODEL_dd62892ad68b4a82b7dea67a28f7d640",
            "placeholder": "​",
            "style": "IPY_MODEL_44bf0fd09af2425d9347b722a921da94",
            "value": " 200/200 [09:41&lt;00:00,  2.57s/it]"
          }
        },
        "75d56d5507124a73ab1c2fc101a0620e": {
          "model_module": "@jupyter-widgets/base",
          "model_name": "LayoutModel",
          "model_module_version": "1.2.0",
          "state": {
            "_model_module": "@jupyter-widgets/base",
            "_model_module_version": "1.2.0",
            "_model_name": "LayoutModel",
            "_view_count": null,
            "_view_module": "@jupyter-widgets/base",
            "_view_module_version": "1.2.0",
            "_view_name": "LayoutView",
            "align_content": null,
            "align_items": null,
            "align_self": null,
            "border": null,
            "bottom": null,
            "display": null,
            "flex": null,
            "flex_flow": null,
            "grid_area": null,
            "grid_auto_columns": null,
            "grid_auto_flow": null,
            "grid_auto_rows": null,
            "grid_column": null,
            "grid_gap": null,
            "grid_row": null,
            "grid_template_areas": null,
            "grid_template_columns": null,
            "grid_template_rows": null,
            "height": null,
            "justify_content": null,
            "justify_items": null,
            "left": null,
            "margin": null,
            "max_height": null,
            "max_width": null,
            "min_height": null,
            "min_width": null,
            "object_fit": null,
            "object_position": null,
            "order": null,
            "overflow": null,
            "overflow_x": null,
            "overflow_y": null,
            "padding": null,
            "right": null,
            "top": null,
            "visibility": null,
            "width": null
          }
        },
        "e215aa41824142acab1ec39e92474906": {
          "model_module": "@jupyter-widgets/base",
          "model_name": "LayoutModel",
          "model_module_version": "1.2.0",
          "state": {
            "_model_module": "@jupyter-widgets/base",
            "_model_module_version": "1.2.0",
            "_model_name": "LayoutModel",
            "_view_count": null,
            "_view_module": "@jupyter-widgets/base",
            "_view_module_version": "1.2.0",
            "_view_name": "LayoutView",
            "align_content": null,
            "align_items": null,
            "align_self": null,
            "border": null,
            "bottom": null,
            "display": null,
            "flex": null,
            "flex_flow": null,
            "grid_area": null,
            "grid_auto_columns": null,
            "grid_auto_flow": null,
            "grid_auto_rows": null,
            "grid_column": null,
            "grid_gap": null,
            "grid_row": null,
            "grid_template_areas": null,
            "grid_template_columns": null,
            "grid_template_rows": null,
            "height": null,
            "justify_content": null,
            "justify_items": null,
            "left": null,
            "margin": null,
            "max_height": null,
            "max_width": null,
            "min_height": null,
            "min_width": null,
            "object_fit": null,
            "object_position": null,
            "order": null,
            "overflow": null,
            "overflow_x": null,
            "overflow_y": null,
            "padding": null,
            "right": null,
            "top": null,
            "visibility": null,
            "width": null
          }
        },
        "69525e373d0642e194c359fec3b81211": {
          "model_module": "@jupyter-widgets/controls",
          "model_name": "DescriptionStyleModel",
          "model_module_version": "1.5.0",
          "state": {
            "_model_module": "@jupyter-widgets/controls",
            "_model_module_version": "1.5.0",
            "_model_name": "DescriptionStyleModel",
            "_view_count": null,
            "_view_module": "@jupyter-widgets/base",
            "_view_module_version": "1.2.0",
            "_view_name": "StyleView",
            "description_width": ""
          }
        },
        "c8536945768a417ab491c2926f058b87": {
          "model_module": "@jupyter-widgets/base",
          "model_name": "LayoutModel",
          "model_module_version": "1.2.0",
          "state": {
            "_model_module": "@jupyter-widgets/base",
            "_model_module_version": "1.2.0",
            "_model_name": "LayoutModel",
            "_view_count": null,
            "_view_module": "@jupyter-widgets/base",
            "_view_module_version": "1.2.0",
            "_view_name": "LayoutView",
            "align_content": null,
            "align_items": null,
            "align_self": null,
            "border": null,
            "bottom": null,
            "display": null,
            "flex": null,
            "flex_flow": null,
            "grid_area": null,
            "grid_auto_columns": null,
            "grid_auto_flow": null,
            "grid_auto_rows": null,
            "grid_column": null,
            "grid_gap": null,
            "grid_row": null,
            "grid_template_areas": null,
            "grid_template_columns": null,
            "grid_template_rows": null,
            "height": null,
            "justify_content": null,
            "justify_items": null,
            "left": null,
            "margin": null,
            "max_height": null,
            "max_width": null,
            "min_height": null,
            "min_width": null,
            "object_fit": null,
            "object_position": null,
            "order": null,
            "overflow": null,
            "overflow_x": null,
            "overflow_y": null,
            "padding": null,
            "right": null,
            "top": null,
            "visibility": null,
            "width": null
          }
        },
        "fda3f49f96c0440dab3c621a981ee803": {
          "model_module": "@jupyter-widgets/controls",
          "model_name": "ProgressStyleModel",
          "model_module_version": "1.5.0",
          "state": {
            "_model_module": "@jupyter-widgets/controls",
            "_model_module_version": "1.5.0",
            "_model_name": "ProgressStyleModel",
            "_view_count": null,
            "_view_module": "@jupyter-widgets/base",
            "_view_module_version": "1.2.0",
            "_view_name": "StyleView",
            "bar_color": null,
            "description_width": ""
          }
        },
        "dd62892ad68b4a82b7dea67a28f7d640": {
          "model_module": "@jupyter-widgets/base",
          "model_name": "LayoutModel",
          "model_module_version": "1.2.0",
          "state": {
            "_model_module": "@jupyter-widgets/base",
            "_model_module_version": "1.2.0",
            "_model_name": "LayoutModel",
            "_view_count": null,
            "_view_module": "@jupyter-widgets/base",
            "_view_module_version": "1.2.0",
            "_view_name": "LayoutView",
            "align_content": null,
            "align_items": null,
            "align_self": null,
            "border": null,
            "bottom": null,
            "display": null,
            "flex": null,
            "flex_flow": null,
            "grid_area": null,
            "grid_auto_columns": null,
            "grid_auto_flow": null,
            "grid_auto_rows": null,
            "grid_column": null,
            "grid_gap": null,
            "grid_row": null,
            "grid_template_areas": null,
            "grid_template_columns": null,
            "grid_template_rows": null,
            "height": null,
            "justify_content": null,
            "justify_items": null,
            "left": null,
            "margin": null,
            "max_height": null,
            "max_width": null,
            "min_height": null,
            "min_width": null,
            "object_fit": null,
            "object_position": null,
            "order": null,
            "overflow": null,
            "overflow_x": null,
            "overflow_y": null,
            "padding": null,
            "right": null,
            "top": null,
            "visibility": null,
            "width": null
          }
        },
        "44bf0fd09af2425d9347b722a921da94": {
          "model_module": "@jupyter-widgets/controls",
          "model_name": "DescriptionStyleModel",
          "model_module_version": "1.5.0",
          "state": {
            "_model_module": "@jupyter-widgets/controls",
            "_model_module_version": "1.5.0",
            "_model_name": "DescriptionStyleModel",
            "_view_count": null,
            "_view_module": "@jupyter-widgets/base",
            "_view_module_version": "1.2.0",
            "_view_name": "StyleView",
            "description_width": ""
          }
        },
        "27b275b02ce44b908012b9625715ea8c": {
          "model_module": "@jupyter-widgets/controls",
          "model_name": "HBoxModel",
          "model_module_version": "1.5.0",
          "state": {
            "_dom_classes": [],
            "_model_module": "@jupyter-widgets/controls",
            "_model_module_version": "1.5.0",
            "_model_name": "HBoxModel",
            "_view_count": null,
            "_view_module": "@jupyter-widgets/controls",
            "_view_module_version": "1.5.0",
            "_view_name": "HBoxView",
            "box_style": "",
            "children": [
              "IPY_MODEL_7f3a6c1a8bc442249bc393654e57eab8",
              "IPY_MODEL_74792ab330bc48fcb0165e7a6c7d7277",
              "IPY_MODEL_5f6545884ff049fbb93142beaf5b15dc"
            ],
            "layout": "IPY_MODEL_9f48af7b291046a7b6c7562bd610abb2"
          }
        },
        "7f3a6c1a8bc442249bc393654e57eab8": {
          "model_module": "@jupyter-widgets/controls",
          "model_name": "HTMLModel",
          "model_module_version": "1.5.0",
          "state": {
            "_dom_classes": [],
            "_model_module": "@jupyter-widgets/controls",
            "_model_module_version": "1.5.0",
            "_model_name": "HTMLModel",
            "_view_count": null,
            "_view_module": "@jupyter-widgets/controls",
            "_view_module_version": "1.5.0",
            "_view_name": "HTMLView",
            "description": "",
            "description_tooltip": null,
            "layout": "IPY_MODEL_6220bdec3a384868afaa6f6f2e538d14",
            "placeholder": "​",
            "style": "IPY_MODEL_814c787eacc24161a4df13b830958c9f",
            "value": "100%"
          }
        },
        "74792ab330bc48fcb0165e7a6c7d7277": {
          "model_module": "@jupyter-widgets/controls",
          "model_name": "FloatProgressModel",
          "model_module_version": "1.5.0",
          "state": {
            "_dom_classes": [],
            "_model_module": "@jupyter-widgets/controls",
            "_model_module_version": "1.5.0",
            "_model_name": "FloatProgressModel",
            "_view_count": null,
            "_view_module": "@jupyter-widgets/controls",
            "_view_module_version": "1.5.0",
            "_view_name": "ProgressView",
            "bar_style": "success",
            "description": "",
            "description_tooltip": null,
            "layout": "IPY_MODEL_ee07797cccfc4013b550febf8921df6f",
            "max": 200,
            "min": 0,
            "orientation": "horizontal",
            "style": "IPY_MODEL_0baffb39020f431f9f964f42eb6f328a",
            "value": 200
          }
        },
        "5f6545884ff049fbb93142beaf5b15dc": {
          "model_module": "@jupyter-widgets/controls",
          "model_name": "HTMLModel",
          "model_module_version": "1.5.0",
          "state": {
            "_dom_classes": [],
            "_model_module": "@jupyter-widgets/controls",
            "_model_module_version": "1.5.0",
            "_model_name": "HTMLModel",
            "_view_count": null,
            "_view_module": "@jupyter-widgets/controls",
            "_view_module_version": "1.5.0",
            "_view_name": "HTMLView",
            "description": "",
            "description_tooltip": null,
            "layout": "IPY_MODEL_f2f3c5a5055a4042ac6652363b80baf5",
            "placeholder": "​",
            "style": "IPY_MODEL_7e99713049614f4780acedd69ed3ecdc",
            "value": " 200/200 [04:36&lt;00:00,  1.11it/s]"
          }
        },
        "9f48af7b291046a7b6c7562bd610abb2": {
          "model_module": "@jupyter-widgets/base",
          "model_name": "LayoutModel",
          "model_module_version": "1.2.0",
          "state": {
            "_model_module": "@jupyter-widgets/base",
            "_model_module_version": "1.2.0",
            "_model_name": "LayoutModel",
            "_view_count": null,
            "_view_module": "@jupyter-widgets/base",
            "_view_module_version": "1.2.0",
            "_view_name": "LayoutView",
            "align_content": null,
            "align_items": null,
            "align_self": null,
            "border": null,
            "bottom": null,
            "display": null,
            "flex": null,
            "flex_flow": null,
            "grid_area": null,
            "grid_auto_columns": null,
            "grid_auto_flow": null,
            "grid_auto_rows": null,
            "grid_column": null,
            "grid_gap": null,
            "grid_row": null,
            "grid_template_areas": null,
            "grid_template_columns": null,
            "grid_template_rows": null,
            "height": null,
            "justify_content": null,
            "justify_items": null,
            "left": null,
            "margin": null,
            "max_height": null,
            "max_width": null,
            "min_height": null,
            "min_width": null,
            "object_fit": null,
            "object_position": null,
            "order": null,
            "overflow": null,
            "overflow_x": null,
            "overflow_y": null,
            "padding": null,
            "right": null,
            "top": null,
            "visibility": null,
            "width": null
          }
        },
        "6220bdec3a384868afaa6f6f2e538d14": {
          "model_module": "@jupyter-widgets/base",
          "model_name": "LayoutModel",
          "model_module_version": "1.2.0",
          "state": {
            "_model_module": "@jupyter-widgets/base",
            "_model_module_version": "1.2.0",
            "_model_name": "LayoutModel",
            "_view_count": null,
            "_view_module": "@jupyter-widgets/base",
            "_view_module_version": "1.2.0",
            "_view_name": "LayoutView",
            "align_content": null,
            "align_items": null,
            "align_self": null,
            "border": null,
            "bottom": null,
            "display": null,
            "flex": null,
            "flex_flow": null,
            "grid_area": null,
            "grid_auto_columns": null,
            "grid_auto_flow": null,
            "grid_auto_rows": null,
            "grid_column": null,
            "grid_gap": null,
            "grid_row": null,
            "grid_template_areas": null,
            "grid_template_columns": null,
            "grid_template_rows": null,
            "height": null,
            "justify_content": null,
            "justify_items": null,
            "left": null,
            "margin": null,
            "max_height": null,
            "max_width": null,
            "min_height": null,
            "min_width": null,
            "object_fit": null,
            "object_position": null,
            "order": null,
            "overflow": null,
            "overflow_x": null,
            "overflow_y": null,
            "padding": null,
            "right": null,
            "top": null,
            "visibility": null,
            "width": null
          }
        },
        "814c787eacc24161a4df13b830958c9f": {
          "model_module": "@jupyter-widgets/controls",
          "model_name": "DescriptionStyleModel",
          "model_module_version": "1.5.0",
          "state": {
            "_model_module": "@jupyter-widgets/controls",
            "_model_module_version": "1.5.0",
            "_model_name": "DescriptionStyleModel",
            "_view_count": null,
            "_view_module": "@jupyter-widgets/base",
            "_view_module_version": "1.2.0",
            "_view_name": "StyleView",
            "description_width": ""
          }
        },
        "ee07797cccfc4013b550febf8921df6f": {
          "model_module": "@jupyter-widgets/base",
          "model_name": "LayoutModel",
          "model_module_version": "1.2.0",
          "state": {
            "_model_module": "@jupyter-widgets/base",
            "_model_module_version": "1.2.0",
            "_model_name": "LayoutModel",
            "_view_count": null,
            "_view_module": "@jupyter-widgets/base",
            "_view_module_version": "1.2.0",
            "_view_name": "LayoutView",
            "align_content": null,
            "align_items": null,
            "align_self": null,
            "border": null,
            "bottom": null,
            "display": null,
            "flex": null,
            "flex_flow": null,
            "grid_area": null,
            "grid_auto_columns": null,
            "grid_auto_flow": null,
            "grid_auto_rows": null,
            "grid_column": null,
            "grid_gap": null,
            "grid_row": null,
            "grid_template_areas": null,
            "grid_template_columns": null,
            "grid_template_rows": null,
            "height": null,
            "justify_content": null,
            "justify_items": null,
            "left": null,
            "margin": null,
            "max_height": null,
            "max_width": null,
            "min_height": null,
            "min_width": null,
            "object_fit": null,
            "object_position": null,
            "order": null,
            "overflow": null,
            "overflow_x": null,
            "overflow_y": null,
            "padding": null,
            "right": null,
            "top": null,
            "visibility": null,
            "width": null
          }
        },
        "0baffb39020f431f9f964f42eb6f328a": {
          "model_module": "@jupyter-widgets/controls",
          "model_name": "ProgressStyleModel",
          "model_module_version": "1.5.0",
          "state": {
            "_model_module": "@jupyter-widgets/controls",
            "_model_module_version": "1.5.0",
            "_model_name": "ProgressStyleModel",
            "_view_count": null,
            "_view_module": "@jupyter-widgets/base",
            "_view_module_version": "1.2.0",
            "_view_name": "StyleView",
            "bar_color": null,
            "description_width": ""
          }
        },
        "f2f3c5a5055a4042ac6652363b80baf5": {
          "model_module": "@jupyter-widgets/base",
          "model_name": "LayoutModel",
          "model_module_version": "1.2.0",
          "state": {
            "_model_module": "@jupyter-widgets/base",
            "_model_module_version": "1.2.0",
            "_model_name": "LayoutModel",
            "_view_count": null,
            "_view_module": "@jupyter-widgets/base",
            "_view_module_version": "1.2.0",
            "_view_name": "LayoutView",
            "align_content": null,
            "align_items": null,
            "align_self": null,
            "border": null,
            "bottom": null,
            "display": null,
            "flex": null,
            "flex_flow": null,
            "grid_area": null,
            "grid_auto_columns": null,
            "grid_auto_flow": null,
            "grid_auto_rows": null,
            "grid_column": null,
            "grid_gap": null,
            "grid_row": null,
            "grid_template_areas": null,
            "grid_template_columns": null,
            "grid_template_rows": null,
            "height": null,
            "justify_content": null,
            "justify_items": null,
            "left": null,
            "margin": null,
            "max_height": null,
            "max_width": null,
            "min_height": null,
            "min_width": null,
            "object_fit": null,
            "object_position": null,
            "order": null,
            "overflow": null,
            "overflow_x": null,
            "overflow_y": null,
            "padding": null,
            "right": null,
            "top": null,
            "visibility": null,
            "width": null
          }
        },
        "7e99713049614f4780acedd69ed3ecdc": {
          "model_module": "@jupyter-widgets/controls",
          "model_name": "DescriptionStyleModel",
          "model_module_version": "1.5.0",
          "state": {
            "_model_module": "@jupyter-widgets/controls",
            "_model_module_version": "1.5.0",
            "_model_name": "DescriptionStyleModel",
            "_view_count": null,
            "_view_module": "@jupyter-widgets/base",
            "_view_module_version": "1.2.0",
            "_view_name": "StyleView",
            "description_width": ""
          }
        },
        "15b343f2851248078d452d1872e1fa2c": {
          "model_module": "@jupyter-widgets/controls",
          "model_name": "HBoxModel",
          "model_module_version": "1.5.0",
          "state": {
            "_dom_classes": [],
            "_model_module": "@jupyter-widgets/controls",
            "_model_module_version": "1.5.0",
            "_model_name": "HBoxModel",
            "_view_count": null,
            "_view_module": "@jupyter-widgets/controls",
            "_view_module_version": "1.5.0",
            "_view_name": "HBoxView",
            "box_style": "",
            "children": [
              "IPY_MODEL_2bc03d588b7047b0a61887be84da4bf1",
              "IPY_MODEL_83f9966c29fe49dd8ace4c822c8318eb",
              "IPY_MODEL_f263c50394dd4185a362ec19abc8c173"
            ],
            "layout": "IPY_MODEL_0f1674323a584e6bb93acaa97a993732"
          }
        },
        "2bc03d588b7047b0a61887be84da4bf1": {
          "model_module": "@jupyter-widgets/controls",
          "model_name": "HTMLModel",
          "model_module_version": "1.5.0",
          "state": {
            "_dom_classes": [],
            "_model_module": "@jupyter-widgets/controls",
            "_model_module_version": "1.5.0",
            "_model_name": "HTMLModel",
            "_view_count": null,
            "_view_module": "@jupyter-widgets/controls",
            "_view_module_version": "1.5.0",
            "_view_name": "HTMLView",
            "description": "",
            "description_tooltip": null,
            "layout": "IPY_MODEL_bd8b524b198948afb6f90a3ba1e9a356",
            "placeholder": "​",
            "style": "IPY_MODEL_e49107902ecf41f08836c0d8eb25cb74",
            "value": "100%"
          }
        },
        "83f9966c29fe49dd8ace4c822c8318eb": {
          "model_module": "@jupyter-widgets/controls",
          "model_name": "FloatProgressModel",
          "model_module_version": "1.5.0",
          "state": {
            "_dom_classes": [],
            "_model_module": "@jupyter-widgets/controls",
            "_model_module_version": "1.5.0",
            "_model_name": "FloatProgressModel",
            "_view_count": null,
            "_view_module": "@jupyter-widgets/controls",
            "_view_module_version": "1.5.0",
            "_view_name": "ProgressView",
            "bar_style": "success",
            "description": "",
            "description_tooltip": null,
            "layout": "IPY_MODEL_855777dccf1746ea924175ebae18df42",
            "max": 200,
            "min": 0,
            "orientation": "horizontal",
            "style": "IPY_MODEL_e13980a6c33b432a8a6345b639edb99e",
            "value": 200
          }
        },
        "f263c50394dd4185a362ec19abc8c173": {
          "model_module": "@jupyter-widgets/controls",
          "model_name": "HTMLModel",
          "model_module_version": "1.5.0",
          "state": {
            "_dom_classes": [],
            "_model_module": "@jupyter-widgets/controls",
            "_model_module_version": "1.5.0",
            "_model_name": "HTMLModel",
            "_view_count": null,
            "_view_module": "@jupyter-widgets/controls",
            "_view_module_version": "1.5.0",
            "_view_name": "HTMLView",
            "description": "",
            "description_tooltip": null,
            "layout": "IPY_MODEL_16cad5dd19954a2abf7b68c32434a673",
            "placeholder": "​",
            "style": "IPY_MODEL_adc635a9291c4fd58690385684321a02",
            "value": " 200/200 [01:01&lt;00:00,  1.71it/s]"
          }
        },
        "0f1674323a584e6bb93acaa97a993732": {
          "model_module": "@jupyter-widgets/base",
          "model_name": "LayoutModel",
          "model_module_version": "1.2.0",
          "state": {
            "_model_module": "@jupyter-widgets/base",
            "_model_module_version": "1.2.0",
            "_model_name": "LayoutModel",
            "_view_count": null,
            "_view_module": "@jupyter-widgets/base",
            "_view_module_version": "1.2.0",
            "_view_name": "LayoutView",
            "align_content": null,
            "align_items": null,
            "align_self": null,
            "border": null,
            "bottom": null,
            "display": null,
            "flex": null,
            "flex_flow": null,
            "grid_area": null,
            "grid_auto_columns": null,
            "grid_auto_flow": null,
            "grid_auto_rows": null,
            "grid_column": null,
            "grid_gap": null,
            "grid_row": null,
            "grid_template_areas": null,
            "grid_template_columns": null,
            "grid_template_rows": null,
            "height": null,
            "justify_content": null,
            "justify_items": null,
            "left": null,
            "margin": null,
            "max_height": null,
            "max_width": null,
            "min_height": null,
            "min_width": null,
            "object_fit": null,
            "object_position": null,
            "order": null,
            "overflow": null,
            "overflow_x": null,
            "overflow_y": null,
            "padding": null,
            "right": null,
            "top": null,
            "visibility": null,
            "width": null
          }
        },
        "bd8b524b198948afb6f90a3ba1e9a356": {
          "model_module": "@jupyter-widgets/base",
          "model_name": "LayoutModel",
          "model_module_version": "1.2.0",
          "state": {
            "_model_module": "@jupyter-widgets/base",
            "_model_module_version": "1.2.0",
            "_model_name": "LayoutModel",
            "_view_count": null,
            "_view_module": "@jupyter-widgets/base",
            "_view_module_version": "1.2.0",
            "_view_name": "LayoutView",
            "align_content": null,
            "align_items": null,
            "align_self": null,
            "border": null,
            "bottom": null,
            "display": null,
            "flex": null,
            "flex_flow": null,
            "grid_area": null,
            "grid_auto_columns": null,
            "grid_auto_flow": null,
            "grid_auto_rows": null,
            "grid_column": null,
            "grid_gap": null,
            "grid_row": null,
            "grid_template_areas": null,
            "grid_template_columns": null,
            "grid_template_rows": null,
            "height": null,
            "justify_content": null,
            "justify_items": null,
            "left": null,
            "margin": null,
            "max_height": null,
            "max_width": null,
            "min_height": null,
            "min_width": null,
            "object_fit": null,
            "object_position": null,
            "order": null,
            "overflow": null,
            "overflow_x": null,
            "overflow_y": null,
            "padding": null,
            "right": null,
            "top": null,
            "visibility": null,
            "width": null
          }
        },
        "e49107902ecf41f08836c0d8eb25cb74": {
          "model_module": "@jupyter-widgets/controls",
          "model_name": "DescriptionStyleModel",
          "model_module_version": "1.5.0",
          "state": {
            "_model_module": "@jupyter-widgets/controls",
            "_model_module_version": "1.5.0",
            "_model_name": "DescriptionStyleModel",
            "_view_count": null,
            "_view_module": "@jupyter-widgets/base",
            "_view_module_version": "1.2.0",
            "_view_name": "StyleView",
            "description_width": ""
          }
        },
        "855777dccf1746ea924175ebae18df42": {
          "model_module": "@jupyter-widgets/base",
          "model_name": "LayoutModel",
          "model_module_version": "1.2.0",
          "state": {
            "_model_module": "@jupyter-widgets/base",
            "_model_module_version": "1.2.0",
            "_model_name": "LayoutModel",
            "_view_count": null,
            "_view_module": "@jupyter-widgets/base",
            "_view_module_version": "1.2.0",
            "_view_name": "LayoutView",
            "align_content": null,
            "align_items": null,
            "align_self": null,
            "border": null,
            "bottom": null,
            "display": null,
            "flex": null,
            "flex_flow": null,
            "grid_area": null,
            "grid_auto_columns": null,
            "grid_auto_flow": null,
            "grid_auto_rows": null,
            "grid_column": null,
            "grid_gap": null,
            "grid_row": null,
            "grid_template_areas": null,
            "grid_template_columns": null,
            "grid_template_rows": null,
            "height": null,
            "justify_content": null,
            "justify_items": null,
            "left": null,
            "margin": null,
            "max_height": null,
            "max_width": null,
            "min_height": null,
            "min_width": null,
            "object_fit": null,
            "object_position": null,
            "order": null,
            "overflow": null,
            "overflow_x": null,
            "overflow_y": null,
            "padding": null,
            "right": null,
            "top": null,
            "visibility": null,
            "width": null
          }
        },
        "e13980a6c33b432a8a6345b639edb99e": {
          "model_module": "@jupyter-widgets/controls",
          "model_name": "ProgressStyleModel",
          "model_module_version": "1.5.0",
          "state": {
            "_model_module": "@jupyter-widgets/controls",
            "_model_module_version": "1.5.0",
            "_model_name": "ProgressStyleModel",
            "_view_count": null,
            "_view_module": "@jupyter-widgets/base",
            "_view_module_version": "1.2.0",
            "_view_name": "StyleView",
            "bar_color": null,
            "description_width": ""
          }
        },
        "16cad5dd19954a2abf7b68c32434a673": {
          "model_module": "@jupyter-widgets/base",
          "model_name": "LayoutModel",
          "model_module_version": "1.2.0",
          "state": {
            "_model_module": "@jupyter-widgets/base",
            "_model_module_version": "1.2.0",
            "_model_name": "LayoutModel",
            "_view_count": null,
            "_view_module": "@jupyter-widgets/base",
            "_view_module_version": "1.2.0",
            "_view_name": "LayoutView",
            "align_content": null,
            "align_items": null,
            "align_self": null,
            "border": null,
            "bottom": null,
            "display": null,
            "flex": null,
            "flex_flow": null,
            "grid_area": null,
            "grid_auto_columns": null,
            "grid_auto_flow": null,
            "grid_auto_rows": null,
            "grid_column": null,
            "grid_gap": null,
            "grid_row": null,
            "grid_template_areas": null,
            "grid_template_columns": null,
            "grid_template_rows": null,
            "height": null,
            "justify_content": null,
            "justify_items": null,
            "left": null,
            "margin": null,
            "max_height": null,
            "max_width": null,
            "min_height": null,
            "min_width": null,
            "object_fit": null,
            "object_position": null,
            "order": null,
            "overflow": null,
            "overflow_x": null,
            "overflow_y": null,
            "padding": null,
            "right": null,
            "top": null,
            "visibility": null,
            "width": null
          }
        },
        "adc635a9291c4fd58690385684321a02": {
          "model_module": "@jupyter-widgets/controls",
          "model_name": "DescriptionStyleModel",
          "model_module_version": "1.5.0",
          "state": {
            "_model_module": "@jupyter-widgets/controls",
            "_model_module_version": "1.5.0",
            "_model_name": "DescriptionStyleModel",
            "_view_count": null,
            "_view_module": "@jupyter-widgets/base",
            "_view_module_version": "1.2.0",
            "_view_name": "StyleView",
            "description_width": ""
          }
        },
        "d3db33fa10bc41b29e9203f70041e7ee": {
          "model_module": "@jupyter-widgets/controls",
          "model_name": "HBoxModel",
          "model_module_version": "1.5.0",
          "state": {
            "_dom_classes": [],
            "_model_module": "@jupyter-widgets/controls",
            "_model_module_version": "1.5.0",
            "_model_name": "HBoxModel",
            "_view_count": null,
            "_view_module": "@jupyter-widgets/controls",
            "_view_module_version": "1.5.0",
            "_view_name": "HBoxView",
            "box_style": "",
            "children": [
              "IPY_MODEL_fc605d41a251465a816a809378dd8c3f",
              "IPY_MODEL_63ff551905d04d838c45d045e8f68bde",
              "IPY_MODEL_a6861a51016c4705accd8e8975a6f171"
            ],
            "layout": "IPY_MODEL_52eda7e7e4a149c2858c5963ed07ccf0"
          }
        },
        "fc605d41a251465a816a809378dd8c3f": {
          "model_module": "@jupyter-widgets/controls",
          "model_name": "HTMLModel",
          "model_module_version": "1.5.0",
          "state": {
            "_dom_classes": [],
            "_model_module": "@jupyter-widgets/controls",
            "_model_module_version": "1.5.0",
            "_model_name": "HTMLModel",
            "_view_count": null,
            "_view_module": "@jupyter-widgets/controls",
            "_view_module_version": "1.5.0",
            "_view_name": "HTMLView",
            "description": "",
            "description_tooltip": null,
            "layout": "IPY_MODEL_3783fe57c93649369b4cb81e2f2a4b10",
            "placeholder": "​",
            "style": "IPY_MODEL_40c6862a4fc1449e946e9d72ae00413c",
            "value": "100%"
          }
        },
        "63ff551905d04d838c45d045e8f68bde": {
          "model_module": "@jupyter-widgets/controls",
          "model_name": "FloatProgressModel",
          "model_module_version": "1.5.0",
          "state": {
            "_dom_classes": [],
            "_model_module": "@jupyter-widgets/controls",
            "_model_module_version": "1.5.0",
            "_model_name": "FloatProgressModel",
            "_view_count": null,
            "_view_module": "@jupyter-widgets/controls",
            "_view_module_version": "1.5.0",
            "_view_name": "ProgressView",
            "bar_style": "success",
            "description": "",
            "description_tooltip": null,
            "layout": "IPY_MODEL_07ca3999906f494e89e7aaeb8a06f8cb",
            "max": 200,
            "min": 0,
            "orientation": "horizontal",
            "style": "IPY_MODEL_f7baf8f129704e2abf0e71fd30151c76",
            "value": 200
          }
        },
        "a6861a51016c4705accd8e8975a6f171": {
          "model_module": "@jupyter-widgets/controls",
          "model_name": "HTMLModel",
          "model_module_version": "1.5.0",
          "state": {
            "_dom_classes": [],
            "_model_module": "@jupyter-widgets/controls",
            "_model_module_version": "1.5.0",
            "_model_name": "HTMLModel",
            "_view_count": null,
            "_view_module": "@jupyter-widgets/controls",
            "_view_module_version": "1.5.0",
            "_view_name": "HTMLView",
            "description": "",
            "description_tooltip": null,
            "layout": "IPY_MODEL_0282fc39379e4cf49859ebdc17b6bc12",
            "placeholder": "​",
            "style": "IPY_MODEL_df1e7f734998472f8c66642c499a5519",
            "value": " 200/200 [00:32&lt;00:00,  5.76it/s]"
          }
        },
        "52eda7e7e4a149c2858c5963ed07ccf0": {
          "model_module": "@jupyter-widgets/base",
          "model_name": "LayoutModel",
          "model_module_version": "1.2.0",
          "state": {
            "_model_module": "@jupyter-widgets/base",
            "_model_module_version": "1.2.0",
            "_model_name": "LayoutModel",
            "_view_count": null,
            "_view_module": "@jupyter-widgets/base",
            "_view_module_version": "1.2.0",
            "_view_name": "LayoutView",
            "align_content": null,
            "align_items": null,
            "align_self": null,
            "border": null,
            "bottom": null,
            "display": null,
            "flex": null,
            "flex_flow": null,
            "grid_area": null,
            "grid_auto_columns": null,
            "grid_auto_flow": null,
            "grid_auto_rows": null,
            "grid_column": null,
            "grid_gap": null,
            "grid_row": null,
            "grid_template_areas": null,
            "grid_template_columns": null,
            "grid_template_rows": null,
            "height": null,
            "justify_content": null,
            "justify_items": null,
            "left": null,
            "margin": null,
            "max_height": null,
            "max_width": null,
            "min_height": null,
            "min_width": null,
            "object_fit": null,
            "object_position": null,
            "order": null,
            "overflow": null,
            "overflow_x": null,
            "overflow_y": null,
            "padding": null,
            "right": null,
            "top": null,
            "visibility": null,
            "width": null
          }
        },
        "3783fe57c93649369b4cb81e2f2a4b10": {
          "model_module": "@jupyter-widgets/base",
          "model_name": "LayoutModel",
          "model_module_version": "1.2.0",
          "state": {
            "_model_module": "@jupyter-widgets/base",
            "_model_module_version": "1.2.0",
            "_model_name": "LayoutModel",
            "_view_count": null,
            "_view_module": "@jupyter-widgets/base",
            "_view_module_version": "1.2.0",
            "_view_name": "LayoutView",
            "align_content": null,
            "align_items": null,
            "align_self": null,
            "border": null,
            "bottom": null,
            "display": null,
            "flex": null,
            "flex_flow": null,
            "grid_area": null,
            "grid_auto_columns": null,
            "grid_auto_flow": null,
            "grid_auto_rows": null,
            "grid_column": null,
            "grid_gap": null,
            "grid_row": null,
            "grid_template_areas": null,
            "grid_template_columns": null,
            "grid_template_rows": null,
            "height": null,
            "justify_content": null,
            "justify_items": null,
            "left": null,
            "margin": null,
            "max_height": null,
            "max_width": null,
            "min_height": null,
            "min_width": null,
            "object_fit": null,
            "object_position": null,
            "order": null,
            "overflow": null,
            "overflow_x": null,
            "overflow_y": null,
            "padding": null,
            "right": null,
            "top": null,
            "visibility": null,
            "width": null
          }
        },
        "40c6862a4fc1449e946e9d72ae00413c": {
          "model_module": "@jupyter-widgets/controls",
          "model_name": "DescriptionStyleModel",
          "model_module_version": "1.5.0",
          "state": {
            "_model_module": "@jupyter-widgets/controls",
            "_model_module_version": "1.5.0",
            "_model_name": "DescriptionStyleModel",
            "_view_count": null,
            "_view_module": "@jupyter-widgets/base",
            "_view_module_version": "1.2.0",
            "_view_name": "StyleView",
            "description_width": ""
          }
        },
        "07ca3999906f494e89e7aaeb8a06f8cb": {
          "model_module": "@jupyter-widgets/base",
          "model_name": "LayoutModel",
          "model_module_version": "1.2.0",
          "state": {
            "_model_module": "@jupyter-widgets/base",
            "_model_module_version": "1.2.0",
            "_model_name": "LayoutModel",
            "_view_count": null,
            "_view_module": "@jupyter-widgets/base",
            "_view_module_version": "1.2.0",
            "_view_name": "LayoutView",
            "align_content": null,
            "align_items": null,
            "align_self": null,
            "border": null,
            "bottom": null,
            "display": null,
            "flex": null,
            "flex_flow": null,
            "grid_area": null,
            "grid_auto_columns": null,
            "grid_auto_flow": null,
            "grid_auto_rows": null,
            "grid_column": null,
            "grid_gap": null,
            "grid_row": null,
            "grid_template_areas": null,
            "grid_template_columns": null,
            "grid_template_rows": null,
            "height": null,
            "justify_content": null,
            "justify_items": null,
            "left": null,
            "margin": null,
            "max_height": null,
            "max_width": null,
            "min_height": null,
            "min_width": null,
            "object_fit": null,
            "object_position": null,
            "order": null,
            "overflow": null,
            "overflow_x": null,
            "overflow_y": null,
            "padding": null,
            "right": null,
            "top": null,
            "visibility": null,
            "width": null
          }
        },
        "f7baf8f129704e2abf0e71fd30151c76": {
          "model_module": "@jupyter-widgets/controls",
          "model_name": "ProgressStyleModel",
          "model_module_version": "1.5.0",
          "state": {
            "_model_module": "@jupyter-widgets/controls",
            "_model_module_version": "1.5.0",
            "_model_name": "ProgressStyleModel",
            "_view_count": null,
            "_view_module": "@jupyter-widgets/base",
            "_view_module_version": "1.2.0",
            "_view_name": "StyleView",
            "bar_color": null,
            "description_width": ""
          }
        },
        "0282fc39379e4cf49859ebdc17b6bc12": {
          "model_module": "@jupyter-widgets/base",
          "model_name": "LayoutModel",
          "model_module_version": "1.2.0",
          "state": {
            "_model_module": "@jupyter-widgets/base",
            "_model_module_version": "1.2.0",
            "_model_name": "LayoutModel",
            "_view_count": null,
            "_view_module": "@jupyter-widgets/base",
            "_view_module_version": "1.2.0",
            "_view_name": "LayoutView",
            "align_content": null,
            "align_items": null,
            "align_self": null,
            "border": null,
            "bottom": null,
            "display": null,
            "flex": null,
            "flex_flow": null,
            "grid_area": null,
            "grid_auto_columns": null,
            "grid_auto_flow": null,
            "grid_auto_rows": null,
            "grid_column": null,
            "grid_gap": null,
            "grid_row": null,
            "grid_template_areas": null,
            "grid_template_columns": null,
            "grid_template_rows": null,
            "height": null,
            "justify_content": null,
            "justify_items": null,
            "left": null,
            "margin": null,
            "max_height": null,
            "max_width": null,
            "min_height": null,
            "min_width": null,
            "object_fit": null,
            "object_position": null,
            "order": null,
            "overflow": null,
            "overflow_x": null,
            "overflow_y": null,
            "padding": null,
            "right": null,
            "top": null,
            "visibility": null,
            "width": null
          }
        },
        "df1e7f734998472f8c66642c499a5519": {
          "model_module": "@jupyter-widgets/controls",
          "model_name": "DescriptionStyleModel",
          "model_module_version": "1.5.0",
          "state": {
            "_model_module": "@jupyter-widgets/controls",
            "_model_module_version": "1.5.0",
            "_model_name": "DescriptionStyleModel",
            "_view_count": null,
            "_view_module": "@jupyter-widgets/base",
            "_view_module_version": "1.2.0",
            "_view_name": "StyleView",
            "description_width": ""
          }
        }
      }
    },
    "accelerator": "GPU"
  },
  "cells": [
    {
      "cell_type": "markdown",
      "source": [
        "# NLP Project - Text Summarization applied to French news articles\n"
      ],
      "metadata": {
        "id": "-Qb1qquwYRNl"
      }
    },
    {
      "cell_type": "markdown",
      "source": [
        "\n",
        "<blockquote>\n",
        "\n",
        "Instructions : https://docs.google.com/document/d/1ijqISks5L_ioZwJi-VIRx5JLxk01Ao8wLYkN7L-R4RE/edit#\n",
        "\n",
        "Lien Latex Report : https://fr.overleaf.com/7163467196bvrhtzpxryyg \n",
        "\n",
        "</blockquote>"
      ],
      "metadata": {
        "id": "4-kubXDEk8eC"
      }
    },
    {
      "cell_type": "markdown",
      "source": [
        "<blockquote>\n",
        "\n",
        "This project was made by ENSAE students : Solène Blasco Lopez, Giuseppe Deni and Béline Aubergeon.\n",
        "\n",
        "See the git repository for more details : https://github.com/gdeni89/NLP-summarization-of-French-written-documents\n",
        "\n",
        "</blockquote>\n",
        "\n"
      ],
      "metadata": {
        "id": "uPIS9LOLkr_T"
      }
    },
    {
      "cell_type": "markdown",
      "source": [
        "\n",
        "\n",
        "**Abstract :** \n",
        "\n",
        "This project will focus on the text summarization task applied to the summarization of French written documents. Formally, our goal will be to implement and compare different approaches to produce a summary from a given text. We adopted extractive (TextRank algorithm) and abstractive (mainly BARTHez model), trained and tested on OrangeSum dataset, with both quantitative (using ROUGE metric) and qualitative experiments.\n",
        "\n",
        "\n",
        "Our project focuses on the text summarization task applied to the summarization of French written documents.\n",
        "\n",
        "Formally, our goal was to implement and compare different approaches to produce a summary from a given text. We implemented the more \"naive\" methods to adress this task, which are called \"Extractive Approach\" and are unsupervised. We implemented our version of the TextRank algorithm : the idea is to choose some embeddings for the sentences of a text (FastText for instance), and compute a similarity matrix using cosine similarity to form a summary by extracting the most revelant sentences of our text. Then, we studied the more advanced \"Abstractive approaches\", where the idea is to leverage deep learning models within an Encoder-Decoder structure, using LSTM or the Attention Mechanism of Transformers, to build supervised generative models that will generate new sentences to create a summary. For this approach, we started from a pre-trained BARTHez model.\n",
        "\n",
        "Concerning the dataset, we mainly trained and tested our models on OrangeSum, a dataset providing news articles with their summaries in French. As we are studying French written texts, we will use appropriated language models specific to French, such as the French version of FastText, or BARTHez. Moreover, to quantitatively evaluate the performance of our generated summaries, we used the ROUGE metric, which was specifically designed for this task and used in the litterature. We also made several qualitative experiments, by challenging our models on different type of texts, which can be found in the attached notebook.\n",
        "\n",
        "\n",
        "\n"
      ],
      "metadata": {
        "id": "qjpPuJ3-keE-"
      }
    },
    {
      "cell_type": "markdown",
      "source": [
        "## Imports"
      ],
      "metadata": {
        "id": "s3hKJ3w-MUgc"
      }
    },
    {
      "cell_type": "code",
      "source": [
        "!pip install datasets transformers"
      ],
      "metadata": {
        "colab": {
          "base_uri": "https://localhost:8080/"
        },
        "id": "-2ijvjeKLSL9",
        "outputId": "919b64c2-b086-4bdf-ca08-610694fc8b32"
      },
      "execution_count": 1,
      "outputs": [
        {
          "output_type": "stream",
          "name": "stdout",
          "text": [
            "Requirement already satisfied: datasets in /usr/local/lib/python3.7/dist-packages (2.1.0)\n",
            "Requirement already satisfied: transformers in /usr/local/lib/python3.7/dist-packages (4.18.0)\n",
            "Requirement already satisfied: multiprocess in /usr/local/lib/python3.7/dist-packages (from datasets) (0.70.12.2)\n",
            "Requirement already satisfied: packaging in /usr/local/lib/python3.7/dist-packages (from datasets) (21.3)\n",
            "Requirement already satisfied: responses<0.19 in /usr/local/lib/python3.7/dist-packages (from datasets) (0.18.0)\n",
            "Requirement already satisfied: xxhash in /usr/local/lib/python3.7/dist-packages (from datasets) (3.0.0)\n",
            "Requirement already satisfied: dill in /usr/local/lib/python3.7/dist-packages (from datasets) (0.3.4)\n",
            "Requirement already satisfied: fsspec[http]>=2021.05.0 in /usr/local/lib/python3.7/dist-packages (from datasets) (2022.3.0)\n",
            "Requirement already satisfied: aiohttp in /usr/local/lib/python3.7/dist-packages (from datasets) (3.8.1)\n",
            "Requirement already satisfied: huggingface-hub<1.0.0,>=0.1.0 in /usr/local/lib/python3.7/dist-packages (from datasets) (0.5.1)\n",
            "Requirement already satisfied: pandas in /usr/local/lib/python3.7/dist-packages (from datasets) (1.3.5)\n",
            "Requirement already satisfied: importlib-metadata in /usr/local/lib/python3.7/dist-packages (from datasets) (4.11.3)\n",
            "Requirement already satisfied: tqdm>=4.62.1 in /usr/local/lib/python3.7/dist-packages (from datasets) (4.64.0)\n",
            "Requirement already satisfied: numpy>=1.17 in /usr/local/lib/python3.7/dist-packages (from datasets) (1.21.6)\n",
            "Requirement already satisfied: pyarrow>=5.0.0 in /usr/local/lib/python3.7/dist-packages (from datasets) (6.0.1)\n",
            "Requirement already satisfied: requests>=2.19.0 in /usr/local/lib/python3.7/dist-packages (from datasets) (2.23.0)\n",
            "Requirement already satisfied: filelock in /usr/local/lib/python3.7/dist-packages (from huggingface-hub<1.0.0,>=0.1.0->datasets) (3.6.0)\n",
            "Requirement already satisfied: pyyaml in /usr/local/lib/python3.7/dist-packages (from huggingface-hub<1.0.0,>=0.1.0->datasets) (6.0)\n",
            "Requirement already satisfied: typing-extensions>=3.7.4.3 in /usr/local/lib/python3.7/dist-packages (from huggingface-hub<1.0.0,>=0.1.0->datasets) (4.1.1)\n",
            "Requirement already satisfied: pyparsing!=3.0.5,>=2.0.2 in /usr/local/lib/python3.7/dist-packages (from packaging->datasets) (3.0.8)\n",
            "Requirement already satisfied: chardet<4,>=3.0.2 in /usr/local/lib/python3.7/dist-packages (from requests>=2.19.0->datasets) (3.0.4)\n",
            "Requirement already satisfied: idna<3,>=2.5 in /usr/local/lib/python3.7/dist-packages (from requests>=2.19.0->datasets) (2.10)\n",
            "Requirement already satisfied: certifi>=2017.4.17 in /usr/local/lib/python3.7/dist-packages (from requests>=2.19.0->datasets) (2021.10.8)\n",
            "Requirement already satisfied: urllib3!=1.25.0,!=1.25.1,<1.26,>=1.21.1 in /usr/local/lib/python3.7/dist-packages (from requests>=2.19.0->datasets) (1.25.11)\n",
            "Requirement already satisfied: tokenizers!=0.11.3,<0.13,>=0.11.1 in /usr/local/lib/python3.7/dist-packages (from transformers) (0.12.1)\n",
            "Requirement already satisfied: regex!=2019.12.17 in /usr/local/lib/python3.7/dist-packages (from transformers) (2019.12.20)\n",
            "Requirement already satisfied: sacremoses in /usr/local/lib/python3.7/dist-packages (from transformers) (0.0.49)\n",
            "Requirement already satisfied: charset-normalizer<3.0,>=2.0 in /usr/local/lib/python3.7/dist-packages (from aiohttp->datasets) (2.0.12)\n",
            "Requirement already satisfied: attrs>=17.3.0 in /usr/local/lib/python3.7/dist-packages (from aiohttp->datasets) (21.4.0)\n",
            "Requirement already satisfied: multidict<7.0,>=4.5 in /usr/local/lib/python3.7/dist-packages (from aiohttp->datasets) (6.0.2)\n",
            "Requirement already satisfied: yarl<2.0,>=1.0 in /usr/local/lib/python3.7/dist-packages (from aiohttp->datasets) (1.7.2)\n",
            "Requirement already satisfied: frozenlist>=1.1.1 in /usr/local/lib/python3.7/dist-packages (from aiohttp->datasets) (1.3.0)\n",
            "Requirement already satisfied: asynctest==0.13.0 in /usr/local/lib/python3.7/dist-packages (from aiohttp->datasets) (0.13.0)\n",
            "Requirement already satisfied: aiosignal>=1.1.2 in /usr/local/lib/python3.7/dist-packages (from aiohttp->datasets) (1.2.0)\n",
            "Requirement already satisfied: async-timeout<5.0,>=4.0.0a3 in /usr/local/lib/python3.7/dist-packages (from aiohttp->datasets) (4.0.2)\n",
            "Requirement already satisfied: zipp>=0.5 in /usr/local/lib/python3.7/dist-packages (from importlib-metadata->datasets) (3.8.0)\n",
            "Requirement already satisfied: pytz>=2017.3 in /usr/local/lib/python3.7/dist-packages (from pandas->datasets) (2022.1)\n",
            "Requirement already satisfied: python-dateutil>=2.7.3 in /usr/local/lib/python3.7/dist-packages (from pandas->datasets) (2.8.2)\n",
            "Requirement already satisfied: six>=1.5 in /usr/local/lib/python3.7/dist-packages (from python-dateutil>=2.7.3->pandas->datasets) (1.15.0)\n",
            "Requirement already satisfied: joblib in /usr/local/lib/python3.7/dist-packages (from sacremoses->transformers) (1.1.0)\n",
            "Requirement already satisfied: click in /usr/local/lib/python3.7/dist-packages (from sacremoses->transformers) (7.1.2)\n"
          ]
        }
      ]
    },
    {
      "cell_type": "code",
      "source": [
        "!pip install tensorflow==1.13.1"
      ],
      "metadata": {
        "colab": {
          "base_uri": "https://localhost:8080/"
        },
        "id": "dxllpePykQHL",
        "outputId": "75607fac-fc02-44a0-eab9-48cfa0264d59"
      },
      "execution_count": 2,
      "outputs": [
        {
          "output_type": "stream",
          "name": "stdout",
          "text": [
            "Requirement already satisfied: tensorflow==1.13.1 in /usr/local/lib/python3.7/dist-packages (1.13.1)\n",
            "Requirement already satisfied: protobuf>=3.6.1 in /usr/local/lib/python3.7/dist-packages (from tensorflow==1.13.1) (3.17.3)\n",
            "Requirement already satisfied: keras-applications>=1.0.6 in /usr/local/lib/python3.7/dist-packages (from tensorflow==1.13.1) (1.0.8)\n",
            "Requirement already satisfied: gast>=0.2.0 in /usr/local/lib/python3.7/dist-packages (from tensorflow==1.13.1) (0.5.3)\n",
            "Requirement already satisfied: numpy>=1.13.3 in /usr/local/lib/python3.7/dist-packages (from tensorflow==1.13.1) (1.21.6)\n",
            "Requirement already satisfied: tensorboard<1.14.0,>=1.13.0 in /usr/local/lib/python3.7/dist-packages (from tensorflow==1.13.1) (1.13.1)\n",
            "Requirement already satisfied: absl-py>=0.1.6 in /usr/local/lib/python3.7/dist-packages (from tensorflow==1.13.1) (1.0.0)\n",
            "Requirement already satisfied: astor>=0.6.0 in /usr/local/lib/python3.7/dist-packages (from tensorflow==1.13.1) (0.8.1)\n",
            "Requirement already satisfied: six>=1.10.0 in /usr/local/lib/python3.7/dist-packages (from tensorflow==1.13.1) (1.15.0)\n",
            "Requirement already satisfied: termcolor>=1.1.0 in /usr/local/lib/python3.7/dist-packages (from tensorflow==1.13.1) (1.1.0)\n",
            "Requirement already satisfied: keras-preprocessing>=1.0.5 in /usr/local/lib/python3.7/dist-packages (from tensorflow==1.13.1) (1.1.2)\n",
            "Requirement already satisfied: grpcio>=1.8.6 in /usr/local/lib/python3.7/dist-packages (from tensorflow==1.13.1) (1.44.0)\n",
            "Requirement already satisfied: wheel>=0.26 in /usr/local/lib/python3.7/dist-packages (from tensorflow==1.13.1) (0.37.1)\n",
            "Requirement already satisfied: tensorflow-estimator<1.14.0rc0,>=1.13.0 in /usr/local/lib/python3.7/dist-packages (from tensorflow==1.13.1) (1.13.0)\n",
            "Requirement already satisfied: h5py in /usr/local/lib/python3.7/dist-packages (from keras-applications>=1.0.6->tensorflow==1.13.1) (3.1.0)\n",
            "Requirement already satisfied: werkzeug>=0.11.15 in /usr/local/lib/python3.7/dist-packages (from tensorboard<1.14.0,>=1.13.0->tensorflow==1.13.1) (1.0.1)\n",
            "Requirement already satisfied: markdown>=2.6.8 in /usr/local/lib/python3.7/dist-packages (from tensorboard<1.14.0,>=1.13.0->tensorflow==1.13.1) (3.3.6)\n",
            "Requirement already satisfied: importlib-metadata>=4.4 in /usr/local/lib/python3.7/dist-packages (from markdown>=2.6.8->tensorboard<1.14.0,>=1.13.0->tensorflow==1.13.1) (4.11.3)\n",
            "Requirement already satisfied: typing-extensions>=3.6.4 in /usr/local/lib/python3.7/dist-packages (from importlib-metadata>=4.4->markdown>=2.6.8->tensorboard<1.14.0,>=1.13.0->tensorflow==1.13.1) (4.1.1)\n",
            "Requirement already satisfied: zipp>=0.5 in /usr/local/lib/python3.7/dist-packages (from importlib-metadata>=4.4->markdown>=2.6.8->tensorboard<1.14.0,>=1.13.0->tensorflow==1.13.1) (3.8.0)\n",
            "Requirement already satisfied: mock>=2.0.0 in /usr/local/lib/python3.7/dist-packages (from tensorflow-estimator<1.14.0rc0,>=1.13.0->tensorflow==1.13.1) (4.0.3)\n",
            "Requirement already satisfied: cached-property in /usr/local/lib/python3.7/dist-packages (from h5py->keras-applications>=1.0.6->tensorflow==1.13.1) (1.5.2)\n"
          ]
        }
      ]
    },
    {
      "cell_type": "code",
      "source": [
        "!pip install rouge"
      ],
      "metadata": {
        "colab": {
          "base_uri": "https://localhost:8080/"
        },
        "id": "BH2rodlzvAOb",
        "outputId": "9829130e-90b3-46cb-cc73-885db3353026"
      },
      "execution_count": 3,
      "outputs": [
        {
          "output_type": "stream",
          "name": "stdout",
          "text": [
            "Requirement already satisfied: rouge in /usr/local/lib/python3.7/dist-packages (1.0.1)\n",
            "Requirement already satisfied: six in /usr/local/lib/python3.7/dist-packages (from rouge) (1.15.0)\n"
          ]
        }
      ]
    },
    {
      "cell_type": "code",
      "source": [
        "import nltk\n",
        "nltk.download('punkt')\n",
        "nltk.download('stopwords')"
      ],
      "metadata": {
        "colab": {
          "base_uri": "https://localhost:8080/"
        },
        "id": "tZaiAEG6-KSf",
        "outputId": "64f44363-9290-4042-a7a8-d3985850dabc"
      },
      "execution_count": 4,
      "outputs": [
        {
          "output_type": "stream",
          "name": "stdout",
          "text": [
            "[nltk_data] Downloading package punkt to /root/nltk_data...\n",
            "[nltk_data]   Package punkt is already up-to-date!\n",
            "[nltk_data] Downloading package stopwords to /root/nltk_data...\n",
            "[nltk_data]   Package stopwords is already up-to-date!\n"
          ]
        },
        {
          "output_type": "execute_result",
          "data": {
            "text/plain": [
              "True"
            ]
          },
          "metadata": {},
          "execution_count": 4
        }
      ]
    },
    {
      "cell_type": "code",
      "source": [
        "import numpy as np \n",
        "import matplotlib.pyplot as plt\n",
        "import seaborn as sns\n",
        "sns.set_style('darkgrid')\n",
        "\n",
        "import pandas as pd\n",
        "from tqdm.auto import tqdm\n",
        "tqdm.pandas()\n",
        "\n",
        "from termcolor import colored\n",
        "\n",
        "# To load datasets :\n",
        "from datasets import load_dataset\n",
        "\n",
        "# To pre-process and tokenize : \n",
        "import re\n",
        "from nltk.tokenize import sent_tokenize, word_tokenize\n",
        "from nltk.corpus import stopwords\n",
        "\n",
        "# To create dataloaders :\n",
        "from torch.utils.data import Dataset, DataLoader\n",
        "\n",
        "# To create our torch models :\n",
        "import torch\n",
        "import torch.nn as nn\n",
        "import torch.nn.functional as F\n",
        "import torch.optim as optim\n",
        "\n",
        "# To compute ROUGE score :\n",
        "from rouge import Rouge"
      ],
      "metadata": {
        "id": "OkI9H-N_t6_h",
        "colab": {
          "base_uri": "https://localhost:8080/"
        },
        "outputId": "503114fb-c012-40da-f9a2-a82224760d52"
      },
      "execution_count": 5,
      "outputs": [
        {
          "output_type": "stream",
          "name": "stderr",
          "text": [
            "/usr/local/lib/python3.7/dist-packages/tensorflow/python/framework/dtypes.py:526: FutureWarning: Passing (type, 1) or '1type' as a synonym of type is deprecated; in a future version of numpy, it will be understood as (type, (1,)) / '(1,)type'.\n",
            "  _np_qint8 = np.dtype([(\"qint8\", np.int8, 1)])\n",
            "/usr/local/lib/python3.7/dist-packages/tensorflow/python/framework/dtypes.py:527: FutureWarning: Passing (type, 1) or '1type' as a synonym of type is deprecated; in a future version of numpy, it will be understood as (type, (1,)) / '(1,)type'.\n",
            "  _np_quint8 = np.dtype([(\"quint8\", np.uint8, 1)])\n",
            "/usr/local/lib/python3.7/dist-packages/tensorflow/python/framework/dtypes.py:528: FutureWarning: Passing (type, 1) or '1type' as a synonym of type is deprecated; in a future version of numpy, it will be understood as (type, (1,)) / '(1,)type'.\n",
            "  _np_qint16 = np.dtype([(\"qint16\", np.int16, 1)])\n",
            "/usr/local/lib/python3.7/dist-packages/tensorflow/python/framework/dtypes.py:529: FutureWarning: Passing (type, 1) or '1type' as a synonym of type is deprecated; in a future version of numpy, it will be understood as (type, (1,)) / '(1,)type'.\n",
            "  _np_quint16 = np.dtype([(\"quint16\", np.uint16, 1)])\n",
            "/usr/local/lib/python3.7/dist-packages/tensorflow/python/framework/dtypes.py:530: FutureWarning: Passing (type, 1) or '1type' as a synonym of type is deprecated; in a future version of numpy, it will be understood as (type, (1,)) / '(1,)type'.\n",
            "  _np_qint32 = np.dtype([(\"qint32\", np.int32, 1)])\n",
            "/usr/local/lib/python3.7/dist-packages/tensorflow/python/framework/dtypes.py:535: FutureWarning: Passing (type, 1) or '1type' as a synonym of type is deprecated; in a future version of numpy, it will be understood as (type, (1,)) / '(1,)type'.\n",
            "  np_resource = np.dtype([(\"resource\", np.ubyte, 1)])\n"
          ]
        }
      ]
    },
    {
      "cell_type": "markdown",
      "source": [
        "## Load Datasets"
      ],
      "metadata": {
        "id": "WeHdMdFHFaU-"
      }
    },
    {
      "cell_type": "markdown",
      "source": [
        "We have identified 3 datasets containing news article written in French : \n",
        "\n",
        "  * [OrangeSum](https://github.com/Tixierae/OrangeSum) or ([link HunggingFace](https://huggingface.co/datasets/GEM/OrangeSum) ) : dataset composed of French articles scrapped from \"Orange Actu\" website. Articles are provided with their title and short summary, and shoul contain articles around 5 main categories : France, world, politics, automotive, and society. \n",
        "\n",
        "  * [MLSum](https://huggingface.co/datasets/mlsum) & [XL-Sum](https://huggingface.co/datasets/csebuetnlp/xlsum) : datasets proposed by HuggingFace and composed of articles with their abstracts on different languages. It was originally proposed for multilingual text summarization, but we can choose to focus on the French subcorpus. Note that the considered articles will be mainly translations of originally English articles.\n",
        "\n",
        "As the OrangeSum articles were originally written in French, we will mainly train our model on this dataset. The two other ones could be used to have a larger training dataset, or to try to apply our OrangeSum-trained model on other types of articles."
      ],
      "metadata": {
        "id": "UcBbKvLVvUs5"
      }
    },
    {
      "cell_type": "code",
      "execution_count": 6,
      "metadata": {
        "id": "f6Mbppf0YOXY",
        "colab": {
          "base_uri": "https://localhost:8080/",
          "referenced_widgets": [
            "84caec3ec67c40f38ab15aa331a65550",
            "d566b063a5d441219d319eb8bc62fa6a",
            "cae9fd7858af49349b5fa93b72c50a0d",
            "247ccce5fd9442879f9d1083db5490b1",
            "75f5ce1bd3f24da58ed2ed1050b39d41",
            "9f63fe4887e7440a818a9656eec155a5",
            "8f798dea818448e382e4e7f31a90a488",
            "0553cfe7d7ed4c66bc01317f57c144f4",
            "2cc47718ffa64c698fb0713be2b5f4c4",
            "c799b08b2bc14e108a762c6ee21f412f",
            "9142f3d536f046a58ab065a9089894c1"
          ],
          "height": 0
        },
        "outputId": "edf965c7-07c6-444f-bab6-8fbba58cd0d4"
      },
      "outputs": [
        {
          "output_type": "stream",
          "name": "stderr",
          "text": [
            "Reusing dataset orange_sum (/root/.cache/huggingface/datasets/GEM___orange_sum/abstract/1.1.0/0886904dd6ac7849d4c9fcec77bf8d78622dd651739826ccc8436159b777f910)\n"
          ]
        },
        {
          "output_type": "display_data",
          "data": {
            "text/plain": [
              "  0%|          | 0/3 [00:00<?, ?it/s]"
            ],
            "application/vnd.jupyter.widget-view+json": {
              "version_major": 2,
              "version_minor": 0,
              "model_id": "84caec3ec67c40f38ab15aa331a65550"
            }
          },
          "metadata": {}
        }
      ],
      "source": [
        "dataset_orangesum = load_dataset(\"GEM/OrangeSum\", \"abstract\")\n",
        "\n",
        "# dataset_xlsum = load_dataset(\"csebuetnlp/xlsum\", \"french\")\n",
        "# dataset_mlsum = load_dataset(\"mlsum\", \"fr\")"
      ]
    },
    {
      "cell_type": "code",
      "source": [
        "dataset_orangesum"
      ],
      "metadata": {
        "colab": {
          "base_uri": "https://localhost:8080/"
        },
        "id": "AZeH0NBxFdzG",
        "outputId": "1e8cc719-56a1-47e8-db35-949a6d8b7b15"
      },
      "execution_count": 7,
      "outputs": [
        {
          "output_type": "execute_result",
          "data": {
            "text/plain": [
              "DatasetDict({\n",
              "    train: Dataset({\n",
              "        features: ['gem_id', 'input', 'target', 'references'],\n",
              "        num_rows: 21401\n",
              "    })\n",
              "    test: Dataset({\n",
              "        features: ['gem_id', 'input', 'target', 'references'],\n",
              "        num_rows: 1500\n",
              "    })\n",
              "    validation: Dataset({\n",
              "        features: ['gem_id', 'input', 'target', 'references'],\n",
              "        num_rows: 1500\n",
              "    })\n",
              "})"
            ]
          },
          "metadata": {},
          "execution_count": 7
        }
      ]
    },
    {
      "cell_type": "code",
      "source": [
        "dataset_orangesum['train'][1]"
      ],
      "metadata": {
        "colab": {
          "base_uri": "https://localhost:8080/"
        },
        "id": "HADZxoBrF1F-",
        "outputId": "0994fac2-2742-4844-c12d-20e9c4841c19"
      },
      "execution_count": 8,
      "outputs": [
        {
          "output_type": "execute_result",
          "data": {
            "text/plain": [
              "{'gem_id': 'OrangeSum_abstract-train-1',\n",
              " 'input': 'C\\'est désormais officiel : Alain Juppé n\\'est plus membre des Républicains. L\\'ex-Premier ministre de Jacques Chirac, cofondateur de l\\'UMP en 2002, ne paie plus sa cotisation auprès du parti de droite. Mercredi 9 janvier, le maire de Bordeaux a dénoncé un glissement qui s\\'opère, selon lui, de la droite vers l\\'extême droite. \"Je me reconnais de moins en moins dans cette famille politique, à laquelle je suis pourtant très attaché (...). C\\'est avec tristesse que je l\\'ai quittée, mais il y a une dérive vers des thèses qui sont celles très proches de l\\'extrême droite, et une ambiguïté sur l\\'Europe\", a-t-il déclaré face aux journalistes, réunis pour assister à ses voeux. \"On assiste à cette espèce de transfusion régulière, et sur les thèmes de fond, il y a des moments où je me demande qui j\\'entends à la radio ? Un membre de LR ou du RN ?\", a insisté le maire de Bordeaux. Le même jour, l\\'ex-député Thierry Mariani annonçait son départ de LR pour rallier une liste du Rassemblement national aux européennes de mai prochain. \"Cela fait deux ans que j\\'ai dit que je prenais mes distances avec Les Républicains. Les choses sont acquises depuis bien longtemps\", a tranché Alain Juppé. L\\'ancien candidat à la primaire de la droite pour la présidentielle de 2017 n\\'a jamais fait mystère de son désaccord avec les positions du président des Républicains, Laurent Wauquiez.\\n',\n",
              " 'references': [\"Le maire de Bordeaux ne fait plus partie des Républicains et il tient à le montrer. Lors de ses voeux à la presse, l'édile a pris ses distances avec sa famille politique historique, qu'il trouve trop proche de Marine Le Pen.\\n\"],\n",
              " 'target': \"Le maire de Bordeaux ne fait plus partie des Républicains et il tient à le montrer. Lors de ses voeux à la presse, l'édile a pris ses distances avec sa famille politique historique, qu'il trouve trop proche de Marine Le Pen.\\n\"}"
            ]
          },
          "metadata": {},
          "execution_count": 8
        }
      ]
    },
    {
      "cell_type": "code",
      "source": [
        "# dataset_xlsum"
      ],
      "metadata": {
        "id": "9WcKexq3G6L0"
      },
      "execution_count": 9,
      "outputs": []
    },
    {
      "cell_type": "code",
      "source": [
        "# dataset_xlsum['train'][1]"
      ],
      "metadata": {
        "id": "tAJWNXCwG7hK"
      },
      "execution_count": 10,
      "outputs": []
    },
    {
      "cell_type": "code",
      "source": [
        "# dataset_mlsum"
      ],
      "metadata": {
        "id": "x7SyqWi7G-SC"
      },
      "execution_count": 11,
      "outputs": []
    },
    {
      "cell_type": "code",
      "source": [
        "# dataset_mlsum['train'][1]"
      ],
      "metadata": {
        "id": "0OiIdwyzHBLa"
      },
      "execution_count": 12,
      "outputs": []
    },
    {
      "cell_type": "markdown",
      "source": [
        "## Pre-processing, Tokenization & Embedding"
      ],
      "metadata": {
        "id": "62bDt-vDLKW8"
      }
    },
    {
      "cell_type": "markdown",
      "source": [
        "The first step is to pre-process by cleaning and tokenizing the given datasets, to create our DataLoaders. Here, we are dealing with articles and their summary, so we have the choice between using the sentence-level or the word-level. "
      ],
      "metadata": {
        "id": "42WozM3nyBQQ"
      }
    },
    {
      "cell_type": "code",
      "source": [
        "stop_words = stopwords.words('french')"
      ],
      "metadata": {
        "id": "lzdo7nUNhu9d"
      },
      "execution_count": 14,
      "outputs": []
    },
    {
      "cell_type": "code",
      "source": [
        "print('Examples of French stopwords :' , *stop_words[:20])"
      ],
      "metadata": {
        "colab": {
          "base_uri": "https://localhost:8080/"
        },
        "id": "9fParGjD_uet",
        "outputId": "e395a74f-1517-4144-ba52-1938af49834d"
      },
      "execution_count": 15,
      "outputs": [
        {
          "output_type": "stream",
          "name": "stdout",
          "text": [
            "Examples of French stopwords : au aux avec ce ces dans de des du elle en et eux il ils je la le les leur\n"
          ]
        }
      ]
    },
    {
      "cell_type": "markdown",
      "source": [
        "### Cleaning & Tokenization "
      ],
      "metadata": {
        "id": "wwBdE7A3u2zY"
      }
    },
    {
      "cell_type": "code",
      "source": [
        "def tokenize_clean_text (text, remove_stopwords=True, word_tokenizer = word_tokenize) : \n",
        "    \"\"\"\n",
        "    Tokenize and clean a given text\n",
        "    Input : \n",
        "      text : string containing the text to clean and tokenize\n",
        "      remove_stopwords : bool (default True) \n",
        "      word_tokenizer : tokenizer to use on words after tokenizing sentences\n",
        "    Output : \n",
        "      list of token's list \n",
        "    \"\"\"\n",
        "\n",
        "    # Sentence tokenizer : \n",
        "    sentences = sent_tokenize(text, language='french')\n",
        "\n",
        "    output = []\n",
        "    for sent in sentences : \n",
        "        # Clean of the sentence : removes ponctuation, and lower the sentence\n",
        "        clean_sent = re.sub(r'[^\\w\\s]','', sent.lower())\n",
        "\n",
        "        # Tokenization of the sentence : \n",
        "        tok_clean_sent = word_tokenizer(clean_sent, language='french')\n",
        "\n",
        "        # Removing of the stopwords :\n",
        "        if remove_stopwords :\n",
        "            tok_clean_sent = [w for w in tok_clean_sent if w not in stop_words]\n",
        "\n",
        "        # Append to the output :\n",
        "        output.append(tok_clean_sent)\n",
        "\n",
        "    return output"
      ],
      "metadata": {
        "id": "wCGtPvssTV1p"
      },
      "execution_count": 13,
      "outputs": []
    },
    {
      "cell_type": "markdown",
      "source": [
        "### Vocabulary & Embedding"
      ],
      "metadata": {
        "id": "6M-I9xOHusMD"
      }
    },
    {
      "cell_type": "markdown",
      "source": [
        "To model our text, we have to create a vocabulary, with a string-to-int (`stoi`) option. To have a better embedding for words than just using their index in the vocabulary, we can use pre-trained embeddings, which consists in Word-to-Vectors (Word2Vec) models. They assign to each word a vector, and are often pre-trained on a big corpus to try to model the studied language, that is to say to create vectors on which classical operations may have sense.\n",
        "\n",
        "The two following strategies are really similar :    \n",
        "  - in the first one, we build a vocabulary \"from scratch\", with the words that are within our corpus, and we use the pretrained embeddings to create a similarity matrix, by keeping the pre-trained vectors that interest us, that is to say that are in our built vocabulary\n",
        "  - in the second one, we directly use the pre-trained vocabulary of the chosen embeddings, so our words will then be assign to the same index as in the pre-trained vocabulary (and a certain number of words of it may not be used)."
      ],
      "metadata": {
        "id": "gj7oWzOSl0zK"
      }
    },
    {
      "cell_type": "code",
      "source": [
        "UNK_IDX, PAD_IDX, SOS_IDX, EOS_IDX = 0, 1, 2, 3\n",
        "special_symbols = ['<unk>', '<pad>', '<sos>', '<eos>']"
      ],
      "metadata": {
        "id": "kBBmvys4pFDu"
      },
      "execution_count": null,
      "outputs": []
    },
    {
      "cell_type": "markdown",
      "source": [
        "#### Chosen embeddings :"
      ],
      "metadata": {
        "id": "LP7RfPfDn9fp"
      }
    },
    {
      "cell_type": "code",
      "source": [
        "from torchtext.vocab import FastText, vocab"
      ],
      "metadata": {
        "id": "ErN7rPbOoA7m"
      },
      "execution_count": null,
      "outputs": []
    },
    {
      "cell_type": "code",
      "source": [
        "# Load of pretrained embeddings vectors :\n",
        "pretrained_vectors_fasttext = FastText(language='fr')"
      ],
      "metadata": {
        "id": "6gzDG6Nyod8U",
        "colab": {
          "base_uri": "https://localhost:8080/"
        },
        "outputId": "2bcd997b-2c07-4bdb-9f97-121c8fc5be2f"
      },
      "execution_count": null,
      "outputs": [
        {
          "output_type": "stream",
          "name": "stderr",
          "text": [
            ".vector_cache/wiki.fr.vec: 3.03GB [01:03, 47.3MB/s]                            \n",
            "  0%|          | 0/1152449 [00:00<?, ?it/s]Skipping token b'1152449' with 1-dimensional vector [b'300']; likely a header\n",
            "100%|██████████| 1152449/1152449 [02:37<00:00, 7321.14it/s]\n"
          ]
        }
      ]
    },
    {
      "cell_type": "code",
      "source": [
        "print(f'The pre-trained vocabulary contains {pretrained_vectors_fasttext.vectors.shape[0]} words, with embeddings in vectors of size {pretrained_vectors_fasttext.vectors.shape[1]}')"
      ],
      "metadata": {
        "colab": {
          "base_uri": "https://localhost:8080/"
        },
        "id": "kpKYZFYHon72",
        "outputId": "8887afc3-386e-4c2d-c901-e112da39c965"
      },
      "execution_count": null,
      "outputs": [
        {
          "output_type": "stream",
          "name": "stdout",
          "text": [
            "The pre-trained vocabulary contains 1152449 words, with embeddings in vectors of size 300\n"
          ]
        }
      ]
    },
    {
      "cell_type": "code",
      "source": [
        ""
      ],
      "metadata": {
        "id": "tn2WJwH9qthZ"
      },
      "execution_count": null,
      "outputs": []
    },
    {
      "cell_type": "markdown",
      "source": [
        "#### Vocabulary built from scratch & corresponding embedding matrix:"
      ],
      "metadata": {
        "id": "OwW8Uxd5locn"
      }
    },
    {
      "cell_type": "code",
      "source": [
        "def vocab_update (corpus, text_features='input', vocabulary=None, remove_stopwords=True, word_tokenizer = word_tokenize, threshold=5) :\n",
        "    \"\"\"\n",
        "    Update a given vocabulary or Create a new one, with the words of a given corpus of texts\n",
        "    Inputs :\n",
        "      - corpus : Dataset\n",
        "      - text_features : name of the features in the dataset that contains text\n",
        "      - vocabulary : dict or None, containing keys : 'stoi', 'counts' and 'nbwords'\n",
        "      - remove_stopwords : bool\n",
        "      - threshold : if set to an int value, remove from the vocabulary words with counts < threshold\n",
        "\n",
        "    !!! Output a vocabulary is useful for the case of creating a vocabulary, \n",
        "    but the function also directly modify the input vocabulary if given\n",
        "    \"\"\" \n",
        "    if vocabulary is None :\n",
        "        # Create empty vocabulary :\n",
        "        vocabulary = {'stoi': {}, 'counts': {}, 'nbwords': 0}\n",
        "        # Add special symbols : \n",
        "        for t in special_symbols: \n",
        "            vocabulary['stoi'][t] = vocabulary['nbwords']\n",
        "            vocabulary['counts'][t] = 1\n",
        "            vocabulary['nbwords'] += 1\n",
        "\n",
        "    # Update vocabulary :\n",
        "    for document in tqdm(corpus) : \n",
        "        tokens = tokenize_clean_text(document[text_features], remove_stopwords=remove_stopwords, word_tokenizer=word_tokenizer)\n",
        "        for sentence in tokens :\n",
        "            for token in sentence : \n",
        "                if token not in vocabulary['stoi'].keys() :\n",
        "                    vocabulary['stoi'][token] = vocabulary['nbwords']\n",
        "                    vocabulary['nbwords'] += 1\n",
        "                    vocabulary['counts'][token] =1\n",
        "                else : \n",
        "                    vocabulary['counts'][token] +=1\n",
        "\n",
        "    # Remove from vocabulary words with count <= threshold : \n",
        "    if threshold is not None :\n",
        "        vocabulary_cleaned = {'stoi': {}, 'counts': {}, 'nbwords': 0}\n",
        "        for k, v in vocabulary['counts'].items() : \n",
        "            if (k in special_symbols) or (v>threshold) :\n",
        "                vocabulary_cleaned['stoi'][k] = vocabulary_cleaned['nbwords']\n",
        "                vocabulary_cleaned['nbwords'] += 1\n",
        "                vocabulary_cleaned['counts'][k] = vocabulary['counts'][k]\n",
        "        print(f\"Number of words removed due to the threshold : {vocabulary['nbwords']-vocabulary_cleaned['nbwords']}, ie {(vocabulary['nbwords']-vocabulary_cleaned['nbwords'])*100/vocabulary['nbwords']:.2f}% of the initial vocabulary\")\n",
        "        vocabulary = vocabulary_cleaned\n",
        "\n",
        "    # itos creation : \n",
        "    vocabulary['itos'] = {v : k for k,v in vocabulary['stoi'].items()}\n",
        "\n",
        "    return vocabulary"
      ],
      "metadata": {
        "id": "LWX38F21uvy1"
      },
      "execution_count": null,
      "outputs": []
    },
    {
      "cell_type": "code",
      "source": [
        "vocabulary_orangesum = vocab_update(dataset_orangesum['train'], text_features='input', threshold = 4)"
      ],
      "metadata": {
        "colab": {
          "base_uri": "https://localhost:8080/",
          "height": 86,
          "referenced_widgets": [
            "fcaf3663ceef49f18aad323dbc9e8894",
            "8eeb8f3270c1477495dc389e100d411e",
            "2d0ab02f189a43e69917ffa268f9f379",
            "6fd72ac6329e4c818cc06cde4c42079b",
            "65af8b91bdbf4c8abc684bed00e27e3b",
            "b08b0d92dec44818ab5005dc2c78eccc",
            "64f3bf55fe2b49adb6254eba7ac636d8",
            "88312c837b41486eb9e49cee5961382c",
            "2b1c19fbfaf844b7a7879c26ce46a87c",
            "fe29a45ffb1e48df954d13939f563a38",
            "cec78bd01c0f4d0e8166b92cda30927a"
          ]
        },
        "id": "nTGbg7BEwN24",
        "outputId": "8683fe74-9411-4c2a-c1e7-09f41935208d"
      },
      "execution_count": null,
      "outputs": [
        {
          "output_type": "display_data",
          "data": {
            "text/plain": [
              "  0%|          | 0/21401 [00:00<?, ?it/s]"
            ],
            "application/vnd.jupyter.widget-view+json": {
              "version_major": 2,
              "version_minor": 0,
              "model_id": "fcaf3663ceef49f18aad323dbc9e8894"
            }
          },
          "metadata": {}
        },
        {
          "output_type": "stream",
          "name": "stdout",
          "text": [
            "Number of words removed due to the threshold : 144500, ie 76.83% of the initial vocabulary\n"
          ]
        }
      ]
    },
    {
      "cell_type": "code",
      "source": [
        "print(f\"Number of words kept in OrangeSum (training-text) vocabulary : {vocabulary_orangesum['nbwords']}\")"
      ],
      "metadata": {
        "colab": {
          "base_uri": "https://localhost:8080/"
        },
        "id": "G9oFwDMYyHlw",
        "outputId": "cd38f851-3b54-4911-822a-02ba53fc864d"
      },
      "execution_count": null,
      "outputs": [
        {
          "output_type": "stream",
          "name": "stdout",
          "text": [
            "Number of words kept in OrangeSum (training-text) vocabulary : 43584\n"
          ]
        }
      ]
    },
    {
      "cell_type": "code",
      "source": [
        "def create_embedding_matrix (vocabulary, pretrained_vectors) : \n",
        "    \"\"\"\n",
        "    Build an embedding matrix (tensor format) from a given vocabulary, using the embedding vectors \n",
        "    contains in pretrained_vectors.\n",
        "    Note that all words present in vocabulary but not in pretrained_vectors will be assigned\n",
        "    a random embedding in Uniform([-1,1]), and their number will be printed at the end of the execution.\n",
        "    \"\"\"\n",
        "    nb_words, embedding_dim = vocabulary['nbwords'], pretrained_vectors.vectors.shape[1]\n",
        "    pretrained_vectors_words = pretrained_vectors.stoi.keys()\n",
        "\n",
        "    # Creation of embedding matrix and counter for missing words :\n",
        "    word_embedding_matrix = torch.zeros((nb_words, embedding_dim))\n",
        "    nb_missing_words = 0\n",
        "\n",
        "    # Completion of embedding matrix :\n",
        "    for word, i in vocabulary['stoi'].items() :\n",
        "        if word in pretrained_vectors_words:\n",
        "            word_index = pretrained_vectors.stoi[word]\n",
        "            word_embedding_matrix[i] = pretrained_vectors.vectors[word_index]\n",
        "        else:\n",
        "            # If word not in pretrained_vectors, create a random embedding :\n",
        "            new_embedding = torch.zeros(embedding_dim).uniform_(-1,1) \n",
        "            word_embedding_matrix[i] = new_embedding\n",
        "            nb_missing_words += 1\n",
        "\n",
        "    print(f'Random new embeddings were created for {nb_missing_words} words, ie {nb_missing_words*100/nb_words:.2f}% of the vocabulary')\n",
        "\n",
        "    return word_embedding_matrix"
      ],
      "metadata": {
        "id": "x2VtLnnbpZd6"
      },
      "execution_count": null,
      "outputs": []
    },
    {
      "cell_type": "code",
      "source": [
        "embedding_matrix_orangesum = create_embedding_matrix(vocabulary_orangesum, pretrained_vectors_fasttext)"
      ],
      "metadata": {
        "colab": {
          "base_uri": "https://localhost:8080/"
        },
        "id": "eW32C9PZuCA8",
        "outputId": "34db5e38-28c5-4745-cf14-7bb1fc73d837"
      },
      "execution_count": null,
      "outputs": [
        {
          "output_type": "stream",
          "name": "stdout",
          "text": [
            "Random new embeddings were created for 7913 words, ie 18.16% of the vocabulary\n"
          ]
        }
      ]
    },
    {
      "cell_type": "code",
      "source": [
        "embedding_matrix_orangesum.shape"
      ],
      "metadata": {
        "colab": {
          "base_uri": "https://localhost:8080/"
        },
        "id": "lyuJYOeHuXk6",
        "outputId": "87e53a9c-70d7-45ec-81e8-802fef641ebe"
      },
      "execution_count": null,
      "outputs": [
        {
          "output_type": "execute_result",
          "data": {
            "text/plain": [
              "torch.Size([43584, 300])"
            ]
          },
          "metadata": {},
          "execution_count": 24
        }
      ]
    },
    {
      "cell_type": "markdown",
      "source": [
        "#### Pre-trained vocabulary & embeddings : "
      ],
      "metadata": {
        "id": "L-pqnL0UljN7"
      }
    },
    {
      "cell_type": "code",
      "source": [
        "# Creation of the pre-trained vocabulary :\n",
        "pretrained_vocab_fasttext = vocab(pretrained_vectors_fasttext.stoi, min_freq=0)\n",
        "\n",
        "# We add our special symbols : \n",
        "for symbol_index, symbol in enumerate(special_symbols) : \n",
        "    pretrained_vocab_fasttext.insert_token(symbol, symbol_index)\n",
        "pretrained_vocab_fasttext.set_default_index(UNK_IDX)"
      ],
      "metadata": {
        "id": "4nK8glqtpJNd"
      },
      "execution_count": null,
      "outputs": []
    },
    {
      "cell_type": "code",
      "source": [
        "# Store embeddings in a tensor :\n",
        "pretrained_embeddings_fasttext = pretrained_vectors_fasttext.vectors\n",
        "pretrained_embeddings_fasttext = torch.cat((torch.zeros(4,pretrained_embeddings_fasttext.shape[1]),pretrained_embeddings_fasttext))\n",
        "pretrained_embeddings_fasttext.size()"
      ],
      "metadata": {
        "id": "pY9Rrhj2qvVu",
        "colab": {
          "base_uri": "https://localhost:8080/"
        },
        "outputId": "9ff7603d-fcdc-4ece-96ce-cc71bd995678"
      },
      "execution_count": null,
      "outputs": [
        {
          "output_type": "execute_result",
          "data": {
            "text/plain": [
              "torch.Size([1152453, 300])"
            ]
          },
          "metadata": {},
          "execution_count": 18
        }
      ]
    },
    {
      "cell_type": "code",
      "source": [
        ""
      ],
      "metadata": {
        "id": "4HrRp9p4lihd"
      },
      "execution_count": null,
      "outputs": []
    },
    {
      "cell_type": "markdown",
      "source": [
        "### Padding & Numericalization "
      ],
      "metadata": {
        "id": "6ecFdQBKQeWQ"
      }
    },
    {
      "cell_type": "code",
      "source": [
        "def clean_tokenize_pad_numericalize_word(text, vocabulary_stoi, max_length=1000, remove_stopwords=True, word_tokenizer=word_tokenize) :\n",
        "    \"\"\"\n",
        "    Apply the cleanning and tokenizing previously refined function,\n",
        "    and then numericalize the text, by attributing to each word its indice in \n",
        "    a given vocabulary. \n",
        "    With max_length=int, we pad the text in max_length words.\n",
        "    \"\"\"\n",
        "\n",
        "    tokens = tokenize_clean_text(text, remove_stopwords=remove_stopwords, word_tokenizer=word_tokenizer)\n",
        "\n",
        "    result = [vocabulary_stoi['<sos>']]\n",
        "    \n",
        "    # Numericalize and pad words, disregarding sequence structure :\n",
        "    for sequence in tokens :\n",
        "        for token in sequence : \n",
        "            result.append(vocabulary_stoi[token] if token in vocabulary_stoi.keys() else vocabulary_stoi['<unk>'])\n",
        "            if len(result) >= max_length : \n",
        "                break\n",
        "\n",
        "    # Pad text : \n",
        "    m = len(result)\n",
        "    if m < max_length-1 : \n",
        "        for i in range(m, max_length-1) : \n",
        "            result.append(vocabulary_stoi['<pad>'])\n",
        "    elif m > max_length-1 : \n",
        "        result = result[:max_length-1]\n",
        "\n",
        "    # Add eos token : \n",
        "    result.append(vocabulary_stoi['<eos>'])\n",
        "\n",
        "    return result"
      ],
      "metadata": {
        "id": "8KOLhda9RVZz"
      },
      "execution_count": null,
      "outputs": []
    },
    {
      "cell_type": "markdown",
      "source": [
        "### Dataloader's creation"
      ],
      "metadata": {
        "id": "kkWwez8FTKs2"
      }
    },
    {
      "cell_type": "markdown",
      "source": [
        "*This part aims at creating dataloaders, that we mainly used in our tests of abstractive models' implementation, left as draft at the end of the notebook. This part may then be obsolet or really few used after (dataframe format mainly prefered instead).*"
      ],
      "metadata": {
        "id": "pYHPFgGBlES-"
      }
    },
    {
      "cell_type": "markdown",
      "source": [
        "Here, in our dataloader's creation, we will use two different vocabularies built 'from scratch' :     \n",
        "  - for the texts, we use a vocabulary constructed on the training texts, removing stop words that will not be useful for our encoders, their goal being to understand the most important informations of an article. We limit the text length to $1000$ word, based on descriptive statistics section.\n",
        "  - for the summaries, we use a vocabulary constructed on the training summaries, but keeping stop words, as the goal of our decoders will be to be abble to generate sentences understandables by humans, so all the words should be kept. We limit the text length to $100$ word, based on descriptive statistics section. "
      ],
      "metadata": {
        "id": "NhhgQZgMMpMk"
      }
    },
    {
      "cell_type": "code",
      "source": [
        "def pre_processing_all (entries, vocab_text_stoi, vocab_summary_stoi, text_features='input', summary_features='target', word_tokenizer=word_tokenize) : \n",
        "    \"\"\"\n",
        "    !!! In this function, stopwords are removed only for text column\n",
        "    \"\"\"\n",
        "    pre_processed = {}\n",
        "    pre_processed[text_features] = [clean_tokenize_pad_numericalize_word(entry, vocab_text_stoi, max_length=600, remove_stopwords=True) for entry in entries[text_features]]\n",
        "    pre_processed[summary_features] = [clean_tokenize_pad_numericalize_word(entry, vocab_summary_stoi, max_length=60, remove_stopwords=False) for entry in entries[summary_features]]\n",
        "    return pre_processed"
      ],
      "metadata": {
        "id": "YZV5su1aTKIV"
      },
      "execution_count": null,
      "outputs": []
    },
    {
      "cell_type": "code",
      "source": [
        "# Use a vocabulary different for summaries, keeping stopwords :\n",
        "\n",
        "vocabulary_orangesum_summary = vocab_update(dataset_orangesum['train'], text_features='target', remove_stopwords=False, threshold=1)"
      ],
      "metadata": {
        "colab": {
          "base_uri": "https://localhost:8080/",
          "height": 86,
          "referenced_widgets": [
            "ba917bcc875341fca86b2fc9160e8078",
            "3d09a8b9ba874ef5bdd8ba6d78b2c92e",
            "23f6dc94a7d444ebb86b6540377d5987",
            "5ad30d5b16994f0f89613daacc564123",
            "87de53e251a5442e9b1168f204b44967",
            "d79fdd48531447148a9a9a916f27ab01",
            "e71d5e9f1c6b453ab592c8374a7e6ac3",
            "81e175d3943e4a079571453cc7faf82c",
            "bd89a4e0e62d469ebaadf4b925d245a9",
            "fb651af4c23748ffadcbd355fa3ed35c",
            "b5b22cac06e74e6eb735c934943c8cae"
          ]
        },
        "id": "IH621KTtWVop",
        "outputId": "ea979893-5589-4d83-dc79-c8acf1d64687"
      },
      "execution_count": null,
      "outputs": [
        {
          "output_type": "display_data",
          "data": {
            "text/plain": [
              "  0%|          | 0/21401 [00:00<?, ?it/s]"
            ],
            "application/vnd.jupyter.widget-view+json": {
              "version_major": 2,
              "version_minor": 0,
              "model_id": "ba917bcc875341fca86b2fc9160e8078"
            }
          },
          "metadata": {}
        },
        {
          "output_type": "stream",
          "name": "stdout",
          "text": [
            "Number of words removed due to the threshold : 17679, ie 45.85% of the initial vocabulary\n"
          ]
        }
      ]
    },
    {
      "cell_type": "code",
      "source": [
        "# Clean, tokenize, numericalize, pad the dataset :\n",
        "\n",
        "dataset_orangesum_preprocessed = dataset_orangesum.copy()\n",
        "dataset_orangesum_preprocessed['train'] = dataset_orangesum['train'].map(lambda e: pre_processing_all(e, vocab_text_stoi=vocabulary_orangesum['stoi'], vocab_summary_stoi=vocabulary_orangesum_summary['stoi']), batched=True)\n",
        "dataset_orangesum_preprocessed['validation'] = dataset_orangesum['validation'].map(lambda e: pre_processing_all(e, vocab_text_stoi=vocabulary_orangesum['stoi'], vocab_summary_stoi=vocabulary_orangesum_summary['stoi']), batched=True)\n",
        "dataset_orangesum_preprocessed['test'] = dataset_orangesum['test'].map(lambda e: pre_processing_all(e, vocab_text_stoi=vocabulary_orangesum['stoi'], vocab_summary_stoi=vocabulary_orangesum_summary['stoi']), batched=True)"
      ],
      "metadata": {
        "colab": {
          "base_uri": "https://localhost:8080/",
          "height": 113,
          "referenced_widgets": [
            "70f7819504d14c98a3ea6359985a67de",
            "0e0eb32533ff4193bc2f38479a43a1f2",
            "37a03e91f8b64c5191a727eb247a8943",
            "0eed37a61ed54a27919ac2482d264600",
            "67fddf793c7f427285e66f745abcd50e",
            "e813fdb19c524928990eca6c3ff25602",
            "f0e686c45e9c4b018f94101b751615e9",
            "72472591fc9d4fc7b89a68da52ef34be",
            "fc6eaac25325430a97cfb2bd7040a5ef",
            "ae0cec64b4854d1b9b50b849d49ea11a",
            "e143b3f87b0a4d3696516c9c12a716d6",
            "5e604677c48b4f7392b753f0132f27c4",
            "a8e7b69d3ad648b5b7b573d38732ee15",
            "595a45e5bbf74757b1e4b8534687ce93",
            "a29339335a44478a9d7828ed69a90f49",
            "e57b549a41db4337bf8807f86b2e76de",
            "2d79e86b5d0c40c38ec8d677823a988e",
            "6b5770c725d3413c954838b11c40cc07",
            "35b01474469c431f8411a2f4ee68142c",
            "5a03e7706d4d4b2a805d1648d0ddb63a",
            "2dc16eae492146458d2b38b01a12e569",
            "7fa369269953416f9054ba76a761d659",
            "3aca531ecc624849b397efa9c7fe357d",
            "23052752707b4136b850dd7cadeccbcb",
            "c01a3d3306234fb5889164e688f8b79f",
            "0002a948b5fa4449b21c92b616e4b9fe",
            "a6af01691ce2424f885f4b7d5fbc6046",
            "696cd30e47044dd4b2fd8f8c94b51d89",
            "d8c4edf14d174681806a7f265f070904",
            "59a8bface3ed4399b767891746fe6735",
            "94fab587109b42ef856cb8d7f7f3451e",
            "4af65609c0b84c5895d218b160de23a2",
            "d6ee4cfdd4fe42919c0013936d226402"
          ]
        },
        "id": "by6TqjfnV9xA",
        "outputId": "9ad3bbdf-79a6-4c41-9994-693cee9051cf"
      },
      "execution_count": null,
      "outputs": [
        {
          "output_type": "display_data",
          "data": {
            "text/plain": [
              "  0%|          | 0/22 [00:00<?, ?ba/s]"
            ],
            "application/vnd.jupyter.widget-view+json": {
              "version_major": 2,
              "version_minor": 0,
              "model_id": "70f7819504d14c98a3ea6359985a67de"
            }
          },
          "metadata": {}
        },
        {
          "output_type": "display_data",
          "data": {
            "text/plain": [
              "  0%|          | 0/2 [00:00<?, ?ba/s]"
            ],
            "application/vnd.jupyter.widget-view+json": {
              "version_major": 2,
              "version_minor": 0,
              "model_id": "5e604677c48b4f7392b753f0132f27c4"
            }
          },
          "metadata": {}
        },
        {
          "output_type": "display_data",
          "data": {
            "text/plain": [
              "  0%|          | 0/2 [00:00<?, ?ba/s]"
            ],
            "application/vnd.jupyter.widget-view+json": {
              "version_major": 2,
              "version_minor": 0,
              "model_id": "3aca531ecc624849b397efa9c7fe357d"
            }
          },
          "metadata": {}
        }
      ]
    },
    {
      "cell_type": "code",
      "source": [
        "class NewsDataset(Dataset):\n",
        "    def __init__(self, data, text_features='input', summary_features='target'):\n",
        "      self.text_features = text_features\n",
        "      self.summary_features = summary_features\n",
        "      self.data = data\n",
        "\n",
        "    def __len__(self):\n",
        "      return len(self.data)\n",
        "    \n",
        "    def __getitem__(self, idx):\n",
        "      item = {\n",
        "          \"text\": np.array(self.data[idx][self.text_features]),\n",
        "          \"summary\": np.array(self.data[idx][self.summary_features]) \n",
        "      }\n",
        "      return item"
      ],
      "metadata": {
        "id": "b8duwlK9urym"
      },
      "execution_count": null,
      "outputs": []
    },
    {
      "cell_type": "code",
      "source": [
        "batch_size = 1\n",
        "\n",
        "orangesum_train_loader = DataLoader(NewsDataset(data = dataset_orangesum_preprocessed['train']), batch_size=batch_size, shuffle=True, drop_last=True)\n",
        "orangesum_test_loader = DataLoader(NewsDataset(data = dataset_orangesum_preprocessed['test']), batch_size=batch_size, shuffle=True, drop_last=True)\n",
        "orangesum_validation_loader = DataLoader(NewsDataset(data = dataset_orangesum_preprocessed['validation']), batch_size=batch_size, shuffle=True, drop_last=True)"
      ],
      "metadata": {
        "id": "sKhgcePxZGtE"
      },
      "execution_count": null,
      "outputs": []
    },
    {
      "cell_type": "code",
      "source": [
        "# a = next(iter(orangesum_train_loader))\n",
        "# a['summary'].shape  # --->   torch.Size([batch_size, 60])\n",
        "# a['text'].shape     # --->   torch.Size([batch_size, 600])"
      ],
      "metadata": {
        "id": "1cihTUOoZimV"
      },
      "execution_count": null,
      "outputs": []
    },
    {
      "cell_type": "markdown",
      "source": [
        "## Descriptive Statistics\n"
      ],
      "metadata": {
        "id": "IZ7pL0agJ57J"
      }
    },
    {
      "cell_type": "markdown",
      "source": [
        "In this section, we will try to provide revelant descriptive statistics, mainly of the OrangeSum dataset (our functions can easily be used on other datasets). We will describe the sentence and text lengths, but also their content in terms of vocabulary (word distribution, ...) and topic. \n",
        "\n",
        "Note that **this section is quasi independant** of what was done previously, above all in term of cleaning, tokenization, ect. In this section, we will mainly just use a simple sentence and word tokenizer, using `sent_tokenize` and `word_tokenize` from `nltk.tokenize`."
      ],
      "metadata": {
        "id": "6dBrG3a7ZGwN"
      }
    },
    {
      "cell_type": "code",
      "source": [
        "df_orangesum_train = dataset_orangesum['train'].to_pandas()\n",
        "# df_mlsum_train = dataset_mlsum['train'].to_pandas()\n",
        "# df_xlsum_train = dataset_xlsum['train'].to_pandas()"
      ],
      "metadata": {
        "id": "Oc39NYWbRpkN"
      },
      "execution_count": null,
      "outputs": []
    },
    {
      "cell_type": "code",
      "source": [
        "df_orangesum_train.rename(columns={'input' : 'text', 'target' : 'abstract'}, inplace=True)\n",
        "df_orangesum_train.head()"
      ],
      "metadata": {
        "colab": {
          "base_uri": "https://localhost:8080/",
          "height": 415
        },
        "id": "0JRc55xPST1g",
        "outputId": "63f87ee8-304c-404e-a682-f3f06b18311d"
      },
      "execution_count": null,
      "outputs": [
        {
          "output_type": "execute_result",
          "data": {
            "text/plain": [
              "                       gem_id  \\\n",
              "0  OrangeSum_abstract-train-0   \n",
              "1  OrangeSum_abstract-train-1   \n",
              "2  OrangeSum_abstract-train-2   \n",
              "3  OrangeSum_abstract-train-3   \n",
              "4  OrangeSum_abstract-train-4   \n",
              "\n",
              "                                                text  \\\n",
              "0  Thierry Mariani sur la liste du Rassemblement ...   \n",
              "1  C'est désormais officiel : Alain Juppé n'est p...   \n",
              "2  La mesure est décriée par les avocats et les m...   \n",
              "3  Dans une interview accordée au Figaro mercredi...   \n",
              "4  Le préjudice est estimé à 2 millions d'euros. ...   \n",
              "\n",
              "                                            abstract  \\\n",
              "0  L'information n'a pas été confirmée par l'inté...   \n",
              "1  Le maire de Bordeaux ne fait plus partie des R...   \n",
              "2  En 2020, les tribunaux d'instance fusionnent a...   \n",
              "3  Les médecins jugés \"gros prescripteurs d'arrêt...   \n",
              "4  Il aura fallu mobiliser 90 gendarmes pour cett...   \n",
              "\n",
              "                                          references  \n",
              "0  [L'information n'a pas été confirmée par l'int...  \n",
              "1  [Le maire de Bordeaux ne fait plus partie des ...  \n",
              "2  [En 2020, les tribunaux d'instance fusionnent ...  \n",
              "3  [Les médecins jugés \"gros prescripteurs d'arrê...  \n",
              "4  [Il aura fallu mobiliser 90 gendarmes pour cet...  "
            ],
            "text/html": [
              "\n",
              "  <div id=\"df-4410a2a1-f1a8-4993-b86d-cb2cc42fadbd\">\n",
              "    <div class=\"colab-df-container\">\n",
              "      <div>\n",
              "<style scoped>\n",
              "    .dataframe tbody tr th:only-of-type {\n",
              "        vertical-align: middle;\n",
              "    }\n",
              "\n",
              "    .dataframe tbody tr th {\n",
              "        vertical-align: top;\n",
              "    }\n",
              "\n",
              "    .dataframe thead th {\n",
              "        text-align: right;\n",
              "    }\n",
              "</style>\n",
              "<table border=\"1\" class=\"dataframe\">\n",
              "  <thead>\n",
              "    <tr style=\"text-align: right;\">\n",
              "      <th></th>\n",
              "      <th>gem_id</th>\n",
              "      <th>text</th>\n",
              "      <th>abstract</th>\n",
              "      <th>references</th>\n",
              "    </tr>\n",
              "  </thead>\n",
              "  <tbody>\n",
              "    <tr>\n",
              "      <th>0</th>\n",
              "      <td>OrangeSum_abstract-train-0</td>\n",
              "      <td>Thierry Mariani sur la liste du Rassemblement ...</td>\n",
              "      <td>L'information n'a pas été confirmée par l'inté...</td>\n",
              "      <td>[L'information n'a pas été confirmée par l'int...</td>\n",
              "    </tr>\n",
              "    <tr>\n",
              "      <th>1</th>\n",
              "      <td>OrangeSum_abstract-train-1</td>\n",
              "      <td>C'est désormais officiel : Alain Juppé n'est p...</td>\n",
              "      <td>Le maire de Bordeaux ne fait plus partie des R...</td>\n",
              "      <td>[Le maire de Bordeaux ne fait plus partie des ...</td>\n",
              "    </tr>\n",
              "    <tr>\n",
              "      <th>2</th>\n",
              "      <td>OrangeSum_abstract-train-2</td>\n",
              "      <td>La mesure est décriée par les avocats et les m...</td>\n",
              "      <td>En 2020, les tribunaux d'instance fusionnent a...</td>\n",
              "      <td>[En 2020, les tribunaux d'instance fusionnent ...</td>\n",
              "    </tr>\n",
              "    <tr>\n",
              "      <th>3</th>\n",
              "      <td>OrangeSum_abstract-train-3</td>\n",
              "      <td>Dans une interview accordée au Figaro mercredi...</td>\n",
              "      <td>Les médecins jugés \"gros prescripteurs d'arrêt...</td>\n",
              "      <td>[Les médecins jugés \"gros prescripteurs d'arrê...</td>\n",
              "    </tr>\n",
              "    <tr>\n",
              "      <th>4</th>\n",
              "      <td>OrangeSum_abstract-train-4</td>\n",
              "      <td>Le préjudice est estimé à 2 millions d'euros. ...</td>\n",
              "      <td>Il aura fallu mobiliser 90 gendarmes pour cett...</td>\n",
              "      <td>[Il aura fallu mobiliser 90 gendarmes pour cet...</td>\n",
              "    </tr>\n",
              "  </tbody>\n",
              "</table>\n",
              "</div>\n",
              "      <button class=\"colab-df-convert\" onclick=\"convertToInteractive('df-4410a2a1-f1a8-4993-b86d-cb2cc42fadbd')\"\n",
              "              title=\"Convert this dataframe to an interactive table.\"\n",
              "              style=\"display:none;\">\n",
              "        \n",
              "  <svg xmlns=\"http://www.w3.org/2000/svg\" height=\"24px\"viewBox=\"0 0 24 24\"\n",
              "       width=\"24px\">\n",
              "    <path d=\"M0 0h24v24H0V0z\" fill=\"none\"/>\n",
              "    <path d=\"M18.56 5.44l.94 2.06.94-2.06 2.06-.94-2.06-.94-.94-2.06-.94 2.06-2.06.94zm-11 1L8.5 8.5l.94-2.06 2.06-.94-2.06-.94L8.5 2.5l-.94 2.06-2.06.94zm10 10l.94 2.06.94-2.06 2.06-.94-2.06-.94-.94-2.06-.94 2.06-2.06.94z\"/><path d=\"M17.41 7.96l-1.37-1.37c-.4-.4-.92-.59-1.43-.59-.52 0-1.04.2-1.43.59L10.3 9.45l-7.72 7.72c-.78.78-.78 2.05 0 2.83L4 21.41c.39.39.9.59 1.41.59.51 0 1.02-.2 1.41-.59l7.78-7.78 2.81-2.81c.8-.78.8-2.07 0-2.86zM5.41 20L4 18.59l7.72-7.72 1.47 1.35L5.41 20z\"/>\n",
              "  </svg>\n",
              "      </button>\n",
              "      \n",
              "  <style>\n",
              "    .colab-df-container {\n",
              "      display:flex;\n",
              "      flex-wrap:wrap;\n",
              "      gap: 12px;\n",
              "    }\n",
              "\n",
              "    .colab-df-convert {\n",
              "      background-color: #E8F0FE;\n",
              "      border: none;\n",
              "      border-radius: 50%;\n",
              "      cursor: pointer;\n",
              "      display: none;\n",
              "      fill: #1967D2;\n",
              "      height: 32px;\n",
              "      padding: 0 0 0 0;\n",
              "      width: 32px;\n",
              "    }\n",
              "\n",
              "    .colab-df-convert:hover {\n",
              "      background-color: #E2EBFA;\n",
              "      box-shadow: 0px 1px 2px rgba(60, 64, 67, 0.3), 0px 1px 3px 1px rgba(60, 64, 67, 0.15);\n",
              "      fill: #174EA6;\n",
              "    }\n",
              "\n",
              "    [theme=dark] .colab-df-convert {\n",
              "      background-color: #3B4455;\n",
              "      fill: #D2E3FC;\n",
              "    }\n",
              "\n",
              "    [theme=dark] .colab-df-convert:hover {\n",
              "      background-color: #434B5C;\n",
              "      box-shadow: 0px 1px 3px 1px rgba(0, 0, 0, 0.15);\n",
              "      filter: drop-shadow(0px 1px 2px rgba(0, 0, 0, 0.3));\n",
              "      fill: #FFFFFF;\n",
              "    }\n",
              "  </style>\n",
              "\n",
              "      <script>\n",
              "        const buttonEl =\n",
              "          document.querySelector('#df-4410a2a1-f1a8-4993-b86d-cb2cc42fadbd button.colab-df-convert');\n",
              "        buttonEl.style.display =\n",
              "          google.colab.kernel.accessAllowed ? 'block' : 'none';\n",
              "\n",
              "        async function convertToInteractive(key) {\n",
              "          const element = document.querySelector('#df-4410a2a1-f1a8-4993-b86d-cb2cc42fadbd');\n",
              "          const dataTable =\n",
              "            await google.colab.kernel.invokeFunction('convertToInteractive',\n",
              "                                                     [key], {});\n",
              "          if (!dataTable) return;\n",
              "\n",
              "          const docLinkHtml = 'Like what you see? Visit the ' +\n",
              "            '<a target=\"_blank\" href=https://colab.research.google.com/notebooks/data_table.ipynb>data table notebook</a>'\n",
              "            + ' to learn more about interactive tables.';\n",
              "          element.innerHTML = '';\n",
              "          dataTable['output_type'] = 'display_data';\n",
              "          await google.colab.output.renderOutput(dataTable, element);\n",
              "          const docLink = document.createElement('div');\n",
              "          docLink.innerHTML = docLinkHtml;\n",
              "          element.appendChild(docLink);\n",
              "        }\n",
              "      </script>\n",
              "    </div>\n",
              "  </div>\n",
              "  "
            ]
          },
          "metadata": {},
          "execution_count": 26
        }
      ]
    },
    {
      "cell_type": "code",
      "source": [
        "print('Number of articles :', len(df_orangesum_train))"
      ],
      "metadata": {
        "colab": {
          "base_uri": "https://localhost:8080/"
        },
        "id": "L7F8Xe6U-Xdb",
        "outputId": "f27a855b-652a-48bf-b72b-44d28374b847"
      },
      "execution_count": null,
      "outputs": [
        {
          "output_type": "stream",
          "name": "stdout",
          "text": [
            "Number of articles : 21401\n"
          ]
        }
      ]
    },
    {
      "cell_type": "markdown",
      "source": [
        "### Sentence & document structure :"
      ],
      "metadata": {
        "id": "cLznQgJmY0Lw"
      }
    },
    {
      "cell_type": "markdown",
      "source": [
        "Let start by analyzing the structure of our articles : number of sequances, number of words and number of words per sentences."
      ],
      "metadata": {
        "id": "-TyfUCdy4KLB"
      }
    },
    {
      "cell_type": "code",
      "source": [
        "def stats_lengths (df, text_column='text') : \n",
        "    \"\"\"\n",
        "    Function that realizes statistics of length on df[text_column], by plotting \n",
        "    the number of sentences and the number of word per article, \n",
        "    and the number of word per sentence in the entire set\n",
        "    \"\"\" \n",
        "    # create an empty dataframe for our stats to not modify the input\n",
        "    n = len(df)\n",
        "    stats = pd.DataFrame({'idx':np.arange(n)})\n",
        "\n",
        "    # compute number of sentences and words in each text :\n",
        "    stats['nb_sentences'] = df[text_column].apply(lambda x : len(sent_tokenize(x, language='french')))\n",
        "    stats['nb_words'] = df[text_column].apply(lambda x : len(word_tokenize(x, language='french')))\n",
        "\n",
        "    # compute the number of word per sentence and concatenate in an array : \n",
        "    stats['nb_words_per_sentence'] = df[text_column].apply(lambda x : [len(word_tokenize(sent, language='french')) for sent in sent_tokenize(x, language='french')])\n",
        "    nb_words_per_sentence = np.concatenate(stats['nb_words_per_sentence'].to_numpy())\n",
        "\n",
        "    # Plot : \n",
        "    fig, ax = plt.subplots(1,3, figsize=(15,5))\n",
        "    sns.histplot(data=stats, x=\"nb_sentences\", ax=ax[0], stat='density')\n",
        "    ax[0].set_title('Nb of sentences per text')\n",
        "\n",
        "    sns.histplot(data=stats, x=\"nb_words\", ax=ax[1], stat='density')\n",
        "    ax[1].set_title('Nb of words per text')\n",
        "\n",
        "    sns.histplot(nb_words_per_sentence, ax=ax[2], stat='density')\n",
        "    ax[2].set_xlabel('nb_words_per_sentence')\n",
        "    ax[2].set_title('Nb of words per sentences \\n (on all corpus) ')\n",
        "\n",
        "    fig.suptitle(f'Statistics on column {text_column}')"
      ],
      "metadata": {
        "id": "MJQwaLJv9KGE"
      },
      "execution_count": null,
      "outputs": []
    },
    {
      "cell_type": "code",
      "source": [
        "stats_lengths(df_orangesum_train, text_column='text')"
      ],
      "metadata": {
        "colab": {
          "base_uri": "https://localhost:8080/",
          "height": 371
        },
        "id": "IjxY7qDPEhxe",
        "outputId": "24a60f1e-74bf-4215-8ab1-7b666088036e"
      },
      "execution_count": null,
      "outputs": [
        {
          "output_type": "display_data",
          "data": {
            "text/plain": [
              "<Figure size 1080x360 with 3 Axes>"
            ],
            "image/png": "[encoded data removed]"
          },
          "metadata": {}
        }
      ]
    },
    {
      "cell_type": "code",
      "source": [
        "stats_lengths(df_orangesum_train, text_column='abstract')"
      ],
      "metadata": {
        "colab": {
          "base_uri": "https://localhost:8080/",
          "height": 371
        },
        "id": "_EADcDCwETT-",
        "outputId": "78f6e0c0-4cde-4ddd-b6da-d62e56a3c74d"
      },
      "execution_count": null,
      "outputs": [
        {
          "output_type": "display_data",
          "data": {
            "text/plain": [
              "<Figure size 1080x360 with 3 Axes>"
            ],
            "image/png": "[encoded data removed]"
          },
          "metadata": {}
        }
      ]
    },
    {
      "cell_type": "markdown",
      "source": [
        "↪ The articles and summaries are relatively shorts, the summaries mainly containing one or two sentences (first columns)\n",
        "\n",
        "↪ The number of words per text (second column) justifies the choice made in the pre-processing section for the padding : we have chosen to keep 600 words per text and 60 per summary, which seems reasonable regarding these statistics.\n",
        "\n",
        "↪ The number of words per sentence (third column) is similar for both articles and summaries. It can then be reasonable to think that extractive methods can have sense to deal with this corpus, as by extracting sentences from the articles to build our summaries could allow us to obtain a structure similar to the one of the summaries."
      ],
      "metadata": {
        "id": "FfFnBhWr4SyH"
      }
    },
    {
      "cell_type": "code",
      "source": [
        ""
      ],
      "metadata": {
        "id": "gIW_mO4ASdrf"
      },
      "execution_count": null,
      "outputs": []
    },
    {
      "cell_type": "markdown",
      "source": [
        "### Vocabulary & word distributions :"
      ],
      "metadata": {
        "id": "CapUQgp8Zjc4"
      }
    },
    {
      "cell_type": "markdown",
      "source": [
        "**1. Word distribution :**"
      ],
      "metadata": {
        "id": "5b7gWS0YDH7e"
      }
    },
    {
      "cell_type": "markdown",
      "source": [
        "Here are some important numbers concerning the vocabulary in OrangeSum (training dataset), given the fact that stopwords are excluded from all the vocabularies."
      ],
      "metadata": {
        "id": "7KBaBkM6Eb1z"
      }
    },
    {
      "cell_type": "code",
      "source": [
        "threshold = None\n",
        "vocabulary_orangesum_article_ = vocab_update(dataset_orangesum['train'], text_features='input', remove_stopwords=True, threshold=threshold)\n",
        "vocabulary_orangesum_abstract_ = vocab_update(dataset_orangesum['train'], text_features='target', remove_stopwords=True, threshold=threshold)"
      ],
      "metadata": {
        "colab": {
          "base_uri": "https://localhost:8080/",
          "height": 81,
          "referenced_widgets": [
            "8169770ff9074fe99025fdc0766143f2",
            "7e475091cbe54d9ea7e3e04f225c3d0c",
            "6ec8c337167842f5bbb71da6175d5daa",
            "21b0b65108e04d58a77fe23bcac6e79b",
            "1a7723a0ca784eefb8ed0144e84394cc",
            "b4a489f2d154458b83f7f6d8b8dfb750",
            "479fe56e3ab144ada1a86d5c76e5d454",
            "c8360404de5f4ae7af0dc7bb9a19f1d5",
            "325e1de4892442cc9c9118c4fc6a0970",
            "4ca5f6429eb44fcdb5ba7bd3449f26d6",
            "0992937e3b5743b08af2dead78bf5bcf",
            "34e4e8f106fb4aeebc57e4477fd2d9d5",
            "b48a4e024a72499c8748fb5443cdd772",
            "000c70081363496bbd6f4f4db71b6719",
            "57f4a87503d441b6b0f4eba1492efbdc",
            "01c41f16c2e0471c8cb78ec551e89375",
            "43c92056d6dc4f6fb14b6b6ba0d00555",
            "4af0d8e5ad7f4acfa9fdac157584dafb",
            "f7967b75ee5a4412814a7f22b07c7e5d",
            "83f3971f714e4568ad19d51eb724d3db",
            "cb88fa16343049afa0db12d27676fe07",
            "8901099fffde4826a4304406c514abd1"
          ]
        },
        "id": "MEoiErY0Eu4D",
        "outputId": "e7a3646a-3a0f-4158-ebeb-f44ccf8ff408"
      },
      "execution_count": null,
      "outputs": [
        {
          "output_type": "display_data",
          "data": {
            "text/plain": [
              "  0%|          | 0/21401 [00:00<?, ?it/s]"
            ],
            "application/vnd.jupyter.widget-view+json": {
              "version_major": 2,
              "version_minor": 0,
              "model_id": "8169770ff9074fe99025fdc0766143f2"
            }
          },
          "metadata": {}
        },
        {
          "output_type": "display_data",
          "data": {
            "text/plain": [
              "  0%|          | 0/21401 [00:00<?, ?it/s]"
            ],
            "application/vnd.jupyter.widget-view+json": {
              "version_major": 2,
              "version_minor": 0,
              "model_id": "34e4e8f106fb4aeebc57e4477fd2d9d5"
            }
          },
          "metadata": {}
        }
      ]
    },
    {
      "cell_type": "code",
      "source": [
        "nb_words_text, nb_words_abstract = vocabulary_orangesum_article_['nbwords'], vocabulary_orangesum_abstract_['nbwords']\n",
        "print(f\"Number of words in OrangeSum (texts) vocabulary : {nb_words_text}\")\n",
        "print(f\"Number of words in OrangeSum (abstract) vocabulary : {nb_words_abstract} (ie {(nb_words_abstract/nb_words_text)*100:.2f}% of text vocabulary)\")"
      ],
      "metadata": {
        "colab": {
          "base_uri": "https://localhost:8080/"
        },
        "id": "B3m3WZp3PWdS",
        "outputId": "63d58ada-9b3a-46d8-b013-828a3d1a7940"
      },
      "execution_count": null,
      "outputs": [
        {
          "output_type": "stream",
          "name": "stdout",
          "text": [
            "Number of words in OrangeSum (texts) vocabulary : 188084\n",
            "Number of words in OrangeSum (abstract) vocabulary : 38448 (ie 20.44% of text vocabulary)\n"
          ]
        }
      ]
    },
    {
      "cell_type": "code",
      "source": [
        "def word_distribution (vocabulary, print_most_frequents = None, plot_title=None) : \n",
        "    \"\"\"\n",
        "    Plot word distribution within a given vocabulary\n",
        "    If print_most_frequents is an int, also print the print_most_frequents most frequent words\n",
        "    \"\"\"\n",
        "\n",
        "    dist_words = np.fromiter(vocabulary['counts'].values(), dtype='int')\n",
        "    dist_words_df = pd.DataFrame({'counts' : dist_words})\n",
        "    nb_total = dist_words_df['counts'].sum()\n",
        "    dist_words_df['freq'] = dist_words_df['counts'].apply(lambda x: x/nb_total)\n",
        "    dist_words_df = dist_words_df.sort_values('freq', ascending=False)\n",
        "\n",
        "    # Plot word distributions :\n",
        "    fig, ax = plt.subplots(1,1, figsize=(5,5))\n",
        "    ax.set_xscale('log')  # Using log scale\n",
        "    ax.set_yscale('log')\n",
        "    ax.plot(list(range(dist_words_df.shape[0])),dist_words_df['freq'])\n",
        "    ax.set_title('Word distribution' if plot_title is None else plot_title)\n",
        "    ax.set_xlabel('log(rank)')\n",
        "    ax.set_ylabel('log(frequency)')\n",
        "    plt.show()\n",
        "\n",
        "    # Print most frequent words : \n",
        "    if print_most_frequents is not None :\n",
        "        indices = np.argsort(dist_words)[:-print_most_frequents:-1]\n",
        "        most_frequents = np.array(list(vocabulary['stoi'].keys()))[indices]\n",
        "        print('Most frequent words :')\n",
        "        print(most_frequents)\n"
      ],
      "metadata": {
        "id": "im1p0XFMEzMM"
      },
      "execution_count": null,
      "outputs": []
    },
    {
      "cell_type": "code",
      "source": [
        "word_distribution(vocabulary_orangesum_article_, print_most_frequents=40, plot_title='Word distribution of articles') "
      ],
      "metadata": {
        "id": "m6Ah4RgjEVDA",
        "colab": {
          "base_uri": "https://localhost:8080/",
          "height": 462
        },
        "outputId": "6c1ee704-e18c-4530-92ed-21da8d1d3241"
      },
      "execution_count": null,
      "outputs": [
        {
          "output_type": "display_data",
          "data": {
            "text/plain": [
              "<Figure size 360x360 with 1 Axes>"
            ],
            "image/png": "[encoded data removed]"
          },
          "metadata": {}
        },
        {
          "output_type": "stream",
          "name": "stdout",
          "text": [
            "Most frequent words :\n",
            "['a' 'plus' 'cette' 'cest' 'france' 'selon' 'dun' 'ans' 'fait' 'dune'\n",
            " 'deux' 'comme' 'quil' 'depuis' 'après' 'tout' 'être' 'ministre' 'faire'\n",
            " 'personnes' 'très' 'aussi' 'contre' 'si' 'président' 'alors' 'avoir'\n",
            " 'sest' 'dont' 'entre' 'également' 'où' 'avant' 'atil' 'gouvernement'\n",
            " 'sans' 'encore' 'plusieurs' 'paris']\n"
          ]
        }
      ]
    },
    {
      "cell_type": "code",
      "source": [
        "word_distribution(vocabulary_orangesum_abstract_, print_most_frequents=40, plot_title='Word distribution of summaries') "
      ],
      "metadata": {
        "colab": {
          "base_uri": "https://localhost:8080/",
          "height": 462
        },
        "id": "t5fOYB0u8rBj",
        "outputId": "10e67bc4-75dc-4fd9-c250-6dd4d79f1bd7"
      },
      "execution_count": null,
      "outputs": [
        {
          "output_type": "display_data",
          "data": {
            "text/plain": [
              "<Figure size 360x360 with 1 Axes>"
            ],
            "image/png": "[encoded data removed]"
          },
          "metadata": {}
        },
        {
          "output_type": "stream",
          "name": "stdout",
          "text": [
            "Most frequent words :\n",
            "['a' 'france' 'après' 'plus' 'selon' 'dun' 'ans' 'dune' 'ministre' 'lundi'\n",
            " 'deux' 'mardi' 'mercredi' 'jeudi' 'paris' 'depuis' 'vendredi' 'contre'\n",
            " 'fait' 'président' 'dimanche' 'sest' 'samedi' 'coronavirus' 'avoir'\n",
            " 'annoncé' 'cette' 'gouvernement' 'alors' 'premier' 'quil' 'plusieurs'\n",
            " 'macron' 'français' 'comme' 'lors' 'mois' 'personnes' 'être']\n"
          ]
        }
      ]
    },
    {
      "cell_type": "markdown",
      "source": [
        "↪ A first remark is that we do not obtain the Zipf's law as clearly as in lab1 for instance, but the word distributions for summaries and articles seems to be similar, even if the summaries' vocabulary is smaller.\n",
        "\n",
        "↪ A surprising remark is that, in the most frequent words for both summaries and articles, there are still some 'stopwords', maybe due to the `word_tokenize` procedure (there is still words such as \"dun\", \"a\", \"sest\", ...)\n",
        "\n",
        "↪ The more important to notice in these outputs is that, within the most frequent words, the politic's topic is really present, with words such as \"president\", \"gouvernement\", \"ministre\". So we may think that our models, above all abstractive ones, which are trained as supervised methods, should be better in summarizing politics' articles than more factual sport ones for instance. \n",
        "\n",
        "↪ Moreover, within the most frequent words, some specific words such as \"coronavirus\" or \"Macron\" are present, so we can see that our models may be adapted to nowadays' topics, as coronavirus and Macron are actual references, but our models may become obsolet to summarize older or future articles. This is one usual source of hardness in NLP to deal with new words, that's why pre-existing wide vocabularies may be more useful to train our models than the ones built from scratch."
      ],
      "metadata": {
        "id": "QN7D2VRi_EQ4"
      }
    },
    {
      "cell_type": "markdown",
      "source": [
        "**2. Numbers :**"
      ],
      "metadata": {
        "id": "_5vbDUSlDN90"
      }
    },
    {
      "cell_type": "code",
      "source": [
        "import re"
      ],
      "metadata": {
        "id": "UZbUvNlxCbuH"
      },
      "execution_count": null,
      "outputs": []
    },
    {
      "cell_type": "code",
      "source": [
        "def stats_numbers (df, text_column='text') : \n",
        "    \"\"\"\n",
        "    Function that realizes statistics on numbers present in the given text columns.\n",
        "    To simplify, we just concentrate on all numbers (without separating floats, int, ...)\n",
        "    \"\"\" \n",
        "    # create an empty dataframe for our stats to not modify the input\n",
        "    n = len(df)\n",
        "    stats = pd.DataFrame({'idx':np.arange(n)})\n",
        "\n",
        "    # extract numbers of texts :\n",
        "    number_regex = r'[0-9]+[\\.,\\,]?[0-9]+'\n",
        "    stats['numbers'] = df[text_column].apply(lambda x : list(re.findall(number_regex, x)))\n",
        "    stats['nb_numbers'] = stats['numbers'].apply(lambda x : len(x))\n",
        "\n",
        "    # Plot : \n",
        "    fig, ax = plt.subplots(1,1, figsize=(5,5))\n",
        "    sns.histplot(data=stats, x=\"nb_numbers\", ax=ax, stat='density')\n",
        "    ax.set_title(f'Nb of numbers per text in text column {text_column}')\n",
        "    plt.show()"
      ],
      "metadata": {
        "id": "GDNE8qWVBjyW"
      },
      "execution_count": null,
      "outputs": []
    },
    {
      "cell_type": "code",
      "source": [
        "stats_numbers(df_orangesum_train)"
      ],
      "metadata": {
        "colab": {
          "base_uri": "https://localhost:8080/",
          "height": 351
        },
        "id": "7FPY_eV5C4zA",
        "outputId": "d743888a-eff8-4595-81e1-2f8ec3e6d975"
      },
      "execution_count": null,
      "outputs": [
        {
          "output_type": "display_data",
          "data": {
            "text/plain": [
              "<Figure size 360x360 with 1 Axes>"
            ],
            "image/png": "[encoded data removed]"
          },
          "metadata": {}
        }
      ]
    },
    {
      "cell_type": "code",
      "source": [
        "stats_numbers(df_orangesum_train, text_column='abstract')"
      ],
      "metadata": {
        "colab": {
          "base_uri": "https://localhost:8080/",
          "height": 351
        },
        "id": "QokXI61YDAdr",
        "outputId": "e71fa40d-ef18-41b0-c288-8a505019d6ef"
      },
      "execution_count": null,
      "outputs": [
        {
          "output_type": "display_data",
          "data": {
            "text/plain": [
              "<Figure size 360x360 with 1 Axes>"
            ],
            "image/png": "[encoded data removed]"
          },
          "metadata": {}
        }
      ]
    },
    {
      "cell_type": "markdown",
      "source": [
        "↪ The numbers are not that much present in the articles and summaries, regarding the fact that the number of words per article is up to 600 and per summary is up to 60.\n",
        "\n",
        "↪ However, our extractive methods can allow to easily extract numbers to put in the summary, but our abstractive models (at least for our from scratch tests), may have issues to deal with numbers are they are not part of a vocabulary."
      ],
      "metadata": {
        "id": "mhBPshJQDSoK"
      }
    },
    {
      "cell_type": "code",
      "source": [
        ""
      ],
      "metadata": {
        "id": "cg-rNmu5BVFE"
      },
      "execution_count": null,
      "outputs": []
    },
    {
      "cell_type": "code",
      "source": [
        ""
      ],
      "metadata": {
        "id": "nMD-yh4QPWfa"
      },
      "execution_count": null,
      "outputs": []
    },
    {
      "cell_type": "markdown",
      "source": [
        "### Topic description using a pretrained model :"
      ],
      "metadata": {
        "id": "b1QO7xD_ZuHT"
      }
    },
    {
      "cell_type": "markdown",
      "source": [
        "To have an idea of the main topic of the articles of our corpus could be useful, for instance to compare the performance on our summarization model on different type of subjects that may be more or less factual, or to see if the main topic associated to our article is the same than the one associated to our generated summary. \n",
        "\n",
        "We used an already existing model found on Hugging Face : [`flaubert-mlsum-topic-classification`](https://huggingface.co/lincoln/flaubert-mlsum-topic-classification?text=La+bourse+de+paris+en+forte+baisse+apr%C3%A8s+que+des+canards+ont+envahit+le+parlement.). This is a classification model, trained on the french MLSUM dataset, which outputs a topic category within : \"Culture, Economie, Education, Environnement, Justice, Opinion, Politique, Société, Sport, Technologie\". \n",
        "\n",
        "Note that we didn't implement the topic modelization by ourselves as it was not the main purpose of our project, but we could have implemented an unsupervised topic modelling such as LDA ([Latent Dirichlet Allocation ](https://www.jmlr.org/papers/volume3/blei03a/blei03a.pdf)), which consists in finding the ."
      ],
      "metadata": {
        "id": "BzXl2VOet4Mi"
      }
    },
    {
      "cell_type": "markdown",
      "source": [
        "We follow here the instructions given in the [Hugging Face page](https://huggingface.co/lincoln/flaubert-mlsum-topic-classification?text=La+bourse+de+paris+en+forte+baisse+apr%C3%A8s+que+des+canards+ont+envahit+le+parlement.), so we do not have to deal with the pre-processing and tokenization, we re use the one given with the model :"
      ],
      "metadata": {
        "id": "1rjsBbGrwtza"
      }
    },
    {
      "cell_type": "code",
      "source": [
        "from transformers import AutoTokenizer, AutoModelForSequenceClassification\n",
        "from transformers import TextClassificationPipeline"
      ],
      "metadata": {
        "id": "wVWCWpnQwlyV"
      },
      "execution_count": 62,
      "outputs": []
    },
    {
      "cell_type": "code",
      "source": [
        "model_name = 'lincoln/flaubert-mlsum-topic-classification'\n",
        "\n",
        "loaded_tokenizer = AutoTokenizer.from_pretrained(model_name)\n",
        "loaded_model = AutoModelForSequenceClassification.from_pretrained(model_name)\n",
        "\n",
        "topic_classifier = TextClassificationPipeline(model=loaded_model, tokenizer=loaded_tokenizer)"
      ],
      "metadata": {
        "colab": {
          "base_uri": "https://localhost:8080/",
          "height": 209,
          "referenced_widgets": [
            "0864aba574134d0a8c0d1731d2f0df62",
            "5eff2370210a4e21a2d1a31ed634f673",
            "179d52e391574a08942a3401f4f711c5",
            "604145b2564c45b4bafee4643cd85a2d",
            "d83f22b04306439db2394ad41725c2a6",
            "59d1129ea5df467c91a88533f79d9285",
            "f75ce1a239114e45a3ffef3c9d57a591",
            "5df390cf7fee4ca481251ed0dc04d7af",
            "c8b1aa8732074ed5aad90d21b23b32c8",
            "11d09874d84c4f32b989fc8079339c97",
            "4577cd90b57f41678698208def66e09c",
            "d4f6bd5892714fcf80fd02e5de8b8be2",
            "f033aa94dd134ea8bd5bdf6b96954b48",
            "03a52998169b47358880082f1dc53cec",
            "5844efdbefee4e4b80e419aba4e79d74",
            "dd3d9c2002784984a8145dc2fa24b0f6",
            "749dce3820864101b58855861d7685fc",
            "9dcd11b1db974f059cacf4d3299a905f",
            "1c51aad0a5764154901e2e71c0253ea4",
            "343a7a1569f04df8a4bed1a5138034ed",
            "4b7097dccbc44312bf2eb46e7f68ea6f",
            "6fc52b4ddc8a43e486156439fb87a092",
            "e2fb0ff0da5f475c861a8f17f33b16e4",
            "16aa9354a11a40bab59378fe6f84e54b",
            "baf03b7e8bb84bfdaca032e0f159cae9",
            "d95964594f3e470288dccca88ccbeb2f",
            "78982c2abee54907bd5a72e96eace936",
            "09846adb32264ed6a1fb1470ff729757",
            "27fd9486bb6e4379b2c60ca08b9d0843",
            "de5a86d5979f4da7864dfef90704697b",
            "23a42ecaaef84337878f8a79a9c08216",
            "5e25fbeb02614523b5a387b2462fe371",
            "151f6d8abd7e4aba934f0fde2f8c7349",
            "3e9a75b32d0a4a9d8f164e353bf100ae",
            "5f394148c5d648f7a4f5d59d79a1336a",
            "14d7a4a14527488b96b3e7f5f8f9be16",
            "225b768c86704ce8b831f344b874b5ad",
            "655123e6dd3a4207a3d3c3da56af963d",
            "dcc0421c210d4cfa8fb00cb79fcc67e6",
            "f55f3d0d02a84788bd35621753a8dbb8",
            "37ec6e0924c945029922540635c23a41",
            "2b02d3e632fe4286bcb7d5efcf7ad691",
            "de20b0b26ef547e4aed1c4d16171b02c",
            "332c8dd9ea134a80a53fd6068b10f092",
            "b919ba531ae1400b8202145f5be4b747",
            "35760b9db185448a9a48060b18f5ab84",
            "f67703ec57d045758241f10daa98ef3c",
            "b323c1d7b778415fa2950514814ad3b4",
            "438bc80a9a534f5c82864c3af42e510b",
            "293f3727613c42328c6e2dad28a909ab",
            "157c4292614b41ae94f42e2d12cd75d1",
            "2554e9d6fd8d444490acac7605bd2e3a",
            "9b1d3cbd413143779da6805b2e4e34b0",
            "87d5a9f351814e5ca854074c08ad421d",
            "57ab1c008cb04ced92b2238de931a219",
            "304e4964cd594eca95029294cc35dfe8",
            "66b6b454528c4461af82841406b523bb",
            "f2fc1fa36cca4e8db8c2317e2c3699cb",
            "a26f2963b1fb4c46b7b345cda2d40daf",
            "a88dff5c292c4009b4d481bfa83ab05d",
            "387c62996c904dbbb4c3fe63911efeba",
            "a2a28034fd544879aa3918c7fff1663d",
            "c058e83d7d764293b9b4c6506fbc8727",
            "8f7c199aa1534552a04feffd956f857b",
            "a42e6911dc0e46aab36b2f97cd95fee0",
            "4a15906ee5954f79a47d3a6292b24d46"
          ]
        },
        "id": "h7GwyEE9whtD",
        "outputId": "8822266e-6824-4a90-9fbe-2726044214e5"
      },
      "execution_count": 63,
      "outputs": [
        {
          "output_type": "display_data",
          "data": {
            "text/plain": [
              "Downloading:   0%|          | 0.00/492 [00:00<?, ?B/s]"
            ],
            "application/vnd.jupyter.widget-view+json": {
              "version_major": 2,
              "version_minor": 0,
              "model_id": "0864aba574134d0a8c0d1731d2f0df62"
            }
          },
          "metadata": {}
        },
        {
          "output_type": "display_data",
          "data": {
            "text/plain": [
              "Downloading:   0%|          | 0.00/1.25M [00:00<?, ?B/s]"
            ],
            "application/vnd.jupyter.widget-view+json": {
              "version_major": 2,
              "version_minor": 0,
              "model_id": "d4f6bd5892714fcf80fd02e5de8b8be2"
            }
          },
          "metadata": {}
        },
        {
          "output_type": "display_data",
          "data": {
            "text/plain": [
              "Downloading:   0%|          | 0.00/561k [00:00<?, ?B/s]"
            ],
            "application/vnd.jupyter.widget-view+json": {
              "version_major": 2,
              "version_minor": 0,
              "model_id": "e2fb0ff0da5f475c861a8f17f33b16e4"
            }
          },
          "metadata": {}
        },
        {
          "output_type": "display_data",
          "data": {
            "text/plain": [
              "Downloading:   0%|          | 0.00/305 [00:00<?, ?B/s]"
            ],
            "application/vnd.jupyter.widget-view+json": {
              "version_major": 2,
              "version_minor": 0,
              "model_id": "3e9a75b32d0a4a9d8f164e353bf100ae"
            }
          },
          "metadata": {}
        },
        {
          "output_type": "display_data",
          "data": {
            "text/plain": [
              "Downloading:   0%|          | 0.00/1.99k [00:00<?, ?B/s]"
            ],
            "application/vnd.jupyter.widget-view+json": {
              "version_major": 2,
              "version_minor": 0,
              "model_id": "b919ba531ae1400b8202145f5be4b747"
            }
          },
          "metadata": {}
        },
        {
          "output_type": "display_data",
          "data": {
            "text/plain": [
              "Downloading:   0%|          | 0.00/527M [00:00<?, ?B/s]"
            ],
            "application/vnd.jupyter.widget-view+json": {
              "version_major": 2,
              "version_minor": 0,
              "model_id": "304e4964cd594eca95029294cc35dfe8"
            }
          },
          "metadata": {}
        }
      ]
    },
    {
      "cell_type": "code",
      "source": [
        "def topic_description (df, text_column='text', title_plot=None) : \n",
        "    \"\"\"\n",
        "    Use flaubert-mlsum-topic-classification to assign a main topic to each article in df[text_column],\n",
        "    stored in df[f'main_topic_{text_column}'],\n",
        "    and plot the proportion of each topic in the corpus.\n",
        "\n",
        "    !!! : execution might be really long...\n",
        "    \"\"\"\n",
        "\n",
        "    # Creation of a new column in df to store the main topic : \n",
        "    new_column = 'main_topic_'+text_column\n",
        "    df[new_column] = df[text_column].progress_apply(lambda x : topic_classifier(x, truncation=True)[0]['label'])\n",
        "\n",
        "    # Computation of proportion of each topic in the corpus :\n",
        "    stats_topics = df[[new_column,text_column]].groupby(new_column).count().reset_index()\n",
        "    stats_topics[text_column] = stats_topics[text_column] *100 / stats_topics[text_column].sum() \n",
        "\n",
        "    # Plot in horizontal barplot :\n",
        "    fig,ax = plt.subplots(1,1,figsize=(6,4))\n",
        "    sns.barplot(data=stats_topics, x=text_column, y=new_column, orient='h', ax=ax, palette=\"Set2\")\n",
        "      # Titles :\n",
        "    ax.set_xlabel('Proportion in the corpus (%)')\n",
        "    ax.set_ylabel('Main topic')\n",
        "    if title_plot is None :\n",
        "        fig.suptitle(f'Main topic of column {text_column} in the corpus')\n",
        "    else :\n",
        "        fig.suptitle(title_plot)\n",
        "    # Annotations : \n",
        "    for p in ax.patches:\n",
        "        width = p.get_width()\n",
        "        plt.text(4+p.get_width(), p.get_y()+0.55*p.get_height(),\n",
        "                '{:1.1f}%'.format(width), ha='center', va='center')"
      ],
      "metadata": {
        "id": "Ds_dPuP_Sdy9"
      },
      "execution_count": 64,
      "outputs": []
    },
    {
      "cell_type": "markdown",
      "source": [
        "Run on the $500$ first news article of our train set (computation time being very long...) :"
      ],
      "metadata": {
        "id": "u3ZqZkvJxteL"
      }
    },
    {
      "cell_type": "code",
      "source": [
        "df_orangesum_train_500 = df_orangesum_train.copy()[:500] \n",
        "topic_description(df_orangesum_train_500) "
      ],
      "metadata": {
        "colab": {
          "base_uri": "https://localhost:8080/",
          "height": 326
        },
        "id": "BbIpCESquEIj",
        "outputId": "f77f549c-8d91-4961-a766-9d8bfcedfddd"
      },
      "execution_count": null,
      "outputs": [
        {
          "output_type": "stream",
          "name": "stderr",
          "text": [
            "100%|██████████| 500/500 [10:52<00:00,  1.30s/it]\n"
          ]
        },
        {
          "output_type": "display_data",
          "data": {
            "text/plain": [
              "<Figure size 432x288 with 1 Axes>"
            ],
            "image/png": "[encoded data removed]"
          },
          "metadata": {}
        }
      ]
    },
    {
      "cell_type": "markdown",
      "source": [
        "$\\hookrightarrow$ It seems that, at least in the first articles of the corpus, the main topics are society and politics, that is to say mainly \"abstractive\" and \"subjective\" subjects. It may be harder for the model to understand the opinion within the articles, it can be something to evaluate on our models. Note that this is in adequation with the observation made on the most frequent words in the previous subsection."
      ],
      "metadata": {
        "id": "qY3Fbgx6jriN"
      }
    },
    {
      "cell_type": "markdown",
      "source": [
        "We can also try to see if the main topic attributed to the articles are the same to the ones attributed to the abstracts :"
      ],
      "metadata": {
        "id": "6ru3OwMHx53a"
      }
    },
    {
      "cell_type": "code",
      "source": [
        "df_orangesum_train_500['main_topic_abstract'] = df_orangesum_train_500['abstract'].progress_apply(lambda x : topic_classifier(x, truncation=True)[0]['label'])\n",
        "prop_match = (df_orangesum_train_500['main_topic_text']==df_orangesum_train_500['main_topic_abstract']).mean()*100\n",
        "\n",
        "print(f'Proportion of article-summary pairs with same main topic in the 500 first articles : {prop_match} %')"
      ],
      "metadata": {
        "colab": {
          "base_uri": "https://localhost:8080/"
        },
        "id": "k_eoPzqRuUB8",
        "outputId": "320755df-9a48-4b36-a7be-950f282acd00"
      },
      "execution_count": null,
      "outputs": [
        {
          "output_type": "stream",
          "name": "stderr",
          "text": [
            "100%|██████████| 500/500 [01:30<00:00,  5.54it/s]"
          ]
        },
        {
          "output_type": "stream",
          "name": "stdout",
          "text": [
            "Proportion of article-summary pairs with same main topic in the 500 first articles : 74.8 %\n"
          ]
        },
        {
          "output_type": "stream",
          "name": "stderr",
          "text": [
            "\n"
          ]
        }
      ]
    },
    {
      "cell_type": "markdown",
      "source": [
        "↪ This is quite satisfying, and may be a possible idea to evaluate our generated summaries in the experiments' section."
      ],
      "metadata": {
        "id": "E1G8QINcERY_"
      }
    },
    {
      "cell_type": "code",
      "source": [
        ""
      ],
      "metadata": {
        "id": "EuJmi2qiwbrL"
      },
      "execution_count": null,
      "outputs": []
    },
    {
      "cell_type": "code",
      "source": [
        ""
      ],
      "metadata": {
        "id": "ZMSLHYR7vPVJ"
      },
      "execution_count": null,
      "outputs": []
    },
    {
      "cell_type": "markdown",
      "source": [
        "## Extractive models :"
      ],
      "metadata": {
        "id": "ModqFBq3SeA2"
      }
    },
    {
      "cell_type": "markdown",
      "source": [
        " ### TextRank algorithm"
      ],
      "metadata": {
        "id": "kT40Ze7_huG6"
      }
    },
    {
      "cell_type": "markdown",
      "source": [
        "The first \"naive\" approach to address the text summarization task is an **extractive** method. It's an unsupervised model, which will try to identify the most revelant sentences in a given document, and will build a summary by extracting them. We will then obtain a summary composed of a \"patchwork\" of sentences from the article, we won't \"generate new sentences\"."
      ],
      "metadata": {
        "id": "oe2nOQcE509p"
      }
    },
    {
      "cell_type": "markdown",
      "source": [
        "\n",
        "\n",
        "**TextRank algorithm :**\n",
        "\n",
        "We have chosen to implement the [TextRank](https://aclanthology.org/W04-3252.pdf) algorithm, which is similar to the PageRank algorithm proposed by Google, but applied here to the scoring of the sentences of a text. Here are the main steps of the algorithm, which will turn our problem into a graph problem :  \n",
        "\n",
        "1. Identify text units that best define the task at hand, that is to say the sentences in our case, and add them as vertices in our graph.\n",
        "2. Compute a similarity matrix between the sentences of our text, which will correspond to the weights given to each edges of our graph. Here are some possibilities for the choice of similarity measure between two sentences $S_i = w^i_1 ... w^i_{N_i}$ and $S_j = w^j_1 ... w^j_{N_j}$ :     \n",
        "  * The similarity measure initially proposed by the TextRank article simply corresponds to the lenght of the overlapping content of both sentences : $$Similarity(S_i,S_j) = \\frac{|\\{w_k : w_k \\in S_i \\& w_k \\in S_j \\}|}{\\log(|S_i|) + \\log(|S_j|)}$$\n",
        "  * If we use embedding techniques to transform our sentences into vectors $s_i, s_j \\in \\mathbb{R}^d$, we can for instance use the cosine similarity, defined by : $$Similarity(s_i,s_j) = \\frac{<s_i,s_j>}{\\|s_i\\|\\|s_j\\|}$$\n",
        "\n",
        "3. Iterate the graph-based ranking algorithm until convergence :\n",
        "  - The score attributed to each sentence $S_i$ according to the weight of its edges defined in the previous step can be summed up into : $$Score(S_i) = (1-\\gamma) + \\gamma * \\sum_{j \\neq i} \\left( \\frac{Similarity(S_i,S_j)}{ \\sum_{k \\neq j} Similarity(S_k,S_j) } \\right) Score(S_j) $$ with $\\gamma \\in (0,1)$ (authors recommand to choose $\\gamma=0.85$). \n",
        "  - The previous score being non explicit, we initialize the scores of every sentence randomly, and apply the previous formula until convergence to obtain the final scores. \n",
        "\n",
        "4. Sort vertices based on their final score. Build then a summary by keeping the $x$ sentences with highest score, $x$ being chosen by the user.\n",
        "\n",
        "---\n",
        "**Pros :**\n",
        "- The summary is only constructed regarding the given article, no additionnal training on an entire dataset is needed.\n",
        "\n",
        "**Cons :**\n",
        "- Sentences extracted from the text, which results in a \"patchwork\" not always coherent (pronouns, ...)\n",
        "- May have issues for text composed of very long sentences.\n",
        "---\n",
        "\n",
        "\n",
        "\n"
      ],
      "metadata": {
        "id": "5ijOxw2TSvAW"
      }
    },
    {
      "cell_type": "markdown",
      "source": [
        "#### Model definition :"
      ],
      "metadata": {
        "id": "hOls7k9R_O0n"
      }
    },
    {
      "cell_type": "code",
      "source": [
        "from gensim.models import Word2Vec\n",
        "from scipy import spatial"
      ],
      "metadata": {
        "id": "eee_8fX0-QXt"
      },
      "execution_count": 16,
      "outputs": []
    },
    {
      "cell_type": "code",
      "source": [
        "class TextRank () :\n",
        "\n",
        "    def __init__ (self, gamma=0.85, max_iter=100, tol=1e-16) :\n",
        "        self.gamma = gamma\n",
        "        self.max_iter = max_iter\n",
        "        self.tol = tol\n",
        "\n",
        "\n",
        "    def get_similarity_matrix (self, text) : \n",
        "        \"\"\"\n",
        "        Implementation of the following \"simple\" method : \n",
        "          - use Word2Vec with 1 embedding dimension on each word of each sentence\n",
        "            as a Seq2Vec model\n",
        "          - use cosine similarity on the obtain sequences' vectors\n",
        "        \"\"\"\n",
        "        # Use our previously defined cleaning function :\n",
        "        tok_text = tokenize_clean_text(text)\n",
        "\n",
        "        # Construction of text embeddings :\n",
        "        w2v = Word2Vec(tok_text, size=1, min_count=1, iter=1000)\n",
        "        text_embeddings=[[w2v[word][0] for word in words] for words in tok_text]\n",
        "        max_len=max([len(tokens) for tokens in tok_text])\n",
        "        text_embeddings = [np.pad(embedding,(0,max_len-len(embedding)),'constant') for embedding in text_embeddings]\n",
        "\n",
        "        # Construction of similarity matrix : \n",
        "        nb_sentences = len(tok_text)\n",
        "        similarity_matrix = np.zeros((nb_sentences,nb_sentences))\n",
        "        for i,row_embedding in enumerate(text_embeddings):\n",
        "            for j,column_embedding in enumerate(text_embeddings):\n",
        "                similarity_matrix[i][j]=1-spatial.distance.cosine(row_embedding,column_embedding)\n",
        "\n",
        "        return similarity_matrix\n",
        "\n",
        "\n",
        "    def get_scores (self, similarity_matrix) : \n",
        "        # similarity matrix : SM, symmetric, with SM_{ij} = Similarity(S_i, S_j) and SM_{ii} = 0 (shape n x n)\n",
        "        # output : scores attributed to each sentence (shape n)\n",
        "\n",
        "        n = similarity_matrix.shape[0]\n",
        "        # normalization of the similarity matrix by column :\n",
        "        similarity = similarity_matrix / similarity_matrix.sum(axis=0)\n",
        "\n",
        "        # Initialization of the scores : \n",
        "        scores = np.full(shape=n, fill_value=1/n) \n",
        "        error,iter = self.tol + 1, 0\n",
        "\n",
        "        # Iteration of the algorithm : \n",
        "        while (error > self.tol) and (iter < self.max_iter) : \n",
        "            last_scores = scores.copy()\n",
        "\n",
        "            # Iteration of the score formula :\n",
        "            scores = np.dot(similarity , scores) * self.gamma + (1-self.gamma)\n",
        "\n",
        "            # Computation of the error : \n",
        "            error = np.sum(abs(scores-last_scores))\n",
        "            iter += 1\n",
        "\n",
        "        # Normalization of the final scores :\n",
        "        scores = scores / scores.sum()\n",
        "        return scores\n",
        "\n",
        "    def print_scores (self, text_sentences, scores) : \n",
        "        \"\"\"\n",
        "        Print given text_sentences with colors coresponding to their scores. \n",
        "        \"\"\"\n",
        "        on_colors = ['on_blue', 'on_cyan', 'on_green', 'on_yellow', 'on_magenta', 'on_red']\n",
        "\n",
        "        indices = np.argsort(scores)\n",
        "\n",
        "        # Attribution of colors :\n",
        "        k_update = len(indices) // 6\n",
        "        on_colors_ind = [0 for i in range(len(indices))]\n",
        "        scores_bornes = []\n",
        "        score_inf = 0\n",
        "        on_color_id = 0\n",
        "        k = 0\n",
        "        for i in indices : \n",
        "          on_colors_ind[i] = on_color_id\n",
        "          k += 1 \n",
        "          if k >= k_update : \n",
        "            scores_bornes.append(f\"{score_inf:.5f}-{scores[i]:.5f}\")\n",
        "            score_inf = scores[i]\n",
        "            k = 0\n",
        "            on_color_id +=1\n",
        "\n",
        "        # Prints :\n",
        "        print('Scale of scores :')\n",
        "        print(' '.join( (colored(scores_bornes[k], 'white' , on_color) \n",
        "                        for k, on_color in enumerate(on_colors))))\n",
        "        print('-'*200)\n",
        "        print('\\n'.join( (colored(text_sentences[k], 'white' , on_colors[on_colors_ind])\n",
        "          for k, on_colors_ind in enumerate(on_colors_ind))))\n",
        "\n",
        "\n",
        "    def summarize__ (self, text, nb_summary_seq = 2, print_score=False) : \n",
        "        similarity_matrix = self.get_similarity_matrix(text)\n",
        "        scores = self.get_scores(similarity_matrix) \n",
        "\n",
        "        indices_best = np.argsort(scores)[:-(nb_summary_seq+1):-1]\n",
        "        text_sentences = np.array(sent_tokenize(text))\n",
        "        summary = ''.join(text_sentences[indices_best])\n",
        "\n",
        "        if print_score : \n",
        "            self.print_scores(text_sentences, scores)\n",
        "\n",
        "        return summary\n"
      ],
      "metadata": {
        "id": "4M0Jg2EW6yPw"
      },
      "execution_count": 17,
      "outputs": []
    },
    {
      "cell_type": "markdown",
      "source": [
        "#### Example of prediction : "
      ],
      "metadata": {
        "id": "xiZhNL-LiqYE"
      }
    },
    {
      "cell_type": "code",
      "source": [
        "text = dataset_orangesum['train'][2]['input']\n",
        "summary_real = dataset_orangesum['train'][2]['target']"
      ],
      "metadata": {
        "id": "tAWq8oFUixqm"
      },
      "execution_count": null,
      "outputs": []
    },
    {
      "cell_type": "markdown",
      "source": [
        "Generation of the summary  :"
      ],
      "metadata": {
        "id": "GjfRph5qLuka"
      }
    },
    {
      "cell_type": "code",
      "source": [
        "summary_generated = TextRank().summarize__(text)"
      ],
      "metadata": {
        "id": "qztIJ4KG_A3t",
        "colab": {
          "base_uri": "https://localhost:8080/"
        },
        "outputId": "d902fdd7-d3b8-4adb-d94b-221235e1ca91"
      },
      "execution_count": null,
      "outputs": [
        {
          "output_type": "stream",
          "name": "stderr",
          "text": [
            "/usr/local/lib/python3.7/dist-packages/ipykernel_launcher.py:20: DeprecationWarning: Call to deprecated `__getitem__` (Method will be removed in 4.0.0, use self.wv.__getitem__() instead).\n"
          ]
        }
      ]
    },
    {
      "cell_type": "code",
      "source": [
        "summary_real"
      ],
      "metadata": {
        "colab": {
          "base_uri": "https://localhost:8080/",
          "height": 70
        },
        "id": "vPpp2Vb5muNY",
        "outputId": "c2b5933f-a0b7-4208-d539-5ceca4eeef5a"
      },
      "execution_count": null,
      "outputs": [
        {
          "output_type": "execute_result",
          "data": {
            "text/plain": [
              "'En 2020, les tribunaux d\\'instance fusionnent avec ceux de grande instance pour former un unique \"tribunal judiciaire\". C\\'est la principale mesure de la réforme de la Justice, portée par la garde des sceaux Nicole Belloubet.\\n'"
            ],
            "application/vnd.google.colaboratory.intrinsic+json": {
              "type": "string"
            }
          },
          "metadata": {},
          "execution_count": 47
        }
      ]
    },
    {
      "cell_type": "code",
      "source": [
        "summary_generated"
      ],
      "metadata": {
        "colab": {
          "base_uri": "https://localhost:8080/",
          "height": 105
        },
        "id": "m7UxAudfl_XZ",
        "outputId": "e5a40712-2fe1-452e-dd90-ed343dc4d29d"
      },
      "execution_count": null,
      "outputs": [
        {
          "output_type": "execute_result",
          "data": {
            "text/plain": [
              "'Alors que les particuliers pouvaient se présenter directement au greffe du tribunal d\\'instance pour déposer leur requête, la réforme renforce le recours accru aux procédures dématérialisées et étend la représentation obligatoire par un avocat.Elle ne serait \"pas étonnée\" que le gouvernement ait souhaité \"différer des annonces\" selon les résultats électoraux de La République en marche dans les communes concernées, comme l\\'écrivait Le Canard enchaîné dans une série d\\'articles fin octobre.'"
            ],
            "application/vnd.google.colaboratory.intrinsic+json": {
              "type": "string"
            }
          },
          "metadata": {},
          "execution_count": 48
        }
      ]
    },
    {
      "cell_type": "markdown",
      "source": [
        "ROUGE scores between text and summary :"
      ],
      "metadata": {
        "id": "jlRAcnziLldb"
      }
    },
    {
      "cell_type": "code",
      "source": [
        "Rouge().get_scores(summary_generated, summary_real, avg=True)"
      ],
      "metadata": {
        "id": "KLBIve4FxBEV",
        "colab": {
          "base_uri": "https://localhost:8080/"
        },
        "outputId": "60ce2e2b-9614-45f2-8567-22ffb6a2cdf3"
      },
      "execution_count": null,
      "outputs": [
        {
          "output_type": "execute_result",
          "data": {
            "text/plain": [
              "{'rouge-1': {'f': 0.18749999562717026,\n",
              "  'p': 0.13846153846153847,\n",
              "  'r': 0.2903225806451613},\n",
              " 'rouge-2': {'f': 0.019230764829882663,\n",
              "  'p': 0.014285714285714285,\n",
              "  'r': 0.029411764705882353},\n",
              " 'rouge-l': {'f': 0.18749999562717026,\n",
              "  'p': 0.13846153846153847,\n",
              "  'r': 0.2903225806451613}}"
            ]
          },
          "metadata": {},
          "execution_count": 116
        }
      ]
    },
    {
      "cell_type": "markdown",
      "source": [
        "We can also print the scores attributed to each sentence of the initial text : "
      ],
      "metadata": {
        "id": "vAGaFh5eLoNS"
      }
    },
    {
      "cell_type": "code",
      "source": [
        "summary_generated = TextRank().summarize__(text, print_score=True)"
      ],
      "metadata": {
        "colab": {
          "base_uri": "https://localhost:8080/"
        },
        "id": "8xHGvlEqLtan",
        "outputId": "87f1826a-5bc6-4730-fb9b-b39501d82aab"
      },
      "execution_count": null,
      "outputs": [
        {
          "output_type": "stream",
          "name": "stdout",
          "text": [
            "Scale of scores :\n",
            "\u001b[44m\u001b[37m0.00000-0.03562\u001b[0m \u001b[46m\u001b[37m0.03562-0.04170\u001b[0m \u001b[42m\u001b[37m0.04170-0.04295\u001b[0m \u001b[43m\u001b[37m0.04295-0.04392\u001b[0m \u001b[45m\u001b[37m0.04392-0.04448\u001b[0m \u001b[41m\u001b[37m0.04448-0.04497\u001b[0m\n",
            "--------------------------------------------------------------------------------------------------------------------------------------------------------------------------------------------------------\n",
            "\u001b[44m\u001b[37mLa mesure est décriée par les avocats et les magistrats.\u001b[0m\n",
            "\u001b[45m\u001b[37mJuridictions de proximité par excellence, traitant les litiges du quotidien, les tribunaux d'instance s'apprêtent à fusionner avec les tribunaux de grande instance.\u001b[0m\n",
            "\u001b[43m\u001b[37mCette réorganisation est l'une des principales mesures de la réforme de la justice, promulguée le 23 mars.\u001b[0m\n",
            "\u001b[43m\u001b[37mLes professionnels s'inquiètent d'une dévitalisation de ces petites juridictions et d'un accès plus restreint au juge.\u001b[0m\n",
            "\u001b[46m\u001b[37mRéforme de la justice : pourquoi les avocats, magistrats et greffe sont-ils en colère ?par Le Dauphiné LibéréDepuis 1958, les tribunaux d'instance (TI) et les tribunaux de grande instance (TGI) se partageaient les contentieux civils, selon une répartition essentiellement fondée sur le montant du litige.\u001b[0m\n",
            "\u001b[46m\u001b[37mHéritiers des juges de paix, les juges d'instance - surnommés \"les juges des pauvres\" - tranchaient toutes les affaires pour lesquelles la demande portait sur des sommes inférieures à 10.000 euros, des expulsions locatives aux dettes impayées, en passant par les travaux mal exécutés et les conflits liés aux accidents de la circulation.\u001b[0m\n",
            "\u001b[44m\u001b[37mIls étaient également compétents pour les tutelles.\u001b[0m\n",
            "\u001b[42m\u001b[37mAu 1er janvier, les 285 tribunaux d'instance disparaissent, ainsi que les 164 TGI de France.Recours accru aux procédures dématérialisées Quand un tribunal d'instance est situé dans la même commune qu'un TGI (57 % des TI sont concernés par cette situation), ils fusionnent pour former le \"tribunal judiciaire\".\u001b[0m\n",
            "\u001b[42m\u001b[37mQuand le TI est situé dans une commune différente, comme à Ivry-sur-Seine (Val-de-Marne), Condom (Gers) ou Molsheim (Bas-Rhin), il devient une chambre détachée du tribunal judiciaire et est appelé \"tribunal de proximité\".\u001b[0m\n",
            "\u001b[41m\u001b[37mAlors que les particuliers pouvaient se présenter directement au greffe du tribunal d'instance pour déposer leur requête, la réforme renforce le recours accru aux procédures dématérialisées et étend la représentation obligatoire par un avocat.\u001b[0m\n",
            "\u001b[42m\u001b[37mExit aussi le juge d'instance, qui s'appellera désormais \"juge des contentieux de la protection\".\u001b[0m\n",
            "\u001b[43m\u001b[37mIl restera un magistrat spécialisé dans les affaires liées aux vulnérabilités économiques et sociales, la garde des Sceaux ayant dû renoncer à supprimer cette fonction statutaire devant la bronca des opposants à la réforme.Des compétences ajoutés par décret Quid de leurs compétences ?\u001b[0m\n",
            "\u001b[46m\u001b[37mLes deux principaux syndicats de magistrats dénoncent \"le flou\" autour de la question.\u001b[0m\n",
            "\u001b[41m\u001b[37mLa loi facilite la création de pôles spécialisés dans les départements ayant plusieurs tribunaux de grande instance et permet d'attribuer des compétences supplémentaires aux tribunaux de proximité pour mieux \"s'adapter aux besoins particuliers des territoires\", souligne le ministère de la Justice.\u001b[0m\n",
            "\u001b[45m\u001b[37mCes ajouts de compétences et ces spécialisations seront décidés par décrets après propositions des chefs de cours d'appel, mais \"sans calendrier précis\" relèvent l'Union syndicale des magistrats (USM) et le Syndicat de la magistrature (SM).\u001b[0m\n",
            "\u001b[44m\u001b[37m\"C'est le plus gros bouleversement.\u001b[0m\n",
            "\u001b[46m\u001b[37mEst-ce que beaucoup de cabinets de juges d'instruction vont être supprimés ?\u001b[0m\n",
            "\u001b[44m\u001b[37mDe juges d'application des peines ?\u001b[0m\n",
            "\u001b[43m\u001b[37mOn ne sait pas, on n'a aucune visibilité\", tacle la présidente de l'USM, Céline Parisot.\u001b[0m\n",
            "\u001b[41m\u001b[37mDes calculs électoraux\"Nos collègues ne savent pas ce que les chefs de cour ont proposé à la ministre\", abonde Katia Dubreuil, présidente du SM, déplorant une \"absence de concertation\".\u001b[0m\n",
            "\u001b[41m\u001b[37mElle ne serait \"pas étonnée\" que le gouvernement ait souhaité \"différer des annonces\" selon les résultats électoraux de La République en marche dans les communes concernées, comme l'écrivait Le Canard enchaîné dans une série d'articles fin octobre.\u001b[0m\n",
            "\u001b[42m\u001b[37mEmpêtrée dans cette polémique, la ministre s'est bornée à se défendre de toute partialité.Déplorant une fusion conduite \"à l'aveugle\" et \"dans la précipitation\", les syndicats de magistrats voient une volonté de faire des \"économies d'échelle\", en mutualisant les effectifs de greffes des tribunaux, mais aussi des tribunaux et des conseils de prud'hommes.\u001b[0m\n",
            "\u001b[45m\u001b[37mEt malgré l'insistance de la garde des Sceaux à répéter que tous les sites seront maintenus, les syndicats redoutent que cette réforme soit le prélude à une refonte de la carte judiciaire, où des tribunaux de proximité, vidés de leur substance, finiraient par fermer.\u001b[0m\n",
            "\u001b[45m\u001b[37mDepuis l'annonce de cette fusion il y a près de deux ans, la garde des Sceaux Nicole Belloubet invoque la nécessité de \"simplification\" et de \"lisibilité\", avec \"une porte d'entrée unique à la justice\".\u001b[0m\n"
          ]
        },
        {
          "output_type": "stream",
          "name": "stderr",
          "text": [
            "/usr/local/lib/python3.7/dist-packages/ipykernel_launcher.py:20: DeprecationWarning: Call to deprecated `__getitem__` (Method will be removed in 4.0.0, use self.wv.__getitem__() instead).\n"
          ]
        }
      ]
    },
    {
      "cell_type": "markdown",
      "source": [
        "### Comparaison with a clustering algorithm based on BERT's embeddings: "
      ],
      "metadata": {
        "id": "NQ_9bXNXK6mb"
      }
    },
    {
      "cell_type": "markdown",
      "source": [
        "BERT (Bidirectional Encoder Representations from Transformers) is a transformer presented by researchers at Google AI Language. It is a pre-trained model that is naturally bidirectional and that can be useful in many natural language tasks. We decided to compare our model for summarization to the BERT model which is widely used. The BERT Model is pre-trained in English but Google released a new version for multilingual summarization."
      ],
      "metadata": {
        "id": "u6xKwFkyMK_R"
      }
    },
    {
      "cell_type": "code",
      "source": [
        "!pip install bert-extractive-summarizer"
      ],
      "metadata": {
        "id": "9h3Nfb9QMXgk",
        "colab": {
          "base_uri": "https://localhost:8080/"
        },
        "outputId": "47042860-2ff9-4257-9a0e-70dd22c6717e"
      },
      "execution_count": null,
      "outputs": [
        {
          "output_type": "stream",
          "name": "stdout",
          "text": [
            "Collecting bert-extractive-summarizer\n",
            "  Downloading bert_extractive_summarizer-0.10.1-py3-none-any.whl (25 kB)\n",
            "Requirement already satisfied: spacy in /usr/local/lib/python3.7/dist-packages (from bert-extractive-summarizer) (2.2.4)\n",
            "Collecting transformers\n",
            "  Downloading transformers-4.18.0-py3-none-any.whl (4.0 MB)\n",
            "\u001b[K     |████████████████████████████████| 4.0 MB 7.6 MB/s \n",
            "\u001b[?25hRequirement already satisfied: scikit-learn in /usr/local/lib/python3.7/dist-packages (from bert-extractive-summarizer) (1.0.2)\n",
            "Requirement already satisfied: threadpoolctl>=2.0.0 in /usr/local/lib/python3.7/dist-packages (from scikit-learn->bert-extractive-summarizer) (3.1.0)\n",
            "Requirement already satisfied: scipy>=1.1.0 in /usr/local/lib/python3.7/dist-packages (from scikit-learn->bert-extractive-summarizer) (1.4.1)\n",
            "Requirement already satisfied: joblib>=0.11 in /usr/local/lib/python3.7/dist-packages (from scikit-learn->bert-extractive-summarizer) (1.1.0)\n",
            "Requirement already satisfied: numpy>=1.14.6 in /usr/local/lib/python3.7/dist-packages (from scikit-learn->bert-extractive-summarizer) (1.21.6)\n",
            "Requirement already satisfied: catalogue<1.1.0,>=0.0.7 in /usr/local/lib/python3.7/dist-packages (from spacy->bert-extractive-summarizer) (1.0.0)\n",
            "Requirement already satisfied: wasabi<1.1.0,>=0.4.0 in /usr/local/lib/python3.7/dist-packages (from spacy->bert-extractive-summarizer) (0.9.1)\n",
            "Requirement already satisfied: preshed<3.1.0,>=3.0.2 in /usr/local/lib/python3.7/dist-packages (from spacy->bert-extractive-summarizer) (3.0.6)\n",
            "Requirement already satisfied: tqdm<5.0.0,>=4.38.0 in /usr/local/lib/python3.7/dist-packages (from spacy->bert-extractive-summarizer) (4.64.0)\n",
            "Requirement already satisfied: requests<3.0.0,>=2.13.0 in /usr/local/lib/python3.7/dist-packages (from spacy->bert-extractive-summarizer) (2.23.0)\n",
            "Requirement already satisfied: cymem<2.1.0,>=2.0.2 in /usr/local/lib/python3.7/dist-packages (from spacy->bert-extractive-summarizer) (2.0.6)\n",
            "Requirement already satisfied: srsly<1.1.0,>=1.0.2 in /usr/local/lib/python3.7/dist-packages (from spacy->bert-extractive-summarizer) (1.0.5)\n",
            "Requirement already satisfied: setuptools in /usr/local/lib/python3.7/dist-packages (from spacy->bert-extractive-summarizer) (57.4.0)\n",
            "Requirement already satisfied: murmurhash<1.1.0,>=0.28.0 in /usr/local/lib/python3.7/dist-packages (from spacy->bert-extractive-summarizer) (1.0.6)\n",
            "Requirement already satisfied: blis<0.5.0,>=0.4.0 in /usr/local/lib/python3.7/dist-packages (from spacy->bert-extractive-summarizer) (0.4.1)\n",
            "Requirement already satisfied: plac<1.2.0,>=0.9.6 in /usr/local/lib/python3.7/dist-packages (from spacy->bert-extractive-summarizer) (1.1.3)\n",
            "Requirement already satisfied: thinc==7.4.0 in /usr/local/lib/python3.7/dist-packages (from spacy->bert-extractive-summarizer) (7.4.0)\n",
            "Requirement already satisfied: importlib-metadata>=0.20 in /usr/local/lib/python3.7/dist-packages (from catalogue<1.1.0,>=0.0.7->spacy->bert-extractive-summarizer) (4.11.3)\n",
            "Requirement already satisfied: typing-extensions>=3.6.4 in /usr/local/lib/python3.7/dist-packages (from importlib-metadata>=0.20->catalogue<1.1.0,>=0.0.7->spacy->bert-extractive-summarizer) (4.1.1)\n",
            "Requirement already satisfied: zipp>=0.5 in /usr/local/lib/python3.7/dist-packages (from importlib-metadata>=0.20->catalogue<1.1.0,>=0.0.7->spacy->bert-extractive-summarizer) (3.8.0)\n",
            "Requirement already satisfied: certifi>=2017.4.17 in /usr/local/lib/python3.7/dist-packages (from requests<3.0.0,>=2.13.0->spacy->bert-extractive-summarizer) (2021.10.8)\n",
            "Requirement already satisfied: idna<3,>=2.5 in /usr/local/lib/python3.7/dist-packages (from requests<3.0.0,>=2.13.0->spacy->bert-extractive-summarizer) (2.10)\n",
            "Requirement already satisfied: urllib3!=1.25.0,!=1.25.1,<1.26,>=1.21.1 in /usr/local/lib/python3.7/dist-packages (from requests<3.0.0,>=2.13.0->spacy->bert-extractive-summarizer) (1.24.3)\n",
            "Requirement already satisfied: chardet<4,>=3.0.2 in /usr/local/lib/python3.7/dist-packages (from requests<3.0.0,>=2.13.0->spacy->bert-extractive-summarizer) (3.0.4)\n",
            "Requirement already satisfied: filelock in /usr/local/lib/python3.7/dist-packages (from transformers->bert-extractive-summarizer) (3.6.0)\n",
            "Collecting huggingface-hub<1.0,>=0.1.0\n",
            "  Downloading huggingface_hub-0.5.1-py3-none-any.whl (77 kB)\n",
            "\u001b[K     |████████████████████████████████| 77 kB 6.3 MB/s \n",
            "\u001b[?25hCollecting tokenizers!=0.11.3,<0.13,>=0.11.1\n",
            "  Downloading tokenizers-0.12.1-cp37-cp37m-manylinux_2_12_x86_64.manylinux2010_x86_64.whl (6.6 MB)\n",
            "\u001b[K     |████████████████████████████████| 6.6 MB 29.3 MB/s \n",
            "\u001b[?25hCollecting pyyaml>=5.1\n",
            "  Downloading PyYAML-6.0-cp37-cp37m-manylinux_2_5_x86_64.manylinux1_x86_64.manylinux_2_12_x86_64.manylinux2010_x86_64.whl (596 kB)\n",
            "\u001b[K     |████████████████████████████████| 596 kB 49.7 MB/s \n",
            "\u001b[?25hRequirement already satisfied: regex!=2019.12.17 in /usr/local/lib/python3.7/dist-packages (from transformers->bert-extractive-summarizer) (2019.12.20)\n",
            "Requirement already satisfied: packaging>=20.0 in /usr/local/lib/python3.7/dist-packages (from transformers->bert-extractive-summarizer) (21.3)\n",
            "Collecting sacremoses\n",
            "  Downloading sacremoses-0.0.49-py3-none-any.whl (895 kB)\n",
            "\u001b[K     |████████████████████████████████| 895 kB 39.0 MB/s \n",
            "\u001b[?25hRequirement already satisfied: pyparsing!=3.0.5,>=2.0.2 in /usr/local/lib/python3.7/dist-packages (from packaging>=20.0->transformers->bert-extractive-summarizer) (3.0.8)\n",
            "Requirement already satisfied: six in /usr/local/lib/python3.7/dist-packages (from sacremoses->transformers->bert-extractive-summarizer) (1.15.0)\n",
            "Requirement already satisfied: click in /usr/local/lib/python3.7/dist-packages (from sacremoses->transformers->bert-extractive-summarizer) (7.1.2)\n",
            "Installing collected packages: pyyaml, tokenizers, sacremoses, huggingface-hub, transformers, bert-extractive-summarizer\n",
            "  Attempting uninstall: pyyaml\n",
            "    Found existing installation: PyYAML 3.13\n",
            "    Uninstalling PyYAML-3.13:\n",
            "      Successfully uninstalled PyYAML-3.13\n",
            "Successfully installed bert-extractive-summarizer-0.10.1 huggingface-hub-0.5.1 pyyaml-6.0 sacremoses-0.0.49 tokenizers-0.12.1 transformers-4.18.0\n"
          ]
        }
      ]
    },
    {
      "cell_type": "code",
      "source": [
        "# Library to implement BERT\n",
        "from summarizer import Summarizer\n",
        "from transformers import BertTokenizer, BertModel"
      ],
      "metadata": {
        "id": "zDH3FIUkLxko"
      },
      "execution_count": null,
      "outputs": []
    },
    {
      "cell_type": "code",
      "source": [
        "d_tokenizer = BertTokenizer.from_pretrained('bert-base-multilingual-cased')\n",
        "d_model = BertModel.from_pretrained('bert-base-multilingual-cased')"
      ],
      "metadata": {
        "colab": {
          "base_uri": "https://localhost:8080/",
          "height": 1000,
          "referenced_widgets": [
            "22c30970593a4d2f97c3ed3bfa614a81",
            "6d3d8db52b304b348f9a7fc3833f85b1",
            "c0cb3419329a4cd4b614ad773a82f075",
            "4f67a0300528494c98be4d12e261123e",
            "5a2bfded81f740328af69f3af2da97db",
            "2faaaf62dffb48f49acf680cddf4ca56",
            "53d901a52d9a42568826c8f8a1b99e86",
            "7094267bcca7415abc59b0cd9a9b93b1",
            "1c43be3884b249d483206250dba602ce",
            "2d29d8a6673a4cfba45b4ea7fa38075b",
            "60a981051d724356ab27468f658b3479",
            "a09f192db2154a24a1d08fc29bf18e94",
            "095bd257f01f4d19b5579d38e7bea8fa",
            "4b001c1feb9445a6941c74b670531238",
            "a647f91a735744b19d9b868879b0eacf",
            "1acab5c4d0d544d4bda9613942493534",
            "1253119c22264eb28f0adecd6a0206bc",
            "ee849709200b46aa9a67ac9bd0f95104",
            "d33756cfd78d4e1c913f92adf8350269",
            "78f175f0f4954a7185365e4c02390f55",
            "054edf46fe114e90a7ce9fd0a36cc216",
            "6b12ba59c99f4e888102b8d67d189129",
            "31411608fc8f40f5b841a0626bdeb03b",
            "da0421ddaf82483dac9500a7992c4d9d",
            "0097312eaa484b45b9157770220143d8",
            "1c213f4029b840a3b8f21a4e19688c32",
            "f41f53a1dded4e8e933b4adaf950ff31",
            "e8a157059d9f48e4a619318369450d79",
            "6536ecada133402d85c448ca71560d2d",
            "f648dbdeebab44fb903e0571e036b5b6",
            "8256679ed9fc4c8ea0d8070ca0cde5dc",
            "4f016a7f43704bcf99b31cada3ea82b7",
            "0c7c55e231e84e15b683eda25a6a1880",
            "9c283ba01cc84d7b92cc082cb7c97c80",
            "c0b26402560644ed8f343eba9a3da40f",
            "8460b0e597c94780b8886c3e4e504f13",
            "ba7941f193864989a3a5b962b6e39a8a",
            "100615e3272c45dfa0bdb77e83951046",
            "01c1460bf83e41a58225aaaebec0d573",
            "64ad8f83cb564a5ebc0d352634747887",
            "ebebc3208756420c931570175f2692e4",
            "fc3e8c0ca6f24671b38a1dd2183fcfec",
            "49d824d9f009440e8a63f13855799b46",
            "84da65152e954d1da96d1671965f266e"
          ]
        },
        "id": "KpDVpSd5LHdk",
        "outputId": "35a76d1b-a75f-4837-8ab9-c4e87b6aa49e"
      },
      "execution_count": null,
      "outputs": [
        {
          "output_type": "stream",
          "name": "stderr",
          "text": [
            "https://huggingface.co/bert-base-multilingual-cased/resolve/main/vocab.txt not found in cache or force_download set to True, downloading to /root/.cache/huggingface/transformers/tmp4uexwznx\n"
          ]
        },
        {
          "output_type": "display_data",
          "data": {
            "text/plain": [
              "Downloading:   0%|          | 0.00/972k [00:00<?, ?B/s]"
            ],
            "application/vnd.jupyter.widget-view+json": {
              "version_major": 2,
              "version_minor": 0,
              "model_id": "22c30970593a4d2f97c3ed3bfa614a81"
            }
          },
          "metadata": {}
        },
        {
          "output_type": "stream",
          "name": "stderr",
          "text": [
            "storing https://huggingface.co/bert-base-multilingual-cased/resolve/main/vocab.txt in cache at /root/.cache/huggingface/transformers/eff018e45de5364a8368df1f2df3461d506e2a111e9dd50af1fae061cd460ead.6c5b6600e968f4b5e08c86d8891ea99e51537fc2bf251435fb46922e8f7a7b29\n",
            "creating metadata file for /root/.cache/huggingface/transformers/eff018e45de5364a8368df1f2df3461d506e2a111e9dd50af1fae061cd460ead.6c5b6600e968f4b5e08c86d8891ea99e51537fc2bf251435fb46922e8f7a7b29\n",
            "https://huggingface.co/bert-base-multilingual-cased/resolve/main/tokenizer_config.json not found in cache or force_download set to True, downloading to /root/.cache/huggingface/transformers/tmpymrcjwc6\n"
          ]
        },
        {
          "output_type": "display_data",
          "data": {
            "text/plain": [
              "Downloading:   0%|          | 0.00/29.0 [00:00<?, ?B/s]"
            ],
            "application/vnd.jupyter.widget-view+json": {
              "version_major": 2,
              "version_minor": 0,
              "model_id": "a09f192db2154a24a1d08fc29bf18e94"
            }
          },
          "metadata": {}
        },
        {
          "output_type": "stream",
          "name": "stderr",
          "text": [
            "storing https://huggingface.co/bert-base-multilingual-cased/resolve/main/tokenizer_config.json in cache at /root/.cache/huggingface/transformers/f55e7a2ad4f8d0fff2733b3f79777e1e99247f2e4583703e92ce74453af8c235.ec5c189f89475aac7d8cbd243960a0655cfadc3d0474da8ff2ed0bf1699c2a5f\n",
            "creating metadata file for /root/.cache/huggingface/transformers/f55e7a2ad4f8d0fff2733b3f79777e1e99247f2e4583703e92ce74453af8c235.ec5c189f89475aac7d8cbd243960a0655cfadc3d0474da8ff2ed0bf1699c2a5f\n",
            "loading file https://huggingface.co/bert-base-multilingual-cased/resolve/main/vocab.txt from cache at /root/.cache/huggingface/transformers/eff018e45de5364a8368df1f2df3461d506e2a111e9dd50af1fae061cd460ead.6c5b6600e968f4b5e08c86d8891ea99e51537fc2bf251435fb46922e8f7a7b29\n",
            "loading file https://huggingface.co/bert-base-multilingual-cased/resolve/main/added_tokens.json from cache at None\n",
            "loading file https://huggingface.co/bert-base-multilingual-cased/resolve/main/special_tokens_map.json from cache at None\n",
            "loading file https://huggingface.co/bert-base-multilingual-cased/resolve/main/tokenizer_config.json from cache at /root/.cache/huggingface/transformers/f55e7a2ad4f8d0fff2733b3f79777e1e99247f2e4583703e92ce74453af8c235.ec5c189f89475aac7d8cbd243960a0655cfadc3d0474da8ff2ed0bf1699c2a5f\n",
            "https://huggingface.co/bert-base-multilingual-cased/resolve/main/config.json not found in cache or force_download set to True, downloading to /root/.cache/huggingface/transformers/tmptqz_1680\n"
          ]
        },
        {
          "output_type": "display_data",
          "data": {
            "text/plain": [
              "Downloading:   0%|          | 0.00/625 [00:00<?, ?B/s]"
            ],
            "application/vnd.jupyter.widget-view+json": {
              "version_major": 2,
              "version_minor": 0,
              "model_id": "31411608fc8f40f5b841a0626bdeb03b"
            }
          },
          "metadata": {}
        },
        {
          "output_type": "stream",
          "name": "stderr",
          "text": [
            "storing https://huggingface.co/bert-base-multilingual-cased/resolve/main/config.json in cache at /root/.cache/huggingface/transformers/6c4a5d81a58c9791cdf76a09bce1b5abfb9cf958aebada51200f4515403e5d08.0fe59f3f4f1335dadeb4bce8b8146199d9083512b50d07323c1c319f96df450c\n",
            "creating metadata file for /root/.cache/huggingface/transformers/6c4a5d81a58c9791cdf76a09bce1b5abfb9cf958aebada51200f4515403e5d08.0fe59f3f4f1335dadeb4bce8b8146199d9083512b50d07323c1c319f96df450c\n",
            "loading configuration file https://huggingface.co/bert-base-multilingual-cased/resolve/main/config.json from cache at /root/.cache/huggingface/transformers/6c4a5d81a58c9791cdf76a09bce1b5abfb9cf958aebada51200f4515403e5d08.0fe59f3f4f1335dadeb4bce8b8146199d9083512b50d07323c1c319f96df450c\n",
            "Model config BertConfig {\n",
            "  \"_name_or_path\": \"bert-base-multilingual-cased\",\n",
            "  \"architectures\": [\n",
            "    \"BertForMaskedLM\"\n",
            "  ],\n",
            "  \"attention_probs_dropout_prob\": 0.1,\n",
            "  \"classifier_dropout\": null,\n",
            "  \"directionality\": \"bidi\",\n",
            "  \"hidden_act\": \"gelu\",\n",
            "  \"hidden_dropout_prob\": 0.1,\n",
            "  \"hidden_size\": 768,\n",
            "  \"initializer_range\": 0.02,\n",
            "  \"intermediate_size\": 3072,\n",
            "  \"layer_norm_eps\": 1e-12,\n",
            "  \"max_position_embeddings\": 512,\n",
            "  \"model_type\": \"bert\",\n",
            "  \"num_attention_heads\": 12,\n",
            "  \"num_hidden_layers\": 12,\n",
            "  \"pad_token_id\": 0,\n",
            "  \"pooler_fc_size\": 768,\n",
            "  \"pooler_num_attention_heads\": 12,\n",
            "  \"pooler_num_fc_layers\": 3,\n",
            "  \"pooler_size_per_head\": 128,\n",
            "  \"pooler_type\": \"first_token_transform\",\n",
            "  \"position_embedding_type\": \"absolute\",\n",
            "  \"transformers_version\": \"4.18.0\",\n",
            "  \"type_vocab_size\": 2,\n",
            "  \"use_cache\": true,\n",
            "  \"vocab_size\": 119547\n",
            "}\n",
            "\n",
            "loading configuration file https://huggingface.co/bert-base-multilingual-cased/resolve/main/config.json from cache at /root/.cache/huggingface/transformers/6c4a5d81a58c9791cdf76a09bce1b5abfb9cf958aebada51200f4515403e5d08.0fe59f3f4f1335dadeb4bce8b8146199d9083512b50d07323c1c319f96df450c\n",
            "Model config BertConfig {\n",
            "  \"architectures\": [\n",
            "    \"BertForMaskedLM\"\n",
            "  ],\n",
            "  \"attention_probs_dropout_prob\": 0.1,\n",
            "  \"classifier_dropout\": null,\n",
            "  \"directionality\": \"bidi\",\n",
            "  \"hidden_act\": \"gelu\",\n",
            "  \"hidden_dropout_prob\": 0.1,\n",
            "  \"hidden_size\": 768,\n",
            "  \"initializer_range\": 0.02,\n",
            "  \"intermediate_size\": 3072,\n",
            "  \"layer_norm_eps\": 1e-12,\n",
            "  \"max_position_embeddings\": 512,\n",
            "  \"model_type\": \"bert\",\n",
            "  \"num_attention_heads\": 12,\n",
            "  \"num_hidden_layers\": 12,\n",
            "  \"pad_token_id\": 0,\n",
            "  \"pooler_fc_size\": 768,\n",
            "  \"pooler_num_attention_heads\": 12,\n",
            "  \"pooler_num_fc_layers\": 3,\n",
            "  \"pooler_size_per_head\": 128,\n",
            "  \"pooler_type\": \"first_token_transform\",\n",
            "  \"position_embedding_type\": \"absolute\",\n",
            "  \"transformers_version\": \"4.18.0\",\n",
            "  \"type_vocab_size\": 2,\n",
            "  \"use_cache\": true,\n",
            "  \"vocab_size\": 119547\n",
            "}\n",
            "\n",
            "https://huggingface.co/bert-base-multilingual-cased/resolve/main/pytorch_model.bin not found in cache or force_download set to True, downloading to /root/.cache/huggingface/transformers/tmpqwuv6cva\n"
          ]
        },
        {
          "output_type": "display_data",
          "data": {
            "text/plain": [
              "Downloading:   0%|          | 0.00/681M [00:00<?, ?B/s]"
            ],
            "application/vnd.jupyter.widget-view+json": {
              "version_major": 2,
              "version_minor": 0,
              "model_id": "9c283ba01cc84d7b92cc082cb7c97c80"
            }
          },
          "metadata": {}
        },
        {
          "output_type": "stream",
          "name": "stderr",
          "text": [
            "storing https://huggingface.co/bert-base-multilingual-cased/resolve/main/pytorch_model.bin in cache at /root/.cache/huggingface/transformers/0a3fd51713dcbb4def175c7f85bddc995d5976ce1dde327f99104e4d33069f17.aa7be4c79d76f4066d9b354496ea477c9ee39c5d889156dd1efb680643c2b052\n",
            "creating metadata file for /root/.cache/huggingface/transformers/0a3fd51713dcbb4def175c7f85bddc995d5976ce1dde327f99104e4d33069f17.aa7be4c79d76f4066d9b354496ea477c9ee39c5d889156dd1efb680643c2b052\n",
            "loading weights file https://huggingface.co/bert-base-multilingual-cased/resolve/main/pytorch_model.bin from cache at /root/.cache/huggingface/transformers/0a3fd51713dcbb4def175c7f85bddc995d5976ce1dde327f99104e4d33069f17.aa7be4c79d76f4066d9b354496ea477c9ee39c5d889156dd1efb680643c2b052\n",
            "Some weights of the model checkpoint at bert-base-multilingual-cased were not used when initializing BertModel: ['cls.seq_relationship.bias', 'cls.predictions.transform.LayerNorm.bias', 'cls.seq_relationship.weight', 'cls.predictions.transform.dense.weight', 'cls.predictions.transform.dense.bias', 'cls.predictions.decoder.weight', 'cls.predictions.transform.LayerNorm.weight', 'cls.predictions.bias']\n",
            "- This IS expected if you are initializing BertModel from the checkpoint of a model trained on another task or with another architecture (e.g. initializing a BertForSequenceClassification model from a BertForPreTraining model).\n",
            "- This IS NOT expected if you are initializing BertModel from the checkpoint of a model that you expect to be exactly identical (initializing a BertForSequenceClassification model from a BertForSequenceClassification model).\n",
            "All the weights of BertModel were initialized from the model checkpoint at bert-base-multilingual-cased.\n",
            "If your task is similar to the task the model of the checkpoint was trained on, you can already use BertModel for predictions without further training.\n"
          ]
        }
      ]
    },
    {
      "cell_type": "code",
      "source": [
        "bert_model = Summarizer(custom_model=d_model, custom_tokenizer=d_tokenizer)#, custom_tokenizer=d_tokenizer)"
      ],
      "metadata": {
        "id": "uDc99v45ciF3"
      },
      "execution_count": null,
      "outputs": []
    },
    {
      "cell_type": "code",
      "source": [
        "text = dataset_orangesum['train'][2]['input']\n",
        "''.join(bert_model(text))"
      ],
      "metadata": {
        "colab": {
          "base_uri": "https://localhost:8080/",
          "height": 345
        },
        "id": "xPXmioXcMGHj",
        "outputId": "e7eb72f7-dc8b-4d3a-d15a-f79708a6fb8a"
      },
      "execution_count": null,
      "outputs": [
        {
          "output_type": "error",
          "ename": "IndexError",
          "evalue": "ignored",
          "traceback": [
            "\u001b[0;31m---------------------------------------------------------------------------\u001b[0m",
            "\u001b[0;31mIndexError\u001b[0m                                Traceback (most recent call last)",
            "\u001b[0;32m<ipython-input-62-ad1fb1bea9a1>\u001b[0m in \u001b[0;36m<module>\u001b[0;34m()\u001b[0m\n\u001b[1;32m      1\u001b[0m \u001b[0mtext\u001b[0m \u001b[0;34m=\u001b[0m \u001b[0mdataset_orangesum\u001b[0m\u001b[0;34m[\u001b[0m\u001b[0;34m'train'\u001b[0m\u001b[0;34m]\u001b[0m\u001b[0;34m[\u001b[0m\u001b[0;36m2\u001b[0m\u001b[0;34m]\u001b[0m\u001b[0;34m[\u001b[0m\u001b[0;34m'input'\u001b[0m\u001b[0;34m]\u001b[0m\u001b[0;34m\u001b[0m\u001b[0;34m\u001b[0m\u001b[0m\n\u001b[0;32m----> 2\u001b[0;31m \u001b[0;34m(\u001b[0m\u001b[0mbert_model\u001b[0m\u001b[0;34m(\u001b[0m\u001b[0mtext\u001b[0m\u001b[0;34m)\u001b[0m\u001b[0;34m)\u001b[0m\u001b[0;34m\u001b[0m\u001b[0;34m\u001b[0m\u001b[0m\n\u001b[0m",
            "\u001b[0;32m/usr/local/lib/python3.7/dist-packages/summarizer/summary_processor.py\u001b[0m in \u001b[0;36m__call__\u001b[0;34m(self, body, ratio, min_length, max_length, use_first, algorithm, num_sentences, return_as_list)\u001b[0m\n\u001b[1;32m    233\u001b[0m         \"\"\"\n\u001b[1;32m    234\u001b[0m         return self.run(body, ratio, min_length, max_length,\n\u001b[0;32m--> 235\u001b[0;31m                         use_first, algorithm, num_sentences, return_as_list)\n\u001b[0m\u001b[1;32m    236\u001b[0m \u001b[0;34m\u001b[0m\u001b[0m\n",
            "\u001b[0;32m/usr/local/lib/python3.7/dist-packages/summarizer/summary_processor.py\u001b[0m in \u001b[0;36mrun\u001b[0;34m(self, body, ratio, min_length, max_length, use_first, algorithm, num_sentences, return_as_list)\u001b[0m\n\u001b[1;32m    200\u001b[0m \u001b[0;34m\u001b[0m\u001b[0m\n\u001b[1;32m    201\u001b[0m         \u001b[0;32mif\u001b[0m \u001b[0msentences\u001b[0m\u001b[0;34m:\u001b[0m\u001b[0;34m\u001b[0m\u001b[0;34m\u001b[0m\u001b[0m\n\u001b[0;32m--> 202\u001b[0;31m             \u001b[0msentences\u001b[0m\u001b[0;34m,\u001b[0m \u001b[0m_\u001b[0m \u001b[0;34m=\u001b[0m \u001b[0mself\u001b[0m\u001b[0;34m.\u001b[0m\u001b[0mcluster_runner\u001b[0m\u001b[0;34m(\u001b[0m\u001b[0msentences\u001b[0m\u001b[0;34m,\u001b[0m \u001b[0mratio\u001b[0m\u001b[0;34m,\u001b[0m \u001b[0malgorithm\u001b[0m\u001b[0;34m,\u001b[0m \u001b[0muse_first\u001b[0m\u001b[0;34m,\u001b[0m \u001b[0mnum_sentences\u001b[0m\u001b[0;34m)\u001b[0m\u001b[0;34m\u001b[0m\u001b[0;34m\u001b[0m\u001b[0m\n\u001b[0m\u001b[1;32m    203\u001b[0m \u001b[0;34m\u001b[0m\u001b[0m\n\u001b[1;32m    204\u001b[0m         \u001b[0;32mif\u001b[0m \u001b[0mreturn_as_list\u001b[0m\u001b[0;34m:\u001b[0m\u001b[0;34m\u001b[0m\u001b[0;34m\u001b[0m\u001b[0m\n",
            "\u001b[0;32m/usr/local/lib/python3.7/dist-packages/summarizer/summary_processor.py\u001b[0m in \u001b[0;36mcluster_runner\u001b[0;34m(self, sentences, ratio, algorithm, use_first, num_sentences)\u001b[0m\n\u001b[1;32m    106\u001b[0m         \"\"\"\n\u001b[1;32m    107\u001b[0m         \u001b[0mfirst_embedding\u001b[0m \u001b[0;34m=\u001b[0m \u001b[0;32mNone\u001b[0m\u001b[0;34m\u001b[0m\u001b[0;34m\u001b[0m\u001b[0m\n\u001b[0;32m--> 108\u001b[0;31m         \u001b[0mhidden\u001b[0m \u001b[0;34m=\u001b[0m \u001b[0mself\u001b[0m\u001b[0;34m.\u001b[0m\u001b[0mmodel\u001b[0m\u001b[0;34m(\u001b[0m\u001b[0msentences\u001b[0m\u001b[0;34m)\u001b[0m\u001b[0;34m\u001b[0m\u001b[0;34m\u001b[0m\u001b[0m\n\u001b[0m\u001b[1;32m    109\u001b[0m \u001b[0;34m\u001b[0m\u001b[0m\n\u001b[1;32m    110\u001b[0m         \u001b[0;32mif\u001b[0m \u001b[0muse_first\u001b[0m\u001b[0;34m:\u001b[0m\u001b[0;34m\u001b[0m\u001b[0;34m\u001b[0m\u001b[0m\n",
            "\u001b[0;32m/usr/local/lib/python3.7/dist-packages/summarizer/transformer_embeddings/bert_embedding.py\u001b[0m in \u001b[0;36m__call__\u001b[0;34m(self, content, hidden, reduce_option, hidden_concat)\u001b[0m\n\u001b[1;32m    171\u001b[0m         \u001b[0;34m:\u001b[0m\u001b[0;32mreturn\u001b[0m\u001b[0;34m:\u001b[0m \u001b[0mA\u001b[0m \u001b[0mnumpy\u001b[0m \u001b[0marray\u001b[0m \u001b[0mmatrix\u001b[0m \u001b[0mof\u001b[0m \u001b[0mthe\u001b[0m \u001b[0mgiven\u001b[0m \u001b[0mcontent\u001b[0m\u001b[0;34m.\u001b[0m\u001b[0;34m\u001b[0m\u001b[0;34m\u001b[0m\u001b[0m\n\u001b[1;32m    172\u001b[0m         \"\"\"\n\u001b[0;32m--> 173\u001b[0;31m         \u001b[0;32mreturn\u001b[0m \u001b[0mself\u001b[0m\u001b[0;34m.\u001b[0m\u001b[0mcreate_matrix\u001b[0m\u001b[0;34m(\u001b[0m\u001b[0mcontent\u001b[0m\u001b[0;34m,\u001b[0m \u001b[0mhidden\u001b[0m\u001b[0;34m,\u001b[0m \u001b[0mreduce_option\u001b[0m\u001b[0;34m,\u001b[0m \u001b[0mhidden_concat\u001b[0m\u001b[0;34m)\u001b[0m\u001b[0;34m\u001b[0m\u001b[0;34m\u001b[0m\u001b[0m\n\u001b[0m",
            "\u001b[0;32m/usr/local/lib/python3.7/dist-packages/summarizer/transformer_embeddings/bert_embedding.py\u001b[0m in \u001b[0;36mcreate_matrix\u001b[0;34m(self, content, hidden, reduce_option, hidden_concat)\u001b[0m\n\u001b[1;32m    152\u001b[0m             np.squeeze(self.extract_embeddings(\n\u001b[1;32m    153\u001b[0m                 \u001b[0mt\u001b[0m\u001b[0;34m,\u001b[0m \u001b[0mhidden\u001b[0m\u001b[0;34m=\u001b[0m\u001b[0mhidden\u001b[0m\u001b[0;34m,\u001b[0m \u001b[0mreduce_option\u001b[0m\u001b[0;34m=\u001b[0m\u001b[0mreduce_option\u001b[0m\u001b[0;34m,\u001b[0m \u001b[0mhidden_concat\u001b[0m\u001b[0;34m=\u001b[0m\u001b[0mhidden_concat\u001b[0m\u001b[0;34m\u001b[0m\u001b[0;34m\u001b[0m\u001b[0m\n\u001b[0;32m--> 154\u001b[0;31m             ).data.cpu().numpy()) for t in content\n\u001b[0m\u001b[1;32m    155\u001b[0m         ])\n\u001b[1;32m    156\u001b[0m \u001b[0;34m\u001b[0m\u001b[0m\n",
            "\u001b[0;32m/usr/local/lib/python3.7/dist-packages/summarizer/transformer_embeddings/bert_embedding.py\u001b[0m in \u001b[0;36m<listcomp>\u001b[0;34m(.0)\u001b[0m\n\u001b[1;32m    152\u001b[0m             np.squeeze(self.extract_embeddings(\n\u001b[1;32m    153\u001b[0m                 \u001b[0mt\u001b[0m\u001b[0;34m,\u001b[0m \u001b[0mhidden\u001b[0m\u001b[0;34m=\u001b[0m\u001b[0mhidden\u001b[0m\u001b[0;34m,\u001b[0m \u001b[0mreduce_option\u001b[0m\u001b[0;34m=\u001b[0m\u001b[0mreduce_option\u001b[0m\u001b[0;34m,\u001b[0m \u001b[0mhidden_concat\u001b[0m\u001b[0;34m=\u001b[0m\u001b[0mhidden_concat\u001b[0m\u001b[0;34m\u001b[0m\u001b[0;34m\u001b[0m\u001b[0m\n\u001b[0;32m--> 154\u001b[0;31m             ).data.cpu().numpy()) for t in content\n\u001b[0m\u001b[1;32m    155\u001b[0m         ])\n\u001b[1;32m    156\u001b[0m \u001b[0;34m\u001b[0m\u001b[0m\n",
            "\u001b[0;32m/usr/local/lib/python3.7/dist-packages/summarizer/transformer_embeddings/bert_embedding.py\u001b[0m in \u001b[0;36mextract_embeddings\u001b[0;34m(self, text, hidden, reduce_option, hidden_concat)\u001b[0m\n\u001b[1;32m    119\u001b[0m \u001b[0;34m\u001b[0m\u001b[0m\n\u001b[1;32m    120\u001b[0m         \u001b[0;32melif\u001b[0m \u001b[0mtype\u001b[0m\u001b[0;34m(\u001b[0m\u001b[0mhidden\u001b[0m\u001b[0;34m)\u001b[0m \u001b[0;34m==\u001b[0m \u001b[0mint\u001b[0m\u001b[0;34m:\u001b[0m\u001b[0;34m\u001b[0m\u001b[0;34m\u001b[0m\u001b[0m\n\u001b[0;32m--> 121\u001b[0;31m             \u001b[0mhidden_s\u001b[0m \u001b[0;34m=\u001b[0m \u001b[0mhidden_states\u001b[0m\u001b[0;34m[\u001b[0m\u001b[0mhidden\u001b[0m\u001b[0;34m]\u001b[0m\u001b[0;34m\u001b[0m\u001b[0;34m\u001b[0m\u001b[0m\n\u001b[0m\u001b[1;32m    122\u001b[0m             \u001b[0;32mreturn\u001b[0m \u001b[0mself\u001b[0m\u001b[0;34m.\u001b[0m\u001b[0m_pooled_handler\u001b[0m\u001b[0;34m(\u001b[0m\u001b[0mhidden_s\u001b[0m\u001b[0;34m,\u001b[0m \u001b[0mreduce_option\u001b[0m\u001b[0;34m)\u001b[0m\u001b[0;34m\u001b[0m\u001b[0;34m\u001b[0m\u001b[0m\n\u001b[1;32m    123\u001b[0m \u001b[0;34m\u001b[0m\u001b[0m\n",
            "\u001b[0;31mIndexError\u001b[0m: index -2 is out of bounds for dimension 0 with size 1"
          ]
        }
      ]
    },
    {
      "cell_type": "code",
      "source": [
        "from transformers import FlaubertModel, FlaubertTokenizer"
      ],
      "metadata": {
        "id": "q7a72ApBZU-b"
      },
      "execution_count": null,
      "outputs": []
    },
    {
      "cell_type": "code",
      "source": [
        "flaubert, log = FlaubertModel.from_pretrained('flaubert/flaubert_base_uncased', output_loading_info=True)\n",
        "flaubert_tokenizer = FlaubertTokenizer.from_pretrained('flaubert/flaubert_base_uncased', do_lowercase=False)"
      ],
      "metadata": {
        "colab": {
          "base_uri": "https://localhost:8080/"
        },
        "id": "F8JZKjPrZfyu",
        "outputId": "34b9c7d1-cb7e-4377-bdd6-30bbd3ab323a"
      },
      "execution_count": null,
      "outputs": [
        {
          "output_type": "stream",
          "name": "stderr",
          "text": [
            "loading configuration file https://huggingface.co/flaubert/flaubert_base_uncased/resolve/main/config.json from cache at /root/.cache/huggingface/transformers/e1867fa0786e2014b9852785da86036f5b6e362a1a12ef7fd5bdb5dfb90d066d.e43f7e1b6e698c2c1b770b737c083d9fc328d06e933a70671ef34b9de564c296\n",
            "Model config FlaubertConfig {\n",
            "  \"amp\": 1,\n",
            "  \"architectures\": [\n",
            "    \"FlaubertWithLMHeadModel\"\n",
            "  ],\n",
            "  \"asm\": false,\n",
            "  \"attention_dropout\": 0.1,\n",
            "  \"bos_index\": 0,\n",
            "  \"bos_token_id\": 0,\n",
            "  \"bptt\": 512,\n",
            "  \"causal\": false,\n",
            "  \"clip_grad_norm\": 5,\n",
            "  \"dropout\": 0.1,\n",
            "  \"emb_dim\": 768,\n",
            "  \"embed_init_std\": 0.02209708691207961,\n",
            "  \"encoder_only\": true,\n",
            "  \"end_n_top\": 5,\n",
            "  \"eos_index\": 1,\n",
            "  \"fp16\": true,\n",
            "  \"gelu_activation\": true,\n",
            "  \"group_by_size\": true,\n",
            "  \"id2lang\": {\n",
            "    \"0\": \"fr\"\n",
            "  },\n",
            "  \"init_std\": 0.02,\n",
            "  \"is_encoder\": true,\n",
            "  \"lang2id\": {\n",
            "    \"fr\": 0\n",
            "  },\n",
            "  \"lang_id\": 0,\n",
            "  \"langs\": [\n",
            "    \"fr\"\n",
            "  ],\n",
            "  \"layer_norm_eps\": 1e-12,\n",
            "  \"layerdrop\": 0.0,\n",
            "  \"lg_sampling_factor\": -1,\n",
            "  \"lgs\": \"fr\",\n",
            "  \"mask_index\": 5,\n",
            "  \"mask_token_id\": 0,\n",
            "  \"max_batch_size\": 0,\n",
            "  \"max_position_embeddings\": 512,\n",
            "  \"max_vocab\": -1,\n",
            "  \"mlm_steps\": [\n",
            "    [\n",
            "      \"fr\",\n",
            "      null\n",
            "    ]\n",
            "  ],\n",
            "  \"model_type\": \"flaubert\",\n",
            "  \"n_heads\": 12,\n",
            "  \"n_langs\": 1,\n",
            "  \"n_layers\": 12,\n",
            "  \"pad_index\": 2,\n",
            "  \"pad_token_id\": 2,\n",
            "  \"pre_norm\": false,\n",
            "  \"sample_alpha\": 0,\n",
            "  \"share_inout_emb\": true,\n",
            "  \"sinusoidal_embeddings\": false,\n",
            "  \"start_n_top\": 5,\n",
            "  \"summary_activation\": null,\n",
            "  \"summary_first_dropout\": 0.1,\n",
            "  \"summary_proj_to_labels\": true,\n",
            "  \"summary_type\": \"first\",\n",
            "  \"summary_use_proj\": true,\n",
            "  \"tokens_per_batch\": -1,\n",
            "  \"transformers_version\": \"4.18.0\",\n",
            "  \"unk_index\": 3,\n",
            "  \"use_lang_emb\": true,\n",
            "  \"vocab_size\": 67542,\n",
            "  \"word_blank\": 0,\n",
            "  \"word_dropout\": 0,\n",
            "  \"word_keep\": 0.1,\n",
            "  \"word_mask\": 0.8,\n",
            "  \"word_mask_keep_rand\": \"0.8,0.1,0.1\",\n",
            "  \"word_pred\": 0.15,\n",
            "  \"word_rand\": 0.1,\n",
            "  \"word_shuffle\": 0\n",
            "}\n",
            "\n",
            "loading weights file https://huggingface.co/flaubert/flaubert_base_uncased/resolve/main/pytorch_model.bin from cache at /root/.cache/huggingface/transformers/9388b3cb1208536c45a080401bc5c5b8a98e2566acb21577cb2cde9501c31009.6d537214332c5b9661e278308f50a7ac45ca9c2f222b9f8fc6e0ed122dc7481f\n",
            "Some weights of the model checkpoint at flaubert/flaubert_base_uncased were not used when initializing FlaubertModel: ['pred_layer.proj.weight', 'pred_layer.proj.bias']\n",
            "- This IS expected if you are initializing FlaubertModel from the checkpoint of a model trained on another task or with another architecture (e.g. initializing a BertForSequenceClassification model from a BertForPreTraining model).\n",
            "- This IS NOT expected if you are initializing FlaubertModel from the checkpoint of a model that you expect to be exactly identical (initializing a BertForSequenceClassification model from a BertForSequenceClassification model).\n",
            "All the weights of FlaubertModel were initialized from the model checkpoint at flaubert/flaubert_base_uncased.\n",
            "If your task is similar to the task the model of the checkpoint was trained on, you can already use FlaubertModel for predictions without further training.\n",
            "loading file https://huggingface.co/flaubert/flaubert_base_uncased/resolve/main/vocab.json from cache at /root/.cache/huggingface/transformers/f6bf5939dfb641abdd3e4a60fd762e3d6b8da868a21b46898a8723c6670b4b0b.707e24fb3bfb59f4e3ec049837dd1fa56a46c79935ef7cc1c6a6ad4b81a4f85d\n",
            "loading file https://huggingface.co/flaubert/flaubert_base_uncased/resolve/main/merges.txt from cache at /root/.cache/huggingface/transformers/484b1a240a8180c92be0486605927c90e2223f68d7923464efaa6a614bef7ccd.3647a3ce68adbcccfd94f5a48ea737744305461bd0e2644a2ab9c9fd74905d93\n",
            "loading file https://huggingface.co/flaubert/flaubert_base_uncased/resolve/main/added_tokens.json from cache at None\n",
            "loading file https://huggingface.co/flaubert/flaubert_base_uncased/resolve/main/special_tokens_map.json from cache at None\n",
            "loading file https://huggingface.co/flaubert/flaubert_base_uncased/resolve/main/tokenizer_config.json from cache at /root/.cache/huggingface/transformers/97afbed8fc80662cd77d089b5a0a528a3f6fd650d7159b68d9bfcd4fb311643b.12bac843f00101f05fadae918b33d5476f3f86bd41452c7da0ca2966356a567c\n",
            "loading configuration file https://huggingface.co/flaubert/flaubert_base_uncased/resolve/main/config.json from cache at /root/.cache/huggingface/transformers/e1867fa0786e2014b9852785da86036f5b6e362a1a12ef7fd5bdb5dfb90d066d.e43f7e1b6e698c2c1b770b737c083d9fc328d06e933a70671ef34b9de564c296\n",
            "Model config FlaubertConfig {\n",
            "  \"_name_or_path\": \"flaubert/flaubert_base_uncased\",\n",
            "  \"amp\": 1,\n",
            "  \"architectures\": [\n",
            "    \"FlaubertWithLMHeadModel\"\n",
            "  ],\n",
            "  \"asm\": false,\n",
            "  \"attention_dropout\": 0.1,\n",
            "  \"bos_index\": 0,\n",
            "  \"bos_token_id\": 0,\n",
            "  \"bptt\": 512,\n",
            "  \"causal\": false,\n",
            "  \"clip_grad_norm\": 5,\n",
            "  \"dropout\": 0.1,\n",
            "  \"emb_dim\": 768,\n",
            "  \"embed_init_std\": 0.02209708691207961,\n",
            "  \"encoder_only\": true,\n",
            "  \"end_n_top\": 5,\n",
            "  \"eos_index\": 1,\n",
            "  \"fp16\": true,\n",
            "  \"gelu_activation\": true,\n",
            "  \"group_by_size\": true,\n",
            "  \"id2lang\": {\n",
            "    \"0\": \"fr\"\n",
            "  },\n",
            "  \"init_std\": 0.02,\n",
            "  \"is_encoder\": true,\n",
            "  \"lang2id\": {\n",
            "    \"fr\": 0\n",
            "  },\n",
            "  \"lang_id\": 0,\n",
            "  \"langs\": [\n",
            "    \"fr\"\n",
            "  ],\n",
            "  \"layer_norm_eps\": 1e-12,\n",
            "  \"layerdrop\": 0.0,\n",
            "  \"lg_sampling_factor\": -1,\n",
            "  \"lgs\": \"fr\",\n",
            "  \"mask_index\": 5,\n",
            "  \"mask_token_id\": 0,\n",
            "  \"max_batch_size\": 0,\n",
            "  \"max_position_embeddings\": 512,\n",
            "  \"max_vocab\": -1,\n",
            "  \"mlm_steps\": [\n",
            "    [\n",
            "      \"fr\",\n",
            "      null\n",
            "    ]\n",
            "  ],\n",
            "  \"model_type\": \"flaubert\",\n",
            "  \"n_heads\": 12,\n",
            "  \"n_langs\": 1,\n",
            "  \"n_layers\": 12,\n",
            "  \"pad_index\": 2,\n",
            "  \"pad_token_id\": 2,\n",
            "  \"pre_norm\": false,\n",
            "  \"sample_alpha\": 0,\n",
            "  \"share_inout_emb\": true,\n",
            "  \"sinusoidal_embeddings\": false,\n",
            "  \"start_n_top\": 5,\n",
            "  \"summary_activation\": null,\n",
            "  \"summary_first_dropout\": 0.1,\n",
            "  \"summary_proj_to_labels\": true,\n",
            "  \"summary_type\": \"first\",\n",
            "  \"summary_use_proj\": true,\n",
            "  \"tokens_per_batch\": -1,\n",
            "  \"transformers_version\": \"4.18.0\",\n",
            "  \"unk_index\": 3,\n",
            "  \"use_lang_emb\": true,\n",
            "  \"vocab_size\": 67542,\n",
            "  \"word_blank\": 0,\n",
            "  \"word_dropout\": 0,\n",
            "  \"word_keep\": 0.1,\n",
            "  \"word_mask\": 0.8,\n",
            "  \"word_mask_keep_rand\": \"0.8,0.1,0.1\",\n",
            "  \"word_pred\": 0.15,\n",
            "  \"word_rand\": 0.1,\n",
            "  \"word_shuffle\": 0\n",
            "}\n",
            "\n"
          ]
        }
      ]
    },
    {
      "cell_type": "code",
      "source": [
        "bert_model = Summarizer()\n",
        "bert_summary = ''.join(bert_model(text, min_length=60))\n",
        "print(bert_summary)"
      ],
      "metadata": {
        "colab": {
          "base_uri": "https://localhost:8080/",
          "height": 1000,
          "referenced_widgets": [
            "d2f3009f1c9e4a82bbb6726ea85e2410",
            "758097c7014a4b399751f818f5a5a796",
            "5cde647c13524d23a6ec853f002815ab",
            "3fcf71d08bf046b08a9d3ddb05175e31",
            "36e5013e87c44367a2745cb41de0b546",
            "0d51bc967b6c42d7b8b9ed6261a4d1ca",
            "22dbacdc37154f12bfc4c4fc63e8690a",
            "f3368dd47b004f9bae459091b66acdf8",
            "6747acdcd2b04b91862358d5ef9e3cc9",
            "c32c0cc947af45f09627e291d90bf788",
            "7cf2204d938f42c6be156a236c1df84d"
          ]
        },
        "id": "ysCPnSPXgmKe",
        "outputId": "2900fa74-f303-4fd5-e7ca-0c3c79e988fb"
      },
      "execution_count": null,
      "outputs": [
        {
          "output_type": "stream",
          "name": "stderr",
          "text": [
            "loading configuration file https://huggingface.co/bert-large-uncased/resolve/main/config.json from cache at /root/.cache/huggingface/transformers/1cf090f220f9674b67b3434decfe4d40a6532d7849653eac435ff94d31a4904c.1d03e5e4fa2db2532c517b2cd98290d8444b237619bd3d2039850a6d5e86473d\n",
            "Model config BertConfig {\n",
            "  \"architectures\": [\n",
            "    \"BertForMaskedLM\"\n",
            "  ],\n",
            "  \"attention_probs_dropout_prob\": 0.1,\n",
            "  \"classifier_dropout\": null,\n",
            "  \"gradient_checkpointing\": false,\n",
            "  \"hidden_act\": \"gelu\",\n",
            "  \"hidden_dropout_prob\": 0.1,\n",
            "  \"hidden_size\": 1024,\n",
            "  \"initializer_range\": 0.02,\n",
            "  \"intermediate_size\": 4096,\n",
            "  \"layer_norm_eps\": 1e-12,\n",
            "  \"max_position_embeddings\": 512,\n",
            "  \"model_type\": \"bert\",\n",
            "  \"num_attention_heads\": 16,\n",
            "  \"num_hidden_layers\": 24,\n",
            "  \"output_hidden_states\": true,\n",
            "  \"pad_token_id\": 0,\n",
            "  \"position_embedding_type\": \"absolute\",\n",
            "  \"transformers_version\": \"4.18.0\",\n",
            "  \"type_vocab_size\": 2,\n",
            "  \"use_cache\": true,\n",
            "  \"vocab_size\": 30522\n",
            "}\n",
            "\n",
            "https://huggingface.co/bert-large-uncased/resolve/main/pytorch_model.bin not found in cache or force_download set to True, downloading to /root/.cache/huggingface/transformers/tmpwgswtiyf\n"
          ]
        },
        {
          "output_type": "display_data",
          "data": {
            "text/plain": [
              "Downloading:   0%|          | 0.00/1.25G [00:00<?, ?B/s]"
            ],
            "application/vnd.jupyter.widget-view+json": {
              "version_major": 2,
              "version_minor": 0,
              "model_id": "d2f3009f1c9e4a82bbb6726ea85e2410"
            }
          },
          "metadata": {}
        },
        {
          "output_type": "stream",
          "name": "stderr",
          "text": [
            "storing https://huggingface.co/bert-large-uncased/resolve/main/pytorch_model.bin in cache at /root/.cache/huggingface/transformers/1d959166dd7e047e57ea1b2d9b7b9669938a7e90c5e37a03961ad9f15eaea17f.fea64cd906e3766b04c92397f9ad3ff45271749cbe49829a079dd84e34c1697d\n",
            "creating metadata file for /root/.cache/huggingface/transformers/1d959166dd7e047e57ea1b2d9b7b9669938a7e90c5e37a03961ad9f15eaea17f.fea64cd906e3766b04c92397f9ad3ff45271749cbe49829a079dd84e34c1697d\n",
            "loading weights file https://huggingface.co/bert-large-uncased/resolve/main/pytorch_model.bin from cache at /root/.cache/huggingface/transformers/1d959166dd7e047e57ea1b2d9b7b9669938a7e90c5e37a03961ad9f15eaea17f.fea64cd906e3766b04c92397f9ad3ff45271749cbe49829a079dd84e34c1697d\n",
            "Some weights of the model checkpoint at bert-large-uncased were not used when initializing BertModel: ['cls.predictions.transform.LayerNorm.bias', 'cls.seq_relationship.bias', 'cls.seq_relationship.weight', 'cls.predictions.transform.dense.weight', 'cls.predictions.transform.dense.bias', 'cls.predictions.decoder.weight', 'cls.predictions.transform.LayerNorm.weight', 'cls.predictions.bias']\n",
            "- This IS expected if you are initializing BertModel from the checkpoint of a model trained on another task or with another architecture (e.g. initializing a BertForSequenceClassification model from a BertForPreTraining model).\n",
            "- This IS NOT expected if you are initializing BertModel from the checkpoint of a model that you expect to be exactly identical (initializing a BertForSequenceClassification model from a BertForSequenceClassification model).\n",
            "All the weights of BertModel were initialized from the model checkpoint at bert-large-uncased.\n",
            "If your task is similar to the task the model of the checkpoint was trained on, you can already use BertModel for predictions without further training.\n",
            "loading file https://huggingface.co/bert-large-uncased/resolve/main/vocab.txt from cache at /root/.cache/huggingface/transformers/e12f02d630da91a0982ce6db1ad595231d155a2b725ab106971898276d842ecc.d789d64ebfe299b0e416afc4a169632f903f693095b4629a7ea271d5a0cf2c99\n",
            "loading file https://huggingface.co/bert-large-uncased/resolve/main/added_tokens.json from cache at None\n",
            "loading file https://huggingface.co/bert-large-uncased/resolve/main/special_tokens_map.json from cache at None\n",
            "loading file https://huggingface.co/bert-large-uncased/resolve/main/tokenizer_config.json from cache at /root/.cache/huggingface/transformers/300ecd79785b4602752c0085f8a89c3f0232ef367eda291c79a5600f3778b677.20430bd8e10ef77a7d2977accefe796051e01bc2fc4aa146bc862997a1a15e79\n",
            "loading configuration file https://huggingface.co/bert-large-uncased/resolve/main/config.json from cache at /root/.cache/huggingface/transformers/1cf090f220f9674b67b3434decfe4d40a6532d7849653eac435ff94d31a4904c.1d03e5e4fa2db2532c517b2cd98290d8444b237619bd3d2039850a6d5e86473d\n",
            "Model config BertConfig {\n",
            "  \"_name_or_path\": \"bert-large-uncased\",\n",
            "  \"architectures\": [\n",
            "    \"BertForMaskedLM\"\n",
            "  ],\n",
            "  \"attention_probs_dropout_prob\": 0.1,\n",
            "  \"classifier_dropout\": null,\n",
            "  \"gradient_checkpointing\": false,\n",
            "  \"hidden_act\": \"gelu\",\n",
            "  \"hidden_dropout_prob\": 0.1,\n",
            "  \"hidden_size\": 1024,\n",
            "  \"initializer_range\": 0.02,\n",
            "  \"intermediate_size\": 4096,\n",
            "  \"layer_norm_eps\": 1e-12,\n",
            "  \"max_position_embeddings\": 512,\n",
            "  \"model_type\": \"bert\",\n",
            "  \"num_attention_heads\": 16,\n",
            "  \"num_hidden_layers\": 24,\n",
            "  \"pad_token_id\": 0,\n",
            "  \"position_embedding_type\": \"absolute\",\n",
            "  \"transformers_version\": \"4.18.0\",\n",
            "  \"type_vocab_size\": 2,\n",
            "  \"use_cache\": true,\n",
            "  \"vocab_size\": 30522\n",
            "}\n",
            "\n"
          ]
        },
        {
          "output_type": "stream",
          "name": "stdout",
          "text": [
            "Juridictions de proximité par excellence, traitant les litiges du quotidien, les tribunaux d'instance s'apprêtent à fusionner avec les tribunaux de grande instance. Réforme de la justice : pourquoi les avocats, magistrats et greffe sont-ils en colère ? Des compétences ajoutés par décret Quid de leurs compétences ? La loi facilite la création de pôles spécialisés dans les départements ayant plusieurs tribunaux de grande instance et permet d'attribuer des compétences supplémentaires aux tribunaux de proximité pour mieux \"s'adapter aux besoins particuliers des territoires\", souligne le ministère de la Justice. Elle ne serait \"pas étonnée\" que le gouvernement ait souhaité \"différer des annonces\" selon les résultats électoraux de La République en marche dans les communes concernées, comme l'écrivait Le Canard enchaîné dans une série d'articles fin octobre.\n"
          ]
        }
      ]
    },
    {
      "cell_type": "code",
      "source": [
        "L,N = dataset_orangesum['train'].shape\n",
        "df1 = pd.DataFrame(columns=['summary_generated','bert_summary'])\n",
        "for i in range(100):\n",
        "  text = dataset_orangesum['train'][i+500]['input']\n",
        "  summary_generated = TextRank().summarize__(text)\n",
        "  bert_summary = ''.join(bert_model(text, min_length=60))\n",
        "  df_new_row = pd.DataFrame(data=np.array([[summary_generated,bert_summary]]), columns=['summary_generated','bert_summary'])\n",
        "  df1 = pd.concat([df1,df_new_row], ignore_index=True)"
      ],
      "metadata": {
        "colab": {
          "base_uri": "https://localhost:8080/"
        },
        "id": "5LBjVUnTcYl4",
        "outputId": "3cf5b17c-22c5-4535-fbfb-5e221c49c016"
      },
      "execution_count": null,
      "outputs": [
        {
          "output_type": "stream",
          "name": "stderr",
          "text": [
            "/usr/local/lib/python3.7/dist-packages/ipykernel_launcher.py:20: DeprecationWarning: Call to deprecated `__getitem__` (Method will be removed in 4.0.0, use self.wv.__getitem__() instead).\n",
            "/usr/local/lib/python3.7/dist-packages/ipykernel_launcher.py:20: DeprecationWarning: Call to deprecated `__getitem__` (Method will be removed in 4.0.0, use self.wv.__getitem__() instead).\n",
            "/usr/local/lib/python3.7/dist-packages/ipykernel_launcher.py:20: DeprecationWarning: Call to deprecated `__getitem__` (Method will be removed in 4.0.0, use self.wv.__getitem__() instead).\n",
            "/usr/local/lib/python3.7/dist-packages/ipykernel_launcher.py:20: DeprecationWarning: Call to deprecated `__getitem__` (Method will be removed in 4.0.0, use self.wv.__getitem__() instead).\n",
            "/usr/local/lib/python3.7/dist-packages/ipykernel_launcher.py:20: DeprecationWarning: Call to deprecated `__getitem__` (Method will be removed in 4.0.0, use self.wv.__getitem__() instead).\n",
            "/usr/local/lib/python3.7/dist-packages/ipykernel_launcher.py:20: DeprecationWarning: Call to deprecated `__getitem__` (Method will be removed in 4.0.0, use self.wv.__getitem__() instead).\n",
            "/usr/local/lib/python3.7/dist-packages/ipykernel_launcher.py:20: DeprecationWarning: Call to deprecated `__getitem__` (Method will be removed in 4.0.0, use self.wv.__getitem__() instead).\n",
            "/usr/local/lib/python3.7/dist-packages/ipykernel_launcher.py:20: DeprecationWarning: Call to deprecated `__getitem__` (Method will be removed in 4.0.0, use self.wv.__getitem__() instead).\n",
            "/usr/local/lib/python3.7/dist-packages/ipykernel_launcher.py:20: DeprecationWarning: Call to deprecated `__getitem__` (Method will be removed in 4.0.0, use self.wv.__getitem__() instead).\n",
            "/usr/local/lib/python3.7/dist-packages/ipykernel_launcher.py:20: DeprecationWarning: Call to deprecated `__getitem__` (Method will be removed in 4.0.0, use self.wv.__getitem__() instead).\n",
            "/usr/local/lib/python3.7/dist-packages/ipykernel_launcher.py:20: DeprecationWarning: Call to deprecated `__getitem__` (Method will be removed in 4.0.0, use self.wv.__getitem__() instead).\n",
            "/usr/local/lib/python3.7/dist-packages/ipykernel_launcher.py:20: DeprecationWarning: Call to deprecated `__getitem__` (Method will be removed in 4.0.0, use self.wv.__getitem__() instead).\n",
            "/usr/local/lib/python3.7/dist-packages/ipykernel_launcher.py:20: DeprecationWarning: Call to deprecated `__getitem__` (Method will be removed in 4.0.0, use self.wv.__getitem__() instead).\n",
            "/usr/local/lib/python3.7/dist-packages/ipykernel_launcher.py:20: DeprecationWarning: Call to deprecated `__getitem__` (Method will be removed in 4.0.0, use self.wv.__getitem__() instead).\n",
            "/usr/local/lib/python3.7/dist-packages/ipykernel_launcher.py:20: DeprecationWarning: Call to deprecated `__getitem__` (Method will be removed in 4.0.0, use self.wv.__getitem__() instead).\n",
            "/usr/local/lib/python3.7/dist-packages/ipykernel_launcher.py:20: DeprecationWarning: Call to deprecated `__getitem__` (Method will be removed in 4.0.0, use self.wv.__getitem__() instead).\n",
            "/usr/local/lib/python3.7/dist-packages/ipykernel_launcher.py:20: DeprecationWarning: Call to deprecated `__getitem__` (Method will be removed in 4.0.0, use self.wv.__getitem__() instead).\n",
            "/usr/local/lib/python3.7/dist-packages/ipykernel_launcher.py:20: DeprecationWarning: Call to deprecated `__getitem__` (Method will be removed in 4.0.0, use self.wv.__getitem__() instead).\n",
            "/usr/local/lib/python3.7/dist-packages/ipykernel_launcher.py:20: DeprecationWarning: Call to deprecated `__getitem__` (Method will be removed in 4.0.0, use self.wv.__getitem__() instead).\n",
            "/usr/local/lib/python3.7/dist-packages/ipykernel_launcher.py:20: DeprecationWarning: Call to deprecated `__getitem__` (Method will be removed in 4.0.0, use self.wv.__getitem__() instead).\n",
            "/usr/local/lib/python3.7/dist-packages/ipykernel_launcher.py:20: DeprecationWarning: Call to deprecated `__getitem__` (Method will be removed in 4.0.0, use self.wv.__getitem__() instead).\n",
            "/usr/local/lib/python3.7/dist-packages/ipykernel_launcher.py:20: DeprecationWarning: Call to deprecated `__getitem__` (Method will be removed in 4.0.0, use self.wv.__getitem__() instead).\n",
            "/usr/local/lib/python3.7/dist-packages/ipykernel_launcher.py:20: DeprecationWarning: Call to deprecated `__getitem__` (Method will be removed in 4.0.0, use self.wv.__getitem__() instead).\n",
            "/usr/local/lib/python3.7/dist-packages/ipykernel_launcher.py:20: DeprecationWarning: Call to deprecated `__getitem__` (Method will be removed in 4.0.0, use self.wv.__getitem__() instead).\n",
            "/usr/local/lib/python3.7/dist-packages/ipykernel_launcher.py:20: DeprecationWarning: Call to deprecated `__getitem__` (Method will be removed in 4.0.0, use self.wv.__getitem__() instead).\n",
            "/usr/local/lib/python3.7/dist-packages/ipykernel_launcher.py:20: DeprecationWarning: Call to deprecated `__getitem__` (Method will be removed in 4.0.0, use self.wv.__getitem__() instead).\n",
            "/usr/local/lib/python3.7/dist-packages/ipykernel_launcher.py:20: DeprecationWarning: Call to deprecated `__getitem__` (Method will be removed in 4.0.0, use self.wv.__getitem__() instead).\n",
            "/usr/local/lib/python3.7/dist-packages/ipykernel_launcher.py:20: DeprecationWarning: Call to deprecated `__getitem__` (Method will be removed in 4.0.0, use self.wv.__getitem__() instead).\n",
            "/usr/local/lib/python3.7/dist-packages/ipykernel_launcher.py:20: DeprecationWarning: Call to deprecated `__getitem__` (Method will be removed in 4.0.0, use self.wv.__getitem__() instead).\n",
            "/usr/local/lib/python3.7/dist-packages/ipykernel_launcher.py:20: DeprecationWarning: Call to deprecated `__getitem__` (Method will be removed in 4.0.0, use self.wv.__getitem__() instead).\n",
            "/usr/local/lib/python3.7/dist-packages/ipykernel_launcher.py:20: DeprecationWarning: Call to deprecated `__getitem__` (Method will be removed in 4.0.0, use self.wv.__getitem__() instead).\n",
            "/usr/local/lib/python3.7/dist-packages/ipykernel_launcher.py:20: DeprecationWarning: Call to deprecated `__getitem__` (Method will be removed in 4.0.0, use self.wv.__getitem__() instead).\n",
            "/usr/local/lib/python3.7/dist-packages/ipykernel_launcher.py:20: DeprecationWarning: Call to deprecated `__getitem__` (Method will be removed in 4.0.0, use self.wv.__getitem__() instead).\n",
            "/usr/local/lib/python3.7/dist-packages/ipykernel_launcher.py:20: DeprecationWarning: Call to deprecated `__getitem__` (Method will be removed in 4.0.0, use self.wv.__getitem__() instead).\n",
            "/usr/local/lib/python3.7/dist-packages/ipykernel_launcher.py:20: DeprecationWarning: Call to deprecated `__getitem__` (Method will be removed in 4.0.0, use self.wv.__getitem__() instead).\n",
            "/usr/local/lib/python3.7/dist-packages/ipykernel_launcher.py:20: DeprecationWarning: Call to deprecated `__getitem__` (Method will be removed in 4.0.0, use self.wv.__getitem__() instead).\n",
            "/usr/local/lib/python3.7/dist-packages/ipykernel_launcher.py:20: DeprecationWarning: Call to deprecated `__getitem__` (Method will be removed in 4.0.0, use self.wv.__getitem__() instead).\n",
            "/usr/local/lib/python3.7/dist-packages/ipykernel_launcher.py:20: DeprecationWarning: Call to deprecated `__getitem__` (Method will be removed in 4.0.0, use self.wv.__getitem__() instead).\n",
            "/usr/local/lib/python3.7/dist-packages/ipykernel_launcher.py:20: DeprecationWarning: Call to deprecated `__getitem__` (Method will be removed in 4.0.0, use self.wv.__getitem__() instead).\n",
            "/usr/local/lib/python3.7/dist-packages/ipykernel_launcher.py:20: DeprecationWarning: Call to deprecated `__getitem__` (Method will be removed in 4.0.0, use self.wv.__getitem__() instead).\n",
            "/usr/local/lib/python3.7/dist-packages/ipykernel_launcher.py:20: DeprecationWarning: Call to deprecated `__getitem__` (Method will be removed in 4.0.0, use self.wv.__getitem__() instead).\n",
            "/usr/local/lib/python3.7/dist-packages/ipykernel_launcher.py:20: DeprecationWarning: Call to deprecated `__getitem__` (Method will be removed in 4.0.0, use self.wv.__getitem__() instead).\n",
            "/usr/local/lib/python3.7/dist-packages/ipykernel_launcher.py:20: DeprecationWarning: Call to deprecated `__getitem__` (Method will be removed in 4.0.0, use self.wv.__getitem__() instead).\n",
            "/usr/local/lib/python3.7/dist-packages/ipykernel_launcher.py:20: DeprecationWarning: Call to deprecated `__getitem__` (Method will be removed in 4.0.0, use self.wv.__getitem__() instead).\n",
            "/usr/local/lib/python3.7/dist-packages/ipykernel_launcher.py:20: DeprecationWarning: Call to deprecated `__getitem__` (Method will be removed in 4.0.0, use self.wv.__getitem__() instead).\n",
            "/usr/local/lib/python3.7/dist-packages/ipykernel_launcher.py:20: DeprecationWarning: Call to deprecated `__getitem__` (Method will be removed in 4.0.0, use self.wv.__getitem__() instead).\n",
            "/usr/local/lib/python3.7/dist-packages/ipykernel_launcher.py:20: DeprecationWarning: Call to deprecated `__getitem__` (Method will be removed in 4.0.0, use self.wv.__getitem__() instead).\n",
            "/usr/local/lib/python3.7/dist-packages/ipykernel_launcher.py:20: DeprecationWarning: Call to deprecated `__getitem__` (Method will be removed in 4.0.0, use self.wv.__getitem__() instead).\n",
            "/usr/local/lib/python3.7/dist-packages/ipykernel_launcher.py:20: DeprecationWarning: Call to deprecated `__getitem__` (Method will be removed in 4.0.0, use self.wv.__getitem__() instead).\n",
            "/usr/local/lib/python3.7/dist-packages/ipykernel_launcher.py:20: DeprecationWarning: Call to deprecated `__getitem__` (Method will be removed in 4.0.0, use self.wv.__getitem__() instead).\n",
            "/usr/local/lib/python3.7/dist-packages/ipykernel_launcher.py:20: DeprecationWarning: Call to deprecated `__getitem__` (Method will be removed in 4.0.0, use self.wv.__getitem__() instead).\n",
            "/usr/local/lib/python3.7/dist-packages/ipykernel_launcher.py:20: DeprecationWarning: Call to deprecated `__getitem__` (Method will be removed in 4.0.0, use self.wv.__getitem__() instead).\n",
            "/usr/local/lib/python3.7/dist-packages/ipykernel_launcher.py:20: DeprecationWarning: Call to deprecated `__getitem__` (Method will be removed in 4.0.0, use self.wv.__getitem__() instead).\n",
            "/usr/local/lib/python3.7/dist-packages/ipykernel_launcher.py:20: DeprecationWarning: Call to deprecated `__getitem__` (Method will be removed in 4.0.0, use self.wv.__getitem__() instead).\n",
            "/usr/local/lib/python3.7/dist-packages/ipykernel_launcher.py:20: DeprecationWarning: Call to deprecated `__getitem__` (Method will be removed in 4.0.0, use self.wv.__getitem__() instead).\n",
            "/usr/local/lib/python3.7/dist-packages/ipykernel_launcher.py:20: DeprecationWarning: Call to deprecated `__getitem__` (Method will be removed in 4.0.0, use self.wv.__getitem__() instead).\n",
            "/usr/local/lib/python3.7/dist-packages/ipykernel_launcher.py:20: DeprecationWarning: Call to deprecated `__getitem__` (Method will be removed in 4.0.0, use self.wv.__getitem__() instead).\n",
            "/usr/local/lib/python3.7/dist-packages/ipykernel_launcher.py:20: DeprecationWarning: Call to deprecated `__getitem__` (Method will be removed in 4.0.0, use self.wv.__getitem__() instead).\n",
            "/usr/local/lib/python3.7/dist-packages/ipykernel_launcher.py:20: DeprecationWarning: Call to deprecated `__getitem__` (Method will be removed in 4.0.0, use self.wv.__getitem__() instead).\n",
            "/usr/local/lib/python3.7/dist-packages/ipykernel_launcher.py:20: DeprecationWarning: Call to deprecated `__getitem__` (Method will be removed in 4.0.0, use self.wv.__getitem__() instead).\n",
            "/usr/local/lib/python3.7/dist-packages/ipykernel_launcher.py:20: DeprecationWarning: Call to deprecated `__getitem__` (Method will be removed in 4.0.0, use self.wv.__getitem__() instead).\n",
            "/usr/local/lib/python3.7/dist-packages/ipykernel_launcher.py:20: DeprecationWarning: Call to deprecated `__getitem__` (Method will be removed in 4.0.0, use self.wv.__getitem__() instead).\n",
            "/usr/local/lib/python3.7/dist-packages/ipykernel_launcher.py:20: DeprecationWarning: Call to deprecated `__getitem__` (Method will be removed in 4.0.0, use self.wv.__getitem__() instead).\n",
            "/usr/local/lib/python3.7/dist-packages/ipykernel_launcher.py:20: DeprecationWarning: Call to deprecated `__getitem__` (Method will be removed in 4.0.0, use self.wv.__getitem__() instead).\n",
            "/usr/local/lib/python3.7/dist-packages/ipykernel_launcher.py:20: DeprecationWarning: Call to deprecated `__getitem__` (Method will be removed in 4.0.0, use self.wv.__getitem__() instead).\n",
            "/usr/local/lib/python3.7/dist-packages/ipykernel_launcher.py:20: DeprecationWarning: Call to deprecated `__getitem__` (Method will be removed in 4.0.0, use self.wv.__getitem__() instead).\n",
            "/usr/local/lib/python3.7/dist-packages/ipykernel_launcher.py:20: DeprecationWarning: Call to deprecated `__getitem__` (Method will be removed in 4.0.0, use self.wv.__getitem__() instead).\n",
            "/usr/local/lib/python3.7/dist-packages/ipykernel_launcher.py:20: DeprecationWarning: Call to deprecated `__getitem__` (Method will be removed in 4.0.0, use self.wv.__getitem__() instead).\n",
            "/usr/local/lib/python3.7/dist-packages/ipykernel_launcher.py:20: DeprecationWarning: Call to deprecated `__getitem__` (Method will be removed in 4.0.0, use self.wv.__getitem__() instead).\n",
            "/usr/local/lib/python3.7/dist-packages/ipykernel_launcher.py:20: DeprecationWarning: Call to deprecated `__getitem__` (Method will be removed in 4.0.0, use self.wv.__getitem__() instead).\n",
            "/usr/local/lib/python3.7/dist-packages/ipykernel_launcher.py:20: DeprecationWarning: Call to deprecated `__getitem__` (Method will be removed in 4.0.0, use self.wv.__getitem__() instead).\n",
            "/usr/local/lib/python3.7/dist-packages/ipykernel_launcher.py:20: DeprecationWarning: Call to deprecated `__getitem__` (Method will be removed in 4.0.0, use self.wv.__getitem__() instead).\n",
            "/usr/local/lib/python3.7/dist-packages/ipykernel_launcher.py:20: DeprecationWarning: Call to deprecated `__getitem__` (Method will be removed in 4.0.0, use self.wv.__getitem__() instead).\n",
            "/usr/local/lib/python3.7/dist-packages/ipykernel_launcher.py:20: DeprecationWarning: Call to deprecated `__getitem__` (Method will be removed in 4.0.0, use self.wv.__getitem__() instead).\n",
            "/usr/local/lib/python3.7/dist-packages/ipykernel_launcher.py:20: DeprecationWarning: Call to deprecated `__getitem__` (Method will be removed in 4.0.0, use self.wv.__getitem__() instead).\n",
            "/usr/local/lib/python3.7/dist-packages/ipykernel_launcher.py:20: DeprecationWarning: Call to deprecated `__getitem__` (Method will be removed in 4.0.0, use self.wv.__getitem__() instead).\n",
            "/usr/local/lib/python3.7/dist-packages/ipykernel_launcher.py:20: DeprecationWarning: Call to deprecated `__getitem__` (Method will be removed in 4.0.0, use self.wv.__getitem__() instead).\n",
            "/usr/local/lib/python3.7/dist-packages/ipykernel_launcher.py:20: DeprecationWarning: Call to deprecated `__getitem__` (Method will be removed in 4.0.0, use self.wv.__getitem__() instead).\n",
            "/usr/local/lib/python3.7/dist-packages/ipykernel_launcher.py:20: DeprecationWarning: Call to deprecated `__getitem__` (Method will be removed in 4.0.0, use self.wv.__getitem__() instead).\n",
            "/usr/local/lib/python3.7/dist-packages/ipykernel_launcher.py:20: DeprecationWarning: Call to deprecated `__getitem__` (Method will be removed in 4.0.0, use self.wv.__getitem__() instead).\n",
            "/usr/local/lib/python3.7/dist-packages/ipykernel_launcher.py:20: DeprecationWarning: Call to deprecated `__getitem__` (Method will be removed in 4.0.0, use self.wv.__getitem__() instead).\n",
            "/usr/local/lib/python3.7/dist-packages/ipykernel_launcher.py:20: DeprecationWarning: Call to deprecated `__getitem__` (Method will be removed in 4.0.0, use self.wv.__getitem__() instead).\n",
            "/usr/local/lib/python3.7/dist-packages/ipykernel_launcher.py:20: DeprecationWarning: Call to deprecated `__getitem__` (Method will be removed in 4.0.0, use self.wv.__getitem__() instead).\n",
            "/usr/local/lib/python3.7/dist-packages/ipykernel_launcher.py:20: DeprecationWarning: Call to deprecated `__getitem__` (Method will be removed in 4.0.0, use self.wv.__getitem__() instead).\n",
            "/usr/local/lib/python3.7/dist-packages/ipykernel_launcher.py:20: DeprecationWarning: Call to deprecated `__getitem__` (Method will be removed in 4.0.0, use self.wv.__getitem__() instead).\n",
            "/usr/local/lib/python3.7/dist-packages/ipykernel_launcher.py:20: DeprecationWarning: Call to deprecated `__getitem__` (Method will be removed in 4.0.0, use self.wv.__getitem__() instead).\n",
            "/usr/local/lib/python3.7/dist-packages/ipykernel_launcher.py:20: DeprecationWarning: Call to deprecated `__getitem__` (Method will be removed in 4.0.0, use self.wv.__getitem__() instead).\n",
            "/usr/local/lib/python3.7/dist-packages/ipykernel_launcher.py:20: DeprecationWarning: Call to deprecated `__getitem__` (Method will be removed in 4.0.0, use self.wv.__getitem__() instead).\n",
            "/usr/local/lib/python3.7/dist-packages/ipykernel_launcher.py:20: DeprecationWarning: Call to deprecated `__getitem__` (Method will be removed in 4.0.0, use self.wv.__getitem__() instead).\n",
            "/usr/local/lib/python3.7/dist-packages/ipykernel_launcher.py:20: DeprecationWarning: Call to deprecated `__getitem__` (Method will be removed in 4.0.0, use self.wv.__getitem__() instead).\n",
            "/usr/local/lib/python3.7/dist-packages/ipykernel_launcher.py:20: DeprecationWarning: Call to deprecated `__getitem__` (Method will be removed in 4.0.0, use self.wv.__getitem__() instead).\n",
            "/usr/local/lib/python3.7/dist-packages/ipykernel_launcher.py:20: DeprecationWarning: Call to deprecated `__getitem__` (Method will be removed in 4.0.0, use self.wv.__getitem__() instead).\n",
            "/usr/local/lib/python3.7/dist-packages/ipykernel_launcher.py:20: DeprecationWarning: Call to deprecated `__getitem__` (Method will be removed in 4.0.0, use self.wv.__getitem__() instead).\n",
            "/usr/local/lib/python3.7/dist-packages/ipykernel_launcher.py:20: DeprecationWarning: Call to deprecated `__getitem__` (Method will be removed in 4.0.0, use self.wv.__getitem__() instead).\n",
            "/usr/local/lib/python3.7/dist-packages/ipykernel_launcher.py:20: DeprecationWarning: Call to deprecated `__getitem__` (Method will be removed in 4.0.0, use self.wv.__getitem__() instead).\n",
            "/usr/local/lib/python3.7/dist-packages/ipykernel_launcher.py:20: DeprecationWarning: Call to deprecated `__getitem__` (Method will be removed in 4.0.0, use self.wv.__getitem__() instead).\n",
            "/usr/local/lib/python3.7/dist-packages/ipykernel_launcher.py:20: DeprecationWarning: Call to deprecated `__getitem__` (Method will be removed in 4.0.0, use self.wv.__getitem__() instead).\n",
            "/usr/local/lib/python3.7/dist-packages/ipykernel_launcher.py:20: DeprecationWarning: Call to deprecated `__getitem__` (Method will be removed in 4.0.0, use self.wv.__getitem__() instead).\n",
            "/usr/local/lib/python3.7/dist-packages/ipykernel_launcher.py:20: DeprecationWarning: Call to deprecated `__getitem__` (Method will be removed in 4.0.0, use self.wv.__getitem__() instead).\n",
            "/usr/local/lib/python3.7/dist-packages/ipykernel_launcher.py:20: DeprecationWarning: Call to deprecated `__getitem__` (Method will be removed in 4.0.0, use self.wv.__getitem__() instead).\n"
          ]
        }
      ]
    },
    {
      "cell_type": "code",
      "source": [
        "df1"
      ],
      "metadata": {
        "colab": {
          "base_uri": "https://localhost:8080/",
          "height": 407
        },
        "id": "-0in-vBVjEd2",
        "outputId": "54320f1a-3499-44fa-cba3-da286e7be499"
      },
      "execution_count": null,
      "outputs": [
        {
          "output_type": "execute_result",
          "data": {
            "text/plain": [
              "                                    summary_generated  \\\n",
              "0   \", insistait-il sur CNews.Eric Dupond-Moretti ...   \n",
              "1   Ce n'est pas encore les vacances, mais ce prem...   \n",
              "2   \"Mercredi soir, Likalé (a) réussi à prendre Xi...   \n",
              "3   Dans la nuit de jeudi à vendredi, pour la troi...   \n",
              "4   Seuls 219 000 spectateurs ont assisté à cette ...   \n",
              "..                                                ...   \n",
              "95  Je regarde dans mon rétroviseur pour voir ce q...   \n",
              "96  Quelque 100.000 m3 de liquide noirâtre (essent...   \n",
              "97  \"Cette analyse de données montre que nous devo...   \n",
              "98  \"J'ai été enceinte à 17 ans, mes parents ont e...   \n",
              "99  Je ne suis l'adversaire politique de personne\"...   \n",
              "\n",
              "                                         bert_summary  \n",
              "0   Alors que la colère des féministes ne faiblit ...  \n",
              "1   Ce n'est pas encore les vacances, mais ce prem...  \n",
              "2   Sa naissance en janvier avait été la première ...  \n",
              "3   Des centaines de personnes se sont rassemblées...  \n",
              "4   Le chroniqueur Lamine Lezghad, révélé par l'ém...  \n",
              "..                                                ...  \n",
              "95  Le deuxième suspect placé en garde à vue après...  \n",
              "96  Un silo s'est effondré dans la nuit de lundi 4...  \n",
              "97  L'exposition croissante de l'environnement aux...  \n",
              "98  En plein débat sur la loi de bioéthique, la dé...  \n",
              "99  La candidate du Front national avait en effet ...  \n",
              "\n",
              "[100 rows x 2 columns]"
            ],
            "text/html": [
              "\n",
              "  <div id=\"df-cafca10d-dc3f-4a12-b21e-0d7bff3787e2\">\n",
              "    <div class=\"colab-df-container\">\n",
              "      <div>\n",
              "<style scoped>\n",
              "    .dataframe tbody tr th:only-of-type {\n",
              "        vertical-align: middle;\n",
              "    }\n",
              "\n",
              "    .dataframe tbody tr th {\n",
              "        vertical-align: top;\n",
              "    }\n",
              "\n",
              "    .dataframe thead th {\n",
              "        text-align: right;\n",
              "    }\n",
              "</style>\n",
              "<table border=\"1\" class=\"dataframe\">\n",
              "  <thead>\n",
              "    <tr style=\"text-align: right;\">\n",
              "      <th></th>\n",
              "      <th>summary_generated</th>\n",
              "      <th>bert_summary</th>\n",
              "    </tr>\n",
              "  </thead>\n",
              "  <tbody>\n",
              "    <tr>\n",
              "      <th>0</th>\n",
              "      <td>\", insistait-il sur CNews.Eric Dupond-Moretti ...</td>\n",
              "      <td>Alors que la colère des féministes ne faiblit ...</td>\n",
              "    </tr>\n",
              "    <tr>\n",
              "      <th>1</th>\n",
              "      <td>Ce n'est pas encore les vacances, mais ce prem...</td>\n",
              "      <td>Ce n'est pas encore les vacances, mais ce prem...</td>\n",
              "    </tr>\n",
              "    <tr>\n",
              "      <th>2</th>\n",
              "      <td>\"Mercredi soir, Likalé (a) réussi à prendre Xi...</td>\n",
              "      <td>Sa naissance en janvier avait été la première ...</td>\n",
              "    </tr>\n",
              "    <tr>\n",
              "      <th>3</th>\n",
              "      <td>Dans la nuit de jeudi à vendredi, pour la troi...</td>\n",
              "      <td>Des centaines de personnes se sont rassemblées...</td>\n",
              "    </tr>\n",
              "    <tr>\n",
              "      <th>4</th>\n",
              "      <td>Seuls 219 000 spectateurs ont assisté à cette ...</td>\n",
              "      <td>Le chroniqueur Lamine Lezghad, révélé par l'ém...</td>\n",
              "    </tr>\n",
              "    <tr>\n",
              "      <th>...</th>\n",
              "      <td>...</td>\n",
              "      <td>...</td>\n",
              "    </tr>\n",
              "    <tr>\n",
              "      <th>95</th>\n",
              "      <td>Je regarde dans mon rétroviseur pour voir ce q...</td>\n",
              "      <td>Le deuxième suspect placé en garde à vue après...</td>\n",
              "    </tr>\n",
              "    <tr>\n",
              "      <th>96</th>\n",
              "      <td>Quelque 100.000 m3 de liquide noirâtre (essent...</td>\n",
              "      <td>Un silo s'est effondré dans la nuit de lundi 4...</td>\n",
              "    </tr>\n",
              "    <tr>\n",
              "      <th>97</th>\n",
              "      <td>\"Cette analyse de données montre que nous devo...</td>\n",
              "      <td>L'exposition croissante de l'environnement aux...</td>\n",
              "    </tr>\n",
              "    <tr>\n",
              "      <th>98</th>\n",
              "      <td>\"J'ai été enceinte à 17 ans, mes parents ont e...</td>\n",
              "      <td>En plein débat sur la loi de bioéthique, la dé...</td>\n",
              "    </tr>\n",
              "    <tr>\n",
              "      <th>99</th>\n",
              "      <td>Je ne suis l'adversaire politique de personne\"...</td>\n",
              "      <td>La candidate du Front national avait en effet ...</td>\n",
              "    </tr>\n",
              "  </tbody>\n",
              "</table>\n",
              "<p>100 rows × 2 columns</p>\n",
              "</div>\n",
              "      <button class=\"colab-df-convert\" onclick=\"convertToInteractive('df-cafca10d-dc3f-4a12-b21e-0d7bff3787e2')\"\n",
              "              title=\"Convert this dataframe to an interactive table.\"\n",
              "              style=\"display:none;\">\n",
              "        \n",
              "  <svg xmlns=\"http://www.w3.org/2000/svg\" height=\"24px\"viewBox=\"0 0 24 24\"\n",
              "       width=\"24px\">\n",
              "    <path d=\"M0 0h24v24H0V0z\" fill=\"none\"/>\n",
              "    <path d=\"M18.56 5.44l.94 2.06.94-2.06 2.06-.94-2.06-.94-.94-2.06-.94 2.06-2.06.94zm-11 1L8.5 8.5l.94-2.06 2.06-.94-2.06-.94L8.5 2.5l-.94 2.06-2.06.94zm10 10l.94 2.06.94-2.06 2.06-.94-2.06-.94-.94-2.06-.94 2.06-2.06.94z\"/><path d=\"M17.41 7.96l-1.37-1.37c-.4-.4-.92-.59-1.43-.59-.52 0-1.04.2-1.43.59L10.3 9.45l-7.72 7.72c-.78.78-.78 2.05 0 2.83L4 21.41c.39.39.9.59 1.41.59.51 0 1.02-.2 1.41-.59l7.78-7.78 2.81-2.81c.8-.78.8-2.07 0-2.86zM5.41 20L4 18.59l7.72-7.72 1.47 1.35L5.41 20z\"/>\n",
              "  </svg>\n",
              "      </button>\n",
              "      \n",
              "  <style>\n",
              "    .colab-df-container {\n",
              "      display:flex;\n",
              "      flex-wrap:wrap;\n",
              "      gap: 12px;\n",
              "    }\n",
              "\n",
              "    .colab-df-convert {\n",
              "      background-color: #E8F0FE;\n",
              "      border: none;\n",
              "      border-radius: 50%;\n",
              "      cursor: pointer;\n",
              "      display: none;\n",
              "      fill: #1967D2;\n",
              "      height: 32px;\n",
              "      padding: 0 0 0 0;\n",
              "      width: 32px;\n",
              "    }\n",
              "\n",
              "    .colab-df-convert:hover {\n",
              "      background-color: #E2EBFA;\n",
              "      box-shadow: 0px 1px 2px rgba(60, 64, 67, 0.3), 0px 1px 3px 1px rgba(60, 64, 67, 0.15);\n",
              "      fill: #174EA6;\n",
              "    }\n",
              "\n",
              "    [theme=dark] .colab-df-convert {\n",
              "      background-color: #3B4455;\n",
              "      fill: #D2E3FC;\n",
              "    }\n",
              "\n",
              "    [theme=dark] .colab-df-convert:hover {\n",
              "      background-color: #434B5C;\n",
              "      box-shadow: 0px 1px 3px 1px rgba(0, 0, 0, 0.15);\n",
              "      filter: drop-shadow(0px 1px 2px rgba(0, 0, 0, 0.3));\n",
              "      fill: #FFFFFF;\n",
              "    }\n",
              "  </style>\n",
              "\n",
              "      <script>\n",
              "        const buttonEl =\n",
              "          document.querySelector('#df-cafca10d-dc3f-4a12-b21e-0d7bff3787e2 button.colab-df-convert');\n",
              "        buttonEl.style.display =\n",
              "          google.colab.kernel.accessAllowed ? 'block' : 'none';\n",
              "\n",
              "        async function convertToInteractive(key) {\n",
              "          const element = document.querySelector('#df-cafca10d-dc3f-4a12-b21e-0d7bff3787e2');\n",
              "          const dataTable =\n",
              "            await google.colab.kernel.invokeFunction('convertToInteractive',\n",
              "                                                     [key], {});\n",
              "          if (!dataTable) return;\n",
              "\n",
              "          const docLinkHtml = 'Like what you see? Visit the ' +\n",
              "            '<a target=\"_blank\" href=https://colab.research.google.com/notebooks/data_table.ipynb>data table notebook</a>'\n",
              "            + ' to learn more about interactive tables.';\n",
              "          element.innerHTML = '';\n",
              "          dataTable['output_type'] = 'display_data';\n",
              "          await google.colab.output.renderOutput(dataTable, element);\n",
              "          const docLink = document.createElement('div');\n",
              "          docLink.innerHTML = docLinkHtml;\n",
              "          element.appendChild(docLink);\n",
              "        }\n",
              "      </script>\n",
              "    </div>\n",
              "  </div>\n",
              "  "
            ]
          },
          "metadata": {},
          "execution_count": 71
        }
      ]
    },
    {
      "cell_type": "code",
      "source": [
        "Rouge().get_scores(summary_generated, bert_summary, avg=True)"
      ],
      "metadata": {
        "id": "QjMARkkgPJxx",
        "colab": {
          "base_uri": "https://localhost:8080/"
        },
        "outputId": "c77034d6-f2f0-47a2-9b0e-2fb7adbd5d18"
      },
      "execution_count": null,
      "outputs": [
        {
          "output_type": "execute_result",
          "data": {
            "text/plain": [
              "{'rouge-1': {'f': 0.16842104787590043,\n",
              "  'p': 0.21621621621621623,\n",
              "  'r': 0.13793103448275862},\n",
              " 'rouge-2': {'f': 0.0194174708982951,\n",
              "  'p': 0.023809523809523808,\n",
              "  'r': 0.01639344262295082},\n",
              " 'rouge-l': {'f': 0.12631578471800572,\n",
              "  'p': 0.16216216216216217,\n",
              "  'r': 0.10344827586206896}}"
            ]
          },
          "metadata": {},
          "execution_count": 72
        }
      ]
    },
    {
      "cell_type": "code",
      "source": [
        " topic_description(df1, text_column='summary_generated')"
      ],
      "metadata": {
        "colab": {
          "base_uri": "https://localhost:8080/",
          "height": 340,
          "referenced_widgets": [
            "5b904ddba72a40a2bb25480920b39af7",
            "d0d0d9a27d3f471397f889b08088f372",
            "35585dff815a470593d7903c5fc09702",
            "e28f235106d04be3891a48aa3f5e6d95",
            "ad86ecbbf54f46089ed020292fa55980",
            "3c6608b1b0a240ae88c44e332e598a4f",
            "e2785816d5974c49b2af9980b55d3f8a",
            "d99ef9c912c74463909cd0ed2f4917ff",
            "f6a1c404b98c420a9aa6c69bf9b01e7f",
            "bc26facb05404717aa430becc70a28da",
            "707a44f4def94179a6e4b92c58b94351"
          ]
        },
        "id": "g_LMvEU8kK86",
        "outputId": "d4035637-959d-4804-af27-45c4dbdd0d5a"
      },
      "execution_count": null,
      "outputs": [
        {
          "output_type": "display_data",
          "data": {
            "text/plain": [
              "  0%|          | 0/100 [00:00<?, ?it/s]"
            ],
            "application/vnd.jupyter.widget-view+json": {
              "version_major": 2,
              "version_minor": 0,
              "model_id": "5b904ddba72a40a2bb25480920b39af7"
            }
          },
          "metadata": {}
        },
        {
          "output_type": "display_data",
          "data": {
            "text/plain": [
              "<Figure size 432x288 with 1 Axes>"
            ],
            "image/png": "[encoded data removed]"
          },
          "metadata": {}
        }
      ]
    },
    {
      "cell_type": "code",
      "source": [
        "topic_description(df1, text_column='bert_summary')"
      ],
      "metadata": {
        "colab": {
          "base_uri": "https://localhost:8080/",
          "height": 340,
          "referenced_widgets": [
            "e657189c4ebb4f0b812af8a49ac535d4",
            "a48e5f5722c1435cae4fbfa65a6732d2",
            "7aab2945e73f4d0d8ee4cceca5e1f089",
            "0237eafdac9844f8931d6b057a145e94",
            "debc6657766e4b699cdcd3c51774698e",
            "a85597bd97224ce1861447bd3275fa77",
            "8ae2ddeda9af494dbaaf3f47fa6250b0",
            "9e9e82381a7c4262ad96eac153ed4b74",
            "4f8dca1e11084b0aabc7e88b03cf9fb4",
            "ecd219d2dbe04259abd5cf240a1ea53c",
            "d1be8b6afbca43c689e680505ba4e835"
          ]
        },
        "id": "i8Hr-tkrl5LU",
        "outputId": "48e51162-9374-4a19-e43c-ab927e966ded"
      },
      "execution_count": null,
      "outputs": [
        {
          "output_type": "display_data",
          "data": {
            "text/plain": [
              "  0%|          | 0/100 [00:00<?, ?it/s]"
            ],
            "application/vnd.jupyter.widget-view+json": {
              "version_major": 2,
              "version_minor": 0,
              "model_id": "e657189c4ebb4f0b812af8a49ac535d4"
            }
          },
          "metadata": {}
        },
        {
          "output_type": "display_data",
          "data": {
            "text/plain": [
              "<Figure size 432x288 with 1 Axes>"
            ],
            "image/png": "[encoded data removed]"
          },
          "metadata": {}
        }
      ]
    },
    {
      "cell_type": "code",
      "source": [
        "n = len(df1)\n",
        "stats_summary_generated = pd.DataFrame({'idx':np.arange(n)})\n",
        "stats_summary_generated['nb_sentences'] = df1['summary_generated'].apply(lambda x : len(sent_tokenize(x, language='french')))\n",
        "stats_summary_generated['nb_words'] = df1['summary_generated'].apply(lambda x : len(word_tokenize(x, language='french')))\n",
        "stats_summary_generated.mean()"
      ],
      "metadata": {
        "colab": {
          "base_uri": "https://localhost:8080/"
        },
        "id": "MOsvjHI_nEal",
        "outputId": "1c41187d-5b1c-4f45-c1b2-6eb60e69134b"
      },
      "execution_count": null,
      "outputs": [
        {
          "output_type": "execute_result",
          "data": {
            "text/plain": [
              "idx             49.50\n",
              "nb_sentences     1.26\n",
              "nb_words        60.28\n",
              "dtype: float64"
            ]
          },
          "metadata": {},
          "execution_count": 94
        }
      ]
    },
    {
      "cell_type": "code",
      "source": [
        "n = len(df1)\n",
        "stats_bert_summary = pd.DataFrame({'idx':np.arange(n)})\n",
        "stats_bert_summary['nb_sentences'] = df1['bert_summary'].apply(lambda x : len(sent_tokenize(x, language='french')))\n",
        "stats_bert_summary['nb_words'] = df1['bert_summary'].apply(lambda x : len(word_tokenize(x, language='french')))\n",
        "stats_bert_summary.mean()"
      ],
      "metadata": {
        "colab": {
          "base_uri": "https://localhost:8080/"
        },
        "id": "XOYwWEg-tBC2",
        "outputId": "152e5d3b-085e-413d-a0f4-47176bbb5ad3"
      },
      "execution_count": null,
      "outputs": [
        {
          "output_type": "execute_result",
          "data": {
            "text/plain": [
              "idx             49.50\n",
              "nb_sentences     3.13\n",
              "nb_words        94.95\n",
              "dtype: float64"
            ]
          },
          "metadata": {},
          "execution_count": 95
        }
      ]
    },
    {
      "cell_type": "code",
      "source": [
        "stats_summary_generated.mean()"
      ],
      "metadata": {
        "colab": {
          "base_uri": "https://localhost:8080/"
        },
        "id": "zf1Qx_2DqlVc",
        "outputId": "12726c2f-1599-4b0a-c4d7-a669a6229a5a"
      },
      "execution_count": null,
      "outputs": [
        {
          "output_type": "stream",
          "name": "stderr",
          "text": [
            "/usr/local/lib/python3.7/dist-packages/ipykernel_launcher.py:1: FutureWarning: Dropping of nuisance columns in DataFrame reductions (with 'numeric_only=None') is deprecated; in a future version this will raise TypeError.  Select only valid columns before calling the reduction.\n",
            "  \"\"\"Entry point for launching an IPython kernel.\n"
          ]
        },
        {
          "output_type": "execute_result",
          "data": {
            "text/plain": [
              "idx             49.50\n",
              "nb_sentences     1.26\n",
              "nb_words        60.28\n",
              "dtype: float64"
            ]
          },
          "metadata": {},
          "execution_count": 88
        }
      ]
    },
    {
      "cell_type": "markdown",
      "source": [
        "## Abstractive models"
      ],
      "metadata": {
        "id": "2yZnJpgFSmBD"
      }
    },
    {
      "cell_type": "markdown",
      "source": [
        "A more advanced approach to address text summarization aims at \"generating\" the summary, that is to say to produce a summary with new generated sentences that do not exist in the text to summarize. \n",
        "\n",
        "For this task, we may use Deep Learning models, with models based on Encoder-Decoder approaches, using RNNs or Transformers for instance. \n"
      ],
      "metadata": {
        "id": "hu8dHwbHQ7jy"
      }
    },
    {
      "cell_type": "code",
      "source": [
        "device = \"cuda\" if torch.cuda.is_available() else 'cpu'\n",
        "print(f'Device : {device}')"
      ],
      "metadata": {
        "colab": {
          "base_uri": "https://localhost:8080/"
        },
        "id": "wpG9E7v_c18u",
        "outputId": "21c023f4-51ad-4599-bbcf-d8de648b7cd0"
      },
      "execution_count": 43,
      "outputs": [
        {
          "output_type": "stream",
          "name": "stdout",
          "text": [
            "Device : cuda\n"
          ]
        }
      ]
    },
    {
      "cell_type": "markdown",
      "source": [
        "### Model(s) from scratch"
      ],
      "metadata": {
        "id": "xPQ6enXSsRvS"
      }
    },
    {
      "cell_type": "markdown",
      "source": [
        "As our main goal was to build a model capable of generating summaries without using sentences already in the corpus, our main efforts were spent in developping such sophisticated models, mainly known as \"abstractive models\", leveraging Deep Learning architectures. \n",
        "\n",
        "Nonetheless, due to hardware constraints (insufficient RAM) and connectivity issues (runtime error in Colab) most of our attempts were initially unsuccessful. In the following line of codes, we propose our best results among the abstractive models we have built and trained from scratch, leaving the unsuccessful ones below in the appendix. \n",
        "\n",
        "Please note that the following model has been trained locally for the constraints mentioned above and finally merged into this Colab Notebook (please refer to /content/NLP-summarization-of-French-written-documents/NLP Abstractive Approach_Final.ipynb for the version with original output). We also provide the checkpoint files containing the tensorflow graph that collects the weights of the best model we got during the training phase (available here: /content/NLP-summarization-of-French-written-documents/checkpoints). \n",
        "As a final remark, the training has been interrupted manually after 6 hours, due to shortage of time, at the epoch 5/200. "
      ],
      "metadata": {
        "id": "eYVYgApvsUrp"
      }
    },
    {
      "cell_type": "code",
      "source": [
        "!git clone https://github.com/gdeni89/NLP-summarization-of-French-written-documents.git"
      ],
      "metadata": {
        "colab": {
          "base_uri": "https://localhost:8080/"
        },
        "id": "KktieUL3vju3",
        "outputId": "c9268cb0-72e9-463d-ee01-952b2e131921"
      },
      "execution_count": null,
      "outputs": [
        {
          "output_type": "stream",
          "name": "stdout",
          "text": [
            "Cloning into 'NLP-summarization-of-French-written-documents'...\n",
            "remote: Enumerating objects: 67, done.\u001b[K\n",
            "remote: Counting objects: 100% (67/67), done.\u001b[K\n",
            "remote: Compressing objects: 100% (60/60), done.\u001b[K\n",
            "remote: Total 67 (delta 27), reused 16 (delta 4), pack-reused 0\u001b[K\n",
            "Unpacking objects: 100% (67/67), done.\n"
          ]
        }
      ]
    },
    {
      "cell_type": "code",
      "source": [
        "import tensorflow as tf\n",
        "from tensorflow.python.layers.core import Dense\n",
        "from tensorflow.python.ops.rnn_cell_impl import _zero_state_tensors\n",
        "print('TensorFlow Version: {}'.format(tf.__version__))"
      ],
      "metadata": {
        "colab": {
          "base_uri": "https://localhost:8080/"
        },
        "id": "2-pCFOd73zsW",
        "outputId": "696443b2-63a1-4acb-bf5a-6f12f2ad54a0"
      },
      "execution_count": null,
      "outputs": [
        {
          "output_type": "stream",
          "name": "stderr",
          "text": [
            "/usr/local/lib/python3.7/dist-packages/tensorflow/python/framework/dtypes.py:526: FutureWarning: Passing (type, 1) or '1type' as a synonym of type is deprecated; in a future version of numpy, it will be understood as (type, (1,)) / '(1,)type'.\n",
            "  _np_qint8 = np.dtype([(\"qint8\", np.int8, 1)])\n",
            "/usr/local/lib/python3.7/dist-packages/tensorflow/python/framework/dtypes.py:527: FutureWarning: Passing (type, 1) or '1type' as a synonym of type is deprecated; in a future version of numpy, it will be understood as (type, (1,)) / '(1,)type'.\n",
            "  _np_quint8 = np.dtype([(\"quint8\", np.uint8, 1)])\n",
            "/usr/local/lib/python3.7/dist-packages/tensorflow/python/framework/dtypes.py:528: FutureWarning: Passing (type, 1) or '1type' as a synonym of type is deprecated; in a future version of numpy, it will be understood as (type, (1,)) / '(1,)type'.\n",
            "  _np_qint16 = np.dtype([(\"qint16\", np.int16, 1)])\n",
            "/usr/local/lib/python3.7/dist-packages/tensorflow/python/framework/dtypes.py:529: FutureWarning: Passing (type, 1) or '1type' as a synonym of type is deprecated; in a future version of numpy, it will be understood as (type, (1,)) / '(1,)type'.\n",
            "  _np_quint16 = np.dtype([(\"quint16\", np.uint16, 1)])\n",
            "/usr/local/lib/python3.7/dist-packages/tensorflow/python/framework/dtypes.py:530: FutureWarning: Passing (type, 1) or '1type' as a synonym of type is deprecated; in a future version of numpy, it will be understood as (type, (1,)) / '(1,)type'.\n",
            "  _np_qint32 = np.dtype([(\"qint32\", np.int32, 1)])\n",
            "/usr/local/lib/python3.7/dist-packages/tensorflow/python/framework/dtypes.py:535: FutureWarning: Passing (type, 1) or '1type' as a synonym of type is deprecated; in a future version of numpy, it will be understood as (type, (1,)) / '(1,)type'.\n",
            "  np_resource = np.dtype([(\"resource\", np.ubyte, 1)])\n"
          ]
        },
        {
          "output_type": "stream",
          "name": "stdout",
          "text": [
            "TensorFlow Version: 1.13.1\n"
          ]
        }
      ]
    },
    {
      "cell_type": "code",
      "source": [
        "df_test_OS = pd.DataFrame(dataset_orangesum['test'])\n",
        "df_train_OS = pd.DataFrame(dataset_orangesum['train'])"
      ],
      "metadata": {
        "id": "YKExrAKrGD5f"
      },
      "execution_count": null,
      "outputs": []
    },
    {
      "cell_type": "markdown",
      "source": [
        "#### Pre-processing - TO MOVE !!"
      ],
      "metadata": {
        "id": "PV5MPlZCtELw"
      }
    },
    {
      "cell_type": "code",
      "source": [
        "import nltk\n",
        "nltk.download('stopwords')\n",
        "  \n",
        "# Clean the summaries and texts\n",
        "clean_target = []\n",
        "for target in df_train_OS.target:\n",
        "    clean_target.append(clean_text(target, remove_stopwords=False))\n",
        "print(\"Summaries are complete.\")\n",
        "\n",
        "clean_input = []\n",
        "for input in df_train_OS.input:\n",
        "    clean_input.append(clean_text(input))\n",
        "print(\"Texts are complete.\")"
      ],
      "metadata": {
        "colab": {
          "base_uri": "https://localhost:8080/"
        },
        "id": "kRqOAsQECm2l",
        "outputId": "13cd9df6-ee0a-4e3e-9128-3ccc4cd7975c"
      },
      "execution_count": null,
      "outputs": [
        {
          "output_type": "stream",
          "name": "stdout",
          "text": [
            "[nltk_data] Downloading package stopwords to /root/nltk_data...\n",
            "[nltk_data]   Unzipping corpora/stopwords.zip.\n",
            "Summaries are complete.\n",
            "Texts are complete.\n"
          ]
        }
      ]
    },
    {
      "cell_type": "code",
      "source": [
        "def count_words(count_dict, text):\n",
        "    '''Count the number of occurrences of each word in a set of text'''\n",
        "    for sentence in text:\n",
        "        for word in sentence.split():\n",
        "            if word not in count_dict:\n",
        "                count_dict[word] = 1\n",
        "            else:\n",
        "                count_dict[word] += 1"
      ],
      "metadata": {
        "id": "Q8wFuGxKC4-I"
      },
      "execution_count": null,
      "outputs": []
    },
    {
      "cell_type": "code",
      "source": [
        "# Find the number of times each word was used and the size of the vocabulary\n",
        "word_counts = {}\n",
        "\n",
        "count_words(word_counts, clean_target)\n",
        "count_words(word_counts, clean_input)\n",
        "            \n",
        "print(\"Size of Vocabulary:\", len(word_counts))"
      ],
      "metadata": {
        "colab": {
          "base_uri": "https://localhost:8080/"
        },
        "id": "5mNn5q_tCFZH",
        "outputId": "bf754eef-09bf-41c2-f1b8-20df6fc1a8d7"
      },
      "execution_count": null,
      "outputs": [
        {
          "output_type": "stream",
          "name": "stdout",
          "text": [
            "Size of Vocabulary: 111529\n"
          ]
        }
      ]
    },
    {
      "cell_type": "code",
      "source": [
        "def clean_text(text, remove_stopwords = True):\n",
        "    '''Remove unwanted characters, stopwords, and format the text to create fewer nulls word embeddings'''\n",
        "    \n",
        "    # Convert words to lower case\n",
        "    text = text.lower()\n",
        "    \n",
        "    \n",
        "    # Format words and remove unwanted characters\n",
        "    text = re.sub(r'https?:\\/\\/.*[\\r\\n]*', '', text, flags=re.MULTILINE)\n",
        "    text = re.sub(r'\\<a href', ' ', text)\n",
        "    text = re.sub(r'&amp;', '', text) \n",
        "    text = re.sub(r'[_\"\\-;%()|+&=*%.,!?:#$@\\[\\]/]', ' ', text)\n",
        "    text = re.sub(r'<br />', ' ', text)\n",
        "    text = re.sub(r'\\'', ' ', text)\n",
        "    \n",
        "    # Optionally, remove stop words\n",
        "    if remove_stopwords:\n",
        "        text = text.split()\n",
        "        stops = set(stopwords.words(\"french\"))\n",
        "        text = [w for w in text if not w in stops]\n",
        "        text = \" \".join(text)\n",
        "\n",
        "    return text"
      ],
      "metadata": {
        "id": "eAT0coYKAlsE"
      },
      "execution_count": null,
      "outputs": []
    },
    {
      "cell_type": "code",
      "source": [
        "from torchtext.vocab import FastText, vocab"
      ],
      "metadata": {
        "id": "0UiDTx_FHeDJ"
      },
      "execution_count": null,
      "outputs": []
    },
    {
      "cell_type": "code",
      "source": [
        "# Load of pretrained embeddings vectors :\n",
        "pretrained_vectors_fasttext = FastText(language='fr')"
      ],
      "metadata": {
        "colab": {
          "base_uri": "https://localhost:8080/"
        },
        "id": "PgxReS4RDhnJ",
        "outputId": "1d1346ba-bdd3-49f0-f480-186b85265cc7"
      },
      "execution_count": null,
      "outputs": [
        {
          "output_type": "stream",
          "name": "stderr",
          "text": [
            ".vector_cache/wiki.fr.vec: 3.03GB [01:00, 49.8MB/s]                            \n",
            "  0%|          | 0/1152449 [00:00<?, ?it/s]Skipping token b'1152449' with 1-dimensional vector [b'300']; likely a header\n",
            "100%|██████████| 1152449/1152449 [02:23<00:00, 8011.00it/s]\n"
          ]
        }
      ]
    },
    {
      "cell_type": "code",
      "source": [
        "pretrained_vectors_words = pretrained_vectors_fasttext.stoi.keys()\n",
        "pretrained_vectors_values = pretrained_vectors_fasttext.stoi.values()"
      ],
      "metadata": {
        "id": "ZmPSu5KkDitH"
      },
      "execution_count": null,
      "outputs": []
    },
    {
      "cell_type": "code",
      "source": [
        "import numpy as np\n",
        "import timeit\n",
        "\n",
        "embeddings_index = {}\n",
        "word = pretrained_vectors_fasttext.stoi.keys()\n",
        "for word in word_counts:\n",
        "    embedding = pretrained_vectors_fasttext[word]\n",
        "    embeddings_index[word] = embedding\n",
        "        \n",
        "print('Word embeddings:', len(embeddings_index))"
      ],
      "metadata": {
        "colab": {
          "base_uri": "https://localhost:8080/"
        },
        "id": "5qUpW2zKDn5k",
        "outputId": "b6a84784-4348-4109-b5fe-d9e0de98e028"
      },
      "execution_count": null,
      "outputs": [
        {
          "output_type": "stream",
          "name": "stdout",
          "text": [
            "Word embeddings: 111529\n"
          ]
        }
      ]
    },
    {
      "cell_type": "code",
      "source": [
        "# Find the number of words that are missing from CN, and are used more than our threshold.\n",
        "missing_words = 0\n",
        "threshold = 20\n",
        "\n",
        "for word, count in word_counts.items():\n",
        "    if count > threshold:\n",
        "        if word not in embeddings_index:\n",
        "            missing_words += 1\n",
        "            \n",
        "missing_ratio = round(missing_words/len(word_counts),4)*100\n",
        "            \n",
        "print(\"Number of words missing from fastText:\", missing_words)\n",
        "print(\"Percent of words that are missing from vocabulary: {}%\".format(missing_ratio))"
      ],
      "metadata": {
        "colab": {
          "base_uri": "https://localhost:8080/"
        },
        "id": "1k1AYK_GItaL",
        "outputId": "3a275324-f30a-4ce9-f8f3-8cf31091d03f"
      },
      "execution_count": null,
      "outputs": [
        {
          "output_type": "stream",
          "name": "stdout",
          "text": [
            "Number of words missing from fastText: 0\n",
            "Percent of words that are missing from vocabulary: 0.0%\n"
          ]
        }
      ]
    },
    {
      "cell_type": "code",
      "source": [
        "# Limit the vocab that we will use to words that appear ≥ threshold or are in CN\n",
        "\n",
        "#dictionary to convert words to integers\n",
        "vocab_to_int = {} \n",
        "\n",
        "value = 0\n",
        "for word, count in word_counts.items():\n",
        "    if count >= threshold or word in embeddings_index:\n",
        "        vocab_to_int[word] = value\n",
        "        value += 1\n",
        "\n",
        "# Special tokens that will be added to our vocab\n",
        "codes = [\"<UNK>\",\"<PAD>\",\"<EOS>\",\"<GO>\"]   \n",
        "\n",
        "# Add codes to vocab\n",
        "for code in codes:\n",
        "    vocab_to_int[code] = len(vocab_to_int)\n",
        "\n",
        "# Dictionary to convert integers to words\n",
        "int_to_vocab = {}\n",
        "for word, value in vocab_to_int.items():\n",
        "    int_to_vocab[value] = word\n",
        "\n",
        "usage_ratio = round(len(vocab_to_int) / len(word_counts),4)*100\n",
        "\n",
        "print(\"Total number of unique words:\", len(word_counts))\n",
        "print(\"Number of words we will use:\", len(vocab_to_int))\n",
        "print(\"Percent of words we will use: {}%\".format(usage_ratio))"
      ],
      "metadata": {
        "colab": {
          "base_uri": "https://localhost:8080/"
        },
        "id": "CGxD4uyjAl-X",
        "outputId": "903ee9a6-1894-4f02-c02e-7277b6724bea"
      },
      "execution_count": null,
      "outputs": [
        {
          "output_type": "stream",
          "name": "stdout",
          "text": [
            "Total number of unique words: 111529\n",
            "Number of words we will use: 111533\n",
            "Percent of words we will use: 100.0%\n"
          ]
        }
      ]
    },
    {
      "cell_type": "code",
      "source": [
        "# Need to use 300 for embedding dimensions to match fastText vectors.\n",
        "embedding_dim = 300\n",
        "nb_words = len(vocab_to_int)\n",
        "\n",
        "# Create matrix with default values of zero\n",
        "word_embedding_matrix = np.zeros((nb_words, embedding_dim), dtype=np.float32)\n",
        "for word, i in vocab_to_int.items():\n",
        "    if word in embeddings_index:\n",
        "        word_embedding_matrix[i] = embeddings_index[word]\n",
        "    else:\n",
        "        # If word not in fT, create a random embedding for it\n",
        "        new_embedding = np.array(np.random.uniform(-1.0, 1.0, embedding_dim))\n",
        "        embeddings_index[word] = new_embedding\n",
        "        word_embedding_matrix[i] = new_embedding\n",
        "\n",
        "# Check if value matches len(vocab_to_int)\n",
        "print(len(word_embedding_matrix))"
      ],
      "metadata": {
        "colab": {
          "base_uri": "https://localhost:8080/"
        },
        "id": "PRnqP1HLK6VR",
        "outputId": "3753e0df-cad2-48fb-86c8-5f99bf116cdb"
      },
      "execution_count": null,
      "outputs": [
        {
          "output_type": "stream",
          "name": "stdout",
          "text": [
            "111533\n"
          ]
        }
      ]
    },
    {
      "cell_type": "code",
      "source": [
        "def convert_to_ints(text, word_count, unk_count, eos=False):\n",
        "    '''Convert words in text to an integer.\n",
        "       If word is not in vocab_to_int, use UNK's integer.\n",
        "       Total the number of words and UNKs.\n",
        "       Add EOS token to the end of texts'''\n",
        "    ints = []\n",
        "    for sentence in text:\n",
        "        sentence_ints = []\n",
        "        for word in sentence.split():\n",
        "            word_count += 1\n",
        "            if word in vocab_to_int:\n",
        "                sentence_ints.append(vocab_to_int[word])\n",
        "            else:\n",
        "                sentence_ints.append(vocab_to_int[\"<UNK>\"])\n",
        "                unk_count += 1\n",
        "        if eos:\n",
        "            sentence_ints.append(vocab_to_int[\"<EOS>\"])\n",
        "        ints.append(sentence_ints)\n",
        "    return ints, word_count, unk_count"
      ],
      "metadata": {
        "id": "sdF6Rvm0LLOk"
      },
      "execution_count": null,
      "outputs": []
    },
    {
      "cell_type": "code",
      "source": [
        "# Apply convert_to_ints to clean_target and clean_input\n",
        "word_count = 0\n",
        "unk_count = 0\n",
        "\n",
        "int_target, word_count, unk_count = convert_to_ints(clean_target, word_count, unk_count)\n",
        "int_input, word_count, unk_count = convert_to_ints(clean_input, word_count, unk_count, eos=True)\n",
        "\n",
        "unk_percent = round(unk_count/word_count,4)*100\n",
        "\n",
        "print(\"Total number of words in headlines:\", word_count)\n",
        "print(\"Total number of UNKs in headlines:\", unk_count)\n",
        "print(\"Percent of words that are UNK: {}%\".format(unk_percent))"
      ],
      "metadata": {
        "colab": {
          "base_uri": "https://localhost:8080/"
        },
        "id": "qTLgOSj-K4TO",
        "outputId": "64171887-4829-46cc-886c-132057f7a925"
      },
      "execution_count": null,
      "outputs": [
        {
          "output_type": "stream",
          "name": "stdout",
          "text": [
            "Total number of words in headlines: 5339165\n",
            "Total number of UNKs in headlines: 0\n",
            "Percent of words that are UNK: 0.0%\n"
          ]
        }
      ]
    },
    {
      "cell_type": "code",
      "source": [
        "def create_lengths(text):\n",
        "    '''Create a data frame of the sentence lengths from a text'''\n",
        "    lengths = []\n",
        "    for sentence in text:\n",
        "        lengths.append(len(sentence))\n",
        "    return pd.DataFrame(lengths, columns=['counts'])"
      ],
      "metadata": {
        "id": "3-EJYDDGJiks"
      },
      "execution_count": null,
      "outputs": []
    },
    {
      "cell_type": "code",
      "source": [
        "lengths_target = create_lengths(int_target)\n",
        "lengths_input = create_lengths(int_input)\n",
        "\n",
        "print(\"Summaries:\")\n",
        "print(lengths_target.describe())\n",
        "print()\n",
        "print(\"Texts:\")\n",
        "print(lengths_input.describe())"
      ],
      "metadata": {
        "colab": {
          "base_uri": "https://localhost:8080/"
        },
        "id": "jgWLLM5EJiyq",
        "outputId": "9f480b48-218d-4ccb-c9fc-3924042a4d0e"
      },
      "execution_count": null,
      "outputs": [
        {
          "output_type": "stream",
          "name": "stdout",
          "text": [
            "Summaries:\n",
            "             counts\n",
            "count  21401.000000\n",
            "mean      34.393112\n",
            "std       12.316238\n",
            "min        3.000000\n",
            "25%       26.000000\n",
            "50%       34.000000\n",
            "75%       42.000000\n",
            "max      164.000000\n",
            "\n",
            "Texts:\n",
            "             counts\n",
            "count  21401.000000\n",
            "mean     216.088921\n",
            "std      106.650884\n",
            "min       11.000000\n",
            "25%      142.000000\n",
            "50%      192.000000\n",
            "75%      260.000000\n",
            "max     1884.000000\n"
          ]
        }
      ]
    },
    {
      "cell_type": "code",
      "source": [
        "# Inspect the length of \"input\"\n",
        "print(np.percentile(lengths_input.counts, 90))\n",
        "print(np.percentile(lengths_input.counts, 95))\n",
        "print(np.percentile(lengths_input.counts, 99))"
      ],
      "metadata": {
        "colab": {
          "base_uri": "https://localhost:8080/"
        },
        "id": "poiwPQxWJi_k",
        "outputId": "c340feac-25cb-4a12-9655-bf46788a9537"
      },
      "execution_count": null,
      "outputs": [
        {
          "output_type": "stream",
          "name": "stdout",
          "text": [
            "377.0\n",
            "417.0\n",
            "525.0\n"
          ]
        }
      ]
    },
    {
      "cell_type": "code",
      "source": [
        "# Inspect the length of \"target\"\n",
        "print(np.percentile(lengths_target.counts, 90))\n",
        "print(np.percentile(lengths_target.counts, 95))\n",
        "print(np.percentile(lengths_target.counts, 99))"
      ],
      "metadata": {
        "colab": {
          "base_uri": "https://localhost:8080/"
        },
        "id": "LlShl5NsJjN6",
        "outputId": "e3710c7c-0bc8-4751-924d-93d9ca2e7d4b"
      },
      "execution_count": null,
      "outputs": [
        {
          "output_type": "stream",
          "name": "stdout",
          "text": [
            "49.0\n",
            "54.0\n",
            "70.0\n"
          ]
        }
      ]
    },
    {
      "cell_type": "code",
      "source": [
        "def unk_counter(sentence):\n",
        "    '''Counts the number of time UNK appears in a sentence.'''\n",
        "    unk_count = 0\n",
        "    for word in sentence:\n",
        "        if word == vocab_to_int[\"<UNK>\"]:\n",
        "            unk_count += 1\n",
        "    return unk_count"
      ],
      "metadata": {
        "id": "NQ9dtL5GLh7p"
      },
      "execution_count": null,
      "outputs": []
    },
    {
      "cell_type": "code",
      "source": [
        "# Sort the summaries and texts by the length of the texts, shortest to longest\n",
        "# Limit the length of summaries and texts based on the min and max ranges.\n",
        "# Remove texts that include too many UNKs\n",
        "\n",
        "sorted_target = []\n",
        "sorted_input = []\n",
        "max_input_length = 377\n",
        "max_target_length = 70\n",
        "min_length = 2\n",
        "unk_input_limit = 1\n",
        "unk_target_limit = 0\n",
        "\n",
        "for length in range(min(lengths_input.counts), max_input_length): \n",
        "    for count, words in enumerate(int_target):\n",
        "        if (len(int_target[count]) >= min_length and\n",
        "            len(int_target[count]) <= max_target_length and\n",
        "            len(int_input[count]) >= min_length and\n",
        "            unk_counter(int_target[count]) <= unk_target_limit and\n",
        "            unk_counter(int_input[count]) <= unk_input_limit and\n",
        "            length == len(int_input[count])\n",
        "           ):\n",
        "            sorted_target.append(int_target[count])\n",
        "            sorted_input.append(int_input[count])\n",
        "        \n",
        "# Compare lengths to ensure they match\n",
        "print(len(sorted_target))\n",
        "print(len(sorted_input))"
      ],
      "metadata": {
        "colab": {
          "base_uri": "https://localhost:8080/"
        },
        "id": "_o7upncTLiID",
        "outputId": "23adcdc4-ad5b-4fab-c128-e74805b9ed2c"
      },
      "execution_count": null,
      "outputs": [
        {
          "output_type": "stream",
          "name": "stdout",
          "text": [
            "19058\n",
            "19058\n"
          ]
        }
      ]
    },
    {
      "cell_type": "markdown",
      "source": [
        "#### Defining the model"
      ],
      "metadata": {
        "id": "ux9bh_uMMpKu"
      }
    },
    {
      "cell_type": "code",
      "source": [
        "def model_inputs():\n",
        "    '''Create placeholders for inputs to the model'''\n",
        "    \n",
        "    input_data = tf.placeholder(tf.int32, [None, None], name='input')\n",
        "    targets = tf.placeholder(tf.int32, [None, None], name='targets')\n",
        "    lr = tf.placeholder(tf.float32, name='learning_rate')\n",
        "    keep_prob = tf.placeholder(tf.float32, name='keep_prob')\n",
        "    summary_length = tf.placeholder(tf.int32, (None,), name='summary_length')\n",
        "    max_summary_length = tf.reduce_max(summary_length, name='max_dec_len')\n",
        "    text_length = tf.placeholder(tf.int32, (None,), name='text_length')\n",
        "\n",
        "    return input_data, targets, lr, keep_prob, summary_length, max_summary_length, text_length"
      ],
      "metadata": {
        "id": "nAn144_FMsZc"
      },
      "execution_count": null,
      "outputs": []
    },
    {
      "cell_type": "code",
      "source": [
        "def process_encoding_input(target_data, vocab_to_int, batch_size):\n",
        "    '''Remove the last word id from each batch and concat the <GO> to the begining of each batch'''\n",
        "    \n",
        "    ending = tf.strided_slice(target_data, [0, 0], [batch_size, -1], [1, 1])\n",
        "    dec_input = tf.concat([tf.fill([batch_size, 1], vocab_to_int['<GO>']), ending], 1)\n",
        "\n",
        "    return dec_input"
      ],
      "metadata": {
        "id": "_RjurNwyMzVB"
      },
      "execution_count": null,
      "outputs": []
    },
    {
      "cell_type": "code",
      "source": [
        "def encoding_layer(rnn_size, sequence_length, num_layers, rnn_inputs, keep_prob):\n",
        "    '''Create the encoding layer'''\n",
        "    \n",
        "    for layer in range(num_layers):\n",
        "        with tf.variable_scope('encoder_{}'.format(layer)):\n",
        "            cell_fw = tf.contrib.rnn.LSTMCell(rnn_size,\n",
        "                                              initializer=tf.random_uniform_initializer(-0.1, 0.1, seed=2))\n",
        "            cell_fw = tf.contrib.rnn.DropoutWrapper(cell_fw, \n",
        "                                                    input_keep_prob = keep_prob)\n",
        "\n",
        "            cell_bw = tf.contrib.rnn.LSTMCell(rnn_size,\n",
        "                                              initializer=tf.random_uniform_initializer(-0.1, 0.1, seed=2))\n",
        "            cell_bw = tf.contrib.rnn.DropoutWrapper(cell_bw, \n",
        "                                                    input_keep_prob = keep_prob)\n",
        "\n",
        "            enc_output, enc_state = tf.nn.bidirectional_dynamic_rnn(cell_fw, \n",
        "                                                                    cell_bw, \n",
        "                                                                    rnn_inputs,\n",
        "                                                                    sequence_length,\n",
        "                                                                    dtype=tf.float32)\n",
        "    # Join outputs since we are using a bidirectional RNN\n",
        "    enc_output = tf.concat(enc_output,2)\n",
        "    \n",
        "    return enc_output, enc_state"
      ],
      "metadata": {
        "id": "otTfNwh9MzpD"
      },
      "execution_count": null,
      "outputs": []
    },
    {
      "cell_type": "code",
      "source": [
        "def training_decoding_layer(dec_embed_input, summary_length, dec_cell, initial_state, output_layer, \n",
        "                            vocab_size, max_summary_length):\n",
        "    '''Create the training logits'''\n",
        "    \n",
        "    training_helper = tf.contrib.seq2seq.TrainingHelper(inputs=dec_embed_input,\n",
        "                                                        sequence_length=summary_length,\n",
        "                                                        time_major=False)\n",
        "\n",
        "    training_decoder = tf.contrib.seq2seq.BasicDecoder(dec_cell,\n",
        "                                                       training_helper,\n",
        "                                                       initial_state,\n",
        "                                                       output_layer) \n",
        "\n",
        "    training_logits, _ , _ = tf.contrib.seq2seq.dynamic_decode(training_decoder,\n",
        "                                                           output_time_major=False,\n",
        "                                                           impute_finished=True,\n",
        "                                                           maximum_iterations=max_summary_length)\n",
        "    return training_decoder"
      ],
      "metadata": {
        "id": "I7dGPGRaMz4T"
      },
      "execution_count": null,
      "outputs": []
    },
    {
      "cell_type": "code",
      "source": [
        "def inference_decoding_layer(embeddings, start_token, end_token, dec_cell, initial_state, output_layer,\n",
        "                             max_summary_length, batch_size):\n",
        "    '''Create the inference logits'''\n",
        "    \n",
        "    start_tokens = tf.tile(tf.constant([start_token], dtype=tf.int32), [batch_size], name='start_tokens')\n",
        "    \n",
        "    inference_helper = tf.contrib.seq2seq.GreedyEmbeddingHelper(embeddings,\n",
        "                                                                start_tokens,\n",
        "                                                                end_token)\n",
        "                \n",
        "    inference_decoder = tf.contrib.seq2seq.BasicDecoder(dec_cell,\n",
        "                                                        inference_helper,\n",
        "                                                        initial_state,\n",
        "                                                        output_layer)\n",
        "                \n",
        "    inference_logits, _ , _ = tf.contrib.seq2seq.dynamic_decode(inference_decoder,\n",
        "                                                            output_time_major=False,\n",
        "                                                            impute_finished=True,\n",
        "                                                            maximum_iterations=max_summary_length)\n",
        "    \n",
        "    return inference_decoder"
      ],
      "metadata": {
        "id": "2wIi_ha3LiM8"
      },
      "execution_count": null,
      "outputs": []
    },
    {
      "cell_type": "code",
      "source": [
        "def decoding_layer(dec_embed_input, embeddings, enc_output, enc_state, vocab_size, text_length, summary_length, \n",
        "                   max_summary_length, rnn_size, vocab_to_int, keep_prob, batch_size, num_layers):\n",
        "    '''Create the decoding cell and attention for the training and inference decoding layers'''\n",
        "    \n",
        "    for layer in range(num_layers):\n",
        "        with tf.variable_scope('decoder_{}'.format(layer)):\n",
        "            lstm = tf.contrib.rnn.LSTMCell(rnn_size,\n",
        "                                           initializer=tf.random_uniform_initializer(-0.1, 0.1, seed=2))\n",
        "            dec_cell = tf.contrib.rnn.DropoutWrapper(lstm, \n",
        "                                                     input_keep_prob = keep_prob)\n",
        "    \n",
        "    output_layer = Dense(vocab_size,\n",
        "                         kernel_initializer = tf.truncated_normal_initializer(mean = 0.0, stddev=0.1))\n",
        "    \n",
        "    attn_mech = tf.contrib.seq2seq.BahdanauAttention(rnn_size,\n",
        "                                                  enc_output,\n",
        "                                                  text_length,\n",
        "                                                  normalize=False,\n",
        "                                                  name='BahdanauAttention')\n",
        "\n",
        "    dec_cell = tf.contrib.seq2seq.AttentionWrapper(dec_cell,\n",
        "                                                          attn_mech,\n",
        "                                                          rnn_size)\n",
        "            \n",
        "    #initial_state = tf.contrib.seq2seq.AttentionWrapperState(enc_state[0],\n",
        "    #                                                                _zero_state_tensors(rnn_size, \n",
        "    #                                                                                    batch_size, \n",
        "    #                                                                                    tf.float32)) \n",
        "    initial_state = dec_cell.zero_state(batch_size=batch_size,dtype=tf.float32).clone(cell_state=enc_state[0])\n",
        "\n",
        "    with tf.variable_scope(\"decode\"):\n",
        "        training_decoder = training_decoding_layer(dec_embed_input, \n",
        "                                                  summary_length, \n",
        "                                                  dec_cell, \n",
        "                                                  initial_state,\n",
        "                                                  output_layer,\n",
        "                                                  vocab_size, \n",
        "                                                  max_summary_length)\n",
        "        \n",
        "        training_logits,_ ,_ = tf.contrib.seq2seq.dynamic_decode(training_decoder,\n",
        "                                  output_time_major=False,\n",
        "                                  impute_finished=True,\n",
        "                                  maximum_iterations=max_summary_length)\n",
        "    with tf.variable_scope(\"decode\", reuse=True):\n",
        "        inference_decoder = inference_decoding_layer(embeddings,  \n",
        "                                                    vocab_to_int['<GO>'], \n",
        "                                                    vocab_to_int['<EOS>'],\n",
        "                                                    dec_cell, \n",
        "                                                    initial_state, \n",
        "                                                    output_layer,\n",
        "                                                    max_summary_length,\n",
        "                                                    batch_size)\n",
        "        \n",
        "        inference_logits,_ ,_ = tf.contrib.seq2seq.dynamic_decode(inference_decoder,\n",
        "                                  output_time_major=False,\n",
        "                                  impute_finished=True,\n",
        "                                  maximum_iterations=max_summary_length)\n",
        "\n",
        "    return training_logits, inference_logits"
      ],
      "metadata": {
        "id": "XiVBgV-eJjac"
      },
      "execution_count": null,
      "outputs": []
    },
    {
      "cell_type": "code",
      "source": [
        "def seq2seq_model(input_data, target_data, keep_prob, text_length, summary_length, max_summary_length, \n",
        "                  vocab_size, rnn_size, num_layers, vocab_to_int, batch_size):\n",
        "    '''Use the previous functions to create the training and inference logits'''\n",
        "    \n",
        "    # Use Numberbatch's embeddings and the newly created ones as our embeddings\n",
        "    embeddings = word_embedding_matrix\n",
        "    \n",
        "    enc_embed_input = tf.nn.embedding_lookup(embeddings, input_data)\n",
        "    enc_output, enc_state = encoding_layer(rnn_size, text_length, num_layers, enc_embed_input, keep_prob)\n",
        "    \n",
        "    dec_input = process_encoding_input(target_data, vocab_to_int, batch_size)\n",
        "    dec_embed_input = tf.nn.embedding_lookup(embeddings, dec_input)\n",
        "    \n",
        "    training_logits, inference_logits  = decoding_layer(dec_embed_input, \n",
        "                                                        embeddings,\n",
        "                                                        enc_output,\n",
        "                                                        enc_state, \n",
        "                                                        vocab_size, \n",
        "                                                        text_length, \n",
        "                                                        summary_length, \n",
        "                                                        max_summary_length,\n",
        "                                                        rnn_size, \n",
        "                                                        vocab_to_int, \n",
        "                                                        keep_prob, \n",
        "                                                        batch_size,\n",
        "                                                        num_layers)\n",
        "    \n",
        "    return training_logits, inference_logits"
      ],
      "metadata": {
        "id": "2rw-zxv5NU_V"
      },
      "execution_count": null,
      "outputs": []
    },
    {
      "cell_type": "code",
      "source": [
        "def pad_sentence_batch(sentence_batch):\n",
        "    \"\"\"Pad sentences with <PAD> so that each sentence of a batch has the same length\"\"\"\n",
        "    max_sentence = max([len(sentence) for sentence in sentence_batch])\n",
        "    return [sentence + [vocab_to_int['<PAD>']] * (max_sentence - len(sentence)) for sentence in sentence_batch]"
      ],
      "metadata": {
        "id": "R1yTcrBuNVY9"
      },
      "execution_count": null,
      "outputs": []
    },
    {
      "cell_type": "code",
      "source": [
        "def get_batches(summaries, texts, batch_size):\n",
        "    \"\"\"Batch summaries, texts, and the lengths of their sentences together\"\"\"\n",
        "    for batch_i in range(0, len(texts)//batch_size):\n",
        "        start_i = batch_i * batch_size\n",
        "        summaries_batch = summaries[start_i:start_i + batch_size]\n",
        "        texts_batch = texts[start_i:start_i + batch_size]\n",
        "        pad_summaries_batch = np.array(pad_sentence_batch(summaries_batch))\n",
        "        pad_texts_batch = np.array(pad_sentence_batch(texts_batch))\n",
        "        \n",
        "        # Need the lengths for the _lengths parameters\n",
        "        pad_summaries_lengths = []\n",
        "        for summary in pad_summaries_batch:\n",
        "            pad_summaries_lengths.append(len(summary))\n",
        "        \n",
        "        pad_texts_lengths = []\n",
        "        for text in pad_texts_batch:\n",
        "            pad_texts_lengths.append(len(text))\n",
        "        \n",
        "        yield pad_summaries_batch, pad_texts_batch, pad_summaries_lengths, pad_texts_lengths"
      ],
      "metadata": {
        "id": "Zmxi4iZyNjTj"
      },
      "execution_count": null,
      "outputs": []
    },
    {
      "cell_type": "code",
      "source": [
        "# Set the Hyperparameters\n",
        "epochs = 200\n",
        "batch_size = 64\n",
        "rnn_size = 256\n",
        "num_layers = 2\n",
        "learning_rate = 0.005\n",
        "keep_probability = 0.75"
      ],
      "metadata": {
        "id": "odavWNIgNnyO"
      },
      "execution_count": null,
      "outputs": []
    },
    {
      "cell_type": "code",
      "source": [
        "# Build the graph\n",
        "train_graph = tf.Graph()\n",
        "# Set the graph to default to ensure that it is ready for training\n",
        "with train_graph.as_default():\n",
        "    \n",
        "    # Load the model inputs    \n",
        "    input_data, targets, lr, keep_prob, summary_length, max_summary_length, text_length = model_inputs()\n",
        "\n",
        "    # Create the training and inference logits\n",
        "    training_logits, inference_logits = seq2seq_model(tf.reverse(input_data, [-1]),\n",
        "                                                      targets, \n",
        "                                                      keep_prob,   \n",
        "                                                      text_length,\n",
        "                                                      summary_length,\n",
        "                                                      max_summary_length,\n",
        "                                                      len(vocab_to_int)+1,\n",
        "                                                      rnn_size, \n",
        "                                                      num_layers, \n",
        "                                                      vocab_to_int,\n",
        "                                                      batch_size)\n",
        "    \n",
        "    # Create tensors for the training logits and inference logits\n",
        "    training_logits = tf.identity(training_logits.rnn_output, 'logits')\n",
        "    inference_logits = tf.identity(inference_logits.sample_id, name='predictions')\n",
        "    \n",
        "    # Create the weights for sequence_loss\n",
        "    masks = tf.sequence_mask(summary_length, max_summary_length, dtype=tf.float32, name='masks')\n",
        "\n",
        "    with tf.name_scope(\"optimization\"):\n",
        "        # Loss function\n",
        "        cost = tf.contrib.seq2seq.sequence_loss(\n",
        "            training_logits,\n",
        "            targets,\n",
        "            masks)\n",
        "\n",
        "        # Optimizer\n",
        "        optimizer = tf.train.AdamOptimizer(learning_rate)\n",
        "\n",
        "        # Gradient Clipping\n",
        "        gradients = optimizer.compute_gradients(cost)\n",
        "        capped_gradients = [(tf.clip_by_value(grad, -5., 5.), var) for grad, var in gradients if grad is not None]\n",
        "        train_op = optimizer.apply_gradients(capped_gradients)\n",
        "print(\"Graph is built.\")\n"
      ],
      "metadata": {
        "colab": {
          "base_uri": "https://localhost:8080/"
        },
        "id": "4Sq4-OZONn1w",
        "outputId": "0c2d7cde-1bb5-417d-bf94-162fc372ced7"
      },
      "execution_count": null,
      "outputs": [
        {
          "output_type": "stream",
          "name": "stdout",
          "text": [
            "WARNING:tensorflow:From /usr/local/lib/python3.7/dist-packages/tensorflow/python/ops/embedding_ops.py:132: colocate_with (from tensorflow.python.framework.ops) is deprecated and will be removed in a future version.\n",
            "Instructions for updating:\n",
            "Colocations handled automatically by placer.\n",
            "WARNING:tensorflow:From <ipython-input-46-9390cb26606a>:7: LSTMCell.__init__ (from tensorflow.python.ops.rnn_cell_impl) is deprecated and will be removed in a future version.\n",
            "Instructions for updating:\n",
            "This class is equivalent as tf.keras.layers.LSTMCell, and will be replaced by that in Tensorflow 2.0.\n",
            "WARNING:tensorflow:From <ipython-input-46-9390cb26606a>:20: bidirectional_dynamic_rnn (from tensorflow.python.ops.rnn) is deprecated and will be removed in a future version.\n",
            "Instructions for updating:\n",
            "Please use `keras.layers.Bidirectional(keras.layers.RNN(cell))`, which is equivalent to this API\n",
            "WARNING:tensorflow:From /usr/local/lib/python3.7/dist-packages/tensorflow/python/ops/rnn.py:443: dynamic_rnn (from tensorflow.python.ops.rnn) is deprecated and will be removed in a future version.\n",
            "Instructions for updating:\n",
            "Please use `keras.layers.RNN(cell)`, which is equivalent to this API\n",
            "WARNING:tensorflow:From /usr/local/lib/python3.7/dist-packages/tensorflow/python/ops/rnn.py:626: to_int32 (from tensorflow.python.ops.math_ops) is deprecated and will be removed in a future version.\n",
            "Instructions for updating:\n",
            "Use tf.cast instead.\n",
            "WARNING:tensorflow:From /usr/local/lib/python3.7/dist-packages/tensorflow/python/ops/rnn_cell_impl.py:1259: calling dropout (from tensorflow.python.ops.nn_ops) with keep_prob is deprecated and will be removed in a future version.\n",
            "Instructions for updating:\n",
            "Please use `rate` instead of `keep_prob`. Rate should be set to `rate = 1 - keep_prob`.\n",
            "Graph is built.\n"
          ]
        }
      ]
    },
    {
      "cell_type": "markdown",
      "source": [
        "Training the model"
      ],
      "metadata": {
        "id": "aJE8PE0-N_wC"
      }
    },
    {
      "cell_type": "code",
      "source": [
        "# Subset the data for training\n",
        "start = 10000\n",
        "end = start + 8000\n",
        "sorted_target_short = sorted_target[start:end]\n",
        "sorted_input_short = sorted_input[start:end]\n",
        "print(\"The shortest text length:\", len(sorted_input_short[0]))\n",
        "print(\"The longest text length:\",len(sorted_input_short[-1]))"
      ],
      "metadata": {
        "colab": {
          "base_uri": "https://localhost:8080/"
        },
        "id": "L-tQvZsMNn43",
        "outputId": "c41dfc2e-72a3-4171-d491-ff171f14e3b4"
      },
      "execution_count": null,
      "outputs": [
        {
          "output_type": "stream",
          "name": "stdout",
          "text": [
            "The shortest text length: 186\n",
            "The longest text length: 331\n"
          ]
        }
      ]
    },
    {
      "cell_type": "code",
      "source": [
        "# Train the Model\n",
        "learning_rate_decay = 0.95\n",
        "min_learning_rate = 0.01 #0.0005\n",
        "display_step = 20 # Check training loss after every 20 batches\n",
        "stop_early = 0 \n",
        "stop = 6 #3 # If the update loss does not decrease in 3 consecutive update checks, stop training\n",
        "per_epoch = 3 # Make 3 update checks per epoch\n",
        "update_check = (len(sorted_input_short)//batch_size//per_epoch)-1\n",
        "\n",
        "update_loss = 0 \n",
        "batch_loss = 0\n",
        "summary_update_loss = [] # Record the update losses for saving improvements in the model\n",
        "\n",
        "  \n",
        "tf.reset_default_graph()\n",
        "checkpoint = \"C:/Users/Giuseppe/Desktop/NLP/best_model.ckpt\"  \n",
        "with tf.Session(graph=train_graph) as sess:\n",
        "    sess.run(tf.global_variables_initializer())\n",
        "    \n",
        "    # If we want to continue training a previous session\n",
        "    # loader = tf.train.import_meta_graph(checkpoint + '.meta')\n",
        "    # loader.restore(sess, checkpoint)\n",
        "    #sess.run(tf.local_variables_initializer())\n",
        "\n",
        "    for epoch_i in range(1, epochs+1):\n",
        "        update_loss = 0\n",
        "        batch_loss = 0\n",
        "        for batch_i, (summaries_batch, texts_batch, summaries_lengths, texts_lengths) in enumerate(\n",
        "                get_batches(sorted_target_short, sorted_input_short, batch_size)):\n",
        "            start_time = time.time()\n",
        "            _, loss = sess.run(\n",
        "                [train_op, cost],\n",
        "                {input_data: texts_batch,\n",
        "                 targets: summaries_batch,\n",
        "                 lr: learning_rate,\n",
        "                 summary_length: summaries_lengths,\n",
        "                 text_length: texts_lengths,\n",
        "                 keep_prob: keep_probability})\n",
        "\n",
        "            batch_loss += loss\n",
        "            update_loss += loss\n",
        "            end_time = time.time()\n",
        "            batch_time = end_time - start_time\n",
        "\n",
        "            if batch_i % display_step == 0 and batch_i > 0:\n",
        "                print('Epoch {:>3}/{} Batch {:>4}/{} - Loss: {:>6.3f}, Seconds: {:>4.2f}'\n",
        "                      .format(epoch_i,\n",
        "                              epochs, \n",
        "                              batch_i, \n",
        "                              len(sorted_input_short) // batch_size, \n",
        "                              batch_loss / display_step, \n",
        "                              batch_time*display_step))\n",
        "                batch_loss = 0\n",
        "                \n",
        "                saver = tf.train.Saver() \n",
        "                saver.save(sess, checkpoint)\n",
        "                \n",
        "            if batch_i % update_check == 0 and batch_i > 0:\n",
        "                print(\"Average loss for this update:\", round(update_loss/update_check,3))\n",
        "                summary_update_loss.append(update_loss)\n",
        "                \n",
        "              \n",
        "                  \n",
        "                # If the update loss is at a new minimum, save the model\n",
        "                if update_loss <= min(summary_update_loss):\n",
        "                    print('New Record!') \n",
        "                    stop_early = 0\n",
        "                    saver = tf.train.Saver() \n",
        "                    saver.save(sess, checkpoint)\n",
        "\n",
        "                else:\n",
        "                    print(\"No Improvement.\")\n",
        "                    stop_early += 1\n",
        "                    if stop_early == stop:\n",
        "                        break\n",
        "                update_loss = 0\n",
        "            \n",
        "                    \n",
        "        # Reduce learning rate, but not below its minimum value\n",
        "        learning_rate *= learning_rate_decay\n",
        "        if learning_rate < min_learning_rate:\n",
        "            learning_rate = min_learning_rate\n",
        "        \n",
        "        if stop_early == stop:\n",
        "            print(\"Stopping Training.\")\n",
        "            break\n",
        "    saver.save(sess, checkpoint)"
      ],
      "metadata": {
        "id": "RFBxbKW7NoMs"
      },
      "execution_count": null,
      "outputs": []
    },
    {
      "cell_type": "code",
      "source": [
        "checkpoint = '/content/NLP-summarization-of-French-written-documents/checkpoints/best_model.ckpt'\n",
        "\n",
        "loaded_graph = tf.Graph()\n",
        "with tf.Session(graph=loaded_graph) as sess:\n",
        "    # Load saved model\n",
        "    loader = tf.train.import_meta_graph(checkpoint + '.meta')\n",
        "    loader.restore(sess, checkpoint)\n",
        "    names = []\n",
        "    [names.append(n.name) for n in loaded_graph.as_graph_def().node]\n",
        "names"
      ],
      "metadata": {
        "colab": {
          "base_uri": "https://localhost:8080/",
          "height": 519
        },
        "id": "T7cBl6RY2zOS",
        "outputId": "6c6c02bd-6f83-43fc-acdf-6f20849691d1"
      },
      "execution_count": null,
      "outputs": [
        {
          "output_type": "error",
          "ename": "OSError",
          "evalue": "ignored",
          "traceback": [
            "\u001b[0;31m---------------------------------------------------------------------------\u001b[0m",
            "\u001b[0;31mParseError\u001b[0m                                Traceback (most recent call last)",
            "\u001b[0;32m/usr/local/lib/python3.7/dist-packages/tensorflow/python/framework/meta_graph.py\u001b[0m in \u001b[0;36mread_meta_graph_file\u001b[0;34m(filename)\u001b[0m\n\u001b[1;32m    643\u001b[0m   \u001b[0;32mtry\u001b[0m\u001b[0;34m:\u001b[0m\u001b[0;34m\u001b[0m\u001b[0;34m\u001b[0m\u001b[0m\n\u001b[0;32m--> 644\u001b[0;31m     \u001b[0mtext_format\u001b[0m\u001b[0;34m.\u001b[0m\u001b[0mMerge\u001b[0m\u001b[0;34m(\u001b[0m\u001b[0mfile_content\u001b[0m\u001b[0;34m.\u001b[0m\u001b[0mdecode\u001b[0m\u001b[0;34m(\u001b[0m\u001b[0;34m\"utf-8\"\u001b[0m\u001b[0;34m)\u001b[0m\u001b[0;34m,\u001b[0m \u001b[0mmeta_graph_def\u001b[0m\u001b[0;34m)\u001b[0m\u001b[0;34m\u001b[0m\u001b[0;34m\u001b[0m\u001b[0m\n\u001b[0m\u001b[1;32m    645\u001b[0m   \u001b[0;32mexcept\u001b[0m \u001b[0mtext_format\u001b[0m\u001b[0;34m.\u001b[0m\u001b[0mParseError\u001b[0m \u001b[0;32mas\u001b[0m \u001b[0me\u001b[0m\u001b[0;34m:\u001b[0m\u001b[0;34m\u001b[0m\u001b[0;34m\u001b[0m\u001b[0m\n",
            "\u001b[0;32m/usr/local/lib/python3.7/dist-packages/google/protobuf/text_format.py\u001b[0m in \u001b[0;36mMerge\u001b[0;34m(text, message, allow_unknown_extension, allow_field_number, descriptor_pool, allow_unknown_field)\u001b[0m\n\u001b[1;32m    734\u001b[0m       \u001b[0mdescriptor_pool\u001b[0m\u001b[0;34m=\u001b[0m\u001b[0mdescriptor_pool\u001b[0m\u001b[0;34m,\u001b[0m\u001b[0;34m\u001b[0m\u001b[0;34m\u001b[0m\u001b[0m\n\u001b[0;32m--> 735\u001b[0;31m       allow_unknown_field=allow_unknown_field)\n\u001b[0m\u001b[1;32m    736\u001b[0m \u001b[0;34m\u001b[0m\u001b[0m\n",
            "\u001b[0;32m/usr/local/lib/python3.7/dist-packages/google/protobuf/text_format.py\u001b[0m in \u001b[0;36mMergeLines\u001b[0;34m(lines, message, allow_unknown_extension, allow_field_number, descriptor_pool, allow_unknown_field)\u001b[0m\n\u001b[1;32m    802\u001b[0m                    allow_unknown_field=allow_unknown_field)\n\u001b[0;32m--> 803\u001b[0;31m   \u001b[0;32mreturn\u001b[0m \u001b[0mparser\u001b[0m\u001b[0;34m.\u001b[0m\u001b[0mMergeLines\u001b[0m\u001b[0;34m(\u001b[0m\u001b[0mlines\u001b[0m\u001b[0;34m,\u001b[0m \u001b[0mmessage\u001b[0m\u001b[0;34m)\u001b[0m\u001b[0;34m\u001b[0m\u001b[0;34m\u001b[0m\u001b[0m\n\u001b[0m\u001b[1;32m    804\u001b[0m \u001b[0;34m\u001b[0m\u001b[0m\n",
            "\u001b[0;32m/usr/local/lib/python3.7/dist-packages/google/protobuf/text_format.py\u001b[0m in \u001b[0;36mMergeLines\u001b[0;34m(self, lines, message)\u001b[0m\n\u001b[1;32m    827\u001b[0m     \u001b[0mself\u001b[0m\u001b[0;34m.\u001b[0m\u001b[0m_allow_multiple_scalars\u001b[0m \u001b[0;34m=\u001b[0m \u001b[0;32mTrue\u001b[0m\u001b[0;34m\u001b[0m\u001b[0;34m\u001b[0m\u001b[0m\n\u001b[0;32m--> 828\u001b[0;31m     \u001b[0mself\u001b[0m\u001b[0;34m.\u001b[0m\u001b[0m_ParseOrMerge\u001b[0m\u001b[0;34m(\u001b[0m\u001b[0mlines\u001b[0m\u001b[0;34m,\u001b[0m \u001b[0mmessage\u001b[0m\u001b[0;34m)\u001b[0m\u001b[0;34m\u001b[0m\u001b[0;34m\u001b[0m\u001b[0m\n\u001b[0m\u001b[1;32m    829\u001b[0m     \u001b[0;32mreturn\u001b[0m \u001b[0mmessage\u001b[0m\u001b[0;34m\u001b[0m\u001b[0;34m\u001b[0m\u001b[0m\n",
            "\u001b[0;32m/usr/local/lib/python3.7/dist-packages/google/protobuf/text_format.py\u001b[0m in \u001b[0;36m_ParseOrMerge\u001b[0;34m(self, lines, message)\u001b[0m\n\u001b[1;32m    849\u001b[0m     \u001b[0;32mwhile\u001b[0m \u001b[0;32mnot\u001b[0m \u001b[0mtokenizer\u001b[0m\u001b[0;34m.\u001b[0m\u001b[0mAtEnd\u001b[0m\u001b[0;34m(\u001b[0m\u001b[0;34m)\u001b[0m\u001b[0;34m:\u001b[0m\u001b[0;34m\u001b[0m\u001b[0;34m\u001b[0m\u001b[0m\n\u001b[0;32m--> 850\u001b[0;31m       \u001b[0mself\u001b[0m\u001b[0;34m.\u001b[0m\u001b[0m_MergeField\u001b[0m\u001b[0;34m(\u001b[0m\u001b[0mtokenizer\u001b[0m\u001b[0;34m,\u001b[0m \u001b[0mmessage\u001b[0m\u001b[0;34m)\u001b[0m\u001b[0;34m\u001b[0m\u001b[0;34m\u001b[0m\u001b[0m\n\u001b[0m\u001b[1;32m    851\u001b[0m \u001b[0;34m\u001b[0m\u001b[0m\n",
            "\u001b[0;32m/usr/local/lib/python3.7/dist-packages/google/protobuf/text_format.py\u001b[0m in \u001b[0;36m_MergeField\u001b[0;34m(self, tokenizer, message)\u001b[0m\n\u001b[1;32m    946\u001b[0m             \u001b[0;34m'Message type \"%s\" has no field named \"%s\".'\u001b[0m \u001b[0;34m%\u001b[0m\u001b[0;34m\u001b[0m\u001b[0;34m\u001b[0m\u001b[0m\n\u001b[0;32m--> 947\u001b[0;31m             (message_descriptor.full_name, name))\n\u001b[0m\u001b[1;32m    948\u001b[0m \u001b[0;34m\u001b[0m\u001b[0m\n",
            "\u001b[0;31mParseError\u001b[0m: 1:1 : Message type \"tensorflow.MetaGraphDef\" has no field named \"version\".",
            "\nDuring handling of the above exception, another exception occurred:\n",
            "\u001b[0;31mOSError\u001b[0m                                   Traceback (most recent call last)",
            "\u001b[0;32m<ipython-input-55-868329b27f7a>\u001b[0m in \u001b[0;36m<module>\u001b[0;34m()\u001b[0m\n\u001b[1;32m      4\u001b[0m \u001b[0;32mwith\u001b[0m \u001b[0mtf\u001b[0m\u001b[0;34m.\u001b[0m\u001b[0mSession\u001b[0m\u001b[0;34m(\u001b[0m\u001b[0mgraph\u001b[0m\u001b[0;34m=\u001b[0m\u001b[0mloaded_graph\u001b[0m\u001b[0;34m)\u001b[0m \u001b[0;32mas\u001b[0m \u001b[0msess\u001b[0m\u001b[0;34m:\u001b[0m\u001b[0;34m\u001b[0m\u001b[0;34m\u001b[0m\u001b[0m\n\u001b[1;32m      5\u001b[0m     \u001b[0;31m# Load saved model\u001b[0m\u001b[0;34m\u001b[0m\u001b[0;34m\u001b[0m\u001b[0;34m\u001b[0m\u001b[0m\n\u001b[0;32m----> 6\u001b[0;31m     \u001b[0mloader\u001b[0m \u001b[0;34m=\u001b[0m \u001b[0mtf\u001b[0m\u001b[0;34m.\u001b[0m\u001b[0mtrain\u001b[0m\u001b[0;34m.\u001b[0m\u001b[0mimport_meta_graph\u001b[0m\u001b[0;34m(\u001b[0m\u001b[0mcheckpoint\u001b[0m \u001b[0;34m+\u001b[0m \u001b[0;34m'.meta'\u001b[0m\u001b[0;34m)\u001b[0m\u001b[0;34m\u001b[0m\u001b[0;34m\u001b[0m\u001b[0m\n\u001b[0m\u001b[1;32m      7\u001b[0m     \u001b[0mloader\u001b[0m\u001b[0;34m.\u001b[0m\u001b[0mrestore\u001b[0m\u001b[0;34m(\u001b[0m\u001b[0msess\u001b[0m\u001b[0;34m,\u001b[0m \u001b[0mcheckpoint\u001b[0m\u001b[0;34m)\u001b[0m\u001b[0;34m\u001b[0m\u001b[0;34m\u001b[0m\u001b[0m\n\u001b[1;32m      8\u001b[0m     \u001b[0mnames\u001b[0m \u001b[0;34m=\u001b[0m \u001b[0;34m[\u001b[0m\u001b[0;34m]\u001b[0m\u001b[0;34m\u001b[0m\u001b[0;34m\u001b[0m\u001b[0m\n",
            "\u001b[0;32m/usr/local/lib/python3.7/dist-packages/tensorflow/python/training/saver.py\u001b[0m in \u001b[0;36mimport_meta_graph\u001b[0;34m(meta_graph_or_file, clear_devices, import_scope, **kwargs)\u001b[0m\n\u001b[1;32m   1433\u001b[0m   \"\"\"  # pylint: disable=g-doc-exception\n\u001b[1;32m   1434\u001b[0m   return _import_meta_graph_with_return_elements(\n\u001b[0;32m-> 1435\u001b[0;31m       meta_graph_or_file, clear_devices, import_scope, **kwargs)[0]\n\u001b[0m\u001b[1;32m   1436\u001b[0m \u001b[0;34m\u001b[0m\u001b[0m\n\u001b[1;32m   1437\u001b[0m \u001b[0;34m\u001b[0m\u001b[0m\n",
            "\u001b[0;32m/usr/local/lib/python3.7/dist-packages/tensorflow/python/training/saver.py\u001b[0m in \u001b[0;36m_import_meta_graph_with_return_elements\u001b[0;34m(meta_graph_or_file, clear_devices, import_scope, return_elements, **kwargs)\u001b[0m\n\u001b[1;32m   1445\u001b[0m                        \"execution is enabled.\")\n\u001b[1;32m   1446\u001b[0m   \u001b[0;32mif\u001b[0m \u001b[0;32mnot\u001b[0m \u001b[0misinstance\u001b[0m\u001b[0;34m(\u001b[0m\u001b[0mmeta_graph_or_file\u001b[0m\u001b[0;34m,\u001b[0m \u001b[0mmeta_graph_pb2\u001b[0m\u001b[0;34m.\u001b[0m\u001b[0mMetaGraphDef\u001b[0m\u001b[0;34m)\u001b[0m\u001b[0;34m:\u001b[0m\u001b[0;34m\u001b[0m\u001b[0;34m\u001b[0m\u001b[0m\n\u001b[0;32m-> 1447\u001b[0;31m     \u001b[0mmeta_graph_def\u001b[0m \u001b[0;34m=\u001b[0m \u001b[0mmeta_graph\u001b[0m\u001b[0;34m.\u001b[0m\u001b[0mread_meta_graph_file\u001b[0m\u001b[0;34m(\u001b[0m\u001b[0mmeta_graph_or_file\u001b[0m\u001b[0;34m)\u001b[0m\u001b[0;34m\u001b[0m\u001b[0;34m\u001b[0m\u001b[0m\n\u001b[0m\u001b[1;32m   1448\u001b[0m   \u001b[0;32melse\u001b[0m\u001b[0;34m:\u001b[0m\u001b[0;34m\u001b[0m\u001b[0;34m\u001b[0m\u001b[0m\n\u001b[1;32m   1449\u001b[0m     \u001b[0mmeta_graph_def\u001b[0m \u001b[0;34m=\u001b[0m \u001b[0mmeta_graph_or_file\u001b[0m\u001b[0;34m\u001b[0m\u001b[0;34m\u001b[0m\u001b[0m\n",
            "\u001b[0;32m/usr/local/lib/python3.7/dist-packages/tensorflow/python/framework/meta_graph.py\u001b[0m in \u001b[0;36mread_meta_graph_file\u001b[0;34m(filename)\u001b[0m\n\u001b[1;32m    644\u001b[0m     \u001b[0mtext_format\u001b[0m\u001b[0;34m.\u001b[0m\u001b[0mMerge\u001b[0m\u001b[0;34m(\u001b[0m\u001b[0mfile_content\u001b[0m\u001b[0;34m.\u001b[0m\u001b[0mdecode\u001b[0m\u001b[0;34m(\u001b[0m\u001b[0;34m\"utf-8\"\u001b[0m\u001b[0;34m)\u001b[0m\u001b[0;34m,\u001b[0m \u001b[0mmeta_graph_def\u001b[0m\u001b[0;34m)\u001b[0m\u001b[0;34m\u001b[0m\u001b[0;34m\u001b[0m\u001b[0m\n\u001b[1;32m    645\u001b[0m   \u001b[0;32mexcept\u001b[0m \u001b[0mtext_format\u001b[0m\u001b[0;34m.\u001b[0m\u001b[0mParseError\u001b[0m \u001b[0;32mas\u001b[0m \u001b[0me\u001b[0m\u001b[0;34m:\u001b[0m\u001b[0;34m\u001b[0m\u001b[0;34m\u001b[0m\u001b[0m\n\u001b[0;32m--> 646\u001b[0;31m     \u001b[0;32mraise\u001b[0m \u001b[0mIOError\u001b[0m\u001b[0;34m(\u001b[0m\u001b[0;34m\"Cannot parse file %s: %s.\"\u001b[0m \u001b[0;34m%\u001b[0m \u001b[0;34m(\u001b[0m\u001b[0mfilename\u001b[0m\u001b[0;34m,\u001b[0m \u001b[0mstr\u001b[0m\u001b[0;34m(\u001b[0m\u001b[0me\u001b[0m\u001b[0;34m)\u001b[0m\u001b[0;34m)\u001b[0m\u001b[0;34m)\u001b[0m\u001b[0;34m\u001b[0m\u001b[0;34m\u001b[0m\u001b[0m\n\u001b[0m\u001b[1;32m    647\u001b[0m \u001b[0;34m\u001b[0m\u001b[0m\n\u001b[1;32m    648\u001b[0m   \u001b[0;32mreturn\u001b[0m \u001b[0mmeta_graph_def\u001b[0m\u001b[0;34m\u001b[0m\u001b[0;34m\u001b[0m\u001b[0m\n",
            "\u001b[0;31mOSError\u001b[0m: Cannot parse file /content/NLP-summarization-of-French-written-documents/checkpoints/best_model.ckpt.meta: 1:1 : Message type \"tensorflow.MetaGraphDef\" has no field named \"version\".."
          ]
        }
      ]
    },
    {
      "cell_type": "markdown",
      "source": [
        "#### Generating new summaries"
      ],
      "metadata": {
        "id": "-1YcBKfMPTml"
      }
    },
    {
      "cell_type": "code",
      "source": [
        "def text_to_seq(text):\n",
        "    '''Prepare the text for the model'''\n",
        "    \n",
        "    text = clean_text(text)\n",
        "    return [vocab_to_int.get(word, vocab_to_int['<UNK>']) for word in text.split()]"
      ],
      "metadata": {
        "id": "5hBe-AbcPOfE"
      },
      "execution_count": null,
      "outputs": []
    },
    {
      "cell_type": "code",
      "source": [
        "# Create our own summaries from the dataset\n",
        "\n",
        "#text = text_to_seq(input_sentence)\n",
        "random = np.random.randint(0,len(clean_input))\n",
        "input_sentence = clean_input[random]\n",
        "text = text_to_seq(clean_input[random])\n",
        "\n",
        "checkpoint = checkpoint = '/content/NLP-summarization-of-French-written-documents/checkpoints/best_model.ckpt'\n",
        "\n",
        "loaded_graph = tf.Graph()\n",
        "with tf.Session(graph=loaded_graph) as sess:\n",
        "    # Load saved model\n",
        "    loader = tf.train.import_meta_graph(checkpoint + '.meta')\n",
        "    loader.restore(sess, checkpoint)\n",
        "\n",
        "    input_data = loaded_graph.get_tensor_by_name('input:0')\n",
        "    logits = loaded_graph.get_tensor_by_name('predictions:0')\n",
        "    text_length = loaded_graph.get_tensor_by_name('text_length:0')\n",
        "    summary_length = loaded_graph.get_tensor_by_name('summary_length:0')\n",
        "    keep_prob = loaded_graph.get_tensor_by_name('keep_prob:0')\n",
        "    \n",
        "    #Multiply by batch_size to match the model's input parameters\n",
        "    answer_logits = sess.run(logits, {input_data: [text]*batch_size, \n",
        "                                      summary_length: [np.random.randint(5,50)], \n",
        "                                      text_length: [len(text)]*batch_size,\n",
        "                                      keep_prob: 1.0})[0] \n",
        "\n",
        "# Remove the padding from the tweet\n",
        "pad = vocab_to_int[\"<PAD>\"] \n",
        "\n",
        "print('Original Text:', df_train_OS.input[random])\n",
        "print('Original summary:', df_train_OS.target[random])#clean_summaries[random]\n",
        "\n",
        "print('\\nText')\n",
        "#print('  Word Ids:    {}'.format([i for i in text]))\n",
        "print('  Input Words: {}'.format(\" \".join([int_to_vocab[i] for i in text])))\n",
        "\n",
        "print('\\nSummary')\n",
        "#print('  Word Ids:       {}'.format([i for i in answer_logits if i != pad]))\n",
        "print('  Response Words: {}'.format(\" \".join([int_to_vocab[i] for i in answer_logits if i != pad])))"
      ],
      "metadata": {
        "colab": {
          "base_uri": "https://localhost:8080/",
          "height": 519
        },
        "id": "rH_gLY7mFOC_",
        "outputId": "07e4f20f-306c-4515-8040-ce3d1b137be7"
      },
      "execution_count": null,
      "outputs": [
        {
          "output_type": "error",
          "ename": "OSError",
          "evalue": "ignored",
          "traceback": [
            "\u001b[0;31m---------------------------------------------------------------------------\u001b[0m",
            "\u001b[0;31mParseError\u001b[0m                                Traceback (most recent call last)",
            "\u001b[0;32m/usr/local/lib/python3.7/dist-packages/tensorflow/python/framework/meta_graph.py\u001b[0m in \u001b[0;36mread_meta_graph_file\u001b[0;34m(filename)\u001b[0m\n\u001b[1;32m    643\u001b[0m   \u001b[0;32mtry\u001b[0m\u001b[0;34m:\u001b[0m\u001b[0;34m\u001b[0m\u001b[0;34m\u001b[0m\u001b[0m\n\u001b[0;32m--> 644\u001b[0;31m     \u001b[0mtext_format\u001b[0m\u001b[0;34m.\u001b[0m\u001b[0mMerge\u001b[0m\u001b[0;34m(\u001b[0m\u001b[0mfile_content\u001b[0m\u001b[0;34m.\u001b[0m\u001b[0mdecode\u001b[0m\u001b[0;34m(\u001b[0m\u001b[0;34m\"utf-8\"\u001b[0m\u001b[0;34m)\u001b[0m\u001b[0;34m,\u001b[0m \u001b[0mmeta_graph_def\u001b[0m\u001b[0;34m)\u001b[0m\u001b[0;34m\u001b[0m\u001b[0;34m\u001b[0m\u001b[0m\n\u001b[0m\u001b[1;32m    645\u001b[0m   \u001b[0;32mexcept\u001b[0m \u001b[0mtext_format\u001b[0m\u001b[0;34m.\u001b[0m\u001b[0mParseError\u001b[0m \u001b[0;32mas\u001b[0m \u001b[0me\u001b[0m\u001b[0;34m:\u001b[0m\u001b[0;34m\u001b[0m\u001b[0;34m\u001b[0m\u001b[0m\n",
            "\u001b[0;32m/usr/local/lib/python3.7/dist-packages/google/protobuf/text_format.py\u001b[0m in \u001b[0;36mMerge\u001b[0;34m(text, message, allow_unknown_extension, allow_field_number, descriptor_pool, allow_unknown_field)\u001b[0m\n\u001b[1;32m    734\u001b[0m       \u001b[0mdescriptor_pool\u001b[0m\u001b[0;34m=\u001b[0m\u001b[0mdescriptor_pool\u001b[0m\u001b[0;34m,\u001b[0m\u001b[0;34m\u001b[0m\u001b[0;34m\u001b[0m\u001b[0m\n\u001b[0;32m--> 735\u001b[0;31m       allow_unknown_field=allow_unknown_field)\n\u001b[0m\u001b[1;32m    736\u001b[0m \u001b[0;34m\u001b[0m\u001b[0m\n",
            "\u001b[0;32m/usr/local/lib/python3.7/dist-packages/google/protobuf/text_format.py\u001b[0m in \u001b[0;36mMergeLines\u001b[0;34m(lines, message, allow_unknown_extension, allow_field_number, descriptor_pool, allow_unknown_field)\u001b[0m\n\u001b[1;32m    802\u001b[0m                    allow_unknown_field=allow_unknown_field)\n\u001b[0;32m--> 803\u001b[0;31m   \u001b[0;32mreturn\u001b[0m \u001b[0mparser\u001b[0m\u001b[0;34m.\u001b[0m\u001b[0mMergeLines\u001b[0m\u001b[0;34m(\u001b[0m\u001b[0mlines\u001b[0m\u001b[0;34m,\u001b[0m \u001b[0mmessage\u001b[0m\u001b[0;34m)\u001b[0m\u001b[0;34m\u001b[0m\u001b[0;34m\u001b[0m\u001b[0m\n\u001b[0m\u001b[1;32m    804\u001b[0m \u001b[0;34m\u001b[0m\u001b[0m\n",
            "\u001b[0;32m/usr/local/lib/python3.7/dist-packages/google/protobuf/text_format.py\u001b[0m in \u001b[0;36mMergeLines\u001b[0;34m(self, lines, message)\u001b[0m\n\u001b[1;32m    827\u001b[0m     \u001b[0mself\u001b[0m\u001b[0;34m.\u001b[0m\u001b[0m_allow_multiple_scalars\u001b[0m \u001b[0;34m=\u001b[0m \u001b[0;32mTrue\u001b[0m\u001b[0;34m\u001b[0m\u001b[0;34m\u001b[0m\u001b[0m\n\u001b[0;32m--> 828\u001b[0;31m     \u001b[0mself\u001b[0m\u001b[0;34m.\u001b[0m\u001b[0m_ParseOrMerge\u001b[0m\u001b[0;34m(\u001b[0m\u001b[0mlines\u001b[0m\u001b[0;34m,\u001b[0m \u001b[0mmessage\u001b[0m\u001b[0;34m)\u001b[0m\u001b[0;34m\u001b[0m\u001b[0;34m\u001b[0m\u001b[0m\n\u001b[0m\u001b[1;32m    829\u001b[0m     \u001b[0;32mreturn\u001b[0m \u001b[0mmessage\u001b[0m\u001b[0;34m\u001b[0m\u001b[0;34m\u001b[0m\u001b[0m\n",
            "\u001b[0;32m/usr/local/lib/python3.7/dist-packages/google/protobuf/text_format.py\u001b[0m in \u001b[0;36m_ParseOrMerge\u001b[0;34m(self, lines, message)\u001b[0m\n\u001b[1;32m    849\u001b[0m     \u001b[0;32mwhile\u001b[0m \u001b[0;32mnot\u001b[0m \u001b[0mtokenizer\u001b[0m\u001b[0;34m.\u001b[0m\u001b[0mAtEnd\u001b[0m\u001b[0;34m(\u001b[0m\u001b[0;34m)\u001b[0m\u001b[0;34m:\u001b[0m\u001b[0;34m\u001b[0m\u001b[0;34m\u001b[0m\u001b[0m\n\u001b[0;32m--> 850\u001b[0;31m       \u001b[0mself\u001b[0m\u001b[0;34m.\u001b[0m\u001b[0m_MergeField\u001b[0m\u001b[0;34m(\u001b[0m\u001b[0mtokenizer\u001b[0m\u001b[0;34m,\u001b[0m \u001b[0mmessage\u001b[0m\u001b[0;34m)\u001b[0m\u001b[0;34m\u001b[0m\u001b[0;34m\u001b[0m\u001b[0m\n\u001b[0m\u001b[1;32m    851\u001b[0m \u001b[0;34m\u001b[0m\u001b[0m\n",
            "\u001b[0;32m/usr/local/lib/python3.7/dist-packages/google/protobuf/text_format.py\u001b[0m in \u001b[0;36m_MergeField\u001b[0;34m(self, tokenizer, message)\u001b[0m\n\u001b[1;32m    946\u001b[0m             \u001b[0;34m'Message type \"%s\" has no field named \"%s\".'\u001b[0m \u001b[0;34m%\u001b[0m\u001b[0;34m\u001b[0m\u001b[0;34m\u001b[0m\u001b[0m\n\u001b[0;32m--> 947\u001b[0;31m             (message_descriptor.full_name, name))\n\u001b[0m\u001b[1;32m    948\u001b[0m \u001b[0;34m\u001b[0m\u001b[0m\n",
            "\u001b[0;31mParseError\u001b[0m: 1:1 : Message type \"tensorflow.MetaGraphDef\" has no field named \"version\".",
            "\nDuring handling of the above exception, another exception occurred:\n",
            "\u001b[0;31mOSError\u001b[0m                                   Traceback (most recent call last)",
            "\u001b[0;32m<ipython-input-58-58d73cb515b0>\u001b[0m in \u001b[0;36m<module>\u001b[0;34m()\u001b[0m\n\u001b[1;32m     11\u001b[0m \u001b[0;32mwith\u001b[0m \u001b[0mtf\u001b[0m\u001b[0;34m.\u001b[0m\u001b[0mSession\u001b[0m\u001b[0;34m(\u001b[0m\u001b[0mgraph\u001b[0m\u001b[0;34m=\u001b[0m\u001b[0mloaded_graph\u001b[0m\u001b[0;34m)\u001b[0m \u001b[0;32mas\u001b[0m \u001b[0msess\u001b[0m\u001b[0;34m:\u001b[0m\u001b[0;34m\u001b[0m\u001b[0;34m\u001b[0m\u001b[0m\n\u001b[1;32m     12\u001b[0m     \u001b[0;31m# Load saved model\u001b[0m\u001b[0;34m\u001b[0m\u001b[0;34m\u001b[0m\u001b[0;34m\u001b[0m\u001b[0m\n\u001b[0;32m---> 13\u001b[0;31m     \u001b[0mloader\u001b[0m \u001b[0;34m=\u001b[0m \u001b[0mtf\u001b[0m\u001b[0;34m.\u001b[0m\u001b[0mtrain\u001b[0m\u001b[0;34m.\u001b[0m\u001b[0mimport_meta_graph\u001b[0m\u001b[0;34m(\u001b[0m\u001b[0mcheckpoint\u001b[0m \u001b[0;34m+\u001b[0m \u001b[0;34m'.meta'\u001b[0m\u001b[0;34m)\u001b[0m\u001b[0;34m\u001b[0m\u001b[0;34m\u001b[0m\u001b[0m\n\u001b[0m\u001b[1;32m     14\u001b[0m     \u001b[0mloader\u001b[0m\u001b[0;34m.\u001b[0m\u001b[0mrestore\u001b[0m\u001b[0;34m(\u001b[0m\u001b[0msess\u001b[0m\u001b[0;34m,\u001b[0m \u001b[0mcheckpoint\u001b[0m\u001b[0;34m)\u001b[0m\u001b[0;34m\u001b[0m\u001b[0;34m\u001b[0m\u001b[0m\n\u001b[1;32m     15\u001b[0m \u001b[0;34m\u001b[0m\u001b[0m\n",
            "\u001b[0;32m/usr/local/lib/python3.7/dist-packages/tensorflow/python/training/saver.py\u001b[0m in \u001b[0;36mimport_meta_graph\u001b[0;34m(meta_graph_or_file, clear_devices, import_scope, **kwargs)\u001b[0m\n\u001b[1;32m   1433\u001b[0m   \"\"\"  # pylint: disable=g-doc-exception\n\u001b[1;32m   1434\u001b[0m   return _import_meta_graph_with_return_elements(\n\u001b[0;32m-> 1435\u001b[0;31m       meta_graph_or_file, clear_devices, import_scope, **kwargs)[0]\n\u001b[0m\u001b[1;32m   1436\u001b[0m \u001b[0;34m\u001b[0m\u001b[0m\n\u001b[1;32m   1437\u001b[0m \u001b[0;34m\u001b[0m\u001b[0m\n",
            "\u001b[0;32m/usr/local/lib/python3.7/dist-packages/tensorflow/python/training/saver.py\u001b[0m in \u001b[0;36m_import_meta_graph_with_return_elements\u001b[0;34m(meta_graph_or_file, clear_devices, import_scope, return_elements, **kwargs)\u001b[0m\n\u001b[1;32m   1445\u001b[0m                        \"execution is enabled.\")\n\u001b[1;32m   1446\u001b[0m   \u001b[0;32mif\u001b[0m \u001b[0;32mnot\u001b[0m \u001b[0misinstance\u001b[0m\u001b[0;34m(\u001b[0m\u001b[0mmeta_graph_or_file\u001b[0m\u001b[0;34m,\u001b[0m \u001b[0mmeta_graph_pb2\u001b[0m\u001b[0;34m.\u001b[0m\u001b[0mMetaGraphDef\u001b[0m\u001b[0;34m)\u001b[0m\u001b[0;34m:\u001b[0m\u001b[0;34m\u001b[0m\u001b[0;34m\u001b[0m\u001b[0m\n\u001b[0;32m-> 1447\u001b[0;31m     \u001b[0mmeta_graph_def\u001b[0m \u001b[0;34m=\u001b[0m \u001b[0mmeta_graph\u001b[0m\u001b[0;34m.\u001b[0m\u001b[0mread_meta_graph_file\u001b[0m\u001b[0;34m(\u001b[0m\u001b[0mmeta_graph_or_file\u001b[0m\u001b[0;34m)\u001b[0m\u001b[0;34m\u001b[0m\u001b[0;34m\u001b[0m\u001b[0m\n\u001b[0m\u001b[1;32m   1448\u001b[0m   \u001b[0;32melse\u001b[0m\u001b[0;34m:\u001b[0m\u001b[0;34m\u001b[0m\u001b[0;34m\u001b[0m\u001b[0m\n\u001b[1;32m   1449\u001b[0m     \u001b[0mmeta_graph_def\u001b[0m \u001b[0;34m=\u001b[0m \u001b[0mmeta_graph_or_file\u001b[0m\u001b[0;34m\u001b[0m\u001b[0;34m\u001b[0m\u001b[0m\n",
            "\u001b[0;32m/usr/local/lib/python3.7/dist-packages/tensorflow/python/framework/meta_graph.py\u001b[0m in \u001b[0;36mread_meta_graph_file\u001b[0;34m(filename)\u001b[0m\n\u001b[1;32m    644\u001b[0m     \u001b[0mtext_format\u001b[0m\u001b[0;34m.\u001b[0m\u001b[0mMerge\u001b[0m\u001b[0;34m(\u001b[0m\u001b[0mfile_content\u001b[0m\u001b[0;34m.\u001b[0m\u001b[0mdecode\u001b[0m\u001b[0;34m(\u001b[0m\u001b[0;34m\"utf-8\"\u001b[0m\u001b[0;34m)\u001b[0m\u001b[0;34m,\u001b[0m \u001b[0mmeta_graph_def\u001b[0m\u001b[0;34m)\u001b[0m\u001b[0;34m\u001b[0m\u001b[0;34m\u001b[0m\u001b[0m\n\u001b[1;32m    645\u001b[0m   \u001b[0;32mexcept\u001b[0m \u001b[0mtext_format\u001b[0m\u001b[0;34m.\u001b[0m\u001b[0mParseError\u001b[0m \u001b[0;32mas\u001b[0m \u001b[0me\u001b[0m\u001b[0;34m:\u001b[0m\u001b[0;34m\u001b[0m\u001b[0;34m\u001b[0m\u001b[0m\n\u001b[0;32m--> 646\u001b[0;31m     \u001b[0;32mraise\u001b[0m \u001b[0mIOError\u001b[0m\u001b[0;34m(\u001b[0m\u001b[0;34m\"Cannot parse file %s: %s.\"\u001b[0m \u001b[0;34m%\u001b[0m \u001b[0;34m(\u001b[0m\u001b[0mfilename\u001b[0m\u001b[0;34m,\u001b[0m \u001b[0mstr\u001b[0m\u001b[0;34m(\u001b[0m\u001b[0me\u001b[0m\u001b[0;34m)\u001b[0m\u001b[0;34m)\u001b[0m\u001b[0;34m)\u001b[0m\u001b[0;34m\u001b[0m\u001b[0;34m\u001b[0m\u001b[0m\n\u001b[0m\u001b[1;32m    647\u001b[0m \u001b[0;34m\u001b[0m\u001b[0m\n\u001b[1;32m    648\u001b[0m   \u001b[0;32mreturn\u001b[0m \u001b[0mmeta_graph_def\u001b[0m\u001b[0;34m\u001b[0m\u001b[0;34m\u001b[0m\u001b[0m\n",
            "\u001b[0;31mOSError\u001b[0m: Cannot parse file /content/NLP-summarization-of-French-written-documents/checkpoints/best_model.ckpt.meta: 1:1 : Message type \"tensorflow.MetaGraphDef\" has no field named \"version\".."
          ]
        }
      ]
    },
    {
      "cell_type": "markdown",
      "source": [
        "#### Example of prediction :"
      ],
      "metadata": {
        "id": "mnbWcm_ot4hv"
      }
    },
    {
      "cell_type": "code",
      "source": [
        "##Example of the output of the trained model\n",
        "#-----------------------------------------------------------------------------------------------------------------------------------------------------------------------------------------------\n",
        "\n",
        "#INFO:tensorflow:Restoring parameters from C:/Users/Giuseppe/Desktop/NLP/best_model.ckpt\n",
        "#Original Text: Mardi 18 juin, à l'occasion d'une commémoration de l'appel du 18 juin à Evreux dans l'Eure, une vingtaine de jeunes engagés au sein du Service national universel (SNU) ou cadets de la défense, ont été victimes de malaises après être restés debout en plein soleil. Ces jeunes, habillés en uniforme du SNU (casquette, polo blanc et pantalon noir), devaient rester immobiles pendant toute la cérémonie sur les marches de l'hôtel de ville, indique France Bleu Normandie. Or la température ressentie a dépassé les 31 degrés mardi. SNU : les soldats de la république - L'Info du Vrai du 18/06 - CANAL+par L'info du vraiAlors que les personnalités officielles dont le maire de la ville poursuivaient leurs discours, ces jeunes ont dû être pris en charge à l'intérieur de la mairie par les pompiers. Un véhicule du SAMU s'est également rendu sur place, ainsi que des effectifs de la police municipale qui ont aidé les jeunes à se réhydrater. Selon le maire Guy Lefrand, \"deux ou trois jeunes\" ont été plus sérieusement touchés. Dans un communiqué relayé par BFMTV, la préfecture de l'Eure évoque un \"léger coup de chaud lié aux températures particulièrement élevées\", mais aussi \"une forme d'émotion liée au caractère solennel de la cérémonie\". L'édile affirme au micro de France Bleu que les victimes ont \"rapidement retrouvé la forme\".\n",
        "\n",
        "#Original summary: Rassemblés à l'occasion de la commémoration de l'appel du 18 juin, ces jeunes du Service national universel sont restés longtemps debout en plein soleil.\n",
        "\n",
        "\n",
        "#Text\n",
        "  #Input Words: mardi 18 juin occasion commémoration appel 18 juin evreux eure vingtaine jeunes engagés sein service national universel snu cadets défense victimes malaises après être restés debout plein soleil jeunes habillés uniforme snu casquette polo blanc pantalon noir devaient rester immobiles pendant toute cérémonie marches hôtel ville indique france bleu normandie or température ressentie a dépassé 31 degrés mardi snu soldats république info vrai 18 06 canal info vraialors personnalités officielles dont maire ville poursuivaient leurs discours jeunes dû être pris charge intérieur mairie pompiers véhicule samu également rendu place ainsi effectifs police municipale aidé jeunes réhydrater selon maire guy lefrand deux trois jeunes plus sérieusement touchés communiqué relayé bfmtv préfecture eure évoque léger coup chaud lié températures particulièrement élevées aussi forme émotion liée caractère solennel cérémonie édile affirme micro france bleu victimes rapidement retrouvé forme\n",
        "\n",
        "#Summary\n",
        "  #Response Words: les familles ont été placés en place à la mairie de paris a été placé en place à la mairie de paris"
      ],
      "metadata": {
        "id": "wwTXDyy_WBV4"
      },
      "execution_count": null,
      "outputs": []
    },
    {
      "cell_type": "markdown",
      "source": [
        "### Pre-trained BARTHez"
      ],
      "metadata": {
        "id": "_I8xedbDsnIo"
      }
    },
    {
      "cell_type": "markdown",
      "source": [
        "The training of a model from scratch being really long, to be able to do better comparisons in the experiment section, we also used a BARTHez pre-trained."
      ],
      "metadata": {
        "id": "kVSKaSV3mbdJ"
      }
    },
    {
      "cell_type": "markdown",
      "source": [
        "BARTHez is a encoder-decoder model for French texts which uses the attention mechanism of transformers. It was presented together with OrangeSum dataset in the paper [*BARThez: a Skilled Pretrained French Sequence-to-Sequence Model*](https://arxiv.org/pdf/2010.12321.pdf), and a version pre-trained on a really wide french corpus is available in [HuggingFace](https://huggingface.co/moussaKam/barthez).\n",
        "\n",
        "The main idea of this model is composed of a bidirectional encoder (similar as BART/BERT architectures), and a left-to-right auto-regressive decoder. Both the encoder and the decoder were pre-trained, and contains transformer's attention mechanism. "
      ],
      "metadata": {
        "id": "npGZuzq6sq_y"
      }
    },
    {
      "cell_type": "code",
      "source": [
        "from transformers import AutoTokenizer, AutoModelForSeq2SeqLM"
      ],
      "metadata": {
        "id": "u_4dWyBoC_Er"
      },
      "execution_count": 18,
      "outputs": []
    },
    {
      "cell_type": "code",
      "source": [
        "tokenizer_barthez = AutoTokenizer.from_pretrained(\"moussaKam/barthez\")\n",
        "model_barthez = AutoModelForSeq2SeqLM.from_pretrained(\"moussaKam/barthez-orangesum-abstract\")"
      ],
      "metadata": {
        "id": "4zZ504IhsqYr"
      },
      "execution_count": 19,
      "outputs": []
    },
    {
      "cell_type": "code",
      "source": [
        "model_barthez = model_barthez.eval()"
      ],
      "metadata": {
        "id": "Cnoo1Uyspoug"
      },
      "execution_count": 20,
      "outputs": []
    },
    {
      "cell_type": "code",
      "source": [
        "def summarize__barthez (text, max_length = 60) : \n",
        "\n",
        "    summary_generated = None \n",
        "\n",
        "    # the try part had to be added, because we had indexErrors, but the rest was provided in the documentation of BARTHez so we didn't find from were this error come from... \n",
        "    try : \n",
        "\n",
        "        # 1. Tokenization & Encoding the text : \n",
        "        text_encoded = torch.tensor(\n",
        "            [tokenizer_barthez.encode(text, add_special_tokens=True)]\n",
        "        )\n",
        "\n",
        "        # Pad the text if needed (required for BARTHez) :\n",
        "        if len(text_encoded) > 1024 : \n",
        "            text_encoded = text_encoded[:1024]\n",
        "\n",
        "        # 2. Generation of (encoded) summary : \n",
        "        summary_generated_encoded = model_barthez.generate(text_encoded, max_length=max_length)[0]\n",
        "\n",
        "        # 3. Decoding the summary : \n",
        "        summary_generated = tokenizer_barthez.decode(summary_generated_encoded, skip_special_tokens=True)\n",
        "\n",
        "    except IndexError :\n",
        "\n",
        "        pass\n",
        "\n",
        "    return summary_generated"
      ],
      "metadata": {
        "id": "NrLfBXhaqBaN"
      },
      "execution_count": 38,
      "outputs": []
    },
    {
      "cell_type": "markdown",
      "source": [
        "#### Model's architecture :"
      ],
      "metadata": {
        "id": "hmuzbtFBoL_H"
      }
    },
    {
      "cell_type": "code",
      "source": [
        "print('Architecture of BARTHez model :')\n",
        "print('-'*30)\n",
        "model_barthez"
      ],
      "metadata": {
        "colab": {
          "base_uri": "https://localhost:8080/"
        },
        "id": "8Doki8gyDBn7",
        "outputId": "d2059702-5ee7-4991-e735-4b644f262306"
      },
      "execution_count": 47,
      "outputs": [
        {
          "output_type": "stream",
          "name": "stdout",
          "text": [
            "Architecture of BARTHez model :\n",
            "------------------------------\n"
          ]
        },
        {
          "output_type": "execute_result",
          "data": {
            "text/plain": [
              "MBartForConditionalGeneration(\n",
              "  (model): MBartModel(\n",
              "    (shared): Embedding(50002, 768, padding_idx=1)\n",
              "    (encoder): MBartEncoder(\n",
              "      (embed_tokens): Embedding(50002, 768, padding_idx=1)\n",
              "      (embed_positions): MBartLearnedPositionalEmbedding(1026, 768)\n",
              "      (layers): ModuleList(\n",
              "        (0): MBartEncoderLayer(\n",
              "          (self_attn): MBartAttention(\n",
              "            (k_proj): Linear(in_features=768, out_features=768, bias=True)\n",
              "            (v_proj): Linear(in_features=768, out_features=768, bias=True)\n",
              "            (q_proj): Linear(in_features=768, out_features=768, bias=True)\n",
              "            (out_proj): Linear(in_features=768, out_features=768, bias=True)\n",
              "          )\n",
              "          (self_attn_layer_norm): LayerNorm((768,), eps=1e-05, elementwise_affine=True)\n",
              "          (activation_fn): GELUActivation()\n",
              "          (fc1): Linear(in_features=768, out_features=3072, bias=True)\n",
              "          (fc2): Linear(in_features=3072, out_features=768, bias=True)\n",
              "          (final_layer_norm): LayerNorm((768,), eps=1e-05, elementwise_affine=True)\n",
              "        )\n",
              "        (1): MBartEncoderLayer(\n",
              "          (self_attn): MBartAttention(\n",
              "            (k_proj): Linear(in_features=768, out_features=768, bias=True)\n",
              "            (v_proj): Linear(in_features=768, out_features=768, bias=True)\n",
              "            (q_proj): Linear(in_features=768, out_features=768, bias=True)\n",
              "            (out_proj): Linear(in_features=768, out_features=768, bias=True)\n",
              "          )\n",
              "          (self_attn_layer_norm): LayerNorm((768,), eps=1e-05, elementwise_affine=True)\n",
              "          (activation_fn): GELUActivation()\n",
              "          (fc1): Linear(in_features=768, out_features=3072, bias=True)\n",
              "          (fc2): Linear(in_features=3072, out_features=768, bias=True)\n",
              "          (final_layer_norm): LayerNorm((768,), eps=1e-05, elementwise_affine=True)\n",
              "        )\n",
              "        (2): MBartEncoderLayer(\n",
              "          (self_attn): MBartAttention(\n",
              "            (k_proj): Linear(in_features=768, out_features=768, bias=True)\n",
              "            (v_proj): Linear(in_features=768, out_features=768, bias=True)\n",
              "            (q_proj): Linear(in_features=768, out_features=768, bias=True)\n",
              "            (out_proj): Linear(in_features=768, out_features=768, bias=True)\n",
              "          )\n",
              "          (self_attn_layer_norm): LayerNorm((768,), eps=1e-05, elementwise_affine=True)\n",
              "          (activation_fn): GELUActivation()\n",
              "          (fc1): Linear(in_features=768, out_features=3072, bias=True)\n",
              "          (fc2): Linear(in_features=3072, out_features=768, bias=True)\n",
              "          (final_layer_norm): LayerNorm((768,), eps=1e-05, elementwise_affine=True)\n",
              "        )\n",
              "        (3): MBartEncoderLayer(\n",
              "          (self_attn): MBartAttention(\n",
              "            (k_proj): Linear(in_features=768, out_features=768, bias=True)\n",
              "            (v_proj): Linear(in_features=768, out_features=768, bias=True)\n",
              "            (q_proj): Linear(in_features=768, out_features=768, bias=True)\n",
              "            (out_proj): Linear(in_features=768, out_features=768, bias=True)\n",
              "          )\n",
              "          (self_attn_layer_norm): LayerNorm((768,), eps=1e-05, elementwise_affine=True)\n",
              "          (activation_fn): GELUActivation()\n",
              "          (fc1): Linear(in_features=768, out_features=3072, bias=True)\n",
              "          (fc2): Linear(in_features=3072, out_features=768, bias=True)\n",
              "          (final_layer_norm): LayerNorm((768,), eps=1e-05, elementwise_affine=True)\n",
              "        )\n",
              "        (4): MBartEncoderLayer(\n",
              "          (self_attn): MBartAttention(\n",
              "            (k_proj): Linear(in_features=768, out_features=768, bias=True)\n",
              "            (v_proj): Linear(in_features=768, out_features=768, bias=True)\n",
              "            (q_proj): Linear(in_features=768, out_features=768, bias=True)\n",
              "            (out_proj): Linear(in_features=768, out_features=768, bias=True)\n",
              "          )\n",
              "          (self_attn_layer_norm): LayerNorm((768,), eps=1e-05, elementwise_affine=True)\n",
              "          (activation_fn): GELUActivation()\n",
              "          (fc1): Linear(in_features=768, out_features=3072, bias=True)\n",
              "          (fc2): Linear(in_features=3072, out_features=768, bias=True)\n",
              "          (final_layer_norm): LayerNorm((768,), eps=1e-05, elementwise_affine=True)\n",
              "        )\n",
              "        (5): MBartEncoderLayer(\n",
              "          (self_attn): MBartAttention(\n",
              "            (k_proj): Linear(in_features=768, out_features=768, bias=True)\n",
              "            (v_proj): Linear(in_features=768, out_features=768, bias=True)\n",
              "            (q_proj): Linear(in_features=768, out_features=768, bias=True)\n",
              "            (out_proj): Linear(in_features=768, out_features=768, bias=True)\n",
              "          )\n",
              "          (self_attn_layer_norm): LayerNorm((768,), eps=1e-05, elementwise_affine=True)\n",
              "          (activation_fn): GELUActivation()\n",
              "          (fc1): Linear(in_features=768, out_features=3072, bias=True)\n",
              "          (fc2): Linear(in_features=3072, out_features=768, bias=True)\n",
              "          (final_layer_norm): LayerNorm((768,), eps=1e-05, elementwise_affine=True)\n",
              "        )\n",
              "      )\n",
              "      (layernorm_embedding): LayerNorm((768,), eps=1e-05, elementwise_affine=True)\n",
              "      (layer_norm): LayerNorm((768,), eps=1e-05, elementwise_affine=True)\n",
              "    )\n",
              "    (decoder): MBartDecoder(\n",
              "      (embed_tokens): Embedding(50002, 768, padding_idx=1)\n",
              "      (embed_positions): MBartLearnedPositionalEmbedding(1026, 768)\n",
              "      (layers): ModuleList(\n",
              "        (0): MBartDecoderLayer(\n",
              "          (self_attn): MBartAttention(\n",
              "            (k_proj): Linear(in_features=768, out_features=768, bias=True)\n",
              "            (v_proj): Linear(in_features=768, out_features=768, bias=True)\n",
              "            (q_proj): Linear(in_features=768, out_features=768, bias=True)\n",
              "            (out_proj): Linear(in_features=768, out_features=768, bias=True)\n",
              "          )\n",
              "          (activation_fn): GELUActivation()\n",
              "          (self_attn_layer_norm): LayerNorm((768,), eps=1e-05, elementwise_affine=True)\n",
              "          (encoder_attn): MBartAttention(\n",
              "            (k_proj): Linear(in_features=768, out_features=768, bias=True)\n",
              "            (v_proj): Linear(in_features=768, out_features=768, bias=True)\n",
              "            (q_proj): Linear(in_features=768, out_features=768, bias=True)\n",
              "            (out_proj): Linear(in_features=768, out_features=768, bias=True)\n",
              "          )\n",
              "          (encoder_attn_layer_norm): LayerNorm((768,), eps=1e-05, elementwise_affine=True)\n",
              "          (fc1): Linear(in_features=768, out_features=3072, bias=True)\n",
              "          (fc2): Linear(in_features=3072, out_features=768, bias=True)\n",
              "          (final_layer_norm): LayerNorm((768,), eps=1e-05, elementwise_affine=True)\n",
              "        )\n",
              "        (1): MBartDecoderLayer(\n",
              "          (self_attn): MBartAttention(\n",
              "            (k_proj): Linear(in_features=768, out_features=768, bias=True)\n",
              "            (v_proj): Linear(in_features=768, out_features=768, bias=True)\n",
              "            (q_proj): Linear(in_features=768, out_features=768, bias=True)\n",
              "            (out_proj): Linear(in_features=768, out_features=768, bias=True)\n",
              "          )\n",
              "          (activation_fn): GELUActivation()\n",
              "          (self_attn_layer_norm): LayerNorm((768,), eps=1e-05, elementwise_affine=True)\n",
              "          (encoder_attn): MBartAttention(\n",
              "            (k_proj): Linear(in_features=768, out_features=768, bias=True)\n",
              "            (v_proj): Linear(in_features=768, out_features=768, bias=True)\n",
              "            (q_proj): Linear(in_features=768, out_features=768, bias=True)\n",
              "            (out_proj): Linear(in_features=768, out_features=768, bias=True)\n",
              "          )\n",
              "          (encoder_attn_layer_norm): LayerNorm((768,), eps=1e-05, elementwise_affine=True)\n",
              "          (fc1): Linear(in_features=768, out_features=3072, bias=True)\n",
              "          (fc2): Linear(in_features=3072, out_features=768, bias=True)\n",
              "          (final_layer_norm): LayerNorm((768,), eps=1e-05, elementwise_affine=True)\n",
              "        )\n",
              "        (2): MBartDecoderLayer(\n",
              "          (self_attn): MBartAttention(\n",
              "            (k_proj): Linear(in_features=768, out_features=768, bias=True)\n",
              "            (v_proj): Linear(in_features=768, out_features=768, bias=True)\n",
              "            (q_proj): Linear(in_features=768, out_features=768, bias=True)\n",
              "            (out_proj): Linear(in_features=768, out_features=768, bias=True)\n",
              "          )\n",
              "          (activation_fn): GELUActivation()\n",
              "          (self_attn_layer_norm): LayerNorm((768,), eps=1e-05, elementwise_affine=True)\n",
              "          (encoder_attn): MBartAttention(\n",
              "            (k_proj): Linear(in_features=768, out_features=768, bias=True)\n",
              "            (v_proj): Linear(in_features=768, out_features=768, bias=True)\n",
              "            (q_proj): Linear(in_features=768, out_features=768, bias=True)\n",
              "            (out_proj): Linear(in_features=768, out_features=768, bias=True)\n",
              "          )\n",
              "          (encoder_attn_layer_norm): LayerNorm((768,), eps=1e-05, elementwise_affine=True)\n",
              "          (fc1): Linear(in_features=768, out_features=3072, bias=True)\n",
              "          (fc2): Linear(in_features=3072, out_features=768, bias=True)\n",
              "          (final_layer_norm): LayerNorm((768,), eps=1e-05, elementwise_affine=True)\n",
              "        )\n",
              "        (3): MBartDecoderLayer(\n",
              "          (self_attn): MBartAttention(\n",
              "            (k_proj): Linear(in_features=768, out_features=768, bias=True)\n",
              "            (v_proj): Linear(in_features=768, out_features=768, bias=True)\n",
              "            (q_proj): Linear(in_features=768, out_features=768, bias=True)\n",
              "            (out_proj): Linear(in_features=768, out_features=768, bias=True)\n",
              "          )\n",
              "          (activation_fn): GELUActivation()\n",
              "          (self_attn_layer_norm): LayerNorm((768,), eps=1e-05, elementwise_affine=True)\n",
              "          (encoder_attn): MBartAttention(\n",
              "            (k_proj): Linear(in_features=768, out_features=768, bias=True)\n",
              "            (v_proj): Linear(in_features=768, out_features=768, bias=True)\n",
              "            (q_proj): Linear(in_features=768, out_features=768, bias=True)\n",
              "            (out_proj): Linear(in_features=768, out_features=768, bias=True)\n",
              "          )\n",
              "          (encoder_attn_layer_norm): LayerNorm((768,), eps=1e-05, elementwise_affine=True)\n",
              "          (fc1): Linear(in_features=768, out_features=3072, bias=True)\n",
              "          (fc2): Linear(in_features=3072, out_features=768, bias=True)\n",
              "          (final_layer_norm): LayerNorm((768,), eps=1e-05, elementwise_affine=True)\n",
              "        )\n",
              "        (4): MBartDecoderLayer(\n",
              "          (self_attn): MBartAttention(\n",
              "            (k_proj): Linear(in_features=768, out_features=768, bias=True)\n",
              "            (v_proj): Linear(in_features=768, out_features=768, bias=True)\n",
              "            (q_proj): Linear(in_features=768, out_features=768, bias=True)\n",
              "            (out_proj): Linear(in_features=768, out_features=768, bias=True)\n",
              "          )\n",
              "          (activation_fn): GELUActivation()\n",
              "          (self_attn_layer_norm): LayerNorm((768,), eps=1e-05, elementwise_affine=True)\n",
              "          (encoder_attn): MBartAttention(\n",
              "            (k_proj): Linear(in_features=768, out_features=768, bias=True)\n",
              "            (v_proj): Linear(in_features=768, out_features=768, bias=True)\n",
              "            (q_proj): Linear(in_features=768, out_features=768, bias=True)\n",
              "            (out_proj): Linear(in_features=768, out_features=768, bias=True)\n",
              "          )\n",
              "          (encoder_attn_layer_norm): LayerNorm((768,), eps=1e-05, elementwise_affine=True)\n",
              "          (fc1): Linear(in_features=768, out_features=3072, bias=True)\n",
              "          (fc2): Linear(in_features=3072, out_features=768, bias=True)\n",
              "          (final_layer_norm): LayerNorm((768,), eps=1e-05, elementwise_affine=True)\n",
              "        )\n",
              "        (5): MBartDecoderLayer(\n",
              "          (self_attn): MBartAttention(\n",
              "            (k_proj): Linear(in_features=768, out_features=768, bias=True)\n",
              "            (v_proj): Linear(in_features=768, out_features=768, bias=True)\n",
              "            (q_proj): Linear(in_features=768, out_features=768, bias=True)\n",
              "            (out_proj): Linear(in_features=768, out_features=768, bias=True)\n",
              "          )\n",
              "          (activation_fn): GELUActivation()\n",
              "          (self_attn_layer_norm): LayerNorm((768,), eps=1e-05, elementwise_affine=True)\n",
              "          (encoder_attn): MBartAttention(\n",
              "            (k_proj): Linear(in_features=768, out_features=768, bias=True)\n",
              "            (v_proj): Linear(in_features=768, out_features=768, bias=True)\n",
              "            (q_proj): Linear(in_features=768, out_features=768, bias=True)\n",
              "            (out_proj): Linear(in_features=768, out_features=768, bias=True)\n",
              "          )\n",
              "          (encoder_attn_layer_norm): LayerNorm((768,), eps=1e-05, elementwise_affine=True)\n",
              "          (fc1): Linear(in_features=768, out_features=3072, bias=True)\n",
              "          (fc2): Linear(in_features=3072, out_features=768, bias=True)\n",
              "          (final_layer_norm): LayerNorm((768,), eps=1e-05, elementwise_affine=True)\n",
              "        )\n",
              "      )\n",
              "      (layernorm_embedding): LayerNorm((768,), eps=1e-05, elementwise_affine=True)\n",
              "      (layer_norm): LayerNorm((768,), eps=1e-05, elementwise_affine=True)\n",
              "    )\n",
              "  )\n",
              "  (lm_head): Linear(in_features=768, out_features=50002, bias=False)\n",
              ")"
            ]
          },
          "metadata": {},
          "execution_count": 47
        }
      ]
    },
    {
      "cell_type": "markdown",
      "source": [
        "↪ A common embedding is shared for the encoder and the decoder, and contains embeddings of size $768$ for a vocabulary of $50000$ words. Positional embeddings of size $1026$ were also used and learned during the training, padding the texts up to $1026$ tokens.\n",
        "\n",
        "↪ Both encoder and decoder are composed of $6$ blocks, each one containing a self attention block, followed by GeLU activations, intermediate linear layers and finaly a layer norm."
      ],
      "metadata": {
        "id": "ElXvhsFpDshp"
      }
    },
    {
      "cell_type": "code",
      "source": [
        "print_thousands = lambda x : '{:,}'.format(x).replace(',', ' ')\n",
        "\n",
        "print('Number of parameters of BARTHez model : ', print_thousands(sum(p.numel() for p in model_barthez.parameters())))\n",
        "\n",
        "print(' | Number of parameters of the (shared) embeddings : ', print_thousands(sum(p.numel() for p in model_barthez.model.shared.parameters())))\n",
        "print(' | Number of parameters of the encoder (without embeddings) : ', print_thousands(sum(p.numel() for p in model_barthez.model.encoder.parameters())-sum(p.numel() for p in model_barthez.model.shared.parameters())))\n",
        "print(' | Number of parameters of the decoder : (without embeddings) ', print_thousands(sum(p.numel() for p in model_barthez.model.decoder.parameters())-sum(p.numel() for p in model_barthez.model.shared.parameters())))"
      ],
      "metadata": {
        "colab": {
          "base_uri": "https://localhost:8080/"
        },
        "id": "WcyvVnQCDFkR",
        "outputId": "e6c193b2-76b7-4e7b-cbca-2e996eaef3b7"
      },
      "execution_count": 48,
      "outputs": [
        {
          "output_type": "stream",
          "name": "stdout",
          "text": [
            "Number of parameters of BARTHez model :  139 221 504\n",
            " | Number of parameters of the (shared) embeddings :  38 401 536\n",
            " | Number of parameters of the encoder (without embeddings) :  43 318 272\n",
            " | Number of parameters of the decoder : (without embeddings)  57 501 696\n"
          ]
        }
      ]
    },
    {
      "cell_type": "markdown",
      "source": [
        "↪ The number of parameters is really high, so, if we had re trained this model, we may have frozen a part of the model (like the embeddings for instance). here, the model was already trained on OrangeSum dataset."
      ],
      "metadata": {
        "id": "4wpkP7WPGBYz"
      }
    },
    {
      "cell_type": "markdown",
      "source": [
        "#### Example of prediction :"
      ],
      "metadata": {
        "id": "5gZQ7K1SoPH4"
      }
    },
    {
      "cell_type": "code",
      "source": [
        "text = dataset_orangesum['train'][2]['input']\n",
        "summary_real = dataset_orangesum['train'][2]['target']"
      ],
      "metadata": {
        "id": "oAMaavnAoj0O"
      },
      "execution_count": 49,
      "outputs": []
    },
    {
      "cell_type": "markdown",
      "source": [
        "Generation of the summary  :"
      ],
      "metadata": {
        "id": "yS194qIVooRA"
      }
    },
    {
      "cell_type": "code",
      "source": [
        "summary_generated = summarize__barthez(text)"
      ],
      "metadata": {
        "id": "7oNPlCy8oqhZ"
      },
      "execution_count": 50,
      "outputs": []
    },
    {
      "cell_type": "code",
      "source": [
        "summary_real"
      ],
      "metadata": {
        "colab": {
          "base_uri": "https://localhost:8080/",
          "height": 54
        },
        "id": "u5e6rgQlqJFs",
        "outputId": "c014ead1-90f3-4b4b-868f-c47c040d33cd"
      },
      "execution_count": 51,
      "outputs": [
        {
          "output_type": "execute_result",
          "data": {
            "text/plain": [
              "'En 2020, les tribunaux d\\'instance fusionnent avec ceux de grande instance pour former un unique \"tribunal judiciaire\". C\\'est la principale mesure de la réforme de la Justice, portée par la garde des sceaux Nicole Belloubet.\\n'"
            ],
            "application/vnd.google.colaboratory.intrinsic+json": {
              "type": "string"
            }
          },
          "metadata": {},
          "execution_count": 51
        }
      ]
    },
    {
      "cell_type": "code",
      "source": [
        "summary_generated"
      ],
      "metadata": {
        "colab": {
          "base_uri": "https://localhost:8080/",
          "height": 36
        },
        "id": "QZUj9-B-qKFm",
        "outputId": "e7b0a6e3-3600-471d-e940-33ab453aa77f"
      },
      "execution_count": 52,
      "outputs": [
        {
          "output_type": "execute_result",
          "data": {
            "text/plain": [
              "'Les tribunaux d\\'instance fusionnent pour former un \"tribunal judiciaire\".'"
            ],
            "application/vnd.google.colaboratory.intrinsic+json": {
              "type": "string"
            }
          },
          "metadata": {},
          "execution_count": 52
        }
      ]
    },
    {
      "cell_type": "markdown",
      "source": [
        "ROUGE scores between text and summary :"
      ],
      "metadata": {
        "id": "Ec6pxeWqqlVV"
      }
    },
    {
      "cell_type": "code",
      "source": [
        "Rouge().get_scores(summary_generated, summary_real, avg=True)"
      ],
      "metadata": {
        "colab": {
          "base_uri": "https://localhost:8080/"
        },
        "id": "GIMIFNcwmr_H",
        "outputId": "cacd5474-86a4-4c1f-a547-86a7e394e050"
      },
      "execution_count": 53,
      "outputs": [
        {
          "output_type": "execute_result",
          "data": {
            "text/plain": [
              "{'rouge-1': {'f': 0.3999999965125,\n",
              "  'p': 0.8888888888888888,\n",
              "  'r': 0.25806451612903225},\n",
              " 'rouge-2': {'f': 0.2380952350113379, 'p': 0.625, 'r': 0.14705882352941177},\n",
              " 'rouge-l': {'f': 0.3999999965125,\n",
              "  'p': 0.8888888888888888,\n",
              "  'r': 0.25806451612903225}}"
            ]
          },
          "metadata": {},
          "execution_count": 53
        }
      ]
    },
    {
      "cell_type": "markdown",
      "source": [
        "↪ The scores are way better than with TextRank for instance, and obtained for a summary really short (even by specifying a max number of words of 60), and really factual."
      ],
      "metadata": {
        "id": "rszcE478uWS6"
      }
    },
    {
      "cell_type": "code",
      "source": [
        ""
      ],
      "metadata": {
        "id": "hD2pkBxlqn9a"
      },
      "execution_count": null,
      "outputs": []
    },
    {
      "cell_type": "markdown",
      "source": [
        "## Tests & Experiments - TO COMPLETE"
      ],
      "metadata": {
        "id": "ViOoTjOzSoKr"
      }
    },
    {
      "cell_type": "markdown",
      "source": [
        "In this section, we present our experiments of our different models, mainly made on the validation set of OrangeSum, for which we generate summaries stored in the following dataframe."
      ],
      "metadata": {
        "id": "F4BZE2Nmm-Pc"
      }
    },
    {
      "cell_type": "markdown",
      "source": [
        "### Generation of summaries for OrangeSum validation dataset (200 first articles) :"
      ],
      "metadata": {
        "id": "8b83MMnsnpnx"
      }
    },
    {
      "cell_type": "markdown",
      "source": [
        "*We concentrated on the first 200 articles due to the time needed to compute all the predictions and scores...*"
      ],
      "metadata": {
        "id": "FNGFvvcp5tQu"
      }
    },
    {
      "cell_type": "code",
      "source": [
        "nb_articles = 200\n",
        "df_orangesum_validation = dataset_orangesum['validation'].to_pandas().rename(columns={'input' : 'article', 'target' : 'abstract_target'})[['article','abstract_target']][:nb_articles]"
      ],
      "metadata": {
        "id": "H_tIhpkNnNBA"
      },
      "execution_count": 30,
      "outputs": []
    },
    {
      "cell_type": "code",
      "source": [
        "# TextRank model with Word2Vec 1-d embeddings :\n",
        "textrank_model = TextRank()  \n",
        "print('TextRank predictions :')\n",
        "df_orangesum_validation['abstract_textrank'] = df_orangesum_validation['article'].progress_apply(lambda text : textrank_model.summarize__(text))"
      ],
      "metadata": {
        "colab": {
          "base_uri": "https://localhost:8080/",
          "height": 105,
          "referenced_widgets": [
            "8ddc1f1961ba459d97481630b2036477",
            "102e959a1ac44f41af8135fec36735a2",
            "50b4fa2f79184c33a959eeeaa7b83647",
            "da8310ce940b4ec8bf2f4917c4870796",
            "b112485c852f48d8807e6ec3e5ce9007",
            "cf4d500c33344f7db0e759e36bf5065f",
            "15de0b77d9b14abbb09945e5293d5ec0",
            "97e619cba753424191549ac40b4579a9",
            "84cc1d875bbf47748a2256a26539dc3a",
            "8969b9b425a745c082f051725ce17fbc",
            "dcc3f9cab0c24adf8520f9d2c85378b6"
          ]
        },
        "id": "7GDmg3_qnt_Q",
        "outputId": "e37ab8c0-fed2-481b-8457-3a85ca1e9032"
      },
      "execution_count": 32,
      "outputs": [
        {
          "output_type": "stream",
          "name": "stdout",
          "text": [
            "TextRank predictions :\n"
          ]
        },
        {
          "output_type": "display_data",
          "data": {
            "text/plain": [
              "  0%|          | 0/200 [00:00<?, ?it/s]"
            ],
            "application/vnd.jupyter.widget-view+json": {
              "version_major": 2,
              "version_minor": 0,
              "model_id": "8ddc1f1961ba459d97481630b2036477"
            }
          },
          "metadata": {}
        },
        {
          "output_type": "stream",
          "name": "stderr",
          "text": [
            "/usr/local/lib/python3.7/dist-packages/ipykernel_launcher.py:21: DeprecationWarning: Call to deprecated `__getitem__` (Method will be removed in 4.0.0, use self.wv.__getitem__() instead).\n"
          ]
        }
      ]
    },
    {
      "cell_type": "code",
      "source": [
        "# Predictions using BARTHez pre-trained model :\n",
        "print('BARTHez predictions :') \n",
        "df_orangesum_validation['abstract_barthez'] = df_orangesum_validation['article'].progress_apply(lambda text : summarize__barthez(text))"
      ],
      "metadata": {
        "colab": {
          "base_uri": "https://localhost:8080/",
          "height": 68,
          "referenced_widgets": [
            "78216093e47948aeb7ddcecf944cc6c3",
            "ee5c9ad6a7414a36904bc40a831c9521",
            "099771c450834e31af8bcbf6495e3d37",
            "6afc649e46364daa8edc07e0b7997131",
            "75d56d5507124a73ab1c2fc101a0620e",
            "e215aa41824142acab1ec39e92474906",
            "69525e373d0642e194c359fec3b81211",
            "c8536945768a417ab491c2926f058b87",
            "fda3f49f96c0440dab3c621a981ee803",
            "dd62892ad68b4a82b7dea67a28f7d640",
            "44bf0fd09af2425d9347b722a921da94"
          ]
        },
        "id": "Y4dcTuYQxt-I",
        "outputId": "2243046b-37ba-45d8-cdfb-0fec40a83b64"
      },
      "execution_count": 39,
      "outputs": [
        {
          "output_type": "stream",
          "name": "stdout",
          "text": [
            "BARTHez predictions :\n"
          ]
        },
        {
          "output_type": "display_data",
          "data": {
            "text/plain": [
              "  0%|          | 0/200 [00:00<?, ?it/s]"
            ],
            "application/vnd.jupyter.widget-view+json": {
              "version_major": 2,
              "version_minor": 0,
              "model_id": "78216093e47948aeb7ddcecf944cc6c3"
            }
          },
          "metadata": {}
        }
      ]
    },
    {
      "cell_type": "code",
      "source": [
        "df_orangesum_validation.head(5)"
      ],
      "metadata": {
        "colab": {
          "base_uri": "https://localhost:8080/",
          "height": 337
        },
        "id": "bo2-xtw9EGTQ",
        "outputId": "be609b79-7a89-4083-c6dc-e83606ce68f4"
      },
      "execution_count": 71,
      "outputs": [
        {
          "output_type": "execute_result",
          "data": {
            "text/plain": [
              "                                             article  \\\n",
              "0  Sur les réseaux sociaux, les images sont impre...   \n",
              "1  La vidéo est devenue virale. Elle montre un po...   \n",
              "2  Depuis la présidentielle, il est parfois un pe...   \n",
              "3  Routes endommagées, trains toujours perturbés,...   \n",
              "4  Une enquête menée par le journal l'Obs.La nuit...   \n",
              "\n",
              "                                     abstract_target  \\\n",
              "0  Le bateau de croisière, long de 275 m, a percu...   \n",
              "1  Le parquet de Paris a annoncé vendredi avoir o...   \n",
              "2  À Trappes (Yvelines), c'est désormais la star....   \n",
              "3  Un homme de 44 ans est porté disparu depuis sa...   \n",
              "4  Son nom n'avait jusque-là jamais été cité dans...   \n",
              "\n",
              "                                   abstract_textrank  \\\n",
              "0  Quatre personnes ont été blessées dans cet acc...   \n",
              "1  \"Les policiers et les gendarmes ont été pris à...   \n",
              "2  Mais à Trappes, ce n'est pas Emmanuel Macron l...   \n",
              "3  Un pêcheur de 44 ans est par ailleurs porté di...   \n",
              "4  Une enquête menée par le journal l'Obs.La nuit...   \n",
              "\n",
              "                                    abstract_barthez  \n",
              "0  Un paquebot de croisière a heurté un autre bat...  \n",
              "1  La vidéo montre un policier frappant à bout po...  \n",
              "2  Le candidat socialiste à la présidentielle est...  \n",
              "3  Un homme est toujours porté disparu depuis sam...  \n",
              "4  Selon les premières révélations du Monde, Alex...  "
            ],
            "text/html": [
              "\n",
              "  <div id=\"df-7f56fd0b-b786-429e-abc6-917d47b07c11\">\n",
              "    <div class=\"colab-df-container\">\n",
              "      <div>\n",
              "<style scoped>\n",
              "    .dataframe tbody tr th:only-of-type {\n",
              "        vertical-align: middle;\n",
              "    }\n",
              "\n",
              "    .dataframe tbody tr th {\n",
              "        vertical-align: top;\n",
              "    }\n",
              "\n",
              "    .dataframe thead th {\n",
              "        text-align: right;\n",
              "    }\n",
              "</style>\n",
              "<table border=\"1\" class=\"dataframe\">\n",
              "  <thead>\n",
              "    <tr style=\"text-align: right;\">\n",
              "      <th></th>\n",
              "      <th>article</th>\n",
              "      <th>abstract_target</th>\n",
              "      <th>abstract_textrank</th>\n",
              "      <th>abstract_barthez</th>\n",
              "    </tr>\n",
              "  </thead>\n",
              "  <tbody>\n",
              "    <tr>\n",
              "      <th>0</th>\n",
              "      <td>Sur les réseaux sociaux, les images sont impre...</td>\n",
              "      <td>Le bateau de croisière, long de 275 m, a percu...</td>\n",
              "      <td>Quatre personnes ont été blessées dans cet acc...</td>\n",
              "      <td>Un paquebot de croisière a heurté un autre bat...</td>\n",
              "    </tr>\n",
              "    <tr>\n",
              "      <th>1</th>\n",
              "      <td>La vidéo est devenue virale. Elle montre un po...</td>\n",
              "      <td>Le parquet de Paris a annoncé vendredi avoir o...</td>\n",
              "      <td>\"Les policiers et les gendarmes ont été pris à...</td>\n",
              "      <td>La vidéo montre un policier frappant à bout po...</td>\n",
              "    </tr>\n",
              "    <tr>\n",
              "      <th>2</th>\n",
              "      <td>Depuis la présidentielle, il est parfois un pe...</td>\n",
              "      <td>À Trappes (Yvelines), c'est désormais la star....</td>\n",
              "      <td>Mais à Trappes, ce n'est pas Emmanuel Macron l...</td>\n",
              "      <td>Le candidat socialiste à la présidentielle est...</td>\n",
              "    </tr>\n",
              "    <tr>\n",
              "      <th>3</th>\n",
              "      <td>Routes endommagées, trains toujours perturbés,...</td>\n",
              "      <td>Un homme de 44 ans est porté disparu depuis sa...</td>\n",
              "      <td>Un pêcheur de 44 ans est par ailleurs porté di...</td>\n",
              "      <td>Un homme est toujours porté disparu depuis sam...</td>\n",
              "    </tr>\n",
              "    <tr>\n",
              "      <th>4</th>\n",
              "      <td>Une enquête menée par le journal l'Obs.La nuit...</td>\n",
              "      <td>Son nom n'avait jusque-là jamais été cité dans...</td>\n",
              "      <td>Une enquête menée par le journal l'Obs.La nuit...</td>\n",
              "      <td>Selon les premières révélations du Monde, Alex...</td>\n",
              "    </tr>\n",
              "  </tbody>\n",
              "</table>\n",
              "</div>\n",
              "      <button class=\"colab-df-convert\" onclick=\"convertToInteractive('df-7f56fd0b-b786-429e-abc6-917d47b07c11')\"\n",
              "              title=\"Convert this dataframe to an interactive table.\"\n",
              "              style=\"display:none;\">\n",
              "        \n",
              "  <svg xmlns=\"http://www.w3.org/2000/svg\" height=\"24px\"viewBox=\"0 0 24 24\"\n",
              "       width=\"24px\">\n",
              "    <path d=\"M0 0h24v24H0V0z\" fill=\"none\"/>\n",
              "    <path d=\"M18.56 5.44l.94 2.06.94-2.06 2.06-.94-2.06-.94-.94-2.06-.94 2.06-2.06.94zm-11 1L8.5 8.5l.94-2.06 2.06-.94-2.06-.94L8.5 2.5l-.94 2.06-2.06.94zm10 10l.94 2.06.94-2.06 2.06-.94-2.06-.94-.94-2.06-.94 2.06-2.06.94z\"/><path d=\"M17.41 7.96l-1.37-1.37c-.4-.4-.92-.59-1.43-.59-.52 0-1.04.2-1.43.59L10.3 9.45l-7.72 7.72c-.78.78-.78 2.05 0 2.83L4 21.41c.39.39.9.59 1.41.59.51 0 1.02-.2 1.41-.59l7.78-7.78 2.81-2.81c.8-.78.8-2.07 0-2.86zM5.41 20L4 18.59l7.72-7.72 1.47 1.35L5.41 20z\"/>\n",
              "  </svg>\n",
              "      </button>\n",
              "      \n",
              "  <style>\n",
              "    .colab-df-container {\n",
              "      display:flex;\n",
              "      flex-wrap:wrap;\n",
              "      gap: 12px;\n",
              "    }\n",
              "\n",
              "    .colab-df-convert {\n",
              "      background-color: #E8F0FE;\n",
              "      border: none;\n",
              "      border-radius: 50%;\n",
              "      cursor: pointer;\n",
              "      display: none;\n",
              "      fill: #1967D2;\n",
              "      height: 32px;\n",
              "      padding: 0 0 0 0;\n",
              "      width: 32px;\n",
              "    }\n",
              "\n",
              "    .colab-df-convert:hover {\n",
              "      background-color: #E2EBFA;\n",
              "      box-shadow: 0px 1px 2px rgba(60, 64, 67, 0.3), 0px 1px 3px 1px rgba(60, 64, 67, 0.15);\n",
              "      fill: #174EA6;\n",
              "    }\n",
              "\n",
              "    [theme=dark] .colab-df-convert {\n",
              "      background-color: #3B4455;\n",
              "      fill: #D2E3FC;\n",
              "    }\n",
              "\n",
              "    [theme=dark] .colab-df-convert:hover {\n",
              "      background-color: #434B5C;\n",
              "      box-shadow: 0px 1px 3px 1px rgba(0, 0, 0, 0.15);\n",
              "      filter: drop-shadow(0px 1px 2px rgba(0, 0, 0, 0.3));\n",
              "      fill: #FFFFFF;\n",
              "    }\n",
              "  </style>\n",
              "\n",
              "      <script>\n",
              "        const buttonEl =\n",
              "          document.querySelector('#df-7f56fd0b-b786-429e-abc6-917d47b07c11 button.colab-df-convert');\n",
              "        buttonEl.style.display =\n",
              "          google.colab.kernel.accessAllowed ? 'block' : 'none';\n",
              "\n",
              "        async function convertToInteractive(key) {\n",
              "          const element = document.querySelector('#df-7f56fd0b-b786-429e-abc6-917d47b07c11');\n",
              "          const dataTable =\n",
              "            await google.colab.kernel.invokeFunction('convertToInteractive',\n",
              "                                                     [key], {});\n",
              "          if (!dataTable) return;\n",
              "\n",
              "          const docLinkHtml = 'Like what you see? Visit the ' +\n",
              "            '<a target=\"_blank\" href=https://colab.research.google.com/notebooks/data_table.ipynb>data table notebook</a>'\n",
              "            + ' to learn more about interactive tables.';\n",
              "          element.innerHTML = '';\n",
              "          dataTable['output_type'] = 'display_data';\n",
              "          await google.colab.output.renderOutput(dataTable, element);\n",
              "          const docLink = document.createElement('div');\n",
              "          docLink.innerHTML = docLinkHtml;\n",
              "          element.appendChild(docLink);\n",
              "        }\n",
              "      </script>\n",
              "    </div>\n",
              "  </div>\n",
              "  "
            ]
          },
          "metadata": {},
          "execution_count": 71
        }
      ]
    },
    {
      "cell_type": "code",
      "source": [
        ""
      ],
      "metadata": {
        "id": "A9rteA3evgw5"
      },
      "execution_count": null,
      "outputs": []
    },
    {
      "cell_type": "markdown",
      "source": [
        "### Quantitative Experiments"
      ],
      "metadata": {
        "id": "jDja_Xf0s0NS"
      }
    },
    {
      "cell_type": "markdown",
      "source": [
        "#### ROUGE Scores"
      ],
      "metadata": {
        "id": "wiOzf-No4cLu"
      }
    },
    {
      "cell_type": "markdown",
      "source": [
        "For our quantitative experiments, we will mainly use the ROUGE score, presented in the report attached to this notebook, and in the article [*ROUGE: A Package for Automatic Evaluation of summaries*](https://www.researchgate.net/publication/224890821_ROUGE_A_Package_for_Automatic_Evaluation_of_summaries)."
      ],
      "metadata": {
        "id": "zxJi4B-5s2S-"
      }
    },
    {
      "cell_type": "code",
      "source": [
        "# Compute ROUGE-1,2,l-f score for each couple target-generated summary : \n",
        "models = ['textrank', 'barthez']\n",
        "rouge_scores = ['1', '2', 'l']\n",
        "rouge_scores_models = {}\n",
        "\n",
        "get_rouge_score = lambda target, prediction, r : Rouge().get_scores(prediction, target, avg=True)[f'rouge-{r}']['f'] if prediction is not None else None\n",
        "\n",
        "for m in models :\n",
        "    scores = {}\n",
        "    for r in rouge_scores :\n",
        "        df_orangesum_validation[f'abstract_{m}_rouge{r}'] = df_orangesum_validation.apply(lambda x: get_rouge_score(x['abstract_target'], x[f'abstract_{m}'], r), axis=1)\n",
        "        scores[f'rouge_{r}'] = df_orangesum_validation[f'abstract_{m}_rouge{r}'].mean()\n",
        "    rouge_scores_models[m] = scores"
      ],
      "metadata": {
        "id": "OTO9Bqc1J0Wr"
      },
      "execution_count": 76,
      "outputs": []
    },
    {
      "cell_type": "code",
      "source": [
        "rouge_scores_models"
      ],
      "metadata": {
        "colab": {
          "base_uri": "https://localhost:8080/"
        },
        "id": "5cSiDMn2zauB",
        "outputId": "3593d826-42ba-41e6-c595-7c9df704aaf2"
      },
      "execution_count": 77,
      "outputs": [
        {
          "output_type": "execute_result",
          "data": {
            "text/plain": [
              "{'barthez': {'rouge_1': 0.24870397680885503,\n",
              "  'rouge_2': 0.08557847987691618,\n",
              "  'rouge_l': 0.2032312892705194},\n",
              " 'textrank': {'rouge_1': 0.1851845421491415,\n",
              "  'rouge_2': 0.041441912710750095,\n",
              "  'rouge_l': 0.1526633660144749}}"
            ]
          },
          "metadata": {},
          "execution_count": 77
        }
      ]
    },
    {
      "cell_type": "markdown",
      "source": [
        "↪ It is evident here that BARTHez performs better in this subset of the validation set, although the f scores are not that high, above all for the rouge-2 which computes a score on bi-grams."
      ],
      "metadata": {
        "id": "UQXnstASD4Ro"
      }
    },
    {
      "cell_type": "code",
      "source": [
        ""
      ],
      "metadata": {
        "id": "7k8aZo0p_ayI"
      },
      "execution_count": null,
      "outputs": []
    },
    {
      "cell_type": "markdown",
      "source": [
        "#### Main topic :"
      ],
      "metadata": {
        "id": "NfrAys3a4hmC"
      }
    },
    {
      "cell_type": "markdown",
      "source": [
        "The following cells are an initiative of us : we used the same topic classification model as in the descriptive statistics part, and compute for each model the proportion of generated summaries"
      ],
      "metadata": {
        "id": "Hh-XAyxR4jJ3"
      }
    },
    {
      "cell_type": "code",
      "source": [
        "df_orangesum_validation['main_topic_text'] = df_orangesum_validation['article'].progress_apply(lambda x : topic_classifier(x, truncation=True)[0]['label'])\n",
        "proportion_match = {}\n",
        "\n",
        "for m in models : \n",
        "    df_orangesum_validation[f'main_topic_abstract_{m}'] = df_orangesum_validation[f'abstract_{m}'].progress_apply(lambda x : topic_classifier(x, truncation=True)[0]['label'] if x is not None else None)\n",
        "    prop_match= (df_orangesum_validation['main_topic_text']==df_orangesum_validation[f'main_topic_abstract_{m}']).mean()*100\n",
        "    proportion_match[m] = f'{prop_match:.2f} %'"
      ],
      "metadata": {
        "colab": {
          "base_uri": "https://localhost:8080/",
          "height": 113,
          "referenced_widgets": [
            "27b275b02ce44b908012b9625715ea8c",
            "7f3a6c1a8bc442249bc393654e57eab8",
            "74792ab330bc48fcb0165e7a6c7d7277",
            "5f6545884ff049fbb93142beaf5b15dc",
            "9f48af7b291046a7b6c7562bd610abb2",
            "6220bdec3a384868afaa6f6f2e538d14",
            "814c787eacc24161a4df13b830958c9f",
            "ee07797cccfc4013b550febf8921df6f",
            "0baffb39020f431f9f964f42eb6f328a",
            "f2f3c5a5055a4042ac6652363b80baf5",
            "7e99713049614f4780acedd69ed3ecdc",
            "15b343f2851248078d452d1872e1fa2c",
            "2bc03d588b7047b0a61887be84da4bf1",
            "83f9966c29fe49dd8ace4c822c8318eb",
            "f263c50394dd4185a362ec19abc8c173",
            "0f1674323a584e6bb93acaa97a993732",
            "bd8b524b198948afb6f90a3ba1e9a356",
            "e49107902ecf41f08836c0d8eb25cb74",
            "855777dccf1746ea924175ebae18df42",
            "e13980a6c33b432a8a6345b639edb99e",
            "16cad5dd19954a2abf7b68c32434a673",
            "adc635a9291c4fd58690385684321a02",
            "d3db33fa10bc41b29e9203f70041e7ee",
            "fc605d41a251465a816a809378dd8c3f",
            "63ff551905d04d838c45d045e8f68bde",
            "a6861a51016c4705accd8e8975a6f171",
            "52eda7e7e4a149c2858c5963ed07ccf0",
            "3783fe57c93649369b4cb81e2f2a4b10",
            "40c6862a4fc1449e946e9d72ae00413c",
            "07ca3999906f494e89e7aaeb8a06f8cb",
            "f7baf8f129704e2abf0e71fd30151c76",
            "0282fc39379e4cf49859ebdc17b6bc12",
            "df1e7f734998472f8c66642c499a5519"
          ]
        },
        "id": "xitGI9n90dKR",
        "outputId": "23b03d40-a371-49c0-80b3-f6cd83bd43d7"
      },
      "execution_count": 65,
      "outputs": [
        {
          "output_type": "display_data",
          "data": {
            "text/plain": [
              "  0%|          | 0/200 [00:00<?, ?it/s]"
            ],
            "application/vnd.jupyter.widget-view+json": {
              "version_major": 2,
              "version_minor": 0,
              "model_id": "27b275b02ce44b908012b9625715ea8c"
            }
          },
          "metadata": {}
        },
        {
          "output_type": "display_data",
          "data": {
            "text/plain": [
              "  0%|          | 0/200 [00:00<?, ?it/s]"
            ],
            "application/vnd.jupyter.widget-view+json": {
              "version_major": 2,
              "version_minor": 0,
              "model_id": "15b343f2851248078d452d1872e1fa2c"
            }
          },
          "metadata": {}
        },
        {
          "output_type": "display_data",
          "data": {
            "text/plain": [
              "  0%|          | 0/200 [00:00<?, ?it/s]"
            ],
            "application/vnd.jupyter.widget-view+json": {
              "version_major": 2,
              "version_minor": 0,
              "model_id": "d3db33fa10bc41b29e9203f70041e7ee"
            }
          },
          "metadata": {}
        }
      ]
    },
    {
      "cell_type": "code",
      "source": [
        "proportion_match"
      ],
      "metadata": {
        "colab": {
          "base_uri": "https://localhost:8080/"
        },
        "id": "ABbYVwmo4Z4G",
        "outputId": "e113e2e3-a452-4aa8-b7e2-d8de1d080c1a"
      },
      "execution_count": 66,
      "outputs": [
        {
          "output_type": "execute_result",
          "data": {
            "text/plain": [
              "{'barthez': '66.50 %', 'textrank': '69.50 %'}"
            ]
          },
          "metadata": {},
          "execution_count": 66
        }
      ]
    },
    {
      "cell_type": "markdown",
      "source": [
        "↪ Performances here are similar between the models. As the main topic of this corpus is politics, so it was expected that a model trained on politic articles would lead to summaries that best describe this topic. (Recall that on we use an extern model, so even the matching between article and target summary main topics was not that perfect (see descriptive statistics part))."
      ],
      "metadata": {
        "id": "iaPkEUapFaPk"
      }
    },
    {
      "cell_type": "code",
      "source": [
        ""
      ],
      "metadata": {
        "id": "hPbU9xRzucOC"
      },
      "execution_count": null,
      "outputs": []
    },
    {
      "cell_type": "markdown",
      "source": [
        "### Qualitative Experiments"
      ],
      "metadata": {
        "id": "rRht6n8ssxr8"
      }
    },
    {
      "cell_type": "markdown",
      "source": [
        "#### Comparison on articles from the validation set of OrangeSum :"
      ],
      "metadata": {
        "id": "EbrlFCFN5eoz"
      }
    },
    {
      "cell_type": "markdown",
      "source": [
        "* **Example 1**"
      ],
      "metadata": {
        "id": "Mf792DCu-tdo"
      }
    },
    {
      "cell_type": "code",
      "source": [
        "df_orangesum_validation['article'][6]"
      ],
      "metadata": {
        "colab": {
          "base_uri": "https://localhost:8080/",
          "height": 164
        },
        "id": "JPczF4Z95fSG",
        "outputId": "8e160dd8-753a-4fc6-bd89-b9eff657294d"
      },
      "execution_count": 40,
      "outputs": [
        {
          "output_type": "execute_result",
          "data": {
            "text/plain": [
              "'Alexandre Loukachenko, le président bélarusse confronté depuis trois semaines à une vague de protestation d\\'une ampleur inédite, avait affirmé mi-août avoir reçu une promesse d\\'\"aide\" de Moscou pour préserver la sécurité de son pays.Dans un entretien avec la télévision publique russe, M. Poutine a expliqué que la Russie était disposée à intervenir chez son voisin, si nécessaire, dans le cadre d\\'accords sécuritaires et militaires existants.\"Alexandre (Loukachenko) m\\'a demandé de constituer une certaine réserve d\\'agents des forces de l\\'ordre et je l\\'ai fait\", a-t-il déclaré, ajoutant immédiatement qu\\'il espérait ne pas avoir à y recourir.\"Nous avons convenu que je ne l\\'utiliserai pas jusqu\\'à ce que la situation soit hors de contrôle et que des éléments extrémistes (...) franchissent certaines limites : qu\\'ils mettent le feu à des voitures, des maisons, des banques, tentent de saisir des bâtiments administratifs\", a-t-il souligné. M. Poutine a dans la foulée exhorté \"tous les participants à ce processus\" à \"trouver une issue\" à la crise.L\\'opposition a qualifié d\\'\"inacceptable\" et de \"contraire au droit international\" la constitution de cette réserve, rejetant \"toute ingérence étrangère de quelque sorte que ce soit\" au Bélarus. Elle a dit également qu\\'elle refuserait toute \"aide étrangère\" au mouvement de contestation.Les déclarations de M. Poutine ont aussi été condamnées par la Pologne qui a appelé Moscou à \"immédiatement renoncer à ses plans d\\'intervention militaire sous un faux prétexte\".Le secrétaire général de l\\'Otan, Jens Stoltenberg, a de son côté appelé Moscou à ne pas \"s\\'immiscer\" au Bélarus.L\\'opposition dit vouloir dialoguer avec Alexandre Loukachenko, tout en demandant son départ, tandis que le président bélarusse refuse toute négociation, se bornant à évoquer un vague projet de révision constitutionnelle.Celui-ci est confronté à une contestation sans précédent depuis son arrivée au pouvoir en 1994. Des manifestations monstres se sont déroulées pour dénoncer sa réélection jugée frauduleuse avec 80% des voix le 9 août, les contestataires considérant que l\\'opposante Svetlana Tikhanovskaïa, réfugiée en Lituanie, avait gagné. - Poursuites \"inacceptables\" -Dans la capitale Minsk et dans d\\'autres villes du pays, des rassemblements quotidiens ont lieu malgré les déclarations martiales d\\'Alexandre Loukachenko, doublées d\\'une répression.Les 16 et 23 août, quelque 100.000 personnes ont ainsi défilé contre lui et ses détracteurs espèrent renouveler l\\'opération dimanche.Les autorités maintiennent néanmoins elles aussi la pression.Une des principales figures de l\\'opposition, Maria Kolesnikova, a été convoquée jeudi par les enquêteurs dans le cadre des poursuites déclenchées contre le \"conseil de coordination\" formé pour promouvoir la transition politique, dont elle est membre.Comme la lauréate du prix Nobel de littérature Svetlana Alexievitch la veille, Mme Kolesnikova a refusé de répondre à leurs questions : \"J\\'ai exercé mon droit constitutionnel de ne pas témoigner contre moi-même\", a-t-elle déclaré.Jeudi soir, un groupe d\\'une vingtaine de journalistes bélarusses et étrangers ont été emmenés au poste par la police pour un \"contrôle d\\'identité\", au moment où ils s\\'apprêtaient à couvrir une action de l\\'opposition. Cette action a elle même été dispersée par la police qui a procédé à près de 70 arrestations, selon l\\'ONG Viasna. Jeudi matin, les ambassadeurs à Minsk de l\\'Union européenne et de ses Etats membres ont signifié au chef de la diplomatie bélarusse que les poursuites visant l\\'opposition étaient \"inacceptables\" et ont appelé le pouvoir à accepter le dialogue.La rencontre avec le ministre des Affaires étrangères Vladimir Makei intervient alors que l\\'UE doit décider sous peu des sanctions qu\\'elle compte infliger aux hauts responsables qui auraient eu un rôle dans la répression et les fraudes électorales.Les mesures brutales prises contre les contestataires dans les jours ayant suivi l\\'élection ont fait trois morts, des dizaines de blessés et plus de 7.000 personnes ont été arrêtées.La plupart des manifestants interpellés ont été relâchés mais les diplomates de l\\'UE ont demandé à pouvoir accéder aux prisons où certains sont encore détenus, sur fond de témoignages faisant état de mauvais traitements et de tortures.M. Loukachenko, qui reste inflexible, a dénoncé jeudi une \"guerre hybride\", à la fois diplomatique et médiatique, pilotée par les voisins baltes et polonais du Bélarus.\\n'"
            ],
            "application/vnd.google.colaboratory.intrinsic+json": {
              "type": "string"
            }
          },
          "metadata": {},
          "execution_count": 40
        }
      ]
    },
    {
      "cell_type": "code",
      "source": [
        "print('Summary generated by TextRank :')\n",
        "print('-'*30)\n",
        "df_orangesum_validation['abstract_textrank'][6]"
      ],
      "metadata": {
        "colab": {
          "base_uri": "https://localhost:8080/",
          "height": 145
        },
        "id": "rMu1Oose5fXb",
        "outputId": "274adfad-4685-4418-d443-e7a371cadd03"
      },
      "execution_count": 44,
      "outputs": [
        {
          "output_type": "stream",
          "name": "stdout",
          "text": [
            "Summary generated by TextRank :\n",
            "------------------------------\n"
          ]
        },
        {
          "output_type": "execute_result",
          "data": {
            "text/plain": [
              "'\"Nous avons convenu que je ne l\\'utiliserai pas jusqu\\'à ce que la situation soit hors de contrôle et que des éléments extrémistes (...) franchissent certaines limites : qu\\'ils mettent le feu à des voitures, des maisons, des banques, tentent de saisir des bâtiments administratifs\", a-t-il souligné.M. Poutine a dans la foulée exhorté \"tous les participants à ce processus\" à \"trouver une issue\" à la crise.L\\'opposition a qualifié d\\'\"inacceptable\" et de \"contraire au droit international\" la constitution de cette réserve, rejetant \"toute ingérence étrangère de quelque sorte que ce soit\" au Bélarus.'"
            ],
            "application/vnd.google.colaboratory.intrinsic+json": {
              "type": "string"
            }
          },
          "metadata": {},
          "execution_count": 44
        }
      ]
    },
    {
      "cell_type": "code",
      "source": [
        "print('Summary generated by BARTHez :')\n",
        "print('-'*30)\n",
        "df_orangesum_validation['abstract_barthez'][6]"
      ],
      "metadata": {
        "colab": {
          "base_uri": "https://localhost:8080/",
          "height": 91
        },
        "id": "zaGeNNpd6pp8",
        "outputId": "5137e5ab-6da9-4762-83d3-f6f7ef2d222b"
      },
      "execution_count": 45,
      "outputs": [
        {
          "output_type": "stream",
          "name": "stdout",
          "text": [
            "Summary generated by BARTHez :\n",
            "------------------------------\n"
          ]
        },
        {
          "output_type": "execute_result",
          "data": {
            "text/plain": [
              "'La Russie a dit jeudi se réserver \"une certaine réserve\" d\\'agents des forces de l\\'ordre au Bélarus, après les appels de l\\'Otan à intervenir militairement dans ce pays confronté à une contestation sans précédent.'"
            ],
            "application/vnd.google.colaboratory.intrinsic+json": {
              "type": "string"
            }
          },
          "metadata": {},
          "execution_count": 45
        }
      ]
    },
    {
      "cell_type": "code",
      "source": [
        ""
      ],
      "metadata": {
        "id": "U5sv-XpN-2er"
      },
      "execution_count": null,
      "outputs": []
    },
    {
      "cell_type": "markdown",
      "source": [
        "* **Example 2 :**"
      ],
      "metadata": {
        "id": "Z57Mr4Pf-022"
      }
    },
    {
      "cell_type": "code",
      "source": [
        "df_orangesum_validation['article'][190]"
      ],
      "metadata": {
        "colab": {
          "base_uri": "https://localhost:8080/",
          "height": 164
        },
        "id": "zwdEzLJ95fZx",
        "outputId": "572e159e-47bb-4120-cec7-1e448a887ec5"
      },
      "execution_count": 55,
      "outputs": [
        {
          "output_type": "execute_result",
          "data": {
            "text/plain": [
              "'Et si chaque Français payait l\\'impôt sur le revenu ? \"Chacun pourrait contribuer à la hauteur de ses moyens, y compris les plus modestes, même de manière très symbolique, pour recréer le lien entre citoyen et impôt. Chacun pourrait payer l\\'impôt sur le revenu. Y compris les plus modestes, même un euro\", a estimé ce 24 février Jacqueline Gouraut dans le JDD. En plein grand débat censé répondre à la crise des \"gilets jaunes\", la ministre de la Cohésion des territoires y voit une piste de sortie, alors que moins d\\'un ménage sur deux (43%) s\\'acquitte de cet impôt aujourd\\'hui. À peine évoquée, cette proposition a été aussitôt enterrée par Matignon. \"Les Français payent déjà l\\'impôt dès le premier euro avec la CSG. Tous payent la TVA\", a-t-on rappelé, et l\\'exécutif s\\'est engagé à \"baisser\" les impôts.L\\'extension de l\\'impôt sur le revenu à tous serait par ailleurs assez peu rentable, souligne le JDD, selon qui \"les montants promis par l\\'impôt universel relèvent plus de l\\'argent de poche que des recettes miracles\". Appliqué aux 16 millions de foyers français qui ne paient pas d\\'impôt sur le revenu et fixé à 50 euros, il rapporterait 800 millions d\\'euros. Une goutte d\\'eau en comparaison des 77 milliards d\\'euros qu\\'a rapporté l\\'impôt sur le revenu en 2017, les 188 milliards d\\'euros encaissés grâce à la TVA ou encore les 115 milliards d\\'euros de la CSG. À titre de comparaison, 30 milliards d\\'euros échappent chaque année à l\\'impôt grâce aux niches fiscales, souligne l\\'hebdomadaire. Le JDD explique par ailleurs que l\\'impôt sur le revenu universel pourrait se révéler contre-productif. En effet, l\\'administration fiscale a fixé à 61 euros le seuil au-dessous duquel le recouvrement de l\\'impôt coûte plus cher qu\\'il ne rapporte.\\n'"
            ],
            "application/vnd.google.colaboratory.intrinsic+json": {
              "type": "string"
            }
          },
          "metadata": {},
          "execution_count": 55
        }
      ]
    },
    {
      "cell_type": "code",
      "source": [
        "print('Summary generated by TextRank :')\n",
        "print('-'*30)\n",
        "df_orangesum_validation['abstract_textrank'][190]"
      ],
      "metadata": {
        "colab": {
          "base_uri": "https://localhost:8080/",
          "height": 108
        },
        "id": "TePls1zV_POR",
        "outputId": "6826711a-f6ae-4be1-8d78-39fa65f50ead"
      },
      "execution_count": 56,
      "outputs": [
        {
          "output_type": "stream",
          "name": "stdout",
          "text": [
            "Summary generated by TextRank :\n",
            "------------------------------\n"
          ]
        },
        {
          "output_type": "execute_result",
          "data": {
            "text/plain": [
              "\"Appliqué aux 16 millions de foyers français qui ne paient pas d'impôt sur le revenu et fixé à 50 euros, il rapporterait 800 millions d'euros.À titre de comparaison, 30 milliards d'euros échappent chaque année à l'impôt grâce aux niches fiscales, souligne l'hebdomadaire.\""
            ],
            "application/vnd.google.colaboratory.intrinsic+json": {
              "type": "string"
            }
          },
          "metadata": {},
          "execution_count": 56
        }
      ]
    },
    {
      "cell_type": "code",
      "source": [
        "print('Summary generated by BARTHez :')\n",
        "print('-'*30)\n",
        "df_orangesum_validation['abstract_barthez'][190]"
      ],
      "metadata": {
        "colab": {
          "base_uri": "https://localhost:8080/",
          "height": 72
        },
        "id": "rjzwK_nD_TR7",
        "outputId": "770fe193-c905-4d59-d050-30366eaa6c83"
      },
      "execution_count": 57,
      "outputs": [
        {
          "output_type": "stream",
          "name": "stdout",
          "text": [
            "Summary generated by BARTHez :\n",
            "------------------------------\n"
          ]
        },
        {
          "output_type": "execute_result",
          "data": {
            "text/plain": [
              "'Selon le JDD, l\\'extension de l\\'impôt à tous serait \"peu rentable\".'"
            ],
            "application/vnd.google.colaboratory.intrinsic+json": {
              "type": "string"
            }
          },
          "metadata": {},
          "execution_count": 57
        }
      ]
    },
    {
      "cell_type": "code",
      "source": [
        ""
      ],
      "metadata": {
        "id": "CQjXdbzsBnpn"
      },
      "execution_count": null,
      "outputs": []
    },
    {
      "cell_type": "markdown",
      "source": [
        "* **Interpretation :**"
      ],
      "metadata": {
        "id": "EopHnim3Bj7N"
      }
    },
    {
      "cell_type": "markdown",
      "source": [
        "↪ These examples highlights one issue of extractive models : when, in the article, there are a lot of citations/numbers, we can obtain summaries that seems like a \"patchwork\", with citations not as precise and short as wanted for a summary, and with pronouns not well understood due to the lack of context...\n",
        "\n",
        "↪ The BARTHez summary is way more precise and concise, and we remark that it suceed in staying neutral and factual. Remark that there is also a citation in the first generated summary, which shows an ability to really understand the given text, the fact that there was citations, who said this, and its a high level of language modelling ! However, in the second summary, it's so concise that maybe we lack some context, the presentation of the opinions of the politician cited, ..."
      ],
      "metadata": {
        "id": "7dwQcy4M_dWT"
      }
    },
    {
      "cell_type": "code",
      "source": [
        ""
      ],
      "metadata": {
        "id": "pmPtJ4ho5fbs"
      },
      "execution_count": null,
      "outputs": []
    },
    {
      "cell_type": "markdown",
      "source": [
        "#### Comparison on a different type of text :"
      ],
      "metadata": {
        "id": "rMJ6Ekkw0XpY"
      }
    },
    {
      "cell_type": "markdown",
      "source": [
        "Let challenge our models on a really different type of text. We arbitrarily chose the following text, which is in fact an abstract of the article [*Tackling the Generative Learning Trilemma with Denoising Diffusion GANs*](https://nvlabs.github.io/denoising-diffusion-gan/). We couldn't have taken all the article due to mathematics and it is a too long text.\n",
        "\n",
        "We will see how our models generate their summaries, regarding the fact that this text is really dense, with mathematical concepts, ect."
      ],
      "metadata": {
        "id": "He_Rszuy2UOq"
      }
    },
    {
      "cell_type": "code",
      "source": [
        "scientific_text = \"A wide variety of deep generative models has been developed in the past decade. Yet, these models often struggle with simultaneously addressing three key requirements including: high sample quality, mode coverage, and fast sampling. We call the challenge imposed by these requirements the generative learning trilemma, as the existing models often trade some of them for others. Particularly, denoising diffusion models have shown impressive sample quality and diversity, but their expensive sampling does not yet allow them to be applied in many real-world applications. In this paper, we argue that slow sampling in these models is fundamentally attributed to the Gaussian assumption in the denoising step which is justified only for small step sizes. To enable denoising with large steps, and hence, to reduce the total number of denoising steps, we propose to model the denoising distribution using a complex multimodal distribution. We introduce denoising diffusion generative adversarial networks (denoising diffusion GANs) that model each denoising step using a multimodal conditional GAN. Through extensive evaluations, we show that denoising diffusion GANs obtain sample quality and diversity competitive with original diffusion models while being 2000× faster on the CIFAR-10 dataset. Compared to traditional GANs, our model exhibits better mode coverage and sample diversity. To the best of our knowledge, denoising diffusion GAN is the first model that reduces sampling cost in diffusion models to an extent that allows them to be applied to real-world applications inexpensively.\"\n",
        "scientific_text"
      ],
      "metadata": {
        "id": "ivZarod7m5to",
        "colab": {
          "base_uri": "https://localhost:8080/",
          "height": 164
        },
        "outputId": "ca0991bb-fcdd-4be4-a86e-7f338b596a48"
      },
      "execution_count": 46,
      "outputs": [
        {
          "output_type": "execute_result",
          "data": {
            "text/plain": [
              "'A wide variety of deep generative models has been developed in the past decade. Yet, these models often struggle with simultaneously addressing three key requirements including: high sample quality, mode coverage, and fast sampling. We call the challenge imposed by these requirements the generative learning trilemma, as the existing models often trade some of them for others. Particularly, denoising diffusion models have shown impressive sample quality and diversity, but their expensive sampling does not yet allow them to be applied in many real-world applications. In this paper, we argue that slow sampling in these models is fundamentally attributed to the Gaussian assumption in the denoising step which is justified only for small step sizes. To enable denoising with large steps, and hence, to reduce the total number of denoising steps, we propose to model the denoising distribution using a complex multimodal distribution. We introduce denoising diffusion generative adversarial networks (denoising diffusion GANs) that model each denoising step using a multimodal conditional GAN. Through extensive evaluations, we show that denoising diffusion GANs obtain sample quality and diversity competitive with original diffusion models while being 2000× faster on the CIFAR-10 dataset. Compared to traditional GANs, our model exhibits better mode coverage and sample diversity. To the best of our knowledge, denoising diffusion GAN is the first model that reduces sampling cost in diffusion models to an extent that allows them to be applied to real-world applications inexpensively.'"
            ],
            "application/vnd.google.colaboratory.intrinsic+json": {
              "type": "string"
            }
          },
          "metadata": {},
          "execution_count": 46
        }
      ]
    },
    {
      "cell_type": "code",
      "source": [
        "print('Summary generated by TextRank :')\n",
        "print('-'*30)\n",
        "generated_summary_textrank = TextRank().summarize__(scientific_text)\n",
        "generated_summary_textrank"
      ],
      "metadata": {
        "colab": {
          "base_uri": "https://localhost:8080/",
          "height": 147
        },
        "id": "3qOb1tuS22PM",
        "outputId": "d1ee7199-6866-4176-c547-49859414d26c"
      },
      "execution_count": 47,
      "outputs": [
        {
          "output_type": "stream",
          "name": "stdout",
          "text": [
            "Summary generated by TextRank :\n",
            "------------------------------\n"
          ]
        },
        {
          "output_type": "stream",
          "name": "stderr",
          "text": [
            "/usr/local/lib/python3.7/dist-packages/ipykernel_launcher.py:21: DeprecationWarning: Call to deprecated `__getitem__` (Method will be removed in 4.0.0, use self.wv.__getitem__() instead).\n"
          ]
        },
        {
          "output_type": "execute_result",
          "data": {
            "text/plain": [
              "'Particularly, denoising diffusion models have shown impressive sample quality and diversity, but their expensive sampling does not yet allow them to be applied in many real-world applications.We call the challenge imposed by these requirements the generative learning trilemma, as the existing models often trade some of them for others.'"
            ],
            "application/vnd.google.colaboratory.intrinsic+json": {
              "type": "string"
            }
          },
          "metadata": {},
          "execution_count": 47
        }
      ]
    },
    {
      "cell_type": "code",
      "source": [
        "print('Summary generated by BARTHez :')\n",
        "print('-'*30)\n",
        "generated_summary_barthez = summarize__barthez(scientific_text)\n",
        "generated_summary_barthez"
      ],
      "metadata": {
        "colab": {
          "base_uri": "https://localhost:8080/",
          "height": 91
        },
        "id": "5JFq3fPK3HJN",
        "outputId": "2a2bee5b-e686-4205-94f2-365acc6518f9"
      },
      "execution_count": 49,
      "outputs": [
        {
          "output_type": "stream",
          "name": "stdout",
          "text": [
            "Summary generated by BARTHez :\n",
            "------------------------------\n"
          ]
        },
        {
          "output_type": "execute_result",
          "data": {
            "text/plain": [
              "'We propose to model the denoising distribution using a complex multimodal models. We introduce denoising diffusion generative networks (denoising diffusion GANs) that model each denoising step using a multimodal conditional'"
            ],
            "application/vnd.google.colaboratory.intrinsic+json": {
              "type": "string"
            }
          },
          "metadata": {},
          "execution_count": 49
        }
      ]
    },
    {
      "cell_type": "code",
      "source": [
        ""
      ],
      "metadata": {
        "id": "B5X_NKn63Y9x"
      },
      "execution_count": null,
      "outputs": []
    },
    {
      "cell_type": "code",
      "source": [
        ""
      ],
      "metadata": {
        "id": "9ouf_GGsm5v2"
      },
      "execution_count": null,
      "outputs": []
    },
    {
      "cell_type": "markdown",
      "source": [
        "---\n",
        "\n",
        "---"
      ],
      "metadata": {
        "id": "lKe9aZUgJ9L_"
      }
    },
    {
      "cell_type": "markdown",
      "source": [
        "## Appendix/Draft - unsuccessful attempts for abstractive models' implementation from scratch"
      ],
      "metadata": {
        "id": "ieNYdK05mwXB"
      }
    },
    {
      "cell_type": "markdown",
      "source": [
        "### RNN-based model :"
      ],
      "metadata": {
        "id": "llYF_1LE3MMR"
      }
    },
    {
      "cell_type": "markdown",
      "source": [
        "In this part, we try to reuse the encoder-decoder based on RNN implemented in lab5 for translation. We will modify the embedding definition in both the encoder and the decoder, as we would like to use the embeddings vectors computed previously."
      ],
      "metadata": {
        "id": "Plf0DUFSo_2N"
      }
    },
    {
      "cell_type": "markdown",
      "source": [
        "#### Architecture :"
      ],
      "metadata": {
        "id": "bw0ebMX6qv84"
      }
    },
    {
      "cell_type": "code",
      "source": [
        "class EncoderRNN(nn.Module):\n",
        "    def __init__(self, embeddings_vectors, padding_idx=1, device=device):\n",
        "        super(EncoderRNN, self).__init__()\n",
        "\n",
        "        self.embedding_dim = embeddings_vectors.shape[1]\n",
        "        # we use an embedding layer : \n",
        "        self.embedding = nn.Embedding.from_pretrained(embeddings_vectors, freeze=True, padding_idx=padding_idx).to(device)       \n",
        "        # we define a GRU layer (Gated Recurrent Unit), a simpler version of recurrent layer and way simple than LSTM\n",
        "        self.gru = nn.GRU(self.embedding_dim, self.embedding_dim, device=device)\n",
        "\n",
        "    def forward(self, input, hidden):\n",
        "      # apply the embedding layer\n",
        "      embedded = self.embedding(input)\n",
        "      # modify the output shape in order for it to work with a GRU \n",
        "      output = embedded.view(-1,1,self.embedding_dim)\n",
        "      # apply the GRU layer\n",
        "      output, hidden = self.gru(output, hidden)\n",
        "      # return both the output, and the hidden vector\n",
        "      return output, hidden\n",
        "\n",
        "    def initHidden(self):\n",
        "        \"\"\" \n",
        "        method used to customize the hidden vector initialization.\n",
        "        here the vector is initialized as 0 with the correct shape and created directly on the correct device\n",
        "        \"\"\"\n",
        "        return torch.zeros(1, 1, self.embedding_dim, device=device)"
      ],
      "metadata": {
        "id": "f99GI6rcpHPj"
      },
      "execution_count": null,
      "outputs": []
    },
    {
      "cell_type": "code",
      "source": [
        "class DecoderRNN(nn.Module):\n",
        "    def __init__(self, embeddings_vectors, output_size=60, padding_idx=1, device=device):\n",
        "        super(DecoderRNN, self).__init__()\n",
        "\n",
        "        self.embedding_dim = embeddings_vectors.shape[1]\n",
        "        self.output_size = output_size\n",
        "        # we use an embedding layer : \n",
        "        self.embedding = nn.Embedding.from_pretrained(embeddings_vectors, freeze=True, padding_idx=padding_idx).to(device)       \n",
        "        # we define a GRU layer (Gated Recurrent Unit), a simpler version of recurrent layer and way simple than LSTM\n",
        "        self.gru = nn.GRU(self.embedding_dim, self.embedding_dim, device=device)\n",
        "        self.out = nn.Linear(self.embedding_dim, output_size, device=device)\n",
        "        self.softmax = nn.LogSoftmax(dim=1)\n",
        "\n",
        "    def forward(self, input, hidden):\n",
        "\n",
        "        # apply the embedding layer and modify the output shape in order for it to work with a GRU (we use batches of one element)\n",
        "        output = self.embedding(input)\n",
        "        output = output.view(-1,1,self.embedding_dim)\n",
        "\n",
        "        # apply a ReLU non linearization layer\n",
        "        output = F.relu(output)\n",
        "        # apply the GRU layer\n",
        "        output, hidden = self.gru(output, hidden)\n",
        "        # apply a softmax to get probabilities, on the first element of the output vector (batch is equal to one)\n",
        "        output = self.softmax(self.out(output[0]))\n",
        "        # return both the output probabilities and the hidden vector\n",
        "        return output, hidden\n",
        "\n",
        "    def initHidden(self):\n",
        "        \"\"\" \n",
        "        method used to customize the hidden vector initialization.\n",
        "        here the vector is initialized as 0 with the correct shape and created directly on the correct device\n",
        "        \"\"\"\n",
        "        return torch.zeros(1, 1, self.embedding_dim, device=device)"
      ],
      "metadata": {
        "id": "bC4jibqDqFyB"
      },
      "execution_count": null,
      "outputs": []
    },
    {
      "cell_type": "markdown",
      "source": [
        "#### Training functions :"
      ],
      "metadata": {
        "id": "W67bgMzmqzeh"
      }
    },
    {
      "cell_type": "code",
      "source": [
        "import random \n",
        "teacher_forcing_ratio = 0.5"
      ],
      "metadata": {
        "id": "-JZ8FWjkq31D"
      },
      "execution_count": null,
      "outputs": []
    },
    {
      "cell_type": "code",
      "source": [
        "max_length = 20"
      ],
      "metadata": {
        "id": "E--UJAMfrvri"
      },
      "execution_count": null,
      "outputs": []
    },
    {
      "cell_type": "code",
      "source": [
        "def train(input_tensor, target_tensor, encoder, decoder, encoder_optimizer, decoder_optimizer, criterion, max_length=max_length, device=device):\n",
        "    # put both encoder and decoder into trainning mode\n",
        "    encoder.train()\n",
        "    decoder.train()\n",
        "\n",
        "    # use our custom initialization of hidden vector\n",
        "    encoder_hidden = encoder.initHidden()\n",
        "\n",
        "    # remove the gradient to prevent gradient accumulation\n",
        "    encoder_optimizer.zero_grad()\n",
        "    decoder_optimizer.zero_grad()\n",
        "\n",
        "    # adapt the tensor sizes\n",
        "    input_tensor = input_tensor.view(input_tensor.size(1), input_tensor.size(0)) #input_tensor.view(1,1,-1)\n",
        "    target_tensor = target_tensor.view(target_tensor.size(1), target_tensor.size(0)) #target_tensor.view(1,1,-1)\n",
        "\n",
        "    # keep the lengths in memory\n",
        "    input_length = input_tensor.size(1)\n",
        "    target_length = target_tensor.size(1)\n",
        "\n",
        "    # prepare an empty output with the correct size and the correct device\n",
        "    encoder_outputs = torch.zeros(max_length, encoder.embedding_dim, device=device)\n",
        "\n",
        "    # init the loss to 0\n",
        "    loss = 0\n",
        "\n",
        "    # pass each token of the input_tensor to the encoder, then populate the output\n",
        "    for ei in range(input_length):\n",
        "      if ei >= max_length: break\n",
        "      encoder_output, encoder_hidden = encoder(input_tensor[ei], encoder_hidden)\n",
        "      encoder_outputs[ei] = encoder_output[0, 0]\n",
        "\n",
        "    # now we consider the decoder input, which starts only with the SOS token\n",
        "    decoder_input = torch.tensor([[SOS_IDX]], device=device)\n",
        "\n",
        "    # share the hidden vector from encoder to the decoder\n",
        "    decoder_hidden = encoder_hidden\n",
        "\n",
        "    # add a condition to teacher forcing\n",
        "    use_teacher_forcing = True if random.random() < teacher_forcing_ratio else False\n",
        "\n",
        "    if use_teacher_forcing:\n",
        "        # Teacher forcing: Feed the target as the next input\n",
        "        for di in range(target_length):\n",
        "            decoder_output, decoder_hidden = decoder(\n",
        "                decoder_input, decoder_hidden)\n",
        "            # apply the NLL loss\n",
        "            loss += criterion(decoder_output.to(device), target_tensor[di].to(device))\n",
        "            decoder_input = target_tensor[di]  # Teacher forcing\n",
        "\n",
        "    else:\n",
        "      # Without teacher forcing: use its own predictions as the next input\n",
        "      for di in range(target_length):\n",
        "          decoder_output, decoder_hidden = decoder(\n",
        "              decoder_input, decoder_hidden)\n",
        "          topv, topi = decoder_output.topk(1)\n",
        "          decoder_input = topi.squeeze().detach()  # detach from history as input\n",
        "          # compute the loss\n",
        "          loss += criterion(decoder_output, target_tensor[di].to(device))\n",
        "          # stop the iteration if the EOS token is predicted\n",
        "          if decoder_input.item() == EOS_IDX:\n",
        "              break\n",
        "    \n",
        "    # do the back propagation\n",
        "    loss.backward()\n",
        "\n",
        "    # notify each optimizers\n",
        "    encoder_optimizer.step()\n",
        "    decoder_optimizer.step()\n",
        "\n",
        "    # return the average loss\n",
        "    return loss.item() / target_length"
      ],
      "metadata": {
        "id": "A5OLYAn7q1PP"
      },
      "execution_count": null,
      "outputs": []
    },
    {
      "cell_type": "code",
      "source": [
        "def evaluate(encoder, decoder, vocabulary_decoder, input_tensor, target_tensor=None, max_length=max_length, criterion=None, device=device):\n",
        "    \"\"\"\n",
        "    function to evaluate a translation of one sentence\n",
        "    \"\"\"\n",
        "    # we evaluate, so we don't need gradients -> torch.no_grad()\n",
        "    with torch.no_grad():\n",
        "        \n",
        "        if target_tensor is None: target_length = 0\n",
        "        else: target_length = target_tensor.size(0)\n",
        "\n",
        "        encoder_hidden = encoder.initHidden()\n",
        "\n",
        "        decoding_length = target_length\n",
        "        input_length = input_tensor.size(0)\n",
        "\n",
        "        encoder_outputs = torch.zeros(max_length, encoder.embedding_dim, device=device)\n",
        "\n",
        "        # iterate through the input length \n",
        "        for ei in range(input_length):\n",
        "            if ei >= max_length: break\n",
        "            encoder_output, encoder_hidden = encoder(input_tensor[ei], encoder_hidden)\n",
        "            encoder_outputs[ei] += encoder_output[0, 0]\n",
        "\n",
        "        decoder_input = torch.tensor([[SOS_IDX]], device=device)  # SOS\n",
        "\n",
        "        decoder_hidden = encoder_hidden\n",
        "\n",
        "        decoded_words = []\n",
        "        \n",
        "        # init the loss (the loss is important if the cirterion is given - i.e. validation phase)\n",
        "        loss = 0\n",
        "\n",
        "        # iterate through decoding values, feeding the output for the next token until the condition or maximum lenght is reached\n",
        "        for di in range(decoding_length):\n",
        "            decoder_output, decoder_hidden = decoder(decoder_input, decoder_hidden)\n",
        "            print(decoder_output.shape)\n",
        "            topv, topi = decoder_output.data.topk(1)\n",
        "            if topi.item() == EOS_IDX:\n",
        "                decoded_words.append('<eos>')\n",
        "                break\n",
        "            else:\n",
        "                decoded_words.append(vocabulary_decoder['itos'][topi.item()])\n",
        "\n",
        "            decoder_input = topi.squeeze().detach()\n",
        "            # print(decoder_output.shape, decoder_output.max())\n",
        "            # print(target_tensor[di].unsqueeze(0).shape,target_tensor[di].unsqueeze(0).max())\n",
        "            if target_tensor != None and criterion is not None:\n",
        "              loss += criterion(decoder_output.to(device), target_tensor[di].unsqueeze(0).to(device))\n",
        "              if decoder_input.item() == EOS_IDX:\n",
        "                break\n",
        "            # print('ok4')\n",
        "        return decoded_words, loss"
      ],
      "metadata": {
        "id": "61XBYSsW3OAQ"
      },
      "execution_count": null,
      "outputs": []
    },
    {
      "cell_type": "code",
      "source": [
        "def inference(target, loader, encoder, decoder, vocabulary_encoder, vocabulary_decoder, criterion, limit=0, text_column='text', summary_column='summary'):\n",
        "  \"\"\"\n",
        "  fucntion to apply the inference logic over multiple translation and return a score\n",
        "  used for validation\n",
        "  \"\"\"\n",
        "  encoder.eval()\n",
        "  decoder.eval()\n",
        "  loss_it, glue_it = list(), list()\n",
        "  preds, trues = list(), list()\n",
        "\n",
        "  total = loader.__len__()\n",
        "  if limit > 0: total = limit\n",
        "\n",
        "  # iterate through the loader, can be a validation or test loader\n",
        "  for it, batch in tqdm(enumerate(loader), desc=\"%s:\" % (target), total=total):\n",
        "    \n",
        "    if limit > 0 and it >= limit: break\n",
        "\n",
        "    input_tensor = batch[text_column].squeeze().to(device)\n",
        "    target_tensor = batch[summary_column].squeeze().to(device)\n",
        "\n",
        "    # dummy sentence because this function is used for validation, not on-demand test\n",
        "    mock_sentence = \"dummy sentence not used\"\n",
        "\n",
        "    # compute entry and target sentences as \"real text\"\n",
        "    entry = [vocabulary_encoder['itos'][t] for t in input_tensor.tolist()]\n",
        "    entry = ' '.join( [e for e in entry if e not in ['<pad>', '<sos>', '<eos>', '<unk>']] )\n",
        "    true =  [vocabulary_decoder['itos'][t] for t in target_tensor.tolist()]\n",
        "    true = ' '.join( [r for r in true if r not in ['<pad>', '<sos>', '<eos>', '<unk>']] )\n",
        "    trues.append([true])\n",
        "\n",
        "    pred, loss = evaluate(encoder, decoder, vocabulary_decoder, input_tensor=input_tensor, target_tensor=target_tensor, criterion=criterion)\n",
        "    pred = ' '.join( [ h for h in pred if h not in ['<pad>', '<sos>', '<eos>', '<unk>'] ] )\n",
        "    preds.append(pred)\n",
        "    if criterion is not None: \n",
        "      try:\n",
        "        loss_it.append(loss.item())\n",
        "      except: pass\n",
        "    else: loss_it.append(loss)\n",
        "\n",
        "  # ROUGE score :\n",
        "  rouge_scoring = ROUGE()\n",
        "  rouge_scores = rouge.get_scores(preds, trues, avg=True)\n",
        "\n",
        "  loss_it_avg = sum(loss_it)/len(loss_it)\n",
        "\n",
        "  print(\"%s : (%s %s) (%s %s)\" % ( colored(target, 'blue'), colored('loss', 'cyan'), loss_it_avg, colored('rouge', 'cyan'), rouge_scores ))\n",
        "\n",
        "  return trues, preds, loss_it_avg, loss_it, rouge_scores "
      ],
      "metadata": {
        "id": "R3Pejr1xz9r0"
      },
      "execution_count": null,
      "outputs": []
    },
    {
      "cell_type": "code",
      "source": [
        "def run_epochs(train_loader, val_loader, encoder, decoder, vocabulary_encoder, vocabulary_decoder, max_epochs, learning_rate=0.01, limit=0, text_column='text', summary_column='summary', device=device):    \n",
        "    \n",
        "    # define the optimizer for both encoder and decoder separately.\n",
        "    # You can change it later on\n",
        "    encoder_optimizer = optim.SGD(encoder.parameters(), lr=learning_rate)\n",
        "    decoder_optimizer = optim.SGD(decoder.parameters(), lr=learning_rate)\n",
        "    criterion = nn.NLLLoss(ignore_index=PAD_IDX)\n",
        "\n",
        "    epoch_losses = []\n",
        "    val_epoch_losses = []\n",
        "\n",
        "    for ep in range(max_epochs):\n",
        "      \n",
        "      # TRAINING\n",
        "      it_losses = []\n",
        "\n",
        "      total = train_loader.__len__()\n",
        "      # allow to limit the number of random samples per epoch\n",
        "      if limit > 0: total = limit\n",
        "\n",
        "      for iter, batch in tqdm(enumerate(train_loader), desc=\"Epoch %s:\" % (ep), total=total):\n",
        "          # trigger the limit if it is set\n",
        "          if limit > 0 and iter >= limit: \n",
        "              break        \n",
        "\n",
        "          input_tensor = batch[text_column].to(device)\n",
        "          target_tensor = batch[summary_column].to(device)\n",
        "\n",
        "          loss = train(input_tensor, target_tensor, encoder, decoder, encoder_optimizer, decoder_optimizer, criterion)\n",
        "          it_losses.append(loss)\n",
        "\n",
        "      epoch_loss = sum(it_losses)/len(it_losses)\n",
        "      epoch_losses.append(epoch_loss)\n",
        "      print(\"Epoch %s : %s : (%s %s) \" % (colored(str(ep), 'blue'), colored('Training', 'blue'), colored('loss', 'cyan'), epoch_loss  ))\n",
        "\n",
        "      \n",
        "      # VALIDATION\n",
        "      trues, preds, val_loss_it_avg, val_loss_it, rouge_scores = inference(\"validation\", val_loader, encoder, decoder, vocabulary_encoder, vocabulary_decoder, criterion, limit, text_column, summary_column)\n",
        "      val_epoch_losses.append(val_loss_it_avg)\n",
        "\n",
        "      \n",
        "    return epoch_losses, val_epoch_losses"
      ],
      "metadata": {
        "id": "McXPfHTpuECD"
      },
      "execution_count": null,
      "outputs": []
    },
    {
      "cell_type": "markdown",
      "source": [
        "#### Training :"
      ],
      "metadata": {
        "id": "uY7YLFtzwoPx"
      }
    },
    {
      "cell_type": "code",
      "source": [
        "# device='cpu'"
      ],
      "metadata": {
        "id": "h0jsPptZPVbx"
      },
      "execution_count": null,
      "outputs": []
    },
    {
      "cell_type": "code",
      "source": [
        "# epochs = 20\n",
        "\n",
        "# embedding_matrix_orangesum = create_embedding_matrix(vocabulary_orangesum, pretrained_vectors_fasttext)\n",
        "# embedding_matrix_orangesum_summary = create_embedding_matrix(vocabulary_orangesum_summary, pretrained_vectors_fasttext)\n",
        "\n",
        "# # instanciate the encoder\n",
        "# encoder = EncoderRNN(embedding_matrix_orangesum,device='cpu')\n",
        "# # instanciate the decoder\n",
        "# decoder = DecoderRNN(embedding_matrix_orangesum_summary,device='cpu')"
      ],
      "metadata": {
        "id": "WYNvB1iTuSJZ"
      },
      "execution_count": null,
      "outputs": []
    },
    {
      "cell_type": "code",
      "source": [
        "# run_epochs(orangesum_train_loader, orangesum_validation_loader, encoder, decoder, vocabulary_encoder=vocabulary_orangesum, vocabulary_decoder=vocabulary_orangesum_summary , max_epochs=epochs)"
      ],
      "metadata": {
        "id": "RqbiYdEZu6ot"
      },
      "execution_count": null,
      "outputs": []
    },
    {
      "cell_type": "markdown",
      "source": [
        "↪ The training runs correctly, but the evaluation function seems to not be working, we have IndexErrors, like if the vocabularies are not correctly assigned to the encoder and decoder (as we want to use different vocabularies...)"
      ],
      "metadata": {
        "id": "oriXG7cHnk9B"
      }
    },
    {
      "cell_type": "code",
      "source": [
        ""
      ],
      "metadata": {
        "id": "txzPLaNA24hD"
      },
      "execution_count": null,
      "outputs": []
    },
    {
      "cell_type": "markdown",
      "source": [
        "### Transformer-based model :"
      ],
      "metadata": {
        "id": "JwjNhLEdxVzW"
      }
    },
    {
      "cell_type": "markdown",
      "source": [
        "The main idea of this model is to use a transformer architecture for modeling the encoder-decoder part of our model. We will add embeddings layers constructed from the embedding matrices or vector defined in the cleaning section, a classical positional encoding (with sine and cosine computations), and complete our model by adding a final layer to recover the vocabulary length from the output of the decoder.\n",
        "\n",
        "For this implementation, we got inspiration from BARTHez model, but also to some tutorials using keras, such as [this one](https://www.kaggle.com/code/ashishsingh226/text-summarization-with-transformers). "
      ],
      "metadata": {
        "id": "pxIx5P2hlx4D"
      }
    },
    {
      "cell_type": "code",
      "source": [
        "import math"
      ],
      "metadata": {
        "id": "-kR2XOceLEo1"
      },
      "execution_count": null,
      "outputs": []
    },
    {
      "cell_type": "markdown",
      "source": [
        "#### Architecture :"
      ],
      "metadata": {
        "id": "AanbeEnO4KA1"
      }
    },
    {
      "cell_type": "code",
      "source": [
        "# Taken from https://pytorch.org/tutorials/beginner/transformer_tutorial.html :\n",
        "\n",
        "class PositionalEncoding(nn.Module):\n",
        "\n",
        "    def __init__(self, d_model, dropout= 0.1, max_len=1000, device=device):\n",
        "        super().__init__()\n",
        "        self.dropout = nn.Dropout(p=dropout)\n",
        "\n",
        "        position = torch.arange(max_len).unsqueeze(1)\n",
        "        div_term = torch.exp(torch.arange(0, d_model, 2) * (-math.log(10000.0) / d_model))\n",
        "        pe = torch.zeros(max_len, 1, d_model)\n",
        "        pe[:, 0, 0::2] = torch.sin(position * div_term)\n",
        "        pe[:, 0, 1::2] = torch.cos(position * div_term)\n",
        "        self.register_buffer('pe', pe)\n",
        "\n",
        "    def forward(self, x) :\n",
        "        \"\"\"\n",
        "        Args:\n",
        "            x: Tensor, shape [seq_len, batch_size, embedding_dim]\n",
        "        \"\"\"\n",
        "        x = x + self.pe[:x.size(0)].to(device)\n",
        "        return self.dropout(x)"
      ],
      "metadata": {
        "id": "xwPk_VLmSB6u"
      },
      "execution_count": null,
      "outputs": []
    },
    {
      "cell_type": "code",
      "source": [
        "class AbstractiveTransformerModel () : \n",
        "\n",
        "    def __init__(self, embeddings_text_vectors, embeddings_summary_vectors, padding_idx=1,\n",
        "                 num_encoder_layers=6, num_decoder_layers=6, nhead=12, \n",
        "                 dim_feedforward=768, activation=nn.GELU(), device=device) :\n",
        "\n",
        "        super().__init__()\n",
        "\n",
        "        self.embedding_dim = embeddings_text_vectors.shape[1]\n",
        "        self.padding_idx = padding_idx\n",
        "            # Define a function to compute padding masks :\n",
        "        self.padding_mask = lambda text : (text==padding_idx).long()\n",
        "\n",
        "        # Define the architecture of our model : \n",
        "\n",
        "          # Embedding with frozen parameters :\n",
        "        self.embedding_encoder = nn.Embedding.from_pretrained(embeddings_text_vectors, freeze=True, padding_idx=padding_idx).to(device)\n",
        "        self.embedding_decoder = nn.Embedding.from_pretrained(embeddings_summary_vectors, freeze=True, padding_idx=padding_idx).to(device)\n",
        "\n",
        "          # Positionnal encoding : \n",
        "        self.positional_encoding = PositionalEncoding(d_model=self.embedding_dim)\n",
        "\n",
        "          # Transformer using directly torch's implementation :\n",
        "        transformer = nn.Transformer(d_model=self.embedding_dim, nhead=nhead, \n",
        "                                          num_encoder_layers=num_encoder_layers,\n",
        "                                          num_decoder_layers=num_decoder_layers,\n",
        "                                          dim_feedforward=dim_feedforward, \n",
        "                                          activation=activation).to(device)\n",
        "        self.encoder = transformer.encoder\n",
        "        self.decoder = transformer.decoder \n",
        "\n",
        "          # Final layer to obtain back vocabulary_summary_size :\n",
        "        vocab_summary_size = embeddings_summary_vectors.shape[0]\n",
        "        self.last_layer = nn.Linear(in_features=self.embedding_dim, out_features=vocab_summary_size,device=device)\n",
        "\n",
        " \n",
        "    def forward (self, text, target) : \n",
        "        # Encoding :\n",
        "        text_key_padding_mask = self.padding_mask(text) # shape batch_len x max_text_len\n",
        "        text = self.embedding_encoder(text)\n",
        "        text = self.positional_encoding(text.permute(1,0,2)) # Add positional encoding\n",
        "          # text : shape max_text_len x batch_len x embedding_dim\n",
        "        \n",
        "        encoder_output = self.encoder(text, src_key_padding_mask=text_key_padding_mask)\n",
        "        print('encoded')\n",
        "\n",
        "        # Decoding :\n",
        "        target_key_padding_mask = self.padding_mask(target) # shape batch_len x max_text_len\n",
        "        target = self.embedding_decoder(target)\n",
        "        target = self.positional_encoding(target.permute(1,0,2)) # Add positional encoding\n",
        "          # target : shape max_text_len x batch_len x embedding_dim\n",
        "        \n",
        "        decoder_output = self.decoder(tgt=target, memory=encoder_output, tgt_key_padding_mask=target_key_padding_mask)\n",
        "\n",
        "        # Final layer to obtain back the desired dimension :\n",
        "        output = self.last_layer(decoder_output)\n",
        "\n",
        "        return output"
      ],
      "metadata": {
        "id": "m_sA8zPZx0af"
      },
      "execution_count": null,
      "outputs": []
    },
    {
      "cell_type": "code",
      "source": [
        "# Smaller parameters : \n",
        "# (the parameters per default of the model correspond to BART architecture,\n",
        "# but they are really high, so we will change them into smaller ones)\n",
        "num_encoder_layers = 3 \n",
        "num_decoder_layers = 3 \n",
        "nhead = 4\n",
        "dim_feedforward = 512"
      ],
      "metadata": {
        "id": "FJn4ZYordBBK"
      },
      "execution_count": null,
      "outputs": []
    },
    {
      "cell_type": "markdown",
      "source": [
        "---"
      ],
      "metadata": {
        "id": "Wzdntl45dpJc"
      }
    },
    {
      "cell_type": "markdown",
      "source": [
        "Test :"
      ],
      "metadata": {
        "id": "yO0D5jvDlg2r"
      }
    },
    {
      "cell_type": "code",
      "source": [
        "# a = next(iter(orangesum_train_loader))"
      ],
      "metadata": {
        "id": "-HvVZ_a6dYmR"
      },
      "execution_count": null,
      "outputs": []
    },
    {
      "cell_type": "code",
      "source": [
        "# text, target = a['text'].to(device), a['summary'].to(device)"
      ],
      "metadata": {
        "id": "KsS2Mu1zdfBF"
      },
      "execution_count": null,
      "outputs": []
    },
    {
      "cell_type": "code",
      "source": [
        "# a['text'].shape"
      ],
      "metadata": {
        "colab": {
          "base_uri": "https://localhost:8080/"
        },
        "id": "4knT64Vddhdc",
        "outputId": "5fb5f608-f88c-4af1-b7b8-2db16f67480b"
      },
      "execution_count": null,
      "outputs": [
        {
          "output_type": "execute_result",
          "data": {
            "text/plain": [
              "torch.Size([64, 1000])"
            ]
          },
          "metadata": {},
          "execution_count": 56
        }
      ]
    },
    {
      "cell_type": "code",
      "source": [
        "# embedding_matrix_orangesum_summary = create_embedding_matrix(vocabulary_orangesum_summary, pretrained_vectors_fasttext)"
      ],
      "metadata": {
        "colab": {
          "base_uri": "https://localhost:8080/"
        },
        "id": "fvHdDValekDo",
        "outputId": "9c18ec10-6370-4508-8931-8d8f9605f232"
      },
      "execution_count": null,
      "outputs": [
        {
          "output_type": "stream",
          "name": "stdout",
          "text": [
            "Random new embeddings were created for 2869 words, ie 13.74% of the vocabulary\n"
          ]
        }
      ]
    },
    {
      "cell_type": "code",
      "source": [
        "# embedding_matrix_orangesum.shape"
      ],
      "metadata": {
        "colab": {
          "base_uri": "https://localhost:8080/"
        },
        "id": "C0wIQIHelUiY",
        "outputId": "d9e3615d-5338-40b5-e39a-b299f6e4bbe0"
      },
      "execution_count": null,
      "outputs": [
        {
          "output_type": "execute_result",
          "data": {
            "text/plain": [
              "torch.Size([43584, 300])"
            ]
          },
          "metadata": {},
          "execution_count": 63
        }
      ]
    },
    {
      "cell_type": "code",
      "source": [
        "# embedding_matrix_orangesum_summary.shape"
      ],
      "metadata": {
        "colab": {
          "base_uri": "https://localhost:8080/"
        },
        "id": "hpk-uuKFlWoY",
        "outputId": "a11e9fe1-8cbc-498b-fdb2-c28b22329ec4"
      },
      "execution_count": null,
      "outputs": [
        {
          "output_type": "execute_result",
          "data": {
            "text/plain": [
              "torch.Size([20878, 300])"
            ]
          },
          "metadata": {},
          "execution_count": 64
        }
      ]
    },
    {
      "cell_type": "code",
      "source": [
        "# atm = AbstractiveTransformerModel(embeddings_text_vectors=embedding_matrix_orangesum, embeddings_summary_vectors=embedding_matrix_orangesum_summary,\n",
        "                                  num_encoder_layers = 3, num_decoder_layers = 3, nhead = 4, dim_feedforward = 512,\n",
        "                                  device=device)"
      ],
      "metadata": {
        "id": "_R83C6IXdqJi"
      },
      "execution_count": null,
      "outputs": []
    },
    {
      "cell_type": "code",
      "source": [
        "# output = atm.forward(text, target)"
      ],
      "metadata": {
        "id": "CBgt_GbTeIcg"
      },
      "execution_count": null,
      "outputs": []
    },
    {
      "cell_type": "markdown",
      "source": [
        "↪ The RAM (or GPU RAM) explodes when trying to use our model, even with small hyper-parameters for the architecture..."
      ],
      "metadata": {
        "id": "FUiuufBDnJD9"
      }
    },
    {
      "cell_type": "markdown",
      "source": [
        "---"
      ],
      "metadata": {
        "id": "Pf8e-TPM40pl"
      }
    },
    {
      "cell_type": "code",
      "source": [
        ""
      ],
      "metadata": {
        "id": "5Eh0vIjKmGiH"
      },
      "execution_count": null,
      "outputs": []
    }
  ]
}