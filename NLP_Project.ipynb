{
  "nbformat": 4,
  "nbformat_minor": 0,
  "metadata": {
    "colab": {
      "name": "NLP_Project.ipynb",
      "provenance": [],
      "collapsed_sections": [
        "s3hKJ3w-MUgc",
        "WeHdMdFHFaU-",
        "b1QO7xD_ZuHT"
      ],
      "toc_visible": true
    },
    "kernelspec": {
      "name": "python3",
      "display_name": "Python 3"
    },
    "language_info": {
      "name": "python"
    },
    "widgets": {
      "application/vnd.jupyter.widget-state+json": {
        "72596a18a38441f5a10cdddc37e11026": {
          "model_module": "@jupyter-widgets/controls",
          "model_name": "HBoxModel",
          "model_module_version": "1.5.0",
          "state": {
            "_dom_classes": [],
            "_model_module": "@jupyter-widgets/controls",
            "_model_module_version": "1.5.0",
            "_model_name": "HBoxModel",
            "_view_count": null,
            "_view_module": "@jupyter-widgets/controls",
            "_view_module_version": "1.5.0",
            "_view_name": "HBoxView",
            "box_style": "",
            "children": [
              "IPY_MODEL_487632794e614f5885e78e1181413c80",
              "IPY_MODEL_52416aebe6724fa59a824658268a20d9",
              "IPY_MODEL_9afa58f097bb4a228467ad5bf665266e"
            ],
            "layout": "IPY_MODEL_13484771d70e49479918fb76be9277bf"
          }
        },
        "487632794e614f5885e78e1181413c80": {
          "model_module": "@jupyter-widgets/controls",
          "model_name": "HTMLModel",
          "model_module_version": "1.5.0",
          "state": {
            "_dom_classes": [],
            "_model_module": "@jupyter-widgets/controls",
            "_model_module_version": "1.5.0",
            "_model_name": "HTMLModel",
            "_view_count": null,
            "_view_module": "@jupyter-widgets/controls",
            "_view_module_version": "1.5.0",
            "_view_name": "HTMLView",
            "description": "",
            "description_tooltip": null,
            "layout": "IPY_MODEL_444a1bb874a24f0d9eb7cdcbd3314cce",
            "placeholder": "​",
            "style": "IPY_MODEL_2f39b88a510848fc90845865f65b822a",
            "value": "Downloading: 100%"
          }
        },
        "52416aebe6724fa59a824658268a20d9": {
          "model_module": "@jupyter-widgets/controls",
          "model_name": "FloatProgressModel",
          "model_module_version": "1.5.0",
          "state": {
            "_dom_classes": [],
            "_model_module": "@jupyter-widgets/controls",
            "_model_module_version": "1.5.0",
            "_model_name": "FloatProgressModel",
            "_view_count": null,
            "_view_module": "@jupyter-widgets/controls",
            "_view_module_version": "1.5.0",
            "_view_name": "ProgressView",
            "bar_style": "success",
            "description": "",
            "description_tooltip": null,
            "layout": "IPY_MODEL_8ceac9e1c41c43f4b21dccef6d6d58d7",
            "max": 492,
            "min": 0,
            "orientation": "horizontal",
            "style": "IPY_MODEL_e56c5a35125144a7a5c6fd5ffbfa350f",
            "value": 492
          }
        },
        "9afa58f097bb4a228467ad5bf665266e": {
          "model_module": "@jupyter-widgets/controls",
          "model_name": "HTMLModel",
          "model_module_version": "1.5.0",
          "state": {
            "_dom_classes": [],
            "_model_module": "@jupyter-widgets/controls",
            "_model_module_version": "1.5.0",
            "_model_name": "HTMLModel",
            "_view_count": null,
            "_view_module": "@jupyter-widgets/controls",
            "_view_module_version": "1.5.0",
            "_view_name": "HTMLView",
            "description": "",
            "description_tooltip": null,
            "layout": "IPY_MODEL_66b8dbdea7ba45cc8d4a96ad46c2b17e",
            "placeholder": "​",
            "style": "IPY_MODEL_2f8aa58096024636a21f5d02e9759dcb",
            "value": " 492/492 [00:00&lt;00:00, 3.44kB/s]"
          }
        },
        "13484771d70e49479918fb76be9277bf": {
          "model_module": "@jupyter-widgets/base",
          "model_name": "LayoutModel",
          "model_module_version": "1.2.0",
          "state": {
            "_model_module": "@jupyter-widgets/base",
            "_model_module_version": "1.2.0",
            "_model_name": "LayoutModel",
            "_view_count": null,
            "_view_module": "@jupyter-widgets/base",
            "_view_module_version": "1.2.0",
            "_view_name": "LayoutView",
            "align_content": null,
            "align_items": null,
            "align_self": null,
            "border": null,
            "bottom": null,
            "display": null,
            "flex": null,
            "flex_flow": null,
            "grid_area": null,
            "grid_auto_columns": null,
            "grid_auto_flow": null,
            "grid_auto_rows": null,
            "grid_column": null,
            "grid_gap": null,
            "grid_row": null,
            "grid_template_areas": null,
            "grid_template_columns": null,
            "grid_template_rows": null,
            "height": null,
            "justify_content": null,
            "justify_items": null,
            "left": null,
            "margin": null,
            "max_height": null,
            "max_width": null,
            "min_height": null,
            "min_width": null,
            "object_fit": null,
            "object_position": null,
            "order": null,
            "overflow": null,
            "overflow_x": null,
            "overflow_y": null,
            "padding": null,
            "right": null,
            "top": null,
            "visibility": null,
            "width": null
          }
        },
        "444a1bb874a24f0d9eb7cdcbd3314cce": {
          "model_module": "@jupyter-widgets/base",
          "model_name": "LayoutModel",
          "model_module_version": "1.2.0",
          "state": {
            "_model_module": "@jupyter-widgets/base",
            "_model_module_version": "1.2.0",
            "_model_name": "LayoutModel",
            "_view_count": null,
            "_view_module": "@jupyter-widgets/base",
            "_view_module_version": "1.2.0",
            "_view_name": "LayoutView",
            "align_content": null,
            "align_items": null,
            "align_self": null,
            "border": null,
            "bottom": null,
            "display": null,
            "flex": null,
            "flex_flow": null,
            "grid_area": null,
            "grid_auto_columns": null,
            "grid_auto_flow": null,
            "grid_auto_rows": null,
            "grid_column": null,
            "grid_gap": null,
            "grid_row": null,
            "grid_template_areas": null,
            "grid_template_columns": null,
            "grid_template_rows": null,
            "height": null,
            "justify_content": null,
            "justify_items": null,
            "left": null,
            "margin": null,
            "max_height": null,
            "max_width": null,
            "min_height": null,
            "min_width": null,
            "object_fit": null,
            "object_position": null,
            "order": null,
            "overflow": null,
            "overflow_x": null,
            "overflow_y": null,
            "padding": null,
            "right": null,
            "top": null,
            "visibility": null,
            "width": null
          }
        },
        "2f39b88a510848fc90845865f65b822a": {
          "model_module": "@jupyter-widgets/controls",
          "model_name": "DescriptionStyleModel",
          "model_module_version": "1.5.0",
          "state": {
            "_model_module": "@jupyter-widgets/controls",
            "_model_module_version": "1.5.0",
            "_model_name": "DescriptionStyleModel",
            "_view_count": null,
            "_view_module": "@jupyter-widgets/base",
            "_view_module_version": "1.2.0",
            "_view_name": "StyleView",
            "description_width": ""
          }
        },
        "8ceac9e1c41c43f4b21dccef6d6d58d7": {
          "model_module": "@jupyter-widgets/base",
          "model_name": "LayoutModel",
          "model_module_version": "1.2.0",
          "state": {
            "_model_module": "@jupyter-widgets/base",
            "_model_module_version": "1.2.0",
            "_model_name": "LayoutModel",
            "_view_count": null,
            "_view_module": "@jupyter-widgets/base",
            "_view_module_version": "1.2.0",
            "_view_name": "LayoutView",
            "align_content": null,
            "align_items": null,
            "align_self": null,
            "border": null,
            "bottom": null,
            "display": null,
            "flex": null,
            "flex_flow": null,
            "grid_area": null,
            "grid_auto_columns": null,
            "grid_auto_flow": null,
            "grid_auto_rows": null,
            "grid_column": null,
            "grid_gap": null,
            "grid_row": null,
            "grid_template_areas": null,
            "grid_template_columns": null,
            "grid_template_rows": null,
            "height": null,
            "justify_content": null,
            "justify_items": null,
            "left": null,
            "margin": null,
            "max_height": null,
            "max_width": null,
            "min_height": null,
            "min_width": null,
            "object_fit": null,
            "object_position": null,
            "order": null,
            "overflow": null,
            "overflow_x": null,
            "overflow_y": null,
            "padding": null,
            "right": null,
            "top": null,
            "visibility": null,
            "width": null
          }
        },
        "e56c5a35125144a7a5c6fd5ffbfa350f": {
          "model_module": "@jupyter-widgets/controls",
          "model_name": "ProgressStyleModel",
          "model_module_version": "1.5.0",
          "state": {
            "_model_module": "@jupyter-widgets/controls",
            "_model_module_version": "1.5.0",
            "_model_name": "ProgressStyleModel",
            "_view_count": null,
            "_view_module": "@jupyter-widgets/base",
            "_view_module_version": "1.2.0",
            "_view_name": "StyleView",
            "bar_color": null,
            "description_width": ""
          }
        },
        "66b8dbdea7ba45cc8d4a96ad46c2b17e": {
          "model_module": "@jupyter-widgets/base",
          "model_name": "LayoutModel",
          "model_module_version": "1.2.0",
          "state": {
            "_model_module": "@jupyter-widgets/base",
            "_model_module_version": "1.2.0",
            "_model_name": "LayoutModel",
            "_view_count": null,
            "_view_module": "@jupyter-widgets/base",
            "_view_module_version": "1.2.0",
            "_view_name": "LayoutView",
            "align_content": null,
            "align_items": null,
            "align_self": null,
            "border": null,
            "bottom": null,
            "display": null,
            "flex": null,
            "flex_flow": null,
            "grid_area": null,
            "grid_auto_columns": null,
            "grid_auto_flow": null,
            "grid_auto_rows": null,
            "grid_column": null,
            "grid_gap": null,
            "grid_row": null,
            "grid_template_areas": null,
            "grid_template_columns": null,
            "grid_template_rows": null,
            "height": null,
            "justify_content": null,
            "justify_items": null,
            "left": null,
            "margin": null,
            "max_height": null,
            "max_width": null,
            "min_height": null,
            "min_width": null,
            "object_fit": null,
            "object_position": null,
            "order": null,
            "overflow": null,
            "overflow_x": null,
            "overflow_y": null,
            "padding": null,
            "right": null,
            "top": null,
            "visibility": null,
            "width": null
          }
        },
        "2f8aa58096024636a21f5d02e9759dcb": {
          "model_module": "@jupyter-widgets/controls",
          "model_name": "DescriptionStyleModel",
          "model_module_version": "1.5.0",
          "state": {
            "_model_module": "@jupyter-widgets/controls",
            "_model_module_version": "1.5.0",
            "_model_name": "DescriptionStyleModel",
            "_view_count": null,
            "_view_module": "@jupyter-widgets/base",
            "_view_module_version": "1.2.0",
            "_view_name": "StyleView",
            "description_width": ""
          }
        },
        "6ab4346d461742e19251200ce95fe781": {
          "model_module": "@jupyter-widgets/controls",
          "model_name": "HBoxModel",
          "model_module_version": "1.5.0",
          "state": {
            "_dom_classes": [],
            "_model_module": "@jupyter-widgets/controls",
            "_model_module_version": "1.5.0",
            "_model_name": "HBoxModel",
            "_view_count": null,
            "_view_module": "@jupyter-widgets/controls",
            "_view_module_version": "1.5.0",
            "_view_name": "HBoxView",
            "box_style": "",
            "children": [
              "IPY_MODEL_522f70fcfdef490cab337b93b2b93255",
              "IPY_MODEL_ca119915107f43d59ae989b4503c3796",
              "IPY_MODEL_81b902eb896e4508b764cdfa3afc8601"
            ],
            "layout": "IPY_MODEL_f359103edb634542a0ed8b4d9318a1df"
          }
        },
        "522f70fcfdef490cab337b93b2b93255": {
          "model_module": "@jupyter-widgets/controls",
          "model_name": "HTMLModel",
          "model_module_version": "1.5.0",
          "state": {
            "_dom_classes": [],
            "_model_module": "@jupyter-widgets/controls",
            "_model_module_version": "1.5.0",
            "_model_name": "HTMLModel",
            "_view_count": null,
            "_view_module": "@jupyter-widgets/controls",
            "_view_module_version": "1.5.0",
            "_view_name": "HTMLView",
            "description": "",
            "description_tooltip": null,
            "layout": "IPY_MODEL_8caa488c76bb4a59a4e4ce79001d5db2",
            "placeholder": "​",
            "style": "IPY_MODEL_b5d6687f978a41cc941c389e442e252e",
            "value": "Downloading: 100%"
          }
        },
        "ca119915107f43d59ae989b4503c3796": {
          "model_module": "@jupyter-widgets/controls",
          "model_name": "FloatProgressModel",
          "model_module_version": "1.5.0",
          "state": {
            "_dom_classes": [],
            "_model_module": "@jupyter-widgets/controls",
            "_model_module_version": "1.5.0",
            "_model_name": "FloatProgressModel",
            "_view_count": null,
            "_view_module": "@jupyter-widgets/controls",
            "_view_module_version": "1.5.0",
            "_view_name": "ProgressView",
            "bar_style": "success",
            "description": "",
            "description_tooltip": null,
            "layout": "IPY_MODEL_e106247261514f7bba17bf27fdb12865",
            "max": 1312831,
            "min": 0,
            "orientation": "horizontal",
            "style": "IPY_MODEL_2645d1120b274822a7716b437a8ca255",
            "value": 1312831
          }
        },
        "81b902eb896e4508b764cdfa3afc8601": {
          "model_module": "@jupyter-widgets/controls",
          "model_name": "HTMLModel",
          "model_module_version": "1.5.0",
          "state": {
            "_dom_classes": [],
            "_model_module": "@jupyter-widgets/controls",
            "_model_module_version": "1.5.0",
            "_model_name": "HTMLModel",
            "_view_count": null,
            "_view_module": "@jupyter-widgets/controls",
            "_view_module_version": "1.5.0",
            "_view_name": "HTMLView",
            "description": "",
            "description_tooltip": null,
            "layout": "IPY_MODEL_12ce10520df0443499b08e9b1fd8ebaf",
            "placeholder": "​",
            "style": "IPY_MODEL_d7c996a8f5164d8fafeddf5c7fee454d",
            "value": " 1.25M/1.25M [00:00&lt;00:00, 3.64MB/s]"
          }
        },
        "f359103edb634542a0ed8b4d9318a1df": {
          "model_module": "@jupyter-widgets/base",
          "model_name": "LayoutModel",
          "model_module_version": "1.2.0",
          "state": {
            "_model_module": "@jupyter-widgets/base",
            "_model_module_version": "1.2.0",
            "_model_name": "LayoutModel",
            "_view_count": null,
            "_view_module": "@jupyter-widgets/base",
            "_view_module_version": "1.2.0",
            "_view_name": "LayoutView",
            "align_content": null,
            "align_items": null,
            "align_self": null,
            "border": null,
            "bottom": null,
            "display": null,
            "flex": null,
            "flex_flow": null,
            "grid_area": null,
            "grid_auto_columns": null,
            "grid_auto_flow": null,
            "grid_auto_rows": null,
            "grid_column": null,
            "grid_gap": null,
            "grid_row": null,
            "grid_template_areas": null,
            "grid_template_columns": null,
            "grid_template_rows": null,
            "height": null,
            "justify_content": null,
            "justify_items": null,
            "left": null,
            "margin": null,
            "max_height": null,
            "max_width": null,
            "min_height": null,
            "min_width": null,
            "object_fit": null,
            "object_position": null,
            "order": null,
            "overflow": null,
            "overflow_x": null,
            "overflow_y": null,
            "padding": null,
            "right": null,
            "top": null,
            "visibility": null,
            "width": null
          }
        },
        "8caa488c76bb4a59a4e4ce79001d5db2": {
          "model_module": "@jupyter-widgets/base",
          "model_name": "LayoutModel",
          "model_module_version": "1.2.0",
          "state": {
            "_model_module": "@jupyter-widgets/base",
            "_model_module_version": "1.2.0",
            "_model_name": "LayoutModel",
            "_view_count": null,
            "_view_module": "@jupyter-widgets/base",
            "_view_module_version": "1.2.0",
            "_view_name": "LayoutView",
            "align_content": null,
            "align_items": null,
            "align_self": null,
            "border": null,
            "bottom": null,
            "display": null,
            "flex": null,
            "flex_flow": null,
            "grid_area": null,
            "grid_auto_columns": null,
            "grid_auto_flow": null,
            "grid_auto_rows": null,
            "grid_column": null,
            "grid_gap": null,
            "grid_row": null,
            "grid_template_areas": null,
            "grid_template_columns": null,
            "grid_template_rows": null,
            "height": null,
            "justify_content": null,
            "justify_items": null,
            "left": null,
            "margin": null,
            "max_height": null,
            "max_width": null,
            "min_height": null,
            "min_width": null,
            "object_fit": null,
            "object_position": null,
            "order": null,
            "overflow": null,
            "overflow_x": null,
            "overflow_y": null,
            "padding": null,
            "right": null,
            "top": null,
            "visibility": null,
            "width": null
          }
        },
        "b5d6687f978a41cc941c389e442e252e": {
          "model_module": "@jupyter-widgets/controls",
          "model_name": "DescriptionStyleModel",
          "model_module_version": "1.5.0",
          "state": {
            "_model_module": "@jupyter-widgets/controls",
            "_model_module_version": "1.5.0",
            "_model_name": "DescriptionStyleModel",
            "_view_count": null,
            "_view_module": "@jupyter-widgets/base",
            "_view_module_version": "1.2.0",
            "_view_name": "StyleView",
            "description_width": ""
          }
        },
        "e106247261514f7bba17bf27fdb12865": {
          "model_module": "@jupyter-widgets/base",
          "model_name": "LayoutModel",
          "model_module_version": "1.2.0",
          "state": {
            "_model_module": "@jupyter-widgets/base",
            "_model_module_version": "1.2.0",
            "_model_name": "LayoutModel",
            "_view_count": null,
            "_view_module": "@jupyter-widgets/base",
            "_view_module_version": "1.2.0",
            "_view_name": "LayoutView",
            "align_content": null,
            "align_items": null,
            "align_self": null,
            "border": null,
            "bottom": null,
            "display": null,
            "flex": null,
            "flex_flow": null,
            "grid_area": null,
            "grid_auto_columns": null,
            "grid_auto_flow": null,
            "grid_auto_rows": null,
            "grid_column": null,
            "grid_gap": null,
            "grid_row": null,
            "grid_template_areas": null,
            "grid_template_columns": null,
            "grid_template_rows": null,
            "height": null,
            "justify_content": null,
            "justify_items": null,
            "left": null,
            "margin": null,
            "max_height": null,
            "max_width": null,
            "min_height": null,
            "min_width": null,
            "object_fit": null,
            "object_position": null,
            "order": null,
            "overflow": null,
            "overflow_x": null,
            "overflow_y": null,
            "padding": null,
            "right": null,
            "top": null,
            "visibility": null,
            "width": null
          }
        },
        "2645d1120b274822a7716b437a8ca255": {
          "model_module": "@jupyter-widgets/controls",
          "model_name": "ProgressStyleModel",
          "model_module_version": "1.5.0",
          "state": {
            "_model_module": "@jupyter-widgets/controls",
            "_model_module_version": "1.5.0",
            "_model_name": "ProgressStyleModel",
            "_view_count": null,
            "_view_module": "@jupyter-widgets/base",
            "_view_module_version": "1.2.0",
            "_view_name": "StyleView",
            "bar_color": null,
            "description_width": ""
          }
        },
        "12ce10520df0443499b08e9b1fd8ebaf": {
          "model_module": "@jupyter-widgets/base",
          "model_name": "LayoutModel",
          "model_module_version": "1.2.0",
          "state": {
            "_model_module": "@jupyter-widgets/base",
            "_model_module_version": "1.2.0",
            "_model_name": "LayoutModel",
            "_view_count": null,
            "_view_module": "@jupyter-widgets/base",
            "_view_module_version": "1.2.0",
            "_view_name": "LayoutView",
            "align_content": null,
            "align_items": null,
            "align_self": null,
            "border": null,
            "bottom": null,
            "display": null,
            "flex": null,
            "flex_flow": null,
            "grid_area": null,
            "grid_auto_columns": null,
            "grid_auto_flow": null,
            "grid_auto_rows": null,
            "grid_column": null,
            "grid_gap": null,
            "grid_row": null,
            "grid_template_areas": null,
            "grid_template_columns": null,
            "grid_template_rows": null,
            "height": null,
            "justify_content": null,
            "justify_items": null,
            "left": null,
            "margin": null,
            "max_height": null,
            "max_width": null,
            "min_height": null,
            "min_width": null,
            "object_fit": null,
            "object_position": null,
            "order": null,
            "overflow": null,
            "overflow_x": null,
            "overflow_y": null,
            "padding": null,
            "right": null,
            "top": null,
            "visibility": null,
            "width": null
          }
        },
        "d7c996a8f5164d8fafeddf5c7fee454d": {
          "model_module": "@jupyter-widgets/controls",
          "model_name": "DescriptionStyleModel",
          "model_module_version": "1.5.0",
          "state": {
            "_model_module": "@jupyter-widgets/controls",
            "_model_module_version": "1.5.0",
            "_model_name": "DescriptionStyleModel",
            "_view_count": null,
            "_view_module": "@jupyter-widgets/base",
            "_view_module_version": "1.2.0",
            "_view_name": "StyleView",
            "description_width": ""
          }
        },
        "53001caa529041409f26476480a3a098": {
          "model_module": "@jupyter-widgets/controls",
          "model_name": "HBoxModel",
          "model_module_version": "1.5.0",
          "state": {
            "_dom_classes": [],
            "_model_module": "@jupyter-widgets/controls",
            "_model_module_version": "1.5.0",
            "_model_name": "HBoxModel",
            "_view_count": null,
            "_view_module": "@jupyter-widgets/controls",
            "_view_module_version": "1.5.0",
            "_view_name": "HBoxView",
            "box_style": "",
            "children": [
              "IPY_MODEL_9c592784a031447e9e1347ae29f35f0f",
              "IPY_MODEL_68bcf9e825934691943574f9957a3ac4",
              "IPY_MODEL_88c46c7f1be84e158ae74defc3440cf6"
            ],
            "layout": "IPY_MODEL_e7b3e40667cb420db84605c45cec219d"
          }
        },
        "9c592784a031447e9e1347ae29f35f0f": {
          "model_module": "@jupyter-widgets/controls",
          "model_name": "HTMLModel",
          "model_module_version": "1.5.0",
          "state": {
            "_dom_classes": [],
            "_model_module": "@jupyter-widgets/controls",
            "_model_module_version": "1.5.0",
            "_model_name": "HTMLModel",
            "_view_count": null,
            "_view_module": "@jupyter-widgets/controls",
            "_view_module_version": "1.5.0",
            "_view_name": "HTMLView",
            "description": "",
            "description_tooltip": null,
            "layout": "IPY_MODEL_7b3008b9a5ed4e8684d54dc246ab3485",
            "placeholder": "​",
            "style": "IPY_MODEL_9742ee6ab40842f2a3dc56bade69af51",
            "value": "Downloading: 100%"
          }
        },
        "68bcf9e825934691943574f9957a3ac4": {
          "model_module": "@jupyter-widgets/controls",
          "model_name": "FloatProgressModel",
          "model_module_version": "1.5.0",
          "state": {
            "_dom_classes": [],
            "_model_module": "@jupyter-widgets/controls",
            "_model_module_version": "1.5.0",
            "_model_name": "FloatProgressModel",
            "_view_count": null,
            "_view_module": "@jupyter-widgets/controls",
            "_view_module_version": "1.5.0",
            "_view_name": "ProgressView",
            "bar_style": "success",
            "description": "",
            "description_tooltip": null,
            "layout": "IPY_MODEL_316aeaf0b65f4d7697f7d9efbb753329",
            "max": 574298,
            "min": 0,
            "orientation": "horizontal",
            "style": "IPY_MODEL_e33b629b202442718e593e30ac48e937",
            "value": 574298
          }
        },
        "88c46c7f1be84e158ae74defc3440cf6": {
          "model_module": "@jupyter-widgets/controls",
          "model_name": "HTMLModel",
          "model_module_version": "1.5.0",
          "state": {
            "_dom_classes": [],
            "_model_module": "@jupyter-widgets/controls",
            "_model_module_version": "1.5.0",
            "_model_name": "HTMLModel",
            "_view_count": null,
            "_view_module": "@jupyter-widgets/controls",
            "_view_module_version": "1.5.0",
            "_view_name": "HTMLView",
            "description": "",
            "description_tooltip": null,
            "layout": "IPY_MODEL_966a52f207054d04a002c12898f9ce52",
            "placeholder": "​",
            "style": "IPY_MODEL_da14f65051dd493cbfc2cbfb946b9a2d",
            "value": " 561k/561k [00:00&lt;00:00, 968kB/s]"
          }
        },
        "e7b3e40667cb420db84605c45cec219d": {
          "model_module": "@jupyter-widgets/base",
          "model_name": "LayoutModel",
          "model_module_version": "1.2.0",
          "state": {
            "_model_module": "@jupyter-widgets/base",
            "_model_module_version": "1.2.0",
            "_model_name": "LayoutModel",
            "_view_count": null,
            "_view_module": "@jupyter-widgets/base",
            "_view_module_version": "1.2.0",
            "_view_name": "LayoutView",
            "align_content": null,
            "align_items": null,
            "align_self": null,
            "border": null,
            "bottom": null,
            "display": null,
            "flex": null,
            "flex_flow": null,
            "grid_area": null,
            "grid_auto_columns": null,
            "grid_auto_flow": null,
            "grid_auto_rows": null,
            "grid_column": null,
            "grid_gap": null,
            "grid_row": null,
            "grid_template_areas": null,
            "grid_template_columns": null,
            "grid_template_rows": null,
            "height": null,
            "justify_content": null,
            "justify_items": null,
            "left": null,
            "margin": null,
            "max_height": null,
            "max_width": null,
            "min_height": null,
            "min_width": null,
            "object_fit": null,
            "object_position": null,
            "order": null,
            "overflow": null,
            "overflow_x": null,
            "overflow_y": null,
            "padding": null,
            "right": null,
            "top": null,
            "visibility": null,
            "width": null
          }
        },
        "7b3008b9a5ed4e8684d54dc246ab3485": {
          "model_module": "@jupyter-widgets/base",
          "model_name": "LayoutModel",
          "model_module_version": "1.2.0",
          "state": {
            "_model_module": "@jupyter-widgets/base",
            "_model_module_version": "1.2.0",
            "_model_name": "LayoutModel",
            "_view_count": null,
            "_view_module": "@jupyter-widgets/base",
            "_view_module_version": "1.2.0",
            "_view_name": "LayoutView",
            "align_content": null,
            "align_items": null,
            "align_self": null,
            "border": null,
            "bottom": null,
            "display": null,
            "flex": null,
            "flex_flow": null,
            "grid_area": null,
            "grid_auto_columns": null,
            "grid_auto_flow": null,
            "grid_auto_rows": null,
            "grid_column": null,
            "grid_gap": null,
            "grid_row": null,
            "grid_template_areas": null,
            "grid_template_columns": null,
            "grid_template_rows": null,
            "height": null,
            "justify_content": null,
            "justify_items": null,
            "left": null,
            "margin": null,
            "max_height": null,
            "max_width": null,
            "min_height": null,
            "min_width": null,
            "object_fit": null,
            "object_position": null,
            "order": null,
            "overflow": null,
            "overflow_x": null,
            "overflow_y": null,
            "padding": null,
            "right": null,
            "top": null,
            "visibility": null,
            "width": null
          }
        },
        "9742ee6ab40842f2a3dc56bade69af51": {
          "model_module": "@jupyter-widgets/controls",
          "model_name": "DescriptionStyleModel",
          "model_module_version": "1.5.0",
          "state": {
            "_model_module": "@jupyter-widgets/controls",
            "_model_module_version": "1.5.0",
            "_model_name": "DescriptionStyleModel",
            "_view_count": null,
            "_view_module": "@jupyter-widgets/base",
            "_view_module_version": "1.2.0",
            "_view_name": "StyleView",
            "description_width": ""
          }
        },
        "316aeaf0b65f4d7697f7d9efbb753329": {
          "model_module": "@jupyter-widgets/base",
          "model_name": "LayoutModel",
          "model_module_version": "1.2.0",
          "state": {
            "_model_module": "@jupyter-widgets/base",
            "_model_module_version": "1.2.0",
            "_model_name": "LayoutModel",
            "_view_count": null,
            "_view_module": "@jupyter-widgets/base",
            "_view_module_version": "1.2.0",
            "_view_name": "LayoutView",
            "align_content": null,
            "align_items": null,
            "align_self": null,
            "border": null,
            "bottom": null,
            "display": null,
            "flex": null,
            "flex_flow": null,
            "grid_area": null,
            "grid_auto_columns": null,
            "grid_auto_flow": null,
            "grid_auto_rows": null,
            "grid_column": null,
            "grid_gap": null,
            "grid_row": null,
            "grid_template_areas": null,
            "grid_template_columns": null,
            "grid_template_rows": null,
            "height": null,
            "justify_content": null,
            "justify_items": null,
            "left": null,
            "margin": null,
            "max_height": null,
            "max_width": null,
            "min_height": null,
            "min_width": null,
            "object_fit": null,
            "object_position": null,
            "order": null,
            "overflow": null,
            "overflow_x": null,
            "overflow_y": null,
            "padding": null,
            "right": null,
            "top": null,
            "visibility": null,
            "width": null
          }
        },
        "e33b629b202442718e593e30ac48e937": {
          "model_module": "@jupyter-widgets/controls",
          "model_name": "ProgressStyleModel",
          "model_module_version": "1.5.0",
          "state": {
            "_model_module": "@jupyter-widgets/controls",
            "_model_module_version": "1.5.0",
            "_model_name": "ProgressStyleModel",
            "_view_count": null,
            "_view_module": "@jupyter-widgets/base",
            "_view_module_version": "1.2.0",
            "_view_name": "StyleView",
            "bar_color": null,
            "description_width": ""
          }
        },
        "966a52f207054d04a002c12898f9ce52": {
          "model_module": "@jupyter-widgets/base",
          "model_name": "LayoutModel",
          "model_module_version": "1.2.0",
          "state": {
            "_model_module": "@jupyter-widgets/base",
            "_model_module_version": "1.2.0",
            "_model_name": "LayoutModel",
            "_view_count": null,
            "_view_module": "@jupyter-widgets/base",
            "_view_module_version": "1.2.0",
            "_view_name": "LayoutView",
            "align_content": null,
            "align_items": null,
            "align_self": null,
            "border": null,
            "bottom": null,
            "display": null,
            "flex": null,
            "flex_flow": null,
            "grid_area": null,
            "grid_auto_columns": null,
            "grid_auto_flow": null,
            "grid_auto_rows": null,
            "grid_column": null,
            "grid_gap": null,
            "grid_row": null,
            "grid_template_areas": null,
            "grid_template_columns": null,
            "grid_template_rows": null,
            "height": null,
            "justify_content": null,
            "justify_items": null,
            "left": null,
            "margin": null,
            "max_height": null,
            "max_width": null,
            "min_height": null,
            "min_width": null,
            "object_fit": null,
            "object_position": null,
            "order": null,
            "overflow": null,
            "overflow_x": null,
            "overflow_y": null,
            "padding": null,
            "right": null,
            "top": null,
            "visibility": null,
            "width": null
          }
        },
        "da14f65051dd493cbfc2cbfb946b9a2d": {
          "model_module": "@jupyter-widgets/controls",
          "model_name": "DescriptionStyleModel",
          "model_module_version": "1.5.0",
          "state": {
            "_model_module": "@jupyter-widgets/controls",
            "_model_module_version": "1.5.0",
            "_model_name": "DescriptionStyleModel",
            "_view_count": null,
            "_view_module": "@jupyter-widgets/base",
            "_view_module_version": "1.2.0",
            "_view_name": "StyleView",
            "description_width": ""
          }
        },
        "ca74a47e723447deadd9776b48a63ba8": {
          "model_module": "@jupyter-widgets/controls",
          "model_name": "HBoxModel",
          "model_module_version": "1.5.0",
          "state": {
            "_dom_classes": [],
            "_model_module": "@jupyter-widgets/controls",
            "_model_module_version": "1.5.0",
            "_model_name": "HBoxModel",
            "_view_count": null,
            "_view_module": "@jupyter-widgets/controls",
            "_view_module_version": "1.5.0",
            "_view_name": "HBoxView",
            "box_style": "",
            "children": [
              "IPY_MODEL_897aff3ce564460181cf398615adfd9f",
              "IPY_MODEL_bbf757f012bc443dabcd808a8e632858",
              "IPY_MODEL_386d7d2a64fd4e1c95ac9124a85f0a70"
            ],
            "layout": "IPY_MODEL_4ea79219fa88416ab05a5d6dfc5f5d0a"
          }
        },
        "897aff3ce564460181cf398615adfd9f": {
          "model_module": "@jupyter-widgets/controls",
          "model_name": "HTMLModel",
          "model_module_version": "1.5.0",
          "state": {
            "_dom_classes": [],
            "_model_module": "@jupyter-widgets/controls",
            "_model_module_version": "1.5.0",
            "_model_name": "HTMLModel",
            "_view_count": null,
            "_view_module": "@jupyter-widgets/controls",
            "_view_module_version": "1.5.0",
            "_view_name": "HTMLView",
            "description": "",
            "description_tooltip": null,
            "layout": "IPY_MODEL_f40b3d451029410ab8fd27e45bfd7d42",
            "placeholder": "​",
            "style": "IPY_MODEL_9dc05e084db24a0fb85a3751b1d33efb",
            "value": "Downloading: 100%"
          }
        },
        "bbf757f012bc443dabcd808a8e632858": {
          "model_module": "@jupyter-widgets/controls",
          "model_name": "FloatProgressModel",
          "model_module_version": "1.5.0",
          "state": {
            "_dom_classes": [],
            "_model_module": "@jupyter-widgets/controls",
            "_model_module_version": "1.5.0",
            "_model_name": "FloatProgressModel",
            "_view_count": null,
            "_view_module": "@jupyter-widgets/controls",
            "_view_module_version": "1.5.0",
            "_view_name": "ProgressView",
            "bar_style": "success",
            "description": "",
            "description_tooltip": null,
            "layout": "IPY_MODEL_96a8aa4aa361449fad5b3a2b52adef75",
            "max": 305,
            "min": 0,
            "orientation": "horizontal",
            "style": "IPY_MODEL_017632aa6a95405897366c6b8796aa11",
            "value": 305
          }
        },
        "386d7d2a64fd4e1c95ac9124a85f0a70": {
          "model_module": "@jupyter-widgets/controls",
          "model_name": "HTMLModel",
          "model_module_version": "1.5.0",
          "state": {
            "_dom_classes": [],
            "_model_module": "@jupyter-widgets/controls",
            "_model_module_version": "1.5.0",
            "_model_name": "HTMLModel",
            "_view_count": null,
            "_view_module": "@jupyter-widgets/controls",
            "_view_module_version": "1.5.0",
            "_view_name": "HTMLView",
            "description": "",
            "description_tooltip": null,
            "layout": "IPY_MODEL_c3c8181d77bd4d6fab67bc2c742ae2c7",
            "placeholder": "​",
            "style": "IPY_MODEL_d06bdc68c48447c78822f6036fd5bb2d",
            "value": " 305/305 [00:00&lt;00:00, 2.30kB/s]"
          }
        },
        "4ea79219fa88416ab05a5d6dfc5f5d0a": {
          "model_module": "@jupyter-widgets/base",
          "model_name": "LayoutModel",
          "model_module_version": "1.2.0",
          "state": {
            "_model_module": "@jupyter-widgets/base",
            "_model_module_version": "1.2.0",
            "_model_name": "LayoutModel",
            "_view_count": null,
            "_view_module": "@jupyter-widgets/base",
            "_view_module_version": "1.2.0",
            "_view_name": "LayoutView",
            "align_content": null,
            "align_items": null,
            "align_self": null,
            "border": null,
            "bottom": null,
            "display": null,
            "flex": null,
            "flex_flow": null,
            "grid_area": null,
            "grid_auto_columns": null,
            "grid_auto_flow": null,
            "grid_auto_rows": null,
            "grid_column": null,
            "grid_gap": null,
            "grid_row": null,
            "grid_template_areas": null,
            "grid_template_columns": null,
            "grid_template_rows": null,
            "height": null,
            "justify_content": null,
            "justify_items": null,
            "left": null,
            "margin": null,
            "max_height": null,
            "max_width": null,
            "min_height": null,
            "min_width": null,
            "object_fit": null,
            "object_position": null,
            "order": null,
            "overflow": null,
            "overflow_x": null,
            "overflow_y": null,
            "padding": null,
            "right": null,
            "top": null,
            "visibility": null,
            "width": null
          }
        },
        "f40b3d451029410ab8fd27e45bfd7d42": {
          "model_module": "@jupyter-widgets/base",
          "model_name": "LayoutModel",
          "model_module_version": "1.2.0",
          "state": {
            "_model_module": "@jupyter-widgets/base",
            "_model_module_version": "1.2.0",
            "_model_name": "LayoutModel",
            "_view_count": null,
            "_view_module": "@jupyter-widgets/base",
            "_view_module_version": "1.2.0",
            "_view_name": "LayoutView",
            "align_content": null,
            "align_items": null,
            "align_self": null,
            "border": null,
            "bottom": null,
            "display": null,
            "flex": null,
            "flex_flow": null,
            "grid_area": null,
            "grid_auto_columns": null,
            "grid_auto_flow": null,
            "grid_auto_rows": null,
            "grid_column": null,
            "grid_gap": null,
            "grid_row": null,
            "grid_template_areas": null,
            "grid_template_columns": null,
            "grid_template_rows": null,
            "height": null,
            "justify_content": null,
            "justify_items": null,
            "left": null,
            "margin": null,
            "max_height": null,
            "max_width": null,
            "min_height": null,
            "min_width": null,
            "object_fit": null,
            "object_position": null,
            "order": null,
            "overflow": null,
            "overflow_x": null,
            "overflow_y": null,
            "padding": null,
            "right": null,
            "top": null,
            "visibility": null,
            "width": null
          }
        },
        "9dc05e084db24a0fb85a3751b1d33efb": {
          "model_module": "@jupyter-widgets/controls",
          "model_name": "DescriptionStyleModel",
          "model_module_version": "1.5.0",
          "state": {
            "_model_module": "@jupyter-widgets/controls",
            "_model_module_version": "1.5.0",
            "_model_name": "DescriptionStyleModel",
            "_view_count": null,
            "_view_module": "@jupyter-widgets/base",
            "_view_module_version": "1.2.0",
            "_view_name": "StyleView",
            "description_width": ""
          }
        },
        "96a8aa4aa361449fad5b3a2b52adef75": {
          "model_module": "@jupyter-widgets/base",
          "model_name": "LayoutModel",
          "model_module_version": "1.2.0",
          "state": {
            "_model_module": "@jupyter-widgets/base",
            "_model_module_version": "1.2.0",
            "_model_name": "LayoutModel",
            "_view_count": null,
            "_view_module": "@jupyter-widgets/base",
            "_view_module_version": "1.2.0",
            "_view_name": "LayoutView",
            "align_content": null,
            "align_items": null,
            "align_self": null,
            "border": null,
            "bottom": null,
            "display": null,
            "flex": null,
            "flex_flow": null,
            "grid_area": null,
            "grid_auto_columns": null,
            "grid_auto_flow": null,
            "grid_auto_rows": null,
            "grid_column": null,
            "grid_gap": null,
            "grid_row": null,
            "grid_template_areas": null,
            "grid_template_columns": null,
            "grid_template_rows": null,
            "height": null,
            "justify_content": null,
            "justify_items": null,
            "left": null,
            "margin": null,
            "max_height": null,
            "max_width": null,
            "min_height": null,
            "min_width": null,
            "object_fit": null,
            "object_position": null,
            "order": null,
            "overflow": null,
            "overflow_x": null,
            "overflow_y": null,
            "padding": null,
            "right": null,
            "top": null,
            "visibility": null,
            "width": null
          }
        },
        "017632aa6a95405897366c6b8796aa11": {
          "model_module": "@jupyter-widgets/controls",
          "model_name": "ProgressStyleModel",
          "model_module_version": "1.5.0",
          "state": {
            "_model_module": "@jupyter-widgets/controls",
            "_model_module_version": "1.5.0",
            "_model_name": "ProgressStyleModel",
            "_view_count": null,
            "_view_module": "@jupyter-widgets/base",
            "_view_module_version": "1.2.0",
            "_view_name": "StyleView",
            "bar_color": null,
            "description_width": ""
          }
        },
        "c3c8181d77bd4d6fab67bc2c742ae2c7": {
          "model_module": "@jupyter-widgets/base",
          "model_name": "LayoutModel",
          "model_module_version": "1.2.0",
          "state": {
            "_model_module": "@jupyter-widgets/base",
            "_model_module_version": "1.2.0",
            "_model_name": "LayoutModel",
            "_view_count": null,
            "_view_module": "@jupyter-widgets/base",
            "_view_module_version": "1.2.0",
            "_view_name": "LayoutView",
            "align_content": null,
            "align_items": null,
            "align_self": null,
            "border": null,
            "bottom": null,
            "display": null,
            "flex": null,
            "flex_flow": null,
            "grid_area": null,
            "grid_auto_columns": null,
            "grid_auto_flow": null,
            "grid_auto_rows": null,
            "grid_column": null,
            "grid_gap": null,
            "grid_row": null,
            "grid_template_areas": null,
            "grid_template_columns": null,
            "grid_template_rows": null,
            "height": null,
            "justify_content": null,
            "justify_items": null,
            "left": null,
            "margin": null,
            "max_height": null,
            "max_width": null,
            "min_height": null,
            "min_width": null,
            "object_fit": null,
            "object_position": null,
            "order": null,
            "overflow": null,
            "overflow_x": null,
            "overflow_y": null,
            "padding": null,
            "right": null,
            "top": null,
            "visibility": null,
            "width": null
          }
        },
        "d06bdc68c48447c78822f6036fd5bb2d": {
          "model_module": "@jupyter-widgets/controls",
          "model_name": "DescriptionStyleModel",
          "model_module_version": "1.5.0",
          "state": {
            "_model_module": "@jupyter-widgets/controls",
            "_model_module_version": "1.5.0",
            "_model_name": "DescriptionStyleModel",
            "_view_count": null,
            "_view_module": "@jupyter-widgets/base",
            "_view_module_version": "1.2.0",
            "_view_name": "StyleView",
            "description_width": ""
          }
        },
        "001b264ec92247949e35250936a39752": {
          "model_module": "@jupyter-widgets/controls",
          "model_name": "HBoxModel",
          "model_module_version": "1.5.0",
          "state": {
            "_dom_classes": [],
            "_model_module": "@jupyter-widgets/controls",
            "_model_module_version": "1.5.0",
            "_model_name": "HBoxModel",
            "_view_count": null,
            "_view_module": "@jupyter-widgets/controls",
            "_view_module_version": "1.5.0",
            "_view_name": "HBoxView",
            "box_style": "",
            "children": [
              "IPY_MODEL_2c76a2272af0431cb9b1adf34badeea6",
              "IPY_MODEL_302079c2b53540cf9e1ca602486138b2",
              "IPY_MODEL_97339008a6864b8e88eb7d656a433492"
            ],
            "layout": "IPY_MODEL_31f58c663d594ca6a70a7cf92b614108"
          }
        },
        "2c76a2272af0431cb9b1adf34badeea6": {
          "model_module": "@jupyter-widgets/controls",
          "model_name": "HTMLModel",
          "model_module_version": "1.5.0",
          "state": {
            "_dom_classes": [],
            "_model_module": "@jupyter-widgets/controls",
            "_model_module_version": "1.5.0",
            "_model_name": "HTMLModel",
            "_view_count": null,
            "_view_module": "@jupyter-widgets/controls",
            "_view_module_version": "1.5.0",
            "_view_name": "HTMLView",
            "description": "",
            "description_tooltip": null,
            "layout": "IPY_MODEL_b117227ee767425184edf4fec991b9c2",
            "placeholder": "​",
            "style": "IPY_MODEL_5e91ca10774646adb339c4b82d3958b1",
            "value": "Downloading: 100%"
          }
        },
        "302079c2b53540cf9e1ca602486138b2": {
          "model_module": "@jupyter-widgets/controls",
          "model_name": "FloatProgressModel",
          "model_module_version": "1.5.0",
          "state": {
            "_dom_classes": [],
            "_model_module": "@jupyter-widgets/controls",
            "_model_module_version": "1.5.0",
            "_model_name": "FloatProgressModel",
            "_view_count": null,
            "_view_module": "@jupyter-widgets/controls",
            "_view_module_version": "1.5.0",
            "_view_name": "ProgressView",
            "bar_style": "success",
            "description": "",
            "description_tooltip": null,
            "layout": "IPY_MODEL_66a0b8e5b1df4ef08378570ac5dd3b2a",
            "max": 2038,
            "min": 0,
            "orientation": "horizontal",
            "style": "IPY_MODEL_6daf3f3c815543a6827c507b784983f3",
            "value": 2038
          }
        },
        "97339008a6864b8e88eb7d656a433492": {
          "model_module": "@jupyter-widgets/controls",
          "model_name": "HTMLModel",
          "model_module_version": "1.5.0",
          "state": {
            "_dom_classes": [],
            "_model_module": "@jupyter-widgets/controls",
            "_model_module_version": "1.5.0",
            "_model_name": "HTMLModel",
            "_view_count": null,
            "_view_module": "@jupyter-widgets/controls",
            "_view_module_version": "1.5.0",
            "_view_name": "HTMLView",
            "description": "",
            "description_tooltip": null,
            "layout": "IPY_MODEL_ef80355b68444119854e09bf6c1d4a30",
            "placeholder": "​",
            "style": "IPY_MODEL_64837af530244c6da030bedb3468d139",
            "value": " 1.99k/1.99k [00:00&lt;00:00, 6.54kB/s]"
          }
        },
        "31f58c663d594ca6a70a7cf92b614108": {
          "model_module": "@jupyter-widgets/base",
          "model_name": "LayoutModel",
          "model_module_version": "1.2.0",
          "state": {
            "_model_module": "@jupyter-widgets/base",
            "_model_module_version": "1.2.0",
            "_model_name": "LayoutModel",
            "_view_count": null,
            "_view_module": "@jupyter-widgets/base",
            "_view_module_version": "1.2.0",
            "_view_name": "LayoutView",
            "align_content": null,
            "align_items": null,
            "align_self": null,
            "border": null,
            "bottom": null,
            "display": null,
            "flex": null,
            "flex_flow": null,
            "grid_area": null,
            "grid_auto_columns": null,
            "grid_auto_flow": null,
            "grid_auto_rows": null,
            "grid_column": null,
            "grid_gap": null,
            "grid_row": null,
            "grid_template_areas": null,
            "grid_template_columns": null,
            "grid_template_rows": null,
            "height": null,
            "justify_content": null,
            "justify_items": null,
            "left": null,
            "margin": null,
            "max_height": null,
            "max_width": null,
            "min_height": null,
            "min_width": null,
            "object_fit": null,
            "object_position": null,
            "order": null,
            "overflow": null,
            "overflow_x": null,
            "overflow_y": null,
            "padding": null,
            "right": null,
            "top": null,
            "visibility": null,
            "width": null
          }
        },
        "b117227ee767425184edf4fec991b9c2": {
          "model_module": "@jupyter-widgets/base",
          "model_name": "LayoutModel",
          "model_module_version": "1.2.0",
          "state": {
            "_model_module": "@jupyter-widgets/base",
            "_model_module_version": "1.2.0",
            "_model_name": "LayoutModel",
            "_view_count": null,
            "_view_module": "@jupyter-widgets/base",
            "_view_module_version": "1.2.0",
            "_view_name": "LayoutView",
            "align_content": null,
            "align_items": null,
            "align_self": null,
            "border": null,
            "bottom": null,
            "display": null,
            "flex": null,
            "flex_flow": null,
            "grid_area": null,
            "grid_auto_columns": null,
            "grid_auto_flow": null,
            "grid_auto_rows": null,
            "grid_column": null,
            "grid_gap": null,
            "grid_row": null,
            "grid_template_areas": null,
            "grid_template_columns": null,
            "grid_template_rows": null,
            "height": null,
            "justify_content": null,
            "justify_items": null,
            "left": null,
            "margin": null,
            "max_height": null,
            "max_width": null,
            "min_height": null,
            "min_width": null,
            "object_fit": null,
            "object_position": null,
            "order": null,
            "overflow": null,
            "overflow_x": null,
            "overflow_y": null,
            "padding": null,
            "right": null,
            "top": null,
            "visibility": null,
            "width": null
          }
        },
        "5e91ca10774646adb339c4b82d3958b1": {
          "model_module": "@jupyter-widgets/controls",
          "model_name": "DescriptionStyleModel",
          "model_module_version": "1.5.0",
          "state": {
            "_model_module": "@jupyter-widgets/controls",
            "_model_module_version": "1.5.0",
            "_model_name": "DescriptionStyleModel",
            "_view_count": null,
            "_view_module": "@jupyter-widgets/base",
            "_view_module_version": "1.2.0",
            "_view_name": "StyleView",
            "description_width": ""
          }
        },
        "66a0b8e5b1df4ef08378570ac5dd3b2a": {
          "model_module": "@jupyter-widgets/base",
          "model_name": "LayoutModel",
          "model_module_version": "1.2.0",
          "state": {
            "_model_module": "@jupyter-widgets/base",
            "_model_module_version": "1.2.0",
            "_model_name": "LayoutModel",
            "_view_count": null,
            "_view_module": "@jupyter-widgets/base",
            "_view_module_version": "1.2.0",
            "_view_name": "LayoutView",
            "align_content": null,
            "align_items": null,
            "align_self": null,
            "border": null,
            "bottom": null,
            "display": null,
            "flex": null,
            "flex_flow": null,
            "grid_area": null,
            "grid_auto_columns": null,
            "grid_auto_flow": null,
            "grid_auto_rows": null,
            "grid_column": null,
            "grid_gap": null,
            "grid_row": null,
            "grid_template_areas": null,
            "grid_template_columns": null,
            "grid_template_rows": null,
            "height": null,
            "justify_content": null,
            "justify_items": null,
            "left": null,
            "margin": null,
            "max_height": null,
            "max_width": null,
            "min_height": null,
            "min_width": null,
            "object_fit": null,
            "object_position": null,
            "order": null,
            "overflow": null,
            "overflow_x": null,
            "overflow_y": null,
            "padding": null,
            "right": null,
            "top": null,
            "visibility": null,
            "width": null
          }
        },
        "6daf3f3c815543a6827c507b784983f3": {
          "model_module": "@jupyter-widgets/controls",
          "model_name": "ProgressStyleModel",
          "model_module_version": "1.5.0",
          "state": {
            "_model_module": "@jupyter-widgets/controls",
            "_model_module_version": "1.5.0",
            "_model_name": "ProgressStyleModel",
            "_view_count": null,
            "_view_module": "@jupyter-widgets/base",
            "_view_module_version": "1.2.0",
            "_view_name": "StyleView",
            "bar_color": null,
            "description_width": ""
          }
        },
        "ef80355b68444119854e09bf6c1d4a30": {
          "model_module": "@jupyter-widgets/base",
          "model_name": "LayoutModel",
          "model_module_version": "1.2.0",
          "state": {
            "_model_module": "@jupyter-widgets/base",
            "_model_module_version": "1.2.0",
            "_model_name": "LayoutModel",
            "_view_count": null,
            "_view_module": "@jupyter-widgets/base",
            "_view_module_version": "1.2.0",
            "_view_name": "LayoutView",
            "align_content": null,
            "align_items": null,
            "align_self": null,
            "border": null,
            "bottom": null,
            "display": null,
            "flex": null,
            "flex_flow": null,
            "grid_area": null,
            "grid_auto_columns": null,
            "grid_auto_flow": null,
            "grid_auto_rows": null,
            "grid_column": null,
            "grid_gap": null,
            "grid_row": null,
            "grid_template_areas": null,
            "grid_template_columns": null,
            "grid_template_rows": null,
            "height": null,
            "justify_content": null,
            "justify_items": null,
            "left": null,
            "margin": null,
            "max_height": null,
            "max_width": null,
            "min_height": null,
            "min_width": null,
            "object_fit": null,
            "object_position": null,
            "order": null,
            "overflow": null,
            "overflow_x": null,
            "overflow_y": null,
            "padding": null,
            "right": null,
            "top": null,
            "visibility": null,
            "width": null
          }
        },
        "64837af530244c6da030bedb3468d139": {
          "model_module": "@jupyter-widgets/controls",
          "model_name": "DescriptionStyleModel",
          "model_module_version": "1.5.0",
          "state": {
            "_model_module": "@jupyter-widgets/controls",
            "_model_module_version": "1.5.0",
            "_model_name": "DescriptionStyleModel",
            "_view_count": null,
            "_view_module": "@jupyter-widgets/base",
            "_view_module_version": "1.2.0",
            "_view_name": "StyleView",
            "description_width": ""
          }
        },
        "86b3062d5ec04059a3585b0edcb9c134": {
          "model_module": "@jupyter-widgets/controls",
          "model_name": "HBoxModel",
          "model_module_version": "1.5.0",
          "state": {
            "_dom_classes": [],
            "_model_module": "@jupyter-widgets/controls",
            "_model_module_version": "1.5.0",
            "_model_name": "HBoxModel",
            "_view_count": null,
            "_view_module": "@jupyter-widgets/controls",
            "_view_module_version": "1.5.0",
            "_view_name": "HBoxView",
            "box_style": "",
            "children": [
              "IPY_MODEL_92f316e6e160450080d640cef451b571",
              "IPY_MODEL_4e0f8a5e3ff944a2b07e5a441fe064f2",
              "IPY_MODEL_03e92978c3a84da8878904595b395bb3"
            ],
            "layout": "IPY_MODEL_98038abb788f48429c4a90ded5e65ad9"
          }
        },
        "92f316e6e160450080d640cef451b571": {
          "model_module": "@jupyter-widgets/controls",
          "model_name": "HTMLModel",
          "model_module_version": "1.5.0",
          "state": {
            "_dom_classes": [],
            "_model_module": "@jupyter-widgets/controls",
            "_model_module_version": "1.5.0",
            "_model_name": "HTMLModel",
            "_view_count": null,
            "_view_module": "@jupyter-widgets/controls",
            "_view_module_version": "1.5.0",
            "_view_name": "HTMLView",
            "description": "",
            "description_tooltip": null,
            "layout": "IPY_MODEL_af891f442d4e440e871804ea3e3103b6",
            "placeholder": "​",
            "style": "IPY_MODEL_04cda20618844efe898e6c1d77e9fe38",
            "value": "Downloading: 100%"
          }
        },
        "4e0f8a5e3ff944a2b07e5a441fe064f2": {
          "model_module": "@jupyter-widgets/controls",
          "model_name": "FloatProgressModel",
          "model_module_version": "1.5.0",
          "state": {
            "_dom_classes": [],
            "_model_module": "@jupyter-widgets/controls",
            "_model_module_version": "1.5.0",
            "_model_name": "FloatProgressModel",
            "_view_count": null,
            "_view_module": "@jupyter-widgets/controls",
            "_view_module_version": "1.5.0",
            "_view_name": "ProgressView",
            "bar_style": "success",
            "description": "",
            "description_tooltip": null,
            "layout": "IPY_MODEL_09fe157713eb49c8b571f4bd8d789e83",
            "max": 553030261,
            "min": 0,
            "orientation": "horizontal",
            "style": "IPY_MODEL_35daea571bff4419acacb671fcbeb14b",
            "value": 553030261
          }
        },
        "03e92978c3a84da8878904595b395bb3": {
          "model_module": "@jupyter-widgets/controls",
          "model_name": "HTMLModel",
          "model_module_version": "1.5.0",
          "state": {
            "_dom_classes": [],
            "_model_module": "@jupyter-widgets/controls",
            "_model_module_version": "1.5.0",
            "_model_name": "HTMLModel",
            "_view_count": null,
            "_view_module": "@jupyter-widgets/controls",
            "_view_module_version": "1.5.0",
            "_view_name": "HTMLView",
            "description": "",
            "description_tooltip": null,
            "layout": "IPY_MODEL_96b3fb0bb35849aa9d5fca050f1cf738",
            "placeholder": "​",
            "style": "IPY_MODEL_75fb6b7b3368442f921e225f59a490c0",
            "value": " 527M/527M [00:32&lt;00:00, 23.2MB/s]"
          }
        },
        "98038abb788f48429c4a90ded5e65ad9": {
          "model_module": "@jupyter-widgets/base",
          "model_name": "LayoutModel",
          "model_module_version": "1.2.0",
          "state": {
            "_model_module": "@jupyter-widgets/base",
            "_model_module_version": "1.2.0",
            "_model_name": "LayoutModel",
            "_view_count": null,
            "_view_module": "@jupyter-widgets/base",
            "_view_module_version": "1.2.0",
            "_view_name": "LayoutView",
            "align_content": null,
            "align_items": null,
            "align_self": null,
            "border": null,
            "bottom": null,
            "display": null,
            "flex": null,
            "flex_flow": null,
            "grid_area": null,
            "grid_auto_columns": null,
            "grid_auto_flow": null,
            "grid_auto_rows": null,
            "grid_column": null,
            "grid_gap": null,
            "grid_row": null,
            "grid_template_areas": null,
            "grid_template_columns": null,
            "grid_template_rows": null,
            "height": null,
            "justify_content": null,
            "justify_items": null,
            "left": null,
            "margin": null,
            "max_height": null,
            "max_width": null,
            "min_height": null,
            "min_width": null,
            "object_fit": null,
            "object_position": null,
            "order": null,
            "overflow": null,
            "overflow_x": null,
            "overflow_y": null,
            "padding": null,
            "right": null,
            "top": null,
            "visibility": null,
            "width": null
          }
        },
        "af891f442d4e440e871804ea3e3103b6": {
          "model_module": "@jupyter-widgets/base",
          "model_name": "LayoutModel",
          "model_module_version": "1.2.0",
          "state": {
            "_model_module": "@jupyter-widgets/base",
            "_model_module_version": "1.2.0",
            "_model_name": "LayoutModel",
            "_view_count": null,
            "_view_module": "@jupyter-widgets/base",
            "_view_module_version": "1.2.0",
            "_view_name": "LayoutView",
            "align_content": null,
            "align_items": null,
            "align_self": null,
            "border": null,
            "bottom": null,
            "display": null,
            "flex": null,
            "flex_flow": null,
            "grid_area": null,
            "grid_auto_columns": null,
            "grid_auto_flow": null,
            "grid_auto_rows": null,
            "grid_column": null,
            "grid_gap": null,
            "grid_row": null,
            "grid_template_areas": null,
            "grid_template_columns": null,
            "grid_template_rows": null,
            "height": null,
            "justify_content": null,
            "justify_items": null,
            "left": null,
            "margin": null,
            "max_height": null,
            "max_width": null,
            "min_height": null,
            "min_width": null,
            "object_fit": null,
            "object_position": null,
            "order": null,
            "overflow": null,
            "overflow_x": null,
            "overflow_y": null,
            "padding": null,
            "right": null,
            "top": null,
            "visibility": null,
            "width": null
          }
        },
        "04cda20618844efe898e6c1d77e9fe38": {
          "model_module": "@jupyter-widgets/controls",
          "model_name": "DescriptionStyleModel",
          "model_module_version": "1.5.0",
          "state": {
            "_model_module": "@jupyter-widgets/controls",
            "_model_module_version": "1.5.0",
            "_model_name": "DescriptionStyleModel",
            "_view_count": null,
            "_view_module": "@jupyter-widgets/base",
            "_view_module_version": "1.2.0",
            "_view_name": "StyleView",
            "description_width": ""
          }
        },
        "09fe157713eb49c8b571f4bd8d789e83": {
          "model_module": "@jupyter-widgets/base",
          "model_name": "LayoutModel",
          "model_module_version": "1.2.0",
          "state": {
            "_model_module": "@jupyter-widgets/base",
            "_model_module_version": "1.2.0",
            "_model_name": "LayoutModel",
            "_view_count": null,
            "_view_module": "@jupyter-widgets/base",
            "_view_module_version": "1.2.0",
            "_view_name": "LayoutView",
            "align_content": null,
            "align_items": null,
            "align_self": null,
            "border": null,
            "bottom": null,
            "display": null,
            "flex": null,
            "flex_flow": null,
            "grid_area": null,
            "grid_auto_columns": null,
            "grid_auto_flow": null,
            "grid_auto_rows": null,
            "grid_column": null,
            "grid_gap": null,
            "grid_row": null,
            "grid_template_areas": null,
            "grid_template_columns": null,
            "grid_template_rows": null,
            "height": null,
            "justify_content": null,
            "justify_items": null,
            "left": null,
            "margin": null,
            "max_height": null,
            "max_width": null,
            "min_height": null,
            "min_width": null,
            "object_fit": null,
            "object_position": null,
            "order": null,
            "overflow": null,
            "overflow_x": null,
            "overflow_y": null,
            "padding": null,
            "right": null,
            "top": null,
            "visibility": null,
            "width": null
          }
        },
        "35daea571bff4419acacb671fcbeb14b": {
          "model_module": "@jupyter-widgets/controls",
          "model_name": "ProgressStyleModel",
          "model_module_version": "1.5.0",
          "state": {
            "_model_module": "@jupyter-widgets/controls",
            "_model_module_version": "1.5.0",
            "_model_name": "ProgressStyleModel",
            "_view_count": null,
            "_view_module": "@jupyter-widgets/base",
            "_view_module_version": "1.2.0",
            "_view_name": "StyleView",
            "bar_color": null,
            "description_width": ""
          }
        },
        "96b3fb0bb35849aa9d5fca050f1cf738": {
          "model_module": "@jupyter-widgets/base",
          "model_name": "LayoutModel",
          "model_module_version": "1.2.0",
          "state": {
            "_model_module": "@jupyter-widgets/base",
            "_model_module_version": "1.2.0",
            "_model_name": "LayoutModel",
            "_view_count": null,
            "_view_module": "@jupyter-widgets/base",
            "_view_module_version": "1.2.0",
            "_view_name": "LayoutView",
            "align_content": null,
            "align_items": null,
            "align_self": null,
            "border": null,
            "bottom": null,
            "display": null,
            "flex": null,
            "flex_flow": null,
            "grid_area": null,
            "grid_auto_columns": null,
            "grid_auto_flow": null,
            "grid_auto_rows": null,
            "grid_column": null,
            "grid_gap": null,
            "grid_row": null,
            "grid_template_areas": null,
            "grid_template_columns": null,
            "grid_template_rows": null,
            "height": null,
            "justify_content": null,
            "justify_items": null,
            "left": null,
            "margin": null,
            "max_height": null,
            "max_width": null,
            "min_height": null,
            "min_width": null,
            "object_fit": null,
            "object_position": null,
            "order": null,
            "overflow": null,
            "overflow_x": null,
            "overflow_y": null,
            "padding": null,
            "right": null,
            "top": null,
            "visibility": null,
            "width": null
          }
        },
        "75fb6b7b3368442f921e225f59a490c0": {
          "model_module": "@jupyter-widgets/controls",
          "model_name": "DescriptionStyleModel",
          "model_module_version": "1.5.0",
          "state": {
            "_model_module": "@jupyter-widgets/controls",
            "_model_module_version": "1.5.0",
            "_model_name": "DescriptionStyleModel",
            "_view_count": null,
            "_view_module": "@jupyter-widgets/base",
            "_view_module_version": "1.2.0",
            "_view_name": "StyleView",
            "description_width": ""
          }
        },
        "a141ad702c6f4455a49be12cacd8bea1": {
          "model_module": "@jupyter-widgets/controls",
          "model_name": "HBoxModel",
          "model_module_version": "1.5.0",
          "state": {
            "_dom_classes": [],
            "_model_module": "@jupyter-widgets/controls",
            "_model_module_version": "1.5.0",
            "_model_name": "HBoxModel",
            "_view_count": null,
            "_view_module": "@jupyter-widgets/controls",
            "_view_module_version": "1.5.0",
            "_view_name": "HBoxView",
            "box_style": "",
            "children": [
              "IPY_MODEL_e709280c99604969a9702dc64353b8db",
              "IPY_MODEL_2af6e52fd34c45718965feaa4f16c6d5",
              "IPY_MODEL_c912c8e854204a97b3feeb711adb7d4c"
            ],
            "layout": "IPY_MODEL_4c65343705d44032b4ec0000a966e829"
          }
        },
        "e709280c99604969a9702dc64353b8db": {
          "model_module": "@jupyter-widgets/controls",
          "model_name": "HTMLModel",
          "model_module_version": "1.5.0",
          "state": {
            "_dom_classes": [],
            "_model_module": "@jupyter-widgets/controls",
            "_model_module_version": "1.5.0",
            "_model_name": "HTMLModel",
            "_view_count": null,
            "_view_module": "@jupyter-widgets/controls",
            "_view_module_version": "1.5.0",
            "_view_name": "HTMLView",
            "description": "",
            "description_tooltip": null,
            "layout": "IPY_MODEL_69ac0a36573a4e76ab99492d4ebbfaf1",
            "placeholder": "​",
            "style": "IPY_MODEL_f22c77baa7a349babc8657cc7db509f5",
            "value": "100%"
          }
        },
        "2af6e52fd34c45718965feaa4f16c6d5": {
          "model_module": "@jupyter-widgets/controls",
          "model_name": "FloatProgressModel",
          "model_module_version": "1.5.0",
          "state": {
            "_dom_classes": [],
            "_model_module": "@jupyter-widgets/controls",
            "_model_module_version": "1.5.0",
            "_model_name": "FloatProgressModel",
            "_view_count": null,
            "_view_module": "@jupyter-widgets/controls",
            "_view_module_version": "1.5.0",
            "_view_name": "ProgressView",
            "bar_style": "success",
            "description": "",
            "description_tooltip": null,
            "layout": "IPY_MODEL_f42ded6723aa491da3fd987fb0a614a9",
            "max": 21401,
            "min": 0,
            "orientation": "horizontal",
            "style": "IPY_MODEL_4b144f79d9504eafafbb6445491cb809",
            "value": 21401
          }
        },
        "c912c8e854204a97b3feeb711adb7d4c": {
          "model_module": "@jupyter-widgets/controls",
          "model_name": "HTMLModel",
          "model_module_version": "1.5.0",
          "state": {
            "_dom_classes": [],
            "_model_module": "@jupyter-widgets/controls",
            "_model_module_version": "1.5.0",
            "_model_name": "HTMLModel",
            "_view_count": null,
            "_view_module": "@jupyter-widgets/controls",
            "_view_module_version": "1.5.0",
            "_view_name": "HTMLView",
            "description": "",
            "description_tooltip": null,
            "layout": "IPY_MODEL_da0ed4ebe87c44cf9ca745ee6c708564",
            "placeholder": "​",
            "style": "IPY_MODEL_0ed9bb42b019414da17755c7b709e51f",
            "value": " 21401/21401 [00:28&lt;00:00, 852.61it/s]"
          }
        },
        "4c65343705d44032b4ec0000a966e829": {
          "model_module": "@jupyter-widgets/base",
          "model_name": "LayoutModel",
          "model_module_version": "1.2.0",
          "state": {
            "_model_module": "@jupyter-widgets/base",
            "_model_module_version": "1.2.0",
            "_model_name": "LayoutModel",
            "_view_count": null,
            "_view_module": "@jupyter-widgets/base",
            "_view_module_version": "1.2.0",
            "_view_name": "LayoutView",
            "align_content": null,
            "align_items": null,
            "align_self": null,
            "border": null,
            "bottom": null,
            "display": null,
            "flex": null,
            "flex_flow": null,
            "grid_area": null,
            "grid_auto_columns": null,
            "grid_auto_flow": null,
            "grid_auto_rows": null,
            "grid_column": null,
            "grid_gap": null,
            "grid_row": null,
            "grid_template_areas": null,
            "grid_template_columns": null,
            "grid_template_rows": null,
            "height": null,
            "justify_content": null,
            "justify_items": null,
            "left": null,
            "margin": null,
            "max_height": null,
            "max_width": null,
            "min_height": null,
            "min_width": null,
            "object_fit": null,
            "object_position": null,
            "order": null,
            "overflow": null,
            "overflow_x": null,
            "overflow_y": null,
            "padding": null,
            "right": null,
            "top": null,
            "visibility": null,
            "width": null
          }
        },
        "69ac0a36573a4e76ab99492d4ebbfaf1": {
          "model_module": "@jupyter-widgets/base",
          "model_name": "LayoutModel",
          "model_module_version": "1.2.0",
          "state": {
            "_model_module": "@jupyter-widgets/base",
            "_model_module_version": "1.2.0",
            "_model_name": "LayoutModel",
            "_view_count": null,
            "_view_module": "@jupyter-widgets/base",
            "_view_module_version": "1.2.0",
            "_view_name": "LayoutView",
            "align_content": null,
            "align_items": null,
            "align_self": null,
            "border": null,
            "bottom": null,
            "display": null,
            "flex": null,
            "flex_flow": null,
            "grid_area": null,
            "grid_auto_columns": null,
            "grid_auto_flow": null,
            "grid_auto_rows": null,
            "grid_column": null,
            "grid_gap": null,
            "grid_row": null,
            "grid_template_areas": null,
            "grid_template_columns": null,
            "grid_template_rows": null,
            "height": null,
            "justify_content": null,
            "justify_items": null,
            "left": null,
            "margin": null,
            "max_height": null,
            "max_width": null,
            "min_height": null,
            "min_width": null,
            "object_fit": null,
            "object_position": null,
            "order": null,
            "overflow": null,
            "overflow_x": null,
            "overflow_y": null,
            "padding": null,
            "right": null,
            "top": null,
            "visibility": null,
            "width": null
          }
        },
        "f22c77baa7a349babc8657cc7db509f5": {
          "model_module": "@jupyter-widgets/controls",
          "model_name": "DescriptionStyleModel",
          "model_module_version": "1.5.0",
          "state": {
            "_model_module": "@jupyter-widgets/controls",
            "_model_module_version": "1.5.0",
            "_model_name": "DescriptionStyleModel",
            "_view_count": null,
            "_view_module": "@jupyter-widgets/base",
            "_view_module_version": "1.2.0",
            "_view_name": "StyleView",
            "description_width": ""
          }
        },
        "f42ded6723aa491da3fd987fb0a614a9": {
          "model_module": "@jupyter-widgets/base",
          "model_name": "LayoutModel",
          "model_module_version": "1.2.0",
          "state": {
            "_model_module": "@jupyter-widgets/base",
            "_model_module_version": "1.2.0",
            "_model_name": "LayoutModel",
            "_view_count": null,
            "_view_module": "@jupyter-widgets/base",
            "_view_module_version": "1.2.0",
            "_view_name": "LayoutView",
            "align_content": null,
            "align_items": null,
            "align_self": null,
            "border": null,
            "bottom": null,
            "display": null,
            "flex": null,
            "flex_flow": null,
            "grid_area": null,
            "grid_auto_columns": null,
            "grid_auto_flow": null,
            "grid_auto_rows": null,
            "grid_column": null,
            "grid_gap": null,
            "grid_row": null,
            "grid_template_areas": null,
            "grid_template_columns": null,
            "grid_template_rows": null,
            "height": null,
            "justify_content": null,
            "justify_items": null,
            "left": null,
            "margin": null,
            "max_height": null,
            "max_width": null,
            "min_height": null,
            "min_width": null,
            "object_fit": null,
            "object_position": null,
            "order": null,
            "overflow": null,
            "overflow_x": null,
            "overflow_y": null,
            "padding": null,
            "right": null,
            "top": null,
            "visibility": null,
            "width": null
          }
        },
        "4b144f79d9504eafafbb6445491cb809": {
          "model_module": "@jupyter-widgets/controls",
          "model_name": "ProgressStyleModel",
          "model_module_version": "1.5.0",
          "state": {
            "_model_module": "@jupyter-widgets/controls",
            "_model_module_version": "1.5.0",
            "_model_name": "ProgressStyleModel",
            "_view_count": null,
            "_view_module": "@jupyter-widgets/base",
            "_view_module_version": "1.2.0",
            "_view_name": "StyleView",
            "bar_color": null,
            "description_width": ""
          }
        },
        "da0ed4ebe87c44cf9ca745ee6c708564": {
          "model_module": "@jupyter-widgets/base",
          "model_name": "LayoutModel",
          "model_module_version": "1.2.0",
          "state": {
            "_model_module": "@jupyter-widgets/base",
            "_model_module_version": "1.2.0",
            "_model_name": "LayoutModel",
            "_view_count": null,
            "_view_module": "@jupyter-widgets/base",
            "_view_module_version": "1.2.0",
            "_view_name": "LayoutView",
            "align_content": null,
            "align_items": null,
            "align_self": null,
            "border": null,
            "bottom": null,
            "display": null,
            "flex": null,
            "flex_flow": null,
            "grid_area": null,
            "grid_auto_columns": null,
            "grid_auto_flow": null,
            "grid_auto_rows": null,
            "grid_column": null,
            "grid_gap": null,
            "grid_row": null,
            "grid_template_areas": null,
            "grid_template_columns": null,
            "grid_template_rows": null,
            "height": null,
            "justify_content": null,
            "justify_items": null,
            "left": null,
            "margin": null,
            "max_height": null,
            "max_width": null,
            "min_height": null,
            "min_width": null,
            "object_fit": null,
            "object_position": null,
            "order": null,
            "overflow": null,
            "overflow_x": null,
            "overflow_y": null,
            "padding": null,
            "right": null,
            "top": null,
            "visibility": null,
            "width": null
          }
        },
        "0ed9bb42b019414da17755c7b709e51f": {
          "model_module": "@jupyter-widgets/controls",
          "model_name": "DescriptionStyleModel",
          "model_module_version": "1.5.0",
          "state": {
            "_model_module": "@jupyter-widgets/controls",
            "_model_module_version": "1.5.0",
            "_model_name": "DescriptionStyleModel",
            "_view_count": null,
            "_view_module": "@jupyter-widgets/base",
            "_view_module_version": "1.2.0",
            "_view_name": "StyleView",
            "description_width": ""
          }
        },
        "b8cfcfd9e19a4f97a7ab1d53c9fddaec": {
          "model_module": "@jupyter-widgets/controls",
          "model_name": "HBoxModel",
          "model_module_version": "1.5.0",
          "state": {
            "_dom_classes": [],
            "_model_module": "@jupyter-widgets/controls",
            "_model_module_version": "1.5.0",
            "_model_name": "HBoxModel",
            "_view_count": null,
            "_view_module": "@jupyter-widgets/controls",
            "_view_module_version": "1.5.0",
            "_view_name": "HBoxView",
            "box_style": "",
            "children": [
              "IPY_MODEL_dff4350caa5f410eb0bb09b31a2b77bb",
              "IPY_MODEL_bdcba26915754f928f5acdc4cc3cdaeb",
              "IPY_MODEL_4cc72bb6aade4e21bcc4ba43a3366040"
            ],
            "layout": "IPY_MODEL_a85459e775804063bf3510cc42a35706"
          }
        },
        "dff4350caa5f410eb0bb09b31a2b77bb": {
          "model_module": "@jupyter-widgets/controls",
          "model_name": "HTMLModel",
          "model_module_version": "1.5.0",
          "state": {
            "_dom_classes": [],
            "_model_module": "@jupyter-widgets/controls",
            "_model_module_version": "1.5.0",
            "_model_name": "HTMLModel",
            "_view_count": null,
            "_view_module": "@jupyter-widgets/controls",
            "_view_module_version": "1.5.0",
            "_view_name": "HTMLView",
            "description": "",
            "description_tooltip": null,
            "layout": "IPY_MODEL_689394e402ba44248b377f715c47ae84",
            "placeholder": "​",
            "style": "IPY_MODEL_570173e4450e4ee097dfbb868b3ba968",
            "value": "Downloading builder script: 100%"
          }
        },
        "bdcba26915754f928f5acdc4cc3cdaeb": {
          "model_module": "@jupyter-widgets/controls",
          "model_name": "FloatProgressModel",
          "model_module_version": "1.5.0",
          "state": {
            "_dom_classes": [],
            "_model_module": "@jupyter-widgets/controls",
            "_model_module_version": "1.5.0",
            "_model_name": "FloatProgressModel",
            "_view_count": null,
            "_view_module": "@jupyter-widgets/controls",
            "_view_module_version": "1.5.0",
            "_view_name": "ProgressView",
            "bar_style": "success",
            "description": "",
            "description_tooltip": null,
            "layout": "IPY_MODEL_e0896cb54b7a4b7e83fd552dc7237d1e",
            "max": 5759,
            "min": 0,
            "orientation": "horizontal",
            "style": "IPY_MODEL_6cd0894e8e6b470cbd4a856def7461d8",
            "value": 5759
          }
        },
        "4cc72bb6aade4e21bcc4ba43a3366040": {
          "model_module": "@jupyter-widgets/controls",
          "model_name": "HTMLModel",
          "model_module_version": "1.5.0",
          "state": {
            "_dom_classes": [],
            "_model_module": "@jupyter-widgets/controls",
            "_model_module_version": "1.5.0",
            "_model_name": "HTMLModel",
            "_view_count": null,
            "_view_module": "@jupyter-widgets/controls",
            "_view_module_version": "1.5.0",
            "_view_name": "HTMLView",
            "description": "",
            "description_tooltip": null,
            "layout": "IPY_MODEL_4afd8e0fed044c03b698c0f9c8e24e5c",
            "placeholder": "​",
            "style": "IPY_MODEL_be3115d6017c4731ab84657300d5ff5b",
            "value": " 5.76k/5.76k [00:00&lt;00:00, 8.21kB/s]"
          }
        },
        "a85459e775804063bf3510cc42a35706": {
          "model_module": "@jupyter-widgets/base",
          "model_name": "LayoutModel",
          "model_module_version": "1.2.0",
          "state": {
            "_model_module": "@jupyter-widgets/base",
            "_model_module_version": "1.2.0",
            "_model_name": "LayoutModel",
            "_view_count": null,
            "_view_module": "@jupyter-widgets/base",
            "_view_module_version": "1.2.0",
            "_view_name": "LayoutView",
            "align_content": null,
            "align_items": null,
            "align_self": null,
            "border": null,
            "bottom": null,
            "display": null,
            "flex": null,
            "flex_flow": null,
            "grid_area": null,
            "grid_auto_columns": null,
            "grid_auto_flow": null,
            "grid_auto_rows": null,
            "grid_column": null,
            "grid_gap": null,
            "grid_row": null,
            "grid_template_areas": null,
            "grid_template_columns": null,
            "grid_template_rows": null,
            "height": null,
            "justify_content": null,
            "justify_items": null,
            "left": null,
            "margin": null,
            "max_height": null,
            "max_width": null,
            "min_height": null,
            "min_width": null,
            "object_fit": null,
            "object_position": null,
            "order": null,
            "overflow": null,
            "overflow_x": null,
            "overflow_y": null,
            "padding": null,
            "right": null,
            "top": null,
            "visibility": null,
            "width": null
          }
        },
        "689394e402ba44248b377f715c47ae84": {
          "model_module": "@jupyter-widgets/base",
          "model_name": "LayoutModel",
          "model_module_version": "1.2.0",
          "state": {
            "_model_module": "@jupyter-widgets/base",
            "_model_module_version": "1.2.0",
            "_model_name": "LayoutModel",
            "_view_count": null,
            "_view_module": "@jupyter-widgets/base",
            "_view_module_version": "1.2.0",
            "_view_name": "LayoutView",
            "align_content": null,
            "align_items": null,
            "align_self": null,
            "border": null,
            "bottom": null,
            "display": null,
            "flex": null,
            "flex_flow": null,
            "grid_area": null,
            "grid_auto_columns": null,
            "grid_auto_flow": null,
            "grid_auto_rows": null,
            "grid_column": null,
            "grid_gap": null,
            "grid_row": null,
            "grid_template_areas": null,
            "grid_template_columns": null,
            "grid_template_rows": null,
            "height": null,
            "justify_content": null,
            "justify_items": null,
            "left": null,
            "margin": null,
            "max_height": null,
            "max_width": null,
            "min_height": null,
            "min_width": null,
            "object_fit": null,
            "object_position": null,
            "order": null,
            "overflow": null,
            "overflow_x": null,
            "overflow_y": null,
            "padding": null,
            "right": null,
            "top": null,
            "visibility": null,
            "width": null
          }
        },
        "570173e4450e4ee097dfbb868b3ba968": {
          "model_module": "@jupyter-widgets/controls",
          "model_name": "DescriptionStyleModel",
          "model_module_version": "1.5.0",
          "state": {
            "_model_module": "@jupyter-widgets/controls",
            "_model_module_version": "1.5.0",
            "_model_name": "DescriptionStyleModel",
            "_view_count": null,
            "_view_module": "@jupyter-widgets/base",
            "_view_module_version": "1.2.0",
            "_view_name": "StyleView",
            "description_width": ""
          }
        },
        "e0896cb54b7a4b7e83fd552dc7237d1e": {
          "model_module": "@jupyter-widgets/base",
          "model_name": "LayoutModel",
          "model_module_version": "1.2.0",
          "state": {
            "_model_module": "@jupyter-widgets/base",
            "_model_module_version": "1.2.0",
            "_model_name": "LayoutModel",
            "_view_count": null,
            "_view_module": "@jupyter-widgets/base",
            "_view_module_version": "1.2.0",
            "_view_name": "LayoutView",
            "align_content": null,
            "align_items": null,
            "align_self": null,
            "border": null,
            "bottom": null,
            "display": null,
            "flex": null,
            "flex_flow": null,
            "grid_area": null,
            "grid_auto_columns": null,
            "grid_auto_flow": null,
            "grid_auto_rows": null,
            "grid_column": null,
            "grid_gap": null,
            "grid_row": null,
            "grid_template_areas": null,
            "grid_template_columns": null,
            "grid_template_rows": null,
            "height": null,
            "justify_content": null,
            "justify_items": null,
            "left": null,
            "margin": null,
            "max_height": null,
            "max_width": null,
            "min_height": null,
            "min_width": null,
            "object_fit": null,
            "object_position": null,
            "order": null,
            "overflow": null,
            "overflow_x": null,
            "overflow_y": null,
            "padding": null,
            "right": null,
            "top": null,
            "visibility": null,
            "width": null
          }
        },
        "6cd0894e8e6b470cbd4a856def7461d8": {
          "model_module": "@jupyter-widgets/controls",
          "model_name": "ProgressStyleModel",
          "model_module_version": "1.5.0",
          "state": {
            "_model_module": "@jupyter-widgets/controls",
            "_model_module_version": "1.5.0",
            "_model_name": "ProgressStyleModel",
            "_view_count": null,
            "_view_module": "@jupyter-widgets/base",
            "_view_module_version": "1.2.0",
            "_view_name": "StyleView",
            "bar_color": null,
            "description_width": ""
          }
        },
        "4afd8e0fed044c03b698c0f9c8e24e5c": {
          "model_module": "@jupyter-widgets/base",
          "model_name": "LayoutModel",
          "model_module_version": "1.2.0",
          "state": {
            "_model_module": "@jupyter-widgets/base",
            "_model_module_version": "1.2.0",
            "_model_name": "LayoutModel",
            "_view_count": null,
            "_view_module": "@jupyter-widgets/base",
            "_view_module_version": "1.2.0",
            "_view_name": "LayoutView",
            "align_content": null,
            "align_items": null,
            "align_self": null,
            "border": null,
            "bottom": null,
            "display": null,
            "flex": null,
            "flex_flow": null,
            "grid_area": null,
            "grid_auto_columns": null,
            "grid_auto_flow": null,
            "grid_auto_rows": null,
            "grid_column": null,
            "grid_gap": null,
            "grid_row": null,
            "grid_template_areas": null,
            "grid_template_columns": null,
            "grid_template_rows": null,
            "height": null,
            "justify_content": null,
            "justify_items": null,
            "left": null,
            "margin": null,
            "max_height": null,
            "max_width": null,
            "min_height": null,
            "min_width": null,
            "object_fit": null,
            "object_position": null,
            "order": null,
            "overflow": null,
            "overflow_x": null,
            "overflow_y": null,
            "padding": null,
            "right": null,
            "top": null,
            "visibility": null,
            "width": null
          }
        },
        "be3115d6017c4731ab84657300d5ff5b": {
          "model_module": "@jupyter-widgets/controls",
          "model_name": "DescriptionStyleModel",
          "model_module_version": "1.5.0",
          "state": {
            "_model_module": "@jupyter-widgets/controls",
            "_model_module_version": "1.5.0",
            "_model_name": "DescriptionStyleModel",
            "_view_count": null,
            "_view_module": "@jupyter-widgets/base",
            "_view_module_version": "1.2.0",
            "_view_name": "StyleView",
            "description_width": ""
          }
        },
        "a7fc21af880d43ac9d83b1c7e2be7bb1": {
          "model_module": "@jupyter-widgets/controls",
          "model_name": "HBoxModel",
          "model_module_version": "1.5.0",
          "state": {
            "_dom_classes": [],
            "_model_module": "@jupyter-widgets/controls",
            "_model_module_version": "1.5.0",
            "_model_name": "HBoxModel",
            "_view_count": null,
            "_view_module": "@jupyter-widgets/controls",
            "_view_module_version": "1.5.0",
            "_view_name": "HBoxView",
            "box_style": "",
            "children": [
              "IPY_MODEL_4fc8c863c1154326b44293163752c318",
              "IPY_MODEL_fb0d0e7273bb4ff59f9dcb7d3dd5bb34",
              "IPY_MODEL_966676d8f9ec41f2a24a283af22b3608"
            ],
            "layout": "IPY_MODEL_b531d81ca39443d7b468479574943799"
          }
        },
        "4fc8c863c1154326b44293163752c318": {
          "model_module": "@jupyter-widgets/controls",
          "model_name": "HTMLModel",
          "model_module_version": "1.5.0",
          "state": {
            "_dom_classes": [],
            "_model_module": "@jupyter-widgets/controls",
            "_model_module_version": "1.5.0",
            "_model_name": "HTMLModel",
            "_view_count": null,
            "_view_module": "@jupyter-widgets/controls",
            "_view_module_version": "1.5.0",
            "_view_name": "HTMLView",
            "description": "",
            "description_tooltip": null,
            "layout": "IPY_MODEL_68bb21a68fa6406eab72646ec5f428ec",
            "placeholder": "​",
            "style": "IPY_MODEL_abc41821460a4457bf62d91ec9de186a",
            "value": "Downloading metadata: 100%"
          }
        },
        "fb0d0e7273bb4ff59f9dcb7d3dd5bb34": {
          "model_module": "@jupyter-widgets/controls",
          "model_name": "FloatProgressModel",
          "model_module_version": "1.5.0",
          "state": {
            "_dom_classes": [],
            "_model_module": "@jupyter-widgets/controls",
            "_model_module_version": "1.5.0",
            "_model_name": "FloatProgressModel",
            "_view_count": null,
            "_view_module": "@jupyter-widgets/controls",
            "_view_module_version": "1.5.0",
            "_view_name": "ProgressView",
            "bar_style": "success",
            "description": "",
            "description_tooltip": null,
            "layout": "IPY_MODEL_f62743468ef747ffa1e6ad5fafde8a71",
            "max": 5943,
            "min": 0,
            "orientation": "horizontal",
            "style": "IPY_MODEL_95b474f2ee3d485082018e38f8366fdd",
            "value": 5943
          }
        },
        "966676d8f9ec41f2a24a283af22b3608": {
          "model_module": "@jupyter-widgets/controls",
          "model_name": "HTMLModel",
          "model_module_version": "1.5.0",
          "state": {
            "_dom_classes": [],
            "_model_module": "@jupyter-widgets/controls",
            "_model_module_version": "1.5.0",
            "_model_name": "HTMLModel",
            "_view_count": null,
            "_view_module": "@jupyter-widgets/controls",
            "_view_module_version": "1.5.0",
            "_view_name": "HTMLView",
            "description": "",
            "description_tooltip": null,
            "layout": "IPY_MODEL_007e0e4a2e1047dfb1bfbc5ec9a41c42",
            "placeholder": "​",
            "style": "IPY_MODEL_28bdd28420fb4bf3992e0aa3d576d1ef",
            "value": " 5.94k/5.94k [00:00&lt;00:00, 7.69kB/s]"
          }
        },
        "b531d81ca39443d7b468479574943799": {
          "model_module": "@jupyter-widgets/base",
          "model_name": "LayoutModel",
          "model_module_version": "1.2.0",
          "state": {
            "_model_module": "@jupyter-widgets/base",
            "_model_module_version": "1.2.0",
            "_model_name": "LayoutModel",
            "_view_count": null,
            "_view_module": "@jupyter-widgets/base",
            "_view_module_version": "1.2.0",
            "_view_name": "LayoutView",
            "align_content": null,
            "align_items": null,
            "align_self": null,
            "border": null,
            "bottom": null,
            "display": null,
            "flex": null,
            "flex_flow": null,
            "grid_area": null,
            "grid_auto_columns": null,
            "grid_auto_flow": null,
            "grid_auto_rows": null,
            "grid_column": null,
            "grid_gap": null,
            "grid_row": null,
            "grid_template_areas": null,
            "grid_template_columns": null,
            "grid_template_rows": null,
            "height": null,
            "justify_content": null,
            "justify_items": null,
            "left": null,
            "margin": null,
            "max_height": null,
            "max_width": null,
            "min_height": null,
            "min_width": null,
            "object_fit": null,
            "object_position": null,
            "order": null,
            "overflow": null,
            "overflow_x": null,
            "overflow_y": null,
            "padding": null,
            "right": null,
            "top": null,
            "visibility": null,
            "width": null
          }
        },
        "68bb21a68fa6406eab72646ec5f428ec": {
          "model_module": "@jupyter-widgets/base",
          "model_name": "LayoutModel",
          "model_module_version": "1.2.0",
          "state": {
            "_model_module": "@jupyter-widgets/base",
            "_model_module_version": "1.2.0",
            "_model_name": "LayoutModel",
            "_view_count": null,
            "_view_module": "@jupyter-widgets/base",
            "_view_module_version": "1.2.0",
            "_view_name": "LayoutView",
            "align_content": null,
            "align_items": null,
            "align_self": null,
            "border": null,
            "bottom": null,
            "display": null,
            "flex": null,
            "flex_flow": null,
            "grid_area": null,
            "grid_auto_columns": null,
            "grid_auto_flow": null,
            "grid_auto_rows": null,
            "grid_column": null,
            "grid_gap": null,
            "grid_row": null,
            "grid_template_areas": null,
            "grid_template_columns": null,
            "grid_template_rows": null,
            "height": null,
            "justify_content": null,
            "justify_items": null,
            "left": null,
            "margin": null,
            "max_height": null,
            "max_width": null,
            "min_height": null,
            "min_width": null,
            "object_fit": null,
            "object_position": null,
            "order": null,
            "overflow": null,
            "overflow_x": null,
            "overflow_y": null,
            "padding": null,
            "right": null,
            "top": null,
            "visibility": null,
            "width": null
          }
        },
        "abc41821460a4457bf62d91ec9de186a": {
          "model_module": "@jupyter-widgets/controls",
          "model_name": "DescriptionStyleModel",
          "model_module_version": "1.5.0",
          "state": {
            "_model_module": "@jupyter-widgets/controls",
            "_model_module_version": "1.5.0",
            "_model_name": "DescriptionStyleModel",
            "_view_count": null,
            "_view_module": "@jupyter-widgets/base",
            "_view_module_version": "1.2.0",
            "_view_name": "StyleView",
            "description_width": ""
          }
        },
        "f62743468ef747ffa1e6ad5fafde8a71": {
          "model_module": "@jupyter-widgets/base",
          "model_name": "LayoutModel",
          "model_module_version": "1.2.0",
          "state": {
            "_model_module": "@jupyter-widgets/base",
            "_model_module_version": "1.2.0",
            "_model_name": "LayoutModel",
            "_view_count": null,
            "_view_module": "@jupyter-widgets/base",
            "_view_module_version": "1.2.0",
            "_view_name": "LayoutView",
            "align_content": null,
            "align_items": null,
            "align_self": null,
            "border": null,
            "bottom": null,
            "display": null,
            "flex": null,
            "flex_flow": null,
            "grid_area": null,
            "grid_auto_columns": null,
            "grid_auto_flow": null,
            "grid_auto_rows": null,
            "grid_column": null,
            "grid_gap": null,
            "grid_row": null,
            "grid_template_areas": null,
            "grid_template_columns": null,
            "grid_template_rows": null,
            "height": null,
            "justify_content": null,
            "justify_items": null,
            "left": null,
            "margin": null,
            "max_height": null,
            "max_width": null,
            "min_height": null,
            "min_width": null,
            "object_fit": null,
            "object_position": null,
            "order": null,
            "overflow": null,
            "overflow_x": null,
            "overflow_y": null,
            "padding": null,
            "right": null,
            "top": null,
            "visibility": null,
            "width": null
          }
        },
        "95b474f2ee3d485082018e38f8366fdd": {
          "model_module": "@jupyter-widgets/controls",
          "model_name": "ProgressStyleModel",
          "model_module_version": "1.5.0",
          "state": {
            "_model_module": "@jupyter-widgets/controls",
            "_model_module_version": "1.5.0",
            "_model_name": "ProgressStyleModel",
            "_view_count": null,
            "_view_module": "@jupyter-widgets/base",
            "_view_module_version": "1.2.0",
            "_view_name": "StyleView",
            "bar_color": null,
            "description_width": ""
          }
        },
        "007e0e4a2e1047dfb1bfbc5ec9a41c42": {
          "model_module": "@jupyter-widgets/base",
          "model_name": "LayoutModel",
          "model_module_version": "1.2.0",
          "state": {
            "_model_module": "@jupyter-widgets/base",
            "_model_module_version": "1.2.0",
            "_model_name": "LayoutModel",
            "_view_count": null,
            "_view_module": "@jupyter-widgets/base",
            "_view_module_version": "1.2.0",
            "_view_name": "LayoutView",
            "align_content": null,
            "align_items": null,
            "align_self": null,
            "border": null,
            "bottom": null,
            "display": null,
            "flex": null,
            "flex_flow": null,
            "grid_area": null,
            "grid_auto_columns": null,
            "grid_auto_flow": null,
            "grid_auto_rows": null,
            "grid_column": null,
            "grid_gap": null,
            "grid_row": null,
            "grid_template_areas": null,
            "grid_template_columns": null,
            "grid_template_rows": null,
            "height": null,
            "justify_content": null,
            "justify_items": null,
            "left": null,
            "margin": null,
            "max_height": null,
            "max_width": null,
            "min_height": null,
            "min_width": null,
            "object_fit": null,
            "object_position": null,
            "order": null,
            "overflow": null,
            "overflow_x": null,
            "overflow_y": null,
            "padding": null,
            "right": null,
            "top": null,
            "visibility": null,
            "width": null
          }
        },
        "28bdd28420fb4bf3992e0aa3d576d1ef": {
          "model_module": "@jupyter-widgets/controls",
          "model_name": "DescriptionStyleModel",
          "model_module_version": "1.5.0",
          "state": {
            "_model_module": "@jupyter-widgets/controls",
            "_model_module_version": "1.5.0",
            "_model_name": "DescriptionStyleModel",
            "_view_count": null,
            "_view_module": "@jupyter-widgets/base",
            "_view_module_version": "1.2.0",
            "_view_name": "StyleView",
            "description_width": ""
          }
        },
        "7bcec8506fd9499491114c924b8e28cc": {
          "model_module": "@jupyter-widgets/controls",
          "model_name": "HBoxModel",
          "model_module_version": "1.5.0",
          "state": {
            "_dom_classes": [],
            "_model_module": "@jupyter-widgets/controls",
            "_model_module_version": "1.5.0",
            "_model_name": "HBoxModel",
            "_view_count": null,
            "_view_module": "@jupyter-widgets/controls",
            "_view_module_version": "1.5.0",
            "_view_name": "HBoxView",
            "box_style": "",
            "children": [
              "IPY_MODEL_78420d03aeb54dd2be643b6ef1896398",
              "IPY_MODEL_bce7afd46a594af1989b491558a5fff9",
              "IPY_MODEL_a5d5044208be46bfb33c4a559183adc9"
            ],
            "layout": "IPY_MODEL_6bc6ce9322f04da1bbd2e1fd1e455609"
          }
        },
        "78420d03aeb54dd2be643b6ef1896398": {
          "model_module": "@jupyter-widgets/controls",
          "model_name": "HTMLModel",
          "model_module_version": "1.5.0",
          "state": {
            "_dom_classes": [],
            "_model_module": "@jupyter-widgets/controls",
            "_model_module_version": "1.5.0",
            "_model_name": "HTMLModel",
            "_view_count": null,
            "_view_module": "@jupyter-widgets/controls",
            "_view_module_version": "1.5.0",
            "_view_name": "HTMLView",
            "description": "",
            "description_tooltip": null,
            "layout": "IPY_MODEL_29655bbdf8d24a38a42d91dddb415340",
            "placeholder": "​",
            "style": "IPY_MODEL_3e42f089ae494a08b69c6d1c930113ee",
            "value": "Downloading data: 100%"
          }
        },
        "bce7afd46a594af1989b491558a5fff9": {
          "model_module": "@jupyter-widgets/controls",
          "model_name": "FloatProgressModel",
          "model_module_version": "1.5.0",
          "state": {
            "_dom_classes": [],
            "_model_module": "@jupyter-widgets/controls",
            "_model_module_version": "1.5.0",
            "_model_name": "FloatProgressModel",
            "_view_count": null,
            "_view_module": "@jupyter-widgets/controls",
            "_view_module_version": "1.5.0",
            "_view_name": "ProgressView",
            "bar_style": "success",
            "description": "",
            "description_tooltip": null,
            "layout": "IPY_MODEL_59cd0a469115435997992a9de9469fa3",
            "max": 23058350,
            "min": 0,
            "orientation": "horizontal",
            "style": "IPY_MODEL_ef8c65d35357423ba518155d231418db",
            "value": 23058350
          }
        },
        "a5d5044208be46bfb33c4a559183adc9": {
          "model_module": "@jupyter-widgets/controls",
          "model_name": "HTMLModel",
          "model_module_version": "1.5.0",
          "state": {
            "_dom_classes": [],
            "_model_module": "@jupyter-widgets/controls",
            "_model_module_version": "1.5.0",
            "_model_name": "HTMLModel",
            "_view_count": null,
            "_view_module": "@jupyter-widgets/controls",
            "_view_module_version": "1.5.0",
            "_view_name": "HTMLView",
            "description": "",
            "description_tooltip": null,
            "layout": "IPY_MODEL_80321e10b3e64672a1da20b955332227",
            "placeholder": "​",
            "style": "IPY_MODEL_ff6be2a892f04dc9af4ba536b4bea37b",
            "value": " 23.1M/23.1M [00:03&lt;00:00, 8.90MB/s]"
          }
        },
        "6bc6ce9322f04da1bbd2e1fd1e455609": {
          "model_module": "@jupyter-widgets/base",
          "model_name": "LayoutModel",
          "model_module_version": "1.2.0",
          "state": {
            "_model_module": "@jupyter-widgets/base",
            "_model_module_version": "1.2.0",
            "_model_name": "LayoutModel",
            "_view_count": null,
            "_view_module": "@jupyter-widgets/base",
            "_view_module_version": "1.2.0",
            "_view_name": "LayoutView",
            "align_content": null,
            "align_items": null,
            "align_self": null,
            "border": null,
            "bottom": null,
            "display": null,
            "flex": null,
            "flex_flow": null,
            "grid_area": null,
            "grid_auto_columns": null,
            "grid_auto_flow": null,
            "grid_auto_rows": null,
            "grid_column": null,
            "grid_gap": null,
            "grid_row": null,
            "grid_template_areas": null,
            "grid_template_columns": null,
            "grid_template_rows": null,
            "height": null,
            "justify_content": null,
            "justify_items": null,
            "left": null,
            "margin": null,
            "max_height": null,
            "max_width": null,
            "min_height": null,
            "min_width": null,
            "object_fit": null,
            "object_position": null,
            "order": null,
            "overflow": null,
            "overflow_x": null,
            "overflow_y": null,
            "padding": null,
            "right": null,
            "top": null,
            "visibility": null,
            "width": null
          }
        },
        "29655bbdf8d24a38a42d91dddb415340": {
          "model_module": "@jupyter-widgets/base",
          "model_name": "LayoutModel",
          "model_module_version": "1.2.0",
          "state": {
            "_model_module": "@jupyter-widgets/base",
            "_model_module_version": "1.2.0",
            "_model_name": "LayoutModel",
            "_view_count": null,
            "_view_module": "@jupyter-widgets/base",
            "_view_module_version": "1.2.0",
            "_view_name": "LayoutView",
            "align_content": null,
            "align_items": null,
            "align_self": null,
            "border": null,
            "bottom": null,
            "display": null,
            "flex": null,
            "flex_flow": null,
            "grid_area": null,
            "grid_auto_columns": null,
            "grid_auto_flow": null,
            "grid_auto_rows": null,
            "grid_column": null,
            "grid_gap": null,
            "grid_row": null,
            "grid_template_areas": null,
            "grid_template_columns": null,
            "grid_template_rows": null,
            "height": null,
            "justify_content": null,
            "justify_items": null,
            "left": null,
            "margin": null,
            "max_height": null,
            "max_width": null,
            "min_height": null,
            "min_width": null,
            "object_fit": null,
            "object_position": null,
            "order": null,
            "overflow": null,
            "overflow_x": null,
            "overflow_y": null,
            "padding": null,
            "right": null,
            "top": null,
            "visibility": null,
            "width": null
          }
        },
        "3e42f089ae494a08b69c6d1c930113ee": {
          "model_module": "@jupyter-widgets/controls",
          "model_name": "DescriptionStyleModel",
          "model_module_version": "1.5.0",
          "state": {
            "_model_module": "@jupyter-widgets/controls",
            "_model_module_version": "1.5.0",
            "_model_name": "DescriptionStyleModel",
            "_view_count": null,
            "_view_module": "@jupyter-widgets/base",
            "_view_module_version": "1.2.0",
            "_view_name": "StyleView",
            "description_width": ""
          }
        },
        "59cd0a469115435997992a9de9469fa3": {
          "model_module": "@jupyter-widgets/base",
          "model_name": "LayoutModel",
          "model_module_version": "1.2.0",
          "state": {
            "_model_module": "@jupyter-widgets/base",
            "_model_module_version": "1.2.0",
            "_model_name": "LayoutModel",
            "_view_count": null,
            "_view_module": "@jupyter-widgets/base",
            "_view_module_version": "1.2.0",
            "_view_name": "LayoutView",
            "align_content": null,
            "align_items": null,
            "align_self": null,
            "border": null,
            "bottom": null,
            "display": null,
            "flex": null,
            "flex_flow": null,
            "grid_area": null,
            "grid_auto_columns": null,
            "grid_auto_flow": null,
            "grid_auto_rows": null,
            "grid_column": null,
            "grid_gap": null,
            "grid_row": null,
            "grid_template_areas": null,
            "grid_template_columns": null,
            "grid_template_rows": null,
            "height": null,
            "justify_content": null,
            "justify_items": null,
            "left": null,
            "margin": null,
            "max_height": null,
            "max_width": null,
            "min_height": null,
            "min_width": null,
            "object_fit": null,
            "object_position": null,
            "order": null,
            "overflow": null,
            "overflow_x": null,
            "overflow_y": null,
            "padding": null,
            "right": null,
            "top": null,
            "visibility": null,
            "width": null
          }
        },
        "ef8c65d35357423ba518155d231418db": {
          "model_module": "@jupyter-widgets/controls",
          "model_name": "ProgressStyleModel",
          "model_module_version": "1.5.0",
          "state": {
            "_model_module": "@jupyter-widgets/controls",
            "_model_module_version": "1.5.0",
            "_model_name": "ProgressStyleModel",
            "_view_count": null,
            "_view_module": "@jupyter-widgets/base",
            "_view_module_version": "1.2.0",
            "_view_name": "StyleView",
            "bar_color": null,
            "description_width": ""
          }
        },
        "80321e10b3e64672a1da20b955332227": {
          "model_module": "@jupyter-widgets/base",
          "model_name": "LayoutModel",
          "model_module_version": "1.2.0",
          "state": {
            "_model_module": "@jupyter-widgets/base",
            "_model_module_version": "1.2.0",
            "_model_name": "LayoutModel",
            "_view_count": null,
            "_view_module": "@jupyter-widgets/base",
            "_view_module_version": "1.2.0",
            "_view_name": "LayoutView",
            "align_content": null,
            "align_items": null,
            "align_self": null,
            "border": null,
            "bottom": null,
            "display": null,
            "flex": null,
            "flex_flow": null,
            "grid_area": null,
            "grid_auto_columns": null,
            "grid_auto_flow": null,
            "grid_auto_rows": null,
            "grid_column": null,
            "grid_gap": null,
            "grid_row": null,
            "grid_template_areas": null,
            "grid_template_columns": null,
            "grid_template_rows": null,
            "height": null,
            "justify_content": null,
            "justify_items": null,
            "left": null,
            "margin": null,
            "max_height": null,
            "max_width": null,
            "min_height": null,
            "min_width": null,
            "object_fit": null,
            "object_position": null,
            "order": null,
            "overflow": null,
            "overflow_x": null,
            "overflow_y": null,
            "padding": null,
            "right": null,
            "top": null,
            "visibility": null,
            "width": null
          }
        },
        "ff6be2a892f04dc9af4ba536b4bea37b": {
          "model_module": "@jupyter-widgets/controls",
          "model_name": "DescriptionStyleModel",
          "model_module_version": "1.5.0",
          "state": {
            "_model_module": "@jupyter-widgets/controls",
            "_model_module_version": "1.5.0",
            "_model_name": "DescriptionStyleModel",
            "_view_count": null,
            "_view_module": "@jupyter-widgets/base",
            "_view_module_version": "1.2.0",
            "_view_name": "StyleView",
            "description_width": ""
          }
        },
        "d2adcfed667c4ae09ccee3a008cb5c5a": {
          "model_module": "@jupyter-widgets/controls",
          "model_name": "HBoxModel",
          "model_module_version": "1.5.0",
          "state": {
            "_dom_classes": [],
            "_model_module": "@jupyter-widgets/controls",
            "_model_module_version": "1.5.0",
            "_model_name": "HBoxModel",
            "_view_count": null,
            "_view_module": "@jupyter-widgets/controls",
            "_view_module_version": "1.5.0",
            "_view_name": "HBoxView",
            "box_style": "",
            "children": [
              "IPY_MODEL_9fe36239afe34240af395af02f4dbe07",
              "IPY_MODEL_e898f009ca5d4d9bb70c0091c591093d",
              "IPY_MODEL_cbd4d89da719481ca30b653088940ada"
            ],
            "layout": "IPY_MODEL_18c688a5b61d47f0afe8e5b99997863a"
          }
        },
        "9fe36239afe34240af395af02f4dbe07": {
          "model_module": "@jupyter-widgets/controls",
          "model_name": "HTMLModel",
          "model_module_version": "1.5.0",
          "state": {
            "_dom_classes": [],
            "_model_module": "@jupyter-widgets/controls",
            "_model_module_version": "1.5.0",
            "_model_name": "HTMLModel",
            "_view_count": null,
            "_view_module": "@jupyter-widgets/controls",
            "_view_module_version": "1.5.0",
            "_view_name": "HTMLView",
            "description": "",
            "description_tooltip": null,
            "layout": "IPY_MODEL_16c3e4304ba747198ca60497227dc70c",
            "placeholder": "​",
            "style": "IPY_MODEL_bec25395ab684177a24b17f78c92e34c",
            "value": "Generating train split: 100%"
          }
        },
        "e898f009ca5d4d9bb70c0091c591093d": {
          "model_module": "@jupyter-widgets/controls",
          "model_name": "FloatProgressModel",
          "model_module_version": "1.5.0",
          "state": {
            "_dom_classes": [],
            "_model_module": "@jupyter-widgets/controls",
            "_model_module_version": "1.5.0",
            "_model_name": "FloatProgressModel",
            "_view_count": null,
            "_view_module": "@jupyter-widgets/controls",
            "_view_module_version": "1.5.0",
            "_view_name": "ProgressView",
            "bar_style": "",
            "description": "",
            "description_tooltip": null,
            "layout": "IPY_MODEL_0cc9da222ab04eb79667ae3f2caaa608",
            "max": 21401,
            "min": 0,
            "orientation": "horizontal",
            "style": "IPY_MODEL_8832f9c00c534c71af98f713b9d62179",
            "value": 21401
          }
        },
        "cbd4d89da719481ca30b653088940ada": {
          "model_module": "@jupyter-widgets/controls",
          "model_name": "HTMLModel",
          "model_module_version": "1.5.0",
          "state": {
            "_dom_classes": [],
            "_model_module": "@jupyter-widgets/controls",
            "_model_module_version": "1.5.0",
            "_model_name": "HTMLModel",
            "_view_count": null,
            "_view_module": "@jupyter-widgets/controls",
            "_view_module_version": "1.5.0",
            "_view_name": "HTMLView",
            "description": "",
            "description_tooltip": null,
            "layout": "IPY_MODEL_fbd7bdc3b920482ca725b1e3c5887001",
            "placeholder": "​",
            "style": "IPY_MODEL_ca074a9232984b13923da115e9655d11",
            "value": " 21312/21401 [00:14&lt;00:00, 1278.53 examples/s]"
          }
        },
        "18c688a5b61d47f0afe8e5b99997863a": {
          "model_module": "@jupyter-widgets/base",
          "model_name": "LayoutModel",
          "model_module_version": "1.2.0",
          "state": {
            "_model_module": "@jupyter-widgets/base",
            "_model_module_version": "1.2.0",
            "_model_name": "LayoutModel",
            "_view_count": null,
            "_view_module": "@jupyter-widgets/base",
            "_view_module_version": "1.2.0",
            "_view_name": "LayoutView",
            "align_content": null,
            "align_items": null,
            "align_self": null,
            "border": null,
            "bottom": null,
            "display": null,
            "flex": null,
            "flex_flow": null,
            "grid_area": null,
            "grid_auto_columns": null,
            "grid_auto_flow": null,
            "grid_auto_rows": null,
            "grid_column": null,
            "grid_gap": null,
            "grid_row": null,
            "grid_template_areas": null,
            "grid_template_columns": null,
            "grid_template_rows": null,
            "height": null,
            "justify_content": null,
            "justify_items": null,
            "left": null,
            "margin": null,
            "max_height": null,
            "max_width": null,
            "min_height": null,
            "min_width": null,
            "object_fit": null,
            "object_position": null,
            "order": null,
            "overflow": null,
            "overflow_x": null,
            "overflow_y": null,
            "padding": null,
            "right": null,
            "top": null,
            "visibility": null,
            "width": null
          }
        },
        "16c3e4304ba747198ca60497227dc70c": {
          "model_module": "@jupyter-widgets/base",
          "model_name": "LayoutModel",
          "model_module_version": "1.2.0",
          "state": {
            "_model_module": "@jupyter-widgets/base",
            "_model_module_version": "1.2.0",
            "_model_name": "LayoutModel",
            "_view_count": null,
            "_view_module": "@jupyter-widgets/base",
            "_view_module_version": "1.2.0",
            "_view_name": "LayoutView",
            "align_content": null,
            "align_items": null,
            "align_self": null,
            "border": null,
            "bottom": null,
            "display": null,
            "flex": null,
            "flex_flow": null,
            "grid_area": null,
            "grid_auto_columns": null,
            "grid_auto_flow": null,
            "grid_auto_rows": null,
            "grid_column": null,
            "grid_gap": null,
            "grid_row": null,
            "grid_template_areas": null,
            "grid_template_columns": null,
            "grid_template_rows": null,
            "height": null,
            "justify_content": null,
            "justify_items": null,
            "left": null,
            "margin": null,
            "max_height": null,
            "max_width": null,
            "min_height": null,
            "min_width": null,
            "object_fit": null,
            "object_position": null,
            "order": null,
            "overflow": null,
            "overflow_x": null,
            "overflow_y": null,
            "padding": null,
            "right": null,
            "top": null,
            "visibility": null,
            "width": null
          }
        },
        "bec25395ab684177a24b17f78c92e34c": {
          "model_module": "@jupyter-widgets/controls",
          "model_name": "DescriptionStyleModel",
          "model_module_version": "1.5.0",
          "state": {
            "_model_module": "@jupyter-widgets/controls",
            "_model_module_version": "1.5.0",
            "_model_name": "DescriptionStyleModel",
            "_view_count": null,
            "_view_module": "@jupyter-widgets/base",
            "_view_module_version": "1.2.0",
            "_view_name": "StyleView",
            "description_width": ""
          }
        },
        "0cc9da222ab04eb79667ae3f2caaa608": {
          "model_module": "@jupyter-widgets/base",
          "model_name": "LayoutModel",
          "model_module_version": "1.2.0",
          "state": {
            "_model_module": "@jupyter-widgets/base",
            "_model_module_version": "1.2.0",
            "_model_name": "LayoutModel",
            "_view_count": null,
            "_view_module": "@jupyter-widgets/base",
            "_view_module_version": "1.2.0",
            "_view_name": "LayoutView",
            "align_content": null,
            "align_items": null,
            "align_self": null,
            "border": null,
            "bottom": null,
            "display": null,
            "flex": null,
            "flex_flow": null,
            "grid_area": null,
            "grid_auto_columns": null,
            "grid_auto_flow": null,
            "grid_auto_rows": null,
            "grid_column": null,
            "grid_gap": null,
            "grid_row": null,
            "grid_template_areas": null,
            "grid_template_columns": null,
            "grid_template_rows": null,
            "height": null,
            "justify_content": null,
            "justify_items": null,
            "left": null,
            "margin": null,
            "max_height": null,
            "max_width": null,
            "min_height": null,
            "min_width": null,
            "object_fit": null,
            "object_position": null,
            "order": null,
            "overflow": null,
            "overflow_x": null,
            "overflow_y": null,
            "padding": null,
            "right": null,
            "top": null,
            "visibility": null,
            "width": null
          }
        },
        "8832f9c00c534c71af98f713b9d62179": {
          "model_module": "@jupyter-widgets/controls",
          "model_name": "ProgressStyleModel",
          "model_module_version": "1.5.0",
          "state": {
            "_model_module": "@jupyter-widgets/controls",
            "_model_module_version": "1.5.0",
            "_model_name": "ProgressStyleModel",
            "_view_count": null,
            "_view_module": "@jupyter-widgets/base",
            "_view_module_version": "1.2.0",
            "_view_name": "StyleView",
            "bar_color": null,
            "description_width": ""
          }
        },
        "fbd7bdc3b920482ca725b1e3c5887001": {
          "model_module": "@jupyter-widgets/base",
          "model_name": "LayoutModel",
          "model_module_version": "1.2.0",
          "state": {
            "_model_module": "@jupyter-widgets/base",
            "_model_module_version": "1.2.0",
            "_model_name": "LayoutModel",
            "_view_count": null,
            "_view_module": "@jupyter-widgets/base",
            "_view_module_version": "1.2.0",
            "_view_name": "LayoutView",
            "align_content": null,
            "align_items": null,
            "align_self": null,
            "border": null,
            "bottom": null,
            "display": null,
            "flex": null,
            "flex_flow": null,
            "grid_area": null,
            "grid_auto_columns": null,
            "grid_auto_flow": null,
            "grid_auto_rows": null,
            "grid_column": null,
            "grid_gap": null,
            "grid_row": null,
            "grid_template_areas": null,
            "grid_template_columns": null,
            "grid_template_rows": null,
            "height": null,
            "justify_content": null,
            "justify_items": null,
            "left": null,
            "margin": null,
            "max_height": null,
            "max_width": null,
            "min_height": null,
            "min_width": null,
            "object_fit": null,
            "object_position": null,
            "order": null,
            "overflow": null,
            "overflow_x": null,
            "overflow_y": null,
            "padding": null,
            "right": null,
            "top": null,
            "visibility": null,
            "width": null
          }
        },
        "ca074a9232984b13923da115e9655d11": {
          "model_module": "@jupyter-widgets/controls",
          "model_name": "DescriptionStyleModel",
          "model_module_version": "1.5.0",
          "state": {
            "_model_module": "@jupyter-widgets/controls",
            "_model_module_version": "1.5.0",
            "_model_name": "DescriptionStyleModel",
            "_view_count": null,
            "_view_module": "@jupyter-widgets/base",
            "_view_module_version": "1.2.0",
            "_view_name": "StyleView",
            "description_width": ""
          }
        },
        "84c9f4b709fe4c6dbb77cc876574b548": {
          "model_module": "@jupyter-widgets/controls",
          "model_name": "HBoxModel",
          "model_module_version": "1.5.0",
          "state": {
            "_dom_classes": [],
            "_model_module": "@jupyter-widgets/controls",
            "_model_module_version": "1.5.0",
            "_model_name": "HBoxModel",
            "_view_count": null,
            "_view_module": "@jupyter-widgets/controls",
            "_view_module_version": "1.5.0",
            "_view_name": "HBoxView",
            "box_style": "",
            "children": [
              "IPY_MODEL_248cdbfc1c234f8588b541891b94de28",
              "IPY_MODEL_ec60834e58314ca9b5816378055a41ae",
              "IPY_MODEL_1bf8babfa1164a80bf1b869e9cedf930"
            ],
            "layout": "IPY_MODEL_8040dfd93909481cb59f3bda296c7820"
          }
        },
        "248cdbfc1c234f8588b541891b94de28": {
          "model_module": "@jupyter-widgets/controls",
          "model_name": "HTMLModel",
          "model_module_version": "1.5.0",
          "state": {
            "_dom_classes": [],
            "_model_module": "@jupyter-widgets/controls",
            "_model_module_version": "1.5.0",
            "_model_name": "HTMLModel",
            "_view_count": null,
            "_view_module": "@jupyter-widgets/controls",
            "_view_module_version": "1.5.0",
            "_view_name": "HTMLView",
            "description": "",
            "description_tooltip": null,
            "layout": "IPY_MODEL_765f9bff692a4822957c19efffd5fa03",
            "placeholder": "​",
            "style": "IPY_MODEL_4262a98c16e54121a3fb1eebb34ca641",
            "value": "Generating test split:  97%"
          }
        },
        "ec60834e58314ca9b5816378055a41ae": {
          "model_module": "@jupyter-widgets/controls",
          "model_name": "FloatProgressModel",
          "model_module_version": "1.5.0",
          "state": {
            "_dom_classes": [],
            "_model_module": "@jupyter-widgets/controls",
            "_model_module_version": "1.5.0",
            "_model_name": "FloatProgressModel",
            "_view_count": null,
            "_view_module": "@jupyter-widgets/controls",
            "_view_module_version": "1.5.0",
            "_view_name": "ProgressView",
            "bar_style": "",
            "description": "",
            "description_tooltip": null,
            "layout": "IPY_MODEL_b032b83893a74569b56e6ccf70acd57f",
            "max": 1500,
            "min": 0,
            "orientation": "horizontal",
            "style": "IPY_MODEL_23e9dce18e5a4f7eb49e936e7495c373",
            "value": 1500
          }
        },
        "1bf8babfa1164a80bf1b869e9cedf930": {
          "model_module": "@jupyter-widgets/controls",
          "model_name": "HTMLModel",
          "model_module_version": "1.5.0",
          "state": {
            "_dom_classes": [],
            "_model_module": "@jupyter-widgets/controls",
            "_model_module_version": "1.5.0",
            "_model_name": "HTMLModel",
            "_view_count": null,
            "_view_module": "@jupyter-widgets/controls",
            "_view_module_version": "1.5.0",
            "_view_name": "HTMLView",
            "description": "",
            "description_tooltip": null,
            "layout": "IPY_MODEL_eb8b74d33b3547c98a2ab37aa6bad61b",
            "placeholder": "​",
            "style": "IPY_MODEL_dc9f77fa41024dbcbcdd73b67168576e",
            "value": " 1451/1500 [00:01&lt;00:00, 1831.93 examples/s]"
          }
        },
        "8040dfd93909481cb59f3bda296c7820": {
          "model_module": "@jupyter-widgets/base",
          "model_name": "LayoutModel",
          "model_module_version": "1.2.0",
          "state": {
            "_model_module": "@jupyter-widgets/base",
            "_model_module_version": "1.2.0",
            "_model_name": "LayoutModel",
            "_view_count": null,
            "_view_module": "@jupyter-widgets/base",
            "_view_module_version": "1.2.0",
            "_view_name": "LayoutView",
            "align_content": null,
            "align_items": null,
            "align_self": null,
            "border": null,
            "bottom": null,
            "display": null,
            "flex": null,
            "flex_flow": null,
            "grid_area": null,
            "grid_auto_columns": null,
            "grid_auto_flow": null,
            "grid_auto_rows": null,
            "grid_column": null,
            "grid_gap": null,
            "grid_row": null,
            "grid_template_areas": null,
            "grid_template_columns": null,
            "grid_template_rows": null,
            "height": null,
            "justify_content": null,
            "justify_items": null,
            "left": null,
            "margin": null,
            "max_height": null,
            "max_width": null,
            "min_height": null,
            "min_width": null,
            "object_fit": null,
            "object_position": null,
            "order": null,
            "overflow": null,
            "overflow_x": null,
            "overflow_y": null,
            "padding": null,
            "right": null,
            "top": null,
            "visibility": null,
            "width": null
          }
        },
        "765f9bff692a4822957c19efffd5fa03": {
          "model_module": "@jupyter-widgets/base",
          "model_name": "LayoutModel",
          "model_module_version": "1.2.0",
          "state": {
            "_model_module": "@jupyter-widgets/base",
            "_model_module_version": "1.2.0",
            "_model_name": "LayoutModel",
            "_view_count": null,
            "_view_module": "@jupyter-widgets/base",
            "_view_module_version": "1.2.0",
            "_view_name": "LayoutView",
            "align_content": null,
            "align_items": null,
            "align_self": null,
            "border": null,
            "bottom": null,
            "display": null,
            "flex": null,
            "flex_flow": null,
            "grid_area": null,
            "grid_auto_columns": null,
            "grid_auto_flow": null,
            "grid_auto_rows": null,
            "grid_column": null,
            "grid_gap": null,
            "grid_row": null,
            "grid_template_areas": null,
            "grid_template_columns": null,
            "grid_template_rows": null,
            "height": null,
            "justify_content": null,
            "justify_items": null,
            "left": null,
            "margin": null,
            "max_height": null,
            "max_width": null,
            "min_height": null,
            "min_width": null,
            "object_fit": null,
            "object_position": null,
            "order": null,
            "overflow": null,
            "overflow_x": null,
            "overflow_y": null,
            "padding": null,
            "right": null,
            "top": null,
            "visibility": null,
            "width": null
          }
        },
        "4262a98c16e54121a3fb1eebb34ca641": {
          "model_module": "@jupyter-widgets/controls",
          "model_name": "DescriptionStyleModel",
          "model_module_version": "1.5.0",
          "state": {
            "_model_module": "@jupyter-widgets/controls",
            "_model_module_version": "1.5.0",
            "_model_name": "DescriptionStyleModel",
            "_view_count": null,
            "_view_module": "@jupyter-widgets/base",
            "_view_module_version": "1.2.0",
            "_view_name": "StyleView",
            "description_width": ""
          }
        },
        "b032b83893a74569b56e6ccf70acd57f": {
          "model_module": "@jupyter-widgets/base",
          "model_name": "LayoutModel",
          "model_module_version": "1.2.0",
          "state": {
            "_model_module": "@jupyter-widgets/base",
            "_model_module_version": "1.2.0",
            "_model_name": "LayoutModel",
            "_view_count": null,
            "_view_module": "@jupyter-widgets/base",
            "_view_module_version": "1.2.0",
            "_view_name": "LayoutView",
            "align_content": null,
            "align_items": null,
            "align_self": null,
            "border": null,
            "bottom": null,
            "display": null,
            "flex": null,
            "flex_flow": null,
            "grid_area": null,
            "grid_auto_columns": null,
            "grid_auto_flow": null,
            "grid_auto_rows": null,
            "grid_column": null,
            "grid_gap": null,
            "grid_row": null,
            "grid_template_areas": null,
            "grid_template_columns": null,
            "grid_template_rows": null,
            "height": null,
            "justify_content": null,
            "justify_items": null,
            "left": null,
            "margin": null,
            "max_height": null,
            "max_width": null,
            "min_height": null,
            "min_width": null,
            "object_fit": null,
            "object_position": null,
            "order": null,
            "overflow": null,
            "overflow_x": null,
            "overflow_y": null,
            "padding": null,
            "right": null,
            "top": null,
            "visibility": null,
            "width": null
          }
        },
        "23e9dce18e5a4f7eb49e936e7495c373": {
          "model_module": "@jupyter-widgets/controls",
          "model_name": "ProgressStyleModel",
          "model_module_version": "1.5.0",
          "state": {
            "_model_module": "@jupyter-widgets/controls",
            "_model_module_version": "1.5.0",
            "_model_name": "ProgressStyleModel",
            "_view_count": null,
            "_view_module": "@jupyter-widgets/base",
            "_view_module_version": "1.2.0",
            "_view_name": "StyleView",
            "bar_color": null,
            "description_width": ""
          }
        },
        "eb8b74d33b3547c98a2ab37aa6bad61b": {
          "model_module": "@jupyter-widgets/base",
          "model_name": "LayoutModel",
          "model_module_version": "1.2.0",
          "state": {
            "_model_module": "@jupyter-widgets/base",
            "_model_module_version": "1.2.0",
            "_model_name": "LayoutModel",
            "_view_count": null,
            "_view_module": "@jupyter-widgets/base",
            "_view_module_version": "1.2.0",
            "_view_name": "LayoutView",
            "align_content": null,
            "align_items": null,
            "align_self": null,
            "border": null,
            "bottom": null,
            "display": null,
            "flex": null,
            "flex_flow": null,
            "grid_area": null,
            "grid_auto_columns": null,
            "grid_auto_flow": null,
            "grid_auto_rows": null,
            "grid_column": null,
            "grid_gap": null,
            "grid_row": null,
            "grid_template_areas": null,
            "grid_template_columns": null,
            "grid_template_rows": null,
            "height": null,
            "justify_content": null,
            "justify_items": null,
            "left": null,
            "margin": null,
            "max_height": null,
            "max_width": null,
            "min_height": null,
            "min_width": null,
            "object_fit": null,
            "object_position": null,
            "order": null,
            "overflow": null,
            "overflow_x": null,
            "overflow_y": null,
            "padding": null,
            "right": null,
            "top": null,
            "visibility": null,
            "width": null
          }
        },
        "dc9f77fa41024dbcbcdd73b67168576e": {
          "model_module": "@jupyter-widgets/controls",
          "model_name": "DescriptionStyleModel",
          "model_module_version": "1.5.0",
          "state": {
            "_model_module": "@jupyter-widgets/controls",
            "_model_module_version": "1.5.0",
            "_model_name": "DescriptionStyleModel",
            "_view_count": null,
            "_view_module": "@jupyter-widgets/base",
            "_view_module_version": "1.2.0",
            "_view_name": "StyleView",
            "description_width": ""
          }
        },
        "5388581ad61d4d8fae2da9225584680b": {
          "model_module": "@jupyter-widgets/controls",
          "model_name": "HBoxModel",
          "model_module_version": "1.5.0",
          "state": {
            "_dom_classes": [],
            "_model_module": "@jupyter-widgets/controls",
            "_model_module_version": "1.5.0",
            "_model_name": "HBoxModel",
            "_view_count": null,
            "_view_module": "@jupyter-widgets/controls",
            "_view_module_version": "1.5.0",
            "_view_name": "HBoxView",
            "box_style": "",
            "children": [
              "IPY_MODEL_209d4f44a8ae4deaa8bda355b51da24e",
              "IPY_MODEL_3127d29cb6234f65a95e0a35aa996fb4",
              "IPY_MODEL_7b9d73a9fdbc4876ba2dfc6e468dc9b9"
            ],
            "layout": "IPY_MODEL_4b1021735b0a41b698ac2dc9834ba72c"
          }
        },
        "209d4f44a8ae4deaa8bda355b51da24e": {
          "model_module": "@jupyter-widgets/controls",
          "model_name": "HTMLModel",
          "model_module_version": "1.5.0",
          "state": {
            "_dom_classes": [],
            "_model_module": "@jupyter-widgets/controls",
            "_model_module_version": "1.5.0",
            "_model_name": "HTMLModel",
            "_view_count": null,
            "_view_module": "@jupyter-widgets/controls",
            "_view_module_version": "1.5.0",
            "_view_name": "HTMLView",
            "description": "",
            "description_tooltip": null,
            "layout": "IPY_MODEL_8565ad8f7e5f43868c190ec06e528d5d",
            "placeholder": "​",
            "style": "IPY_MODEL_65885e8a36824a8a9df814a5899a4a94",
            "value": "Generating validation split:  88%"
          }
        },
        "3127d29cb6234f65a95e0a35aa996fb4": {
          "model_module": "@jupyter-widgets/controls",
          "model_name": "FloatProgressModel",
          "model_module_version": "1.5.0",
          "state": {
            "_dom_classes": [],
            "_model_module": "@jupyter-widgets/controls",
            "_model_module_version": "1.5.0",
            "_model_name": "FloatProgressModel",
            "_view_count": null,
            "_view_module": "@jupyter-widgets/controls",
            "_view_module_version": "1.5.0",
            "_view_name": "ProgressView",
            "bar_style": "",
            "description": "",
            "description_tooltip": null,
            "layout": "IPY_MODEL_9aadcad2d7ab40348e8ef394dbe25cd1",
            "max": 1500,
            "min": 0,
            "orientation": "horizontal",
            "style": "IPY_MODEL_4afab2c1180f49b4909ad7f8499d1239",
            "value": 1500
          }
        },
        "7b9d73a9fdbc4876ba2dfc6e468dc9b9": {
          "model_module": "@jupyter-widgets/controls",
          "model_name": "HTMLModel",
          "model_module_version": "1.5.0",
          "state": {
            "_dom_classes": [],
            "_model_module": "@jupyter-widgets/controls",
            "_model_module_version": "1.5.0",
            "_model_name": "HTMLModel",
            "_view_count": null,
            "_view_module": "@jupyter-widgets/controls",
            "_view_module_version": "1.5.0",
            "_view_name": "HTMLView",
            "description": "",
            "description_tooltip": null,
            "layout": "IPY_MODEL_19b7b2a00dde44b8a8836d2465025b8a",
            "placeholder": "​",
            "style": "IPY_MODEL_ed645efa20f64a3790758cee37507a66",
            "value": " 1317/1500 [00:01&lt;00:00, 1510.81 examples/s]"
          }
        },
        "4b1021735b0a41b698ac2dc9834ba72c": {
          "model_module": "@jupyter-widgets/base",
          "model_name": "LayoutModel",
          "model_module_version": "1.2.0",
          "state": {
            "_model_module": "@jupyter-widgets/base",
            "_model_module_version": "1.2.0",
            "_model_name": "LayoutModel",
            "_view_count": null,
            "_view_module": "@jupyter-widgets/base",
            "_view_module_version": "1.2.0",
            "_view_name": "LayoutView",
            "align_content": null,
            "align_items": null,
            "align_self": null,
            "border": null,
            "bottom": null,
            "display": null,
            "flex": null,
            "flex_flow": null,
            "grid_area": null,
            "grid_auto_columns": null,
            "grid_auto_flow": null,
            "grid_auto_rows": null,
            "grid_column": null,
            "grid_gap": null,
            "grid_row": null,
            "grid_template_areas": null,
            "grid_template_columns": null,
            "grid_template_rows": null,
            "height": null,
            "justify_content": null,
            "justify_items": null,
            "left": null,
            "margin": null,
            "max_height": null,
            "max_width": null,
            "min_height": null,
            "min_width": null,
            "object_fit": null,
            "object_position": null,
            "order": null,
            "overflow": null,
            "overflow_x": null,
            "overflow_y": null,
            "padding": null,
            "right": null,
            "top": null,
            "visibility": null,
            "width": null
          }
        },
        "8565ad8f7e5f43868c190ec06e528d5d": {
          "model_module": "@jupyter-widgets/base",
          "model_name": "LayoutModel",
          "model_module_version": "1.2.0",
          "state": {
            "_model_module": "@jupyter-widgets/base",
            "_model_module_version": "1.2.0",
            "_model_name": "LayoutModel",
            "_view_count": null,
            "_view_module": "@jupyter-widgets/base",
            "_view_module_version": "1.2.0",
            "_view_name": "LayoutView",
            "align_content": null,
            "align_items": null,
            "align_self": null,
            "border": null,
            "bottom": null,
            "display": null,
            "flex": null,
            "flex_flow": null,
            "grid_area": null,
            "grid_auto_columns": null,
            "grid_auto_flow": null,
            "grid_auto_rows": null,
            "grid_column": null,
            "grid_gap": null,
            "grid_row": null,
            "grid_template_areas": null,
            "grid_template_columns": null,
            "grid_template_rows": null,
            "height": null,
            "justify_content": null,
            "justify_items": null,
            "left": null,
            "margin": null,
            "max_height": null,
            "max_width": null,
            "min_height": null,
            "min_width": null,
            "object_fit": null,
            "object_position": null,
            "order": null,
            "overflow": null,
            "overflow_x": null,
            "overflow_y": null,
            "padding": null,
            "right": null,
            "top": null,
            "visibility": null,
            "width": null
          }
        },
        "65885e8a36824a8a9df814a5899a4a94": {
          "model_module": "@jupyter-widgets/controls",
          "model_name": "DescriptionStyleModel",
          "model_module_version": "1.5.0",
          "state": {
            "_model_module": "@jupyter-widgets/controls",
            "_model_module_version": "1.5.0",
            "_model_name": "DescriptionStyleModel",
            "_view_count": null,
            "_view_module": "@jupyter-widgets/base",
            "_view_module_version": "1.2.0",
            "_view_name": "StyleView",
            "description_width": ""
          }
        },
        "9aadcad2d7ab40348e8ef394dbe25cd1": {
          "model_module": "@jupyter-widgets/base",
          "model_name": "LayoutModel",
          "model_module_version": "1.2.0",
          "state": {
            "_model_module": "@jupyter-widgets/base",
            "_model_module_version": "1.2.0",
            "_model_name": "LayoutModel",
            "_view_count": null,
            "_view_module": "@jupyter-widgets/base",
            "_view_module_version": "1.2.0",
            "_view_name": "LayoutView",
            "align_content": null,
            "align_items": null,
            "align_self": null,
            "border": null,
            "bottom": null,
            "display": null,
            "flex": null,
            "flex_flow": null,
            "grid_area": null,
            "grid_auto_columns": null,
            "grid_auto_flow": null,
            "grid_auto_rows": null,
            "grid_column": null,
            "grid_gap": null,
            "grid_row": null,
            "grid_template_areas": null,
            "grid_template_columns": null,
            "grid_template_rows": null,
            "height": null,
            "justify_content": null,
            "justify_items": null,
            "left": null,
            "margin": null,
            "max_height": null,
            "max_width": null,
            "min_height": null,
            "min_width": null,
            "object_fit": null,
            "object_position": null,
            "order": null,
            "overflow": null,
            "overflow_x": null,
            "overflow_y": null,
            "padding": null,
            "right": null,
            "top": null,
            "visibility": null,
            "width": null
          }
        },
        "4afab2c1180f49b4909ad7f8499d1239": {
          "model_module": "@jupyter-widgets/controls",
          "model_name": "ProgressStyleModel",
          "model_module_version": "1.5.0",
          "state": {
            "_model_module": "@jupyter-widgets/controls",
            "_model_module_version": "1.5.0",
            "_model_name": "ProgressStyleModel",
            "_view_count": null,
            "_view_module": "@jupyter-widgets/base",
            "_view_module_version": "1.2.0",
            "_view_name": "StyleView",
            "bar_color": null,
            "description_width": ""
          }
        },
        "19b7b2a00dde44b8a8836d2465025b8a": {
          "model_module": "@jupyter-widgets/base",
          "model_name": "LayoutModel",
          "model_module_version": "1.2.0",
          "state": {
            "_model_module": "@jupyter-widgets/base",
            "_model_module_version": "1.2.0",
            "_model_name": "LayoutModel",
            "_view_count": null,
            "_view_module": "@jupyter-widgets/base",
            "_view_module_version": "1.2.0",
            "_view_name": "LayoutView",
            "align_content": null,
            "align_items": null,
            "align_self": null,
            "border": null,
            "bottom": null,
            "display": null,
            "flex": null,
            "flex_flow": null,
            "grid_area": null,
            "grid_auto_columns": null,
            "grid_auto_flow": null,
            "grid_auto_rows": null,
            "grid_column": null,
            "grid_gap": null,
            "grid_row": null,
            "grid_template_areas": null,
            "grid_template_columns": null,
            "grid_template_rows": null,
            "height": null,
            "justify_content": null,
            "justify_items": null,
            "left": null,
            "margin": null,
            "max_height": null,
            "max_width": null,
            "min_height": null,
            "min_width": null,
            "object_fit": null,
            "object_position": null,
            "order": null,
            "overflow": null,
            "overflow_x": null,
            "overflow_y": null,
            "padding": null,
            "right": null,
            "top": null,
            "visibility": null,
            "width": null
          }
        },
        "ed645efa20f64a3790758cee37507a66": {
          "model_module": "@jupyter-widgets/controls",
          "model_name": "DescriptionStyleModel",
          "model_module_version": "1.5.0",
          "state": {
            "_model_module": "@jupyter-widgets/controls",
            "_model_module_version": "1.5.0",
            "_model_name": "DescriptionStyleModel",
            "_view_count": null,
            "_view_module": "@jupyter-widgets/base",
            "_view_module_version": "1.2.0",
            "_view_name": "StyleView",
            "description_width": ""
          }
        },
        "a26d6ebb66d14348a60469c4834722e5": {
          "model_module": "@jupyter-widgets/controls",
          "model_name": "HBoxModel",
          "model_module_version": "1.5.0",
          "state": {
            "_dom_classes": [],
            "_model_module": "@jupyter-widgets/controls",
            "_model_module_version": "1.5.0",
            "_model_name": "HBoxModel",
            "_view_count": null,
            "_view_module": "@jupyter-widgets/controls",
            "_view_module_version": "1.5.0",
            "_view_name": "HBoxView",
            "box_style": "",
            "children": [
              "IPY_MODEL_94a3f54f07104d1a97f535d5e6100dfe",
              "IPY_MODEL_dd4a87d313a644e28f3b29c9218724ab",
              "IPY_MODEL_6e068dd0487343e7a8385f863a71e6af"
            ],
            "layout": "IPY_MODEL_7446ad2050b44fafb8bf88b1d6639a21"
          }
        },
        "94a3f54f07104d1a97f535d5e6100dfe": {
          "model_module": "@jupyter-widgets/controls",
          "model_name": "HTMLModel",
          "model_module_version": "1.5.0",
          "state": {
            "_dom_classes": [],
            "_model_module": "@jupyter-widgets/controls",
            "_model_module_version": "1.5.0",
            "_model_name": "HTMLModel",
            "_view_count": null,
            "_view_module": "@jupyter-widgets/controls",
            "_view_module_version": "1.5.0",
            "_view_name": "HTMLView",
            "description": "",
            "description_tooltip": null,
            "layout": "IPY_MODEL_93b263f1fc634240bbee2f18b8f0ec4b",
            "placeholder": "​",
            "style": "IPY_MODEL_d0616a39d4da487685a0a5430cf8b80a",
            "value": "100%"
          }
        },
        "dd4a87d313a644e28f3b29c9218724ab": {
          "model_module": "@jupyter-widgets/controls",
          "model_name": "FloatProgressModel",
          "model_module_version": "1.5.0",
          "state": {
            "_dom_classes": [],
            "_model_module": "@jupyter-widgets/controls",
            "_model_module_version": "1.5.0",
            "_model_name": "FloatProgressModel",
            "_view_count": null,
            "_view_module": "@jupyter-widgets/controls",
            "_view_module_version": "1.5.0",
            "_view_name": "ProgressView",
            "bar_style": "success",
            "description": "",
            "description_tooltip": null,
            "layout": "IPY_MODEL_05395c02d32a4d5d8fa8a3abf2641661",
            "max": 3,
            "min": 0,
            "orientation": "horizontal",
            "style": "IPY_MODEL_40fc9dbcf18f49118cb2f8912ea3620a",
            "value": 3
          }
        },
        "6e068dd0487343e7a8385f863a71e6af": {
          "model_module": "@jupyter-widgets/controls",
          "model_name": "HTMLModel",
          "model_module_version": "1.5.0",
          "state": {
            "_dom_classes": [],
            "_model_module": "@jupyter-widgets/controls",
            "_model_module_version": "1.5.0",
            "_model_name": "HTMLModel",
            "_view_count": null,
            "_view_module": "@jupyter-widgets/controls",
            "_view_module_version": "1.5.0",
            "_view_name": "HTMLView",
            "description": "",
            "description_tooltip": null,
            "layout": "IPY_MODEL_88abaa51aa294dbca75b154e1c70c388",
            "placeholder": "​",
            "style": "IPY_MODEL_484a880475e346e5b336e34d1c3a5a85",
            "value": " 3/3 [00:00&lt;00:00,  6.18it/s]"
          }
        },
        "7446ad2050b44fafb8bf88b1d6639a21": {
          "model_module": "@jupyter-widgets/base",
          "model_name": "LayoutModel",
          "model_module_version": "1.2.0",
          "state": {
            "_model_module": "@jupyter-widgets/base",
            "_model_module_version": "1.2.0",
            "_model_name": "LayoutModel",
            "_view_count": null,
            "_view_module": "@jupyter-widgets/base",
            "_view_module_version": "1.2.0",
            "_view_name": "LayoutView",
            "align_content": null,
            "align_items": null,
            "align_self": null,
            "border": null,
            "bottom": null,
            "display": null,
            "flex": null,
            "flex_flow": null,
            "grid_area": null,
            "grid_auto_columns": null,
            "grid_auto_flow": null,
            "grid_auto_rows": null,
            "grid_column": null,
            "grid_gap": null,
            "grid_row": null,
            "grid_template_areas": null,
            "grid_template_columns": null,
            "grid_template_rows": null,
            "height": null,
            "justify_content": null,
            "justify_items": null,
            "left": null,
            "margin": null,
            "max_height": null,
            "max_width": null,
            "min_height": null,
            "min_width": null,
            "object_fit": null,
            "object_position": null,
            "order": null,
            "overflow": null,
            "overflow_x": null,
            "overflow_y": null,
            "padding": null,
            "right": null,
            "top": null,
            "visibility": null,
            "width": null
          }
        },
        "93b263f1fc634240bbee2f18b8f0ec4b": {
          "model_module": "@jupyter-widgets/base",
          "model_name": "LayoutModel",
          "model_module_version": "1.2.0",
          "state": {
            "_model_module": "@jupyter-widgets/base",
            "_model_module_version": "1.2.0",
            "_model_name": "LayoutModel",
            "_view_count": null,
            "_view_module": "@jupyter-widgets/base",
            "_view_module_version": "1.2.0",
            "_view_name": "LayoutView",
            "align_content": null,
            "align_items": null,
            "align_self": null,
            "border": null,
            "bottom": null,
            "display": null,
            "flex": null,
            "flex_flow": null,
            "grid_area": null,
            "grid_auto_columns": null,
            "grid_auto_flow": null,
            "grid_auto_rows": null,
            "grid_column": null,
            "grid_gap": null,
            "grid_row": null,
            "grid_template_areas": null,
            "grid_template_columns": null,
            "grid_template_rows": null,
            "height": null,
            "justify_content": null,
            "justify_items": null,
            "left": null,
            "margin": null,
            "max_height": null,
            "max_width": null,
            "min_height": null,
            "min_width": null,
            "object_fit": null,
            "object_position": null,
            "order": null,
            "overflow": null,
            "overflow_x": null,
            "overflow_y": null,
            "padding": null,
            "right": null,
            "top": null,
            "visibility": null,
            "width": null
          }
        },
        "d0616a39d4da487685a0a5430cf8b80a": {
          "model_module": "@jupyter-widgets/controls",
          "model_name": "DescriptionStyleModel",
          "model_module_version": "1.5.0",
          "state": {
            "_model_module": "@jupyter-widgets/controls",
            "_model_module_version": "1.5.0",
            "_model_name": "DescriptionStyleModel",
            "_view_count": null,
            "_view_module": "@jupyter-widgets/base",
            "_view_module_version": "1.2.0",
            "_view_name": "StyleView",
            "description_width": ""
          }
        },
        "05395c02d32a4d5d8fa8a3abf2641661": {
          "model_module": "@jupyter-widgets/base",
          "model_name": "LayoutModel",
          "model_module_version": "1.2.0",
          "state": {
            "_model_module": "@jupyter-widgets/base",
            "_model_module_version": "1.2.0",
            "_model_name": "LayoutModel",
            "_view_count": null,
            "_view_module": "@jupyter-widgets/base",
            "_view_module_version": "1.2.0",
            "_view_name": "LayoutView",
            "align_content": null,
            "align_items": null,
            "align_self": null,
            "border": null,
            "bottom": null,
            "display": null,
            "flex": null,
            "flex_flow": null,
            "grid_area": null,
            "grid_auto_columns": null,
            "grid_auto_flow": null,
            "grid_auto_rows": null,
            "grid_column": null,
            "grid_gap": null,
            "grid_row": null,
            "grid_template_areas": null,
            "grid_template_columns": null,
            "grid_template_rows": null,
            "height": null,
            "justify_content": null,
            "justify_items": null,
            "left": null,
            "margin": null,
            "max_height": null,
            "max_width": null,
            "min_height": null,
            "min_width": null,
            "object_fit": null,
            "object_position": null,
            "order": null,
            "overflow": null,
            "overflow_x": null,
            "overflow_y": null,
            "padding": null,
            "right": null,
            "top": null,
            "visibility": null,
            "width": null
          }
        },
        "40fc9dbcf18f49118cb2f8912ea3620a": {
          "model_module": "@jupyter-widgets/controls",
          "model_name": "ProgressStyleModel",
          "model_module_version": "1.5.0",
          "state": {
            "_model_module": "@jupyter-widgets/controls",
            "_model_module_version": "1.5.0",
            "_model_name": "ProgressStyleModel",
            "_view_count": null,
            "_view_module": "@jupyter-widgets/base",
            "_view_module_version": "1.2.0",
            "_view_name": "StyleView",
            "bar_color": null,
            "description_width": ""
          }
        },
        "88abaa51aa294dbca75b154e1c70c388": {
          "model_module": "@jupyter-widgets/base",
          "model_name": "LayoutModel",
          "model_module_version": "1.2.0",
          "state": {
            "_model_module": "@jupyter-widgets/base",
            "_model_module_version": "1.2.0",
            "_model_name": "LayoutModel",
            "_view_count": null,
            "_view_module": "@jupyter-widgets/base",
            "_view_module_version": "1.2.0",
            "_view_name": "LayoutView",
            "align_content": null,
            "align_items": null,
            "align_self": null,
            "border": null,
            "bottom": null,
            "display": null,
            "flex": null,
            "flex_flow": null,
            "grid_area": null,
            "grid_auto_columns": null,
            "grid_auto_flow": null,
            "grid_auto_rows": null,
            "grid_column": null,
            "grid_gap": null,
            "grid_row": null,
            "grid_template_areas": null,
            "grid_template_columns": null,
            "grid_template_rows": null,
            "height": null,
            "justify_content": null,
            "justify_items": null,
            "left": null,
            "margin": null,
            "max_height": null,
            "max_width": null,
            "min_height": null,
            "min_width": null,
            "object_fit": null,
            "object_position": null,
            "order": null,
            "overflow": null,
            "overflow_x": null,
            "overflow_y": null,
            "padding": null,
            "right": null,
            "top": null,
            "visibility": null,
            "width": null
          }
        },
        "484a880475e346e5b336e34d1c3a5a85": {
          "model_module": "@jupyter-widgets/controls",
          "model_name": "DescriptionStyleModel",
          "model_module_version": "1.5.0",
          "state": {
            "_model_module": "@jupyter-widgets/controls",
            "_model_module_version": "1.5.0",
            "_model_name": "DescriptionStyleModel",
            "_view_count": null,
            "_view_module": "@jupyter-widgets/base",
            "_view_module_version": "1.2.0",
            "_view_name": "StyleView",
            "description_width": ""
          }
        },
        "2ee5b8906b3349d2accff7c3168ab8d8": {
          "model_module": "@jupyter-widgets/controls",
          "model_name": "HBoxModel",
          "model_module_version": "1.5.0",
          "state": {
            "_dom_classes": [],
            "_model_module": "@jupyter-widgets/controls",
            "_model_module_version": "1.5.0",
            "_model_name": "HBoxModel",
            "_view_count": null,
            "_view_module": "@jupyter-widgets/controls",
            "_view_module_version": "1.5.0",
            "_view_name": "HBoxView",
            "box_style": "",
            "children": [
              "IPY_MODEL_f4d52371a82c416ca69185cbe8a93633",
              "IPY_MODEL_06bdd2a886c74f558532c2ef029549a0",
              "IPY_MODEL_008a6e0b6660458b8d8411b96f1bf696"
            ],
            "layout": "IPY_MODEL_f708ce97b05b44f1882d197ecca86412"
          }
        },
        "f4d52371a82c416ca69185cbe8a93633": {
          "model_module": "@jupyter-widgets/controls",
          "model_name": "HTMLModel",
          "model_module_version": "1.5.0",
          "state": {
            "_dom_classes": [],
            "_model_module": "@jupyter-widgets/controls",
            "_model_module_version": "1.5.0",
            "_model_name": "HTMLModel",
            "_view_count": null,
            "_view_module": "@jupyter-widgets/controls",
            "_view_module_version": "1.5.0",
            "_view_name": "HTMLView",
            "description": "",
            "description_tooltip": null,
            "layout": "IPY_MODEL_56d9cfa95e01470583410354f79664db",
            "placeholder": "​",
            "style": "IPY_MODEL_5063175b8bb34c40b13e7c803dff864f",
            "value": "100%"
          }
        },
        "06bdd2a886c74f558532c2ef029549a0": {
          "model_module": "@jupyter-widgets/controls",
          "model_name": "FloatProgressModel",
          "model_module_version": "1.5.0",
          "state": {
            "_dom_classes": [],
            "_model_module": "@jupyter-widgets/controls",
            "_model_module_version": "1.5.0",
            "_model_name": "FloatProgressModel",
            "_view_count": null,
            "_view_module": "@jupyter-widgets/controls",
            "_view_module_version": "1.5.0",
            "_view_name": "ProgressView",
            "bar_style": "success",
            "description": "",
            "description_tooltip": null,
            "layout": "IPY_MODEL_1c8f3954c6444df6a637423699296286",
            "max": 21401,
            "min": 0,
            "orientation": "horizontal",
            "style": "IPY_MODEL_0f7d15b5d88541f9b2fd0ad53c966351",
            "value": 21401
          }
        },
        "008a6e0b6660458b8d8411b96f1bf696": {
          "model_module": "@jupyter-widgets/controls",
          "model_name": "HTMLModel",
          "model_module_version": "1.5.0",
          "state": {
            "_dom_classes": [],
            "_model_module": "@jupyter-widgets/controls",
            "_model_module_version": "1.5.0",
            "_model_name": "HTMLModel",
            "_view_count": null,
            "_view_module": "@jupyter-widgets/controls",
            "_view_module_version": "1.5.0",
            "_view_name": "HTMLView",
            "description": "",
            "description_tooltip": null,
            "layout": "IPY_MODEL_429c064c31844ad0a2a8008f330a2c76",
            "placeholder": "​",
            "style": "IPY_MODEL_81df26c0bdf94e9abab6e2dfd5aea64d",
            "value": " 21401/21401 [01:45&lt;00:00, 225.30it/s]"
          }
        },
        "f708ce97b05b44f1882d197ecca86412": {
          "model_module": "@jupyter-widgets/base",
          "model_name": "LayoutModel",
          "model_module_version": "1.2.0",
          "state": {
            "_model_module": "@jupyter-widgets/base",
            "_model_module_version": "1.2.0",
            "_model_name": "LayoutModel",
            "_view_count": null,
            "_view_module": "@jupyter-widgets/base",
            "_view_module_version": "1.2.0",
            "_view_name": "LayoutView",
            "align_content": null,
            "align_items": null,
            "align_self": null,
            "border": null,
            "bottom": null,
            "display": null,
            "flex": null,
            "flex_flow": null,
            "grid_area": null,
            "grid_auto_columns": null,
            "grid_auto_flow": null,
            "grid_auto_rows": null,
            "grid_column": null,
            "grid_gap": null,
            "grid_row": null,
            "grid_template_areas": null,
            "grid_template_columns": null,
            "grid_template_rows": null,
            "height": null,
            "justify_content": null,
            "justify_items": null,
            "left": null,
            "margin": null,
            "max_height": null,
            "max_width": null,
            "min_height": null,
            "min_width": null,
            "object_fit": null,
            "object_position": null,
            "order": null,
            "overflow": null,
            "overflow_x": null,
            "overflow_y": null,
            "padding": null,
            "right": null,
            "top": null,
            "visibility": null,
            "width": null
          }
        },
        "56d9cfa95e01470583410354f79664db": {
          "model_module": "@jupyter-widgets/base",
          "model_name": "LayoutModel",
          "model_module_version": "1.2.0",
          "state": {
            "_model_module": "@jupyter-widgets/base",
            "_model_module_version": "1.2.0",
            "_model_name": "LayoutModel",
            "_view_count": null,
            "_view_module": "@jupyter-widgets/base",
            "_view_module_version": "1.2.0",
            "_view_name": "LayoutView",
            "align_content": null,
            "align_items": null,
            "align_self": null,
            "border": null,
            "bottom": null,
            "display": null,
            "flex": null,
            "flex_flow": null,
            "grid_area": null,
            "grid_auto_columns": null,
            "grid_auto_flow": null,
            "grid_auto_rows": null,
            "grid_column": null,
            "grid_gap": null,
            "grid_row": null,
            "grid_template_areas": null,
            "grid_template_columns": null,
            "grid_template_rows": null,
            "height": null,
            "justify_content": null,
            "justify_items": null,
            "left": null,
            "margin": null,
            "max_height": null,
            "max_width": null,
            "min_height": null,
            "min_width": null,
            "object_fit": null,
            "object_position": null,
            "order": null,
            "overflow": null,
            "overflow_x": null,
            "overflow_y": null,
            "padding": null,
            "right": null,
            "top": null,
            "visibility": null,
            "width": null
          }
        },
        "5063175b8bb34c40b13e7c803dff864f": {
          "model_module": "@jupyter-widgets/controls",
          "model_name": "DescriptionStyleModel",
          "model_module_version": "1.5.0",
          "state": {
            "_model_module": "@jupyter-widgets/controls",
            "_model_module_version": "1.5.0",
            "_model_name": "DescriptionStyleModel",
            "_view_count": null,
            "_view_module": "@jupyter-widgets/base",
            "_view_module_version": "1.2.0",
            "_view_name": "StyleView",
            "description_width": ""
          }
        },
        "1c8f3954c6444df6a637423699296286": {
          "model_module": "@jupyter-widgets/base",
          "model_name": "LayoutModel",
          "model_module_version": "1.2.0",
          "state": {
            "_model_module": "@jupyter-widgets/base",
            "_model_module_version": "1.2.0",
            "_model_name": "LayoutModel",
            "_view_count": null,
            "_view_module": "@jupyter-widgets/base",
            "_view_module_version": "1.2.0",
            "_view_name": "LayoutView",
            "align_content": null,
            "align_items": null,
            "align_self": null,
            "border": null,
            "bottom": null,
            "display": null,
            "flex": null,
            "flex_flow": null,
            "grid_area": null,
            "grid_auto_columns": null,
            "grid_auto_flow": null,
            "grid_auto_rows": null,
            "grid_column": null,
            "grid_gap": null,
            "grid_row": null,
            "grid_template_areas": null,
            "grid_template_columns": null,
            "grid_template_rows": null,
            "height": null,
            "justify_content": null,
            "justify_items": null,
            "left": null,
            "margin": null,
            "max_height": null,
            "max_width": null,
            "min_height": null,
            "min_width": null,
            "object_fit": null,
            "object_position": null,
            "order": null,
            "overflow": null,
            "overflow_x": null,
            "overflow_y": null,
            "padding": null,
            "right": null,
            "top": null,
            "visibility": null,
            "width": null
          }
        },
        "0f7d15b5d88541f9b2fd0ad53c966351": {
          "model_module": "@jupyter-widgets/controls",
          "model_name": "ProgressStyleModel",
          "model_module_version": "1.5.0",
          "state": {
            "_model_module": "@jupyter-widgets/controls",
            "_model_module_version": "1.5.0",
            "_model_name": "ProgressStyleModel",
            "_view_count": null,
            "_view_module": "@jupyter-widgets/base",
            "_view_module_version": "1.2.0",
            "_view_name": "StyleView",
            "bar_color": null,
            "description_width": ""
          }
        },
        "429c064c31844ad0a2a8008f330a2c76": {
          "model_module": "@jupyter-widgets/base",
          "model_name": "LayoutModel",
          "model_module_version": "1.2.0",
          "state": {
            "_model_module": "@jupyter-widgets/base",
            "_model_module_version": "1.2.0",
            "_model_name": "LayoutModel",
            "_view_count": null,
            "_view_module": "@jupyter-widgets/base",
            "_view_module_version": "1.2.0",
            "_view_name": "LayoutView",
            "align_content": null,
            "align_items": null,
            "align_self": null,
            "border": null,
            "bottom": null,
            "display": null,
            "flex": null,
            "flex_flow": null,
            "grid_area": null,
            "grid_auto_columns": null,
            "grid_auto_flow": null,
            "grid_auto_rows": null,
            "grid_column": null,
            "grid_gap": null,
            "grid_row": null,
            "grid_template_areas": null,
            "grid_template_columns": null,
            "grid_template_rows": null,
            "height": null,
            "justify_content": null,
            "justify_items": null,
            "left": null,
            "margin": null,
            "max_height": null,
            "max_width": null,
            "min_height": null,
            "min_width": null,
            "object_fit": null,
            "object_position": null,
            "order": null,
            "overflow": null,
            "overflow_x": null,
            "overflow_y": null,
            "padding": null,
            "right": null,
            "top": null,
            "visibility": null,
            "width": null
          }
        },
        "81df26c0bdf94e9abab6e2dfd5aea64d": {
          "model_module": "@jupyter-widgets/controls",
          "model_name": "DescriptionStyleModel",
          "model_module_version": "1.5.0",
          "state": {
            "_model_module": "@jupyter-widgets/controls",
            "_model_module_version": "1.5.0",
            "_model_name": "DescriptionStyleModel",
            "_view_count": null,
            "_view_module": "@jupyter-widgets/base",
            "_view_module_version": "1.2.0",
            "_view_name": "StyleView",
            "description_width": ""
          }
        },
        "34ffe0ddbde64417a473297f0425499c": {
          "model_module": "@jupyter-widgets/controls",
          "model_name": "HBoxModel",
          "model_module_version": "1.5.0",
          "state": {
            "_dom_classes": [],
            "_model_module": "@jupyter-widgets/controls",
            "_model_module_version": "1.5.0",
            "_model_name": "HBoxModel",
            "_view_count": null,
            "_view_module": "@jupyter-widgets/controls",
            "_view_module_version": "1.5.0",
            "_view_name": "HBoxView",
            "box_style": "",
            "children": [
              "IPY_MODEL_d5a7b661dad645a884a90d02a7bbcf1d",
              "IPY_MODEL_1e8baac5412246268286658c157821b2",
              "IPY_MODEL_b283753bcab043b8850f3a9cb3997a32"
            ],
            "layout": "IPY_MODEL_a88b66a24592455c8ab0445543a53de5"
          }
        },
        "d5a7b661dad645a884a90d02a7bbcf1d": {
          "model_module": "@jupyter-widgets/controls",
          "model_name": "HTMLModel",
          "model_module_version": "1.5.0",
          "state": {
            "_dom_classes": [],
            "_model_module": "@jupyter-widgets/controls",
            "_model_module_version": "1.5.0",
            "_model_name": "HTMLModel",
            "_view_count": null,
            "_view_module": "@jupyter-widgets/controls",
            "_view_module_version": "1.5.0",
            "_view_name": "HTMLView",
            "description": "",
            "description_tooltip": null,
            "layout": "IPY_MODEL_5c3b9ce454834405adfdeb2d0cc1c2ad",
            "placeholder": "​",
            "style": "IPY_MODEL_29ef14ba45044d8f90b815a2fa9c91ef",
            "value": "100%"
          }
        },
        "1e8baac5412246268286658c157821b2": {
          "model_module": "@jupyter-widgets/controls",
          "model_name": "FloatProgressModel",
          "model_module_version": "1.5.0",
          "state": {
            "_dom_classes": [],
            "_model_module": "@jupyter-widgets/controls",
            "_model_module_version": "1.5.0",
            "_model_name": "FloatProgressModel",
            "_view_count": null,
            "_view_module": "@jupyter-widgets/controls",
            "_view_module_version": "1.5.0",
            "_view_name": "ProgressView",
            "bar_style": "success",
            "description": "",
            "description_tooltip": null,
            "layout": "IPY_MODEL_7b126842226748d79d2fd0756881cc6a",
            "max": 21401,
            "min": 0,
            "orientation": "horizontal",
            "style": "IPY_MODEL_07d6a4b92a234a53aa2548a6d2f70a52",
            "value": 21401
          }
        },
        "b283753bcab043b8850f3a9cb3997a32": {
          "model_module": "@jupyter-widgets/controls",
          "model_name": "HTMLModel",
          "model_module_version": "1.5.0",
          "state": {
            "_dom_classes": [],
            "_model_module": "@jupyter-widgets/controls",
            "_model_module_version": "1.5.0",
            "_model_name": "HTMLModel",
            "_view_count": null,
            "_view_module": "@jupyter-widgets/controls",
            "_view_module_version": "1.5.0",
            "_view_name": "HTMLView",
            "description": "",
            "description_tooltip": null,
            "layout": "IPY_MODEL_943e7cc1c3304e199bf74b9a6e08a8c4",
            "placeholder": "​",
            "style": "IPY_MODEL_d85a32554ebc429fb4b757823b063ffc",
            "value": " 21401/21401 [00:14&lt;00:00, 1513.68it/s]"
          }
        },
        "a88b66a24592455c8ab0445543a53de5": {
          "model_module": "@jupyter-widgets/base",
          "model_name": "LayoutModel",
          "model_module_version": "1.2.0",
          "state": {
            "_model_module": "@jupyter-widgets/base",
            "_model_module_version": "1.2.0",
            "_model_name": "LayoutModel",
            "_view_count": null,
            "_view_module": "@jupyter-widgets/base",
            "_view_module_version": "1.2.0",
            "_view_name": "LayoutView",
            "align_content": null,
            "align_items": null,
            "align_self": null,
            "border": null,
            "bottom": null,
            "display": null,
            "flex": null,
            "flex_flow": null,
            "grid_area": null,
            "grid_auto_columns": null,
            "grid_auto_flow": null,
            "grid_auto_rows": null,
            "grid_column": null,
            "grid_gap": null,
            "grid_row": null,
            "grid_template_areas": null,
            "grid_template_columns": null,
            "grid_template_rows": null,
            "height": null,
            "justify_content": null,
            "justify_items": null,
            "left": null,
            "margin": null,
            "max_height": null,
            "max_width": null,
            "min_height": null,
            "min_width": null,
            "object_fit": null,
            "object_position": null,
            "order": null,
            "overflow": null,
            "overflow_x": null,
            "overflow_y": null,
            "padding": null,
            "right": null,
            "top": null,
            "visibility": null,
            "width": null
          }
        },
        "5c3b9ce454834405adfdeb2d0cc1c2ad": {
          "model_module": "@jupyter-widgets/base",
          "model_name": "LayoutModel",
          "model_module_version": "1.2.0",
          "state": {
            "_model_module": "@jupyter-widgets/base",
            "_model_module_version": "1.2.0",
            "_model_name": "LayoutModel",
            "_view_count": null,
            "_view_module": "@jupyter-widgets/base",
            "_view_module_version": "1.2.0",
            "_view_name": "LayoutView",
            "align_content": null,
            "align_items": null,
            "align_self": null,
            "border": null,
            "bottom": null,
            "display": null,
            "flex": null,
            "flex_flow": null,
            "grid_area": null,
            "grid_auto_columns": null,
            "grid_auto_flow": null,
            "grid_auto_rows": null,
            "grid_column": null,
            "grid_gap": null,
            "grid_row": null,
            "grid_template_areas": null,
            "grid_template_columns": null,
            "grid_template_rows": null,
            "height": null,
            "justify_content": null,
            "justify_items": null,
            "left": null,
            "margin": null,
            "max_height": null,
            "max_width": null,
            "min_height": null,
            "min_width": null,
            "object_fit": null,
            "object_position": null,
            "order": null,
            "overflow": null,
            "overflow_x": null,
            "overflow_y": null,
            "padding": null,
            "right": null,
            "top": null,
            "visibility": null,
            "width": null
          }
        },
        "29ef14ba45044d8f90b815a2fa9c91ef": {
          "model_module": "@jupyter-widgets/controls",
          "model_name": "DescriptionStyleModel",
          "model_module_version": "1.5.0",
          "state": {
            "_model_module": "@jupyter-widgets/controls",
            "_model_module_version": "1.5.0",
            "_model_name": "DescriptionStyleModel",
            "_view_count": null,
            "_view_module": "@jupyter-widgets/base",
            "_view_module_version": "1.2.0",
            "_view_name": "StyleView",
            "description_width": ""
          }
        },
        "7b126842226748d79d2fd0756881cc6a": {
          "model_module": "@jupyter-widgets/base",
          "model_name": "LayoutModel",
          "model_module_version": "1.2.0",
          "state": {
            "_model_module": "@jupyter-widgets/base",
            "_model_module_version": "1.2.0",
            "_model_name": "LayoutModel",
            "_view_count": null,
            "_view_module": "@jupyter-widgets/base",
            "_view_module_version": "1.2.0",
            "_view_name": "LayoutView",
            "align_content": null,
            "align_items": null,
            "align_self": null,
            "border": null,
            "bottom": null,
            "display": null,
            "flex": null,
            "flex_flow": null,
            "grid_area": null,
            "grid_auto_columns": null,
            "grid_auto_flow": null,
            "grid_auto_rows": null,
            "grid_column": null,
            "grid_gap": null,
            "grid_row": null,
            "grid_template_areas": null,
            "grid_template_columns": null,
            "grid_template_rows": null,
            "height": null,
            "justify_content": null,
            "justify_items": null,
            "left": null,
            "margin": null,
            "max_height": null,
            "max_width": null,
            "min_height": null,
            "min_width": null,
            "object_fit": null,
            "object_position": null,
            "order": null,
            "overflow": null,
            "overflow_x": null,
            "overflow_y": null,
            "padding": null,
            "right": null,
            "top": null,
            "visibility": null,
            "width": null
          }
        },
        "07d6a4b92a234a53aa2548a6d2f70a52": {
          "model_module": "@jupyter-widgets/controls",
          "model_name": "ProgressStyleModel",
          "model_module_version": "1.5.0",
          "state": {
            "_model_module": "@jupyter-widgets/controls",
            "_model_module_version": "1.5.0",
            "_model_name": "ProgressStyleModel",
            "_view_count": null,
            "_view_module": "@jupyter-widgets/base",
            "_view_module_version": "1.2.0",
            "_view_name": "StyleView",
            "bar_color": null,
            "description_width": ""
          }
        },
        "943e7cc1c3304e199bf74b9a6e08a8c4": {
          "model_module": "@jupyter-widgets/base",
          "model_name": "LayoutModel",
          "model_module_version": "1.2.0",
          "state": {
            "_model_module": "@jupyter-widgets/base",
            "_model_module_version": "1.2.0",
            "_model_name": "LayoutModel",
            "_view_count": null,
            "_view_module": "@jupyter-widgets/base",
            "_view_module_version": "1.2.0",
            "_view_name": "LayoutView",
            "align_content": null,
            "align_items": null,
            "align_self": null,
            "border": null,
            "bottom": null,
            "display": null,
            "flex": null,
            "flex_flow": null,
            "grid_area": null,
            "grid_auto_columns": null,
            "grid_auto_flow": null,
            "grid_auto_rows": null,
            "grid_column": null,
            "grid_gap": null,
            "grid_row": null,
            "grid_template_areas": null,
            "grid_template_columns": null,
            "grid_template_rows": null,
            "height": null,
            "justify_content": null,
            "justify_items": null,
            "left": null,
            "margin": null,
            "max_height": null,
            "max_width": null,
            "min_height": null,
            "min_width": null,
            "object_fit": null,
            "object_position": null,
            "order": null,
            "overflow": null,
            "overflow_x": null,
            "overflow_y": null,
            "padding": null,
            "right": null,
            "top": null,
            "visibility": null,
            "width": null
          }
        },
        "d85a32554ebc429fb4b757823b063ffc": {
          "model_module": "@jupyter-widgets/controls",
          "model_name": "DescriptionStyleModel",
          "model_module_version": "1.5.0",
          "state": {
            "_model_module": "@jupyter-widgets/controls",
            "_model_module_version": "1.5.0",
            "_model_name": "DescriptionStyleModel",
            "_view_count": null,
            "_view_module": "@jupyter-widgets/base",
            "_view_module_version": "1.2.0",
            "_view_name": "StyleView",
            "description_width": ""
          }
        },
        "1d0dbdc48c9f4b49a5f071b731eb493f": {
          "model_module": "@jupyter-widgets/controls",
          "model_name": "HBoxModel",
          "model_module_version": "1.5.0",
          "state": {
            "_dom_classes": [],
            "_model_module": "@jupyter-widgets/controls",
            "_model_module_version": "1.5.0",
            "_model_name": "HBoxModel",
            "_view_count": null,
            "_view_module": "@jupyter-widgets/controls",
            "_view_module_version": "1.5.0",
            "_view_name": "HBoxView",
            "box_style": "",
            "children": [
              "IPY_MODEL_5a2e7ea9406a47d8a809964b0f21a03b",
              "IPY_MODEL_8dc6ecf0886c42ac8e14c2b74613fc2b",
              "IPY_MODEL_93efb190257742789f7a7b51da81f09b"
            ],
            "layout": "IPY_MODEL_59f8dede6dd3491e9a216d3a770014b5"
          }
        },
        "5a2e7ea9406a47d8a809964b0f21a03b": {
          "model_module": "@jupyter-widgets/controls",
          "model_name": "HTMLModel",
          "model_module_version": "1.5.0",
          "state": {
            "_dom_classes": [],
            "_model_module": "@jupyter-widgets/controls",
            "_model_module_version": "1.5.0",
            "_model_name": "HTMLModel",
            "_view_count": null,
            "_view_module": "@jupyter-widgets/controls",
            "_view_module_version": "1.5.0",
            "_view_name": "HTMLView",
            "description": "",
            "description_tooltip": null,
            "layout": "IPY_MODEL_2cabdc2407824b01adbf6997abf024ce",
            "placeholder": "​",
            "style": "IPY_MODEL_d2af4087ebc441a8b81f7529c4ac2398",
            "value": "100%"
          }
        },
        "8dc6ecf0886c42ac8e14c2b74613fc2b": {
          "model_module": "@jupyter-widgets/controls",
          "model_name": "FloatProgressModel",
          "model_module_version": "1.5.0",
          "state": {
            "_dom_classes": [],
            "_model_module": "@jupyter-widgets/controls",
            "_model_module_version": "1.5.0",
            "_model_name": "FloatProgressModel",
            "_view_count": null,
            "_view_module": "@jupyter-widgets/controls",
            "_view_module_version": "1.5.0",
            "_view_name": "ProgressView",
            "bar_style": "success",
            "description": "",
            "description_tooltip": null,
            "layout": "IPY_MODEL_7888947e6c484799a25b8679b1cfcc67",
            "max": 22,
            "min": 0,
            "orientation": "horizontal",
            "style": "IPY_MODEL_f29f016d3ff94f7288b17493fdec6a05",
            "value": 22
          }
        },
        "93efb190257742789f7a7b51da81f09b": {
          "model_module": "@jupyter-widgets/controls",
          "model_name": "HTMLModel",
          "model_module_version": "1.5.0",
          "state": {
            "_dom_classes": [],
            "_model_module": "@jupyter-widgets/controls",
            "_model_module_version": "1.5.0",
            "_model_name": "HTMLModel",
            "_view_count": null,
            "_view_module": "@jupyter-widgets/controls",
            "_view_module_version": "1.5.0",
            "_view_name": "HTMLView",
            "description": "",
            "description_tooltip": null,
            "layout": "IPY_MODEL_96ba08662359411cbdf6a9d2754b285a",
            "placeholder": "​",
            "style": "IPY_MODEL_9f91d86091ad4df3b6eff50b238d203c",
            "value": " 22/22 [01:31&lt;00:00,  3.53s/ba]"
          }
        },
        "59f8dede6dd3491e9a216d3a770014b5": {
          "model_module": "@jupyter-widgets/base",
          "model_name": "LayoutModel",
          "model_module_version": "1.2.0",
          "state": {
            "_model_module": "@jupyter-widgets/base",
            "_model_module_version": "1.2.0",
            "_model_name": "LayoutModel",
            "_view_count": null,
            "_view_module": "@jupyter-widgets/base",
            "_view_module_version": "1.2.0",
            "_view_name": "LayoutView",
            "align_content": null,
            "align_items": null,
            "align_self": null,
            "border": null,
            "bottom": null,
            "display": null,
            "flex": null,
            "flex_flow": null,
            "grid_area": null,
            "grid_auto_columns": null,
            "grid_auto_flow": null,
            "grid_auto_rows": null,
            "grid_column": null,
            "grid_gap": null,
            "grid_row": null,
            "grid_template_areas": null,
            "grid_template_columns": null,
            "grid_template_rows": null,
            "height": null,
            "justify_content": null,
            "justify_items": null,
            "left": null,
            "margin": null,
            "max_height": null,
            "max_width": null,
            "min_height": null,
            "min_width": null,
            "object_fit": null,
            "object_position": null,
            "order": null,
            "overflow": null,
            "overflow_x": null,
            "overflow_y": null,
            "padding": null,
            "right": null,
            "top": null,
            "visibility": null,
            "width": null
          }
        },
        "2cabdc2407824b01adbf6997abf024ce": {
          "model_module": "@jupyter-widgets/base",
          "model_name": "LayoutModel",
          "model_module_version": "1.2.0",
          "state": {
            "_model_module": "@jupyter-widgets/base",
            "_model_module_version": "1.2.0",
            "_model_name": "LayoutModel",
            "_view_count": null,
            "_view_module": "@jupyter-widgets/base",
            "_view_module_version": "1.2.0",
            "_view_name": "LayoutView",
            "align_content": null,
            "align_items": null,
            "align_self": null,
            "border": null,
            "bottom": null,
            "display": null,
            "flex": null,
            "flex_flow": null,
            "grid_area": null,
            "grid_auto_columns": null,
            "grid_auto_flow": null,
            "grid_auto_rows": null,
            "grid_column": null,
            "grid_gap": null,
            "grid_row": null,
            "grid_template_areas": null,
            "grid_template_columns": null,
            "grid_template_rows": null,
            "height": null,
            "justify_content": null,
            "justify_items": null,
            "left": null,
            "margin": null,
            "max_height": null,
            "max_width": null,
            "min_height": null,
            "min_width": null,
            "object_fit": null,
            "object_position": null,
            "order": null,
            "overflow": null,
            "overflow_x": null,
            "overflow_y": null,
            "padding": null,
            "right": null,
            "top": null,
            "visibility": null,
            "width": null
          }
        },
        "d2af4087ebc441a8b81f7529c4ac2398": {
          "model_module": "@jupyter-widgets/controls",
          "model_name": "DescriptionStyleModel",
          "model_module_version": "1.5.0",
          "state": {
            "_model_module": "@jupyter-widgets/controls",
            "_model_module_version": "1.5.0",
            "_model_name": "DescriptionStyleModel",
            "_view_count": null,
            "_view_module": "@jupyter-widgets/base",
            "_view_module_version": "1.2.0",
            "_view_name": "StyleView",
            "description_width": ""
          }
        },
        "7888947e6c484799a25b8679b1cfcc67": {
          "model_module": "@jupyter-widgets/base",
          "model_name": "LayoutModel",
          "model_module_version": "1.2.0",
          "state": {
            "_model_module": "@jupyter-widgets/base",
            "_model_module_version": "1.2.0",
            "_model_name": "LayoutModel",
            "_view_count": null,
            "_view_module": "@jupyter-widgets/base",
            "_view_module_version": "1.2.0",
            "_view_name": "LayoutView",
            "align_content": null,
            "align_items": null,
            "align_self": null,
            "border": null,
            "bottom": null,
            "display": null,
            "flex": null,
            "flex_flow": null,
            "grid_area": null,
            "grid_auto_columns": null,
            "grid_auto_flow": null,
            "grid_auto_rows": null,
            "grid_column": null,
            "grid_gap": null,
            "grid_row": null,
            "grid_template_areas": null,
            "grid_template_columns": null,
            "grid_template_rows": null,
            "height": null,
            "justify_content": null,
            "justify_items": null,
            "left": null,
            "margin": null,
            "max_height": null,
            "max_width": null,
            "min_height": null,
            "min_width": null,
            "object_fit": null,
            "object_position": null,
            "order": null,
            "overflow": null,
            "overflow_x": null,
            "overflow_y": null,
            "padding": null,
            "right": null,
            "top": null,
            "visibility": null,
            "width": null
          }
        },
        "f29f016d3ff94f7288b17493fdec6a05": {
          "model_module": "@jupyter-widgets/controls",
          "model_name": "ProgressStyleModel",
          "model_module_version": "1.5.0",
          "state": {
            "_model_module": "@jupyter-widgets/controls",
            "_model_module_version": "1.5.0",
            "_model_name": "ProgressStyleModel",
            "_view_count": null,
            "_view_module": "@jupyter-widgets/base",
            "_view_module_version": "1.2.0",
            "_view_name": "StyleView",
            "bar_color": null,
            "description_width": ""
          }
        },
        "96ba08662359411cbdf6a9d2754b285a": {
          "model_module": "@jupyter-widgets/base",
          "model_name": "LayoutModel",
          "model_module_version": "1.2.0",
          "state": {
            "_model_module": "@jupyter-widgets/base",
            "_model_module_version": "1.2.0",
            "_model_name": "LayoutModel",
            "_view_count": null,
            "_view_module": "@jupyter-widgets/base",
            "_view_module_version": "1.2.0",
            "_view_name": "LayoutView",
            "align_content": null,
            "align_items": null,
            "align_self": null,
            "border": null,
            "bottom": null,
            "display": null,
            "flex": null,
            "flex_flow": null,
            "grid_area": null,
            "grid_auto_columns": null,
            "grid_auto_flow": null,
            "grid_auto_rows": null,
            "grid_column": null,
            "grid_gap": null,
            "grid_row": null,
            "grid_template_areas": null,
            "grid_template_columns": null,
            "grid_template_rows": null,
            "height": null,
            "justify_content": null,
            "justify_items": null,
            "left": null,
            "margin": null,
            "max_height": null,
            "max_width": null,
            "min_height": null,
            "min_width": null,
            "object_fit": null,
            "object_position": null,
            "order": null,
            "overflow": null,
            "overflow_x": null,
            "overflow_y": null,
            "padding": null,
            "right": null,
            "top": null,
            "visibility": null,
            "width": null
          }
        },
        "9f91d86091ad4df3b6eff50b238d203c": {
          "model_module": "@jupyter-widgets/controls",
          "model_name": "DescriptionStyleModel",
          "model_module_version": "1.5.0",
          "state": {
            "_model_module": "@jupyter-widgets/controls",
            "_model_module_version": "1.5.0",
            "_model_name": "DescriptionStyleModel",
            "_view_count": null,
            "_view_module": "@jupyter-widgets/base",
            "_view_module_version": "1.2.0",
            "_view_name": "StyleView",
            "description_width": ""
          }
        },
        "22d9bb79d16343e0831ddbb9d43bc9bc": {
          "model_module": "@jupyter-widgets/controls",
          "model_name": "HBoxModel",
          "model_module_version": "1.5.0",
          "state": {
            "_dom_classes": [],
            "_model_module": "@jupyter-widgets/controls",
            "_model_module_version": "1.5.0",
            "_model_name": "HBoxModel",
            "_view_count": null,
            "_view_module": "@jupyter-widgets/controls",
            "_view_module_version": "1.5.0",
            "_view_name": "HBoxView",
            "box_style": "",
            "children": [
              "IPY_MODEL_0dc0de1e9b904733b4a86d0a2ad59b0c",
              "IPY_MODEL_a286726597e54957b6ccdee8e8249bd9",
              "IPY_MODEL_435dacc4e34541e38dc3ee6519e3457e"
            ],
            "layout": "IPY_MODEL_1057ed88eb8c4de2b9665ad34f35e649"
          }
        },
        "0dc0de1e9b904733b4a86d0a2ad59b0c": {
          "model_module": "@jupyter-widgets/controls",
          "model_name": "HTMLModel",
          "model_module_version": "1.5.0",
          "state": {
            "_dom_classes": [],
            "_model_module": "@jupyter-widgets/controls",
            "_model_module_version": "1.5.0",
            "_model_name": "HTMLModel",
            "_view_count": null,
            "_view_module": "@jupyter-widgets/controls",
            "_view_module_version": "1.5.0",
            "_view_name": "HTMLView",
            "description": "",
            "description_tooltip": null,
            "layout": "IPY_MODEL_98d05701374240929f7340818cfcbf13",
            "placeholder": "​",
            "style": "IPY_MODEL_89ff87ff5024439ebfff21dfdb69ee20",
            "value": "100%"
          }
        },
        "a286726597e54957b6ccdee8e8249bd9": {
          "model_module": "@jupyter-widgets/controls",
          "model_name": "FloatProgressModel",
          "model_module_version": "1.5.0",
          "state": {
            "_dom_classes": [],
            "_model_module": "@jupyter-widgets/controls",
            "_model_module_version": "1.5.0",
            "_model_name": "FloatProgressModel",
            "_view_count": null,
            "_view_module": "@jupyter-widgets/controls",
            "_view_module_version": "1.5.0",
            "_view_name": "ProgressView",
            "bar_style": "success",
            "description": "",
            "description_tooltip": null,
            "layout": "IPY_MODEL_2eee8585ffde45c4a639c8a605a9f16b",
            "max": 2,
            "min": 0,
            "orientation": "horizontal",
            "style": "IPY_MODEL_06963a86525e4a7f9cfe38e19524487e",
            "value": 2
          }
        },
        "435dacc4e34541e38dc3ee6519e3457e": {
          "model_module": "@jupyter-widgets/controls",
          "model_name": "HTMLModel",
          "model_module_version": "1.5.0",
          "state": {
            "_dom_classes": [],
            "_model_module": "@jupyter-widgets/controls",
            "_model_module_version": "1.5.0",
            "_model_name": "HTMLModel",
            "_view_count": null,
            "_view_module": "@jupyter-widgets/controls",
            "_view_module_version": "1.5.0",
            "_view_name": "HTMLView",
            "description": "",
            "description_tooltip": null,
            "layout": "IPY_MODEL_17b913f0a1de42598cb1d7cf33cbf169",
            "placeholder": "​",
            "style": "IPY_MODEL_2745df92cdc84cbd85ae4abbb1e207bd",
            "value": " 2/2 [00:06&lt;00:00,  2.99s/ba]"
          }
        },
        "1057ed88eb8c4de2b9665ad34f35e649": {
          "model_module": "@jupyter-widgets/base",
          "model_name": "LayoutModel",
          "model_module_version": "1.2.0",
          "state": {
            "_model_module": "@jupyter-widgets/base",
            "_model_module_version": "1.2.0",
            "_model_name": "LayoutModel",
            "_view_count": null,
            "_view_module": "@jupyter-widgets/base",
            "_view_module_version": "1.2.0",
            "_view_name": "LayoutView",
            "align_content": null,
            "align_items": null,
            "align_self": null,
            "border": null,
            "bottom": null,
            "display": null,
            "flex": null,
            "flex_flow": null,
            "grid_area": null,
            "grid_auto_columns": null,
            "grid_auto_flow": null,
            "grid_auto_rows": null,
            "grid_column": null,
            "grid_gap": null,
            "grid_row": null,
            "grid_template_areas": null,
            "grid_template_columns": null,
            "grid_template_rows": null,
            "height": null,
            "justify_content": null,
            "justify_items": null,
            "left": null,
            "margin": null,
            "max_height": null,
            "max_width": null,
            "min_height": null,
            "min_width": null,
            "object_fit": null,
            "object_position": null,
            "order": null,
            "overflow": null,
            "overflow_x": null,
            "overflow_y": null,
            "padding": null,
            "right": null,
            "top": null,
            "visibility": null,
            "width": null
          }
        },
        "98d05701374240929f7340818cfcbf13": {
          "model_module": "@jupyter-widgets/base",
          "model_name": "LayoutModel",
          "model_module_version": "1.2.0",
          "state": {
            "_model_module": "@jupyter-widgets/base",
            "_model_module_version": "1.2.0",
            "_model_name": "LayoutModel",
            "_view_count": null,
            "_view_module": "@jupyter-widgets/base",
            "_view_module_version": "1.2.0",
            "_view_name": "LayoutView",
            "align_content": null,
            "align_items": null,
            "align_self": null,
            "border": null,
            "bottom": null,
            "display": null,
            "flex": null,
            "flex_flow": null,
            "grid_area": null,
            "grid_auto_columns": null,
            "grid_auto_flow": null,
            "grid_auto_rows": null,
            "grid_column": null,
            "grid_gap": null,
            "grid_row": null,
            "grid_template_areas": null,
            "grid_template_columns": null,
            "grid_template_rows": null,
            "height": null,
            "justify_content": null,
            "justify_items": null,
            "left": null,
            "margin": null,
            "max_height": null,
            "max_width": null,
            "min_height": null,
            "min_width": null,
            "object_fit": null,
            "object_position": null,
            "order": null,
            "overflow": null,
            "overflow_x": null,
            "overflow_y": null,
            "padding": null,
            "right": null,
            "top": null,
            "visibility": null,
            "width": null
          }
        },
        "89ff87ff5024439ebfff21dfdb69ee20": {
          "model_module": "@jupyter-widgets/controls",
          "model_name": "DescriptionStyleModel",
          "model_module_version": "1.5.0",
          "state": {
            "_model_module": "@jupyter-widgets/controls",
            "_model_module_version": "1.5.0",
            "_model_name": "DescriptionStyleModel",
            "_view_count": null,
            "_view_module": "@jupyter-widgets/base",
            "_view_module_version": "1.2.0",
            "_view_name": "StyleView",
            "description_width": ""
          }
        },
        "2eee8585ffde45c4a639c8a605a9f16b": {
          "model_module": "@jupyter-widgets/base",
          "model_name": "LayoutModel",
          "model_module_version": "1.2.0",
          "state": {
            "_model_module": "@jupyter-widgets/base",
            "_model_module_version": "1.2.0",
            "_model_name": "LayoutModel",
            "_view_count": null,
            "_view_module": "@jupyter-widgets/base",
            "_view_module_version": "1.2.0",
            "_view_name": "LayoutView",
            "align_content": null,
            "align_items": null,
            "align_self": null,
            "border": null,
            "bottom": null,
            "display": null,
            "flex": null,
            "flex_flow": null,
            "grid_area": null,
            "grid_auto_columns": null,
            "grid_auto_flow": null,
            "grid_auto_rows": null,
            "grid_column": null,
            "grid_gap": null,
            "grid_row": null,
            "grid_template_areas": null,
            "grid_template_columns": null,
            "grid_template_rows": null,
            "height": null,
            "justify_content": null,
            "justify_items": null,
            "left": null,
            "margin": null,
            "max_height": null,
            "max_width": null,
            "min_height": null,
            "min_width": null,
            "object_fit": null,
            "object_position": null,
            "order": null,
            "overflow": null,
            "overflow_x": null,
            "overflow_y": null,
            "padding": null,
            "right": null,
            "top": null,
            "visibility": null,
            "width": null
          }
        },
        "06963a86525e4a7f9cfe38e19524487e": {
          "model_module": "@jupyter-widgets/controls",
          "model_name": "ProgressStyleModel",
          "model_module_version": "1.5.0",
          "state": {
            "_model_module": "@jupyter-widgets/controls",
            "_model_module_version": "1.5.0",
            "_model_name": "ProgressStyleModel",
            "_view_count": null,
            "_view_module": "@jupyter-widgets/base",
            "_view_module_version": "1.2.0",
            "_view_name": "StyleView",
            "bar_color": null,
            "description_width": ""
          }
        },
        "17b913f0a1de42598cb1d7cf33cbf169": {
          "model_module": "@jupyter-widgets/base",
          "model_name": "LayoutModel",
          "model_module_version": "1.2.0",
          "state": {
            "_model_module": "@jupyter-widgets/base",
            "_model_module_version": "1.2.0",
            "_model_name": "LayoutModel",
            "_view_count": null,
            "_view_module": "@jupyter-widgets/base",
            "_view_module_version": "1.2.0",
            "_view_name": "LayoutView",
            "align_content": null,
            "align_items": null,
            "align_self": null,
            "border": null,
            "bottom": null,
            "display": null,
            "flex": null,
            "flex_flow": null,
            "grid_area": null,
            "grid_auto_columns": null,
            "grid_auto_flow": null,
            "grid_auto_rows": null,
            "grid_column": null,
            "grid_gap": null,
            "grid_row": null,
            "grid_template_areas": null,
            "grid_template_columns": null,
            "grid_template_rows": null,
            "height": null,
            "justify_content": null,
            "justify_items": null,
            "left": null,
            "margin": null,
            "max_height": null,
            "max_width": null,
            "min_height": null,
            "min_width": null,
            "object_fit": null,
            "object_position": null,
            "order": null,
            "overflow": null,
            "overflow_x": null,
            "overflow_y": null,
            "padding": null,
            "right": null,
            "top": null,
            "visibility": null,
            "width": null
          }
        },
        "2745df92cdc84cbd85ae4abbb1e207bd": {
          "model_module": "@jupyter-widgets/controls",
          "model_name": "DescriptionStyleModel",
          "model_module_version": "1.5.0",
          "state": {
            "_model_module": "@jupyter-widgets/controls",
            "_model_module_version": "1.5.0",
            "_model_name": "DescriptionStyleModel",
            "_view_count": null,
            "_view_module": "@jupyter-widgets/base",
            "_view_module_version": "1.2.0",
            "_view_name": "StyleView",
            "description_width": ""
          }
        },
        "457e493f80284482bbbf55ecd526d5e2": {
          "model_module": "@jupyter-widgets/controls",
          "model_name": "HBoxModel",
          "model_module_version": "1.5.0",
          "state": {
            "_dom_classes": [],
            "_model_module": "@jupyter-widgets/controls",
            "_model_module_version": "1.5.0",
            "_model_name": "HBoxModel",
            "_view_count": null,
            "_view_module": "@jupyter-widgets/controls",
            "_view_module_version": "1.5.0",
            "_view_name": "HBoxView",
            "box_style": "",
            "children": [
              "IPY_MODEL_68f018b69958432aa57dae1274ec2561",
              "IPY_MODEL_2c204726350c4e65bfd44c919eb7477e",
              "IPY_MODEL_8aea27c4447142788a44d98319bde29d"
            ],
            "layout": "IPY_MODEL_5bde2c12d51244c8be04cd5d4ce95445"
          }
        },
        "68f018b69958432aa57dae1274ec2561": {
          "model_module": "@jupyter-widgets/controls",
          "model_name": "HTMLModel",
          "model_module_version": "1.5.0",
          "state": {
            "_dom_classes": [],
            "_model_module": "@jupyter-widgets/controls",
            "_model_module_version": "1.5.0",
            "_model_name": "HTMLModel",
            "_view_count": null,
            "_view_module": "@jupyter-widgets/controls",
            "_view_module_version": "1.5.0",
            "_view_name": "HTMLView",
            "description": "",
            "description_tooltip": null,
            "layout": "IPY_MODEL_0fa7624eeb654d578c8179cf42af9920",
            "placeholder": "​",
            "style": "IPY_MODEL_ce6ee097696045f581c4f77b99d1167b",
            "value": "100%"
          }
        },
        "2c204726350c4e65bfd44c919eb7477e": {
          "model_module": "@jupyter-widgets/controls",
          "model_name": "FloatProgressModel",
          "model_module_version": "1.5.0",
          "state": {
            "_dom_classes": [],
            "_model_module": "@jupyter-widgets/controls",
            "_model_module_version": "1.5.0",
            "_model_name": "FloatProgressModel",
            "_view_count": null,
            "_view_module": "@jupyter-widgets/controls",
            "_view_module_version": "1.5.0",
            "_view_name": "ProgressView",
            "bar_style": "success",
            "description": "",
            "description_tooltip": null,
            "layout": "IPY_MODEL_420def2eb1e54e0b95ad0a78e9d27af8",
            "max": 2,
            "min": 0,
            "orientation": "horizontal",
            "style": "IPY_MODEL_a49bffca45374720b4a2ba2dbaeec73e",
            "value": 2
          }
        },
        "8aea27c4447142788a44d98319bde29d": {
          "model_module": "@jupyter-widgets/controls",
          "model_name": "HTMLModel",
          "model_module_version": "1.5.0",
          "state": {
            "_dom_classes": [],
            "_model_module": "@jupyter-widgets/controls",
            "_model_module_version": "1.5.0",
            "_model_name": "HTMLModel",
            "_view_count": null,
            "_view_module": "@jupyter-widgets/controls",
            "_view_module_version": "1.5.0",
            "_view_name": "HTMLView",
            "description": "",
            "description_tooltip": null,
            "layout": "IPY_MODEL_d0805d4bb0ac48baa5b240cd12d23ee6",
            "placeholder": "​",
            "style": "IPY_MODEL_f05b370fc3764238a9861dd84241b43b",
            "value": " 2/2 [00:06&lt;00:00,  3.11s/ba]"
          }
        },
        "5bde2c12d51244c8be04cd5d4ce95445": {
          "model_module": "@jupyter-widgets/base",
          "model_name": "LayoutModel",
          "model_module_version": "1.2.0",
          "state": {
            "_model_module": "@jupyter-widgets/base",
            "_model_module_version": "1.2.0",
            "_model_name": "LayoutModel",
            "_view_count": null,
            "_view_module": "@jupyter-widgets/base",
            "_view_module_version": "1.2.0",
            "_view_name": "LayoutView",
            "align_content": null,
            "align_items": null,
            "align_self": null,
            "border": null,
            "bottom": null,
            "display": null,
            "flex": null,
            "flex_flow": null,
            "grid_area": null,
            "grid_auto_columns": null,
            "grid_auto_flow": null,
            "grid_auto_rows": null,
            "grid_column": null,
            "grid_gap": null,
            "grid_row": null,
            "grid_template_areas": null,
            "grid_template_columns": null,
            "grid_template_rows": null,
            "height": null,
            "justify_content": null,
            "justify_items": null,
            "left": null,
            "margin": null,
            "max_height": null,
            "max_width": null,
            "min_height": null,
            "min_width": null,
            "object_fit": null,
            "object_position": null,
            "order": null,
            "overflow": null,
            "overflow_x": null,
            "overflow_y": null,
            "padding": null,
            "right": null,
            "top": null,
            "visibility": null,
            "width": null
          }
        },
        "0fa7624eeb654d578c8179cf42af9920": {
          "model_module": "@jupyter-widgets/base",
          "model_name": "LayoutModel",
          "model_module_version": "1.2.0",
          "state": {
            "_model_module": "@jupyter-widgets/base",
            "_model_module_version": "1.2.0",
            "_model_name": "LayoutModel",
            "_view_count": null,
            "_view_module": "@jupyter-widgets/base",
            "_view_module_version": "1.2.0",
            "_view_name": "LayoutView",
            "align_content": null,
            "align_items": null,
            "align_self": null,
            "border": null,
            "bottom": null,
            "display": null,
            "flex": null,
            "flex_flow": null,
            "grid_area": null,
            "grid_auto_columns": null,
            "grid_auto_flow": null,
            "grid_auto_rows": null,
            "grid_column": null,
            "grid_gap": null,
            "grid_row": null,
            "grid_template_areas": null,
            "grid_template_columns": null,
            "grid_template_rows": null,
            "height": null,
            "justify_content": null,
            "justify_items": null,
            "left": null,
            "margin": null,
            "max_height": null,
            "max_width": null,
            "min_height": null,
            "min_width": null,
            "object_fit": null,
            "object_position": null,
            "order": null,
            "overflow": null,
            "overflow_x": null,
            "overflow_y": null,
            "padding": null,
            "right": null,
            "top": null,
            "visibility": null,
            "width": null
          }
        },
        "ce6ee097696045f581c4f77b99d1167b": {
          "model_module": "@jupyter-widgets/controls",
          "model_name": "DescriptionStyleModel",
          "model_module_version": "1.5.0",
          "state": {
            "_model_module": "@jupyter-widgets/controls",
            "_model_module_version": "1.5.0",
            "_model_name": "DescriptionStyleModel",
            "_view_count": null,
            "_view_module": "@jupyter-widgets/base",
            "_view_module_version": "1.2.0",
            "_view_name": "StyleView",
            "description_width": ""
          }
        },
        "420def2eb1e54e0b95ad0a78e9d27af8": {
          "model_module": "@jupyter-widgets/base",
          "model_name": "LayoutModel",
          "model_module_version": "1.2.0",
          "state": {
            "_model_module": "@jupyter-widgets/base",
            "_model_module_version": "1.2.0",
            "_model_name": "LayoutModel",
            "_view_count": null,
            "_view_module": "@jupyter-widgets/base",
            "_view_module_version": "1.2.0",
            "_view_name": "LayoutView",
            "align_content": null,
            "align_items": null,
            "align_self": null,
            "border": null,
            "bottom": null,
            "display": null,
            "flex": null,
            "flex_flow": null,
            "grid_area": null,
            "grid_auto_columns": null,
            "grid_auto_flow": null,
            "grid_auto_rows": null,
            "grid_column": null,
            "grid_gap": null,
            "grid_row": null,
            "grid_template_areas": null,
            "grid_template_columns": null,
            "grid_template_rows": null,
            "height": null,
            "justify_content": null,
            "justify_items": null,
            "left": null,
            "margin": null,
            "max_height": null,
            "max_width": null,
            "min_height": null,
            "min_width": null,
            "object_fit": null,
            "object_position": null,
            "order": null,
            "overflow": null,
            "overflow_x": null,
            "overflow_y": null,
            "padding": null,
            "right": null,
            "top": null,
            "visibility": null,
            "width": null
          }
        },
        "a49bffca45374720b4a2ba2dbaeec73e": {
          "model_module": "@jupyter-widgets/controls",
          "model_name": "ProgressStyleModel",
          "model_module_version": "1.5.0",
          "state": {
            "_model_module": "@jupyter-widgets/controls",
            "_model_module_version": "1.5.0",
            "_model_name": "ProgressStyleModel",
            "_view_count": null,
            "_view_module": "@jupyter-widgets/base",
            "_view_module_version": "1.2.0",
            "_view_name": "StyleView",
            "bar_color": null,
            "description_width": ""
          }
        },
        "d0805d4bb0ac48baa5b240cd12d23ee6": {
          "model_module": "@jupyter-widgets/base",
          "model_name": "LayoutModel",
          "model_module_version": "1.2.0",
          "state": {
            "_model_module": "@jupyter-widgets/base",
            "_model_module_version": "1.2.0",
            "_model_name": "LayoutModel",
            "_view_count": null,
            "_view_module": "@jupyter-widgets/base",
            "_view_module_version": "1.2.0",
            "_view_name": "LayoutView",
            "align_content": null,
            "align_items": null,
            "align_self": null,
            "border": null,
            "bottom": null,
            "display": null,
            "flex": null,
            "flex_flow": null,
            "grid_area": null,
            "grid_auto_columns": null,
            "grid_auto_flow": null,
            "grid_auto_rows": null,
            "grid_column": null,
            "grid_gap": null,
            "grid_row": null,
            "grid_template_areas": null,
            "grid_template_columns": null,
            "grid_template_rows": null,
            "height": null,
            "justify_content": null,
            "justify_items": null,
            "left": null,
            "margin": null,
            "max_height": null,
            "max_width": null,
            "min_height": null,
            "min_width": null,
            "object_fit": null,
            "object_position": null,
            "order": null,
            "overflow": null,
            "overflow_x": null,
            "overflow_y": null,
            "padding": null,
            "right": null,
            "top": null,
            "visibility": null,
            "width": null
          }
        },
        "f05b370fc3764238a9861dd84241b43b": {
          "model_module": "@jupyter-widgets/controls",
          "model_name": "DescriptionStyleModel",
          "model_module_version": "1.5.0",
          "state": {
            "_model_module": "@jupyter-widgets/controls",
            "_model_module_version": "1.5.0",
            "_model_name": "DescriptionStyleModel",
            "_view_count": null,
            "_view_module": "@jupyter-widgets/base",
            "_view_module_version": "1.2.0",
            "_view_name": "StyleView",
            "description_width": ""
          }
        },
        "917976bbb4ca4d07bd678bbe0aa3b4a7": {
          "model_module": "@jupyter-widgets/controls",
          "model_name": "HBoxModel",
          "model_module_version": "1.5.0",
          "state": {
            "_dom_classes": [],
            "_model_module": "@jupyter-widgets/controls",
            "_model_module_version": "1.5.0",
            "_model_name": "HBoxModel",
            "_view_count": null,
            "_view_module": "@jupyter-widgets/controls",
            "_view_module_version": "1.5.0",
            "_view_name": "HBoxView",
            "box_style": "",
            "children": [
              "IPY_MODEL_34f9ddaf37fd46b3ab0d2d26c29ed8bb",
              "IPY_MODEL_07ea9b3efb9144ada1cd7604ab018b78",
              "IPY_MODEL_21d33278a4e441f191afccfaca75c069"
            ],
            "layout": "IPY_MODEL_a48ffbc670124e239b4dcb423f04a5c7"
          }
        },
        "34f9ddaf37fd46b3ab0d2d26c29ed8bb": {
          "model_module": "@jupyter-widgets/controls",
          "model_name": "HTMLModel",
          "model_module_version": "1.5.0",
          "state": {
            "_dom_classes": [],
            "_model_module": "@jupyter-widgets/controls",
            "_model_module_version": "1.5.0",
            "_model_name": "HTMLModel",
            "_view_count": null,
            "_view_module": "@jupyter-widgets/controls",
            "_view_module_version": "1.5.0",
            "_view_name": "HTMLView",
            "description": "",
            "description_tooltip": null,
            "layout": "IPY_MODEL_65598bad4a7e4ac683d3193991f08117",
            "placeholder": "​",
            "style": "IPY_MODEL_cc8ee5be1a6643fea98f6ab46ea28205",
            "value": "Epoch 0:: 100%"
          }
        },
        "07ea9b3efb9144ada1cd7604ab018b78": {
          "model_module": "@jupyter-widgets/controls",
          "model_name": "FloatProgressModel",
          "model_module_version": "1.5.0",
          "state": {
            "_dom_classes": [],
            "_model_module": "@jupyter-widgets/controls",
            "_model_module_version": "1.5.0",
            "_model_name": "FloatProgressModel",
            "_view_count": null,
            "_view_module": "@jupyter-widgets/controls",
            "_view_module_version": "1.5.0",
            "_view_name": "ProgressView",
            "bar_style": "success",
            "description": "",
            "description_tooltip": null,
            "layout": "IPY_MODEL_a2faa2c901d4472b97da4f6db5992b37",
            "max": 21401,
            "min": 0,
            "orientation": "horizontal",
            "style": "IPY_MODEL_600e8dcfb4ab47f5aab3025bb3e742b9",
            "value": 21401
          }
        },
        "21d33278a4e441f191afccfaca75c069": {
          "model_module": "@jupyter-widgets/controls",
          "model_name": "HTMLModel",
          "model_module_version": "1.5.0",
          "state": {
            "_dom_classes": [],
            "_model_module": "@jupyter-widgets/controls",
            "_model_module_version": "1.5.0",
            "_model_name": "HTMLModel",
            "_view_count": null,
            "_view_module": "@jupyter-widgets/controls",
            "_view_module_version": "1.5.0",
            "_view_name": "HTMLView",
            "description": "",
            "description_tooltip": null,
            "layout": "IPY_MODEL_ebfcc5d5faf943ce81d3b00efe4149e0",
            "placeholder": "​",
            "style": "IPY_MODEL_ebddca66fcaf4472820d400b751830ed",
            "value": " 21401/21401 [02:20&lt;00:00, 160.23it/s]"
          }
        },
        "a48ffbc670124e239b4dcb423f04a5c7": {
          "model_module": "@jupyter-widgets/base",
          "model_name": "LayoutModel",
          "model_module_version": "1.2.0",
          "state": {
            "_model_module": "@jupyter-widgets/base",
            "_model_module_version": "1.2.0",
            "_model_name": "LayoutModel",
            "_view_count": null,
            "_view_module": "@jupyter-widgets/base",
            "_view_module_version": "1.2.0",
            "_view_name": "LayoutView",
            "align_content": null,
            "align_items": null,
            "align_self": null,
            "border": null,
            "bottom": null,
            "display": null,
            "flex": null,
            "flex_flow": null,
            "grid_area": null,
            "grid_auto_columns": null,
            "grid_auto_flow": null,
            "grid_auto_rows": null,
            "grid_column": null,
            "grid_gap": null,
            "grid_row": null,
            "grid_template_areas": null,
            "grid_template_columns": null,
            "grid_template_rows": null,
            "height": null,
            "justify_content": null,
            "justify_items": null,
            "left": null,
            "margin": null,
            "max_height": null,
            "max_width": null,
            "min_height": null,
            "min_width": null,
            "object_fit": null,
            "object_position": null,
            "order": null,
            "overflow": null,
            "overflow_x": null,
            "overflow_y": null,
            "padding": null,
            "right": null,
            "top": null,
            "visibility": null,
            "width": null
          }
        },
        "65598bad4a7e4ac683d3193991f08117": {
          "model_module": "@jupyter-widgets/base",
          "model_name": "LayoutModel",
          "model_module_version": "1.2.0",
          "state": {
            "_model_module": "@jupyter-widgets/base",
            "_model_module_version": "1.2.0",
            "_model_name": "LayoutModel",
            "_view_count": null,
            "_view_module": "@jupyter-widgets/base",
            "_view_module_version": "1.2.0",
            "_view_name": "LayoutView",
            "align_content": null,
            "align_items": null,
            "align_self": null,
            "border": null,
            "bottom": null,
            "display": null,
            "flex": null,
            "flex_flow": null,
            "grid_area": null,
            "grid_auto_columns": null,
            "grid_auto_flow": null,
            "grid_auto_rows": null,
            "grid_column": null,
            "grid_gap": null,
            "grid_row": null,
            "grid_template_areas": null,
            "grid_template_columns": null,
            "grid_template_rows": null,
            "height": null,
            "justify_content": null,
            "justify_items": null,
            "left": null,
            "margin": null,
            "max_height": null,
            "max_width": null,
            "min_height": null,
            "min_width": null,
            "object_fit": null,
            "object_position": null,
            "order": null,
            "overflow": null,
            "overflow_x": null,
            "overflow_y": null,
            "padding": null,
            "right": null,
            "top": null,
            "visibility": null,
            "width": null
          }
        },
        "cc8ee5be1a6643fea98f6ab46ea28205": {
          "model_module": "@jupyter-widgets/controls",
          "model_name": "DescriptionStyleModel",
          "model_module_version": "1.5.0",
          "state": {
            "_model_module": "@jupyter-widgets/controls",
            "_model_module_version": "1.5.0",
            "_model_name": "DescriptionStyleModel",
            "_view_count": null,
            "_view_module": "@jupyter-widgets/base",
            "_view_module_version": "1.2.0",
            "_view_name": "StyleView",
            "description_width": ""
          }
        },
        "a2faa2c901d4472b97da4f6db5992b37": {
          "model_module": "@jupyter-widgets/base",
          "model_name": "LayoutModel",
          "model_module_version": "1.2.0",
          "state": {
            "_model_module": "@jupyter-widgets/base",
            "_model_module_version": "1.2.0",
            "_model_name": "LayoutModel",
            "_view_count": null,
            "_view_module": "@jupyter-widgets/base",
            "_view_module_version": "1.2.0",
            "_view_name": "LayoutView",
            "align_content": null,
            "align_items": null,
            "align_self": null,
            "border": null,
            "bottom": null,
            "display": null,
            "flex": null,
            "flex_flow": null,
            "grid_area": null,
            "grid_auto_columns": null,
            "grid_auto_flow": null,
            "grid_auto_rows": null,
            "grid_column": null,
            "grid_gap": null,
            "grid_row": null,
            "grid_template_areas": null,
            "grid_template_columns": null,
            "grid_template_rows": null,
            "height": null,
            "justify_content": null,
            "justify_items": null,
            "left": null,
            "margin": null,
            "max_height": null,
            "max_width": null,
            "min_height": null,
            "min_width": null,
            "object_fit": null,
            "object_position": null,
            "order": null,
            "overflow": null,
            "overflow_x": null,
            "overflow_y": null,
            "padding": null,
            "right": null,
            "top": null,
            "visibility": null,
            "width": null
          }
        },
        "600e8dcfb4ab47f5aab3025bb3e742b9": {
          "model_module": "@jupyter-widgets/controls",
          "model_name": "ProgressStyleModel",
          "model_module_version": "1.5.0",
          "state": {
            "_model_module": "@jupyter-widgets/controls",
            "_model_module_version": "1.5.0",
            "_model_name": "ProgressStyleModel",
            "_view_count": null,
            "_view_module": "@jupyter-widgets/base",
            "_view_module_version": "1.2.0",
            "_view_name": "StyleView",
            "bar_color": null,
            "description_width": ""
          }
        },
        "ebfcc5d5faf943ce81d3b00efe4149e0": {
          "model_module": "@jupyter-widgets/base",
          "model_name": "LayoutModel",
          "model_module_version": "1.2.0",
          "state": {
            "_model_module": "@jupyter-widgets/base",
            "_model_module_version": "1.2.0",
            "_model_name": "LayoutModel",
            "_view_count": null,
            "_view_module": "@jupyter-widgets/base",
            "_view_module_version": "1.2.0",
            "_view_name": "LayoutView",
            "align_content": null,
            "align_items": null,
            "align_self": null,
            "border": null,
            "bottom": null,
            "display": null,
            "flex": null,
            "flex_flow": null,
            "grid_area": null,
            "grid_auto_columns": null,
            "grid_auto_flow": null,
            "grid_auto_rows": null,
            "grid_column": null,
            "grid_gap": null,
            "grid_row": null,
            "grid_template_areas": null,
            "grid_template_columns": null,
            "grid_template_rows": null,
            "height": null,
            "justify_content": null,
            "justify_items": null,
            "left": null,
            "margin": null,
            "max_height": null,
            "max_width": null,
            "min_height": null,
            "min_width": null,
            "object_fit": null,
            "object_position": null,
            "order": null,
            "overflow": null,
            "overflow_x": null,
            "overflow_y": null,
            "padding": null,
            "right": null,
            "top": null,
            "visibility": null,
            "width": null
          }
        },
        "ebddca66fcaf4472820d400b751830ed": {
          "model_module": "@jupyter-widgets/controls",
          "model_name": "DescriptionStyleModel",
          "model_module_version": "1.5.0",
          "state": {
            "_model_module": "@jupyter-widgets/controls",
            "_model_module_version": "1.5.0",
            "_model_name": "DescriptionStyleModel",
            "_view_count": null,
            "_view_module": "@jupyter-widgets/base",
            "_view_module_version": "1.2.0",
            "_view_name": "StyleView",
            "description_width": ""
          }
        },
        "c82401fa155b475e8ae10ca234bf828a": {
          "model_module": "@jupyter-widgets/controls",
          "model_name": "HBoxModel",
          "model_module_version": "1.5.0",
          "state": {
            "_dom_classes": [],
            "_model_module": "@jupyter-widgets/controls",
            "_model_module_version": "1.5.0",
            "_model_name": "HBoxModel",
            "_view_count": null,
            "_view_module": "@jupyter-widgets/controls",
            "_view_module_version": "1.5.0",
            "_view_name": "HBoxView",
            "box_style": "",
            "children": [
              "IPY_MODEL_7ba3d9cbe8394741bb1c09a2de4f2883",
              "IPY_MODEL_d5ccf62753b14821970fc174df76a637",
              "IPY_MODEL_4ca7458546254be0b6423ca06fdac402"
            ],
            "layout": "IPY_MODEL_5a3f8e17a2a94c54aae339cb4828af1b"
          }
        },
        "7ba3d9cbe8394741bb1c09a2de4f2883": {
          "model_module": "@jupyter-widgets/controls",
          "model_name": "HTMLModel",
          "model_module_version": "1.5.0",
          "state": {
            "_dom_classes": [],
            "_model_module": "@jupyter-widgets/controls",
            "_model_module_version": "1.5.0",
            "_model_name": "HTMLModel",
            "_view_count": null,
            "_view_module": "@jupyter-widgets/controls",
            "_view_module_version": "1.5.0",
            "_view_name": "HTMLView",
            "description": "",
            "description_tooltip": null,
            "layout": "IPY_MODEL_c5c501cef03f4fe391245be2dbeab4b0",
            "placeholder": "​",
            "style": "IPY_MODEL_2738e290d48b4317ab926422bb3a3435",
            "value": "validation::   0%"
          }
        },
        "d5ccf62753b14821970fc174df76a637": {
          "model_module": "@jupyter-widgets/controls",
          "model_name": "FloatProgressModel",
          "model_module_version": "1.5.0",
          "state": {
            "_dom_classes": [],
            "_model_module": "@jupyter-widgets/controls",
            "_model_module_version": "1.5.0",
            "_model_name": "FloatProgressModel",
            "_view_count": null,
            "_view_module": "@jupyter-widgets/controls",
            "_view_module_version": "1.5.0",
            "_view_name": "ProgressView",
            "bar_style": "danger",
            "description": "",
            "description_tooltip": null,
            "layout": "IPY_MODEL_48210c5812db49a0805c77bb3a2bf5bc",
            "max": 1500,
            "min": 0,
            "orientation": "horizontal",
            "style": "IPY_MODEL_ae5c1b3899b24650827d9dbd0ba757d5",
            "value": 0
          }
        },
        "4ca7458546254be0b6423ca06fdac402": {
          "model_module": "@jupyter-widgets/controls",
          "model_name": "HTMLModel",
          "model_module_version": "1.5.0",
          "state": {
            "_dom_classes": [],
            "_model_module": "@jupyter-widgets/controls",
            "_model_module_version": "1.5.0",
            "_model_name": "HTMLModel",
            "_view_count": null,
            "_view_module": "@jupyter-widgets/controls",
            "_view_module_version": "1.5.0",
            "_view_name": "HTMLView",
            "description": "",
            "description_tooltip": null,
            "layout": "IPY_MODEL_d98f63627de742ad88e217883d03fbac",
            "placeholder": "​",
            "style": "IPY_MODEL_f882aa59089546e18e4bd8c183718ded",
            "value": " 0/1500 [00:00&lt;?, ?it/s]"
          }
        },
        "5a3f8e17a2a94c54aae339cb4828af1b": {
          "model_module": "@jupyter-widgets/base",
          "model_name": "LayoutModel",
          "model_module_version": "1.2.0",
          "state": {
            "_model_module": "@jupyter-widgets/base",
            "_model_module_version": "1.2.0",
            "_model_name": "LayoutModel",
            "_view_count": null,
            "_view_module": "@jupyter-widgets/base",
            "_view_module_version": "1.2.0",
            "_view_name": "LayoutView",
            "align_content": null,
            "align_items": null,
            "align_self": null,
            "border": null,
            "bottom": null,
            "display": null,
            "flex": null,
            "flex_flow": null,
            "grid_area": null,
            "grid_auto_columns": null,
            "grid_auto_flow": null,
            "grid_auto_rows": null,
            "grid_column": null,
            "grid_gap": null,
            "grid_row": null,
            "grid_template_areas": null,
            "grid_template_columns": null,
            "grid_template_rows": null,
            "height": null,
            "justify_content": null,
            "justify_items": null,
            "left": null,
            "margin": null,
            "max_height": null,
            "max_width": null,
            "min_height": null,
            "min_width": null,
            "object_fit": null,
            "object_position": null,
            "order": null,
            "overflow": null,
            "overflow_x": null,
            "overflow_y": null,
            "padding": null,
            "right": null,
            "top": null,
            "visibility": null,
            "width": null
          }
        },
        "c5c501cef03f4fe391245be2dbeab4b0": {
          "model_module": "@jupyter-widgets/base",
          "model_name": "LayoutModel",
          "model_module_version": "1.2.0",
          "state": {
            "_model_module": "@jupyter-widgets/base",
            "_model_module_version": "1.2.0",
            "_model_name": "LayoutModel",
            "_view_count": null,
            "_view_module": "@jupyter-widgets/base",
            "_view_module_version": "1.2.0",
            "_view_name": "LayoutView",
            "align_content": null,
            "align_items": null,
            "align_self": null,
            "border": null,
            "bottom": null,
            "display": null,
            "flex": null,
            "flex_flow": null,
            "grid_area": null,
            "grid_auto_columns": null,
            "grid_auto_flow": null,
            "grid_auto_rows": null,
            "grid_column": null,
            "grid_gap": null,
            "grid_row": null,
            "grid_template_areas": null,
            "grid_template_columns": null,
            "grid_template_rows": null,
            "height": null,
            "justify_content": null,
            "justify_items": null,
            "left": null,
            "margin": null,
            "max_height": null,
            "max_width": null,
            "min_height": null,
            "min_width": null,
            "object_fit": null,
            "object_position": null,
            "order": null,
            "overflow": null,
            "overflow_x": null,
            "overflow_y": null,
            "padding": null,
            "right": null,
            "top": null,
            "visibility": null,
            "width": null
          }
        },
        "2738e290d48b4317ab926422bb3a3435": {
          "model_module": "@jupyter-widgets/controls",
          "model_name": "DescriptionStyleModel",
          "model_module_version": "1.5.0",
          "state": {
            "_model_module": "@jupyter-widgets/controls",
            "_model_module_version": "1.5.0",
            "_model_name": "DescriptionStyleModel",
            "_view_count": null,
            "_view_module": "@jupyter-widgets/base",
            "_view_module_version": "1.2.0",
            "_view_name": "StyleView",
            "description_width": ""
          }
        },
        "48210c5812db49a0805c77bb3a2bf5bc": {
          "model_module": "@jupyter-widgets/base",
          "model_name": "LayoutModel",
          "model_module_version": "1.2.0",
          "state": {
            "_model_module": "@jupyter-widgets/base",
            "_model_module_version": "1.2.0",
            "_model_name": "LayoutModel",
            "_view_count": null,
            "_view_module": "@jupyter-widgets/base",
            "_view_module_version": "1.2.0",
            "_view_name": "LayoutView",
            "align_content": null,
            "align_items": null,
            "align_self": null,
            "border": null,
            "bottom": null,
            "display": null,
            "flex": null,
            "flex_flow": null,
            "grid_area": null,
            "grid_auto_columns": null,
            "grid_auto_flow": null,
            "grid_auto_rows": null,
            "grid_column": null,
            "grid_gap": null,
            "grid_row": null,
            "grid_template_areas": null,
            "grid_template_columns": null,
            "grid_template_rows": null,
            "height": null,
            "justify_content": null,
            "justify_items": null,
            "left": null,
            "margin": null,
            "max_height": null,
            "max_width": null,
            "min_height": null,
            "min_width": null,
            "object_fit": null,
            "object_position": null,
            "order": null,
            "overflow": null,
            "overflow_x": null,
            "overflow_y": null,
            "padding": null,
            "right": null,
            "top": null,
            "visibility": null,
            "width": null
          }
        },
        "ae5c1b3899b24650827d9dbd0ba757d5": {
          "model_module": "@jupyter-widgets/controls",
          "model_name": "ProgressStyleModel",
          "model_module_version": "1.5.0",
          "state": {
            "_model_module": "@jupyter-widgets/controls",
            "_model_module_version": "1.5.0",
            "_model_name": "ProgressStyleModel",
            "_view_count": null,
            "_view_module": "@jupyter-widgets/base",
            "_view_module_version": "1.2.0",
            "_view_name": "StyleView",
            "bar_color": null,
            "description_width": ""
          }
        },
        "d98f63627de742ad88e217883d03fbac": {
          "model_module": "@jupyter-widgets/base",
          "model_name": "LayoutModel",
          "model_module_version": "1.2.0",
          "state": {
            "_model_module": "@jupyter-widgets/base",
            "_model_module_version": "1.2.0",
            "_model_name": "LayoutModel",
            "_view_count": null,
            "_view_module": "@jupyter-widgets/base",
            "_view_module_version": "1.2.0",
            "_view_name": "LayoutView",
            "align_content": null,
            "align_items": null,
            "align_self": null,
            "border": null,
            "bottom": null,
            "display": null,
            "flex": null,
            "flex_flow": null,
            "grid_area": null,
            "grid_auto_columns": null,
            "grid_auto_flow": null,
            "grid_auto_rows": null,
            "grid_column": null,
            "grid_gap": null,
            "grid_row": null,
            "grid_template_areas": null,
            "grid_template_columns": null,
            "grid_template_rows": null,
            "height": null,
            "justify_content": null,
            "justify_items": null,
            "left": null,
            "margin": null,
            "max_height": null,
            "max_width": null,
            "min_height": null,
            "min_width": null,
            "object_fit": null,
            "object_position": null,
            "order": null,
            "overflow": null,
            "overflow_x": null,
            "overflow_y": null,
            "padding": null,
            "right": null,
            "top": null,
            "visibility": null,
            "width": null
          }
        },
        "f882aa59089546e18e4bd8c183718ded": {
          "model_module": "@jupyter-widgets/controls",
          "model_name": "DescriptionStyleModel",
          "model_module_version": "1.5.0",
          "state": {
            "_model_module": "@jupyter-widgets/controls",
            "_model_module_version": "1.5.0",
            "_model_name": "DescriptionStyleModel",
            "_view_count": null,
            "_view_module": "@jupyter-widgets/base",
            "_view_module_version": "1.2.0",
            "_view_name": "StyleView",
            "description_width": ""
          }
        }
      }
    },
    "accelerator": "GPU"
  },
  "cells": [
    {
      "cell_type": "markdown",
      "source": [
        "# NLP Project - Text Summarization applied to French news articles\n",
        "\n",
        "<blockquote>\n",
        "\n",
        "Instructions : https://docs.google.com/document/d/1ijqISks5L_ioZwJi-VIRx5JLxk01Ao8wLYkN7L-R4RE/edit#\n",
        "\n",
        "Lien Latex Report : https://fr.overleaf.com/7163467196bvrhtzpxryyg \n",
        "\n",
        "</blockquote>"
      ],
      "metadata": {
        "id": "-Qb1qquwYRNl"
      }
    },
    {
      "cell_type": "markdown",
      "source": [
        "*Project description*"
      ],
      "metadata": {
        "id": "w_hwM3ohvgCD"
      }
    },
    {
      "cell_type": "markdown",
      "source": [
        "## Proposal - TO SUPPRESS  \n",
        "\n",
        "<blockquote>\n",
        "\n",
        "Instructions :  \n",
        "\n",
        "Provide details on your project . It should be a paragraph describing your project, what datasets you will be using, what modelling techniques and what evaluation you will be doing\n",
        "</blockquote>"
      ],
      "metadata": {
        "id": "cqv8KC3zYqRj"
      }
    },
    {
      "cell_type": "markdown",
      "source": [
        "* **Possible Datasets in French :** \n",
        " \n",
        "    * [OrangeSum](https://github.com/Tixierae/OrangeSum) or ([link HunggingFace](https://huggingface.co/datasets/GEM/OrangeSum) ): dataset that was proposed for text summarization but in **French** (which is less studied in litterature than English) : articles with summaries, already grouped in categories (political, environment, ...) so we will be able to easily compare the perf of our model on different \"subjects\"\n",
        "\n",
        "    \\+ this dataset was proposed together with \"[BARThez](https://huggingface.co/moussaKam/mbarthez?text=Paris+est+la+%3Cmask%3E+de+la+France.)\", a seq2seq model proposed specifically for French and which is said to be more efficient than BERT-based models for French, above all for generative tasks ([associated article](https://arxiv.org/pdf/2010.12321.pdf))\n",
        "\n",
        "  * [CASS](https://github.com/euranova/CASS-dataset) (summaries of \"procès en cours de cassation\", maybe less interesting and diverse than news articles)\n",
        "\n",
        "  * [MLSum](https://huggingface.co/datasets/mlsum) & [XL-Sum](https://huggingface.co/datasets/csebuetnlp/xlsum) : datasets proposed by HuggingFace and composed of articles with abstracts on different languages, I guess we can concentrate on French subcorpus. It was originally proposed for multilingual text summarization ([see article for XLSum](https://arxiv.org/pdf/2106.13822v1.pdf) or [article for MLSum](https://arxiv.org/pdf/2004.14900v1.pdf))\n",
        "\n",
        "  * [WikiLingual](https://paperswithcode.com/dataset/wikilingua) : article and summary pairs of Wikipedia articles in different languages\n",
        "\n"
      ],
      "metadata": {
        "id": "tJx2dp89Y9wn"
      }
    },
    {
      "cell_type": "markdown",
      "source": [
        "* **Possible Language models for French :**\n",
        "\n",
        "  - [CamemBERT](https://camembert-model.fr/)\n",
        "  - [FlauBERT](https://github.com/getalp/Flaubert)\n",
        "  - [Deepfrench](https://github.com/tchambon/deepfrench) : pre-trained on Wikipedia corpuses, principally proposed for classification tasks\n",
        "  - BARThez "
      ],
      "metadata": {
        "id": "T-we06PDMNMK"
      }
    },
    {
      "cell_type": "markdown",
      "source": [
        "* **Description of the task and approach(es)** :\n",
        "\n",
        "The idea of text summarization is to produce a summary of a text (or corpus of text if we want to extend it). There is two main possible approches :\n",
        "\n",
        "**1. Extractive Approach :**\n",
        "\n",
        "The first (maybe simplest) approach is to form a summary by selecting some sentences of the text (without modifying it at all). To do so, we need to find a way to \"score\" the sentences of the document to extract only the most revelant ones. \n",
        "\n",
        "An example of algorithm that we can try to implement is the TextRank algorithm, which is unsupervised and with few DL. The idea is to compute a similarity matrix between the sentences of our document, which can be done by computing similarities between embeddings of the sentences (with Seq2Vec for instance).\n",
        "\n",
        "[Example of tuto really well detailed for Extractive Approach](https://www.analyticsvidhya.com/blog/2018/11/introduction-text-summarization-textrank-python//)\n",
        "\n",
        "\n",
        "**2. Abstractive Approach :**\n",
        "\n",
        "A more advanced approach is to generate the summary, that is to say to produce a summary with sentences that we have generated and do not exist in the document to summarize. \n",
        "\n",
        "For this task, we may use DL, with models such as Transformers with Attention Mechanism (or Encoder-Decoder to start but it's more limited and should lead to worse perf than Transformers).\n",
        "\n",
        "[Example of tuto really well detailed for Abstractive Approach](https://www.analyticsvidhya.com/blog/2019/06/comprehensive-guide-text-summarization-using-deep-learning-python/)\n",
        "\n"
      ],
      "metadata": {
        "id": "7mUBzP7Ua3fH"
      }
    },
    {
      "cell_type": "markdown",
      "source": [
        "**⇒ Proposal :**\n",
        "\n",
        "Our project will focus on the text summarization task applied to the summarization of French written documents. (We will not cover multi-lingual models and summarization of corpus of documents, which are possible extensions of this task).\n",
        "\n",
        "Formally, our goal will be to implement and compare different approaches to produce a summary from a given text. As a \"baseline\", we will implement the more \"naive\" method to adress this task, which is called \"Extractive Approach\" and is unsupervised : the idea is to choose some embeddings for the sentences of a text, and compute a similarity matrix to form a summary by extracting the most revelant sentences of our text. Then, we will study the more advanced \"Abstractive approach\", where the idea is to leverage deep learning models (Encoder-Decoder or Attention Mechanism of Transformers), to build supervised generative models that will generate new sentences to create a summary.\n",
        "\n",
        "Concerning the datasets, we would like to train our models on news articles with their summaries in French, which can be found in datasets such as MLSum, XLSum or OrangeSum. As we are studying French written texts, we will use and compare some language models specific to French, such as FlauBERT, CamemBERT, DeepFrench or BARTHez. Moreover, to evaluate the performance of our generated summaries, we will use the ROUGE metric, which was specifically designed for this task and used in the litterature. We may also do some experiments by challenging our models on different type of texts, such as the ones available in WikiLingual or CASS."
      ],
      "metadata": {
        "id": "pYt5YcxJ5c7B"
      }
    },
    {
      "cell_type": "markdown",
      "source": [
        "## Imports"
      ],
      "metadata": {
        "id": "s3hKJ3w-MUgc"
      }
    },
    {
      "cell_type": "code",
      "source": [
        "!pip install datasets transformers"
      ],
      "metadata": {
        "colab": {
          "base_uri": "https://localhost:8080/"
        },
        "id": "-2ijvjeKLSL9",
        "outputId": "95f1f3a5-fea5-45a6-de00-8bf613ccef31"
      },
      "execution_count": 1,
      "outputs": [
        {
          "output_type": "stream",
          "name": "stdout",
          "text": [
            "Collecting datasets\n",
            "  Downloading datasets-2.1.0-py3-none-any.whl (325 kB)\n",
            "\u001b[K     |████████████████████████████████| 325 kB 5.3 MB/s \n",
            "\u001b[?25hCollecting transformers\n",
            "  Downloading transformers-4.18.0-py3-none-any.whl (4.0 MB)\n",
            "\u001b[K     |████████████████████████████████| 4.0 MB 28.0 MB/s \n",
            "\u001b[?25hRequirement already satisfied: packaging in /usr/local/lib/python3.7/dist-packages (from datasets) (21.3)\n",
            "Collecting fsspec[http]>=2021.05.0\n",
            "  Downloading fsspec-2022.3.0-py3-none-any.whl (136 kB)\n",
            "\u001b[K     |████████████████████████████████| 136 kB 46.8 MB/s \n",
            "\u001b[?25hRequirement already satisfied: multiprocess in /usr/local/lib/python3.7/dist-packages (from datasets) (0.70.12.2)\n",
            "Requirement already satisfied: dill in /usr/local/lib/python3.7/dist-packages (from datasets) (0.3.4)\n",
            "Collecting aiohttp\n",
            "  Downloading aiohttp-3.8.1-cp37-cp37m-manylinux_2_5_x86_64.manylinux1_x86_64.manylinux_2_12_x86_64.manylinux2010_x86_64.whl (1.1 MB)\n",
            "\u001b[K     |████████████████████████████████| 1.1 MB 42.9 MB/s \n",
            "\u001b[?25hCollecting xxhash\n",
            "  Downloading xxhash-3.0.0-cp37-cp37m-manylinux_2_17_x86_64.manylinux2014_x86_64.whl (212 kB)\n",
            "\u001b[K     |████████████████████████████████| 212 kB 35.7 MB/s \n",
            "\u001b[?25hRequirement already satisfied: tqdm>=4.62.1 in /usr/local/lib/python3.7/dist-packages (from datasets) (4.64.0)\n",
            "Collecting responses<0.19\n",
            "  Downloading responses-0.18.0-py3-none-any.whl (38 kB)\n",
            "Requirement already satisfied: requests>=2.19.0 in /usr/local/lib/python3.7/dist-packages (from datasets) (2.23.0)\n",
            "Collecting huggingface-hub<1.0.0,>=0.1.0\n",
            "  Downloading huggingface_hub-0.5.1-py3-none-any.whl (77 kB)\n",
            "\u001b[K     |████████████████████████████████| 77 kB 6.5 MB/s \n",
            "\u001b[?25hRequirement already satisfied: pyarrow>=5.0.0 in /usr/local/lib/python3.7/dist-packages (from datasets) (6.0.1)\n",
            "Requirement already satisfied: importlib-metadata in /usr/local/lib/python3.7/dist-packages (from datasets) (4.11.3)\n",
            "Requirement already satisfied: numpy>=1.17 in /usr/local/lib/python3.7/dist-packages (from datasets) (1.21.5)\n",
            "Requirement already satisfied: pandas in /usr/local/lib/python3.7/dist-packages (from datasets) (1.3.5)\n",
            "Requirement already satisfied: filelock in /usr/local/lib/python3.7/dist-packages (from huggingface-hub<1.0.0,>=0.1.0->datasets) (3.6.0)\n",
            "Requirement already satisfied: typing-extensions>=3.7.4.3 in /usr/local/lib/python3.7/dist-packages (from huggingface-hub<1.0.0,>=0.1.0->datasets) (4.1.1)\n",
            "Requirement already satisfied: pyyaml in /usr/local/lib/python3.7/dist-packages (from huggingface-hub<1.0.0,>=0.1.0->datasets) (3.13)\n",
            "Requirement already satisfied: pyparsing!=3.0.5,>=2.0.2 in /usr/local/lib/python3.7/dist-packages (from packaging->datasets) (3.0.8)\n",
            "Requirement already satisfied: certifi>=2017.4.17 in /usr/local/lib/python3.7/dist-packages (from requests>=2.19.0->datasets) (2021.10.8)\n",
            "Requirement already satisfied: idna<3,>=2.5 in /usr/local/lib/python3.7/dist-packages (from requests>=2.19.0->datasets) (2.10)\n",
            "Requirement already satisfied: chardet<4,>=3.0.2 in /usr/local/lib/python3.7/dist-packages (from requests>=2.19.0->datasets) (3.0.4)\n",
            "Requirement already satisfied: urllib3!=1.25.0,!=1.25.1,<1.26,>=1.21.1 in /usr/local/lib/python3.7/dist-packages (from requests>=2.19.0->datasets) (1.24.3)\n",
            "Collecting urllib3!=1.25.0,!=1.25.1,<1.26,>=1.21.1\n",
            "  Downloading urllib3-1.25.11-py2.py3-none-any.whl (127 kB)\n",
            "\u001b[K     |████████████████████████████████| 127 kB 48.9 MB/s \n",
            "\u001b[?25hCollecting tokenizers!=0.11.3,<0.13,>=0.11.1\n",
            "  Downloading tokenizers-0.12.1-cp37-cp37m-manylinux_2_12_x86_64.manylinux2010_x86_64.whl (6.6 MB)\n",
            "\u001b[K     |████████████████████████████████| 6.6 MB 33.3 MB/s \n",
            "\u001b[?25hCollecting pyyaml\n",
            "  Downloading PyYAML-6.0-cp37-cp37m-manylinux_2_5_x86_64.manylinux1_x86_64.manylinux_2_12_x86_64.manylinux2010_x86_64.whl (596 kB)\n",
            "\u001b[K     |████████████████████████████████| 596 kB 39.3 MB/s \n",
            "\u001b[?25hCollecting sacremoses\n",
            "  Downloading sacremoses-0.0.49-py3-none-any.whl (895 kB)\n",
            "\u001b[K     |████████████████████████████████| 895 kB 32.4 MB/s \n",
            "\u001b[?25hRequirement already satisfied: regex!=2019.12.17 in /usr/local/lib/python3.7/dist-packages (from transformers) (2019.12.20)\n",
            "Requirement already satisfied: attrs>=17.3.0 in /usr/local/lib/python3.7/dist-packages (from aiohttp->datasets) (21.4.0)\n",
            "Requirement already satisfied: charset-normalizer<3.0,>=2.0 in /usr/local/lib/python3.7/dist-packages (from aiohttp->datasets) (2.0.12)\n",
            "Collecting async-timeout<5.0,>=4.0.0a3\n",
            "  Downloading async_timeout-4.0.2-py3-none-any.whl (5.8 kB)\n",
            "Collecting yarl<2.0,>=1.0\n",
            "  Downloading yarl-1.7.2-cp37-cp37m-manylinux_2_5_x86_64.manylinux1_x86_64.manylinux_2_12_x86_64.manylinux2010_x86_64.whl (271 kB)\n",
            "\u001b[K     |████████████████████████████████| 271 kB 11.1 MB/s \n",
            "\u001b[?25hCollecting frozenlist>=1.1.1\n",
            "  Downloading frozenlist-1.3.0-cp37-cp37m-manylinux_2_5_x86_64.manylinux1_x86_64.manylinux_2_17_x86_64.manylinux2014_x86_64.whl (144 kB)\n",
            "\u001b[K     |████████████████████████████████| 144 kB 38.3 MB/s \n",
            "\u001b[?25hCollecting aiosignal>=1.1.2\n",
            "  Downloading aiosignal-1.2.0-py3-none-any.whl (8.2 kB)\n",
            "Collecting multidict<7.0,>=4.5\n",
            "  Downloading multidict-6.0.2-cp37-cp37m-manylinux_2_17_x86_64.manylinux2014_x86_64.whl (94 kB)\n",
            "\u001b[K     |████████████████████████████████| 94 kB 3.1 MB/s \n",
            "\u001b[?25hCollecting asynctest==0.13.0\n",
            "  Downloading asynctest-0.13.0-py3-none-any.whl (26 kB)\n",
            "Requirement already satisfied: zipp>=0.5 in /usr/local/lib/python3.7/dist-packages (from importlib-metadata->datasets) (3.8.0)\n",
            "Requirement already satisfied: pytz>=2017.3 in /usr/local/lib/python3.7/dist-packages (from pandas->datasets) (2018.9)\n",
            "Requirement already satisfied: python-dateutil>=2.7.3 in /usr/local/lib/python3.7/dist-packages (from pandas->datasets) (2.8.2)\n",
            "Requirement already satisfied: six>=1.5 in /usr/local/lib/python3.7/dist-packages (from python-dateutil>=2.7.3->pandas->datasets) (1.15.0)\n",
            "Requirement already satisfied: click in /usr/local/lib/python3.7/dist-packages (from sacremoses->transformers) (7.1.2)\n",
            "Requirement already satisfied: joblib in /usr/local/lib/python3.7/dist-packages (from sacremoses->transformers) (1.1.0)\n",
            "Installing collected packages: multidict, frozenlist, yarl, urllib3, asynctest, async-timeout, aiosignal, pyyaml, fsspec, aiohttp, xxhash, tokenizers, sacremoses, responses, huggingface-hub, transformers, datasets\n",
            "  Attempting uninstall: urllib3\n",
            "    Found existing installation: urllib3 1.24.3\n",
            "    Uninstalling urllib3-1.24.3:\n",
            "      Successfully uninstalled urllib3-1.24.3\n",
            "  Attempting uninstall: pyyaml\n",
            "    Found existing installation: PyYAML 3.13\n",
            "    Uninstalling PyYAML-3.13:\n",
            "      Successfully uninstalled PyYAML-3.13\n",
            "\u001b[31mERROR: pip's dependency resolver does not currently take into account all the packages that are installed. This behaviour is the source of the following dependency conflicts.\n",
            "datascience 0.10.6 requires folium==0.2.1, but you have folium 0.8.3 which is incompatible.\u001b[0m\n",
            "Successfully installed aiohttp-3.8.1 aiosignal-1.2.0 async-timeout-4.0.2 asynctest-0.13.0 datasets-2.1.0 frozenlist-1.3.0 fsspec-2022.3.0 huggingface-hub-0.5.1 multidict-6.0.2 pyyaml-6.0 responses-0.18.0 sacremoses-0.0.49 tokenizers-0.12.1 transformers-4.18.0 urllib3-1.25.11 xxhash-3.0.0 yarl-1.7.2\n"
          ]
        }
      ]
    },
    {
      "cell_type": "code",
      "source": [
        "!pip install rouge"
      ],
      "metadata": {
        "colab": {
          "base_uri": "https://localhost:8080/"
        },
        "id": "BH2rodlzvAOb",
        "outputId": "940c7c87-bf3a-4879-8ebc-22bb51edf420"
      },
      "execution_count": 2,
      "outputs": [
        {
          "output_type": "stream",
          "name": "stdout",
          "text": [
            "Collecting rouge\n",
            "  Downloading rouge-1.0.1-py3-none-any.whl (13 kB)\n",
            "Requirement already satisfied: six in /usr/local/lib/python3.7/dist-packages (from rouge) (1.15.0)\n",
            "Installing collected packages: rouge\n",
            "Successfully installed rouge-1.0.1\n"
          ]
        }
      ]
    },
    {
      "cell_type": "code",
      "source": [
        "import nltk\n",
        "nltk.download('punkt')\n",
        "nltk.download('stopwords')"
      ],
      "metadata": {
        "colab": {
          "base_uri": "https://localhost:8080/"
        },
        "id": "tZaiAEG6-KSf",
        "outputId": "fc10bb84-78e4-4a00-aac3-e7a7552b6eaa"
      },
      "execution_count": 3,
      "outputs": [
        {
          "output_type": "stream",
          "name": "stdout",
          "text": [
            "[nltk_data] Downloading package punkt to /root/nltk_data...\n",
            "[nltk_data]   Unzipping tokenizers/punkt.zip.\n",
            "[nltk_data] Downloading package stopwords to /root/nltk_data...\n",
            "[nltk_data]   Unzipping corpora/stopwords.zip.\n"
          ]
        },
        {
          "output_type": "execute_result",
          "data": {
            "text/plain": [
              "True"
            ]
          },
          "metadata": {},
          "execution_count": 3
        }
      ]
    },
    {
      "cell_type": "code",
      "source": [
        "import numpy as np \n",
        "import matplotlib.pyplot as plt\n",
        "import seaborn as sns\n",
        "sns.set_style('darkgrid')\n",
        "\n",
        "import pandas as pd\n",
        "from tqdm.auto import tqdm\n",
        "tqdm.pandas()\n",
        "\n",
        "from termcolor import colored\n",
        "\n",
        "# To load datasets :\n",
        "from datasets import load_dataset\n",
        "\n",
        "# To pre-process and tokenize : \n",
        "import re\n",
        "from nltk.tokenize import sent_tokenize, word_tokenize\n",
        "from nltk.corpus import stopwords\n",
        "\n",
        "# To create dataloaders :\n",
        "from torch.utils.data import Dataset, DataLoader\n",
        "\n",
        "# To create our torch models :\n",
        "import torch\n",
        "import torch.nn as nn\n",
        "import torch.nn.functional as F\n",
        "import torch.optim as optim\n",
        "\n",
        "# To compute ROUGE score :\n",
        "from rouge import Rouge"
      ],
      "metadata": {
        "id": "OkI9H-N_t6_h"
      },
      "execution_count": 4,
      "outputs": []
    },
    {
      "cell_type": "markdown",
      "source": [
        "## Load Datasets"
      ],
      "metadata": {
        "id": "WeHdMdFHFaU-"
      }
    },
    {
      "cell_type": "markdown",
      "source": [
        "We have identified 3 datasets containing news article written in French : \n",
        "\n",
        "  * [OrangeSum](https://github.com/Tixierae/OrangeSum) or ([link HunggingFace](https://huggingface.co/datasets/GEM/OrangeSum) ) : dataset composed of French articles scrapped from \"Orange Actu\" website. Articles are provided with their title and short summary, and classified into 5 main categories : France, world, politics, automotive, and society. The society category is itself divided into 8 subcategories: health, environment, people, culture, media, high-tech, unusual (\"insolite\" in French), and miscellaneous.\n",
        "\n",
        "  * [MLSum](https://huggingface.co/datasets/mlsum) & [XL-Sum](https://huggingface.co/datasets/csebuetnlp/xlsum) : datasets proposed by HuggingFace and composed of articles with their abstracts on different languages. It was originally proposed for multilingual text summarization, but we can choose to focus on the French subcorpus. Note that the considered articles will be mainly translations of originally English articles.\n",
        "\n",
        "As the OrangeSum articles were originally written in French, we will mainly train our model on this dataset. The two other ones could be used to have a larger training dataset, or to try to apply our OrangeSum-trained model on other types of articles."
      ],
      "metadata": {
        "id": "UcBbKvLVvUs5"
      }
    },
    {
      "cell_type": "code",
      "execution_count": 5,
      "metadata": {
        "id": "f6Mbppf0YOXY",
        "colab": {
          "base_uri": "https://localhost:8080/",
          "referenced_widgets": [
            "b8cfcfd9e19a4f97a7ab1d53c9fddaec",
            "dff4350caa5f410eb0bb09b31a2b77bb",
            "bdcba26915754f928f5acdc4cc3cdaeb",
            "4cc72bb6aade4e21bcc4ba43a3366040",
            "a85459e775804063bf3510cc42a35706",
            "689394e402ba44248b377f715c47ae84",
            "570173e4450e4ee097dfbb868b3ba968",
            "e0896cb54b7a4b7e83fd552dc7237d1e",
            "6cd0894e8e6b470cbd4a856def7461d8",
            "4afd8e0fed044c03b698c0f9c8e24e5c",
            "be3115d6017c4731ab84657300d5ff5b",
            "a7fc21af880d43ac9d83b1c7e2be7bb1",
            "4fc8c863c1154326b44293163752c318",
            "fb0d0e7273bb4ff59f9dcb7d3dd5bb34",
            "966676d8f9ec41f2a24a283af22b3608",
            "b531d81ca39443d7b468479574943799",
            "68bb21a68fa6406eab72646ec5f428ec",
            "abc41821460a4457bf62d91ec9de186a",
            "f62743468ef747ffa1e6ad5fafde8a71",
            "95b474f2ee3d485082018e38f8366fdd",
            "007e0e4a2e1047dfb1bfbc5ec9a41c42",
            "28bdd28420fb4bf3992e0aa3d576d1ef",
            "7bcec8506fd9499491114c924b8e28cc",
            "78420d03aeb54dd2be643b6ef1896398",
            "bce7afd46a594af1989b491558a5fff9",
            "a5d5044208be46bfb33c4a559183adc9",
            "6bc6ce9322f04da1bbd2e1fd1e455609",
            "29655bbdf8d24a38a42d91dddb415340",
            "3e42f089ae494a08b69c6d1c930113ee",
            "59cd0a469115435997992a9de9469fa3",
            "ef8c65d35357423ba518155d231418db",
            "80321e10b3e64672a1da20b955332227",
            "ff6be2a892f04dc9af4ba536b4bea37b",
            "d2adcfed667c4ae09ccee3a008cb5c5a",
            "9fe36239afe34240af395af02f4dbe07",
            "e898f009ca5d4d9bb70c0091c591093d",
            "cbd4d89da719481ca30b653088940ada",
            "18c688a5b61d47f0afe8e5b99997863a",
            "16c3e4304ba747198ca60497227dc70c",
            "bec25395ab684177a24b17f78c92e34c",
            "0cc9da222ab04eb79667ae3f2caaa608",
            "8832f9c00c534c71af98f713b9d62179",
            "fbd7bdc3b920482ca725b1e3c5887001",
            "ca074a9232984b13923da115e9655d11",
            "84c9f4b709fe4c6dbb77cc876574b548",
            "248cdbfc1c234f8588b541891b94de28",
            "ec60834e58314ca9b5816378055a41ae",
            "1bf8babfa1164a80bf1b869e9cedf930",
            "8040dfd93909481cb59f3bda296c7820",
            "765f9bff692a4822957c19efffd5fa03",
            "4262a98c16e54121a3fb1eebb34ca641",
            "b032b83893a74569b56e6ccf70acd57f",
            "23e9dce18e5a4f7eb49e936e7495c373",
            "eb8b74d33b3547c98a2ab37aa6bad61b",
            "dc9f77fa41024dbcbcdd73b67168576e",
            "5388581ad61d4d8fae2da9225584680b",
            "209d4f44a8ae4deaa8bda355b51da24e",
            "3127d29cb6234f65a95e0a35aa996fb4",
            "7b9d73a9fdbc4876ba2dfc6e468dc9b9",
            "4b1021735b0a41b698ac2dc9834ba72c",
            "8565ad8f7e5f43868c190ec06e528d5d",
            "65885e8a36824a8a9df814a5899a4a94",
            "9aadcad2d7ab40348e8ef394dbe25cd1",
            "4afab2c1180f49b4909ad7f8499d1239",
            "19b7b2a00dde44b8a8836d2465025b8a",
            "ed645efa20f64a3790758cee37507a66",
            "a26d6ebb66d14348a60469c4834722e5",
            "94a3f54f07104d1a97f535d5e6100dfe",
            "dd4a87d313a644e28f3b29c9218724ab",
            "6e068dd0487343e7a8385f863a71e6af",
            "7446ad2050b44fafb8bf88b1d6639a21",
            "93b263f1fc634240bbee2f18b8f0ec4b",
            "d0616a39d4da487685a0a5430cf8b80a",
            "05395c02d32a4d5d8fa8a3abf2641661",
            "40fc9dbcf18f49118cb2f8912ea3620a",
            "88abaa51aa294dbca75b154e1c70c388",
            "484a880475e346e5b336e34d1c3a5a85"
          ],
          "height": 0
        },
        "outputId": "91e212c9-3de1-4ca2-e772-0520a3368127"
      },
      "outputs": [
        {
          "output_type": "display_data",
          "data": {
            "text/plain": [
              "Downloading builder script:   0%|          | 0.00/5.76k [00:00<?, ?B/s]"
            ],
            "application/vnd.jupyter.widget-view+json": {
              "version_major": 2,
              "version_minor": 0,
              "model_id": "b8cfcfd9e19a4f97a7ab1d53c9fddaec"
            }
          },
          "metadata": {}
        },
        {
          "output_type": "display_data",
          "data": {
            "text/plain": [
              "Downloading metadata:   0%|          | 0.00/5.94k [00:00<?, ?B/s]"
            ],
            "application/vnd.jupyter.widget-view+json": {
              "version_major": 2,
              "version_minor": 0,
              "model_id": "a7fc21af880d43ac9d83b1c7e2be7bb1"
            }
          },
          "metadata": {}
        },
        {
          "output_type": "stream",
          "name": "stdout",
          "text": [
            "Downloading and preparing dataset orange_sum/abstract (download: 21.99 MiB, generated: 58.19 MiB, post-processed: Unknown size, total: 80.18 MiB) to /root/.cache/huggingface/datasets/GEM___orange_sum/abstract/1.1.0/0886904dd6ac7849d4c9fcec77bf8d78622dd651739826ccc8436159b777f910...\n"
          ]
        },
        {
          "output_type": "display_data",
          "data": {
            "text/plain": [
              "Downloading data:   0%|          | 0.00/23.1M [00:00<?, ?B/s]"
            ],
            "application/vnd.jupyter.widget-view+json": {
              "version_major": 2,
              "version_minor": 0,
              "model_id": "7bcec8506fd9499491114c924b8e28cc"
            }
          },
          "metadata": {}
        },
        {
          "output_type": "display_data",
          "data": {
            "text/plain": [
              "Generating train split:   0%|          | 0/21401 [00:00<?, ? examples/s]"
            ],
            "application/vnd.jupyter.widget-view+json": {
              "version_major": 2,
              "version_minor": 0,
              "model_id": "d2adcfed667c4ae09ccee3a008cb5c5a"
            }
          },
          "metadata": {}
        },
        {
          "output_type": "display_data",
          "data": {
            "text/plain": [
              "Generating test split:   0%|          | 0/1500 [00:00<?, ? examples/s]"
            ],
            "application/vnd.jupyter.widget-view+json": {
              "version_major": 2,
              "version_minor": 0,
              "model_id": "84c9f4b709fe4c6dbb77cc876574b548"
            }
          },
          "metadata": {}
        },
        {
          "output_type": "display_data",
          "data": {
            "text/plain": [
              "Generating validation split:   0%|          | 0/1500 [00:00<?, ? examples/s]"
            ],
            "application/vnd.jupyter.widget-view+json": {
              "version_major": 2,
              "version_minor": 0,
              "model_id": "5388581ad61d4d8fae2da9225584680b"
            }
          },
          "metadata": {}
        },
        {
          "output_type": "stream",
          "name": "stdout",
          "text": [
            "Dataset orange_sum downloaded and prepared to /root/.cache/huggingface/datasets/GEM___orange_sum/abstract/1.1.0/0886904dd6ac7849d4c9fcec77bf8d78622dd651739826ccc8436159b777f910. Subsequent calls will reuse this data.\n"
          ]
        },
        {
          "output_type": "display_data",
          "data": {
            "text/plain": [
              "  0%|          | 0/3 [00:00<?, ?it/s]"
            ],
            "application/vnd.jupyter.widget-view+json": {
              "version_major": 2,
              "version_minor": 0,
              "model_id": "a26d6ebb66d14348a60469c4834722e5"
            }
          },
          "metadata": {}
        }
      ],
      "source": [
        "dataset_orangesum = load_dataset(\"GEM/OrangeSum\", \"abstract\")\n",
        "\n",
        "# dataset_xlsum = load_dataset(\"csebuetnlp/xlsum\", \"french\")\n",
        "# dataset_mlsum = load_dataset(\"mlsum\", \"fr\")"
      ]
    },
    {
      "cell_type": "code",
      "source": [
        "dataset_orangesum"
      ],
      "metadata": {
        "colab": {
          "base_uri": "https://localhost:8080/"
        },
        "id": "AZeH0NBxFdzG",
        "outputId": "e1cb3850-de6f-482f-cf1e-8d069c8699b6"
      },
      "execution_count": 6,
      "outputs": [
        {
          "output_type": "execute_result",
          "data": {
            "text/plain": [
              "DatasetDict({\n",
              "    train: Dataset({\n",
              "        features: ['gem_id', 'input', 'target', 'references'],\n",
              "        num_rows: 21401\n",
              "    })\n",
              "    test: Dataset({\n",
              "        features: ['gem_id', 'input', 'target', 'references'],\n",
              "        num_rows: 1500\n",
              "    })\n",
              "    validation: Dataset({\n",
              "        features: ['gem_id', 'input', 'target', 'references'],\n",
              "        num_rows: 1500\n",
              "    })\n",
              "})"
            ]
          },
          "metadata": {},
          "execution_count": 6
        }
      ]
    },
    {
      "cell_type": "code",
      "source": [
        "dataset_orangesum['train'][1]"
      ],
      "metadata": {
        "colab": {
          "base_uri": "https://localhost:8080/"
        },
        "id": "HADZxoBrF1F-",
        "outputId": "159f528e-d406-4bbd-ca56-4d2a27e59dad"
      },
      "execution_count": 7,
      "outputs": [
        {
          "output_type": "execute_result",
          "data": {
            "text/plain": [
              "{'gem_id': 'OrangeSum_abstract-train-1',\n",
              " 'input': 'C\\'est désormais officiel : Alain Juppé n\\'est plus membre des Républicains. L\\'ex-Premier ministre de Jacques Chirac, cofondateur de l\\'UMP en 2002, ne paie plus sa cotisation auprès du parti de droite. Mercredi 9 janvier, le maire de Bordeaux a dénoncé un glissement qui s\\'opère, selon lui, de la droite vers l\\'extême droite. \"Je me reconnais de moins en moins dans cette famille politique, à laquelle je suis pourtant très attaché (...). C\\'est avec tristesse que je l\\'ai quittée, mais il y a une dérive vers des thèses qui sont celles très proches de l\\'extrême droite, et une ambiguïté sur l\\'Europe\", a-t-il déclaré face aux journalistes, réunis pour assister à ses voeux. \"On assiste à cette espèce de transfusion régulière, et sur les thèmes de fond, il y a des moments où je me demande qui j\\'entends à la radio ? Un membre de LR ou du RN ?\", a insisté le maire de Bordeaux. Le même jour, l\\'ex-député Thierry Mariani annonçait son départ de LR pour rallier une liste du Rassemblement national aux européennes de mai prochain. \"Cela fait deux ans que j\\'ai dit que je prenais mes distances avec Les Républicains. Les choses sont acquises depuis bien longtemps\", a tranché Alain Juppé. L\\'ancien candidat à la primaire de la droite pour la présidentielle de 2017 n\\'a jamais fait mystère de son désaccord avec les positions du président des Républicains, Laurent Wauquiez.\\n',\n",
              " 'references': [\"Le maire de Bordeaux ne fait plus partie des Républicains et il tient à le montrer. Lors de ses voeux à la presse, l'édile a pris ses distances avec sa famille politique historique, qu'il trouve trop proche de Marine Le Pen.\\n\"],\n",
              " 'target': \"Le maire de Bordeaux ne fait plus partie des Républicains et il tient à le montrer. Lors de ses voeux à la presse, l'édile a pris ses distances avec sa famille politique historique, qu'il trouve trop proche de Marine Le Pen.\\n\"}"
            ]
          },
          "metadata": {},
          "execution_count": 7
        }
      ]
    },
    {
      "cell_type": "code",
      "source": [
        "# dataset_xlsum"
      ],
      "metadata": {
        "id": "9WcKexq3G6L0"
      },
      "execution_count": 8,
      "outputs": []
    },
    {
      "cell_type": "code",
      "source": [
        "# dataset_xlsum['train'][1]"
      ],
      "metadata": {
        "id": "tAJWNXCwG7hK"
      },
      "execution_count": 9,
      "outputs": []
    },
    {
      "cell_type": "code",
      "source": [
        "# dataset_mlsum"
      ],
      "metadata": {
        "id": "x7SyqWi7G-SC"
      },
      "execution_count": 10,
      "outputs": []
    },
    {
      "cell_type": "code",
      "source": [
        "# dataset_mlsum['train'][1]"
      ],
      "metadata": {
        "id": "0OiIdwyzHBLa"
      },
      "execution_count": 11,
      "outputs": []
    },
    {
      "cell_type": "markdown",
      "source": [
        "## Pre-processing, Tokenization & Embedding"
      ],
      "metadata": {
        "id": "62bDt-vDLKW8"
      }
    },
    {
      "cell_type": "markdown",
      "source": [
        "The first step is to pre-process by cleaning and tokenizing the given datasets, to create our DataLoaders. Here, we are dealing with articles and their summary, so we have the choice between using the sentence-level or the word-level. "
      ],
      "metadata": {
        "id": "42WozM3nyBQQ"
      }
    },
    {
      "cell_type": "code",
      "source": [
        "stop_words = stopwords.words('french')"
      ],
      "metadata": {
        "id": "lzdo7nUNhu9d"
      },
      "execution_count": 12,
      "outputs": []
    },
    {
      "cell_type": "code",
      "source": [
        "print('Examples of stopwords in french :' , *stop_words[:20])"
      ],
      "metadata": {
        "colab": {
          "base_uri": "https://localhost:8080/"
        },
        "id": "9fParGjD_uet",
        "outputId": "732acdca-e227-4091-adeb-8f1c2c81af60"
      },
      "execution_count": 13,
      "outputs": [
        {
          "output_type": "stream",
          "name": "stdout",
          "text": [
            "Examples of stopwords in french : au aux avec ce ces dans de des du elle en et eux il ils je la le les leur\n"
          ]
        }
      ]
    },
    {
      "cell_type": "markdown",
      "source": [
        "### Cleaning & Tokenization "
      ],
      "metadata": {
        "id": "wwBdE7A3u2zY"
      }
    },
    {
      "cell_type": "code",
      "source": [
        "def tokenize_clean_text (text, remove_stopwords=True, word_tokenizer = word_tokenize) : \n",
        "    \"\"\"\n",
        "    Tokenize and clean a given text\n",
        "    Input : \n",
        "      text : string containing the text to clean and tokenize\n",
        "      remove_stopwords : bool (default True) \n",
        "      word_tokenizer : tokenizer to use on words after tokenizing sentences\n",
        "    Output : \n",
        "      list of token's list \n",
        "    \"\"\"\n",
        "\n",
        "    # Sentence tokenizer : \n",
        "    sentences = sent_tokenize(text, language='french')\n",
        "\n",
        "    output = []\n",
        "    for sent in sentences : \n",
        "        # Clean of the sentence : removes ponctuation, and lower the sentence\n",
        "        clean_sent = re.sub(r'[^\\w\\s]','', sent.lower())\n",
        "\n",
        "        # Tokenization of the sentence : \n",
        "        tok_clean_sent = word_tokenizer(clean_sent, language='french')\n",
        "\n",
        "        # Removing of the stopwords :\n",
        "        if remove_stopwords :\n",
        "            tok_clean_sent = [w for w in tok_clean_sent if w not in stop_words]\n",
        "\n",
        "        # Append to the output :\n",
        "        output.append(tok_clean_sent)\n",
        "\n",
        "    return output"
      ],
      "metadata": {
        "id": "wCGtPvssTV1p"
      },
      "execution_count": 14,
      "outputs": []
    },
    {
      "cell_type": "markdown",
      "source": [
        "### Vocabulary & Embedding"
      ],
      "metadata": {
        "id": "6M-I9xOHusMD"
      }
    },
    {
      "cell_type": "markdown",
      "source": [
        "To model our text, we have to create a vocabulary, with a string-to-int (`stoi`) option. To have a better embedding for words than just using their index in the vocabulary, we can use pre-trained embeddings, which consists in Word-to-Vectors (Word2Vec) models. They assign to each word a vector, and are often pre-trained on a big corpus to try to model the studied language, that is to say to create vectors on which classical operations may have sense.\n",
        "\n",
        "The two following strategies are really similar :    \n",
        "  - in the first one, we build a vocabulary \"from scratch\", with the words that are within our corpus, and we use the pretrained embeddings to create a similarity matrix, by keeping the pre-trained vectors that interest us, that is to say that are in our built vocabulary\n",
        "  - in the second one, we directly use the pre-trained vocabulary of the chosen embeddings, so our words will then be assign to the same index as in the pre-trained vocabulary (and a certain number of words of it may not be used)."
      ],
      "metadata": {
        "id": "gj7oWzOSl0zK"
      }
    },
    {
      "cell_type": "code",
      "source": [
        "UNK_IDX, PAD_IDX, SOS_IDX, EOS_IDX = 0, 1, 2, 3\n",
        "special_symbols = ['<unk>', '<pad>', '<sos>', '<eos>']"
      ],
      "metadata": {
        "id": "kBBmvys4pFDu"
      },
      "execution_count": 15,
      "outputs": []
    },
    {
      "cell_type": "markdown",
      "source": [
        "#### Chosen embeddings :"
      ],
      "metadata": {
        "id": "LP7RfPfDn9fp"
      }
    },
    {
      "cell_type": "code",
      "source": [
        "from torchtext.vocab import FastText, vocab"
      ],
      "metadata": {
        "id": "ErN7rPbOoA7m"
      },
      "execution_count": 16,
      "outputs": []
    },
    {
      "cell_type": "code",
      "source": [
        "# Load of pretrained embeddings vectors :\n",
        "pretrained_vectors_fasttext = FastText(language='fr')"
      ],
      "metadata": {
        "id": "6gzDG6Nyod8U",
        "colab": {
          "base_uri": "https://localhost:8080/"
        },
        "outputId": "c4d756c7-9151-4174-8b66-685e7d74b3bd"
      },
      "execution_count": 17,
      "outputs": [
        {
          "output_type": "stream",
          "name": "stderr",
          "text": [
            ".vector_cache/wiki.fr.vec: 3.03GB [01:25, 35.3MB/s]                            \n",
            "  0%|          | 0/1152449 [00:00<?, ?it/s]Skipping token b'1152449' with 1-dimensional vector [b'300']; likely a header\n",
            "100%|██████████| 1152449/1152449 [02:38<00:00, 7281.43it/s]\n"
          ]
        }
      ]
    },
    {
      "cell_type": "code",
      "source": [
        "print(f'The pre-trained vocabulary contains {pretrained_vectors_fasttext.vectors.shape[0]} words, with embeddings in vectors of size {pretrained_vectors_fasttext.vectors.shape[1]}')"
      ],
      "metadata": {
        "colab": {
          "base_uri": "https://localhost:8080/"
        },
        "id": "kpKYZFYHon72",
        "outputId": "8887afc3-386e-4c2d-c901-e112da39c965"
      },
      "execution_count": 18,
      "outputs": [
        {
          "output_type": "stream",
          "name": "stdout",
          "text": [
            "The pre-trained vocabulary contains 1152449 words, with embeddings in vectors of size 300\n"
          ]
        }
      ]
    },
    {
      "cell_type": "code",
      "source": [
        ""
      ],
      "metadata": {
        "id": "tn2WJwH9qthZ"
      },
      "execution_count": 18,
      "outputs": []
    },
    {
      "cell_type": "markdown",
      "source": [
        "#### Vocabulary built from scratch & corresponding embedding matrix:"
      ],
      "metadata": {
        "id": "OwW8Uxd5locn"
      }
    },
    {
      "cell_type": "code",
      "source": [
        "def vocab_update (corpus, text_features='input', vocabulary=None, remove_stopwords=True, word_tokenizer = word_tokenize, threshold=5) :\n",
        "    \"\"\"\n",
        "    Update a given vocabulary or Create a new one, with the words of a given corpus of texts\n",
        "    Inputs :\n",
        "      - corpus : Dataset\n",
        "      - text_features : name of the features in the dataset that contains text\n",
        "      - vocabulary : dict or None, containing keys : 'stoi', 'counts' and 'nbwords'\n",
        "      - remove_stopwords : bool\n",
        "      - threshold : if set to an int value, remove from the vocabulary words with counts < threshold\n",
        "\n",
        "    !!! Output a vocabulary is useful for the case of creating a vocabulary, \n",
        "    but the function also directly modify the input vocabulary if given\n",
        "    \"\"\" \n",
        "    if vocabulary is None :\n",
        "        # Create empty vocabulary :\n",
        "        vocabulary = {'stoi': {}, 'counts': {}, 'nbwords': 0}\n",
        "        # Add special symbols : \n",
        "        for t in special_symbols: \n",
        "            vocabulary['stoi'][t] = vocabulary['nbwords']\n",
        "            vocabulary['counts'][t] = 1\n",
        "            vocabulary['nbwords'] += 1\n",
        "\n",
        "    # Update vocabulary :\n",
        "    for document in tqdm(corpus) : \n",
        "        tokens = tokenize_clean_text(document[text_features], remove_stopwords=remove_stopwords, word_tokenizer=word_tokenizer)\n",
        "        for sentence in tokens :\n",
        "            for token in sentence : \n",
        "                if token not in vocabulary['stoi'].keys() :\n",
        "                    vocabulary['stoi'][token] = vocabulary['nbwords']\n",
        "                    vocabulary['nbwords'] += 1\n",
        "                    vocabulary['counts'][token] =1\n",
        "                else : \n",
        "                    vocabulary['counts'][token] +=1\n",
        "\n",
        "    # Remove from vocabulary words with count <= threshold : \n",
        "    if threshold is not None :\n",
        "        vocabulary_cleaned = {'stoi': {}, 'counts': {}, 'nbwords': 0}\n",
        "        for k, v in vocabulary['counts'].items() : \n",
        "            if (k in special_symbols) or (v>threshold) :\n",
        "                vocabulary_cleaned['stoi'][k] = vocabulary_cleaned['nbwords']\n",
        "                vocabulary_cleaned['nbwords'] += 1\n",
        "                vocabulary_cleaned['counts'][k] = vocabulary['counts'][k]\n",
        "        print(f\"Number of words removed due to the threshold : {vocabulary['nbwords']-vocabulary_cleaned['nbwords']}, ie {vocabulary_cleaned['nbwords']*100/vocabulary['nbwords']:.2f}% of the initial vocabulary\")\n",
        "        vocabulary = vocabulary_cleaned\n",
        "\n",
        "    # itos creation : \n",
        "    vocabulary['itos'] = {v : k for k,v in vocabulary['stoi'].items()}\n",
        "\n",
        "    return vocabulary"
      ],
      "metadata": {
        "id": "LWX38F21uvy1"
      },
      "execution_count": 19,
      "outputs": []
    },
    {
      "cell_type": "code",
      "source": [
        "vocabulary_orangesum = vocab_update(dataset_orangesum['train'], text_features='input', threshold = 4)"
      ],
      "metadata": {
        "colab": {
          "base_uri": "https://localhost:8080/",
          "height": 68,
          "referenced_widgets": [
            "2ee5b8906b3349d2accff7c3168ab8d8",
            "f4d52371a82c416ca69185cbe8a93633",
            "06bdd2a886c74f558532c2ef029549a0",
            "008a6e0b6660458b8d8411b96f1bf696",
            "f708ce97b05b44f1882d197ecca86412",
            "56d9cfa95e01470583410354f79664db",
            "5063175b8bb34c40b13e7c803dff864f",
            "1c8f3954c6444df6a637423699296286",
            "0f7d15b5d88541f9b2fd0ad53c966351",
            "429c064c31844ad0a2a8008f330a2c76",
            "81df26c0bdf94e9abab6e2dfd5aea64d"
          ]
        },
        "id": "nTGbg7BEwN24",
        "outputId": "82b6b30f-5c72-4869-8293-7955de42eb0c"
      },
      "execution_count": 20,
      "outputs": [
        {
          "output_type": "display_data",
          "data": {
            "text/plain": [
              "  0%|          | 0/21401 [00:00<?, ?it/s]"
            ],
            "application/vnd.jupyter.widget-view+json": {
              "version_major": 2,
              "version_minor": 0,
              "model_id": "2ee5b8906b3349d2accff7c3168ab8d8"
            }
          },
          "metadata": {}
        },
        {
          "output_type": "stream",
          "name": "stdout",
          "text": [
            "Number of words removed due to the threshold : 144500, ie 23.17% of the initial vocabulary\n"
          ]
        }
      ]
    },
    {
      "cell_type": "code",
      "source": [
        "print(f\"Number of words kept in OrangeSum (training-text) vocabulary : {vocabulary_orangesum['nbwords']}\")"
      ],
      "metadata": {
        "colab": {
          "base_uri": "https://localhost:8080/"
        },
        "id": "G9oFwDMYyHlw",
        "outputId": "e15d6a28-e25a-4a32-f104-07b7bee26fbc"
      },
      "execution_count": 21,
      "outputs": [
        {
          "output_type": "stream",
          "name": "stdout",
          "text": [
            "Number of words kept in OrangeSum (training-text) vocabulary : 43584\n"
          ]
        }
      ]
    },
    {
      "cell_type": "code",
      "source": [
        "def create_embedding_matrix (vocabulary, pretrained_vectors) : \n",
        "    \"\"\"\n",
        "    Build an embedding matrix (tensor format) from a given vocabulary, using the embedding vectors \n",
        "    contains in pretrained_vectors.\n",
        "    Note that all words present in vocabulary but not in pretrained_vectors will be assigned\n",
        "    a random embedding in Uniform([-1,1]), and their number will be printed at the end of the execution.\n",
        "    \"\"\"\n",
        "    nb_words, embedding_dim = vocabulary['nbwords'], pretrained_vectors.vectors.shape[1]\n",
        "    pretrained_vectors_words = pretrained_vectors.stoi.keys()\n",
        "\n",
        "    # Creation of embedding matrix and counter for missing words :\n",
        "    word_embedding_matrix = torch.zeros((nb_words, embedding_dim))\n",
        "    nb_missing_words = 0\n",
        "\n",
        "    # Completion of embedding matrix :\n",
        "    for word, i in vocabulary['stoi'].items() :\n",
        "        if word in pretrained_vectors_words:\n",
        "            word_index = pretrained_vectors.stoi[word]\n",
        "            word_embedding_matrix[i] = pretrained_vectors.vectors[word_index]\n",
        "        else:\n",
        "            # If word not in pretrained_vectors, create a random embedding :\n",
        "            new_embedding = torch.zeros(embedding_dim).uniform_(-1,1) \n",
        "            word_embedding_matrix[i] = new_embedding\n",
        "            nb_missing_words += 1\n",
        "\n",
        "    print(f'Random new embeddings were created for {nb_missing_words} words, ie {nb_missing_words*100/nb_words:.2f}% of the vocabulary')\n",
        "\n",
        "    return word_embedding_matrix"
      ],
      "metadata": {
        "id": "x2VtLnnbpZd6"
      },
      "execution_count": 22,
      "outputs": []
    },
    {
      "cell_type": "code",
      "source": [
        "embedding_matrix_orangesum = create_embedding_matrix(vocabulary_orangesum, pretrained_vectors_fasttext)"
      ],
      "metadata": {
        "colab": {
          "base_uri": "https://localhost:8080/"
        },
        "id": "eW32C9PZuCA8",
        "outputId": "5d0b29fb-1176-4ba0-ef6a-2947256d1a19"
      },
      "execution_count": 23,
      "outputs": [
        {
          "output_type": "stream",
          "name": "stdout",
          "text": [
            "Random new embeddings were created for 7913 words, ie 18.16% of the vocabulary\n"
          ]
        }
      ]
    },
    {
      "cell_type": "code",
      "source": [
        "embedding_matrix_orangesum.shape"
      ],
      "metadata": {
        "colab": {
          "base_uri": "https://localhost:8080/"
        },
        "id": "lyuJYOeHuXk6",
        "outputId": "87e53a9c-70d7-45ec-81e8-802fef641ebe"
      },
      "execution_count": 24,
      "outputs": [
        {
          "output_type": "execute_result",
          "data": {
            "text/plain": [
              "torch.Size([43584, 300])"
            ]
          },
          "metadata": {},
          "execution_count": 24
        }
      ]
    },
    {
      "cell_type": "markdown",
      "source": [
        "#### Pre-trained vocabulary & embeddings : "
      ],
      "metadata": {
        "id": "L-pqnL0UljN7"
      }
    },
    {
      "cell_type": "code",
      "source": [
        "# Creation of the pre-trained vocabulary :\n",
        "pretrained_vocab_fasttext = vocab(pretrained_vectors_fasttext.stoi, min_freq=0)\n",
        "\n",
        "# We add our special symbols : \n",
        "for symbol_index, symbol in enumerate(special_symbols) : \n",
        "    pretrained_vocab_fasttext.insert_token(symbol, symbol_index)\n",
        "pretrained_vocab_fasttext.set_default_index(UNK_IDX)"
      ],
      "metadata": {
        "id": "4nK8glqtpJNd"
      },
      "execution_count": 25,
      "outputs": []
    },
    {
      "cell_type": "code",
      "source": [
        "# Store embeddings in a tensor :\n",
        "pretrained_embeddings_fasttext = pretrained_vectors_fasttext.vectors\n",
        "pretrained_embeddings_fasttext = torch.cat((torch.zeros(4,pretrained_embeddings_fasttext.shape[1]),pretrained_embeddings_fasttext))\n",
        "pretrained_embeddings_fasttext.size()"
      ],
      "metadata": {
        "id": "pY9Rrhj2qvVu",
        "colab": {
          "base_uri": "https://localhost:8080/"
        },
        "outputId": "cca8c1e8-02d4-40be-c6f8-e2da58446b85"
      },
      "execution_count": 26,
      "outputs": [
        {
          "output_type": "execute_result",
          "data": {
            "text/plain": [
              "torch.Size([1152453, 300])"
            ]
          },
          "metadata": {},
          "execution_count": 26
        }
      ]
    },
    {
      "cell_type": "code",
      "source": [
        ""
      ],
      "metadata": {
        "id": "4HrRp9p4lihd"
      },
      "execution_count": 26,
      "outputs": []
    },
    {
      "cell_type": "markdown",
      "source": [
        "### Padding & Numericalization "
      ],
      "metadata": {
        "id": "6ecFdQBKQeWQ"
      }
    },
    {
      "cell_type": "code",
      "source": [
        "# def clean_tokenize_pad_numericalize_sent(text, vocabulary_stoi, max_length=(20,300), remove_stopwords=True, word_tokenizer=word_tokenize) :\n",
        "#     \"\"\"\n",
        "#     Apply the cleanning and tokenizing previously refined function,\n",
        "#     and then numericalize the text, by attributing to each word its indice in \n",
        "#     a given vocabulary. \n",
        "#     With max_length=(text_length, seq_length), we pad the text in text_length sequences of seq_length words.\n",
        "#     \"\"\"\n",
        "\n",
        "#     tokens = tokenize_clean_text(text, remove_stopwords=remove_stopwords, word_tokenizer=word_tokenizer)\n",
        "\n",
        "#     result = []\n",
        "\n",
        "#     text_length, seq_length = max_length\n",
        "    \n",
        "#     # Numericalize and pad sentences :\n",
        "#     for sequence in tokens :\n",
        "#         seq = [vocabulary_stoi['<sos>']] + [ vocabulary_stoi[token] if token in vocabulary_stoi.keys() else vocabulary_stoi['<unk>'] for token in sequence] + [vocabulary_stoi['<eos>']]\n",
        "#         n = len(seq)\n",
        "#         if (seq_length is None) or (n==seq_length) : \n",
        "#             result.append(seq)\n",
        "#         else :\n",
        "#             if n < seq_length : \n",
        "#                 result.append(seq + [ vocabulary_stoi['<pad>'] for i in range(n, seq_length)])\n",
        "#             else : # n > seq_length\n",
        "#                 result.append(seq[:seq_length])\n",
        "\n",
        "#     # Pad text : \n",
        "#     m = len(result)\n",
        "#     if m < text_length : \n",
        "#         empty_seq = [vocabulary_stoi['<pad>'] for i in range(seq_length)]\n",
        "#         for i in range(m, text_length) : \n",
        "#             result.append(empty_seq)\n",
        "#     elif m > text_length : \n",
        "#         result = result[:text_length]\n",
        "\n",
        "#     return result\n"
      ],
      "metadata": {
        "id": "jYArB-Fuurtw"
      },
      "execution_count": 27,
      "outputs": []
    },
    {
      "cell_type": "code",
      "source": [
        "def clean_tokenize_pad_numericalize_word(text, vocabulary_stoi, max_length=1000, remove_stopwords=True, word_tokenizer=word_tokenize) :\n",
        "    \"\"\"\n",
        "    Apply the cleanning and tokenizing previously refined function,\n",
        "    and then numericalize the text, by attributing to each word its indice in \n",
        "    a given vocabulary. \n",
        "    With max_length=int, we pad the text in max_length words.\n",
        "    \"\"\"\n",
        "\n",
        "    tokens = tokenize_clean_text(text, remove_stopwords=remove_stopwords, word_tokenizer=word_tokenizer)\n",
        "\n",
        "    result = [vocabulary_stoi['<sos>']]\n",
        "    \n",
        "    # Numericalize and pad words, disregarding sequence structure :\n",
        "    for sequence in tokens :\n",
        "        for token in sequence : \n",
        "            result.append(vocabulary_stoi[token] if token in vocabulary_stoi.keys() else vocabulary_stoi['<unk>'])\n",
        "            if len(result) >= max_length : \n",
        "                break\n",
        "\n",
        "    # Pad text : \n",
        "    m = len(result)\n",
        "    if m < max_length-1 : \n",
        "        for i in range(m, max_length-1) : \n",
        "            result.append(vocabulary_stoi['<pad>'])\n",
        "    elif m > max_length-1 : \n",
        "        result = result[:max_length-1]\n",
        "\n",
        "    # Add eos token : \n",
        "    result.append(vocabulary_stoi['<eos>'])\n",
        "\n",
        "    return result"
      ],
      "metadata": {
        "id": "8KOLhda9RVZz"
      },
      "execution_count": 28,
      "outputs": []
    },
    {
      "cell_type": "markdown",
      "source": [
        "### Dataloader's creation"
      ],
      "metadata": {
        "id": "kkWwez8FTKs2"
      }
    },
    {
      "cell_type": "markdown",
      "source": [
        "Here, in our dataloader's creation, we will use two different vocabularies built 'from scratch' :     \n",
        "  - for the texts, we use a vocabulary constructed on the training texts, removing stop words that will not be useful for our encoders, their goal being to understand the most important informations of an article. We limit the text length to $1000$ word, based on descriptive statistics section.\n",
        "  - for the summaries, we use a vocabulary constructed on the training summaries, but keeping stop words, as the goal of our decoders will be to be abble to generate sentences understandables by humans, so all the words should be kept. We limit the text length to $100$ word, based on descriptive statistics section. "
      ],
      "metadata": {
        "id": "NhhgQZgMMpMk"
      }
    },
    {
      "cell_type": "code",
      "source": [
        "def pre_processing_all (entries, vocab_text_stoi, vocab_summary_stoi, text_features='input', summary_features='target', word_tokenizer=word_tokenize) : \n",
        "    \"\"\"\n",
        "    !!! In this function, stopwords are removed only for text column\n",
        "    \"\"\"\n",
        "    pre_processed = {}\n",
        "    pre_processed[text_features] = [clean_tokenize_pad_numericalize_word(entry, vocab_text_stoi, max_length=600, remove_stopwords=True) for entry in entries[text_features]]\n",
        "    pre_processed[summary_features] = [clean_tokenize_pad_numericalize_word(entry, vocab_summary_stoi, max_length=60, remove_stopwords=False) for entry in entries[summary_features]]\n",
        "    return pre_processed"
      ],
      "metadata": {
        "id": "YZV5su1aTKIV"
      },
      "execution_count": 29,
      "outputs": []
    },
    {
      "cell_type": "code",
      "source": [
        "# Use a vocabulary different for summaries, keeping stopwords :\n",
        "\n",
        "vocabulary_orangesum_summary = vocab_update(dataset_orangesum['train'], text_features='target', remove_stopwords=False, threshold=1)"
      ],
      "metadata": {
        "colab": {
          "base_uri": "https://localhost:8080/",
          "height": 68,
          "referenced_widgets": [
            "34ffe0ddbde64417a473297f0425499c",
            "d5a7b661dad645a884a90d02a7bbcf1d",
            "1e8baac5412246268286658c157821b2",
            "b283753bcab043b8850f3a9cb3997a32",
            "a88b66a24592455c8ab0445543a53de5",
            "5c3b9ce454834405adfdeb2d0cc1c2ad",
            "29ef14ba45044d8f90b815a2fa9c91ef",
            "7b126842226748d79d2fd0756881cc6a",
            "07d6a4b92a234a53aa2548a6d2f70a52",
            "943e7cc1c3304e199bf74b9a6e08a8c4",
            "d85a32554ebc429fb4b757823b063ffc"
          ]
        },
        "id": "IH621KTtWVop",
        "outputId": "c4ab6b29-15e4-4707-cfd2-becc191fa638"
      },
      "execution_count": 30,
      "outputs": [
        {
          "output_type": "display_data",
          "data": {
            "text/plain": [
              "  0%|          | 0/21401 [00:00<?, ?it/s]"
            ],
            "application/vnd.jupyter.widget-view+json": {
              "version_major": 2,
              "version_minor": 0,
              "model_id": "34ffe0ddbde64417a473297f0425499c"
            }
          },
          "metadata": {}
        },
        {
          "output_type": "stream",
          "name": "stdout",
          "text": [
            "Number of words removed due to the threshold : 17679, ie 54.15% of the initial vocabulary\n"
          ]
        }
      ]
    },
    {
      "cell_type": "code",
      "source": [
        "# Clean, tokenize, numericalize, pad the dataset :\n",
        "\n",
        "dataset_orangesum_preprocessed = dataset_orangesum.copy()\n",
        "dataset_orangesum_preprocessed['train'] = dataset_orangesum['train'].map(lambda e: pre_processing_all(e, vocab_text_stoi=vocabulary_orangesum['stoi'], vocab_summary_stoi=vocabulary_orangesum_summary['stoi']), batched=True)\n",
        "dataset_orangesum_preprocessed['validation'] = dataset_orangesum['validation'].map(lambda e: pre_processing_all(e, vocab_text_stoi=vocabulary_orangesum['stoi'], vocab_summary_stoi=vocabulary_orangesum_summary['stoi']), batched=True)\n",
        "dataset_orangesum_preprocessed['test'] = dataset_orangesum['test'].map(lambda e: pre_processing_all(e, vocab_text_stoi=vocabulary_orangesum['stoi'], vocab_summary_stoi=vocabulary_orangesum_summary['stoi']), batched=True)"
      ],
      "metadata": {
        "colab": {
          "base_uri": "https://localhost:8080/",
          "height": 113,
          "referenced_widgets": [
            "1d0dbdc48c9f4b49a5f071b731eb493f",
            "5a2e7ea9406a47d8a809964b0f21a03b",
            "8dc6ecf0886c42ac8e14c2b74613fc2b",
            "93efb190257742789f7a7b51da81f09b",
            "59f8dede6dd3491e9a216d3a770014b5",
            "2cabdc2407824b01adbf6997abf024ce",
            "d2af4087ebc441a8b81f7529c4ac2398",
            "7888947e6c484799a25b8679b1cfcc67",
            "f29f016d3ff94f7288b17493fdec6a05",
            "96ba08662359411cbdf6a9d2754b285a",
            "9f91d86091ad4df3b6eff50b238d203c",
            "22d9bb79d16343e0831ddbb9d43bc9bc",
            "0dc0de1e9b904733b4a86d0a2ad59b0c",
            "a286726597e54957b6ccdee8e8249bd9",
            "435dacc4e34541e38dc3ee6519e3457e",
            "1057ed88eb8c4de2b9665ad34f35e649",
            "98d05701374240929f7340818cfcbf13",
            "89ff87ff5024439ebfff21dfdb69ee20",
            "2eee8585ffde45c4a639c8a605a9f16b",
            "06963a86525e4a7f9cfe38e19524487e",
            "17b913f0a1de42598cb1d7cf33cbf169",
            "2745df92cdc84cbd85ae4abbb1e207bd",
            "457e493f80284482bbbf55ecd526d5e2",
            "68f018b69958432aa57dae1274ec2561",
            "2c204726350c4e65bfd44c919eb7477e",
            "8aea27c4447142788a44d98319bde29d",
            "5bde2c12d51244c8be04cd5d4ce95445",
            "0fa7624eeb654d578c8179cf42af9920",
            "ce6ee097696045f581c4f77b99d1167b",
            "420def2eb1e54e0b95ad0a78e9d27af8",
            "a49bffca45374720b4a2ba2dbaeec73e",
            "d0805d4bb0ac48baa5b240cd12d23ee6",
            "f05b370fc3764238a9861dd84241b43b"
          ]
        },
        "id": "by6TqjfnV9xA",
        "outputId": "2d708048-82b5-44c5-a3fe-17f0458b159f"
      },
      "execution_count": 31,
      "outputs": [
        {
          "output_type": "display_data",
          "data": {
            "text/plain": [
              "  0%|          | 0/22 [00:00<?, ?ba/s]"
            ],
            "application/vnd.jupyter.widget-view+json": {
              "version_major": 2,
              "version_minor": 0,
              "model_id": "1d0dbdc48c9f4b49a5f071b731eb493f"
            }
          },
          "metadata": {}
        },
        {
          "output_type": "display_data",
          "data": {
            "text/plain": [
              "  0%|          | 0/2 [00:00<?, ?ba/s]"
            ],
            "application/vnd.jupyter.widget-view+json": {
              "version_major": 2,
              "version_minor": 0,
              "model_id": "22d9bb79d16343e0831ddbb9d43bc9bc"
            }
          },
          "metadata": {}
        },
        {
          "output_type": "display_data",
          "data": {
            "text/plain": [
              "  0%|          | 0/2 [00:00<?, ?ba/s]"
            ],
            "application/vnd.jupyter.widget-view+json": {
              "version_major": 2,
              "version_minor": 0,
              "model_id": "457e493f80284482bbbf55ecd526d5e2"
            }
          },
          "metadata": {}
        }
      ]
    },
    {
      "cell_type": "code",
      "source": [
        "class NewsDataset(Dataset):\n",
        "    def __init__(self, data, text_features='input', summary_features='target'):\n",
        "      self.text_features = text_features\n",
        "      self.summary_features = summary_features\n",
        "      self.data = data\n",
        "\n",
        "    def __len__(self):\n",
        "      return len(self.data)\n",
        "    \n",
        "    def __getitem__(self, idx):\n",
        "      item = {\n",
        "          \"text\": np.array(self.data[idx][self.text_features]),\n",
        "          \"summary\": np.array(self.data[idx][self.summary_features]) \n",
        "      }\n",
        "      return item"
      ],
      "metadata": {
        "id": "b8duwlK9urym"
      },
      "execution_count": 32,
      "outputs": []
    },
    {
      "cell_type": "code",
      "source": [
        "batch_size = 1\n",
        "\n",
        "orangesum_train_loader = DataLoader(NewsDataset(data = dataset_orangesum_preprocessed['train']), batch_size=batch_size, shuffle=True, drop_last=True)\n",
        "orangesum_test_loader = DataLoader(NewsDataset(data = dataset_orangesum_preprocessed['test']), batch_size=batch_size, shuffle=True, drop_last=True)\n",
        "orangesum_validation_loader = DataLoader(NewsDataset(data = dataset_orangesum_preprocessed['validation']), batch_size=batch_size, shuffle=True, drop_last=True)"
      ],
      "metadata": {
        "id": "sKhgcePxZGtE"
      },
      "execution_count": 33,
      "outputs": []
    },
    {
      "cell_type": "code",
      "source": [
        "# a = next(iter(orangesum_train_loader))\n",
        "# a['summary'].shape  # --->   torch.Size([batch_size, 60])\n",
        "# a['text'].shape     # --->   torch.Size([batch_size, 600])"
      ],
      "metadata": {
        "id": "1cihTUOoZimV"
      },
      "execution_count": 34,
      "outputs": []
    },
    {
      "cell_type": "markdown",
      "source": [
        "## Descriptive Statistics - TO COMPLETE\n",
        "\n",
        "> Instructions : You must describe statistically your dataset \n",
        "(distribution of words, bi-grams, POS, sentence/document length, most frequent words….) \n"
      ],
      "metadata": {
        "id": "IZ7pL0agJ57J"
      }
    },
    {
      "cell_type": "markdown",
      "source": [
        "In this section, we will try to provide revelant descriptive statistics, mainly of the OrangeSum dataset (our functions can easily be used on other datasets). We will describe the sentence and text lengths, but also their content in terms of vocabulary (word distribution, ...) and topic. \n",
        "\n",
        "Note that **this section is quasi independant** of what was done previously, above all in term of cleaning, tokenization, ect. In this section, we will mainly just use a simple sentence and word tokenizer, using `sent_tokenize` and `word_tokenize` from `nltk.tokenize`."
      ],
      "metadata": {
        "id": "6dBrG3a7ZGwN"
      }
    },
    {
      "cell_type": "code",
      "source": [
        "df_orangesum_train = dataset_orangesum['train'].to_pandas()\n",
        "# df_mlsum_train = dataset_mlsum['train'].to_pandas()\n",
        "# df_xlsum_train = dataset_xlsum['train'].to_pandas()"
      ],
      "metadata": {
        "id": "Oc39NYWbRpkN"
      },
      "execution_count": null,
      "outputs": []
    },
    {
      "cell_type": "code",
      "source": [
        "df_orangesum_train.rename(columns={'input' : 'text', 'target' : 'abstract'}, inplace=True)\n",
        "df_orangesum_train.head()"
      ],
      "metadata": {
        "colab": {
          "base_uri": "https://localhost:8080/",
          "height": 337
        },
        "id": "0JRc55xPST1g",
        "outputId": "6beb39c0-6153-4996-da2d-78b08e736c0a"
      },
      "execution_count": null,
      "outputs": [
        {
          "output_type": "execute_result",
          "data": {
            "text/plain": [
              "                       gem_id  \\\n",
              "0  OrangeSum_abstract-train-0   \n",
              "1  OrangeSum_abstract-train-1   \n",
              "2  OrangeSum_abstract-train-2   \n",
              "3  OrangeSum_abstract-train-3   \n",
              "4  OrangeSum_abstract-train-4   \n",
              "\n",
              "                                                text  \\\n",
              "0  Thierry Mariani sur la liste du Rassemblement ...   \n",
              "1  C'est désormais officiel : Alain Juppé n'est p...   \n",
              "2  La mesure est décriée par les avocats et les m...   \n",
              "3  Dans une interview accordée au Figaro mercredi...   \n",
              "4  Le préjudice est estimé à 2 millions d'euros. ...   \n",
              "\n",
              "                                            abstract  \\\n",
              "0  L'information n'a pas été confirmée par l'inté...   \n",
              "1  Le maire de Bordeaux ne fait plus partie des R...   \n",
              "2  En 2020, les tribunaux d'instance fusionnent a...   \n",
              "3  Les médecins jugés \"gros prescripteurs d'arrêt...   \n",
              "4  Il aura fallu mobiliser 90 gendarmes pour cett...   \n",
              "\n",
              "                                          references  \n",
              "0  [L'information n'a pas été confirmée par l'int...  \n",
              "1  [Le maire de Bordeaux ne fait plus partie des ...  \n",
              "2  [En 2020, les tribunaux d'instance fusionnent ...  \n",
              "3  [Les médecins jugés \"gros prescripteurs d'arrê...  \n",
              "4  [Il aura fallu mobiliser 90 gendarmes pour cet...  "
            ],
            "text/html": [
              "\n",
              "  <div id=\"df-92740534-ab3b-43f2-bcd5-8a2d4e9bc50e\">\n",
              "    <div class=\"colab-df-container\">\n",
              "      <div>\n",
              "<style scoped>\n",
              "    .dataframe tbody tr th:only-of-type {\n",
              "        vertical-align: middle;\n",
              "    }\n",
              "\n",
              "    .dataframe tbody tr th {\n",
              "        vertical-align: top;\n",
              "    }\n",
              "\n",
              "    .dataframe thead th {\n",
              "        text-align: right;\n",
              "    }\n",
              "</style>\n",
              "<table border=\"1\" class=\"dataframe\">\n",
              "  <thead>\n",
              "    <tr style=\"text-align: right;\">\n",
              "      <th></th>\n",
              "      <th>gem_id</th>\n",
              "      <th>text</th>\n",
              "      <th>abstract</th>\n",
              "      <th>references</th>\n",
              "    </tr>\n",
              "  </thead>\n",
              "  <tbody>\n",
              "    <tr>\n",
              "      <th>0</th>\n",
              "      <td>OrangeSum_abstract-train-0</td>\n",
              "      <td>Thierry Mariani sur la liste du Rassemblement ...</td>\n",
              "      <td>L'information n'a pas été confirmée par l'inté...</td>\n",
              "      <td>[L'information n'a pas été confirmée par l'int...</td>\n",
              "    </tr>\n",
              "    <tr>\n",
              "      <th>1</th>\n",
              "      <td>OrangeSum_abstract-train-1</td>\n",
              "      <td>C'est désormais officiel : Alain Juppé n'est p...</td>\n",
              "      <td>Le maire de Bordeaux ne fait plus partie des R...</td>\n",
              "      <td>[Le maire de Bordeaux ne fait plus partie des ...</td>\n",
              "    </tr>\n",
              "    <tr>\n",
              "      <th>2</th>\n",
              "      <td>OrangeSum_abstract-train-2</td>\n",
              "      <td>La mesure est décriée par les avocats et les m...</td>\n",
              "      <td>En 2020, les tribunaux d'instance fusionnent a...</td>\n",
              "      <td>[En 2020, les tribunaux d'instance fusionnent ...</td>\n",
              "    </tr>\n",
              "    <tr>\n",
              "      <th>3</th>\n",
              "      <td>OrangeSum_abstract-train-3</td>\n",
              "      <td>Dans une interview accordée au Figaro mercredi...</td>\n",
              "      <td>Les médecins jugés \"gros prescripteurs d'arrêt...</td>\n",
              "      <td>[Les médecins jugés \"gros prescripteurs d'arrê...</td>\n",
              "    </tr>\n",
              "    <tr>\n",
              "      <th>4</th>\n",
              "      <td>OrangeSum_abstract-train-4</td>\n",
              "      <td>Le préjudice est estimé à 2 millions d'euros. ...</td>\n",
              "      <td>Il aura fallu mobiliser 90 gendarmes pour cett...</td>\n",
              "      <td>[Il aura fallu mobiliser 90 gendarmes pour cet...</td>\n",
              "    </tr>\n",
              "  </tbody>\n",
              "</table>\n",
              "</div>\n",
              "      <button class=\"colab-df-convert\" onclick=\"convertToInteractive('df-92740534-ab3b-43f2-bcd5-8a2d4e9bc50e')\"\n",
              "              title=\"Convert this dataframe to an interactive table.\"\n",
              "              style=\"display:none;\">\n",
              "        \n",
              "  <svg xmlns=\"http://www.w3.org/2000/svg\" height=\"24px\"viewBox=\"0 0 24 24\"\n",
              "       width=\"24px\">\n",
              "    <path d=\"M0 0h24v24H0V0z\" fill=\"none\"/>\n",
              "    <path d=\"M18.56 5.44l.94 2.06.94-2.06 2.06-.94-2.06-.94-.94-2.06-.94 2.06-2.06.94zm-11 1L8.5 8.5l.94-2.06 2.06-.94-2.06-.94L8.5 2.5l-.94 2.06-2.06.94zm10 10l.94 2.06.94-2.06 2.06-.94-2.06-.94-.94-2.06-.94 2.06-2.06.94z\"/><path d=\"M17.41 7.96l-1.37-1.37c-.4-.4-.92-.59-1.43-.59-.52 0-1.04.2-1.43.59L10.3 9.45l-7.72 7.72c-.78.78-.78 2.05 0 2.83L4 21.41c.39.39.9.59 1.41.59.51 0 1.02-.2 1.41-.59l7.78-7.78 2.81-2.81c.8-.78.8-2.07 0-2.86zM5.41 20L4 18.59l7.72-7.72 1.47 1.35L5.41 20z\"/>\n",
              "  </svg>\n",
              "      </button>\n",
              "      \n",
              "  <style>\n",
              "    .colab-df-container {\n",
              "      display:flex;\n",
              "      flex-wrap:wrap;\n",
              "      gap: 12px;\n",
              "    }\n",
              "\n",
              "    .colab-df-convert {\n",
              "      background-color: #E8F0FE;\n",
              "      border: none;\n",
              "      border-radius: 50%;\n",
              "      cursor: pointer;\n",
              "      display: none;\n",
              "      fill: #1967D2;\n",
              "      height: 32px;\n",
              "      padding: 0 0 0 0;\n",
              "      width: 32px;\n",
              "    }\n",
              "\n",
              "    .colab-df-convert:hover {\n",
              "      background-color: #E2EBFA;\n",
              "      box-shadow: 0px 1px 2px rgba(60, 64, 67, 0.3), 0px 1px 3px 1px rgba(60, 64, 67, 0.15);\n",
              "      fill: #174EA6;\n",
              "    }\n",
              "\n",
              "    [theme=dark] .colab-df-convert {\n",
              "      background-color: #3B4455;\n",
              "      fill: #D2E3FC;\n",
              "    }\n",
              "\n",
              "    [theme=dark] .colab-df-convert:hover {\n",
              "      background-color: #434B5C;\n",
              "      box-shadow: 0px 1px 3px 1px rgba(0, 0, 0, 0.15);\n",
              "      filter: drop-shadow(0px 1px 2px rgba(0, 0, 0, 0.3));\n",
              "      fill: #FFFFFF;\n",
              "    }\n",
              "  </style>\n",
              "\n",
              "      <script>\n",
              "        const buttonEl =\n",
              "          document.querySelector('#df-92740534-ab3b-43f2-bcd5-8a2d4e9bc50e button.colab-df-convert');\n",
              "        buttonEl.style.display =\n",
              "          google.colab.kernel.accessAllowed ? 'block' : 'none';\n",
              "\n",
              "        async function convertToInteractive(key) {\n",
              "          const element = document.querySelector('#df-92740534-ab3b-43f2-bcd5-8a2d4e9bc50e');\n",
              "          const dataTable =\n",
              "            await google.colab.kernel.invokeFunction('convertToInteractive',\n",
              "                                                     [key], {});\n",
              "          if (!dataTable) return;\n",
              "\n",
              "          const docLinkHtml = 'Like what you see? Visit the ' +\n",
              "            '<a target=\"_blank\" href=https://colab.research.google.com/notebooks/data_table.ipynb>data table notebook</a>'\n",
              "            + ' to learn more about interactive tables.';\n",
              "          element.innerHTML = '';\n",
              "          dataTable['output_type'] = 'display_data';\n",
              "          await google.colab.output.renderOutput(dataTable, element);\n",
              "          const docLink = document.createElement('div');\n",
              "          docLink.innerHTML = docLinkHtml;\n",
              "          element.appendChild(docLink);\n",
              "        }\n",
              "      </script>\n",
              "    </div>\n",
              "  </div>\n",
              "  "
            ]
          },
          "metadata": {},
          "execution_count": 8
        }
      ]
    },
    {
      "cell_type": "code",
      "source": [
        "print('Number of articles :', len(df_orangesum_train))"
      ],
      "metadata": {
        "colab": {
          "base_uri": "https://localhost:8080/"
        },
        "id": "L7F8Xe6U-Xdb",
        "outputId": "98e2d7ab-a191-4a50-9952-6853d387091f"
      },
      "execution_count": null,
      "outputs": [
        {
          "output_type": "stream",
          "name": "stdout",
          "text": [
            "Number of articles : 21401\n"
          ]
        }
      ]
    },
    {
      "cell_type": "markdown",
      "source": [
        "### Sentence/Document lengths :"
      ],
      "metadata": {
        "id": "cLznQgJmY0Lw"
      }
    },
    {
      "cell_type": "code",
      "source": [
        "def stats_lengths (df, text_column='text') : \n",
        "    \"\"\"\n",
        "    Function that realizes statistics of length on df[text_column], by plotting \n",
        "    the number of sentences and the number of word per article, \n",
        "    and the number of word per sentence in the entire set\n",
        "    \"\"\" \n",
        "    # create an empty dataframe for our stats to not modify the input\n",
        "    n = len(df)\n",
        "    stats = pd.DataFrame({'idx':np.arange(n)})\n",
        "\n",
        "    # compute number of sentences and words in each text :\n",
        "    stats['nb_sentences'] = df[text_column].apply(lambda x : len(sent_tokenize(x, language='french')))\n",
        "    stats['nb_words'] = df[text_column].apply(lambda x : len(word_tokenize(x, language='french')))\n",
        "\n",
        "    # compute the number of word per sentence and concatenate in an array : \n",
        "    stats['nb_words_per_sentence'] = df[text_column].apply(lambda x : [len(word_tokenize(sent, language='french')) for sent in sent_tokenize(x, language='french')])\n",
        "    nb_words_per_sentence = np.concatenate(tests['nb_words_per_sentence'].to_numpy())\n",
        "\n",
        "    # Plot : \n",
        "    fig, ax = plt.subplots(1,3, figsize=(15,5))\n",
        "    sns.histplot(data=stats, x=\"nb_sentences\", ax=ax[0], stat='density')\n",
        "    ax[0].set_title('Nb of sentences per text')\n",
        "\n",
        "    sns.histplot(data=stats, x=\"nb_words\", ax=ax[1], stat='density')\n",
        "    ax[1].set_title('Nb of words per text')\n",
        "\n",
        "    sns.histplot(nb_words_per_sentence, ax=ax[2], stat='density')\n",
        "    ax[2].set_xlabel('nb_words_per_sentence')\n",
        "    ax[2].set_title('Nb of words per sentences \\n (on all corpus) ')\n",
        "\n",
        "    fig.suptitle(f'Statistics on column {text_column}')"
      ],
      "metadata": {
        "id": "MJQwaLJv9KGE"
      },
      "execution_count": null,
      "outputs": []
    },
    {
      "cell_type": "code",
      "source": [
        "stats_lengths(df_orangesum_train, text_column='text')"
      ],
      "metadata": {
        "colab": {
          "base_uri": "https://localhost:8080/",
          "height": 371
        },
        "id": "IjxY7qDPEhxe",
        "outputId": "24a60f1e-74bf-4215-8ab1-7b666088036e"
      },
      "execution_count": null,
      "outputs": [
        {
          "output_type": "display_data",
          "data": {
            "text/plain": [
              "<Figure size 1080x360 with 3 Axes>"
            ],
            "image/png": "[encoded data removed]"
          },
          "metadata": {}
        }
      ]
    },
    {
      "cell_type": "code",
      "source": [
        "stats_lengths(df_orangesum_train, text_column='abstract')"
      ],
      "metadata": {
        "colab": {
          "base_uri": "https://localhost:8080/",
          "height": 371
        },
        "id": "_EADcDCwETT-",
        "outputId": "78f6e0c0-4cde-4ddd-b6da-d62e56a3c74d"
      },
      "execution_count": null,
      "outputs": [
        {
          "output_type": "display_data",
          "data": {
            "text/plain": [
              "<Figure size 1080x360 with 3 Axes>"
            ],
            "image/png": "[encoded data removed]"
          },
          "metadata": {}
        }
      ]
    },
    {
      "cell_type": "code",
      "source": [
        ""
      ],
      "metadata": {
        "id": "gIW_mO4ASdrf"
      },
      "execution_count": null,
      "outputs": []
    },
    {
      "cell_type": "markdown",
      "source": [
        "### Vocabulary, word distributions, bi-grams, ... :"
      ],
      "metadata": {
        "id": "CapUQgp8Zjc4"
      }
    },
    {
      "cell_type": "markdown",
      "source": [
        "Here are some important numbers concerning the vocabulary in OrangeSum (training dataset), given the fact that stopwords are excluded from all the vocabularies :"
      ],
      "metadata": {
        "id": "7KBaBkM6Eb1z"
      }
    },
    {
      "cell_type": "code",
      "source": [
        "vocabulary_orangesum_abstract_2 = vocab_update(dataset_orangesum['train'], text_features='target', remove_stopwords=True)"
      ],
      "metadata": {
        "colab": {
          "base_uri": "https://localhost:8080/",
          "height": 49,
          "referenced_widgets": [
            "a141ad702c6f4455a49be12cacd8bea1",
            "e709280c99604969a9702dc64353b8db",
            "2af6e52fd34c45718965feaa4f16c6d5",
            "c912c8e854204a97b3feeb711adb7d4c",
            "4c65343705d44032b4ec0000a966e829",
            "69ac0a36573a4e76ab99492d4ebbfaf1",
            "f22c77baa7a349babc8657cc7db509f5",
            "f42ded6723aa491da3fd987fb0a614a9",
            "4b144f79d9504eafafbb6445491cb809",
            "da0ed4ebe87c44cf9ca745ee6c708564",
            "0ed9bb42b019414da17755c7b709e51f"
          ]
        },
        "id": "MEoiErY0Eu4D",
        "outputId": "8405d87d-00ac-4245-dba5-8ed6de2ae5c7"
      },
      "execution_count": null,
      "outputs": [
        {
          "output_type": "display_data",
          "data": {
            "text/plain": [
              "  0%|          | 0/21401 [00:00<?, ?it/s]"
            ],
            "application/vnd.jupyter.widget-view+json": {
              "version_major": 2,
              "version_minor": 0,
              "model_id": "a141ad702c6f4455a49be12cacd8bea1"
            }
          },
          "metadata": {}
        }
      ]
    },
    {
      "cell_type": "code",
      "source": [
        "nb_words_text, nb_words_abstract = vocabulary_orangesum['nbwords'], vocabulary_orangesum_abstract_2['nbwords']\n",
        "print(f\"Number of words in OrangeSum (texts) vocabulary : {nb_words_text}\")\n",
        "print(f\"Number of words in OrangeSum (abstract) vocabulary : {nb_words_abstract} (ie {(nb_words_abstract/nb_words_text)*100:.2f}% of text vocabulary)\")"
      ],
      "metadata": {
        "colab": {
          "base_uri": "https://localhost:8080/"
        },
        "id": "B3m3WZp3PWdS",
        "outputId": "85c7022a-5ecb-4875-aa0e-da0757285e3f"
      },
      "execution_count": null,
      "outputs": [
        {
          "output_type": "stream",
          "name": "stdout",
          "text": [
            "Number of words in OrangeSum (texts) vocabulary : 188084\n",
            "Number of words in OrangeSum (abstract) vocabulary : 38448 (ie 20.44% of text vocabulary)\n"
          ]
        }
      ]
    },
    {
      "cell_type": "code",
      "source": [
        "def word_distribution (vocabulary, print_most_frequents = None) : \n",
        "    \"\"\"\n",
        "    Plot word distribution within a given vocabulary\n",
        "    If print_most_frequents is an int, also print the print_most_frequents most frequent words\n",
        "    \"\"\"\n",
        "\n",
        "    dist_words = np.fromiter(vocabulary['counts'].values(), dtype='int')\n",
        "\n",
        "    # Plot word distributions :\n",
        "    fig, ax = plt.subplots(1,1, figsize=(5,5))\n",
        "    sns.histplot(dist_words, ax=ax, stat='density')\n",
        "    ax.set_title('Word distribution')\n",
        "    plt.show()\n",
        "\n",
        "    # Print most frequent words : \n",
        "    if print_most_frequents is not None :\n",
        "        indices = np.argsort(dist_words)[:-print_most_frequents:-1]\n",
        "        most_frequents = np.array(list(vocabulary['stoi'].keys()))[indices]\n",
        "        print('Most frequent words :')\n",
        "        print(most_frequents)"
      ],
      "metadata": {
        "id": "im1p0XFMEzMM"
      },
      "execution_count": null,
      "outputs": []
    },
    {
      "cell_type": "code",
      "source": [
        "# word_distribution(vocabulary_orangesum, print_most_frequents=20) : Really long to execute"
      ],
      "metadata": {
        "id": "m6Ah4RgjEVDA"
      },
      "execution_count": null,
      "outputs": []
    },
    {
      "cell_type": "code",
      "source": [
        ""
      ],
      "metadata": {
        "id": "nMD-yh4QPWfa"
      },
      "execution_count": null,
      "outputs": []
    },
    {
      "cell_type": "markdown",
      "source": [
        "### Topic description using a pretrained model :"
      ],
      "metadata": {
        "id": "b1QO7xD_ZuHT"
      }
    },
    {
      "cell_type": "markdown",
      "source": [
        "To have an idea of the main topic of the articles of our corpus could be useful, for instance to compare the performance on our summarization model on different type of subjects that may be more or less factual, or to see if the main topic associated to our article is the same than the one associated to our generated summary. \n",
        "\n",
        "We used an already existing model found on Hugging Face : [`flaubert-mlsum-topic-classification`](https://huggingface.co/lincoln/flaubert-mlsum-topic-classification?text=La+bourse+de+paris+en+forte+baisse+apr%C3%A8s+que+des+canards+ont+envahit+le+parlement.). This is a classification model, trained on the french MLSUM dataset, which outputs a topic category within : \"Culture, Economie, Education, Environnement, Justice, Opinion, Politique, Société, Sport, Technologie\". \n",
        "\n",
        "Note that we didn't implement the topic modelization by ourselves as it was not the main purpose of our project, but we could have implemented an unsupervised topic modelling such as LDA ([Latent Dirichlet Allocation ](https://www.jmlr.org/papers/volume3/blei03a/blei03a.pdf)), which consists in finding the ."
      ],
      "metadata": {
        "id": "BzXl2VOet4Mi"
      }
    },
    {
      "cell_type": "markdown",
      "source": [
        "We follow here the instructions given in the [Hugging Face page](https://huggingface.co/lincoln/flaubert-mlsum-topic-classification?text=La+bourse+de+paris+en+forte+baisse+apr%C3%A8s+que+des+canards+ont+envahit+le+parlement.), so we do not have to deal with the pre-processing and tokenization, we re use the one given with the model :"
      ],
      "metadata": {
        "id": "1rjsBbGrwtza"
      }
    },
    {
      "cell_type": "code",
      "source": [
        "from transformers import AutoTokenizer, AutoModelForSequenceClassification\n",
        "from transformers import TextClassificationPipeline"
      ],
      "metadata": {
        "id": "wVWCWpnQwlyV"
      },
      "execution_count": null,
      "outputs": []
    },
    {
      "cell_type": "code",
      "source": [
        "model_name = 'lincoln/flaubert-mlsum-topic-classification'\n",
        "\n",
        "loaded_tokenizer = AutoTokenizer.from_pretrained(model_name)\n",
        "loaded_model = AutoModelForSequenceClassification.from_pretrained(model_name)\n",
        "\n",
        "topic_classifier = TextClassificationPipeline(model=loaded_model, tokenizer=loaded_tokenizer)"
      ],
      "metadata": {
        "colab": {
          "base_uri": "https://localhost:8080/",
          "height": 209,
          "referenced_widgets": [
            "72596a18a38441f5a10cdddc37e11026",
            "487632794e614f5885e78e1181413c80",
            "52416aebe6724fa59a824658268a20d9",
            "9afa58f097bb4a228467ad5bf665266e",
            "13484771d70e49479918fb76be9277bf",
            "444a1bb874a24f0d9eb7cdcbd3314cce",
            "2f39b88a510848fc90845865f65b822a",
            "8ceac9e1c41c43f4b21dccef6d6d58d7",
            "e56c5a35125144a7a5c6fd5ffbfa350f",
            "66b8dbdea7ba45cc8d4a96ad46c2b17e",
            "2f8aa58096024636a21f5d02e9759dcb",
            "6ab4346d461742e19251200ce95fe781",
            "522f70fcfdef490cab337b93b2b93255",
            "ca119915107f43d59ae989b4503c3796",
            "81b902eb896e4508b764cdfa3afc8601",
            "f359103edb634542a0ed8b4d9318a1df",
            "8caa488c76bb4a59a4e4ce79001d5db2",
            "b5d6687f978a41cc941c389e442e252e",
            "e106247261514f7bba17bf27fdb12865",
            "2645d1120b274822a7716b437a8ca255",
            "12ce10520df0443499b08e9b1fd8ebaf",
            "d7c996a8f5164d8fafeddf5c7fee454d",
            "53001caa529041409f26476480a3a098",
            "9c592784a031447e9e1347ae29f35f0f",
            "68bcf9e825934691943574f9957a3ac4",
            "88c46c7f1be84e158ae74defc3440cf6",
            "e7b3e40667cb420db84605c45cec219d",
            "7b3008b9a5ed4e8684d54dc246ab3485",
            "9742ee6ab40842f2a3dc56bade69af51",
            "316aeaf0b65f4d7697f7d9efbb753329",
            "e33b629b202442718e593e30ac48e937",
            "966a52f207054d04a002c12898f9ce52",
            "da14f65051dd493cbfc2cbfb946b9a2d",
            "ca74a47e723447deadd9776b48a63ba8",
            "897aff3ce564460181cf398615adfd9f",
            "bbf757f012bc443dabcd808a8e632858",
            "386d7d2a64fd4e1c95ac9124a85f0a70",
            "4ea79219fa88416ab05a5d6dfc5f5d0a",
            "f40b3d451029410ab8fd27e45bfd7d42",
            "9dc05e084db24a0fb85a3751b1d33efb",
            "96a8aa4aa361449fad5b3a2b52adef75",
            "017632aa6a95405897366c6b8796aa11",
            "c3c8181d77bd4d6fab67bc2c742ae2c7",
            "d06bdc68c48447c78822f6036fd5bb2d",
            "001b264ec92247949e35250936a39752",
            "2c76a2272af0431cb9b1adf34badeea6",
            "302079c2b53540cf9e1ca602486138b2",
            "97339008a6864b8e88eb7d656a433492",
            "31f58c663d594ca6a70a7cf92b614108",
            "b117227ee767425184edf4fec991b9c2",
            "5e91ca10774646adb339c4b82d3958b1",
            "66a0b8e5b1df4ef08378570ac5dd3b2a",
            "6daf3f3c815543a6827c507b784983f3",
            "ef80355b68444119854e09bf6c1d4a30",
            "64837af530244c6da030bedb3468d139",
            "86b3062d5ec04059a3585b0edcb9c134",
            "92f316e6e160450080d640cef451b571",
            "4e0f8a5e3ff944a2b07e5a441fe064f2",
            "03e92978c3a84da8878904595b395bb3",
            "98038abb788f48429c4a90ded5e65ad9",
            "af891f442d4e440e871804ea3e3103b6",
            "04cda20618844efe898e6c1d77e9fe38",
            "09fe157713eb49c8b571f4bd8d789e83",
            "35daea571bff4419acacb671fcbeb14b",
            "96b3fb0bb35849aa9d5fca050f1cf738",
            "75fb6b7b3368442f921e225f59a490c0"
          ]
        },
        "id": "h7GwyEE9whtD",
        "outputId": "36c526cc-e4e4-42de-d0a1-4927664330c4"
      },
      "execution_count": null,
      "outputs": [
        {
          "output_type": "display_data",
          "data": {
            "text/plain": [
              "Downloading:   0%|          | 0.00/492 [00:00<?, ?B/s]"
            ],
            "application/vnd.jupyter.widget-view+json": {
              "version_major": 2,
              "version_minor": 0,
              "model_id": "72596a18a38441f5a10cdddc37e11026"
            }
          },
          "metadata": {}
        },
        {
          "output_type": "display_data",
          "data": {
            "text/plain": [
              "Downloading:   0%|          | 0.00/1.25M [00:00<?, ?B/s]"
            ],
            "application/vnd.jupyter.widget-view+json": {
              "version_major": 2,
              "version_minor": 0,
              "model_id": "6ab4346d461742e19251200ce95fe781"
            }
          },
          "metadata": {}
        },
        {
          "output_type": "display_data",
          "data": {
            "text/plain": [
              "Downloading:   0%|          | 0.00/561k [00:00<?, ?B/s]"
            ],
            "application/vnd.jupyter.widget-view+json": {
              "version_major": 2,
              "version_minor": 0,
              "model_id": "53001caa529041409f26476480a3a098"
            }
          },
          "metadata": {}
        },
        {
          "output_type": "display_data",
          "data": {
            "text/plain": [
              "Downloading:   0%|          | 0.00/305 [00:00<?, ?B/s]"
            ],
            "application/vnd.jupyter.widget-view+json": {
              "version_major": 2,
              "version_minor": 0,
              "model_id": "ca74a47e723447deadd9776b48a63ba8"
            }
          },
          "metadata": {}
        },
        {
          "output_type": "display_data",
          "data": {
            "text/plain": [
              "Downloading:   0%|          | 0.00/1.99k [00:00<?, ?B/s]"
            ],
            "application/vnd.jupyter.widget-view+json": {
              "version_major": 2,
              "version_minor": 0,
              "model_id": "001b264ec92247949e35250936a39752"
            }
          },
          "metadata": {}
        },
        {
          "output_type": "display_data",
          "data": {
            "text/plain": [
              "Downloading:   0%|          | 0.00/527M [00:00<?, ?B/s]"
            ],
            "application/vnd.jupyter.widget-view+json": {
              "version_major": 2,
              "version_minor": 0,
              "model_id": "86b3062d5ec04059a3585b0edcb9c134"
            }
          },
          "metadata": {}
        }
      ]
    },
    {
      "cell_type": "code",
      "source": [
        "def topic_description (df, text_column='text', title_plot=None) : \n",
        "    \"\"\"\n",
        "    Use flaubert-mlsum-topic-classification to assign a main topic to each article in df[text_column],\n",
        "    stored in df[f'main_topic_{text_column}'],\n",
        "    and plot the proportion of each topic in the corpus.\n",
        "\n",
        "    !!! : execution might be really long...\n",
        "    \"\"\"\n",
        "\n",
        "    # Creation of a new column in df to store the main topic : \n",
        "    new_column = 'main_topic_'+text_column\n",
        "    df[new_column] = df[text_column].progress_apply(lambda x : topic_classifier(x, truncation=True)[0]['label'])\n",
        "\n",
        "    # Computation of proportion of each topic in the corpus :\n",
        "    stats_topics = df[[new_column,text_column]].groupby(new_column).count().reset_index()\n",
        "    stats_topics[text_column] = stats_topics[text_column] *100 / stats_topics[text_column].sum() \n",
        "\n",
        "    # Plot in horizontal barplot :\n",
        "    fig,ax = plt.subplots(1,1,figsize=(6,4))\n",
        "    sns.barplot(data=stats_topics, x=text_column, y=new_column, orient='h', ax=ax, palette=\"Set2\")\n",
        "      # Titles :\n",
        "    ax.set_xlabel('Proportion in the corpus (%)')\n",
        "    ax.set_ylabel('Main topic')\n",
        "    if title_plot is None :\n",
        "        fig.suptitle(f'Main topic of column {text_column} in the corpus')\n",
        "    else :\n",
        "        fig.suptitle(title_plot)\n",
        "    # Annotations : \n",
        "    for p in ax.patches:\n",
        "        width = p.get_width()\n",
        "        plt.text(4+p.get_width(), p.get_y()+0.55*p.get_height(),\n",
        "                '{:1.1f}%'.format(width), ha='center', va='center')"
      ],
      "metadata": {
        "id": "Ds_dPuP_Sdy9"
      },
      "execution_count": null,
      "outputs": []
    },
    {
      "cell_type": "markdown",
      "source": [
        "Run on the $500$ first news article of our train set (computation time being very long...) :"
      ],
      "metadata": {
        "id": "u3ZqZkvJxteL"
      }
    },
    {
      "cell_type": "code",
      "source": [
        "# df_orangesum_train_500 = df_orangesum_train.copy()[:500] \n",
        "# topic_description(df_orangesum_train_500) "
      ],
      "metadata": {
        "colab": {
          "base_uri": "https://localhost:8080/",
          "height": 326
        },
        "id": "BbIpCESquEIj",
        "outputId": "f77f549c-8d91-4961-a766-9d8bfcedfddd"
      },
      "execution_count": null,
      "outputs": [
        {
          "output_type": "stream",
          "name": "stderr",
          "text": [
            "100%|██████████| 500/500 [10:52<00:00,  1.30s/it]\n"
          ]
        },
        {
          "output_type": "display_data",
          "data": {
            "text/plain": [
              "<Figure size 432x288 with 1 Axes>"
            ],
            "image/png": "[encoded data removed]"
          },
          "metadata": {}
        }
      ]
    },
    {
      "cell_type": "markdown",
      "source": [
        "$\\hookrightarrow$ It seems that in the first articles of the corpus, the main topics are society and politics, that is to say mainly \"abstractive\" and \"subjective\" subjects. It may be harder for the model to understand the opinion within the articles, it can be something to check on our models."
      ],
      "metadata": {
        "id": "qY3Fbgx6jriN"
      }
    },
    {
      "cell_type": "markdown",
      "source": [
        "We can also try to see if the main topic attributed to the articles are the same to the ones attributed to the abstracts :"
      ],
      "metadata": {
        "id": "6ru3OwMHx53a"
      }
    },
    {
      "cell_type": "code",
      "source": [
        "# df_orangesum_train_500['main_topic_abstract'] = df_orangesum_train_500['abstract'].progress_apply(lambda x : topic_classifier(x, truncation=True)[0]['label'])\n",
        "# prop_match = (df_orangesum_train_500['main_topic_text']==df_orangesum_train_500['main_topic_abstract']).mean()*100\n",
        "\n",
        "# print(f'Proportion of article-summary pairs with same main topic in the 500 first articles : {prop_match} %')"
      ],
      "metadata": {
        "colab": {
          "base_uri": "https://localhost:8080/"
        },
        "id": "k_eoPzqRuUB8",
        "outputId": "320755df-9a48-4b36-a7be-950f282acd00"
      },
      "execution_count": null,
      "outputs": [
        {
          "output_type": "stream",
          "name": "stderr",
          "text": [
            "100%|██████████| 500/500 [01:30<00:00,  5.54it/s]"
          ]
        },
        {
          "output_type": "stream",
          "name": "stdout",
          "text": [
            "Proportion of article-summary pairs with same main topic in the 500 first articles : 74.8 %\n"
          ]
        },
        {
          "output_type": "stream",
          "name": "stderr",
          "text": [
            "\n"
          ]
        }
      ]
    },
    {
      "cell_type": "code",
      "source": [
        ""
      ],
      "metadata": {
        "id": "EuJmi2qiwbrL"
      },
      "execution_count": null,
      "outputs": []
    },
    {
      "cell_type": "code",
      "source": [
        ""
      ],
      "metadata": {
        "id": "ZMSLHYR7vPVJ"
      },
      "execution_count": null,
      "outputs": []
    },
    {
      "cell_type": "markdown",
      "source": [
        "## Extractive model (baseline) : TextRank algorithm"
      ],
      "metadata": {
        "id": "ModqFBq3SeA2"
      }
    },
    {
      "cell_type": "markdown",
      "source": [
        "The first \"naive\" approach to address the text summarization task is an **extractive** method. It's an unsupervised model, which will try to identify the most revelant sentences in a given document, and will build a summary by extracting them. We will then obtain a summary composed of a \"patchwork\" of sentences from the article, we won't \"generate new sentences\"."
      ],
      "metadata": {
        "id": "oe2nOQcE509p"
      }
    },
    {
      "cell_type": "markdown",
      "source": [
        "\n",
        "\n",
        "**TextRank algorithm :**\n",
        "\n",
        "We have chosen to implement the [TextRank](https://aclanthology.org/W04-3252.pdf) algorithm, which is similar to the PageRank algorithm proposed by Google, but applied here to the scoring of the sentences of a text. Here are the main steps of the algorithm, which will turn our problem into a graph problem :  \n",
        "\n",
        "1. Identify text units that best define the task at hand, that is to say the sentences in our case, and add them as vertices in our graph.\n",
        "2. Compute a similarity matrix between the sentences of our text, which will correspond to the weights given to each edges of our graph. Here are some possibilities for the choice of similarity measure between two sentences $S_i = w^i_1 ... w^i_{N_i}$ and $S_j = w^j_1 ... w^j_{N_j}$ :     \n",
        "  * The similarity measure initially proposed by the TextRank article simply corresponds to the lenght of the overlapping content of both sentences : $$Similarity(S_i,S_j) = \\frac{|\\{w_k : w_k \\in S_i \\& w_k \\in S_j \\}|}{\\log(|S_i|) + \\log(|S_j|)}$$\n",
        "  * If we use embedding techniques to transform our sentences into vectors $s_i, s_j \\in \\mathbb{R}^d$, we can for instance use the cosine similarity, defined by : $$Similarity(s_i,s_j) = \\frac{<s_i,s_j>}{\\|s_i\\|\\|s_j\\|}$$\n",
        "\n",
        "3. Iterate the graph-based ranking algorithm until convergence :\n",
        "  - The score attributed to each sentence $S_i$ according to the weight of its edges defined in the previous step can be summed up into : $$Score(S_i) = (1-\\gamma) + \\gamma * \\sum_{j \\neq i} \\left( \\frac{Similarity(S_i,S_j)}{ \\sum_{k \\neq j} Similarity(S_k,S_j) } \\right) Score(S_j) $$ with $\\gamma \\in (0,1)$ (authors recommand to choose $\\gamma=0.85$). \n",
        "  - The previous score being non explicit, we initialize the scores of every sentence randomly, and apply the previous formula until convergence to obtain the final scores. \n",
        "\n",
        "4. Sort vertices based on their final score. Build then a summary by keeping the $x$ sentences with highest score, $x$ being chosen by the user.\n",
        "\n",
        "---\n",
        "**Pros :**\n",
        "- The summary is only constructed regarding the given article, no additionnal training on an entire dataset is needed.\n",
        "\n",
        "**Cons :**\n",
        "- Sentences extracted from the text, which results in a \"patchwork\" not always coherent (pronouns, ...)\n",
        "- May have issues for text composed of very long sentences.\n",
        "---\n",
        "\n",
        "\n",
        "\n"
      ],
      "metadata": {
        "id": "5ijOxw2TSvAW"
      }
    },
    {
      "cell_type": "markdown",
      "source": [
        "#### Model definition :"
      ],
      "metadata": {
        "id": "hOls7k9R_O0n"
      }
    },
    {
      "cell_type": "code",
      "source": [
        "from gensim.models import Word2Vec\n",
        "from scipy import spatial"
      ],
      "metadata": {
        "id": "eee_8fX0-QXt"
      },
      "execution_count": 35,
      "outputs": []
    },
    {
      "cell_type": "code",
      "source": [
        "class TextRank () :\n",
        "\n",
        "    def __init__ (self, gamma=0.85, max_iter=100, tol=1e-16) :\n",
        "        self.gamma = gamma\n",
        "        self.max_iter = max_iter\n",
        "        self.tol = tol\n",
        "\n",
        "\n",
        "    def get_similarity_matrix (self, text) : \n",
        "        \"\"\"\n",
        "        Implementation of the following \"simple\" method : \n",
        "          - use Word2Vec with 1 embedding dimension on each word of each sentence\n",
        "            as a Seq2Vec model\n",
        "          - use cosine similarity on the obtain sequences' vectors\n",
        "        \"\"\"\n",
        "        tok_text = tokenize_clean_text(text)\n",
        "\n",
        "        # Construction of text embeddings :\n",
        "        w2v = Word2Vec(tok_text, size=1, min_count=1, iter=1000)\n",
        "        text_embeddings=[[w2v[word][0] for word in words] for words in tok_text]\n",
        "        max_len=max([len(tokens) for tokens in tok_text])\n",
        "        text_embeddings = [np.pad(embedding,(0,max_len-len(embedding)),'constant') for embedding in text_embeddings]\n",
        "\n",
        "        # Construction of similarity matrix : \n",
        "        nb_sentences = len(tok_text)\n",
        "        similarity_matrix = np.zeros((nb_sentences,nb_sentences))\n",
        "        for i,row_embedding in enumerate(text_embeddings):\n",
        "            for j,column_embedding in enumerate(text_embeddings):\n",
        "                similarity_matrix[i][j]=1-spatial.distance.cosine(row_embedding,column_embedding)\n",
        "\n",
        "        return similarity_matrix\n",
        "\n",
        "\n",
        "    def get_scores (self, similarity_matrix) : \n",
        "        # similarity matrix : SM, symmetric, with SM_{ij} = Similarity(S_i, S_j) and SM_{ii} = 0 (shape n x n)\n",
        "        # output : scores attributed to each sentence (shape n)\n",
        "\n",
        "        n = similarity_matrix.shape[0]\n",
        "        # normalization of the similarity matrix by column :\n",
        "        similarity = similarity_matrix / similarity_matrix.sum(axis=0)\n",
        "\n",
        "        # Initialization of the scores : \n",
        "        scores = np.full(shape=n, fill_value=1/n) \n",
        "        error,iter = self.tol + 1, 0\n",
        "\n",
        "        # Iteration of the algorithm : \n",
        "        while (error > self.tol) and (iter < self.max_iter) : \n",
        "            last_scores = scores.copy()\n",
        "\n",
        "            # Iteration of the score formula :\n",
        "            scores = np.dot(similarity , scores) * self.gamma + (1-self.gamma)\n",
        "\n",
        "            # Computation of the error : \n",
        "            error = np.sum(abs(scores-last_scores))\n",
        "            iter += 1\n",
        "\n",
        "        # Normalization of the final scores :\n",
        "        scores = scores / scores.sum()\n",
        "        return scores\n",
        "\n",
        "    def print_scores (self, text_sentences, scores) : \n",
        "        \"\"\"\n",
        "        Print given text_sentences with colors coresponding to their scores. \n",
        "        \"\"\"\n",
        "        on_colors = ['on_blue', 'on_cyan', 'on_green', 'on_yellow', 'on_magenta', 'on_red']\n",
        "\n",
        "        indices = np.argsort(scores)\n",
        "\n",
        "        # Attribution of colors :\n",
        "        k_update = len(indices) // 6\n",
        "        on_colors_ind = [0 for i in range(len(indices))]\n",
        "        scores_bornes = []\n",
        "        score_inf = 0\n",
        "        on_color_id = 0\n",
        "        k = 0\n",
        "        for i in indices : \n",
        "          on_colors_ind[i] = on_color_id\n",
        "          k += 1 \n",
        "          if k >= k_update : \n",
        "            scores_bornes.append(f\"{score_inf:.5f}-{scores[i]:.5f}\")\n",
        "            score_inf = scores[i]\n",
        "            k = 0\n",
        "            on_color_id +=1\n",
        "\n",
        "        # Prints :\n",
        "        print('Scale of scores :')\n",
        "        print(' '.join( (colored(scores_bornes[k], 'white' , on_color) \n",
        "                        for k, on_color in enumerate(on_colors))))\n",
        "        print('-'*200)\n",
        "        print('\\n'.join( (colored(text_sentences[k], 'white' , on_colors[on_colors_ind])\n",
        "          for k, on_colors_ind in enumerate(on_colors_ind))))\n",
        "\n",
        "\n",
        "    def summarize (self, text, nb_summary_seq = 2, print_score=False) : \n",
        "        similarity_matrix = self.get_similarity_matrix(text)\n",
        "        scores = self.get_scores(similarity_matrix) \n",
        "\n",
        "        indices_best = np.argsort(scores)[:-(nb_summary_seq+1):-1]\n",
        "        text_sentences = np.array(sent_tokenize(text))\n",
        "        summary = ''.join(text_sentences[indices_best])\n",
        "\n",
        "        if print_score : \n",
        "            self.print_scores(text_sentences, scores)\n",
        "\n",
        "        return summary\n"
      ],
      "metadata": {
        "id": "4M0Jg2EW6yPw"
      },
      "execution_count": 120,
      "outputs": []
    },
    {
      "cell_type": "markdown",
      "source": [
        "#### Example of prediction : "
      ],
      "metadata": {
        "id": "xiZhNL-LiqYE"
      }
    },
    {
      "cell_type": "code",
      "source": [
        "text = dataset_orangesum['train'][2]['input']\n",
        "summary_real = dataset_orangesum['train'][2]['target']"
      ],
      "metadata": {
        "id": "tAWq8oFUixqm"
      },
      "execution_count": 112,
      "outputs": []
    },
    {
      "cell_type": "markdown",
      "source": [
        "Generation of the summary  :"
      ],
      "metadata": {
        "id": "GjfRph5qLuka"
      }
    },
    {
      "cell_type": "code",
      "source": [
        "summary_generated = TextRank().summarize(text)"
      ],
      "metadata": {
        "id": "qztIJ4KG_A3t",
        "colab": {
          "base_uri": "https://localhost:8080/"
        },
        "outputId": "dbcfda53-40c3-45b7-9bf0-2505b924d235"
      },
      "execution_count": 113,
      "outputs": [
        {
          "output_type": "stream",
          "name": "stderr",
          "text": [
            "/usr/local/lib/python3.7/dist-packages/ipykernel_launcher.py:20: DeprecationWarning: Call to deprecated `__getitem__` (Method will be removed in 4.0.0, use self.wv.__getitem__() instead).\n"
          ]
        }
      ]
    },
    {
      "cell_type": "code",
      "source": [
        "summary_real"
      ],
      "metadata": {
        "colab": {
          "base_uri": "https://localhost:8080/",
          "height": 54
        },
        "id": "vPpp2Vb5muNY",
        "outputId": "861a7b7f-21c6-47aa-c107-c46c7a0f9c52"
      },
      "execution_count": 114,
      "outputs": [
        {
          "output_type": "execute_result",
          "data": {
            "text/plain": [
              "'En 2020, les tribunaux d\\'instance fusionnent avec ceux de grande instance pour former un unique \"tribunal judiciaire\". C\\'est la principale mesure de la réforme de la Justice, portée par la garde des sceaux Nicole Belloubet.\\n'"
            ],
            "application/vnd.google.colaboratory.intrinsic+json": {
              "type": "string"
            }
          },
          "metadata": {},
          "execution_count": 114
        }
      ]
    },
    {
      "cell_type": "code",
      "source": [
        "summary_generated"
      ],
      "metadata": {
        "colab": {
          "base_uri": "https://localhost:8080/",
          "height": 91
        },
        "id": "m7UxAudfl_XZ",
        "outputId": "fa363112-2ac1-4889-e1bb-3a6021f0c473"
      },
      "execution_count": 115,
      "outputs": [
        {
          "output_type": "execute_result",
          "data": {
            "text/plain": [
              "'Alors que les particuliers pouvaient se présenter directement au greffe du tribunal d\\'instance pour déposer leur requête, la réforme renforce le recours accru aux procédures dématérialisées et étend la représentation obligatoire par un avocat.Elle ne serait \"pas étonnée\" que le gouvernement ait souhaité \"différer des annonces\" selon les résultats électoraux de La République en marche dans les communes concernées, comme l\\'écrivait Le Canard enchaîné dans une série d\\'articles fin octobre.'"
            ],
            "application/vnd.google.colaboratory.intrinsic+json": {
              "type": "string"
            }
          },
          "metadata": {},
          "execution_count": 115
        }
      ]
    },
    {
      "cell_type": "markdown",
      "source": [
        "ROUGE scores between text and summary :"
      ],
      "metadata": {
        "id": "jlRAcnziLldb"
      }
    },
    {
      "cell_type": "code",
      "source": [
        "Rouge().get_scores(summary_generated, summary_real, avg=True)"
      ],
      "metadata": {
        "id": "KLBIve4FxBEV",
        "colab": {
          "base_uri": "https://localhost:8080/"
        },
        "outputId": "60ce2e2b-9614-45f2-8567-22ffb6a2cdf3"
      },
      "execution_count": 116,
      "outputs": [
        {
          "output_type": "execute_result",
          "data": {
            "text/plain": [
              "{'rouge-1': {'f': 0.18749999562717026,\n",
              "  'p': 0.13846153846153847,\n",
              "  'r': 0.2903225806451613},\n",
              " 'rouge-2': {'f': 0.019230764829882663,\n",
              "  'p': 0.014285714285714285,\n",
              "  'r': 0.029411764705882353},\n",
              " 'rouge-l': {'f': 0.18749999562717026,\n",
              "  'p': 0.13846153846153847,\n",
              "  'r': 0.2903225806451613}}"
            ]
          },
          "metadata": {},
          "execution_count": 116
        }
      ]
    },
    {
      "cell_type": "markdown",
      "source": [
        "We can also print the scores attributed to each sentence of the initial text : "
      ],
      "metadata": {
        "id": "vAGaFh5eLoNS"
      }
    },
    {
      "cell_type": "code",
      "source": [
        "summary_generated = TextRank().summarize(text, print_score=True)"
      ],
      "metadata": {
        "colab": {
          "base_uri": "https://localhost:8080/"
        },
        "id": "8xHGvlEqLtan",
        "outputId": "87f1826a-5bc6-4730-fb9b-b39501d82aab"
      },
      "execution_count": 121,
      "outputs": [
        {
          "output_type": "stream",
          "name": "stdout",
          "text": [
            "Scale of scores :\n",
            "\u001b[44m\u001b[37m0.00000-0.03562\u001b[0m \u001b[46m\u001b[37m0.03562-0.04170\u001b[0m \u001b[42m\u001b[37m0.04170-0.04295\u001b[0m \u001b[43m\u001b[37m0.04295-0.04392\u001b[0m \u001b[45m\u001b[37m0.04392-0.04448\u001b[0m \u001b[41m\u001b[37m0.04448-0.04497\u001b[0m\n",
            "--------------------------------------------------------------------------------------------------------------------------------------------------------------------------------------------------------\n",
            "\u001b[44m\u001b[37mLa mesure est décriée par les avocats et les magistrats.\u001b[0m\n",
            "\u001b[45m\u001b[37mJuridictions de proximité par excellence, traitant les litiges du quotidien, les tribunaux d'instance s'apprêtent à fusionner avec les tribunaux de grande instance.\u001b[0m\n",
            "\u001b[43m\u001b[37mCette réorganisation est l'une des principales mesures de la réforme de la justice, promulguée le 23 mars.\u001b[0m\n",
            "\u001b[43m\u001b[37mLes professionnels s'inquiètent d'une dévitalisation de ces petites juridictions et d'un accès plus restreint au juge.\u001b[0m\n",
            "\u001b[46m\u001b[37mRéforme de la justice : pourquoi les avocats, magistrats et greffe sont-ils en colère ?par Le Dauphiné LibéréDepuis 1958, les tribunaux d'instance (TI) et les tribunaux de grande instance (TGI) se partageaient les contentieux civils, selon une répartition essentiellement fondée sur le montant du litige.\u001b[0m\n",
            "\u001b[46m\u001b[37mHéritiers des juges de paix, les juges d'instance - surnommés \"les juges des pauvres\" - tranchaient toutes les affaires pour lesquelles la demande portait sur des sommes inférieures à 10.000 euros, des expulsions locatives aux dettes impayées, en passant par les travaux mal exécutés et les conflits liés aux accidents de la circulation.\u001b[0m\n",
            "\u001b[44m\u001b[37mIls étaient également compétents pour les tutelles.\u001b[0m\n",
            "\u001b[42m\u001b[37mAu 1er janvier, les 285 tribunaux d'instance disparaissent, ainsi que les 164 TGI de France.Recours accru aux procédures dématérialisées Quand un tribunal d'instance est situé dans la même commune qu'un TGI (57 % des TI sont concernés par cette situation), ils fusionnent pour former le \"tribunal judiciaire\".\u001b[0m\n",
            "\u001b[42m\u001b[37mQuand le TI est situé dans une commune différente, comme à Ivry-sur-Seine (Val-de-Marne), Condom (Gers) ou Molsheim (Bas-Rhin), il devient une chambre détachée du tribunal judiciaire et est appelé \"tribunal de proximité\".\u001b[0m\n",
            "\u001b[41m\u001b[37mAlors que les particuliers pouvaient se présenter directement au greffe du tribunal d'instance pour déposer leur requête, la réforme renforce le recours accru aux procédures dématérialisées et étend la représentation obligatoire par un avocat.\u001b[0m\n",
            "\u001b[42m\u001b[37mExit aussi le juge d'instance, qui s'appellera désormais \"juge des contentieux de la protection\".\u001b[0m\n",
            "\u001b[43m\u001b[37mIl restera un magistrat spécialisé dans les affaires liées aux vulnérabilités économiques et sociales, la garde des Sceaux ayant dû renoncer à supprimer cette fonction statutaire devant la bronca des opposants à la réforme.Des compétences ajoutés par décret Quid de leurs compétences ?\u001b[0m\n",
            "\u001b[46m\u001b[37mLes deux principaux syndicats de magistrats dénoncent \"le flou\" autour de la question.\u001b[0m\n",
            "\u001b[41m\u001b[37mLa loi facilite la création de pôles spécialisés dans les départements ayant plusieurs tribunaux de grande instance et permet d'attribuer des compétences supplémentaires aux tribunaux de proximité pour mieux \"s'adapter aux besoins particuliers des territoires\", souligne le ministère de la Justice.\u001b[0m\n",
            "\u001b[45m\u001b[37mCes ajouts de compétences et ces spécialisations seront décidés par décrets après propositions des chefs de cours d'appel, mais \"sans calendrier précis\" relèvent l'Union syndicale des magistrats (USM) et le Syndicat de la magistrature (SM).\u001b[0m\n",
            "\u001b[44m\u001b[37m\"C'est le plus gros bouleversement.\u001b[0m\n",
            "\u001b[46m\u001b[37mEst-ce que beaucoup de cabinets de juges d'instruction vont être supprimés ?\u001b[0m\n",
            "\u001b[44m\u001b[37mDe juges d'application des peines ?\u001b[0m\n",
            "\u001b[43m\u001b[37mOn ne sait pas, on n'a aucune visibilité\", tacle la présidente de l'USM, Céline Parisot.\u001b[0m\n",
            "\u001b[41m\u001b[37mDes calculs électoraux\"Nos collègues ne savent pas ce que les chefs de cour ont proposé à la ministre\", abonde Katia Dubreuil, présidente du SM, déplorant une \"absence de concertation\".\u001b[0m\n",
            "\u001b[41m\u001b[37mElle ne serait \"pas étonnée\" que le gouvernement ait souhaité \"différer des annonces\" selon les résultats électoraux de La République en marche dans les communes concernées, comme l'écrivait Le Canard enchaîné dans une série d'articles fin octobre.\u001b[0m\n",
            "\u001b[42m\u001b[37mEmpêtrée dans cette polémique, la ministre s'est bornée à se défendre de toute partialité.Déplorant une fusion conduite \"à l'aveugle\" et \"dans la précipitation\", les syndicats de magistrats voient une volonté de faire des \"économies d'échelle\", en mutualisant les effectifs de greffes des tribunaux, mais aussi des tribunaux et des conseils de prud'hommes.\u001b[0m\n",
            "\u001b[45m\u001b[37mEt malgré l'insistance de la garde des Sceaux à répéter que tous les sites seront maintenus, les syndicats redoutent que cette réforme soit le prélude à une refonte de la carte judiciaire, où des tribunaux de proximité, vidés de leur substance, finiraient par fermer.\u001b[0m\n",
            "\u001b[45m\u001b[37mDepuis l'annonce de cette fusion il y a près de deux ans, la garde des Sceaux Nicole Belloubet invoque la nécessité de \"simplification\" et de \"lisibilité\", avec \"une porte d'entrée unique à la justice\".\u001b[0m\n"
          ]
        },
        {
          "output_type": "stream",
          "name": "stderr",
          "text": [
            "/usr/local/lib/python3.7/dist-packages/ipykernel_launcher.py:20: DeprecationWarning: Call to deprecated `__getitem__` (Method will be removed in 4.0.0, use self.wv.__getitem__() instead).\n"
          ]
        }
      ]
    },
    {
      "cell_type": "code",
      "source": [
        ""
      ],
      "metadata": {
        "id": "9h3Nfb9QMXgk"
      },
      "execution_count": null,
      "outputs": []
    },
    {
      "cell_type": "markdown",
      "source": [
        "## Abstractive model"
      ],
      "metadata": {
        "id": "2yZnJpgFSmBD"
      }
    },
    {
      "cell_type": "markdown",
      "source": [
        "A more advanced approach to address text summarization ainms at \"generating\" the summary, that is to say to produce a summary with new generated sentences that do not exist in the text to summarize. \n",
        "\n",
        "For this task, we may use Deep Learning models, with models based on Encoder-Decoder approaches, using RNNs or Transformers for instance. \n"
      ],
      "metadata": {
        "id": "hu8dHwbHQ7jy"
      }
    },
    {
      "cell_type": "code",
      "source": [
        "device = \"cuda\" if torch.cuda.is_available() else 'cpu'\n",
        "print(f'Device : {device}')"
      ],
      "metadata": {
        "colab": {
          "base_uri": "https://localhost:8080/"
        },
        "id": "wpG9E7v_c18u",
        "outputId": "cc236501-5fa6-48c3-847d-e42edce9e1db"
      },
      "execution_count": 122,
      "outputs": [
        {
          "output_type": "stream",
          "name": "stdout",
          "text": [
            "Device : cuda\n"
          ]
        }
      ]
    },
    {
      "cell_type": "markdown",
      "source": [
        "### RNN-based model :"
      ],
      "metadata": {
        "id": "llYF_1LE3MMR"
      }
    },
    {
      "cell_type": "markdown",
      "source": [
        "In this part, we try to reuse the encoder-decoder based on RNN implemented in lab5 for translation. We will modify the embedding definition in both the encoder and the decoder, as we would like to use the embeddings vectors computed previously."
      ],
      "metadata": {
        "id": "Plf0DUFSo_2N"
      }
    },
    {
      "cell_type": "markdown",
      "source": [
        "#### Architecture :"
      ],
      "metadata": {
        "id": "bw0ebMX6qv84"
      }
    },
    {
      "cell_type": "code",
      "source": [
        "class EncoderRNN(nn.Module):\n",
        "    def __init__(self, embeddings_vectors, padding_idx=1, device=device):\n",
        "        super(EncoderRNN, self).__init__()\n",
        "\n",
        "        self.embedding_dim = embeddings_vectors.shape[1]\n",
        "        # we use an embedding layer : \n",
        "        self.embedding = nn.Embedding.from_pretrained(embeddings_vectors, freeze=True, padding_idx=padding_idx).to(device)       \n",
        "        # we define a GRU layer (Gated Recurrent Unit), a simpler version of recurrent layer and way simple than LSTM\n",
        "        self.gru = nn.GRU(self.embedding_dim, self.embedding_dim, device=device)\n",
        "\n",
        "    def forward(self, input, hidden):\n",
        "      # apply the embedding layer\n",
        "      embedded = self.embedding(input)\n",
        "      # modify the output shape in order for it to work with a GRU \n",
        "      output = embedded.view(-1,1,self.embedding_dim)\n",
        "      # apply the GRU layer\n",
        "      output, hidden = self.gru(output, hidden)\n",
        "      # return both the output, and the hidden vector\n",
        "      return output, hidden\n",
        "\n",
        "    def initHidden(self):\n",
        "        \"\"\" \n",
        "        method used to customize the hidden vector initialization.\n",
        "        here the vector is initialized as 0 with the correct shape and created directly on the correct device\n",
        "        \"\"\"\n",
        "        return torch.zeros(1, 1, self.embedding_dim, device=device)"
      ],
      "metadata": {
        "id": "f99GI6rcpHPj"
      },
      "execution_count": 138,
      "outputs": []
    },
    {
      "cell_type": "code",
      "source": [
        "class DecoderRNN(nn.Module):\n",
        "    def __init__(self, embeddings_vectors, output_size=60, padding_idx=1, device=device):\n",
        "        super(DecoderRNN, self).__init__()\n",
        "\n",
        "        self.embedding_dim = embeddings_vectors.shape[1]\n",
        "        self.output_size = output_size\n",
        "        # we use an embedding layer : \n",
        "        self.embedding = nn.Embedding.from_pretrained(embeddings_vectors, freeze=True, padding_idx=padding_idx).to(device)       \n",
        "        # we define a GRU layer (Gated Recurrent Unit), a simpler version of recurrent layer and way simple than LSTM\n",
        "        self.gru = nn.GRU(self.embedding_dim, self.embedding_dim, device=device)\n",
        "        self.out = nn.Linear(self.embedding_dim, output_size, device=device)\n",
        "        self.softmax = nn.LogSoftmax(dim=1)\n",
        "\n",
        "    def forward(self, input, hidden):\n",
        "\n",
        "        # apply the embedding layer and modify the output shape in order for it to work with a GRU (we use batches of one element)\n",
        "        output = self.embedding(input)\n",
        "        output = output.view(-1,1,self.embedding_dim)\n",
        "\n",
        "        # apply a ReLU non linearization layer\n",
        "        output = F.relu(output)\n",
        "        # apply the GRU layer\n",
        "        output, hidden = self.gru(output, hidden)\n",
        "        # apply a softmax to get probabilities, on the first element of the output vector (batch is equal to one)\n",
        "        output = self.softmax(self.out(output[0]))\n",
        "        # return both the output probabilities and the hidden vector\n",
        "        return output, hidden\n",
        "\n",
        "    def initHidden(self):\n",
        "        \"\"\" \n",
        "        method used to customize the hidden vector initialization.\n",
        "        here the vector is initialized as 0 with the correct shape and created directly on the correct device\n",
        "        \"\"\"\n",
        "        return torch.zeros(1, 1, self.embedding_dim, device=device)"
      ],
      "metadata": {
        "id": "bC4jibqDqFyB"
      },
      "execution_count": 139,
      "outputs": []
    },
    {
      "cell_type": "markdown",
      "source": [
        "#### Training functions :"
      ],
      "metadata": {
        "id": "W67bgMzmqzeh"
      }
    },
    {
      "cell_type": "code",
      "source": [
        "import random \n",
        "teacher_forcing_ratio = 0.5"
      ],
      "metadata": {
        "id": "-JZ8FWjkq31D"
      },
      "execution_count": 140,
      "outputs": []
    },
    {
      "cell_type": "code",
      "source": [
        "max_length = 20"
      ],
      "metadata": {
        "id": "E--UJAMfrvri"
      },
      "execution_count": 141,
      "outputs": []
    },
    {
      "cell_type": "code",
      "source": [
        "def train(input_tensor, target_tensor, encoder, decoder, encoder_optimizer, decoder_optimizer, criterion, max_length=max_length, device=device):\n",
        "    # put both encoder and decoder into trainning mode\n",
        "    encoder.train()\n",
        "    decoder.train()\n",
        "\n",
        "    # use our custom initialization of hidden vector\n",
        "    encoder_hidden = encoder.initHidden()\n",
        "\n",
        "    # remove the gradient to prevent gradient accumulation\n",
        "    encoder_optimizer.zero_grad()\n",
        "    decoder_optimizer.zero_grad()\n",
        "\n",
        "    # adapt the tensor sizes\n",
        "    input_tensor = input_tensor.view(input_tensor.size(1), input_tensor.size(0)) #input_tensor.view(1,1,-1)\n",
        "    target_tensor = target_tensor.view(target_tensor.size(1), target_tensor.size(0)) #target_tensor.view(1,1,-1)\n",
        "\n",
        "    # keep the lengths in memory\n",
        "    input_length = input_tensor.size(1)\n",
        "    target_length = target_tensor.size(1)\n",
        "\n",
        "    # prepare an empty output with the correct size and the correct device\n",
        "    encoder_outputs = torch.zeros(max_length, encoder.embedding_dim, device=device)\n",
        "\n",
        "    # init the loss to 0\n",
        "    loss = 0\n",
        "\n",
        "    # pass each token of the input_tensor to the encoder, then populate the output\n",
        "    for ei in range(input_length):\n",
        "      if ei >= max_length: break\n",
        "      encoder_output, encoder_hidden = encoder(input_tensor[ei], encoder_hidden)\n",
        "      encoder_outputs[ei] = encoder_output[0, 0]\n",
        "\n",
        "    # now we consider the decoder input, which starts only with the SOS token\n",
        "    decoder_input = torch.tensor([[SOS_IDX]], device=device)\n",
        "\n",
        "    # share the hidden vector from encoder to the decoder\n",
        "    decoder_hidden = encoder_hidden\n",
        "\n",
        "    # add a condition to teacher forcing\n",
        "    use_teacher_forcing = True if random.random() < teacher_forcing_ratio else False\n",
        "\n",
        "    if use_teacher_forcing:\n",
        "        # Teacher forcing: Feed the target as the next input\n",
        "        for di in range(target_length):\n",
        "            decoder_output, decoder_hidden = decoder(\n",
        "                decoder_input, decoder_hidden)\n",
        "            # apply the NLL loss\n",
        "            loss += criterion(decoder_output.to(device), target_tensor[di].to(device))\n",
        "            decoder_input = target_tensor[di]  # Teacher forcing\n",
        "\n",
        "    else:\n",
        "      # Without teacher forcing: use its own predictions as the next input\n",
        "      for di in range(target_length):\n",
        "          decoder_output, decoder_hidden = decoder(\n",
        "              decoder_input, decoder_hidden)\n",
        "          topv, topi = decoder_output.topk(1)\n",
        "          decoder_input = topi.squeeze().detach()  # detach from history as input\n",
        "          # compute the loss\n",
        "          loss += criterion(decoder_output, target_tensor[di].to(device))\n",
        "          # stop the iteration if the EOS token is predicted\n",
        "          if decoder_input.item() == EOS_IDX:\n",
        "              break\n",
        "    \n",
        "    # do the back propagation\n",
        "    loss.backward()\n",
        "\n",
        "    # notify each optimizers\n",
        "    encoder_optimizer.step()\n",
        "    decoder_optimizer.step()\n",
        "\n",
        "    # return the average loss\n",
        "    return loss.item() / target_length"
      ],
      "metadata": {
        "id": "A5OLYAn7q1PP"
      },
      "execution_count": 142,
      "outputs": []
    },
    {
      "cell_type": "code",
      "source": [
        "def evaluate(encoder, decoder, vocabulary_decoder, input_tensor, target_tensor=None, max_length=max_length, criterion=None, device=device):\n",
        "    \"\"\"\n",
        "    function to evaluate a translation of one sentence\n",
        "    \"\"\"\n",
        "    # we evaluate, so we don't need gradients -> torch.no_grad()\n",
        "    with torch.no_grad():\n",
        "        \n",
        "        if target_tensor is None: target_length = 0\n",
        "        else: target_length = target_tensor.size(0)\n",
        "\n",
        "        encoder_hidden = encoder.initHidden()\n",
        "\n",
        "        decoding_length = target_length\n",
        "        input_length = input_tensor.size(0)\n",
        "\n",
        "        encoder_outputs = torch.zeros(max_length, encoder.embedding_dim, device=device)\n",
        "\n",
        "        # iterate through the input length \n",
        "        for ei in range(input_length):\n",
        "            if ei >= max_length: break\n",
        "            encoder_output, encoder_hidden = encoder(input_tensor[ei], encoder_hidden)\n",
        "            encoder_outputs[ei] += encoder_output[0, 0]\n",
        "\n",
        "        decoder_input = torch.tensor([[SOS_IDX]], device=device)  # SOS\n",
        "\n",
        "        decoder_hidden = encoder_hidden\n",
        "\n",
        "        decoded_words = []\n",
        "        \n",
        "        # init the loss (the loss is important if the cirterion is given - i.e. validation phase)\n",
        "        loss = 0\n",
        "\n",
        "        # iterate through decoding values, feeding the output for the next token until the condition or maximum lenght is reached\n",
        "        for di in range(decoding_length):\n",
        "            decoder_output, decoder_hidden = decoder(decoder_input, decoder_hidden)\n",
        "            print(decoder_output.shape)\n",
        "            topv, topi = decoder_output.data.topk(1)\n",
        "            if topi.item() == EOS_IDX:\n",
        "                decoded_words.append('<eos>')\n",
        "                break\n",
        "            else:\n",
        "                decoded_words.append(vocabulary_decoder['itos'][topi.item()])\n",
        "\n",
        "            decoder_input = topi.squeeze().detach()\n",
        "            # print(decoder_output.shape, decoder_output.max())\n",
        "            # print(target_tensor[di].unsqueeze(0).shape,target_tensor[di].unsqueeze(0).max())\n",
        "            if target_tensor != None and criterion is not None:\n",
        "              loss += criterion(decoder_output.to(device), target_tensor[di].unsqueeze(0).to(device))\n",
        "              if decoder_input.item() == EOS_IDX:\n",
        "                break\n",
        "            # print('ok4')\n",
        "        return decoded_words, loss"
      ],
      "metadata": {
        "id": "61XBYSsW3OAQ"
      },
      "execution_count": 170,
      "outputs": []
    },
    {
      "cell_type": "code",
      "source": [
        "def inference(target, loader, encoder, decoder, vocabulary_encoder, vocabulary_decoder, criterion, limit=0, text_column='text', summary_column='summary'):\n",
        "  \"\"\"\n",
        "  fucntion to apply the inference logic over multiple translation and return a score\n",
        "  used for validation\n",
        "  \"\"\"\n",
        "  encoder.eval()\n",
        "  decoder.eval()\n",
        "  loss_it, glue_it = list(), list()\n",
        "  preds, trues = list(), list()\n",
        "\n",
        "  total = loader.__len__()\n",
        "  if limit > 0: total = limit\n",
        "\n",
        "  # iterate through the loader, can be a validation or test loader\n",
        "  for it, batch in tqdm(enumerate(loader), desc=\"%s:\" % (target), total=total):\n",
        "    \n",
        "    if limit > 0 and it >= limit: break\n",
        "\n",
        "    input_tensor = batch[text_column].squeeze().to(device)\n",
        "    target_tensor = batch[summary_column].squeeze().to(device)\n",
        "\n",
        "    # dummy sentence because this function is used for validation, not on-demand test\n",
        "    mock_sentence = \"dummy sentence not used\"\n",
        "\n",
        "    # compute entry and target sentences as \"real text\"\n",
        "    entry = [vocabulary_encoder['itos'][t] for t in input_tensor.tolist()]\n",
        "    entry = ' '.join( [e for e in entry if e not in ['<pad>', '<sos>', '<eos>', '<unk>']] )\n",
        "    true =  [vocabulary_decoder['itos'][t] for t in target_tensor.tolist()]\n",
        "    true = ' '.join( [r for r in true if r not in ['<pad>', '<sos>', '<eos>', '<unk>']] )\n",
        "    trues.append([true])\n",
        "\n",
        "    pred, loss = evaluate(encoder, decoder, vocabulary_decoder, input_tensor=input_tensor, target_tensor=target_tensor, criterion=criterion)\n",
        "    pred = ' '.join( [ h for h in pred if h not in ['<pad>', '<sos>', '<eos>', '<unk>'] ] )\n",
        "    preds.append(pred)\n",
        "    if criterion is not None: \n",
        "      try:\n",
        "        loss_it.append(loss.item())\n",
        "      except: pass\n",
        "    else: loss_it.append(loss)\n",
        "\n",
        "  # ROUGE score :\n",
        "  rouge_scoring = ROUGE()\n",
        "  rouge_scores = rouge.get_scores(preds, trues, avg=True)\n",
        "\n",
        "  loss_it_avg = sum(loss_it)/len(loss_it)\n",
        "\n",
        "  print(\"%s : (%s %s) (%s %s)\" % ( colored(target, 'blue'), colored('loss', 'cyan'), loss_it_avg, colored('rouge', 'cyan'), rouge_scores ))\n",
        "\n",
        "  return trues, preds, loss_it_avg, loss_it, rouge_scores "
      ],
      "metadata": {
        "id": "R3Pejr1xz9r0"
      },
      "execution_count": 171,
      "outputs": []
    },
    {
      "cell_type": "code",
      "source": [
        "def run_epochs(train_loader, val_loader, encoder, decoder, vocabulary_encoder, vocabulary_decoder, max_epochs, learning_rate=0.01, limit=0, text_column='text', summary_column='summary', device=device):    \n",
        "    \n",
        "    # define the optimizer for both encoder and decoder separately.\n",
        "    # You can change it later on\n",
        "    encoder_optimizer = optim.SGD(encoder.parameters(), lr=learning_rate)\n",
        "    decoder_optimizer = optim.SGD(decoder.parameters(), lr=learning_rate)\n",
        "    criterion = nn.NLLLoss(ignore_index=PAD_IDX)\n",
        "\n",
        "    epoch_losses = []\n",
        "    val_epoch_losses = []\n",
        "\n",
        "    for ep in range(max_epochs):\n",
        "      \n",
        "      # TRAINING\n",
        "      it_losses = []\n",
        "\n",
        "      total = train_loader.__len__()\n",
        "      # allow to limit the number of random samples per epoch\n",
        "      if limit > 0: total = limit\n",
        "\n",
        "      for iter, batch in tqdm(enumerate(train_loader), desc=\"Epoch %s:\" % (ep), total=total):\n",
        "          # trigger the limit if it is set\n",
        "          if limit > 0 and iter >= limit: \n",
        "              break        \n",
        "\n",
        "          input_tensor = batch[text_column].to(device)\n",
        "          target_tensor = batch[summary_column].to(device)\n",
        "\n",
        "          loss = train(input_tensor, target_tensor, encoder, decoder, encoder_optimizer, decoder_optimizer, criterion)\n",
        "          it_losses.append(loss)\n",
        "\n",
        "      epoch_loss = sum(it_losses)/len(it_losses)\n",
        "      epoch_losses.append(epoch_loss)\n",
        "      print(\"Epoch %s : %s : (%s %s) \" % (colored(str(ep), 'blue'), colored('Training', 'blue'), colored('loss', 'cyan'), epoch_loss  ))\n",
        "\n",
        "      \n",
        "      # VALIDATION\n",
        "      trues, preds, val_loss_it_avg, val_loss_it, rouge_scores = inference(\"validation\", val_loader, encoder, decoder, vocabulary_encoder, vocabulary_decoder, criterion, limit, text_column, summary_column)\n",
        "      val_epoch_losses.append(val_loss_it_avg)\n",
        "\n",
        "      \n",
        "    return epoch_losses, val_epoch_losses"
      ],
      "metadata": {
        "id": "McXPfHTpuECD"
      },
      "execution_count": 149,
      "outputs": []
    },
    {
      "cell_type": "markdown",
      "source": [
        "#### Training :"
      ],
      "metadata": {
        "id": "uY7YLFtzwoPx"
      }
    },
    {
      "cell_type": "code",
      "source": [
        "device='cpu'"
      ],
      "metadata": {
        "id": "h0jsPptZPVbx"
      },
      "execution_count": 137,
      "outputs": []
    },
    {
      "cell_type": "code",
      "source": [
        "epochs = 20\n",
        "\n",
        "# embedding_matrix_orangesum = create_embedding_matrix(vocabulary_orangesum, pretrained_vectors_fasttext)\n",
        "# embedding_matrix_orangesum_summary = create_embedding_matrix(vocabulary_orangesum_summary, pretrained_vectors_fasttext)\n",
        "\n",
        "# instanciate the encoder\n",
        "encoder = EncoderRNN(embedding_matrix_orangesum,device='cpu')\n",
        "# instanciate the decoder\n",
        "decoder = DecoderRNN(embedding_matrix_orangesum_summary,device='cpu')"
      ],
      "metadata": {
        "id": "WYNvB1iTuSJZ"
      },
      "execution_count": 146,
      "outputs": []
    },
    {
      "cell_type": "code",
      "source": [
        "run_epochs(orangesum_train_loader, orangesum_validation_loader, encoder, decoder, vocabulary_encoder=vocabulary_orangesum, vocabulary_decoder=vocabulary_orangesum_summary , max_epochs=epochs)"
      ],
      "metadata": {
        "colab": {
          "base_uri": "https://localhost:8080/",
          "height": 569,
          "referenced_widgets": [
            "917976bbb4ca4d07bd678bbe0aa3b4a7",
            "34f9ddaf37fd46b3ab0d2d26c29ed8bb",
            "07ea9b3efb9144ada1cd7604ab018b78",
            "21d33278a4e441f191afccfaca75c069",
            "a48ffbc670124e239b4dcb423f04a5c7",
            "65598bad4a7e4ac683d3193991f08117",
            "cc8ee5be1a6643fea98f6ab46ea28205",
            "a2faa2c901d4472b97da4f6db5992b37",
            "600e8dcfb4ab47f5aab3025bb3e742b9",
            "ebfcc5d5faf943ce81d3b00efe4149e0",
            "ebddca66fcaf4472820d400b751830ed",
            "c82401fa155b475e8ae10ca234bf828a",
            "7ba3d9cbe8394741bb1c09a2de4f2883",
            "d5ccf62753b14821970fc174df76a637",
            "4ca7458546254be0b6423ca06fdac402",
            "5a3f8e17a2a94c54aae339cb4828af1b",
            "c5c501cef03f4fe391245be2dbeab4b0",
            "2738e290d48b4317ab926422bb3a3435",
            "48210c5812db49a0805c77bb3a2bf5bc",
            "ae5c1b3899b24650827d9dbd0ba757d5",
            "d98f63627de742ad88e217883d03fbac",
            "f882aa59089546e18e4bd8c183718ded"
          ]
        },
        "id": "RqbiYdEZu6ot",
        "outputId": "2573b7fd-87b2-45dc-dde5-6c515aa649ae"
      },
      "execution_count": 172,
      "outputs": [
        {
          "output_type": "display_data",
          "data": {
            "text/plain": [
              "Epoch 0::   0%|          | 0/21401 [00:00<?, ?it/s]"
            ],
            "application/vnd.jupyter.widget-view+json": {
              "version_major": 2,
              "version_minor": 0,
              "model_id": "917976bbb4ca4d07bd678bbe0aa3b4a7"
            }
          },
          "metadata": {}
        },
        {
          "output_type": "stream",
          "name": "stdout",
          "text": [
            "Epoch \u001b[34m0\u001b[0m : \u001b[34mTraining\u001b[0m : (\u001b[36mloss\u001b[0m 6.367502551188837e-06) \n"
          ]
        },
        {
          "output_type": "display_data",
          "data": {
            "text/plain": [
              "validation::   0%|          | 0/1500 [00:00<?, ?it/s]"
            ],
            "application/vnd.jupyter.widget-view+json": {
              "version_major": 2,
              "version_minor": 0,
              "model_id": "c82401fa155b475e8ae10ca234bf828a"
            }
          },
          "metadata": {}
        },
        {
          "output_type": "stream",
          "name": "stdout",
          "text": [
            "torch.Size([1, 60])\n",
            "torch.Size([1, 60]) tensor(-0.0026)\n",
            "torch.Size([1]) tensor(2)\n",
            "ok4\n",
            "torch.Size([1, 60])\n",
            "torch.Size([1, 60]) tensor(-2.4557e-05)\n",
            "torch.Size([1]) tensor(90)\n"
          ]
        },
        {
          "output_type": "error",
          "ename": "IndexError",
          "evalue": "ignored",
          "traceback": [
            "\u001b[0;31m---------------------------------------------------------------------------\u001b[0m",
            "\u001b[0;31mIndexError\u001b[0m                                Traceback (most recent call last)",
            "\u001b[0;32m<ipython-input-172-4e1bf15c6e67>\u001b[0m in \u001b[0;36m<module>\u001b[0;34m()\u001b[0m\n\u001b[0;32m----> 1\u001b[0;31m \u001b[0mrun_epochs\u001b[0m\u001b[0;34m(\u001b[0m\u001b[0morangesum_train_loader\u001b[0m\u001b[0;34m,\u001b[0m \u001b[0morangesum_validation_loader\u001b[0m\u001b[0;34m,\u001b[0m \u001b[0mencoder\u001b[0m\u001b[0;34m,\u001b[0m \u001b[0mdecoder\u001b[0m\u001b[0;34m,\u001b[0m \u001b[0mvocabulary_encoder\u001b[0m\u001b[0;34m=\u001b[0m\u001b[0mvocabulary_orangesum\u001b[0m\u001b[0;34m,\u001b[0m \u001b[0mvocabulary_decoder\u001b[0m\u001b[0;34m=\u001b[0m\u001b[0mvocabulary_orangesum_summary\u001b[0m \u001b[0;34m,\u001b[0m \u001b[0mmax_epochs\u001b[0m\u001b[0;34m=\u001b[0m\u001b[0mepochs\u001b[0m\u001b[0;34m)\u001b[0m\u001b[0;34m\u001b[0m\u001b[0;34m\u001b[0m\u001b[0m\n\u001b[0m",
            "\u001b[0;32m<ipython-input-149-23c0f223978f>\u001b[0m in \u001b[0;36mrun_epochs\u001b[0;34m(train_loader, val_loader, encoder, decoder, vocabulary_encoder, vocabulary_decoder, max_epochs, learning_rate, limit, text_column, summary_column, device)\u001b[0m\n\u001b[1;32m     36\u001b[0m \u001b[0;34m\u001b[0m\u001b[0m\n\u001b[1;32m     37\u001b[0m       \u001b[0;31m# VALIDATION\u001b[0m\u001b[0;34m\u001b[0m\u001b[0;34m\u001b[0m\u001b[0;34m\u001b[0m\u001b[0m\n\u001b[0;32m---> 38\u001b[0;31m       \u001b[0mtrues\u001b[0m\u001b[0;34m,\u001b[0m \u001b[0mpreds\u001b[0m\u001b[0;34m,\u001b[0m \u001b[0mval_loss_it_avg\u001b[0m\u001b[0;34m,\u001b[0m \u001b[0mval_loss_it\u001b[0m\u001b[0;34m,\u001b[0m \u001b[0mrouge_scores\u001b[0m \u001b[0;34m=\u001b[0m \u001b[0minference\u001b[0m\u001b[0;34m(\u001b[0m\u001b[0;34m\"validation\"\u001b[0m\u001b[0;34m,\u001b[0m \u001b[0mval_loader\u001b[0m\u001b[0;34m,\u001b[0m \u001b[0mencoder\u001b[0m\u001b[0;34m,\u001b[0m \u001b[0mdecoder\u001b[0m\u001b[0;34m,\u001b[0m \u001b[0mvocabulary_encoder\u001b[0m\u001b[0;34m,\u001b[0m \u001b[0mvocabulary_decoder\u001b[0m\u001b[0;34m,\u001b[0m \u001b[0mcriterion\u001b[0m\u001b[0;34m,\u001b[0m \u001b[0mlimit\u001b[0m\u001b[0;34m,\u001b[0m \u001b[0mtext_column\u001b[0m\u001b[0;34m,\u001b[0m \u001b[0msummary_column\u001b[0m\u001b[0;34m)\u001b[0m\u001b[0;34m\u001b[0m\u001b[0;34m\u001b[0m\u001b[0m\n\u001b[0m\u001b[1;32m     39\u001b[0m       \u001b[0mval_epoch_losses\u001b[0m\u001b[0;34m.\u001b[0m\u001b[0mappend\u001b[0m\u001b[0;34m(\u001b[0m\u001b[0mval_loss_it_avg\u001b[0m\u001b[0;34m)\u001b[0m\u001b[0;34m\u001b[0m\u001b[0;34m\u001b[0m\u001b[0m\n\u001b[1;32m     40\u001b[0m \u001b[0;34m\u001b[0m\u001b[0m\n",
            "\u001b[0;32m<ipython-input-171-308771c06ad7>\u001b[0m in \u001b[0;36minference\u001b[0;34m(target, loader, encoder, decoder, vocabulary_encoder, vocabulary_decoder, criterion, limit, text_column, summary_column)\u001b[0m\n\u001b[1;32m     30\u001b[0m     \u001b[0mtrues\u001b[0m\u001b[0;34m.\u001b[0m\u001b[0mappend\u001b[0m\u001b[0;34m(\u001b[0m\u001b[0;34m[\u001b[0m\u001b[0mtrue\u001b[0m\u001b[0;34m]\u001b[0m\u001b[0;34m)\u001b[0m\u001b[0;34m\u001b[0m\u001b[0;34m\u001b[0m\u001b[0m\n\u001b[1;32m     31\u001b[0m \u001b[0;34m\u001b[0m\u001b[0m\n\u001b[0;32m---> 32\u001b[0;31m     \u001b[0mpred\u001b[0m\u001b[0;34m,\u001b[0m \u001b[0mloss\u001b[0m \u001b[0;34m=\u001b[0m \u001b[0mevaluate\u001b[0m\u001b[0;34m(\u001b[0m\u001b[0mencoder\u001b[0m\u001b[0;34m,\u001b[0m \u001b[0mdecoder\u001b[0m\u001b[0;34m,\u001b[0m \u001b[0mvocabulary_decoder\u001b[0m\u001b[0;34m,\u001b[0m \u001b[0minput_tensor\u001b[0m\u001b[0;34m=\u001b[0m\u001b[0minput_tensor\u001b[0m\u001b[0;34m,\u001b[0m \u001b[0mtarget_tensor\u001b[0m\u001b[0;34m=\u001b[0m\u001b[0mtarget_tensor\u001b[0m\u001b[0;34m,\u001b[0m \u001b[0mcriterion\u001b[0m\u001b[0;34m=\u001b[0m\u001b[0mcriterion\u001b[0m\u001b[0;34m)\u001b[0m\u001b[0;34m\u001b[0m\u001b[0;34m\u001b[0m\u001b[0m\n\u001b[0m\u001b[1;32m     33\u001b[0m     \u001b[0mpred\u001b[0m \u001b[0;34m=\u001b[0m \u001b[0;34m' '\u001b[0m\u001b[0;34m.\u001b[0m\u001b[0mjoin\u001b[0m\u001b[0;34m(\u001b[0m \u001b[0;34m[\u001b[0m \u001b[0mh\u001b[0m \u001b[0;32mfor\u001b[0m \u001b[0mh\u001b[0m \u001b[0;32min\u001b[0m \u001b[0mpred\u001b[0m \u001b[0;32mif\u001b[0m \u001b[0mh\u001b[0m \u001b[0;32mnot\u001b[0m \u001b[0;32min\u001b[0m \u001b[0;34m[\u001b[0m\u001b[0;34m'<pad>'\u001b[0m\u001b[0;34m,\u001b[0m \u001b[0;34m'<sos>'\u001b[0m\u001b[0;34m,\u001b[0m \u001b[0;34m'<eos>'\u001b[0m\u001b[0;34m,\u001b[0m \u001b[0;34m'<unk>'\u001b[0m\u001b[0;34m]\u001b[0m \u001b[0;34m]\u001b[0m \u001b[0;34m)\u001b[0m\u001b[0;34m\u001b[0m\u001b[0;34m\u001b[0m\u001b[0m\n\u001b[1;32m     34\u001b[0m     \u001b[0mpreds\u001b[0m\u001b[0;34m.\u001b[0m\u001b[0mappend\u001b[0m\u001b[0;34m(\u001b[0m\u001b[0mpred\u001b[0m\u001b[0;34m)\u001b[0m\u001b[0;34m\u001b[0m\u001b[0;34m\u001b[0m\u001b[0m\n",
            "\u001b[0;32m<ipython-input-170-49afdada61ea>\u001b[0m in \u001b[0;36mevaluate\u001b[0;34m(encoder, decoder, vocabulary_decoder, input_tensor, target_tensor, max_length, criterion, device)\u001b[0m\n\u001b[1;32m     46\u001b[0m             \u001b[0mprint\u001b[0m\u001b[0;34m(\u001b[0m\u001b[0mtarget_tensor\u001b[0m\u001b[0;34m[\u001b[0m\u001b[0mdi\u001b[0m\u001b[0;34m]\u001b[0m\u001b[0;34m.\u001b[0m\u001b[0munsqueeze\u001b[0m\u001b[0;34m(\u001b[0m\u001b[0;36m0\u001b[0m\u001b[0;34m)\u001b[0m\u001b[0;34m.\u001b[0m\u001b[0mshape\u001b[0m\u001b[0;34m,\u001b[0m\u001b[0mtarget_tensor\u001b[0m\u001b[0;34m[\u001b[0m\u001b[0mdi\u001b[0m\u001b[0;34m]\u001b[0m\u001b[0;34m.\u001b[0m\u001b[0munsqueeze\u001b[0m\u001b[0;34m(\u001b[0m\u001b[0;36m0\u001b[0m\u001b[0;34m)\u001b[0m\u001b[0;34m.\u001b[0m\u001b[0mmax\u001b[0m\u001b[0;34m(\u001b[0m\u001b[0;34m)\u001b[0m\u001b[0;34m)\u001b[0m\u001b[0;34m\u001b[0m\u001b[0;34m\u001b[0m\u001b[0m\n\u001b[1;32m     47\u001b[0m             \u001b[0;32mif\u001b[0m \u001b[0mtarget_tensor\u001b[0m \u001b[0;34m!=\u001b[0m \u001b[0;32mNone\u001b[0m \u001b[0;32mand\u001b[0m \u001b[0mcriterion\u001b[0m \u001b[0;32mis\u001b[0m \u001b[0;32mnot\u001b[0m \u001b[0;32mNone\u001b[0m\u001b[0;34m:\u001b[0m\u001b[0;34m\u001b[0m\u001b[0;34m\u001b[0m\u001b[0m\n\u001b[0;32m---> 48\u001b[0;31m               \u001b[0mloss\u001b[0m \u001b[0;34m+=\u001b[0m \u001b[0mcriterion\u001b[0m\u001b[0;34m(\u001b[0m\u001b[0mdecoder_output\u001b[0m\u001b[0;34m.\u001b[0m\u001b[0mto\u001b[0m\u001b[0;34m(\u001b[0m\u001b[0mdevice\u001b[0m\u001b[0;34m)\u001b[0m\u001b[0;34m,\u001b[0m \u001b[0mtarget_tensor\u001b[0m\u001b[0;34m[\u001b[0m\u001b[0mdi\u001b[0m\u001b[0;34m]\u001b[0m\u001b[0;34m.\u001b[0m\u001b[0munsqueeze\u001b[0m\u001b[0;34m(\u001b[0m\u001b[0;36m0\u001b[0m\u001b[0;34m)\u001b[0m\u001b[0;34m.\u001b[0m\u001b[0mto\u001b[0m\u001b[0;34m(\u001b[0m\u001b[0mdevice\u001b[0m\u001b[0;34m)\u001b[0m\u001b[0;34m)\u001b[0m\u001b[0;34m\u001b[0m\u001b[0;34m\u001b[0m\u001b[0m\n\u001b[0m\u001b[1;32m     49\u001b[0m               \u001b[0;32mif\u001b[0m \u001b[0mdecoder_input\u001b[0m\u001b[0;34m.\u001b[0m\u001b[0mitem\u001b[0m\u001b[0;34m(\u001b[0m\u001b[0;34m)\u001b[0m \u001b[0;34m==\u001b[0m \u001b[0mEOS_IDX\u001b[0m\u001b[0;34m:\u001b[0m\u001b[0;34m\u001b[0m\u001b[0;34m\u001b[0m\u001b[0m\n\u001b[1;32m     50\u001b[0m                 \u001b[0;32mbreak\u001b[0m\u001b[0;34m\u001b[0m\u001b[0;34m\u001b[0m\u001b[0m\n",
            "\u001b[0;32m/usr/local/lib/python3.7/dist-packages/torch/nn/modules/module.py\u001b[0m in \u001b[0;36m_call_impl\u001b[0;34m(self, *input, **kwargs)\u001b[0m\n\u001b[1;32m   1100\u001b[0m         if not (self._backward_hooks or self._forward_hooks or self._forward_pre_hooks or _global_backward_hooks\n\u001b[1;32m   1101\u001b[0m                 or _global_forward_hooks or _global_forward_pre_hooks):\n\u001b[0;32m-> 1102\u001b[0;31m             \u001b[0;32mreturn\u001b[0m \u001b[0mforward_call\u001b[0m\u001b[0;34m(\u001b[0m\u001b[0;34m*\u001b[0m\u001b[0minput\u001b[0m\u001b[0;34m,\u001b[0m \u001b[0;34m**\u001b[0m\u001b[0mkwargs\u001b[0m\u001b[0;34m)\u001b[0m\u001b[0;34m\u001b[0m\u001b[0;34m\u001b[0m\u001b[0m\n\u001b[0m\u001b[1;32m   1103\u001b[0m         \u001b[0;31m# Do not call functions when jit is used\u001b[0m\u001b[0;34m\u001b[0m\u001b[0;34m\u001b[0m\u001b[0;34m\u001b[0m\u001b[0m\n\u001b[1;32m   1104\u001b[0m         \u001b[0mfull_backward_hooks\u001b[0m\u001b[0;34m,\u001b[0m \u001b[0mnon_full_backward_hooks\u001b[0m \u001b[0;34m=\u001b[0m \u001b[0;34m[\u001b[0m\u001b[0;34m]\u001b[0m\u001b[0;34m,\u001b[0m \u001b[0;34m[\u001b[0m\u001b[0;34m]\u001b[0m\u001b[0;34m\u001b[0m\u001b[0;34m\u001b[0m\u001b[0m\n",
            "\u001b[0;32m/usr/local/lib/python3.7/dist-packages/torch/nn/modules/loss.py\u001b[0m in \u001b[0;36mforward\u001b[0;34m(self, input, target)\u001b[0m\n\u001b[1;32m    209\u001b[0m \u001b[0;34m\u001b[0m\u001b[0m\n\u001b[1;32m    210\u001b[0m     \u001b[0;32mdef\u001b[0m \u001b[0mforward\u001b[0m\u001b[0;34m(\u001b[0m\u001b[0mself\u001b[0m\u001b[0;34m,\u001b[0m \u001b[0minput\u001b[0m\u001b[0;34m:\u001b[0m \u001b[0mTensor\u001b[0m\u001b[0;34m,\u001b[0m \u001b[0mtarget\u001b[0m\u001b[0;34m:\u001b[0m \u001b[0mTensor\u001b[0m\u001b[0;34m)\u001b[0m \u001b[0;34m->\u001b[0m \u001b[0mTensor\u001b[0m\u001b[0;34m:\u001b[0m\u001b[0;34m\u001b[0m\u001b[0;34m\u001b[0m\u001b[0m\n\u001b[0;32m--> 211\u001b[0;31m         \u001b[0;32mreturn\u001b[0m \u001b[0mF\u001b[0m\u001b[0;34m.\u001b[0m\u001b[0mnll_loss\u001b[0m\u001b[0;34m(\u001b[0m\u001b[0minput\u001b[0m\u001b[0;34m,\u001b[0m \u001b[0mtarget\u001b[0m\u001b[0;34m,\u001b[0m \u001b[0mweight\u001b[0m\u001b[0;34m=\u001b[0m\u001b[0mself\u001b[0m\u001b[0;34m.\u001b[0m\u001b[0mweight\u001b[0m\u001b[0;34m,\u001b[0m \u001b[0mignore_index\u001b[0m\u001b[0;34m=\u001b[0m\u001b[0mself\u001b[0m\u001b[0;34m.\u001b[0m\u001b[0mignore_index\u001b[0m\u001b[0;34m,\u001b[0m \u001b[0mreduction\u001b[0m\u001b[0;34m=\u001b[0m\u001b[0mself\u001b[0m\u001b[0;34m.\u001b[0m\u001b[0mreduction\u001b[0m\u001b[0;34m)\u001b[0m\u001b[0;34m\u001b[0m\u001b[0;34m\u001b[0m\u001b[0m\n\u001b[0m\u001b[1;32m    212\u001b[0m \u001b[0;34m\u001b[0m\u001b[0m\n\u001b[1;32m    213\u001b[0m \u001b[0;34m\u001b[0m\u001b[0m\n",
            "\u001b[0;32m/usr/local/lib/python3.7/dist-packages/torch/nn/functional.py\u001b[0m in \u001b[0;36mnll_loss\u001b[0;34m(input, target, weight, size_average, ignore_index, reduce, reduction)\u001b[0m\n\u001b[1;32m   2530\u001b[0m     \u001b[0;32mif\u001b[0m \u001b[0msize_average\u001b[0m \u001b[0;32mis\u001b[0m \u001b[0;32mnot\u001b[0m \u001b[0;32mNone\u001b[0m \u001b[0;32mor\u001b[0m \u001b[0mreduce\u001b[0m \u001b[0;32mis\u001b[0m \u001b[0;32mnot\u001b[0m \u001b[0;32mNone\u001b[0m\u001b[0;34m:\u001b[0m\u001b[0;34m\u001b[0m\u001b[0;34m\u001b[0m\u001b[0m\n\u001b[1;32m   2531\u001b[0m         \u001b[0mreduction\u001b[0m \u001b[0;34m=\u001b[0m \u001b[0m_Reduction\u001b[0m\u001b[0;34m.\u001b[0m\u001b[0mlegacy_get_string\u001b[0m\u001b[0;34m(\u001b[0m\u001b[0msize_average\u001b[0m\u001b[0;34m,\u001b[0m \u001b[0mreduce\u001b[0m\u001b[0;34m)\u001b[0m\u001b[0;34m\u001b[0m\u001b[0;34m\u001b[0m\u001b[0m\n\u001b[0;32m-> 2532\u001b[0;31m     \u001b[0;32mreturn\u001b[0m \u001b[0mtorch\u001b[0m\u001b[0;34m.\u001b[0m\u001b[0m_C\u001b[0m\u001b[0;34m.\u001b[0m\u001b[0m_nn\u001b[0m\u001b[0;34m.\u001b[0m\u001b[0mnll_loss_nd\u001b[0m\u001b[0;34m(\u001b[0m\u001b[0minput\u001b[0m\u001b[0;34m,\u001b[0m \u001b[0mtarget\u001b[0m\u001b[0;34m,\u001b[0m \u001b[0mweight\u001b[0m\u001b[0;34m,\u001b[0m \u001b[0m_Reduction\u001b[0m\u001b[0;34m.\u001b[0m\u001b[0mget_enum\u001b[0m\u001b[0;34m(\u001b[0m\u001b[0mreduction\u001b[0m\u001b[0;34m)\u001b[0m\u001b[0;34m,\u001b[0m \u001b[0mignore_index\u001b[0m\u001b[0;34m)\u001b[0m\u001b[0;34m\u001b[0m\u001b[0;34m\u001b[0m\u001b[0m\n\u001b[0m\u001b[1;32m   2533\u001b[0m \u001b[0;34m\u001b[0m\u001b[0m\n\u001b[1;32m   2534\u001b[0m \u001b[0;34m\u001b[0m\u001b[0m\n",
            "\u001b[0;31mIndexError\u001b[0m: Target 90 is out of bounds."
          ]
        }
      ]
    },
    {
      "cell_type": "code",
      "source": [
        ""
      ],
      "metadata": {
        "id": "qK-adHBL24aG"
      },
      "execution_count": null,
      "outputs": []
    },
    {
      "cell_type": "code",
      "source": [
        ""
      ],
      "metadata": {
        "id": "SWQ2x8J624bn"
      },
      "execution_count": null,
      "outputs": []
    },
    {
      "cell_type": "code",
      "source": [
        ""
      ],
      "metadata": {
        "id": "txzPLaNA24hD"
      },
      "execution_count": null,
      "outputs": []
    },
    {
      "cell_type": "markdown",
      "source": [
        "### Transformer-based model :"
      ],
      "metadata": {
        "id": "JwjNhLEdxVzW"
      }
    },
    {
      "cell_type": "markdown",
      "source": [
        "The main idea of this model is to use a transformer architecture for modeling the encoder-decoder part of our model. We will add embeddings layers constructed from the embedding matrices or vector defined in the cleaning section, a classical positional encoding (with sine and cosine computations), and complete our model by adding a final layer to recover the vocabulary length from the output of the decoder.\n",
        "\n",
        "For this implementation, we got inspiration from BARTHez model, but also to some tutorials using keras, such as [this one](https://www.kaggle.com/code/ashishsingh226/text-summarization-with-transformers). "
      ],
      "metadata": {
        "id": "pxIx5P2hlx4D"
      }
    },
    {
      "cell_type": "code",
      "source": [
        "import math"
      ],
      "metadata": {
        "id": "-kR2XOceLEo1"
      },
      "execution_count": null,
      "outputs": []
    },
    {
      "cell_type": "markdown",
      "source": [
        "#### Architecture :"
      ],
      "metadata": {
        "id": "AanbeEnO4KA1"
      }
    },
    {
      "cell_type": "code",
      "source": [
        "# Taken from https://pytorch.org/tutorials/beginner/transformer_tutorial.html :\n",
        "\n",
        "class PositionalEncoding(nn.Module):\n",
        "\n",
        "    def __init__(self, d_model, dropout= 0.1, max_len=1000, device=device):\n",
        "        super().__init__()\n",
        "        self.dropout = nn.Dropout(p=dropout)\n",
        "\n",
        "        position = torch.arange(max_len).unsqueeze(1)\n",
        "        div_term = torch.exp(torch.arange(0, d_model, 2) * (-math.log(10000.0) / d_model))\n",
        "        pe = torch.zeros(max_len, 1, d_model)\n",
        "        pe[:, 0, 0::2] = torch.sin(position * div_term)\n",
        "        pe[:, 0, 1::2] = torch.cos(position * div_term)\n",
        "        self.register_buffer('pe', pe)\n",
        "\n",
        "    def forward(self, x) :\n",
        "        \"\"\"\n",
        "        Args:\n",
        "            x: Tensor, shape [seq_len, batch_size, embedding_dim]\n",
        "        \"\"\"\n",
        "        x = x + self.pe[:x.size(0)].to(device)\n",
        "        return self.dropout(x)"
      ],
      "metadata": {
        "id": "xwPk_VLmSB6u"
      },
      "execution_count": null,
      "outputs": []
    },
    {
      "cell_type": "code",
      "source": [
        "class AbstractiveTransformerModel () : \n",
        "\n",
        "    def __init__(self, embeddings_text_vectors, embeddings_summary_vectors, padding_idx=1,\n",
        "                 num_encoder_layers=6, num_decoder_layers=6, nhead=12, \n",
        "                 dim_feedforward=768, activation=nn.GELU(), device=device) :\n",
        "\n",
        "        super().__init__()\n",
        "\n",
        "        self.embedding_dim = embeddings_text_vectors.shape[1]\n",
        "        self.padding_idx = padding_idx\n",
        "            # Define a function to compute padding masks :\n",
        "        self.padding_mask = lambda text : (text==padding_idx).long()\n",
        "\n",
        "        # Define the architecture of our model : \n",
        "\n",
        "          # Embedding with frozen parameters :\n",
        "        self.embedding_encoder = nn.Embedding.from_pretrained(embeddings_text_vectors, freeze=True, padding_idx=padding_idx).to(device)\n",
        "        self.embedding_decoder = nn.Embedding.from_pretrained(embeddings_summary_vectors, freeze=True, padding_idx=padding_idx).to(device)\n",
        "\n",
        "          # Positionnal encoding : \n",
        "        self.positional_encoding = PositionalEncoding(d_model=self.embedding_dim)\n",
        "\n",
        "          # Transformer using directly torch's implementation :\n",
        "        transformer = nn.Transformer(d_model=self.embedding_dim, nhead=nhead, \n",
        "                                          num_encoder_layers=num_encoder_layers,\n",
        "                                          num_decoder_layers=num_decoder_layers,\n",
        "                                          dim_feedforward=dim_feedforward, \n",
        "                                          activation=activation).to(device)\n",
        "        self.encoder = transformer.encoder\n",
        "        self.decoder = transformer.decoder \n",
        "\n",
        "          # Final layer to obtain back vocabulary_summary_size :\n",
        "        vocab_summary_size = embeddings_summary_vectors.shape[0]\n",
        "        self.last_layer = nn.Linear(in_features=self.embedding_dim, out_features=vocab_summary_size,device=device)\n",
        "\n",
        " \n",
        "    def forward (self, text, target) : \n",
        "        # Encoding :\n",
        "        text_key_padding_mask = self.padding_mask(text) # shape batch_len x max_text_len\n",
        "        text = self.embedding_encoder(text)\n",
        "        text = self.positional_encoding(text.permute(1,0,2)) # Add positional encoding\n",
        "          # text : shape max_text_len x batch_len x embedding_dim\n",
        "        \n",
        "        encoder_output = self.encoder(text, src_key_padding_mask=text_key_padding_mask)\n",
        "        print('encoded')\n",
        "\n",
        "        # Decoding :\n",
        "        target_key_padding_mask = self.padding_mask(target) # shape batch_len x max_text_len\n",
        "        target = self.embedding_decoder(target)\n",
        "        target = self.positional_encoding(target.permute(1,0,2)) # Add positional encoding\n",
        "          # target : shape max_text_len x batch_len x embedding_dim\n",
        "        \n",
        "        decoder_output = self.decoder(tgt=target, memory=encoder_output, tgt_key_padding_mask=target_key_padding_mask)\n",
        "\n",
        "        # Final layer to obtain back the desired dimension :\n",
        "        output = self.last_layer(decoder_output)\n",
        "\n",
        "        return output"
      ],
      "metadata": {
        "id": "m_sA8zPZx0af"
      },
      "execution_count": null,
      "outputs": []
    },
    {
      "cell_type": "code",
      "source": [
        "# Smaller parameters : \n",
        "# (the parameters per default of the model correspond to BART architecture,\n",
        "# but they are really high, so we will change them into smaller ones)\n",
        "num_encoder_layers = 3 \n",
        "num_decoder_layers = 3 \n",
        "nhead = 4\n",
        "dim_feedforward = 512"
      ],
      "metadata": {
        "id": "FJn4ZYordBBK"
      },
      "execution_count": null,
      "outputs": []
    },
    {
      "cell_type": "markdown",
      "source": [
        "---"
      ],
      "metadata": {
        "id": "Wzdntl45dpJc"
      }
    },
    {
      "cell_type": "markdown",
      "source": [
        "Brouillon - Test :"
      ],
      "metadata": {
        "id": "yO0D5jvDlg2r"
      }
    },
    {
      "cell_type": "code",
      "source": [
        "a = next(iter(orangesum_train_loader))"
      ],
      "metadata": {
        "id": "-HvVZ_a6dYmR"
      },
      "execution_count": null,
      "outputs": []
    },
    {
      "cell_type": "code",
      "source": [
        "text, target = a['text'].to(device), a['summary'].to(device)"
      ],
      "metadata": {
        "id": "KsS2Mu1zdfBF"
      },
      "execution_count": null,
      "outputs": []
    },
    {
      "cell_type": "code",
      "source": [
        "a['text'].shape"
      ],
      "metadata": {
        "colab": {
          "base_uri": "https://localhost:8080/"
        },
        "id": "4knT64Vddhdc",
        "outputId": "5fb5f608-f88c-4af1-b7b8-2db16f67480b"
      },
      "execution_count": null,
      "outputs": [
        {
          "output_type": "execute_result",
          "data": {
            "text/plain": [
              "torch.Size([64, 1000])"
            ]
          },
          "metadata": {},
          "execution_count": 56
        }
      ]
    },
    {
      "cell_type": "code",
      "source": [
        "embedding_matrix_orangesum_summary = create_embedding_matrix(vocabulary_orangesum_summary, pretrained_vectors_fasttext)"
      ],
      "metadata": {
        "colab": {
          "base_uri": "https://localhost:8080/"
        },
        "id": "fvHdDValekDo",
        "outputId": "9c18ec10-6370-4508-8931-8d8f9605f232"
      },
      "execution_count": null,
      "outputs": [
        {
          "output_type": "stream",
          "name": "stdout",
          "text": [
            "Random new embeddings were created for 2869 words, ie 13.74% of the vocabulary\n"
          ]
        }
      ]
    },
    {
      "cell_type": "code",
      "source": [
        "embedding_matrix_orangesum.shape"
      ],
      "metadata": {
        "colab": {
          "base_uri": "https://localhost:8080/"
        },
        "id": "C0wIQIHelUiY",
        "outputId": "d9e3615d-5338-40b5-e39a-b299f6e4bbe0"
      },
      "execution_count": null,
      "outputs": [
        {
          "output_type": "execute_result",
          "data": {
            "text/plain": [
              "torch.Size([43584, 300])"
            ]
          },
          "metadata": {},
          "execution_count": 63
        }
      ]
    },
    {
      "cell_type": "code",
      "source": [
        "embedding_matrix_orangesum_summary.shape"
      ],
      "metadata": {
        "colab": {
          "base_uri": "https://localhost:8080/"
        },
        "id": "hpk-uuKFlWoY",
        "outputId": "a11e9fe1-8cbc-498b-fdb2-c28b22329ec4"
      },
      "execution_count": null,
      "outputs": [
        {
          "output_type": "execute_result",
          "data": {
            "text/plain": [
              "torch.Size([20878, 300])"
            ]
          },
          "metadata": {},
          "execution_count": 64
        }
      ]
    },
    {
      "cell_type": "code",
      "source": [
        "atm = AbstractiveTransformerModel(embeddings_text_vectors=embedding_matrix_orangesum, embeddings_summary_vectors=embedding_matrix_orangesum_summary,\n",
        "                                  num_encoder_layers = 3, num_decoder_layers = 3, nhead = 4, dim_feedforward = 512,\n",
        "                                  device=device)"
      ],
      "metadata": {
        "id": "_R83C6IXdqJi"
      },
      "execution_count": null,
      "outputs": []
    },
    {
      "cell_type": "code",
      "source": [
        "output = atm.forward(text, target)"
      ],
      "metadata": {
        "id": "CBgt_GbTeIcg"
      },
      "execution_count": null,
      "outputs": []
    },
    {
      "cell_type": "markdown",
      "source": [
        "---"
      ],
      "metadata": {
        "id": "Pf8e-TPM40pl"
      }
    },
    {
      "cell_type": "markdown",
      "source": [
        "## Tests & Experiments"
      ],
      "metadata": {
        "id": "ViOoTjOzSoKr"
      }
    },
    {
      "cell_type": "code",
      "source": [
        ""
      ],
      "metadata": {
        "id": "5Eh0vIjKmGiH"
      },
      "execution_count": null,
      "outputs": []
    }
  ]
}